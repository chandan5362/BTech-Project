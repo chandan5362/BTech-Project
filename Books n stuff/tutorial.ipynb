{
 "cells": [
  {
   "cell_type": "markdown",
   "id": "concrete-white",
   "metadata": {},
   "source": [
    "# Shapely"
   ]
  },
  {
   "cell_type": "code",
   "execution_count": null,
   "id": "solar-aurora",
   "metadata": {},
   "outputs": [],
   "source": []
  },
  {
   "cell_type": "code",
   "execution_count": 2,
   "id": "amino-shoot",
   "metadata": {},
   "outputs": [],
   "source": [
    "import shapely\n",
    "from shapely.geometry import Point, Polygon, LineString, GeometryCollection\n",
    "import numpy as np"
   ]
  },
  {
   "cell_type": "code",
   "execution_count": 9,
   "id": "endangered-schedule",
   "metadata": {},
   "outputs": [
    {
     "data": {
      "image/svg+xml": [
       "<svg xmlns=\"http://www.w3.org/2000/svg\" xmlns:xlink=\"http://www.w3.org/1999/xlink\" width=\"100.0\" height=\"100.0\" viewBox=\"6.4 6.4 7.199999999999999 97.19999999999999\" preserveAspectRatio=\"xMinYMin meet\"><g transform=\"matrix(1,0,0,-1,0,110.0)\"><g><circle cx=\"10.0\" cy=\"100.0\" r=\"2.9159999999999995\" stroke=\"#555555\" stroke-width=\"0.9719999999999999\" fill=\"#66cc99\" opacity=\"0.6\" /><circle cx=\"10.0\" cy=\"10.0\" r=\"2.9159999999999995\" stroke=\"#555555\" stroke-width=\"0.9719999999999999\" fill=\"#66cc99\" opacity=\"0.6\" /></g></g></svg>"
      ],
      "text/plain": [
       "<shapely.geometry.collection.GeometryCollection at 0x1effcf05d60>"
      ]
     },
     "execution_count": 9,
     "metadata": {},
     "output_type": "execute_result"
    }
   ],
   "source": [
    "pt = Point(10,10)\n",
    "pt1 = Point(10,100)\n",
    "GeometryCollection([pt1,pt])"
   ]
  },
  {
   "cell_type": "code",
   "execution_count": 10,
   "id": "northern-imperial",
   "metadata": {},
   "outputs": [
    {
     "data": {
      "text/plain": [
       "90.0"
      ]
     },
     "execution_count": 10,
     "metadata": {},
     "output_type": "execute_result"
    }
   ],
   "source": [
    "pt.distance(pt1)"
   ]
  },
  {
   "cell_type": "code",
   "execution_count": null,
   "id": "fixed-transformation",
   "metadata": {},
   "outputs": [],
   "source": [
    "x = np.array([4.0, 2.0, 4.1, 0.3, 2.0])\n",
    "y = np.array([5.5, 1.2, 3.7, 2.0, 2.5])\n",
    "z = np.array([4.2, 6.1, 0.2, 0.7, 5.2])\n",
    "s0 = [2., 2.]\n",
    "distance_matrix = pdist()"
   ]
  },
  {
   "cell_type": "code",
   "execution_count": 6,
   "id": "harmful-notice",
   "metadata": {},
   "outputs": [],
   "source": [
    "xx, yy = np.mgrid[0:99:100j, 0:99:100j]"
   ]
  },
  {
   "cell_type": "code",
   "execution_count": 8,
   "id": "stretch-providence",
   "metadata": {},
   "outputs": [
    {
     "data": {
      "text/plain": [
       "array([[ 0.,  1.,  2., ..., 97., 98., 99.],\n",
       "       [ 0.,  1.,  2., ..., 97., 98., 99.],\n",
       "       [ 0.,  1.,  2., ..., 97., 98., 99.],\n",
       "       ...,\n",
       "       [ 0.,  1.,  2., ..., 97., 98., 99.],\n",
       "       [ 0.,  1.,  2., ..., 97., 98., 99.],\n",
       "       [ 0.,  1.,  2., ..., 97., 98., 99.]])"
      ]
     },
     "execution_count": 8,
     "metadata": {},
     "output_type": "execute_result"
    }
   ],
   "source": [
    "yy"
   ]
  }
 ],
 "metadata": {
  "kernelspec": {
   "display_name": "Python 3",
   "language": "python",
   "name": "python3"
  },
  "language_info": {
   "codemirror_mode": {
    "name": "ipython",
    "version": 3
   },
   "file_extension": ".py",
   "mimetype": "text/x-python",
   "name": "python",
   "nbconvert_exporter": "python",
   "pygments_lexer": "ipython3",
   "version": "3.8.5"
  }
 },
 "nbformat": 4,
 "nbformat_minor": 5
}
