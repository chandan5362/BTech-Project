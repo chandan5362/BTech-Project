{
 "cells": [
  {
   "cell_type": "code",
   "execution_count": null,
   "id": "graduate-broadcasting",
   "metadata": {},
   "outputs": [],
   "source": [
    "# %%capture\n",
    "# !pip install utm\n",
    "# !pip install openpyxl"
   ]
  },
  {
   "cell_type": "code",
   "execution_count": 3,
   "id": "equipped-alias",
   "metadata": {},
   "outputs": [],
   "source": [
    "import numpy as np\n",
    "import pandas as pd\n",
    "import seaborn as sns\n",
    "from matplotlib import cm\n",
    "import torch\n",
    "import torch.nn as nn\n",
    "import torch.nn.functional as F\n",
    "from sklearn.gaussian_process.kernels import RBF\n",
    "from sklearn.model_selection import train_test_split\n",
    "from torch.utils.data import Dataset, DataLoader\n",
    "from sklearn.preprocessing import StandardScaler, MinMaxScaler\n",
    "from sklearn.gaussian_process import GaussianProcessRegressor\n",
    "import matplotlib.pyplot as plt\n",
    "import utm\n",
    "\n",
    "import warnings\n",
    "warnings.filterwarnings(\"ignore\")"
   ]
  },
  {
   "cell_type": "code",
   "execution_count": 4,
   "id": "official-growing",
   "metadata": {},
   "outputs": [
    {
     "data": {
      "text/html": [
       "<div>\n",
       "<style scoped>\n",
       "    .dataframe tbody tr th:only-of-type {\n",
       "        vertical-align: middle;\n",
       "    }\n",
       "\n",
       "    .dataframe tbody tr th {\n",
       "        vertical-align: top;\n",
       "    }\n",
       "\n",
       "    .dataframe thead th {\n",
       "        text-align: right;\n",
       "    }\n",
       "</style>\n",
       "<table border=\"1\" class=\"dataframe\">\n",
       "  <thead>\n",
       "    <tr style=\"text-align: right;\">\n",
       "      <th></th>\n",
       "      <th>lon</th>\n",
       "      <th>lat</th>\n",
       "      <th>OC</th>\n",
       "      <th>N</th>\n",
       "      <th>P</th>\n",
       "      <th>K</th>\n",
       "    </tr>\n",
       "  </thead>\n",
       "  <tbody>\n",
       "    <tr>\n",
       "      <th>0</th>\n",
       "      <td>73.401111</td>\n",
       "      <td>17.894722</td>\n",
       "      <td>1.08</td>\n",
       "      <td>756.0</td>\n",
       "      <td>9.43</td>\n",
       "      <td>834.37</td>\n",
       "    </tr>\n",
       "    <tr>\n",
       "      <th>1</th>\n",
       "      <td>73.401389</td>\n",
       "      <td>17.894722</td>\n",
       "      <td>1.12</td>\n",
       "      <td>781.2</td>\n",
       "      <td>9.21</td>\n",
       "      <td>265.10</td>\n",
       "    </tr>\n",
       "    <tr>\n",
       "      <th>2</th>\n",
       "      <td>73.402222</td>\n",
       "      <td>17.894722</td>\n",
       "      <td>0.68</td>\n",
       "      <td>478.8</td>\n",
       "      <td>8.99</td>\n",
       "      <td>318.96</td>\n",
       "    </tr>\n",
       "    <tr>\n",
       "      <th>3</th>\n",
       "      <td>73.403056</td>\n",
       "      <td>17.894722</td>\n",
       "      <td>1.76</td>\n",
       "      <td>1234.8</td>\n",
       "      <td>9.65</td>\n",
       "      <td>954.77</td>\n",
       "    </tr>\n",
       "    <tr>\n",
       "      <th>4</th>\n",
       "      <td>73.403333</td>\n",
       "      <td>17.894722</td>\n",
       "      <td>1.78</td>\n",
       "      <td>1247.4</td>\n",
       "      <td>8.77</td>\n",
       "      <td>371.77</td>\n",
       "    </tr>\n",
       "  </tbody>\n",
       "</table>\n",
       "</div>"
      ],
      "text/plain": [
       "         lon        lat    OC       N     P       K\n",
       "0  73.401111  17.894722  1.08   756.0  9.43  834.37\n",
       "1  73.401389  17.894722  1.12   781.2  9.21  265.10\n",
       "2  73.402222  17.894722  0.68   478.8  8.99  318.96\n",
       "3  73.403056  17.894722  1.76  1234.8  9.65  954.77\n",
       "4  73.403333  17.894722  1.78  1247.4  8.77  371.77"
      ]
     },
     "execution_count": 4,
     "metadata": {},
     "output_type": "execute_result"
    }
   ],
   "source": [
    "data = pd.read_excel(\"../Dataset/Maharashtra_Soil_Nutrients_Data.xlsx\")\n",
    "data.head()"
   ]
  },
  {
   "cell_type": "code",
   "execution_count": 5,
   "id": "incorporate-keeping",
   "metadata": {},
   "outputs": [],
   "source": [
    "def scaled_coord(x,y):\n",
    "    \"\"\"\n",
    "    parameters\n",
    "    ----------\n",
    "    x : numpy array, float64\n",
    "        list of longitude cordinates\n",
    "    y : numpy array, float64\n",
    "        list of latitude cordinates\n",
    "        \n",
    "    return\n",
    "    ------\n",
    "    scaled(0-1) x and y\n",
    "    \"\"\"\n",
    "    x = (x-x.min())/(x.max()-x.min())\n",
    "    y = (y-y.min())/(y.max()-y.min())\n",
    "    return x,y"
   ]
  },
  {
   "cell_type": "code",
   "execution_count": 6,
   "id": "contained-friday",
   "metadata": {},
   "outputs": [
    {
     "name": "stdout",
     "output_type": "stream",
     "text": [
      "Wall time: 15 ms\n"
     ]
    }
   ],
   "source": [
    "%%time\n",
    "\n",
    "val_col = ['OC','N','P','K']\n",
    "values = data[val_col]\n",
    "coordinates = data[['lon','lat']]\n",
    "#lat,lon to utm projection\n",
    "\n",
    "x,y,zone,ut = utm.from_latlon(coordinates['lat'].values,coordinates['lon'].values)\n",
    "\n",
    "lon,lat = y/1000,x/1000 #in km\n",
    "\n",
    "# lon, lat = scaled_coord(lon,lat)\n",
    "# normalize values of OC, N, K, P\n",
    "\n",
    "#standardise lon and lat\n",
    "# lon = (lon-np.mean(lon))/np.std(lon)\n",
    "# lat = (lat-np.mean(lat))/np.std(lat)\n",
    "\n",
    "test_k = MinMaxScaler().fit_transform(values)\n",
    "values = test_k"
   ]
  },
  {
   "cell_type": "code",
   "execution_count": 7,
   "id": "about-aaron",
   "metadata": {},
   "outputs": [],
   "source": [
    "data['lon'] = lon\n",
    "data['lat'] = lat\n",
    "for i,col in enumerate(val_col):\n",
    "    data[col] = values[:,i]"
   ]
  },
  {
   "cell_type": "code",
   "execution_count": 8,
   "id": "headed-twist",
   "metadata": {
    "scrolled": true
   },
   "outputs": [
    {
     "data": {
      "text/html": [
       "<div>\n",
       "<style scoped>\n",
       "    .dataframe tbody tr th:only-of-type {\n",
       "        vertical-align: middle;\n",
       "    }\n",
       "\n",
       "    .dataframe tbody tr th {\n",
       "        vertical-align: top;\n",
       "    }\n",
       "\n",
       "    .dataframe thead th {\n",
       "        text-align: right;\n",
       "    }\n",
       "</style>\n",
       "<table border=\"1\" class=\"dataframe\">\n",
       "  <thead>\n",
       "    <tr style=\"text-align: right;\">\n",
       "      <th></th>\n",
       "      <th>lon</th>\n",
       "      <th>lat</th>\n",
       "      <th>OC</th>\n",
       "      <th>N</th>\n",
       "      <th>P</th>\n",
       "      <th>K</th>\n",
       "    </tr>\n",
       "  </thead>\n",
       "  <tbody>\n",
       "    <tr>\n",
       "      <th>0</th>\n",
       "      <td>1979.264401</td>\n",
       "      <td>330.619321</td>\n",
       "      <td>0.011632</td>\n",
       "      <td>0.079661</td>\n",
       "      <td>0.001163</td>\n",
       "      <td>0.012262</td>\n",
       "    </tr>\n",
       "    <tr>\n",
       "      <th>1</th>\n",
       "      <td>1979.264149</td>\n",
       "      <td>330.648754</td>\n",
       "      <td>0.012067</td>\n",
       "      <td>0.082316</td>\n",
       "      <td>0.001136</td>\n",
       "      <td>0.003893</td>\n",
       "    </tr>\n",
       "    <tr>\n",
       "      <th>2</th>\n",
       "      <td>1979.263392</td>\n",
       "      <td>330.737053</td>\n",
       "      <td>0.007283</td>\n",
       "      <td>0.050450</td>\n",
       "      <td>0.001109</td>\n",
       "      <td>0.004684</td>\n",
       "    </tr>\n",
       "    <tr>\n",
       "      <th>3</th>\n",
       "      <td>1979.262635</td>\n",
       "      <td>330.825353</td>\n",
       "      <td>0.019024</td>\n",
       "      <td>0.130115</td>\n",
       "      <td>0.001190</td>\n",
       "      <td>0.014032</td>\n",
       "    </tr>\n",
       "    <tr>\n",
       "      <th>4</th>\n",
       "      <td>1979.262383</td>\n",
       "      <td>330.854785</td>\n",
       "      <td>0.019241</td>\n",
       "      <td>0.131443</td>\n",
       "      <td>0.001082</td>\n",
       "      <td>0.005461</td>\n",
       "    </tr>\n",
       "  </tbody>\n",
       "</table>\n",
       "</div>"
      ],
      "text/plain": [
       "           lon         lat        OC         N         P         K\n",
       "0  1979.264401  330.619321  0.011632  0.079661  0.001163  0.012262\n",
       "1  1979.264149  330.648754  0.012067  0.082316  0.001136  0.003893\n",
       "2  1979.263392  330.737053  0.007283  0.050450  0.001109  0.004684\n",
       "3  1979.262635  330.825353  0.019024  0.130115  0.001190  0.014032\n",
       "4  1979.262383  330.854785  0.019241  0.131443  0.001082  0.005461"
      ]
     },
     "execution_count": 8,
     "metadata": {},
     "output_type": "execute_result"
    }
   ],
   "source": [
    "data.head()"
   ]
  },
  {
   "cell_type": "code",
   "execution_count": 9,
   "id": "billion-armor",
   "metadata": {
    "scrolled": true
   },
   "outputs": [],
   "source": [
    "#split dataset into train and test\n",
    "# split the dataset into train and test dataset\n",
    "ix = np.random.choice(data.shape[0],int(data.shape[0]*0.2),replace = False)\n",
    "data_train = data.iloc[[int(i) for i in range(data.shape[0]) if i not in ix]].reset_index(drop = True)\n",
    "data_test = data.iloc[ix].reset_index(drop = True)"
   ]
  },
  {
   "cell_type": "code",
   "execution_count": 10,
   "id": "assisted-burns",
   "metadata": {
    "scrolled": true
   },
   "outputs": [
    {
     "data": {
      "text/plain": [
       "((20837, 6), (5209, 6))"
      ]
     },
     "execution_count": 10,
     "metadata": {},
     "output_type": "execute_result"
    }
   ],
   "source": [
    "data_train.shape, data_test.shape"
   ]
  },
  {
   "cell_type": "code",
   "execution_count": 11,
   "id": "revolutionary-milwaukee",
   "metadata": {},
   "outputs": [
    {
     "data": {
      "text/html": [
       "<div>\n",
       "<style scoped>\n",
       "    .dataframe tbody tr th:only-of-type {\n",
       "        vertical-align: middle;\n",
       "    }\n",
       "\n",
       "    .dataframe tbody tr th {\n",
       "        vertical-align: top;\n",
       "    }\n",
       "\n",
       "    .dataframe thead th {\n",
       "        text-align: right;\n",
       "    }\n",
       "</style>\n",
       "<table border=\"1\" class=\"dataframe\">\n",
       "  <thead>\n",
       "    <tr style=\"text-align: right;\">\n",
       "      <th></th>\n",
       "      <th>lon</th>\n",
       "      <th>lat</th>\n",
       "      <th>OC</th>\n",
       "      <th>N</th>\n",
       "      <th>P</th>\n",
       "      <th>K</th>\n",
       "    </tr>\n",
       "  </thead>\n",
       "  <tbody>\n",
       "    <tr>\n",
       "      <th>0</th>\n",
       "      <td>1979.264149</td>\n",
       "      <td>330.648754</td>\n",
       "      <td>0.012067</td>\n",
       "      <td>0.082316</td>\n",
       "      <td>0.001136</td>\n",
       "      <td>0.003893</td>\n",
       "    </tr>\n",
       "    <tr>\n",
       "      <th>1</th>\n",
       "      <td>1979.263392</td>\n",
       "      <td>330.737053</td>\n",
       "      <td>0.007283</td>\n",
       "      <td>0.050450</td>\n",
       "      <td>0.001109</td>\n",
       "      <td>0.004684</td>\n",
       "    </tr>\n",
       "    <tr>\n",
       "      <th>2</th>\n",
       "      <td>1979.262635</td>\n",
       "      <td>330.825353</td>\n",
       "      <td>0.019024</td>\n",
       "      <td>0.130115</td>\n",
       "      <td>0.001190</td>\n",
       "      <td>0.014032</td>\n",
       "    </tr>\n",
       "    <tr>\n",
       "      <th>3</th>\n",
       "      <td>1979.261879</td>\n",
       "      <td>330.913651</td>\n",
       "      <td>0.015110</td>\n",
       "      <td>0.103560</td>\n",
       "      <td>0.001109</td>\n",
       "      <td>0.010119</td>\n",
       "    </tr>\n",
       "    <tr>\n",
       "      <th>4</th>\n",
       "      <td>1979.261627</td>\n",
       "      <td>330.943085</td>\n",
       "      <td>0.016306</td>\n",
       "      <td>0.111527</td>\n",
       "      <td>0.001136</td>\n",
       "      <td>0.007821</td>\n",
       "    </tr>\n",
       "  </tbody>\n",
       "</table>\n",
       "</div>"
      ],
      "text/plain": [
       "           lon         lat        OC         N         P         K\n",
       "0  1979.264149  330.648754  0.012067  0.082316  0.001136  0.003893\n",
       "1  1979.263392  330.737053  0.007283  0.050450  0.001109  0.004684\n",
       "2  1979.262635  330.825353  0.019024  0.130115  0.001190  0.014032\n",
       "3  1979.261879  330.913651  0.015110  0.103560  0.001109  0.010119\n",
       "4  1979.261627  330.943085  0.016306  0.111527  0.001136  0.007821"
      ]
     },
     "execution_count": 11,
     "metadata": {},
     "output_type": "execute_result"
    }
   ],
   "source": [
    "data_train.head()"
   ]
  },
  {
   "cell_type": "code",
   "execution_count": 12,
   "id": "minute-consultation",
   "metadata": {},
   "outputs": [
    {
     "data": {
      "text/html": [
       "<div>\n",
       "<style scoped>\n",
       "    .dataframe tbody tr th:only-of-type {\n",
       "        vertical-align: middle;\n",
       "    }\n",
       "\n",
       "    .dataframe tbody tr th {\n",
       "        vertical-align: top;\n",
       "    }\n",
       "\n",
       "    .dataframe thead th {\n",
       "        text-align: right;\n",
       "    }\n",
       "</style>\n",
       "<table border=\"1\" class=\"dataframe\">\n",
       "  <thead>\n",
       "    <tr style=\"text-align: right;\">\n",
       "      <th></th>\n",
       "      <th>lon</th>\n",
       "      <th>lat</th>\n",
       "      <th>OC</th>\n",
       "      <th>N</th>\n",
       "      <th>P</th>\n",
       "      <th>K</th>\n",
       "    </tr>\n",
       "  </thead>\n",
       "  <tbody>\n",
       "    <tr>\n",
       "      <th>0</th>\n",
       "      <td>2018.770731</td>\n",
       "      <td>429.996503</td>\n",
       "      <td>0.005435</td>\n",
       "      <td>0.010744</td>\n",
       "      <td>0.000575</td>\n",
       "      <td>0.005802</td>\n",
       "    </tr>\n",
       "    <tr>\n",
       "      <th>1</th>\n",
       "      <td>2012.560689</td>\n",
       "      <td>491.570067</td>\n",
       "      <td>0.004783</td>\n",
       "      <td>0.066383</td>\n",
       "      <td>0.001542</td>\n",
       "      <td>0.010198</td>\n",
       "    </tr>\n",
       "    <tr>\n",
       "      <th>2</th>\n",
       "      <td>1994.453146</td>\n",
       "      <td>558.712577</td>\n",
       "      <td>0.003805</td>\n",
       "      <td>0.026551</td>\n",
       "      <td>0.001535</td>\n",
       "      <td>0.005758</td>\n",
       "    </tr>\n",
       "    <tr>\n",
       "      <th>3</th>\n",
       "      <td>2011.329738</td>\n",
       "      <td>497.238802</td>\n",
       "      <td>0.003479</td>\n",
       "      <td>0.024338</td>\n",
       "      <td>0.001752</td>\n",
       "      <td>0.012507</td>\n",
       "    </tr>\n",
       "    <tr>\n",
       "      <th>4</th>\n",
       "      <td>2145.359516</td>\n",
       "      <td>530.740139</td>\n",
       "      <td>0.004674</td>\n",
       "      <td>0.008520</td>\n",
       "      <td>0.000761</td>\n",
       "      <td>0.003950</td>\n",
       "    </tr>\n",
       "  </tbody>\n",
       "</table>\n",
       "</div>"
      ],
      "text/plain": [
       "           lon         lat        OC         N         P         K\n",
       "0  2018.770731  429.996503  0.005435  0.010744  0.000575  0.005802\n",
       "1  2012.560689  491.570067  0.004783  0.066383  0.001542  0.010198\n",
       "2  1994.453146  558.712577  0.003805  0.026551  0.001535  0.005758\n",
       "3  2011.329738  497.238802  0.003479  0.024338  0.001752  0.012507\n",
       "4  2145.359516  530.740139  0.004674  0.008520  0.000761  0.003950"
      ]
     },
     "execution_count": 12,
     "metadata": {},
     "output_type": "execute_result"
    }
   ],
   "source": [
    "data_test.head()"
   ]
  },
  {
   "cell_type": "code",
   "execution_count": 13,
   "id": "bronze-carroll",
   "metadata": {},
   "outputs": [
    {
     "data": {
      "text/plain": [
       "(5209, 6)"
      ]
     },
     "execution_count": 13,
     "metadata": {},
     "output_type": "execute_result"
    }
   ],
   "source": [
    "data_test.shape"
   ]
  },
  {
   "cell_type": "markdown",
   "id": "double-negotiation",
   "metadata": {},
   "source": [
    "## Data loading in torch.Dataloader"
   ]
  },
  {
   "cell_type": "code",
   "execution_count": 14,
   "id": "sacred-merchandise",
   "metadata": {},
   "outputs": [],
   "source": [
    "class NutrientsDataset(Dataset):\n",
    "    def __init__(self, df, num_context=40, num_extra_target=10):\n",
    "        self.df = df\n",
    "        self.num_context = num_context\n",
    "        self.num_extra_target = num_extra_target\n",
    "\n",
    "    def get_rows(self, i):\n",
    "        rows = self.df.iloc[i : i + (self.num_context + self.num_extra_target)].copy()\n",
    "        x = rows.iloc[:,:2].copy()\n",
    "        y = rows.iloc[:,2:].copy()\n",
    "        return x, y\n",
    "\n",
    "\n",
    "    def __getitem__(self, i):\n",
    "        x, y = self.get_rows(i)\n",
    "        return x.values, y.values\n",
    "        \n",
    "    def __len__(self):\n",
    "        return len(self.df) - (self.num_context + self.num_extra_target)"
   ]
  },
  {
   "cell_type": "code",
   "execution_count": 15,
   "id": "associate-morning",
   "metadata": {},
   "outputs": [],
   "source": [
    "def npsample_batch(x, y, size=None, sort=False):\n",
    "    \n",
    "    \"\"\"Sample from numpy arrays along 2nd dim.\"\"\"\n",
    "    inds = np.random.choice(range(x.shape[1]), size=size, replace=False)\n",
    "    return x[:, inds], y[:, inds]\n",
    "\n",
    "def collate_fns(max_num_context, max_num_extra_target, sample, sort=True, context_in_target=True):\n",
    "    def collate_fn(batch, sample=sample):\n",
    "        # Collate\n",
    "        x = np.stack([x for x, y in batch], 0)\n",
    "        y = np.stack([y for x, y in batch], 0)\n",
    "\n",
    "        # Sample a subset of random size\n",
    "        num_context = np.random.randint(4, max_num_context)\n",
    "        num_extra_target = np.random.randint(4, max_num_extra_target)\n",
    "\n",
    "        x = torch.from_numpy(x).float()\n",
    "        y = torch.from_numpy(y).float()\n",
    "\n",
    "        \n",
    "        x_context = x[:, :max_num_context]\n",
    "        y_context = y[:, :max_num_context]\n",
    "    \n",
    "        x_target_extra = x[:, max_num_context:]\n",
    "        y_target_extra = y[:, max_num_context:]\n",
    "        \n",
    "        if sample:\n",
    "\n",
    "            x_context, y_context = npsample_batch(\n",
    "                x_context, y_context, size=num_context\n",
    "            )\n",
    "\n",
    "            x_target_extra, y_target_extra = npsample_batch(\n",
    "                x_target_extra, y_target_extra, size=num_extra_target, sort=sort\n",
    "            )\n",
    "\n",
    "        # do we want to compute loss over context+target_extra, or focus in on only target_extra?\n",
    "        if context_in_target:\n",
    "            x_target = torch.cat([x_context, x_target_extra], 1)\n",
    "            y_target = torch.cat([y_context, y_target_extra], 1)\n",
    "        else:\n",
    "            x_target = x_target_extra\n",
    "            y_target = y_target_extra\n",
    "\n",
    "        \n",
    "        return x_context, y_context, x_target, y_target\n",
    "\n",
    "    return collate_fn"
   ]
  },
  {
   "cell_type": "code",
   "execution_count": null,
   "id": "spatial-profile",
   "metadata": {},
   "outputs": [],
   "source": []
  },
  {
   "cell_type": "code",
   "execution_count": null,
   "id": "historic-latitude",
   "metadata": {},
   "outputs": [],
   "source": []
  },
  {
   "cell_type": "markdown",
   "id": "paperback-sampling",
   "metadata": {},
   "source": [
    " ## NP Model"
   ]
  },
  {
   "cell_type": "code",
   "execution_count": 16,
   "id": "tutorial-process",
   "metadata": {},
   "outputs": [],
   "source": [
    "class baseNPBlock(nn.Module):\n",
    "    \"\"\"relu non-linearities for NP block\"\"\"\n",
    "    def __init__(self, inp_size,op_size, norm, bias = False, p = 0):\n",
    "        \"\"\"init function for linear2d class\n",
    "        \n",
    "        parameters\n",
    "        ----------\n",
    "        inp_size : int\n",
    "                input dimension for the Encoder part (d_in)\n",
    "        op_size : int\n",
    "                output dimension for Encoder part(d_out)\n",
    "        norm : str\n",
    "                normalization to be applied on linear output\n",
    "                pass norm == 'batch' to apply batch normalization\n",
    "                else dropout normalization is applied\n",
    "        bias : bool\n",
    "                if True, bias is included for linear layer else discarded\n",
    "        p : float\n",
    "                probality to be considered while applying Dropout regularization\n",
    "                \n",
    "        \"\"\"\n",
    "        super().__init__()\n",
    "        self.norm = norm\n",
    "        self.linear = nn.Linear(inp_size,op_size,bias = bias)\n",
    "        self.relu  = nn.ReLU()\n",
    "        self.batch_norm = nn.BatchNorm2d(op_size)\n",
    "        self.dropout = nn.Dropout2d(p)\n",
    "        \n",
    "    def forward(self,x):\n",
    "        x = self.linear(x)\n",
    "        x = self.batch_norm(x.permute(0,2,1)[:,:,:,None]) if self.norm == 'batch' else self.dropout(x.permute(0,2,1)[:,:,:,None])\n",
    "        \n",
    "        x = self.relu(x[:,:,:,0].permute(0,2,1))\n",
    "        return x"
   ]
  },
  {
   "cell_type": "code",
   "execution_count": 17,
   "id": "complicated-double",
   "metadata": {},
   "outputs": [],
   "source": [
    "class batch_MLP(nn.Module):\n",
    "    \"\"\" Batch MLP layer for NP-Encoder\"\"\"\n",
    "    def __init__(self, in_size, op_size, num_layers, norm, p = 0):\n",
    "        \"\"\"init function for linear2d class\n",
    "        \n",
    "        parameters\n",
    "        ----------\n",
    "        inp_size : int\n",
    "                input dimension for the Encoder part (d_in)\n",
    "        op_size : int\n",
    "                output dimension for Encoder part(d_out)\n",
    "        norm : str\n",
    "                normalization to be applied on linear output\n",
    "                pass norm == 'batch' to apply batch normalization\n",
    "                else dropout normalization is applied\n",
    "                \n",
    "        return torch.tensor of size (B,num_context_points,d_out)\n",
    "        \"\"\"\n",
    "        super().__init__()\n",
    "        self.in_size = in_size\n",
    "        self.op_size = op_size\n",
    "        self.num_layers = num_layers\n",
    "        self.norm  = norm\n",
    "        \n",
    "        self.first_layer = baseNPBlock(in_size, op_size, self.norm, False,p)\n",
    "        self.encoder = nn.Sequential(*[baseNPBlock(op_size, op_size, self.norm, False, p) for layer in range(self.num_layers-2)])\n",
    "        self.last_layer = nn.ReLU()\n",
    "        \n",
    "    def forward(self, x):\n",
    "        x = self.first_layer(x)\n",
    "        x = self.encoder(x)\n",
    "        x = self.last_layer(x)\n",
    "        \n",
    "        return x"
   ]
  },
  {
   "cell_type": "code",
   "execution_count": 18,
   "id": "anticipated-heath",
   "metadata": {},
   "outputs": [],
   "source": [
    "class LinearAttention(nn.Module):\n",
    "    def __init__(self,in_ch, out_ch):\n",
    "        super().__init__()\n",
    "        self.linear = nn.Linear(in_ch, out_ch, bias = False)\n",
    "        torch.nn.init.normal_(self.linear.weight,std = in_ch**0.5) #initilize weight matrix\n",
    "        \n",
    "    def forward(self,x):\n",
    "        return self.linear(x)\n",
    "    \n",
    "    \n",
    "class AttentionModule(nn.Module):\n",
    "    def __init__(\n",
    "        self,\n",
    "        hidden_dim, \n",
    "        attn_type , \n",
    "        attn_layers,\n",
    "        x_dim, \n",
    "        rep='mlp',\n",
    "        n_multiheads = 8,\n",
    "        norm = 'dropout',\n",
    "        p = 0):\n",
    "        \n",
    "        super().__init__()\n",
    "        self.rep = rep\n",
    "#         self.n_multiheads = n_multiheads\n",
    "        # rep determines whether raw input given to the model would be used as key and query or\n",
    "        # it's output through MLP. \n",
    "        if self.rep =='mlp':\n",
    "            \n",
    "            #Both Key and Value needs to have same dimension\n",
    "            self.batch_mlpk = batch_MLP(x_dim, hidden_dim, attn_layers, norm ,p)\n",
    "            self.batch_mlpq = batch_MLP(x_dim, hidden_dim, attn_layers, norm, p)\n",
    "        \n",
    "        \n",
    "        if attn_type == 'uniform':\n",
    "            self.attn_func = self.uniform_attn\n",
    "        if attn_type=='laplace':\n",
    "            self.attn_func = self.laplace_attn\n",
    "        if attn_type == 'dot':\n",
    "            self.attn_func = self.dot_attn\n",
    "        elif attn_type == 'multihead':\n",
    "            self.w_k = nn.ModuleList([LinearAttention(hidden_dim,hidden_dim) for head in range(n_multiheads)])\n",
    "            self.w_v = nn.ModuleList([LinearAttention(hidden_dim,hidden_dim) for head in range(n_multiheads)])\n",
    "            self.w_q = nn.ModuleList([LinearAttention(hidden_dim,hidden_dim) for head in range(n_multiheads)])\n",
    "            \n",
    "            self.w = LinearAttention(hidden_dim*n_multiheads,hidden_dim)\n",
    "            self.attn_func = self.multihead_attn\n",
    "            self.num_heads = n_multiheads\n",
    "            \n",
    "            \n",
    "            \n",
    "    def forward(self, k, q, v):\n",
    "        if self.rep =='mlp':\n",
    "            k = self.batch_mlpk(k) #(B, n, H)\n",
    "            q = self.batch_mlpq(q) #(B, m, H)\n",
    "        \n",
    "        rep = self.attn_func(k,q,v)\n",
    "        \n",
    "        return rep\n",
    "    \n",
    "    \n",
    "    def uniform_attn(self, k, q, v):\n",
    "        num_points = q.shape[1]\n",
    "        rep = torch.mean(v, axis = 1, keepdim = True)\n",
    "        rep = rep.repeat(1,num_points,1)\n",
    "        \n",
    "        return rep\n",
    "    \n",
    "    def laplace_attn(self, k, q, v, scale = 0.5):\n",
    "        k = k.unsqueeze(1)\n",
    "        v = v.unsqueeze(2)\n",
    "        \n",
    "        w = torch.abs((k-v)*scale)\n",
    "        w = w.sum(dim = -1)\n",
    "        weight = torch.softmax(w, dim = -1)\n",
    "        \n",
    "        #batch matrix multiplication (einstein summation convention for tensor)\n",
    "        rep = torch.einsum(\"bik, bkj -> bij\",weight, v)\n",
    "        \n",
    "        return rep\n",
    "    \n",
    "    \n",
    "    def dot_product_attn(self, k, q, v):\n",
    "#         print(\"k =\",k.shape)\n",
    "#         print(\"q =\",q.shape)\n",
    "#         print(\"v =\",v.shape)    \n",
    "        β = q.shape[-1]**0.5\n",
    "        w_unnorm = torch.einsum('bjk,bik->bij', k, q)/β\n",
    "#         print(\"w_unnorm =\",w_unnorm.shape)\n",
    "        \n",
    "        weight = torch.softmax(w_unnorm, dim = -1)\n",
    "        rep = torch.einsum(\"bik, bkj -> bij\",weight, v)\n",
    "#         print(\"rep =\",rep.shape)\n",
    "        return rep\n",
    "    \n",
    "    def multihead_attn(self, k , q, v):\n",
    "        outs = []\n",
    "        \n",
    "        for i in range(self.num_heads):\n",
    "            k = self.w_k[i](k) #(B, n, H)\n",
    "#             print(\"k =\",k.shape)\n",
    "            q = self.w_q[i](q) #(B, m, H)\n",
    "#             print(\"q =\",q.shape)\n",
    "            v = self.w_v[i](v) #(B, n, H)\n",
    "#             print(\"v =\",v.shape)\n",
    "            out = self.dot_product_attn(k, q, v)\n",
    "            outs.append(out)\n",
    "            \n",
    "        outs = torch.stack(outs, dim = -1) #(B, m, H, n_heads)\n",
    "#         print(\"outs dim =\", outs.shape)\n",
    "        outs = outs.view(outs.shape[0], outs.shape[1], -1) #(B, m, n_heads*H)\n",
    "#         print(\"outs shape =\",outs.shape)\n",
    "        rep = self.w(outs) #(B, m, H)\n",
    "        \n",
    "        return rep\n",
    "    \n",
    "    "
   ]
  },
  {
   "cell_type": "code",
   "execution_count": 19,
   "id": "important-toyota",
   "metadata": {},
   "outputs": [],
   "source": [
    "# AttentionModule?"
   ]
  },
  {
   "cell_type": "code",
   "execution_count": 20,
   "id": "contained-possession",
   "metadata": {},
   "outputs": [],
   "source": [
    "class DeterministicEncoder(nn.Module):\n",
    "    def __init__(\n",
    "                self,\n",
    "                in_dim,\n",
    "                x_dim,\n",
    "                norm = 'dropout',\n",
    "                hidden_dim = 32,\n",
    "                encoder_layer = 2,\n",
    "                self_attn_type ='dot',\n",
    "                cross_attn_type ='dot',\n",
    "                p_encoder = 0,\n",
    "                p_attention = 0,\n",
    "                attn_layers = 2,\n",
    "                use_self_attn = False\n",
    "                ):\n",
    "        super().__init__()\n",
    "        \n",
    "        self.use_self_attn = use_self_attn\n",
    "        \n",
    "        self.encoder = batch_MLP(in_dim, hidden_dim, encoder_layer,norm, p_encoder)\n",
    "        \n",
    "        if self.use_self_attn:\n",
    "            self.self_attn = AttentionModule(hidden_dim, self_attn_type, attn_layers,x_dim, rep = 'mlp',norm = norm, p = p_attention)\n",
    "            \n",
    "        self.cross_attn = AttentionModule(hidden_dim, cross_attn_type, attn_layers, x_dim)\n",
    "        \n",
    "    \n",
    "    def forward(self, context_x, context_y, target_x):\n",
    "        #concatenate context_x, context_y along the last dim.\n",
    "        det_enc_in = torch.cat([context_x, context_y], dim = -1)\n",
    "        \n",
    "        det_encoded = self.encoder(det_enc_in) #(B, n, hd)\n",
    "        \n",
    "        if self.use_self_attn:\n",
    "            det_encoded = self.self_attn(det_encoded, det_encoded, det_encoded)\n",
    "            \n",
    "        h = self.cross_attn(context_x, target_x, det_encoded)\n",
    "        \n",
    "        return h\n",
    "        \n",
    "        \n",
    "    \n",
    "        \n",
    "        "
   ]
  },
  {
   "cell_type": "code",
   "execution_count": 21,
   "id": "unlikely-section",
   "metadata": {},
   "outputs": [],
   "source": [
    "class LatentEncoder(nn.Module):\n",
    "    def __init__(self,\n",
    "                in_dim,\n",
    "                hidden_dim = 32,\n",
    "                latent_dim = 32,\n",
    "                self_attn_type = 'dot',\n",
    "                encoder_layer = 3,\n",
    "                min_std = 0.01,\n",
    "                norm = 'dropout',\n",
    "                p_encoder = 0,\n",
    "                p_attn = 0,\n",
    "                use_self_attn = False,\n",
    "                attn_layers = 2,\n",
    "                ):\n",
    "        \n",
    "        super().__init__()\n",
    "        \n",
    "        self._use_attn = use_self_attn\n",
    "        \n",
    "        self.encoder = batch_MLP(in_dim, hidden_dim, encoder_layer,norm, p_encoder)\n",
    "        \n",
    "        if self._use_attn:\n",
    "            self.self_attn = AttentionModule(hidden_dim, self_attn_type, attn_layers,x_dim, rep = 'identity',norm = norm, p = p_attention)\n",
    "        \n",
    "        self.secondlast_layer = nn.Linear(hidden_dim, hidden_dim)\n",
    "        self.mean = nn.Linear(hidden_dim, latent_dim)\n",
    "        self.l_sigma = nn.Linear(hidden_dim, latent_dim) \n",
    "        self.min_std = min_std\n",
    "#         self.use_lvar = use_lvar\n",
    "        self.use_attn = use_self_attn\n",
    "        \n",
    "        \n",
    "        \n",
    "    def forward(self,x,y):\n",
    "        encoder_inp = torch.cat([x,y], dim = -1) \n",
    "        \n",
    "        encoded_op = self.encoder(encoder_inp)#(B, n, hd)\n",
    "#         print(\"encoder_op shape = \",encoded_op.shape)\n",
    "        if self.use_attn:\n",
    "            encoded_op = self.self_attn(encoded_op, encoded_op, encoded_op) #(B, n, hd)\n",
    "            \n",
    "        \n",
    "        mean_val = torch.mean(encoded_op, dim = 1) #mean aggregation (B, hd)\n",
    "        \n",
    "        #further MLP layer that maps parameters to gaussian latent\n",
    "        mean_repr = torch.relu(self.secondlast_layer(mean_val)) #(B, hd)\n",
    "        \n",
    "        μ = self.mean(mean_repr) # (B, ld)\n",
    "#         print(\"mean = \", μ.shape)\n",
    "        log_scale = self.l_sigma(mean_repr) #(B, ld)\n",
    "        \n",
    "        #to avoid mode collapse\n",
    "        σ = self.min_std + (1-self.min_std)*torch.sigmoid(log_scale*0.5) #(b, ld)\n",
    "#         print(σ)\n",
    "        dist = torch.distributions.Normal(μ, σ)\n",
    "        \n",
    "        return dist\n",
    "        \n",
    "        \n",
    "            "
   ]
  },
  {
   "cell_type": "code",
   "execution_count": 22,
   "id": "fluid-probe",
   "metadata": {},
   "outputs": [],
   "source": [
    "class Decoder(nn.Module):\n",
    "    def __init__(self,\n",
    "                 x_dim,\n",
    "                 y_dim,\n",
    "                 hidden_dim = 32,\n",
    "                 latent_dim = 32,\n",
    "                 n_decoder_layer = 3,\n",
    "                 use_deterministic_path = True,\n",
    "                 min_std = 0.01,\n",
    "                 norm = 'dropout',\n",
    "                 dropout_p = 0,\n",
    "                ):\n",
    "        super().__init__()\n",
    "        \n",
    "        self.norm = norm\n",
    "        self.target_transform = nn.Linear(x_dim, hidden_dim)\n",
    "        \n",
    "        if use_deterministic_path:\n",
    "            hidden_dim_2 = 2 * hidden_dim + latent_dim\n",
    "        else:\n",
    "            hidden_dim_2 = hidden_dim + latent_dim\n",
    "            \n",
    "        self.decoder = batch_MLP(hidden_dim_2, hidden_dim_2, n_decoder_layer, norm, dropout_p)\n",
    "        \n",
    "        self.mean = nn.Linear(hidden_dim_2, y_dim)\n",
    "        self.std = nn.Linear(hidden_dim_2, y_dim)\n",
    "        self.deterministic_path = use_deterministic_path\n",
    "        self.min_std = min_std\n",
    "        \n",
    "        \n",
    "    def forward(self, r, z, t_x):\n",
    "        x = self.target_transform(t_x)\n",
    "        \n",
    "        if self.deterministic_path:\n",
    "            z = torch.cat([r,z], dim = -1)\n",
    "#             print(\"z.shape =\", z.shape)\n",
    "        r = torch.cat([z,x], dim = -1)\n",
    "        \n",
    "        r = self.decoder(r)\n",
    "        \n",
    "        mean = self.mean(r)\n",
    "        log_sigma = self.std(r)\n",
    "        \n",
    "        #clamp sigmad\n",
    "        sigma = self.min_std + (1 - self.min_std) * F.softplus(log_sigma)\n",
    "        \n",
    "        dist = torch.distributions.Normal(mean,sigma)\n",
    "        \n",
    "        return dist"
   ]
  },
  {
   "cell_type": "code",
   "execution_count": null,
   "id": "urban-zealand",
   "metadata": {},
   "outputs": [],
   "source": []
  },
  {
   "cell_type": "code",
   "execution_count": 23,
   "id": "artificial-sucking",
   "metadata": {},
   "outputs": [],
   "source": [
    "class LatentModel(nn.Module):\n",
    "    def __init__(self,\n",
    "               x_dim,\n",
    "               y_dim,\n",
    "               hidden_dim = 32,\n",
    "               latent_dim = 32,\n",
    "               latent_self_attn_type = 'multihead',\n",
    "                det_self_attn_type = 'multihead',\n",
    "                det_cross_attn_type = 'multihead',\n",
    "               n_lat_enc_layer = 2,\n",
    "               n_det_enc_layer = 2,\n",
    "               n_decoder_layer = 2,\n",
    "               use_deterministic_enc = False,\n",
    "               min_std = 0.01,\n",
    "               p_drop = 0,\n",
    "               norm = 'dropout',\n",
    "               p_attn_drop = 0,\n",
    "               attn_layers = 2,\n",
    "               use_self_attn = False,\n",
    "               context_in_target = True,\n",
    "                training = False):\n",
    "        \n",
    "        super().__init__()\n",
    "        self.laten_encoder = LatentEncoder(x_dim+y_dim,\n",
    "                                           hidden_dim=hidden_dim,\n",
    "                                           latent_dim=latent_dim,\n",
    "                                           self_attn_type=latent_self_attn_type,\n",
    "                                           encoder_layer=n_lat_enc_layer,\n",
    "                                           min_std=min_std,\n",
    "                                           norm = norm,\n",
    "                                           p_encoder=p_drop,\n",
    "                                           p_attn=p_attn_drop,\n",
    "                                           use_self_attn=use_self_attn,\n",
    "                                           attn_layers=attn_layers \n",
    "                                          )\n",
    "        self.deterministic_encoder = DeterministicEncoder(x_dim+y_dim,\n",
    "                                                          x_dim,\n",
    "                                                          norm = norm,\n",
    "                                                          hidden_dim=hidden_dim,\n",
    "                                                          encoder_layer=n_det_enc_layer,\n",
    "                                                          self_attn_type=det_self_attn_type,\n",
    "                                                          cross_attn_type=det_cross_attn_type,\n",
    "                                                          p_encoder=p_drop,\n",
    "                                                          p_attention=p_attn_drop,\n",
    "                                                          attn_layers=attn_layers,\n",
    "                                                          use_self_attn=use_self_attn\n",
    "                                                         )\n",
    "        self.decoder = Decoder(x_dim,\n",
    "                              y_dim,\n",
    "                              hidden_dim  = hidden_dim,\n",
    "                              latent_dim=latent_dim,\n",
    "                              n_decoder_layer=n_decoder_layer,\n",
    "                              use_deterministic_path=use_deterministic_enc,\n",
    "                              min_std=min_std,\n",
    "                              norm=norm,\n",
    "                              dropout_p=p_drop\n",
    "                              )\n",
    "        self.use_deterministic_enc = use_deterministic_enc\n",
    "        self.context_in_target = context_in_target\n",
    "        self.training = training\n",
    "        \n",
    "        \n",
    "    def forward(self, c_x, c_y, t_x, t_y = None):\n",
    "        dist_prior = self.laten_encoder(c_x, c_y)\n",
    "\n",
    "        if t_y is not None:\n",
    "            dist_posterior = self.laten_encoder(t_x, t_y)\n",
    "            z = dist_posterior.loc\n",
    "        else:\n",
    "            z = dist_prior.loc\n",
    "            \n",
    "        n_target = t_x.shape[1]\n",
    "        z = z.unsqueeze(1).repeat(1, n_target,1) #(B, n_target, L)\n",
    "        \n",
    "        if self.use_deterministic_enc:\n",
    "            r = self.deterministic_encoder(c_x, c_y, t_x) #(B, n_target=m, H)\n",
    "#             print(r.shape)\n",
    "        else:\n",
    "            r = None\n",
    "            \n",
    "        dist = self.decoder(r, z, t_x)\n",
    "        \n",
    "        #at test time, target y is not Known so we return None\n",
    "        if t_y is not None:\n",
    "            log_p = dist.log_prob(t_y).mean(-1)\n",
    "            kl_loss = torch.distributions.kl_divergence(dist_posterior, dist_prior).mean(-1)\n",
    "            kl_loss = kl_loss[:,None].expand(log_p.shape)\n",
    "            loss = (kl_loss-log_p).mean()\n",
    "            mse_loss = F.mse_loss(dist.loc, t_y, reduction = 'none')[:,:c_x.size(1)].mean()\n",
    "        else:\n",
    "            kl_loss  =None\n",
    "            log_p = None\n",
    "            mse_loss = None\n",
    "            loss = None\n",
    "            \n",
    "        y_pred = dist.rsample() if self.training else dist.loc\n",
    "            \n",
    "        return y_pred,  dict(loss = loss, loss_p = log_p, loss_kl = kl_loss, loss_mse = mse_loss), dist\n",
    "\n"
   ]
  },
  {
   "cell_type": "code",
   "execution_count": 44,
   "id": "seeing-joseph",
   "metadata": {},
   "outputs": [],
   "source": [
    "Regressor = LatentModel(2,4,\n",
    "                       p_drop = 0,\n",
    "                        hidden_dim = 64,\n",
    "                        latent_dim = 16,\n",
    "                       n_decoder_layer = 3,\n",
    "                       norm = 'batch',\n",
    "                       context_in_target=False\n",
    "                       )"
   ]
  },
  {
   "cell_type": "code",
   "execution_count": 45,
   "id": "cleared-germany",
   "metadata": {},
   "outputs": [],
   "source": [
    "#train data loader\n",
    "hparamas = dict(num_context = 15,\n",
    "               num_extra_target = 16,\n",
    "               batch_size = 400,\n",
    "               context_in_target = False)\n",
    "train_df = NutrientsDataset(data_train,hparamas['num_context'],hparamas['num_extra_target'])\n",
    "\n",
    "train_loader = DataLoader(train_df,\n",
    "                          batch_size=hparamas['batch_size'],\n",
    "                         shuffle = True,\n",
    "                         collate_fn=collate_fns(\n",
    "                             hparamas['num_context'],hparamas['num_extra_target'], True,hparamas['context_in_target']))"
   ]
  },
  {
   "cell_type": "code",
   "execution_count": 46,
   "id": "continuing-egypt",
   "metadata": {},
   "outputs": [],
   "source": [
    "# #eval data loader\n",
    "# hparamas = dict(num_context = 15,\n",
    "#                num_extra_target = 16,\n",
    "#                batch_size = 40,\n",
    "#                context_in_target = False)\n",
    "# eval_df = NutrientsDataset(data_test,hparamas['num_context'],hparamas['num_extra_target'])\n",
    "\n",
    "# train_loader = DataLoader(eval_df,\n",
    "#                           batch_size=hparamas['batch_size'],\n",
    "#                          shuffle = True,\n",
    "#                          collate_fn=collate_fns(\n",
    "#                              hparamas['num_context'],hparamas['num_extra_target'], True,hparamas['context_in_target']))"
   ]
  },
  {
   "cell_type": "code",
   "execution_count": 47,
   "id": "healthy-mainstream",
   "metadata": {},
   "outputs": [],
   "source": [
    "# data_train.iloc[:,:2]"
   ]
  },
  {
   "cell_type": "code",
   "execution_count": 61,
   "id": "threatened-intention",
   "metadata": {
    "scrolled": true
   },
   "outputs": [],
   "source": [
    "#eval loss\n",
    "def test(do_eval=True):\n",
    "    \"\"\"Run model on test/val data\"\"\"\n",
    "    if do_eval:\n",
    "        Regressor.eval()\n",
    "    with torch.no_grad():\n",
    "        target_x, target_y = data_test.iloc[:,:2], data_test.iloc[:,2:]\n",
    "        context_x, context_y = data_train.iloc[:,:2], data_train.iloc[:,2:]\n",
    "\n",
    "        context_x = torch.from_numpy(context_x.values).float()[None, :]\n",
    "        context_y = torch.from_numpy(context_y.values).float()[None, :]\n",
    "        target_x = torch.from_numpy(target_x.values).float()[None, :]\n",
    "        target_y = torch.from_numpy(target_y.values).float()[None, :]\n",
    "        print(context_x.shape, context_y.shape, target_x.shape, target_y.shape)\n",
    "        y_pred, losses, extra = Regressor.forward(context_x, context_y, target_x, target_y)\n",
    "        print(y_pred.shape)\n",
    "    yr=(target_y-y_pred)[0].detach().cpu().numpy()\n",
    "#     print(yr)\n",
    "    return yr, y_pred, losses, extra "
   ]
  },
  {
   "cell_type": "code",
   "execution_count": 62,
   "id": "alive-subsection",
   "metadata": {},
   "outputs": [
    {
     "name": "stdout",
     "output_type": "stream",
     "text": [
      "torch.Size([1, 20837, 2]) torch.Size([1, 20837, 4]) torch.Size([1, 5209, 2]) torch.Size([1, 5209, 4])\n",
      "torch.Size([1, 5209, 4])\n"
     ]
    },
    {
     "data": {
      "text/plain": [
       "array([[-0.19728503, -0.3132522 ,  0.845472  , -0.02644168],\n",
       "       [-0.35095876, -0.42687303,  0.5910084 ,  0.02158483],\n",
       "       [-0.4037054 , -0.18509154,  0.25507063,  0.09816705],\n",
       "       ...,\n",
       "       [-0.1871854 , -0.2815249 ,  0.92175674, -0.00298213],\n",
       "       [-0.2412051 , -0.41691044,  0.9135716 ,  0.06411079],\n",
       "       [-0.22108693, -0.25960636,  0.94111425, -0.04580018]],\n",
       "      dtype=float32)"
      ]
     },
     "execution_count": 62,
     "metadata": {},
     "output_type": "execute_result"
    }
   ],
   "source": [
    "test()[0]"
   ]
  },
  {
   "cell_type": "code",
   "execution_count": 51,
   "id": "dangerous-rotation",
   "metadata": {},
   "outputs": [],
   "source": [
    "opt = torch.optim.Adam(Regressor.parameters(), lr=1e-4)"
   ]
  },
  {
   "cell_type": "code",
   "execution_count": 63,
   "id": "iraqi-married",
   "metadata": {},
   "outputs": [
    {
     "data": {
      "application/vnd.jupyter.widget-view+json": {
       "model_id": "10d276c1812542df9145d0acefcf9986",
       "version_major": 2,
       "version_minor": 0
      },
      "text/plain": [
       "  0%|          | 0/53 [00:00<?, ?it/s]"
      ]
     },
     "metadata": {},
     "output_type": "display_data"
    },
    {
     "name": "stdout",
     "output_type": "stream",
     "text": [
      "0\n",
      "ELBO train_loss 0.40834776804132283\n",
      "mse train_loss 0.0067994619350669515\n",
      "torch.Size([1, 20837, 2]) torch.Size([1, 20837, 4]) torch.Size([1, 5209, 2]) torch.Size([1, 5209, 4])\n",
      "torch.Size([1, 5209, 4])\n",
      "val_loss =  0.15735935\n",
      "-----------------------------------------------------------------------\n"
     ]
    },
    {
     "data": {
      "application/vnd.jupyter.widget-view+json": {
       "model_id": "38c82756dff74c638cf021b40b54cad8",
       "version_major": 2,
       "version_minor": 0
      },
      "text/plain": [
       "  0%|          | 0/53 [00:00<?, ?it/s]"
      ]
     },
     "metadata": {},
     "output_type": "display_data"
    },
    {
     "name": "stdout",
     "output_type": "stream",
     "text": [
      "1\n",
      "ELBO train_loss 0.24481830478839153\n",
      "mse train_loss 0.002267636929831977\n",
      "torch.Size([1, 20837, 2]) torch.Size([1, 20837, 4]) torch.Size([1, 5209, 2]) torch.Size([1, 5209, 4])\n",
      "torch.Size([1, 5209, 4])\n",
      "val_loss =  0.12186013\n",
      "-----------------------------------------------------------------------\n"
     ]
    },
    {
     "data": {
      "application/vnd.jupyter.widget-view+json": {
       "model_id": "e31dfb1238fa4307ba7fe912a13b7209",
       "version_major": 2,
       "version_minor": 0
      },
      "text/plain": [
       "  0%|          | 0/53 [00:00<?, ?it/s]"
      ]
     },
     "metadata": {},
     "output_type": "display_data"
    },
    {
     "name": "stdout",
     "output_type": "stream",
     "text": [
      "2\n",
      "ELBO train_loss 0.07959765993840641\n",
      "mse train_loss 0.001636472598754994\n",
      "torch.Size([1, 20837, 2]) torch.Size([1, 20837, 4]) torch.Size([1, 5209, 2]) torch.Size([1, 5209, 4])\n",
      "torch.Size([1, 5209, 4])\n",
      "val_loss =  0.19178033\n",
      "-----------------------------------------------------------------------\n"
     ]
    },
    {
     "data": {
      "application/vnd.jupyter.widget-view+json": {
       "model_id": "bf69e2c229a744cdafb7268f2ced4b8a",
       "version_major": 2,
       "version_minor": 0
      },
      "text/plain": [
       "  0%|          | 0/53 [00:00<?, ?it/s]"
      ]
     },
     "metadata": {},
     "output_type": "display_data"
    },
    {
     "name": "stdout",
     "output_type": "stream",
     "text": [
      "3\n",
      "ELBO train_loss -0.0879209226322413\n",
      "mse train_loss 0.0013878671100960587\n",
      "torch.Size([1, 20837, 2]) torch.Size([1, 20837, 4]) torch.Size([1, 5209, 2]) torch.Size([1, 5209, 4])\n",
      "torch.Size([1, 5209, 4])\n",
      "val_loss =  0.0794784\n",
      "-----------------------------------------------------------------------\n"
     ]
    },
    {
     "data": {
      "application/vnd.jupyter.widget-view+json": {
       "model_id": "1d5279a9009f4b77968d0813e78406f5",
       "version_major": 2,
       "version_minor": 0
      },
      "text/plain": [
       "  0%|          | 0/53 [00:00<?, ?it/s]"
      ]
     },
     "metadata": {},
     "output_type": "display_data"
    },
    {
     "name": "stdout",
     "output_type": "stream",
     "text": [
      "4\n",
      "ELBO train_loss -0.26227339652349363\n",
      "mse train_loss 0.0011973627293833866\n",
      "torch.Size([1, 20837, 2]) torch.Size([1, 20837, 4]) torch.Size([1, 5209, 2]) torch.Size([1, 5209, 4])\n",
      "torch.Size([1, 5209, 4])\n",
      "val_loss =  0.297436\n",
      "-----------------------------------------------------------------------\n"
     ]
    },
    {
     "data": {
      "application/vnd.jupyter.widget-view+json": {
       "model_id": "63d796a077624a0c96765eb27d5a1844",
       "version_major": 2,
       "version_minor": 0
      },
      "text/plain": [
       "  0%|          | 0/53 [00:00<?, ?it/s]"
      ]
     },
     "metadata": {},
     "output_type": "display_data"
    },
    {
     "name": "stdout",
     "output_type": "stream",
     "text": [
      "5\n",
      "ELBO train_loss -0.433786042456357\n",
      "mse train_loss 0.0010687425646948505\n",
      "torch.Size([1, 20837, 2]) torch.Size([1, 20837, 4]) torch.Size([1, 5209, 2]) torch.Size([1, 5209, 4])\n",
      "torch.Size([1, 5209, 4])\n",
      "val_loss =  0.08530353\n",
      "-----------------------------------------------------------------------\n"
     ]
    },
    {
     "data": {
      "application/vnd.jupyter.widget-view+json": {
       "model_id": "685d40f66eaa414098a2e1afdb2f8337",
       "version_major": 2,
       "version_minor": 0
      },
      "text/plain": [
       "  0%|          | 0/53 [00:00<?, ?it/s]"
      ]
     },
     "metadata": {},
     "output_type": "display_data"
    },
    {
     "name": "stdout",
     "output_type": "stream",
     "text": [
      "6\n",
      "ELBO train_loss -0.608558622733602\n",
      "mse train_loss 0.0009885331361009827\n",
      "torch.Size([1, 20837, 2]) torch.Size([1, 20837, 4]) torch.Size([1, 5209, 2]) torch.Size([1, 5209, 4])\n",
      "torch.Size([1, 5209, 4])\n",
      "val_loss =  0.30869812\n",
      "-----------------------------------------------------------------------\n"
     ]
    },
    {
     "data": {
      "application/vnd.jupyter.widget-view+json": {
       "model_id": "d2ebde05ea5b46c581dd19dafe9a8be0",
       "version_major": 2,
       "version_minor": 0
      },
      "text/plain": [
       "  0%|          | 0/53 [00:00<?, ?it/s]"
      ]
     },
     "metadata": {},
     "output_type": "display_data"
    },
    {
     "name": "stdout",
     "output_type": "stream",
     "text": [
      "7\n",
      "ELBO train_loss -0.7532960362029526\n",
      "mse train_loss 0.0013734547394977988\n",
      "torch.Size([1, 20837, 2]) torch.Size([1, 20837, 4]) torch.Size([1, 5209, 2]) torch.Size([1, 5209, 4])\n",
      "torch.Size([1, 5209, 4])\n",
      "val_loss =  0.13459015\n",
      "-----------------------------------------------------------------------\n"
     ]
    },
    {
     "data": {
      "application/vnd.jupyter.widget-view+json": {
       "model_id": "a15d65cb13644505b7894afc71fd5f14",
       "version_major": 2,
       "version_minor": 0
      },
      "text/plain": [
       "  0%|          | 0/53 [00:00<?, ?it/s]"
      ]
     },
     "metadata": {},
     "output_type": "display_data"
    },
    {
     "name": "stdout",
     "output_type": "stream",
     "text": [
      "8\n",
      "ELBO train_loss -0.9304907591837757\n",
      "mse train_loss 0.001073311989081426\n",
      "torch.Size([1, 20837, 2]) torch.Size([1, 20837, 4]) torch.Size([1, 5209, 2]) torch.Size([1, 5209, 4])\n",
      "torch.Size([1, 5209, 4])\n",
      "val_loss =  0.034837585\n",
      "-----------------------------------------------------------------------\n"
     ]
    },
    {
     "data": {
      "application/vnd.jupyter.widget-view+json": {
       "model_id": "dcf5a885f988424f8bbb5f034a10f2b7",
       "version_major": 2,
       "version_minor": 0
      },
      "text/plain": [
       "  0%|          | 0/53 [00:00<?, ?it/s]"
      ]
     },
     "metadata": {},
     "output_type": "display_data"
    },
    {
     "name": "stdout",
     "output_type": "stream",
     "text": [
      "9\n",
      "ELBO train_loss -1.131720078441332\n",
      "mse train_loss 0.0007996864996868062\n",
      "torch.Size([1, 20837, 2]) torch.Size([1, 20837, 4]) torch.Size([1, 5209, 2]) torch.Size([1, 5209, 4])\n",
      "torch.Size([1, 5209, 4])\n",
      "val_loss =  0.06763096\n",
      "-----------------------------------------------------------------------\n"
     ]
    },
    {
     "data": {
      "application/vnd.jupyter.widget-view+json": {
       "model_id": "2bb3049cb7d042aa8448d496ef94c98e",
       "version_major": 2,
       "version_minor": 0
      },
      "text/plain": [
       "  0%|          | 0/53 [00:00<?, ?it/s]"
      ]
     },
     "metadata": {},
     "output_type": "display_data"
    },
    {
     "name": "stdout",
     "output_type": "stream",
     "text": [
      "10\n",
      "ELBO train_loss -1.2974604019578897\n",
      "mse train_loss 0.0007904292290749134\n",
      "torch.Size([1, 20837, 2]) torch.Size([1, 20837, 4]) torch.Size([1, 5209, 2]) torch.Size([1, 5209, 4])\n",
      "torch.Size([1, 5209, 4])\n",
      "val_loss =  0.094235405\n",
      "-----------------------------------------------------------------------\n"
     ]
    },
    {
     "data": {
      "application/vnd.jupyter.widget-view+json": {
       "model_id": "265be59696c4460ea846e036d8332c96",
       "version_major": 2,
       "version_minor": 0
      },
      "text/plain": [
       "  0%|          | 0/53 [00:00<?, ?it/s]"
      ]
     },
     "metadata": {},
     "output_type": "display_data"
    },
    {
     "name": "stdout",
     "output_type": "stream",
     "text": [
      "11\n",
      "ELBO train_loss -1.4506332851805777\n",
      "mse train_loss 0.0008067153185553287\n",
      "torch.Size([1, 20837, 2]) torch.Size([1, 20837, 4]) torch.Size([1, 5209, 2]) torch.Size([1, 5209, 4])\n",
      "torch.Size([1, 5209, 4])\n",
      "val_loss =  0.08215833\n",
      "-----------------------------------------------------------------------\n"
     ]
    },
    {
     "data": {
      "application/vnd.jupyter.widget-view+json": {
       "model_id": "2b3fad4f9006482590144628a15f9569",
       "version_major": 2,
       "version_minor": 0
      },
      "text/plain": [
       "  0%|          | 0/53 [00:00<?, ?it/s]"
      ]
     },
     "metadata": {},
     "output_type": "display_data"
    },
    {
     "name": "stdout",
     "output_type": "stream",
     "text": [
      "12\n",
      "ELBO train_loss -1.6132602399250247\n",
      "mse train_loss 0.0007268361646225149\n",
      "torch.Size([1, 20837, 2]) torch.Size([1, 20837, 4]) torch.Size([1, 5209, 2]) torch.Size([1, 5209, 4])\n",
      "torch.Size([1, 5209, 4])\n",
      "val_loss =  0.0933292\n",
      "-----------------------------------------------------------------------\n"
     ]
    },
    {
     "data": {
      "application/vnd.jupyter.widget-view+json": {
       "model_id": "e660af2ed1544acc866fa6cc3005272e",
       "version_major": 2,
       "version_minor": 0
      },
      "text/plain": [
       "  0%|          | 0/53 [00:00<?, ?it/s]"
      ]
     },
     "metadata": {},
     "output_type": "display_data"
    },
    {
     "name": "stdout",
     "output_type": "stream",
     "text": [
      "13\n",
      "ELBO train_loss -1.686658429649641\n",
      "mse train_loss 0.000830927143809122\n",
      "torch.Size([1, 20837, 2]) torch.Size([1, 20837, 4]) torch.Size([1, 5209, 2]) torch.Size([1, 5209, 4])\n",
      "torch.Size([1, 5209, 4])\n",
      "val_loss =  0.23638672\n",
      "-----------------------------------------------------------------------\n"
     ]
    },
    {
     "data": {
      "application/vnd.jupyter.widget-view+json": {
       "model_id": "a1b8f5f249e94a44b69f7b341819a010",
       "version_major": 2,
       "version_minor": 0
      },
      "text/plain": [
       "  0%|          | 0/53 [00:00<?, ?it/s]"
      ]
     },
     "metadata": {},
     "output_type": "display_data"
    },
    {
     "name": "stdout",
     "output_type": "stream",
     "text": [
      "14\n",
      "ELBO train_loss -1.6151672084376496\n",
      "mse train_loss 0.001097363437952052\n",
      "torch.Size([1, 20837, 2]) torch.Size([1, 20837, 4]) torch.Size([1, 5209, 2]) torch.Size([1, 5209, 4])\n",
      "torch.Size([1, 5209, 4])\n",
      "val_loss =  0.14626084\n",
      "-----------------------------------------------------------------------\n"
     ]
    },
    {
     "data": {
      "application/vnd.jupyter.widget-view+json": {
       "model_id": "ce1f8fe74b3640bcad9829ae588caecc",
       "version_major": 2,
       "version_minor": 0
      },
      "text/plain": [
       "  0%|          | 0/53 [00:00<?, ?it/s]"
      ]
     },
     "metadata": {},
     "output_type": "display_data"
    },
    {
     "name": "stdout",
     "output_type": "stream",
     "text": [
      "15\n",
      "ELBO train_loss -1.7923856726232565\n",
      "mse train_loss 0.0011022007565084353\n",
      "torch.Size([1, 20837, 2]) torch.Size([1, 20837, 4]) torch.Size([1, 5209, 2]) torch.Size([1, 5209, 4])\n",
      "torch.Size([1, 5209, 4])\n",
      "val_loss =  0.08225398\n",
      "-----------------------------------------------------------------------\n"
     ]
    },
    {
     "data": {
      "application/vnd.jupyter.widget-view+json": {
       "model_id": "991123c16113438ab842c605f706d9ea",
       "version_major": 2,
       "version_minor": 0
      },
      "text/plain": [
       "  0%|          | 0/53 [00:00<?, ?it/s]"
      ]
     },
     "metadata": {},
     "output_type": "display_data"
    },
    {
     "name": "stdout",
     "output_type": "stream",
     "text": [
      "16\n",
      "ELBO train_loss -1.9609086783427112\n",
      "mse train_loss 0.0007058670991407883\n",
      "torch.Size([1, 20837, 2]) torch.Size([1, 20837, 4]) torch.Size([1, 5209, 2]) torch.Size([1, 5209, 4])\n",
      "torch.Size([1, 5209, 4])\n",
      "val_loss =  0.03979873\n",
      "-----------------------------------------------------------------------\n"
     ]
    },
    {
     "data": {
      "application/vnd.jupyter.widget-view+json": {
       "model_id": "5824e435a3044e61bf080ebb160cb1e8",
       "version_major": 2,
       "version_minor": 0
      },
      "text/plain": [
       "  0%|          | 0/53 [00:00<?, ?it/s]"
      ]
     },
     "metadata": {},
     "output_type": "display_data"
    },
    {
     "name": "stdout",
     "output_type": "stream",
     "text": [
      "17\n",
      "ELBO train_loss -2.028430223464966\n",
      "mse train_loss 0.0006099285586420798\n",
      "torch.Size([1, 20837, 2]) torch.Size([1, 20837, 4]) torch.Size([1, 5209, 2]) torch.Size([1, 5209, 4])\n",
      "torch.Size([1, 5209, 4])\n",
      "val_loss =  0.10861727\n",
      "-----------------------------------------------------------------------\n"
     ]
    },
    {
     "data": {
      "application/vnd.jupyter.widget-view+json": {
       "model_id": "b420fc0099dd44ea99f411f11e69a5e2",
       "version_major": 2,
       "version_minor": 0
      },
      "text/plain": [
       "  0%|          | 0/53 [00:00<?, ?it/s]"
      ]
     },
     "metadata": {},
     "output_type": "display_data"
    },
    {
     "name": "stdout",
     "output_type": "stream",
     "text": [
      "18\n",
      "ELBO train_loss -2.03132977575626\n",
      "mse train_loss 0.0008410568659870341\n",
      "torch.Size([1, 20837, 2]) torch.Size([1, 20837, 4]) torch.Size([1, 5209, 2]) torch.Size([1, 5209, 4])\n",
      "torch.Size([1, 5209, 4])\n",
      "val_loss =  0.06149123\n",
      "-----------------------------------------------------------------------\n"
     ]
    },
    {
     "data": {
      "application/vnd.jupyter.widget-view+json": {
       "model_id": "ea8501ae4eea49b1909746e63649d02f",
       "version_major": 2,
       "version_minor": 0
      },
      "text/plain": [
       "  0%|          | 0/53 [00:00<?, ?it/s]"
      ]
     },
     "metadata": {},
     "output_type": "display_data"
    },
    {
     "name": "stdout",
     "output_type": "stream",
     "text": [
      "19\n",
      "ELBO train_loss -2.1949547304297394\n",
      "mse train_loss 0.0005433122865759047\n",
      "torch.Size([1, 20837, 2]) torch.Size([1, 20837, 4]) torch.Size([1, 5209, 2]) torch.Size([1, 5209, 4])\n",
      "torch.Size([1, 5209, 4])\n",
      "val_loss =  0.06145505\n",
      "-----------------------------------------------------------------------\n"
     ]
    },
    {
     "data": {
      "application/vnd.jupyter.widget-view+json": {
       "model_id": "e9aefef8e1264381a0a14e9de7ac1a72",
       "version_major": 2,
       "version_minor": 0
      },
      "text/plain": [
       "  0%|          | 0/53 [00:00<?, ?it/s]"
      ]
     },
     "metadata": {},
     "output_type": "display_data"
    },
    {
     "name": "stdout",
     "output_type": "stream",
     "text": [
      "20\n",
      "ELBO train_loss -2.2235995823482297\n",
      "mse train_loss 0.0005981200369171587\n",
      "torch.Size([1, 20837, 2]) torch.Size([1, 20837, 4]) torch.Size([1, 5209, 2]) torch.Size([1, 5209, 4])\n",
      "torch.Size([1, 5209, 4])\n",
      "val_loss =  0.035563897\n",
      "-----------------------------------------------------------------------\n"
     ]
    },
    {
     "data": {
      "application/vnd.jupyter.widget-view+json": {
       "model_id": "4f1ab8aa25ba452081d8d4f781ab6387",
       "version_major": 2,
       "version_minor": 0
      },
      "text/plain": [
       "  0%|          | 0/53 [00:00<?, ?it/s]"
      ]
     },
     "metadata": {},
     "output_type": "display_data"
    },
    {
     "name": "stdout",
     "output_type": "stream",
     "text": [
      "21\n",
      "ELBO train_loss -2.2916094964405276\n",
      "mse train_loss 0.0005517425229728995\n",
      "torch.Size([1, 20837, 2]) torch.Size([1, 20837, 4]) torch.Size([1, 5209, 2]) torch.Size([1, 5209, 4])\n",
      "torch.Size([1, 5209, 4])\n",
      "val_loss =  0.08023176\n",
      "-----------------------------------------------------------------------\n"
     ]
    },
    {
     "data": {
      "application/vnd.jupyter.widget-view+json": {
       "model_id": "444ac8cf8bf64fed9b69055513d927fa",
       "version_major": 2,
       "version_minor": 0
      },
      "text/plain": [
       "  0%|          | 0/53 [00:00<?, ?it/s]"
      ]
     },
     "metadata": {},
     "output_type": "display_data"
    },
    {
     "name": "stdout",
     "output_type": "stream",
     "text": [
      "22\n",
      "ELBO train_loss -2.30663182375566\n",
      "mse train_loss 0.0005545936286546079\n",
      "torch.Size([1, 20837, 2]) torch.Size([1, 20837, 4]) torch.Size([1, 5209, 2]) torch.Size([1, 5209, 4])\n",
      "torch.Size([1, 5209, 4])\n",
      "val_loss =  0.061161123\n",
      "-----------------------------------------------------------------------\n"
     ]
    },
    {
     "data": {
      "application/vnd.jupyter.widget-view+json": {
       "model_id": "01b4b36840e24ae19b9700df77941ef8",
       "version_major": 2,
       "version_minor": 0
      },
      "text/plain": [
       "  0%|          | 0/53 [00:00<?, ?it/s]"
      ]
     },
     "metadata": {},
     "output_type": "display_data"
    },
    {
     "name": "stdout",
     "output_type": "stream",
     "text": [
      "23\n",
      "ELBO train_loss -2.3499891251887917\n",
      "mse train_loss 0.0005334508522932049\n",
      "torch.Size([1, 20837, 2]) torch.Size([1, 20837, 4]) torch.Size([1, 5209, 2]) torch.Size([1, 5209, 4])\n",
      "torch.Size([1, 5209, 4])\n",
      "val_loss =  0.05072058\n",
      "-----------------------------------------------------------------------\n"
     ]
    },
    {
     "data": {
      "application/vnd.jupyter.widget-view+json": {
       "model_id": "11fc4f4b37f84b63a17f05992c6341e6",
       "version_major": 2,
       "version_minor": 0
      },
      "text/plain": [
       "  0%|          | 0/53 [00:00<?, ?it/s]"
      ]
     },
     "metadata": {},
     "output_type": "display_data"
    },
    {
     "name": "stdout",
     "output_type": "stream",
     "text": [
      "24\n",
      "ELBO train_loss -2.3791281232294046\n",
      "mse train_loss 0.0004988302400375207\n",
      "torch.Size([1, 20837, 2]) torch.Size([1, 20837, 4]) torch.Size([1, 5209, 2]) torch.Size([1, 5209, 4])\n",
      "torch.Size([1, 5209, 4])\n",
      "val_loss =  0.07912498\n",
      "-----------------------------------------------------------------------\n"
     ]
    },
    {
     "data": {
      "application/vnd.jupyter.widget-view+json": {
       "model_id": "32fa8234d72b4b73982d34f27bec47ca",
       "version_major": 2,
       "version_minor": 0
      },
      "text/plain": [
       "  0%|          | 0/53 [00:00<?, ?it/s]"
      ]
     },
     "metadata": {},
     "output_type": "display_data"
    },
    {
     "name": "stdout",
     "output_type": "stream",
     "text": [
      "25\n",
      "ELBO train_loss -2.390800134190973\n",
      "mse train_loss 0.0005487725308894198\n",
      "torch.Size([1, 20837, 2]) torch.Size([1, 20837, 4]) torch.Size([1, 5209, 2]) torch.Size([1, 5209, 4])\n",
      "torch.Size([1, 5209, 4])\n",
      "val_loss =  0.041973863\n",
      "-----------------------------------------------------------------------\n"
     ]
    },
    {
     "data": {
      "application/vnd.jupyter.widget-view+json": {
       "model_id": "9b246001f5b24b7684e463caf3add12a",
       "version_major": 2,
       "version_minor": 0
      },
      "text/plain": [
       "  0%|          | 0/53 [00:00<?, ?it/s]"
      ]
     },
     "metadata": {},
     "output_type": "display_data"
    },
    {
     "name": "stdout",
     "output_type": "stream",
     "text": [
      "26\n",
      "ELBO train_loss -2.430025378488145\n",
      "mse train_loss 0.0004925897371305047\n",
      "torch.Size([1, 20837, 2]) torch.Size([1, 20837, 4]) torch.Size([1, 5209, 2]) torch.Size([1, 5209, 4])\n",
      "torch.Size([1, 5209, 4])\n",
      "val_loss =  0.08228272\n",
      "-----------------------------------------------------------------------\n"
     ]
    },
    {
     "data": {
      "application/vnd.jupyter.widget-view+json": {
       "model_id": "1d8e35c6b33d46f9bf2ba9f24bdba017",
       "version_major": 2,
       "version_minor": 0
      },
      "text/plain": [
       "  0%|          | 0/53 [00:00<?, ?it/s]"
      ]
     },
     "metadata": {},
     "output_type": "display_data"
    },
    {
     "name": "stdout",
     "output_type": "stream",
     "text": [
      "27\n",
      "ELBO train_loss -2.38328251973638\n",
      "mse train_loss 0.0005532702203743371\n",
      "torch.Size([1, 20837, 2]) torch.Size([1, 20837, 4]) torch.Size([1, 5209, 2]) torch.Size([1, 5209, 4])\n",
      "torch.Size([1, 5209, 4])\n",
      "val_loss =  0.033492282\n",
      "-----------------------------------------------------------------------\n"
     ]
    },
    {
     "data": {
      "application/vnd.jupyter.widget-view+json": {
       "model_id": "13c5254c420f4804aa39224a9ed8c995",
       "version_major": 2,
       "version_minor": 0
      },
      "text/plain": [
       "  0%|          | 0/53 [00:00<?, ?it/s]"
      ]
     },
     "metadata": {},
     "output_type": "display_data"
    },
    {
     "name": "stdout",
     "output_type": "stream",
     "text": [
      "28\n",
      "ELBO train_loss -2.4689285459945784\n",
      "mse train_loss 0.0004639147540866309\n",
      "torch.Size([1, 20837, 2]) torch.Size([1, 20837, 4]) torch.Size([1, 5209, 2]) torch.Size([1, 5209, 4])\n",
      "torch.Size([1, 5209, 4])\n",
      "val_loss =  0.10504768\n",
      "-----------------------------------------------------------------------\n"
     ]
    },
    {
     "data": {
      "application/vnd.jupyter.widget-view+json": {
       "model_id": "4a59df54c6ce401fa9e168a7e588c8ab",
       "version_major": 2,
       "version_minor": 0
      },
      "text/plain": [
       "  0%|          | 0/53 [00:00<?, ?it/s]"
      ]
     },
     "metadata": {},
     "output_type": "display_data"
    },
    {
     "name": "stdout",
     "output_type": "stream",
     "text": [
      "29\n",
      "ELBO train_loss -2.424550913414865\n",
      "mse train_loss 0.0005527803825899818\n",
      "torch.Size([1, 20837, 2]) torch.Size([1, 20837, 4]) torch.Size([1, 5209, 2]) torch.Size([1, 5209, 4])\n",
      "torch.Size([1, 5209, 4])\n",
      "val_loss =  0.044320457\n",
      "-----------------------------------------------------------------------\n"
     ]
    },
    {
     "data": {
      "application/vnd.jupyter.widget-view+json": {
       "model_id": "435354e33a4845c9881952d064769681",
       "version_major": 2,
       "version_minor": 0
      },
      "text/plain": [
       "  0%|          | 0/53 [00:00<?, ?it/s]"
      ]
     },
     "metadata": {},
     "output_type": "display_data"
    },
    {
     "name": "stdout",
     "output_type": "stream",
     "text": [
      "30\n",
      "ELBO train_loss -2.5484791251848327\n",
      "mse train_loss 0.00045219865734117846\n",
      "torch.Size([1, 20837, 2]) torch.Size([1, 20837, 4]) torch.Size([1, 5209, 2]) torch.Size([1, 5209, 4])\n",
      "torch.Size([1, 5209, 4])\n",
      "val_loss =  0.035357434\n",
      "-----------------------------------------------------------------------\n"
     ]
    },
    {
     "data": {
      "application/vnd.jupyter.widget-view+json": {
       "model_id": "b06ff3054038442fa0c00372620e9907",
       "version_major": 2,
       "version_minor": 0
      },
      "text/plain": [
       "  0%|          | 0/53 [00:00<?, ?it/s]"
      ]
     },
     "metadata": {},
     "output_type": "display_data"
    },
    {
     "name": "stdout",
     "output_type": "stream",
     "text": [
      "31\n",
      "ELBO train_loss -2.5804037328036324\n",
      "mse train_loss 0.00045931464245648314\n",
      "torch.Size([1, 20837, 2]) torch.Size([1, 20837, 4]) torch.Size([1, 5209, 2]) torch.Size([1, 5209, 4])\n",
      "torch.Size([1, 5209, 4])\n",
      "val_loss =  0.03848247\n",
      "-----------------------------------------------------------------------\n"
     ]
    },
    {
     "data": {
      "application/vnd.jupyter.widget-view+json": {
       "model_id": "08f65f18ceeb45bca3292be3012fbbbf",
       "version_major": 2,
       "version_minor": 0
      },
      "text/plain": [
       "  0%|          | 0/53 [00:00<?, ?it/s]"
      ]
     },
     "metadata": {},
     "output_type": "display_data"
    },
    {
     "name": "stdout",
     "output_type": "stream",
     "text": [
      "32\n",
      "ELBO train_loss -2.5648806758646696\n",
      "mse train_loss 0.0004816116152313661\n",
      "torch.Size([1, 20837, 2]) torch.Size([1, 20837, 4]) torch.Size([1, 5209, 2]) torch.Size([1, 5209, 4])\n",
      "torch.Size([1, 5209, 4])\n",
      "val_loss =  0.046441387\n",
      "-----------------------------------------------------------------------\n"
     ]
    },
    {
     "data": {
      "application/vnd.jupyter.widget-view+json": {
       "model_id": "71634c9ab2d8465da3a9c9c7f69762e8",
       "version_major": 2,
       "version_minor": 0
      },
      "text/plain": [
       "  0%|          | 0/53 [00:00<?, ?it/s]"
      ]
     },
     "metadata": {},
     "output_type": "display_data"
    },
    {
     "name": "stdout",
     "output_type": "stream",
     "text": [
      "33\n",
      "ELBO train_loss -2.5601606863849566\n",
      "mse train_loss 0.00045347760842216886\n",
      "torch.Size([1, 20837, 2]) torch.Size([1, 20837, 4]) torch.Size([1, 5209, 2]) torch.Size([1, 5209, 4])\n",
      "torch.Size([1, 5209, 4])\n",
      "val_loss =  0.06501396\n",
      "-----------------------------------------------------------------------\n"
     ]
    },
    {
     "data": {
      "application/vnd.jupyter.widget-view+json": {
       "model_id": "7a865d2d8300466d9fd50ad6c40b35c8",
       "version_major": 2,
       "version_minor": 0
      },
      "text/plain": [
       "  0%|          | 0/53 [00:00<?, ?it/s]"
      ]
     },
     "metadata": {},
     "output_type": "display_data"
    },
    {
     "name": "stdout",
     "output_type": "stream",
     "text": [
      "34\n",
      "ELBO train_loss -2.489996419762665\n",
      "mse train_loss 0.0004751663207502614\n",
      "torch.Size([1, 20837, 2]) torch.Size([1, 20837, 4]) torch.Size([1, 5209, 2]) torch.Size([1, 5209, 4])\n",
      "torch.Size([1, 5209, 4])\n",
      "val_loss =  0.06731669\n",
      "-----------------------------------------------------------------------\n"
     ]
    },
    {
     "data": {
      "application/vnd.jupyter.widget-view+json": {
       "model_id": "918c85f863314d4ebd71ad741fcc31bc",
       "version_major": 2,
       "version_minor": 0
      },
      "text/plain": [
       "  0%|          | 0/53 [00:00<?, ?it/s]"
      ]
     },
     "metadata": {},
     "output_type": "display_data"
    },
    {
     "name": "stdout",
     "output_type": "stream",
     "text": [
      "35\n",
      "ELBO train_loss -2.4873395056094765\n",
      "mse train_loss 0.0004947196787227613\n",
      "torch.Size([1, 20837, 2]) torch.Size([1, 20837, 4]) torch.Size([1, 5209, 2]) torch.Size([1, 5209, 4])\n",
      "torch.Size([1, 5209, 4])\n",
      "val_loss =  0.091746904\n",
      "-----------------------------------------------------------------------\n"
     ]
    },
    {
     "data": {
      "application/vnd.jupyter.widget-view+json": {
       "model_id": "d4a317a43cbd41e696f8d1dbd3aacd3c",
       "version_major": 2,
       "version_minor": 0
      },
      "text/plain": [
       "  0%|          | 0/53 [00:00<?, ?it/s]"
      ]
     },
     "metadata": {},
     "output_type": "display_data"
    },
    {
     "name": "stdout",
     "output_type": "stream",
     "text": [
      "36\n",
      "ELBO train_loss -2.4305238869954957\n",
      "mse train_loss 0.0005578509787809244\n",
      "torch.Size([1, 20837, 2]) torch.Size([1, 20837, 4]) torch.Size([1, 5209, 2]) torch.Size([1, 5209, 4])\n",
      "torch.Size([1, 5209, 4])\n",
      "val_loss =  0.04201887\n",
      "-----------------------------------------------------------------------\n"
     ]
    },
    {
     "data": {
      "application/vnd.jupyter.widget-view+json": {
       "model_id": "236887a70938450b8512f1f48b56c1c4",
       "version_major": 2,
       "version_minor": 0
      },
      "text/plain": [
       "  0%|          | 0/53 [00:00<?, ?it/s]"
      ]
     },
     "metadata": {},
     "output_type": "display_data"
    },
    {
     "name": "stdout",
     "output_type": "stream",
     "text": [
      "37\n",
      "ELBO train_loss -2.5489689853956117\n",
      "mse train_loss 0.0004704142744951653\n",
      "torch.Size([1, 20837, 2]) torch.Size([1, 20837, 4]) torch.Size([1, 5209, 2]) torch.Size([1, 5209, 4])\n",
      "torch.Size([1, 5209, 4])\n",
      "val_loss =  0.056978036\n",
      "-----------------------------------------------------------------------\n"
     ]
    },
    {
     "data": {
      "application/vnd.jupyter.widget-view+json": {
       "model_id": "87f3830835e2430da988ec2c2e951035",
       "version_major": 2,
       "version_minor": 0
      },
      "text/plain": [
       "  0%|          | 0/53 [00:00<?, ?it/s]"
      ]
     },
     "metadata": {},
     "output_type": "display_data"
    },
    {
     "name": "stdout",
     "output_type": "stream",
     "text": [
      "38\n",
      "ELBO train_loss -2.615879684124353\n",
      "mse train_loss 0.0004199807735858485\n",
      "torch.Size([1, 20837, 2]) torch.Size([1, 20837, 4]) torch.Size([1, 5209, 2]) torch.Size([1, 5209, 4])\n",
      "torch.Size([1, 5209, 4])\n",
      "val_loss =  0.030261366\n",
      "-----------------------------------------------------------------------\n"
     ]
    },
    {
     "data": {
      "application/vnd.jupyter.widget-view+json": {
       "model_id": "0506dd2e086a45958d9df5abdeb94cc0",
       "version_major": 2,
       "version_minor": 0
      },
      "text/plain": [
       "  0%|          | 0/53 [00:00<?, ?it/s]"
      ]
     },
     "metadata": {},
     "output_type": "display_data"
    },
    {
     "name": "stdout",
     "output_type": "stream",
     "text": [
      "39\n",
      "ELBO train_loss -2.6499106164248483\n",
      "mse train_loss 0.0004016833181080039\n",
      "torch.Size([1, 20837, 2]) torch.Size([1, 20837, 4]) torch.Size([1, 5209, 2]) torch.Size([1, 5209, 4])\n",
      "torch.Size([1, 5209, 4])\n",
      "val_loss =  0.022900581\n",
      "-----------------------------------------------------------------------\n"
     ]
    },
    {
     "data": {
      "application/vnd.jupyter.widget-view+json": {
       "model_id": "584ec162b69f41efb8feb78616df6200",
       "version_major": 2,
       "version_minor": 0
      },
      "text/plain": [
       "  0%|          | 0/53 [00:00<?, ?it/s]"
      ]
     },
     "metadata": {},
     "output_type": "display_data"
    },
    {
     "name": "stdout",
     "output_type": "stream",
     "text": [
      "40\n",
      "ELBO train_loss -2.528158480266355\n",
      "mse train_loss 0.0005401445853080213\n",
      "torch.Size([1, 20837, 2]) torch.Size([1, 20837, 4]) torch.Size([1, 5209, 2]) torch.Size([1, 5209, 4])\n",
      "torch.Size([1, 5209, 4])\n",
      "val_loss =  0.06127004\n",
      "-----------------------------------------------------------------------\n"
     ]
    },
    {
     "data": {
      "application/vnd.jupyter.widget-view+json": {
       "model_id": "dd6a82e2fedd4856a7180c02f879a217",
       "version_major": 2,
       "version_minor": 0
      },
      "text/plain": [
       "  0%|          | 0/53 [00:00<?, ?it/s]"
      ]
     },
     "metadata": {},
     "output_type": "display_data"
    },
    {
     "name": "stdout",
     "output_type": "stream",
     "text": [
      "41\n",
      "ELBO train_loss -2.5456336579232848\n",
      "mse train_loss 0.0005359085724812072\n",
      "torch.Size([1, 20837, 2]) torch.Size([1, 20837, 4]) torch.Size([1, 5209, 2]) torch.Size([1, 5209, 4])\n",
      "torch.Size([1, 5209, 4])\n",
      "val_loss =  0.040983748\n",
      "-----------------------------------------------------------------------\n"
     ]
    },
    {
     "data": {
      "application/vnd.jupyter.widget-view+json": {
       "model_id": "e2068f4ac83a48d3ac17193a17f71978",
       "version_major": 2,
       "version_minor": 0
      },
      "text/plain": [
       "  0%|          | 0/53 [00:00<?, ?it/s]"
      ]
     },
     "metadata": {},
     "output_type": "display_data"
    },
    {
     "name": "stdout",
     "output_type": "stream",
     "text": [
      "42\n",
      "ELBO train_loss -2.6595204686218836\n",
      "mse train_loss 0.00042905151033510437\n",
      "torch.Size([1, 20837, 2]) torch.Size([1, 20837, 4]) torch.Size([1, 5209, 2]) torch.Size([1, 5209, 4])\n",
      "torch.Size([1, 5209, 4])\n",
      "val_loss =  0.019157488\n",
      "-----------------------------------------------------------------------\n"
     ]
    },
    {
     "data": {
      "application/vnd.jupyter.widget-view+json": {
       "model_id": "21461e4b9ed8424aa52599b3d89eae44",
       "version_major": 2,
       "version_minor": 0
      },
      "text/plain": [
       "  0%|          | 0/53 [00:00<?, ?it/s]"
      ]
     },
     "metadata": {},
     "output_type": "display_data"
    },
    {
     "name": "stdout",
     "output_type": "stream",
     "text": [
      "43\n",
      "ELBO train_loss -2.6776152984151302\n",
      "mse train_loss 0.0004062995656156245\n",
      "torch.Size([1, 20837, 2]) torch.Size([1, 20837, 4]) torch.Size([1, 5209, 2]) torch.Size([1, 5209, 4])\n",
      "torch.Size([1, 5209, 4])\n",
      "val_loss =  0.023120705\n",
      "-----------------------------------------------------------------------\n"
     ]
    },
    {
     "data": {
      "application/vnd.jupyter.widget-view+json": {
       "model_id": "fccf0027ff3841a68f40936830eecd39",
       "version_major": 2,
       "version_minor": 0
      },
      "text/plain": [
       "  0%|          | 0/53 [00:00<?, ?it/s]"
      ]
     },
     "metadata": {},
     "output_type": "display_data"
    },
    {
     "name": "stdout",
     "output_type": "stream",
     "text": [
      "44\n",
      "ELBO train_loss -2.6051556366794513\n",
      "mse train_loss 0.00042995634018707106\n",
      "torch.Size([1, 20837, 2]) torch.Size([1, 20837, 4]) torch.Size([1, 5209, 2]) torch.Size([1, 5209, 4])\n",
      "torch.Size([1, 5209, 4])\n",
      "val_loss =  0.04497247\n",
      "-----------------------------------------------------------------------\n"
     ]
    },
    {
     "data": {
      "application/vnd.jupyter.widget-view+json": {
       "model_id": "0135d6d49bbd49f4be6876cb8182e86c",
       "version_major": 2,
       "version_minor": 0
      },
      "text/plain": [
       "  0%|          | 0/53 [00:00<?, ?it/s]"
      ]
     },
     "metadata": {},
     "output_type": "display_data"
    },
    {
     "name": "stdout",
     "output_type": "stream",
     "text": [
      "45\n",
      "ELBO train_loss -2.621221276949037\n",
      "mse train_loss 0.00044986148247328357\n",
      "torch.Size([1, 20837, 2]) torch.Size([1, 20837, 4]) torch.Size([1, 5209, 2]) torch.Size([1, 5209, 4])\n",
      "torch.Size([1, 5209, 4])\n",
      "val_loss =  0.023434158\n",
      "-----------------------------------------------------------------------\n"
     ]
    },
    {
     "data": {
      "application/vnd.jupyter.widget-view+json": {
       "model_id": "f2deceb935b146c6b03993bd96f1060e",
       "version_major": 2,
       "version_minor": 0
      },
      "text/plain": [
       "  0%|          | 0/53 [00:00<?, ?it/s]"
      ]
     },
     "metadata": {},
     "output_type": "display_data"
    },
    {
     "name": "stdout",
     "output_type": "stream",
     "text": [
      "46\n",
      "ELBO train_loss -2.656302185553425\n",
      "mse train_loss 0.0004336328974942554\n",
      "torch.Size([1, 20837, 2]) torch.Size([1, 20837, 4]) torch.Size([1, 5209, 2]) torch.Size([1, 5209, 4])\n",
      "torch.Size([1, 5209, 4])\n",
      "val_loss =  0.038297594\n",
      "-----------------------------------------------------------------------\n"
     ]
    },
    {
     "data": {
      "application/vnd.jupyter.widget-view+json": {
       "model_id": "3c5fcce4339943daa6807791aad3923e",
       "version_major": 2,
       "version_minor": 0
      },
      "text/plain": [
       "  0%|          | 0/53 [00:00<?, ?it/s]"
      ]
     },
     "metadata": {},
     "output_type": "display_data"
    },
    {
     "name": "stdout",
     "output_type": "stream",
     "text": [
      "47\n",
      "ELBO train_loss -2.65714352985598\n",
      "mse train_loss 0.000435002778551348\n",
      "torch.Size([1, 20837, 2]) torch.Size([1, 20837, 4]) torch.Size([1, 5209, 2]) torch.Size([1, 5209, 4])\n",
      "torch.Size([1, 5209, 4])\n",
      "val_loss =  0.03259304\n",
      "-----------------------------------------------------------------------\n"
     ]
    },
    {
     "data": {
      "application/vnd.jupyter.widget-view+json": {
       "model_id": "e88d674dc34c4accb02336b83418fd27",
       "version_major": 2,
       "version_minor": 0
      },
      "text/plain": [
       "  0%|          | 0/53 [00:00<?, ?it/s]"
      ]
     },
     "metadata": {},
     "output_type": "display_data"
    },
    {
     "name": "stdout",
     "output_type": "stream",
     "text": [
      "48\n",
      "ELBO train_loss -2.6733519198759548\n",
      "mse train_loss 0.0004252419361673331\n",
      "torch.Size([1, 20837, 2]) torch.Size([1, 20837, 4]) torch.Size([1, 5209, 2]) torch.Size([1, 5209, 4])\n",
      "torch.Size([1, 5209, 4])\n",
      "val_loss =  0.021271918\n",
      "-----------------------------------------------------------------------\n"
     ]
    },
    {
     "data": {
      "application/vnd.jupyter.widget-view+json": {
       "model_id": "a043c9deecb848e0a6732df07b7c8f84",
       "version_major": 2,
       "version_minor": 0
      },
      "text/plain": [
       "  0%|          | 0/53 [00:00<?, ?it/s]"
      ]
     },
     "metadata": {},
     "output_type": "display_data"
    },
    {
     "name": "stdout",
     "output_type": "stream",
     "text": [
      "49\n",
      "ELBO train_loss -2.699694311843728\n",
      "mse train_loss 0.00041466848683139343\n",
      "torch.Size([1, 20837, 2]) torch.Size([1, 20837, 4]) torch.Size([1, 5209, 2]) torch.Size([1, 5209, 4])\n",
      "torch.Size([1, 5209, 4])\n",
      "val_loss =  0.029299356\n",
      "-----------------------------------------------------------------------\n"
     ]
    },
    {
     "data": {
      "application/vnd.jupyter.widget-view+json": {
       "model_id": "0f11d426450c4657aa801d4efe12026d",
       "version_major": 2,
       "version_minor": 0
      },
      "text/plain": [
       "  0%|          | 0/53 [00:00<?, ?it/s]"
      ]
     },
     "metadata": {},
     "output_type": "display_data"
    },
    {
     "name": "stdout",
     "output_type": "stream",
     "text": [
      "50\n",
      "ELBO train_loss -2.7149279162568867\n",
      "mse train_loss 0.00041957082636522584\n",
      "torch.Size([1, 20837, 2]) torch.Size([1, 20837, 4]) torch.Size([1, 5209, 2]) torch.Size([1, 5209, 4])\n",
      "torch.Size([1, 5209, 4])\n",
      "val_loss =  0.01916606\n",
      "-----------------------------------------------------------------------\n"
     ]
    },
    {
     "data": {
      "application/vnd.jupyter.widget-view+json": {
       "model_id": "4a3c19dc76da41cdb9ba775fdac7cd7e",
       "version_major": 2,
       "version_minor": 0
      },
      "text/plain": [
       "  0%|          | 0/53 [00:00<?, ?it/s]"
      ]
     },
     "metadata": {},
     "output_type": "display_data"
    },
    {
     "name": "stdout",
     "output_type": "stream",
     "text": [
      "51\n",
      "ELBO train_loss -2.6869465213901593\n",
      "mse train_loss 0.000436896316318351\n",
      "torch.Size([1, 20837, 2]) torch.Size([1, 20837, 4]) torch.Size([1, 5209, 2]) torch.Size([1, 5209, 4])\n",
      "torch.Size([1, 5209, 4])\n",
      "val_loss =  0.042730946\n",
      "-----------------------------------------------------------------------\n"
     ]
    },
    {
     "data": {
      "application/vnd.jupyter.widget-view+json": {
       "model_id": "cef71f90e714482c85ee2227826608ff",
       "version_major": 2,
       "version_minor": 0
      },
      "text/plain": [
       "  0%|          | 0/53 [00:00<?, ?it/s]"
      ]
     },
     "metadata": {},
     "output_type": "display_data"
    },
    {
     "name": "stdout",
     "output_type": "stream",
     "text": [
      "52\n",
      "ELBO train_loss -2.687530022747112\n",
      "mse train_loss 0.00041985670313291813\n",
      "torch.Size([1, 20837, 2]) torch.Size([1, 20837, 4]) torch.Size([1, 5209, 2]) torch.Size([1, 5209, 4])\n",
      "torch.Size([1, 5209, 4])\n",
      "val_loss =  0.035137452\n",
      "-----------------------------------------------------------------------\n"
     ]
    },
    {
     "data": {
      "application/vnd.jupyter.widget-view+json": {
       "model_id": "ded18f40b22a4c4c9ed6a8ba1a1914a0",
       "version_major": 2,
       "version_minor": 0
      },
      "text/plain": [
       "  0%|          | 0/53 [00:00<?, ?it/s]"
      ]
     },
     "metadata": {},
     "output_type": "display_data"
    },
    {
     "name": "stdout",
     "output_type": "stream",
     "text": [
      "53\n",
      "ELBO train_loss -2.7307794004116417\n",
      "mse train_loss 0.00040168261961607296\n",
      "torch.Size([1, 20837, 2]) torch.Size([1, 20837, 4]) torch.Size([1, 5209, 2]) torch.Size([1, 5209, 4])\n",
      "torch.Size([1, 5209, 4])\n",
      "val_loss =  0.029165657\n",
      "-----------------------------------------------------------------------\n"
     ]
    },
    {
     "data": {
      "application/vnd.jupyter.widget-view+json": {
       "model_id": "0bf079724ea8468f9f21947af9911d78",
       "version_major": 2,
       "version_minor": 0
      },
      "text/plain": [
       "  0%|          | 0/53 [00:00<?, ?it/s]"
      ]
     },
     "metadata": {},
     "output_type": "display_data"
    },
    {
     "name": "stdout",
     "output_type": "stream",
     "text": [
      "54\n",
      "ELBO train_loss -2.680409980270098\n",
      "mse train_loss 0.0004477554364986542\n",
      "torch.Size([1, 20837, 2]) torch.Size([1, 20837, 4]) torch.Size([1, 5209, 2]) torch.Size([1, 5209, 4])\n",
      "torch.Size([1, 5209, 4])\n",
      "val_loss =  0.0464146\n",
      "-----------------------------------------------------------------------\n"
     ]
    },
    {
     "data": {
      "application/vnd.jupyter.widget-view+json": {
       "model_id": "4cd0dec78c4f470a8af55e6af500e139",
       "version_major": 2,
       "version_minor": 0
      },
      "text/plain": [
       "  0%|          | 0/53 [00:00<?, ?it/s]"
      ]
     },
     "metadata": {},
     "output_type": "display_data"
    },
    {
     "name": "stdout",
     "output_type": "stream",
     "text": [
      "55\n",
      "ELBO train_loss -2.7090913867050745\n",
      "mse train_loss 0.00042083312291651964\n",
      "torch.Size([1, 20837, 2]) torch.Size([1, 20837, 4]) torch.Size([1, 5209, 2]) torch.Size([1, 5209, 4])\n",
      "torch.Size([1, 5209, 4])\n",
      "val_loss =  0.024314495\n",
      "-----------------------------------------------------------------------\n"
     ]
    },
    {
     "data": {
      "application/vnd.jupyter.widget-view+json": {
       "model_id": "1947c7f541c245e0b9c96bc020f71213",
       "version_major": 2,
       "version_minor": 0
      },
      "text/plain": [
       "  0%|          | 0/53 [00:00<?, ?it/s]"
      ]
     },
     "metadata": {},
     "output_type": "display_data"
    },
    {
     "name": "stdout",
     "output_type": "stream",
     "text": [
      "56\n",
      "ELBO train_loss -2.677936758916333\n",
      "mse train_loss 0.0004227496458454725\n",
      "torch.Size([1, 20837, 2]) torch.Size([1, 20837, 4]) torch.Size([1, 5209, 2]) torch.Size([1, 5209, 4])\n",
      "torch.Size([1, 5209, 4])\n",
      "val_loss =  0.03771767\n",
      "-----------------------------------------------------------------------\n"
     ]
    },
    {
     "data": {
      "application/vnd.jupyter.widget-view+json": {
       "model_id": "3623601c5bc24367b4cb9bd4833f109b",
       "version_major": 2,
       "version_minor": 0
      },
      "text/plain": [
       "  0%|          | 0/53 [00:00<?, ?it/s]"
      ]
     },
     "metadata": {},
     "output_type": "display_data"
    },
    {
     "name": "stdout",
     "output_type": "stream",
     "text": [
      "57\n",
      "ELBO train_loss -2.6536983993818177\n",
      "mse train_loss 0.0004468771419268242\n",
      "torch.Size([1, 20837, 2]) torch.Size([1, 20837, 4]) torch.Size([1, 5209, 2]) torch.Size([1, 5209, 4])\n",
      "torch.Size([1, 5209, 4])\n",
      "val_loss =  0.02200252\n",
      "-----------------------------------------------------------------------\n"
     ]
    },
    {
     "data": {
      "application/vnd.jupyter.widget-view+json": {
       "model_id": "e2579e2b96124accac9292bb93e8e3b3",
       "version_major": 2,
       "version_minor": 0
      },
      "text/plain": [
       "  0%|          | 0/53 [00:00<?, ?it/s]"
      ]
     },
     "metadata": {},
     "output_type": "display_data"
    },
    {
     "name": "stdout",
     "output_type": "stream",
     "text": [
      "58\n",
      "ELBO train_loss -2.7148541661928283\n",
      "mse train_loss 0.0004258290839816426\n",
      "torch.Size([1, 20837, 2]) torch.Size([1, 20837, 4]) torch.Size([1, 5209, 2]) torch.Size([1, 5209, 4])\n",
      "torch.Size([1, 5209, 4])\n",
      "val_loss =  0.03446635\n",
      "-----------------------------------------------------------------------\n"
     ]
    },
    {
     "data": {
      "application/vnd.jupyter.widget-view+json": {
       "model_id": "f5aea2402eda49eca5a126d4a56adf43",
       "version_major": 2,
       "version_minor": 0
      },
      "text/plain": [
       "  0%|          | 0/53 [00:00<?, ?it/s]"
      ]
     },
     "metadata": {},
     "output_type": "display_data"
    },
    {
     "name": "stdout",
     "output_type": "stream",
     "text": [
      "59\n",
      "ELBO train_loss -2.739054468442809\n",
      "mse train_loss 0.0004042669186777137\n",
      "torch.Size([1, 20837, 2]) torch.Size([1, 20837, 4]) torch.Size([1, 5209, 2]) torch.Size([1, 5209, 4])\n",
      "torch.Size([1, 5209, 4])\n",
      "val_loss =  0.022941245\n",
      "-----------------------------------------------------------------------\n"
     ]
    },
    {
     "data": {
      "application/vnd.jupyter.widget-view+json": {
       "model_id": "813decfbb7de4dc197c34c3dba7ddd0c",
       "version_major": 2,
       "version_minor": 0
      },
      "text/plain": [
       "  0%|          | 0/53 [00:00<?, ?it/s]"
      ]
     },
     "metadata": {},
     "output_type": "display_data"
    },
    {
     "name": "stdout",
     "output_type": "stream",
     "text": [
      "60\n",
      "ELBO train_loss -2.746487257615575\n",
      "mse train_loss 0.000413771241822034\n",
      "torch.Size([1, 20837, 2]) torch.Size([1, 20837, 4]) torch.Size([1, 5209, 2]) torch.Size([1, 5209, 4])\n",
      "torch.Size([1, 5209, 4])\n",
      "val_loss =  0.024856444\n",
      "-----------------------------------------------------------------------\n"
     ]
    },
    {
     "data": {
      "application/vnd.jupyter.widget-view+json": {
       "model_id": "ede135ae9f8a4051a6619ff849550127",
       "version_major": 2,
       "version_minor": 0
      },
      "text/plain": [
       "  0%|          | 0/53 [00:00<?, ?it/s]"
      ]
     },
     "metadata": {},
     "output_type": "display_data"
    },
    {
     "name": "stdout",
     "output_type": "stream",
     "text": [
      "61\n",
      "ELBO train_loss -2.757738171883349\n",
      "mse train_loss 0.0003933089871491077\n",
      "torch.Size([1, 20837, 2]) torch.Size([1, 20837, 4]) torch.Size([1, 5209, 2]) torch.Size([1, 5209, 4])\n",
      "torch.Size([1, 5209, 4])\n",
      "val_loss =  0.018837165\n",
      "-----------------------------------------------------------------------\n"
     ]
    },
    {
     "data": {
      "application/vnd.jupyter.widget-view+json": {
       "model_id": "9885a695ee4d45b9891432070b1bf4a8",
       "version_major": 2,
       "version_minor": 0
      },
      "text/plain": [
       "  0%|          | 0/53 [00:00<?, ?it/s]"
      ]
     },
     "metadata": {},
     "output_type": "display_data"
    },
    {
     "name": "stdout",
     "output_type": "stream",
     "text": [
      "62\n",
      "ELBO train_loss -2.694187841325436\n",
      "mse train_loss 0.0004144069699697934\n",
      "torch.Size([1, 20837, 2]) torch.Size([1, 20837, 4]) torch.Size([1, 5209, 2]) torch.Size([1, 5209, 4])\n",
      "torch.Size([1, 5209, 4])\n",
      "val_loss =  0.03046815\n",
      "-----------------------------------------------------------------------\n"
     ]
    },
    {
     "data": {
      "application/vnd.jupyter.widget-view+json": {
       "model_id": "581983d408a0409bb5f5db3bcdc165d3",
       "version_major": 2,
       "version_minor": 0
      },
      "text/plain": [
       "  0%|          | 0/53 [00:00<?, ?it/s]"
      ]
     },
     "metadata": {},
     "output_type": "display_data"
    },
    {
     "name": "stdout",
     "output_type": "stream",
     "text": [
      "63\n",
      "ELBO train_loss -2.7353887827891223\n",
      "mse train_loss 0.00041874260960129213\n",
      "torch.Size([1, 20837, 2]) torch.Size([1, 20837, 4]) torch.Size([1, 5209, 2]) torch.Size([1, 5209, 4])\n",
      "torch.Size([1, 5209, 4])\n",
      "val_loss =  0.037382655\n",
      "-----------------------------------------------------------------------\n"
     ]
    },
    {
     "data": {
      "application/vnd.jupyter.widget-view+json": {
       "model_id": "d8c1dadbbdb84ea1b52abff16b0ee928",
       "version_major": 2,
       "version_minor": 0
      },
      "text/plain": [
       "  0%|          | 0/53 [00:00<?, ?it/s]"
      ]
     },
     "metadata": {},
     "output_type": "display_data"
    },
    {
     "name": "stdout",
     "output_type": "stream",
     "text": [
      "64\n",
      "ELBO train_loss -2.6715808162149393\n",
      "mse train_loss 0.0004453679045908294\n",
      "torch.Size([1, 20837, 2]) torch.Size([1, 20837, 4]) torch.Size([1, 5209, 2]) torch.Size([1, 5209, 4])\n",
      "torch.Size([1, 5209, 4])\n",
      "val_loss =  0.03245331\n",
      "-----------------------------------------------------------------------\n"
     ]
    },
    {
     "data": {
      "application/vnd.jupyter.widget-view+json": {
       "model_id": "08ea26ed5d0b44db8f7e67e121044e9d",
       "version_major": 2,
       "version_minor": 0
      },
      "text/plain": [
       "  0%|          | 0/53 [00:00<?, ?it/s]"
      ]
     },
     "metadata": {},
     "output_type": "display_data"
    },
    {
     "name": "stdout",
     "output_type": "stream",
     "text": [
      "65\n",
      "ELBO train_loss -2.673145244706352\n",
      "mse train_loss 0.0004481890448588737\n",
      "torch.Size([1, 20837, 2]) torch.Size([1, 20837, 4]) torch.Size([1, 5209, 2]) torch.Size([1, 5209, 4])\n",
      "torch.Size([1, 5209, 4])\n",
      "val_loss =  0.034287553\n",
      "-----------------------------------------------------------------------\n"
     ]
    },
    {
     "data": {
      "application/vnd.jupyter.widget-view+json": {
       "model_id": "d8b890ef825f45d7ba06fb097cac57a3",
       "version_major": 2,
       "version_minor": 0
      },
      "text/plain": [
       "  0%|          | 0/53 [00:00<?, ?it/s]"
      ]
     },
     "metadata": {},
     "output_type": "display_data"
    },
    {
     "name": "stdout",
     "output_type": "stream",
     "text": [
      "66\n",
      "ELBO train_loss -2.7123975950591968\n",
      "mse train_loss 0.0004237311426001021\n",
      "torch.Size([1, 20837, 2]) torch.Size([1, 20837, 4]) torch.Size([1, 5209, 2]) torch.Size([1, 5209, 4])\n",
      "torch.Size([1, 5209, 4])\n",
      "val_loss =  0.038316306\n",
      "-----------------------------------------------------------------------\n"
     ]
    },
    {
     "data": {
      "application/vnd.jupyter.widget-view+json": {
       "model_id": "f21ca39733dd4dd5a481891b51638441",
       "version_major": 2,
       "version_minor": 0
      },
      "text/plain": [
       "  0%|          | 0/53 [00:00<?, ?it/s]"
      ]
     },
     "metadata": {},
     "output_type": "display_data"
    },
    {
     "name": "stdout",
     "output_type": "stream",
     "text": [
      "67\n",
      "ELBO train_loss -2.7266859535901053\n",
      "mse train_loss 0.00043082604995260963\n",
      "torch.Size([1, 20837, 2]) torch.Size([1, 20837, 4]) torch.Size([1, 5209, 2]) torch.Size([1, 5209, 4])\n",
      "torch.Size([1, 5209, 4])\n",
      "val_loss =  0.028997213\n",
      "-----------------------------------------------------------------------\n"
     ]
    },
    {
     "data": {
      "application/vnd.jupyter.widget-view+json": {
       "model_id": "d021f464d669424db9c3520f8f5f6c90",
       "version_major": 2,
       "version_minor": 0
      },
      "text/plain": [
       "  0%|          | 0/53 [00:00<?, ?it/s]"
      ]
     },
     "metadata": {},
     "output_type": "display_data"
    },
    {
     "name": "stdout",
     "output_type": "stream",
     "text": [
      "68\n",
      "ELBO train_loss -2.717068853243342\n",
      "mse train_loss 0.00044031320375891156\n",
      "torch.Size([1, 20837, 2]) torch.Size([1, 20837, 4]) torch.Size([1, 5209, 2]) torch.Size([1, 5209, 4])\n",
      "torch.Size([1, 5209, 4])\n",
      "val_loss =  0.04022708\n",
      "-----------------------------------------------------------------------\n"
     ]
    },
    {
     "data": {
      "application/vnd.jupyter.widget-view+json": {
       "model_id": "6115151061fd440e8fed4cc4707d70fa",
       "version_major": 2,
       "version_minor": 0
      },
      "text/plain": [
       "  0%|          | 0/53 [00:00<?, ?it/s]"
      ]
     },
     "metadata": {},
     "output_type": "display_data"
    },
    {
     "name": "stdout",
     "output_type": "stream",
     "text": [
      "69\n",
      "ELBO train_loss -2.6871960590470514\n",
      "mse train_loss 0.0004290330104578181\n",
      "torch.Size([1, 20837, 2]) torch.Size([1, 20837, 4]) torch.Size([1, 5209, 2]) torch.Size([1, 5209, 4])\n",
      "torch.Size([1, 5209, 4])\n",
      "val_loss =  0.032693528\n",
      "-----------------------------------------------------------------------\n"
     ]
    },
    {
     "data": {
      "application/vnd.jupyter.widget-view+json": {
       "model_id": "f7c4db03f2a04300ad069ac460c392e0",
       "version_major": 2,
       "version_minor": 0
      },
      "text/plain": [
       "  0%|          | 0/53 [00:00<?, ?it/s]"
      ]
     },
     "metadata": {},
     "output_type": "display_data"
    },
    {
     "name": "stdout",
     "output_type": "stream",
     "text": [
      "70\n",
      "ELBO train_loss -2.7596108823452354\n",
      "mse train_loss 0.0004100055367365163\n",
      "torch.Size([1, 20837, 2]) torch.Size([1, 20837, 4]) torch.Size([1, 5209, 2]) torch.Size([1, 5209, 4])\n",
      "torch.Size([1, 5209, 4])\n",
      "val_loss =  0.027789975\n",
      "-----------------------------------------------------------------------\n"
     ]
    },
    {
     "data": {
      "application/vnd.jupyter.widget-view+json": {
       "model_id": "838899be371a4c0b8f6601b0839626a3",
       "version_major": 2,
       "version_minor": 0
      },
      "text/plain": [
       "  0%|          | 0/53 [00:00<?, ?it/s]"
      ]
     },
     "metadata": {},
     "output_type": "display_data"
    },
    {
     "name": "stdout",
     "output_type": "stream",
     "text": [
      "71\n",
      "ELBO train_loss -2.7535473175768583\n",
      "mse train_loss 0.0004133255185805402\n",
      "torch.Size([1, 20837, 2]) torch.Size([1, 20837, 4]) torch.Size([1, 5209, 2]) torch.Size([1, 5209, 4])\n",
      "torch.Size([1, 5209, 4])\n",
      "val_loss =  0.027227316\n",
      "-----------------------------------------------------------------------\n"
     ]
    },
    {
     "data": {
      "application/vnd.jupyter.widget-view+json": {
       "model_id": "02f75eeed1b249b499a26e7ed7a13b5f",
       "version_major": 2,
       "version_minor": 0
      },
      "text/plain": [
       "  0%|          | 0/53 [00:00<?, ?it/s]"
      ]
     },
     "metadata": {},
     "output_type": "display_data"
    },
    {
     "name": "stdout",
     "output_type": "stream",
     "text": [
      "72\n",
      "ELBO train_loss -2.7557513084051743\n",
      "mse train_loss 0.0004112909203131666\n",
      "torch.Size([1, 20837, 2]) torch.Size([1, 20837, 4]) torch.Size([1, 5209, 2]) torch.Size([1, 5209, 4])\n",
      "torch.Size([1, 5209, 4])\n",
      "val_loss =  0.022256583\n",
      "-----------------------------------------------------------------------\n"
     ]
    },
    {
     "data": {
      "application/vnd.jupyter.widget-view+json": {
       "model_id": "10c88083d1294408b57db76d3d368da6",
       "version_major": 2,
       "version_minor": 0
      },
      "text/plain": [
       "  0%|          | 0/53 [00:00<?, ?it/s]"
      ]
     },
     "metadata": {},
     "output_type": "display_data"
    },
    {
     "name": "stdout",
     "output_type": "stream",
     "text": [
      "73\n",
      "ELBO train_loss -2.791561976918634\n",
      "mse train_loss 0.00039038426579933894\n",
      "torch.Size([1, 20837, 2]) torch.Size([1, 20837, 4]) torch.Size([1, 5209, 2]) torch.Size([1, 5209, 4])\n",
      "torch.Size([1, 5209, 4])\n",
      "val_loss =  0.022633737\n",
      "-----------------------------------------------------------------------\n"
     ]
    },
    {
     "data": {
      "application/vnd.jupyter.widget-view+json": {
       "model_id": "db53d83f5f6f466e87785eb670299af9",
       "version_major": 2,
       "version_minor": 0
      },
      "text/plain": [
       "  0%|          | 0/53 [00:00<?, ?it/s]"
      ]
     },
     "metadata": {},
     "output_type": "display_data"
    },
    {
     "name": "stdout",
     "output_type": "stream",
     "text": [
      "74\n",
      "ELBO train_loss -2.77646171596815\n",
      "mse train_loss 0.00040031644133499487\n",
      "torch.Size([1, 20837, 2]) torch.Size([1, 20837, 4]) torch.Size([1, 5209, 2]) torch.Size([1, 5209, 4])\n",
      "torch.Size([1, 5209, 4])\n",
      "val_loss =  0.024538416\n",
      "-----------------------------------------------------------------------\n"
     ]
    },
    {
     "data": {
      "application/vnd.jupyter.widget-view+json": {
       "model_id": "7f7ff3247209460086c24533444154e6",
       "version_major": 2,
       "version_minor": 0
      },
      "text/plain": [
       "  0%|          | 0/53 [00:00<?, ?it/s]"
      ]
     },
     "metadata": {},
     "output_type": "display_data"
    },
    {
     "name": "stdout",
     "output_type": "stream",
     "text": [
      "75\n",
      "ELBO train_loss -2.7674157799414867\n",
      "mse train_loss 0.0004014619579428877\n",
      "torch.Size([1, 20837, 2]) torch.Size([1, 20837, 4]) torch.Size([1, 5209, 2]) torch.Size([1, 5209, 4])\n",
      "torch.Size([1, 5209, 4])\n",
      "val_loss =  0.024063416\n",
      "-----------------------------------------------------------------------\n"
     ]
    },
    {
     "data": {
      "application/vnd.jupyter.widget-view+json": {
       "model_id": "bdc87eb7338144cbba5b2b59a82913e7",
       "version_major": 2,
       "version_minor": 0
      },
      "text/plain": [
       "  0%|          | 0/53 [00:00<?, ?it/s]"
      ]
     },
     "metadata": {},
     "output_type": "display_data"
    },
    {
     "name": "stdout",
     "output_type": "stream",
     "text": [
      "76\n",
      "ELBO train_loss -2.7981077500109404\n",
      "mse train_loss 0.00038419249313795625\n",
      "torch.Size([1, 20837, 2]) torch.Size([1, 20837, 4]) torch.Size([1, 5209, 2]) torch.Size([1, 5209, 4])\n",
      "torch.Size([1, 5209, 4])\n",
      "val_loss =  0.01521877\n",
      "-----------------------------------------------------------------------\n"
     ]
    },
    {
     "data": {
      "application/vnd.jupyter.widget-view+json": {
       "model_id": "4eb27c0838b3426eaec22f744313d786",
       "version_major": 2,
       "version_minor": 0
      },
      "text/plain": [
       "  0%|          | 0/53 [00:00<?, ?it/s]"
      ]
     },
     "metadata": {},
     "output_type": "display_data"
    },
    {
     "name": "stdout",
     "output_type": "stream",
     "text": [
      "77\n",
      "ELBO train_loss -2.7856735238489114\n",
      "mse train_loss 0.00040269532363932086\n",
      "torch.Size([1, 20837, 2]) torch.Size([1, 20837, 4]) torch.Size([1, 5209, 2]) torch.Size([1, 5209, 4])\n",
      "torch.Size([1, 5209, 4])\n",
      "val_loss =  0.035567947\n",
      "-----------------------------------------------------------------------\n"
     ]
    },
    {
     "data": {
      "application/vnd.jupyter.widget-view+json": {
       "model_id": "3c9f9b57940f479795ccfe7d5911ceaf",
       "version_major": 2,
       "version_minor": 0
      },
      "text/plain": [
       "  0%|          | 0/53 [00:00<?, ?it/s]"
      ]
     },
     "metadata": {},
     "output_type": "display_data"
    },
    {
     "name": "stdout",
     "output_type": "stream",
     "text": [
      "78\n",
      "ELBO train_loss -2.779385994065483\n",
      "mse train_loss 0.00038891323383036507\n",
      "torch.Size([1, 20837, 2]) torch.Size([1, 20837, 4]) torch.Size([1, 5209, 2]) torch.Size([1, 5209, 4])\n",
      "torch.Size([1, 5209, 4])\n",
      "val_loss =  0.029989\n",
      "-----------------------------------------------------------------------\n"
     ]
    },
    {
     "data": {
      "application/vnd.jupyter.widget-view+json": {
       "model_id": "aa774cbcbfef4cbca88a84021258cbba",
       "version_major": 2,
       "version_minor": 0
      },
      "text/plain": [
       "  0%|          | 0/53 [00:00<?, ?it/s]"
      ]
     },
     "metadata": {},
     "output_type": "display_data"
    },
    {
     "name": "stdout",
     "output_type": "stream",
     "text": [
      "79\n",
      "ELBO train_loss -2.76929830605129\n",
      "mse train_loss 0.0004105641573056895\n",
      "torch.Size([1, 20837, 2]) torch.Size([1, 20837, 4]) torch.Size([1, 5209, 2]) torch.Size([1, 5209, 4])\n",
      "torch.Size([1, 5209, 4])\n",
      "val_loss =  0.036931884\n",
      "-----------------------------------------------------------------------\n"
     ]
    },
    {
     "data": {
      "application/vnd.jupyter.widget-view+json": {
       "model_id": "23d3f50ba0f642fc9ef81d4ff7d05a9b",
       "version_major": 2,
       "version_minor": 0
      },
      "text/plain": [
       "  0%|          | 0/53 [00:00<?, ?it/s]"
      ]
     },
     "metadata": {},
     "output_type": "display_data"
    },
    {
     "name": "stdout",
     "output_type": "stream",
     "text": [
      "80\n",
      "ELBO train_loss -2.774078036254307\n",
      "mse train_loss 0.0004058765598357532\n",
      "torch.Size([1, 20837, 2]) torch.Size([1, 20837, 4]) torch.Size([1, 5209, 2]) torch.Size([1, 5209, 4])\n",
      "torch.Size([1, 5209, 4])\n",
      "val_loss =  0.02645277\n",
      "-----------------------------------------------------------------------\n"
     ]
    },
    {
     "data": {
      "application/vnd.jupyter.widget-view+json": {
       "model_id": "ebadb62338f1406b915f0759fe7acb9f",
       "version_major": 2,
       "version_minor": 0
      },
      "text/plain": [
       "  0%|          | 0/53 [00:00<?, ?it/s]"
      ]
     },
     "metadata": {},
     "output_type": "display_data"
    },
    {
     "name": "stdout",
     "output_type": "stream",
     "text": [
      "81\n",
      "ELBO train_loss -2.760878120953182\n",
      "mse train_loss 0.00041133613421203883\n",
      "torch.Size([1, 20837, 2]) torch.Size([1, 20837, 4]) torch.Size([1, 5209, 2]) torch.Size([1, 5209, 4])\n",
      "torch.Size([1, 5209, 4])\n",
      "val_loss =  0.057841524\n",
      "-----------------------------------------------------------------------\n"
     ]
    },
    {
     "data": {
      "application/vnd.jupyter.widget-view+json": {
       "model_id": "a8072a12e5594473b167c01c1721f5d8",
       "version_major": 2,
       "version_minor": 0
      },
      "text/plain": [
       "  0%|          | 0/53 [00:00<?, ?it/s]"
      ]
     },
     "metadata": {},
     "output_type": "display_data"
    },
    {
     "name": "stdout",
     "output_type": "stream",
     "text": [
      "82\n",
      "ELBO train_loss -2.7700484158857814\n",
      "mse train_loss 0.00040183970863922095\n",
      "torch.Size([1, 20837, 2]) torch.Size([1, 20837, 4]) torch.Size([1, 5209, 2]) torch.Size([1, 5209, 4])\n",
      "torch.Size([1, 5209, 4])\n",
      "val_loss =  0.03850194\n",
      "-----------------------------------------------------------------------\n"
     ]
    },
    {
     "data": {
      "application/vnd.jupyter.widget-view+json": {
       "model_id": "20bd91ee3eed40248d30e9d585834618",
       "version_major": 2,
       "version_minor": 0
      },
      "text/plain": [
       "  0%|          | 0/53 [00:00<?, ?it/s]"
      ]
     },
     "metadata": {},
     "output_type": "display_data"
    },
    {
     "name": "stdout",
     "output_type": "stream",
     "text": [
      "83\n",
      "ELBO train_loss -2.7686117550112166\n",
      "mse train_loss 0.0004162760918195588\n",
      "torch.Size([1, 20837, 2]) torch.Size([1, 20837, 4]) torch.Size([1, 5209, 2]) torch.Size([1, 5209, 4])\n",
      "torch.Size([1, 5209, 4])\n",
      "val_loss =  0.03277808\n",
      "-----------------------------------------------------------------------\n"
     ]
    },
    {
     "data": {
      "application/vnd.jupyter.widget-view+json": {
       "model_id": "4f43b226c43e4a2d9537a47c48fd3382",
       "version_major": 2,
       "version_minor": 0
      },
      "text/plain": [
       "  0%|          | 0/53 [00:00<?, ?it/s]"
      ]
     },
     "metadata": {},
     "output_type": "display_data"
    },
    {
     "name": "stdout",
     "output_type": "stream",
     "text": [
      "84\n",
      "ELBO train_loss -2.808971845878745\n",
      "mse train_loss 0.00040220505561249084\n",
      "torch.Size([1, 20837, 2]) torch.Size([1, 20837, 4]) torch.Size([1, 5209, 2]) torch.Size([1, 5209, 4])\n",
      "torch.Size([1, 5209, 4])\n",
      "val_loss =  0.01766633\n",
      "-----------------------------------------------------------------------\n"
     ]
    },
    {
     "data": {
      "application/vnd.jupyter.widget-view+json": {
       "model_id": "126b9434cccf403bb800584f7e72ada3",
       "version_major": 2,
       "version_minor": 0
      },
      "text/plain": [
       "  0%|          | 0/53 [00:00<?, ?it/s]"
      ]
     },
     "metadata": {},
     "output_type": "display_data"
    },
    {
     "name": "stdout",
     "output_type": "stream",
     "text": [
      "85\n",
      "ELBO train_loss -2.795418858528137\n",
      "mse train_loss 0.00041262902383130257\n",
      "torch.Size([1, 20837, 2]) torch.Size([1, 20837, 4]) torch.Size([1, 5209, 2]) torch.Size([1, 5209, 4])\n",
      "torch.Size([1, 5209, 4])\n",
      "val_loss =  0.02739082\n",
      "-----------------------------------------------------------------------\n"
     ]
    },
    {
     "data": {
      "application/vnd.jupyter.widget-view+json": {
       "model_id": "a0095c541d01425ebb966aec2f23ba69",
       "version_major": 2,
       "version_minor": 0
      },
      "text/plain": [
       "  0%|          | 0/53 [00:00<?, ?it/s]"
      ]
     },
     "metadata": {},
     "output_type": "display_data"
    },
    {
     "name": "stdout",
     "output_type": "stream",
     "text": [
      "86\n",
      "ELBO train_loss -2.7878275142525726\n",
      "mse train_loss 0.0003988187217026211\n",
      "torch.Size([1, 20837, 2]) torch.Size([1, 20837, 4]) torch.Size([1, 5209, 2]) torch.Size([1, 5209, 4])\n",
      "torch.Size([1, 5209, 4])\n",
      "val_loss =  0.022258848\n",
      "-----------------------------------------------------------------------\n"
     ]
    },
    {
     "data": {
      "application/vnd.jupyter.widget-view+json": {
       "model_id": "2e1bc7d1450140faa49dbddc03bba277",
       "version_major": 2,
       "version_minor": 0
      },
      "text/plain": [
       "  0%|          | 0/53 [00:00<?, ?it/s]"
      ]
     },
     "metadata": {},
     "output_type": "display_data"
    },
    {
     "name": "stdout",
     "output_type": "stream",
     "text": [
      "87\n",
      "ELBO train_loss -2.8032612800598145\n",
      "mse train_loss 0.00036440596735667224\n",
      "torch.Size([1, 20837, 2]) torch.Size([1, 20837, 4]) torch.Size([1, 5209, 2]) torch.Size([1, 5209, 4])\n",
      "torch.Size([1, 5209, 4])\n",
      "val_loss =  0.027568065\n",
      "-----------------------------------------------------------------------\n"
     ]
    },
    {
     "data": {
      "application/vnd.jupyter.widget-view+json": {
       "model_id": "0bd1823b7d2846859f93cabbd5e8d136",
       "version_major": 2,
       "version_minor": 0
      },
      "text/plain": [
       "  0%|          | 0/53 [00:00<?, ?it/s]"
      ]
     },
     "metadata": {},
     "output_type": "display_data"
    },
    {
     "name": "stdout",
     "output_type": "stream",
     "text": [
      "88\n",
      "ELBO train_loss -2.7971991840398536\n",
      "mse train_loss 0.0004009901326839408\n",
      "torch.Size([1, 20837, 2]) torch.Size([1, 20837, 4]) torch.Size([1, 5209, 2]) torch.Size([1, 5209, 4])\n",
      "torch.Size([1, 5209, 4])\n",
      "val_loss =  0.031396713\n",
      "-----------------------------------------------------------------------\n"
     ]
    },
    {
     "data": {
      "application/vnd.jupyter.widget-view+json": {
       "model_id": "a5aa8e3d29c340308de14028a3e746a5",
       "version_major": 2,
       "version_minor": 0
      },
      "text/plain": [
       "  0%|          | 0/53 [00:00<?, ?it/s]"
      ]
     },
     "metadata": {},
     "output_type": "display_data"
    },
    {
     "name": "stdout",
     "output_type": "stream",
     "text": [
      "89\n",
      "ELBO train_loss -2.8094387864166834\n",
      "mse train_loss 0.00037288515419997976\n",
      "torch.Size([1, 20837, 2]) torch.Size([1, 20837, 4]) torch.Size([1, 5209, 2]) torch.Size([1, 5209, 4])\n",
      "torch.Size([1, 5209, 4])\n",
      "val_loss =  0.022040673\n",
      "-----------------------------------------------------------------------\n"
     ]
    },
    {
     "data": {
      "application/vnd.jupyter.widget-view+json": {
       "model_id": "64d57f45e562428da8e53e9f429f8323",
       "version_major": 2,
       "version_minor": 0
      },
      "text/plain": [
       "  0%|          | 0/53 [00:00<?, ?it/s]"
      ]
     },
     "metadata": {},
     "output_type": "display_data"
    },
    {
     "name": "stdout",
     "output_type": "stream",
     "text": [
      "90\n",
      "ELBO train_loss -2.816300873486501\n",
      "mse train_loss 0.00038171893332751013\n",
      "torch.Size([1, 20837, 2]) torch.Size([1, 20837, 4]) torch.Size([1, 5209, 2]) torch.Size([1, 5209, 4])\n",
      "torch.Size([1, 5209, 4])\n",
      "val_loss =  0.035062887\n",
      "-----------------------------------------------------------------------\n"
     ]
    },
    {
     "data": {
      "application/vnd.jupyter.widget-view+json": {
       "model_id": "f4e3510db759439caee9a3d94773fc49",
       "version_major": 2,
       "version_minor": 0
      },
      "text/plain": [
       "  0%|          | 0/53 [00:00<?, ?it/s]"
      ]
     },
     "metadata": {},
     "output_type": "display_data"
    },
    {
     "name": "stdout",
     "output_type": "stream",
     "text": [
      "91\n",
      "ELBO train_loss -2.7893894033611946\n",
      "mse train_loss 0.00039151550752752163\n",
      "torch.Size([1, 20837, 2]) torch.Size([1, 20837, 4]) torch.Size([1, 5209, 2]) torch.Size([1, 5209, 4])\n",
      "torch.Size([1, 5209, 4])\n",
      "val_loss =  0.022891128\n",
      "-----------------------------------------------------------------------\n"
     ]
    },
    {
     "data": {
      "application/vnd.jupyter.widget-view+json": {
       "model_id": "4db419e336c946d0ba28df2923544fd6",
       "version_major": 2,
       "version_minor": 0
      },
      "text/plain": [
       "  0%|          | 0/53 [00:00<?, ?it/s]"
      ]
     },
     "metadata": {},
     "output_type": "display_data"
    },
    {
     "name": "stdout",
     "output_type": "stream",
     "text": [
      "92\n",
      "ELBO train_loss -2.7941895768327534\n",
      "mse train_loss 0.0004131938218257724\n",
      "torch.Size([1, 20837, 2]) torch.Size([1, 20837, 4]) torch.Size([1, 5209, 2]) torch.Size([1, 5209, 4])\n",
      "torch.Size([1, 5209, 4])\n",
      "val_loss =  0.034245074\n",
      "-----------------------------------------------------------------------\n"
     ]
    },
    {
     "data": {
      "application/vnd.jupyter.widget-view+json": {
       "model_id": "b7911e93178947dab8fafb188cab97c3",
       "version_major": 2,
       "version_minor": 0
      },
      "text/plain": [
       "  0%|          | 0/53 [00:00<?, ?it/s]"
      ]
     },
     "metadata": {},
     "output_type": "display_data"
    },
    {
     "name": "stdout",
     "output_type": "stream",
     "text": [
      "93\n",
      "ELBO train_loss -2.7984625348504983\n",
      "mse train_loss 0.0004021816465230483\n",
      "torch.Size([1, 20837, 2]) torch.Size([1, 20837, 4]) torch.Size([1, 5209, 2]) torch.Size([1, 5209, 4])\n",
      "torch.Size([1, 5209, 4])\n",
      "val_loss =  0.023176039\n",
      "-----------------------------------------------------------------------\n"
     ]
    },
    {
     "data": {
      "application/vnd.jupyter.widget-view+json": {
       "model_id": "5b209108cbcd4eaa91bea18ba7677664",
       "version_major": 2,
       "version_minor": 0
      },
      "text/plain": [
       "  0%|          | 0/53 [00:00<?, ?it/s]"
      ]
     },
     "metadata": {},
     "output_type": "display_data"
    },
    {
     "name": "stdout",
     "output_type": "stream",
     "text": [
      "94\n",
      "ELBO train_loss -2.8229239166907543\n",
      "mse train_loss 0.00037665628522792657\n",
      "torch.Size([1, 20837, 2]) torch.Size([1, 20837, 4]) torch.Size([1, 5209, 2]) torch.Size([1, 5209, 4])\n",
      "torch.Size([1, 5209, 4])\n",
      "val_loss =  0.02517226\n",
      "-----------------------------------------------------------------------\n"
     ]
    },
    {
     "data": {
      "application/vnd.jupyter.widget-view+json": {
       "model_id": "65da70b8ee534ed8966765c0853863a1",
       "version_major": 2,
       "version_minor": 0
      },
      "text/plain": [
       "  0%|          | 0/53 [00:00<?, ?it/s]"
      ]
     },
     "metadata": {},
     "output_type": "display_data"
    },
    {
     "name": "stdout",
     "output_type": "stream",
     "text": [
      "95\n",
      "ELBO train_loss -2.7783130767210475\n",
      "mse train_loss 0.00042031230026074107\n",
      "torch.Size([1, 20837, 2]) torch.Size([1, 20837, 4]) torch.Size([1, 5209, 2]) torch.Size([1, 5209, 4])\n",
      "torch.Size([1, 5209, 4])\n",
      "val_loss =  0.025518272\n",
      "-----------------------------------------------------------------------\n"
     ]
    },
    {
     "data": {
      "application/vnd.jupyter.widget-view+json": {
       "model_id": "fdbc695346c6432aa5e128828f08b98c",
       "version_major": 2,
       "version_minor": 0
      },
      "text/plain": [
       "  0%|          | 0/53 [00:00<?, ?it/s]"
      ]
     },
     "metadata": {},
     "output_type": "display_data"
    },
    {
     "name": "stdout",
     "output_type": "stream",
     "text": [
      "96\n",
      "ELBO train_loss -2.7997708163171446\n",
      "mse train_loss 0.00040315467269019274\n",
      "torch.Size([1, 20837, 2]) torch.Size([1, 20837, 4]) torch.Size([1, 5209, 2]) torch.Size([1, 5209, 4])\n",
      "torch.Size([1, 5209, 4])\n",
      "val_loss =  0.023000775\n",
      "-----------------------------------------------------------------------\n"
     ]
    },
    {
     "data": {
      "application/vnd.jupyter.widget-view+json": {
       "model_id": "55521f4f08c447e5b8f8e10434e8635b",
       "version_major": 2,
       "version_minor": 0
      },
      "text/plain": [
       "  0%|          | 0/53 [00:00<?, ?it/s]"
      ]
     },
     "metadata": {},
     "output_type": "display_data"
    },
    {
     "name": "stdout",
     "output_type": "stream",
     "text": [
      "97\n",
      "ELBO train_loss -2.809939573395927\n",
      "mse train_loss 0.0004005729512394986\n",
      "torch.Size([1, 20837, 2]) torch.Size([1, 20837, 4]) torch.Size([1, 5209, 2]) torch.Size([1, 5209, 4])\n",
      "torch.Size([1, 5209, 4])\n",
      "val_loss =  0.023404894\n",
      "-----------------------------------------------------------------------\n"
     ]
    },
    {
     "data": {
      "application/vnd.jupyter.widget-view+json": {
       "model_id": "b56f32b5c3db4c32bd3b1a8aa4243af2",
       "version_major": 2,
       "version_minor": 0
      },
      "text/plain": [
       "  0%|          | 0/53 [00:00<?, ?it/s]"
      ]
     },
     "metadata": {},
     "output_type": "display_data"
    },
    {
     "name": "stdout",
     "output_type": "stream",
     "text": [
      "98\n",
      "ELBO train_loss -2.8309177497647844\n",
      "mse train_loss 0.0003793839821570008\n",
      "torch.Size([1, 20837, 2]) torch.Size([1, 20837, 4]) torch.Size([1, 5209, 2]) torch.Size([1, 5209, 4])\n",
      "torch.Size([1, 5209, 4])\n",
      "val_loss =  0.021173801\n",
      "-----------------------------------------------------------------------\n"
     ]
    },
    {
     "data": {
      "application/vnd.jupyter.widget-view+json": {
       "model_id": "a7268b4ccd1b497fa95bc0db6a2026fd",
       "version_major": 2,
       "version_minor": 0
      },
      "text/plain": [
       "  0%|          | 0/53 [00:00<?, ?it/s]"
      ]
     },
     "metadata": {},
     "output_type": "display_data"
    },
    {
     "name": "stdout",
     "output_type": "stream",
     "text": [
      "99\n",
      "ELBO train_loss -2.7937425689877204\n",
      "mse train_loss 0.000408082824026867\n",
      "torch.Size([1, 20837, 2]) torch.Size([1, 20837, 4]) torch.Size([1, 5209, 2]) torch.Size([1, 5209, 4])\n",
      "torch.Size([1, 5209, 4])\n",
      "val_loss =  0.0304697\n",
      "-----------------------------------------------------------------------\n"
     ]
    },
    {
     "data": {
      "application/vnd.jupyter.widget-view+json": {
       "model_id": "4c9ecc2d683d4d2f804649560f8d3aac",
       "version_major": 2,
       "version_minor": 0
      },
      "text/plain": [
       "  0%|          | 0/53 [00:00<?, ?it/s]"
      ]
     },
     "metadata": {},
     "output_type": "display_data"
    },
    {
     "name": "stdout",
     "output_type": "stream",
     "text": [
      "100\n",
      "ELBO train_loss -2.783164323500867\n",
      "mse train_loss 0.0004173906608967919\n",
      "torch.Size([1, 20837, 2]) torch.Size([1, 20837, 4]) torch.Size([1, 5209, 2]) torch.Size([1, 5209, 4])\n",
      "torch.Size([1, 5209, 4])\n",
      "val_loss =  0.05739398\n",
      "-----------------------------------------------------------------------\n"
     ]
    },
    {
     "data": {
      "application/vnd.jupyter.widget-view+json": {
       "model_id": "d1a2035c0e914d3b8e49df188ae87cb2",
       "version_major": 2,
       "version_minor": 0
      },
      "text/plain": [
       "  0%|          | 0/53 [00:00<?, ?it/s]"
      ]
     },
     "metadata": {},
     "output_type": "display_data"
    },
    {
     "name": "stdout",
     "output_type": "stream",
     "text": [
      "101\n",
      "ELBO train_loss -2.7858076500442794\n",
      "mse train_loss 0.00040288730733149315\n",
      "torch.Size([1, 20837, 2]) torch.Size([1, 20837, 4]) torch.Size([1, 5209, 2]) torch.Size([1, 5209, 4])\n",
      "torch.Size([1, 5209, 4])\n",
      "val_loss =  0.021215368\n",
      "-----------------------------------------------------------------------\n"
     ]
    },
    {
     "data": {
      "application/vnd.jupyter.widget-view+json": {
       "model_id": "6984cafc01be4e09a7c1d1747a2a0680",
       "version_major": 2,
       "version_minor": 0
      },
      "text/plain": [
       "  0%|          | 0/53 [00:00<?, ?it/s]"
      ]
     },
     "metadata": {},
     "output_type": "display_data"
    },
    {
     "name": "stdout",
     "output_type": "stream",
     "text": [
      "102\n",
      "ELBO train_loss -2.836868983394695\n",
      "mse train_loss 0.00038211171560314535\n",
      "torch.Size([1, 20837, 2]) torch.Size([1, 20837, 4]) torch.Size([1, 5209, 2]) torch.Size([1, 5209, 4])\n",
      "torch.Size([1, 5209, 4])\n",
      "val_loss =  0.023472086\n",
      "-----------------------------------------------------------------------\n"
     ]
    },
    {
     "data": {
      "application/vnd.jupyter.widget-view+json": {
       "model_id": "d005adc3d54c479d862158a8843431dd",
       "version_major": 2,
       "version_minor": 0
      },
      "text/plain": [
       "  0%|          | 0/53 [00:00<?, ?it/s]"
      ]
     },
     "metadata": {},
     "output_type": "display_data"
    },
    {
     "name": "stdout",
     "output_type": "stream",
     "text": [
      "103\n",
      "ELBO train_loss -2.823196784505304\n",
      "mse train_loss 0.00039158793268417766\n",
      "torch.Size([1, 20837, 2]) torch.Size([1, 20837, 4]) torch.Size([1, 5209, 2]) torch.Size([1, 5209, 4])\n",
      "torch.Size([1, 5209, 4])\n",
      "val_loss =  0.021746492\n",
      "-----------------------------------------------------------------------\n"
     ]
    },
    {
     "data": {
      "application/vnd.jupyter.widget-view+json": {
       "model_id": "989e240e970944a5b365453db91c1da2",
       "version_major": 2,
       "version_minor": 0
      },
      "text/plain": [
       "  0%|          | 0/53 [00:00<?, ?it/s]"
      ]
     },
     "metadata": {},
     "output_type": "display_data"
    },
    {
     "name": "stdout",
     "output_type": "stream",
     "text": [
      "104\n",
      "ELBO train_loss -2.828353360014142\n",
      "mse train_loss 0.0003813079268372846\n",
      "torch.Size([1, 20837, 2]) torch.Size([1, 20837, 4]) torch.Size([1, 5209, 2]) torch.Size([1, 5209, 4])\n",
      "torch.Size([1, 5209, 4])\n",
      "val_loss =  0.022470651\n",
      "-----------------------------------------------------------------------\n"
     ]
    },
    {
     "data": {
      "application/vnd.jupyter.widget-view+json": {
       "model_id": "b3d6064ef2ca4221ba2bcf32a50eeb16",
       "version_major": 2,
       "version_minor": 0
      },
      "text/plain": [
       "  0%|          | 0/53 [00:00<?, ?it/s]"
      ]
     },
     "metadata": {},
     "output_type": "display_data"
    },
    {
     "name": "stdout",
     "output_type": "stream",
     "text": [
      "105\n",
      "ELBO train_loss -2.841936669259701\n",
      "mse train_loss 0.0003795765676944218\n",
      "torch.Size([1, 20837, 2]) torch.Size([1, 20837, 4]) torch.Size([1, 5209, 2]) torch.Size([1, 5209, 4])\n",
      "torch.Size([1, 5209, 4])\n",
      "val_loss =  0.045253035\n",
      "-----------------------------------------------------------------------\n"
     ]
    },
    {
     "data": {
      "application/vnd.jupyter.widget-view+json": {
       "model_id": "acffce0b630e47289d49c79b12db84ab",
       "version_major": 2,
       "version_minor": 0
      },
      "text/plain": [
       "  0%|          | 0/53 [00:00<?, ?it/s]"
      ]
     },
     "metadata": {},
     "output_type": "display_data"
    },
    {
     "name": "stdout",
     "output_type": "stream",
     "text": [
      "106\n",
      "ELBO train_loss -2.752782162630333\n",
      "mse train_loss 0.0003922777019774998\n",
      "torch.Size([1, 20837, 2]) torch.Size([1, 20837, 4]) torch.Size([1, 5209, 2]) torch.Size([1, 5209, 4])\n",
      "torch.Size([1, 5209, 4])\n",
      "val_loss =  0.031153632\n",
      "-----------------------------------------------------------------------\n"
     ]
    },
    {
     "data": {
      "application/vnd.jupyter.widget-view+json": {
       "model_id": "fb94f86ee1be48c8bd76d49b0f122afe",
       "version_major": 2,
       "version_minor": 0
      },
      "text/plain": [
       "  0%|          | 0/53 [00:00<?, ?it/s]"
      ]
     },
     "metadata": {},
     "output_type": "display_data"
    },
    {
     "name": "stdout",
     "output_type": "stream",
     "text": [
      "107\n",
      "ELBO train_loss -2.833757665922057\n",
      "mse train_loss 0.0004016335738959002\n",
      "torch.Size([1, 20837, 2]) torch.Size([1, 20837, 4]) torch.Size([1, 5209, 2]) torch.Size([1, 5209, 4])\n",
      "torch.Size([1, 5209, 4])\n",
      "val_loss =  0.021649126\n",
      "-----------------------------------------------------------------------\n"
     ]
    },
    {
     "data": {
      "application/vnd.jupyter.widget-view+json": {
       "model_id": "dd6ec135cdb245909ee7eeb2f0889ef0",
       "version_major": 2,
       "version_minor": 0
      },
      "text/plain": [
       "  0%|          | 0/53 [00:00<?, ?it/s]"
      ]
     },
     "metadata": {},
     "output_type": "display_data"
    },
    {
     "name": "stdout",
     "output_type": "stream",
     "text": [
      "108\n",
      "ELBO train_loss -2.8403475914361342\n",
      "mse train_loss 0.0003923105876585293\n",
      "torch.Size([1, 20837, 2]) torch.Size([1, 20837, 4]) torch.Size([1, 5209, 2]) torch.Size([1, 5209, 4])\n",
      "torch.Size([1, 5209, 4])\n",
      "val_loss =  0.029500604\n",
      "-----------------------------------------------------------------------\n"
     ]
    },
    {
     "data": {
      "application/vnd.jupyter.widget-view+json": {
       "model_id": "b7cb6acf517146b8ab8032ebf0ef0262",
       "version_major": 2,
       "version_minor": 0
      },
      "text/plain": [
       "  0%|          | 0/53 [00:00<?, ?it/s]"
      ]
     },
     "metadata": {},
     "output_type": "display_data"
    },
    {
     "name": "stdout",
     "output_type": "stream",
     "text": [
      "109\n",
      "ELBO train_loss -2.8266270250644325\n",
      "mse train_loss 0.0003848013551554309\n",
      "torch.Size([1, 20837, 2]) torch.Size([1, 20837, 4]) torch.Size([1, 5209, 2]) torch.Size([1, 5209, 4])\n",
      "torch.Size([1, 5209, 4])\n",
      "val_loss =  0.015265242\n",
      "-----------------------------------------------------------------------\n"
     ]
    },
    {
     "data": {
      "application/vnd.jupyter.widget-view+json": {
       "model_id": "c9426a1c304c4731bbfa107a2add1a37",
       "version_major": 2,
       "version_minor": 0
      },
      "text/plain": [
       "  0%|          | 0/53 [00:00<?, ?it/s]"
      ]
     },
     "metadata": {},
     "output_type": "display_data"
    },
    {
     "name": "stdout",
     "output_type": "stream",
     "text": [
      "110\n",
      "ELBO train_loss -2.7782821835211986\n",
      "mse train_loss 0.00042548615821496634\n",
      "torch.Size([1, 20837, 2]) torch.Size([1, 20837, 4]) torch.Size([1, 5209, 2]) torch.Size([1, 5209, 4])\n",
      "torch.Size([1, 5209, 4])\n",
      "val_loss =  0.041723676\n",
      "-----------------------------------------------------------------------\n"
     ]
    },
    {
     "data": {
      "application/vnd.jupyter.widget-view+json": {
       "model_id": "29c09f40bd2e4222861fa5271dcbad7d",
       "version_major": 2,
       "version_minor": 0
      },
      "text/plain": [
       "  0%|          | 0/53 [00:00<?, ?it/s]"
      ]
     },
     "metadata": {},
     "output_type": "display_data"
    },
    {
     "name": "stdout",
     "output_type": "stream",
     "text": [
      "111\n",
      "ELBO train_loss -2.728231777560036\n",
      "mse train_loss 0.00043579978447732566\n",
      "torch.Size([1, 20837, 2]) torch.Size([1, 20837, 4]) torch.Size([1, 5209, 2]) torch.Size([1, 5209, 4])\n",
      "torch.Size([1, 5209, 4])\n",
      "val_loss =  0.050865274\n",
      "-----------------------------------------------------------------------\n"
     ]
    },
    {
     "data": {
      "application/vnd.jupyter.widget-view+json": {
       "model_id": "54c8dc8291864eb09a85c057da7e8db4",
       "version_major": 2,
       "version_minor": 0
      },
      "text/plain": [
       "  0%|          | 0/53 [00:00<?, ?it/s]"
      ]
     },
     "metadata": {},
     "output_type": "display_data"
    },
    {
     "name": "stdout",
     "output_type": "stream",
     "text": [
      "112\n",
      "ELBO train_loss -2.786755197453049\n",
      "mse train_loss 0.0004225926677463576\n",
      "torch.Size([1, 20837, 2]) torch.Size([1, 20837, 4]) torch.Size([1, 5209, 2]) torch.Size([1, 5209, 4])\n",
      "torch.Size([1, 5209, 4])\n",
      "val_loss =  0.019598346\n",
      "-----------------------------------------------------------------------\n"
     ]
    },
    {
     "data": {
      "application/vnd.jupyter.widget-view+json": {
       "model_id": "c6b0ca8017ae41348ba3cd50a5afbcaa",
       "version_major": 2,
       "version_minor": 0
      },
      "text/plain": [
       "  0%|          | 0/53 [00:00<?, ?it/s]"
      ]
     },
     "metadata": {},
     "output_type": "display_data"
    },
    {
     "name": "stdout",
     "output_type": "stream",
     "text": [
      "113\n",
      "ELBO train_loss -2.839338626501695\n",
      "mse train_loss 0.0003904984401262207\n",
      "torch.Size([1, 20837, 2]) torch.Size([1, 20837, 4]) torch.Size([1, 5209, 2]) torch.Size([1, 5209, 4])\n",
      "torch.Size([1, 5209, 4])\n",
      "val_loss =  0.022519322\n",
      "-----------------------------------------------------------------------\n"
     ]
    },
    {
     "data": {
      "application/vnd.jupyter.widget-view+json": {
       "model_id": "90903ae5cb3b439e87207dd3e0106fcd",
       "version_major": 2,
       "version_minor": 0
      },
      "text/plain": [
       "  0%|          | 0/53 [00:00<?, ?it/s]"
      ]
     },
     "metadata": {},
     "output_type": "display_data"
    },
    {
     "name": "stdout",
     "output_type": "stream",
     "text": [
      "114\n",
      "ELBO train_loss -2.8310651239359155\n",
      "mse train_loss 0.00038491567802167374\n",
      "torch.Size([1, 20837, 2]) torch.Size([1, 20837, 4]) torch.Size([1, 5209, 2]) torch.Size([1, 5209, 4])\n",
      "torch.Size([1, 5209, 4])\n",
      "val_loss =  0.023748519\n",
      "-----------------------------------------------------------------------\n"
     ]
    },
    {
     "data": {
      "application/vnd.jupyter.widget-view+json": {
       "model_id": "6e5e0f97d428447d9b2d464252711302",
       "version_major": 2,
       "version_minor": 0
      },
      "text/plain": [
       "  0%|          | 0/53 [00:00<?, ?it/s]"
      ]
     },
     "metadata": {},
     "output_type": "display_data"
    },
    {
     "name": "stdout",
     "output_type": "stream",
     "text": [
      "115\n",
      "ELBO train_loss -2.833147984630657\n",
      "mse train_loss 0.0004004755352276711\n",
      "torch.Size([1, 20837, 2]) torch.Size([1, 20837, 4]) torch.Size([1, 5209, 2]) torch.Size([1, 5209, 4])\n",
      "torch.Size([1, 5209, 4])\n",
      "val_loss =  0.020887977\n",
      "-----------------------------------------------------------------------\n"
     ]
    },
    {
     "data": {
      "application/vnd.jupyter.widget-view+json": {
       "model_id": "77ac258230494fbb80527f2a9f7544c2",
       "version_major": 2,
       "version_minor": 0
      },
      "text/plain": [
       "  0%|          | 0/53 [00:00<?, ?it/s]"
      ]
     },
     "metadata": {},
     "output_type": "display_data"
    },
    {
     "name": "stdout",
     "output_type": "stream",
     "text": [
      "116\n",
      "ELBO train_loss -2.8663319686673723\n",
      "mse train_loss 0.0003630895876514567\n",
      "torch.Size([1, 20837, 2]) torch.Size([1, 20837, 4]) torch.Size([1, 5209, 2]) torch.Size([1, 5209, 4])\n",
      "torch.Size([1, 5209, 4])\n",
      "val_loss =  0.021494161\n",
      "-----------------------------------------------------------------------\n"
     ]
    },
    {
     "data": {
      "application/vnd.jupyter.widget-view+json": {
       "model_id": "24850c3d97324706a4894c1e9b973425",
       "version_major": 2,
       "version_minor": 0
      },
      "text/plain": [
       "  0%|          | 0/53 [00:00<?, ?it/s]"
      ]
     },
     "metadata": {},
     "output_type": "display_data"
    },
    {
     "name": "stdout",
     "output_type": "stream",
     "text": [
      "117\n",
      "ELBO train_loss -2.8611560452659175\n",
      "mse train_loss 0.0003911000745094223\n",
      "torch.Size([1, 20837, 2]) torch.Size([1, 20837, 4]) torch.Size([1, 5209, 2]) torch.Size([1, 5209, 4])\n",
      "torch.Size([1, 5209, 4])\n",
      "val_loss =  0.017221201\n",
      "-----------------------------------------------------------------------\n"
     ]
    },
    {
     "data": {
      "application/vnd.jupyter.widget-view+json": {
       "model_id": "aa7a6fe0df8b47b7afa3d2f8b34f1375",
       "version_major": 2,
       "version_minor": 0
      },
      "text/plain": [
       "  0%|          | 0/53 [00:00<?, ?it/s]"
      ]
     },
     "metadata": {},
     "output_type": "display_data"
    },
    {
     "name": "stdout",
     "output_type": "stream",
     "text": [
      "118\n",
      "ELBO train_loss -2.8588940872336335\n",
      "mse train_loss 0.00038970623715596167\n",
      "torch.Size([1, 20837, 2]) torch.Size([1, 20837, 4]) torch.Size([1, 5209, 2]) torch.Size([1, 5209, 4])\n",
      "torch.Size([1, 5209, 4])\n",
      "val_loss =  0.018768128\n",
      "-----------------------------------------------------------------------\n"
     ]
    },
    {
     "data": {
      "application/vnd.jupyter.widget-view+json": {
       "model_id": "7173d86b3fbf4b3aa73e0494c1d86a17",
       "version_major": 2,
       "version_minor": 0
      },
      "text/plain": [
       "  0%|          | 0/53 [00:00<?, ?it/s]"
      ]
     },
     "metadata": {},
     "output_type": "display_data"
    },
    {
     "name": "stdout",
     "output_type": "stream",
     "text": [
      "119\n",
      "ELBO train_loss -2.8644030319069915\n",
      "mse train_loss 0.00037234731335390606\n",
      "torch.Size([1, 20837, 2]) torch.Size([1, 20837, 4]) torch.Size([1, 5209, 2]) torch.Size([1, 5209, 4])\n",
      "torch.Size([1, 5209, 4])\n",
      "val_loss =  0.019917117\n",
      "-----------------------------------------------------------------------\n"
     ]
    },
    {
     "data": {
      "application/vnd.jupyter.widget-view+json": {
       "model_id": "8bf69bc87b82404c8f7a599572152c0f",
       "version_major": 2,
       "version_minor": 0
      },
      "text/plain": [
       "  0%|          | 0/53 [00:00<?, ?it/s]"
      ]
     },
     "metadata": {},
     "output_type": "display_data"
    },
    {
     "name": "stdout",
     "output_type": "stream",
     "text": [
      "120\n",
      "ELBO train_loss -2.872068364665193\n",
      "mse train_loss 0.00038055557003112964\n",
      "torch.Size([1, 20837, 2]) torch.Size([1, 20837, 4]) torch.Size([1, 5209, 2]) torch.Size([1, 5209, 4])\n",
      "torch.Size([1, 5209, 4])\n",
      "val_loss =  0.014044623\n",
      "-----------------------------------------------------------------------\n"
     ]
    },
    {
     "data": {
      "application/vnd.jupyter.widget-view+json": {
       "model_id": "8005514218ed4cc2b626f1d136a22765",
       "version_major": 2,
       "version_minor": 0
      },
      "text/plain": [
       "  0%|          | 0/53 [00:00<?, ?it/s]"
      ]
     },
     "metadata": {},
     "output_type": "display_data"
    },
    {
     "name": "stdout",
     "output_type": "stream",
     "text": [
      "121\n",
      "ELBO train_loss -2.831835945822158\n",
      "mse train_loss 0.00038697886558574675\n",
      "torch.Size([1, 20837, 2]) torch.Size([1, 20837, 4]) torch.Size([1, 5209, 2]) torch.Size([1, 5209, 4])\n",
      "torch.Size([1, 5209, 4])\n",
      "val_loss =  0.046954643\n",
      "-----------------------------------------------------------------------\n"
     ]
    },
    {
     "data": {
      "application/vnd.jupyter.widget-view+json": {
       "model_id": "eae8e137d6384ad7909eddf2fc48c1cd",
       "version_major": 2,
       "version_minor": 0
      },
      "text/plain": [
       "  0%|          | 0/53 [00:00<?, ?it/s]"
      ]
     },
     "metadata": {},
     "output_type": "display_data"
    },
    {
     "name": "stdout",
     "output_type": "stream",
     "text": [
      "122\n",
      "ELBO train_loss -2.818664294368816\n",
      "mse train_loss 0.0003804508311111691\n",
      "torch.Size([1, 20837, 2]) torch.Size([1, 20837, 4]) torch.Size([1, 5209, 2]) torch.Size([1, 5209, 4])\n",
      "torch.Size([1, 5209, 4])\n",
      "val_loss =  0.025822336\n",
      "-----------------------------------------------------------------------\n"
     ]
    },
    {
     "data": {
      "application/vnd.jupyter.widget-view+json": {
       "model_id": "9b94586cca704ef1a1be6cc746bbc82b",
       "version_major": 2,
       "version_minor": 0
      },
      "text/plain": [
       "  0%|          | 0/53 [00:00<?, ?it/s]"
      ]
     },
     "metadata": {},
     "output_type": "display_data"
    },
    {
     "name": "stdout",
     "output_type": "stream",
     "text": [
      "123\n",
      "ELBO train_loss -2.8629550888853252\n",
      "mse train_loss 0.0003791862586952465\n",
      "torch.Size([1, 20837, 2]) torch.Size([1, 20837, 4]) torch.Size([1, 5209, 2]) torch.Size([1, 5209, 4])\n",
      "torch.Size([1, 5209, 4])\n",
      "val_loss =  0.026355596\n",
      "-----------------------------------------------------------------------\n"
     ]
    },
    {
     "data": {
      "application/vnd.jupyter.widget-view+json": {
       "model_id": "88c4925fd7274186b1a60d9ef36518d0",
       "version_major": 2,
       "version_minor": 0
      },
      "text/plain": [
       "  0%|          | 0/53 [00:00<?, ?it/s]"
      ]
     },
     "metadata": {},
     "output_type": "display_data"
    },
    {
     "name": "stdout",
     "output_type": "stream",
     "text": [
      "124\n",
      "ELBO train_loss -2.847321348370246\n",
      "mse train_loss 0.00038538365937848486\n",
      "torch.Size([1, 20837, 2]) torch.Size([1, 20837, 4]) torch.Size([1, 5209, 2]) torch.Size([1, 5209, 4])\n",
      "torch.Size([1, 5209, 4])\n",
      "val_loss =  0.015783625\n",
      "-----------------------------------------------------------------------\n"
     ]
    },
    {
     "data": {
      "application/vnd.jupyter.widget-view+json": {
       "model_id": "15efa4d45c4d498d9b4eead6b0f5df9f",
       "version_major": 2,
       "version_minor": 0
      },
      "text/plain": [
       "  0%|          | 0/53 [00:00<?, ?it/s]"
      ]
     },
     "metadata": {},
     "output_type": "display_data"
    },
    {
     "name": "stdout",
     "output_type": "stream",
     "text": [
      "125\n",
      "ELBO train_loss -2.8644602973506137\n",
      "mse train_loss 0.00037571615270418025\n",
      "torch.Size([1, 20837, 2]) torch.Size([1, 20837, 4]) torch.Size([1, 5209, 2]) torch.Size([1, 5209, 4])\n",
      "torch.Size([1, 5209, 4])\n",
      "val_loss =  0.022090718\n",
      "-----------------------------------------------------------------------\n"
     ]
    },
    {
     "data": {
      "application/vnd.jupyter.widget-view+json": {
       "model_id": "5ad0fc4cedc84d26a017c4f250cbcc18",
       "version_major": 2,
       "version_minor": 0
      },
      "text/plain": [
       "  0%|          | 0/53 [00:00<?, ?it/s]"
      ]
     },
     "metadata": {},
     "output_type": "display_data"
    },
    {
     "name": "stdout",
     "output_type": "stream",
     "text": [
      "126\n",
      "ELBO train_loss -2.8593154493367896\n",
      "mse train_loss 0.0003727751222267782\n",
      "torch.Size([1, 20837, 2]) torch.Size([1, 20837, 4]) torch.Size([1, 5209, 2]) torch.Size([1, 5209, 4])\n",
      "torch.Size([1, 5209, 4])\n",
      "val_loss =  0.025898205\n",
      "-----------------------------------------------------------------------\n"
     ]
    },
    {
     "data": {
      "application/vnd.jupyter.widget-view+json": {
       "model_id": "4d6a1f95e5e643c99f22bc01dd82d40d",
       "version_major": 2,
       "version_minor": 0
      },
      "text/plain": [
       "  0%|          | 0/53 [00:00<?, ?it/s]"
      ]
     },
     "metadata": {},
     "output_type": "display_data"
    },
    {
     "name": "stdout",
     "output_type": "stream",
     "text": [
      "127\n",
      "ELBO train_loss -2.8302857842085496\n",
      "mse train_loss 0.0003796930533047449\n",
      "torch.Size([1, 20837, 2]) torch.Size([1, 20837, 4]) torch.Size([1, 5209, 2]) torch.Size([1, 5209, 4])\n",
      "torch.Size([1, 5209, 4])\n",
      "val_loss =  0.019619942\n",
      "-----------------------------------------------------------------------\n"
     ]
    },
    {
     "data": {
      "application/vnd.jupyter.widget-view+json": {
       "model_id": "ecf6586a8fdc4515889828a651af80df",
       "version_major": 2,
       "version_minor": 0
      },
      "text/plain": [
       "  0%|          | 0/53 [00:00<?, ?it/s]"
      ]
     },
     "metadata": {},
     "output_type": "display_data"
    },
    {
     "name": "stdout",
     "output_type": "stream",
     "text": [
      "128\n",
      "ELBO train_loss -2.800240494170279\n",
      "mse train_loss 0.0004109444762777783\n",
      "torch.Size([1, 20837, 2]) torch.Size([1, 20837, 4]) torch.Size([1, 5209, 2]) torch.Size([1, 5209, 4])\n",
      "torch.Size([1, 5209, 4])\n",
      "val_loss =  0.015602909\n",
      "-----------------------------------------------------------------------\n"
     ]
    },
    {
     "data": {
      "application/vnd.jupyter.widget-view+json": {
       "model_id": "9fdd870e32ac4ac8a3da84b9bbd17ff0",
       "version_major": 2,
       "version_minor": 0
      },
      "text/plain": [
       "  0%|          | 0/53 [00:00<?, ?it/s]"
      ]
     },
     "metadata": {},
     "output_type": "display_data"
    },
    {
     "name": "stdout",
     "output_type": "stream",
     "text": [
      "129\n",
      "ELBO train_loss -2.866087958497821\n",
      "mse train_loss 0.0003631133956830281\n",
      "torch.Size([1, 20837, 2]) torch.Size([1, 20837, 4]) torch.Size([1, 5209, 2]) torch.Size([1, 5209, 4])\n",
      "torch.Size([1, 5209, 4])\n",
      "val_loss =  0.023285294\n",
      "-----------------------------------------------------------------------\n"
     ]
    },
    {
     "data": {
      "application/vnd.jupyter.widget-view+json": {
       "model_id": "f820f72decf54413bf4384c0b9a079e7",
       "version_major": 2,
       "version_minor": 0
      },
      "text/plain": [
       "  0%|          | 0/53 [00:00<?, ?it/s]"
      ]
     },
     "metadata": {},
     "output_type": "display_data"
    },
    {
     "name": "stdout",
     "output_type": "stream",
     "text": [
      "130\n",
      "ELBO train_loss -2.8623218941238693\n",
      "mse train_loss 0.0004039431108328742\n",
      "torch.Size([1, 20837, 2]) torch.Size([1, 20837, 4]) torch.Size([1, 5209, 2]) torch.Size([1, 5209, 4])\n",
      "torch.Size([1, 5209, 4])\n",
      "val_loss =  0.027457152\n",
      "-----------------------------------------------------------------------\n"
     ]
    },
    {
     "data": {
      "application/vnd.jupyter.widget-view+json": {
       "model_id": "8b25e2a84b06436db260d92165a753f7",
       "version_major": 2,
       "version_minor": 0
      },
      "text/plain": [
       "  0%|          | 0/53 [00:00<?, ?it/s]"
      ]
     },
     "metadata": {},
     "output_type": "display_data"
    },
    {
     "name": "stdout",
     "output_type": "stream",
     "text": [
      "131\n",
      "ELBO train_loss -2.85437192556993\n",
      "mse train_loss 0.0003696000101901415\n",
      "torch.Size([1, 20837, 2]) torch.Size([1, 20837, 4]) torch.Size([1, 5209, 2]) torch.Size([1, 5209, 4])\n",
      "torch.Size([1, 5209, 4])\n",
      "val_loss =  0.04548142\n",
      "-----------------------------------------------------------------------\n"
     ]
    },
    {
     "data": {
      "application/vnd.jupyter.widget-view+json": {
       "model_id": "e3666a59743d4df1ae56c93aad97de5a",
       "version_major": 2,
       "version_minor": 0
      },
      "text/plain": [
       "  0%|          | 0/53 [00:00<?, ?it/s]"
      ]
     },
     "metadata": {},
     "output_type": "display_data"
    },
    {
     "name": "stdout",
     "output_type": "stream",
     "text": [
      "132\n",
      "ELBO train_loss -2.8303261163099758\n",
      "mse train_loss 0.0004078565000112713\n",
      "torch.Size([1, 20837, 2]) torch.Size([1, 20837, 4]) torch.Size([1, 5209, 2]) torch.Size([1, 5209, 4])\n",
      "torch.Size([1, 5209, 4])\n",
      "val_loss =  0.02576965\n",
      "-----------------------------------------------------------------------\n"
     ]
    },
    {
     "data": {
      "application/vnd.jupyter.widget-view+json": {
       "model_id": "da80f0eb81974a83b1b8ab131264b065",
       "version_major": 2,
       "version_minor": 0
      },
      "text/plain": [
       "  0%|          | 0/53 [00:00<?, ?it/s]"
      ]
     },
     "metadata": {},
     "output_type": "display_data"
    },
    {
     "name": "stdout",
     "output_type": "stream",
     "text": [
      "133\n",
      "ELBO train_loss -2.8253410739718743\n",
      "mse train_loss 0.00038066602812833944\n",
      "torch.Size([1, 20837, 2]) torch.Size([1, 20837, 4]) torch.Size([1, 5209, 2]) torch.Size([1, 5209, 4])\n",
      "torch.Size([1, 5209, 4])\n",
      "val_loss =  0.023476088\n",
      "-----------------------------------------------------------------------\n"
     ]
    },
    {
     "data": {
      "application/vnd.jupyter.widget-view+json": {
       "model_id": "fd9c31b8ad3445c1b71ed90c5cc502c0",
       "version_major": 2,
       "version_minor": 0
      },
      "text/plain": [
       "  0%|          | 0/53 [00:00<?, ?it/s]"
      ]
     },
     "metadata": {},
     "output_type": "display_data"
    },
    {
     "name": "stdout",
     "output_type": "stream",
     "text": [
      "134\n",
      "ELBO train_loss -2.8468073494029493\n",
      "mse train_loss 0.0003846533693162338\n",
      "torch.Size([1, 20837, 2]) torch.Size([1, 20837, 4]) torch.Size([1, 5209, 2]) torch.Size([1, 5209, 4])\n",
      "torch.Size([1, 5209, 4])\n",
      "val_loss =  0.027263926\n",
      "-----------------------------------------------------------------------\n"
     ]
    },
    {
     "data": {
      "application/vnd.jupyter.widget-view+json": {
       "model_id": "9e0da5dd62cf430faa4f687b77402413",
       "version_major": 2,
       "version_minor": 0
      },
      "text/plain": [
       "  0%|          | 0/53 [00:00<?, ?it/s]"
      ]
     },
     "metadata": {},
     "output_type": "display_data"
    },
    {
     "name": "stdout",
     "output_type": "stream",
     "text": [
      "135\n",
      "ELBO train_loss -2.8753079153456778\n",
      "mse train_loss 0.0003688578509817884\n",
      "torch.Size([1, 20837, 2]) torch.Size([1, 20837, 4]) torch.Size([1, 5209, 2]) torch.Size([1, 5209, 4])\n",
      "torch.Size([1, 5209, 4])\n",
      "val_loss =  0.020601723\n",
      "-----------------------------------------------------------------------\n"
     ]
    },
    {
     "data": {
      "application/vnd.jupyter.widget-view+json": {
       "model_id": "6a387c00241541b383930cc1934a0c79",
       "version_major": 2,
       "version_minor": 0
      },
      "text/plain": [
       "  0%|          | 0/53 [00:00<?, ?it/s]"
      ]
     },
     "metadata": {},
     "output_type": "display_data"
    },
    {
     "name": "stdout",
     "output_type": "stream",
     "text": [
      "136\n",
      "ELBO train_loss -2.868587210493268\n",
      "mse train_loss 0.00038171170981170363\n",
      "torch.Size([1, 20837, 2]) torch.Size([1, 20837, 4]) torch.Size([1, 5209, 2]) torch.Size([1, 5209, 4])\n",
      "torch.Size([1, 5209, 4])\n",
      "val_loss =  0.032912787\n",
      "-----------------------------------------------------------------------\n"
     ]
    },
    {
     "data": {
      "application/vnd.jupyter.widget-view+json": {
       "model_id": "920f02471a6e44919394f1ec323a8378",
       "version_major": 2,
       "version_minor": 0
      },
      "text/plain": [
       "  0%|          | 0/53 [00:00<?, ?it/s]"
      ]
     },
     "metadata": {},
     "output_type": "display_data"
    },
    {
     "name": "stdout",
     "output_type": "stream",
     "text": [
      "137\n",
      "ELBO train_loss -2.854706213159381\n",
      "mse train_loss 0.0003799668961876722\n",
      "torch.Size([1, 20837, 2]) torch.Size([1, 20837, 4]) torch.Size([1, 5209, 2]) torch.Size([1, 5209, 4])\n",
      "torch.Size([1, 5209, 4])\n",
      "val_loss =  0.03477619\n",
      "-----------------------------------------------------------------------\n"
     ]
    },
    {
     "data": {
      "application/vnd.jupyter.widget-view+json": {
       "model_id": "7a62824490264f589967f3f49e91f350",
       "version_major": 2,
       "version_minor": 0
      },
      "text/plain": [
       "  0%|          | 0/53 [00:00<?, ?it/s]"
      ]
     },
     "metadata": {},
     "output_type": "display_data"
    },
    {
     "name": "stdout",
     "output_type": "stream",
     "text": [
      "138\n",
      "ELBO train_loss -2.8249344893221586\n",
      "mse train_loss 0.00043506523839171695\n",
      "torch.Size([1, 20837, 2]) torch.Size([1, 20837, 4]) torch.Size([1, 5209, 2]) torch.Size([1, 5209, 4])\n",
      "torch.Size([1, 5209, 4])\n",
      "val_loss =  0.027320022\n",
      "-----------------------------------------------------------------------\n"
     ]
    },
    {
     "data": {
      "application/vnd.jupyter.widget-view+json": {
       "model_id": "edef264dddf24452abde57c3f7aa45b3",
       "version_major": 2,
       "version_minor": 0
      },
      "text/plain": [
       "  0%|          | 0/53 [00:00<?, ?it/s]"
      ]
     },
     "metadata": {},
     "output_type": "display_data"
    },
    {
     "name": "stdout",
     "output_type": "stream",
     "text": [
      "139\n",
      "ELBO train_loss -2.825375700896641\n",
      "mse train_loss 0.0003967495557724692\n",
      "torch.Size([1, 20837, 2]) torch.Size([1, 20837, 4]) torch.Size([1, 5209, 2]) torch.Size([1, 5209, 4])\n",
      "torch.Size([1, 5209, 4])\n",
      "val_loss =  0.030704245\n",
      "-----------------------------------------------------------------------\n"
     ]
    },
    {
     "data": {
      "application/vnd.jupyter.widget-view+json": {
       "model_id": "3a4cd3610cb64a6a825d9b7cd2108319",
       "version_major": 2,
       "version_minor": 0
      },
      "text/plain": [
       "  0%|          | 0/53 [00:00<?, ?it/s]"
      ]
     },
     "metadata": {},
     "output_type": "display_data"
    },
    {
     "name": "stdout",
     "output_type": "stream",
     "text": [
      "140\n",
      "ELBO train_loss -2.834379070210007\n",
      "mse train_loss 0.0003966606010129359\n",
      "torch.Size([1, 20837, 2]) torch.Size([1, 20837, 4]) torch.Size([1, 5209, 2]) torch.Size([1, 5209, 4])\n",
      "torch.Size([1, 5209, 4])\n",
      "val_loss =  0.026402088\n",
      "-----------------------------------------------------------------------\n"
     ]
    },
    {
     "data": {
      "application/vnd.jupyter.widget-view+json": {
       "model_id": "f6f5429a2a6848dda7ecb588b7c721a0",
       "version_major": 2,
       "version_minor": 0
      },
      "text/plain": [
       "  0%|          | 0/53 [00:00<?, ?it/s]"
      ]
     },
     "metadata": {},
     "output_type": "display_data"
    },
    {
     "name": "stdout",
     "output_type": "stream",
     "text": [
      "141\n",
      "ELBO train_loss -2.8423396956245854\n",
      "mse train_loss 0.00040014651505153553\n",
      "torch.Size([1, 20837, 2]) torch.Size([1, 20837, 4]) torch.Size([1, 5209, 2]) torch.Size([1, 5209, 4])\n",
      "torch.Size([1, 5209, 4])\n",
      "val_loss =  0.025299843\n",
      "-----------------------------------------------------------------------\n"
     ]
    },
    {
     "data": {
      "application/vnd.jupyter.widget-view+json": {
       "model_id": "546f9b94c7da434c84fc4f1d6e5009a0",
       "version_major": 2,
       "version_minor": 0
      },
      "text/plain": [
       "  0%|          | 0/53 [00:00<?, ?it/s]"
      ]
     },
     "metadata": {},
     "output_type": "display_data"
    },
    {
     "name": "stdout",
     "output_type": "stream",
     "text": [
      "142\n",
      "ELBO train_loss -2.866404762807882\n",
      "mse train_loss 0.000392795819898997\n",
      "torch.Size([1, 20837, 2]) torch.Size([1, 20837, 4]) torch.Size([1, 5209, 2]) torch.Size([1, 5209, 4])\n",
      "torch.Size([1, 5209, 4])\n",
      "val_loss =  0.019400515\n",
      "-----------------------------------------------------------------------\n"
     ]
    },
    {
     "data": {
      "application/vnd.jupyter.widget-view+json": {
       "model_id": "c4c7316b40cf4122b2b53368ee6c2b89",
       "version_major": 2,
       "version_minor": 0
      },
      "text/plain": [
       "  0%|          | 0/53 [00:00<?, ?it/s]"
      ]
     },
     "metadata": {},
     "output_type": "display_data"
    },
    {
     "name": "stdout",
     "output_type": "stream",
     "text": [
      "143\n",
      "ELBO train_loss -2.8692083988549575\n",
      "mse train_loss 0.0003908436524655389\n",
      "torch.Size([1, 20837, 2]) torch.Size([1, 20837, 4]) torch.Size([1, 5209, 2]) torch.Size([1, 5209, 4])\n",
      "torch.Size([1, 5209, 4])\n",
      "val_loss =  0.024869444\n",
      "-----------------------------------------------------------------------\n"
     ]
    },
    {
     "data": {
      "application/vnd.jupyter.widget-view+json": {
       "model_id": "2c9077a0afe14925af5df4ed6cf75773",
       "version_major": 2,
       "version_minor": 0
      },
      "text/plain": [
       "  0%|          | 0/53 [00:00<?, ?it/s]"
      ]
     },
     "metadata": {},
     "output_type": "display_data"
    },
    {
     "name": "stdout",
     "output_type": "stream",
     "text": [
      "144\n",
      "ELBO train_loss -2.8791690682465174\n",
      "mse train_loss 0.0003709720715634384\n",
      "torch.Size([1, 20837, 2]) torch.Size([1, 20837, 4]) torch.Size([1, 5209, 2]) torch.Size([1, 5209, 4])\n",
      "torch.Size([1, 5209, 4])\n",
      "val_loss =  0.015912987\n",
      "-----------------------------------------------------------------------\n"
     ]
    },
    {
     "data": {
      "application/vnd.jupyter.widget-view+json": {
       "model_id": "d42b483abe8742db8b8b6c1a31a228ba",
       "version_major": 2,
       "version_minor": 0
      },
      "text/plain": [
       "  0%|          | 0/53 [00:00<?, ?it/s]"
      ]
     },
     "metadata": {},
     "output_type": "display_data"
    },
    {
     "name": "stdout",
     "output_type": "stream",
     "text": [
      "145\n",
      "ELBO train_loss -2.8610323330141463\n",
      "mse train_loss 0.00039086656624073477\n",
      "torch.Size([1, 20837, 2]) torch.Size([1, 20837, 4]) torch.Size([1, 5209, 2]) torch.Size([1, 5209, 4])\n",
      "torch.Size([1, 5209, 4])\n",
      "val_loss =  0.044660263\n",
      "-----------------------------------------------------------------------\n"
     ]
    },
    {
     "data": {
      "application/vnd.jupyter.widget-view+json": {
       "model_id": "eaea4a226a28441b8ba1300eec75f8cd",
       "version_major": 2,
       "version_minor": 0
      },
      "text/plain": [
       "  0%|          | 0/53 [00:00<?, ?it/s]"
      ]
     },
     "metadata": {},
     "output_type": "display_data"
    },
    {
     "name": "stdout",
     "output_type": "stream",
     "text": [
      "146\n",
      "ELBO train_loss -2.813949076634533\n",
      "mse train_loss 0.00038792707936460467\n",
      "torch.Size([1, 20837, 2]) torch.Size([1, 20837, 4]) torch.Size([1, 5209, 2]) torch.Size([1, 5209, 4])\n",
      "torch.Size([1, 5209, 4])\n",
      "val_loss =  0.021527898\n",
      "-----------------------------------------------------------------------\n"
     ]
    },
    {
     "data": {
      "application/vnd.jupyter.widget-view+json": {
       "model_id": "86de0743321c45d4b2567b8f587862e8",
       "version_major": 2,
       "version_minor": 0
      },
      "text/plain": [
       "  0%|          | 0/53 [00:00<?, ?it/s]"
      ]
     },
     "metadata": {},
     "output_type": "display_data"
    },
    {
     "name": "stdout",
     "output_type": "stream",
     "text": [
      "147\n",
      "ELBO train_loss -2.8453541504886917\n",
      "mse train_loss 0.00038857949828456666\n",
      "torch.Size([1, 20837, 2]) torch.Size([1, 20837, 4]) torch.Size([1, 5209, 2]) torch.Size([1, 5209, 4])\n",
      "torch.Size([1, 5209, 4])\n",
      "val_loss =  0.029121662\n",
      "-----------------------------------------------------------------------\n"
     ]
    },
    {
     "data": {
      "application/vnd.jupyter.widget-view+json": {
       "model_id": "d0a17ba7f1ce48f18d2f7e7fcf204b84",
       "version_major": 2,
       "version_minor": 0
      },
      "text/plain": [
       "  0%|          | 0/53 [00:00<?, ?it/s]"
      ]
     },
     "metadata": {},
     "output_type": "display_data"
    },
    {
     "name": "stdout",
     "output_type": "stream",
     "text": [
      "148\n",
      "ELBO train_loss -2.8266844749450684\n",
      "mse train_loss 0.0003909584786083971\n",
      "torch.Size([1, 20837, 2]) torch.Size([1, 20837, 4]) torch.Size([1, 5209, 2]) torch.Size([1, 5209, 4])\n",
      "torch.Size([1, 5209, 4])\n",
      "val_loss =  0.021506302\n",
      "-----------------------------------------------------------------------\n"
     ]
    },
    {
     "data": {
      "application/vnd.jupyter.widget-view+json": {
       "model_id": "cadd43cb1a17455e98b0f6bf94d04e35",
       "version_major": 2,
       "version_minor": 0
      },
      "text/plain": [
       "  0%|          | 0/53 [00:00<?, ?it/s]"
      ]
     },
     "metadata": {},
     "output_type": "display_data"
    },
    {
     "name": "stdout",
     "output_type": "stream",
     "text": [
      "149\n",
      "ELBO train_loss -2.8668200002526336\n",
      "mse train_loss 0.0003809605912911653\n",
      "torch.Size([1, 20837, 2]) torch.Size([1, 20837, 4]) torch.Size([1, 5209, 2]) torch.Size([1, 5209, 4])\n",
      "torch.Size([1, 5209, 4])\n",
      "val_loss =  0.031942423\n",
      "-----------------------------------------------------------------------\n"
     ]
    },
    {
     "data": {
      "application/vnd.jupyter.widget-view+json": {
       "model_id": "f08275fce3e1462ab211c9c7f0410436",
       "version_major": 2,
       "version_minor": 0
      },
      "text/plain": [
       "  0%|          | 0/53 [00:00<?, ?it/s]"
      ]
     },
     "metadata": {},
     "output_type": "display_data"
    },
    {
     "name": "stdout",
     "output_type": "stream",
     "text": [
      "150\n",
      "ELBO train_loss -2.8083037987070263\n",
      "mse train_loss 0.0004270665994449958\n",
      "torch.Size([1, 20837, 2]) torch.Size([1, 20837, 4]) torch.Size([1, 5209, 2]) torch.Size([1, 5209, 4])\n",
      "torch.Size([1, 5209, 4])\n",
      "val_loss =  0.038877442\n",
      "-----------------------------------------------------------------------\n"
     ]
    },
    {
     "data": {
      "application/vnd.jupyter.widget-view+json": {
       "model_id": "42d9b90d7f4243628326859389ddc3af",
       "version_major": 2,
       "version_minor": 0
      },
      "text/plain": [
       "  0%|          | 0/53 [00:00<?, ?it/s]"
      ]
     },
     "metadata": {},
     "output_type": "display_data"
    },
    {
     "name": "stdout",
     "output_type": "stream",
     "text": [
      "151\n",
      "ELBO train_loss -2.810326524500577\n",
      "mse train_loss 0.00039653049233887906\n",
      "torch.Size([1, 20837, 2]) torch.Size([1, 20837, 4]) torch.Size([1, 5209, 2]) torch.Size([1, 5209, 4])\n",
      "torch.Size([1, 5209, 4])\n",
      "val_loss =  0.020682983\n",
      "-----------------------------------------------------------------------\n"
     ]
    },
    {
     "data": {
      "application/vnd.jupyter.widget-view+json": {
       "model_id": "3fc95ff75df2482fa957500193220423",
       "version_major": 2,
       "version_minor": 0
      },
      "text/plain": [
       "  0%|          | 0/53 [00:00<?, ?it/s]"
      ]
     },
     "metadata": {},
     "output_type": "display_data"
    },
    {
     "name": "stdout",
     "output_type": "stream",
     "text": [
      "152\n",
      "ELBO train_loss -2.8780521311849916\n",
      "mse train_loss 0.0003879702793333223\n",
      "torch.Size([1, 20837, 2]) torch.Size([1, 20837, 4]) torch.Size([1, 5209, 2]) torch.Size([1, 5209, 4])\n",
      "torch.Size([1, 5209, 4])\n",
      "val_loss =  0.018776275\n",
      "-----------------------------------------------------------------------\n"
     ]
    },
    {
     "data": {
      "application/vnd.jupyter.widget-view+json": {
       "model_id": "bf07d773da884c2ca0be3f37c835e7f1",
       "version_major": 2,
       "version_minor": 0
      },
      "text/plain": [
       "  0%|          | 0/53 [00:00<?, ?it/s]"
      ]
     },
     "metadata": {},
     "output_type": "display_data"
    },
    {
     "name": "stdout",
     "output_type": "stream",
     "text": [
      "153\n",
      "ELBO train_loss -2.882470427819018\n",
      "mse train_loss 0.00038785658741615853\n",
      "torch.Size([1, 20837, 2]) torch.Size([1, 20837, 4]) torch.Size([1, 5209, 2]) torch.Size([1, 5209, 4])\n",
      "torch.Size([1, 5209, 4])\n",
      "val_loss =  0.018038506\n",
      "-----------------------------------------------------------------------\n"
     ]
    },
    {
     "data": {
      "application/vnd.jupyter.widget-view+json": {
       "model_id": "9a4af62d87ac434aab59b139aa2d28fa",
       "version_major": 2,
       "version_minor": 0
      },
      "text/plain": [
       "  0%|          | 0/53 [00:00<?, ?it/s]"
      ]
     },
     "metadata": {},
     "output_type": "display_data"
    },
    {
     "name": "stdout",
     "output_type": "stream",
     "text": [
      "154\n",
      "ELBO train_loss -2.882865199502909\n",
      "mse train_loss 0.00037209105014555016\n",
      "torch.Size([1, 20837, 2]) torch.Size([1, 20837, 4]) torch.Size([1, 5209, 2]) torch.Size([1, 5209, 4])\n",
      "torch.Size([1, 5209, 4])\n",
      "val_loss =  0.0182118\n",
      "-----------------------------------------------------------------------\n"
     ]
    },
    {
     "data": {
      "application/vnd.jupyter.widget-view+json": {
       "model_id": "60adc806dd9846c6add546866782786e",
       "version_major": 2,
       "version_minor": 0
      },
      "text/plain": [
       "  0%|          | 0/53 [00:00<?, ?it/s]"
      ]
     },
     "metadata": {},
     "output_type": "display_data"
    },
    {
     "name": "stdout",
     "output_type": "stream",
     "text": [
      "155\n",
      "ELBO train_loss -2.8743696167783916\n",
      "mse train_loss 0.0003912321059582404\n",
      "torch.Size([1, 20837, 2]) torch.Size([1, 20837, 4]) torch.Size([1, 5209, 2]) torch.Size([1, 5209, 4])\n",
      "torch.Size([1, 5209, 4])\n",
      "val_loss =  0.024787799\n",
      "-----------------------------------------------------------------------\n"
     ]
    },
    {
     "data": {
      "application/vnd.jupyter.widget-view+json": {
       "model_id": "8c8f12224d014b69bd228c33eb278a6f",
       "version_major": 2,
       "version_minor": 0
      },
      "text/plain": [
       "  0%|          | 0/53 [00:00<?, ?it/s]"
      ]
     },
     "metadata": {},
     "output_type": "display_data"
    },
    {
     "name": "stdout",
     "output_type": "stream",
     "text": [
      "156\n",
      "ELBO train_loss -2.865720416015049\n",
      "mse train_loss 0.00039357266977499677\n",
      "torch.Size([1, 20837, 2]) torch.Size([1, 20837, 4]) torch.Size([1, 5209, 2]) torch.Size([1, 5209, 4])\n",
      "torch.Size([1, 5209, 4])\n",
      "val_loss =  0.019224154\n",
      "-----------------------------------------------------------------------\n"
     ]
    },
    {
     "data": {
      "application/vnd.jupyter.widget-view+json": {
       "model_id": "d5ba3a0ec06446d78d604b86f62ac6b0",
       "version_major": 2,
       "version_minor": 0
      },
      "text/plain": [
       "  0%|          | 0/53 [00:00<?, ?it/s]"
      ]
     },
     "metadata": {},
     "output_type": "display_data"
    },
    {
     "name": "stdout",
     "output_type": "stream",
     "text": [
      "157\n",
      "ELBO train_loss -2.8771630413127394\n",
      "mse train_loss 0.00038356923790349855\n",
      "torch.Size([1, 20837, 2]) torch.Size([1, 20837, 4]) torch.Size([1, 5209, 2]) torch.Size([1, 5209, 4])\n",
      "torch.Size([1, 5209, 4])\n",
      "val_loss =  0.017459322\n",
      "-----------------------------------------------------------------------\n"
     ]
    },
    {
     "data": {
      "application/vnd.jupyter.widget-view+json": {
       "model_id": "2c830473baca409e9fb2c1f21d3da6e3",
       "version_major": 2,
       "version_minor": 0
      },
      "text/plain": [
       "  0%|          | 0/53 [00:00<?, ?it/s]"
      ]
     },
     "metadata": {},
     "output_type": "display_data"
    },
    {
     "name": "stdout",
     "output_type": "stream",
     "text": [
      "158\n",
      "ELBO train_loss -2.8367187983866007\n",
      "mse train_loss 0.00038685984739304503\n",
      "torch.Size([1, 20837, 2]) torch.Size([1, 20837, 4]) torch.Size([1, 5209, 2]) torch.Size([1, 5209, 4])\n",
      "torch.Size([1, 5209, 4])\n",
      "val_loss =  0.028658686\n",
      "-----------------------------------------------------------------------\n"
     ]
    },
    {
     "data": {
      "application/vnd.jupyter.widget-view+json": {
       "model_id": "b93956b1470749e993b67a21b21a974a",
       "version_major": 2,
       "version_minor": 0
      },
      "text/plain": [
       "  0%|          | 0/53 [00:00<?, ?it/s]"
      ]
     },
     "metadata": {},
     "output_type": "display_data"
    },
    {
     "name": "stdout",
     "output_type": "stream",
     "text": [
      "159\n",
      "ELBO train_loss -2.856478232257771\n",
      "mse train_loss 0.00038679293439205175\n",
      "torch.Size([1, 20837, 2]) torch.Size([1, 20837, 4]) torch.Size([1, 5209, 2]) torch.Size([1, 5209, 4])\n",
      "torch.Size([1, 5209, 4])\n",
      "val_loss =  0.024945142\n",
      "-----------------------------------------------------------------------\n"
     ]
    },
    {
     "data": {
      "application/vnd.jupyter.widget-view+json": {
       "model_id": "a46859a739094068859d5b17cb120067",
       "version_major": 2,
       "version_minor": 0
      },
      "text/plain": [
       "  0%|          | 0/53 [00:00<?, ?it/s]"
      ]
     },
     "metadata": {},
     "output_type": "display_data"
    },
    {
     "name": "stdout",
     "output_type": "stream",
     "text": [
      "160\n",
      "ELBO train_loss -2.8721246584406437\n",
      "mse train_loss 0.0003884245667887746\n",
      "torch.Size([1, 20837, 2]) torch.Size([1, 20837, 4]) torch.Size([1, 5209, 2]) torch.Size([1, 5209, 4])\n",
      "torch.Size([1, 5209, 4])\n",
      "val_loss =  0.021576945\n",
      "-----------------------------------------------------------------------\n"
     ]
    },
    {
     "data": {
      "application/vnd.jupyter.widget-view+json": {
       "model_id": "aaaf7efe8cb942b891747006e05b85cd",
       "version_major": 2,
       "version_minor": 0
      },
      "text/plain": [
       "  0%|          | 0/53 [00:00<?, ?it/s]"
      ]
     },
     "metadata": {},
     "output_type": "display_data"
    },
    {
     "name": "stdout",
     "output_type": "stream",
     "text": [
      "161\n",
      "ELBO train_loss -2.8773518643289244\n",
      "mse train_loss 0.000373224415080534\n",
      "torch.Size([1, 20837, 2]) torch.Size([1, 20837, 4]) torch.Size([1, 5209, 2]) torch.Size([1, 5209, 4])\n",
      "torch.Size([1, 5209, 4])\n",
      "val_loss =  0.018797044\n",
      "-----------------------------------------------------------------------\n"
     ]
    },
    {
     "data": {
      "application/vnd.jupyter.widget-view+json": {
       "model_id": "97dd19d122ee4a008e71de277be2486c",
       "version_major": 2,
       "version_minor": 0
      },
      "text/plain": [
       "  0%|          | 0/53 [00:00<?, ?it/s]"
      ]
     },
     "metadata": {},
     "output_type": "display_data"
    },
    {
     "name": "stdout",
     "output_type": "stream",
     "text": [
      "162\n",
      "ELBO train_loss -2.8906463587059164\n",
      "mse train_loss 0.0003660686387140128\n",
      "torch.Size([1, 20837, 2]) torch.Size([1, 20837, 4]) torch.Size([1, 5209, 2]) torch.Size([1, 5209, 4])\n",
      "torch.Size([1, 5209, 4])\n",
      "val_loss =  0.018553153\n",
      "-----------------------------------------------------------------------\n"
     ]
    },
    {
     "data": {
      "application/vnd.jupyter.widget-view+json": {
       "model_id": "bff24db3606c4a09a5210619cfc5e659",
       "version_major": 2,
       "version_minor": 0
      },
      "text/plain": [
       "  0%|          | 0/53 [00:00<?, ?it/s]"
      ]
     },
     "metadata": {},
     "output_type": "display_data"
    },
    {
     "name": "stdout",
     "output_type": "stream",
     "text": [
      "163\n",
      "ELBO train_loss -2.8922863546407447\n",
      "mse train_loss 0.00037673077071612735\n",
      "torch.Size([1, 20837, 2]) torch.Size([1, 20837, 4]) torch.Size([1, 5209, 2]) torch.Size([1, 5209, 4])\n",
      "torch.Size([1, 5209, 4])\n",
      "val_loss =  0.011548341\n",
      "-----------------------------------------------------------------------\n"
     ]
    },
    {
     "data": {
      "application/vnd.jupyter.widget-view+json": {
       "model_id": "363581587092447591e09d73c4545a44",
       "version_major": 2,
       "version_minor": 0
      },
      "text/plain": [
       "  0%|          | 0/53 [00:00<?, ?it/s]"
      ]
     },
     "metadata": {},
     "output_type": "display_data"
    },
    {
     "name": "stdout",
     "output_type": "stream",
     "text": [
      "164\n",
      "ELBO train_loss -2.9038295475941784\n",
      "mse train_loss 0.00035571995194570846\n",
      "torch.Size([1, 20837, 2]) torch.Size([1, 20837, 4]) torch.Size([1, 5209, 2]) torch.Size([1, 5209, 4])\n",
      "torch.Size([1, 5209, 4])\n",
      "val_loss =  0.012743288\n",
      "-----------------------------------------------------------------------\n"
     ]
    },
    {
     "data": {
      "application/vnd.jupyter.widget-view+json": {
       "model_id": "8a634d82804a438abfdbd1c11c75b154",
       "version_major": 2,
       "version_minor": 0
      },
      "text/plain": [
       "  0%|          | 0/53 [00:00<?, ?it/s]"
      ]
     },
     "metadata": {},
     "output_type": "display_data"
    },
    {
     "name": "stdout",
     "output_type": "stream",
     "text": [
      "165\n",
      "ELBO train_loss -2.898029388121839\n",
      "mse train_loss 0.00038517355333512896\n",
      "torch.Size([1, 20837, 2]) torch.Size([1, 20837, 4]) torch.Size([1, 5209, 2]) torch.Size([1, 5209, 4])\n",
      "torch.Size([1, 5209, 4])\n",
      "val_loss =  0.021735154\n",
      "-----------------------------------------------------------------------\n"
     ]
    },
    {
     "data": {
      "application/vnd.jupyter.widget-view+json": {
       "model_id": "00f13beef49043308058ab3f5eefccf8",
       "version_major": 2,
       "version_minor": 0
      },
      "text/plain": [
       "  0%|          | 0/53 [00:00<?, ?it/s]"
      ]
     },
     "metadata": {},
     "output_type": "display_data"
    },
    {
     "name": "stdout",
     "output_type": "stream",
     "text": [
      "166\n",
      "ELBO train_loss -2.8943143385761188\n",
      "mse train_loss 0.0003681928921548017\n",
      "torch.Size([1, 20837, 2]) torch.Size([1, 20837, 4]) torch.Size([1, 5209, 2]) torch.Size([1, 5209, 4])\n",
      "torch.Size([1, 5209, 4])\n",
      "val_loss =  0.026069101\n",
      "-----------------------------------------------------------------------\n"
     ]
    },
    {
     "data": {
      "application/vnd.jupyter.widget-view+json": {
       "model_id": "2790a258b810427a9c0b0a63be744c5c",
       "version_major": 2,
       "version_minor": 0
      },
      "text/plain": [
       "  0%|          | 0/53 [00:00<?, ?it/s]"
      ]
     },
     "metadata": {},
     "output_type": "display_data"
    },
    {
     "name": "stdout",
     "output_type": "stream",
     "text": [
      "167\n",
      "ELBO train_loss -2.8809936001615704\n",
      "mse train_loss 0.00037460973544511944\n",
      "torch.Size([1, 20837, 2]) torch.Size([1, 20837, 4]) torch.Size([1, 5209, 2]) torch.Size([1, 5209, 4])\n",
      "torch.Size([1, 5209, 4])\n",
      "val_loss =  0.022071948\n",
      "-----------------------------------------------------------------------\n"
     ]
    },
    {
     "data": {
      "application/vnd.jupyter.widget-view+json": {
       "model_id": "3beef45d7b77421795003db8157b8f6f",
       "version_major": 2,
       "version_minor": 0
      },
      "text/plain": [
       "  0%|          | 0/53 [00:00<?, ?it/s]"
      ]
     },
     "metadata": {},
     "output_type": "display_data"
    },
    {
     "name": "stdout",
     "output_type": "stream",
     "text": [
      "168\n",
      "ELBO train_loss -2.843641016280876\n",
      "mse train_loss 0.00040279257903095194\n",
      "torch.Size([1, 20837, 2]) torch.Size([1, 20837, 4]) torch.Size([1, 5209, 2]) torch.Size([1, 5209, 4])\n",
      "torch.Size([1, 5209, 4])\n",
      "val_loss =  0.034608122\n",
      "-----------------------------------------------------------------------\n"
     ]
    },
    {
     "data": {
      "application/vnd.jupyter.widget-view+json": {
       "model_id": "a4cd7929859c4aee8742ff61fe8e975c",
       "version_major": 2,
       "version_minor": 0
      },
      "text/plain": [
       "  0%|          | 0/53 [00:00<?, ?it/s]"
      ]
     },
     "metadata": {},
     "output_type": "display_data"
    },
    {
     "name": "stdout",
     "output_type": "stream",
     "text": [
      "169\n",
      "ELBO train_loss -2.831554453327971\n",
      "mse train_loss 0.00040914611929351077\n",
      "torch.Size([1, 20837, 2]) torch.Size([1, 20837, 4]) torch.Size([1, 5209, 2]) torch.Size([1, 5209, 4])\n",
      "torch.Size([1, 5209, 4])\n",
      "val_loss =  0.024178142\n",
      "-----------------------------------------------------------------------\n"
     ]
    },
    {
     "data": {
      "application/vnd.jupyter.widget-view+json": {
       "model_id": "9b812383cfdb48e7a8ef19a6d439d5b4",
       "version_major": 2,
       "version_minor": 0
      },
      "text/plain": [
       "  0%|          | 0/53 [00:00<?, ?it/s]"
      ]
     },
     "metadata": {},
     "output_type": "display_data"
    },
    {
     "name": "stdout",
     "output_type": "stream",
     "text": [
      "170\n",
      "ELBO train_loss -2.8976258106951445\n",
      "mse train_loss 0.0003662515760570729\n",
      "torch.Size([1, 20837, 2]) torch.Size([1, 20837, 4]) torch.Size([1, 5209, 2]) torch.Size([1, 5209, 4])\n",
      "torch.Size([1, 5209, 4])\n",
      "val_loss =  0.014768819\n",
      "-----------------------------------------------------------------------\n"
     ]
    },
    {
     "data": {
      "application/vnd.jupyter.widget-view+json": {
       "model_id": "3d6f7adb0b0f4de5a3d47629ef2e8222",
       "version_major": 2,
       "version_minor": 0
      },
      "text/plain": [
       "  0%|          | 0/53 [00:00<?, ?it/s]"
      ]
     },
     "metadata": {},
     "output_type": "display_data"
    },
    {
     "name": "stdout",
     "output_type": "stream",
     "text": [
      "171\n",
      "ELBO train_loss -2.750285450017677\n",
      "mse train_loss 0.0004241053662416613\n",
      "torch.Size([1, 20837, 2]) torch.Size([1, 20837, 4]) torch.Size([1, 5209, 2]) torch.Size([1, 5209, 4])\n",
      "torch.Size([1, 5209, 4])\n",
      "val_loss =  0.04325812\n",
      "-----------------------------------------------------------------------\n"
     ]
    },
    {
     "data": {
      "application/vnd.jupyter.widget-view+json": {
       "model_id": "c8f8ea82d66a41718b80e93e7109375a",
       "version_major": 2,
       "version_minor": 0
      },
      "text/plain": [
       "  0%|          | 0/53 [00:00<?, ?it/s]"
      ]
     },
     "metadata": {},
     "output_type": "display_data"
    },
    {
     "name": "stdout",
     "output_type": "stream",
     "text": [
      "172\n",
      "ELBO train_loss -2.7535977183647877\n",
      "mse train_loss 0.0004358716212423905\n",
      "torch.Size([1, 20837, 2]) torch.Size([1, 20837, 4]) torch.Size([1, 5209, 2]) torch.Size([1, 5209, 4])\n",
      "torch.Size([1, 5209, 4])\n",
      "val_loss =  0.033679396\n",
      "-----------------------------------------------------------------------\n"
     ]
    },
    {
     "data": {
      "application/vnd.jupyter.widget-view+json": {
       "model_id": "cbb642f1d4b042428e758f791a2480e4",
       "version_major": 2,
       "version_minor": 0
      },
      "text/plain": [
       "  0%|          | 0/53 [00:00<?, ?it/s]"
      ]
     },
     "metadata": {},
     "output_type": "display_data"
    },
    {
     "name": "stdout",
     "output_type": "stream",
     "text": [
      "173\n",
      "ELBO train_loss -2.852871004140602\n",
      "mse train_loss 0.000397838423696329\n",
      "torch.Size([1, 20837, 2]) torch.Size([1, 20837, 4]) torch.Size([1, 5209, 2]) torch.Size([1, 5209, 4])\n",
      "torch.Size([1, 5209, 4])\n",
      "val_loss =  0.01976156\n",
      "-----------------------------------------------------------------------\n"
     ]
    },
    {
     "data": {
      "application/vnd.jupyter.widget-view+json": {
       "model_id": "ba61e85847b24cd6b27e85bafe498e20",
       "version_major": 2,
       "version_minor": 0
      },
      "text/plain": [
       "  0%|          | 0/53 [00:00<?, ?it/s]"
      ]
     },
     "metadata": {},
     "output_type": "display_data"
    },
    {
     "name": "stdout",
     "output_type": "stream",
     "text": [
      "174\n",
      "ELBO train_loss -2.874987341322989\n",
      "mse train_loss 0.0003895174905785166\n",
      "torch.Size([1, 20837, 2]) torch.Size([1, 20837, 4]) torch.Size([1, 5209, 2]) torch.Size([1, 5209, 4])\n",
      "torch.Size([1, 5209, 4])\n",
      "val_loss =  0.022980476\n",
      "-----------------------------------------------------------------------\n"
     ]
    },
    {
     "data": {
      "application/vnd.jupyter.widget-view+json": {
       "model_id": "a41c3e4fff2c4193aea56af8ddd3d80a",
       "version_major": 2,
       "version_minor": 0
      },
      "text/plain": [
       "  0%|          | 0/53 [00:00<?, ?it/s]"
      ]
     },
     "metadata": {},
     "output_type": "display_data"
    },
    {
     "name": "stdout",
     "output_type": "stream",
     "text": [
      "175\n",
      "ELBO train_loss -2.870921476831976\n",
      "mse train_loss 0.0003729398842277181\n",
      "torch.Size([1, 20837, 2]) torch.Size([1, 20837, 4]) torch.Size([1, 5209, 2]) torch.Size([1, 5209, 4])\n",
      "torch.Size([1, 5209, 4])\n",
      "val_loss =  0.04316494\n",
      "-----------------------------------------------------------------------\n"
     ]
    },
    {
     "data": {
      "application/vnd.jupyter.widget-view+json": {
       "model_id": "99a05b1f12804532a3a899f43a7532a6",
       "version_major": 2,
       "version_minor": 0
      },
      "text/plain": [
       "  0%|          | 0/53 [00:00<?, ?it/s]"
      ]
     },
     "metadata": {},
     "output_type": "display_data"
    },
    {
     "name": "stdout",
     "output_type": "stream",
     "text": [
      "176\n",
      "ELBO train_loss -2.824267014017645\n",
      "mse train_loss 0.0004075158273203755\n",
      "torch.Size([1, 20837, 2]) torch.Size([1, 20837, 4]) torch.Size([1, 5209, 2]) torch.Size([1, 5209, 4])\n",
      "torch.Size([1, 5209, 4])\n",
      "val_loss =  0.020249136\n",
      "-----------------------------------------------------------------------\n"
     ]
    },
    {
     "data": {
      "application/vnd.jupyter.widget-view+json": {
       "model_id": "b03e519a3fb244ab946ee87e31544fbb",
       "version_major": 2,
       "version_minor": 0
      },
      "text/plain": [
       "  0%|          | 0/53 [00:00<?, ?it/s]"
      ]
     },
     "metadata": {},
     "output_type": "display_data"
    },
    {
     "name": "stdout",
     "output_type": "stream",
     "text": [
      "177\n",
      "ELBO train_loss -2.8890671100256577\n",
      "mse train_loss 0.000377225859819929\n",
      "torch.Size([1, 20837, 2]) torch.Size([1, 20837, 4]) torch.Size([1, 5209, 2]) torch.Size([1, 5209, 4])\n",
      "torch.Size([1, 5209, 4])\n",
      "val_loss =  0.016551444\n",
      "-----------------------------------------------------------------------\n"
     ]
    },
    {
     "data": {
      "application/vnd.jupyter.widget-view+json": {
       "model_id": "a2993053a7884acd8317b92cf9514baa",
       "version_major": 2,
       "version_minor": 0
      },
      "text/plain": [
       "  0%|          | 0/53 [00:00<?, ?it/s]"
      ]
     },
     "metadata": {},
     "output_type": "display_data"
    },
    {
     "name": "stdout",
     "output_type": "stream",
     "text": [
      "178\n",
      "ELBO train_loss -2.894300267381488\n",
      "mse train_loss 0.00038325494179449414\n",
      "torch.Size([1, 20837, 2]) torch.Size([1, 20837, 4]) torch.Size([1, 5209, 2]) torch.Size([1, 5209, 4])\n",
      "torch.Size([1, 5209, 4])\n",
      "val_loss =  0.0247359\n",
      "-----------------------------------------------------------------------\n"
     ]
    },
    {
     "data": {
      "application/vnd.jupyter.widget-view+json": {
       "model_id": "fbc3dd7f4e83463ab1cff105498e9c84",
       "version_major": 2,
       "version_minor": 0
      },
      "text/plain": [
       "  0%|          | 0/53 [00:00<?, ?it/s]"
      ]
     },
     "metadata": {},
     "output_type": "display_data"
    },
    {
     "name": "stdout",
     "output_type": "stream",
     "text": [
      "179\n",
      "ELBO train_loss -2.8601305361063973\n",
      "mse train_loss 0.00038253521202966784\n",
      "torch.Size([1, 20837, 2]) torch.Size([1, 20837, 4]) torch.Size([1, 5209, 2]) torch.Size([1, 5209, 4])\n",
      "torch.Size([1, 5209, 4])\n",
      "val_loss =  0.031422973\n",
      "-----------------------------------------------------------------------\n"
     ]
    },
    {
     "data": {
      "application/vnd.jupyter.widget-view+json": {
       "model_id": "085483172d2f46529e37c62338704040",
       "version_major": 2,
       "version_minor": 0
      },
      "text/plain": [
       "  0%|          | 0/53 [00:00<?, ?it/s]"
      ]
     },
     "metadata": {},
     "output_type": "display_data"
    },
    {
     "name": "stdout",
     "output_type": "stream",
     "text": [
      "180\n",
      "ELBO train_loss -2.8440344041248538\n",
      "mse train_loss 0.00038826665297405407\n",
      "torch.Size([1, 20837, 2]) torch.Size([1, 20837, 4]) torch.Size([1, 5209, 2]) torch.Size([1, 5209, 4])\n",
      "torch.Size([1, 5209, 4])\n",
      "val_loss =  0.019292945\n",
      "-----------------------------------------------------------------------\n"
     ]
    },
    {
     "data": {
      "application/vnd.jupyter.widget-view+json": {
       "model_id": "fd5562bd81e84992b0892c6d30ed61e4",
       "version_major": 2,
       "version_minor": 0
      },
      "text/plain": [
       "  0%|          | 0/53 [00:00<?, ?it/s]"
      ]
     },
     "metadata": {},
     "output_type": "display_data"
    },
    {
     "name": "stdout",
     "output_type": "stream",
     "text": [
      "181\n",
      "ELBO train_loss -2.878740027265729\n",
      "mse train_loss 0.0003908992553336265\n",
      "torch.Size([1, 20837, 2]) torch.Size([1, 20837, 4]) torch.Size([1, 5209, 2]) torch.Size([1, 5209, 4])\n",
      "torch.Size([1, 5209, 4])\n",
      "val_loss =  0.021293286\n",
      "-----------------------------------------------------------------------\n"
     ]
    },
    {
     "data": {
      "application/vnd.jupyter.widget-view+json": {
       "model_id": "81248a7dfdba460c99c1219a18f6231d",
       "version_major": 2,
       "version_minor": 0
      },
      "text/plain": [
       "  0%|          | 0/53 [00:00<?, ?it/s]"
      ]
     },
     "metadata": {},
     "output_type": "display_data"
    },
    {
     "name": "stdout",
     "output_type": "stream",
     "text": [
      "182\n",
      "ELBO train_loss -2.9105441345358796\n",
      "mse train_loss 0.00036576327693182975\n",
      "torch.Size([1, 20837, 2]) torch.Size([1, 20837, 4]) torch.Size([1, 5209, 2]) torch.Size([1, 5209, 4])\n",
      "torch.Size([1, 5209, 4])\n",
      "val_loss =  0.019475816\n",
      "-----------------------------------------------------------------------\n"
     ]
    },
    {
     "data": {
      "application/vnd.jupyter.widget-view+json": {
       "model_id": "b6c37a1eb10b4602b45bbf2fe46c5bf9",
       "version_major": 2,
       "version_minor": 0
      },
      "text/plain": [
       "  0%|          | 0/53 [00:00<?, ?it/s]"
      ]
     },
     "metadata": {},
     "output_type": "display_data"
    },
    {
     "name": "stdout",
     "output_type": "stream",
     "text": [
      "183\n",
      "ELBO train_loss -2.918705998726611\n",
      "mse train_loss 0.0003631172247586842\n",
      "torch.Size([1, 20837, 2]) torch.Size([1, 20837, 4]) torch.Size([1, 5209, 2]) torch.Size([1, 5209, 4])\n",
      "torch.Size([1, 5209, 4])\n",
      "val_loss =  0.010069778\n",
      "-----------------------------------------------------------------------\n"
     ]
    },
    {
     "data": {
      "application/vnd.jupyter.widget-view+json": {
       "model_id": "89fed6bad25d4634895075b385f50942",
       "version_major": 2,
       "version_minor": 0
      },
      "text/plain": [
       "  0%|          | 0/53 [00:00<?, ?it/s]"
      ]
     },
     "metadata": {},
     "output_type": "display_data"
    },
    {
     "name": "stdout",
     "output_type": "stream",
     "text": [
      "184\n",
      "ELBO train_loss -2.9087651180771164\n",
      "mse train_loss 0.00035283522722135595\n",
      "torch.Size([1, 20837, 2]) torch.Size([1, 20837, 4]) torch.Size([1, 5209, 2]) torch.Size([1, 5209, 4])\n",
      "torch.Size([1, 5209, 4])\n",
      "val_loss =  0.014048449\n",
      "-----------------------------------------------------------------------\n"
     ]
    },
    {
     "data": {
      "application/vnd.jupyter.widget-view+json": {
       "model_id": "41a0464c928d40709cd7ed78403cb582",
       "version_major": 2,
       "version_minor": 0
      },
      "text/plain": [
       "  0%|          | 0/53 [00:00<?, ?it/s]"
      ]
     },
     "metadata": {},
     "output_type": "display_data"
    },
    {
     "name": "stdout",
     "output_type": "stream",
     "text": [
      "185\n",
      "ELBO train_loss -2.9063973066941746\n",
      "mse train_loss 0.0003636134892728461\n",
      "torch.Size([1, 20837, 2]) torch.Size([1, 20837, 4]) torch.Size([1, 5209, 2]) torch.Size([1, 5209, 4])\n",
      "torch.Size([1, 5209, 4])\n",
      "val_loss =  0.015408349\n",
      "-----------------------------------------------------------------------\n"
     ]
    },
    {
     "data": {
      "application/vnd.jupyter.widget-view+json": {
       "model_id": "7e7ded1904874f21b01c27044af09cf9",
       "version_major": 2,
       "version_minor": 0
      },
      "text/plain": [
       "  0%|          | 0/53 [00:00<?, ?it/s]"
      ]
     },
     "metadata": {},
     "output_type": "display_data"
    },
    {
     "name": "stdout",
     "output_type": "stream",
     "text": [
      "186\n",
      "ELBO train_loss -2.916422983385482\n",
      "mse train_loss 0.00036324652868437244\n",
      "torch.Size([1, 20837, 2]) torch.Size([1, 20837, 4]) torch.Size([1, 5209, 2]) torch.Size([1, 5209, 4])\n",
      "torch.Size([1, 5209, 4])\n",
      "val_loss =  0.013998062\n",
      "-----------------------------------------------------------------------\n"
     ]
    },
    {
     "data": {
      "application/vnd.jupyter.widget-view+json": {
       "model_id": "edf50c2d703e491bb6ca6fd9927a2718",
       "version_major": 2,
       "version_minor": 0
      },
      "text/plain": [
       "  0%|          | 0/53 [00:00<?, ?it/s]"
      ]
     },
     "metadata": {},
     "output_type": "display_data"
    },
    {
     "name": "stdout",
     "output_type": "stream",
     "text": [
      "187\n",
      "ELBO train_loss -2.8914375012775637\n",
      "mse train_loss 0.0003773053621495459\n",
      "torch.Size([1, 20837, 2]) torch.Size([1, 20837, 4]) torch.Size([1, 5209, 2]) torch.Size([1, 5209, 4])\n",
      "torch.Size([1, 5209, 4])\n",
      "val_loss =  0.020863684\n",
      "-----------------------------------------------------------------------\n"
     ]
    },
    {
     "data": {
      "application/vnd.jupyter.widget-view+json": {
       "model_id": "6c1e266ea9db4817a9e9181d58c5e3c3",
       "version_major": 2,
       "version_minor": 0
      },
      "text/plain": [
       "  0%|          | 0/53 [00:00<?, ?it/s]"
      ]
     },
     "metadata": {},
     "output_type": "display_data"
    },
    {
     "name": "stdout",
     "output_type": "stream",
     "text": [
      "188\n",
      "ELBO train_loss -2.9063106212975844\n",
      "mse train_loss 0.0003734604309462362\n",
      "torch.Size([1, 20837, 2]) torch.Size([1, 20837, 4]) torch.Size([1, 5209, 2]) torch.Size([1, 5209, 4])\n",
      "torch.Size([1, 5209, 4])\n",
      "val_loss =  0.015245865\n",
      "-----------------------------------------------------------------------\n"
     ]
    },
    {
     "data": {
      "application/vnd.jupyter.widget-view+json": {
       "model_id": "229c0f36586842d390c55aa428e54fc0",
       "version_major": 2,
       "version_minor": 0
      },
      "text/plain": [
       "  0%|          | 0/53 [00:00<?, ?it/s]"
      ]
     },
     "metadata": {},
     "output_type": "display_data"
    },
    {
     "name": "stdout",
     "output_type": "stream",
     "text": [
      "189\n",
      "ELBO train_loss -2.9051669183767066\n",
      "mse train_loss 0.00037441434907586364\n",
      "torch.Size([1, 20837, 2]) torch.Size([1, 20837, 4]) torch.Size([1, 5209, 2]) torch.Size([1, 5209, 4])\n",
      "torch.Size([1, 5209, 4])\n",
      "val_loss =  0.021070791\n",
      "-----------------------------------------------------------------------\n"
     ]
    },
    {
     "data": {
      "application/vnd.jupyter.widget-view+json": {
       "model_id": "1310cac77df54bc2a8173dedaf72437d",
       "version_major": 2,
       "version_minor": 0
      },
      "text/plain": [
       "  0%|          | 0/53 [00:00<?, ?it/s]"
      ]
     },
     "metadata": {},
     "output_type": "display_data"
    },
    {
     "name": "stdout",
     "output_type": "stream",
     "text": [
      "190\n",
      "ELBO train_loss -2.8896248475560604\n",
      "mse train_loss 0.0003624906132485331\n",
      "torch.Size([1, 20837, 2]) torch.Size([1, 20837, 4]) torch.Size([1, 5209, 2]) torch.Size([1, 5209, 4])\n",
      "torch.Size([1, 5209, 4])\n",
      "val_loss =  0.024386728\n",
      "-----------------------------------------------------------------------\n"
     ]
    },
    {
     "data": {
      "application/vnd.jupyter.widget-view+json": {
       "model_id": "332b51727ea54aa99b7ab888ee48d700",
       "version_major": 2,
       "version_minor": 0
      },
      "text/plain": [
       "  0%|          | 0/53 [00:00<?, ?it/s]"
      ]
     },
     "metadata": {},
     "output_type": "display_data"
    },
    {
     "name": "stdout",
     "output_type": "stream",
     "text": [
      "191\n",
      "ELBO train_loss -2.888084150710196\n",
      "mse train_loss 0.0003853769193706542\n",
      "torch.Size([1, 20837, 2]) torch.Size([1, 20837, 4]) torch.Size([1, 5209, 2]) torch.Size([1, 5209, 4])\n",
      "torch.Size([1, 5209, 4])\n",
      "val_loss =  0.024229651\n",
      "-----------------------------------------------------------------------\n"
     ]
    },
    {
     "data": {
      "application/vnd.jupyter.widget-view+json": {
       "model_id": "ead4a76c02734460bcf1520413580dc4",
       "version_major": 2,
       "version_minor": 0
      },
      "text/plain": [
       "  0%|          | 0/53 [00:00<?, ?it/s]"
      ]
     },
     "metadata": {},
     "output_type": "display_data"
    },
    {
     "name": "stdout",
     "output_type": "stream",
     "text": [
      "192\n",
      "ELBO train_loss -2.8979804290915436\n",
      "mse train_loss 0.00039260874377159435\n",
      "torch.Size([1, 20837, 2]) torch.Size([1, 20837, 4]) torch.Size([1, 5209, 2]) torch.Size([1, 5209, 4])\n",
      "torch.Size([1, 5209, 4])\n",
      "val_loss =  0.01213028\n",
      "-----------------------------------------------------------------------\n"
     ]
    },
    {
     "data": {
      "application/vnd.jupyter.widget-view+json": {
       "model_id": "a0aa54d70d2d42aa9faeb50ef1fd1d89",
       "version_major": 2,
       "version_minor": 0
      },
      "text/plain": [
       "  0%|          | 0/53 [00:00<?, ?it/s]"
      ]
     },
     "metadata": {},
     "output_type": "display_data"
    },
    {
     "name": "stdout",
     "output_type": "stream",
     "text": [
      "193\n",
      "ELBO train_loss -2.911479057006116\n",
      "mse train_loss 0.00035248756576724844\n",
      "torch.Size([1, 20837, 2]) torch.Size([1, 20837, 4]) torch.Size([1, 5209, 2]) torch.Size([1, 5209, 4])\n",
      "torch.Size([1, 5209, 4])\n",
      "val_loss =  0.01781776\n",
      "-----------------------------------------------------------------------\n"
     ]
    },
    {
     "data": {
      "application/vnd.jupyter.widget-view+json": {
       "model_id": "694f00e9835a453d8a1049de586b2e1c",
       "version_major": 2,
       "version_minor": 0
      },
      "text/plain": [
       "  0%|          | 0/53 [00:00<?, ?it/s]"
      ]
     },
     "metadata": {},
     "output_type": "display_data"
    },
    {
     "name": "stdout",
     "output_type": "stream",
     "text": [
      "194\n",
      "ELBO train_loss -2.903986359542271\n",
      "mse train_loss 0.0003590937379861848\n",
      "torch.Size([1, 20837, 2]) torch.Size([1, 20837, 4]) torch.Size([1, 5209, 2]) torch.Size([1, 5209, 4])\n",
      "torch.Size([1, 5209, 4])\n",
      "val_loss =  0.015056159\n",
      "-----------------------------------------------------------------------\n"
     ]
    },
    {
     "data": {
      "application/vnd.jupyter.widget-view+json": {
       "model_id": "b923c5db2e4b444faf4e2b5539d15c9e",
       "version_major": 2,
       "version_minor": 0
      },
      "text/plain": [
       "  0%|          | 0/53 [00:00<?, ?it/s]"
      ]
     },
     "metadata": {},
     "output_type": "display_data"
    },
    {
     "name": "stdout",
     "output_type": "stream",
     "text": [
      "195\n",
      "ELBO train_loss -2.9095431948607824\n",
      "mse train_loss 0.00035819719943112503\n",
      "torch.Size([1, 20837, 2]) torch.Size([1, 20837, 4]) torch.Size([1, 5209, 2]) torch.Size([1, 5209, 4])\n",
      "torch.Size([1, 5209, 4])\n",
      "val_loss =  0.011822013\n",
      "-----------------------------------------------------------------------\n"
     ]
    },
    {
     "data": {
      "application/vnd.jupyter.widget-view+json": {
       "model_id": "0f52ce0bdbb44c918590cea275b06d5c",
       "version_major": 2,
       "version_minor": 0
      },
      "text/plain": [
       "  0%|          | 0/53 [00:00<?, ?it/s]"
      ]
     },
     "metadata": {},
     "output_type": "display_data"
    },
    {
     "name": "stdout",
     "output_type": "stream",
     "text": [
      "196\n",
      "ELBO train_loss -2.918958528986517\n",
      "mse train_loss 0.00037825506873525466\n",
      "torch.Size([1, 20837, 2]) torch.Size([1, 20837, 4]) torch.Size([1, 5209, 2]) torch.Size([1, 5209, 4])\n",
      "torch.Size([1, 5209, 4])\n",
      "val_loss =  0.013705866\n",
      "-----------------------------------------------------------------------\n"
     ]
    },
    {
     "data": {
      "application/vnd.jupyter.widget-view+json": {
       "model_id": "48d375e1d32b44049131b1aab5eac92e",
       "version_major": 2,
       "version_minor": 0
      },
      "text/plain": [
       "  0%|          | 0/53 [00:00<?, ?it/s]"
      ]
     },
     "metadata": {},
     "output_type": "display_data"
    },
    {
     "name": "stdout",
     "output_type": "stream",
     "text": [
      "197\n",
      "ELBO train_loss -2.8125236664178237\n",
      "mse train_loss 0.000389493708081438\n",
      "torch.Size([1, 20837, 2]) torch.Size([1, 20837, 4]) torch.Size([1, 5209, 2]) torch.Size([1, 5209, 4])\n",
      "torch.Size([1, 5209, 4])\n",
      "val_loss =  0.018060638\n",
      "-----------------------------------------------------------------------\n"
     ]
    },
    {
     "data": {
      "application/vnd.jupyter.widget-view+json": {
       "model_id": "d2339261e0a54ad8accd03a8114bba04",
       "version_major": 2,
       "version_minor": 0
      },
      "text/plain": [
       "  0%|          | 0/53 [00:00<?, ?it/s]"
      ]
     },
     "metadata": {},
     "output_type": "display_data"
    },
    {
     "name": "stdout",
     "output_type": "stream",
     "text": [
      "198\n",
      "ELBO train_loss -2.9107526203371443\n",
      "mse train_loss 0.00036581783672961636\n",
      "torch.Size([1, 20837, 2]) torch.Size([1, 20837, 4]) torch.Size([1, 5209, 2]) torch.Size([1, 5209, 4])\n",
      "torch.Size([1, 5209, 4])\n",
      "val_loss =  0.014610746\n",
      "-----------------------------------------------------------------------\n"
     ]
    },
    {
     "data": {
      "application/vnd.jupyter.widget-view+json": {
       "model_id": "9a1f3ff5f681484184e68c578cb813f6",
       "version_major": 2,
       "version_minor": 0
      },
      "text/plain": [
       "  0%|          | 0/53 [00:00<?, ?it/s]"
      ]
     },
     "metadata": {},
     "output_type": "display_data"
    },
    {
     "name": "stdout",
     "output_type": "stream",
     "text": [
      "199\n",
      "ELBO train_loss -2.8781909312842027\n",
      "mse train_loss 0.00037881258226061274\n",
      "torch.Size([1, 20837, 2]) torch.Size([1, 20837, 4]) torch.Size([1, 5209, 2]) torch.Size([1, 5209, 4])\n",
      "torch.Size([1, 5209, 4])\n",
      "val_loss =  0.032853648\n",
      "-----------------------------------------------------------------------\n"
     ]
    },
    {
     "data": {
      "application/vnd.jupyter.widget-view+json": {
       "model_id": "d6250e47d69b4dbcbefdcc43bffe0d21",
       "version_major": 2,
       "version_minor": 0
      },
      "text/plain": [
       "  0%|          | 0/53 [00:00<?, ?it/s]"
      ]
     },
     "metadata": {},
     "output_type": "display_data"
    },
    {
     "name": "stdout",
     "output_type": "stream",
     "text": [
      "200\n",
      "ELBO train_loss -2.8999024787039125\n",
      "mse train_loss 0.00038102317441096703\n",
      "torch.Size([1, 20837, 2]) torch.Size([1, 20837, 4]) torch.Size([1, 5209, 2]) torch.Size([1, 5209, 4])\n",
      "torch.Size([1, 5209, 4])\n",
      "val_loss =  0.02082017\n",
      "-----------------------------------------------------------------------\n"
     ]
    },
    {
     "data": {
      "application/vnd.jupyter.widget-view+json": {
       "model_id": "470de489472a4970b806f940db8a6364",
       "version_major": 2,
       "version_minor": 0
      },
      "text/plain": [
       "  0%|          | 0/53 [00:00<?, ?it/s]"
      ]
     },
     "metadata": {},
     "output_type": "display_data"
    },
    {
     "name": "stdout",
     "output_type": "stream",
     "text": [
      "201\n",
      "ELBO train_loss -2.925482821914385\n",
      "mse train_loss 0.0003713654839644595\n",
      "torch.Size([1, 20837, 2]) torch.Size([1, 20837, 4]) torch.Size([1, 5209, 2]) torch.Size([1, 5209, 4])\n",
      "torch.Size([1, 5209, 4])\n",
      "val_loss =  0.01634286\n",
      "-----------------------------------------------------------------------\n"
     ]
    },
    {
     "data": {
      "application/vnd.jupyter.widget-view+json": {
       "model_id": "6ad5c2418cd348998260d10046811c1a",
       "version_major": 2,
       "version_minor": 0
      },
      "text/plain": [
       "  0%|          | 0/53 [00:00<?, ?it/s]"
      ]
     },
     "metadata": {},
     "output_type": "display_data"
    },
    {
     "name": "stdout",
     "output_type": "stream",
     "text": [
      "202\n",
      "ELBO train_loss -2.9133817519781724\n",
      "mse train_loss 0.00037600758940174755\n",
      "torch.Size([1, 20837, 2]) torch.Size([1, 20837, 4]) torch.Size([1, 5209, 2]) torch.Size([1, 5209, 4])\n",
      "torch.Size([1, 5209, 4])\n",
      "val_loss =  0.013394219\n",
      "-----------------------------------------------------------------------\n"
     ]
    },
    {
     "data": {
      "application/vnd.jupyter.widget-view+json": {
       "model_id": "e4d5b2598f6d416f925e8a4213f4c88c",
       "version_major": 2,
       "version_minor": 0
      },
      "text/plain": [
       "  0%|          | 0/53 [00:00<?, ?it/s]"
      ]
     },
     "metadata": {},
     "output_type": "display_data"
    },
    {
     "name": "stdout",
     "output_type": "stream",
     "text": [
      "203\n",
      "ELBO train_loss -2.9199407010708214\n",
      "mse train_loss 0.0003577603605457248\n",
      "torch.Size([1, 20837, 2]) torch.Size([1, 20837, 4]) torch.Size([1, 5209, 2]) torch.Size([1, 5209, 4])\n",
      "torch.Size([1, 5209, 4])\n",
      "val_loss =  0.01565521\n",
      "-----------------------------------------------------------------------\n"
     ]
    },
    {
     "data": {
      "application/vnd.jupyter.widget-view+json": {
       "model_id": "7cea3ea35e2d4d9a8fce5a692baec405",
       "version_major": 2,
       "version_minor": 0
      },
      "text/plain": [
       "  0%|          | 0/53 [00:00<?, ?it/s]"
      ]
     },
     "metadata": {},
     "output_type": "display_data"
    },
    {
     "name": "stdout",
     "output_type": "stream",
     "text": [
      "204\n",
      "ELBO train_loss -2.8788457794009514\n",
      "mse train_loss 0.0003956260336980329\n",
      "torch.Size([1, 20837, 2]) torch.Size([1, 20837, 4]) torch.Size([1, 5209, 2]) torch.Size([1, 5209, 4])\n",
      "torch.Size([1, 5209, 4])\n",
      "val_loss =  0.02125668\n",
      "-----------------------------------------------------------------------\n"
     ]
    },
    {
     "data": {
      "application/vnd.jupyter.widget-view+json": {
       "model_id": "1a270cab82c642e6995329a5d12ea306",
       "version_major": 2,
       "version_minor": 0
      },
      "text/plain": [
       "  0%|          | 0/53 [00:00<?, ?it/s]"
      ]
     },
     "metadata": {},
     "output_type": "display_data"
    },
    {
     "name": "stdout",
     "output_type": "stream",
     "text": [
      "205\n",
      "ELBO train_loss -2.9198737639301227\n",
      "mse train_loss 0.0003663313658556567\n",
      "torch.Size([1, 20837, 2]) torch.Size([1, 20837, 4]) torch.Size([1, 5209, 2]) torch.Size([1, 5209, 4])\n",
      "torch.Size([1, 5209, 4])\n",
      "val_loss =  0.021647876\n",
      "-----------------------------------------------------------------------\n"
     ]
    },
    {
     "data": {
      "application/vnd.jupyter.widget-view+json": {
       "model_id": "058992cbb037404fb4caccd8fe5a9b64",
       "version_major": 2,
       "version_minor": 0
      },
      "text/plain": [
       "  0%|          | 0/53 [00:00<?, ?it/s]"
      ]
     },
     "metadata": {},
     "output_type": "display_data"
    },
    {
     "name": "stdout",
     "output_type": "stream",
     "text": [
      "206\n",
      "ELBO train_loss -2.7567367598695576\n",
      "mse train_loss 0.00043019825369690736\n",
      "torch.Size([1, 20837, 2]) torch.Size([1, 20837, 4]) torch.Size([1, 5209, 2]) torch.Size([1, 5209, 4])\n",
      "torch.Size([1, 5209, 4])\n",
      "val_loss =  0.017229244\n",
      "-----------------------------------------------------------------------\n"
     ]
    },
    {
     "data": {
      "application/vnd.jupyter.widget-view+json": {
       "model_id": "091ce4b2ca534133a4933bd852c19018",
       "version_major": 2,
       "version_minor": 0
      },
      "text/plain": [
       "  0%|          | 0/53 [00:00<?, ?it/s]"
      ]
     },
     "metadata": {},
     "output_type": "display_data"
    },
    {
     "name": "stdout",
     "output_type": "stream",
     "text": [
      "207\n",
      "ELBO train_loss -2.9098933507811346\n",
      "mse train_loss 0.00040560065387563673\n",
      "torch.Size([1, 20837, 2]) torch.Size([1, 20837, 4]) torch.Size([1, 5209, 2]) torch.Size([1, 5209, 4])\n",
      "torch.Size([1, 5209, 4])\n",
      "val_loss =  0.013387659\n",
      "-----------------------------------------------------------------------\n"
     ]
    },
    {
     "data": {
      "application/vnd.jupyter.widget-view+json": {
       "model_id": "d2f3978654cd4ddeb1cf915a93a60384",
       "version_major": 2,
       "version_minor": 0
      },
      "text/plain": [
       "  0%|          | 0/53 [00:00<?, ?it/s]"
      ]
     },
     "metadata": {},
     "output_type": "display_data"
    },
    {
     "name": "stdout",
     "output_type": "stream",
     "text": [
      "208\n",
      "ELBO train_loss -2.916485075680715\n",
      "mse train_loss 0.0003789072575702174\n",
      "torch.Size([1, 20837, 2]) torch.Size([1, 20837, 4]) torch.Size([1, 5209, 2]) torch.Size([1, 5209, 4])\n",
      "torch.Size([1, 5209, 4])\n",
      "val_loss =  0.013284927\n",
      "-----------------------------------------------------------------------\n"
     ]
    },
    {
     "data": {
      "application/vnd.jupyter.widget-view+json": {
       "model_id": "6d6d48091a6641bf98f8338cfc12db65",
       "version_major": 2,
       "version_minor": 0
      },
      "text/plain": [
       "  0%|          | 0/53 [00:00<?, ?it/s]"
      ]
     },
     "metadata": {},
     "output_type": "display_data"
    },
    {
     "name": "stdout",
     "output_type": "stream",
     "text": [
      "209\n",
      "ELBO train_loss -2.9381947967241393\n",
      "mse train_loss 0.00036031652883327796\n",
      "torch.Size([1, 20837, 2]) torch.Size([1, 20837, 4]) torch.Size([1, 5209, 2]) torch.Size([1, 5209, 4])\n",
      "torch.Size([1, 5209, 4])\n",
      "val_loss =  0.014667197\n",
      "-----------------------------------------------------------------------\n"
     ]
    },
    {
     "data": {
      "application/vnd.jupyter.widget-view+json": {
       "model_id": "13f0aeded6cb40ad94992f8b19a2c134",
       "version_major": 2,
       "version_minor": 0
      },
      "text/plain": [
       "  0%|          | 0/53 [00:00<?, ?it/s]"
      ]
     },
     "metadata": {},
     "output_type": "display_data"
    },
    {
     "name": "stdout",
     "output_type": "stream",
     "text": [
      "210\n",
      "ELBO train_loss -2.911092922372638\n",
      "mse train_loss 0.0003706155364612504\n",
      "torch.Size([1, 20837, 2]) torch.Size([1, 20837, 4]) torch.Size([1, 5209, 2]) torch.Size([1, 5209, 4])\n",
      "torch.Size([1, 5209, 4])\n",
      "val_loss =  0.028299022\n",
      "-----------------------------------------------------------------------\n"
     ]
    },
    {
     "data": {
      "application/vnd.jupyter.widget-view+json": {
       "model_id": "e5f751049be94c708cf5150c52e99dda",
       "version_major": 2,
       "version_minor": 0
      },
      "text/plain": [
       "  0%|          | 0/53 [00:00<?, ?it/s]"
      ]
     },
     "metadata": {},
     "output_type": "display_data"
    },
    {
     "name": "stdout",
     "output_type": "stream",
     "text": [
      "211\n",
      "ELBO train_loss -2.8704999190456464\n",
      "mse train_loss 0.00042139720072846787\n",
      "torch.Size([1, 20837, 2]) torch.Size([1, 20837, 4]) torch.Size([1, 5209, 2]) torch.Size([1, 5209, 4])\n",
      "torch.Size([1, 5209, 4])\n",
      "val_loss =  0.014844022\n",
      "-----------------------------------------------------------------------\n"
     ]
    },
    {
     "data": {
      "application/vnd.jupyter.widget-view+json": {
       "model_id": "86d4cfb6916a48bdabc3396db26ed787",
       "version_major": 2,
       "version_minor": 0
      },
      "text/plain": [
       "  0%|          | 0/53 [00:00<?, ?it/s]"
      ]
     },
     "metadata": {},
     "output_type": "display_data"
    },
    {
     "name": "stdout",
     "output_type": "stream",
     "text": [
      "212\n",
      "ELBO train_loss -2.925741375617261\n",
      "mse train_loss 0.0003609996539417584\n",
      "torch.Size([1, 20837, 2]) torch.Size([1, 20837, 4]) torch.Size([1, 5209, 2]) torch.Size([1, 5209, 4])\n",
      "torch.Size([1, 5209, 4])\n",
      "val_loss =  0.018425237\n",
      "-----------------------------------------------------------------------\n"
     ]
    },
    {
     "data": {
      "application/vnd.jupyter.widget-view+json": {
       "model_id": "986b2c2ead644adea40a6fa0d73a353a",
       "version_major": 2,
       "version_minor": 0
      },
      "text/plain": [
       "  0%|          | 0/53 [00:00<?, ?it/s]"
      ]
     },
     "metadata": {},
     "output_type": "display_data"
    },
    {
     "name": "stdout",
     "output_type": "stream",
     "text": [
      "213\n",
      "ELBO train_loss -2.9199470259108633\n",
      "mse train_loss 0.0003805386678443097\n",
      "torch.Size([1, 20837, 2]) torch.Size([1, 20837, 4]) torch.Size([1, 5209, 2]) torch.Size([1, 5209, 4])\n",
      "torch.Size([1, 5209, 4])\n",
      "val_loss =  0.019325288\n",
      "-----------------------------------------------------------------------\n"
     ]
    },
    {
     "data": {
      "application/vnd.jupyter.widget-view+json": {
       "model_id": "d2d3b802e313417583cb481fdfced3aa",
       "version_major": 2,
       "version_minor": 0
      },
      "text/plain": [
       "  0%|          | 0/53 [00:00<?, ?it/s]"
      ]
     },
     "metadata": {},
     "output_type": "display_data"
    },
    {
     "name": "stdout",
     "output_type": "stream",
     "text": [
      "214\n",
      "ELBO train_loss -2.6993904833523734\n",
      "mse train_loss 0.0004396672159617872\n",
      "torch.Size([1, 20837, 2]) torch.Size([1, 20837, 4]) torch.Size([1, 5209, 2]) torch.Size([1, 5209, 4])\n",
      "torch.Size([1, 5209, 4])\n",
      "val_loss =  0.030421948\n",
      "-----------------------------------------------------------------------\n"
     ]
    },
    {
     "data": {
      "application/vnd.jupyter.widget-view+json": {
       "model_id": "dcb9a224fad9478cb6fd9224c042f88a",
       "version_major": 2,
       "version_minor": 0
      },
      "text/plain": [
       "  0%|          | 0/53 [00:00<?, ?it/s]"
      ]
     },
     "metadata": {},
     "output_type": "display_data"
    },
    {
     "name": "stdout",
     "output_type": "stream",
     "text": [
      "215\n",
      "ELBO train_loss -2.636239564643716\n",
      "mse train_loss 0.000552856062433489\n",
      "torch.Size([1, 20837, 2]) torch.Size([1, 20837, 4]) torch.Size([1, 5209, 2]) torch.Size([1, 5209, 4])\n",
      "torch.Size([1, 5209, 4])\n",
      "val_loss =  0.05855865\n",
      "-----------------------------------------------------------------------\n"
     ]
    },
    {
     "data": {
      "application/vnd.jupyter.widget-view+json": {
       "model_id": "3dbef8038eec4daa93059b099bc2f00e",
       "version_major": 2,
       "version_minor": 0
      },
      "text/plain": [
       "  0%|          | 0/53 [00:00<?, ?it/s]"
      ]
     },
     "metadata": {},
     "output_type": "display_data"
    },
    {
     "name": "stdout",
     "output_type": "stream",
     "text": [
      "216\n",
      "ELBO train_loss -2.6755507172278636\n",
      "mse train_loss 0.00047074231612364285\n",
      "torch.Size([1, 20837, 2]) torch.Size([1, 20837, 4]) torch.Size([1, 5209, 2]) torch.Size([1, 5209, 4])\n",
      "torch.Size([1, 5209, 4])\n",
      "val_loss =  0.03899775\n",
      "-----------------------------------------------------------------------\n"
     ]
    },
    {
     "data": {
      "application/vnd.jupyter.widget-view+json": {
       "model_id": "61773f01c1d54c03a21e559c4191d1db",
       "version_major": 2,
       "version_minor": 0
      },
      "text/plain": [
       "  0%|          | 0/53 [00:00<?, ?it/s]"
      ]
     },
     "metadata": {},
     "output_type": "display_data"
    },
    {
     "name": "stdout",
     "output_type": "stream",
     "text": [
      "217\n",
      "ELBO train_loss -2.838323696604315\n",
      "mse train_loss 0.00040163987130585637\n",
      "torch.Size([1, 20837, 2]) torch.Size([1, 20837, 4]) torch.Size([1, 5209, 2]) torch.Size([1, 5209, 4])\n",
      "torch.Size([1, 5209, 4])\n",
      "val_loss =  0.017861107\n",
      "-----------------------------------------------------------------------\n"
     ]
    },
    {
     "data": {
      "application/vnd.jupyter.widget-view+json": {
       "model_id": "4f0b819c46c54c308f22ea7a9f36cf89",
       "version_major": 2,
       "version_minor": 0
      },
      "text/plain": [
       "  0%|          | 0/53 [00:00<?, ?it/s]"
      ]
     },
     "metadata": {},
     "output_type": "display_data"
    },
    {
     "name": "stdout",
     "output_type": "stream",
     "text": [
      "218\n",
      "ELBO train_loss -2.9030959628662973\n",
      "mse train_loss 0.0003811844027675864\n",
      "torch.Size([1, 20837, 2]) torch.Size([1, 20837, 4]) torch.Size([1, 5209, 2]) torch.Size([1, 5209, 4])\n",
      "torch.Size([1, 5209, 4])\n",
      "val_loss =  0.024722155\n",
      "-----------------------------------------------------------------------\n"
     ]
    },
    {
     "data": {
      "application/vnd.jupyter.widget-view+json": {
       "model_id": "b5219c179a8a48ce9655a3673b4ef50f",
       "version_major": 2,
       "version_minor": 0
      },
      "text/plain": [
       "  0%|          | 0/53 [00:00<?, ?it/s]"
      ]
     },
     "metadata": {},
     "output_type": "display_data"
    },
    {
     "name": "stdout",
     "output_type": "stream",
     "text": [
      "219\n",
      "ELBO train_loss -2.8812919877610117\n",
      "mse train_loss 0.00042029309996957274\n",
      "torch.Size([1, 20837, 2]) torch.Size([1, 20837, 4]) torch.Size([1, 5209, 2]) torch.Size([1, 5209, 4])\n",
      "torch.Size([1, 5209, 4])\n",
      "val_loss =  0.015081955\n",
      "-----------------------------------------------------------------------\n"
     ]
    },
    {
     "data": {
      "application/vnd.jupyter.widget-view+json": {
       "model_id": "e1f4a06a879642c49f3cdf5f759f1f11",
       "version_major": 2,
       "version_minor": 0
      },
      "text/plain": [
       "  0%|          | 0/53 [00:00<?, ?it/s]"
      ]
     },
     "metadata": {},
     "output_type": "display_data"
    },
    {
     "name": "stdout",
     "output_type": "stream",
     "text": [
      "220\n",
      "ELBO train_loss -2.9214048790481857\n",
      "mse train_loss 0.00036128352831100237\n",
      "torch.Size([1, 20837, 2]) torch.Size([1, 20837, 4]) torch.Size([1, 5209, 2]) torch.Size([1, 5209, 4])\n",
      "torch.Size([1, 5209, 4])\n",
      "val_loss =  0.011758095\n",
      "-----------------------------------------------------------------------\n"
     ]
    },
    {
     "data": {
      "application/vnd.jupyter.widget-view+json": {
       "model_id": "4a1e73d1abfc4c46b9b9a95ac773087f",
       "version_major": 2,
       "version_minor": 0
      },
      "text/plain": [
       "  0%|          | 0/53 [00:00<?, ?it/s]"
      ]
     },
     "metadata": {},
     "output_type": "display_data"
    },
    {
     "name": "stdout",
     "output_type": "stream",
     "text": [
      "221\n",
      "ELBO train_loss -2.9156625315828144\n",
      "mse train_loss 0.0003854849278039457\n",
      "torch.Size([1, 20837, 2]) torch.Size([1, 20837, 4]) torch.Size([1, 5209, 2]) torch.Size([1, 5209, 4])\n",
      "torch.Size([1, 5209, 4])\n",
      "val_loss =  0.017703826\n",
      "-----------------------------------------------------------------------\n"
     ]
    },
    {
     "data": {
      "application/vnd.jupyter.widget-view+json": {
       "model_id": "f0ec946724e145808b51f8e18e2410fb",
       "version_major": 2,
       "version_minor": 0
      },
      "text/plain": [
       "  0%|          | 0/53 [00:00<?, ?it/s]"
      ]
     },
     "metadata": {},
     "output_type": "display_data"
    },
    {
     "name": "stdout",
     "output_type": "stream",
     "text": [
      "222\n",
      "ELBO train_loss -2.912112699364716\n",
      "mse train_loss 0.000370042072114851\n",
      "torch.Size([1, 20837, 2]) torch.Size([1, 20837, 4]) torch.Size([1, 5209, 2]) torch.Size([1, 5209, 4])\n",
      "torch.Size([1, 5209, 4])\n",
      "val_loss =  0.0119657675\n",
      "-----------------------------------------------------------------------\n"
     ]
    },
    {
     "data": {
      "application/vnd.jupyter.widget-view+json": {
       "model_id": "a50a2dc30d6e40289564c0f550585efc",
       "version_major": 2,
       "version_minor": 0
      },
      "text/plain": [
       "  0%|          | 0/53 [00:00<?, ?it/s]"
      ]
     },
     "metadata": {},
     "output_type": "display_data"
    },
    {
     "name": "stdout",
     "output_type": "stream",
     "text": [
      "223\n",
      "ELBO train_loss -2.907405340446616\n",
      "mse train_loss 0.00035957714492226687\n",
      "torch.Size([1, 20837, 2]) torch.Size([1, 20837, 4]) torch.Size([1, 5209, 2]) torch.Size([1, 5209, 4])\n",
      "torch.Size([1, 5209, 4])\n",
      "val_loss =  0.018455256\n",
      "-----------------------------------------------------------------------\n"
     ]
    },
    {
     "data": {
      "application/vnd.jupyter.widget-view+json": {
       "model_id": "43e7fd9a674e4d2ea435723cc58896fc",
       "version_major": 2,
       "version_minor": 0
      },
      "text/plain": [
       "  0%|          | 0/53 [00:00<?, ?it/s]"
      ]
     },
     "metadata": {},
     "output_type": "display_data"
    },
    {
     "name": "stdout",
     "output_type": "stream",
     "text": [
      "224\n",
      "ELBO train_loss -2.9045214697999775\n",
      "mse train_loss 0.00037879154101488584\n",
      "torch.Size([1, 20837, 2]) torch.Size([1, 20837, 4]) torch.Size([1, 5209, 2]) torch.Size([1, 5209, 4])\n",
      "torch.Size([1, 5209, 4])\n",
      "val_loss =  0.011365886\n",
      "-----------------------------------------------------------------------\n"
     ]
    },
    {
     "data": {
      "application/vnd.jupyter.widget-view+json": {
       "model_id": "e032f4cb41d4477083860ba4a383b239",
       "version_major": 2,
       "version_minor": 0
      },
      "text/plain": [
       "  0%|          | 0/53 [00:00<?, ?it/s]"
      ]
     },
     "metadata": {},
     "output_type": "display_data"
    },
    {
     "name": "stdout",
     "output_type": "stream",
     "text": [
      "225\n",
      "ELBO train_loss -2.9220426577442096\n",
      "mse train_loss 0.00037630438257694104\n",
      "torch.Size([1, 20837, 2]) torch.Size([1, 20837, 4]) torch.Size([1, 5209, 2]) torch.Size([1, 5209, 4])\n",
      "torch.Size([1, 5209, 4])\n",
      "val_loss =  0.016980486\n",
      "-----------------------------------------------------------------------\n"
     ]
    },
    {
     "data": {
      "application/vnd.jupyter.widget-view+json": {
       "model_id": "45bc784434c944b19d60917a17ce0d8c",
       "version_major": 2,
       "version_minor": 0
      },
      "text/plain": [
       "  0%|          | 0/53 [00:00<?, ?it/s]"
      ]
     },
     "metadata": {},
     "output_type": "display_data"
    },
    {
     "name": "stdout",
     "output_type": "stream",
     "text": [
      "226\n",
      "ELBO train_loss -2.9083893838918433\n",
      "mse train_loss 0.00036755999147162756\n",
      "torch.Size([1, 20837, 2]) torch.Size([1, 20837, 4]) torch.Size([1, 5209, 2]) torch.Size([1, 5209, 4])\n",
      "torch.Size([1, 5209, 4])\n",
      "val_loss =  0.02169832\n",
      "-----------------------------------------------------------------------\n"
     ]
    },
    {
     "data": {
      "application/vnd.jupyter.widget-view+json": {
       "model_id": "a23bb29f128b4c38a8e492728c27155c",
       "version_major": 2,
       "version_minor": 0
      },
      "text/plain": [
       "  0%|          | 0/53 [00:00<?, ?it/s]"
      ]
     },
     "metadata": {},
     "output_type": "display_data"
    },
    {
     "name": "stdout",
     "output_type": "stream",
     "text": [
      "227\n",
      "ELBO train_loss -2.8907845807525345\n",
      "mse train_loss 0.00039550681891719334\n",
      "torch.Size([1, 20837, 2]) torch.Size([1, 20837, 4]) torch.Size([1, 5209, 2]) torch.Size([1, 5209, 4])\n",
      "torch.Size([1, 5209, 4])\n",
      "val_loss =  0.016261615\n",
      "-----------------------------------------------------------------------\n"
     ]
    },
    {
     "data": {
      "application/vnd.jupyter.widget-view+json": {
       "model_id": "24e64e68fdbe4b6088a2ea57fefbb0d6",
       "version_major": 2,
       "version_minor": 0
      },
      "text/plain": [
       "  0%|          | 0/53 [00:00<?, ?it/s]"
      ]
     },
     "metadata": {},
     "output_type": "display_data"
    },
    {
     "name": "stdout",
     "output_type": "stream",
     "text": [
      "228\n",
      "ELBO train_loss -2.9179828481854133\n",
      "mse train_loss 0.0003621666104629425\n",
      "torch.Size([1, 20837, 2]) torch.Size([1, 20837, 4]) torch.Size([1, 5209, 2]) torch.Size([1, 5209, 4])\n",
      "torch.Size([1, 5209, 4])\n",
      "val_loss =  0.0116627\n",
      "-----------------------------------------------------------------------\n"
     ]
    },
    {
     "data": {
      "application/vnd.jupyter.widget-view+json": {
       "model_id": "7df3408f54714544bcfb8b4b7443de33",
       "version_major": 2,
       "version_minor": 0
      },
      "text/plain": [
       "  0%|          | 0/53 [00:00<?, ?it/s]"
      ]
     },
     "metadata": {},
     "output_type": "display_data"
    },
    {
     "name": "stdout",
     "output_type": "stream",
     "text": [
      "229\n",
      "ELBO train_loss -2.8608079108427154\n",
      "mse train_loss 0.00037389758475704713\n",
      "torch.Size([1, 20837, 2]) torch.Size([1, 20837, 4]) torch.Size([1, 5209, 2]) torch.Size([1, 5209, 4])\n",
      "torch.Size([1, 5209, 4])\n",
      "val_loss =  0.02108458\n",
      "-----------------------------------------------------------------------\n"
     ]
    },
    {
     "data": {
      "application/vnd.jupyter.widget-view+json": {
       "model_id": "2bb83afccd624502a554d534aa8af059",
       "version_major": 2,
       "version_minor": 0
      },
      "text/plain": [
       "  0%|          | 0/53 [00:00<?, ?it/s]"
      ]
     },
     "metadata": {},
     "output_type": "display_data"
    },
    {
     "name": "stdout",
     "output_type": "stream",
     "text": [
      "230\n",
      "ELBO train_loss -2.904929759367457\n",
      "mse train_loss 0.00037627975716703695\n",
      "torch.Size([1, 20837, 2]) torch.Size([1, 20837, 4]) torch.Size([1, 5209, 2]) torch.Size([1, 5209, 4])\n",
      "torch.Size([1, 5209, 4])\n",
      "val_loss =  0.020212365\n",
      "-----------------------------------------------------------------------\n"
     ]
    },
    {
     "data": {
      "application/vnd.jupyter.widget-view+json": {
       "model_id": "ac6d3598038045b48b85cba31a4c3eb6",
       "version_major": 2,
       "version_minor": 0
      },
      "text/plain": [
       "  0%|          | 0/53 [00:00<?, ?it/s]"
      ]
     },
     "metadata": {},
     "output_type": "display_data"
    },
    {
     "name": "stdout",
     "output_type": "stream",
     "text": [
      "231\n",
      "ELBO train_loss -2.931363416167925\n",
      "mse train_loss 0.0003771333423122447\n",
      "torch.Size([1, 20837, 2]) torch.Size([1, 20837, 4]) torch.Size([1, 5209, 2]) torch.Size([1, 5209, 4])\n",
      "torch.Size([1, 5209, 4])\n",
      "val_loss =  0.01678097\n",
      "-----------------------------------------------------------------------\n"
     ]
    },
    {
     "data": {
      "application/vnd.jupyter.widget-view+json": {
       "model_id": "9b1d21d7e0fb4760985080a895bbd12c",
       "version_major": 2,
       "version_minor": 0
      },
      "text/plain": [
       "  0%|          | 0/53 [00:00<?, ?it/s]"
      ]
     },
     "metadata": {},
     "output_type": "display_data"
    },
    {
     "name": "stdout",
     "output_type": "stream",
     "text": [
      "232\n",
      "ELBO train_loss -2.92823526544391\n",
      "mse train_loss 0.0003756064076508167\n",
      "torch.Size([1, 20837, 2]) torch.Size([1, 20837, 4]) torch.Size([1, 5209, 2]) torch.Size([1, 5209, 4])\n",
      "torch.Size([1, 5209, 4])\n",
      "val_loss =  0.011474746\n",
      "-----------------------------------------------------------------------\n"
     ]
    },
    {
     "data": {
      "application/vnd.jupyter.widget-view+json": {
       "model_id": "bc14e01ab26848ebb48fb7d314b33f3a",
       "version_major": 2,
       "version_minor": 0
      },
      "text/plain": [
       "  0%|          | 0/53 [00:00<?, ?it/s]"
      ]
     },
     "metadata": {},
     "output_type": "display_data"
    },
    {
     "name": "stdout",
     "output_type": "stream",
     "text": [
      "233\n",
      "ELBO train_loss -2.9223374150833994\n",
      "mse train_loss 0.00036685869074646243\n",
      "torch.Size([1, 20837, 2]) torch.Size([1, 20837, 4]) torch.Size([1, 5209, 2]) torch.Size([1, 5209, 4])\n",
      "torch.Size([1, 5209, 4])\n",
      "val_loss =  0.02188466\n",
      "-----------------------------------------------------------------------\n"
     ]
    },
    {
     "data": {
      "application/vnd.jupyter.widget-view+json": {
       "model_id": "0edb1b66ffbc4213be876ebc7fd5d8f2",
       "version_major": 2,
       "version_minor": 0
      },
      "text/plain": [
       "  0%|          | 0/53 [00:00<?, ?it/s]"
      ]
     },
     "metadata": {},
     "output_type": "display_data"
    },
    {
     "name": "stdout",
     "output_type": "stream",
     "text": [
      "234\n",
      "ELBO train_loss -2.8985819794097036\n",
      "mse train_loss 0.00036712678232810124\n",
      "torch.Size([1, 20837, 2]) torch.Size([1, 20837, 4]) torch.Size([1, 5209, 2]) torch.Size([1, 5209, 4])\n",
      "torch.Size([1, 5209, 4])\n",
      "val_loss =  0.022085259\n",
      "-----------------------------------------------------------------------\n"
     ]
    },
    {
     "data": {
      "application/vnd.jupyter.widget-view+json": {
       "model_id": "615ab3650a084e4ea399bee3d24ca383",
       "version_major": 2,
       "version_minor": 0
      },
      "text/plain": [
       "  0%|          | 0/53 [00:00<?, ?it/s]"
      ]
     },
     "metadata": {},
     "output_type": "display_data"
    },
    {
     "name": "stdout",
     "output_type": "stream",
     "text": [
      "235\n",
      "ELBO train_loss -2.9063847784726127\n",
      "mse train_loss 0.00038601749632639356\n",
      "torch.Size([1, 20837, 2]) torch.Size([1, 20837, 4]) torch.Size([1, 5209, 2]) torch.Size([1, 5209, 4])\n",
      "torch.Size([1, 5209, 4])\n",
      "val_loss =  0.018508235\n",
      "-----------------------------------------------------------------------\n"
     ]
    },
    {
     "data": {
      "application/vnd.jupyter.widget-view+json": {
       "model_id": "395a00024ceb4a9589aae8e4394044e0",
       "version_major": 2,
       "version_minor": 0
      },
      "text/plain": [
       "  0%|          | 0/53 [00:00<?, ?it/s]"
      ]
     },
     "metadata": {},
     "output_type": "display_data"
    },
    {
     "name": "stdout",
     "output_type": "stream",
     "text": [
      "236\n",
      "ELBO train_loss -2.936106672826803\n",
      "mse train_loss 0.00037562015454311204\n",
      "torch.Size([1, 20837, 2]) torch.Size([1, 20837, 4]) torch.Size([1, 5209, 2]) torch.Size([1, 5209, 4])\n",
      "torch.Size([1, 5209, 4])\n",
      "val_loss =  0.010454091\n",
      "-----------------------------------------------------------------------\n"
     ]
    },
    {
     "data": {
      "application/vnd.jupyter.widget-view+json": {
       "model_id": "41fe9e45792c463e8d4ff331a6e889ad",
       "version_major": 2,
       "version_minor": 0
      },
      "text/plain": [
       "  0%|          | 0/53 [00:00<?, ?it/s]"
      ]
     },
     "metadata": {},
     "output_type": "display_data"
    },
    {
     "name": "stdout",
     "output_type": "stream",
     "text": [
      "237\n",
      "ELBO train_loss -2.811065466898792\n",
      "mse train_loss 0.0004150876929140035\n",
      "torch.Size([1, 20837, 2]) torch.Size([1, 20837, 4]) torch.Size([1, 5209, 2]) torch.Size([1, 5209, 4])\n",
      "torch.Size([1, 5209, 4])\n",
      "val_loss =  0.03454203\n",
      "-----------------------------------------------------------------------\n"
     ]
    },
    {
     "data": {
      "application/vnd.jupyter.widget-view+json": {
       "model_id": "9caf455e7f87461ea083eb9c9e15b2c7",
       "version_major": 2,
       "version_minor": 0
      },
      "text/plain": [
       "  0%|          | 0/53 [00:00<?, ?it/s]"
      ]
     },
     "metadata": {},
     "output_type": "display_data"
    },
    {
     "name": "stdout",
     "output_type": "stream",
     "text": [
      "238\n",
      "ELBO train_loss -2.8664573633445882\n",
      "mse train_loss 0.00039887921868182085\n",
      "torch.Size([1, 20837, 2]) torch.Size([1, 20837, 4]) torch.Size([1, 5209, 2]) torch.Size([1, 5209, 4])\n",
      "torch.Size([1, 5209, 4])\n",
      "val_loss =  0.017410588\n",
      "-----------------------------------------------------------------------\n"
     ]
    },
    {
     "data": {
      "application/vnd.jupyter.widget-view+json": {
       "model_id": "0c7228eca77b4d448b3c3bf50e8730c9",
       "version_major": 2,
       "version_minor": 0
      },
      "text/plain": [
       "  0%|          | 0/53 [00:00<?, ?it/s]"
      ]
     },
     "metadata": {},
     "output_type": "display_data"
    },
    {
     "name": "stdout",
     "output_type": "stream",
     "text": [
      "239\n",
      "ELBO train_loss -2.786259408267039\n",
      "mse train_loss 0.00038063966362728333\n",
      "torch.Size([1, 20837, 2]) torch.Size([1, 20837, 4]) torch.Size([1, 5209, 2]) torch.Size([1, 5209, 4])\n",
      "torch.Size([1, 5209, 4])\n",
      "val_loss =  0.01728567\n",
      "-----------------------------------------------------------------------\n"
     ]
    },
    {
     "data": {
      "application/vnd.jupyter.widget-view+json": {
       "model_id": "151bfbbd0cc246cbbf129e56fbe2ff13",
       "version_major": 2,
       "version_minor": 0
      },
      "text/plain": [
       "  0%|          | 0/53 [00:00<?, ?it/s]"
      ]
     },
     "metadata": {},
     "output_type": "display_data"
    },
    {
     "name": "stdout",
     "output_type": "stream",
     "text": [
      "240\n",
      "ELBO train_loss -2.9287285444871434\n",
      "mse train_loss 0.000366287479201279\n",
      "torch.Size([1, 20837, 2]) torch.Size([1, 20837, 4]) torch.Size([1, 5209, 2]) torch.Size([1, 5209, 4])\n",
      "torch.Size([1, 5209, 4])\n",
      "val_loss =  0.014175976\n",
      "-----------------------------------------------------------------------\n"
     ]
    },
    {
     "data": {
      "application/vnd.jupyter.widget-view+json": {
       "model_id": "02d7e6de65c749368902d573e70c6ead",
       "version_major": 2,
       "version_minor": 0
      },
      "text/plain": [
       "  0%|          | 0/53 [00:00<?, ?it/s]"
      ]
     },
     "metadata": {},
     "output_type": "display_data"
    },
    {
     "name": "stdout",
     "output_type": "stream",
     "text": [
      "241\n",
      "ELBO train_loss -2.9241251945495605\n",
      "mse train_loss 0.00038103054179853917\n",
      "torch.Size([1, 20837, 2]) torch.Size([1, 20837, 4]) torch.Size([1, 5209, 2]) torch.Size([1, 5209, 4])\n",
      "torch.Size([1, 5209, 4])\n",
      "val_loss =  0.019001136\n",
      "-----------------------------------------------------------------------\n"
     ]
    },
    {
     "data": {
      "application/vnd.jupyter.widget-view+json": {
       "model_id": "c5bd0b9102d44f83959c915413d4f217",
       "version_major": 2,
       "version_minor": 0
      },
      "text/plain": [
       "  0%|          | 0/53 [00:00<?, ?it/s]"
      ]
     },
     "metadata": {},
     "output_type": "display_data"
    },
    {
     "name": "stdout",
     "output_type": "stream",
     "text": [
      "242\n",
      "ELBO train_loss -2.8744475515383594\n",
      "mse train_loss 0.0003974990370652621\n",
      "torch.Size([1, 20837, 2]) torch.Size([1, 20837, 4]) torch.Size([1, 5209, 2]) torch.Size([1, 5209, 4])\n",
      "torch.Size([1, 5209, 4])\n",
      "val_loss =  0.03132294\n",
      "-----------------------------------------------------------------------\n"
     ]
    },
    {
     "data": {
      "application/vnd.jupyter.widget-view+json": {
       "model_id": "b423bb12a81c433aae9c79e288b35614",
       "version_major": 2,
       "version_minor": 0
      },
      "text/plain": [
       "  0%|          | 0/53 [00:00<?, ?it/s]"
      ]
     },
     "metadata": {},
     "output_type": "display_data"
    },
    {
     "name": "stdout",
     "output_type": "stream",
     "text": [
      "243\n",
      "ELBO train_loss -2.856891834510947\n",
      "mse train_loss 0.00039196579595193054\n",
      "torch.Size([1, 20837, 2]) torch.Size([1, 20837, 4]) torch.Size([1, 5209, 2]) torch.Size([1, 5209, 4])\n",
      "torch.Size([1, 5209, 4])\n",
      "val_loss =  0.019964492\n",
      "-----------------------------------------------------------------------\n"
     ]
    },
    {
     "data": {
      "application/vnd.jupyter.widget-view+json": {
       "model_id": "cb229abbeb274cd1b94c46fd119dc1c8",
       "version_major": 2,
       "version_minor": 0
      },
      "text/plain": [
       "  0%|          | 0/53 [00:00<?, ?it/s]"
      ]
     },
     "metadata": {},
     "output_type": "display_data"
    },
    {
     "name": "stdout",
     "output_type": "stream",
     "text": [
      "244\n",
      "ELBO train_loss -2.930144247019066\n",
      "mse train_loss 0.00036351028818830427\n",
      "torch.Size([1, 20837, 2]) torch.Size([1, 20837, 4]) torch.Size([1, 5209, 2]) torch.Size([1, 5209, 4])\n",
      "torch.Size([1, 5209, 4])\n",
      "val_loss =  0.012256696\n",
      "-----------------------------------------------------------------------\n"
     ]
    },
    {
     "data": {
      "application/vnd.jupyter.widget-view+json": {
       "model_id": "f780e5e5d48b43b08a04db92b7132fdd",
       "version_major": 2,
       "version_minor": 0
      },
      "text/plain": [
       "  0%|          | 0/53 [00:00<?, ?it/s]"
      ]
     },
     "metadata": {},
     "output_type": "display_data"
    },
    {
     "name": "stdout",
     "output_type": "stream",
     "text": [
      "245\n",
      "ELBO train_loss -2.937780456722907\n",
      "mse train_loss 0.0003661108291092909\n",
      "torch.Size([1, 20837, 2]) torch.Size([1, 20837, 4]) torch.Size([1, 5209, 2]) torch.Size([1, 5209, 4])\n",
      "torch.Size([1, 5209, 4])\n",
      "val_loss =  0.01378582\n",
      "-----------------------------------------------------------------------\n"
     ]
    },
    {
     "data": {
      "application/vnd.jupyter.widget-view+json": {
       "model_id": "2a1329e8ed4349c1b7d171db311b23dc",
       "version_major": 2,
       "version_minor": 0
      },
      "text/plain": [
       "  0%|          | 0/53 [00:00<?, ?it/s]"
      ]
     },
     "metadata": {},
     "output_type": "display_data"
    },
    {
     "name": "stdout",
     "output_type": "stream",
     "text": [
      "246\n",
      "ELBO train_loss -2.918149025935047\n",
      "mse train_loss 0.0003720911272981573\n",
      "torch.Size([1, 20837, 2]) torch.Size([1, 20837, 4]) torch.Size([1, 5209, 2]) torch.Size([1, 5209, 4])\n",
      "torch.Size([1, 5209, 4])\n",
      "val_loss =  0.013845463\n",
      "-----------------------------------------------------------------------\n"
     ]
    },
    {
     "data": {
      "application/vnd.jupyter.widget-view+json": {
       "model_id": "8a2be136951947b18504ee86c0401377",
       "version_major": 2,
       "version_minor": 0
      },
      "text/plain": [
       "  0%|          | 0/53 [00:00<?, ?it/s]"
      ]
     },
     "metadata": {},
     "output_type": "display_data"
    },
    {
     "name": "stdout",
     "output_type": "stream",
     "text": [
      "247\n",
      "ELBO train_loss -2.918219010784941\n",
      "mse train_loss 0.0003646800845294734\n",
      "torch.Size([1, 20837, 2]) torch.Size([1, 20837, 4]) torch.Size([1, 5209, 2]) torch.Size([1, 5209, 4])\n",
      "torch.Size([1, 5209, 4])\n",
      "val_loss =  0.01631845\n",
      "-----------------------------------------------------------------------\n"
     ]
    },
    {
     "data": {
      "application/vnd.jupyter.widget-view+json": {
       "model_id": "ee6dd813637940d39adb000799449f33",
       "version_major": 2,
       "version_minor": 0
      },
      "text/plain": [
       "  0%|          | 0/53 [00:00<?, ?it/s]"
      ]
     },
     "metadata": {},
     "output_type": "display_data"
    },
    {
     "name": "stdout",
     "output_type": "stream",
     "text": [
      "248\n",
      "ELBO train_loss -2.9150788649073185\n",
      "mse train_loss 0.00037713176905801346\n",
      "torch.Size([1, 20837, 2]) torch.Size([1, 20837, 4]) torch.Size([1, 5209, 2]) torch.Size([1, 5209, 4])\n",
      "torch.Size([1, 5209, 4])\n",
      "val_loss =  0.02337139\n",
      "-----------------------------------------------------------------------\n"
     ]
    },
    {
     "data": {
      "application/vnd.jupyter.widget-view+json": {
       "model_id": "31be59bd6916477193f6a02ecdf5d53e",
       "version_major": 2,
       "version_minor": 0
      },
      "text/plain": [
       "  0%|          | 0/53 [00:00<?, ?it/s]"
      ]
     },
     "metadata": {},
     "output_type": "display_data"
    },
    {
     "name": "stdout",
     "output_type": "stream",
     "text": [
      "249\n",
      "ELBO train_loss -2.8939396705267564\n",
      "mse train_loss 0.00037398032475052014\n",
      "torch.Size([1, 20837, 2]) torch.Size([1, 20837, 4]) torch.Size([1, 5209, 2]) torch.Size([1, 5209, 4])\n",
      "torch.Size([1, 5209, 4])\n",
      "val_loss =  0.032848056\n",
      "-----------------------------------------------------------------------\n"
     ]
    },
    {
     "data": {
      "application/vnd.jupyter.widget-view+json": {
       "model_id": "582db61dc83b4008b5e1580879aa395c",
       "version_major": 2,
       "version_minor": 0
      },
      "text/plain": [
       "  0%|          | 0/53 [00:00<?, ?it/s]"
      ]
     },
     "metadata": {},
     "output_type": "display_data"
    },
    {
     "name": "stdout",
     "output_type": "stream",
     "text": [
      "250\n",
      "ELBO train_loss -2.9005395084057213\n",
      "mse train_loss 0.0003952703703379364\n",
      "torch.Size([1, 20837, 2]) torch.Size([1, 20837, 4]) torch.Size([1, 5209, 2]) torch.Size([1, 5209, 4])\n",
      "torch.Size([1, 5209, 4])\n",
      "val_loss =  0.015518238\n",
      "-----------------------------------------------------------------------\n"
     ]
    },
    {
     "data": {
      "application/vnd.jupyter.widget-view+json": {
       "model_id": "fa8d2e48f13248a5bff5c3da6335b9b8",
       "version_major": 2,
       "version_minor": 0
      },
      "text/plain": [
       "  0%|          | 0/53 [00:00<?, ?it/s]"
      ]
     },
     "metadata": {},
     "output_type": "display_data"
    },
    {
     "name": "stdout",
     "output_type": "stream",
     "text": [
      "251\n",
      "ELBO train_loss -2.880370592171291\n",
      "mse train_loss 0.00037257739958871717\n",
      "torch.Size([1, 20837, 2]) torch.Size([1, 20837, 4]) torch.Size([1, 5209, 2]) torch.Size([1, 5209, 4])\n",
      "torch.Size([1, 5209, 4])\n",
      "val_loss =  0.02493231\n",
      "-----------------------------------------------------------------------\n"
     ]
    },
    {
     "data": {
      "application/vnd.jupyter.widget-view+json": {
       "model_id": "adca8d8daf394f5f8a20c7a9d2dddbc6",
       "version_major": 2,
       "version_minor": 0
      },
      "text/plain": [
       "  0%|          | 0/53 [00:00<?, ?it/s]"
      ]
     },
     "metadata": {},
     "output_type": "display_data"
    },
    {
     "name": "stdout",
     "output_type": "stream",
     "text": [
      "252\n",
      "ELBO train_loss -2.917711028512919\n",
      "mse train_loss 0.00037252584819348074\n",
      "torch.Size([1, 20837, 2]) torch.Size([1, 20837, 4]) torch.Size([1, 5209, 2]) torch.Size([1, 5209, 4])\n",
      "torch.Size([1, 5209, 4])\n",
      "val_loss =  0.01375847\n",
      "-----------------------------------------------------------------------\n"
     ]
    },
    {
     "data": {
      "application/vnd.jupyter.widget-view+json": {
       "model_id": "913b4d24ad164995a3417b646444c967",
       "version_major": 2,
       "version_minor": 0
      },
      "text/plain": [
       "  0%|          | 0/53 [00:00<?, ?it/s]"
      ]
     },
     "metadata": {},
     "output_type": "display_data"
    },
    {
     "name": "stdout",
     "output_type": "stream",
     "text": [
      "253\n",
      "ELBO train_loss -2.9299657524756664\n",
      "mse train_loss 0.0003714528978683652\n",
      "torch.Size([1, 20837, 2]) torch.Size([1, 20837, 4]) torch.Size([1, 5209, 2]) torch.Size([1, 5209, 4])\n",
      "torch.Size([1, 5209, 4])\n",
      "val_loss =  0.009890891\n",
      "-----------------------------------------------------------------------\n"
     ]
    },
    {
     "data": {
      "application/vnd.jupyter.widget-view+json": {
       "model_id": "7ccff97c830f48d394d01c37dc1dc64e",
       "version_major": 2,
       "version_minor": 0
      },
      "text/plain": [
       "  0%|          | 0/53 [00:00<?, ?it/s]"
      ]
     },
     "metadata": {},
     "output_type": "display_data"
    },
    {
     "name": "stdout",
     "output_type": "stream",
     "text": [
      "254\n",
      "ELBO train_loss -2.949913794139646\n",
      "mse train_loss 0.0003563958840150351\n",
      "torch.Size([1, 20837, 2]) torch.Size([1, 20837, 4]) torch.Size([1, 5209, 2]) torch.Size([1, 5209, 4])\n",
      "torch.Size([1, 5209, 4])\n",
      "val_loss =  0.012457425\n",
      "-----------------------------------------------------------------------\n"
     ]
    },
    {
     "data": {
      "application/vnd.jupyter.widget-view+json": {
       "model_id": "280e01f9416a45a4bf5bd454b6761777",
       "version_major": 2,
       "version_minor": 0
      },
      "text/plain": [
       "  0%|          | 0/53 [00:00<?, ?it/s]"
      ]
     },
     "metadata": {},
     "output_type": "display_data"
    },
    {
     "name": "stdout",
     "output_type": "stream",
     "text": [
      "255\n",
      "ELBO train_loss -2.9499708121677615\n",
      "mse train_loss 0.0003549307763229458\n",
      "torch.Size([1, 20837, 2]) torch.Size([1, 20837, 4]) torch.Size([1, 5209, 2]) torch.Size([1, 5209, 4])\n",
      "torch.Size([1, 5209, 4])\n",
      "val_loss =  0.01471181\n",
      "-----------------------------------------------------------------------\n"
     ]
    },
    {
     "data": {
      "application/vnd.jupyter.widget-view+json": {
       "model_id": "da1a0a3d950c497991c54a70d4a74564",
       "version_major": 2,
       "version_minor": 0
      },
      "text/plain": [
       "  0%|          | 0/53 [00:00<?, ?it/s]"
      ]
     },
     "metadata": {},
     "output_type": "display_data"
    },
    {
     "name": "stdout",
     "output_type": "stream",
     "text": [
      "256\n",
      "ELBO train_loss -2.757726403902162\n",
      "mse train_loss 0.0003737848411854532\n",
      "torch.Size([1, 20837, 2]) torch.Size([1, 20837, 4]) torch.Size([1, 5209, 2]) torch.Size([1, 5209, 4])\n",
      "torch.Size([1, 5209, 4])\n",
      "val_loss =  0.025637068\n",
      "-----------------------------------------------------------------------\n"
     ]
    },
    {
     "data": {
      "application/vnd.jupyter.widget-view+json": {
       "model_id": "24fd39b4e76a428284943b7d990cfe57",
       "version_major": 2,
       "version_minor": 0
      },
      "text/plain": [
       "  0%|          | 0/53 [00:00<?, ?it/s]"
      ]
     },
     "metadata": {},
     "output_type": "display_data"
    },
    {
     "name": "stdout",
     "output_type": "stream",
     "text": [
      "257\n",
      "ELBO train_loss -2.906325101852417\n",
      "mse train_loss 0.00039313196831707893\n",
      "torch.Size([1, 20837, 2]) torch.Size([1, 20837, 4]) torch.Size([1, 5209, 2]) torch.Size([1, 5209, 4])\n",
      "torch.Size([1, 5209, 4])\n",
      "val_loss =  0.019313658\n",
      "-----------------------------------------------------------------------\n"
     ]
    },
    {
     "data": {
      "application/vnd.jupyter.widget-view+json": {
       "model_id": "7dee4c42eba14a41a354d860853c48fb",
       "version_major": 2,
       "version_minor": 0
      },
      "text/plain": [
       "  0%|          | 0/53 [00:00<?, ?it/s]"
      ]
     },
     "metadata": {},
     "output_type": "display_data"
    },
    {
     "name": "stdout",
     "output_type": "stream",
     "text": [
      "258\n",
      "ELBO train_loss -2.916476213707114\n",
      "mse train_loss 0.0003777305471473637\n",
      "torch.Size([1, 20837, 2]) torch.Size([1, 20837, 4]) torch.Size([1, 5209, 2]) torch.Size([1, 5209, 4])\n",
      "torch.Size([1, 5209, 4])\n",
      "val_loss =  0.027048381\n",
      "-----------------------------------------------------------------------\n"
     ]
    },
    {
     "data": {
      "application/vnd.jupyter.widget-view+json": {
       "model_id": "e68fb71a33af400683d05193a6b30688",
       "version_major": 2,
       "version_minor": 0
      },
      "text/plain": [
       "  0%|          | 0/53 [00:00<?, ?it/s]"
      ]
     },
     "metadata": {},
     "output_type": "display_data"
    },
    {
     "name": "stdout",
     "output_type": "stream",
     "text": [
      "259\n",
      "ELBO train_loss -2.9142597171495543\n",
      "mse train_loss 0.000364401580640642\n",
      "torch.Size([1, 20837, 2]) torch.Size([1, 20837, 4]) torch.Size([1, 5209, 2]) torch.Size([1, 5209, 4])\n",
      "torch.Size([1, 5209, 4])\n",
      "val_loss =  0.019345203\n",
      "-----------------------------------------------------------------------\n"
     ]
    },
    {
     "data": {
      "application/vnd.jupyter.widget-view+json": {
       "model_id": "d578458b749743119f44118757fbeeac",
       "version_major": 2,
       "version_minor": 0
      },
      "text/plain": [
       "  0%|          | 0/53 [00:00<?, ?it/s]"
      ]
     },
     "metadata": {},
     "output_type": "display_data"
    },
    {
     "name": "stdout",
     "output_type": "stream",
     "text": [
      "260\n",
      "ELBO train_loss -2.908228206184675\n",
      "mse train_loss 0.000377068721924311\n",
      "torch.Size([1, 20837, 2]) torch.Size([1, 20837, 4]) torch.Size([1, 5209, 2]) torch.Size([1, 5209, 4])\n",
      "torch.Size([1, 5209, 4])\n",
      "val_loss =  0.034731623\n",
      "-----------------------------------------------------------------------\n"
     ]
    },
    {
     "data": {
      "application/vnd.jupyter.widget-view+json": {
       "model_id": "04d6f8f071a6428d9db3271f06cfc251",
       "version_major": 2,
       "version_minor": 0
      },
      "text/plain": [
       "  0%|          | 0/53 [00:00<?, ?it/s]"
      ]
     },
     "metadata": {},
     "output_type": "display_data"
    },
    {
     "name": "stdout",
     "output_type": "stream",
     "text": [
      "261\n",
      "ELBO train_loss -2.9088325320549733\n",
      "mse train_loss 0.0003770793711806138\n",
      "torch.Size([1, 20837, 2]) torch.Size([1, 20837, 4]) torch.Size([1, 5209, 2]) torch.Size([1, 5209, 4])\n",
      "torch.Size([1, 5209, 4])\n",
      "val_loss =  0.018641558\n",
      "-----------------------------------------------------------------------\n"
     ]
    },
    {
     "data": {
      "application/vnd.jupyter.widget-view+json": {
       "model_id": "314d216135514a56853ba0c5f4a3ac34",
       "version_major": 2,
       "version_minor": 0
      },
      "text/plain": [
       "  0%|          | 0/53 [00:00<?, ?it/s]"
      ]
     },
     "metadata": {},
     "output_type": "display_data"
    },
    {
     "name": "stdout",
     "output_type": "stream",
     "text": [
      "262\n",
      "ELBO train_loss -2.9325535432347714\n",
      "mse train_loss 0.0003637388106413572\n",
      "torch.Size([1, 20837, 2]) torch.Size([1, 20837, 4]) torch.Size([1, 5209, 2]) torch.Size([1, 5209, 4])\n",
      "torch.Size([1, 5209, 4])\n",
      "val_loss =  0.01599474\n",
      "-----------------------------------------------------------------------\n"
     ]
    },
    {
     "data": {
      "application/vnd.jupyter.widget-view+json": {
       "model_id": "75bb5125968a404c8db875465da03100",
       "version_major": 2,
       "version_minor": 0
      },
      "text/plain": [
       "  0%|          | 0/53 [00:00<?, ?it/s]"
      ]
     },
     "metadata": {},
     "output_type": "display_data"
    },
    {
     "name": "stdout",
     "output_type": "stream",
     "text": [
      "263\n",
      "ELBO train_loss -2.9450173872821734\n",
      "mse train_loss 0.00035536675280144545\n",
      "torch.Size([1, 20837, 2]) torch.Size([1, 20837, 4]) torch.Size([1, 5209, 2]) torch.Size([1, 5209, 4])\n",
      "torch.Size([1, 5209, 4])\n",
      "val_loss =  0.012255272\n",
      "-----------------------------------------------------------------------\n"
     ]
    },
    {
     "data": {
      "application/vnd.jupyter.widget-view+json": {
       "model_id": "89106a3a639d4118a5e078ef5361d4c4",
       "version_major": 2,
       "version_minor": 0
      },
      "text/plain": [
       "  0%|          | 0/53 [00:00<?, ?it/s]"
      ]
     },
     "metadata": {},
     "output_type": "display_data"
    },
    {
     "name": "stdout",
     "output_type": "stream",
     "text": [
      "264\n",
      "ELBO train_loss -2.8194729157213896\n",
      "mse train_loss 0.0003983490152574443\n",
      "torch.Size([1, 20837, 2]) torch.Size([1, 20837, 4]) torch.Size([1, 5209, 2]) torch.Size([1, 5209, 4])\n",
      "torch.Size([1, 5209, 4])\n",
      "val_loss =  0.012144757\n",
      "-----------------------------------------------------------------------\n"
     ]
    },
    {
     "data": {
      "application/vnd.jupyter.widget-view+json": {
       "model_id": "81f4b865e6b6498aac20f4ddf6f83129",
       "version_major": 2,
       "version_minor": 0
      },
      "text/plain": [
       "  0%|          | 0/53 [00:00<?, ?it/s]"
      ]
     },
     "metadata": {},
     "output_type": "display_data"
    },
    {
     "name": "stdout",
     "output_type": "stream",
     "text": [
      "265\n",
      "ELBO train_loss -2.9161180550197385\n",
      "mse train_loss 0.00037404071931718445\n",
      "torch.Size([1, 20837, 2]) torch.Size([1, 20837, 4]) torch.Size([1, 5209, 2]) torch.Size([1, 5209, 4])\n",
      "torch.Size([1, 5209, 4])\n",
      "val_loss =  0.015745431\n",
      "-----------------------------------------------------------------------\n"
     ]
    },
    {
     "data": {
      "application/vnd.jupyter.widget-view+json": {
       "model_id": "e5f1d973a64a41718b1a5bfdbad9a334",
       "version_major": 2,
       "version_minor": 0
      },
      "text/plain": [
       "  0%|          | 0/53 [00:00<?, ?it/s]"
      ]
     },
     "metadata": {},
     "output_type": "display_data"
    },
    {
     "name": "stdout",
     "output_type": "stream",
     "text": [
      "266\n",
      "ELBO train_loss -2.9161763731038794\n",
      "mse train_loss 0.0003708117366395012\n",
      "torch.Size([1, 20837, 2]) torch.Size([1, 20837, 4]) torch.Size([1, 5209, 2]) torch.Size([1, 5209, 4])\n",
      "torch.Size([1, 5209, 4])\n",
      "val_loss =  0.016068688\n",
      "-----------------------------------------------------------------------\n"
     ]
    },
    {
     "data": {
      "application/vnd.jupyter.widget-view+json": {
       "model_id": "42f5f074deef43f08898aef4a791cde6",
       "version_major": 2,
       "version_minor": 0
      },
      "text/plain": [
       "  0%|          | 0/53 [00:00<?, ?it/s]"
      ]
     },
     "metadata": {},
     "output_type": "display_data"
    },
    {
     "name": "stdout",
     "output_type": "stream",
     "text": [
      "267\n",
      "ELBO train_loss -2.8505448327874237\n",
      "mse train_loss 0.0004055730129245071\n",
      "torch.Size([1, 20837, 2]) torch.Size([1, 20837, 4]) torch.Size([1, 5209, 2]) torch.Size([1, 5209, 4])\n",
      "torch.Size([1, 5209, 4])\n",
      "val_loss =  0.03279401\n",
      "-----------------------------------------------------------------------\n"
     ]
    },
    {
     "data": {
      "application/vnd.jupyter.widget-view+json": {
       "model_id": "e04e1c0093414e8dbc350b3279b960f9",
       "version_major": 2,
       "version_minor": 0
      },
      "text/plain": [
       "  0%|          | 0/53 [00:00<?, ?it/s]"
      ]
     },
     "metadata": {},
     "output_type": "display_data"
    },
    {
     "name": "stdout",
     "output_type": "stream",
     "text": [
      "268\n",
      "ELBO train_loss -2.895455837249756\n",
      "mse train_loss 0.0003894228276243117\n",
      "torch.Size([1, 20837, 2]) torch.Size([1, 20837, 4]) torch.Size([1, 5209, 2]) torch.Size([1, 5209, 4])\n",
      "torch.Size([1, 5209, 4])\n",
      "val_loss =  0.016889742\n",
      "-----------------------------------------------------------------------\n"
     ]
    },
    {
     "data": {
      "application/vnd.jupyter.widget-view+json": {
       "model_id": "ddec172b556145cfb151137866054b7f",
       "version_major": 2,
       "version_minor": 0
      },
      "text/plain": [
       "  0%|          | 0/53 [00:00<?, ?it/s]"
      ]
     },
     "metadata": {},
     "output_type": "display_data"
    },
    {
     "name": "stdout",
     "output_type": "stream",
     "text": [
      "269\n",
      "ELBO train_loss -2.9173616958114335\n",
      "mse train_loss 0.00037110436769237495\n",
      "torch.Size([1, 20837, 2]) torch.Size([1, 20837, 4]) torch.Size([1, 5209, 2]) torch.Size([1, 5209, 4])\n",
      "torch.Size([1, 5209, 4])\n",
      "val_loss =  0.017863888\n",
      "-----------------------------------------------------------------------\n"
     ]
    },
    {
     "data": {
      "application/vnd.jupyter.widget-view+json": {
       "model_id": "f8d9b6731f6a41d9a2247e617e92c907",
       "version_major": 2,
       "version_minor": 0
      },
      "text/plain": [
       "  0%|          | 0/53 [00:00<?, ?it/s]"
      ]
     },
     "metadata": {},
     "output_type": "display_data"
    },
    {
     "name": "stdout",
     "output_type": "stream",
     "text": [
      "270\n",
      "ELBO train_loss -2.9258674720548234\n",
      "mse train_loss 0.0003729104278565226\n",
      "torch.Size([1, 20837, 2]) torch.Size([1, 20837, 4]) torch.Size([1, 5209, 2]) torch.Size([1, 5209, 4])\n",
      "torch.Size([1, 5209, 4])\n",
      "val_loss =  0.016703244\n",
      "-----------------------------------------------------------------------\n"
     ]
    },
    {
     "data": {
      "application/vnd.jupyter.widget-view+json": {
       "model_id": "61f34423b6bd449ab6e0f2e847e1fc90",
       "version_major": 2,
       "version_minor": 0
      },
      "text/plain": [
       "  0%|          | 0/53 [00:00<?, ?it/s]"
      ]
     },
     "metadata": {},
     "output_type": "display_data"
    },
    {
     "name": "stdout",
     "output_type": "stream",
     "text": [
      "271\n",
      "ELBO train_loss -2.9307606535137825\n",
      "mse train_loss 0.0003742146512212337\n",
      "torch.Size([1, 20837, 2]) torch.Size([1, 20837, 4]) torch.Size([1, 5209, 2]) torch.Size([1, 5209, 4])\n",
      "torch.Size([1, 5209, 4])\n",
      "val_loss =  0.019873776\n",
      "-----------------------------------------------------------------------\n"
     ]
    },
    {
     "data": {
      "application/vnd.jupyter.widget-view+json": {
       "model_id": "9617b2a03d2b4c2fb8ebcc48155fd86f",
       "version_major": 2,
       "version_minor": 0
      },
      "text/plain": [
       "  0%|          | 0/53 [00:00<?, ?it/s]"
      ]
     },
     "metadata": {},
     "output_type": "display_data"
    },
    {
     "name": "stdout",
     "output_type": "stream",
     "text": [
      "272\n",
      "ELBO train_loss -2.919361114501953\n",
      "mse train_loss 0.00037435551568259536\n",
      "torch.Size([1, 20837, 2]) torch.Size([1, 20837, 4]) torch.Size([1, 5209, 2]) torch.Size([1, 5209, 4])\n",
      "torch.Size([1, 5209, 4])\n",
      "val_loss =  0.016084205\n",
      "-----------------------------------------------------------------------\n"
     ]
    },
    {
     "data": {
      "application/vnd.jupyter.widget-view+json": {
       "model_id": "525740293d2b43eba35ca05caafa049f",
       "version_major": 2,
       "version_minor": 0
      },
      "text/plain": [
       "  0%|          | 0/53 [00:00<?, ?it/s]"
      ]
     },
     "metadata": {},
     "output_type": "display_data"
    },
    {
     "name": "stdout",
     "output_type": "stream",
     "text": [
      "273\n",
      "ELBO train_loss -2.9222412244328915\n",
      "mse train_loss 0.0003667864470769001\n",
      "torch.Size([1, 20837, 2]) torch.Size([1, 20837, 4]) torch.Size([1, 5209, 2]) torch.Size([1, 5209, 4])\n",
      "torch.Size([1, 5209, 4])\n",
      "val_loss =  0.026272032\n",
      "-----------------------------------------------------------------------\n"
     ]
    },
    {
     "data": {
      "application/vnd.jupyter.widget-view+json": {
       "model_id": "4dd46385b7cd4607b1cae07d2aec9df0",
       "version_major": 2,
       "version_minor": 0
      },
      "text/plain": [
       "  0%|          | 0/53 [00:00<?, ?it/s]"
      ]
     },
     "metadata": {},
     "output_type": "display_data"
    },
    {
     "name": "stdout",
     "output_type": "stream",
     "text": [
      "274\n",
      "ELBO train_loss -2.912887658712999\n",
      "mse train_loss 0.00037407013807305185\n",
      "torch.Size([1, 20837, 2]) torch.Size([1, 20837, 4]) torch.Size([1, 5209, 2]) torch.Size([1, 5209, 4])\n",
      "torch.Size([1, 5209, 4])\n",
      "val_loss =  0.014560412\n",
      "-----------------------------------------------------------------------\n"
     ]
    },
    {
     "data": {
      "application/vnd.jupyter.widget-view+json": {
       "model_id": "b132f38f77e64576b0f8de9a344d1bb2",
       "version_major": 2,
       "version_minor": 0
      },
      "text/plain": [
       "  0%|          | 0/53 [00:00<?, ?it/s]"
      ]
     },
     "metadata": {},
     "output_type": "display_data"
    },
    {
     "name": "stdout",
     "output_type": "stream",
     "text": [
      "275\n",
      "ELBO train_loss -2.9366434520145632\n",
      "mse train_loss 0.00036729379328635504\n",
      "torch.Size([1, 20837, 2]) torch.Size([1, 20837, 4]) torch.Size([1, 5209, 2]) torch.Size([1, 5209, 4])\n",
      "torch.Size([1, 5209, 4])\n",
      "val_loss =  0.017523516\n",
      "-----------------------------------------------------------------------\n"
     ]
    },
    {
     "data": {
      "application/vnd.jupyter.widget-view+json": {
       "model_id": "3e0bd7d8801c463cb86939fbf527ad97",
       "version_major": 2,
       "version_minor": 0
      },
      "text/plain": [
       "  0%|          | 0/53 [00:00<?, ?it/s]"
      ]
     },
     "metadata": {},
     "output_type": "display_data"
    },
    {
     "name": "stdout",
     "output_type": "stream",
     "text": [
      "276\n",
      "ELBO train_loss -2.9187477399718085\n",
      "mse train_loss 0.00038346962729811596\n",
      "torch.Size([1, 20837, 2]) torch.Size([1, 20837, 4]) torch.Size([1, 5209, 2]) torch.Size([1, 5209, 4])\n",
      "torch.Size([1, 5209, 4])\n",
      "val_loss =  0.025399704\n",
      "-----------------------------------------------------------------------\n"
     ]
    },
    {
     "data": {
      "application/vnd.jupyter.widget-view+json": {
       "model_id": "16b40233389f41f2ae96e7ac9c18ee06",
       "version_major": 2,
       "version_minor": 0
      },
      "text/plain": [
       "  0%|          | 0/53 [00:00<?, ?it/s]"
      ]
     },
     "metadata": {},
     "output_type": "display_data"
    },
    {
     "name": "stdout",
     "output_type": "stream",
     "text": [
      "277\n",
      "ELBO train_loss -2.913163814904555\n",
      "mse train_loss 0.0003618915699299355\n",
      "torch.Size([1, 20837, 2]) torch.Size([1, 20837, 4]) torch.Size([1, 5209, 2]) torch.Size([1, 5209, 4])\n",
      "torch.Size([1, 5209, 4])\n",
      "val_loss =  0.017769048\n",
      "-----------------------------------------------------------------------\n"
     ]
    },
    {
     "data": {
      "application/vnd.jupyter.widget-view+json": {
       "model_id": "de16570d8c1644c7b47614f4042f309c",
       "version_major": 2,
       "version_minor": 0
      },
      "text/plain": [
       "  0%|          | 0/53 [00:00<?, ?it/s]"
      ]
     },
     "metadata": {},
     "output_type": "display_data"
    },
    {
     "name": "stdout",
     "output_type": "stream",
     "text": [
      "278\n",
      "ELBO train_loss -2.9167945429963886\n",
      "mse train_loss 0.0003655519413889192\n",
      "torch.Size([1, 20837, 2]) torch.Size([1, 20837, 4]) torch.Size([1, 5209, 2]) torch.Size([1, 5209, 4])\n",
      "torch.Size([1, 5209, 4])\n",
      "val_loss =  0.018899791\n",
      "-----------------------------------------------------------------------\n"
     ]
    },
    {
     "data": {
      "application/vnd.jupyter.widget-view+json": {
       "model_id": "229603a95ae648689c497595deffed6d",
       "version_major": 2,
       "version_minor": 0
      },
      "text/plain": [
       "  0%|          | 0/53 [00:00<?, ?it/s]"
      ]
     },
     "metadata": {},
     "output_type": "display_data"
    },
    {
     "name": "stdout",
     "output_type": "stream",
     "text": [
      "279\n",
      "ELBO train_loss -2.93100838391286\n",
      "mse train_loss 0.0003782671251343036\n",
      "torch.Size([1, 20837, 2]) torch.Size([1, 20837, 4]) torch.Size([1, 5209, 2]) torch.Size([1, 5209, 4])\n",
      "torch.Size([1, 5209, 4])\n",
      "val_loss =  0.016621526\n",
      "-----------------------------------------------------------------------\n"
     ]
    },
    {
     "data": {
      "application/vnd.jupyter.widget-view+json": {
       "model_id": "000bec9d4287440a9491123d86122205",
       "version_major": 2,
       "version_minor": 0
      },
      "text/plain": [
       "  0%|          | 0/53 [00:00<?, ?it/s]"
      ]
     },
     "metadata": {},
     "output_type": "display_data"
    },
    {
     "name": "stdout",
     "output_type": "stream",
     "text": [
      "280\n",
      "ELBO train_loss -2.9290314665380515\n",
      "mse train_loss 0.00038819053712221884\n",
      "torch.Size([1, 20837, 2]) torch.Size([1, 20837, 4]) torch.Size([1, 5209, 2]) torch.Size([1, 5209, 4])\n",
      "torch.Size([1, 5209, 4])\n",
      "val_loss =  0.014618573\n",
      "-----------------------------------------------------------------------\n"
     ]
    },
    {
     "data": {
      "application/vnd.jupyter.widget-view+json": {
       "model_id": "a7aeb5053fcd4eccae8bee893adc0fe1",
       "version_major": 2,
       "version_minor": 0
      },
      "text/plain": [
       "  0%|          | 0/53 [00:00<?, ?it/s]"
      ]
     },
     "metadata": {},
     "output_type": "display_data"
    },
    {
     "name": "stdout",
     "output_type": "stream",
     "text": [
      "281\n",
      "ELBO train_loss -2.939847473828298\n",
      "mse train_loss 0.0003811176624676248\n",
      "torch.Size([1, 20837, 2]) torch.Size([1, 20837, 4]) torch.Size([1, 5209, 2]) torch.Size([1, 5209, 4])\n",
      "torch.Size([1, 5209, 4])\n",
      "val_loss =  0.012690781\n",
      "-----------------------------------------------------------------------\n"
     ]
    },
    {
     "data": {
      "application/vnd.jupyter.widget-view+json": {
       "model_id": "65a17f060f1942ee90962711781c438b",
       "version_major": 2,
       "version_minor": 0
      },
      "text/plain": [
       "  0%|          | 0/53 [00:00<?, ?it/s]"
      ]
     },
     "metadata": {},
     "output_type": "display_data"
    },
    {
     "name": "stdout",
     "output_type": "stream",
     "text": [
      "282\n",
      "ELBO train_loss -2.935683880212172\n",
      "mse train_loss 0.0003785408818039973\n",
      "torch.Size([1, 20837, 2]) torch.Size([1, 20837, 4]) torch.Size([1, 5209, 2]) torch.Size([1, 5209, 4])\n",
      "torch.Size([1, 5209, 4])\n",
      "val_loss =  0.01587168\n",
      "-----------------------------------------------------------------------\n"
     ]
    },
    {
     "data": {
      "application/vnd.jupyter.widget-view+json": {
       "model_id": "584da10055b04218b01267b83a14a98a",
       "version_major": 2,
       "version_minor": 0
      },
      "text/plain": [
       "  0%|          | 0/53 [00:00<?, ?it/s]"
      ]
     },
     "metadata": {},
     "output_type": "display_data"
    },
    {
     "name": "stdout",
     "output_type": "stream",
     "text": [
      "283\n",
      "ELBO train_loss -2.9265491692525036\n",
      "mse train_loss 0.0003793975827064506\n",
      "torch.Size([1, 20837, 2]) torch.Size([1, 20837, 4]) torch.Size([1, 5209, 2]) torch.Size([1, 5209, 4])\n",
      "torch.Size([1, 5209, 4])\n",
      "val_loss =  0.016535686\n",
      "-----------------------------------------------------------------------\n"
     ]
    },
    {
     "data": {
      "application/vnd.jupyter.widget-view+json": {
       "model_id": "b05189e02e084abaac6edf5dcb10318c",
       "version_major": 2,
       "version_minor": 0
      },
      "text/plain": [
       "  0%|          | 0/53 [00:00<?, ?it/s]"
      ]
     },
     "metadata": {},
     "output_type": "display_data"
    },
    {
     "name": "stdout",
     "output_type": "stream",
     "text": [
      "284\n",
      "ELBO train_loss -2.9191195964813232\n",
      "mse train_loss 0.0004170990882898277\n",
      "torch.Size([1, 20837, 2]) torch.Size([1, 20837, 4]) torch.Size([1, 5209, 2]) torch.Size([1, 5209, 4])\n",
      "torch.Size([1, 5209, 4])\n",
      "val_loss =  0.013834353\n",
      "-----------------------------------------------------------------------\n"
     ]
    },
    {
     "data": {
      "application/vnd.jupyter.widget-view+json": {
       "model_id": "7f4bb60b60a14dba878d4eff3f8788ed",
       "version_major": 2,
       "version_minor": 0
      },
      "text/plain": [
       "  0%|          | 0/53 [00:00<?, ?it/s]"
      ]
     },
     "metadata": {},
     "output_type": "display_data"
    },
    {
     "name": "stdout",
     "output_type": "stream",
     "text": [
      "285\n",
      "ELBO train_loss -2.9516933639094516\n",
      "mse train_loss 0.00036883541604697284\n",
      "torch.Size([1, 20837, 2]) torch.Size([1, 20837, 4]) torch.Size([1, 5209, 2]) torch.Size([1, 5209, 4])\n",
      "torch.Size([1, 5209, 4])\n",
      "val_loss =  0.010627637\n",
      "-----------------------------------------------------------------------\n"
     ]
    },
    {
     "data": {
      "application/vnd.jupyter.widget-view+json": {
       "model_id": "54e13452c9ae439a9174e6a353a543b3",
       "version_major": 2,
       "version_minor": 0
      },
      "text/plain": [
       "  0%|          | 0/53 [00:00<?, ?it/s]"
      ]
     },
     "metadata": {},
     "output_type": "display_data"
    },
    {
     "name": "stdout",
     "output_type": "stream",
     "text": [
      "286\n",
      "ELBO train_loss -2.943262909943203\n",
      "mse train_loss 0.0003587135197792448\n",
      "torch.Size([1, 20837, 2]) torch.Size([1, 20837, 4]) torch.Size([1, 5209, 2]) torch.Size([1, 5209, 4])\n",
      "torch.Size([1, 5209, 4])\n",
      "val_loss =  0.013893442\n",
      "-----------------------------------------------------------------------\n"
     ]
    },
    {
     "data": {
      "application/vnd.jupyter.widget-view+json": {
       "model_id": "c116e6d446e549fabb4251955be3058a",
       "version_major": 2,
       "version_minor": 0
      },
      "text/plain": [
       "  0%|          | 0/53 [00:00<?, ?it/s]"
      ]
     },
     "metadata": {},
     "output_type": "display_data"
    },
    {
     "name": "stdout",
     "output_type": "stream",
     "text": [
      "287\n",
      "ELBO train_loss -2.9122818101127192\n",
      "mse train_loss 0.0004220330870253438\n",
      "torch.Size([1, 20837, 2]) torch.Size([1, 20837, 4]) torch.Size([1, 5209, 2]) torch.Size([1, 5209, 4])\n",
      "torch.Size([1, 5209, 4])\n",
      "val_loss =  0.02274248\n",
      "-----------------------------------------------------------------------\n"
     ]
    },
    {
     "data": {
      "application/vnd.jupyter.widget-view+json": {
       "model_id": "edb4aaedea1a47819bb91e91bc4f6d43",
       "version_major": 2,
       "version_minor": 0
      },
      "text/plain": [
       "  0%|          | 0/53 [00:00<?, ?it/s]"
      ]
     },
     "metadata": {},
     "output_type": "display_data"
    },
    {
     "name": "stdout",
     "output_type": "stream",
     "text": [
      "288\n",
      "ELBO train_loss -2.9048552940476617\n",
      "mse train_loss 0.0003843869124912604\n",
      "torch.Size([1, 20837, 2]) torch.Size([1, 20837, 4]) torch.Size([1, 5209, 2]) torch.Size([1, 5209, 4])\n",
      "torch.Size([1, 5209, 4])\n",
      "val_loss =  0.017708823\n",
      "-----------------------------------------------------------------------\n"
     ]
    },
    {
     "data": {
      "application/vnd.jupyter.widget-view+json": {
       "model_id": "ae62276973df45e1b523270cd7dbe3b8",
       "version_major": 2,
       "version_minor": 0
      },
      "text/plain": [
       "  0%|          | 0/53 [00:00<?, ?it/s]"
      ]
     },
     "metadata": {},
     "output_type": "display_data"
    },
    {
     "name": "stdout",
     "output_type": "stream",
     "text": [
      "289\n",
      "ELBO train_loss -2.9464390322847187\n",
      "mse train_loss 0.0003402222242790608\n",
      "torch.Size([1, 20837, 2]) torch.Size([1, 20837, 4]) torch.Size([1, 5209, 2]) torch.Size([1, 5209, 4])\n",
      "torch.Size([1, 5209, 4])\n",
      "val_loss =  0.023068676\n",
      "-----------------------------------------------------------------------\n"
     ]
    },
    {
     "data": {
      "application/vnd.jupyter.widget-view+json": {
       "model_id": "fdf4c2fc3ac74917835818257867af1b",
       "version_major": 2,
       "version_minor": 0
      },
      "text/plain": [
       "  0%|          | 0/53 [00:00<?, ?it/s]"
      ]
     },
     "metadata": {},
     "output_type": "display_data"
    },
    {
     "name": "stdout",
     "output_type": "stream",
     "text": [
      "290\n",
      "ELBO train_loss -2.922982584755376\n",
      "mse train_loss 0.00035988408380258335\n",
      "torch.Size([1, 20837, 2]) torch.Size([1, 20837, 4]) torch.Size([1, 5209, 2]) torch.Size([1, 5209, 4])\n",
      "torch.Size([1, 5209, 4])\n",
      "val_loss =  0.01659735\n",
      "-----------------------------------------------------------------------\n"
     ]
    },
    {
     "data": {
      "application/vnd.jupyter.widget-view+json": {
       "model_id": "2938be08664047a3a77d70949cd5a239",
       "version_major": 2,
       "version_minor": 0
      },
      "text/plain": [
       "  0%|          | 0/53 [00:00<?, ?it/s]"
      ]
     },
     "metadata": {},
     "output_type": "display_data"
    },
    {
     "name": "stdout",
     "output_type": "stream",
     "text": [
      "291\n",
      "ELBO train_loss -2.9380373190034113\n",
      "mse train_loss 0.0003698762750059788\n",
      "torch.Size([1, 20837, 2]) torch.Size([1, 20837, 4]) torch.Size([1, 5209, 2]) torch.Size([1, 5209, 4])\n",
      "torch.Size([1, 5209, 4])\n",
      "val_loss =  0.018723346\n",
      "-----------------------------------------------------------------------\n"
     ]
    },
    {
     "data": {
      "application/vnd.jupyter.widget-view+json": {
       "model_id": "ba33a2b1530a4d298d6bf8fac05de4aa",
       "version_major": 2,
       "version_minor": 0
      },
      "text/plain": [
       "  0%|          | 0/53 [00:00<?, ?it/s]"
      ]
     },
     "metadata": {},
     "output_type": "display_data"
    },
    {
     "name": "stdout",
     "output_type": "stream",
     "text": [
      "292\n",
      "ELBO train_loss -2.9388376092011073\n",
      "mse train_loss 0.00036452971492182323\n",
      "torch.Size([1, 20837, 2]) torch.Size([1, 20837, 4]) torch.Size([1, 5209, 2]) torch.Size([1, 5209, 4])\n",
      "torch.Size([1, 5209, 4])\n",
      "val_loss =  0.01877037\n",
      "-----------------------------------------------------------------------\n"
     ]
    },
    {
     "data": {
      "application/vnd.jupyter.widget-view+json": {
       "model_id": "fb70e581805248f8a6f63c09616dfbce",
       "version_major": 2,
       "version_minor": 0
      },
      "text/plain": [
       "  0%|          | 0/53 [00:00<?, ?it/s]"
      ]
     },
     "metadata": {},
     "output_type": "display_data"
    },
    {
     "name": "stdout",
     "output_type": "stream",
     "text": [
      "293\n",
      "ELBO train_loss -2.9306471437778114\n",
      "mse train_loss 0.0003583956584510095\n",
      "torch.Size([1, 20837, 2]) torch.Size([1, 20837, 4]) torch.Size([1, 5209, 2]) torch.Size([1, 5209, 4])\n",
      "torch.Size([1, 5209, 4])\n",
      "val_loss =  0.016015686\n",
      "-----------------------------------------------------------------------\n"
     ]
    },
    {
     "data": {
      "application/vnd.jupyter.widget-view+json": {
       "model_id": "a2e30ac123194e9f95e3ae06d6adb1c4",
       "version_major": 2,
       "version_minor": 0
      },
      "text/plain": [
       "  0%|          | 0/53 [00:00<?, ?it/s]"
      ]
     },
     "metadata": {},
     "output_type": "display_data"
    },
    {
     "name": "stdout",
     "output_type": "stream",
     "text": [
      "294\n",
      "ELBO train_loss -2.918680438455546\n",
      "mse train_loss 0.0003655575353647846\n",
      "torch.Size([1, 20837, 2]) torch.Size([1, 20837, 4]) torch.Size([1, 5209, 2]) torch.Size([1, 5209, 4])\n",
      "torch.Size([1, 5209, 4])\n",
      "val_loss =  0.015081582\n",
      "-----------------------------------------------------------------------\n"
     ]
    },
    {
     "data": {
      "application/vnd.jupyter.widget-view+json": {
       "model_id": "be259f0608414a47ab371582b6396b26",
       "version_major": 2,
       "version_minor": 0
      },
      "text/plain": [
       "  0%|          | 0/53 [00:00<?, ?it/s]"
      ]
     },
     "metadata": {},
     "output_type": "display_data"
    },
    {
     "name": "stdout",
     "output_type": "stream",
     "text": [
      "295\n",
      "ELBO train_loss -2.9379231299994126\n",
      "mse train_loss 0.00037559957813497913\n",
      "torch.Size([1, 20837, 2]) torch.Size([1, 20837, 4]) torch.Size([1, 5209, 2]) torch.Size([1, 5209, 4])\n",
      "torch.Size([1, 5209, 4])\n",
      "val_loss =  0.01682667\n",
      "-----------------------------------------------------------------------\n"
     ]
    },
    {
     "data": {
      "application/vnd.jupyter.widget-view+json": {
       "model_id": "cb6dfa70a31141f2a313717020f120cb",
       "version_major": 2,
       "version_minor": 0
      },
      "text/plain": [
       "  0%|          | 0/53 [00:00<?, ?it/s]"
      ]
     },
     "metadata": {},
     "output_type": "display_data"
    },
    {
     "name": "stdout",
     "output_type": "stream",
     "text": [
      "296\n",
      "ELBO train_loss -2.9423497757821715\n",
      "mse train_loss 0.0003576431157647298\n",
      "torch.Size([1, 20837, 2]) torch.Size([1, 20837, 4]) torch.Size([1, 5209, 2]) torch.Size([1, 5209, 4])\n",
      "torch.Size([1, 5209, 4])\n",
      "val_loss =  0.012409329\n",
      "-----------------------------------------------------------------------\n"
     ]
    },
    {
     "data": {
      "application/vnd.jupyter.widget-view+json": {
       "model_id": "083a8effa3c84c5abb2960c437912f37",
       "version_major": 2,
       "version_minor": 0
      },
      "text/plain": [
       "  0%|          | 0/53 [00:00<?, ?it/s]"
      ]
     },
     "metadata": {},
     "output_type": "display_data"
    },
    {
     "name": "stdout",
     "output_type": "stream",
     "text": [
      "297\n",
      "ELBO train_loss -2.9237518715408615\n",
      "mse train_loss 0.0003776365431478106\n",
      "torch.Size([1, 20837, 2]) torch.Size([1, 20837, 4]) torch.Size([1, 5209, 2]) torch.Size([1, 5209, 4])\n",
      "torch.Size([1, 5209, 4])\n",
      "val_loss =  0.037596896\n",
      "-----------------------------------------------------------------------\n"
     ]
    },
    {
     "data": {
      "application/vnd.jupyter.widget-view+json": {
       "model_id": "0be7593fdd674ce395e6fcf86a2871ba",
       "version_major": 2,
       "version_minor": 0
      },
      "text/plain": [
       "  0%|          | 0/53 [00:00<?, ?it/s]"
      ]
     },
     "metadata": {},
     "output_type": "display_data"
    },
    {
     "name": "stdout",
     "output_type": "stream",
     "text": [
      "298\n",
      "ELBO train_loss -2.8882553397484547\n",
      "mse train_loss 0.00038862857832529425\n",
      "torch.Size([1, 20837, 2]) torch.Size([1, 20837, 4]) torch.Size([1, 5209, 2]) torch.Size([1, 5209, 4])\n",
      "torch.Size([1, 5209, 4])\n",
      "val_loss =  0.019772949\n",
      "-----------------------------------------------------------------------\n"
     ]
    },
    {
     "data": {
      "application/vnd.jupyter.widget-view+json": {
       "model_id": "464116f4829f451a8243731da3a57494",
       "version_major": 2,
       "version_minor": 0
      },
      "text/plain": [
       "  0%|          | 0/53 [00:00<?, ?it/s]"
      ]
     },
     "metadata": {},
     "output_type": "display_data"
    },
    {
     "name": "stdout",
     "output_type": "stream",
     "text": [
      "299\n",
      "ELBO train_loss -2.9457975513530226\n",
      "mse train_loss 0.00036978557538944033\n",
      "torch.Size([1, 20837, 2]) torch.Size([1, 20837, 4]) torch.Size([1, 5209, 2]) torch.Size([1, 5209, 4])\n",
      "torch.Size([1, 5209, 4])\n",
      "val_loss =  0.01366618\n",
      "-----------------------------------------------------------------------\n"
     ]
    },
    {
     "data": {
      "application/vnd.jupyter.widget-view+json": {
       "model_id": "e6605d33725142adb542b3eacaf3f8dc",
       "version_major": 2,
       "version_minor": 0
      },
      "text/plain": [
       "  0%|          | 0/53 [00:00<?, ?it/s]"
      ]
     },
     "metadata": {},
     "output_type": "display_data"
    },
    {
     "name": "stdout",
     "output_type": "stream",
     "text": [
      "300\n",
      "ELBO train_loss -2.9472402761567316\n",
      "mse train_loss 0.0003634090906004685\n",
      "torch.Size([1, 20837, 2]) torch.Size([1, 20837, 4]) torch.Size([1, 5209, 2]) torch.Size([1, 5209, 4])\n",
      "torch.Size([1, 5209, 4])\n",
      "val_loss =  0.011376514\n",
      "-----------------------------------------------------------------------\n"
     ]
    },
    {
     "data": {
      "application/vnd.jupyter.widget-view+json": {
       "model_id": "2744ce731c984256a4e41cd997cc7787",
       "version_major": 2,
       "version_minor": 0
      },
      "text/plain": [
       "  0%|          | 0/53 [00:00<?, ?it/s]"
      ]
     },
     "metadata": {},
     "output_type": "display_data"
    },
    {
     "name": "stdout",
     "output_type": "stream",
     "text": [
      "301\n",
      "ELBO train_loss -2.9341172722150697\n",
      "mse train_loss 0.000374026957323845\n",
      "torch.Size([1, 20837, 2]) torch.Size([1, 20837, 4]) torch.Size([1, 5209, 2]) torch.Size([1, 5209, 4])\n",
      "torch.Size([1, 5209, 4])\n",
      "val_loss =  0.019133404\n",
      "-----------------------------------------------------------------------\n"
     ]
    },
    {
     "data": {
      "application/vnd.jupyter.widget-view+json": {
       "model_id": "33d641422eff47feb136571b06beb649",
       "version_major": 2,
       "version_minor": 0
      },
      "text/plain": [
       "  0%|          | 0/53 [00:00<?, ?it/s]"
      ]
     },
     "metadata": {},
     "output_type": "display_data"
    },
    {
     "name": "stdout",
     "output_type": "stream",
     "text": [
      "302\n",
      "ELBO train_loss -2.9009617589554697\n",
      "mse train_loss 0.0003561035003447202\n",
      "torch.Size([1, 20837, 2]) torch.Size([1, 20837, 4]) torch.Size([1, 5209, 2]) torch.Size([1, 5209, 4])\n",
      "torch.Size([1, 5209, 4])\n",
      "val_loss =  0.02816685\n",
      "-----------------------------------------------------------------------\n"
     ]
    },
    {
     "data": {
      "application/vnd.jupyter.widget-view+json": {
       "model_id": "6783c8c25ff148b0a8fcef17dc4365ff",
       "version_major": 2,
       "version_minor": 0
      },
      "text/plain": [
       "  0%|          | 0/53 [00:00<?, ?it/s]"
      ]
     },
     "metadata": {},
     "output_type": "display_data"
    },
    {
     "name": "stdout",
     "output_type": "stream",
     "text": [
      "303\n",
      "ELBO train_loss -2.9288332192402966\n",
      "mse train_loss 0.0003727148904768258\n",
      "torch.Size([1, 20837, 2]) torch.Size([1, 20837, 4]) torch.Size([1, 5209, 2]) torch.Size([1, 5209, 4])\n",
      "torch.Size([1, 5209, 4])\n",
      "val_loss =  0.019107312\n",
      "-----------------------------------------------------------------------\n"
     ]
    },
    {
     "data": {
      "application/vnd.jupyter.widget-view+json": {
       "model_id": "55609e060474486fa03f5d9c62c7257f",
       "version_major": 2,
       "version_minor": 0
      },
      "text/plain": [
       "  0%|          | 0/53 [00:00<?, ?it/s]"
      ]
     },
     "metadata": {},
     "output_type": "display_data"
    },
    {
     "name": "stdout",
     "output_type": "stream",
     "text": [
      "304\n",
      "ELBO train_loss -2.944390593834643\n",
      "mse train_loss 0.00037276624212643345\n",
      "torch.Size([1, 20837, 2]) torch.Size([1, 20837, 4]) torch.Size([1, 5209, 2]) torch.Size([1, 5209, 4])\n",
      "torch.Size([1, 5209, 4])\n",
      "val_loss =  0.009539293\n",
      "-----------------------------------------------------------------------\n"
     ]
    },
    {
     "data": {
      "application/vnd.jupyter.widget-view+json": {
       "model_id": "7515fdb65f0d4bb191ed4c38314ebf91",
       "version_major": 2,
       "version_minor": 0
      },
      "text/plain": [
       "  0%|          | 0/53 [00:00<?, ?it/s]"
      ]
     },
     "metadata": {},
     "output_type": "display_data"
    },
    {
     "name": "stdout",
     "output_type": "stream",
     "text": [
      "305\n",
      "ELBO train_loss -2.9462188864653966\n",
      "mse train_loss 0.00035675532565636667\n",
      "torch.Size([1, 20837, 2]) torch.Size([1, 20837, 4]) torch.Size([1, 5209, 2]) torch.Size([1, 5209, 4])\n",
      "torch.Size([1, 5209, 4])\n",
      "val_loss =  0.0131752975\n",
      "-----------------------------------------------------------------------\n"
     ]
    },
    {
     "data": {
      "application/vnd.jupyter.widget-view+json": {
       "model_id": "d5b228ae20364e90b06f749826abe31e",
       "version_major": 2,
       "version_minor": 0
      },
      "text/plain": [
       "  0%|          | 0/53 [00:00<?, ?it/s]"
      ]
     },
     "metadata": {},
     "output_type": "display_data"
    },
    {
     "name": "stdout",
     "output_type": "stream",
     "text": [
      "306\n",
      "ELBO train_loss -2.9508794613604277\n",
      "mse train_loss 0.0003896602649101109\n",
      "torch.Size([1, 20837, 2]) torch.Size([1, 20837, 4]) torch.Size([1, 5209, 2]) torch.Size([1, 5209, 4])\n",
      "torch.Size([1, 5209, 4])\n",
      "val_loss =  0.010800472\n",
      "-----------------------------------------------------------------------\n"
     ]
    },
    {
     "data": {
      "application/vnd.jupyter.widget-view+json": {
       "model_id": "19b69ac0b11143c08a66e204f3188b62",
       "version_major": 2,
       "version_minor": 0
      },
      "text/plain": [
       "  0%|          | 0/53 [00:00<?, ?it/s]"
      ]
     },
     "metadata": {},
     "output_type": "display_data"
    },
    {
     "name": "stdout",
     "output_type": "stream",
     "text": [
      "307\n",
      "ELBO train_loss -2.960016277601134\n",
      "mse train_loss 0.0003546762257102736\n",
      "torch.Size([1, 20837, 2]) torch.Size([1, 20837, 4]) torch.Size([1, 5209, 2]) torch.Size([1, 5209, 4])\n",
      "torch.Size([1, 5209, 4])\n",
      "val_loss =  0.010794149\n",
      "-----------------------------------------------------------------------\n"
     ]
    },
    {
     "data": {
      "application/vnd.jupyter.widget-view+json": {
       "model_id": "6f8a98ad6bbb42c4bff60df55ecf1f8e",
       "version_major": 2,
       "version_minor": 0
      },
      "text/plain": [
       "  0%|          | 0/53 [00:00<?, ?it/s]"
      ]
     },
     "metadata": {},
     "output_type": "display_data"
    },
    {
     "name": "stdout",
     "output_type": "stream",
     "text": [
      "308\n",
      "ELBO train_loss -2.9619281022053845\n",
      "mse train_loss 0.0003601443884621884\n",
      "torch.Size([1, 20837, 2]) torch.Size([1, 20837, 4]) torch.Size([1, 5209, 2]) torch.Size([1, 5209, 4])\n",
      "torch.Size([1, 5209, 4])\n",
      "val_loss =  0.014046232\n",
      "-----------------------------------------------------------------------\n"
     ]
    },
    {
     "data": {
      "application/vnd.jupyter.widget-view+json": {
       "model_id": "5dd939db9281405f8136d2b94776b2c7",
       "version_major": 2,
       "version_minor": 0
      },
      "text/plain": [
       "  0%|          | 0/53 [00:00<?, ?it/s]"
      ]
     },
     "metadata": {},
     "output_type": "display_data"
    },
    {
     "name": "stdout",
     "output_type": "stream",
     "text": [
      "309\n",
      "ELBO train_loss -2.9495673224611103\n",
      "mse train_loss 0.00035639787941209024\n",
      "torch.Size([1, 20837, 2]) torch.Size([1, 20837, 4]) torch.Size([1, 5209, 2]) torch.Size([1, 5209, 4])\n",
      "torch.Size([1, 5209, 4])\n",
      "val_loss =  0.019539192\n",
      "-----------------------------------------------------------------------\n"
     ]
    },
    {
     "data": {
      "application/vnd.jupyter.widget-view+json": {
       "model_id": "d5b73323386c4e75bd70e10715ae8b0d",
       "version_major": 2,
       "version_minor": 0
      },
      "text/plain": [
       "  0%|          | 0/53 [00:00<?, ?it/s]"
      ]
     },
     "metadata": {},
     "output_type": "display_data"
    },
    {
     "name": "stdout",
     "output_type": "stream",
     "text": [
      "310\n",
      "ELBO train_loss -2.944677343908346\n",
      "mse train_loss 0.0003575501131016831\n",
      "torch.Size([1, 20837, 2]) torch.Size([1, 20837, 4]) torch.Size([1, 5209, 2]) torch.Size([1, 5209, 4])\n",
      "torch.Size([1, 5209, 4])\n",
      "val_loss =  0.017225228\n",
      "-----------------------------------------------------------------------\n"
     ]
    },
    {
     "data": {
      "application/vnd.jupyter.widget-view+json": {
       "model_id": "24c0884ec0604f2b936b02f12c175fa8",
       "version_major": 2,
       "version_minor": 0
      },
      "text/plain": [
       "  0%|          | 0/53 [00:00<?, ?it/s]"
      ]
     },
     "metadata": {},
     "output_type": "display_data"
    },
    {
     "name": "stdout",
     "output_type": "stream",
     "text": [
      "311\n",
      "ELBO train_loss -2.9392026415411032\n",
      "mse train_loss 0.00035944682538272145\n",
      "torch.Size([1, 20837, 2]) torch.Size([1, 20837, 4]) torch.Size([1, 5209, 2]) torch.Size([1, 5209, 4])\n",
      "torch.Size([1, 5209, 4])\n",
      "val_loss =  0.015153006\n",
      "-----------------------------------------------------------------------\n"
     ]
    },
    {
     "data": {
      "application/vnd.jupyter.widget-view+json": {
       "model_id": "7390e883ce824782b625031908ba5e79",
       "version_major": 2,
       "version_minor": 0
      },
      "text/plain": [
       "  0%|          | 0/53 [00:00<?, ?it/s]"
      ]
     },
     "metadata": {},
     "output_type": "display_data"
    },
    {
     "name": "stdout",
     "output_type": "stream",
     "text": [
      "312\n",
      "ELBO train_loss -2.9526061921749474\n",
      "mse train_loss 0.00035932132129157663\n",
      "torch.Size([1, 20837, 2]) torch.Size([1, 20837, 4]) torch.Size([1, 5209, 2]) torch.Size([1, 5209, 4])\n",
      "torch.Size([1, 5209, 4])\n",
      "val_loss =  0.013576163\n",
      "-----------------------------------------------------------------------\n"
     ]
    },
    {
     "data": {
      "application/vnd.jupyter.widget-view+json": {
       "model_id": "bb926f1110c54b2fa35b04dc3231c7e8",
       "version_major": 2,
       "version_minor": 0
      },
      "text/plain": [
       "  0%|          | 0/53 [00:00<?, ?it/s]"
      ]
     },
     "metadata": {},
     "output_type": "display_data"
    },
    {
     "name": "stdout",
     "output_type": "stream",
     "text": [
      "313\n",
      "ELBO train_loss -2.958575239721334\n",
      "mse train_loss 0.0003659865266494102\n",
      "torch.Size([1, 20837, 2]) torch.Size([1, 20837, 4]) torch.Size([1, 5209, 2]) torch.Size([1, 5209, 4])\n",
      "torch.Size([1, 5209, 4])\n",
      "val_loss =  0.023977257\n",
      "-----------------------------------------------------------------------\n"
     ]
    },
    {
     "data": {
      "application/vnd.jupyter.widget-view+json": {
       "model_id": "c4291cdc44f147839358a8e1949ff8a8",
       "version_major": 2,
       "version_minor": 0
      },
      "text/plain": [
       "  0%|          | 0/53 [00:00<?, ?it/s]"
      ]
     },
     "metadata": {},
     "output_type": "display_data"
    },
    {
     "name": "stdout",
     "output_type": "stream",
     "text": [
      "314\n",
      "ELBO train_loss -2.9343313945914216\n",
      "mse train_loss 0.0003675448714825764\n",
      "torch.Size([1, 20837, 2]) torch.Size([1, 20837, 4]) torch.Size([1, 5209, 2]) torch.Size([1, 5209, 4])\n",
      "torch.Size([1, 5209, 4])\n",
      "val_loss =  0.018379379\n",
      "-----------------------------------------------------------------------\n"
     ]
    },
    {
     "data": {
      "application/vnd.jupyter.widget-view+json": {
       "model_id": "c463ea2e79b34ad6ac26321cb7a77869",
       "version_major": 2,
       "version_minor": 0
      },
      "text/plain": [
       "  0%|          | 0/53 [00:00<?, ?it/s]"
      ]
     },
     "metadata": {},
     "output_type": "display_data"
    },
    {
     "name": "stdout",
     "output_type": "stream",
     "text": [
      "315\n",
      "ELBO train_loss -2.93447959198142\n",
      "mse train_loss 0.0003667869228970716\n",
      "torch.Size([1, 20837, 2]) torch.Size([1, 20837, 4]) torch.Size([1, 5209, 2]) torch.Size([1, 5209, 4])\n",
      "torch.Size([1, 5209, 4])\n",
      "val_loss =  0.0094841495\n",
      "-----------------------------------------------------------------------\n"
     ]
    },
    {
     "data": {
      "application/vnd.jupyter.widget-view+json": {
       "model_id": "4d312f199dbd4583b9c98a4434a37831",
       "version_major": 2,
       "version_minor": 0
      },
      "text/plain": [
       "  0%|          | 0/53 [00:00<?, ?it/s]"
      ]
     },
     "metadata": {},
     "output_type": "display_data"
    },
    {
     "name": "stdout",
     "output_type": "stream",
     "text": [
      "316\n",
      "ELBO train_loss -2.9615486747813673\n",
      "mse train_loss 0.00035549205961804136\n",
      "torch.Size([1, 20837, 2]) torch.Size([1, 20837, 4]) torch.Size([1, 5209, 2]) torch.Size([1, 5209, 4])\n",
      "torch.Size([1, 5209, 4])\n",
      "val_loss =  0.012625192\n",
      "-----------------------------------------------------------------------\n"
     ]
    },
    {
     "data": {
      "application/vnd.jupyter.widget-view+json": {
       "model_id": "87e53b95849841bab4162075ca5453a5",
       "version_major": 2,
       "version_minor": 0
      },
      "text/plain": [
       "  0%|          | 0/53 [00:00<?, ?it/s]"
      ]
     },
     "metadata": {},
     "output_type": "display_data"
    },
    {
     "name": "stdout",
     "output_type": "stream",
     "text": [
      "317\n",
      "ELBO train_loss -2.964412437295014\n",
      "mse train_loss 0.00034504045374287326\n",
      "torch.Size([1, 20837, 2]) torch.Size([1, 20837, 4]) torch.Size([1, 5209, 2]) torch.Size([1, 5209, 4])\n",
      "torch.Size([1, 5209, 4])\n",
      "val_loss =  0.010860322\n",
      "-----------------------------------------------------------------------\n"
     ]
    },
    {
     "data": {
      "application/vnd.jupyter.widget-view+json": {
       "model_id": "128727568d714864abb9e376a9861508",
       "version_major": 2,
       "version_minor": 0
      },
      "text/plain": [
       "  0%|          | 0/53 [00:00<?, ?it/s]"
      ]
     },
     "metadata": {},
     "output_type": "display_data"
    },
    {
     "name": "stdout",
     "output_type": "stream",
     "text": [
      "318\n",
      "ELBO train_loss -2.9560153934190856\n",
      "mse train_loss 0.00035335973315907395\n",
      "torch.Size([1, 20837, 2]) torch.Size([1, 20837, 4]) torch.Size([1, 5209, 2]) torch.Size([1, 5209, 4])\n",
      "torch.Size([1, 5209, 4])\n",
      "val_loss =  0.012053597\n",
      "-----------------------------------------------------------------------\n"
     ]
    },
    {
     "data": {
      "application/vnd.jupyter.widget-view+json": {
       "model_id": "09019357e528469399f39ed87d4864fd",
       "version_major": 2,
       "version_minor": 0
      },
      "text/plain": [
       "  0%|          | 0/53 [00:00<?, ?it/s]"
      ]
     },
     "metadata": {},
     "output_type": "display_data"
    },
    {
     "name": "stdout",
     "output_type": "stream",
     "text": [
      "319\n",
      "ELBO train_loss -2.961318124015376\n",
      "mse train_loss 0.0003645082719883231\n",
      "torch.Size([1, 20837, 2]) torch.Size([1, 20837, 4]) torch.Size([1, 5209, 2]) torch.Size([1, 5209, 4])\n",
      "torch.Size([1, 5209, 4])\n",
      "val_loss =  0.022261214\n",
      "-----------------------------------------------------------------------\n"
     ]
    },
    {
     "data": {
      "application/vnd.jupyter.widget-view+json": {
       "model_id": "9e7d57760dbe45e697496ff2e1116795",
       "version_major": 2,
       "version_minor": 0
      },
      "text/plain": [
       "  0%|          | 0/53 [00:00<?, ?it/s]"
      ]
     },
     "metadata": {},
     "output_type": "display_data"
    },
    {
     "name": "stdout",
     "output_type": "stream",
     "text": [
      "320\n",
      "ELBO train_loss -2.930555613535755\n",
      "mse train_loss 0.0003773326027857245\n",
      "torch.Size([1, 20837, 2]) torch.Size([1, 20837, 4]) torch.Size([1, 5209, 2]) torch.Size([1, 5209, 4])\n",
      "torch.Size([1, 5209, 4])\n",
      "val_loss =  0.018674972\n",
      "-----------------------------------------------------------------------\n"
     ]
    },
    {
     "data": {
      "application/vnd.jupyter.widget-view+json": {
       "model_id": "6c08fca884cf4ec2829e09b94430d1c9",
       "version_major": 2,
       "version_minor": 0
      },
      "text/plain": [
       "  0%|          | 0/53 [00:00<?, ?it/s]"
      ]
     },
     "metadata": {},
     "output_type": "display_data"
    },
    {
     "name": "stdout",
     "output_type": "stream",
     "text": [
      "321\n",
      "ELBO train_loss -2.937492797959526\n",
      "mse train_loss 0.0003621142467688154\n",
      "torch.Size([1, 20837, 2]) torch.Size([1, 20837, 4]) torch.Size([1, 5209, 2]) torch.Size([1, 5209, 4])\n",
      "torch.Size([1, 5209, 4])\n",
      "val_loss =  0.012474905\n",
      "-----------------------------------------------------------------------\n"
     ]
    },
    {
     "data": {
      "application/vnd.jupyter.widget-view+json": {
       "model_id": "3586135462b84500b4bdeb9b19438e7d",
       "version_major": 2,
       "version_minor": 0
      },
      "text/plain": [
       "  0%|          | 0/53 [00:00<?, ?it/s]"
      ]
     },
     "metadata": {},
     "output_type": "display_data"
    },
    {
     "name": "stdout",
     "output_type": "stream",
     "text": [
      "322\n",
      "ELBO train_loss -2.958627035033028\n",
      "mse train_loss 0.0003495046016123181\n",
      "torch.Size([1, 20837, 2]) torch.Size([1, 20837, 4]) torch.Size([1, 5209, 2]) torch.Size([1, 5209, 4])\n",
      "torch.Size([1, 5209, 4])\n",
      "val_loss =  0.015165456\n",
      "-----------------------------------------------------------------------\n"
     ]
    },
    {
     "data": {
      "application/vnd.jupyter.widget-view+json": {
       "model_id": "d8b15125252a4d32b644518d90d91822",
       "version_major": 2,
       "version_minor": 0
      },
      "text/plain": [
       "  0%|          | 0/53 [00:00<?, ?it/s]"
      ]
     },
     "metadata": {},
     "output_type": "display_data"
    },
    {
     "name": "stdout",
     "output_type": "stream",
     "text": [
      "323\n",
      "ELBO train_loss -2.9437862859582\n",
      "mse train_loss 0.0003716122342014404\n",
      "torch.Size([1, 20837, 2]) torch.Size([1, 20837, 4]) torch.Size([1, 5209, 2]) torch.Size([1, 5209, 4])\n",
      "torch.Size([1, 5209, 4])\n",
      "val_loss =  0.021837408\n",
      "-----------------------------------------------------------------------\n"
     ]
    },
    {
     "data": {
      "application/vnd.jupyter.widget-view+json": {
       "model_id": "511119697a7c4f96a1f2accf76880e65",
       "version_major": 2,
       "version_minor": 0
      },
      "text/plain": [
       "  0%|          | 0/53 [00:00<?, ?it/s]"
      ]
     },
     "metadata": {},
     "output_type": "display_data"
    },
    {
     "name": "stdout",
     "output_type": "stream",
     "text": [
      "324\n",
      "ELBO train_loss -2.8940657827089415\n",
      "mse train_loss 0.0003907059924457363\n",
      "torch.Size([1, 20837, 2]) torch.Size([1, 20837, 4]) torch.Size([1, 5209, 2]) torch.Size([1, 5209, 4])\n",
      "torch.Size([1, 5209, 4])\n",
      "val_loss =  0.028594803\n",
      "-----------------------------------------------------------------------\n"
     ]
    },
    {
     "data": {
      "application/vnd.jupyter.widget-view+json": {
       "model_id": "16859c1db7394d60a64e2a9272ba170d",
       "version_major": 2,
       "version_minor": 0
      },
      "text/plain": [
       "  0%|          | 0/53 [00:00<?, ?it/s]"
      ]
     },
     "metadata": {},
     "output_type": "display_data"
    },
    {
     "name": "stdout",
     "output_type": "stream",
     "text": [
      "325\n",
      "ELBO train_loss -2.918076897567173\n",
      "mse train_loss 0.0003769035670216599\n",
      "torch.Size([1, 20837, 2]) torch.Size([1, 20837, 4]) torch.Size([1, 5209, 2]) torch.Size([1, 5209, 4])\n",
      "torch.Size([1, 5209, 4])\n",
      "val_loss =  0.015142612\n",
      "-----------------------------------------------------------------------\n"
     ]
    },
    {
     "data": {
      "application/vnd.jupyter.widget-view+json": {
       "model_id": "fcc0d7a148324e6fb8ca253fe1e46864",
       "version_major": 2,
       "version_minor": 0
      },
      "text/plain": [
       "  0%|          | 0/53 [00:00<?, ?it/s]"
      ]
     },
     "metadata": {},
     "output_type": "display_data"
    },
    {
     "name": "stdout",
     "output_type": "stream",
     "text": [
      "326\n",
      "ELBO train_loss -2.899573052548013\n",
      "mse train_loss 0.0003787923688266672\n",
      "torch.Size([1, 20837, 2]) torch.Size([1, 20837, 4]) torch.Size([1, 5209, 2]) torch.Size([1, 5209, 4])\n",
      "torch.Size([1, 5209, 4])\n",
      "val_loss =  0.023008099\n",
      "-----------------------------------------------------------------------\n"
     ]
    },
    {
     "data": {
      "application/vnd.jupyter.widget-view+json": {
       "model_id": "0074e55538e04515a7a261a36243a5b4",
       "version_major": 2,
       "version_minor": 0
      },
      "text/plain": [
       "  0%|          | 0/53 [00:00<?, ?it/s]"
      ]
     },
     "metadata": {},
     "output_type": "display_data"
    },
    {
     "name": "stdout",
     "output_type": "stream",
     "text": [
      "327\n",
      "ELBO train_loss -2.8934946965496495\n",
      "mse train_loss 0.0003856908648608709\n",
      "torch.Size([1, 20837, 2]) torch.Size([1, 20837, 4]) torch.Size([1, 5209, 2]) torch.Size([1, 5209, 4])\n",
      "torch.Size([1, 5209, 4])\n",
      "val_loss =  0.021711841\n",
      "-----------------------------------------------------------------------\n"
     ]
    },
    {
     "data": {
      "application/vnd.jupyter.widget-view+json": {
       "model_id": "434d228a08a745299c7e2c54d1324c97",
       "version_major": 2,
       "version_minor": 0
      },
      "text/plain": [
       "  0%|          | 0/53 [00:00<?, ?it/s]"
      ]
     },
     "metadata": {},
     "output_type": "display_data"
    },
    {
     "name": "stdout",
     "output_type": "stream",
     "text": [
      "328\n",
      "ELBO train_loss -2.9282662373668744\n",
      "mse train_loss 0.0003831518719517538\n",
      "torch.Size([1, 20837, 2]) torch.Size([1, 20837, 4]) torch.Size([1, 5209, 2]) torch.Size([1, 5209, 4])\n",
      "torch.Size([1, 5209, 4])\n",
      "val_loss =  0.012735217\n",
      "-----------------------------------------------------------------------\n"
     ]
    },
    {
     "data": {
      "application/vnd.jupyter.widget-view+json": {
       "model_id": "6fb2c74166aa4261a3abe0d7f3ba11ad",
       "version_major": 2,
       "version_minor": 0
      },
      "text/plain": [
       "  0%|          | 0/53 [00:00<?, ?it/s]"
      ]
     },
     "metadata": {},
     "output_type": "display_data"
    },
    {
     "name": "stdout",
     "output_type": "stream",
     "text": [
      "329\n",
      "ELBO train_loss -2.9661455199403584\n",
      "mse train_loss 0.00036396586911682533\n",
      "torch.Size([1, 20837, 2]) torch.Size([1, 20837, 4]) torch.Size([1, 5209, 2]) torch.Size([1, 5209, 4])\n",
      "torch.Size([1, 5209, 4])\n",
      "val_loss =  0.010027954\n",
      "-----------------------------------------------------------------------\n"
     ]
    },
    {
     "data": {
      "application/vnd.jupyter.widget-view+json": {
       "model_id": "34dedd4fba3d4bd6b93ba9ae48e133cf",
       "version_major": 2,
       "version_minor": 0
      },
      "text/plain": [
       "  0%|          | 0/53 [00:00<?, ?it/s]"
      ]
     },
     "metadata": {},
     "output_type": "display_data"
    },
    {
     "name": "stdout",
     "output_type": "stream",
     "text": [
      "330\n",
      "ELBO train_loss -2.9506333863960124\n",
      "mse train_loss 0.00039500478662787673\n",
      "torch.Size([1, 20837, 2]) torch.Size([1, 20837, 4]) torch.Size([1, 5209, 2]) torch.Size([1, 5209, 4])\n",
      "torch.Size([1, 5209, 4])\n",
      "val_loss =  0.010207844\n",
      "-----------------------------------------------------------------------\n"
     ]
    },
    {
     "data": {
      "application/vnd.jupyter.widget-view+json": {
       "model_id": "97c9e666e6b145ee9987066b15640da6",
       "version_major": 2,
       "version_minor": 0
      },
      "text/plain": [
       "  0%|          | 0/53 [00:00<?, ?it/s]"
      ]
     },
     "metadata": {},
     "output_type": "display_data"
    },
    {
     "name": "stdout",
     "output_type": "stream",
     "text": [
      "331\n",
      "ELBO train_loss -2.966363542484787\n",
      "mse train_loss 0.0003567168212886724\n",
      "torch.Size([1, 20837, 2]) torch.Size([1, 20837, 4]) torch.Size([1, 5209, 2]) torch.Size([1, 5209, 4])\n",
      "torch.Size([1, 5209, 4])\n",
      "val_loss =  0.014091648\n",
      "-----------------------------------------------------------------------\n"
     ]
    },
    {
     "data": {
      "application/vnd.jupyter.widget-view+json": {
       "model_id": "bc5826b8ad264778a64d37d154f09776",
       "version_major": 2,
       "version_minor": 0
      },
      "text/plain": [
       "  0%|          | 0/53 [00:00<?, ?it/s]"
      ]
     },
     "metadata": {},
     "output_type": "display_data"
    },
    {
     "name": "stdout",
     "output_type": "stream",
     "text": [
      "332\n",
      "ELBO train_loss -2.954635260240087\n",
      "mse train_loss 0.00037209233071409026\n",
      "torch.Size([1, 20837, 2]) torch.Size([1, 20837, 4]) torch.Size([1, 5209, 2]) torch.Size([1, 5209, 4])\n",
      "torch.Size([1, 5209, 4])\n",
      "val_loss =  0.017136315\n",
      "-----------------------------------------------------------------------\n"
     ]
    },
    {
     "data": {
      "application/vnd.jupyter.widget-view+json": {
       "model_id": "f51388c563824dc0ac14be05192c5e74",
       "version_major": 2,
       "version_minor": 0
      },
      "text/plain": [
       "  0%|          | 0/53 [00:00<?, ?it/s]"
      ]
     },
     "metadata": {},
     "output_type": "display_data"
    },
    {
     "name": "stdout",
     "output_type": "stream",
     "text": [
      "333\n",
      "ELBO train_loss -2.9511989467548876\n",
      "mse train_loss 0.0003728307536495674\n",
      "torch.Size([1, 20837, 2]) torch.Size([1, 20837, 4]) torch.Size([1, 5209, 2]) torch.Size([1, 5209, 4])\n",
      "torch.Size([1, 5209, 4])\n",
      "val_loss =  0.014705048\n",
      "-----------------------------------------------------------------------\n"
     ]
    },
    {
     "data": {
      "application/vnd.jupyter.widget-view+json": {
       "model_id": "39e1c582ed514997befc36aef1a15fb1",
       "version_major": 2,
       "version_minor": 0
      },
      "text/plain": [
       "  0%|          | 0/53 [00:00<?, ?it/s]"
      ]
     },
     "metadata": {},
     "output_type": "display_data"
    },
    {
     "name": "stdout",
     "output_type": "stream",
     "text": [
      "334\n",
      "ELBO train_loss -2.952071243861936\n",
      "mse train_loss 0.00038765202620163347\n",
      "torch.Size([1, 20837, 2]) torch.Size([1, 20837, 4]) torch.Size([1, 5209, 2]) torch.Size([1, 5209, 4])\n",
      "torch.Size([1, 5209, 4])\n",
      "val_loss =  0.013037526\n",
      "-----------------------------------------------------------------------\n"
     ]
    },
    {
     "data": {
      "application/vnd.jupyter.widget-view+json": {
       "model_id": "98afee27adc84c8598a85304f92dc758",
       "version_major": 2,
       "version_minor": 0
      },
      "text/plain": [
       "  0%|          | 0/53 [00:00<?, ?it/s]"
      ]
     },
     "metadata": {},
     "output_type": "display_data"
    },
    {
     "name": "stdout",
     "output_type": "stream",
     "text": [
      "335\n",
      "ELBO train_loss -2.951939618812417\n",
      "mse train_loss 0.0003771348084863451\n",
      "torch.Size([1, 20837, 2]) torch.Size([1, 20837, 4]) torch.Size([1, 5209, 2]) torch.Size([1, 5209, 4])\n",
      "torch.Size([1, 5209, 4])\n",
      "val_loss =  0.01238574\n",
      "-----------------------------------------------------------------------\n"
     ]
    },
    {
     "data": {
      "application/vnd.jupyter.widget-view+json": {
       "model_id": "88f4c701cdbb4f70aa9e138afa3245b4",
       "version_major": 2,
       "version_minor": 0
      },
      "text/plain": [
       "  0%|          | 0/53 [00:00<?, ?it/s]"
      ]
     },
     "metadata": {},
     "output_type": "display_data"
    },
    {
     "name": "stdout",
     "output_type": "stream",
     "text": [
      "336\n",
      "ELBO train_loss -2.965652956152862\n",
      "mse train_loss 0.00036740929101382926\n",
      "torch.Size([1, 20837, 2]) torch.Size([1, 20837, 4]) torch.Size([1, 5209, 2]) torch.Size([1, 5209, 4])\n",
      "torch.Size([1, 5209, 4])\n",
      "val_loss =  0.010653278\n",
      "-----------------------------------------------------------------------\n"
     ]
    },
    {
     "data": {
      "application/vnd.jupyter.widget-view+json": {
       "model_id": "6286d8940edf463c8af9f8b1e6d482ae",
       "version_major": 2,
       "version_minor": 0
      },
      "text/plain": [
       "  0%|          | 0/53 [00:00<?, ?it/s]"
      ]
     },
     "metadata": {},
     "output_type": "display_data"
    },
    {
     "name": "stdout",
     "output_type": "stream",
     "text": [
      "337\n",
      "ELBO train_loss -2.9526008255076857\n",
      "mse train_loss 0.0003764356595226827\n",
      "torch.Size([1, 20837, 2]) torch.Size([1, 20837, 4]) torch.Size([1, 5209, 2]) torch.Size([1, 5209, 4])\n",
      "torch.Size([1, 5209, 4])\n",
      "val_loss =  0.011952405\n",
      "-----------------------------------------------------------------------\n"
     ]
    },
    {
     "data": {
      "application/vnd.jupyter.widget-view+json": {
       "model_id": "926127ee61b94f7093103923c93e76fd",
       "version_major": 2,
       "version_minor": 0
      },
      "text/plain": [
       "  0%|          | 0/53 [00:00<?, ?it/s]"
      ]
     },
     "metadata": {},
     "output_type": "display_data"
    },
    {
     "name": "stdout",
     "output_type": "stream",
     "text": [
      "338\n",
      "ELBO train_loss -2.9499913611502016\n",
      "mse train_loss 0.00035908432344616093\n",
      "torch.Size([1, 20837, 2]) torch.Size([1, 20837, 4]) torch.Size([1, 5209, 2]) torch.Size([1, 5209, 4])\n",
      "torch.Size([1, 5209, 4])\n",
      "val_loss =  0.015846185\n",
      "-----------------------------------------------------------------------\n"
     ]
    },
    {
     "data": {
      "application/vnd.jupyter.widget-view+json": {
       "model_id": "cd8db0d7b43a47fc9c941c8fccb69e08",
       "version_major": 2,
       "version_minor": 0
      },
      "text/plain": [
       "  0%|          | 0/53 [00:00<?, ?it/s]"
      ]
     },
     "metadata": {},
     "output_type": "display_data"
    },
    {
     "name": "stdout",
     "output_type": "stream",
     "text": [
      "339\n",
      "ELBO train_loss -2.9543598462950507\n",
      "mse train_loss 0.0003687350718054112\n",
      "torch.Size([1, 20837, 2]) torch.Size([1, 20837, 4]) torch.Size([1, 5209, 2]) torch.Size([1, 5209, 4])\n",
      "torch.Size([1, 5209, 4])\n",
      "val_loss =  0.013576304\n",
      "-----------------------------------------------------------------------\n"
     ]
    },
    {
     "data": {
      "application/vnd.jupyter.widget-view+json": {
       "model_id": "ffadd9d4fb9243aa8c8453a18500be76",
       "version_major": 2,
       "version_minor": 0
      },
      "text/plain": [
       "  0%|          | 0/53 [00:00<?, ?it/s]"
      ]
     },
     "metadata": {},
     "output_type": "display_data"
    },
    {
     "name": "stdout",
     "output_type": "stream",
     "text": [
      "340\n",
      "ELBO train_loss -2.904710769934474\n",
      "mse train_loss 0.0003760905306509538\n",
      "torch.Size([1, 20837, 2]) torch.Size([1, 20837, 4]) torch.Size([1, 5209, 2]) torch.Size([1, 5209, 4])\n",
      "torch.Size([1, 5209, 4])\n",
      "val_loss =  0.012922173\n",
      "-----------------------------------------------------------------------\n"
     ]
    },
    {
     "data": {
      "application/vnd.jupyter.widget-view+json": {
       "model_id": "ebce7ffe244a46a3b7858aa1f7d1bc51",
       "version_major": 2,
       "version_minor": 0
      },
      "text/plain": [
       "  0%|          | 0/53 [00:00<?, ?it/s]"
      ]
     },
     "metadata": {},
     "output_type": "display_data"
    },
    {
     "name": "stdout",
     "output_type": "stream",
     "text": [
      "341\n",
      "ELBO train_loss -2.918247842563773\n",
      "mse train_loss 0.00037683756859481054\n",
      "torch.Size([1, 20837, 2]) torch.Size([1, 20837, 4]) torch.Size([1, 5209, 2]) torch.Size([1, 5209, 4])\n",
      "torch.Size([1, 5209, 4])\n",
      "val_loss =  0.021814361\n",
      "-----------------------------------------------------------------------\n"
     ]
    },
    {
     "data": {
      "application/vnd.jupyter.widget-view+json": {
       "model_id": "14261ea30a924a349fe41a541c151cf9",
       "version_major": 2,
       "version_minor": 0
      },
      "text/plain": [
       "  0%|          | 0/53 [00:00<?, ?it/s]"
      ]
     },
     "metadata": {},
     "output_type": "display_data"
    },
    {
     "name": "stdout",
     "output_type": "stream",
     "text": [
      "342\n",
      "ELBO train_loss -2.892284501273677\n",
      "mse train_loss 0.00040811183285802816\n",
      "torch.Size([1, 20837, 2]) torch.Size([1, 20837, 4]) torch.Size([1, 5209, 2]) torch.Size([1, 5209, 4])\n",
      "torch.Size([1, 5209, 4])\n",
      "val_loss =  0.026041986\n",
      "-----------------------------------------------------------------------\n"
     ]
    },
    {
     "data": {
      "application/vnd.jupyter.widget-view+json": {
       "model_id": "e130257ca1ed470eb14651bc76bc4c8f",
       "version_major": 2,
       "version_minor": 0
      },
      "text/plain": [
       "  0%|          | 0/53 [00:00<?, ?it/s]"
      ]
     },
     "metadata": {},
     "output_type": "display_data"
    },
    {
     "name": "stdout",
     "output_type": "stream",
     "text": [
      "343\n",
      "ELBO train_loss -2.9362817485377475\n",
      "mse train_loss 0.00036308825683762443\n",
      "torch.Size([1, 20837, 2]) torch.Size([1, 20837, 4]) torch.Size([1, 5209, 2]) torch.Size([1, 5209, 4])\n",
      "torch.Size([1, 5209, 4])\n",
      "val_loss =  0.018406734\n",
      "-----------------------------------------------------------------------\n"
     ]
    },
    {
     "data": {
      "application/vnd.jupyter.widget-view+json": {
       "model_id": "79aa8bb45eba4c6592a685f33349ebb0",
       "version_major": 2,
       "version_minor": 0
      },
      "text/plain": [
       "  0%|          | 0/53 [00:00<?, ?it/s]"
      ]
     },
     "metadata": {},
     "output_type": "display_data"
    },
    {
     "name": "stdout",
     "output_type": "stream",
     "text": [
      "344\n",
      "ELBO train_loss -2.9507881515430956\n",
      "mse train_loss 0.00036566851513442707\n",
      "torch.Size([1, 20837, 2]) torch.Size([1, 20837, 4]) torch.Size([1, 5209, 2]) torch.Size([1, 5209, 4])\n",
      "torch.Size([1, 5209, 4])\n",
      "val_loss =  0.013821386\n",
      "-----------------------------------------------------------------------\n"
     ]
    },
    {
     "data": {
      "application/vnd.jupyter.widget-view+json": {
       "model_id": "446f43508edd4d528469c04533a27b77",
       "version_major": 2,
       "version_minor": 0
      },
      "text/plain": [
       "  0%|          | 0/53 [00:00<?, ?it/s]"
      ]
     },
     "metadata": {},
     "output_type": "display_data"
    },
    {
     "name": "stdout",
     "output_type": "stream",
     "text": [
      "345\n",
      "ELBO train_loss -2.943425664361918\n",
      "mse train_loss 0.00035684070668517135\n",
      "torch.Size([1, 20837, 2]) torch.Size([1, 20837, 4]) torch.Size([1, 5209, 2]) torch.Size([1, 5209, 4])\n",
      "torch.Size([1, 5209, 4])\n",
      "val_loss =  0.01642147\n",
      "-----------------------------------------------------------------------\n"
     ]
    },
    {
     "data": {
      "application/vnd.jupyter.widget-view+json": {
       "model_id": "d2f2abb7d8a047a39f23d05770440e02",
       "version_major": 2,
       "version_minor": 0
      },
      "text/plain": [
       "  0%|          | 0/53 [00:00<?, ?it/s]"
      ]
     },
     "metadata": {},
     "output_type": "display_data"
    },
    {
     "name": "stdout",
     "output_type": "stream",
     "text": [
      "346\n",
      "ELBO train_loss -2.9349345980950123\n",
      "mse train_loss 0.00036776374189736636\n",
      "torch.Size([1, 20837, 2]) torch.Size([1, 20837, 4]) torch.Size([1, 5209, 2]) torch.Size([1, 5209, 4])\n",
      "torch.Size([1, 5209, 4])\n",
      "val_loss =  0.018784655\n",
      "-----------------------------------------------------------------------\n"
     ]
    },
    {
     "data": {
      "application/vnd.jupyter.widget-view+json": {
       "model_id": "a8921bcf76054352b51d2986759d2da4",
       "version_major": 2,
       "version_minor": 0
      },
      "text/plain": [
       "  0%|          | 0/53 [00:00<?, ?it/s]"
      ]
     },
     "metadata": {},
     "output_type": "display_data"
    },
    {
     "name": "stdout",
     "output_type": "stream",
     "text": [
      "347\n",
      "ELBO train_loss -2.9641857552078537\n",
      "mse train_loss 0.00034210617068654173\n",
      "torch.Size([1, 20837, 2]) torch.Size([1, 20837, 4]) torch.Size([1, 5209, 2]) torch.Size([1, 5209, 4])\n",
      "torch.Size([1, 5209, 4])\n",
      "val_loss =  0.012351028\n",
      "-----------------------------------------------------------------------\n"
     ]
    },
    {
     "data": {
      "application/vnd.jupyter.widget-view+json": {
       "model_id": "c6ccc40db75b496fa4d397f84ecc29c0",
       "version_major": 2,
       "version_minor": 0
      },
      "text/plain": [
       "  0%|          | 0/53 [00:00<?, ?it/s]"
      ]
     },
     "metadata": {},
     "output_type": "display_data"
    },
    {
     "name": "stdout",
     "output_type": "stream",
     "text": [
      "348\n",
      "ELBO train_loss -2.954128526291757\n",
      "mse train_loss 0.0003644106220475943\n",
      "torch.Size([1, 20837, 2]) torch.Size([1, 20837, 4]) torch.Size([1, 5209, 2]) torch.Size([1, 5209, 4])\n",
      "torch.Size([1, 5209, 4])\n",
      "val_loss =  0.019802997\n",
      "-----------------------------------------------------------------------\n"
     ]
    },
    {
     "data": {
      "application/vnd.jupyter.widget-view+json": {
       "model_id": "93ef35c0665746f085f2e5c455712696",
       "version_major": 2,
       "version_minor": 0
      },
      "text/plain": [
       "  0%|          | 0/53 [00:00<?, ?it/s]"
      ]
     },
     "metadata": {},
     "output_type": "display_data"
    },
    {
     "name": "stdout",
     "output_type": "stream",
     "text": [
      "349\n",
      "ELBO train_loss -2.9149695747303515\n",
      "mse train_loss 0.00037183051238073704\n",
      "torch.Size([1, 20837, 2]) torch.Size([1, 20837, 4]) torch.Size([1, 5209, 2]) torch.Size([1, 5209, 4])\n",
      "torch.Size([1, 5209, 4])\n",
      "val_loss =  0.025144387\n",
      "-----------------------------------------------------------------------\n"
     ]
    },
    {
     "data": {
      "application/vnd.jupyter.widget-view+json": {
       "model_id": "dd26f838c4b542efa29b0a7a75a17dce",
       "version_major": 2,
       "version_minor": 0
      },
      "text/plain": [
       "  0%|          | 0/53 [00:00<?, ?it/s]"
      ]
     },
     "metadata": {},
     "output_type": "display_data"
    },
    {
     "name": "stdout",
     "output_type": "stream",
     "text": [
      "350\n",
      "ELBO train_loss -2.9316589000090114\n",
      "mse train_loss 0.00034424152696408545\n",
      "torch.Size([1, 20837, 2]) torch.Size([1, 20837, 4]) torch.Size([1, 5209, 2]) torch.Size([1, 5209, 4])\n",
      "torch.Size([1, 5209, 4])\n",
      "val_loss =  0.014085304\n",
      "-----------------------------------------------------------------------\n"
     ]
    },
    {
     "data": {
      "application/vnd.jupyter.widget-view+json": {
       "model_id": "bbbabe86fd9a4cf183ad5e005349655b",
       "version_major": 2,
       "version_minor": 0
      },
      "text/plain": [
       "  0%|          | 0/53 [00:00<?, ?it/s]"
      ]
     },
     "metadata": {},
     "output_type": "display_data"
    },
    {
     "name": "stdout",
     "output_type": "stream",
     "text": [
      "351\n",
      "ELBO train_loss -2.937568821997013\n",
      "mse train_loss 0.000376164911804668\n",
      "torch.Size([1, 20837, 2]) torch.Size([1, 20837, 4]) torch.Size([1, 5209, 2]) torch.Size([1, 5209, 4])\n",
      "torch.Size([1, 5209, 4])\n",
      "val_loss =  0.011390866\n",
      "-----------------------------------------------------------------------\n"
     ]
    },
    {
     "data": {
      "application/vnd.jupyter.widget-view+json": {
       "model_id": "acd692f3cbc74405839ea1b150bc843b",
       "version_major": 2,
       "version_minor": 0
      },
      "text/plain": [
       "  0%|          | 0/53 [00:00<?, ?it/s]"
      ]
     },
     "metadata": {},
     "output_type": "display_data"
    },
    {
     "name": "stdout",
     "output_type": "stream",
     "text": [
      "352\n",
      "ELBO train_loss -2.9361474626469164\n",
      "mse train_loss 0.0003650833645018415\n",
      "torch.Size([1, 20837, 2]) torch.Size([1, 20837, 4]) torch.Size([1, 5209, 2]) torch.Size([1, 5209, 4])\n",
      "torch.Size([1, 5209, 4])\n",
      "val_loss =  0.017659018\n",
      "-----------------------------------------------------------------------\n"
     ]
    },
    {
     "data": {
      "application/vnd.jupyter.widget-view+json": {
       "model_id": "0f31f3dd37db4e86ad765f7bb7dd6287",
       "version_major": 2,
       "version_minor": 0
      },
      "text/plain": [
       "  0%|          | 0/53 [00:00<?, ?it/s]"
      ]
     },
     "metadata": {},
     "output_type": "display_data"
    },
    {
     "name": "stdout",
     "output_type": "stream",
     "text": [
      "353\n",
      "ELBO train_loss -2.8923262222757877\n",
      "mse train_loss 0.0003795423992483367\n",
      "torch.Size([1, 20837, 2]) torch.Size([1, 20837, 4]) torch.Size([1, 5209, 2]) torch.Size([1, 5209, 4])\n",
      "torch.Size([1, 5209, 4])\n",
      "val_loss =  0.03830117\n",
      "-----------------------------------------------------------------------\n"
     ]
    },
    {
     "data": {
      "application/vnd.jupyter.widget-view+json": {
       "model_id": "94b6b19a91794274b89bb9ad22158354",
       "version_major": 2,
       "version_minor": 0
      },
      "text/plain": [
       "  0%|          | 0/53 [00:00<?, ?it/s]"
      ]
     },
     "metadata": {},
     "output_type": "display_data"
    },
    {
     "name": "stdout",
     "output_type": "stream",
     "text": [
      "354\n",
      "ELBO train_loss -2.910213011615681\n",
      "mse train_loss 0.00038325565483834033\n",
      "torch.Size([1, 20837, 2]) torch.Size([1, 20837, 4]) torch.Size([1, 5209, 2]) torch.Size([1, 5209, 4])\n",
      "torch.Size([1, 5209, 4])\n",
      "val_loss =  0.011575796\n",
      "-----------------------------------------------------------------------\n"
     ]
    },
    {
     "data": {
      "application/vnd.jupyter.widget-view+json": {
       "model_id": "7cdd242a13c74ec68625e5ee36bb00ae",
       "version_major": 2,
       "version_minor": 0
      },
      "text/plain": [
       "  0%|          | 0/53 [00:00<?, ?it/s]"
      ]
     },
     "metadata": {},
     "output_type": "display_data"
    },
    {
     "name": "stdout",
     "output_type": "stream",
     "text": [
      "355\n",
      "ELBO train_loss -2.930310415771772\n",
      "mse train_loss 0.0003980412697068082\n",
      "torch.Size([1, 20837, 2]) torch.Size([1, 20837, 4]) torch.Size([1, 5209, 2]) torch.Size([1, 5209, 4])\n",
      "torch.Size([1, 5209, 4])\n",
      "val_loss =  0.014133709\n",
      "-----------------------------------------------------------------------\n"
     ]
    },
    {
     "data": {
      "application/vnd.jupyter.widget-view+json": {
       "model_id": "436938b330e64768b3529dce463dada7",
       "version_major": 2,
       "version_minor": 0
      },
      "text/plain": [
       "  0%|          | 0/53 [00:00<?, ?it/s]"
      ]
     },
     "metadata": {},
     "output_type": "display_data"
    },
    {
     "name": "stdout",
     "output_type": "stream",
     "text": [
      "356\n",
      "ELBO train_loss -2.9657748240344928\n",
      "mse train_loss 0.0003521666243751445\n",
      "torch.Size([1, 20837, 2]) torch.Size([1, 20837, 4]) torch.Size([1, 5209, 2]) torch.Size([1, 5209, 4])\n",
      "torch.Size([1, 5209, 4])\n",
      "val_loss =  0.017567547\n",
      "-----------------------------------------------------------------------\n"
     ]
    },
    {
     "data": {
      "application/vnd.jupyter.widget-view+json": {
       "model_id": "7e2c4e892d974c3f928342d707bf377b",
       "version_major": 2,
       "version_minor": 0
      },
      "text/plain": [
       "  0%|          | 0/53 [00:00<?, ?it/s]"
      ]
     },
     "metadata": {},
     "output_type": "display_data"
    },
    {
     "name": "stdout",
     "output_type": "stream",
     "text": [
      "357\n",
      "ELBO train_loss -2.9608327577698907\n",
      "mse train_loss 0.000371251726426395\n",
      "torch.Size([1, 20837, 2]) torch.Size([1, 20837, 4]) torch.Size([1, 5209, 2]) torch.Size([1, 5209, 4])\n",
      "torch.Size([1, 5209, 4])\n",
      "val_loss =  0.010774615\n",
      "-----------------------------------------------------------------------\n"
     ]
    },
    {
     "data": {
      "application/vnd.jupyter.widget-view+json": {
       "model_id": "90f9205a6f1c46f191ab9bbeb53a386d",
       "version_major": 2,
       "version_minor": 0
      },
      "text/plain": [
       "  0%|          | 0/53 [00:00<?, ?it/s]"
      ]
     },
     "metadata": {},
     "output_type": "display_data"
    },
    {
     "name": "stdout",
     "output_type": "stream",
     "text": [
      "358\n",
      "ELBO train_loss -2.9503623089700377\n",
      "mse train_loss 0.00036930790863478697\n",
      "torch.Size([1, 20837, 2]) torch.Size([1, 20837, 4]) torch.Size([1, 5209, 2]) torch.Size([1, 5209, 4])\n",
      "torch.Size([1, 5209, 4])\n",
      "val_loss =  0.024370918\n",
      "-----------------------------------------------------------------------\n"
     ]
    },
    {
     "data": {
      "application/vnd.jupyter.widget-view+json": {
       "model_id": "7e33bb1fa9254fc4ab1b4a995c38a415",
       "version_major": 2,
       "version_minor": 0
      },
      "text/plain": [
       "  0%|          | 0/53 [00:00<?, ?it/s]"
      ]
     },
     "metadata": {},
     "output_type": "display_data"
    },
    {
     "name": "stdout",
     "output_type": "stream",
     "text": [
      "359\n",
      "ELBO train_loss -2.9184684123633042\n",
      "mse train_loss 0.000375701813850956\n",
      "torch.Size([1, 20837, 2]) torch.Size([1, 20837, 4]) torch.Size([1, 5209, 2]) torch.Size([1, 5209, 4])\n",
      "torch.Size([1, 5209, 4])\n",
      "val_loss =  0.019585723\n",
      "-----------------------------------------------------------------------\n"
     ]
    },
    {
     "data": {
      "application/vnd.jupyter.widget-view+json": {
       "model_id": "a9016a4aad874ad4b8880865085387ab",
       "version_major": 2,
       "version_minor": 0
      },
      "text/plain": [
       "  0%|          | 0/53 [00:00<?, ?it/s]"
      ]
     },
     "metadata": {},
     "output_type": "display_data"
    },
    {
     "name": "stdout",
     "output_type": "stream",
     "text": [
      "360\n",
      "ELBO train_loss -2.9447483656541356\n",
      "mse train_loss 0.0003595090658461042\n",
      "torch.Size([1, 20837, 2]) torch.Size([1, 20837, 4]) torch.Size([1, 5209, 2]) torch.Size([1, 5209, 4])\n",
      "torch.Size([1, 5209, 4])\n",
      "val_loss =  0.01457707\n",
      "-----------------------------------------------------------------------\n"
     ]
    },
    {
     "data": {
      "application/vnd.jupyter.widget-view+json": {
       "model_id": "defa16f7326c413fa97632758006cbc9",
       "version_major": 2,
       "version_minor": 0
      },
      "text/plain": [
       "  0%|          | 0/53 [00:00<?, ?it/s]"
      ]
     },
     "metadata": {},
     "output_type": "display_data"
    },
    {
     "name": "stdout",
     "output_type": "stream",
     "text": [
      "361\n",
      "ELBO train_loss -2.95654803402019\n",
      "mse train_loss 0.0003690073145267923\n",
      "torch.Size([1, 20837, 2]) torch.Size([1, 20837, 4]) torch.Size([1, 5209, 2]) torch.Size([1, 5209, 4])\n",
      "torch.Size([1, 5209, 4])\n",
      "val_loss =  0.019128455\n",
      "-----------------------------------------------------------------------\n"
     ]
    },
    {
     "data": {
      "application/vnd.jupyter.widget-view+json": {
       "model_id": "23e60cd0c26e4fd6b7b84a358ef45eaa",
       "version_major": 2,
       "version_minor": 0
      },
      "text/plain": [
       "  0%|          | 0/53 [00:00<?, ?it/s]"
      ]
     },
     "metadata": {},
     "output_type": "display_data"
    },
    {
     "name": "stdout",
     "output_type": "stream",
     "text": [
      "362\n",
      "ELBO train_loss -2.9641358852386475\n",
      "mse train_loss 0.00036495923611581466\n",
      "torch.Size([1, 20837, 2]) torch.Size([1, 20837, 4]) torch.Size([1, 5209, 2]) torch.Size([1, 5209, 4])\n",
      "torch.Size([1, 5209, 4])\n",
      "val_loss =  0.011814543\n",
      "-----------------------------------------------------------------------\n"
     ]
    },
    {
     "data": {
      "application/vnd.jupyter.widget-view+json": {
       "model_id": "07acd1c882c7425cbd3c0b2345edc641",
       "version_major": 2,
       "version_minor": 0
      },
      "text/plain": [
       "  0%|          | 0/53 [00:00<?, ?it/s]"
      ]
     },
     "metadata": {},
     "output_type": "display_data"
    },
    {
     "name": "stdout",
     "output_type": "stream",
     "text": [
      "363\n",
      "ELBO train_loss -2.9685254501846603\n",
      "mse train_loss 0.00037363633010448574\n",
      "torch.Size([1, 20837, 2]) torch.Size([1, 20837, 4]) torch.Size([1, 5209, 2]) torch.Size([1, 5209, 4])\n",
      "torch.Size([1, 5209, 4])\n",
      "val_loss =  0.011789844\n",
      "-----------------------------------------------------------------------\n"
     ]
    },
    {
     "data": {
      "application/vnd.jupyter.widget-view+json": {
       "model_id": "509447b2668a4389a9ec58d1c9625886",
       "version_major": 2,
       "version_minor": 0
      },
      "text/plain": [
       "  0%|          | 0/53 [00:00<?, ?it/s]"
      ]
     },
     "metadata": {},
     "output_type": "display_data"
    },
    {
     "name": "stdout",
     "output_type": "stream",
     "text": [
      "364\n",
      "ELBO train_loss -2.853595846104172\n",
      "mse train_loss 0.0004210834526500823\n",
      "torch.Size([1, 20837, 2]) torch.Size([1, 20837, 4]) torch.Size([1, 5209, 2]) torch.Size([1, 5209, 4])\n",
      "torch.Size([1, 5209, 4])\n",
      "val_loss =  0.02278104\n",
      "-----------------------------------------------------------------------\n"
     ]
    },
    {
     "data": {
      "application/vnd.jupyter.widget-view+json": {
       "model_id": "67c28a9cfe47468da266a23915efe176",
       "version_major": 2,
       "version_minor": 0
      },
      "text/plain": [
       "  0%|          | 0/53 [00:00<?, ?it/s]"
      ]
     },
     "metadata": {},
     "output_type": "display_data"
    },
    {
     "name": "stdout",
     "output_type": "stream",
     "text": [
      "365\n",
      "ELBO train_loss -2.931242839345392\n",
      "mse train_loss 0.0003919830136132901\n",
      "torch.Size([1, 20837, 2]) torch.Size([1, 20837, 4]) torch.Size([1, 5209, 2]) torch.Size([1, 5209, 4])\n",
      "torch.Size([1, 5209, 4])\n",
      "val_loss =  0.018667938\n",
      "-----------------------------------------------------------------------\n"
     ]
    },
    {
     "data": {
      "application/vnd.jupyter.widget-view+json": {
       "model_id": "074aa9deee394dfabd08cef4299a078f",
       "version_major": 2,
       "version_minor": 0
      },
      "text/plain": [
       "  0%|          | 0/53 [00:00<?, ?it/s]"
      ]
     },
     "metadata": {},
     "output_type": "display_data"
    },
    {
     "name": "stdout",
     "output_type": "stream",
     "text": [
      "366\n",
      "ELBO train_loss -2.964206691058177\n",
      "mse train_loss 0.0003529255388783432\n",
      "torch.Size([1, 20837, 2]) torch.Size([1, 20837, 4]) torch.Size([1, 5209, 2]) torch.Size([1, 5209, 4])\n",
      "torch.Size([1, 5209, 4])\n",
      "val_loss =  0.014462035\n",
      "-----------------------------------------------------------------------\n"
     ]
    },
    {
     "data": {
      "application/vnd.jupyter.widget-view+json": {
       "model_id": "e9c548015ad74114b9ab599baafc89eb",
       "version_major": 2,
       "version_minor": 0
      },
      "text/plain": [
       "  0%|          | 0/53 [00:00<?, ?it/s]"
      ]
     },
     "metadata": {},
     "output_type": "display_data"
    },
    {
     "name": "stdout",
     "output_type": "stream",
     "text": [
      "367\n",
      "ELBO train_loss -2.9771388836626738\n",
      "mse train_loss 0.00036154688667628987\n",
      "torch.Size([1, 20837, 2]) torch.Size([1, 20837, 4]) torch.Size([1, 5209, 2]) torch.Size([1, 5209, 4])\n",
      "torch.Size([1, 5209, 4])\n",
      "val_loss =  0.010373394\n",
      "-----------------------------------------------------------------------\n"
     ]
    },
    {
     "data": {
      "application/vnd.jupyter.widget-view+json": {
       "model_id": "bcaf07ead6084a269c882fd9c0020cde",
       "version_major": 2,
       "version_minor": 0
      },
      "text/plain": [
       "  0%|          | 0/53 [00:00<?, ?it/s]"
      ]
     },
     "metadata": {},
     "output_type": "display_data"
    },
    {
     "name": "stdout",
     "output_type": "stream",
     "text": [
      "368\n",
      "ELBO train_loss -2.966900834497416\n",
      "mse train_loss 0.00034574753514772174\n",
      "torch.Size([1, 20837, 2]) torch.Size([1, 20837, 4]) torch.Size([1, 5209, 2]) torch.Size([1, 5209, 4])\n",
      "torch.Size([1, 5209, 4])\n",
      "val_loss =  0.014943248\n",
      "-----------------------------------------------------------------------\n"
     ]
    },
    {
     "data": {
      "application/vnd.jupyter.widget-view+json": {
       "model_id": "9bca2e3015884ef0acec4554005407b9",
       "version_major": 2,
       "version_minor": 0
      },
      "text/plain": [
       "  0%|          | 0/53 [00:00<?, ?it/s]"
      ]
     },
     "metadata": {},
     "output_type": "display_data"
    },
    {
     "name": "stdout",
     "output_type": "stream",
     "text": [
      "369\n",
      "ELBO train_loss -2.9680053333066545\n",
      "mse train_loss 0.00036490240347360805\n",
      "torch.Size([1, 20837, 2]) torch.Size([1, 20837, 4]) torch.Size([1, 5209, 2]) torch.Size([1, 5209, 4])\n",
      "torch.Size([1, 5209, 4])\n",
      "val_loss =  0.012721231\n",
      "-----------------------------------------------------------------------\n"
     ]
    },
    {
     "data": {
      "application/vnd.jupyter.widget-view+json": {
       "model_id": "52ad88ac58b74d618606420ab8f4d546",
       "version_major": 2,
       "version_minor": 0
      },
      "text/plain": [
       "  0%|          | 0/53 [00:00<?, ?it/s]"
      ]
     },
     "metadata": {},
     "output_type": "display_data"
    },
    {
     "name": "stdout",
     "output_type": "stream",
     "text": [
      "370\n",
      "ELBO train_loss -2.9493382067050575\n",
      "mse train_loss 0.00037066010376087053\n",
      "torch.Size([1, 20837, 2]) torch.Size([1, 20837, 4]) torch.Size([1, 5209, 2]) torch.Size([1, 5209, 4])\n",
      "torch.Size([1, 5209, 4])\n",
      "val_loss =  0.02316937\n",
      "-----------------------------------------------------------------------\n"
     ]
    },
    {
     "data": {
      "application/vnd.jupyter.widget-view+json": {
       "model_id": "482e3f66c7544f8694a0c01c40fe1567",
       "version_major": 2,
       "version_minor": 0
      },
      "text/plain": [
       "  0%|          | 0/53 [00:00<?, ?it/s]"
      ]
     },
     "metadata": {},
     "output_type": "display_data"
    },
    {
     "name": "stdout",
     "output_type": "stream",
     "text": [
      "371\n",
      "ELBO train_loss -2.9383311721513854\n",
      "mse train_loss 0.00037392625916872246\n",
      "torch.Size([1, 20837, 2]) torch.Size([1, 20837, 4]) torch.Size([1, 5209, 2]) torch.Size([1, 5209, 4])\n",
      "torch.Size([1, 5209, 4])\n",
      "val_loss =  0.010070399\n",
      "-----------------------------------------------------------------------\n"
     ]
    },
    {
     "data": {
      "application/vnd.jupyter.widget-view+json": {
       "model_id": "6b7120c2f01c4801b481a23f3316e010",
       "version_major": 2,
       "version_minor": 0
      },
      "text/plain": [
       "  0%|          | 0/53 [00:00<?, ?it/s]"
      ]
     },
     "metadata": {},
     "output_type": "display_data"
    },
    {
     "name": "stdout",
     "output_type": "stream",
     "text": [
      "372\n",
      "ELBO train_loss -2.9786298679855636\n",
      "mse train_loss 0.00037154922989979033\n",
      "torch.Size([1, 20837, 2]) torch.Size([1, 20837, 4]) torch.Size([1, 5209, 2]) torch.Size([1, 5209, 4])\n",
      "torch.Size([1, 5209, 4])\n",
      "val_loss =  0.012185328\n",
      "-----------------------------------------------------------------------\n"
     ]
    },
    {
     "data": {
      "application/vnd.jupyter.widget-view+json": {
       "model_id": "c834475d124b442b833ada229d30d893",
       "version_major": 2,
       "version_minor": 0
      },
      "text/plain": [
       "  0%|          | 0/53 [00:00<?, ?it/s]"
      ]
     },
     "metadata": {},
     "output_type": "display_data"
    },
    {
     "name": "stdout",
     "output_type": "stream",
     "text": [
      "373\n",
      "ELBO train_loss -2.965714346687749\n",
      "mse train_loss 0.0003447330450828029\n",
      "torch.Size([1, 20837, 2]) torch.Size([1, 20837, 4]) torch.Size([1, 5209, 2]) torch.Size([1, 5209, 4])\n",
      "torch.Size([1, 5209, 4])\n",
      "val_loss =  0.013826711\n",
      "-----------------------------------------------------------------------\n"
     ]
    },
    {
     "data": {
      "application/vnd.jupyter.widget-view+json": {
       "model_id": "e0643cabcf3e453289f06cd624dc9017",
       "version_major": 2,
       "version_minor": 0
      },
      "text/plain": [
       "  0%|          | 0/53 [00:00<?, ?it/s]"
      ]
     },
     "metadata": {},
     "output_type": "display_data"
    },
    {
     "name": "stdout",
     "output_type": "stream",
     "text": [
      "374\n",
      "ELBO train_loss -2.9461267669245883\n",
      "mse train_loss 0.0003772264674310309\n",
      "torch.Size([1, 20837, 2]) torch.Size([1, 20837, 4]) torch.Size([1, 5209, 2]) torch.Size([1, 5209, 4])\n",
      "torch.Size([1, 5209, 4])\n",
      "val_loss =  0.012753726\n",
      "-----------------------------------------------------------------------\n"
     ]
    },
    {
     "data": {
      "application/vnd.jupyter.widget-view+json": {
       "model_id": "dc8c74d7b4364389bcce3608ec67b9b9",
       "version_major": 2,
       "version_minor": 0
      },
      "text/plain": [
       "  0%|          | 0/53 [00:00<?, ?it/s]"
      ]
     },
     "metadata": {},
     "output_type": "display_data"
    },
    {
     "name": "stdout",
     "output_type": "stream",
     "text": [
      "375\n",
      "ELBO train_loss -2.970452385128669\n",
      "mse train_loss 0.000354936624545481\n",
      "torch.Size([1, 20837, 2]) torch.Size([1, 20837, 4]) torch.Size([1, 5209, 2]) torch.Size([1, 5209, 4])\n",
      "torch.Size([1, 5209, 4])\n",
      "val_loss =  0.020766037\n",
      "-----------------------------------------------------------------------\n"
     ]
    },
    {
     "data": {
      "application/vnd.jupyter.widget-view+json": {
       "model_id": "2fd6f314855d4cd7ae8dde44b3c4ac1e",
       "version_major": 2,
       "version_minor": 0
      },
      "text/plain": [
       "  0%|          | 0/53 [00:00<?, ?it/s]"
      ]
     },
     "metadata": {},
     "output_type": "display_data"
    },
    {
     "name": "stdout",
     "output_type": "stream",
     "text": [
      "376\n",
      "ELBO train_loss -2.917051951840239\n",
      "mse train_loss 0.0003886451016131894\n",
      "torch.Size([1, 20837, 2]) torch.Size([1, 20837, 4]) torch.Size([1, 5209, 2]) torch.Size([1, 5209, 4])\n",
      "torch.Size([1, 5209, 4])\n",
      "val_loss =  0.019948544\n",
      "-----------------------------------------------------------------------\n"
     ]
    },
    {
     "data": {
      "application/vnd.jupyter.widget-view+json": {
       "model_id": "3fcc313c6590460f9586b978c7a14217",
       "version_major": 2,
       "version_minor": 0
      },
      "text/plain": [
       "  0%|          | 0/53 [00:00<?, ?it/s]"
      ]
     },
     "metadata": {},
     "output_type": "display_data"
    },
    {
     "name": "stdout",
     "output_type": "stream",
     "text": [
      "377\n",
      "ELBO train_loss -2.939574322610531\n",
      "mse train_loss 0.00042924030523589055\n",
      "torch.Size([1, 20837, 2]) torch.Size([1, 20837, 4]) torch.Size([1, 5209, 2]) torch.Size([1, 5209, 4])\n",
      "torch.Size([1, 5209, 4])\n",
      "val_loss =  0.014439112\n",
      "-----------------------------------------------------------------------\n"
     ]
    },
    {
     "data": {
      "application/vnd.jupyter.widget-view+json": {
       "model_id": "c83d3ffe70d04f3094904c602e4dbb3b",
       "version_major": 2,
       "version_minor": 0
      },
      "text/plain": [
       "  0%|          | 0/53 [00:00<?, ?it/s]"
      ]
     },
     "metadata": {},
     "output_type": "display_data"
    },
    {
     "name": "stdout",
     "output_type": "stream",
     "text": [
      "378\n",
      "ELBO train_loss -2.9522071716920384\n",
      "mse train_loss 0.00039107009674035854\n",
      "torch.Size([1, 20837, 2]) torch.Size([1, 20837, 4]) torch.Size([1, 5209, 2]) torch.Size([1, 5209, 4])\n",
      "torch.Size([1, 5209, 4])\n",
      "val_loss =  0.0152451545\n",
      "-----------------------------------------------------------------------\n"
     ]
    },
    {
     "data": {
      "application/vnd.jupyter.widget-view+json": {
       "model_id": "c29e50a0ab2147fab5ba24c6cfeb62d4",
       "version_major": 2,
       "version_minor": 0
      },
      "text/plain": [
       "  0%|          | 0/53 [00:00<?, ?it/s]"
      ]
     },
     "metadata": {},
     "output_type": "display_data"
    },
    {
     "name": "stdout",
     "output_type": "stream",
     "text": [
      "379\n",
      "ELBO train_loss -2.958849353610345\n",
      "mse train_loss 0.00035545979884567334\n",
      "torch.Size([1, 20837, 2]) torch.Size([1, 20837, 4]) torch.Size([1, 5209, 2]) torch.Size([1, 5209, 4])\n",
      "torch.Size([1, 5209, 4])\n",
      "val_loss =  0.01719663\n",
      "-----------------------------------------------------------------------\n"
     ]
    },
    {
     "data": {
      "application/vnd.jupyter.widget-view+json": {
       "model_id": "d299b29e5a92409982882c7fad17a417",
       "version_major": 2,
       "version_minor": 0
      },
      "text/plain": [
       "  0%|          | 0/53 [00:00<?, ?it/s]"
      ]
     },
     "metadata": {},
     "output_type": "display_data"
    },
    {
     "name": "stdout",
     "output_type": "stream",
     "text": [
      "380\n",
      "ELBO train_loss -2.978078045935001\n",
      "mse train_loss 0.00034660151264551185\n",
      "torch.Size([1, 20837, 2]) torch.Size([1, 20837, 4]) torch.Size([1, 5209, 2]) torch.Size([1, 5209, 4])\n",
      "torch.Size([1, 5209, 4])\n",
      "val_loss =  0.010983937\n",
      "-----------------------------------------------------------------------\n"
     ]
    },
    {
     "data": {
      "application/vnd.jupyter.widget-view+json": {
       "model_id": "c3d885743d1b4028810d7ef6743a5649",
       "version_major": 2,
       "version_minor": 0
      },
      "text/plain": [
       "  0%|          | 0/53 [00:00<?, ?it/s]"
      ]
     },
     "metadata": {},
     "output_type": "display_data"
    },
    {
     "name": "stdout",
     "output_type": "stream",
     "text": [
      "381\n",
      "ELBO train_loss -2.978419650275752\n",
      "mse train_loss 0.0003733027793405542\n",
      "torch.Size([1, 20837, 2]) torch.Size([1, 20837, 4]) torch.Size([1, 5209, 2]) torch.Size([1, 5209, 4])\n",
      "torch.Size([1, 5209, 4])\n",
      "val_loss =  0.011565252\n",
      "-----------------------------------------------------------------------\n"
     ]
    },
    {
     "data": {
      "application/vnd.jupyter.widget-view+json": {
       "model_id": "93bfa11ff7fb42f58c8cf5809b6ea9be",
       "version_major": 2,
       "version_minor": 0
      },
      "text/plain": [
       "  0%|          | 0/53 [00:00<?, ?it/s]"
      ]
     },
     "metadata": {},
     "output_type": "display_data"
    },
    {
     "name": "stdout",
     "output_type": "stream",
     "text": [
      "382\n",
      "ELBO train_loss -2.9724651867488645\n",
      "mse train_loss 0.00037304661099421175\n",
      "torch.Size([1, 20837, 2]) torch.Size([1, 20837, 4]) torch.Size([1, 5209, 2]) torch.Size([1, 5209, 4])\n",
      "torch.Size([1, 5209, 4])\n",
      "val_loss =  0.011820117\n",
      "-----------------------------------------------------------------------\n"
     ]
    },
    {
     "data": {
      "application/vnd.jupyter.widget-view+json": {
       "model_id": "b0779e0ca950457bb99cab9f11b378c9",
       "version_major": 2,
       "version_minor": 0
      },
      "text/plain": [
       "  0%|          | 0/53 [00:00<?, ?it/s]"
      ]
     },
     "metadata": {},
     "output_type": "display_data"
    },
    {
     "name": "stdout",
     "output_type": "stream",
     "text": [
      "383\n",
      "ELBO train_loss -2.9707929143365823\n",
      "mse train_loss 0.0003786266549108199\n",
      "torch.Size([1, 20837, 2]) torch.Size([1, 20837, 4]) torch.Size([1, 5209, 2]) torch.Size([1, 5209, 4])\n",
      "torch.Size([1, 5209, 4])\n",
      "val_loss =  0.009579961\n",
      "-----------------------------------------------------------------------\n"
     ]
    },
    {
     "data": {
      "application/vnd.jupyter.widget-view+json": {
       "model_id": "ec5a219856e44a28a9cef3fd57b66eba",
       "version_major": 2,
       "version_minor": 0
      },
      "text/plain": [
       "  0%|          | 0/53 [00:00<?, ?it/s]"
      ]
     },
     "metadata": {},
     "output_type": "display_data"
    },
    {
     "name": "stdout",
     "output_type": "stream",
     "text": [
      "384\n",
      "ELBO train_loss -2.9721840957425676\n",
      "mse train_loss 0.000358149215451635\n",
      "torch.Size([1, 20837, 2]) torch.Size([1, 20837, 4]) torch.Size([1, 5209, 2]) torch.Size([1, 5209, 4])\n",
      "torch.Size([1, 5209, 4])\n",
      "val_loss =  0.018676821\n",
      "-----------------------------------------------------------------------\n"
     ]
    },
    {
     "data": {
      "application/vnd.jupyter.widget-view+json": {
       "model_id": "f771b374e7f24fada6f60728673d8800",
       "version_major": 2,
       "version_minor": 0
      },
      "text/plain": [
       "  0%|          | 0/53 [00:00<?, ?it/s]"
      ]
     },
     "metadata": {},
     "output_type": "display_data"
    },
    {
     "name": "stdout",
     "output_type": "stream",
     "text": [
      "385\n",
      "ELBO train_loss -2.9579295932122\n",
      "mse train_loss 0.00035446755563892985\n",
      "torch.Size([1, 20837, 2]) torch.Size([1, 20837, 4]) torch.Size([1, 5209, 2]) torch.Size([1, 5209, 4])\n",
      "torch.Size([1, 5209, 4])\n",
      "val_loss =  0.016242232\n",
      "-----------------------------------------------------------------------\n"
     ]
    },
    {
     "data": {
      "application/vnd.jupyter.widget-view+json": {
       "model_id": "0d8dce1963514b959964e3bbc0d59a3d",
       "version_major": 2,
       "version_minor": 0
      },
      "text/plain": [
       "  0%|          | 0/53 [00:00<?, ?it/s]"
      ]
     },
     "metadata": {},
     "output_type": "display_data"
    },
    {
     "name": "stdout",
     "output_type": "stream",
     "text": [
      "386\n",
      "ELBO train_loss -2.9694406311467008\n",
      "mse train_loss 0.0003504062080777795\n",
      "torch.Size([1, 20837, 2]) torch.Size([1, 20837, 4]) torch.Size([1, 5209, 2]) torch.Size([1, 5209, 4])\n",
      "torch.Size([1, 5209, 4])\n",
      "val_loss =  0.014849953\n",
      "-----------------------------------------------------------------------\n"
     ]
    },
    {
     "data": {
      "application/vnd.jupyter.widget-view+json": {
       "model_id": "9fd11be0b1b6466289868dd5bcc536e7",
       "version_major": 2,
       "version_minor": 0
      },
      "text/plain": [
       "  0%|          | 0/53 [00:00<?, ?it/s]"
      ]
     },
     "metadata": {},
     "output_type": "display_data"
    },
    {
     "name": "stdout",
     "output_type": "stream",
     "text": [
      "387\n",
      "ELBO train_loss -2.9347344591932476\n",
      "mse train_loss 0.0004069870911683571\n",
      "torch.Size([1, 20837, 2]) torch.Size([1, 20837, 4]) torch.Size([1, 5209, 2]) torch.Size([1, 5209, 4])\n",
      "torch.Size([1, 5209, 4])\n",
      "val_loss =  0.018833743\n",
      "-----------------------------------------------------------------------\n"
     ]
    },
    {
     "data": {
      "application/vnd.jupyter.widget-view+json": {
       "model_id": "cf89ffe93ddd4784b406df05c4003396",
       "version_major": 2,
       "version_minor": 0
      },
      "text/plain": [
       "  0%|          | 0/53 [00:00<?, ?it/s]"
      ]
     },
     "metadata": {},
     "output_type": "display_data"
    },
    {
     "name": "stdout",
     "output_type": "stream",
     "text": [
      "388\n",
      "ELBO train_loss -2.957725263991446\n",
      "mse train_loss 0.00036713226318341803\n",
      "torch.Size([1, 20837, 2]) torch.Size([1, 20837, 4]) torch.Size([1, 5209, 2]) torch.Size([1, 5209, 4])\n",
      "torch.Size([1, 5209, 4])\n",
      "val_loss =  0.010811282\n",
      "-----------------------------------------------------------------------\n"
     ]
    },
    {
     "data": {
      "application/vnd.jupyter.widget-view+json": {
       "model_id": "f3b1993ffcc441718941904d96dfd8d4",
       "version_major": 2,
       "version_minor": 0
      },
      "text/plain": [
       "  0%|          | 0/53 [00:00<?, ?it/s]"
      ]
     },
     "metadata": {},
     "output_type": "display_data"
    },
    {
     "name": "stdout",
     "output_type": "stream",
     "text": [
      "389\n",
      "ELBO train_loss -2.9695722516977563\n",
      "mse train_loss 0.000355658517328952\n",
      "torch.Size([1, 20837, 2]) torch.Size([1, 20837, 4]) torch.Size([1, 5209, 2]) torch.Size([1, 5209, 4])\n",
      "torch.Size([1, 5209, 4])\n",
      "val_loss =  0.018759053\n",
      "-----------------------------------------------------------------------\n"
     ]
    },
    {
     "data": {
      "application/vnd.jupyter.widget-view+json": {
       "model_id": "fe662a7c8fea4cacbb690a99af49e3e3",
       "version_major": 2,
       "version_minor": 0
      },
      "text/plain": [
       "  0%|          | 0/53 [00:00<?, ?it/s]"
      ]
     },
     "metadata": {},
     "output_type": "display_data"
    },
    {
     "name": "stdout",
     "output_type": "stream",
     "text": [
      "390\n",
      "ELBO train_loss -2.964800902132718\n",
      "mse train_loss 0.00036342140481552496\n",
      "torch.Size([1, 20837, 2]) torch.Size([1, 20837, 4]) torch.Size([1, 5209, 2]) torch.Size([1, 5209, 4])\n",
      "torch.Size([1, 5209, 4])\n",
      "val_loss =  0.017332323\n",
      "-----------------------------------------------------------------------\n"
     ]
    },
    {
     "data": {
      "application/vnd.jupyter.widget-view+json": {
       "model_id": "b295ab715e4549018e269aeec2c8e3ae",
       "version_major": 2,
       "version_minor": 0
      },
      "text/plain": [
       "  0%|          | 0/53 [00:00<?, ?it/s]"
      ]
     },
     "metadata": {},
     "output_type": "display_data"
    },
    {
     "name": "stdout",
     "output_type": "stream",
     "text": [
      "391\n",
      "ELBO train_loss -2.972355302774681\n",
      "mse train_loss 0.00036082639307319624\n",
      "torch.Size([1, 20837, 2]) torch.Size([1, 20837, 4]) torch.Size([1, 5209, 2]) torch.Size([1, 5209, 4])\n",
      "torch.Size([1, 5209, 4])\n",
      "val_loss =  0.023576032\n",
      "-----------------------------------------------------------------------\n"
     ]
    },
    {
     "data": {
      "application/vnd.jupyter.widget-view+json": {
       "model_id": "828bf237de784cf8a4e1eb23c55d8633",
       "version_major": 2,
       "version_minor": 0
      },
      "text/plain": [
       "  0%|          | 0/53 [00:00<?, ?it/s]"
      ]
     },
     "metadata": {},
     "output_type": "display_data"
    },
    {
     "name": "stdout",
     "output_type": "stream",
     "text": [
      "392\n",
      "ELBO train_loss -2.961041212081909\n",
      "mse train_loss 0.000383677015153533\n",
      "torch.Size([1, 20837, 2]) torch.Size([1, 20837, 4]) torch.Size([1, 5209, 2]) torch.Size([1, 5209, 4])\n",
      "torch.Size([1, 5209, 4])\n",
      "val_loss =  0.028058048\n",
      "-----------------------------------------------------------------------\n"
     ]
    },
    {
     "data": {
      "application/vnd.jupyter.widget-view+json": {
       "model_id": "12bb1c05c72d4fe2961e9257bb630f3a",
       "version_major": 2,
       "version_minor": 0
      },
      "text/plain": [
       "  0%|          | 0/53 [00:00<?, ?it/s]"
      ]
     },
     "metadata": {},
     "output_type": "display_data"
    },
    {
     "name": "stdout",
     "output_type": "stream",
     "text": [
      "393\n",
      "ELBO train_loss -2.960207318359951\n",
      "mse train_loss 0.00037864054704770306\n",
      "torch.Size([1, 20837, 2]) torch.Size([1, 20837, 4]) torch.Size([1, 5209, 2]) torch.Size([1, 5209, 4])\n",
      "torch.Size([1, 5209, 4])\n",
      "val_loss =  0.016458679\n",
      "-----------------------------------------------------------------------\n"
     ]
    },
    {
     "data": {
      "application/vnd.jupyter.widget-view+json": {
       "model_id": "6b9a0b4818d34b898717f101df63f871",
       "version_major": 2,
       "version_minor": 0
      },
      "text/plain": [
       "  0%|          | 0/53 [00:00<?, ?it/s]"
      ]
     },
     "metadata": {},
     "output_type": "display_data"
    },
    {
     "name": "stdout",
     "output_type": "stream",
     "text": [
      "394\n",
      "ELBO train_loss -2.897656057240828\n",
      "mse train_loss 0.0004206763902780125\n",
      "torch.Size([1, 20837, 2]) torch.Size([1, 20837, 4]) torch.Size([1, 5209, 2]) torch.Size([1, 5209, 4])\n",
      "torch.Size([1, 5209, 4])\n",
      "val_loss =  0.015237663\n",
      "-----------------------------------------------------------------------\n"
     ]
    },
    {
     "data": {
      "application/vnd.jupyter.widget-view+json": {
       "model_id": "04eaddb88bd84452955d9c11410f6e6a",
       "version_major": 2,
       "version_minor": 0
      },
      "text/plain": [
       "  0%|          | 0/53 [00:00<?, ?it/s]"
      ]
     },
     "metadata": {},
     "output_type": "display_data"
    },
    {
     "name": "stdout",
     "output_type": "stream",
     "text": [
      "395\n",
      "ELBO train_loss -2.956619217710675\n",
      "mse train_loss 0.0003645175006482223\n",
      "torch.Size([1, 20837, 2]) torch.Size([1, 20837, 4]) torch.Size([1, 5209, 2]) torch.Size([1, 5209, 4])\n",
      "torch.Size([1, 5209, 4])\n",
      "val_loss =  0.0174633\n",
      "-----------------------------------------------------------------------\n"
     ]
    },
    {
     "data": {
      "application/vnd.jupyter.widget-view+json": {
       "model_id": "d44cb1428ce7422689e77780d2a60d91",
       "version_major": 2,
       "version_minor": 0
      },
      "text/plain": [
       "  0%|          | 0/53 [00:00<?, ?it/s]"
      ]
     },
     "metadata": {},
     "output_type": "display_data"
    },
    {
     "name": "stdout",
     "output_type": "stream",
     "text": [
      "396\n",
      "ELBO train_loss -2.9564068587321155\n",
      "mse train_loss 0.0003700658106816195\n",
      "torch.Size([1, 20837, 2]) torch.Size([1, 20837, 4]) torch.Size([1, 5209, 2]) torch.Size([1, 5209, 4])\n",
      "torch.Size([1, 5209, 4])\n",
      "val_loss =  0.014701759\n",
      "-----------------------------------------------------------------------\n"
     ]
    },
    {
     "data": {
      "application/vnd.jupyter.widget-view+json": {
       "model_id": "32cce703793d484fb398502f43ca2674",
       "version_major": 2,
       "version_minor": 0
      },
      "text/plain": [
       "  0%|          | 0/53 [00:00<?, ?it/s]"
      ]
     },
     "metadata": {},
     "output_type": "display_data"
    },
    {
     "name": "stdout",
     "output_type": "stream",
     "text": [
      "397\n",
      "ELBO train_loss -2.9730813863142482\n",
      "mse train_loss 0.00037110833350112134\n",
      "torch.Size([1, 20837, 2]) torch.Size([1, 20837, 4]) torch.Size([1, 5209, 2]) torch.Size([1, 5209, 4])\n",
      "torch.Size([1, 5209, 4])\n",
      "val_loss =  0.010556787\n",
      "-----------------------------------------------------------------------\n"
     ]
    },
    {
     "data": {
      "application/vnd.jupyter.widget-view+json": {
       "model_id": "c0db51ace3dd4c39b27dd91bc69d70c6",
       "version_major": 2,
       "version_minor": 0
      },
      "text/plain": [
       "  0%|          | 0/53 [00:00<?, ?it/s]"
      ]
     },
     "metadata": {},
     "output_type": "display_data"
    },
    {
     "name": "stdout",
     "output_type": "stream",
     "text": [
      "398\n",
      "ELBO train_loss -2.9901078737007\n",
      "mse train_loss 0.00034924527701047547\n",
      "torch.Size([1, 20837, 2]) torch.Size([1, 20837, 4]) torch.Size([1, 5209, 2]) torch.Size([1, 5209, 4])\n",
      "torch.Size([1, 5209, 4])\n",
      "val_loss =  0.011745463\n",
      "-----------------------------------------------------------------------\n"
     ]
    },
    {
     "data": {
      "application/vnd.jupyter.widget-view+json": {
       "model_id": "b37f9cb8cd0340d7bacd379b918c713f",
       "version_major": 2,
       "version_minor": 0
      },
      "text/plain": [
       "  0%|          | 0/53 [00:00<?, ?it/s]"
      ]
     },
     "metadata": {},
     "output_type": "display_data"
    },
    {
     "name": "stdout",
     "output_type": "stream",
     "text": [
      "399\n",
      "ELBO train_loss -2.9864885627098805\n",
      "mse train_loss 0.00036192064053809517\n",
      "torch.Size([1, 20837, 2]) torch.Size([1, 20837, 4]) torch.Size([1, 5209, 2]) torch.Size([1, 5209, 4])\n",
      "torch.Size([1, 5209, 4])\n",
      "val_loss =  0.019589808\n",
      "-----------------------------------------------------------------------\n"
     ]
    },
    {
     "data": {
      "application/vnd.jupyter.widget-view+json": {
       "model_id": "5b395ad0bdb54675b4d25f53395485a8",
       "version_major": 2,
       "version_minor": 0
      },
      "text/plain": [
       "  0%|          | 0/53 [00:00<?, ?it/s]"
      ]
     },
     "metadata": {},
     "output_type": "display_data"
    },
    {
     "name": "stdout",
     "output_type": "stream",
     "text": [
      "400\n",
      "ELBO train_loss -2.945207559837485\n",
      "mse train_loss 0.00036701561667833404\n",
      "torch.Size([1, 20837, 2]) torch.Size([1, 20837, 4]) torch.Size([1, 5209, 2]) torch.Size([1, 5209, 4])\n",
      "torch.Size([1, 5209, 4])\n",
      "val_loss =  0.019900566\n",
      "-----------------------------------------------------------------------\n"
     ]
    },
    {
     "data": {
      "application/vnd.jupyter.widget-view+json": {
       "model_id": "a84ad1cb311b433ba66a9f4f13300a5b",
       "version_major": 2,
       "version_minor": 0
      },
      "text/plain": [
       "  0%|          | 0/53 [00:00<?, ?it/s]"
      ]
     },
     "metadata": {},
     "output_type": "display_data"
    },
    {
     "name": "stdout",
     "output_type": "stream",
     "text": [
      "401\n",
      "ELBO train_loss -2.9142080989648713\n",
      "mse train_loss 0.00036912298495529814\n",
      "torch.Size([1, 20837, 2]) torch.Size([1, 20837, 4]) torch.Size([1, 5209, 2]) torch.Size([1, 5209, 4])\n",
      "torch.Size([1, 5209, 4])\n",
      "val_loss =  0.0304306\n",
      "-----------------------------------------------------------------------\n"
     ]
    },
    {
     "data": {
      "application/vnd.jupyter.widget-view+json": {
       "model_id": "dc0336c309074990b765559a0bc541ab",
       "version_major": 2,
       "version_minor": 0
      },
      "text/plain": [
       "  0%|          | 0/53 [00:00<?, ?it/s]"
      ]
     },
     "metadata": {},
     "output_type": "display_data"
    },
    {
     "name": "stdout",
     "output_type": "stream",
     "text": [
      "402\n",
      "ELBO train_loss -2.914049413968932\n",
      "mse train_loss 0.0003884477235534984\n",
      "torch.Size([1, 20837, 2]) torch.Size([1, 20837, 4]) torch.Size([1, 5209, 2]) torch.Size([1, 5209, 4])\n",
      "torch.Size([1, 5209, 4])\n",
      "val_loss =  0.02570505\n",
      "-----------------------------------------------------------------------\n"
     ]
    },
    {
     "data": {
      "application/vnd.jupyter.widget-view+json": {
       "model_id": "986619b0cf104b20b0e65eee48a580eb",
       "version_major": 2,
       "version_minor": 0
      },
      "text/plain": [
       "  0%|          | 0/53 [00:00<?, ?it/s]"
      ]
     },
     "metadata": {},
     "output_type": "display_data"
    },
    {
     "name": "stdout",
     "output_type": "stream",
     "text": [
      "403\n",
      "ELBO train_loss -2.9618095766823247\n",
      "mse train_loss 0.00036342485197204743\n",
      "torch.Size([1, 20837, 2]) torch.Size([1, 20837, 4]) torch.Size([1, 5209, 2]) torch.Size([1, 5209, 4])\n",
      "torch.Size([1, 5209, 4])\n",
      "val_loss =  0.015575232\n",
      "-----------------------------------------------------------------------\n"
     ]
    },
    {
     "data": {
      "application/vnd.jupyter.widget-view+json": {
       "model_id": "a5f1e37bab5c4e52936b796e8665c950",
       "version_major": 2,
       "version_minor": 0
      },
      "text/plain": [
       "  0%|          | 0/53 [00:00<?, ?it/s]"
      ]
     },
     "metadata": {},
     "output_type": "display_data"
    },
    {
     "name": "stdout",
     "output_type": "stream",
     "text": [
      "404\n",
      "ELBO train_loss -2.9671528969170913\n",
      "mse train_loss 0.00034113751256504573\n",
      "torch.Size([1, 20837, 2]) torch.Size([1, 20837, 4]) torch.Size([1, 5209, 2]) torch.Size([1, 5209, 4])\n",
      "torch.Size([1, 5209, 4])\n",
      "val_loss =  0.016830208\n",
      "-----------------------------------------------------------------------\n"
     ]
    },
    {
     "data": {
      "application/vnd.jupyter.widget-view+json": {
       "model_id": "828e74af828748d1bb2ae18de052d868",
       "version_major": 2,
       "version_minor": 0
      },
      "text/plain": [
       "  0%|          | 0/53 [00:00<?, ?it/s]"
      ]
     },
     "metadata": {},
     "output_type": "display_data"
    },
    {
     "name": "stdout",
     "output_type": "stream",
     "text": [
      "405\n",
      "ELBO train_loss -2.9527375788058876\n",
      "mse train_loss 0.00036942074020428336\n",
      "torch.Size([1, 20837, 2]) torch.Size([1, 20837, 4]) torch.Size([1, 5209, 2]) torch.Size([1, 5209, 4])\n",
      "torch.Size([1, 5209, 4])\n",
      "val_loss =  0.014477641\n",
      "-----------------------------------------------------------------------\n"
     ]
    },
    {
     "data": {
      "application/vnd.jupyter.widget-view+json": {
       "model_id": "f779bf4d8a1b4c50ba0b214e0a409baa",
       "version_major": 2,
       "version_minor": 0
      },
      "text/plain": [
       "  0%|          | 0/53 [00:00<?, ?it/s]"
      ]
     },
     "metadata": {},
     "output_type": "display_data"
    },
    {
     "name": "stdout",
     "output_type": "stream",
     "text": [
      "406\n",
      "ELBO train_loss -2.9748265788240253\n",
      "mse train_loss 0.00036239692307613296\n",
      "torch.Size([1, 20837, 2]) torch.Size([1, 20837, 4]) torch.Size([1, 5209, 2]) torch.Size([1, 5209, 4])\n",
      "torch.Size([1, 5209, 4])\n",
      "val_loss =  0.014654772\n",
      "-----------------------------------------------------------------------\n"
     ]
    },
    {
     "data": {
      "application/vnd.jupyter.widget-view+json": {
       "model_id": "faa33375e5404d2b8f3ef72cf1f2c31c",
       "version_major": 2,
       "version_minor": 0
      },
      "text/plain": [
       "  0%|          | 0/53 [00:00<?, ?it/s]"
      ]
     },
     "metadata": {},
     "output_type": "display_data"
    },
    {
     "name": "stdout",
     "output_type": "stream",
     "text": [
      "407\n",
      "ELBO train_loss -2.981643834204044\n",
      "mse train_loss 0.0003747805399229346\n",
      "torch.Size([1, 20837, 2]) torch.Size([1, 20837, 4]) torch.Size([1, 5209, 2]) torch.Size([1, 5209, 4])\n",
      "torch.Size([1, 5209, 4])\n",
      "val_loss =  0.012025962\n",
      "-----------------------------------------------------------------------\n"
     ]
    },
    {
     "data": {
      "application/vnd.jupyter.widget-view+json": {
       "model_id": "6047de8bcf3349b4b6068785d08be9a9",
       "version_major": 2,
       "version_minor": 0
      },
      "text/plain": [
       "  0%|          | 0/53 [00:00<?, ?it/s]"
      ]
     },
     "metadata": {},
     "output_type": "display_data"
    },
    {
     "name": "stdout",
     "output_type": "stream",
     "text": [
      "408\n",
      "ELBO train_loss -2.988701397517942\n",
      "mse train_loss 0.0003598726649421601\n",
      "torch.Size([1, 20837, 2]) torch.Size([1, 20837, 4]) torch.Size([1, 5209, 2]) torch.Size([1, 5209, 4])\n",
      "torch.Size([1, 5209, 4])\n",
      "val_loss =  0.012622027\n",
      "-----------------------------------------------------------------------\n"
     ]
    },
    {
     "data": {
      "application/vnd.jupyter.widget-view+json": {
       "model_id": "a383689192c545bdb84a116c58222a1d",
       "version_major": 2,
       "version_minor": 0
      },
      "text/plain": [
       "  0%|          | 0/53 [00:00<?, ?it/s]"
      ]
     },
     "metadata": {},
     "output_type": "display_data"
    },
    {
     "name": "stdout",
     "output_type": "stream",
     "text": [
      "409\n",
      "ELBO train_loss -2.9770326434441334\n",
      "mse train_loss 0.0003564497631675792\n",
      "torch.Size([1, 20837, 2]) torch.Size([1, 20837, 4]) torch.Size([1, 5209, 2]) torch.Size([1, 5209, 4])\n",
      "torch.Size([1, 5209, 4])\n",
      "val_loss =  0.021946296\n",
      "-----------------------------------------------------------------------\n"
     ]
    },
    {
     "data": {
      "application/vnd.jupyter.widget-view+json": {
       "model_id": "2ccaa35661934e6f8e2f738a666d960e",
       "version_major": 2,
       "version_minor": 0
      },
      "text/plain": [
       "  0%|          | 0/53 [00:00<?, ?it/s]"
      ]
     },
     "metadata": {},
     "output_type": "display_data"
    },
    {
     "name": "stdout",
     "output_type": "stream",
     "text": [
      "410\n",
      "ELBO train_loss -2.949685184460766\n",
      "mse train_loss 0.00047452496101130855\n",
      "torch.Size([1, 20837, 2]) torch.Size([1, 20837, 4]) torch.Size([1, 5209, 2]) torch.Size([1, 5209, 4])\n",
      "torch.Size([1, 5209, 4])\n",
      "val_loss =  0.017009899\n",
      "-----------------------------------------------------------------------\n"
     ]
    },
    {
     "data": {
      "application/vnd.jupyter.widget-view+json": {
       "model_id": "bc025638e0e7499dbac5f90e71df1f2d",
       "version_major": 2,
       "version_minor": 0
      },
      "text/plain": [
       "  0%|          | 0/53 [00:00<?, ?it/s]"
      ]
     },
     "metadata": {},
     "output_type": "display_data"
    },
    {
     "name": "stdout",
     "output_type": "stream",
     "text": [
      "411\n",
      "ELBO train_loss -2.9426065233518495\n",
      "mse train_loss 0.00039981614868595916\n",
      "torch.Size([1, 20837, 2]) torch.Size([1, 20837, 4]) torch.Size([1, 5209, 2]) torch.Size([1, 5209, 4])\n",
      "torch.Size([1, 5209, 4])\n",
      "val_loss =  0.022363449\n",
      "-----------------------------------------------------------------------\n"
     ]
    },
    {
     "data": {
      "application/vnd.jupyter.widget-view+json": {
       "model_id": "184545ca279d4806970327454b50faa6",
       "version_major": 2,
       "version_minor": 0
      },
      "text/plain": [
       "  0%|          | 0/53 [00:00<?, ?it/s]"
      ]
     },
     "metadata": {},
     "output_type": "display_data"
    },
    {
     "name": "stdout",
     "output_type": "stream",
     "text": [
      "412\n",
      "ELBO train_loss -2.9612483978271484\n",
      "mse train_loss 0.0003828237287344341\n",
      "torch.Size([1, 20837, 2]) torch.Size([1, 20837, 4]) torch.Size([1, 5209, 2]) torch.Size([1, 5209, 4])\n",
      "torch.Size([1, 5209, 4])\n",
      "val_loss =  0.01691817\n",
      "-----------------------------------------------------------------------\n"
     ]
    },
    {
     "data": {
      "application/vnd.jupyter.widget-view+json": {
       "model_id": "1c60d2459765480c8a095105124f5f29",
       "version_major": 2,
       "version_minor": 0
      },
      "text/plain": [
       "  0%|          | 0/53 [00:00<?, ?it/s]"
      ]
     },
     "metadata": {},
     "output_type": "display_data"
    },
    {
     "name": "stdout",
     "output_type": "stream",
     "text": [
      "413\n",
      "ELBO train_loss -2.9824393515316947\n",
      "mse train_loss 0.0003561826289921366\n",
      "torch.Size([1, 20837, 2]) torch.Size([1, 20837, 4]) torch.Size([1, 5209, 2]) torch.Size([1, 5209, 4])\n",
      "torch.Size([1, 5209, 4])\n",
      "val_loss =  0.015238111\n",
      "-----------------------------------------------------------------------\n"
     ]
    },
    {
     "data": {
      "application/vnd.jupyter.widget-view+json": {
       "model_id": "16bfa4dcdb07403497e68a982ea7cdcb",
       "version_major": 2,
       "version_minor": 0
      },
      "text/plain": [
       "  0%|          | 0/53 [00:00<?, ?it/s]"
      ]
     },
     "metadata": {},
     "output_type": "display_data"
    },
    {
     "name": "stdout",
     "output_type": "stream",
     "text": [
      "414\n",
      "ELBO train_loss -2.9551421628808074\n",
      "mse train_loss 0.0003678212112545053\n",
      "torch.Size([1, 20837, 2]) torch.Size([1, 20837, 4]) torch.Size([1, 5209, 2]) torch.Size([1, 5209, 4])\n",
      "torch.Size([1, 5209, 4])\n",
      "val_loss =  0.015870411\n",
      "-----------------------------------------------------------------------\n"
     ]
    },
    {
     "data": {
      "application/vnd.jupyter.widget-view+json": {
       "model_id": "2fbc632460de41f3aede024c745d0ce8",
       "version_major": 2,
       "version_minor": 0
      },
      "text/plain": [
       "  0%|          | 0/53 [00:00<?, ?it/s]"
      ]
     },
     "metadata": {},
     "output_type": "display_data"
    },
    {
     "name": "stdout",
     "output_type": "stream",
     "text": [
      "415\n",
      "ELBO train_loss -2.9742967272704504\n",
      "mse train_loss 0.00036756085305483484\n",
      "torch.Size([1, 20837, 2]) torch.Size([1, 20837, 4]) torch.Size([1, 5209, 2]) torch.Size([1, 5209, 4])\n",
      "torch.Size([1, 5209, 4])\n",
      "val_loss =  0.011666598\n",
      "-----------------------------------------------------------------------\n"
     ]
    },
    {
     "data": {
      "application/vnd.jupyter.widget-view+json": {
       "model_id": "e6aa059100c74d859e032d87c27cac8e",
       "version_major": 2,
       "version_minor": 0
      },
      "text/plain": [
       "  0%|          | 0/53 [00:00<?, ?it/s]"
      ]
     },
     "metadata": {},
     "output_type": "display_data"
    },
    {
     "name": "stdout",
     "output_type": "stream",
     "text": [
      "416\n",
      "ELBO train_loss -2.969380464193956\n",
      "mse train_loss 0.00035640569365328565\n",
      "torch.Size([1, 20837, 2]) torch.Size([1, 20837, 4]) torch.Size([1, 5209, 2]) torch.Size([1, 5209, 4])\n",
      "torch.Size([1, 5209, 4])\n",
      "val_loss =  0.029018532\n",
      "-----------------------------------------------------------------------\n"
     ]
    },
    {
     "data": {
      "application/vnd.jupyter.widget-view+json": {
       "model_id": "fe099447af3246dc971f50f3fc36122d",
       "version_major": 2,
       "version_minor": 0
      },
      "text/plain": [
       "  0%|          | 0/53 [00:00<?, ?it/s]"
      ]
     },
     "metadata": {},
     "output_type": "display_data"
    },
    {
     "name": "stdout",
     "output_type": "stream",
     "text": [
      "417\n",
      "ELBO train_loss -2.9653939301112913\n",
      "mse train_loss 0.0003710330954317952\n",
      "torch.Size([1, 20837, 2]) torch.Size([1, 20837, 4]) torch.Size([1, 5209, 2]) torch.Size([1, 5209, 4])\n",
      "torch.Size([1, 5209, 4])\n",
      "val_loss =  0.012506554\n",
      "-----------------------------------------------------------------------\n"
     ]
    },
    {
     "data": {
      "application/vnd.jupyter.widget-view+json": {
       "model_id": "c9081edca85e4143b81e4b397fba7c31",
       "version_major": 2,
       "version_minor": 0
      },
      "text/plain": [
       "  0%|          | 0/53 [00:00<?, ?it/s]"
      ]
     },
     "metadata": {},
     "output_type": "display_data"
    },
    {
     "name": "stdout",
     "output_type": "stream",
     "text": [
      "418\n",
      "ELBO train_loss -2.9891209467402042\n",
      "mse train_loss 0.0003624758425054474\n",
      "torch.Size([1, 20837, 2]) torch.Size([1, 20837, 4]) torch.Size([1, 5209, 2]) torch.Size([1, 5209, 4])\n",
      "torch.Size([1, 5209, 4])\n",
      "val_loss =  0.01302385\n",
      "-----------------------------------------------------------------------\n"
     ]
    },
    {
     "data": {
      "application/vnd.jupyter.widget-view+json": {
       "model_id": "13380b7f6d1c4f12a965fe59ffed0f18",
       "version_major": 2,
       "version_minor": 0
      },
      "text/plain": [
       "  0%|          | 0/53 [00:00<?, ?it/s]"
      ]
     },
     "metadata": {},
     "output_type": "display_data"
    },
    {
     "name": "stdout",
     "output_type": "stream",
     "text": [
      "419\n",
      "ELBO train_loss -2.957971266980441\n",
      "mse train_loss 0.00036546985499609155\n",
      "torch.Size([1, 20837, 2]) torch.Size([1, 20837, 4]) torch.Size([1, 5209, 2]) torch.Size([1, 5209, 4])\n",
      "torch.Size([1, 5209, 4])\n",
      "val_loss =  0.024411235\n",
      "-----------------------------------------------------------------------\n"
     ]
    },
    {
     "data": {
      "application/vnd.jupyter.widget-view+json": {
       "model_id": "b06990800d9c4bfc864d8d0b0c07268d",
       "version_major": 2,
       "version_minor": 0
      },
      "text/plain": [
       "  0%|          | 0/53 [00:00<?, ?it/s]"
      ]
     },
     "metadata": {},
     "output_type": "display_data"
    },
    {
     "name": "stdout",
     "output_type": "stream",
     "text": [
      "420\n",
      "ELBO train_loss -2.9367687522240407\n",
      "mse train_loss 0.0004244502243928541\n",
      "torch.Size([1, 20837, 2]) torch.Size([1, 20837, 4]) torch.Size([1, 5209, 2]) torch.Size([1, 5209, 4])\n",
      "torch.Size([1, 5209, 4])\n",
      "val_loss =  0.020359829\n",
      "-----------------------------------------------------------------------\n"
     ]
    },
    {
     "data": {
      "application/vnd.jupyter.widget-view+json": {
       "model_id": "1e04c367a9d840b788764591f7465e65",
       "version_major": 2,
       "version_minor": 0
      },
      "text/plain": [
       "  0%|          | 0/53 [00:00<?, ?it/s]"
      ]
     },
     "metadata": {},
     "output_type": "display_data"
    },
    {
     "name": "stdout",
     "output_type": "stream",
     "text": [
      "421\n",
      "ELBO train_loss -2.9586267471313477\n",
      "mse train_loss 0.0003715385724065544\n",
      "torch.Size([1, 20837, 2]) torch.Size([1, 20837, 4]) torch.Size([1, 5209, 2]) torch.Size([1, 5209, 4])\n",
      "torch.Size([1, 5209, 4])\n",
      "val_loss =  0.016282815\n",
      "-----------------------------------------------------------------------\n"
     ]
    },
    {
     "data": {
      "application/vnd.jupyter.widget-view+json": {
       "model_id": "47dabe55ad56483c8e48025b2eabe9ba",
       "version_major": 2,
       "version_minor": 0
      },
      "text/plain": [
       "  0%|          | 0/53 [00:00<?, ?it/s]"
      ]
     },
     "metadata": {},
     "output_type": "display_data"
    },
    {
     "name": "stdout",
     "output_type": "stream",
     "text": [
      "422\n",
      "ELBO train_loss -2.9586374489766247\n",
      "mse train_loss 0.00036368286154751296\n",
      "torch.Size([1, 20837, 2]) torch.Size([1, 20837, 4]) torch.Size([1, 5209, 2]) torch.Size([1, 5209, 4])\n",
      "torch.Size([1, 5209, 4])\n",
      "val_loss =  0.014722385\n",
      "-----------------------------------------------------------------------\n"
     ]
    },
    {
     "data": {
      "application/vnd.jupyter.widget-view+json": {
       "model_id": "3c2471706a6148a59e8f0b41903f7fa8",
       "version_major": 2,
       "version_minor": 0
      },
      "text/plain": [
       "  0%|          | 0/53 [00:00<?, ?it/s]"
      ]
     },
     "metadata": {},
     "output_type": "display_data"
    },
    {
     "name": "stdout",
     "output_type": "stream",
     "text": [
      "423\n",
      "ELBO train_loss -2.9434335614150426\n",
      "mse train_loss 0.00037559147271819693\n",
      "torch.Size([1, 20837, 2]) torch.Size([1, 20837, 4]) torch.Size([1, 5209, 2]) torch.Size([1, 5209, 4])\n",
      "torch.Size([1, 5209, 4])\n",
      "val_loss =  0.02320005\n",
      "-----------------------------------------------------------------------\n"
     ]
    },
    {
     "data": {
      "application/vnd.jupyter.widget-view+json": {
       "model_id": "fb4daf71a3ed44dfbc2cf7f64bcfe5d0",
       "version_major": 2,
       "version_minor": 0
      },
      "text/plain": [
       "  0%|          | 0/53 [00:00<?, ?it/s]"
      ]
     },
     "metadata": {},
     "output_type": "display_data"
    },
    {
     "name": "stdout",
     "output_type": "stream",
     "text": [
      "424\n",
      "ELBO train_loss -2.9634718580066033\n",
      "mse train_loss 0.0003689997412158914\n",
      "torch.Size([1, 20837, 2]) torch.Size([1, 20837, 4]) torch.Size([1, 5209, 2]) torch.Size([1, 5209, 4])\n",
      "torch.Size([1, 5209, 4])\n",
      "val_loss =  0.011423927\n",
      "-----------------------------------------------------------------------\n"
     ]
    },
    {
     "data": {
      "application/vnd.jupyter.widget-view+json": {
       "model_id": "187ece58d73545938c41e24a8a591117",
       "version_major": 2,
       "version_minor": 0
      },
      "text/plain": [
       "  0%|          | 0/53 [00:00<?, ?it/s]"
      ]
     },
     "metadata": {},
     "output_type": "display_data"
    },
    {
     "name": "stdout",
     "output_type": "stream",
     "text": [
      "425\n",
      "ELBO train_loss -2.9819765990635134\n",
      "mse train_loss 0.0003625754311456749\n",
      "torch.Size([1, 20837, 2]) torch.Size([1, 20837, 4]) torch.Size([1, 5209, 2]) torch.Size([1, 5209, 4])\n",
      "torch.Size([1, 5209, 4])\n",
      "val_loss =  0.011468711\n",
      "-----------------------------------------------------------------------\n"
     ]
    },
    {
     "data": {
      "application/vnd.jupyter.widget-view+json": {
       "model_id": "fd51d07c36234fa7b4be3a926a2664db",
       "version_major": 2,
       "version_minor": 0
      },
      "text/plain": [
       "  0%|          | 0/53 [00:00<?, ?it/s]"
      ]
     },
     "metadata": {},
     "output_type": "display_data"
    },
    {
     "name": "stdout",
     "output_type": "stream",
     "text": [
      "426\n",
      "ELBO train_loss -2.959725559882398\n",
      "mse train_loss 0.0004443954044891486\n",
      "torch.Size([1, 20837, 2]) torch.Size([1, 20837, 4]) torch.Size([1, 5209, 2]) torch.Size([1, 5209, 4])\n",
      "torch.Size([1, 5209, 4])\n",
      "val_loss =  0.012139044\n",
      "-----------------------------------------------------------------------\n"
     ]
    },
    {
     "data": {
      "application/vnd.jupyter.widget-view+json": {
       "model_id": "75be4ebf5f364013b9a24ce437d64b78",
       "version_major": 2,
       "version_minor": 0
      },
      "text/plain": [
       "  0%|          | 0/53 [00:00<?, ?it/s]"
      ]
     },
     "metadata": {},
     "output_type": "display_data"
    },
    {
     "name": "stdout",
     "output_type": "stream",
     "text": [
      "427\n",
      "ELBO train_loss -2.9671381419559695\n",
      "mse train_loss 0.00039332623418886214\n",
      "torch.Size([1, 20837, 2]) torch.Size([1, 20837, 4]) torch.Size([1, 5209, 2]) torch.Size([1, 5209, 4])\n",
      "torch.Size([1, 5209, 4])\n",
      "val_loss =  0.010311372\n",
      "-----------------------------------------------------------------------\n"
     ]
    },
    {
     "data": {
      "application/vnd.jupyter.widget-view+json": {
       "model_id": "08f03726555c4f95a91c4217d1b01391",
       "version_major": 2,
       "version_minor": 0
      },
      "text/plain": [
       "  0%|          | 0/53 [00:00<?, ?it/s]"
      ]
     },
     "metadata": {},
     "output_type": "display_data"
    },
    {
     "name": "stdout",
     "output_type": "stream",
     "text": [
      "428\n",
      "ELBO train_loss -2.9823758107311322\n",
      "mse train_loss 0.00035255876334630093\n",
      "torch.Size([1, 20837, 2]) torch.Size([1, 20837, 4]) torch.Size([1, 5209, 2]) torch.Size([1, 5209, 4])\n",
      "torch.Size([1, 5209, 4])\n",
      "val_loss =  0.010142599\n",
      "-----------------------------------------------------------------------\n"
     ]
    },
    {
     "data": {
      "application/vnd.jupyter.widget-view+json": {
       "model_id": "c037da632fb14afaa03fd88c417ad26c",
       "version_major": 2,
       "version_minor": 0
      },
      "text/plain": [
       "  0%|          | 0/53 [00:00<?, ?it/s]"
      ]
     },
     "metadata": {},
     "output_type": "display_data"
    },
    {
     "name": "stdout",
     "output_type": "stream",
     "text": [
      "429\n",
      "ELBO train_loss -2.987106012848188\n",
      "mse train_loss 0.0003539123171545073\n",
      "torch.Size([1, 20837, 2]) torch.Size([1, 20837, 4]) torch.Size([1, 5209, 2]) torch.Size([1, 5209, 4])\n",
      "torch.Size([1, 5209, 4])\n",
      "val_loss =  0.013864804\n",
      "-----------------------------------------------------------------------\n"
     ]
    },
    {
     "data": {
      "application/vnd.jupyter.widget-view+json": {
       "model_id": "6a5248096a264c17848ece077f89c789",
       "version_major": 2,
       "version_minor": 0
      },
      "text/plain": [
       "  0%|          | 0/53 [00:00<?, ?it/s]"
      ]
     },
     "metadata": {},
     "output_type": "display_data"
    },
    {
     "name": "stdout",
     "output_type": "stream",
     "text": [
      "430\n",
      "ELBO train_loss -2.965222790556134\n",
      "mse train_loss 0.0003619120524370305\n",
      "torch.Size([1, 20837, 2]) torch.Size([1, 20837, 4]) torch.Size([1, 5209, 2]) torch.Size([1, 5209, 4])\n",
      "torch.Size([1, 5209, 4])\n",
      "val_loss =  0.017827023\n",
      "-----------------------------------------------------------------------\n"
     ]
    },
    {
     "data": {
      "application/vnd.jupyter.widget-view+json": {
       "model_id": "3d817e4650b54213ab1b8d21ba7780ca",
       "version_major": 2,
       "version_minor": 0
      },
      "text/plain": [
       "  0%|          | 0/53 [00:00<?, ?it/s]"
      ]
     },
     "metadata": {},
     "output_type": "display_data"
    },
    {
     "name": "stdout",
     "output_type": "stream",
     "text": [
      "431\n",
      "ELBO train_loss -2.975477025193988\n",
      "mse train_loss 0.0003551796453736968\n",
      "torch.Size([1, 20837, 2]) torch.Size([1, 20837, 4]) torch.Size([1, 5209, 2]) torch.Size([1, 5209, 4])\n",
      "torch.Size([1, 5209, 4])\n",
      "val_loss =  0.016235348\n",
      "-----------------------------------------------------------------------\n"
     ]
    },
    {
     "data": {
      "application/vnd.jupyter.widget-view+json": {
       "model_id": "3c5ab670df8f4c0d8beae2317fa29583",
       "version_major": 2,
       "version_minor": 0
      },
      "text/plain": [
       "  0%|          | 0/53 [00:00<?, ?it/s]"
      ]
     },
     "metadata": {},
     "output_type": "display_data"
    },
    {
     "name": "stdout",
     "output_type": "stream",
     "text": [
      "432\n",
      "ELBO train_loss -2.917716253478572\n",
      "mse train_loss 0.0004261588410887305\n",
      "torch.Size([1, 20837, 2]) torch.Size([1, 20837, 4]) torch.Size([1, 5209, 2]) torch.Size([1, 5209, 4])\n",
      "torch.Size([1, 5209, 4])\n",
      "val_loss =  0.021032268\n",
      "-----------------------------------------------------------------------\n"
     ]
    },
    {
     "data": {
      "application/vnd.jupyter.widget-view+json": {
       "model_id": "b006b0b1b196405fb8d22125afe76a31",
       "version_major": 2,
       "version_minor": 0
      },
      "text/plain": [
       "  0%|          | 0/53 [00:00<?, ?it/s]"
      ]
     },
     "metadata": {},
     "output_type": "display_data"
    },
    {
     "name": "stdout",
     "output_type": "stream",
     "text": [
      "433\n",
      "ELBO train_loss -2.9340816331359574\n",
      "mse train_loss 0.00046359231631833847\n",
      "torch.Size([1, 20837, 2]) torch.Size([1, 20837, 4]) torch.Size([1, 5209, 2]) torch.Size([1, 5209, 4])\n",
      "torch.Size([1, 5209, 4])\n",
      "val_loss =  0.022387914\n",
      "-----------------------------------------------------------------------\n"
     ]
    },
    {
     "data": {
      "application/vnd.jupyter.widget-view+json": {
       "model_id": "a6994155d3f3420189b5a5a783e2b649",
       "version_major": 2,
       "version_minor": 0
      },
      "text/plain": [
       "  0%|          | 0/53 [00:00<?, ?it/s]"
      ]
     },
     "metadata": {},
     "output_type": "display_data"
    },
    {
     "name": "stdout",
     "output_type": "stream",
     "text": [
      "434\n",
      "ELBO train_loss -2.955230029124134\n",
      "mse train_loss 0.00037335404354138827\n",
      "torch.Size([1, 20837, 2]) torch.Size([1, 20837, 4]) torch.Size([1, 5209, 2]) torch.Size([1, 5209, 4])\n",
      "torch.Size([1, 5209, 4])\n",
      "val_loss =  0.013971854\n",
      "-----------------------------------------------------------------------\n"
     ]
    },
    {
     "data": {
      "application/vnd.jupyter.widget-view+json": {
       "model_id": "778b06ac3849475abbafd70872cf2bf1",
       "version_major": 2,
       "version_minor": 0
      },
      "text/plain": [
       "  0%|          | 0/53 [00:00<?, ?it/s]"
      ]
     },
     "metadata": {},
     "output_type": "display_data"
    },
    {
     "name": "stdout",
     "output_type": "stream",
     "text": [
      "435\n",
      "ELBO train_loss -2.985091398347099\n",
      "mse train_loss 0.00037548501063182176\n",
      "torch.Size([1, 20837, 2]) torch.Size([1, 20837, 4]) torch.Size([1, 5209, 2]) torch.Size([1, 5209, 4])\n",
      "torch.Size([1, 5209, 4])\n",
      "val_loss =  0.009318286\n",
      "-----------------------------------------------------------------------\n"
     ]
    },
    {
     "data": {
      "application/vnd.jupyter.widget-view+json": {
       "model_id": "388f8f500662447393d00d9fbd000ac2",
       "version_major": 2,
       "version_minor": 0
      },
      "text/plain": [
       "  0%|          | 0/53 [00:00<?, ?it/s]"
      ]
     },
     "metadata": {},
     "output_type": "display_data"
    },
    {
     "name": "stdout",
     "output_type": "stream",
     "text": [
      "436\n",
      "ELBO train_loss -2.964909983131121\n",
      "mse train_loss 0.0003640755166998133\n",
      "torch.Size([1, 20837, 2]) torch.Size([1, 20837, 4]) torch.Size([1, 5209, 2]) torch.Size([1, 5209, 4])\n",
      "torch.Size([1, 5209, 4])\n",
      "val_loss =  0.01253686\n",
      "-----------------------------------------------------------------------\n"
     ]
    },
    {
     "data": {
      "application/vnd.jupyter.widget-view+json": {
       "model_id": "b7967f3b02ce43bb8870aee1123a9924",
       "version_major": 2,
       "version_minor": 0
      },
      "text/plain": [
       "  0%|          | 0/53 [00:00<?, ?it/s]"
      ]
     },
     "metadata": {},
     "output_type": "display_data"
    },
    {
     "name": "stdout",
     "output_type": "stream",
     "text": [
      "437\n",
      "ELBO train_loss -2.9890105769319355\n",
      "mse train_loss 0.00036950887154506626\n",
      "torch.Size([1, 20837, 2]) torch.Size([1, 20837, 4]) torch.Size([1, 5209, 2]) torch.Size([1, 5209, 4])\n",
      "torch.Size([1, 5209, 4])\n",
      "val_loss =  0.011520371\n",
      "-----------------------------------------------------------------------\n"
     ]
    },
    {
     "data": {
      "application/vnd.jupyter.widget-view+json": {
       "model_id": "d19efc64446d4b8e9d6190bfbb447993",
       "version_major": 2,
       "version_minor": 0
      },
      "text/plain": [
       "  0%|          | 0/53 [00:00<?, ?it/s]"
      ]
     },
     "metadata": {},
     "output_type": "display_data"
    },
    {
     "name": "stdout",
     "output_type": "stream",
     "text": [
      "438\n",
      "ELBO train_loss -3.007365568628851\n",
      "mse train_loss 0.0003533663912094198\n",
      "torch.Size([1, 20837, 2]) torch.Size([1, 20837, 4]) torch.Size([1, 5209, 2]) torch.Size([1, 5209, 4])\n",
      "torch.Size([1, 5209, 4])\n",
      "val_loss =  0.011061987\n",
      "-----------------------------------------------------------------------\n"
     ]
    },
    {
     "data": {
      "application/vnd.jupyter.widget-view+json": {
       "model_id": "8295552ecb414121830d0f1182186b39",
       "version_major": 2,
       "version_minor": 0
      },
      "text/plain": [
       "  0%|          | 0/53 [00:00<?, ?it/s]"
      ]
     },
     "metadata": {},
     "output_type": "display_data"
    },
    {
     "name": "stdout",
     "output_type": "stream",
     "text": [
      "439\n",
      "ELBO train_loss -2.9899752364968353\n",
      "mse train_loss 0.0003660821030795012\n",
      "torch.Size([1, 20837, 2]) torch.Size([1, 20837, 4]) torch.Size([1, 5209, 2]) torch.Size([1, 5209, 4])\n",
      "torch.Size([1, 5209, 4])\n",
      "val_loss =  0.018032897\n",
      "-----------------------------------------------------------------------\n"
     ]
    },
    {
     "data": {
      "application/vnd.jupyter.widget-view+json": {
       "model_id": "16ca48e97df74e6c935674269533eeb2",
       "version_major": 2,
       "version_minor": 0
      },
      "text/plain": [
       "  0%|          | 0/53 [00:00<?, ?it/s]"
      ]
     },
     "metadata": {},
     "output_type": "display_data"
    },
    {
     "name": "stdout",
     "output_type": "stream",
     "text": [
      "440\n",
      "ELBO train_loss -2.9872064320546277\n",
      "mse train_loss 0.0003495875346245912\n",
      "torch.Size([1, 20837, 2]) torch.Size([1, 20837, 4]) torch.Size([1, 5209, 2]) torch.Size([1, 5209, 4])\n",
      "torch.Size([1, 5209, 4])\n",
      "val_loss =  0.015582264\n",
      "-----------------------------------------------------------------------\n"
     ]
    },
    {
     "data": {
      "application/vnd.jupyter.widget-view+json": {
       "model_id": "1c115e254f864ffb891c327ccaeab10b",
       "version_major": 2,
       "version_minor": 0
      },
      "text/plain": [
       "  0%|          | 0/53 [00:00<?, ?it/s]"
      ]
     },
     "metadata": {},
     "output_type": "display_data"
    },
    {
     "name": "stdout",
     "output_type": "stream",
     "text": [
      "441\n",
      "ELBO train_loss -2.9796459629850567\n",
      "mse train_loss 0.0004165112480240048\n",
      "torch.Size([1, 20837, 2]) torch.Size([1, 20837, 4]) torch.Size([1, 5209, 2]) torch.Size([1, 5209, 4])\n",
      "torch.Size([1, 5209, 4])\n",
      "val_loss =  0.014687313\n",
      "-----------------------------------------------------------------------\n"
     ]
    },
    {
     "data": {
      "application/vnd.jupyter.widget-view+json": {
       "model_id": "c84ba9b6d22b4759bcc85aadec4f6984",
       "version_major": 2,
       "version_minor": 0
      },
      "text/plain": [
       "  0%|          | 0/53 [00:00<?, ?it/s]"
      ]
     },
     "metadata": {},
     "output_type": "display_data"
    },
    {
     "name": "stdout",
     "output_type": "stream",
     "text": [
      "442\n",
      "ELBO train_loss -2.9803716596567407\n",
      "mse train_loss 0.0003727551089503082\n",
      "torch.Size([1, 20837, 2]) torch.Size([1, 20837, 4]) torch.Size([1, 5209, 2]) torch.Size([1, 5209, 4])\n",
      "torch.Size([1, 5209, 4])\n",
      "val_loss =  0.01504781\n",
      "-----------------------------------------------------------------------\n"
     ]
    },
    {
     "data": {
      "application/vnd.jupyter.widget-view+json": {
       "model_id": "57c16672ccac4c569231f77ef0936083",
       "version_major": 2,
       "version_minor": 0
      },
      "text/plain": [
       "  0%|          | 0/53 [00:00<?, ?it/s]"
      ]
     },
     "metadata": {},
     "output_type": "display_data"
    },
    {
     "name": "stdout",
     "output_type": "stream",
     "text": [
      "443\n",
      "ELBO train_loss -2.9905974864959717\n",
      "mse train_loss 0.0003485266250483516\n",
      "torch.Size([1, 20837, 2]) torch.Size([1, 20837, 4]) torch.Size([1, 5209, 2]) torch.Size([1, 5209, 4])\n",
      "torch.Size([1, 5209, 4])\n",
      "val_loss =  0.012804199\n",
      "-----------------------------------------------------------------------\n"
     ]
    },
    {
     "data": {
      "application/vnd.jupyter.widget-view+json": {
       "model_id": "dad852be099544429d7ea8f728999906",
       "version_major": 2,
       "version_minor": 0
      },
      "text/plain": [
       "  0%|          | 0/53 [00:00<?, ?it/s]"
      ]
     },
     "metadata": {},
     "output_type": "display_data"
    },
    {
     "name": "stdout",
     "output_type": "stream",
     "text": [
      "444\n",
      "ELBO train_loss -2.985573647157201\n",
      "mse train_loss 0.0003736502507960705\n",
      "torch.Size([1, 20837, 2]) torch.Size([1, 20837, 4]) torch.Size([1, 5209, 2]) torch.Size([1, 5209, 4])\n",
      "torch.Size([1, 5209, 4])\n",
      "val_loss =  0.012315167\n",
      "-----------------------------------------------------------------------\n"
     ]
    },
    {
     "data": {
      "application/vnd.jupyter.widget-view+json": {
       "model_id": "bcc77fe2ccae40a791e2ef24affa5ace",
       "version_major": 2,
       "version_minor": 0
      },
      "text/plain": [
       "  0%|          | 0/53 [00:00<?, ?it/s]"
      ]
     },
     "metadata": {},
     "output_type": "display_data"
    },
    {
     "name": "stdout",
     "output_type": "stream",
     "text": [
      "445\n",
      "ELBO train_loss -2.9997014864435734\n",
      "mse train_loss 0.0003357195429380913\n",
      "torch.Size([1, 20837, 2]) torch.Size([1, 20837, 4]) torch.Size([1, 5209, 2]) torch.Size([1, 5209, 4])\n",
      "torch.Size([1, 5209, 4])\n",
      "val_loss =  0.012831294\n",
      "-----------------------------------------------------------------------\n"
     ]
    },
    {
     "data": {
      "application/vnd.jupyter.widget-view+json": {
       "model_id": "d381191d1f1b4165b96a569cb8d0f184",
       "version_major": 2,
       "version_minor": 0
      },
      "text/plain": [
       "  0%|          | 0/53 [00:00<?, ?it/s]"
      ]
     },
     "metadata": {},
     "output_type": "display_data"
    },
    {
     "name": "stdout",
     "output_type": "stream",
     "text": [
      "446\n",
      "ELBO train_loss -2.991765764524352\n",
      "mse train_loss 0.0003581695458500312\n",
      "torch.Size([1, 20837, 2]) torch.Size([1, 20837, 4]) torch.Size([1, 5209, 2]) torch.Size([1, 5209, 4])\n",
      "torch.Size([1, 5209, 4])\n",
      "val_loss =  0.01427164\n",
      "-----------------------------------------------------------------------\n"
     ]
    },
    {
     "data": {
      "application/vnd.jupyter.widget-view+json": {
       "model_id": "2c944fcb62cb41c1b57d138c72c2e28b",
       "version_major": 2,
       "version_minor": 0
      },
      "text/plain": [
       "  0%|          | 0/53 [00:00<?, ?it/s]"
      ]
     },
     "metadata": {},
     "output_type": "display_data"
    },
    {
     "name": "stdout",
     "output_type": "stream",
     "text": [
      "447\n",
      "ELBO train_loss -2.997405583003782\n",
      "mse train_loss 0.0003486521570077869\n",
      "torch.Size([1, 20837, 2]) torch.Size([1, 20837, 4]) torch.Size([1, 5209, 2]) torch.Size([1, 5209, 4])\n",
      "torch.Size([1, 5209, 4])\n",
      "val_loss =  0.012486503\n",
      "-----------------------------------------------------------------------\n"
     ]
    },
    {
     "data": {
      "application/vnd.jupyter.widget-view+json": {
       "model_id": "263ba23b3edc491d85ef1bc683d6f3a4",
       "version_major": 2,
       "version_minor": 0
      },
      "text/plain": [
       "  0%|          | 0/53 [00:00<?, ?it/s]"
      ]
     },
     "metadata": {},
     "output_type": "display_data"
    },
    {
     "name": "stdout",
     "output_type": "stream",
     "text": [
      "448\n",
      "ELBO train_loss -2.9908531206958697\n",
      "mse train_loss 0.0003777758802072022\n",
      "torch.Size([1, 20837, 2]) torch.Size([1, 20837, 4]) torch.Size([1, 5209, 2]) torch.Size([1, 5209, 4])\n",
      "torch.Size([1, 5209, 4])\n",
      "val_loss =  0.015061377\n",
      "-----------------------------------------------------------------------\n"
     ]
    },
    {
     "data": {
      "application/vnd.jupyter.widget-view+json": {
       "model_id": "ab17c4a02eb947ee801aafffeefee5da",
       "version_major": 2,
       "version_minor": 0
      },
      "text/plain": [
       "  0%|          | 0/53 [00:00<?, ?it/s]"
      ]
     },
     "metadata": {},
     "output_type": "display_data"
    },
    {
     "name": "stdout",
     "output_type": "stream",
     "text": [
      "449\n",
      "ELBO train_loss -2.992982598970521\n",
      "mse train_loss 0.0003635631263297807\n",
      "torch.Size([1, 20837, 2]) torch.Size([1, 20837, 4]) torch.Size([1, 5209, 2]) torch.Size([1, 5209, 4])\n",
      "torch.Size([1, 5209, 4])\n",
      "val_loss =  0.012238546\n",
      "-----------------------------------------------------------------------\n"
     ]
    },
    {
     "data": {
      "application/vnd.jupyter.widget-view+json": {
       "model_id": "d575e80e9ae74d9e925e844484e478de",
       "version_major": 2,
       "version_minor": 0
      },
      "text/plain": [
       "  0%|          | 0/53 [00:00<?, ?it/s]"
      ]
     },
     "metadata": {},
     "output_type": "display_data"
    },
    {
     "name": "stdout",
     "output_type": "stream",
     "text": [
      "450\n",
      "ELBO train_loss -2.9874682966268287\n",
      "mse train_loss 0.0003674985401064403\n",
      "torch.Size([1, 20837, 2]) torch.Size([1, 20837, 4]) torch.Size([1, 5209, 2]) torch.Size([1, 5209, 4])\n",
      "torch.Size([1, 5209, 4])\n",
      "val_loss =  0.015844837\n",
      "-----------------------------------------------------------------------\n"
     ]
    },
    {
     "data": {
      "application/vnd.jupyter.widget-view+json": {
       "model_id": "9d740aecae3344b69cb094ef07577c26",
       "version_major": 2,
       "version_minor": 0
      },
      "text/plain": [
       "  0%|          | 0/53 [00:00<?, ?it/s]"
      ]
     },
     "metadata": {},
     "output_type": "display_data"
    },
    {
     "name": "stdout",
     "output_type": "stream",
     "text": [
      "451\n",
      "ELBO train_loss -2.9792039529332577\n",
      "mse train_loss 0.0003678066285880599\n",
      "torch.Size([1, 20837, 2]) torch.Size([1, 20837, 4]) torch.Size([1, 5209, 2]) torch.Size([1, 5209, 4])\n",
      "torch.Size([1, 5209, 4])\n",
      "val_loss =  0.01266623\n",
      "-----------------------------------------------------------------------\n"
     ]
    },
    {
     "data": {
      "application/vnd.jupyter.widget-view+json": {
       "model_id": "8e6ce0d688224531a79ab37404352551",
       "version_major": 2,
       "version_minor": 0
      },
      "text/plain": [
       "  0%|          | 0/53 [00:00<?, ?it/s]"
      ]
     },
     "metadata": {},
     "output_type": "display_data"
    },
    {
     "name": "stdout",
     "output_type": "stream",
     "text": [
      "452\n",
      "ELBO train_loss -2.989597536482901\n",
      "mse train_loss 0.0003687829846727117\n",
      "torch.Size([1, 20837, 2]) torch.Size([1, 20837, 4]) torch.Size([1, 5209, 2]) torch.Size([1, 5209, 4])\n",
      "torch.Size([1, 5209, 4])\n",
      "val_loss =  0.018264836\n",
      "-----------------------------------------------------------------------\n"
     ]
    },
    {
     "data": {
      "application/vnd.jupyter.widget-view+json": {
       "model_id": "742477007eda4f1fb5829b2e26a263f6",
       "version_major": 2,
       "version_minor": 0
      },
      "text/plain": [
       "  0%|          | 0/53 [00:00<?, ?it/s]"
      ]
     },
     "metadata": {},
     "output_type": "display_data"
    },
    {
     "name": "stdout",
     "output_type": "stream",
     "text": [
      "453\n",
      "ELBO train_loss -2.990742170585776\n",
      "mse train_loss 0.0003637714216206662\n",
      "torch.Size([1, 20837, 2]) torch.Size([1, 20837, 4]) torch.Size([1, 5209, 2]) torch.Size([1, 5209, 4])\n",
      "torch.Size([1, 5209, 4])\n",
      "val_loss =  0.015368823\n",
      "-----------------------------------------------------------------------\n"
     ]
    },
    {
     "data": {
      "application/vnd.jupyter.widget-view+json": {
       "model_id": "3666308ae3a346f0a9e7fc8e787e958a",
       "version_major": 2,
       "version_minor": 0
      },
      "text/plain": [
       "  0%|          | 0/53 [00:00<?, ?it/s]"
      ]
     },
     "metadata": {},
     "output_type": "display_data"
    },
    {
     "name": "stdout",
     "output_type": "stream",
     "text": [
      "454\n",
      "ELBO train_loss -2.9929688201760345\n",
      "mse train_loss 0.0003567018177149431\n",
      "torch.Size([1, 20837, 2]) torch.Size([1, 20837, 4]) torch.Size([1, 5209, 2]) torch.Size([1, 5209, 4])\n",
      "torch.Size([1, 5209, 4])\n",
      "val_loss =  0.01096373\n",
      "-----------------------------------------------------------------------\n"
     ]
    },
    {
     "data": {
      "application/vnd.jupyter.widget-view+json": {
       "model_id": "a89daf758d08426ca50abd91cccc0fd8",
       "version_major": 2,
       "version_minor": 0
      },
      "text/plain": [
       "  0%|          | 0/53 [00:00<?, ?it/s]"
      ]
     },
     "metadata": {},
     "output_type": "display_data"
    },
    {
     "name": "stdout",
     "output_type": "stream",
     "text": [
      "455\n",
      "ELBO train_loss -2.984829358334811\n",
      "mse train_loss 0.0004307974826210653\n",
      "torch.Size([1, 20837, 2]) torch.Size([1, 20837, 4]) torch.Size([1, 5209, 2]) torch.Size([1, 5209, 4])\n",
      "torch.Size([1, 5209, 4])\n",
      "val_loss =  0.011658567\n",
      "-----------------------------------------------------------------------\n"
     ]
    },
    {
     "data": {
      "application/vnd.jupyter.widget-view+json": {
       "model_id": "d49bb13832214b759a2bf141d93ab9c2",
       "version_major": 2,
       "version_minor": 0
      },
      "text/plain": [
       "  0%|          | 0/53 [00:00<?, ?it/s]"
      ]
     },
     "metadata": {},
     "output_type": "display_data"
    },
    {
     "name": "stdout",
     "output_type": "stream",
     "text": [
      "456\n",
      "ELBO train_loss -3.0041734497502164\n",
      "mse train_loss 0.000356404539933516\n",
      "torch.Size([1, 20837, 2]) torch.Size([1, 20837, 4]) torch.Size([1, 5209, 2]) torch.Size([1, 5209, 4])\n",
      "torch.Size([1, 5209, 4])\n",
      "val_loss =  0.011410241\n",
      "-----------------------------------------------------------------------\n"
     ]
    },
    {
     "data": {
      "application/vnd.jupyter.widget-view+json": {
       "model_id": "09720af707374bce8e4a1b7635e7cac9",
       "version_major": 2,
       "version_minor": 0
      },
      "text/plain": [
       "  0%|          | 0/53 [00:00<?, ?it/s]"
      ]
     },
     "metadata": {},
     "output_type": "display_data"
    },
    {
     "name": "stdout",
     "output_type": "stream",
     "text": [
      "457\n",
      "ELBO train_loss -2.9910787726348302\n",
      "mse train_loss 0.00036603717527677356\n",
      "torch.Size([1, 20837, 2]) torch.Size([1, 20837, 4]) torch.Size([1, 5209, 2]) torch.Size([1, 5209, 4])\n",
      "torch.Size([1, 5209, 4])\n",
      "val_loss =  0.017063694\n",
      "-----------------------------------------------------------------------\n"
     ]
    },
    {
     "data": {
      "application/vnd.jupyter.widget-view+json": {
       "model_id": "98aa6b2359de4f8b8086a00a2eb73226",
       "version_major": 2,
       "version_minor": 0
      },
      "text/plain": [
       "  0%|          | 0/53 [00:00<?, ?it/s]"
      ]
     },
     "metadata": {},
     "output_type": "display_data"
    },
    {
     "name": "stdout",
     "output_type": "stream",
     "text": [
      "458\n",
      "ELBO train_loss -2.9818866567791633\n",
      "mse train_loss 0.00035515166808113035\n",
      "torch.Size([1, 20837, 2]) torch.Size([1, 20837, 4]) torch.Size([1, 5209, 2]) torch.Size([1, 5209, 4])\n",
      "torch.Size([1, 5209, 4])\n",
      "val_loss =  0.01845074\n",
      "-----------------------------------------------------------------------\n"
     ]
    },
    {
     "data": {
      "application/vnd.jupyter.widget-view+json": {
       "model_id": "1031b272e7ea4f7780832ecd454beaef",
       "version_major": 2,
       "version_minor": 0
      },
      "text/plain": [
       "  0%|          | 0/53 [00:00<?, ?it/s]"
      ]
     },
     "metadata": {},
     "output_type": "display_data"
    },
    {
     "name": "stdout",
     "output_type": "stream",
     "text": [
      "459\n",
      "ELBO train_loss -2.9868062982019388\n",
      "mse train_loss 0.00035300024017419245\n",
      "torch.Size([1, 20837, 2]) torch.Size([1, 20837, 4]) torch.Size([1, 5209, 2]) torch.Size([1, 5209, 4])\n",
      "torch.Size([1, 5209, 4])\n",
      "val_loss =  0.021548752\n",
      "-----------------------------------------------------------------------\n"
     ]
    },
    {
     "data": {
      "application/vnd.jupyter.widget-view+json": {
       "model_id": "9e00ee97197b4692b6149e0d3cd6a8ad",
       "version_major": 2,
       "version_minor": 0
      },
      "text/plain": [
       "  0%|          | 0/53 [00:00<?, ?it/s]"
      ]
     },
     "metadata": {},
     "output_type": "display_data"
    },
    {
     "name": "stdout",
     "output_type": "stream",
     "text": [
      "460\n",
      "ELBO train_loss -2.996818227588006\n",
      "mse train_loss 0.00037239799643910647\n",
      "torch.Size([1, 20837, 2]) torch.Size([1, 20837, 4]) torch.Size([1, 5209, 2]) torch.Size([1, 5209, 4])\n",
      "torch.Size([1, 5209, 4])\n",
      "val_loss =  0.01189068\n",
      "-----------------------------------------------------------------------\n"
     ]
    },
    {
     "data": {
      "application/vnd.jupyter.widget-view+json": {
       "model_id": "90084214e0604eb0bddc1b81ace8ce27",
       "version_major": 2,
       "version_minor": 0
      },
      "text/plain": [
       "  0%|          | 0/53 [00:00<?, ?it/s]"
      ]
     },
     "metadata": {},
     "output_type": "display_data"
    },
    {
     "name": "stdout",
     "output_type": "stream",
     "text": [
      "461\n",
      "ELBO train_loss -2.9552131104019455\n",
      "mse train_loss 0.00042870650858671034\n",
      "torch.Size([1, 20837, 2]) torch.Size([1, 20837, 4]) torch.Size([1, 5209, 2]) torch.Size([1, 5209, 4])\n",
      "torch.Size([1, 5209, 4])\n",
      "val_loss =  0.010089973\n",
      "-----------------------------------------------------------------------\n"
     ]
    },
    {
     "data": {
      "application/vnd.jupyter.widget-view+json": {
       "model_id": "5687696eb7b24631bce8b6dff333cd5b",
       "version_major": 2,
       "version_minor": 0
      },
      "text/plain": [
       "  0%|          | 0/53 [00:00<?, ?it/s]"
      ]
     },
     "metadata": {},
     "output_type": "display_data"
    },
    {
     "name": "stdout",
     "output_type": "stream",
     "text": [
      "462\n",
      "ELBO train_loss -2.986301318654474\n",
      "mse train_loss 0.0003696862560969268\n",
      "torch.Size([1, 20837, 2]) torch.Size([1, 20837, 4]) torch.Size([1, 5209, 2]) torch.Size([1, 5209, 4])\n",
      "torch.Size([1, 5209, 4])\n",
      "val_loss =  0.018018583\n",
      "-----------------------------------------------------------------------\n"
     ]
    },
    {
     "data": {
      "application/vnd.jupyter.widget-view+json": {
       "model_id": "9b3ea01bfe88482e9836168103eb21b4",
       "version_major": 2,
       "version_minor": 0
      },
      "text/plain": [
       "  0%|          | 0/53 [00:00<?, ?it/s]"
      ]
     },
     "metadata": {},
     "output_type": "display_data"
    },
    {
     "name": "stdout",
     "output_type": "stream",
     "text": [
      "463\n",
      "ELBO train_loss -2.8139544972833597\n",
      "mse train_loss 0.0003811599470385052\n",
      "torch.Size([1, 20837, 2]) torch.Size([1, 20837, 4]) torch.Size([1, 5209, 2]) torch.Size([1, 5209, 4])\n",
      "torch.Size([1, 5209, 4])\n",
      "val_loss =  0.030825162\n",
      "-----------------------------------------------------------------------\n"
     ]
    },
    {
     "data": {
      "application/vnd.jupyter.widget-view+json": {
       "model_id": "c8b2a0321c86447b9c77a1c01b81c5c4",
       "version_major": 2,
       "version_minor": 0
      },
      "text/plain": [
       "  0%|          | 0/53 [00:00<?, ?it/s]"
      ]
     },
     "metadata": {},
     "output_type": "display_data"
    },
    {
     "name": "stdout",
     "output_type": "stream",
     "text": [
      "464\n",
      "ELBO train_loss -2.895920164180252\n",
      "mse train_loss 0.00039955719845272814\n",
      "torch.Size([1, 20837, 2]) torch.Size([1, 20837, 4]) torch.Size([1, 5209, 2]) torch.Size([1, 5209, 4])\n",
      "torch.Size([1, 5209, 4])\n",
      "val_loss =  0.021895662\n",
      "-----------------------------------------------------------------------\n"
     ]
    },
    {
     "data": {
      "application/vnd.jupyter.widget-view+json": {
       "model_id": "ce740101ed4b413fb62415a05acda1c1",
       "version_major": 2,
       "version_minor": 0
      },
      "text/plain": [
       "  0%|          | 0/53 [00:00<?, ?it/s]"
      ]
     },
     "metadata": {},
     "output_type": "display_data"
    },
    {
     "name": "stdout",
     "output_type": "stream",
     "text": [
      "465\n",
      "ELBO train_loss -2.9473216038829877\n",
      "mse train_loss 0.00042611182494888537\n",
      "torch.Size([1, 20837, 2]) torch.Size([1, 20837, 4]) torch.Size([1, 5209, 2]) torch.Size([1, 5209, 4])\n",
      "torch.Size([1, 5209, 4])\n",
      "val_loss =  0.013263225\n",
      "-----------------------------------------------------------------------\n"
     ]
    },
    {
     "data": {
      "application/vnd.jupyter.widget-view+json": {
       "model_id": "d1b186f6ec484a20b02495c8cc07f885",
       "version_major": 2,
       "version_minor": 0
      },
      "text/plain": [
       "  0%|          | 0/53 [00:00<?, ?it/s]"
      ]
     },
     "metadata": {},
     "output_type": "display_data"
    },
    {
     "name": "stdout",
     "output_type": "stream",
     "text": [
      "466\n",
      "ELBO train_loss -2.9796244018482714\n",
      "mse train_loss 0.0004384460186866938\n",
      "torch.Size([1, 20837, 2]) torch.Size([1, 20837, 4]) torch.Size([1, 5209, 2]) torch.Size([1, 5209, 4])\n",
      "torch.Size([1, 5209, 4])\n",
      "val_loss =  0.014336251\n",
      "-----------------------------------------------------------------------\n"
     ]
    },
    {
     "data": {
      "application/vnd.jupyter.widget-view+json": {
       "model_id": "90381207fc75400c990b85856d157bce",
       "version_major": 2,
       "version_minor": 0
      },
      "text/plain": [
       "  0%|          | 0/53 [00:00<?, ?it/s]"
      ]
     },
     "metadata": {},
     "output_type": "display_data"
    },
    {
     "name": "stdout",
     "output_type": "stream",
     "text": [
      "467\n",
      "ELBO train_loss -2.995923393177536\n",
      "mse train_loss 0.0003489277798919675\n",
      "torch.Size([1, 20837, 2]) torch.Size([1, 20837, 4]) torch.Size([1, 5209, 2]) torch.Size([1, 5209, 4])\n",
      "torch.Size([1, 5209, 4])\n",
      "val_loss =  0.010210706\n",
      "-----------------------------------------------------------------------\n"
     ]
    },
    {
     "data": {
      "application/vnd.jupyter.widget-view+json": {
       "model_id": "80356daec973444f9d23a72c4f397e9c",
       "version_major": 2,
       "version_minor": 0
      },
      "text/plain": [
       "  0%|          | 0/53 [00:00<?, ?it/s]"
      ]
     },
     "metadata": {},
     "output_type": "display_data"
    },
    {
     "name": "stdout",
     "output_type": "stream",
     "text": [
      "468\n",
      "ELBO train_loss -3.0082861882335736\n",
      "mse train_loss 0.00036061073780797843\n",
      "torch.Size([1, 20837, 2]) torch.Size([1, 20837, 4]) torch.Size([1, 5209, 2]) torch.Size([1, 5209, 4])\n",
      "torch.Size([1, 5209, 4])\n",
      "val_loss =  0.010869487\n",
      "-----------------------------------------------------------------------\n"
     ]
    },
    {
     "data": {
      "application/vnd.jupyter.widget-view+json": {
       "model_id": "c92ce488aa20403a9800e2324f8b510f",
       "version_major": 2,
       "version_minor": 0
      },
      "text/plain": [
       "  0%|          | 0/53 [00:00<?, ?it/s]"
      ]
     },
     "metadata": {},
     "output_type": "display_data"
    },
    {
     "name": "stdout",
     "output_type": "stream",
     "text": [
      "469\n",
      "ELBO train_loss -3.010650378353191\n",
      "mse train_loss 0.00035491401828245596\n",
      "torch.Size([1, 20837, 2]) torch.Size([1, 20837, 4]) torch.Size([1, 5209, 2]) torch.Size([1, 5209, 4])\n",
      "torch.Size([1, 5209, 4])\n",
      "val_loss =  0.012135844\n",
      "-----------------------------------------------------------------------\n"
     ]
    },
    {
     "data": {
      "application/vnd.jupyter.widget-view+json": {
       "model_id": "02e72fbf2e074de58088e345938c3548",
       "version_major": 2,
       "version_minor": 0
      },
      "text/plain": [
       "  0%|          | 0/53 [00:00<?, ?it/s]"
      ]
     },
     "metadata": {},
     "output_type": "display_data"
    },
    {
     "name": "stdout",
     "output_type": "stream",
     "text": [
      "470\n",
      "ELBO train_loss -2.9751142803228126\n",
      "mse train_loss 0.0003609719756498652\n",
      "torch.Size([1, 20837, 2]) torch.Size([1, 20837, 4]) torch.Size([1, 5209, 2]) torch.Size([1, 5209, 4])\n",
      "torch.Size([1, 5209, 4])\n",
      "val_loss =  0.012931635\n",
      "-----------------------------------------------------------------------\n"
     ]
    },
    {
     "data": {
      "application/vnd.jupyter.widget-view+json": {
       "model_id": "47358fc424264c7d865a396f78bf23a8",
       "version_major": 2,
       "version_minor": 0
      },
      "text/plain": [
       "  0%|          | 0/53 [00:00<?, ?it/s]"
      ]
     },
     "metadata": {},
     "output_type": "display_data"
    },
    {
     "name": "stdout",
     "output_type": "stream",
     "text": [
      "471\n",
      "ELBO train_loss -2.9761626315566727\n",
      "mse train_loss 0.0003526705852050756\n",
      "torch.Size([1, 20837, 2]) torch.Size([1, 20837, 4]) torch.Size([1, 5209, 2]) torch.Size([1, 5209, 4])\n",
      "torch.Size([1, 5209, 4])\n",
      "val_loss =  0.010397351\n",
      "-----------------------------------------------------------------------\n"
     ]
    },
    {
     "data": {
      "application/vnd.jupyter.widget-view+json": {
       "model_id": "b623cd9ab4844d3c82e6490298b37a2c",
       "version_major": 2,
       "version_minor": 0
      },
      "text/plain": [
       "  0%|          | 0/53 [00:00<?, ?it/s]"
      ]
     },
     "metadata": {},
     "output_type": "display_data"
    },
    {
     "name": "stdout",
     "output_type": "stream",
     "text": [
      "472\n",
      "ELBO train_loss -2.997911619690229\n",
      "mse train_loss 0.00036990243111262625\n",
      "torch.Size([1, 20837, 2]) torch.Size([1, 20837, 4]) torch.Size([1, 5209, 2]) torch.Size([1, 5209, 4])\n",
      "torch.Size([1, 5209, 4])\n",
      "val_loss =  0.01240684\n",
      "-----------------------------------------------------------------------\n"
     ]
    },
    {
     "data": {
      "application/vnd.jupyter.widget-view+json": {
       "model_id": "b65075387ca44f0980175761a8a997aa",
       "version_major": 2,
       "version_minor": 0
      },
      "text/plain": [
       "  0%|          | 0/53 [00:00<?, ?it/s]"
      ]
     },
     "metadata": {},
     "output_type": "display_data"
    },
    {
     "name": "stdout",
     "output_type": "stream",
     "text": [
      "473\n",
      "ELBO train_loss -3.0044726695654527\n",
      "mse train_loss 0.00036284664425041246\n",
      "torch.Size([1, 20837, 2]) torch.Size([1, 20837, 4]) torch.Size([1, 5209, 2]) torch.Size([1, 5209, 4])\n",
      "torch.Size([1, 5209, 4])\n",
      "val_loss =  0.012946015\n",
      "-----------------------------------------------------------------------\n"
     ]
    },
    {
     "data": {
      "application/vnd.jupyter.widget-view+json": {
       "model_id": "1699b3c5e3dc4ded86499459d1cfbd82",
       "version_major": 2,
       "version_minor": 0
      },
      "text/plain": [
       "  0%|          | 0/53 [00:00<?, ?it/s]"
      ]
     },
     "metadata": {},
     "output_type": "display_data"
    },
    {
     "name": "stdout",
     "output_type": "stream",
     "text": [
      "474\n",
      "ELBO train_loss -2.979237419254375\n",
      "mse train_loss 0.0003667636812919364\n",
      "torch.Size([1, 20837, 2]) torch.Size([1, 20837, 4]) torch.Size([1, 5209, 2]) torch.Size([1, 5209, 4])\n",
      "torch.Size([1, 5209, 4])\n",
      "val_loss =  0.01876908\n",
      "-----------------------------------------------------------------------\n"
     ]
    },
    {
     "data": {
      "application/vnd.jupyter.widget-view+json": {
       "model_id": "3f30ed283d38490690a4209b68555612",
       "version_major": 2,
       "version_minor": 0
      },
      "text/plain": [
       "  0%|          | 0/53 [00:00<?, ?it/s]"
      ]
     },
     "metadata": {},
     "output_type": "display_data"
    },
    {
     "name": "stdout",
     "output_type": "stream",
     "text": [
      "475\n",
      "ELBO train_loss -2.960313122227507\n",
      "mse train_loss 0.0003774207440108272\n",
      "torch.Size([1, 20837, 2]) torch.Size([1, 20837, 4]) torch.Size([1, 5209, 2]) torch.Size([1, 5209, 4])\n",
      "torch.Size([1, 5209, 4])\n",
      "val_loss =  0.012814902\n",
      "-----------------------------------------------------------------------\n"
     ]
    },
    {
     "data": {
      "application/vnd.jupyter.widget-view+json": {
       "model_id": "b3d47460dacb491396927b4f1c9b337b",
       "version_major": 2,
       "version_minor": 0
      },
      "text/plain": [
       "  0%|          | 0/53 [00:00<?, ?it/s]"
      ]
     },
     "metadata": {},
     "output_type": "display_data"
    },
    {
     "name": "stdout",
     "output_type": "stream",
     "text": [
      "476\n",
      "ELBO train_loss -2.9168880075778603\n",
      "mse train_loss 0.00036911520929040634\n",
      "torch.Size([1, 20837, 2]) torch.Size([1, 20837, 4]) torch.Size([1, 5209, 2]) torch.Size([1, 5209, 4])\n",
      "torch.Size([1, 5209, 4])\n",
      "val_loss =  0.03337346\n",
      "-----------------------------------------------------------------------\n"
     ]
    },
    {
     "data": {
      "application/vnd.jupyter.widget-view+json": {
       "model_id": "fda6533268de45638a828e33715f0799",
       "version_major": 2,
       "version_minor": 0
      },
      "text/plain": [
       "  0%|          | 0/53 [00:00<?, ?it/s]"
      ]
     },
     "metadata": {},
     "output_type": "display_data"
    },
    {
     "name": "stdout",
     "output_type": "stream",
     "text": [
      "477\n",
      "ELBO train_loss -2.9118484955913617\n",
      "mse train_loss 0.00040678813381401715\n",
      "torch.Size([1, 20837, 2]) torch.Size([1, 20837, 4]) torch.Size([1, 5209, 2]) torch.Size([1, 5209, 4])\n",
      "torch.Size([1, 5209, 4])\n",
      "val_loss =  0.022122564\n",
      "-----------------------------------------------------------------------\n"
     ]
    },
    {
     "data": {
      "application/vnd.jupyter.widget-view+json": {
       "model_id": "5d84b8410802411e8ae5d285919aa734",
       "version_major": 2,
       "version_minor": 0
      },
      "text/plain": [
       "  0%|          | 0/53 [00:00<?, ?it/s]"
      ]
     },
     "metadata": {},
     "output_type": "display_data"
    },
    {
     "name": "stdout",
     "output_type": "stream",
     "text": [
      "478\n",
      "ELBO train_loss -2.9561525020959243\n",
      "mse train_loss 0.0003710345001034614\n",
      "torch.Size([1, 20837, 2]) torch.Size([1, 20837, 4]) torch.Size([1, 5209, 2]) torch.Size([1, 5209, 4])\n",
      "torch.Size([1, 5209, 4])\n",
      "val_loss =  0.019590514\n",
      "-----------------------------------------------------------------------\n"
     ]
    },
    {
     "data": {
      "application/vnd.jupyter.widget-view+json": {
       "model_id": "0bb83321363645c99386ac90ea12078f",
       "version_major": 2,
       "version_minor": 0
      },
      "text/plain": [
       "  0%|          | 0/53 [00:00<?, ?it/s]"
      ]
     },
     "metadata": {},
     "output_type": "display_data"
    },
    {
     "name": "stdout",
     "output_type": "stream",
     "text": [
      "479\n",
      "ELBO train_loss -2.959011433259496\n",
      "mse train_loss 0.00037649411456615507\n",
      "torch.Size([1, 20837, 2]) torch.Size([1, 20837, 4]) torch.Size([1, 5209, 2]) torch.Size([1, 5209, 4])\n",
      "torch.Size([1, 5209, 4])\n",
      "val_loss =  0.013143368\n",
      "-----------------------------------------------------------------------\n"
     ]
    },
    {
     "data": {
      "application/vnd.jupyter.widget-view+json": {
       "model_id": "17d0d61fcfe74e6b8682ac327a451d0c",
       "version_major": 2,
       "version_minor": 0
      },
      "text/plain": [
       "  0%|          | 0/53 [00:00<?, ?it/s]"
      ]
     },
     "metadata": {},
     "output_type": "display_data"
    },
    {
     "name": "stdout",
     "output_type": "stream",
     "text": [
      "480\n",
      "ELBO train_loss -2.943461537361145\n",
      "mse train_loss 0.00038332859397962476\n",
      "torch.Size([1, 20837, 2]) torch.Size([1, 20837, 4]) torch.Size([1, 5209, 2]) torch.Size([1, 5209, 4])\n",
      "torch.Size([1, 5209, 4])\n",
      "val_loss =  0.017345652\n",
      "-----------------------------------------------------------------------\n"
     ]
    },
    {
     "data": {
      "application/vnd.jupyter.widget-view+json": {
       "model_id": "33c529ecd27b4879b9386b03e3ba67b3",
       "version_major": 2,
       "version_minor": 0
      },
      "text/plain": [
       "  0%|          | 0/53 [00:00<?, ?it/s]"
      ]
     },
     "metadata": {},
     "output_type": "display_data"
    },
    {
     "name": "stdout",
     "output_type": "stream",
     "text": [
      "481\n",
      "ELBO train_loss -2.940511663005037\n",
      "mse train_loss 0.00037937580233325587\n",
      "torch.Size([1, 20837, 2]) torch.Size([1, 20837, 4]) torch.Size([1, 5209, 2]) torch.Size([1, 5209, 4])\n",
      "torch.Size([1, 5209, 4])\n",
      "val_loss =  0.013944931\n",
      "-----------------------------------------------------------------------\n"
     ]
    },
    {
     "data": {
      "application/vnd.jupyter.widget-view+json": {
       "model_id": "59f0de406b7640198903d3ee98577c91",
       "version_major": 2,
       "version_minor": 0
      },
      "text/plain": [
       "  0%|          | 0/53 [00:00<?, ?it/s]"
      ]
     },
     "metadata": {},
     "output_type": "display_data"
    },
    {
     "name": "stdout",
     "output_type": "stream",
     "text": [
      "482\n",
      "ELBO train_loss -2.984730711523092\n",
      "mse train_loss 0.0003723623005910513\n",
      "torch.Size([1, 20837, 2]) torch.Size([1, 20837, 4]) torch.Size([1, 5209, 2]) torch.Size([1, 5209, 4])\n",
      "torch.Size([1, 5209, 4])\n",
      "val_loss =  0.012768371\n",
      "-----------------------------------------------------------------------\n"
     ]
    },
    {
     "data": {
      "application/vnd.jupyter.widget-view+json": {
       "model_id": "09756a1fd91d45ce814e67f99927ce62",
       "version_major": 2,
       "version_minor": 0
      },
      "text/plain": [
       "  0%|          | 0/53 [00:00<?, ?it/s]"
      ]
     },
     "metadata": {},
     "output_type": "display_data"
    },
    {
     "name": "stdout",
     "output_type": "stream",
     "text": [
      "483\n",
      "ELBO train_loss -2.968183458976026\n",
      "mse train_loss 0.000383004015981536\n",
      "torch.Size([1, 20837, 2]) torch.Size([1, 20837, 4]) torch.Size([1, 5209, 2]) torch.Size([1, 5209, 4])\n",
      "torch.Size([1, 5209, 4])\n",
      "val_loss =  0.011765065\n",
      "-----------------------------------------------------------------------\n"
     ]
    },
    {
     "data": {
      "application/vnd.jupyter.widget-view+json": {
       "model_id": "2ec5a6156d4641c5aa5d79e3e7c50472",
       "version_major": 2,
       "version_minor": 0
      },
      "text/plain": [
       "  0%|          | 0/53 [00:00<?, ?it/s]"
      ]
     },
     "metadata": {},
     "output_type": "display_data"
    },
    {
     "name": "stdout",
     "output_type": "stream",
     "text": [
      "484\n",
      "ELBO train_loss -2.9678228936105406\n",
      "mse train_loss 0.00038664510368176225\n",
      "torch.Size([1, 20837, 2]) torch.Size([1, 20837, 4]) torch.Size([1, 5209, 2]) torch.Size([1, 5209, 4])\n",
      "torch.Size([1, 5209, 4])\n",
      "val_loss =  0.011820395\n",
      "-----------------------------------------------------------------------\n"
     ]
    },
    {
     "data": {
      "application/vnd.jupyter.widget-view+json": {
       "model_id": "d1ecf87cdfdf432a8af93ee68d06af2a",
       "version_major": 2,
       "version_minor": 0
      },
      "text/plain": [
       "  0%|          | 0/53 [00:00<?, ?it/s]"
      ]
     },
     "metadata": {},
     "output_type": "display_data"
    },
    {
     "name": "stdout",
     "output_type": "stream",
     "text": [
      "485\n",
      "ELBO train_loss -2.9738858690801657\n",
      "mse train_loss 0.00036914371841428975\n",
      "torch.Size([1, 20837, 2]) torch.Size([1, 20837, 4]) torch.Size([1, 5209, 2]) torch.Size([1, 5209, 4])\n",
      "torch.Size([1, 5209, 4])\n",
      "val_loss =  0.0147032505\n",
      "-----------------------------------------------------------------------\n"
     ]
    },
    {
     "data": {
      "application/vnd.jupyter.widget-view+json": {
       "model_id": "a6a5f8be965e4291a3edaace05b105f0",
       "version_major": 2,
       "version_minor": 0
      },
      "text/plain": [
       "  0%|          | 0/53 [00:00<?, ?it/s]"
      ]
     },
     "metadata": {},
     "output_type": "display_data"
    },
    {
     "name": "stdout",
     "output_type": "stream",
     "text": [
      "486\n",
      "ELBO train_loss -2.9913501694517315\n",
      "mse train_loss 0.0003606863987065395\n",
      "torch.Size([1, 20837, 2]) torch.Size([1, 20837, 4]) torch.Size([1, 5209, 2]) torch.Size([1, 5209, 4])\n",
      "torch.Size([1, 5209, 4])\n",
      "val_loss =  0.009626982\n",
      "-----------------------------------------------------------------------\n"
     ]
    },
    {
     "data": {
      "application/vnd.jupyter.widget-view+json": {
       "model_id": "bff40c3644bb44ef834a11548f410a4c",
       "version_major": 2,
       "version_minor": 0
      },
      "text/plain": [
       "  0%|          | 0/53 [00:00<?, ?it/s]"
      ]
     },
     "metadata": {},
     "output_type": "display_data"
    },
    {
     "name": "stdout",
     "output_type": "stream",
     "text": [
      "487\n",
      "ELBO train_loss -2.981534926396496\n",
      "mse train_loss 0.00037011804189840506\n",
      "torch.Size([1, 20837, 2]) torch.Size([1, 20837, 4]) torch.Size([1, 5209, 2]) torch.Size([1, 5209, 4])\n",
      "torch.Size([1, 5209, 4])\n",
      "val_loss =  0.012508623\n",
      "-----------------------------------------------------------------------\n"
     ]
    },
    {
     "data": {
      "application/vnd.jupyter.widget-view+json": {
       "model_id": "53153abd4b2443109e685d6e8c0ba246",
       "version_major": 2,
       "version_minor": 0
      },
      "text/plain": [
       "  0%|          | 0/53 [00:00<?, ?it/s]"
      ]
     },
     "metadata": {},
     "output_type": "display_data"
    },
    {
     "name": "stdout",
     "output_type": "stream",
     "text": [
      "488\n",
      "ELBO train_loss -2.990398447468596\n",
      "mse train_loss 0.000354477863062507\n",
      "torch.Size([1, 20837, 2]) torch.Size([1, 20837, 4]) torch.Size([1, 5209, 2]) torch.Size([1, 5209, 4])\n",
      "torch.Size([1, 5209, 4])\n",
      "val_loss =  0.015372741\n",
      "-----------------------------------------------------------------------\n"
     ]
    },
    {
     "data": {
      "application/vnd.jupyter.widget-view+json": {
       "model_id": "cd6dfef664ba414a97c770d3f3290e4d",
       "version_major": 2,
       "version_minor": 0
      },
      "text/plain": [
       "  0%|          | 0/53 [00:00<?, ?it/s]"
      ]
     },
     "metadata": {},
     "output_type": "display_data"
    },
    {
     "name": "stdout",
     "output_type": "stream",
     "text": [
      "489\n",
      "ELBO train_loss -2.9962790192298168\n",
      "mse train_loss 0.0003536466464075207\n",
      "torch.Size([1, 20837, 2]) torch.Size([1, 20837, 4]) torch.Size([1, 5209, 2]) torch.Size([1, 5209, 4])\n",
      "torch.Size([1, 5209, 4])\n",
      "val_loss =  0.01203144\n",
      "-----------------------------------------------------------------------\n"
     ]
    },
    {
     "data": {
      "application/vnd.jupyter.widget-view+json": {
       "model_id": "5f5de5d076c04db5b9f590f8b671f5e7",
       "version_major": 2,
       "version_minor": 0
      },
      "text/plain": [
       "  0%|          | 0/53 [00:00<?, ?it/s]"
      ]
     },
     "metadata": {},
     "output_type": "display_data"
    },
    {
     "name": "stdout",
     "output_type": "stream",
     "text": [
      "490\n",
      "ELBO train_loss -3.00979098733866\n",
      "mse train_loss 0.00035093621848335596\n",
      "torch.Size([1, 20837, 2]) torch.Size([1, 20837, 4]) torch.Size([1, 5209, 2]) torch.Size([1, 5209, 4])\n",
      "torch.Size([1, 5209, 4])\n",
      "val_loss =  0.008257949\n",
      "-----------------------------------------------------------------------\n"
     ]
    },
    {
     "data": {
      "application/vnd.jupyter.widget-view+json": {
       "model_id": "5a26efef74ab42c48ca57c5cf9cac3fc",
       "version_major": 2,
       "version_minor": 0
      },
      "text/plain": [
       "  0%|          | 0/53 [00:00<?, ?it/s]"
      ]
     },
     "metadata": {},
     "output_type": "display_data"
    },
    {
     "name": "stdout",
     "output_type": "stream",
     "text": [
      "491\n",
      "ELBO train_loss -3.0052395091866546\n",
      "mse train_loss 0.00036128227464977725\n",
      "torch.Size([1, 20837, 2]) torch.Size([1, 20837, 4]) torch.Size([1, 5209, 2]) torch.Size([1, 5209, 4])\n",
      "torch.Size([1, 5209, 4])\n",
      "val_loss =  0.01074045\n",
      "-----------------------------------------------------------------------\n"
     ]
    },
    {
     "data": {
      "application/vnd.jupyter.widget-view+json": {
       "model_id": "93fd05c3a310471d9b5a89bdc5cfef88",
       "version_major": 2,
       "version_minor": 0
      },
      "text/plain": [
       "  0%|          | 0/53 [00:00<?, ?it/s]"
      ]
     },
     "metadata": {},
     "output_type": "display_data"
    },
    {
     "name": "stdout",
     "output_type": "stream",
     "text": [
      "492\n",
      "ELBO train_loss -3.001719740201842\n",
      "mse train_loss 0.0003630765001256599\n",
      "torch.Size([1, 20837, 2]) torch.Size([1, 20837, 4]) torch.Size([1, 5209, 2]) torch.Size([1, 5209, 4])\n",
      "torch.Size([1, 5209, 4])\n",
      "val_loss =  0.010754022\n",
      "-----------------------------------------------------------------------\n"
     ]
    },
    {
     "data": {
      "application/vnd.jupyter.widget-view+json": {
       "model_id": "afee22c6d9ff467a82dc2bcb48d3e73f",
       "version_major": 2,
       "version_minor": 0
      },
      "text/plain": [
       "  0%|          | 0/53 [00:00<?, ?it/s]"
      ]
     },
     "metadata": {},
     "output_type": "display_data"
    },
    {
     "name": "stdout",
     "output_type": "stream",
     "text": [
      "493\n",
      "ELBO train_loss -3.0128556152559676\n",
      "mse train_loss 0.00035252449948907353\n",
      "torch.Size([1, 20837, 2]) torch.Size([1, 20837, 4]) torch.Size([1, 5209, 2]) torch.Size([1, 5209, 4])\n",
      "torch.Size([1, 5209, 4])\n",
      "val_loss =  0.011855407\n",
      "-----------------------------------------------------------------------\n"
     ]
    },
    {
     "data": {
      "application/vnd.jupyter.widget-view+json": {
       "model_id": "8bfdae99aed8423da33cf5593b9fd1a4",
       "version_major": 2,
       "version_minor": 0
      },
      "text/plain": [
       "  0%|          | 0/53 [00:00<?, ?it/s]"
      ]
     },
     "metadata": {},
     "output_type": "display_data"
    },
    {
     "name": "stdout",
     "output_type": "stream",
     "text": [
      "494\n",
      "ELBO train_loss -2.9627193251870714\n",
      "mse train_loss 0.00035474641289219333\n",
      "torch.Size([1, 20837, 2]) torch.Size([1, 20837, 4]) torch.Size([1, 5209, 2]) torch.Size([1, 5209, 4])\n",
      "torch.Size([1, 5209, 4])\n",
      "val_loss =  0.016184298\n",
      "-----------------------------------------------------------------------\n"
     ]
    },
    {
     "data": {
      "application/vnd.jupyter.widget-view+json": {
       "model_id": "a83270124dba4c74ae99808ce0407b03",
       "version_major": 2,
       "version_minor": 0
      },
      "text/plain": [
       "  0%|          | 0/53 [00:00<?, ?it/s]"
      ]
     },
     "metadata": {},
     "output_type": "display_data"
    },
    {
     "name": "stdout",
     "output_type": "stream",
     "text": [
      "495\n",
      "ELBO train_loss -2.990475447672718\n",
      "mse train_loss 0.0003709159618493978\n",
      "torch.Size([1, 20837, 2]) torch.Size([1, 20837, 4]) torch.Size([1, 5209, 2]) torch.Size([1, 5209, 4])\n",
      "torch.Size([1, 5209, 4])\n",
      "val_loss =  0.018510945\n",
      "-----------------------------------------------------------------------\n"
     ]
    },
    {
     "data": {
      "application/vnd.jupyter.widget-view+json": {
       "model_id": "8e35ab31db914f0587823477da339e6e",
       "version_major": 2,
       "version_minor": 0
      },
      "text/plain": [
       "  0%|          | 0/53 [00:00<?, ?it/s]"
      ]
     },
     "metadata": {},
     "output_type": "display_data"
    },
    {
     "name": "stdout",
     "output_type": "stream",
     "text": [
      "496\n",
      "ELBO train_loss -3.005594509952473\n",
      "mse train_loss 0.0003598360797798894\n",
      "torch.Size([1, 20837, 2]) torch.Size([1, 20837, 4]) torch.Size([1, 5209, 2]) torch.Size([1, 5209, 4])\n",
      "torch.Size([1, 5209, 4])\n",
      "val_loss =  0.009891844\n",
      "-----------------------------------------------------------------------\n"
     ]
    },
    {
     "data": {
      "application/vnd.jupyter.widget-view+json": {
       "model_id": "88cd1b0ef4a645499155bccd95991e80",
       "version_major": 2,
       "version_minor": 0
      },
      "text/plain": [
       "  0%|          | 0/53 [00:00<?, ?it/s]"
      ]
     },
     "metadata": {},
     "output_type": "display_data"
    },
    {
     "name": "stdout",
     "output_type": "stream",
     "text": [
      "497\n",
      "ELBO train_loss -3.005831241607666\n",
      "mse train_loss 0.0003565006818290677\n",
      "torch.Size([1, 20837, 2]) torch.Size([1, 20837, 4]) torch.Size([1, 5209, 2]) torch.Size([1, 5209, 4])\n",
      "torch.Size([1, 5209, 4])\n",
      "val_loss =  0.010970746\n",
      "-----------------------------------------------------------------------\n"
     ]
    },
    {
     "data": {
      "application/vnd.jupyter.widget-view+json": {
       "model_id": "5381693ab3404f60b9dd059ca6171556",
       "version_major": 2,
       "version_minor": 0
      },
      "text/plain": [
       "  0%|          | 0/53 [00:00<?, ?it/s]"
      ]
     },
     "metadata": {},
     "output_type": "display_data"
    },
    {
     "name": "stdout",
     "output_type": "stream",
     "text": [
      "498\n",
      "ELBO train_loss -3.003398980734483\n",
      "mse train_loss 0.0003764344124510041\n",
      "torch.Size([1, 20837, 2]) torch.Size([1, 20837, 4]) torch.Size([1, 5209, 2]) torch.Size([1, 5209, 4])\n",
      "torch.Size([1, 5209, 4])\n",
      "val_loss =  0.01130478\n",
      "-----------------------------------------------------------------------\n"
     ]
    },
    {
     "data": {
      "application/vnd.jupyter.widget-view+json": {
       "model_id": "eeed3547bf1e495fb275aa5d920262a6",
       "version_major": 2,
       "version_minor": 0
      },
      "text/plain": [
       "  0%|          | 0/53 [00:00<?, ?it/s]"
      ]
     },
     "metadata": {},
     "output_type": "display_data"
    },
    {
     "name": "stdout",
     "output_type": "stream",
     "text": [
      "499\n",
      "ELBO train_loss -3.009338545349409\n",
      "mse train_loss 0.0003385727542544768\n",
      "torch.Size([1, 20837, 2]) torch.Size([1, 20837, 4]) torch.Size([1, 5209, 2]) torch.Size([1, 5209, 4])\n",
      "torch.Size([1, 5209, 4])\n",
      "val_loss =  0.010860354\n",
      "-----------------------------------------------------------------------\n"
     ]
    },
    {
     "data": {
      "application/vnd.jupyter.widget-view+json": {
       "model_id": "ee41356222694595bb5c66e3889e69da",
       "version_major": 2,
       "version_minor": 0
      },
      "text/plain": [
       "  0%|          | 0/53 [00:00<?, ?it/s]"
      ]
     },
     "metadata": {},
     "output_type": "display_data"
    },
    {
     "name": "stdout",
     "output_type": "stream",
     "text": [
      "500\n",
      "ELBO train_loss -2.9201576552301085\n",
      "mse train_loss 0.00044762928072881515\n",
      "torch.Size([1, 20837, 2]) torch.Size([1, 20837, 4]) torch.Size([1, 5209, 2]) torch.Size([1, 5209, 4])\n",
      "torch.Size([1, 5209, 4])\n",
      "val_loss =  0.021446383\n",
      "-----------------------------------------------------------------------\n"
     ]
    },
    {
     "data": {
      "application/vnd.jupyter.widget-view+json": {
       "model_id": "b2e4db998ac34d0f950368332e0048dc",
       "version_major": 2,
       "version_minor": 0
      },
      "text/plain": [
       "  0%|          | 0/53 [00:00<?, ?it/s]"
      ]
     },
     "metadata": {},
     "output_type": "display_data"
    },
    {
     "name": "stdout",
     "output_type": "stream",
     "text": [
      "501\n",
      "ELBO train_loss -2.959456963359185\n",
      "mse train_loss 0.000373575766131563\n",
      "torch.Size([1, 20837, 2]) torch.Size([1, 20837, 4]) torch.Size([1, 5209, 2]) torch.Size([1, 5209, 4])\n",
      "torch.Size([1, 5209, 4])\n",
      "val_loss =  0.025922999\n",
      "-----------------------------------------------------------------------\n"
     ]
    },
    {
     "data": {
      "application/vnd.jupyter.widget-view+json": {
       "model_id": "7ccda18038d0418f87d148041002bb16",
       "version_major": 2,
       "version_minor": 0
      },
      "text/plain": [
       "  0%|          | 0/53 [00:00<?, ?it/s]"
      ]
     },
     "metadata": {},
     "output_type": "display_data"
    },
    {
     "name": "stdout",
     "output_type": "stream",
     "text": [
      "502\n",
      "ELBO train_loss -2.97331683590727\n",
      "mse train_loss 0.0003705723183712799\n",
      "torch.Size([1, 20837, 2]) torch.Size([1, 20837, 4]) torch.Size([1, 5209, 2]) torch.Size([1, 5209, 4])\n",
      "torch.Size([1, 5209, 4])\n",
      "val_loss =  0.012601084\n",
      "-----------------------------------------------------------------------\n"
     ]
    },
    {
     "data": {
      "application/vnd.jupyter.widget-view+json": {
       "model_id": "60b742f9268d4f3da149c0114052a592",
       "version_major": 2,
       "version_minor": 0
      },
      "text/plain": [
       "  0%|          | 0/53 [00:00<?, ?it/s]"
      ]
     },
     "metadata": {},
     "output_type": "display_data"
    },
    {
     "name": "stdout",
     "output_type": "stream",
     "text": [
      "503\n",
      "ELBO train_loss -3.0131612903666944\n",
      "mse train_loss 0.00034577752691957185\n",
      "torch.Size([1, 20837, 2]) torch.Size([1, 20837, 4]) torch.Size([1, 5209, 2]) torch.Size([1, 5209, 4])\n",
      "torch.Size([1, 5209, 4])\n",
      "val_loss =  0.01084631\n",
      "-----------------------------------------------------------------------\n"
     ]
    },
    {
     "data": {
      "application/vnd.jupyter.widget-view+json": {
       "model_id": "6d1851f5f3fe45f39a0de2b345c8687c",
       "version_major": 2,
       "version_minor": 0
      },
      "text/plain": [
       "  0%|          | 0/53 [00:00<?, ?it/s]"
      ]
     },
     "metadata": {},
     "output_type": "display_data"
    },
    {
     "name": "stdout",
     "output_type": "stream",
     "text": [
      "504\n",
      "ELBO train_loss -3.0062769448982096\n",
      "mse train_loss 0.000361793284372532\n",
      "torch.Size([1, 20837, 2]) torch.Size([1, 20837, 4]) torch.Size([1, 5209, 2]) torch.Size([1, 5209, 4])\n",
      "torch.Size([1, 5209, 4])\n",
      "val_loss =  0.015605138\n",
      "-----------------------------------------------------------------------\n"
     ]
    },
    {
     "data": {
      "application/vnd.jupyter.widget-view+json": {
       "model_id": "954ac47a95e64f09847a9f1aadbaeb61",
       "version_major": 2,
       "version_minor": 0
      },
      "text/plain": [
       "  0%|          | 0/53 [00:00<?, ?it/s]"
      ]
     },
     "metadata": {},
     "output_type": "display_data"
    },
    {
     "name": "stdout",
     "output_type": "stream",
     "text": [
      "505\n",
      "ELBO train_loss -2.986364836962718\n",
      "mse train_loss 0.00037120914834613014\n",
      "torch.Size([1, 20837, 2]) torch.Size([1, 20837, 4]) torch.Size([1, 5209, 2]) torch.Size([1, 5209, 4])\n",
      "torch.Size([1, 5209, 4])\n",
      "val_loss =  0.01227501\n",
      "-----------------------------------------------------------------------\n"
     ]
    },
    {
     "data": {
      "application/vnd.jupyter.widget-view+json": {
       "model_id": "809c6641dc2640cebf3e20495f1e8d76",
       "version_major": 2,
       "version_minor": 0
      },
      "text/plain": [
       "  0%|          | 0/53 [00:00<?, ?it/s]"
      ]
     },
     "metadata": {},
     "output_type": "display_data"
    },
    {
     "name": "stdout",
     "output_type": "stream",
     "text": [
      "506\n",
      "ELBO train_loss -2.929221713318015\n",
      "mse train_loss 0.0003654955126310013\n",
      "torch.Size([1, 20837, 2]) torch.Size([1, 20837, 4]) torch.Size([1, 5209, 2]) torch.Size([1, 5209, 4])\n",
      "torch.Size([1, 5209, 4])\n",
      "val_loss =  0.013916384\n",
      "-----------------------------------------------------------------------\n"
     ]
    },
    {
     "data": {
      "application/vnd.jupyter.widget-view+json": {
       "model_id": "c51fc97b3e414df9b1697b63c8990d5e",
       "version_major": 2,
       "version_minor": 0
      },
      "text/plain": [
       "  0%|          | 0/53 [00:00<?, ?it/s]"
      ]
     },
     "metadata": {},
     "output_type": "display_data"
    },
    {
     "name": "stdout",
     "output_type": "stream",
     "text": [
      "507\n",
      "ELBO train_loss -3.008693294705085\n",
      "mse train_loss 0.0003570613925200272\n",
      "torch.Size([1, 20837, 2]) torch.Size([1, 20837, 4]) torch.Size([1, 5209, 2]) torch.Size([1, 5209, 4])\n",
      "torch.Size([1, 5209, 4])\n",
      "val_loss =  0.013871472\n",
      "-----------------------------------------------------------------------\n"
     ]
    },
    {
     "data": {
      "application/vnd.jupyter.widget-view+json": {
       "model_id": "cea4215bf6d442038dede4ef857d20fb",
       "version_major": 2,
       "version_minor": 0
      },
      "text/plain": [
       "  0%|          | 0/53 [00:00<?, ?it/s]"
      ]
     },
     "metadata": {},
     "output_type": "display_data"
    },
    {
     "name": "stdout",
     "output_type": "stream",
     "text": [
      "508\n",
      "ELBO train_loss -2.9987595846068182\n",
      "mse train_loss 0.00037364220880367355\n",
      "torch.Size([1, 20837, 2]) torch.Size([1, 20837, 4]) torch.Size([1, 5209, 2]) torch.Size([1, 5209, 4])\n",
      "torch.Size([1, 5209, 4])\n",
      "val_loss =  0.016782384\n",
      "-----------------------------------------------------------------------\n"
     ]
    },
    {
     "data": {
      "application/vnd.jupyter.widget-view+json": {
       "model_id": "4909c08bc25a4ff9825062960acec9c3",
       "version_major": 2,
       "version_minor": 0
      },
      "text/plain": [
       "  0%|          | 0/53 [00:00<?, ?it/s]"
      ]
     },
     "metadata": {},
     "output_type": "display_data"
    },
    {
     "name": "stdout",
     "output_type": "stream",
     "text": [
      "509\n",
      "ELBO train_loss -3.0054235998189673\n",
      "mse train_loss 0.0003553684836556643\n",
      "torch.Size([1, 20837, 2]) torch.Size([1, 20837, 4]) torch.Size([1, 5209, 2]) torch.Size([1, 5209, 4])\n",
      "torch.Size([1, 5209, 4])\n",
      "val_loss =  0.014781209\n",
      "-----------------------------------------------------------------------\n"
     ]
    },
    {
     "data": {
      "application/vnd.jupyter.widget-view+json": {
       "model_id": "d7fb7ed2789347f8aa0b613aece658c4",
       "version_major": 2,
       "version_minor": 0
      },
      "text/plain": [
       "  0%|          | 0/53 [00:00<?, ?it/s]"
      ]
     },
     "metadata": {},
     "output_type": "display_data"
    },
    {
     "name": "stdout",
     "output_type": "stream",
     "text": [
      "510\n",
      "ELBO train_loss -3.005397544716889\n",
      "mse train_loss 0.0003688245347837197\n",
      "torch.Size([1, 20837, 2]) torch.Size([1, 20837, 4]) torch.Size([1, 5209, 2]) torch.Size([1, 5209, 4])\n",
      "torch.Size([1, 5209, 4])\n",
      "val_loss =  0.011410528\n",
      "-----------------------------------------------------------------------\n"
     ]
    },
    {
     "data": {
      "application/vnd.jupyter.widget-view+json": {
       "model_id": "e7d6f7c6e61b4fd3bde1e2e778690d5b",
       "version_major": 2,
       "version_minor": 0
      },
      "text/plain": [
       "  0%|          | 0/53 [00:00<?, ?it/s]"
      ]
     },
     "metadata": {},
     "output_type": "display_data"
    },
    {
     "name": "stdout",
     "output_type": "stream",
     "text": [
      "511\n",
      "ELBO train_loss -3.010487331534332\n",
      "mse train_loss 0.0003590091169517452\n",
      "torch.Size([1, 20837, 2]) torch.Size([1, 20837, 4]) torch.Size([1, 5209, 2]) torch.Size([1, 5209, 4])\n",
      "torch.Size([1, 5209, 4])\n",
      "val_loss =  0.012448257\n",
      "-----------------------------------------------------------------------\n"
     ]
    },
    {
     "data": {
      "application/vnd.jupyter.widget-view+json": {
       "model_id": "9c7566e6bee14ece8885c132fe79d7e4",
       "version_major": 2,
       "version_minor": 0
      },
      "text/plain": [
       "  0%|          | 0/53 [00:00<?, ?it/s]"
      ]
     },
     "metadata": {},
     "output_type": "display_data"
    },
    {
     "name": "stdout",
     "output_type": "stream",
     "text": [
      "512\n",
      "ELBO train_loss -2.9830100221453972\n",
      "mse train_loss 0.0003796466722324455\n",
      "torch.Size([1, 20837, 2]) torch.Size([1, 20837, 4]) torch.Size([1, 5209, 2]) torch.Size([1, 5209, 4])\n",
      "torch.Size([1, 5209, 4])\n",
      "val_loss =  0.015015772\n",
      "-----------------------------------------------------------------------\n"
     ]
    },
    {
     "data": {
      "application/vnd.jupyter.widget-view+json": {
       "model_id": "8e49b6eac5ac48488ecacca3ed07a3dd",
       "version_major": 2,
       "version_minor": 0
      },
      "text/plain": [
       "  0%|          | 0/53 [00:00<?, ?it/s]"
      ]
     },
     "metadata": {},
     "output_type": "display_data"
    },
    {
     "name": "stdout",
     "output_type": "stream",
     "text": [
      "513\n",
      "ELBO train_loss -3.01002018406706\n",
      "mse train_loss 0.00038105736454764274\n",
      "torch.Size([1, 20837, 2]) torch.Size([1, 20837, 4]) torch.Size([1, 5209, 2]) torch.Size([1, 5209, 4])\n",
      "torch.Size([1, 5209, 4])\n",
      "val_loss =  0.011161655\n",
      "-----------------------------------------------------------------------\n"
     ]
    },
    {
     "data": {
      "application/vnd.jupyter.widget-view+json": {
       "model_id": "2c70a22e0f29452590530a43e70a6e9a",
       "version_major": 2,
       "version_minor": 0
      },
      "text/plain": [
       "  0%|          | 0/53 [00:00<?, ?it/s]"
      ]
     },
     "metadata": {},
     "output_type": "display_data"
    },
    {
     "name": "stdout",
     "output_type": "stream",
     "text": [
      "514\n",
      "ELBO train_loss -3.0135941955278502\n",
      "mse train_loss 0.0003428231274878237\n",
      "torch.Size([1, 20837, 2]) torch.Size([1, 20837, 4]) torch.Size([1, 5209, 2]) torch.Size([1, 5209, 4])\n",
      "torch.Size([1, 5209, 4])\n",
      "val_loss =  0.013427736\n",
      "-----------------------------------------------------------------------\n"
     ]
    },
    {
     "data": {
      "application/vnd.jupyter.widget-view+json": {
       "model_id": "f4afceb307c44ba2a6437c07f464e123",
       "version_major": 2,
       "version_minor": 0
      },
      "text/plain": [
       "  0%|          | 0/53 [00:00<?, ?it/s]"
      ]
     },
     "metadata": {},
     "output_type": "display_data"
    },
    {
     "name": "stdout",
     "output_type": "stream",
     "text": [
      "515\n",
      "ELBO train_loss -3.0067191078977764\n",
      "mse train_loss 0.00038775095231787144\n",
      "torch.Size([1, 20837, 2]) torch.Size([1, 20837, 4]) torch.Size([1, 5209, 2]) torch.Size([1, 5209, 4])\n",
      "torch.Size([1, 5209, 4])\n",
      "val_loss =  0.014185799\n",
      "-----------------------------------------------------------------------\n"
     ]
    },
    {
     "data": {
      "application/vnd.jupyter.widget-view+json": {
       "model_id": "db4c2748876942e1a17da37a43330319",
       "version_major": 2,
       "version_minor": 0
      },
      "text/plain": [
       "  0%|          | 0/53 [00:00<?, ?it/s]"
      ]
     },
     "metadata": {},
     "output_type": "display_data"
    },
    {
     "name": "stdout",
     "output_type": "stream",
     "text": [
      "516\n",
      "ELBO train_loss -2.9886230140362144\n",
      "mse train_loss 0.000370308252453435\n",
      "torch.Size([1, 20837, 2]) torch.Size([1, 20837, 4]) torch.Size([1, 5209, 2]) torch.Size([1, 5209, 4])\n",
      "torch.Size([1, 5209, 4])\n",
      "val_loss =  0.016104497\n",
      "-----------------------------------------------------------------------\n"
     ]
    },
    {
     "data": {
      "application/vnd.jupyter.widget-view+json": {
       "model_id": "26d6f95404ce4cc6a691d1be3bba8ab4",
       "version_major": 2,
       "version_minor": 0
      },
      "text/plain": [
       "  0%|          | 0/53 [00:00<?, ?it/s]"
      ]
     },
     "metadata": {},
     "output_type": "display_data"
    },
    {
     "name": "stdout",
     "output_type": "stream",
     "text": [
      "517\n",
      "ELBO train_loss -2.9764732324852132\n",
      "mse train_loss 0.00039275719637033653\n",
      "torch.Size([1, 20837, 2]) torch.Size([1, 20837, 4]) torch.Size([1, 5209, 2]) torch.Size([1, 5209, 4])\n",
      "torch.Size([1, 5209, 4])\n",
      "val_loss =  0.013883052\n",
      "-----------------------------------------------------------------------\n"
     ]
    },
    {
     "data": {
      "application/vnd.jupyter.widget-view+json": {
       "model_id": "f7f5bb4d951e453b983d5cc988316d79",
       "version_major": 2,
       "version_minor": 0
      },
      "text/plain": [
       "  0%|          | 0/53 [00:00<?, ?it/s]"
      ]
     },
     "metadata": {},
     "output_type": "display_data"
    },
    {
     "name": "stdout",
     "output_type": "stream",
     "text": [
      "518\n",
      "ELBO train_loss -3.018434632499263\n",
      "mse train_loss 0.0003423792601646504\n",
      "torch.Size([1, 20837, 2]) torch.Size([1, 20837, 4]) torch.Size([1, 5209, 2]) torch.Size([1, 5209, 4])\n",
      "torch.Size([1, 5209, 4])\n",
      "val_loss =  0.012744805\n",
      "-----------------------------------------------------------------------\n"
     ]
    },
    {
     "data": {
      "application/vnd.jupyter.widget-view+json": {
       "model_id": "3adfcc18bd4a417792a2f0398564399a",
       "version_major": 2,
       "version_minor": 0
      },
      "text/plain": [
       "  0%|          | 0/53 [00:00<?, ?it/s]"
      ]
     },
     "metadata": {},
     "output_type": "display_data"
    },
    {
     "name": "stdout",
     "output_type": "stream",
     "text": [
      "519\n",
      "ELBO train_loss -3.0033152643239722\n",
      "mse train_loss 0.0003690703644061391\n",
      "torch.Size([1, 20837, 2]) torch.Size([1, 20837, 4]) torch.Size([1, 5209, 2]) torch.Size([1, 5209, 4])\n",
      "torch.Size([1, 5209, 4])\n",
      "val_loss =  0.013998458\n",
      "-----------------------------------------------------------------------\n"
     ]
    },
    {
     "data": {
      "application/vnd.jupyter.widget-view+json": {
       "model_id": "f01063f7940b4dd881d886bf1172625f",
       "version_major": 2,
       "version_minor": 0
      },
      "text/plain": [
       "  0%|          | 0/53 [00:00<?, ?it/s]"
      ]
     },
     "metadata": {},
     "output_type": "display_data"
    },
    {
     "name": "stdout",
     "output_type": "stream",
     "text": [
      "520\n",
      "ELBO train_loss -3.0169293970431923\n",
      "mse train_loss 0.0003635547289137184\n",
      "torch.Size([1, 20837, 2]) torch.Size([1, 20837, 4]) torch.Size([1, 5209, 2]) torch.Size([1, 5209, 4])\n",
      "torch.Size([1, 5209, 4])\n",
      "val_loss =  0.01103261\n",
      "-----------------------------------------------------------------------\n"
     ]
    },
    {
     "data": {
      "application/vnd.jupyter.widget-view+json": {
       "model_id": "70758d8ce0124b8aa1fbd786e7f1d34b",
       "version_major": 2,
       "version_minor": 0
      },
      "text/plain": [
       "  0%|          | 0/53 [00:00<?, ?it/s]"
      ]
     },
     "metadata": {},
     "output_type": "display_data"
    },
    {
     "name": "stdout",
     "output_type": "stream",
     "text": [
      "521\n",
      "ELBO train_loss -3.0104401111602783\n",
      "mse train_loss 0.00035732052149470755\n",
      "torch.Size([1, 20837, 2]) torch.Size([1, 20837, 4]) torch.Size([1, 5209, 2]) torch.Size([1, 5209, 4])\n",
      "torch.Size([1, 5209, 4])\n",
      "val_loss =  0.015260638\n",
      "-----------------------------------------------------------------------\n"
     ]
    },
    {
     "data": {
      "application/vnd.jupyter.widget-view+json": {
       "model_id": "e8679fcf90544f8c9c163247ed3f96dc",
       "version_major": 2,
       "version_minor": 0
      },
      "text/plain": [
       "  0%|          | 0/53 [00:00<?, ?it/s]"
      ]
     },
     "metadata": {},
     "output_type": "display_data"
    },
    {
     "name": "stdout",
     "output_type": "stream",
     "text": [
      "522\n",
      "ELBO train_loss -2.969531585585396\n",
      "mse train_loss 0.00037948182868586747\n",
      "torch.Size([1, 20837, 2]) torch.Size([1, 20837, 4]) torch.Size([1, 5209, 2]) torch.Size([1, 5209, 4])\n",
      "torch.Size([1, 5209, 4])\n",
      "val_loss =  0.03063122\n",
      "-----------------------------------------------------------------------\n"
     ]
    },
    {
     "data": {
      "application/vnd.jupyter.widget-view+json": {
       "model_id": "1a6a895f0304472abd5352cf29002e8a",
       "version_major": 2,
       "version_minor": 0
      },
      "text/plain": [
       "  0%|          | 0/53 [00:00<?, ?it/s]"
      ]
     },
     "metadata": {},
     "output_type": "display_data"
    },
    {
     "name": "stdout",
     "output_type": "stream",
     "text": [
      "523\n",
      "ELBO train_loss -2.969559759463904\n",
      "mse train_loss 0.0003643069662843427\n",
      "torch.Size([1, 20837, 2]) torch.Size([1, 20837, 4]) torch.Size([1, 5209, 2]) torch.Size([1, 5209, 4])\n",
      "torch.Size([1, 5209, 4])\n",
      "val_loss =  0.014226574\n",
      "-----------------------------------------------------------------------\n"
     ]
    },
    {
     "data": {
      "application/vnd.jupyter.widget-view+json": {
       "model_id": "81312c9923824b47b414763bf19037bc",
       "version_major": 2,
       "version_minor": 0
      },
      "text/plain": [
       "  0%|          | 0/53 [00:00<?, ?it/s]"
      ]
     },
     "metadata": {},
     "output_type": "display_data"
    },
    {
     "name": "stdout",
     "output_type": "stream",
     "text": [
      "524\n",
      "ELBO train_loss -3.0091970911565817\n",
      "mse train_loss 0.0003578767393504814\n",
      "torch.Size([1, 20837, 2]) torch.Size([1, 20837, 4]) torch.Size([1, 5209, 2]) torch.Size([1, 5209, 4])\n",
      "torch.Size([1, 5209, 4])\n",
      "val_loss =  0.011253978\n",
      "-----------------------------------------------------------------------\n"
     ]
    },
    {
     "data": {
      "application/vnd.jupyter.widget-view+json": {
       "model_id": "4955c00bcb184eeb91d1fb15c0514b60",
       "version_major": 2,
       "version_minor": 0
      },
      "text/plain": [
       "  0%|          | 0/53 [00:00<?, ?it/s]"
      ]
     },
     "metadata": {},
     "output_type": "display_data"
    },
    {
     "name": "stdout",
     "output_type": "stream",
     "text": [
      "525\n",
      "ELBO train_loss -3.0073047628942526\n",
      "mse train_loss 0.0003646158131129407\n",
      "torch.Size([1, 20837, 2]) torch.Size([1, 20837, 4]) torch.Size([1, 5209, 2]) torch.Size([1, 5209, 4])\n",
      "torch.Size([1, 5209, 4])\n",
      "val_loss =  0.016874216\n",
      "-----------------------------------------------------------------------\n"
     ]
    },
    {
     "data": {
      "application/vnd.jupyter.widget-view+json": {
       "model_id": "bbc8fb13db7f40fe8b4a5123797148cb",
       "version_major": 2,
       "version_minor": 0
      },
      "text/plain": [
       "  0%|          | 0/53 [00:00<?, ?it/s]"
      ]
     },
     "metadata": {},
     "output_type": "display_data"
    },
    {
     "name": "stdout",
     "output_type": "stream",
     "text": [
      "526\n",
      "ELBO train_loss -2.996961724083379\n",
      "mse train_loss 0.0003661097912557142\n",
      "torch.Size([1, 20837, 2]) torch.Size([1, 20837, 4]) torch.Size([1, 5209, 2]) torch.Size([1, 5209, 4])\n",
      "torch.Size([1, 5209, 4])\n",
      "val_loss =  0.013812962\n",
      "-----------------------------------------------------------------------\n"
     ]
    },
    {
     "data": {
      "application/vnd.jupyter.widget-view+json": {
       "model_id": "d4c0ff4a716c4127a87dc626bdb60b83",
       "version_major": 2,
       "version_minor": 0
      },
      "text/plain": [
       "  0%|          | 0/53 [00:00<?, ?it/s]"
      ]
     },
     "metadata": {},
     "output_type": "display_data"
    },
    {
     "name": "stdout",
     "output_type": "stream",
     "text": [
      "527\n",
      "ELBO train_loss -2.9989469501207457\n",
      "mse train_loss 0.00036605097735652105\n",
      "torch.Size([1, 20837, 2]) torch.Size([1, 20837, 4]) torch.Size([1, 5209, 2]) torch.Size([1, 5209, 4])\n",
      "torch.Size([1, 5209, 4])\n",
      "val_loss =  0.016047928\n",
      "-----------------------------------------------------------------------\n"
     ]
    },
    {
     "data": {
      "application/vnd.jupyter.widget-view+json": {
       "model_id": "d00c1af35a424b83bbd243c760a1f39c",
       "version_major": 2,
       "version_minor": 0
      },
      "text/plain": [
       "  0%|          | 0/53 [00:00<?, ?it/s]"
      ]
     },
     "metadata": {},
     "output_type": "display_data"
    },
    {
     "name": "stdout",
     "output_type": "stream",
     "text": [
      "528\n",
      "ELBO train_loss -2.984137179716578\n",
      "mse train_loss 0.0003735588021677444\n",
      "torch.Size([1, 20837, 2]) torch.Size([1, 20837, 4]) torch.Size([1, 5209, 2]) torch.Size([1, 5209, 4])\n",
      "torch.Size([1, 5209, 4])\n",
      "val_loss =  0.015191004\n",
      "-----------------------------------------------------------------------\n"
     ]
    },
    {
     "data": {
      "application/vnd.jupyter.widget-view+json": {
       "model_id": "bbbabc835eb8406eafba44fb496cdb92",
       "version_major": 2,
       "version_minor": 0
      },
      "text/plain": [
       "  0%|          | 0/53 [00:00<?, ?it/s]"
      ]
     },
     "metadata": {},
     "output_type": "display_data"
    },
    {
     "name": "stdout",
     "output_type": "stream",
     "text": [
      "529\n",
      "ELBO train_loss -2.975395054187415\n",
      "mse train_loss 0.0003806568348872528\n",
      "torch.Size([1, 20837, 2]) torch.Size([1, 20837, 4]) torch.Size([1, 5209, 2]) torch.Size([1, 5209, 4])\n",
      "torch.Size([1, 5209, 4])\n",
      "val_loss =  0.013400959\n",
      "-----------------------------------------------------------------------\n"
     ]
    },
    {
     "data": {
      "application/vnd.jupyter.widget-view+json": {
       "model_id": "9f2be6f663944559a4502cf36d225f02",
       "version_major": 2,
       "version_minor": 0
      },
      "text/plain": [
       "  0%|          | 0/53 [00:00<?, ?it/s]"
      ]
     },
     "metadata": {},
     "output_type": "display_data"
    },
    {
     "name": "stdout",
     "output_type": "stream",
     "text": [
      "530\n",
      "ELBO train_loss -2.9939624161090492\n",
      "mse train_loss 0.00045696131084421824\n",
      "torch.Size([1, 20837, 2]) torch.Size([1, 20837, 4]) torch.Size([1, 5209, 2]) torch.Size([1, 5209, 4])\n",
      "torch.Size([1, 5209, 4])\n",
      "val_loss =  0.014514794\n",
      "-----------------------------------------------------------------------\n"
     ]
    },
    {
     "data": {
      "application/vnd.jupyter.widget-view+json": {
       "model_id": "57813216dda54c769a52ddaa74fa0052",
       "version_major": 2,
       "version_minor": 0
      },
      "text/plain": [
       "  0%|          | 0/53 [00:00<?, ?it/s]"
      ]
     },
     "metadata": {},
     "output_type": "display_data"
    },
    {
     "name": "stdout",
     "output_type": "stream",
     "text": [
      "531\n",
      "ELBO train_loss -3.012997181910389\n",
      "mse train_loss 0.0003578688533106854\n",
      "torch.Size([1, 20837, 2]) torch.Size([1, 20837, 4]) torch.Size([1, 5209, 2]) torch.Size([1, 5209, 4])\n",
      "torch.Size([1, 5209, 4])\n",
      "val_loss =  0.011508293\n",
      "-----------------------------------------------------------------------\n"
     ]
    },
    {
     "data": {
      "application/vnd.jupyter.widget-view+json": {
       "model_id": "87d43da1c0f24f20b175cbea85b97664",
       "version_major": 2,
       "version_minor": 0
      },
      "text/plain": [
       "  0%|          | 0/53 [00:00<?, ?it/s]"
      ]
     },
     "metadata": {},
     "output_type": "display_data"
    },
    {
     "name": "stdout",
     "output_type": "stream",
     "text": [
      "532\n",
      "ELBO train_loss -3.010739821308064\n",
      "mse train_loss 0.00036828610472236143\n",
      "torch.Size([1, 20837, 2]) torch.Size([1, 20837, 4]) torch.Size([1, 5209, 2]) torch.Size([1, 5209, 4])\n",
      "torch.Size([1, 5209, 4])\n",
      "val_loss =  0.010059639\n",
      "-----------------------------------------------------------------------\n"
     ]
    },
    {
     "data": {
      "application/vnd.jupyter.widget-view+json": {
       "model_id": "1a71ae51af3548ed8a3ae3009061c817",
       "version_major": 2,
       "version_minor": 0
      },
      "text/plain": [
       "  0%|          | 0/53 [00:00<?, ?it/s]"
      ]
     },
     "metadata": {},
     "output_type": "display_data"
    },
    {
     "name": "stdout",
     "output_type": "stream",
     "text": [
      "533\n",
      "ELBO train_loss -3.0197639285393483\n",
      "mse train_loss 0.0003526860958993224\n",
      "torch.Size([1, 20837, 2]) torch.Size([1, 20837, 4]) torch.Size([1, 5209, 2]) torch.Size([1, 5209, 4])\n",
      "torch.Size([1, 5209, 4])\n",
      "val_loss =  0.00992197\n",
      "-----------------------------------------------------------------------\n"
     ]
    },
    {
     "data": {
      "application/vnd.jupyter.widget-view+json": {
       "model_id": "d7bcb3a6277344d2be39a276bf34e748",
       "version_major": 2,
       "version_minor": 0
      },
      "text/plain": [
       "  0%|          | 0/53 [00:00<?, ?it/s]"
      ]
     },
     "metadata": {},
     "output_type": "display_data"
    },
    {
     "name": "stdout",
     "output_type": "stream",
     "text": [
      "534\n",
      "ELBO train_loss -3.007462294596546\n",
      "mse train_loss 0.0003795390696053938\n",
      "torch.Size([1, 20837, 2]) torch.Size([1, 20837, 4]) torch.Size([1, 5209, 2]) torch.Size([1, 5209, 4])\n",
      "torch.Size([1, 5209, 4])\n",
      "val_loss =  0.011767263\n",
      "-----------------------------------------------------------------------\n"
     ]
    },
    {
     "data": {
      "application/vnd.jupyter.widget-view+json": {
       "model_id": "f257edf0b7b644e68835de1a8752bd8d",
       "version_major": 2,
       "version_minor": 0
      },
      "text/plain": [
       "  0%|          | 0/53 [00:00<?, ?it/s]"
      ]
     },
     "metadata": {},
     "output_type": "display_data"
    },
    {
     "name": "stdout",
     "output_type": "stream",
     "text": [
      "535\n",
      "ELBO train_loss -3.0187687064116857\n",
      "mse train_loss 0.00037387995566087685\n",
      "torch.Size([1, 20837, 2]) torch.Size([1, 20837, 4]) torch.Size([1, 5209, 2]) torch.Size([1, 5209, 4])\n",
      "torch.Size([1, 5209, 4])\n",
      "val_loss =  0.013071958\n",
      "-----------------------------------------------------------------------\n"
     ]
    },
    {
     "data": {
      "application/vnd.jupyter.widget-view+json": {
       "model_id": "8889a17ff05a44e7a956e411eb1f06bd",
       "version_major": 2,
       "version_minor": 0
      },
      "text/plain": [
       "  0%|          | 0/53 [00:00<?, ?it/s]"
      ]
     },
     "metadata": {},
     "output_type": "display_data"
    },
    {
     "name": "stdout",
     "output_type": "stream",
     "text": [
      "536\n",
      "ELBO train_loss -3.026412419553073\n",
      "mse train_loss 0.0003646202945537022\n",
      "torch.Size([1, 20837, 2]) torch.Size([1, 20837, 4]) torch.Size([1, 5209, 2]) torch.Size([1, 5209, 4])\n",
      "torch.Size([1, 5209, 4])\n",
      "val_loss =  0.009053444\n",
      "-----------------------------------------------------------------------\n"
     ]
    },
    {
     "data": {
      "application/vnd.jupyter.widget-view+json": {
       "model_id": "5c4cf17536c74e3aae690ae25a92f0ad",
       "version_major": 2,
       "version_minor": 0
      },
      "text/plain": [
       "  0%|          | 0/53 [00:00<?, ?it/s]"
      ]
     },
     "metadata": {},
     "output_type": "display_data"
    },
    {
     "name": "stdout",
     "output_type": "stream",
     "text": [
      "537\n",
      "ELBO train_loss -3.0136801296809934\n",
      "mse train_loss 0.00036267451568559373\n",
      "torch.Size([1, 20837, 2]) torch.Size([1, 20837, 4]) torch.Size([1, 5209, 2]) torch.Size([1, 5209, 4])\n",
      "torch.Size([1, 5209, 4])\n",
      "val_loss =  0.013343222\n",
      "-----------------------------------------------------------------------\n"
     ]
    },
    {
     "data": {
      "application/vnd.jupyter.widget-view+json": {
       "model_id": "369f2985a3b044c39cd8524387e815a6",
       "version_major": 2,
       "version_minor": 0
      },
      "text/plain": [
       "  0%|          | 0/53 [00:00<?, ?it/s]"
      ]
     },
     "metadata": {},
     "output_type": "display_data"
    },
    {
     "name": "stdout",
     "output_type": "stream",
     "text": [
      "538\n",
      "ELBO train_loss -3.0207229605260886\n",
      "mse train_loss 0.0003469208030816484\n",
      "torch.Size([1, 20837, 2]) torch.Size([1, 20837, 4]) torch.Size([1, 5209, 2]) torch.Size([1, 5209, 4])\n",
      "torch.Size([1, 5209, 4])\n",
      "val_loss =  0.012265603\n",
      "-----------------------------------------------------------------------\n"
     ]
    },
    {
     "data": {
      "application/vnd.jupyter.widget-view+json": {
       "model_id": "44f4b831da6e43829e0413203a36e560",
       "version_major": 2,
       "version_minor": 0
      },
      "text/plain": [
       "  0%|          | 0/53 [00:00<?, ?it/s]"
      ]
     },
     "metadata": {},
     "output_type": "display_data"
    },
    {
     "name": "stdout",
     "output_type": "stream",
     "text": [
      "539\n",
      "ELBO train_loss -3.0169822404969415\n",
      "mse train_loss 0.0003632245871418525\n",
      "torch.Size([1, 20837, 2]) torch.Size([1, 20837, 4]) torch.Size([1, 5209, 2]) torch.Size([1, 5209, 4])\n",
      "torch.Size([1, 5209, 4])\n",
      "val_loss =  0.014438968\n",
      "-----------------------------------------------------------------------\n"
     ]
    },
    {
     "data": {
      "application/vnd.jupyter.widget-view+json": {
       "model_id": "484c8055d6fe401b8826e4ff3de58002",
       "version_major": 2,
       "version_minor": 0
      },
      "text/plain": [
       "  0%|          | 0/53 [00:00<?, ?it/s]"
      ]
     },
     "metadata": {},
     "output_type": "display_data"
    },
    {
     "name": "stdout",
     "output_type": "stream",
     "text": [
      "540\n",
      "ELBO train_loss -3.0037460866964087\n",
      "mse train_loss 0.0003753743287645948\n",
      "torch.Size([1, 20837, 2]) torch.Size([1, 20837, 4]) torch.Size([1, 5209, 2]) torch.Size([1, 5209, 4])\n",
      "torch.Size([1, 5209, 4])\n",
      "val_loss =  0.01148202\n",
      "-----------------------------------------------------------------------\n"
     ]
    },
    {
     "data": {
      "application/vnd.jupyter.widget-view+json": {
       "model_id": "2cdbad2c404049b29d2a66e45470062e",
       "version_major": 2,
       "version_minor": 0
      },
      "text/plain": [
       "  0%|          | 0/53 [00:00<?, ?it/s]"
      ]
     },
     "metadata": {},
     "output_type": "display_data"
    },
    {
     "name": "stdout",
     "output_type": "stream",
     "text": [
      "541\n",
      "ELBO train_loss -3.012625019505339\n",
      "mse train_loss 0.00036530420944678934\n",
      "torch.Size([1, 20837, 2]) torch.Size([1, 20837, 4]) torch.Size([1, 5209, 2]) torch.Size([1, 5209, 4])\n",
      "torch.Size([1, 5209, 4])\n",
      "val_loss =  0.010390154\n",
      "-----------------------------------------------------------------------\n"
     ]
    },
    {
     "data": {
      "application/vnd.jupyter.widget-view+json": {
       "model_id": "0466cad870744742af5f5ff6e7808291",
       "version_major": 2,
       "version_minor": 0
      },
      "text/plain": [
       "  0%|          | 0/53 [00:00<?, ?it/s]"
      ]
     },
     "metadata": {},
     "output_type": "display_data"
    },
    {
     "name": "stdout",
     "output_type": "stream",
     "text": [
      "542\n",
      "ELBO train_loss -3.0199988698059657\n",
      "mse train_loss 0.0003661666002853791\n",
      "torch.Size([1, 20837, 2]) torch.Size([1, 20837, 4]) torch.Size([1, 5209, 2]) torch.Size([1, 5209, 4])\n",
      "torch.Size([1, 5209, 4])\n",
      "val_loss =  0.00982803\n",
      "-----------------------------------------------------------------------\n"
     ]
    },
    {
     "data": {
      "application/vnd.jupyter.widget-view+json": {
       "model_id": "8145c09e730e4522ac1fc0f5f064cfe2",
       "version_major": 2,
       "version_minor": 0
      },
      "text/plain": [
       "  0%|          | 0/53 [00:00<?, ?it/s]"
      ]
     },
     "metadata": {},
     "output_type": "display_data"
    },
    {
     "name": "stdout",
     "output_type": "stream",
     "text": [
      "543\n",
      "ELBO train_loss -3.012319218437627\n",
      "mse train_loss 0.0003725494590877854\n",
      "torch.Size([1, 20837, 2]) torch.Size([1, 20837, 4]) torch.Size([1, 5209, 2]) torch.Size([1, 5209, 4])\n",
      "torch.Size([1, 5209, 4])\n",
      "val_loss =  0.021319497\n",
      "-----------------------------------------------------------------------\n"
     ]
    },
    {
     "data": {
      "application/vnd.jupyter.widget-view+json": {
       "model_id": "1dcb0f9a9b384549953298a299599041",
       "version_major": 2,
       "version_minor": 0
      },
      "text/plain": [
       "  0%|          | 0/53 [00:00<?, ?it/s]"
      ]
     },
     "metadata": {},
     "output_type": "display_data"
    },
    {
     "name": "stdout",
     "output_type": "stream",
     "text": [
      "544\n",
      "ELBO train_loss -2.9802523221609727\n",
      "mse train_loss 0.0003727036591439139\n",
      "torch.Size([1, 20837, 2]) torch.Size([1, 20837, 4]) torch.Size([1, 5209, 2]) torch.Size([1, 5209, 4])\n",
      "torch.Size([1, 5209, 4])\n",
      "val_loss =  0.01507257\n",
      "-----------------------------------------------------------------------\n"
     ]
    },
    {
     "data": {
      "application/vnd.jupyter.widget-view+json": {
       "model_id": "c4454033a0c447549e1830225d5496c0",
       "version_major": 2,
       "version_minor": 0
      },
      "text/plain": [
       "  0%|          | 0/53 [00:00<?, ?it/s]"
      ]
     },
     "metadata": {},
     "output_type": "display_data"
    },
    {
     "name": "stdout",
     "output_type": "stream",
     "text": [
      "545\n",
      "ELBO train_loss -2.991712934565994\n",
      "mse train_loss 0.0003582834252947063\n",
      "torch.Size([1, 20837, 2]) torch.Size([1, 20837, 4]) torch.Size([1, 5209, 2]) torch.Size([1, 5209, 4])\n",
      "torch.Size([1, 5209, 4])\n",
      "val_loss =  0.013600694\n",
      "-----------------------------------------------------------------------\n"
     ]
    },
    {
     "data": {
      "application/vnd.jupyter.widget-view+json": {
       "model_id": "801b84ea24844d04a329046ef5994db5",
       "version_major": 2,
       "version_minor": 0
      },
      "text/plain": [
       "  0%|          | 0/53 [00:00<?, ?it/s]"
      ]
     },
     "metadata": {},
     "output_type": "display_data"
    },
    {
     "name": "stdout",
     "output_type": "stream",
     "text": [
      "546\n",
      "ELBO train_loss -3.018823205300097\n",
      "mse train_loss 0.00037511377480047985\n",
      "torch.Size([1, 20837, 2]) torch.Size([1, 20837, 4]) torch.Size([1, 5209, 2]) torch.Size([1, 5209, 4])\n",
      "torch.Size([1, 5209, 4])\n",
      "val_loss =  0.012908155\n",
      "-----------------------------------------------------------------------\n"
     ]
    },
    {
     "data": {
      "application/vnd.jupyter.widget-view+json": {
       "model_id": "6ddcbf3d46dd43f29215cc3bb4d889ba",
       "version_major": 2,
       "version_minor": 0
      },
      "text/plain": [
       "  0%|          | 0/53 [00:00<?, ?it/s]"
      ]
     },
     "metadata": {},
     "output_type": "display_data"
    },
    {
     "name": "stdout",
     "output_type": "stream",
     "text": [
      "547\n",
      "ELBO train_loss -3.024139111896731\n",
      "mse train_loss 0.0003496310750532122\n",
      "torch.Size([1, 20837, 2]) torch.Size([1, 20837, 4]) torch.Size([1, 5209, 2]) torch.Size([1, 5209, 4])\n",
      "torch.Size([1, 5209, 4])\n",
      "val_loss =  0.010669006\n",
      "-----------------------------------------------------------------------\n"
     ]
    },
    {
     "data": {
      "application/vnd.jupyter.widget-view+json": {
       "model_id": "94f150e464fc47a8a504409fa60ba2c3",
       "version_major": 2,
       "version_minor": 0
      },
      "text/plain": [
       "  0%|          | 0/53 [00:00<?, ?it/s]"
      ]
     },
     "metadata": {},
     "output_type": "display_data"
    },
    {
     "name": "stdout",
     "output_type": "stream",
     "text": [
      "548\n",
      "ELBO train_loss -3.0215936291892573\n",
      "mse train_loss 0.00037785845491288336\n",
      "torch.Size([1, 20837, 2]) torch.Size([1, 20837, 4]) torch.Size([1, 5209, 2]) torch.Size([1, 5209, 4])\n",
      "torch.Size([1, 5209, 4])\n",
      "val_loss =  0.014104011\n",
      "-----------------------------------------------------------------------\n"
     ]
    },
    {
     "data": {
      "application/vnd.jupyter.widget-view+json": {
       "model_id": "daa70fb3af15471e844fd47c3e2ad726",
       "version_major": 2,
       "version_minor": 0
      },
      "text/plain": [
       "  0%|          | 0/53 [00:00<?, ?it/s]"
      ]
     },
     "metadata": {},
     "output_type": "display_data"
    },
    {
     "name": "stdout",
     "output_type": "stream",
     "text": [
      "549\n",
      "ELBO train_loss -3.0302267974277712\n",
      "mse train_loss 0.00034892639649904524\n",
      "torch.Size([1, 20837, 2]) torch.Size([1, 20837, 4]) torch.Size([1, 5209, 2]) torch.Size([1, 5209, 4])\n",
      "torch.Size([1, 5209, 4])\n",
      "val_loss =  0.012218856\n",
      "-----------------------------------------------------------------------\n"
     ]
    },
    {
     "data": {
      "application/vnd.jupyter.widget-view+json": {
       "model_id": "5e2393b3524242c292dc80e0d886a0ce",
       "version_major": 2,
       "version_minor": 0
      },
      "text/plain": [
       "  0%|          | 0/53 [00:00<?, ?it/s]"
      ]
     },
     "metadata": {},
     "output_type": "display_data"
    },
    {
     "name": "stdout",
     "output_type": "stream",
     "text": [
      "550\n",
      "ELBO train_loss -3.0267220263211234\n",
      "mse train_loss 0.0003651222134479058\n",
      "torch.Size([1, 20837, 2]) torch.Size([1, 20837, 4]) torch.Size([1, 5209, 2]) torch.Size([1, 5209, 4])\n",
      "torch.Size([1, 5209, 4])\n",
      "val_loss =  0.031815056\n",
      "-----------------------------------------------------------------------\n"
     ]
    },
    {
     "data": {
      "application/vnd.jupyter.widget-view+json": {
       "model_id": "06a698bad40d4035a18e9c4d8e069e0f",
       "version_major": 2,
       "version_minor": 0
      },
      "text/plain": [
       "  0%|          | 0/53 [00:00<?, ?it/s]"
      ]
     },
     "metadata": {},
     "output_type": "display_data"
    },
    {
     "name": "stdout",
     "output_type": "stream",
     "text": [
      "551\n",
      "ELBO train_loss -3.0211420778958304\n",
      "mse train_loss 0.0003822223855268193\n",
      "torch.Size([1, 20837, 2]) torch.Size([1, 20837, 4]) torch.Size([1, 5209, 2]) torch.Size([1, 5209, 4])\n",
      "torch.Size([1, 5209, 4])\n",
      "val_loss =  0.014430227\n",
      "-----------------------------------------------------------------------\n"
     ]
    },
    {
     "data": {
      "application/vnd.jupyter.widget-view+json": {
       "model_id": "14a9a608a4ab40fb9bf71cae96a08ae9",
       "version_major": 2,
       "version_minor": 0
      },
      "text/plain": [
       "  0%|          | 0/53 [00:00<?, ?it/s]"
      ]
     },
     "metadata": {},
     "output_type": "display_data"
    },
    {
     "name": "stdout",
     "output_type": "stream",
     "text": [
      "552\n",
      "ELBO train_loss -3.0089977417352065\n",
      "mse train_loss 0.0003857419728345396\n",
      "torch.Size([1, 20837, 2]) torch.Size([1, 20837, 4]) torch.Size([1, 5209, 2]) torch.Size([1, 5209, 4])\n",
      "torch.Size([1, 5209, 4])\n",
      "val_loss =  0.016584268\n",
      "-----------------------------------------------------------------------\n"
     ]
    },
    {
     "data": {
      "application/vnd.jupyter.widget-view+json": {
       "model_id": "3ce00d997db84775889ea2eb4d271c2d",
       "version_major": 2,
       "version_minor": 0
      },
      "text/plain": [
       "  0%|          | 0/53 [00:00<?, ?it/s]"
      ]
     },
     "metadata": {},
     "output_type": "display_data"
    },
    {
     "name": "stdout",
     "output_type": "stream",
     "text": [
      "553\n",
      "ELBO train_loss -3.015391574715668\n",
      "mse train_loss 0.000366227857258944\n",
      "torch.Size([1, 20837, 2]) torch.Size([1, 20837, 4]) torch.Size([1, 5209, 2]) torch.Size([1, 5209, 4])\n",
      "torch.Size([1, 5209, 4])\n",
      "val_loss =  0.012458476\n",
      "-----------------------------------------------------------------------\n"
     ]
    },
    {
     "data": {
      "application/vnd.jupyter.widget-view+json": {
       "model_id": "e5a88fee717d4a618221f604561afcd4",
       "version_major": 2,
       "version_minor": 0
      },
      "text/plain": [
       "  0%|          | 0/53 [00:00<?, ?it/s]"
      ]
     },
     "metadata": {},
     "output_type": "display_data"
    },
    {
     "name": "stdout",
     "output_type": "stream",
     "text": [
      "554\n",
      "ELBO train_loss -3.030875232984435\n",
      "mse train_loss 0.0003561356334446244\n",
      "torch.Size([1, 20837, 2]) torch.Size([1, 20837, 4]) torch.Size([1, 5209, 2]) torch.Size([1, 5209, 4])\n",
      "torch.Size([1, 5209, 4])\n",
      "val_loss =  0.015945286\n",
      "-----------------------------------------------------------------------\n"
     ]
    },
    {
     "data": {
      "application/vnd.jupyter.widget-view+json": {
       "model_id": "fd1c78d44f114fe58cfabb813fad4c39",
       "version_major": 2,
       "version_minor": 0
      },
      "text/plain": [
       "  0%|          | 0/53 [00:00<?, ?it/s]"
      ]
     },
     "metadata": {},
     "output_type": "display_data"
    },
    {
     "name": "stdout",
     "output_type": "stream",
     "text": [
      "555\n",
      "ELBO train_loss -3.0258791221762604\n",
      "mse train_loss 0.0003538441384114536\n",
      "torch.Size([1, 20837, 2]) torch.Size([1, 20837, 4]) torch.Size([1, 5209, 2]) torch.Size([1, 5209, 4])\n",
      "torch.Size([1, 5209, 4])\n",
      "val_loss =  0.010774056\n",
      "-----------------------------------------------------------------------\n"
     ]
    },
    {
     "data": {
      "application/vnd.jupyter.widget-view+json": {
       "model_id": "aefd6644be724051b25484b403b61b06",
       "version_major": 2,
       "version_minor": 0
      },
      "text/plain": [
       "  0%|          | 0/53 [00:00<?, ?it/s]"
      ]
     },
     "metadata": {},
     "output_type": "display_data"
    },
    {
     "name": "stdout",
     "output_type": "stream",
     "text": [
      "556\n",
      "ELBO train_loss -3.021581663275665\n",
      "mse train_loss 0.0003541102800364518\n",
      "torch.Size([1, 20837, 2]) torch.Size([1, 20837, 4]) torch.Size([1, 5209, 2]) torch.Size([1, 5209, 4])\n",
      "torch.Size([1, 5209, 4])\n",
      "val_loss =  0.028568905\n",
      "-----------------------------------------------------------------------\n"
     ]
    },
    {
     "data": {
      "application/vnd.jupyter.widget-view+json": {
       "model_id": "b6a5aea853c841bf94b609f527c15693",
       "version_major": 2,
       "version_minor": 0
      },
      "text/plain": [
       "  0%|          | 0/53 [00:00<?, ?it/s]"
      ]
     },
     "metadata": {},
     "output_type": "display_data"
    },
    {
     "name": "stdout",
     "output_type": "stream",
     "text": [
      "557\n",
      "ELBO train_loss -3.0068560636268473\n",
      "mse train_loss 0.0004276417633452681\n",
      "torch.Size([1, 20837, 2]) torch.Size([1, 20837, 4]) torch.Size([1, 5209, 2]) torch.Size([1, 5209, 4])\n",
      "torch.Size([1, 5209, 4])\n",
      "val_loss =  0.0153001305\n",
      "-----------------------------------------------------------------------\n"
     ]
    },
    {
     "data": {
      "application/vnd.jupyter.widget-view+json": {
       "model_id": "696e94656ccb4f6bb6ffb09db086a7f0",
       "version_major": 2,
       "version_minor": 0
      },
      "text/plain": [
       "  0%|          | 0/53 [00:00<?, ?it/s]"
      ]
     },
     "metadata": {},
     "output_type": "display_data"
    },
    {
     "name": "stdout",
     "output_type": "stream",
     "text": [
      "558\n",
      "ELBO train_loss -3.034841631943325\n",
      "mse train_loss 0.0003537833896566639\n",
      "torch.Size([1, 20837, 2]) torch.Size([1, 20837, 4]) torch.Size([1, 5209, 2]) torch.Size([1, 5209, 4])\n",
      "torch.Size([1, 5209, 4])\n",
      "val_loss =  0.012260866\n",
      "-----------------------------------------------------------------------\n"
     ]
    },
    {
     "data": {
      "application/vnd.jupyter.widget-view+json": {
       "model_id": "99f10781ed3a43258999264c8d2b2748",
       "version_major": 2,
       "version_minor": 0
      },
      "text/plain": [
       "  0%|          | 0/53 [00:00<?, ?it/s]"
      ]
     },
     "metadata": {},
     "output_type": "display_data"
    },
    {
     "name": "stdout",
     "output_type": "stream",
     "text": [
      "559\n",
      "ELBO train_loss -3.0350641844407567\n",
      "mse train_loss 0.0003675265736847167\n",
      "torch.Size([1, 20837, 2]) torch.Size([1, 20837, 4]) torch.Size([1, 5209, 2]) torch.Size([1, 5209, 4])\n",
      "torch.Size([1, 5209, 4])\n",
      "val_loss =  0.027262157\n",
      "-----------------------------------------------------------------------\n"
     ]
    },
    {
     "data": {
      "application/vnd.jupyter.widget-view+json": {
       "model_id": "28bc9649334e436db47c55bb8fd9089e",
       "version_major": 2,
       "version_minor": 0
      },
      "text/plain": [
       "  0%|          | 0/53 [00:00<?, ?it/s]"
      ]
     },
     "metadata": {},
     "output_type": "display_data"
    },
    {
     "name": "stdout",
     "output_type": "stream",
     "text": [
      "560\n",
      "ELBO train_loss -3.0266065147687806\n",
      "mse train_loss 0.0003653604299475808\n",
      "torch.Size([1, 20837, 2]) torch.Size([1, 20837, 4]) torch.Size([1, 5209, 2]) torch.Size([1, 5209, 4])\n",
      "torch.Size([1, 5209, 4])\n",
      "val_loss =  0.026396688\n",
      "-----------------------------------------------------------------------\n"
     ]
    },
    {
     "data": {
      "application/vnd.jupyter.widget-view+json": {
       "model_id": "bdba1893cd8849c0890b43074b1e7fed",
       "version_major": 2,
       "version_minor": 0
      },
      "text/plain": [
       "  0%|          | 0/53 [00:00<?, ?it/s]"
      ]
     },
     "metadata": {},
     "output_type": "display_data"
    },
    {
     "name": "stdout",
     "output_type": "stream",
     "text": [
      "561\n",
      "ELBO train_loss -3.0428344708568646\n",
      "mse train_loss 0.0003679528374462125\n",
      "torch.Size([1, 20837, 2]) torch.Size([1, 20837, 4]) torch.Size([1, 5209, 2]) torch.Size([1, 5209, 4])\n",
      "torch.Size([1, 5209, 4])\n",
      "val_loss =  0.015570975\n",
      "-----------------------------------------------------------------------\n"
     ]
    },
    {
     "data": {
      "application/vnd.jupyter.widget-view+json": {
       "model_id": "0f91d1b68b0f437e890f8594cd60ba7a",
       "version_major": 2,
       "version_minor": 0
      },
      "text/plain": [
       "  0%|          | 0/53 [00:00<?, ?it/s]"
      ]
     },
     "metadata": {},
     "output_type": "display_data"
    },
    {
     "name": "stdout",
     "output_type": "stream",
     "text": [
      "562\n",
      "ELBO train_loss -3.0070438429994404\n",
      "mse train_loss 0.0003762412264411566\n",
      "torch.Size([1, 20837, 2]) torch.Size([1, 20837, 4]) torch.Size([1, 5209, 2]) torch.Size([1, 5209, 4])\n",
      "torch.Size([1, 5209, 4])\n",
      "val_loss =  0.023540987\n",
      "-----------------------------------------------------------------------\n"
     ]
    },
    {
     "data": {
      "application/vnd.jupyter.widget-view+json": {
       "model_id": "8889b0dd16574d17b279efb2819116f6",
       "version_major": 2,
       "version_minor": 0
      },
      "text/plain": [
       "  0%|          | 0/53 [00:00<?, ?it/s]"
      ]
     },
     "metadata": {},
     "output_type": "display_data"
    },
    {
     "name": "stdout",
     "output_type": "stream",
     "text": [
      "563\n",
      "ELBO train_loss -2.9704085475993605\n",
      "mse train_loss 0.000397548833993738\n",
      "torch.Size([1, 20837, 2]) torch.Size([1, 20837, 4]) torch.Size([1, 5209, 2]) torch.Size([1, 5209, 4])\n",
      "torch.Size([1, 5209, 4])\n",
      "val_loss =  0.015563863\n",
      "-----------------------------------------------------------------------\n"
     ]
    },
    {
     "data": {
      "application/vnd.jupyter.widget-view+json": {
       "model_id": "a7c8fe92da6f44d9b6ebf01fe63a9ad8",
       "version_major": 2,
       "version_minor": 0
      },
      "text/plain": [
       "  0%|          | 0/53 [00:00<?, ?it/s]"
      ]
     },
     "metadata": {},
     "output_type": "display_data"
    },
    {
     "name": "stdout",
     "output_type": "stream",
     "text": [
      "564\n",
      "ELBO train_loss -3.045656941971689\n",
      "mse train_loss 0.00036348759681030334\n",
      "torch.Size([1, 20837, 2]) torch.Size([1, 20837, 4]) torch.Size([1, 5209, 2]) torch.Size([1, 5209, 4])\n",
      "torch.Size([1, 5209, 4])\n",
      "val_loss =  0.012418874\n",
      "-----------------------------------------------------------------------\n"
     ]
    },
    {
     "data": {
      "application/vnd.jupyter.widget-view+json": {
       "model_id": "18ec99f1ce4442a1961ef568716e8018",
       "version_major": 2,
       "version_minor": 0
      },
      "text/plain": [
       "  0%|          | 0/53 [00:00<?, ?it/s]"
      ]
     },
     "metadata": {},
     "output_type": "display_data"
    },
    {
     "name": "stdout",
     "output_type": "stream",
     "text": [
      "565\n",
      "ELBO train_loss -3.044751635137594\n",
      "mse train_loss 0.0003627567057264969\n",
      "torch.Size([1, 20837, 2]) torch.Size([1, 20837, 4]) torch.Size([1, 5209, 2]) torch.Size([1, 5209, 4])\n",
      "torch.Size([1, 5209, 4])\n",
      "val_loss =  0.010629733\n",
      "-----------------------------------------------------------------------\n"
     ]
    },
    {
     "data": {
      "application/vnd.jupyter.widget-view+json": {
       "model_id": "abad4b6edb964f5f844421d74ba7c62f",
       "version_major": 2,
       "version_minor": 0
      },
      "text/plain": [
       "  0%|          | 0/53 [00:00<?, ?it/s]"
      ]
     },
     "metadata": {},
     "output_type": "display_data"
    },
    {
     "name": "stdout",
     "output_type": "stream",
     "text": [
      "566\n",
      "ELBO train_loss -3.053323889678379\n",
      "mse train_loss 0.00035206496716643914\n",
      "torch.Size([1, 20837, 2]) torch.Size([1, 20837, 4]) torch.Size([1, 5209, 2]) torch.Size([1, 5209, 4])\n",
      "torch.Size([1, 5209, 4])\n",
      "val_loss =  0.0120893475\n",
      "-----------------------------------------------------------------------\n"
     ]
    },
    {
     "data": {
      "application/vnd.jupyter.widget-view+json": {
       "model_id": "aa1aedbb041c465a9e79f8d13f48194c",
       "version_major": 2,
       "version_minor": 0
      },
      "text/plain": [
       "  0%|          | 0/53 [00:00<?, ?it/s]"
      ]
     },
     "metadata": {},
     "output_type": "display_data"
    },
    {
     "name": "stdout",
     "output_type": "stream",
     "text": [
      "567\n",
      "ELBO train_loss -3.051156718775911\n",
      "mse train_loss 0.00036981272624304765\n",
      "torch.Size([1, 20837, 2]) torch.Size([1, 20837, 4]) torch.Size([1, 5209, 2]) torch.Size([1, 5209, 4])\n",
      "torch.Size([1, 5209, 4])\n",
      "val_loss =  0.0107938815\n",
      "-----------------------------------------------------------------------\n"
     ]
    },
    {
     "data": {
      "application/vnd.jupyter.widget-view+json": {
       "model_id": "7c36c0344c6841b9b475e1307d5f08b6",
       "version_major": 2,
       "version_minor": 0
      },
      "text/plain": [
       "  0%|          | 0/53 [00:00<?, ?it/s]"
      ]
     },
     "metadata": {},
     "output_type": "display_data"
    },
    {
     "name": "stdout",
     "output_type": "stream",
     "text": [
      "568\n",
      "ELBO train_loss -3.0415842128249833\n",
      "mse train_loss 0.0003702626039190569\n",
      "torch.Size([1, 20837, 2]) torch.Size([1, 20837, 4]) torch.Size([1, 5209, 2]) torch.Size([1, 5209, 4])\n",
      "torch.Size([1, 5209, 4])\n",
      "val_loss =  0.012498744\n",
      "-----------------------------------------------------------------------\n"
     ]
    },
    {
     "data": {
      "application/vnd.jupyter.widget-view+json": {
       "model_id": "b17a4cf2bbc14efbb3fd3078d59569b4",
       "version_major": 2,
       "version_minor": 0
      },
      "text/plain": [
       "  0%|          | 0/53 [00:00<?, ?it/s]"
      ]
     },
     "metadata": {},
     "output_type": "display_data"
    },
    {
     "name": "stdout",
     "output_type": "stream",
     "text": [
      "569\n",
      "ELBO train_loss -3.0200669900426327\n",
      "mse train_loss 0.00038112325479610346\n",
      "torch.Size([1, 20837, 2]) torch.Size([1, 20837, 4]) torch.Size([1, 5209, 2]) torch.Size([1, 5209, 4])\n",
      "torch.Size([1, 5209, 4])\n",
      "val_loss =  0.014958619\n",
      "-----------------------------------------------------------------------\n"
     ]
    },
    {
     "data": {
      "application/vnd.jupyter.widget-view+json": {
       "model_id": "277e2dfb32c647eba03556a3cb43397a",
       "version_major": 2,
       "version_minor": 0
      },
      "text/plain": [
       "  0%|          | 0/53 [00:00<?, ?it/s]"
      ]
     },
     "metadata": {},
     "output_type": "display_data"
    },
    {
     "name": "stdout",
     "output_type": "stream",
     "text": [
      "570\n",
      "ELBO train_loss -3.044704518228207\n",
      "mse train_loss 0.0003698164622413592\n",
      "torch.Size([1, 20837, 2]) torch.Size([1, 20837, 4]) torch.Size([1, 5209, 2]) torch.Size([1, 5209, 4])\n",
      "torch.Size([1, 5209, 4])\n",
      "val_loss =  0.012198879\n",
      "-----------------------------------------------------------------------\n"
     ]
    },
    {
     "data": {
      "application/vnd.jupyter.widget-view+json": {
       "model_id": "57bbc0a4a1794b7da5d23fa3ab95634c",
       "version_major": 2,
       "version_minor": 0
      },
      "text/plain": [
       "  0%|          | 0/53 [00:00<?, ?it/s]"
      ]
     },
     "metadata": {},
     "output_type": "display_data"
    },
    {
     "name": "stdout",
     "output_type": "stream",
     "text": [
      "571\n",
      "ELBO train_loss -3.0430750082123956\n",
      "mse train_loss 0.00036844898074017484\n",
      "torch.Size([1, 20837, 2]) torch.Size([1, 20837, 4]) torch.Size([1, 5209, 2]) torch.Size([1, 5209, 4])\n",
      "torch.Size([1, 5209, 4])\n",
      "val_loss =  0.013623525\n",
      "-----------------------------------------------------------------------\n"
     ]
    },
    {
     "data": {
      "application/vnd.jupyter.widget-view+json": {
       "model_id": "6049d5743446453984978dc0b0341880",
       "version_major": 2,
       "version_minor": 0
      },
      "text/plain": [
       "  0%|          | 0/53 [00:00<?, ?it/s]"
      ]
     },
     "metadata": {},
     "output_type": "display_data"
    },
    {
     "name": "stdout",
     "output_type": "stream",
     "text": [
      "572\n",
      "ELBO train_loss -3.041359707994281\n",
      "mse train_loss 0.0003585972271877218\n",
      "torch.Size([1, 20837, 2]) torch.Size([1, 20837, 4]) torch.Size([1, 5209, 2]) torch.Size([1, 5209, 4])\n",
      "torch.Size([1, 5209, 4])\n",
      "val_loss =  0.010018591\n",
      "-----------------------------------------------------------------------\n"
     ]
    },
    {
     "data": {
      "application/vnd.jupyter.widget-view+json": {
       "model_id": "0aa9b4d4cfcf43f48bcb6d8eaa2d5bbd",
       "version_major": 2,
       "version_minor": 0
      },
      "text/plain": [
       "  0%|          | 0/53 [00:00<?, ?it/s]"
      ]
     },
     "metadata": {},
     "output_type": "display_data"
    },
    {
     "name": "stdout",
     "output_type": "stream",
     "text": [
      "573\n",
      "ELBO train_loss -3.0641035898676456\n",
      "mse train_loss 0.0003622290447688187\n",
      "torch.Size([1, 20837, 2]) torch.Size([1, 20837, 4]) torch.Size([1, 5209, 2]) torch.Size([1, 5209, 4])\n",
      "torch.Size([1, 5209, 4])\n",
      "val_loss =  0.017665818\n",
      "-----------------------------------------------------------------------\n"
     ]
    },
    {
     "data": {
      "application/vnd.jupyter.widget-view+json": {
       "model_id": "7975ea211f7b4372a507a3d579cd74c4",
       "version_major": 2,
       "version_minor": 0
      },
      "text/plain": [
       "  0%|          | 0/53 [00:00<?, ?it/s]"
      ]
     },
     "metadata": {},
     "output_type": "display_data"
    },
    {
     "name": "stdout",
     "output_type": "stream",
     "text": [
      "574\n",
      "ELBO train_loss -3.063297406682428\n",
      "mse train_loss 0.0003470202192954086\n",
      "torch.Size([1, 20837, 2]) torch.Size([1, 20837, 4]) torch.Size([1, 5209, 2]) torch.Size([1, 5209, 4])\n",
      "torch.Size([1, 5209, 4])\n",
      "val_loss =  0.012585844\n",
      "-----------------------------------------------------------------------\n"
     ]
    },
    {
     "data": {
      "application/vnd.jupyter.widget-view+json": {
       "model_id": "3d6bcf82db524ec7810bf0272f197918",
       "version_major": 2,
       "version_minor": 0
      },
      "text/plain": [
       "  0%|          | 0/53 [00:00<?, ?it/s]"
      ]
     },
     "metadata": {},
     "output_type": "display_data"
    },
    {
     "name": "stdout",
     "output_type": "stream",
     "text": [
      "575\n",
      "ELBO train_loss -3.0500215044561423\n",
      "mse train_loss 0.00034793216942695306\n",
      "torch.Size([1, 20837, 2]) torch.Size([1, 20837, 4]) torch.Size([1, 5209, 2]) torch.Size([1, 5209, 4])\n",
      "torch.Size([1, 5209, 4])\n",
      "val_loss =  0.012004771\n",
      "-----------------------------------------------------------------------\n"
     ]
    },
    {
     "data": {
      "application/vnd.jupyter.widget-view+json": {
       "model_id": "1ae11470b7c94901a5fa6bbefdf6bca1",
       "version_major": 2,
       "version_minor": 0
      },
      "text/plain": [
       "  0%|          | 0/53 [00:00<?, ?it/s]"
      ]
     },
     "metadata": {},
     "output_type": "display_data"
    },
    {
     "name": "stdout",
     "output_type": "stream",
     "text": [
      "576\n",
      "ELBO train_loss -3.0463323863047473\n",
      "mse train_loss 0.00035641027970309807\n",
      "torch.Size([1, 20837, 2]) torch.Size([1, 20837, 4]) torch.Size([1, 5209, 2]) torch.Size([1, 5209, 4])\n",
      "torch.Size([1, 5209, 4])\n",
      "val_loss =  0.010589026\n",
      "-----------------------------------------------------------------------\n"
     ]
    },
    {
     "data": {
      "application/vnd.jupyter.widget-view+json": {
       "model_id": "70e38bd4a0514e18bbf96559e2f0951b",
       "version_major": 2,
       "version_minor": 0
      },
      "text/plain": [
       "  0%|          | 0/53 [00:00<?, ?it/s]"
      ]
     },
     "metadata": {},
     "output_type": "display_data"
    },
    {
     "name": "stdout",
     "output_type": "stream",
     "text": [
      "577\n",
      "ELBO train_loss -3.0679318410045697\n",
      "mse train_loss 0.0003447078993732883\n",
      "torch.Size([1, 20837, 2]) torch.Size([1, 20837, 4]) torch.Size([1, 5209, 2]) torch.Size([1, 5209, 4])\n",
      "torch.Size([1, 5209, 4])\n",
      "val_loss =  0.0155790625\n",
      "-----------------------------------------------------------------------\n"
     ]
    },
    {
     "data": {
      "application/vnd.jupyter.widget-view+json": {
       "model_id": "42fa11176e46415e953eb1ebcfc10946",
       "version_major": 2,
       "version_minor": 0
      },
      "text/plain": [
       "  0%|          | 0/53 [00:00<?, ?it/s]"
      ]
     },
     "metadata": {},
     "output_type": "display_data"
    },
    {
     "name": "stdout",
     "output_type": "stream",
     "text": [
      "578\n",
      "ELBO train_loss -3.0632315806622774\n",
      "mse train_loss 0.0003564837968025251\n",
      "torch.Size([1, 20837, 2]) torch.Size([1, 20837, 4]) torch.Size([1, 5209, 2]) torch.Size([1, 5209, 4])\n",
      "torch.Size([1, 5209, 4])\n",
      "val_loss =  0.014968122\n",
      "-----------------------------------------------------------------------\n"
     ]
    },
    {
     "data": {
      "application/vnd.jupyter.widget-view+json": {
       "model_id": "5dddfcc0c41a4180ba598adb213c8103",
       "version_major": 2,
       "version_minor": 0
      },
      "text/plain": [
       "  0%|          | 0/53 [00:00<?, ?it/s]"
      ]
     },
     "metadata": {},
     "output_type": "display_data"
    },
    {
     "name": "stdout",
     "output_type": "stream",
     "text": [
      "579\n",
      "ELBO train_loss -3.0655516228585875\n",
      "mse train_loss 0.0003721972129566876\n",
      "torch.Size([1, 20837, 2]) torch.Size([1, 20837, 4]) torch.Size([1, 5209, 2]) torch.Size([1, 5209, 4])\n",
      "torch.Size([1, 5209, 4])\n",
      "val_loss =  0.01440255\n",
      "-----------------------------------------------------------------------\n"
     ]
    },
    {
     "data": {
      "application/vnd.jupyter.widget-view+json": {
       "model_id": "0c45367ccc8e40fa961c4d32d03adb65",
       "version_major": 2,
       "version_minor": 0
      },
      "text/plain": [
       "  0%|          | 0/53 [00:00<?, ?it/s]"
      ]
     },
     "metadata": {},
     "output_type": "display_data"
    },
    {
     "name": "stdout",
     "output_type": "stream",
     "text": [
      "580\n",
      "ELBO train_loss -3.0772550285987132\n",
      "mse train_loss 0.0003562426572898403\n",
      "torch.Size([1, 20837, 2]) torch.Size([1, 20837, 4]) torch.Size([1, 5209, 2]) torch.Size([1, 5209, 4])\n",
      "torch.Size([1, 5209, 4])\n",
      "val_loss =  0.013440088\n",
      "-----------------------------------------------------------------------\n"
     ]
    },
    {
     "data": {
      "application/vnd.jupyter.widget-view+json": {
       "model_id": "42c9c8b0083645dc98b0e3a0617bc60c",
       "version_major": 2,
       "version_minor": 0
      },
      "text/plain": [
       "  0%|          | 0/53 [00:00<?, ?it/s]"
      ]
     },
     "metadata": {},
     "output_type": "display_data"
    },
    {
     "name": "stdout",
     "output_type": "stream",
     "text": [
      "581\n",
      "ELBO train_loss -3.067584712550325\n",
      "mse train_loss 0.00034222334984663593\n",
      "torch.Size([1, 20837, 2]) torch.Size([1, 20837, 4]) torch.Size([1, 5209, 2]) torch.Size([1, 5209, 4])\n",
      "torch.Size([1, 5209, 4])\n",
      "val_loss =  0.010265485\n",
      "-----------------------------------------------------------------------\n"
     ]
    },
    {
     "data": {
      "application/vnd.jupyter.widget-view+json": {
       "model_id": "0bce8101f2694a28a309086a4ac62f78",
       "version_major": 2,
       "version_minor": 0
      },
      "text/plain": [
       "  0%|          | 0/53 [00:00<?, ?it/s]"
      ]
     },
     "metadata": {},
     "output_type": "display_data"
    },
    {
     "name": "stdout",
     "output_type": "stream",
     "text": [
      "582\n",
      "ELBO train_loss -3.0725075973654694\n",
      "mse train_loss 0.00037826195357582655\n",
      "torch.Size([1, 20837, 2]) torch.Size([1, 20837, 4]) torch.Size([1, 5209, 2]) torch.Size([1, 5209, 4])\n",
      "torch.Size([1, 5209, 4])\n",
      "val_loss =  0.013019454\n",
      "-----------------------------------------------------------------------\n"
     ]
    },
    {
     "data": {
      "application/vnd.jupyter.widget-view+json": {
       "model_id": "959094ed76854539b0f21ef448134fd3",
       "version_major": 2,
       "version_minor": 0
      },
      "text/plain": [
       "  0%|          | 0/53 [00:00<?, ?it/s]"
      ]
     },
     "metadata": {},
     "output_type": "display_data"
    },
    {
     "name": "stdout",
     "output_type": "stream",
     "text": [
      "583\n",
      "ELBO train_loss -3.0819240875963896\n",
      "mse train_loss 0.00035604299183381407\n",
      "torch.Size([1, 20837, 2]) torch.Size([1, 20837, 4]) torch.Size([1, 5209, 2]) torch.Size([1, 5209, 4])\n",
      "torch.Size([1, 5209, 4])\n",
      "val_loss =  0.010090497\n",
      "-----------------------------------------------------------------------\n"
     ]
    },
    {
     "data": {
      "application/vnd.jupyter.widget-view+json": {
       "model_id": "d329604a988e42b7bcb6d952edb26ee0",
       "version_major": 2,
       "version_minor": 0
      },
      "text/plain": [
       "  0%|          | 0/53 [00:00<?, ?it/s]"
      ]
     },
     "metadata": {},
     "output_type": "display_data"
    },
    {
     "name": "stdout",
     "output_type": "stream",
     "text": [
      "584\n",
      "ELBO train_loss -3.0809133322733753\n",
      "mse train_loss 0.00037400335988319776\n",
      "torch.Size([1, 20837, 2]) torch.Size([1, 20837, 4]) torch.Size([1, 5209, 2]) torch.Size([1, 5209, 4])\n",
      "torch.Size([1, 5209, 4])\n",
      "val_loss =  0.008573927\n",
      "-----------------------------------------------------------------------\n"
     ]
    },
    {
     "data": {
      "application/vnd.jupyter.widget-view+json": {
       "model_id": "f2bc7bd6a0844a3580ff28eac13f9fbc",
       "version_major": 2,
       "version_minor": 0
      },
      "text/plain": [
       "  0%|          | 0/53 [00:00<?, ?it/s]"
      ]
     },
     "metadata": {},
     "output_type": "display_data"
    },
    {
     "name": "stdout",
     "output_type": "stream",
     "text": [
      "585\n",
      "ELBO train_loss -3.0743978878237166\n",
      "mse train_loss 0.0003454459741610577\n",
      "torch.Size([1, 20837, 2]) torch.Size([1, 20837, 4]) torch.Size([1, 5209, 2]) torch.Size([1, 5209, 4])\n",
      "torch.Size([1, 5209, 4])\n",
      "val_loss =  0.014184293\n",
      "-----------------------------------------------------------------------\n"
     ]
    },
    {
     "data": {
      "application/vnd.jupyter.widget-view+json": {
       "model_id": "54b3d728521a46fb8bada9340c539eea",
       "version_major": 2,
       "version_minor": 0
      },
      "text/plain": [
       "  0%|          | 0/53 [00:00<?, ?it/s]"
      ]
     },
     "metadata": {},
     "output_type": "display_data"
    },
    {
     "name": "stdout",
     "output_type": "stream",
     "text": [
      "586\n",
      "ELBO train_loss -3.0816505180214935\n",
      "mse train_loss 0.00034620328136403467\n",
      "torch.Size([1, 20837, 2]) torch.Size([1, 20837, 4]) torch.Size([1, 5209, 2]) torch.Size([1, 5209, 4])\n",
      "torch.Size([1, 5209, 4])\n",
      "val_loss =  0.012520655\n",
      "-----------------------------------------------------------------------\n"
     ]
    },
    {
     "data": {
      "application/vnd.jupyter.widget-view+json": {
       "model_id": "d02aa1a4400f41388360de7764021bb7",
       "version_major": 2,
       "version_minor": 0
      },
      "text/plain": [
       "  0%|          | 0/53 [00:00<?, ?it/s]"
      ]
     },
     "metadata": {},
     "output_type": "display_data"
    },
    {
     "name": "stdout",
     "output_type": "stream",
     "text": [
      "587\n",
      "ELBO train_loss -3.0893638134002686\n",
      "mse train_loss 0.00036977999486723247\n",
      "torch.Size([1, 20837, 2]) torch.Size([1, 20837, 4]) torch.Size([1, 5209, 2]) torch.Size([1, 5209, 4])\n",
      "torch.Size([1, 5209, 4])\n",
      "val_loss =  0.009974335\n",
      "-----------------------------------------------------------------------\n"
     ]
    },
    {
     "data": {
      "application/vnd.jupyter.widget-view+json": {
       "model_id": "88b80eae074a4643ba0b0f7eaddb9889",
       "version_major": 2,
       "version_minor": 0
      },
      "text/plain": [
       "  0%|          | 0/53 [00:00<?, ?it/s]"
      ]
     },
     "metadata": {},
     "output_type": "display_data"
    },
    {
     "name": "stdout",
     "output_type": "stream",
     "text": [
      "588\n",
      "ELBO train_loss -3.0850565298548283\n",
      "mse train_loss 0.0003579321362952403\n",
      "torch.Size([1, 20837, 2]) torch.Size([1, 20837, 4]) torch.Size([1, 5209, 2]) torch.Size([1, 5209, 4])\n",
      "torch.Size([1, 5209, 4])\n",
      "val_loss =  0.012252722\n",
      "-----------------------------------------------------------------------\n"
     ]
    },
    {
     "data": {
      "application/vnd.jupyter.widget-view+json": {
       "model_id": "8b17923a4b6b4fc1a8836174cc404093",
       "version_major": 2,
       "version_minor": 0
      },
      "text/plain": [
       "  0%|          | 0/53 [00:00<?, ?it/s]"
      ]
     },
     "metadata": {},
     "output_type": "display_data"
    },
    {
     "name": "stdout",
     "output_type": "stream",
     "text": [
      "589\n",
      "ELBO train_loss -3.087121504657673\n",
      "mse train_loss 0.0003567585292742324\n",
      "torch.Size([1, 20837, 2]) torch.Size([1, 20837, 4]) torch.Size([1, 5209, 2]) torch.Size([1, 5209, 4])\n",
      "torch.Size([1, 5209, 4])\n",
      "val_loss =  0.027775103\n",
      "-----------------------------------------------------------------------\n"
     ]
    },
    {
     "data": {
      "application/vnd.jupyter.widget-view+json": {
       "model_id": "bd1e8c7862fa4fdcb694f5e038f6e6f1",
       "version_major": 2,
       "version_minor": 0
      },
      "text/plain": [
       "  0%|          | 0/53 [00:00<?, ?it/s]"
      ]
     },
     "metadata": {},
     "output_type": "display_data"
    },
    {
     "name": "stdout",
     "output_type": "stream",
     "text": [
      "590\n",
      "ELBO train_loss -3.0472281507725985\n",
      "mse train_loss 0.00038663562544278873\n",
      "torch.Size([1, 20837, 2]) torch.Size([1, 20837, 4]) torch.Size([1, 5209, 2]) torch.Size([1, 5209, 4])\n",
      "torch.Size([1, 5209, 4])\n",
      "val_loss =  0.011944087\n",
      "-----------------------------------------------------------------------\n"
     ]
    },
    {
     "data": {
      "application/vnd.jupyter.widget-view+json": {
       "model_id": "811c456ee36a4c53a39ddd5399efac2a",
       "version_major": 2,
       "version_minor": 0
      },
      "text/plain": [
       "  0%|          | 0/53 [00:00<?, ?it/s]"
      ]
     },
     "metadata": {},
     "output_type": "display_data"
    },
    {
     "name": "stdout",
     "output_type": "stream",
     "text": [
      "591\n",
      "ELBO train_loss -3.0667266665764576\n",
      "mse train_loss 0.00037705930985536707\n",
      "torch.Size([1, 20837, 2]) torch.Size([1, 20837, 4]) torch.Size([1, 5209, 2]) torch.Size([1, 5209, 4])\n",
      "torch.Size([1, 5209, 4])\n",
      "val_loss =  0.014542385\n",
      "-----------------------------------------------------------------------\n"
     ]
    },
    {
     "data": {
      "application/vnd.jupyter.widget-view+json": {
       "model_id": "5fcbaa7fe7394bac840920012ef5d554",
       "version_major": 2,
       "version_minor": 0
      },
      "text/plain": [
       "  0%|          | 0/53 [00:00<?, ?it/s]"
      ]
     },
     "metadata": {},
     "output_type": "display_data"
    },
    {
     "name": "stdout",
     "output_type": "stream",
     "text": [
      "592\n",
      "ELBO train_loss -3.0761700171344684\n",
      "mse train_loss 0.00034923575744955397\n",
      "torch.Size([1, 20837, 2]) torch.Size([1, 20837, 4]) torch.Size([1, 5209, 2]) torch.Size([1, 5209, 4])\n",
      "torch.Size([1, 5209, 4])\n",
      "val_loss =  0.014824448\n",
      "-----------------------------------------------------------------------\n"
     ]
    },
    {
     "data": {
      "application/vnd.jupyter.widget-view+json": {
       "model_id": "b8de556a5868415ea7f06d87356b46e4",
       "version_major": 2,
       "version_minor": 0
      },
      "text/plain": [
       "  0%|          | 0/53 [00:00<?, ?it/s]"
      ]
     },
     "metadata": {},
     "output_type": "display_data"
    },
    {
     "name": "stdout",
     "output_type": "stream",
     "text": [
      "593\n",
      "ELBO train_loss -3.0842541973545865\n",
      "mse train_loss 0.00036657011089187536\n",
      "torch.Size([1, 20837, 2]) torch.Size([1, 20837, 4]) torch.Size([1, 5209, 2]) torch.Size([1, 5209, 4])\n",
      "torch.Size([1, 5209, 4])\n",
      "val_loss =  0.012988422\n",
      "-----------------------------------------------------------------------\n"
     ]
    },
    {
     "data": {
      "application/vnd.jupyter.widget-view+json": {
       "model_id": "3c88644fad2e49cfa90aa6bcd9e28095",
       "version_major": 2,
       "version_minor": 0
      },
      "text/plain": [
       "  0%|          | 0/53 [00:00<?, ?it/s]"
      ]
     },
     "metadata": {},
     "output_type": "display_data"
    },
    {
     "name": "stdout",
     "output_type": "stream",
     "text": [
      "594\n",
      "ELBO train_loss -3.0968939853164383\n",
      "mse train_loss 0.0003586670058177573\n",
      "torch.Size([1, 20837, 2]) torch.Size([1, 20837, 4]) torch.Size([1, 5209, 2]) torch.Size([1, 5209, 4])\n",
      "torch.Size([1, 5209, 4])\n",
      "val_loss =  0.023033971\n",
      "-----------------------------------------------------------------------\n"
     ]
    },
    {
     "data": {
      "application/vnd.jupyter.widget-view+json": {
       "model_id": "fb49516e78e24f018f9e356823ddef58",
       "version_major": 2,
       "version_minor": 0
      },
      "text/plain": [
       "  0%|          | 0/53 [00:00<?, ?it/s]"
      ]
     },
     "metadata": {},
     "output_type": "display_data"
    },
    {
     "name": "stdout",
     "output_type": "stream",
     "text": [
      "595\n",
      "ELBO train_loss -3.1058572463269503\n",
      "mse train_loss 0.0003535009531813832\n",
      "torch.Size([1, 20837, 2]) torch.Size([1, 20837, 4]) torch.Size([1, 5209, 2]) torch.Size([1, 5209, 4])\n",
      "torch.Size([1, 5209, 4])\n",
      "val_loss =  0.0141682075\n",
      "-----------------------------------------------------------------------\n"
     ]
    },
    {
     "data": {
      "application/vnd.jupyter.widget-view+json": {
       "model_id": "001c5037b04b48f9b11dfe69c76e089e",
       "version_major": 2,
       "version_minor": 0
      },
      "text/plain": [
       "  0%|          | 0/53 [00:00<?, ?it/s]"
      ]
     },
     "metadata": {},
     "output_type": "display_data"
    },
    {
     "name": "stdout",
     "output_type": "stream",
     "text": [
      "596\n",
      "ELBO train_loss -3.0491612332539177\n",
      "mse train_loss 0.0003570002217596959\n",
      "torch.Size([1, 20837, 2]) torch.Size([1, 20837, 4]) torch.Size([1, 5209, 2]) torch.Size([1, 5209, 4])\n",
      "torch.Size([1, 5209, 4])\n",
      "val_loss =  0.012178422\n",
      "-----------------------------------------------------------------------\n"
     ]
    },
    {
     "data": {
      "application/vnd.jupyter.widget-view+json": {
       "model_id": "b1715c08144946098bcf04bf8a4f32ed",
       "version_major": 2,
       "version_minor": 0
      },
      "text/plain": [
       "  0%|          | 0/53 [00:00<?, ?it/s]"
      ]
     },
     "metadata": {},
     "output_type": "display_data"
    },
    {
     "name": "stdout",
     "output_type": "stream",
     "text": [
      "597\n",
      "ELBO train_loss -3.0925121532296234\n",
      "mse train_loss 0.00036860070189127244\n",
      "torch.Size([1, 20837, 2]) torch.Size([1, 20837, 4]) torch.Size([1, 5209, 2]) torch.Size([1, 5209, 4])\n",
      "torch.Size([1, 5209, 4])\n",
      "val_loss =  0.011230748\n",
      "-----------------------------------------------------------------------\n"
     ]
    },
    {
     "data": {
      "application/vnd.jupyter.widget-view+json": {
       "model_id": "2cacc58c2cde4030a1e13f9afbe800b3",
       "version_major": 2,
       "version_minor": 0
      },
      "text/plain": [
       "  0%|          | 0/53 [00:00<?, ?it/s]"
      ]
     },
     "metadata": {},
     "output_type": "display_data"
    },
    {
     "name": "stdout",
     "output_type": "stream",
     "text": [
      "598\n",
      "ELBO train_loss -3.1057131245451153\n",
      "mse train_loss 0.0003559043435193159\n",
      "torch.Size([1, 20837, 2]) torch.Size([1, 20837, 4]) torch.Size([1, 5209, 2]) torch.Size([1, 5209, 4])\n",
      "torch.Size([1, 5209, 4])\n",
      "val_loss =  0.01533327\n",
      "-----------------------------------------------------------------------\n"
     ]
    },
    {
     "data": {
      "application/vnd.jupyter.widget-view+json": {
       "model_id": "88f932e818d24c7ca03be800653ff808",
       "version_major": 2,
       "version_minor": 0
      },
      "text/plain": [
       "  0%|          | 0/53 [00:00<?, ?it/s]"
      ]
     },
     "metadata": {},
     "output_type": "display_data"
    },
    {
     "name": "stdout",
     "output_type": "stream",
     "text": [
      "599\n",
      "ELBO train_loss -3.1130415718510465\n",
      "mse train_loss 0.0003725988922183806\n",
      "torch.Size([1, 20837, 2]) torch.Size([1, 20837, 4]) torch.Size([1, 5209, 2]) torch.Size([1, 5209, 4])\n",
      "torch.Size([1, 5209, 4])\n",
      "val_loss =  0.010913912\n",
      "-----------------------------------------------------------------------\n"
     ]
    },
    {
     "data": {
      "application/vnd.jupyter.widget-view+json": {
       "model_id": "784ed12aef764354b8587b467abfa973",
       "version_major": 2,
       "version_minor": 0
      },
      "text/plain": [
       "  0%|          | 0/53 [00:00<?, ?it/s]"
      ]
     },
     "metadata": {},
     "output_type": "display_data"
    },
    {
     "name": "stdout",
     "output_type": "stream",
     "text": [
      "600\n",
      "ELBO train_loss -3.044097014193265\n",
      "mse train_loss 0.0004031366099194922\n",
      "torch.Size([1, 20837, 2]) torch.Size([1, 20837, 4]) torch.Size([1, 5209, 2]) torch.Size([1, 5209, 4])\n",
      "torch.Size([1, 5209, 4])\n",
      "val_loss =  0.0137194665\n",
      "-----------------------------------------------------------------------\n"
     ]
    },
    {
     "data": {
      "application/vnd.jupyter.widget-view+json": {
       "model_id": "9f1c0db34b0e43768c3694266ca811e0",
       "version_major": 2,
       "version_minor": 0
      },
      "text/plain": [
       "  0%|          | 0/53 [00:00<?, ?it/s]"
      ]
     },
     "metadata": {},
     "output_type": "display_data"
    },
    {
     "name": "stdout",
     "output_type": "stream",
     "text": [
      "601\n",
      "ELBO train_loss -3.071977439916359\n",
      "mse train_loss 0.0003646521882334162\n",
      "torch.Size([1, 20837, 2]) torch.Size([1, 20837, 4]) torch.Size([1, 5209, 2]) torch.Size([1, 5209, 4])\n",
      "torch.Size([1, 5209, 4])\n",
      "val_loss =  0.02044652\n",
      "-----------------------------------------------------------------------\n"
     ]
    },
    {
     "data": {
      "application/vnd.jupyter.widget-view+json": {
       "model_id": "365f2c5ea61c464883512472e53d7ca3",
       "version_major": 2,
       "version_minor": 0
      },
      "text/plain": [
       "  0%|          | 0/53 [00:00<?, ?it/s]"
      ]
     },
     "metadata": {},
     "output_type": "display_data"
    },
    {
     "name": "stdout",
     "output_type": "stream",
     "text": [
      "602\n",
      "ELBO train_loss -3.108085807764305\n",
      "mse train_loss 0.0003651664045942455\n",
      "torch.Size([1, 20837, 2]) torch.Size([1, 20837, 4]) torch.Size([1, 5209, 2]) torch.Size([1, 5209, 4])\n",
      "torch.Size([1, 5209, 4])\n",
      "val_loss =  0.020983035\n",
      "-----------------------------------------------------------------------\n"
     ]
    },
    {
     "data": {
      "application/vnd.jupyter.widget-view+json": {
       "model_id": "4e536d8889374b6a90471fd56d5013f8",
       "version_major": 2,
       "version_minor": 0
      },
      "text/plain": [
       "  0%|          | 0/53 [00:00<?, ?it/s]"
      ]
     },
     "metadata": {},
     "output_type": "display_data"
    },
    {
     "name": "stdout",
     "output_type": "stream",
     "text": [
      "603\n",
      "ELBO train_loss -3.1112709585225806\n",
      "mse train_loss 0.00035356547554981244\n",
      "torch.Size([1, 20837, 2]) torch.Size([1, 20837, 4]) torch.Size([1, 5209, 2]) torch.Size([1, 5209, 4])\n",
      "torch.Size([1, 5209, 4])\n",
      "val_loss =  0.009208245\n",
      "-----------------------------------------------------------------------\n"
     ]
    },
    {
     "data": {
      "application/vnd.jupyter.widget-view+json": {
       "model_id": "ac877fe798cb4174b095f69db883f6df",
       "version_major": 2,
       "version_minor": 0
      },
      "text/plain": [
       "  0%|          | 0/53 [00:00<?, ?it/s]"
      ]
     },
     "metadata": {},
     "output_type": "display_data"
    },
    {
     "name": "stdout",
     "output_type": "stream",
     "text": [
      "604\n",
      "ELBO train_loss -3.123910571044346\n",
      "mse train_loss 0.00034562079771312027\n",
      "torch.Size([1, 20837, 2]) torch.Size([1, 20837, 4]) torch.Size([1, 5209, 2]) torch.Size([1, 5209, 4])\n",
      "torch.Size([1, 5209, 4])\n",
      "val_loss =  0.0145005165\n",
      "-----------------------------------------------------------------------\n"
     ]
    },
    {
     "data": {
      "application/vnd.jupyter.widget-view+json": {
       "model_id": "9f478cf7ea32485aa7c2a1a0270cc681",
       "version_major": 2,
       "version_minor": 0
      },
      "text/plain": [
       "  0%|          | 0/53 [00:00<?, ?it/s]"
      ]
     },
     "metadata": {},
     "output_type": "display_data"
    },
    {
     "name": "stdout",
     "output_type": "stream",
     "text": [
      "605\n",
      "ELBO train_loss -3.1136767504350193\n",
      "mse train_loss 0.0003557305931023603\n",
      "torch.Size([1, 20837, 2]) torch.Size([1, 20837, 4]) torch.Size([1, 5209, 2]) torch.Size([1, 5209, 4])\n",
      "torch.Size([1, 5209, 4])\n",
      "val_loss =  0.018221581\n",
      "-----------------------------------------------------------------------\n"
     ]
    },
    {
     "data": {
      "application/vnd.jupyter.widget-view+json": {
       "model_id": "4268cd1aa05b4338a3af3e0da2453ec1",
       "version_major": 2,
       "version_minor": 0
      },
      "text/plain": [
       "  0%|          | 0/53 [00:00<?, ?it/s]"
      ]
     },
     "metadata": {},
     "output_type": "display_data"
    },
    {
     "name": "stdout",
     "output_type": "stream",
     "text": [
      "606\n",
      "ELBO train_loss -3.1084509435689673\n",
      "mse train_loss 0.0003594932385790601\n",
      "torch.Size([1, 20837, 2]) torch.Size([1, 20837, 4]) torch.Size([1, 5209, 2]) torch.Size([1, 5209, 4])\n",
      "torch.Size([1, 5209, 4])\n",
      "val_loss =  0.012457988\n",
      "-----------------------------------------------------------------------\n"
     ]
    },
    {
     "data": {
      "application/vnd.jupyter.widget-view+json": {
       "model_id": "d421b018483a4ee5a91f7a093e0bc94f",
       "version_major": 2,
       "version_minor": 0
      },
      "text/plain": [
       "  0%|          | 0/53 [00:00<?, ?it/s]"
      ]
     },
     "metadata": {},
     "output_type": "display_data"
    },
    {
     "name": "stdout",
     "output_type": "stream",
     "text": [
      "607\n",
      "ELBO train_loss -3.1042747992389605\n",
      "mse train_loss 0.0003655730540214001\n",
      "torch.Size([1, 20837, 2]) torch.Size([1, 20837, 4]) torch.Size([1, 5209, 2]) torch.Size([1, 5209, 4])\n",
      "torch.Size([1, 5209, 4])\n",
      "val_loss =  0.012098927\n",
      "-----------------------------------------------------------------------\n"
     ]
    },
    {
     "data": {
      "application/vnd.jupyter.widget-view+json": {
       "model_id": "b4445428ea3845808cbb8e0ec58311f1",
       "version_major": 2,
       "version_minor": 0
      },
      "text/plain": [
       "  0%|          | 0/53 [00:00<?, ?it/s]"
      ]
     },
     "metadata": {},
     "output_type": "display_data"
    },
    {
     "name": "stdout",
     "output_type": "stream",
     "text": [
      "608\n",
      "ELBO train_loss -3.1114418146745213\n",
      "mse train_loss 0.00035960912316782787\n",
      "torch.Size([1, 20837, 2]) torch.Size([1, 20837, 4]) torch.Size([1, 5209, 2]) torch.Size([1, 5209, 4])\n",
      "torch.Size([1, 5209, 4])\n",
      "val_loss =  0.014013546\n",
      "-----------------------------------------------------------------------\n"
     ]
    },
    {
     "data": {
      "application/vnd.jupyter.widget-view+json": {
       "model_id": "0fbf90ddaaca4a65b005acc425fe8ddf",
       "version_major": 2,
       "version_minor": 0
      },
      "text/plain": [
       "  0%|          | 0/53 [00:00<?, ?it/s]"
      ]
     },
     "metadata": {},
     "output_type": "display_data"
    },
    {
     "name": "stdout",
     "output_type": "stream",
     "text": [
      "609\n",
      "ELBO train_loss -3.1215127009265826\n",
      "mse train_loss 0.00034677960749557416\n",
      "torch.Size([1, 20837, 2]) torch.Size([1, 20837, 4]) torch.Size([1, 5209, 2]) torch.Size([1, 5209, 4])\n",
      "torch.Size([1, 5209, 4])\n",
      "val_loss =  0.01403374\n",
      "-----------------------------------------------------------------------\n"
     ]
    },
    {
     "data": {
      "application/vnd.jupyter.widget-view+json": {
       "model_id": "e5f2e9bee86a4696a0aebec95309a925",
       "version_major": 2,
       "version_minor": 0
      },
      "text/plain": [
       "  0%|          | 0/53 [00:00<?, ?it/s]"
      ]
     },
     "metadata": {},
     "output_type": "display_data"
    },
    {
     "name": "stdout",
     "output_type": "stream",
     "text": [
      "610\n",
      "ELBO train_loss -3.090312142417116\n",
      "mse train_loss 0.0003525533250484721\n",
      "torch.Size([1, 20837, 2]) torch.Size([1, 20837, 4]) torch.Size([1, 5209, 2]) torch.Size([1, 5209, 4])\n",
      "torch.Size([1, 5209, 4])\n",
      "val_loss =  0.029791884\n",
      "-----------------------------------------------------------------------\n"
     ]
    },
    {
     "data": {
      "application/vnd.jupyter.widget-view+json": {
       "model_id": "7e3a5fd4cb0d4681af3a25cc616481ce",
       "version_major": 2,
       "version_minor": 0
      },
      "text/plain": [
       "  0%|          | 0/53 [00:00<?, ?it/s]"
      ]
     },
     "metadata": {},
     "output_type": "display_data"
    },
    {
     "name": "stdout",
     "output_type": "stream",
     "text": [
      "611\n",
      "ELBO train_loss -3.0990195499276214\n",
      "mse train_loss 0.00036742706274622524\n",
      "torch.Size([1, 20837, 2]) torch.Size([1, 20837, 4]) torch.Size([1, 5209, 2]) torch.Size([1, 5209, 4])\n",
      "torch.Size([1, 5209, 4])\n",
      "val_loss =  0.015164272\n",
      "-----------------------------------------------------------------------\n"
     ]
    },
    {
     "data": {
      "application/vnd.jupyter.widget-view+json": {
       "model_id": "efb8f6ed53144506a3766319ed7ccd8a",
       "version_major": 2,
       "version_minor": 0
      },
      "text/plain": [
       "  0%|          | 0/53 [00:00<?, ?it/s]"
      ]
     },
     "metadata": {},
     "output_type": "display_data"
    },
    {
     "name": "stdout",
     "output_type": "stream",
     "text": [
      "612\n",
      "ELBO train_loss -3.076111966708921\n",
      "mse train_loss 0.00043961555446621103\n",
      "torch.Size([1, 20837, 2]) torch.Size([1, 20837, 4]) torch.Size([1, 5209, 2]) torch.Size([1, 5209, 4])\n",
      "torch.Size([1, 5209, 4])\n",
      "val_loss =  0.03821163\n",
      "-----------------------------------------------------------------------\n"
     ]
    },
    {
     "data": {
      "application/vnd.jupyter.widget-view+json": {
       "model_id": "82b293c443f744f89a932cea50bf8173",
       "version_major": 2,
       "version_minor": 0
      },
      "text/plain": [
       "  0%|          | 0/53 [00:00<?, ?it/s]"
      ]
     },
     "metadata": {},
     "output_type": "display_data"
    },
    {
     "name": "stdout",
     "output_type": "stream",
     "text": [
      "613\n",
      "ELBO train_loss -2.8849311999554903\n",
      "mse train_loss 0.00037514038311475714\n",
      "torch.Size([1, 20837, 2]) torch.Size([1, 20837, 4]) torch.Size([1, 5209, 2]) torch.Size([1, 5209, 4])\n",
      "torch.Size([1, 5209, 4])\n",
      "val_loss =  0.019979626\n",
      "-----------------------------------------------------------------------\n"
     ]
    },
    {
     "data": {
      "application/vnd.jupyter.widget-view+json": {
       "model_id": "04093d64086b4b3596648332eb44ac7d",
       "version_major": 2,
       "version_minor": 0
      },
      "text/plain": [
       "  0%|          | 0/53 [00:00<?, ?it/s]"
      ]
     },
     "metadata": {},
     "output_type": "display_data"
    },
    {
     "name": "stdout",
     "output_type": "stream",
     "text": [
      "614\n",
      "ELBO train_loss -2.9466287414982633\n",
      "mse train_loss 0.00037096199916702044\n",
      "torch.Size([1, 20837, 2]) torch.Size([1, 20837, 4]) torch.Size([1, 5209, 2]) torch.Size([1, 5209, 4])\n",
      "torch.Size([1, 5209, 4])\n",
      "val_loss =  0.01461724\n",
      "-----------------------------------------------------------------------\n"
     ]
    },
    {
     "data": {
      "application/vnd.jupyter.widget-view+json": {
       "model_id": "bbd2489062da443db4d9241d1ac76f36",
       "version_major": 2,
       "version_minor": 0
      },
      "text/plain": [
       "  0%|          | 0/53 [00:00<?, ?it/s]"
      ]
     },
     "metadata": {},
     "output_type": "display_data"
    },
    {
     "name": "stdout",
     "output_type": "stream",
     "text": [
      "615\n",
      "ELBO train_loss -2.9923710778074444\n",
      "mse train_loss 0.00034918367202648506\n",
      "torch.Size([1, 20837, 2]) torch.Size([1, 20837, 4]) torch.Size([1, 5209, 2]) torch.Size([1, 5209, 4])\n",
      "torch.Size([1, 5209, 4])\n",
      "val_loss =  0.019739915\n",
      "-----------------------------------------------------------------------\n"
     ]
    },
    {
     "data": {
      "application/vnd.jupyter.widget-view+json": {
       "model_id": "a0ff45b7c13d44bc980cf07596e6cde9",
       "version_major": 2,
       "version_minor": 0
      },
      "text/plain": [
       "  0%|          | 0/53 [00:00<?, ?it/s]"
      ]
     },
     "metadata": {},
     "output_type": "display_data"
    },
    {
     "name": "stdout",
     "output_type": "stream",
     "text": [
      "616\n",
      "ELBO train_loss -3.015027055200541\n",
      "mse train_loss 0.00037171043409473914\n",
      "torch.Size([1, 20837, 2]) torch.Size([1, 20837, 4]) torch.Size([1, 5209, 2]) torch.Size([1, 5209, 4])\n",
      "torch.Size([1, 5209, 4])\n",
      "val_loss =  0.017303912\n",
      "-----------------------------------------------------------------------\n"
     ]
    },
    {
     "data": {
      "application/vnd.jupyter.widget-view+json": {
       "model_id": "1f860aeec1614400ad9713928854e88b",
       "version_major": 2,
       "version_minor": 0
      },
      "text/plain": [
       "  0%|          | 0/53 [00:00<?, ?it/s]"
      ]
     },
     "metadata": {},
     "output_type": "display_data"
    },
    {
     "name": "stdout",
     "output_type": "stream",
     "text": [
      "617\n",
      "ELBO train_loss -3.04310619606162\n",
      "mse train_loss 0.0003572136777637632\n",
      "torch.Size([1, 20837, 2]) torch.Size([1, 20837, 4]) torch.Size([1, 5209, 2]) torch.Size([1, 5209, 4])\n",
      "torch.Size([1, 5209, 4])\n",
      "val_loss =  0.015013591\n",
      "-----------------------------------------------------------------------\n"
     ]
    },
    {
     "data": {
      "application/vnd.jupyter.widget-view+json": {
       "model_id": "f5fcd1117c5e4e4690e7478ca4798b4a",
       "version_major": 2,
       "version_minor": 0
      },
      "text/plain": [
       "  0%|          | 0/53 [00:00<?, ?it/s]"
      ]
     },
     "metadata": {},
     "output_type": "display_data"
    },
    {
     "name": "stdout",
     "output_type": "stream",
     "text": [
      "618\n",
      "ELBO train_loss -3.068444346481899\n",
      "mse train_loss 0.00035026869247887143\n",
      "torch.Size([1, 20837, 2]) torch.Size([1, 20837, 4]) torch.Size([1, 5209, 2]) torch.Size([1, 5209, 4])\n",
      "torch.Size([1, 5209, 4])\n",
      "val_loss =  0.015906928\n",
      "-----------------------------------------------------------------------\n"
     ]
    },
    {
     "data": {
      "application/vnd.jupyter.widget-view+json": {
       "model_id": "469777edc668424e882b1995bf0eaa0a",
       "version_major": 2,
       "version_minor": 0
      },
      "text/plain": [
       "  0%|          | 0/53 [00:00<?, ?it/s]"
      ]
     },
     "metadata": {},
     "output_type": "display_data"
    },
    {
     "name": "stdout",
     "output_type": "stream",
     "text": [
      "619\n",
      "ELBO train_loss -3.073092150238325\n",
      "mse train_loss 0.0003794854976904561\n",
      "torch.Size([1, 20837, 2]) torch.Size([1, 20837, 4]) torch.Size([1, 5209, 2]) torch.Size([1, 5209, 4])\n",
      "torch.Size([1, 5209, 4])\n",
      "val_loss =  0.00942278\n",
      "-----------------------------------------------------------------------\n"
     ]
    },
    {
     "data": {
      "application/vnd.jupyter.widget-view+json": {
       "model_id": "0c344851014b4ca49f901b74ca6308c9",
       "version_major": 2,
       "version_minor": 0
      },
      "text/plain": [
       "  0%|          | 0/53 [00:00<?, ?it/s]"
      ]
     },
     "metadata": {},
     "output_type": "display_data"
    },
    {
     "name": "stdout",
     "output_type": "stream",
     "text": [
      "620\n",
      "ELBO train_loss -3.095283071949797\n",
      "mse train_loss 0.00035230691005467033\n",
      "torch.Size([1, 20837, 2]) torch.Size([1, 20837, 4]) torch.Size([1, 5209, 2]) torch.Size([1, 5209, 4])\n",
      "torch.Size([1, 5209, 4])\n",
      "val_loss =  0.012914964\n",
      "-----------------------------------------------------------------------\n"
     ]
    },
    {
     "data": {
      "application/vnd.jupyter.widget-view+json": {
       "model_id": "e4e4868c736c475d876e9e3e6950fa58",
       "version_major": 2,
       "version_minor": 0
      },
      "text/plain": [
       "  0%|          | 0/53 [00:00<?, ?it/s]"
      ]
     },
     "metadata": {},
     "output_type": "display_data"
    },
    {
     "name": "stdout",
     "output_type": "stream",
     "text": [
      "621\n",
      "ELBO train_loss -3.1058993114615387\n",
      "mse train_loss 0.00035370449576184226\n",
      "torch.Size([1, 20837, 2]) torch.Size([1, 20837, 4]) torch.Size([1, 5209, 2]) torch.Size([1, 5209, 4])\n",
      "torch.Size([1, 5209, 4])\n",
      "val_loss =  0.0154341785\n",
      "-----------------------------------------------------------------------\n"
     ]
    },
    {
     "data": {
      "application/vnd.jupyter.widget-view+json": {
       "model_id": "dca90c206f084f3cbbb9820b381289df",
       "version_major": 2,
       "version_minor": 0
      },
      "text/plain": [
       "  0%|          | 0/53 [00:00<?, ?it/s]"
      ]
     },
     "metadata": {},
     "output_type": "display_data"
    },
    {
     "name": "stdout",
     "output_type": "stream",
     "text": [
      "622\n",
      "ELBO train_loss -3.111399736044542\n",
      "mse train_loss 0.00036517627573493026\n",
      "torch.Size([1, 20837, 2]) torch.Size([1, 20837, 4]) torch.Size([1, 5209, 2]) torch.Size([1, 5209, 4])\n",
      "torch.Size([1, 5209, 4])\n",
      "val_loss =  0.009761806\n",
      "-----------------------------------------------------------------------\n"
     ]
    },
    {
     "data": {
      "application/vnd.jupyter.widget-view+json": {
       "model_id": "82a3b420704d4190a18fd2b0d012aa2d",
       "version_major": 2,
       "version_minor": 0
      },
      "text/plain": [
       "  0%|          | 0/53 [00:00<?, ?it/s]"
      ]
     },
     "metadata": {},
     "output_type": "display_data"
    },
    {
     "name": "stdout",
     "output_type": "stream",
     "text": [
      "623\n",
      "ELBO train_loss -3.112572872413779\n",
      "mse train_loss 0.0003448767766833112\n",
      "torch.Size([1, 20837, 2]) torch.Size([1, 20837, 4]) torch.Size([1, 5209, 2]) torch.Size([1, 5209, 4])\n",
      "torch.Size([1, 5209, 4])\n",
      "val_loss =  0.012376208\n",
      "-----------------------------------------------------------------------\n"
     ]
    },
    {
     "data": {
      "application/vnd.jupyter.widget-view+json": {
       "model_id": "f87d2fd453ef4b37a509d4d860237a7e",
       "version_major": 2,
       "version_minor": 0
      },
      "text/plain": [
       "  0%|          | 0/53 [00:00<?, ?it/s]"
      ]
     },
     "metadata": {},
     "output_type": "display_data"
    },
    {
     "name": "stdout",
     "output_type": "stream",
     "text": [
      "624\n",
      "ELBO train_loss -3.128709019355054\n",
      "mse train_loss 0.0003568756071200489\n",
      "torch.Size([1, 20837, 2]) torch.Size([1, 20837, 4]) torch.Size([1, 5209, 2]) torch.Size([1, 5209, 4])\n",
      "torch.Size([1, 5209, 4])\n",
      "val_loss =  0.024029654\n",
      "-----------------------------------------------------------------------\n"
     ]
    },
    {
     "data": {
      "application/vnd.jupyter.widget-view+json": {
       "model_id": "92f5715a348f4e6b8cb1e1d6d1f1a982",
       "version_major": 2,
       "version_minor": 0
      },
      "text/plain": [
       "  0%|          | 0/53 [00:00<?, ?it/s]"
      ]
     },
     "metadata": {},
     "output_type": "display_data"
    },
    {
     "name": "stdout",
     "output_type": "stream",
     "text": [
      "625\n",
      "ELBO train_loss -3.140510275678815\n",
      "mse train_loss 0.00036308000370517446\n",
      "torch.Size([1, 20837, 2]) torch.Size([1, 20837, 4]) torch.Size([1, 5209, 2]) torch.Size([1, 5209, 4])\n",
      "torch.Size([1, 5209, 4])\n",
      "val_loss =  0.010761074\n",
      "-----------------------------------------------------------------------\n"
     ]
    },
    {
     "data": {
      "application/vnd.jupyter.widget-view+json": {
       "model_id": "e59d016ce08e4591aabd81a1ede0fd34",
       "version_major": 2,
       "version_minor": 0
      },
      "text/plain": [
       "  0%|          | 0/53 [00:00<?, ?it/s]"
      ]
     },
     "metadata": {},
     "output_type": "display_data"
    },
    {
     "name": "stdout",
     "output_type": "stream",
     "text": [
      "626\n",
      "ELBO train_loss -3.1356253893870227\n",
      "mse train_loss 0.00034877858212533985\n",
      "torch.Size([1, 20837, 2]) torch.Size([1, 20837, 4]) torch.Size([1, 5209, 2]) torch.Size([1, 5209, 4])\n",
      "torch.Size([1, 5209, 4])\n",
      "val_loss =  0.010751532\n",
      "-----------------------------------------------------------------------\n"
     ]
    },
    {
     "data": {
      "application/vnd.jupyter.widget-view+json": {
       "model_id": "d8c37ccd8f034a43950e6f87b95fff05",
       "version_major": 2,
       "version_minor": 0
      },
      "text/plain": [
       "  0%|          | 0/53 [00:00<?, ?it/s]"
      ]
     },
     "metadata": {},
     "output_type": "display_data"
    },
    {
     "name": "stdout",
     "output_type": "stream",
     "text": [
      "627\n",
      "ELBO train_loss -3.1276328068859174\n",
      "mse train_loss 0.00036917413548645474\n",
      "torch.Size([1, 20837, 2]) torch.Size([1, 20837, 4]) torch.Size([1, 5209, 2]) torch.Size([1, 5209, 4])\n",
      "torch.Size([1, 5209, 4])\n",
      "val_loss =  0.010902088\n",
      "-----------------------------------------------------------------------\n"
     ]
    },
    {
     "data": {
      "application/vnd.jupyter.widget-view+json": {
       "model_id": "2353bab3a028469d92c9751f26219589",
       "version_major": 2,
       "version_minor": 0
      },
      "text/plain": [
       "  0%|          | 0/53 [00:00<?, ?it/s]"
      ]
     },
     "metadata": {},
     "output_type": "display_data"
    },
    {
     "name": "stdout",
     "output_type": "stream",
     "text": [
      "628\n",
      "ELBO train_loss -3.124426490855667\n",
      "mse train_loss 0.0003694928611435418\n",
      "torch.Size([1, 20837, 2]) torch.Size([1, 20837, 4]) torch.Size([1, 5209, 2]) torch.Size([1, 5209, 4])\n",
      "torch.Size([1, 5209, 4])\n",
      "val_loss =  0.014008356\n",
      "-----------------------------------------------------------------------\n"
     ]
    },
    {
     "data": {
      "application/vnd.jupyter.widget-view+json": {
       "model_id": "f2047c8c8426400abdb0f34bf5d1499e",
       "version_major": 2,
       "version_minor": 0
      },
      "text/plain": [
       "  0%|          | 0/53 [00:00<?, ?it/s]"
      ]
     },
     "metadata": {},
     "output_type": "display_data"
    },
    {
     "name": "stdout",
     "output_type": "stream",
     "text": [
      "629\n",
      "ELBO train_loss -3.124304474524732\n",
      "mse train_loss 0.00036776400081163166\n",
      "torch.Size([1, 20837, 2]) torch.Size([1, 20837, 4]) torch.Size([1, 5209, 2]) torch.Size([1, 5209, 4])\n",
      "torch.Size([1, 5209, 4])\n",
      "val_loss =  0.010757049\n",
      "-----------------------------------------------------------------------\n"
     ]
    },
    {
     "data": {
      "application/vnd.jupyter.widget-view+json": {
       "model_id": "addfa996fedd4bee9f51b0d2c20b02bc",
       "version_major": 2,
       "version_minor": 0
      },
      "text/plain": [
       "  0%|          | 0/53 [00:00<?, ?it/s]"
      ]
     },
     "metadata": {},
     "output_type": "display_data"
    },
    {
     "name": "stdout",
     "output_type": "stream",
     "text": [
      "630\n",
      "ELBO train_loss -3.1414206162938534\n",
      "mse train_loss 0.0003660852946165316\n",
      "torch.Size([1, 20837, 2]) torch.Size([1, 20837, 4]) torch.Size([1, 5209, 2]) torch.Size([1, 5209, 4])\n",
      "torch.Size([1, 5209, 4])\n",
      "val_loss =  0.012657199\n",
      "-----------------------------------------------------------------------\n"
     ]
    },
    {
     "data": {
      "application/vnd.jupyter.widget-view+json": {
       "model_id": "d0ed3492d31148e48b9e1369f2b1a2fc",
       "version_major": 2,
       "version_minor": 0
      },
      "text/plain": [
       "  0%|          | 0/53 [00:00<?, ?it/s]"
      ]
     },
     "metadata": {},
     "output_type": "display_data"
    },
    {
     "name": "stdout",
     "output_type": "stream",
     "text": [
      "631\n",
      "ELBO train_loss -3.1176610982642985\n",
      "mse train_loss 0.00038482571368870095\n",
      "torch.Size([1, 20837, 2]) torch.Size([1, 20837, 4]) torch.Size([1, 5209, 2]) torch.Size([1, 5209, 4])\n",
      "torch.Size([1, 5209, 4])\n",
      "val_loss =  0.019410111\n",
      "-----------------------------------------------------------------------\n"
     ]
    },
    {
     "data": {
      "application/vnd.jupyter.widget-view+json": {
       "model_id": "2f27f62133734bc481fce813deb08629",
       "version_major": 2,
       "version_minor": 0
      },
      "text/plain": [
       "  0%|          | 0/53 [00:00<?, ?it/s]"
      ]
     },
     "metadata": {},
     "output_type": "display_data"
    },
    {
     "name": "stdout",
     "output_type": "stream",
     "text": [
      "632\n",
      "ELBO train_loss -3.1258049775969305\n",
      "mse train_loss 0.00035803075627212957\n",
      "torch.Size([1, 20837, 2]) torch.Size([1, 20837, 4]) torch.Size([1, 5209, 2]) torch.Size([1, 5209, 4])\n",
      "torch.Size([1, 5209, 4])\n",
      "val_loss =  0.020907251\n",
      "-----------------------------------------------------------------------\n"
     ]
    },
    {
     "data": {
      "application/vnd.jupyter.widget-view+json": {
       "model_id": "78202669412f43ad98376c7a2b77f5ab",
       "version_major": 2,
       "version_minor": 0
      },
      "text/plain": [
       "  0%|          | 0/53 [00:00<?, ?it/s]"
      ]
     },
     "metadata": {},
     "output_type": "display_data"
    },
    {
     "name": "stdout",
     "output_type": "stream",
     "text": [
      "633\n",
      "ELBO train_loss -3.140511193365421\n",
      "mse train_loss 0.0003399586838775508\n",
      "torch.Size([1, 20837, 2]) torch.Size([1, 20837, 4]) torch.Size([1, 5209, 2]) torch.Size([1, 5209, 4])\n",
      "torch.Size([1, 5209, 4])\n",
      "val_loss =  0.009623252\n",
      "-----------------------------------------------------------------------\n"
     ]
    },
    {
     "data": {
      "application/vnd.jupyter.widget-view+json": {
       "model_id": "82261d6b2d7a42ccb8fe68cb67ac4e9e",
       "version_major": 2,
       "version_minor": 0
      },
      "text/plain": [
       "  0%|          | 0/53 [00:00<?, ?it/s]"
      ]
     },
     "metadata": {},
     "output_type": "display_data"
    },
    {
     "name": "stdout",
     "output_type": "stream",
     "text": [
      "634\n",
      "ELBO train_loss -3.1464484907546133\n",
      "mse train_loss 0.000354919960406029\n",
      "torch.Size([1, 20837, 2]) torch.Size([1, 20837, 4]) torch.Size([1, 5209, 2]) torch.Size([1, 5209, 4])\n",
      "torch.Size([1, 5209, 4])\n",
      "val_loss =  0.011684744\n",
      "-----------------------------------------------------------------------\n"
     ]
    },
    {
     "data": {
      "application/vnd.jupyter.widget-view+json": {
       "model_id": "8d73290129ad442cbd82ef6b20d6f5ae",
       "version_major": 2,
       "version_minor": 0
      },
      "text/plain": [
       "  0%|          | 0/53 [00:00<?, ?it/s]"
      ]
     },
     "metadata": {},
     "output_type": "display_data"
    },
    {
     "name": "stdout",
     "output_type": "stream",
     "text": [
      "635\n",
      "ELBO train_loss -3.1482765989483528\n",
      "mse train_loss 0.0003606001884931312\n",
      "torch.Size([1, 20837, 2]) torch.Size([1, 20837, 4]) torch.Size([1, 5209, 2]) torch.Size([1, 5209, 4])\n",
      "torch.Size([1, 5209, 4])\n",
      "val_loss =  0.011243365\n",
      "-----------------------------------------------------------------------\n"
     ]
    },
    {
     "data": {
      "application/vnd.jupyter.widget-view+json": {
       "model_id": "f38c8023e61a4f8f85b10d6819078bc1",
       "version_major": 2,
       "version_minor": 0
      },
      "text/plain": [
       "  0%|          | 0/53 [00:00<?, ?it/s]"
      ]
     },
     "metadata": {},
     "output_type": "display_data"
    },
    {
     "name": "stdout",
     "output_type": "stream",
     "text": [
      "636\n",
      "ELBO train_loss -3.1303342468333692\n",
      "mse train_loss 0.0003790032477689169\n",
      "torch.Size([1, 20837, 2]) torch.Size([1, 20837, 4]) torch.Size([1, 5209, 2]) torch.Size([1, 5209, 4])\n",
      "torch.Size([1, 5209, 4])\n",
      "val_loss =  0.019427255\n",
      "-----------------------------------------------------------------------\n"
     ]
    },
    {
     "data": {
      "application/vnd.jupyter.widget-view+json": {
       "model_id": "e1654a0c43454c4f968f7ed7ae1ffb8c",
       "version_major": 2,
       "version_minor": 0
      },
      "text/plain": [
       "  0%|          | 0/53 [00:00<?, ?it/s]"
      ]
     },
     "metadata": {},
     "output_type": "display_data"
    },
    {
     "name": "stdout",
     "output_type": "stream",
     "text": [
      "637\n",
      "ELBO train_loss -3.120215020089779\n",
      "mse train_loss 0.0003560568998954347\n",
      "torch.Size([1, 20837, 2]) torch.Size([1, 20837, 4]) torch.Size([1, 5209, 2]) torch.Size([1, 5209, 4])\n",
      "torch.Size([1, 5209, 4])\n",
      "val_loss =  0.014264525\n",
      "-----------------------------------------------------------------------\n"
     ]
    },
    {
     "data": {
      "application/vnd.jupyter.widget-view+json": {
       "model_id": "be8cf5e3b236486983a3a8dada58043f",
       "version_major": 2,
       "version_minor": 0
      },
      "text/plain": [
       "  0%|          | 0/53 [00:00<?, ?it/s]"
      ]
     },
     "metadata": {},
     "output_type": "display_data"
    },
    {
     "name": "stdout",
     "output_type": "stream",
     "text": [
      "638\n",
      "ELBO train_loss -3.1522854634051054\n",
      "mse train_loss 0.000352654319733188\n",
      "torch.Size([1, 20837, 2]) torch.Size([1, 20837, 4]) torch.Size([1, 5209, 2]) torch.Size([1, 5209, 4])\n",
      "torch.Size([1, 5209, 4])\n",
      "val_loss =  0.011539043\n",
      "-----------------------------------------------------------------------\n"
     ]
    },
    {
     "data": {
      "application/vnd.jupyter.widget-view+json": {
       "model_id": "809bc25981d048058794b1bfdd10e535",
       "version_major": 2,
       "version_minor": 0
      },
      "text/plain": [
       "  0%|          | 0/53 [00:00<?, ?it/s]"
      ]
     },
     "metadata": {},
     "output_type": "display_data"
    },
    {
     "name": "stdout",
     "output_type": "stream",
     "text": [
      "639\n",
      "ELBO train_loss -3.1575722604427696\n",
      "mse train_loss 0.0003625527090164569\n",
      "torch.Size([1, 20837, 2]) torch.Size([1, 20837, 4]) torch.Size([1, 5209, 2]) torch.Size([1, 5209, 4])\n",
      "torch.Size([1, 5209, 4])\n",
      "val_loss =  0.012819426\n",
      "-----------------------------------------------------------------------\n"
     ]
    },
    {
     "data": {
      "application/vnd.jupyter.widget-view+json": {
       "model_id": "3aa92784771d4499879e62697161e2dc",
       "version_major": 2,
       "version_minor": 0
      },
      "text/plain": [
       "  0%|          | 0/53 [00:00<?, ?it/s]"
      ]
     },
     "metadata": {},
     "output_type": "display_data"
    },
    {
     "name": "stdout",
     "output_type": "stream",
     "text": [
      "640\n",
      "ELBO train_loss -3.141640541688451\n",
      "mse train_loss 0.0003500482628126365\n",
      "torch.Size([1, 20837, 2]) torch.Size([1, 20837, 4]) torch.Size([1, 5209, 2]) torch.Size([1, 5209, 4])\n",
      "torch.Size([1, 5209, 4])\n",
      "val_loss =  0.012807744\n",
      "-----------------------------------------------------------------------\n"
     ]
    },
    {
     "data": {
      "application/vnd.jupyter.widget-view+json": {
       "model_id": "7f7e53e3f80842ee93b8d7bb313d84b4",
       "version_major": 2,
       "version_minor": 0
      },
      "text/plain": [
       "  0%|          | 0/53 [00:00<?, ?it/s]"
      ]
     },
     "metadata": {},
     "output_type": "display_data"
    },
    {
     "name": "stdout",
     "output_type": "stream",
     "text": [
      "641\n",
      "ELBO train_loss -3.1520650116902478\n",
      "mse train_loss 0.00034128789425353116\n",
      "torch.Size([1, 20837, 2]) torch.Size([1, 20837, 4]) torch.Size([1, 5209, 2]) torch.Size([1, 5209, 4])\n",
      "torch.Size([1, 5209, 4])\n",
      "val_loss =  0.011983101\n",
      "-----------------------------------------------------------------------\n"
     ]
    },
    {
     "data": {
      "application/vnd.jupyter.widget-view+json": {
       "model_id": "adf12fc209744289bb47d83672c17738",
       "version_major": 2,
       "version_minor": 0
      },
      "text/plain": [
       "  0%|          | 0/53 [00:00<?, ?it/s]"
      ]
     },
     "metadata": {},
     "output_type": "display_data"
    },
    {
     "name": "stdout",
     "output_type": "stream",
     "text": [
      "642\n",
      "ELBO train_loss -3.1432759491902478\n",
      "mse train_loss 0.00040280277443223824\n",
      "torch.Size([1, 20837, 2]) torch.Size([1, 20837, 4]) torch.Size([1, 5209, 2]) torch.Size([1, 5209, 4])\n",
      "torch.Size([1, 5209, 4])\n",
      "val_loss =  0.024417011\n",
      "-----------------------------------------------------------------------\n"
     ]
    },
    {
     "data": {
      "application/vnd.jupyter.widget-view+json": {
       "model_id": "37701e4b11d44f82bc5aaeeb42833a06",
       "version_major": 2,
       "version_minor": 0
      },
      "text/plain": [
       "  0%|          | 0/53 [00:00<?, ?it/s]"
      ]
     },
     "metadata": {},
     "output_type": "display_data"
    },
    {
     "name": "stdout",
     "output_type": "stream",
     "text": [
      "643\n",
      "ELBO train_loss -3.077586695833026\n",
      "mse train_loss 0.0003913460120356659\n",
      "torch.Size([1, 20837, 2]) torch.Size([1, 20837, 4]) torch.Size([1, 5209, 2]) torch.Size([1, 5209, 4])\n",
      "torch.Size([1, 5209, 4])\n",
      "val_loss =  0.039184712\n",
      "-----------------------------------------------------------------------\n"
     ]
    },
    {
     "data": {
      "application/vnd.jupyter.widget-view+json": {
       "model_id": "a8dbd93d48b7493ca14939dd8d7615c4",
       "version_major": 2,
       "version_minor": 0
      },
      "text/plain": [
       "  0%|          | 0/53 [00:00<?, ?it/s]"
      ]
     },
     "metadata": {},
     "output_type": "display_data"
    },
    {
     "name": "stdout",
     "output_type": "stream",
     "text": [
      "644\n",
      "ELBO train_loss -3.1496138932569973\n",
      "mse train_loss 0.0003620556732507879\n",
      "torch.Size([1, 20837, 2]) torch.Size([1, 20837, 4]) torch.Size([1, 5209, 2]) torch.Size([1, 5209, 4])\n",
      "torch.Size([1, 5209, 4])\n",
      "val_loss =  0.010962108\n",
      "-----------------------------------------------------------------------\n"
     ]
    },
    {
     "data": {
      "application/vnd.jupyter.widget-view+json": {
       "model_id": "7cdd4c8a7e094188aaf9794093fe4c9a",
       "version_major": 2,
       "version_minor": 0
      },
      "text/plain": [
       "  0%|          | 0/53 [00:00<?, ?it/s]"
      ]
     },
     "metadata": {},
     "output_type": "display_data"
    },
    {
     "name": "stdout",
     "output_type": "stream",
     "text": [
      "645\n",
      "ELBO train_loss -3.166074460407473\n",
      "mse train_loss 0.00034244759595856284\n",
      "torch.Size([1, 20837, 2]) torch.Size([1, 20837, 4]) torch.Size([1, 5209, 2]) torch.Size([1, 5209, 4])\n",
      "torch.Size([1, 5209, 4])\n",
      "val_loss =  0.011570456\n",
      "-----------------------------------------------------------------------\n"
     ]
    },
    {
     "data": {
      "application/vnd.jupyter.widget-view+json": {
       "model_id": "f741edb50a5241cb8fdba64be488806e",
       "version_major": 2,
       "version_minor": 0
      },
      "text/plain": [
       "  0%|          | 0/53 [00:00<?, ?it/s]"
      ]
     },
     "metadata": {},
     "output_type": "display_data"
    },
    {
     "name": "stdout",
     "output_type": "stream",
     "text": [
      "646\n",
      "ELBO train_loss -2.9788584259321107\n",
      "mse train_loss 0.00042818871492581476\n",
      "torch.Size([1, 20837, 2]) torch.Size([1, 20837, 4]) torch.Size([1, 5209, 2]) torch.Size([1, 5209, 4])\n",
      "torch.Size([1, 5209, 4])\n",
      "val_loss =  0.042123202\n",
      "-----------------------------------------------------------------------\n"
     ]
    },
    {
     "data": {
      "application/vnd.jupyter.widget-view+json": {
       "model_id": "124f1e049a92400a9f1e5bd3f90371a4",
       "version_major": 2,
       "version_minor": 0
      },
      "text/plain": [
       "  0%|          | 0/53 [00:00<?, ?it/s]"
      ]
     },
     "metadata": {},
     "output_type": "display_data"
    },
    {
     "name": "stdout",
     "output_type": "stream",
     "text": [
      "647\n",
      "ELBO train_loss -3.0852077457140075\n",
      "mse train_loss 0.00035927954233110933\n",
      "torch.Size([1, 20837, 2]) torch.Size([1, 20837, 4]) torch.Size([1, 5209, 2]) torch.Size([1, 5209, 4])\n",
      "torch.Size([1, 5209, 4])\n",
      "val_loss =  0.02978024\n",
      "-----------------------------------------------------------------------\n"
     ]
    },
    {
     "data": {
      "application/vnd.jupyter.widget-view+json": {
       "model_id": "d48c0659698a4515b91a44c78c0630a9",
       "version_major": 2,
       "version_minor": 0
      },
      "text/plain": [
       "  0%|          | 0/53 [00:00<?, ?it/s]"
      ]
     },
     "metadata": {},
     "output_type": "display_data"
    },
    {
     "name": "stdout",
     "output_type": "stream",
     "text": [
      "648\n",
      "ELBO train_loss -3.1494943825703747\n",
      "mse train_loss 0.00035873539048413976\n",
      "torch.Size([1, 20837, 2]) torch.Size([1, 20837, 4]) torch.Size([1, 5209, 2]) torch.Size([1, 5209, 4])\n",
      "torch.Size([1, 5209, 4])\n",
      "val_loss =  0.02365448\n",
      "-----------------------------------------------------------------------\n"
     ]
    },
    {
     "data": {
      "application/vnd.jupyter.widget-view+json": {
       "model_id": "28ad8810538643fa90345cd6eead6bbc",
       "version_major": 2,
       "version_minor": 0
      },
      "text/plain": [
       "  0%|          | 0/53 [00:00<?, ?it/s]"
      ]
     },
     "metadata": {},
     "output_type": "display_data"
    },
    {
     "name": "stdout",
     "output_type": "stream",
     "text": [
      "649\n",
      "ELBO train_loss -3.179914613939681\n",
      "mse train_loss 0.00033718289739896\n",
      "torch.Size([1, 20837, 2]) torch.Size([1, 20837, 4]) torch.Size([1, 5209, 2]) torch.Size([1, 5209, 4])\n",
      "torch.Size([1, 5209, 4])\n",
      "val_loss =  0.042401224\n",
      "-----------------------------------------------------------------------\n"
     ]
    },
    {
     "data": {
      "application/vnd.jupyter.widget-view+json": {
       "model_id": "6c781f1c49784af781197b5503171b67",
       "version_major": 2,
       "version_minor": 0
      },
      "text/plain": [
       "  0%|          | 0/53 [00:00<?, ?it/s]"
      ]
     },
     "metadata": {},
     "output_type": "display_data"
    },
    {
     "name": "stdout",
     "output_type": "stream",
     "text": [
      "650\n",
      "ELBO train_loss -3.1667210470955327\n",
      "mse train_loss 0.00037916019539137915\n",
      "torch.Size([1, 20837, 2]) torch.Size([1, 20837, 4]) torch.Size([1, 5209, 2]) torch.Size([1, 5209, 4])\n",
      "torch.Size([1, 5209, 4])\n",
      "val_loss =  0.01038504\n",
      "-----------------------------------------------------------------------\n"
     ]
    },
    {
     "data": {
      "application/vnd.jupyter.widget-view+json": {
       "model_id": "f16ffb6856dc4b6db48d84ae12c21543",
       "version_major": 2,
       "version_minor": 0
      },
      "text/plain": [
       "  0%|          | 0/53 [00:00<?, ?it/s]"
      ]
     },
     "metadata": {},
     "output_type": "display_data"
    },
    {
     "name": "stdout",
     "output_type": "stream",
     "text": [
      "651\n",
      "ELBO train_loss -3.1760255165819853\n",
      "mse train_loss 0.00036459473562470794\n",
      "torch.Size([1, 20837, 2]) torch.Size([1, 20837, 4]) torch.Size([1, 5209, 2]) torch.Size([1, 5209, 4])\n",
      "torch.Size([1, 5209, 4])\n",
      "val_loss =  0.009494026\n",
      "-----------------------------------------------------------------------\n"
     ]
    },
    {
     "data": {
      "application/vnd.jupyter.widget-view+json": {
       "model_id": "6d546fbaf7e2463b8a5bab52565c2b28",
       "version_major": 2,
       "version_minor": 0
      },
      "text/plain": [
       "  0%|          | 0/53 [00:00<?, ?it/s]"
      ]
     },
     "metadata": {},
     "output_type": "display_data"
    },
    {
     "name": "stdout",
     "output_type": "stream",
     "text": [
      "652\n",
      "ELBO train_loss -3.172026418290048\n",
      "mse train_loss 0.000341494880421175\n",
      "torch.Size([1, 20837, 2]) torch.Size([1, 20837, 4]) torch.Size([1, 5209, 2]) torch.Size([1, 5209, 4])\n",
      "torch.Size([1, 5209, 4])\n",
      "val_loss =  0.04980095\n",
      "-----------------------------------------------------------------------\n"
     ]
    },
    {
     "data": {
      "application/vnd.jupyter.widget-view+json": {
       "model_id": "691dbefa2de64aac845eeade9c27b4ae",
       "version_major": 2,
       "version_minor": 0
      },
      "text/plain": [
       "  0%|          | 0/53 [00:00<?, ?it/s]"
      ]
     },
     "metadata": {},
     "output_type": "display_data"
    },
    {
     "name": "stdout",
     "output_type": "stream",
     "text": [
      "653\n",
      "ELBO train_loss -3.160310794722359\n",
      "mse train_loss 0.0003507009028942535\n",
      "torch.Size([1, 20837, 2]) torch.Size([1, 20837, 4]) torch.Size([1, 5209, 2]) torch.Size([1, 5209, 4])\n",
      "torch.Size([1, 5209, 4])\n",
      "val_loss =  0.021760792\n",
      "-----------------------------------------------------------------------\n"
     ]
    },
    {
     "data": {
      "application/vnd.jupyter.widget-view+json": {
       "model_id": "90e6bd125fdf4d4f8863861b46fdd8ce",
       "version_major": 2,
       "version_minor": 0
      },
      "text/plain": [
       "  0%|          | 0/53 [00:00<?, ?it/s]"
      ]
     },
     "metadata": {},
     "output_type": "display_data"
    },
    {
     "name": "stdout",
     "output_type": "stream",
     "text": [
      "654\n",
      "ELBO train_loss -3.1850310991395197\n",
      "mse train_loss 0.000355055442443425\n",
      "torch.Size([1, 20837, 2]) torch.Size([1, 20837, 4]) torch.Size([1, 5209, 2]) torch.Size([1, 5209, 4])\n",
      "torch.Size([1, 5209, 4])\n",
      "val_loss =  0.010815708\n",
      "-----------------------------------------------------------------------\n"
     ]
    },
    {
     "data": {
      "application/vnd.jupyter.widget-view+json": {
       "model_id": "6e091ab606b44320842a254765029a24",
       "version_major": 2,
       "version_minor": 0
      },
      "text/plain": [
       "  0%|          | 0/53 [00:00<?, ?it/s]"
      ]
     },
     "metadata": {},
     "output_type": "display_data"
    },
    {
     "name": "stdout",
     "output_type": "stream",
     "text": [
      "655\n",
      "ELBO train_loss -3.1903823771566713\n",
      "mse train_loss 0.0003420261535486031\n",
      "torch.Size([1, 20837, 2]) torch.Size([1, 20837, 4]) torch.Size([1, 5209, 2]) torch.Size([1, 5209, 4])\n",
      "torch.Size([1, 5209, 4])\n",
      "val_loss =  0.034287848\n",
      "-----------------------------------------------------------------------\n"
     ]
    },
    {
     "data": {
      "application/vnd.jupyter.widget-view+json": {
       "model_id": "3b3be23c33c5449aa4f07090c5d4d7ee",
       "version_major": 2,
       "version_minor": 0
      },
      "text/plain": [
       "  0%|          | 0/53 [00:00<?, ?it/s]"
      ]
     },
     "metadata": {},
     "output_type": "display_data"
    },
    {
     "name": "stdout",
     "output_type": "stream",
     "text": [
      "656\n",
      "ELBO train_loss -3.1770839601192833\n",
      "mse train_loss 0.00035512868511569597\n",
      "torch.Size([1, 20837, 2]) torch.Size([1, 20837, 4]) torch.Size([1, 5209, 2]) torch.Size([1, 5209, 4])\n",
      "torch.Size([1, 5209, 4])\n",
      "val_loss =  0.013766807\n",
      "-----------------------------------------------------------------------\n"
     ]
    },
    {
     "data": {
      "application/vnd.jupyter.widget-view+json": {
       "model_id": "81a175ef5c534064ba0c61776fcb93fa",
       "version_major": 2,
       "version_minor": 0
      },
      "text/plain": [
       "  0%|          | 0/53 [00:00<?, ?it/s]"
      ]
     },
     "metadata": {},
     "output_type": "display_data"
    },
    {
     "name": "stdout",
     "output_type": "stream",
     "text": [
      "657\n",
      "ELBO train_loss -3.1737688217522964\n",
      "mse train_loss 0.00035541292657759394\n",
      "torch.Size([1, 20837, 2]) torch.Size([1, 20837, 4]) torch.Size([1, 5209, 2]) torch.Size([1, 5209, 4])\n",
      "torch.Size([1, 5209, 4])\n",
      "val_loss =  0.101771966\n",
      "-----------------------------------------------------------------------\n"
     ]
    },
    {
     "data": {
      "application/vnd.jupyter.widget-view+json": {
       "model_id": "5ce972860d454a5897f603db9cb539c2",
       "version_major": 2,
       "version_minor": 0
      },
      "text/plain": [
       "  0%|          | 0/53 [00:00<?, ?it/s]"
      ]
     },
     "metadata": {},
     "output_type": "display_data"
    },
    {
     "name": "stdout",
     "output_type": "stream",
     "text": [
      "658\n",
      "ELBO train_loss -3.1178284591099\n",
      "mse train_loss 0.00035066966171692703\n",
      "torch.Size([1, 20837, 2]) torch.Size([1, 20837, 4]) torch.Size([1, 5209, 2]) torch.Size([1, 5209, 4])\n",
      "torch.Size([1, 5209, 4])\n",
      "val_loss =  0.023129579\n",
      "-----------------------------------------------------------------------\n"
     ]
    },
    {
     "data": {
      "application/vnd.jupyter.widget-view+json": {
       "model_id": "981806d6dff44bda8db4b7191e28ab07",
       "version_major": 2,
       "version_minor": 0
      },
      "text/plain": [
       "  0%|          | 0/53 [00:00<?, ?it/s]"
      ]
     },
     "metadata": {},
     "output_type": "display_data"
    },
    {
     "name": "stdout",
     "output_type": "stream",
     "text": [
      "659\n",
      "ELBO train_loss -3.1504086975781425\n",
      "mse train_loss 0.00041686349086032934\n",
      "torch.Size([1, 20837, 2]) torch.Size([1, 20837, 4]) torch.Size([1, 5209, 2]) torch.Size([1, 5209, 4])\n",
      "torch.Size([1, 5209, 4])\n",
      "val_loss =  0.018221006\n",
      "-----------------------------------------------------------------------\n"
     ]
    },
    {
     "data": {
      "application/vnd.jupyter.widget-view+json": {
       "model_id": "4ea203e60b5140408d6fe6a59fcab1a1",
       "version_major": 2,
       "version_minor": 0
      },
      "text/plain": [
       "  0%|          | 0/53 [00:00<?, ?it/s]"
      ]
     },
     "metadata": {},
     "output_type": "display_data"
    },
    {
     "name": "stdout",
     "output_type": "stream",
     "text": [
      "660\n",
      "ELBO train_loss -3.173454959437532\n",
      "mse train_loss 0.0003516917476070307\n",
      "torch.Size([1, 20837, 2]) torch.Size([1, 20837, 4]) torch.Size([1, 5209, 2]) torch.Size([1, 5209, 4])\n",
      "torch.Size([1, 5209, 4])\n",
      "val_loss =  0.019541165\n",
      "-----------------------------------------------------------------------\n"
     ]
    },
    {
     "data": {
      "application/vnd.jupyter.widget-view+json": {
       "model_id": "94d53c64ac0b4381a9460cf83bca81b0",
       "version_major": 2,
       "version_minor": 0
      },
      "text/plain": [
       "  0%|          | 0/53 [00:00<?, ?it/s]"
      ]
     },
     "metadata": {},
     "output_type": "display_data"
    },
    {
     "name": "stdout",
     "output_type": "stream",
     "text": [
      "661\n",
      "ELBO train_loss -3.1804589505465524\n",
      "mse train_loss 0.000348301270245223\n",
      "torch.Size([1, 20837, 2]) torch.Size([1, 20837, 4]) torch.Size([1, 5209, 2]) torch.Size([1, 5209, 4])\n",
      "torch.Size([1, 5209, 4])\n",
      "val_loss =  0.014971787\n",
      "-----------------------------------------------------------------------\n"
     ]
    },
    {
     "data": {
      "application/vnd.jupyter.widget-view+json": {
       "model_id": "beaf69dbf32542a0ab2e84d0ec4b0680",
       "version_major": 2,
       "version_minor": 0
      },
      "text/plain": [
       "  0%|          | 0/53 [00:00<?, ?it/s]"
      ]
     },
     "metadata": {},
     "output_type": "display_data"
    },
    {
     "name": "stdout",
     "output_type": "stream",
     "text": [
      "662\n",
      "ELBO train_loss -3.175193723642601\n",
      "mse train_loss 0.00037290779066509304\n",
      "torch.Size([1, 20837, 2]) torch.Size([1, 20837, 4]) torch.Size([1, 5209, 2]) torch.Size([1, 5209, 4])\n",
      "torch.Size([1, 5209, 4])\n",
      "val_loss =  0.014862021\n",
      "-----------------------------------------------------------------------\n"
     ]
    },
    {
     "data": {
      "application/vnd.jupyter.widget-view+json": {
       "model_id": "b6b2c463141d402e92bfc392f12de15a",
       "version_major": 2,
       "version_minor": 0
      },
      "text/plain": [
       "  0%|          | 0/53 [00:00<?, ?it/s]"
      ]
     },
     "metadata": {},
     "output_type": "display_data"
    },
    {
     "name": "stdout",
     "output_type": "stream",
     "text": [
      "663\n",
      "ELBO train_loss -3.139890472843962\n",
      "mse train_loss 0.0003988072460073591\n",
      "torch.Size([1, 20837, 2]) torch.Size([1, 20837, 4]) torch.Size([1, 5209, 2]) torch.Size([1, 5209, 4])\n",
      "torch.Size([1, 5209, 4])\n",
      "val_loss =  0.02623039\n",
      "-----------------------------------------------------------------------\n"
     ]
    },
    {
     "data": {
      "application/vnd.jupyter.widget-view+json": {
       "model_id": "8c09e1e5595a4fadb2e7e8af37658fe6",
       "version_major": 2,
       "version_minor": 0
      },
      "text/plain": [
       "  0%|          | 0/53 [00:00<?, ?it/s]"
      ]
     },
     "metadata": {},
     "output_type": "display_data"
    },
    {
     "name": "stdout",
     "output_type": "stream",
     "text": [
      "664\n",
      "ELBO train_loss -3.0232776200996256\n",
      "mse train_loss 0.00039374487055026275\n",
      "torch.Size([1, 20837, 2]) torch.Size([1, 20837, 4]) torch.Size([1, 5209, 2]) torch.Size([1, 5209, 4])\n",
      "torch.Size([1, 5209, 4])\n",
      "val_loss =  0.028472953\n",
      "-----------------------------------------------------------------------\n"
     ]
    },
    {
     "data": {
      "application/vnd.jupyter.widget-view+json": {
       "model_id": "476fece803f948528e9ab3e8b94111a7",
       "version_major": 2,
       "version_minor": 0
      },
      "text/plain": [
       "  0%|          | 0/53 [00:00<?, ?it/s]"
      ]
     },
     "metadata": {},
     "output_type": "display_data"
    },
    {
     "name": "stdout",
     "output_type": "stream",
     "text": [
      "665\n",
      "ELBO train_loss -3.1519020256006494\n",
      "mse train_loss 0.00037026739644132695\n",
      "torch.Size([1, 20837, 2]) torch.Size([1, 20837, 4]) torch.Size([1, 5209, 2]) torch.Size([1, 5209, 4])\n",
      "torch.Size([1, 5209, 4])\n",
      "val_loss =  0.017241102\n",
      "-----------------------------------------------------------------------\n"
     ]
    },
    {
     "data": {
      "application/vnd.jupyter.widget-view+json": {
       "model_id": "09640c15bab7477398dc4802707ec567",
       "version_major": 2,
       "version_minor": 0
      },
      "text/plain": [
       "  0%|          | 0/53 [00:00<?, ?it/s]"
      ]
     },
     "metadata": {},
     "output_type": "display_data"
    },
    {
     "name": "stdout",
     "output_type": "stream",
     "text": [
      "666\n",
      "ELBO train_loss -3.171225408338151\n",
      "mse train_loss 0.0003679275248015194\n",
      "torch.Size([1, 20837, 2]) torch.Size([1, 20837, 4]) torch.Size([1, 5209, 2]) torch.Size([1, 5209, 4])\n",
      "torch.Size([1, 5209, 4])\n",
      "val_loss =  0.024376586\n",
      "-----------------------------------------------------------------------\n"
     ]
    },
    {
     "data": {
      "application/vnd.jupyter.widget-view+json": {
       "model_id": "1b7b0ad31d5d49a1b6406119dea8a52c",
       "version_major": 2,
       "version_minor": 0
      },
      "text/plain": [
       "  0%|          | 0/53 [00:00<?, ?it/s]"
      ]
     },
     "metadata": {},
     "output_type": "display_data"
    },
    {
     "name": "stdout",
     "output_type": "stream",
     "text": [
      "667\n",
      "ELBO train_loss -3.18026742395365\n",
      "mse train_loss 0.0003619805238657754\n",
      "torch.Size([1, 20837, 2]) torch.Size([1, 20837, 4]) torch.Size([1, 5209, 2]) torch.Size([1, 5209, 4])\n",
      "torch.Size([1, 5209, 4])\n",
      "val_loss =  0.014129191\n",
      "-----------------------------------------------------------------------\n"
     ]
    },
    {
     "data": {
      "application/vnd.jupyter.widget-view+json": {
       "model_id": "08c00ab4db6844e29b2d1011cf0dc061",
       "version_major": 2,
       "version_minor": 0
      },
      "text/plain": [
       "  0%|          | 0/53 [00:00<?, ?it/s]"
      ]
     },
     "metadata": {},
     "output_type": "display_data"
    },
    {
     "name": "stdout",
     "output_type": "stream",
     "text": [
      "668\n",
      "ELBO train_loss -3.1912151507611544\n",
      "mse train_loss 0.00035212699346956006\n",
      "torch.Size([1, 20837, 2]) torch.Size([1, 20837, 4]) torch.Size([1, 5209, 2]) torch.Size([1, 5209, 4])\n",
      "torch.Size([1, 5209, 4])\n",
      "val_loss =  0.010567215\n",
      "-----------------------------------------------------------------------\n"
     ]
    },
    {
     "data": {
      "application/vnd.jupyter.widget-view+json": {
       "model_id": "48d86f09806c45e9ae090e86923b5c7b",
       "version_major": 2,
       "version_minor": 0
      },
      "text/plain": [
       "  0%|          | 0/53 [00:00<?, ?it/s]"
      ]
     },
     "metadata": {},
     "output_type": "display_data"
    },
    {
     "name": "stdout",
     "output_type": "stream",
     "text": [
      "669\n",
      "ELBO train_loss -3.190836582543715\n",
      "mse train_loss 0.00036018968033736117\n",
      "torch.Size([1, 20837, 2]) torch.Size([1, 20837, 4]) torch.Size([1, 5209, 2]) torch.Size([1, 5209, 4])\n",
      "torch.Size([1, 5209, 4])\n",
      "val_loss =  0.0122805815\n",
      "-----------------------------------------------------------------------\n"
     ]
    },
    {
     "data": {
      "application/vnd.jupyter.widget-view+json": {
       "model_id": "7041a38b3c2a4cb48ded3a572bac009e",
       "version_major": 2,
       "version_minor": 0
      },
      "text/plain": [
       "  0%|          | 0/53 [00:00<?, ?it/s]"
      ]
     },
     "metadata": {},
     "output_type": "display_data"
    },
    {
     "name": "stdout",
     "output_type": "stream",
     "text": [
      "670\n",
      "ELBO train_loss -3.191329281285124\n",
      "mse train_loss 0.0003535250274031774\n",
      "torch.Size([1, 20837, 2]) torch.Size([1, 20837, 4]) torch.Size([1, 5209, 2]) torch.Size([1, 5209, 4])\n",
      "torch.Size([1, 5209, 4])\n",
      "val_loss =  0.02141952\n",
      "-----------------------------------------------------------------------\n"
     ]
    },
    {
     "data": {
      "application/vnd.jupyter.widget-view+json": {
       "model_id": "717928018b5a40c48b08ee0c44986027",
       "version_major": 2,
       "version_minor": 0
      },
      "text/plain": [
       "  0%|          | 0/53 [00:00<?, ?it/s]"
      ]
     },
     "metadata": {},
     "output_type": "display_data"
    },
    {
     "name": "stdout",
     "output_type": "stream",
     "text": [
      "671\n",
      "ELBO train_loss -3.185905654475374\n",
      "mse train_loss 0.00035899694674573665\n",
      "torch.Size([1, 20837, 2]) torch.Size([1, 20837, 4]) torch.Size([1, 5209, 2]) torch.Size([1, 5209, 4])\n",
      "torch.Size([1, 5209, 4])\n",
      "val_loss =  0.021743977\n",
      "-----------------------------------------------------------------------\n"
     ]
    },
    {
     "data": {
      "application/vnd.jupyter.widget-view+json": {
       "model_id": "ce345997e10e43f3904d32b684e60ba3",
       "version_major": 2,
       "version_minor": 0
      },
      "text/plain": [
       "  0%|          | 0/53 [00:00<?, ?it/s]"
      ]
     },
     "metadata": {},
     "output_type": "display_data"
    },
    {
     "name": "stdout",
     "output_type": "stream",
     "text": [
      "672\n",
      "ELBO train_loss -3.191414959025833\n",
      "mse train_loss 0.0005007981559380292\n",
      "torch.Size([1, 20837, 2]) torch.Size([1, 20837, 4]) torch.Size([1, 5209, 2]) torch.Size([1, 5209, 4])\n",
      "torch.Size([1, 5209, 4])\n",
      "val_loss =  0.012147647\n",
      "-----------------------------------------------------------------------\n"
     ]
    },
    {
     "data": {
      "application/vnd.jupyter.widget-view+json": {
       "model_id": "145b300603be46aa8cdd661971e72969",
       "version_major": 2,
       "version_minor": 0
      },
      "text/plain": [
       "  0%|          | 0/53 [00:00<?, ?it/s]"
      ]
     },
     "metadata": {},
     "output_type": "display_data"
    },
    {
     "name": "stdout",
     "output_type": "stream",
     "text": [
      "673\n",
      "ELBO train_loss -3.200642653231351\n",
      "mse train_loss 0.0003904470446835852\n",
      "torch.Size([1, 20837, 2]) torch.Size([1, 20837, 4]) torch.Size([1, 5209, 2]) torch.Size([1, 5209, 4])\n",
      "torch.Size([1, 5209, 4])\n",
      "val_loss =  0.04024268\n",
      "-----------------------------------------------------------------------\n"
     ]
    },
    {
     "data": {
      "application/vnd.jupyter.widget-view+json": {
       "model_id": "5deabb5b4ac842bda151864bcb636e92",
       "version_major": 2,
       "version_minor": 0
      },
      "text/plain": [
       "  0%|          | 0/53 [00:00<?, ?it/s]"
      ]
     },
     "metadata": {},
     "output_type": "display_data"
    },
    {
     "name": "stdout",
     "output_type": "stream",
     "text": [
      "674\n",
      "ELBO train_loss -3.1938662034160687\n",
      "mse train_loss 0.00036256785399087194\n",
      "torch.Size([1, 20837, 2]) torch.Size([1, 20837, 4]) torch.Size([1, 5209, 2]) torch.Size([1, 5209, 4])\n",
      "torch.Size([1, 5209, 4])\n",
      "val_loss =  0.015312696\n",
      "-----------------------------------------------------------------------\n"
     ]
    },
    {
     "data": {
      "application/vnd.jupyter.widget-view+json": {
       "model_id": "f2304007bd3e46a5a9ed419908334497",
       "version_major": 2,
       "version_minor": 0
      },
      "text/plain": [
       "  0%|          | 0/53 [00:00<?, ?it/s]"
      ]
     },
     "metadata": {},
     "output_type": "display_data"
    },
    {
     "name": "stdout",
     "output_type": "stream",
     "text": [
      "675\n",
      "ELBO train_loss -3.210690444370486\n",
      "mse train_loss 0.00037032158694994406\n",
      "torch.Size([1, 20837, 2]) torch.Size([1, 20837, 4]) torch.Size([1, 5209, 2]) torch.Size([1, 5209, 4])\n",
      "torch.Size([1, 5209, 4])\n",
      "val_loss =  0.01967043\n",
      "-----------------------------------------------------------------------\n"
     ]
    },
    {
     "data": {
      "application/vnd.jupyter.widget-view+json": {
       "model_id": "c4fce773732149f18e3cc86527ffd567",
       "version_major": 2,
       "version_minor": 0
      },
      "text/plain": [
       "  0%|          | 0/53 [00:00<?, ?it/s]"
      ]
     },
     "metadata": {},
     "output_type": "display_data"
    },
    {
     "name": "stdout",
     "output_type": "stream",
     "text": [
      "676\n",
      "ELBO train_loss -3.1946271815389955\n",
      "mse train_loss 0.0003853695923440545\n",
      "torch.Size([1, 20837, 2]) torch.Size([1, 20837, 4]) torch.Size([1, 5209, 2]) torch.Size([1, 5209, 4])\n",
      "torch.Size([1, 5209, 4])\n",
      "val_loss =  0.01334219\n",
      "-----------------------------------------------------------------------\n"
     ]
    },
    {
     "data": {
      "application/vnd.jupyter.widget-view+json": {
       "model_id": "88b7128262a1498881b587fa6a610e9e",
       "version_major": 2,
       "version_minor": 0
      },
      "text/plain": [
       "  0%|          | 0/53 [00:00<?, ?it/s]"
      ]
     },
     "metadata": {},
     "output_type": "display_data"
    },
    {
     "name": "stdout",
     "output_type": "stream",
     "text": [
      "677\n",
      "ELBO train_loss -3.0243926880494603\n",
      "mse train_loss 0.00038561000151533353\n",
      "torch.Size([1, 20837, 2]) torch.Size([1, 20837, 4]) torch.Size([1, 5209, 2]) torch.Size([1, 5209, 4])\n",
      "torch.Size([1, 5209, 4])\n",
      "val_loss =  0.085661866\n",
      "-----------------------------------------------------------------------\n"
     ]
    },
    {
     "data": {
      "application/vnd.jupyter.widget-view+json": {
       "model_id": "d08a6d5e3d0c4664b9cf91905a9f907d",
       "version_major": 2,
       "version_minor": 0
      },
      "text/plain": [
       "  0%|          | 0/53 [00:00<?, ?it/s]"
      ]
     },
     "metadata": {},
     "output_type": "display_data"
    },
    {
     "name": "stdout",
     "output_type": "stream",
     "text": [
      "678\n",
      "ELBO train_loss -3.120729198995626\n",
      "mse train_loss 0.0003849617051804122\n",
      "torch.Size([1, 20837, 2]) torch.Size([1, 20837, 4]) torch.Size([1, 5209, 2]) torch.Size([1, 5209, 4])\n",
      "torch.Size([1, 5209, 4])\n",
      "val_loss =  0.030327873\n",
      "-----------------------------------------------------------------------\n"
     ]
    },
    {
     "data": {
      "application/vnd.jupyter.widget-view+json": {
       "model_id": "ad38014ea29f4e239840d63993b99046",
       "version_major": 2,
       "version_minor": 0
      },
      "text/plain": [
       "  0%|          | 0/53 [00:00<?, ?it/s]"
      ]
     },
     "metadata": {},
     "output_type": "display_data"
    },
    {
     "name": "stdout",
     "output_type": "stream",
     "text": [
      "679\n",
      "ELBO train_loss -3.1965764018724547\n",
      "mse train_loss 0.00034976346151384895\n",
      "torch.Size([1, 20837, 2]) torch.Size([1, 20837, 4]) torch.Size([1, 5209, 2]) torch.Size([1, 5209, 4])\n",
      "torch.Size([1, 5209, 4])\n",
      "val_loss =  0.013091515\n",
      "-----------------------------------------------------------------------\n"
     ]
    },
    {
     "data": {
      "application/vnd.jupyter.widget-view+json": {
       "model_id": "cbd122a26ae849d2ba358879ced17c8d",
       "version_major": 2,
       "version_minor": 0
      },
      "text/plain": [
       "  0%|          | 0/53 [00:00<?, ?it/s]"
      ]
     },
     "metadata": {},
     "output_type": "display_data"
    },
    {
     "name": "stdout",
     "output_type": "stream",
     "text": [
      "680\n",
      "ELBO train_loss -3.2128915966681713\n",
      "mse train_loss 0.00036513852353651464\n",
      "torch.Size([1, 20837, 2]) torch.Size([1, 20837, 4]) torch.Size([1, 5209, 2]) torch.Size([1, 5209, 4])\n",
      "torch.Size([1, 5209, 4])\n",
      "val_loss =  0.012847767\n",
      "-----------------------------------------------------------------------\n"
     ]
    },
    {
     "data": {
      "application/vnd.jupyter.widget-view+json": {
       "model_id": "439231c9937c46829036c7eb1760ab2a",
       "version_major": 2,
       "version_minor": 0
      },
      "text/plain": [
       "  0%|          | 0/53 [00:00<?, ?it/s]"
      ]
     },
     "metadata": {},
     "output_type": "display_data"
    },
    {
     "name": "stdout",
     "output_type": "stream",
     "text": [
      "681\n",
      "ELBO train_loss -3.193607939864105\n",
      "mse train_loss 0.00040027346458716565\n",
      "torch.Size([1, 20837, 2]) torch.Size([1, 20837, 4]) torch.Size([1, 5209, 2]) torch.Size([1, 5209, 4])\n",
      "torch.Size([1, 5209, 4])\n",
      "val_loss =  0.012220801\n",
      "-----------------------------------------------------------------------\n"
     ]
    },
    {
     "data": {
      "application/vnd.jupyter.widget-view+json": {
       "model_id": "897ba733a65e485ba2ce543266121c87",
       "version_major": 2,
       "version_minor": 0
      },
      "text/plain": [
       "  0%|          | 0/53 [00:00<?, ?it/s]"
      ]
     },
     "metadata": {},
     "output_type": "display_data"
    },
    {
     "name": "stdout",
     "output_type": "stream",
     "text": [
      "682\n",
      "ELBO train_loss -3.2058821444241508\n",
      "mse train_loss 0.0003765564807800506\n",
      "torch.Size([1, 20837, 2]) torch.Size([1, 20837, 4]) torch.Size([1, 5209, 2]) torch.Size([1, 5209, 4])\n",
      "torch.Size([1, 5209, 4])\n",
      "val_loss =  0.012819303\n",
      "-----------------------------------------------------------------------\n"
     ]
    },
    {
     "data": {
      "application/vnd.jupyter.widget-view+json": {
       "model_id": "7a66d84771d64b1a96a1dfa41e59de6a",
       "version_major": 2,
       "version_minor": 0
      },
      "text/plain": [
       "  0%|          | 0/53 [00:00<?, ?it/s]"
      ]
     },
     "metadata": {},
     "output_type": "display_data"
    },
    {
     "name": "stdout",
     "output_type": "stream",
     "text": [
      "683\n",
      "ELBO train_loss -3.2200132585921377\n",
      "mse train_loss 0.0003458483093571937\n",
      "torch.Size([1, 20837, 2]) torch.Size([1, 20837, 4]) torch.Size([1, 5209, 2]) torch.Size([1, 5209, 4])\n",
      "torch.Size([1, 5209, 4])\n",
      "val_loss =  0.013646087\n",
      "-----------------------------------------------------------------------\n"
     ]
    },
    {
     "data": {
      "application/vnd.jupyter.widget-view+json": {
       "model_id": "52690497037641fd87f4d1cf54a15e62",
       "version_major": 2,
       "version_minor": 0
      },
      "text/plain": [
       "  0%|          | 0/53 [00:00<?, ?it/s]"
      ]
     },
     "metadata": {},
     "output_type": "display_data"
    },
    {
     "name": "stdout",
     "output_type": "stream",
     "text": [
      "684\n",
      "ELBO train_loss -3.2251498654203594\n",
      "mse train_loss 0.0003458980077170363\n",
      "torch.Size([1, 20837, 2]) torch.Size([1, 20837, 4]) torch.Size([1, 5209, 2]) torch.Size([1, 5209, 4])\n",
      "torch.Size([1, 5209, 4])\n",
      "val_loss =  0.023922948\n",
      "-----------------------------------------------------------------------\n"
     ]
    },
    {
     "data": {
      "application/vnd.jupyter.widget-view+json": {
       "model_id": "00c6375e197b474d860c0d519384c8df",
       "version_major": 2,
       "version_minor": 0
      },
      "text/plain": [
       "  0%|          | 0/53 [00:00<?, ?it/s]"
      ]
     },
     "metadata": {},
     "output_type": "display_data"
    },
    {
     "name": "stdout",
     "output_type": "stream",
     "text": [
      "685\n",
      "ELBO train_loss -3.224615699840042\n",
      "mse train_loss 0.0003493143366935294\n",
      "torch.Size([1, 20837, 2]) torch.Size([1, 20837, 4]) torch.Size([1, 5209, 2]) torch.Size([1, 5209, 4])\n",
      "torch.Size([1, 5209, 4])\n",
      "val_loss =  0.013332954\n",
      "-----------------------------------------------------------------------\n"
     ]
    },
    {
     "data": {
      "application/vnd.jupyter.widget-view+json": {
       "model_id": "02de357a39494526a2de04e5175710a6",
       "version_major": 2,
       "version_minor": 0
      },
      "text/plain": [
       "  0%|          | 0/53 [00:00<?, ?it/s]"
      ]
     },
     "metadata": {},
     "output_type": "display_data"
    },
    {
     "name": "stdout",
     "output_type": "stream",
     "text": [
      "686\n",
      "ELBO train_loss -3.2283305896902985\n",
      "mse train_loss 0.00036359454322834763\n",
      "torch.Size([1, 20837, 2]) torch.Size([1, 20837, 4]) torch.Size([1, 5209, 2]) torch.Size([1, 5209, 4])\n",
      "torch.Size([1, 5209, 4])\n",
      "val_loss =  0.016974794\n",
      "-----------------------------------------------------------------------\n"
     ]
    },
    {
     "data": {
      "application/vnd.jupyter.widget-view+json": {
       "model_id": "2b365ac5afb743f2b044663d854b5f3d",
       "version_major": 2,
       "version_minor": 0
      },
      "text/plain": [
       "  0%|          | 0/53 [00:00<?, ?it/s]"
      ]
     },
     "metadata": {},
     "output_type": "display_data"
    },
    {
     "name": "stdout",
     "output_type": "stream",
     "text": [
      "687\n",
      "ELBO train_loss -3.226599580836746\n",
      "mse train_loss 0.00034937062267793937\n",
      "torch.Size([1, 20837, 2]) torch.Size([1, 20837, 4]) torch.Size([1, 5209, 2]) torch.Size([1, 5209, 4])\n",
      "torch.Size([1, 5209, 4])\n",
      "val_loss =  0.015407589\n",
      "-----------------------------------------------------------------------\n"
     ]
    },
    {
     "data": {
      "application/vnd.jupyter.widget-view+json": {
       "model_id": "f6632ed95ff5499489aa77ac66b44a0f",
       "version_major": 2,
       "version_minor": 0
      },
      "text/plain": [
       "  0%|          | 0/53 [00:00<?, ?it/s]"
      ]
     },
     "metadata": {},
     "output_type": "display_data"
    },
    {
     "name": "stdout",
     "output_type": "stream",
     "text": [
      "688\n",
      "ELBO train_loss -3.2287645025073357\n",
      "mse train_loss 0.0003520347523109829\n",
      "torch.Size([1, 20837, 2]) torch.Size([1, 20837, 4]) torch.Size([1, 5209, 2]) torch.Size([1, 5209, 4])\n",
      "torch.Size([1, 5209, 4])\n",
      "val_loss =  0.0123443855\n",
      "-----------------------------------------------------------------------\n"
     ]
    },
    {
     "data": {
      "application/vnd.jupyter.widget-view+json": {
       "model_id": "3288e70defae4ab0aa5fc3dc4403d066",
       "version_major": 2,
       "version_minor": 0
      },
      "text/plain": [
       "  0%|          | 0/53 [00:00<?, ?it/s]"
      ]
     },
     "metadata": {},
     "output_type": "display_data"
    },
    {
     "name": "stdout",
     "output_type": "stream",
     "text": [
      "689\n",
      "ELBO train_loss -3.235228277602286\n",
      "mse train_loss 0.00037929863599787977\n",
      "torch.Size([1, 20837, 2]) torch.Size([1, 20837, 4]) torch.Size([1, 5209, 2]) torch.Size([1, 5209, 4])\n",
      "torch.Size([1, 5209, 4])\n",
      "val_loss =  0.025494438\n",
      "-----------------------------------------------------------------------\n"
     ]
    },
    {
     "data": {
      "application/vnd.jupyter.widget-view+json": {
       "model_id": "184b397901594185961fa3d6462899f2",
       "version_major": 2,
       "version_minor": 0
      },
      "text/plain": [
       "  0%|          | 0/53 [00:00<?, ?it/s]"
      ]
     },
     "metadata": {},
     "output_type": "display_data"
    },
    {
     "name": "stdout",
     "output_type": "stream",
     "text": [
      "690\n",
      "ELBO train_loss -3.240288648965224\n",
      "mse train_loss 0.0003458892437574489\n",
      "torch.Size([1, 20837, 2]) torch.Size([1, 20837, 4]) torch.Size([1, 5209, 2]) torch.Size([1, 5209, 4])\n",
      "torch.Size([1, 5209, 4])\n",
      "val_loss =  0.013800731\n",
      "-----------------------------------------------------------------------\n"
     ]
    },
    {
     "data": {
      "application/vnd.jupyter.widget-view+json": {
       "model_id": "6840bf66f29c4214bf3ad45db1befc88",
       "version_major": 2,
       "version_minor": 0
      },
      "text/plain": [
       "  0%|          | 0/53 [00:00<?, ?it/s]"
      ]
     },
     "metadata": {},
     "output_type": "display_data"
    },
    {
     "name": "stdout",
     "output_type": "stream",
     "text": [
      "691\n",
      "ELBO train_loss -3.2376787437582917\n",
      "mse train_loss 0.00036780724622076377\n",
      "torch.Size([1, 20837, 2]) torch.Size([1, 20837, 4]) torch.Size([1, 5209, 2]) torch.Size([1, 5209, 4])\n",
      "torch.Size([1, 5209, 4])\n",
      "val_loss =  0.011346192\n",
      "-----------------------------------------------------------------------\n"
     ]
    },
    {
     "data": {
      "application/vnd.jupyter.widget-view+json": {
       "model_id": "2c2a8374c2184fd18c0bf498a62fe8cf",
       "version_major": 2,
       "version_minor": 0
      },
      "text/plain": [
       "  0%|          | 0/53 [00:00<?, ?it/s]"
      ]
     },
     "metadata": {},
     "output_type": "display_data"
    },
    {
     "name": "stdout",
     "output_type": "stream",
     "text": [
      "692\n",
      "ELBO train_loss -3.2368734827581442\n",
      "mse train_loss 0.00035112160027361\n",
      "torch.Size([1, 20837, 2]) torch.Size([1, 20837, 4]) torch.Size([1, 5209, 2]) torch.Size([1, 5209, 4])\n",
      "torch.Size([1, 5209, 4])\n",
      "val_loss =  0.010370887\n",
      "-----------------------------------------------------------------------\n"
     ]
    },
    {
     "data": {
      "application/vnd.jupyter.widget-view+json": {
       "model_id": "81dbd1da944a41f2a83c4c46d8f9d966",
       "version_major": 2,
       "version_minor": 0
      },
      "text/plain": [
       "  0%|          | 0/53 [00:00<?, ?it/s]"
      ]
     },
     "metadata": {},
     "output_type": "display_data"
    },
    {
     "name": "stdout",
     "output_type": "stream",
     "text": [
      "693\n",
      "ELBO train_loss -3.240170919670249\n",
      "mse train_loss 0.00035369034388700046\n",
      "torch.Size([1, 20837, 2]) torch.Size([1, 20837, 4]) torch.Size([1, 5209, 2]) torch.Size([1, 5209, 4])\n",
      "torch.Size([1, 5209, 4])\n",
      "val_loss =  0.012061499\n",
      "-----------------------------------------------------------------------\n"
     ]
    },
    {
     "data": {
      "application/vnd.jupyter.widget-view+json": {
       "model_id": "40cda86c14f94908814b5872410ea0b5",
       "version_major": 2,
       "version_minor": 0
      },
      "text/plain": [
       "  0%|          | 0/53 [00:00<?, ?it/s]"
      ]
     },
     "metadata": {},
     "output_type": "display_data"
    },
    {
     "name": "stdout",
     "output_type": "stream",
     "text": [
      "694\n",
      "ELBO train_loss -3.2408111140413105\n",
      "mse train_loss 0.00040073708888090586\n",
      "torch.Size([1, 20837, 2]) torch.Size([1, 20837, 4]) torch.Size([1, 5209, 2]) torch.Size([1, 5209, 4])\n",
      "torch.Size([1, 5209, 4])\n",
      "val_loss =  0.04925789\n",
      "-----------------------------------------------------------------------\n"
     ]
    },
    {
     "data": {
      "application/vnd.jupyter.widget-view+json": {
       "model_id": "2d50dbbed7ad4acd82fdc416fc231ae5",
       "version_major": 2,
       "version_minor": 0
      },
      "text/plain": [
       "  0%|          | 0/53 [00:00<?, ?it/s]"
      ]
     },
     "metadata": {},
     "output_type": "display_data"
    },
    {
     "name": "stdout",
     "output_type": "stream",
     "text": [
      "695\n",
      "ELBO train_loss -3.2128715605105995\n",
      "mse train_loss 0.0003625203172768519\n",
      "torch.Size([1, 20837, 2]) torch.Size([1, 20837, 4]) torch.Size([1, 5209, 2]) torch.Size([1, 5209, 4])\n",
      "torch.Size([1, 5209, 4])\n",
      "val_loss =  0.011920876\n",
      "-----------------------------------------------------------------------\n"
     ]
    },
    {
     "data": {
      "application/vnd.jupyter.widget-view+json": {
       "model_id": "6f790d6b04ed49929299bd4d960f515a",
       "version_major": 2,
       "version_minor": 0
      },
      "text/plain": [
       "  0%|          | 0/53 [00:00<?, ?it/s]"
      ]
     },
     "metadata": {},
     "output_type": "display_data"
    },
    {
     "name": "stdout",
     "output_type": "stream",
     "text": [
      "696\n",
      "ELBO train_loss -3.231299895160603\n",
      "mse train_loss 0.0003651919893322969\n",
      "torch.Size([1, 20837, 2]) torch.Size([1, 20837, 4]) torch.Size([1, 5209, 2]) torch.Size([1, 5209, 4])\n",
      "torch.Size([1, 5209, 4])\n",
      "val_loss =  0.012051086\n",
      "-----------------------------------------------------------------------\n"
     ]
    },
    {
     "data": {
      "application/vnd.jupyter.widget-view+json": {
       "model_id": "7ed8cf4e4afc447e8fdf73738743f687",
       "version_major": 2,
       "version_minor": 0
      },
      "text/plain": [
       "  0%|          | 0/53 [00:00<?, ?it/s]"
      ]
     },
     "metadata": {},
     "output_type": "display_data"
    },
    {
     "name": "stdout",
     "output_type": "stream",
     "text": [
      "697\n",
      "ELBO train_loss -3.2416453271541954\n",
      "mse train_loss 0.0003749323272440618\n",
      "torch.Size([1, 20837, 2]) torch.Size([1, 20837, 4]) torch.Size([1, 5209, 2]) torch.Size([1, 5209, 4])\n",
      "torch.Size([1, 5209, 4])\n",
      "val_loss =  0.019404398\n",
      "-----------------------------------------------------------------------\n"
     ]
    },
    {
     "data": {
      "application/vnd.jupyter.widget-view+json": {
       "model_id": "b041fb8aebc742cbb03e36c16e2be8b6",
       "version_major": 2,
       "version_minor": 0
      },
      "text/plain": [
       "  0%|          | 0/53 [00:00<?, ?it/s]"
      ]
     },
     "metadata": {},
     "output_type": "display_data"
    },
    {
     "name": "stdout",
     "output_type": "stream",
     "text": [
      "698\n",
      "ELBO train_loss -3.2421668610482848\n",
      "mse train_loss 0.00033612983610990614\n",
      "torch.Size([1, 20837, 2]) torch.Size([1, 20837, 4]) torch.Size([1, 5209, 2]) torch.Size([1, 5209, 4])\n",
      "torch.Size([1, 5209, 4])\n",
      "val_loss =  0.023281118\n",
      "-----------------------------------------------------------------------\n"
     ]
    },
    {
     "data": {
      "application/vnd.jupyter.widget-view+json": {
       "model_id": "2b8bf7e996914100b753097e062ad442",
       "version_major": 2,
       "version_minor": 0
      },
      "text/plain": [
       "  0%|          | 0/53 [00:00<?, ?it/s]"
      ]
     },
     "metadata": {},
     "output_type": "display_data"
    },
    {
     "name": "stdout",
     "output_type": "stream",
     "text": [
      "699\n",
      "ELBO train_loss -3.2295216794283883\n",
      "mse train_loss 0.00037925126896468255\n",
      "torch.Size([1, 20837, 2]) torch.Size([1, 20837, 4]) torch.Size([1, 5209, 2]) torch.Size([1, 5209, 4])\n",
      "torch.Size([1, 5209, 4])\n",
      "val_loss =  0.01751405\n",
      "-----------------------------------------------------------------------\n"
     ]
    },
    {
     "data": {
      "application/vnd.jupyter.widget-view+json": {
       "model_id": "25567c4c9eea4c80a2cb46b77750e704",
       "version_major": 2,
       "version_minor": 0
      },
      "text/plain": [
       "  0%|          | 0/53 [00:00<?, ?it/s]"
      ]
     },
     "metadata": {},
     "output_type": "display_data"
    },
    {
     "name": "stdout",
     "output_type": "stream",
     "text": [
      "700\n",
      "ELBO train_loss -3.215396723657284\n",
      "mse train_loss 0.0003982369388774354\n",
      "torch.Size([1, 20837, 2]) torch.Size([1, 20837, 4]) torch.Size([1, 5209, 2]) torch.Size([1, 5209, 4])\n",
      "torch.Size([1, 5209, 4])\n",
      "val_loss =  0.018904917\n",
      "-----------------------------------------------------------------------\n"
     ]
    },
    {
     "data": {
      "application/vnd.jupyter.widget-view+json": {
       "model_id": "ec810064d938450692d6c8545a2c2694",
       "version_major": 2,
       "version_minor": 0
      },
      "text/plain": [
       "  0%|          | 0/53 [00:00<?, ?it/s]"
      ]
     },
     "metadata": {},
     "output_type": "display_data"
    },
    {
     "name": "stdout",
     "output_type": "stream",
     "text": [
      "701\n",
      "ELBO train_loss -3.2346770043643014\n",
      "mse train_loss 0.00035108759711531675\n",
      "torch.Size([1, 20837, 2]) torch.Size([1, 20837, 4]) torch.Size([1, 5209, 2]) torch.Size([1, 5209, 4])\n",
      "torch.Size([1, 5209, 4])\n",
      "val_loss =  0.028848104\n",
      "-----------------------------------------------------------------------\n"
     ]
    },
    {
     "data": {
      "application/vnd.jupyter.widget-view+json": {
       "model_id": "20c97235585b42d592130aa403bcaa82",
       "version_major": 2,
       "version_minor": 0
      },
      "text/plain": [
       "  0%|          | 0/53 [00:00<?, ?it/s]"
      ]
     },
     "metadata": {},
     "output_type": "display_data"
    },
    {
     "name": "stdout",
     "output_type": "stream",
     "text": [
      "702\n",
      "ELBO train_loss -3.236990456311208\n",
      "mse train_loss 0.0003568366159496056\n",
      "torch.Size([1, 20837, 2]) torch.Size([1, 20837, 4]) torch.Size([1, 5209, 2]) torch.Size([1, 5209, 4])\n",
      "torch.Size([1, 5209, 4])\n",
      "val_loss =  0.014739772\n",
      "-----------------------------------------------------------------------\n"
     ]
    },
    {
     "data": {
      "application/vnd.jupyter.widget-view+json": {
       "model_id": "4fa88a0eff37409aac013775ae391b1a",
       "version_major": 2,
       "version_minor": 0
      },
      "text/plain": [
       "  0%|          | 0/53 [00:00<?, ?it/s]"
      ]
     },
     "metadata": {},
     "output_type": "display_data"
    },
    {
     "name": "stdout",
     "output_type": "stream",
     "text": [
      "703\n",
      "ELBO train_loss -3.2490914317796813\n",
      "mse train_loss 0.0003655116498812963\n",
      "torch.Size([1, 20837, 2]) torch.Size([1, 20837, 4]) torch.Size([1, 5209, 2]) torch.Size([1, 5209, 4])\n",
      "torch.Size([1, 5209, 4])\n",
      "val_loss =  0.014889522\n",
      "-----------------------------------------------------------------------\n"
     ]
    },
    {
     "data": {
      "application/vnd.jupyter.widget-view+json": {
       "model_id": "93d1ed4beb814d549ea21cf326a0fab1",
       "version_major": 2,
       "version_minor": 0
      },
      "text/plain": [
       "  0%|          | 0/53 [00:00<?, ?it/s]"
      ]
     },
     "metadata": {},
     "output_type": "display_data"
    },
    {
     "name": "stdout",
     "output_type": "stream",
     "text": [
      "704\n",
      "ELBO train_loss -3.242183316428706\n",
      "mse train_loss 0.0003782826407707103\n",
      "torch.Size([1, 20837, 2]) torch.Size([1, 20837, 4]) torch.Size([1, 5209, 2]) torch.Size([1, 5209, 4])\n",
      "torch.Size([1, 5209, 4])\n",
      "val_loss =  0.018669982\n",
      "-----------------------------------------------------------------------\n"
     ]
    },
    {
     "data": {
      "application/vnd.jupyter.widget-view+json": {
       "model_id": "23139354f188489ca4d174680833e84c",
       "version_major": 2,
       "version_minor": 0
      },
      "text/plain": [
       "  0%|          | 0/53 [00:00<?, ?it/s]"
      ]
     },
     "metadata": {},
     "output_type": "display_data"
    },
    {
     "name": "stdout",
     "output_type": "stream",
     "text": [
      "705\n",
      "ELBO train_loss -3.242716127971433\n",
      "mse train_loss 0.0003730615050167302\n",
      "torch.Size([1, 20837, 2]) torch.Size([1, 20837, 4]) torch.Size([1, 5209, 2]) torch.Size([1, 5209, 4])\n",
      "torch.Size([1, 5209, 4])\n",
      "val_loss =  0.027037501\n",
      "-----------------------------------------------------------------------\n"
     ]
    },
    {
     "data": {
      "application/vnd.jupyter.widget-view+json": {
       "model_id": "4e73f1ed04544bf3b7ce1d180b3ec352",
       "version_major": 2,
       "version_minor": 0
      },
      "text/plain": [
       "  0%|          | 0/53 [00:00<?, ?it/s]"
      ]
     },
     "metadata": {},
     "output_type": "display_data"
    },
    {
     "name": "stdout",
     "output_type": "stream",
     "text": [
      "706\n",
      "ELBO train_loss -3.215073383079385\n",
      "mse train_loss 0.0003626884190796189\n",
      "torch.Size([1, 20837, 2]) torch.Size([1, 20837, 4]) torch.Size([1, 5209, 2]) torch.Size([1, 5209, 4])\n",
      "torch.Size([1, 5209, 4])\n",
      "val_loss =  0.03430771\n",
      "-----------------------------------------------------------------------\n"
     ]
    },
    {
     "data": {
      "application/vnd.jupyter.widget-view+json": {
       "model_id": "029aa524ee6c493587757feb5caca8dc",
       "version_major": 2,
       "version_minor": 0
      },
      "text/plain": [
       "  0%|          | 0/53 [00:00<?, ?it/s]"
      ]
     },
     "metadata": {},
     "output_type": "display_data"
    },
    {
     "name": "stdout",
     "output_type": "stream",
     "text": [
      "707\n",
      "ELBO train_loss -3.252434923963727\n",
      "mse train_loss 0.0003663710255905072\n",
      "torch.Size([1, 20837, 2]) torch.Size([1, 20837, 4]) torch.Size([1, 5209, 2]) torch.Size([1, 5209, 4])\n",
      "torch.Size([1, 5209, 4])\n",
      "val_loss =  0.01383243\n",
      "-----------------------------------------------------------------------\n"
     ]
    },
    {
     "data": {
      "application/vnd.jupyter.widget-view+json": {
       "model_id": "4818896521594150a97c4e925d3bfb22",
       "version_major": 2,
       "version_minor": 0
      },
      "text/plain": [
       "  0%|          | 0/53 [00:00<?, ?it/s]"
      ]
     },
     "metadata": {},
     "output_type": "display_data"
    },
    {
     "name": "stdout",
     "output_type": "stream",
     "text": [
      "708\n",
      "ELBO train_loss -3.24580313574593\n",
      "mse train_loss 0.00038051643169414746\n",
      "torch.Size([1, 20837, 2]) torch.Size([1, 20837, 4]) torch.Size([1, 5209, 2]) torch.Size([1, 5209, 4])\n",
      "torch.Size([1, 5209, 4])\n",
      "val_loss =  0.017978817\n",
      "-----------------------------------------------------------------------\n"
     ]
    },
    {
     "data": {
      "application/vnd.jupyter.widget-view+json": {
       "model_id": "dc2b13ff578e4a5faef9eb76cd9aea9e",
       "version_major": 2,
       "version_minor": 0
      },
      "text/plain": [
       "  0%|          | 0/53 [00:00<?, ?it/s]"
      ]
     },
     "metadata": {},
     "output_type": "display_data"
    },
    {
     "name": "stdout",
     "output_type": "stream",
     "text": [
      "709\n",
      "ELBO train_loss -3.2418219098504983\n",
      "mse train_loss 0.0003754524796880465\n",
      "torch.Size([1, 20837, 2]) torch.Size([1, 20837, 4]) torch.Size([1, 5209, 2]) torch.Size([1, 5209, 4])\n",
      "torch.Size([1, 5209, 4])\n",
      "val_loss =  0.017922299\n",
      "-----------------------------------------------------------------------\n"
     ]
    },
    {
     "data": {
      "application/vnd.jupyter.widget-view+json": {
       "model_id": "473b9b38d5ce4e498931faa46c17f8ad",
       "version_major": 2,
       "version_minor": 0
      },
      "text/plain": [
       "  0%|          | 0/53 [00:00<?, ?it/s]"
      ]
     },
     "metadata": {},
     "output_type": "display_data"
    },
    {
     "name": "stdout",
     "output_type": "stream",
     "text": [
      "710\n",
      "ELBO train_loss -3.2060360458661927\n",
      "mse train_loss 0.00037200654786023014\n",
      "torch.Size([1, 20837, 2]) torch.Size([1, 20837, 4]) torch.Size([1, 5209, 2]) torch.Size([1, 5209, 4])\n",
      "torch.Size([1, 5209, 4])\n",
      "val_loss =  0.014887975\n",
      "-----------------------------------------------------------------------\n"
     ]
    },
    {
     "data": {
      "application/vnd.jupyter.widget-view+json": {
       "model_id": "01145e2f82f44f69914528d9d4812817",
       "version_major": 2,
       "version_minor": 0
      },
      "text/plain": [
       "  0%|          | 0/53 [00:00<?, ?it/s]"
      ]
     },
     "metadata": {},
     "output_type": "display_data"
    },
    {
     "name": "stdout",
     "output_type": "stream",
     "text": [
      "711\n",
      "ELBO train_loss -3.2496387283757047\n",
      "mse train_loss 0.00035575572577006414\n",
      "torch.Size([1, 20837, 2]) torch.Size([1, 20837, 4]) torch.Size([1, 5209, 2]) torch.Size([1, 5209, 4])\n",
      "torch.Size([1, 5209, 4])\n",
      "val_loss =  0.042479232\n",
      "-----------------------------------------------------------------------\n"
     ]
    },
    {
     "data": {
      "application/vnd.jupyter.widget-view+json": {
       "model_id": "064e955e936f43879a76386566085699",
       "version_major": 2,
       "version_minor": 0
      },
      "text/plain": [
       "  0%|          | 0/53 [00:00<?, ?it/s]"
      ]
     },
     "metadata": {},
     "output_type": "display_data"
    },
    {
     "name": "stdout",
     "output_type": "stream",
     "text": [
      "712\n",
      "ELBO train_loss -3.24133237352911\n",
      "mse train_loss 0.0003655838956100919\n",
      "torch.Size([1, 20837, 2]) torch.Size([1, 20837, 4]) torch.Size([1, 5209, 2]) torch.Size([1, 5209, 4])\n",
      "torch.Size([1, 5209, 4])\n",
      "val_loss =  0.03384453\n",
      "-----------------------------------------------------------------------\n"
     ]
    },
    {
     "data": {
      "application/vnd.jupyter.widget-view+json": {
       "model_id": "dd49bbb6bb1b45998bc97d8c43b7fc6d",
       "version_major": 2,
       "version_minor": 0
      },
      "text/plain": [
       "  0%|          | 0/53 [00:00<?, ?it/s]"
      ]
     },
     "metadata": {},
     "output_type": "display_data"
    },
    {
     "name": "stdout",
     "output_type": "stream",
     "text": [
      "713\n",
      "ELBO train_loss -3.250419265819046\n",
      "mse train_loss 0.0003703219018753548\n",
      "torch.Size([1, 20837, 2]) torch.Size([1, 20837, 4]) torch.Size([1, 5209, 2]) torch.Size([1, 5209, 4])\n",
      "torch.Size([1, 5209, 4])\n",
      "val_loss =  0.016448788\n",
      "-----------------------------------------------------------------------\n"
     ]
    },
    {
     "data": {
      "application/vnd.jupyter.widget-view+json": {
       "model_id": "df0c97f55278425ea3da8d4d6e49368a",
       "version_major": 2,
       "version_minor": 0
      },
      "text/plain": [
       "  0%|          | 0/53 [00:00<?, ?it/s]"
      ]
     },
     "metadata": {},
     "output_type": "display_data"
    },
    {
     "name": "stdout",
     "output_type": "stream",
     "text": [
      "714\n",
      "ELBO train_loss -3.24164154844464\n",
      "mse train_loss 0.0003682042602208039\n",
      "torch.Size([1, 20837, 2]) torch.Size([1, 20837, 4]) torch.Size([1, 5209, 2]) torch.Size([1, 5209, 4])\n",
      "torch.Size([1, 5209, 4])\n",
      "val_loss =  0.027619187\n",
      "-----------------------------------------------------------------------\n"
     ]
    },
    {
     "data": {
      "application/vnd.jupyter.widget-view+json": {
       "model_id": "09acaa4edb154fb69b57a2d21e1996b1",
       "version_major": 2,
       "version_minor": 0
      },
      "text/plain": [
       "  0%|          | 0/53 [00:00<?, ?it/s]"
      ]
     },
     "metadata": {},
     "output_type": "display_data"
    },
    {
     "name": "stdout",
     "output_type": "stream",
     "text": [
      "715\n",
      "ELBO train_loss -3.253242218269492\n",
      "mse train_loss 0.0003721281287001165\n",
      "torch.Size([1, 20837, 2]) torch.Size([1, 20837, 4]) torch.Size([1, 5209, 2]) torch.Size([1, 5209, 4])\n",
      "torch.Size([1, 5209, 4])\n",
      "val_loss =  0.016647995\n",
      "-----------------------------------------------------------------------\n"
     ]
    },
    {
     "data": {
      "application/vnd.jupyter.widget-view+json": {
       "model_id": "1ada40d5364449b2b95d87a1d30515b9",
       "version_major": 2,
       "version_minor": 0
      },
      "text/plain": [
       "  0%|          | 0/53 [00:00<?, ?it/s]"
      ]
     },
     "metadata": {},
     "output_type": "display_data"
    },
    {
     "name": "stdout",
     "output_type": "stream",
     "text": [
      "716\n",
      "ELBO train_loss -3.2642099182560758\n",
      "mse train_loss 0.00034525178351993055\n",
      "torch.Size([1, 20837, 2]) torch.Size([1, 20837, 4]) torch.Size([1, 5209, 2]) torch.Size([1, 5209, 4])\n",
      "torch.Size([1, 5209, 4])\n",
      "val_loss =  0.036524754\n",
      "-----------------------------------------------------------------------\n"
     ]
    },
    {
     "data": {
      "application/vnd.jupyter.widget-view+json": {
       "model_id": "7a89bdf8e934440e8b9599ed5305752b",
       "version_major": 2,
       "version_minor": 0
      },
      "text/plain": [
       "  0%|          | 0/53 [00:00<?, ?it/s]"
      ]
     },
     "metadata": {},
     "output_type": "display_data"
    },
    {
     "name": "stdout",
     "output_type": "stream",
     "text": [
      "717\n",
      "ELBO train_loss -3.263999507112323\n",
      "mse train_loss 0.00037628159674877335\n",
      "torch.Size([1, 20837, 2]) torch.Size([1, 20837, 4]) torch.Size([1, 5209, 2]) torch.Size([1, 5209, 4])\n",
      "torch.Size([1, 5209, 4])\n",
      "val_loss =  0.021006078\n",
      "-----------------------------------------------------------------------\n"
     ]
    },
    {
     "data": {
      "application/vnd.jupyter.widget-view+json": {
       "model_id": "c3b6dba4bc9b453a8e4b89f2ebe9566a",
       "version_major": 2,
       "version_minor": 0
      },
      "text/plain": [
       "  0%|          | 0/53 [00:00<?, ?it/s]"
      ]
     },
     "metadata": {},
     "output_type": "display_data"
    },
    {
     "name": "stdout",
     "output_type": "stream",
     "text": [
      "718\n",
      "ELBO train_loss -3.2425110497564638\n",
      "mse train_loss 0.0003764521092273084\n",
      "torch.Size([1, 20837, 2]) torch.Size([1, 20837, 4]) torch.Size([1, 5209, 2]) torch.Size([1, 5209, 4])\n"
     ]
    },
    {
     "ename": "KeyboardInterrupt",
     "evalue": "",
     "output_type": "error",
     "traceback": [
      "\u001b[1;31m---------------------------------------------------------------------------\u001b[0m",
      "\u001b[1;31mKeyboardInterrupt\u001b[0m                         Traceback (most recent call last)",
      "\u001b[1;32m<ipython-input-63-1266e0c92958>\u001b[0m in \u001b[0;36m<module>\u001b[1;34m\u001b[0m\n\u001b[0;32m     21\u001b[0m     \u001b[0mprint\u001b[0m\u001b[1;33m(\u001b[0m\u001b[1;34m'mse train_loss'\u001b[0m\u001b[1;33m,\u001b[0m \u001b[0mmse_loss\u001b[0m\u001b[1;33m/\u001b[0m\u001b[0mlen\u001b[0m\u001b[1;33m(\u001b[0m\u001b[0mtrain_loader\u001b[0m\u001b[1;33m)\u001b[0m\u001b[1;33m)\u001b[0m\u001b[1;33m\u001b[0m\u001b[1;33m\u001b[0m\u001b[0m\n\u001b[0;32m     22\u001b[0m \u001b[1;33m\u001b[0m\u001b[0m\n\u001b[1;32m---> 23\u001b[1;33m     \u001b[0mval_loss\u001b[0m \u001b[1;33m=\u001b[0m \u001b[0mtest\u001b[0m\u001b[1;33m(\u001b[0m\u001b[1;33m)\u001b[0m\u001b[1;33m[\u001b[0m\u001b[1;36m0\u001b[0m\u001b[1;33m]\u001b[0m\u001b[1;33m\u001b[0m\u001b[1;33m\u001b[0m\u001b[0m\n\u001b[0m\u001b[0;32m     24\u001b[0m     \u001b[0mval_loss\u001b[0m \u001b[1;33m=\u001b[0m \u001b[0mnp\u001b[0m\u001b[1;33m.\u001b[0m\u001b[0mmean\u001b[0m\u001b[1;33m(\u001b[0m\u001b[0mnp\u001b[0m\u001b[1;33m.\u001b[0m\u001b[0mabs\u001b[0m\u001b[1;33m(\u001b[0m\u001b[0mval_loss\u001b[0m\u001b[1;33m)\u001b[0m\u001b[1;33m)\u001b[0m\u001b[1;33m\u001b[0m\u001b[1;33m\u001b[0m\u001b[0m\n\u001b[0;32m     25\u001b[0m     \u001b[0mprint\u001b[0m\u001b[1;33m(\u001b[0m\u001b[1;34m'val_loss = '\u001b[0m\u001b[1;33m,\u001b[0m \u001b[0mval_loss\u001b[0m\u001b[1;33m)\u001b[0m\u001b[1;33m\u001b[0m\u001b[1;33m\u001b[0m\u001b[0m\n",
      "\u001b[1;32m<ipython-input-61-84a8bba615a4>\u001b[0m in \u001b[0;36mtest\u001b[1;34m(do_eval)\u001b[0m\n\u001b[0;32m     13\u001b[0m         \u001b[0mtarget_y\u001b[0m \u001b[1;33m=\u001b[0m \u001b[0mtorch\u001b[0m\u001b[1;33m.\u001b[0m\u001b[0mfrom_numpy\u001b[0m\u001b[1;33m(\u001b[0m\u001b[0mtarget_y\u001b[0m\u001b[1;33m.\u001b[0m\u001b[0mvalues\u001b[0m\u001b[1;33m)\u001b[0m\u001b[1;33m.\u001b[0m\u001b[0mfloat\u001b[0m\u001b[1;33m(\u001b[0m\u001b[1;33m)\u001b[0m\u001b[1;33m[\u001b[0m\u001b[1;32mNone\u001b[0m\u001b[1;33m,\u001b[0m \u001b[1;33m:\u001b[0m\u001b[1;33m]\u001b[0m\u001b[1;33m\u001b[0m\u001b[1;33m\u001b[0m\u001b[0m\n\u001b[0;32m     14\u001b[0m         \u001b[0mprint\u001b[0m\u001b[1;33m(\u001b[0m\u001b[0mcontext_x\u001b[0m\u001b[1;33m.\u001b[0m\u001b[0mshape\u001b[0m\u001b[1;33m,\u001b[0m \u001b[0mcontext_y\u001b[0m\u001b[1;33m.\u001b[0m\u001b[0mshape\u001b[0m\u001b[1;33m,\u001b[0m \u001b[0mtarget_x\u001b[0m\u001b[1;33m.\u001b[0m\u001b[0mshape\u001b[0m\u001b[1;33m,\u001b[0m \u001b[0mtarget_y\u001b[0m\u001b[1;33m.\u001b[0m\u001b[0mshape\u001b[0m\u001b[1;33m)\u001b[0m\u001b[1;33m\u001b[0m\u001b[1;33m\u001b[0m\u001b[0m\n\u001b[1;32m---> 15\u001b[1;33m         \u001b[0my_pred\u001b[0m\u001b[1;33m,\u001b[0m \u001b[0mlosses\u001b[0m\u001b[1;33m,\u001b[0m \u001b[0mextra\u001b[0m \u001b[1;33m=\u001b[0m \u001b[0mRegressor\u001b[0m\u001b[1;33m.\u001b[0m\u001b[0mforward\u001b[0m\u001b[1;33m(\u001b[0m\u001b[0mcontext_x\u001b[0m\u001b[1;33m,\u001b[0m \u001b[0mcontext_y\u001b[0m\u001b[1;33m,\u001b[0m \u001b[0mtarget_x\u001b[0m\u001b[1;33m,\u001b[0m \u001b[0mtarget_y\u001b[0m\u001b[1;33m)\u001b[0m\u001b[1;33m\u001b[0m\u001b[1;33m\u001b[0m\u001b[0m\n\u001b[0m\u001b[0;32m     16\u001b[0m         \u001b[0mprint\u001b[0m\u001b[1;33m(\u001b[0m\u001b[0my_pred\u001b[0m\u001b[1;33m.\u001b[0m\u001b[0mshape\u001b[0m\u001b[1;33m)\u001b[0m\u001b[1;33m\u001b[0m\u001b[1;33m\u001b[0m\u001b[0m\n\u001b[0;32m     17\u001b[0m     \u001b[0myr\u001b[0m\u001b[1;33m=\u001b[0m\u001b[1;33m(\u001b[0m\u001b[0mtarget_y\u001b[0m\u001b[1;33m-\u001b[0m\u001b[0my_pred\u001b[0m\u001b[1;33m)\u001b[0m\u001b[1;33m[\u001b[0m\u001b[1;36m0\u001b[0m\u001b[1;33m]\u001b[0m\u001b[1;33m.\u001b[0m\u001b[0mdetach\u001b[0m\u001b[1;33m(\u001b[0m\u001b[1;33m)\u001b[0m\u001b[1;33m.\u001b[0m\u001b[0mcpu\u001b[0m\u001b[1;33m(\u001b[0m\u001b[1;33m)\u001b[0m\u001b[1;33m.\u001b[0m\u001b[0mnumpy\u001b[0m\u001b[1;33m(\u001b[0m\u001b[1;33m)\u001b[0m\u001b[1;33m\u001b[0m\u001b[1;33m\u001b[0m\u001b[0m\n",
      "\u001b[1;32m<ipython-input-23-e4fe52027747>\u001b[0m in \u001b[0;36mforward\u001b[1;34m(self, c_x, c_y, t_x, t_y)\u001b[0m\n\u001b[0;32m     62\u001b[0m \u001b[1;33m\u001b[0m\u001b[0m\n\u001b[0;32m     63\u001b[0m     \u001b[1;32mdef\u001b[0m \u001b[0mforward\u001b[0m\u001b[1;33m(\u001b[0m\u001b[0mself\u001b[0m\u001b[1;33m,\u001b[0m \u001b[0mc_x\u001b[0m\u001b[1;33m,\u001b[0m \u001b[0mc_y\u001b[0m\u001b[1;33m,\u001b[0m \u001b[0mt_x\u001b[0m\u001b[1;33m,\u001b[0m \u001b[0mt_y\u001b[0m \u001b[1;33m=\u001b[0m \u001b[1;32mNone\u001b[0m\u001b[1;33m)\u001b[0m\u001b[1;33m:\u001b[0m\u001b[1;33m\u001b[0m\u001b[1;33m\u001b[0m\u001b[0m\n\u001b[1;32m---> 64\u001b[1;33m         \u001b[0mdist_prior\u001b[0m \u001b[1;33m=\u001b[0m \u001b[0mself\u001b[0m\u001b[1;33m.\u001b[0m\u001b[0mlaten_encoder\u001b[0m\u001b[1;33m(\u001b[0m\u001b[0mc_x\u001b[0m\u001b[1;33m,\u001b[0m \u001b[0mc_y\u001b[0m\u001b[1;33m)\u001b[0m\u001b[1;33m\u001b[0m\u001b[1;33m\u001b[0m\u001b[0m\n\u001b[0m\u001b[0;32m     65\u001b[0m \u001b[1;33m\u001b[0m\u001b[0m\n\u001b[0;32m     66\u001b[0m         \u001b[1;32mif\u001b[0m \u001b[0mt_y\u001b[0m \u001b[1;32mis\u001b[0m \u001b[1;32mnot\u001b[0m \u001b[1;32mNone\u001b[0m\u001b[1;33m:\u001b[0m\u001b[1;33m\u001b[0m\u001b[1;33m\u001b[0m\u001b[0m\n",
      "\u001b[1;32m~\\anaconda3\\lib\\site-packages\\torch\\nn\\modules\\module.py\u001b[0m in \u001b[0;36m_call_impl\u001b[1;34m(self, *input, **kwargs)\u001b[0m\n\u001b[0;32m    887\u001b[0m             \u001b[0mresult\u001b[0m \u001b[1;33m=\u001b[0m \u001b[0mself\u001b[0m\u001b[1;33m.\u001b[0m\u001b[0m_slow_forward\u001b[0m\u001b[1;33m(\u001b[0m\u001b[1;33m*\u001b[0m\u001b[0minput\u001b[0m\u001b[1;33m,\u001b[0m \u001b[1;33m**\u001b[0m\u001b[0mkwargs\u001b[0m\u001b[1;33m)\u001b[0m\u001b[1;33m\u001b[0m\u001b[1;33m\u001b[0m\u001b[0m\n\u001b[0;32m    888\u001b[0m         \u001b[1;32melse\u001b[0m\u001b[1;33m:\u001b[0m\u001b[1;33m\u001b[0m\u001b[1;33m\u001b[0m\u001b[0m\n\u001b[1;32m--> 889\u001b[1;33m             \u001b[0mresult\u001b[0m \u001b[1;33m=\u001b[0m \u001b[0mself\u001b[0m\u001b[1;33m.\u001b[0m\u001b[0mforward\u001b[0m\u001b[1;33m(\u001b[0m\u001b[1;33m*\u001b[0m\u001b[0minput\u001b[0m\u001b[1;33m,\u001b[0m \u001b[1;33m**\u001b[0m\u001b[0mkwargs\u001b[0m\u001b[1;33m)\u001b[0m\u001b[1;33m\u001b[0m\u001b[1;33m\u001b[0m\u001b[0m\n\u001b[0m\u001b[0;32m    890\u001b[0m         for hook in itertools.chain(\n\u001b[0;32m    891\u001b[0m                 \u001b[0m_global_forward_hooks\u001b[0m\u001b[1;33m.\u001b[0m\u001b[0mvalues\u001b[0m\u001b[1;33m(\u001b[0m\u001b[1;33m)\u001b[0m\u001b[1;33m,\u001b[0m\u001b[1;33m\u001b[0m\u001b[1;33m\u001b[0m\u001b[0m\n",
      "\u001b[1;32m<ipython-input-21-bfae51c6212f>\u001b[0m in \u001b[0;36mforward\u001b[1;34m(self, x, y)\u001b[0m\n\u001b[0;32m     41\u001b[0m \u001b[1;33m\u001b[0m\u001b[0m\n\u001b[0;32m     42\u001b[0m \u001b[1;33m\u001b[0m\u001b[0m\n\u001b[1;32m---> 43\u001b[1;33m         \u001b[0mmean_val\u001b[0m \u001b[1;33m=\u001b[0m \u001b[0mtorch\u001b[0m\u001b[1;33m.\u001b[0m\u001b[0mmean\u001b[0m\u001b[1;33m(\u001b[0m\u001b[0mencoded_op\u001b[0m\u001b[1;33m,\u001b[0m \u001b[0mdim\u001b[0m \u001b[1;33m=\u001b[0m \u001b[1;36m1\u001b[0m\u001b[1;33m)\u001b[0m \u001b[1;31m#mean aggregation (B, hd)\u001b[0m\u001b[1;33m\u001b[0m\u001b[1;33m\u001b[0m\u001b[0m\n\u001b[0m\u001b[0;32m     44\u001b[0m \u001b[1;33m\u001b[0m\u001b[0m\n\u001b[0;32m     45\u001b[0m         \u001b[1;31m#further MLP layer that maps parameters to gaussian latent\u001b[0m\u001b[1;33m\u001b[0m\u001b[1;33m\u001b[0m\u001b[1;33m\u001b[0m\u001b[0m\n",
      "\u001b[1;31mKeyboardInterrupt\u001b[0m: "
     ]
    }
   ],
   "source": [
    "from tqdm.auto import tqdm \n",
    "\n",
    "for epoch in range(1000):\n",
    "    loss = 0 \n",
    "    mse_loss = 0\n",
    "    Regressor.train()\n",
    "    for batch in tqdm(train_loader):\n",
    "        context_x, context_y, target_x, target_y = batch\n",
    "#         context_x.shape\n",
    "        Regressor.zero_grad()\n",
    "        y_pred, losses, extra = Regressor.forward(context_x, context_y, target_x, target_y)\n",
    "#         print(y_pred.shape)\n",
    "        losses['loss'].backward()\n",
    "        loss += losses['loss'].cpu().detach().numpy()\n",
    "        mse_loss+=losses['loss_mse'].cpu().detach().numpy()\n",
    "        opt.step()\n",
    "    loss /= len(train_loader)\n",
    "    \n",
    "    print(epoch)\n",
    "    print('ELBO train_loss', loss)\n",
    "    print('mse train_loss', mse_loss/len(train_loader))\n",
    "    \n",
    "    val_loss = test()[0]\n",
    "    val_loss = np.mean(np.abs(val_loss))\n",
    "    print('val_loss = ', val_loss)\n",
    "    print(\"-----------------------------------------------------------------------\")"
   ]
  },
  {
   "cell_type": "markdown",
   "id": "equivalent-class",
   "metadata": {},
   "source": [
    "# Meuse data testing"
   ]
  },
  {
   "cell_type": "code",
   "execution_count": null,
   "id": "oriental-litigation",
   "metadata": {},
   "outputs": [],
   "source": [
    "%%capture\n",
    "!pip install geopandas"
   ]
  },
  {
   "cell_type": "code",
   "execution_count": null,
   "id": "composed-journey",
   "metadata": {},
   "outputs": [],
   "source": [
    "import os,requests\n",
    "import geopandas as gpd"
   ]
  },
  {
   "cell_type": "code",
   "execution_count": null,
   "id": "occupied-familiar",
   "metadata": {},
   "outputs": [],
   "source": [
    "allow_columns = ['lead', 'elev', 'dist', 'x', 'y', 'ffreq', 'soil']\n",
    "label ='lead'"
   ]
  },
  {
   "cell_type": "code",
   "execution_count": null,
   "id": "accessible-portsmouth",
   "metadata": {},
   "outputs": [],
   "source": [
    "meuse = gpd.read_file('meuse')\n",
    "meuse.crs = {'init':'epsg:28992'}\n",
    "meuse['x'] = meuse['geometry'].apply(lambda x: x.x)\n",
    "meuse['y'] = meuse['geometry'].apply(lambda x: x.y)\n",
    "meuse.sample(2)"
   ]
  },
  {
   "cell_type": "code",
   "execution_count": null,
   "id": "dietary-dakota",
   "metadata": {},
   "outputs": [],
   "source": [
    "for col in ['ffreq', 'soil']:\n",
    "    meuse[col] = pd.to_numeric(meuse[col]) * 1.0\n",
    "meuse[allow_columns].info()"
   ]
  },
  {
   "cell_type": "code",
   "execution_count": null,
   "id": "filled-maple",
   "metadata": {},
   "outputs": [],
   "source": [
    "np.random.seed(0)\n",
    "test_indexes = np.random.choice(a=meuse.index, size=int(np.round(len(meuse.index.values)/4)))\n",
    "train_indexes = [index for index in meuse.index if index not in test_indexes]\n",
    "meuse_test = meuse.loc[test_indexes,:].copy()\n",
    "meuse_train = meuse.loc[train_indexes,:].copy()\n",
    "print('Number of observations in training: {}, in test: {}'.format(len(meuse_train), len(meuse_test)))"
   ]
  },
  {
   "cell_type": "code",
   "execution_count": null,
   "id": "active-interpretation",
   "metadata": {},
   "outputs": [],
   "source": [
    "df_train = meuse_train[allow_columns].copy()\n",
    "norm_mean = meuse[allow_columns].mean()\n",
    "norm_std = meuse[allow_columns].std()\n",
    "\n",
    "hparams = dict(\n",
    "    num_context=15,\n",
    "    num_extra_target=16,\n",
    "    batch_size=40,\n",
    "    context_in_target=False,\n",
    ")\n"
   ]
  },
  {
   "cell_type": "code",
   "execution_count": null,
   "id": "turned-symposium",
   "metadata": {},
   "outputs": [],
   "source": [
    "class DataSet(torch.utils.data.Dataset):\n",
    "    def __init__(self, df, num_context=40, num_extra_target=10, label_names=['lead']):\n",
    "        self.df = df\n",
    "        self.num_context = num_context\n",
    "        self.num_extra_target = num_extra_target\n",
    "        self.label_names = label_names\n",
    "\n",
    "    def get_rows(self, i):\n",
    "        rows = self.df.iloc[i : i + (self.num_context + self.num_extra_target)].copy()\n",
    "\n",
    "        # make sure tstp, which is our x axis, is the first value\n",
    "\n",
    "        # This will be the last row, and will change it upon sample to let the model know some points are in the future\n",
    "\n",
    "        x = rows.drop(columns=self.label_names).copy()\n",
    "        y = rows[self.label_names].copy()\n",
    "#         print(x.shape)\n",
    "#         print(y.shape)\n",
    "        return x, y\n",
    "\n",
    "\n",
    "    def __getitem__(self, i):\n",
    "        x, y = self.get_rows(i)\n",
    "        return x.values, y.values\n",
    "        \n",
    "    def __len__(self):\n",
    "        return len(self.df) - (self.num_context + self.num_extra_target)\n"
   ]
  },
  {
   "cell_type": "code",
   "execution_count": null,
   "id": "enabling-mentor",
   "metadata": {},
   "outputs": [],
   "source": [
    "for i, batch in enumerate(loader_train):\n",
    "    a,b,c,d = batch\n",
    "    print(d.shape)"
   ]
  },
  {
   "cell_type": "code",
   "execution_count": null,
   "id": "clear-dakota",
   "metadata": {},
   "outputs": [],
   "source": [
    "df_train = meuse_train[allow_columns].copy()\n",
    "df_train -= norm_mean\n",
    "df_train /= norm_std\n",
    "\n",
    "data_train = DataSet(\n",
    "    df_train, hparams[\"num_context\"], hparams[\"num_extra_target\"]\n",
    ")\n",
    "loader_train = torch.utils.data.DataLoader(\n",
    "    data_train,\n",
    "    batch_size=hparams[\"batch_size\"],\n",
    "    shuffle=True,\n",
    "    collate_fn=collate_fns(\n",
    "        hparams[\"num_context\"], hparams[\"num_extra_target\"], sample=True, context_in_target=hparams[\"context_in_target\"]\n",
    "    ),\n",
    ")"
   ]
  },
  {
   "cell_type": "code",
   "execution_count": null,
   "id": "selected-showcase",
   "metadata": {},
   "outputs": [],
   "source": [
    "df_test = meuse_test[allow_columns].copy()\n",
    "df_test -= norm_mean\n",
    "df_test /= norm_std\n",
    "\n",
    "data_test = DataSet(\n",
    "    df_test, hparams[\"num_context\"], hparams[\"num_extra_target\"]\n",
    ")\n",
    "loader_test = torch.utils.data.DataLoader(\n",
    "    data_test,\n",
    "    batch_size=hparams[\"batch_size\"],\n",
    "    shuffle=False,\n",
    "    collate_fn=collate_fns(\n",
    "        hparams[\"num_context\"], hparams[\"num_extra_target\"], sample=False, context_in_target=hparams[\"context_in_target\"]\n",
    "    ),\n",
    ")"
   ]
  },
  {
   "cell_type": "code",
   "execution_count": null,
   "id": "complete-essay",
   "metadata": {},
   "outputs": [],
   "source": [
    "Regressor = LatentModel(len(allow_columns)-1,1,\n",
    "                       p_drop = 0.5,\n",
    "                        hidden_dim = 64,\n",
    "                        latent_dim = 16,\n",
    "                       n_decoder_layer = 3,\n",
    "                       norm = 'batch',\n",
    "                       context_in_target=False\n",
    "                       )"
   ]
  },
  {
   "cell_type": "code",
   "execution_count": null,
   "id": "passive-flush",
   "metadata": {},
   "outputs": [],
   "source": [
    "from tqdm.auto import tqdm \n",
    "\n",
    "for epoch in range(1000):\n",
    "    loss = 0 \n",
    "    Regressor.train()\n",
    "    for batch in tqdm(loader_train):\n",
    "        context_x, context_y, target_x, target_y = batch\n",
    "        print(context_x.shape)\n",
    "        Regressor.zero_grad()\n",
    "        y_pred, losses, extra = Regressor.forward(context_x, context_y, target_x, target_y)\n",
    "\n",
    "        losses['loss'].backward()\n",
    "        loss += losses['loss'].cpu().detach().numpy()\n",
    "        opt.step()\n",
    "    loss /= len(loader_train)\n",
    "    \n",
    "    print(epoch)\n",
    "    print('train_loss', loss)"
   ]
  },
  {
   "cell_type": "code",
   "execution_count": null,
   "id": "ideal-culture",
   "metadata": {},
   "outputs": [],
   "source": []
  },
  {
   "cell_type": "code",
   "execution_count": null,
   "id": "mysterious-council",
   "metadata": {},
   "outputs": [],
   "source": []
  }
 ],
 "metadata": {
  "kernelspec": {
   "display_name": "Python 3",
   "language": "python",
   "name": "python3"
  }
 },
 "nbformat": 4,
 "nbformat_minor": 5
}
