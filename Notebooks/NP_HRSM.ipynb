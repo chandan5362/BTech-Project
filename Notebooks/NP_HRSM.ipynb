{
 "cells": [
  {
   "cell_type": "code",
   "execution_count": null,
   "id": "finite-aberdeen",
   "metadata": {},
   "outputs": [],
   "source": [
    "!pip install haversine"
   ]
  },
  {
   "cell_type": "code",
   "execution_count": 1,
   "id": "equipped-alias",
   "metadata": {},
   "outputs": [],
   "source": [
    "import numpy as np\n",
    "import pandas as pd\n",
    "import seaborn as sns\n",
    "from matplotlib import cm\n",
    "import torch\n",
    "import torch.nn as nn\n",
    "import torch.nn.functional as F\n",
    "from sklearn.gaussian_process.kernels import RBF\n",
    "from sklearn.model_selection import train_test_split\n",
    "from torch.utils.data import Dataset, DataLoader\n",
    "from sklearn.preprocessing import StandardScaler, MinMaxScaler\n",
    "from sklearn.gaussian_process import GaussianProcessRegressor\n",
    "import matplotlib.pyplot as plt\n",
    "import utm\n",
    "from sklearn.metrics import r2_score\n",
    "import seaborn as sns\n",
    "import haversine\n",
    "plt.rcParams['figure.figsize'] = (6,5)\n",
    "\n",
    "import warnings\n",
    "warnings.filterwarnings(\"ignore\")\n",
    "%load_ext autoreload\n",
    "%autoreload 2"
   ]
  },
  {
   "cell_type": "code",
   "execution_count": 2,
   "id": "official-growing",
   "metadata": {
    "scrolled": true
   },
   "outputs": [],
   "source": [
    "data1 = pd.read_excel(\"../Dataset/Maharashtra_Soil_Nutrients_Data.xlsx\")\n",
    "data2 = pd.read_csv(\"../Dataset/scaledN.csv\")"
   ]
  },
  {
   "cell_type": "code",
   "execution_count": 3,
   "id": "headed-twist",
   "metadata": {
    "scrolled": false
   },
   "outputs": [
    {
     "data": {
      "text/html": [
       "<div>\n",
       "<style scoped>\n",
       "    .dataframe tbody tr th:only-of-type {\n",
       "        vertical-align: middle;\n",
       "    }\n",
       "\n",
       "    .dataframe tbody tr th {\n",
       "        vertical-align: top;\n",
       "    }\n",
       "\n",
       "    .dataframe thead th {\n",
       "        text-align: right;\n",
       "    }\n",
       "</style>\n",
       "<table border=\"1\" class=\"dataframe\">\n",
       "  <thead>\n",
       "    <tr style=\"text-align: right;\">\n",
       "      <th></th>\n",
       "      <th>lon</th>\n",
       "      <th>lat</th>\n",
       "      <th>OC</th>\n",
       "      <th>N</th>\n",
       "      <th>P</th>\n",
       "      <th>K</th>\n",
       "    </tr>\n",
       "  </thead>\n",
       "  <tbody>\n",
       "    <tr>\n",
       "      <th>0</th>\n",
       "      <td>73.401111</td>\n",
       "      <td>17.894722</td>\n",
       "      <td>1.08</td>\n",
       "      <td>756.0</td>\n",
       "      <td>9.43</td>\n",
       "      <td>834.37</td>\n",
       "    </tr>\n",
       "    <tr>\n",
       "      <th>1</th>\n",
       "      <td>73.401389</td>\n",
       "      <td>17.894722</td>\n",
       "      <td>1.12</td>\n",
       "      <td>781.2</td>\n",
       "      <td>9.21</td>\n",
       "      <td>265.10</td>\n",
       "    </tr>\n",
       "    <tr>\n",
       "      <th>2</th>\n",
       "      <td>73.402222</td>\n",
       "      <td>17.894722</td>\n",
       "      <td>0.68</td>\n",
       "      <td>478.8</td>\n",
       "      <td>8.99</td>\n",
       "      <td>318.96</td>\n",
       "    </tr>\n",
       "    <tr>\n",
       "      <th>3</th>\n",
       "      <td>73.403056</td>\n",
       "      <td>17.894722</td>\n",
       "      <td>1.76</td>\n",
       "      <td>1234.8</td>\n",
       "      <td>9.65</td>\n",
       "      <td>954.77</td>\n",
       "    </tr>\n",
       "    <tr>\n",
       "      <th>4</th>\n",
       "      <td>73.403333</td>\n",
       "      <td>17.894722</td>\n",
       "      <td>1.78</td>\n",
       "      <td>1247.4</td>\n",
       "      <td>8.77</td>\n",
       "      <td>371.77</td>\n",
       "    </tr>\n",
       "  </tbody>\n",
       "</table>\n",
       "</div>"
      ],
      "text/plain": [
       "         lon        lat    OC       N     P       K\n",
       "0  73.401111  17.894722  1.08   756.0  9.43  834.37\n",
       "1  73.401389  17.894722  1.12   781.2  9.21  265.10\n",
       "2  73.402222  17.894722  0.68   478.8  8.99  318.96\n",
       "3  73.403056  17.894722  1.76  1234.8  9.65  954.77\n",
       "4  73.403333  17.894722  1.78  1247.4  8.77  371.77"
      ]
     },
     "execution_count": 3,
     "metadata": {},
     "output_type": "execute_result"
    }
   ],
   "source": [
    "data1.head()"
   ]
  },
  {
   "cell_type": "code",
   "execution_count": 4,
   "id": "stylish-wallet",
   "metadata": {},
   "outputs": [
    {
     "data": {
      "text/html": [
       "<div>\n",
       "<style scoped>\n",
       "    .dataframe tbody tr th:only-of-type {\n",
       "        vertical-align: middle;\n",
       "    }\n",
       "\n",
       "    .dataframe tbody tr th {\n",
       "        vertical-align: top;\n",
       "    }\n",
       "\n",
       "    .dataframe thead th {\n",
       "        text-align: right;\n",
       "    }\n",
       "</style>\n",
       "<table border=\"1\" class=\"dataframe\">\n",
       "  <thead>\n",
       "    <tr style=\"text-align: right;\">\n",
       "      <th></th>\n",
       "      <th>Latitude</th>\n",
       "      <th>Longitude</th>\n",
       "      <th>Scaled N</th>\n",
       "    </tr>\n",
       "  </thead>\n",
       "  <tbody>\n",
       "    <tr>\n",
       "      <th>0</th>\n",
       "      <td>17.895</td>\n",
       "      <td>73.401</td>\n",
       "      <td>0.63157</td>\n",
       "    </tr>\n",
       "    <tr>\n",
       "      <th>1</th>\n",
       "      <td>17.895</td>\n",
       "      <td>73.401</td>\n",
       "      <td>0.65262</td>\n",
       "    </tr>\n",
       "    <tr>\n",
       "      <th>2</th>\n",
       "      <td>17.895</td>\n",
       "      <td>73.402</td>\n",
       "      <td>0.39998</td>\n",
       "    </tr>\n",
       "    <tr>\n",
       "      <th>3</th>\n",
       "      <td>17.895</td>\n",
       "      <td>73.404</td>\n",
       "      <td>0.82105</td>\n",
       "    </tr>\n",
       "    <tr>\n",
       "      <th>4</th>\n",
       "      <td>17.895</td>\n",
       "      <td>73.404</td>\n",
       "      <td>0.88421</td>\n",
       "    </tr>\n",
       "  </tbody>\n",
       "</table>\n",
       "</div>"
      ],
      "text/plain": [
       "   Latitude  Longitude  Scaled N\n",
       "0    17.895     73.401   0.63157\n",
       "1    17.895     73.401   0.65262\n",
       "2    17.895     73.402   0.39998\n",
       "3    17.895     73.404   0.82105\n",
       "4    17.895     73.404   0.88421"
      ]
     },
     "execution_count": 4,
     "metadata": {},
     "output_type": "execute_result"
    }
   ],
   "source": [
    "data2.head()"
   ]
  },
  {
   "cell_type": "code",
   "execution_count": 5,
   "id": "final-biodiversity",
   "metadata": {
    "scrolled": true
   },
   "outputs": [
    {
     "data": {
      "text/html": [
       "<div>\n",
       "<style scoped>\n",
       "    .dataframe tbody tr th:only-of-type {\n",
       "        vertical-align: middle;\n",
       "    }\n",
       "\n",
       "    .dataframe tbody tr th {\n",
       "        vertical-align: top;\n",
       "    }\n",
       "\n",
       "    .dataframe thead th {\n",
       "        text-align: right;\n",
       "    }\n",
       "</style>\n",
       "<table border=\"1\" class=\"dataframe\">\n",
       "  <thead>\n",
       "    <tr style=\"text-align: right;\">\n",
       "      <th></th>\n",
       "      <th>Latitude</th>\n",
       "      <th>Longitude</th>\n",
       "      <th>Scaled N</th>\n",
       "    </tr>\n",
       "  </thead>\n",
       "  <tbody>\n",
       "    <tr>\n",
       "      <th>Latitude</th>\n",
       "      <td>1.000000</td>\n",
       "      <td>0.189321</td>\n",
       "      <td>0.283999</td>\n",
       "    </tr>\n",
       "    <tr>\n",
       "      <th>Longitude</th>\n",
       "      <td>0.189321</td>\n",
       "      <td>1.000000</td>\n",
       "      <td>0.080928</td>\n",
       "    </tr>\n",
       "    <tr>\n",
       "      <th>Scaled N</th>\n",
       "      <td>0.283999</td>\n",
       "      <td>0.080928</td>\n",
       "      <td>1.000000</td>\n",
       "    </tr>\n",
       "  </tbody>\n",
       "</table>\n",
       "</div>"
      ],
      "text/plain": [
       "           Latitude  Longitude  Scaled N\n",
       "Latitude   1.000000   0.189321  0.283999\n",
       "Longitude  0.189321   1.000000  0.080928\n",
       "Scaled N   0.283999   0.080928  1.000000"
      ]
     },
     "execution_count": 5,
     "metadata": {},
     "output_type": "execute_result"
    }
   ],
   "source": [
    "data2.corr()"
   ]
  },
  {
   "cell_type": "code",
   "execution_count": 6,
   "id": "arbitrary-tender",
   "metadata": {},
   "outputs": [
    {
     "data": {
      "text/html": [
       "<div>\n",
       "<style scoped>\n",
       "    .dataframe tbody tr th:only-of-type {\n",
       "        vertical-align: middle;\n",
       "    }\n",
       "\n",
       "    .dataframe tbody tr th {\n",
       "        vertical-align: top;\n",
       "    }\n",
       "\n",
       "    .dataframe thead th {\n",
       "        text-align: right;\n",
       "    }\n",
       "</style>\n",
       "<table border=\"1\" class=\"dataframe\">\n",
       "  <thead>\n",
       "    <tr style=\"text-align: right;\">\n",
       "      <th></th>\n",
       "      <th>lon</th>\n",
       "      <th>lat</th>\n",
       "      <th>Scaled N</th>\n",
       "    </tr>\n",
       "  </thead>\n",
       "  <tbody>\n",
       "    <tr>\n",
       "      <th>0</th>\n",
       "      <td>17.895</td>\n",
       "      <td>73.401</td>\n",
       "      <td>0.63157</td>\n",
       "    </tr>\n",
       "    <tr>\n",
       "      <th>1</th>\n",
       "      <td>17.895</td>\n",
       "      <td>73.401</td>\n",
       "      <td>0.65262</td>\n",
       "    </tr>\n",
       "    <tr>\n",
       "      <th>2</th>\n",
       "      <td>17.895</td>\n",
       "      <td>73.402</td>\n",
       "      <td>0.39998</td>\n",
       "    </tr>\n",
       "    <tr>\n",
       "      <th>3</th>\n",
       "      <td>17.895</td>\n",
       "      <td>73.404</td>\n",
       "      <td>0.82105</td>\n",
       "    </tr>\n",
       "    <tr>\n",
       "      <th>4</th>\n",
       "      <td>17.895</td>\n",
       "      <td>73.404</td>\n",
       "      <td>0.88421</td>\n",
       "    </tr>\n",
       "  </tbody>\n",
       "</table>\n",
       "</div>"
      ],
      "text/plain": [
       "      lon     lat  Scaled N\n",
       "0  17.895  73.401   0.63157\n",
       "1  17.895  73.401   0.65262\n",
       "2  17.895  73.402   0.39998\n",
       "3  17.895  73.404   0.82105\n",
       "4  17.895  73.404   0.88421"
      ]
     },
     "execution_count": 6,
     "metadata": {},
     "output_type": "execute_result"
    }
   ],
   "source": [
    "data2  = data2.rename(columns ={'Longitude':'lat', 'Latitude':'lon'})\n",
    "data2.head()"
   ]
  },
  {
   "cell_type": "markdown",
   "id": "perceived-spain",
   "metadata": {},
   "source": [
    "## Data PreProcessing"
   ]
  },
  {
   "cell_type": "code",
   "execution_count": 7,
   "id": "floppy-peninsula",
   "metadata": {
    "scrolled": true
   },
   "outputs": [
    {
     "data": {
      "text/plain": [
       "<AxesSubplot:xlabel='N'>"
      ]
     },
     "execution_count": 7,
     "metadata": {},
     "output_type": "execute_result"
    },
    {
     "data": {
      "image/png": "[encoded data removed]",
      "text/plain": [
       "<Figure size 432x360 with 1 Axes>"
      ]
     },
     "metadata": {
      "needs_background": "light"
     },
     "output_type": "display_data"
    }
   ],
   "source": [
    "sns.boxplot(data1['N'])"
   ]
  },
  {
   "cell_type": "code",
   "execution_count": 8,
   "id": "looking-import",
   "metadata": {},
   "outputs": [],
   "source": [
    "idx_n = np.where(data1['N'] < 2200)"
   ]
  },
  {
   "cell_type": "code",
   "execution_count": 9,
   "id": "alert-utilization",
   "metadata": {},
   "outputs": [
    {
     "data": {
      "text/plain": [
       "<AxesSubplot:xlabel='K'>"
      ]
     },
     "execution_count": 9,
     "metadata": {},
     "output_type": "execute_result"
    },
    {
     "data": {
      "image/png": "[encoded data removed]",
      "text/plain": [
       "<Figure size 432x360 with 1 Axes>"
      ]
     },
     "metadata": {
      "needs_background": "light"
     },
     "output_type": "display_data"
    }
   ],
   "source": [
    "sns.boxplot(data1['K'])"
   ]
  },
  {
   "cell_type": "code",
   "execution_count": 10,
   "id": "actual-cigarette",
   "metadata": {},
   "outputs": [],
   "source": [
    "idx_k = np.where(data1['K'] < 8000)"
   ]
  },
  {
   "cell_type": "code",
   "execution_count": 11,
   "id": "external-sugar",
   "metadata": {},
   "outputs": [
    {
     "data": {
      "text/plain": [
       "<AxesSubplot:xlabel='OC'>"
      ]
     },
     "execution_count": 11,
     "metadata": {},
     "output_type": "execute_result"
    },
    {
     "data": {
      "image/png": "[encoded data removed]",
      "text/plain": [
       "<Figure size 432x360 with 1 Axes>"
      ]
     },
     "metadata": {
      "needs_background": "light"
     },
     "output_type": "display_data"
    }
   ],
   "source": [
    "sns.boxplot(data1['OC'])"
   ]
  },
  {
   "cell_type": "code",
   "execution_count": 12,
   "id": "baking-hanging",
   "metadata": {},
   "outputs": [],
   "source": [
    "idx_o = np.where(data1['OC'] < 15)"
   ]
  },
  {
   "cell_type": "code",
   "execution_count": 13,
   "id": "molecular-jason",
   "metadata": {},
   "outputs": [
    {
     "data": {
      "text/plain": [
       "(array([    0,     1,     2, ..., 26043, 26044, 26045], dtype=int64),)"
      ]
     },
     "execution_count": 13,
     "metadata": {},
     "output_type": "execute_result"
    }
   ],
   "source": [
    "idx_p = np.where(data1['P'] <9000)\n",
    "idx_p "
   ]
  },
  {
   "cell_type": "code",
   "execution_count": 14,
   "id": "little-costs",
   "metadata": {},
   "outputs": [],
   "source": [
    "arr1 = np.intersect1d(idx_o[0], idx_k[0])\n",
    "arr2 = np.intersect1d(arr1, idx_n[0])\n",
    "fidx = np.intersect1d(arr2, idx_p[0])"
   ]
  },
  {
   "cell_type": "code",
   "execution_count": 15,
   "id": "durable-rolling",
   "metadata": {},
   "outputs": [
    {
     "data": {
      "text/html": [
       "<div>\n",
       "<style scoped>\n",
       "    .dataframe tbody tr th:only-of-type {\n",
       "        vertical-align: middle;\n",
       "    }\n",
       "\n",
       "    .dataframe tbody tr th {\n",
       "        vertical-align: top;\n",
       "    }\n",
       "\n",
       "    .dataframe thead th {\n",
       "        text-align: right;\n",
       "    }\n",
       "</style>\n",
       "<table border=\"1\" class=\"dataframe\">\n",
       "  <thead>\n",
       "    <tr style=\"text-align: right;\">\n",
       "      <th></th>\n",
       "      <th>lon</th>\n",
       "      <th>lat</th>\n",
       "      <th>OC</th>\n",
       "      <th>N</th>\n",
       "      <th>P</th>\n",
       "      <th>K</th>\n",
       "    </tr>\n",
       "  </thead>\n",
       "  <tbody>\n",
       "    <tr>\n",
       "      <th>0</th>\n",
       "      <td>73.401111</td>\n",
       "      <td>17.894722</td>\n",
       "      <td>1.08</td>\n",
       "      <td>756.0</td>\n",
       "      <td>9.43</td>\n",
       "      <td>834.37</td>\n",
       "    </tr>\n",
       "    <tr>\n",
       "      <th>1</th>\n",
       "      <td>73.401389</td>\n",
       "      <td>17.894722</td>\n",
       "      <td>1.12</td>\n",
       "      <td>781.2</td>\n",
       "      <td>9.21</td>\n",
       "      <td>265.10</td>\n",
       "    </tr>\n",
       "    <tr>\n",
       "      <th>2</th>\n",
       "      <td>73.402222</td>\n",
       "      <td>17.894722</td>\n",
       "      <td>0.68</td>\n",
       "      <td>478.8</td>\n",
       "      <td>8.99</td>\n",
       "      <td>318.96</td>\n",
       "    </tr>\n",
       "    <tr>\n",
       "      <th>3</th>\n",
       "      <td>73.403056</td>\n",
       "      <td>17.894722</td>\n",
       "      <td>1.76</td>\n",
       "      <td>1234.8</td>\n",
       "      <td>9.65</td>\n",
       "      <td>954.77</td>\n",
       "    </tr>\n",
       "    <tr>\n",
       "      <th>4</th>\n",
       "      <td>73.403333</td>\n",
       "      <td>17.894722</td>\n",
       "      <td>1.78</td>\n",
       "      <td>1247.4</td>\n",
       "      <td>8.77</td>\n",
       "      <td>371.77</td>\n",
       "    </tr>\n",
       "  </tbody>\n",
       "</table>\n",
       "</div>"
      ],
      "text/plain": [
       "         lon        lat    OC       N     P       K\n",
       "0  73.401111  17.894722  1.08   756.0  9.43  834.37\n",
       "1  73.401389  17.894722  1.12   781.2  9.21  265.10\n",
       "2  73.402222  17.894722  0.68   478.8  8.99  318.96\n",
       "3  73.403056  17.894722  1.76  1234.8  9.65  954.77\n",
       "4  73.403333  17.894722  1.78  1247.4  8.77  371.77"
      ]
     },
     "execution_count": 15,
     "metadata": {},
     "output_type": "execute_result"
    }
   ],
   "source": [
    "data = data1.iloc[fidx, :]\n",
    "data.head()"
   ]
  },
  {
   "cell_type": "code",
   "execution_count": 16,
   "id": "appropriate-safety",
   "metadata": {},
   "outputs": [
    {
     "data": {
      "text/html": [
       "<div>\n",
       "<style scoped>\n",
       "    .dataframe tbody tr th:only-of-type {\n",
       "        vertical-align: middle;\n",
       "    }\n",
       "\n",
       "    .dataframe tbody tr th {\n",
       "        vertical-align: top;\n",
       "    }\n",
       "\n",
       "    .dataframe thead th {\n",
       "        text-align: right;\n",
       "    }\n",
       "</style>\n",
       "<table border=\"1\" class=\"dataframe\">\n",
       "  <thead>\n",
       "    <tr style=\"text-align: right;\">\n",
       "      <th></th>\n",
       "      <th>lon</th>\n",
       "      <th>lat</th>\n",
       "      <th>OC</th>\n",
       "      <th>N</th>\n",
       "      <th>P</th>\n",
       "      <th>K</th>\n",
       "    </tr>\n",
       "  </thead>\n",
       "  <tbody>\n",
       "    <tr>\n",
       "      <th>0</th>\n",
       "      <td>73.401111</td>\n",
       "      <td>17.894722</td>\n",
       "      <td>1.08</td>\n",
       "      <td>756.0</td>\n",
       "      <td>9.43</td>\n",
       "      <td>834.37</td>\n",
       "    </tr>\n",
       "    <tr>\n",
       "      <th>1</th>\n",
       "      <td>73.401389</td>\n",
       "      <td>17.894722</td>\n",
       "      <td>1.12</td>\n",
       "      <td>781.2</td>\n",
       "      <td>9.21</td>\n",
       "      <td>265.10</td>\n",
       "    </tr>\n",
       "    <tr>\n",
       "      <th>2</th>\n",
       "      <td>73.402222</td>\n",
       "      <td>17.894722</td>\n",
       "      <td>0.68</td>\n",
       "      <td>478.8</td>\n",
       "      <td>8.99</td>\n",
       "      <td>318.96</td>\n",
       "    </tr>\n",
       "    <tr>\n",
       "      <th>3</th>\n",
       "      <td>73.403056</td>\n",
       "      <td>17.894722</td>\n",
       "      <td>1.76</td>\n",
       "      <td>1234.8</td>\n",
       "      <td>9.65</td>\n",
       "      <td>954.77</td>\n",
       "    </tr>\n",
       "    <tr>\n",
       "      <th>4</th>\n",
       "      <td>73.403333</td>\n",
       "      <td>17.894722</td>\n",
       "      <td>1.78</td>\n",
       "      <td>1247.4</td>\n",
       "      <td>8.77</td>\n",
       "      <td>371.77</td>\n",
       "    </tr>\n",
       "  </tbody>\n",
       "</table>\n",
       "</div>"
      ],
      "text/plain": [
       "         lon        lat    OC       N     P       K\n",
       "0  73.401111  17.894722  1.08   756.0  9.43  834.37\n",
       "1  73.401389  17.894722  1.12   781.2  9.21  265.10\n",
       "2  73.402222  17.894722  0.68   478.8  8.99  318.96\n",
       "3  73.403056  17.894722  1.76  1234.8  9.65  954.77\n",
       "4  73.403333  17.894722  1.78  1247.4  8.77  371.77"
      ]
     },
     "execution_count": 16,
     "metadata": {},
     "output_type": "execute_result"
    }
   ],
   "source": [
    "#drop duplicates rows\n",
    "data.drop_duplicates(subset=['lat', 'lon'], inplace = True)\n",
    "data = data.reset_index(drop = True)\n",
    "data.head()"
   ]
  },
  {
   "cell_type": "code",
   "execution_count": 17,
   "id": "incomplete-captain",
   "metadata": {},
   "outputs": [
    {
     "data": {
      "image/png": "[encoded data removed]",
      "text/plain": [
       "<Figure size 432x360 with 1 Axes>"
      ]
     },
     "metadata": {
      "needs_background": "light"
     },
     "output_type": "display_data"
    }
   ],
   "source": [
    "data['N'].hist(bins = 100)\n",
    "plt.show()"
   ]
  },
  {
   "cell_type": "code",
   "execution_count": 18,
   "id": "large-passage",
   "metadata": {},
   "outputs": [
    {
     "data": {
      "image/png": "[encoded data removed]",
      "text/plain": [
       "<Figure size 432x360 with 1 Axes>"
      ]
     },
     "metadata": {
      "needs_background": "light"
     },
     "output_type": "display_data"
    }
   ],
   "source": [
    "s =[n**0.5 for n in data['N'].values]\n",
    "plt.scatter(data['lon'], data['lat'], s,)\n",
    "plt.show()"
   ]
  },
  {
   "cell_type": "code",
   "execution_count": 19,
   "id": "round-optimum",
   "metadata": {},
   "outputs": [],
   "source": [
    "from haversine import haversine, Unit"
   ]
  },
  {
   "cell_type": "code",
   "execution_count": 20,
   "id": "addressed-windsor",
   "metadata": {},
   "outputs": [],
   "source": [
    "## Data points conversion\n",
    "def Haversine(df):\n",
    "  res = []\n",
    "  ref_points = (0.0, 0.0)\n",
    "  for i in range(df.shape[0]):\n",
    "    latlon = (df['lat'][i], df['lon'][i])\n",
    "    dist = haversine(ref_points, latlon)\n",
    "    res.append(dist)\n",
    "  return res"
   ]
  },
  {
   "cell_type": "code",
   "execution_count": 21,
   "id": "direct-essay",
   "metadata": {},
   "outputs": [
    {
     "data": {
      "text/html": [
       "<div>\n",
       "<style scoped>\n",
       "    .dataframe tbody tr th:only-of-type {\n",
       "        vertical-align: middle;\n",
       "    }\n",
       "\n",
       "    .dataframe tbody tr th {\n",
       "        vertical-align: top;\n",
       "    }\n",
       "\n",
       "    .dataframe thead th {\n",
       "        text-align: right;\n",
       "    }\n",
       "</style>\n",
       "<table border=\"1\" class=\"dataframe\">\n",
       "  <thead>\n",
       "    <tr style=\"text-align: right;\">\n",
       "      <th></th>\n",
       "      <th>lon</th>\n",
       "      <th>lat</th>\n",
       "      <th>OC</th>\n",
       "      <th>N</th>\n",
       "      <th>P</th>\n",
       "      <th>K</th>\n",
       "      <th>haversine</th>\n",
       "    </tr>\n",
       "  </thead>\n",
       "  <tbody>\n",
       "    <tr>\n",
       "      <th>0</th>\n",
       "      <td>73.401111</td>\n",
       "      <td>17.894722</td>\n",
       "      <td>1.08</td>\n",
       "      <td>756.0</td>\n",
       "      <td>9.43</td>\n",
       "      <td>834.37</td>\n",
       "      <td>8253.524481</td>\n",
       "    </tr>\n",
       "    <tr>\n",
       "      <th>1</th>\n",
       "      <td>73.401389</td>\n",
       "      <td>17.894722</td>\n",
       "      <td>1.12</td>\n",
       "      <td>781.2</td>\n",
       "      <td>9.21</td>\n",
       "      <td>265.10</td>\n",
       "      <td>8253.553752</td>\n",
       "    </tr>\n",
       "    <tr>\n",
       "      <th>2</th>\n",
       "      <td>73.402222</td>\n",
       "      <td>17.894722</td>\n",
       "      <td>0.68</td>\n",
       "      <td>478.8</td>\n",
       "      <td>8.99</td>\n",
       "      <td>318.96</td>\n",
       "      <td>8253.641564</td>\n",
       "    </tr>\n",
       "    <tr>\n",
       "      <th>3</th>\n",
       "      <td>73.403056</td>\n",
       "      <td>17.894722</td>\n",
       "      <td>1.76</td>\n",
       "      <td>1234.8</td>\n",
       "      <td>9.65</td>\n",
       "      <td>954.77</td>\n",
       "      <td>8253.729377</td>\n",
       "    </tr>\n",
       "    <tr>\n",
       "      <th>4</th>\n",
       "      <td>73.403333</td>\n",
       "      <td>17.894722</td>\n",
       "      <td>1.78</td>\n",
       "      <td>1247.4</td>\n",
       "      <td>8.77</td>\n",
       "      <td>371.77</td>\n",
       "      <td>8253.758647</td>\n",
       "    </tr>\n",
       "  </tbody>\n",
       "</table>\n",
       "</div>"
      ],
      "text/plain": [
       "         lon        lat    OC       N     P       K    haversine\n",
       "0  73.401111  17.894722  1.08   756.0  9.43  834.37  8253.524481\n",
       "1  73.401389  17.894722  1.12   781.2  9.21  265.10  8253.553752\n",
       "2  73.402222  17.894722  0.68   478.8  8.99  318.96  8253.641564\n",
       "3  73.403056  17.894722  1.76  1234.8  9.65  954.77  8253.729377\n",
       "4  73.403333  17.894722  1.78  1247.4  8.77  371.77  8253.758647"
      ]
     },
     "execution_count": 21,
     "metadata": {},
     "output_type": "execute_result"
    }
   ],
   "source": [
    "df = data.copy()\n",
    "res = Haversine(df)\n",
    "\n",
    "df['haversine'] = res\n",
    "df.head()"
   ]
  },
  {
   "cell_type": "code",
   "execution_count": 22,
   "id": "adverse-crisis",
   "metadata": {},
   "outputs": [],
   "source": [
    "def calculate_kneighbors(df, k):\n",
    "  res = []\n",
    "  ref = df['haversine'].values\n",
    "  ref = np.sort(ref)\n",
    "  # print(ref[0:2])\n",
    "  for el in df['haversine'].values:\n",
    "    index = np.where(ref==el)\n",
    "    if k+index[0][0] > len(df)-1:\n",
    "      temp = ref[index[0][0]-k:]\n",
    "\n",
    "    if index[0][0]-k < 0:\n",
    "      temp = ref[index[0][0]:index[0][0]+k+1]\n",
    "\n",
    "    else:\n",
    "      # print(index[0][0]-k)\n",
    "      temp = ref[index[0][0]-k:index[0][0]+k+1]\n",
    "\n",
    "    temp = np.abs(temp-el)\n",
    "    temp = np.sort(temp)\n",
    "    res.append(temp[k]+el)\n",
    "\n",
    "  return res\n",
    "\n",
    "  "
   ]
  },
  {
   "cell_type": "code",
   "execution_count": 23,
   "id": "voluntary-planning",
   "metadata": {},
   "outputs": [],
   "source": [
    "one_nbr = calculate_kneighbors(df, 1)\n",
    "two_nbr = calculate_kneighbors(df, 2)\n",
    "three_nbr = calculate_kneighbors(df, 3)\n",
    "four_nbr = calculate_kneighbors(df, 4)\n",
    "five_nbr = calculate_kneighbors(df, 5)"
   ]
  },
  {
   "cell_type": "code",
   "execution_count": 24,
   "id": "numerous-yukon",
   "metadata": {},
   "outputs": [],
   "source": [
    "df['NBR_1'] = one_nbr\n",
    "df['NBR_2'] = two_nbr\n",
    "df['NBR_3'] = three_nbr\n",
    "df['NBR_4'] = four_nbr\n",
    "df['NBR_5'] = five_nbr"
   ]
  },
  {
   "cell_type": "code",
   "execution_count": 25,
   "id": "conscious-mortality",
   "metadata": {},
   "outputs": [
    {
     "data": {
      "text/html": [
       "<div>\n",
       "<style scoped>\n",
       "    .dataframe tbody tr th:only-of-type {\n",
       "        vertical-align: middle;\n",
       "    }\n",
       "\n",
       "    .dataframe tbody tr th {\n",
       "        vertical-align: top;\n",
       "    }\n",
       "\n",
       "    .dataframe thead th {\n",
       "        text-align: right;\n",
       "    }\n",
       "</style>\n",
       "<table border=\"1\" class=\"dataframe\">\n",
       "  <thead>\n",
       "    <tr style=\"text-align: right;\">\n",
       "      <th></th>\n",
       "      <th>lon</th>\n",
       "      <th>lat</th>\n",
       "      <th>OC</th>\n",
       "      <th>N</th>\n",
       "      <th>P</th>\n",
       "      <th>K</th>\n",
       "      <th>haversine</th>\n",
       "      <th>NBR_1</th>\n",
       "      <th>NBR_2</th>\n",
       "      <th>NBR_3</th>\n",
       "      <th>NBR_4</th>\n",
       "      <th>NBR_5</th>\n",
       "    </tr>\n",
       "  </thead>\n",
       "  <tbody>\n",
       "    <tr>\n",
       "      <th>0</th>\n",
       "      <td>73.401111</td>\n",
       "      <td>17.894722</td>\n",
       "      <td>1.08</td>\n",
       "      <td>756.0</td>\n",
       "      <td>9.43</td>\n",
       "      <td>834.37</td>\n",
       "      <td>8253.524481</td>\n",
       "      <td>8253.553752</td>\n",
       "      <td>8253.641564</td>\n",
       "      <td>8253.729377</td>\n",
       "      <td>8253.758647</td>\n",
       "      <td>8253.817189</td>\n",
       "    </tr>\n",
       "    <tr>\n",
       "      <th>1</th>\n",
       "      <td>73.401389</td>\n",
       "      <td>17.894722</td>\n",
       "      <td>1.12</td>\n",
       "      <td>781.2</td>\n",
       "      <td>9.21</td>\n",
       "      <td>265.10</td>\n",
       "      <td>8253.553752</td>\n",
       "      <td>8253.583023</td>\n",
       "      <td>8253.729377</td>\n",
       "      <td>8253.758647</td>\n",
       "      <td>8253.817189</td>\n",
       "      <td>8253.846460</td>\n",
       "    </tr>\n",
       "    <tr>\n",
       "      <th>2</th>\n",
       "      <td>73.402222</td>\n",
       "      <td>17.894722</td>\n",
       "      <td>0.68</td>\n",
       "      <td>478.8</td>\n",
       "      <td>8.99</td>\n",
       "      <td>318.96</td>\n",
       "      <td>8253.641564</td>\n",
       "      <td>8253.729376</td>\n",
       "      <td>8253.729377</td>\n",
       "      <td>8253.817189</td>\n",
       "      <td>8253.846460</td>\n",
       "      <td>8253.875730</td>\n",
       "    </tr>\n",
       "    <tr>\n",
       "      <th>3</th>\n",
       "      <td>73.403056</td>\n",
       "      <td>17.894722</td>\n",
       "      <td>1.76</td>\n",
       "      <td>1234.8</td>\n",
       "      <td>9.65</td>\n",
       "      <td>954.77</td>\n",
       "      <td>8253.729377</td>\n",
       "      <td>8253.758647</td>\n",
       "      <td>8253.817189</td>\n",
       "      <td>8253.817190</td>\n",
       "      <td>8253.875730</td>\n",
       "      <td>8253.905001</td>\n",
       "    </tr>\n",
       "    <tr>\n",
       "      <th>4</th>\n",
       "      <td>73.403333</td>\n",
       "      <td>17.894722</td>\n",
       "      <td>1.78</td>\n",
       "      <td>1247.4</td>\n",
       "      <td>8.77</td>\n",
       "      <td>371.77</td>\n",
       "      <td>8253.758647</td>\n",
       "      <td>8253.787917</td>\n",
       "      <td>8253.817189</td>\n",
       "      <td>8253.846460</td>\n",
       "      <td>8253.875730</td>\n",
       "      <td>8253.992814</td>\n",
       "    </tr>\n",
       "  </tbody>\n",
       "</table>\n",
       "</div>"
      ],
      "text/plain": [
       "         lon        lat    OC       N     P       K    haversine        NBR_1  \\\n",
       "0  73.401111  17.894722  1.08   756.0  9.43  834.37  8253.524481  8253.553752   \n",
       "1  73.401389  17.894722  1.12   781.2  9.21  265.10  8253.553752  8253.583023   \n",
       "2  73.402222  17.894722  0.68   478.8  8.99  318.96  8253.641564  8253.729376   \n",
       "3  73.403056  17.894722  1.76  1234.8  9.65  954.77  8253.729377  8253.758647   \n",
       "4  73.403333  17.894722  1.78  1247.4  8.77  371.77  8253.758647  8253.787917   \n",
       "\n",
       "         NBR_2        NBR_3        NBR_4        NBR_5  \n",
       "0  8253.641564  8253.729377  8253.758647  8253.817189  \n",
       "1  8253.729377  8253.758647  8253.817189  8253.846460  \n",
       "2  8253.729377  8253.817189  8253.846460  8253.875730  \n",
       "3  8253.817189  8253.817190  8253.875730  8253.905001  \n",
       "4  8253.817189  8253.846460  8253.875730  8253.992814  "
      ]
     },
     "execution_count": 25,
     "metadata": {},
     "output_type": "execute_result"
    }
   ],
   "source": [
    "df.head()"
   ]
  },
  {
   "cell_type": "code",
   "execution_count": 26,
   "id": "comparable-mixture",
   "metadata": {},
   "outputs": [],
   "source": [
    "df = df.sample(frac = 1)"
   ]
  },
  {
   "cell_type": "code",
   "execution_count": 27,
   "id": "decimal-ending",
   "metadata": {},
   "outputs": [
    {
     "data": {
      "text/html": [
       "<div>\n",
       "<style scoped>\n",
       "    .dataframe tbody tr th:only-of-type {\n",
       "        vertical-align: middle;\n",
       "    }\n",
       "\n",
       "    .dataframe tbody tr th {\n",
       "        vertical-align: top;\n",
       "    }\n",
       "\n",
       "    .dataframe thead th {\n",
       "        text-align: right;\n",
       "    }\n",
       "</style>\n",
       "<table border=\"1\" class=\"dataframe\">\n",
       "  <thead>\n",
       "    <tr style=\"text-align: right;\">\n",
       "      <th></th>\n",
       "      <th>lat</th>\n",
       "      <th>lon</th>\n",
       "      <th>haversine</th>\n",
       "      <th>NBR_1</th>\n",
       "      <th>NBR_2</th>\n",
       "      <th>NBR_3</th>\n",
       "      <th>N</th>\n",
       "    </tr>\n",
       "  </thead>\n",
       "  <tbody>\n",
       "    <tr>\n",
       "      <th>18669</th>\n",
       "      <td>19.189167</td>\n",
       "      <td>73.796111</td>\n",
       "      <td>8308.396216</td>\n",
       "      <td>8308.414783</td>\n",
       "      <td>8308.436032</td>\n",
       "      <td>8308.440383</td>\n",
       "      <td>474.9</td>\n",
       "    </tr>\n",
       "    <tr>\n",
       "      <th>5282</th>\n",
       "      <td>18.291389</td>\n",
       "      <td>73.856944</td>\n",
       "      <td>8305.512466</td>\n",
       "      <td>8305.533984</td>\n",
       "      <td>8305.544466</td>\n",
       "      <td>8305.571792</td>\n",
       "      <td>235.0</td>\n",
       "    </tr>\n",
       "    <tr>\n",
       "      <th>4183</th>\n",
       "      <td>18.257222</td>\n",
       "      <td>75.191111</td>\n",
       "      <td>8445.526276</td>\n",
       "      <td>8445.535118</td>\n",
       "      <td>8445.549668</td>\n",
       "      <td>8445.554516</td>\n",
       "      <td>290.0</td>\n",
       "    </tr>\n",
       "    <tr>\n",
       "      <th>24128</th>\n",
       "      <td>19.824444</td>\n",
       "      <td>75.322778</td>\n",
       "      <td>8474.219363</td>\n",
       "      <td>8474.219417</td>\n",
       "      <td>8474.235825</td>\n",
       "      <td>8474.242963</td>\n",
       "      <td>357.0</td>\n",
       "    </tr>\n",
       "    <tr>\n",
       "      <th>8137</th>\n",
       "      <td>18.357500</td>\n",
       "      <td>74.636944</td>\n",
       "      <td>8388.174009</td>\n",
       "      <td>8388.174112</td>\n",
       "      <td>8388.175142</td>\n",
       "      <td>8388.177285</td>\n",
       "      <td>136.0</td>\n",
       "    </tr>\n",
       "  </tbody>\n",
       "</table>\n",
       "</div>"
      ],
      "text/plain": [
       "             lat        lon    haversine        NBR_1        NBR_2  \\\n",
       "18669  19.189167  73.796111  8308.396216  8308.414783  8308.436032   \n",
       "5282   18.291389  73.856944  8305.512466  8305.533984  8305.544466   \n",
       "4183   18.257222  75.191111  8445.526276  8445.535118  8445.549668   \n",
       "24128  19.824444  75.322778  8474.219363  8474.219417  8474.235825   \n",
       "8137   18.357500  74.636944  8388.174009  8388.174112  8388.175142   \n",
       "\n",
       "             NBR_3      N  \n",
       "18669  8308.440383  474.9  \n",
       "5282   8305.571792  235.0  \n",
       "4183   8445.554516  290.0  \n",
       "24128  8474.242963  357.0  \n",
       "8137   8388.177285  136.0  "
      ]
     },
     "execution_count": 27,
     "metadata": {},
     "output_type": "execute_result"
    }
   ],
   "source": [
    "# Drop both lat and lon  and rearrange the columns\n",
    "col = ['lat', 'lon','haversine', 'NBR_1', 'NBR_2', 'NBR_3', 'N']\n",
    "df = df[col]\n",
    "df.head()"
   ]
  },
  {
   "cell_type": "code",
   "execution_count": 28,
   "id": "passive-description",
   "metadata": {},
   "outputs": [],
   "source": [
    "#do some more preprocessing\n",
    "col = ['haversine', 'NBR_1', 'NBR_2', 'NBR_3']\n",
    "for c in col:\n",
    "  df[c] = (df[c] - int(df[c].min())) #convert distance into meters"
   ]
  },
  {
   "cell_type": "code",
   "execution_count": 29,
   "id": "retained-margin",
   "metadata": {},
   "outputs": [
    {
     "data": {
      "text/html": [
       "<div>\n",
       "<style scoped>\n",
       "    .dataframe tbody tr th:only-of-type {\n",
       "        vertical-align: middle;\n",
       "    }\n",
       "\n",
       "    .dataframe tbody tr th {\n",
       "        vertical-align: top;\n",
       "    }\n",
       "\n",
       "    .dataframe thead th {\n",
       "        text-align: right;\n",
       "    }\n",
       "</style>\n",
       "<table border=\"1\" class=\"dataframe\">\n",
       "  <thead>\n",
       "    <tr style=\"text-align: right;\">\n",
       "      <th></th>\n",
       "      <th>lat</th>\n",
       "      <th>lon</th>\n",
       "      <th>haversine</th>\n",
       "      <th>NBR_1</th>\n",
       "      <th>NBR_2</th>\n",
       "      <th>NBR_3</th>\n",
       "      <th>N</th>\n",
       "    </tr>\n",
       "  </thead>\n",
       "  <tbody>\n",
       "    <tr>\n",
       "      <th>0</th>\n",
       "      <td>18.190556</td>\n",
       "      <td>74.393889</td>\n",
       "      <td>108.000241</td>\n",
       "      <td>108.002474</td>\n",
       "      <td>108.004407</td>\n",
       "      <td>108.008567</td>\n",
       "      <td>197.21</td>\n",
       "    </tr>\n",
       "    <tr>\n",
       "      <th>1</th>\n",
       "      <td>18.971111</td>\n",
       "      <td>74.421389</td>\n",
       "      <td>118.574629</td>\n",
       "      <td>118.582956</td>\n",
       "      <td>118.591571</td>\n",
       "      <td>118.601383</td>\n",
       "      <td>147.39</td>\n",
       "    </tr>\n",
       "    <tr>\n",
       "      <th>2</th>\n",
       "      <td>18.269167</td>\n",
       "      <td>74.303056</td>\n",
       "      <td>99.206811</td>\n",
       "      <td>99.208322</td>\n",
       "      <td>99.214753</td>\n",
       "      <td>99.217400</td>\n",
       "      <td>70.18</td>\n",
       "    </tr>\n",
       "    <tr>\n",
       "      <th>3</th>\n",
       "      <td>18.206389</td>\n",
       "      <td>73.936667</td>\n",
       "      <td>60.046153</td>\n",
       "      <td>60.049562</td>\n",
       "      <td>60.051688</td>\n",
       "      <td>60.051688</td>\n",
       "      <td>190.00</td>\n",
       "    </tr>\n",
       "    <tr>\n",
       "      <th>4</th>\n",
       "      <td>18.122778</td>\n",
       "      <td>75.566667</td>\n",
       "      <td>230.854939</td>\n",
       "      <td>230.858035</td>\n",
       "      <td>230.875520</td>\n",
       "      <td>230.879430</td>\n",
       "      <td>672.00</td>\n",
       "    </tr>\n",
       "  </tbody>\n",
       "</table>\n",
       "</div>"
      ],
      "text/plain": [
       "         lat        lon   haversine       NBR_1       NBR_2       NBR_3  \\\n",
       "0  18.190556  74.393889  108.000241  108.002474  108.004407  108.008567   \n",
       "1  18.971111  74.421389  118.574629  118.582956  118.591571  118.601383   \n",
       "2  18.269167  74.303056   99.206811   99.208322   99.214753   99.217400   \n",
       "3  18.206389  73.936667   60.046153   60.049562   60.051688   60.051688   \n",
       "4  18.122778  75.566667  230.854939  230.858035  230.875520  230.879430   \n",
       "\n",
       "        N  \n",
       "0  197.21  \n",
       "1  147.39  \n",
       "2   70.18  \n",
       "3  190.00  \n",
       "4  672.00  "
      ]
     },
     "execution_count": 29,
     "metadata": {},
     "output_type": "execute_result"
    }
   ],
   "source": [
    "df = df.sample(frac = 1).reset_index(drop =True)\n",
    "df.head()\n"
   ]
  },
  {
   "cell_type": "code",
   "execution_count": null,
   "id": "premier-threat",
   "metadata": {},
   "outputs": [],
   "source": []
  },
  {
   "cell_type": "code",
   "execution_count": 30,
   "id": "prostate-girlfriend",
   "metadata": {},
   "outputs": [
    {
     "data": {
      "text/html": [
       "<div>\n",
       "<style scoped>\n",
       "    .dataframe tbody tr th:only-of-type {\n",
       "        vertical-align: middle;\n",
       "    }\n",
       "\n",
       "    .dataframe tbody tr th {\n",
       "        vertical-align: top;\n",
       "    }\n",
       "\n",
       "    .dataframe thead th {\n",
       "        text-align: right;\n",
       "    }\n",
       "</style>\n",
       "<table border=\"1\" class=\"dataframe\">\n",
       "  <thead>\n",
       "    <tr style=\"text-align: right;\">\n",
       "      <th></th>\n",
       "      <th>lat</th>\n",
       "      <th>lon</th>\n",
       "      <th>haversine</th>\n",
       "      <th>NBR_1</th>\n",
       "      <th>NBR_2</th>\n",
       "      <th>NBR_3</th>\n",
       "      <th>N</th>\n",
       "    </tr>\n",
       "  </thead>\n",
       "  <tbody>\n",
       "    <tr>\n",
       "      <th>0</th>\n",
       "      <td>18.190556</td>\n",
       "      <td>74.393889</td>\n",
       "      <td>108.000241</td>\n",
       "      <td>108.002474</td>\n",
       "      <td>108.004407</td>\n",
       "      <td>108.008567</td>\n",
       "      <td>0.090260</td>\n",
       "    </tr>\n",
       "    <tr>\n",
       "      <th>1</th>\n",
       "      <td>18.971111</td>\n",
       "      <td>74.421389</td>\n",
       "      <td>118.574629</td>\n",
       "      <td>118.582956</td>\n",
       "      <td>118.591571</td>\n",
       "      <td>118.601383</td>\n",
       "      <td>0.067454</td>\n",
       "    </tr>\n",
       "    <tr>\n",
       "      <th>2</th>\n",
       "      <td>18.269167</td>\n",
       "      <td>74.303056</td>\n",
       "      <td>99.206811</td>\n",
       "      <td>99.208322</td>\n",
       "      <td>99.214753</td>\n",
       "      <td>99.217400</td>\n",
       "      <td>0.032109</td>\n",
       "    </tr>\n",
       "    <tr>\n",
       "      <th>3</th>\n",
       "      <td>18.206389</td>\n",
       "      <td>73.936667</td>\n",
       "      <td>60.046153</td>\n",
       "      <td>60.049562</td>\n",
       "      <td>60.051688</td>\n",
       "      <td>60.051688</td>\n",
       "      <td>0.086960</td>\n",
       "    </tr>\n",
       "    <tr>\n",
       "      <th>4</th>\n",
       "      <td>18.122778</td>\n",
       "      <td>75.566667</td>\n",
       "      <td>230.854939</td>\n",
       "      <td>230.858035</td>\n",
       "      <td>230.875520</td>\n",
       "      <td>230.879430</td>\n",
       "      <td>0.307609</td>\n",
       "    </tr>\n",
       "  </tbody>\n",
       "</table>\n",
       "</div>"
      ],
      "text/plain": [
       "         lat        lon   haversine       NBR_1       NBR_2       NBR_3  \\\n",
       "0  18.190556  74.393889  108.000241  108.002474  108.004407  108.008567   \n",
       "1  18.971111  74.421389  118.574629  118.582956  118.591571  118.601383   \n",
       "2  18.269167  74.303056   99.206811   99.208322   99.214753   99.217400   \n",
       "3  18.206389  73.936667   60.046153   60.049562   60.051688   60.051688   \n",
       "4  18.122778  75.566667  230.854939  230.858035  230.875520  230.879430   \n",
       "\n",
       "          N  \n",
       "0  0.090260  \n",
       "1  0.067454  \n",
       "2  0.032109  \n",
       "3  0.086960  \n",
       "4  0.307609  "
      ]
     },
     "execution_count": 30,
     "metadata": {},
     "output_type": "execute_result"
    }
   ],
   "source": [
    "df['N'] = (df['N'] - df['N'].min())/(df['N'].max()-df['N'].min())\n",
    "df.head()"
   ]
  },
  {
   "cell_type": "code",
   "execution_count": 31,
   "id": "collected-evidence",
   "metadata": {},
   "outputs": [],
   "source": [
    "\n",
    "col = ['haversine', 'NBR_1', 'NBR_2', 'NBR_3']\n",
    "df[col] = (df[col] - df[col].min())/(df[col].max() - df[col].min())"
   ]
  },
  {
   "cell_type": "code",
   "execution_count": 32,
   "id": "athletic-analyst",
   "metadata": {},
   "outputs": [],
   "source": [
    "data = df.copy()"
   ]
  },
  {
   "cell_type": "code",
   "execution_count": 33,
   "id": "hollywood-lafayette",
   "metadata": {},
   "outputs": [],
   "source": [
    "norm_mean = data.mean()\n",
    "norm_std = data.std()"
   ]
  },
  {
   "cell_type": "code",
   "execution_count": 34,
   "id": "understood-migration",
   "metadata": {},
   "outputs": [],
   "source": [
    "#split dataset into train and test\n",
    "# split the dataset into train and test dataset\n",
    "ix = np.random.choice(data.shape[0],int(data.shape[0]*0.2),replace = False)\n",
    "data_train = data.iloc[[int(i) for i in range(data.shape[0]) if i not in ix]].reset_index(drop = True)\n",
    "data_test = data.iloc[ix].reset_index(drop = True)"
   ]
  },
  {
   "cell_type": "code",
   "execution_count": 35,
   "id": "vanilla-artwork",
   "metadata": {},
   "outputs": [
    {
     "data": {
      "text/plain": [
       "((20768, 7), (5192, 7))"
      ]
     },
     "execution_count": 35,
     "metadata": {},
     "output_type": "execute_result"
    }
   ],
   "source": [
    "data_train.shape, data_test.shape"
   ]
  },
  {
   "cell_type": "code",
   "execution_count": 36,
   "id": "altered-european",
   "metadata": {},
   "outputs": [
    {
     "data": {
      "text/html": [
       "<div>\n",
       "<style scoped>\n",
       "    .dataframe tbody tr th:only-of-type {\n",
       "        vertical-align: middle;\n",
       "    }\n",
       "\n",
       "    .dataframe tbody tr th {\n",
       "        vertical-align: top;\n",
       "    }\n",
       "\n",
       "    .dataframe thead th {\n",
       "        text-align: right;\n",
       "    }\n",
       "</style>\n",
       "<table border=\"1\" class=\"dataframe\">\n",
       "  <thead>\n",
       "    <tr style=\"text-align: right;\">\n",
       "      <th></th>\n",
       "      <th>lat</th>\n",
       "      <th>lon</th>\n",
       "      <th>haversine</th>\n",
       "      <th>NBR_1</th>\n",
       "      <th>NBR_2</th>\n",
       "      <th>NBR_3</th>\n",
       "      <th>N</th>\n",
       "    </tr>\n",
       "  </thead>\n",
       "  <tbody>\n",
       "    <tr>\n",
       "      <th>0</th>\n",
       "      <td>18.971111</td>\n",
       "      <td>74.421389</td>\n",
       "      <td>0.323698</td>\n",
       "      <td>0.321950</td>\n",
       "      <td>0.321354</td>\n",
       "      <td>0.320002</td>\n",
       "      <td>0.067454</td>\n",
       "    </tr>\n",
       "    <tr>\n",
       "      <th>1</th>\n",
       "      <td>18.269167</td>\n",
       "      <td>74.303056</td>\n",
       "      <td>0.270590</td>\n",
       "      <td>0.269102</td>\n",
       "      <td>0.268562</td>\n",
       "      <td>0.267378</td>\n",
       "      <td>0.032109</td>\n",
       "    </tr>\n",
       "    <tr>\n",
       "      <th>2</th>\n",
       "      <td>18.206389</td>\n",
       "      <td>73.936667</td>\n",
       "      <td>0.163210</td>\n",
       "      <td>0.162288</td>\n",
       "      <td>0.161862</td>\n",
       "      <td>0.161050</td>\n",
       "      <td>0.086960</td>\n",
       "    </tr>\n",
       "    <tr>\n",
       "      <th>3</th>\n",
       "      <td>18.122778</td>\n",
       "      <td>75.566667</td>\n",
       "      <td>0.631574</td>\n",
       "      <td>0.628205</td>\n",
       "      <td>0.627270</td>\n",
       "      <td>0.624818</td>\n",
       "      <td>0.307609</td>\n",
       "    </tr>\n",
       "    <tr>\n",
       "      <th>4</th>\n",
       "      <td>20.590000</td>\n",
       "      <td>73.996944</td>\n",
       "      <td>0.249510</td>\n",
       "      <td>0.248139</td>\n",
       "      <td>0.247629</td>\n",
       "      <td>0.246525</td>\n",
       "      <td>0.865184</td>\n",
       "    </tr>\n",
       "  </tbody>\n",
       "</table>\n",
       "</div>"
      ],
      "text/plain": [
       "         lat        lon  haversine     NBR_1     NBR_2     NBR_3         N\n",
       "0  18.971111  74.421389   0.323698  0.321950  0.321354  0.320002  0.067454\n",
       "1  18.269167  74.303056   0.270590  0.269102  0.268562  0.267378  0.032109\n",
       "2  18.206389  73.936667   0.163210  0.162288  0.161862  0.161050  0.086960\n",
       "3  18.122778  75.566667   0.631574  0.628205  0.627270  0.624818  0.307609\n",
       "4  20.590000  73.996944   0.249510  0.248139  0.247629  0.246525  0.865184"
      ]
     },
     "execution_count": 36,
     "metadata": {},
     "output_type": "execute_result"
    }
   ],
   "source": [
    "data_train.head()"
   ]
  },
  {
   "cell_type": "code",
   "execution_count": 37,
   "id": "indian-convertible",
   "metadata": {},
   "outputs": [
    {
     "data": {
      "text/html": [
       "<div>\n",
       "<style scoped>\n",
       "    .dataframe tbody tr th:only-of-type {\n",
       "        vertical-align: middle;\n",
       "    }\n",
       "\n",
       "    .dataframe tbody tr th {\n",
       "        vertical-align: top;\n",
       "    }\n",
       "\n",
       "    .dataframe thead th {\n",
       "        text-align: right;\n",
       "    }\n",
       "</style>\n",
       "<table border=\"1\" class=\"dataframe\">\n",
       "  <thead>\n",
       "    <tr style=\"text-align: right;\">\n",
       "      <th></th>\n",
       "      <th>lat</th>\n",
       "      <th>lon</th>\n",
       "      <th>haversine</th>\n",
       "      <th>NBR_1</th>\n",
       "      <th>NBR_2</th>\n",
       "      <th>NBR_3</th>\n",
       "      <th>N</th>\n",
       "    </tr>\n",
       "  </thead>\n",
       "  <tbody>\n",
       "    <tr>\n",
       "      <th>0</th>\n",
       "      <td>18.955000</td>\n",
       "      <td>74.746944</td>\n",
       "      <td>0.416760</td>\n",
       "      <td>0.414507</td>\n",
       "      <td>0.413782</td>\n",
       "      <td>0.412078</td>\n",
       "      <td>0.101883</td>\n",
       "    </tr>\n",
       "    <tr>\n",
       "      <th>1</th>\n",
       "      <td>18.798333</td>\n",
       "      <td>74.683056</td>\n",
       "      <td>0.394192</td>\n",
       "      <td>0.392059</td>\n",
       "      <td>0.391356</td>\n",
       "      <td>0.389742</td>\n",
       "      <td>0.041640</td>\n",
       "    </tr>\n",
       "    <tr>\n",
       "      <th>2</th>\n",
       "      <td>19.038611</td>\n",
       "      <td>74.655556</td>\n",
       "      <td>0.392778</td>\n",
       "      <td>0.390651</td>\n",
       "      <td>0.389954</td>\n",
       "      <td>0.388348</td>\n",
       "      <td>0.199528</td>\n",
       "    </tr>\n",
       "    <tr>\n",
       "      <th>3</th>\n",
       "      <td>18.489167</td>\n",
       "      <td>75.258611</td>\n",
       "      <td>0.551799</td>\n",
       "      <td>0.548843</td>\n",
       "      <td>0.547955</td>\n",
       "      <td>0.545786</td>\n",
       "      <td>0.124955</td>\n",
       "    </tr>\n",
       "    <tr>\n",
       "      <th>4</th>\n",
       "      <td>18.124444</td>\n",
       "      <td>75.610556</td>\n",
       "      <td>0.644292</td>\n",
       "      <td>0.640875</td>\n",
       "      <td>0.639880</td>\n",
       "      <td>0.637406</td>\n",
       "      <td>0.115800</td>\n",
       "    </tr>\n",
       "  </tbody>\n",
       "</table>\n",
       "</div>"
      ],
      "text/plain": [
       "         lat        lon  haversine     NBR_1     NBR_2     NBR_3         N\n",
       "0  18.955000  74.746944   0.416760  0.414507  0.413782  0.412078  0.101883\n",
       "1  18.798333  74.683056   0.394192  0.392059  0.391356  0.389742  0.041640\n",
       "2  19.038611  74.655556   0.392778  0.390651  0.389954  0.388348  0.199528\n",
       "3  18.489167  75.258611   0.551799  0.548843  0.547955  0.545786  0.124955\n",
       "4  18.124444  75.610556   0.644292  0.640875  0.639880  0.637406  0.115800"
      ]
     },
     "execution_count": 37,
     "metadata": {},
     "output_type": "execute_result"
    }
   ],
   "source": [
    "data_test.head()"
   ]
  },
  {
   "cell_type": "code",
   "execution_count": null,
   "id": "proof-barrel",
   "metadata": {},
   "outputs": [],
   "source": []
  },
  {
   "cell_type": "code",
   "execution_count": 38,
   "id": "awful-turning",
   "metadata": {},
   "outputs": [
    {
     "data": {
      "text/plain": [
       "(5192, 7)"
      ]
     },
     "execution_count": 38,
     "metadata": {},
     "output_type": "execute_result"
    }
   ],
   "source": [
    "data_test.shape"
   ]
  },
  {
   "cell_type": "code",
   "execution_count": 39,
   "id": "catholic-greensboro",
   "metadata": {},
   "outputs": [],
   "source": [
    "# data_train = (data_train-norm_mean)/norm_std\n",
    "# data_test = (data_test-norm_mean)/norm_std"
   ]
  },
  {
   "cell_type": "code",
   "execution_count": 40,
   "id": "cheap-simple",
   "metadata": {},
   "outputs": [
    {
     "data": {
      "text/html": [
       "<div>\n",
       "<style scoped>\n",
       "    .dataframe tbody tr th:only-of-type {\n",
       "        vertical-align: middle;\n",
       "    }\n",
       "\n",
       "    .dataframe tbody tr th {\n",
       "        vertical-align: top;\n",
       "    }\n",
       "\n",
       "    .dataframe thead th {\n",
       "        text-align: right;\n",
       "    }\n",
       "</style>\n",
       "<table border=\"1\" class=\"dataframe\">\n",
       "  <thead>\n",
       "    <tr style=\"text-align: right;\">\n",
       "      <th></th>\n",
       "      <th>lat</th>\n",
       "      <th>lon</th>\n",
       "      <th>haversine</th>\n",
       "      <th>NBR_1</th>\n",
       "      <th>NBR_2</th>\n",
       "      <th>NBR_3</th>\n",
       "      <th>N</th>\n",
       "    </tr>\n",
       "  </thead>\n",
       "  <tbody>\n",
       "    <tr>\n",
       "      <th>0</th>\n",
       "      <td>18.971111</td>\n",
       "      <td>74.421389</td>\n",
       "      <td>0.323698</td>\n",
       "      <td>0.321950</td>\n",
       "      <td>0.321354</td>\n",
       "      <td>0.320002</td>\n",
       "      <td>0.067454</td>\n",
       "    </tr>\n",
       "    <tr>\n",
       "      <th>1</th>\n",
       "      <td>18.269167</td>\n",
       "      <td>74.303056</td>\n",
       "      <td>0.270590</td>\n",
       "      <td>0.269102</td>\n",
       "      <td>0.268562</td>\n",
       "      <td>0.267378</td>\n",
       "      <td>0.032109</td>\n",
       "    </tr>\n",
       "    <tr>\n",
       "      <th>2</th>\n",
       "      <td>18.206389</td>\n",
       "      <td>73.936667</td>\n",
       "      <td>0.163210</td>\n",
       "      <td>0.162288</td>\n",
       "      <td>0.161862</td>\n",
       "      <td>0.161050</td>\n",
       "      <td>0.086960</td>\n",
       "    </tr>\n",
       "    <tr>\n",
       "      <th>3</th>\n",
       "      <td>18.122778</td>\n",
       "      <td>75.566667</td>\n",
       "      <td>0.631574</td>\n",
       "      <td>0.628205</td>\n",
       "      <td>0.627270</td>\n",
       "      <td>0.624818</td>\n",
       "      <td>0.307609</td>\n",
       "    </tr>\n",
       "    <tr>\n",
       "      <th>4</th>\n",
       "      <td>20.590000</td>\n",
       "      <td>73.996944</td>\n",
       "      <td>0.249510</td>\n",
       "      <td>0.248139</td>\n",
       "      <td>0.247629</td>\n",
       "      <td>0.246525</td>\n",
       "      <td>0.865184</td>\n",
       "    </tr>\n",
       "  </tbody>\n",
       "</table>\n",
       "</div>"
      ],
      "text/plain": [
       "         lat        lon  haversine     NBR_1     NBR_2     NBR_3         N\n",
       "0  18.971111  74.421389   0.323698  0.321950  0.321354  0.320002  0.067454\n",
       "1  18.269167  74.303056   0.270590  0.269102  0.268562  0.267378  0.032109\n",
       "2  18.206389  73.936667   0.163210  0.162288  0.161862  0.161050  0.086960\n",
       "3  18.122778  75.566667   0.631574  0.628205  0.627270  0.624818  0.307609\n",
       "4  20.590000  73.996944   0.249510  0.248139  0.247629  0.246525  0.865184"
      ]
     },
     "execution_count": 40,
     "metadata": {},
     "output_type": "execute_result"
    }
   ],
   "source": [
    "data_train.head()"
   ]
  },
  {
   "cell_type": "code",
   "execution_count": 41,
   "id": "waiting-attack",
   "metadata": {},
   "outputs": [
    {
     "data": {
      "text/html": [
       "<div>\n",
       "<style scoped>\n",
       "    .dataframe tbody tr th:only-of-type {\n",
       "        vertical-align: middle;\n",
       "    }\n",
       "\n",
       "    .dataframe tbody tr th {\n",
       "        vertical-align: top;\n",
       "    }\n",
       "\n",
       "    .dataframe thead th {\n",
       "        text-align: right;\n",
       "    }\n",
       "</style>\n",
       "<table border=\"1\" class=\"dataframe\">\n",
       "  <thead>\n",
       "    <tr style=\"text-align: right;\">\n",
       "      <th></th>\n",
       "      <th>lat</th>\n",
       "      <th>lon</th>\n",
       "      <th>haversine</th>\n",
       "      <th>NBR_1</th>\n",
       "      <th>NBR_2</th>\n",
       "      <th>NBR_3</th>\n",
       "      <th>N</th>\n",
       "    </tr>\n",
       "  </thead>\n",
       "  <tbody>\n",
       "    <tr>\n",
       "      <th>0</th>\n",
       "      <td>18.955000</td>\n",
       "      <td>74.746944</td>\n",
       "      <td>0.416760</td>\n",
       "      <td>0.414507</td>\n",
       "      <td>0.413782</td>\n",
       "      <td>0.412078</td>\n",
       "      <td>0.101883</td>\n",
       "    </tr>\n",
       "    <tr>\n",
       "      <th>1</th>\n",
       "      <td>18.798333</td>\n",
       "      <td>74.683056</td>\n",
       "      <td>0.394192</td>\n",
       "      <td>0.392059</td>\n",
       "      <td>0.391356</td>\n",
       "      <td>0.389742</td>\n",
       "      <td>0.041640</td>\n",
       "    </tr>\n",
       "    <tr>\n",
       "      <th>2</th>\n",
       "      <td>19.038611</td>\n",
       "      <td>74.655556</td>\n",
       "      <td>0.392778</td>\n",
       "      <td>0.390651</td>\n",
       "      <td>0.389954</td>\n",
       "      <td>0.388348</td>\n",
       "      <td>0.199528</td>\n",
       "    </tr>\n",
       "    <tr>\n",
       "      <th>3</th>\n",
       "      <td>18.489167</td>\n",
       "      <td>75.258611</td>\n",
       "      <td>0.551799</td>\n",
       "      <td>0.548843</td>\n",
       "      <td>0.547955</td>\n",
       "      <td>0.545786</td>\n",
       "      <td>0.124955</td>\n",
       "    </tr>\n",
       "    <tr>\n",
       "      <th>4</th>\n",
       "      <td>18.124444</td>\n",
       "      <td>75.610556</td>\n",
       "      <td>0.644292</td>\n",
       "      <td>0.640875</td>\n",
       "      <td>0.639880</td>\n",
       "      <td>0.637406</td>\n",
       "      <td>0.115800</td>\n",
       "    </tr>\n",
       "  </tbody>\n",
       "</table>\n",
       "</div>"
      ],
      "text/plain": [
       "         lat        lon  haversine     NBR_1     NBR_2     NBR_3         N\n",
       "0  18.955000  74.746944   0.416760  0.414507  0.413782  0.412078  0.101883\n",
       "1  18.798333  74.683056   0.394192  0.392059  0.391356  0.389742  0.041640\n",
       "2  19.038611  74.655556   0.392778  0.390651  0.389954  0.388348  0.199528\n",
       "3  18.489167  75.258611   0.551799  0.548843  0.547955  0.545786  0.124955\n",
       "4  18.124444  75.610556   0.644292  0.640875  0.639880  0.637406  0.115800"
      ]
     },
     "execution_count": 41,
     "metadata": {},
     "output_type": "execute_result"
    }
   ],
   "source": [
    "data_test.head()"
   ]
  },
  {
   "cell_type": "code",
   "execution_count": null,
   "id": "vietnamese-supplier",
   "metadata": {},
   "outputs": [],
   "source": []
  },
  {
   "cell_type": "markdown",
   "id": "paperback-sampling",
   "metadata": {},
   "source": [
    " ## NP Model"
   ]
  },
  {
   "cell_type": "code",
   "execution_count": 42,
   "id": "tutorial-process",
   "metadata": {},
   "outputs": [],
   "source": [
    "class baseNPBlock(nn.Module):\n",
    "    \"\"\"relu non-linearities for NP block\"\"\"\n",
    "    def __init__(self, inp_size,op_size, isnorm = True, bias = False, p = 0):\n",
    "        \"\"\"init function for linear2d class\n",
    "\n",
    "        parameters\n",
    "        ----------\n",
    "        inp_size : int\n",
    "                input dimension for the Encoder part (d_in)\n",
    "        op_size : int\n",
    "                output dimension for Encoder part(d_out)\n",
    "        norm : str\n",
    "                normalization to be applied on linear output\n",
    "                pass norm == 'batch' to apply batch normalization\n",
    "                else dropout normalization is applied\n",
    "        bias : bool\n",
    "                if True, bias is included for linear layer else discarded\n",
    "        p : float\n",
    "                probality to be considered while applying Dropout regularization\n",
    "                \n",
    "        \"\"\"\n",
    "        super().__init__()\n",
    "        self.linear = nn.Linear(inp_size,op_size,bias = bias)\n",
    "        self.relu  = nn.ReLU()\n",
    "        self.batch_norm = nn.BatchNorm2d(inp_size)\n",
    "        self.dropout = nn.Dropout2d(p)\n",
    "        self.isnorm = isnorm\n",
    "        \n",
    "    def forward(self,x):\n",
    "#         print(x.shape)\n",
    "        \n",
    "#         print(x.shape)\n",
    "        if self.isnorm:\n",
    "            x = self.batch_norm(x.permute(0,2,1)[:,:,:,None]) \n",
    "#             print(x.shape)\n",
    "            x = self.dropout(x)\n",
    "            x = x[:,:,:,0].permute(0,2,1)\n",
    "        x = self.linear(x)\n",
    "#         print(x)\n",
    "        x = self.relu(x)\n",
    "        return x"
   ]
  },
  {
   "cell_type": "code",
   "execution_count": 43,
   "id": "complicated-double",
   "metadata": {},
   "outputs": [],
   "source": [
    "class batch_MLP(nn.Module):\n",
    "    \"\"\" Batch MLP layer for NP-Encoder\"\"\"\n",
    "    def __init__(self, in_size, op_size, num_layers, isnorm = True, p = 0):\n",
    "        \"\"\"init function for linear2d class\n",
    "        \n",
    "        parameters\n",
    "        ----------\n",
    "        inp_size : int\n",
    "                input dimension for the Encoder part (d_in)\n",
    "        op_size : int\n",
    "                output dimension for Encoder part(d_out)\n",
    "        norm : str\n",
    "                normalization to be applied on linear output\n",
    "                pass norm == 'batch' to apply batch normalization\n",
    "                else dropout normalization is applied\n",
    "                \n",
    "        return torch.tensor of size (B,num_context_points,d_out)\n",
    "        \"\"\"\n",
    "        super().__init__()\n",
    "        self.in_size = in_size\n",
    "        self.op_size = op_size\n",
    "        self.num_layers = num_layers\n",
    "        self.isnorm  = isnorm\n",
    "        \n",
    "        self.first_layer = baseNPBlock(in_size, op_size, self.isnorm, False,p)\n",
    "        self.encoder = nn.Sequential(*[baseNPBlock(op_size, op_size, self.isnorm, False, p) for layer in range(self.num_layers-2)])\n",
    "        self.last_layer = nn.ReLU()\n",
    "        \n",
    "    def forward(self, x):\n",
    "        x = self.first_layer(x)\n",
    "        x = self.encoder(x)\n",
    "#         x = self.last_layer(x)\n",
    "        \n",
    "        return x"
   ]
  },
  {
   "cell_type": "code",
   "execution_count": 44,
   "id": "anticipated-heath",
   "metadata": {},
   "outputs": [],
   "source": [
    "class LinearAttention(nn.Module):\n",
    "    def __init__(self,in_ch, out_ch):\n",
    "        super().__init__()\n",
    "        self.linear = nn.Linear(in_ch, out_ch, bias = False)\n",
    "#         print(\"w shape =\", self.linear.weight.shape)\n",
    "        torch.nn.init.normal_(self.linear.weight,std = in_ch**0.5) #initilize weight matrix\n",
    "        \n",
    "    def forward(self,x):\n",
    "#         print(\"x dim =\", x.shape)\n",
    "        return self.linear(x)\n",
    "    \n",
    "    \n",
    "class AttentionModule(nn.Module):\n",
    "    def __init__(\n",
    "        self,\n",
    "        hidden_dim, \n",
    "        attn_type , \n",
    "        attn_layers,\n",
    "        x_dim, \n",
    "        rep='mlp',\n",
    "        n_multiheads = 8,\n",
    "        isnorm = True,\n",
    "        p = 0):\n",
    "        \n",
    "        super().__init__()\n",
    "        self.rep = rep\n",
    "\n",
    "        # rep determines whether raw input given to the model would be used as key and query or\n",
    "        # it's output through MLP. \n",
    "        if self.rep =='mlp':\n",
    "            \n",
    "            self.batch_mlpk = batch_MLP(x_dim, hidden_dim, attn_layers, isnorm ,p)\n",
    "            self.batch_mlpq = batch_MLP(x_dim, hidden_dim, attn_layers, isnorm, p)\n",
    "        \n",
    "        \n",
    "        if attn_type == 'uniform':\n",
    "            self.attn_func = self.uniform_attn\n",
    "        if attn_type=='laplace':\n",
    "            self.attn_func = self.laplace_attn\n",
    "        if attn_type == 'dot':\n",
    "            self.attn_func = self.dot_attn\n",
    "        elif attn_type == 'multihead':\n",
    "            self.w_k = nn.ModuleList([LinearAttention(hidden_dim,hidden_dim) for head in range(n_multiheads)])\n",
    "            self.w_v = nn.ModuleList([LinearAttention(hidden_dim,hidden_dim) for head in range(n_multiheads)])\n",
    "            self.w_q = nn.ModuleList([LinearAttention(hidden_dim,hidden_dim) for head in range(n_multiheads)])\n",
    "            \n",
    "            self.w = LinearAttention(hidden_dim*n_multiheads,hidden_dim)\n",
    "            self.attn_func = self.multihead_attn\n",
    "            self.num_heads = n_multiheads\n",
    "            \n",
    "            \n",
    "            \n",
    "    def forward(self, k, q, v):\n",
    "        \n",
    "        if self.rep =='mlp':\n",
    "#             print(\"in mlp\")\n",
    "            k = self.batch_mlpk(k) #(B, n, H)\n",
    "            q = self.batch_mlpq(q) #(B, m, H)\n",
    "#         print(k.shape, q.shape, v.shape)\n",
    "        rep = self.attn_func(k,q,v)\n",
    "        \n",
    "        return rep\n",
    "    \n",
    "    \n",
    "    def uniform_attn(self, k, q, v):\n",
    "        num_points = q.shape[1]\n",
    "        rep = torch.mean(v, axis = 1, keepdim = True)\n",
    "        rep = rep.repeat(1,num_points,1)\n",
    "        \n",
    "        return rep\n",
    "    \n",
    "    def laplace_attn(self, k, q, v, scale = 0.5):\n",
    "        k = k.unsqueeze(1)\n",
    "        v = v.unsqueeze(2)\n",
    "        \n",
    "        w = torch.abs((k-v)*scale)\n",
    "        w = w.sum(dim = -1)\n",
    "        weight = torch.softmax(w, dim = -1)\n",
    "        \n",
    "        #batch matrix multiplication (einstein summation convention for tensor)\n",
    "        rep = torch.einsum(\"bik, bkj -> bij\",weight, v)\n",
    "        \n",
    "        return rep\n",
    "    \n",
    "    \n",
    "    def dot_attn(self, k, q, v):\n",
    "#         print(\"k =\",k.shape)\n",
    "#         print(\"q =\",q.shape)\n",
    "#         print(\"v =\",v.shape)    \n",
    "        β = q.shape[-1]**0.5\n",
    "        w_unnorm = torch.einsum('bjk,bik->bij', k, q)/β\n",
    "#         print(\"w_unnorm =\",w_unnorm.shape)\n",
    "        \n",
    "        weight = torch.softmax(w_unnorm, dim = -1)\n",
    "        rep = torch.einsum(\"bik, bkj -> bij\",weight, v)\n",
    "#         print(\"rep =\",rep.shape)\n",
    "        return rep\n",
    "    \n",
    "    def multihead_attn(self, k , q, v):\n",
    "        outs = []\n",
    "        \n",
    "        for i in range(self.num_heads):\n",
    "#             print(\"k =\",k.shape)\n",
    "            k = self.w_k[i](k) #(B, n, H)\n",
    "#             print(\"k =\",k.shape)\n",
    "            q = self.w_q[i](q) #(B, m, H)\n",
    "#             print(\"q =\",q.shape)\n",
    "            v = self.w_v[i](v) #(B, n, H)\n",
    "#             print(\"v =\",v.shape)\n",
    "            out = self.dot_attn(k, q, v)\n",
    "            outs.append(out)\n",
    "            \n",
    "        outs = torch.stack(outs, dim = -1) #(B, m, H, n_heads)\n",
    "#         print(\"outs dim =\", outs.shape)\n",
    "        outs = outs.view(outs.shape[0], outs.shape[1], -1) #(B, m, n_heads*H)\n",
    "#         print(\"outs shape =\",outs.shape)\n",
    "        rep = self.w(outs) #(B, m, H)\n",
    "        \n",
    "        return rep\n",
    "    \n",
    "    "
   ]
  },
  {
   "cell_type": "code",
   "execution_count": 45,
   "id": "important-toyota",
   "metadata": {},
   "outputs": [],
   "source": [
    "# AttentionModule?"
   ]
  },
  {
   "cell_type": "code",
   "execution_count": 46,
   "id": "contained-possession",
   "metadata": {},
   "outputs": [],
   "source": [
    "class DeterministicEncoder(nn.Module):\n",
    "    def __init__(\n",
    "                self,\n",
    "                in_dim,\n",
    "                x_dim,\n",
    "                isnorm = True,\n",
    "                hidden_dim = 32,\n",
    "                encoder_layer = 2,\n",
    "                rep = 'mlp',\n",
    "                self_attn_type ='dot',\n",
    "                cross_attn_type ='dot',\n",
    "                n_multiheads = 8,\n",
    "                p_encoder = 0,\n",
    "                p_attention = 0,\n",
    "                attn_layers = 2,\n",
    "                use_self_attn = False\n",
    "                ):\n",
    "        super().__init__()\n",
    "        \n",
    "        self.use_self_attn = use_self_attn\n",
    "        \n",
    "        self.encoder = batch_MLP(in_dim, hidden_dim, encoder_layer,isnorm, p_encoder)\n",
    "        \n",
    "        if self.use_self_attn:\n",
    "            self.self_attn = AttentionModule(hidden_dim, self_attn_type, attn_layers,x_dim, rep = 'identitiy',isnorm = isnorm, p = p_attention, n_multiheads = n_multiheads)\n",
    "            \n",
    "        self.cross_attn = AttentionModule(hidden_dim, cross_attn_type, attn_layers, x_dim, rep ='mlp', isnorm = isnorm, p = p_attention, n_multiheads = n_multiheads)\n",
    "        \n",
    "    \n",
    "    def forward(self, context_x, context_y, target_x):\n",
    "        #concatenate context_x, context_y along the last dim.\n",
    "        det_enc_in = torch.cat([context_x, context_y], dim = -1)\n",
    "        \n",
    "        det_encoded = self.encoder(det_enc_in) #(B, n, hd)\n",
    "#         print(\"in det 1\",det_encoded.shape)\n",
    "        if self.use_self_attn:\n",
    "            det_encoded = self.self_attn(det_encoded, det_encoded, det_encoded) #(B, n, hd)\n",
    "#         print(\"in det 2\",det_encoded.shape)    \n",
    "        h = self.cross_attn(context_x, target_x, det_encoded) #(B, n, hd)\n",
    "        \n",
    "        return h\n",
    "        \n",
    "        \n",
    "    \n",
    "        \n",
    "        "
   ]
  },
  {
   "cell_type": "code",
   "execution_count": 47,
   "id": "unlikely-section",
   "metadata": {},
   "outputs": [],
   "source": [
    "class LatentEncoder(nn.Module):\n",
    "    def __init__(self,\n",
    "                in_dim,\n",
    "                 x_dim,\n",
    "                hidden_dim = 32,\n",
    "                latent_dim = 32,\n",
    "                self_attn_type = 'dot',\n",
    "                encoder_layer = 3,\n",
    "                 n_multiheads = 8,\n",
    "                min_std = 0.01,\n",
    "                isnorm = True,\n",
    "                p_encoder = 0,\n",
    "                p_attn = 0,\n",
    "                use_self_attn = False,\n",
    "                attn_layers = 2,\n",
    "                 rep ='mlp'\n",
    "                ):\n",
    "        \n",
    "        super().__init__()\n",
    "        \n",
    "        self._use_attn = use_self_attn\n",
    "        \n",
    "        self.encoder = batch_MLP(in_dim, hidden_dim, encoder_layer,isnorm, p_encoder)\n",
    "        \n",
    "        if self._use_attn:\n",
    "            self.self_attn = AttentionModule(hidden_dim, self_attn_type, attn_layers,x_dim, rep = rep,isnorm = isnorm, p = p_attn, n_multiheads = n_multiheads)\n",
    "        \n",
    "        self.secondlast_layer = nn.Linear(hidden_dim, hidden_dim)\n",
    "        self.mean = nn.Linear(hidden_dim, latent_dim)\n",
    "        self.l_sigma = nn.Linear(hidden_dim, latent_dim) \n",
    "        self.min_std = min_std\n",
    "#         self.use_lvar = use_lvar\n",
    "        self.use_attn = use_self_attn\n",
    "        \n",
    "        self.relu = torch.nn.ReLU()\n",
    "        \n",
    "    def forward(self,x,y):\n",
    "        encoder_inp = torch.cat([x,y], dim = -1) \n",
    "#         print(\"encoded_in = \\n\",encoder_inp,\"\\n\")\n",
    "        encoded_op = self.encoder(encoder_inp)#(B, n, hd)\n",
    "#         print(\"encoder_op shape = \",encoded_op.shape)\n",
    "#         print(\"encoded_op = \\n\",encoded_op,\"\\n\")\n",
    "        if self.use_attn:\n",
    "            encoded_op = self.self_attn(encoded_op, encoded_op, encoded_op) #(B, n, hd)\n",
    "            \n",
    "#         print(\"eo\",encoded_op)\n",
    "        mean_val = torch.mean(encoded_op, dim = 1) #mean aggregation (B, hd)\n",
    "    \n",
    "        #further MLP layer that maps parameters to gaussian latent\n",
    "        mean_repr = self.relu(self.secondlast_layer(mean_val)) #(B, hd)\n",
    "#         print(mean_repr)\n",
    "        μ = self.mean(mean_repr) # (B, ld)\n",
    "#         print(μ)\n",
    "#         print(\"mean = \", μ.shape)\n",
    "        log_scale = self.l_sigma(mean_repr) #(B, ld)\n",
    "        \n",
    "        #to avoid mode collapse\n",
    "        σ = self.min_std + (1-self.min_std)*torch.sigmoid(log_scale*0.5) #(B, ld)\n",
    "#         print(μ)\n",
    "#         print(μ.shape)\n",
    "        dist = torch.distributions.Normal(μ, σ)\n",
    "        \n",
    "        return dist\n",
    "        \n",
    "        \n",
    "            "
   ]
  },
  {
   "cell_type": "code",
   "execution_count": 48,
   "id": "fluid-probe",
   "metadata": {},
   "outputs": [],
   "source": [
    "class Decoder(nn.Module):\n",
    "    def __init__(self,\n",
    "                 x_dim,\n",
    "                 y_dim,\n",
    "                 hidden_dim = 32,\n",
    "                 latent_dim = 32,\n",
    "                 n_decoder_layer = 3,\n",
    "                 use_deterministic_path = True,\n",
    "                 min_std = 0.01,\n",
    "                 isnorm = True,\n",
    "                 dropout_p = 0,\n",
    "                ):\n",
    "        super().__init__()\n",
    "        \n",
    "        self.isnorm = isnorm\n",
    "        self.target_transform = nn.Linear(x_dim, hidden_dim)\n",
    "        \n",
    "        if use_deterministic_path:\n",
    "            hidden_dim_2 = 2 * hidden_dim + latent_dim\n",
    "        else:\n",
    "            hidden_dim_2 = hidden_dim + latent_dim\n",
    "            \n",
    "        self.decoder = batch_MLP(hidden_dim_2, hidden_dim_2, n_decoder_layer, isnorm, dropout_p)\n",
    "        \n",
    "        self.mean = nn.Linear(hidden_dim_2, y_dim)\n",
    "        self.std = nn.Linear(hidden_dim_2, y_dim)\n",
    "        self.deterministic_path = use_deterministic_path\n",
    "        self.min_std = min_std\n",
    "        \n",
    "        \n",
    "    def forward(self, r, z, t_x):\n",
    "        x = self.target_transform(t_x)\n",
    "        \n",
    "        if self.deterministic_path:\n",
    "            z = torch.cat([r,z], dim = -1)\n",
    "#             print(\"z.shape =\", z.shape)\n",
    "        r = torch.cat([z,x], dim = -1)\n",
    "        \n",
    "        r = self.decoder(r)\n",
    "        \n",
    "        mean = self.mean(r)\n",
    "        log_sigma = self.std(r)\n",
    "        \n",
    "        #clamp sigmad\n",
    "        sigma = self.min_std + (1 - self.min_std) * F.softplus(log_sigma)\n",
    "        \n",
    "        dist = torch.distributions.Normal(mean,sigma)\n",
    "        \n",
    "        return dist"
   ]
  },
  {
   "cell_type": "code",
   "execution_count": 49,
   "id": "artificial-sucking",
   "metadata": {},
   "outputs": [],
   "source": [
    "class LatentModel(nn.Module):\n",
    "    def __init__(self,\n",
    "               x_dim,\n",
    "               y_dim,\n",
    "               hidden_dim = 32,\n",
    "               latent_dim = 32,\n",
    "               latent_self_attn_type = 'dot',\n",
    "               det_self_attn_type = 'dot',\n",
    "               det_cross_attn_type = 'multihead',\n",
    "               n_multiheads = 8,\n",
    "               n_lat_enc_layer = 2,\n",
    "               n_det_enc_layer = 2,\n",
    "               n_decoder_layer = 2,\n",
    "               rep ='mlp',\n",
    "               use_deterministic_enc = False,\n",
    "               min_std = 0.01,\n",
    "               p_drop = 0,\n",
    "               isnorm = True,\n",
    "               p_attn_drop = 0,\n",
    "               attn_layers = 2,\n",
    "               use_self_attn = False,\n",
    "               context_in_target = True\n",
    "                ):\n",
    "        \n",
    "        super().__init__()\n",
    "        self.laten_encoder = LatentEncoder(x_dim+y_dim,\n",
    "                                           x_dim,\n",
    "                                           hidden_dim=hidden_dim,\n",
    "                                           latent_dim=latent_dim,\n",
    "                                           self_attn_type=latent_self_attn_type,\n",
    "                                           encoder_layer=n_lat_enc_layer,\n",
    "                                           n_multiheads = n_multiheads,\n",
    "                                           min_std=min_std,\n",
    "                                           isnorm = isnorm,\n",
    "                                           p_encoder=p_drop,\n",
    "                                           p_attn=p_attn_drop,\n",
    "                                           rep = 'identity',\n",
    "                                           use_self_attn=use_self_attn,\n",
    "                                           attn_layers=attn_layers \n",
    "                                          )\n",
    "        self.deterministic_encoder = DeterministicEncoder(x_dim+y_dim,\n",
    "                                                          x_dim,\n",
    "                                                          isnorm = isnorm,\n",
    "                                                          hidden_dim=hidden_dim,\n",
    "                                                          encoder_layer=n_det_enc_layer,\n",
    "                                                          rep=rep,\n",
    "                                                          self_attn_type=det_self_attn_type,\n",
    "                                                          cross_attn_type=det_cross_attn_type,\n",
    "                                                          p_encoder=p_drop,\n",
    "                                                          p_attention=p_attn_drop,\n",
    "                                                          attn_layers=attn_layers,\n",
    "                                                          use_self_attn=use_self_attn,\n",
    "                                                          n_multiheads = n_multiheads\n",
    "                                                         )\n",
    "        self.decoder = Decoder(x_dim,\n",
    "                              y_dim,\n",
    "                              hidden_dim  = hidden_dim,\n",
    "                              latent_dim=latent_dim,\n",
    "                              n_decoder_layer=n_decoder_layer,\n",
    "                              use_deterministic_path=use_deterministic_enc,\n",
    "                              min_std=min_std,\n",
    "                              isnorm=isnorm,\n",
    "                              dropout_p=p_drop\n",
    "                              )\n",
    "        self.use_deterministic_enc = use_deterministic_enc\n",
    "        self.context_in_target = context_in_target\n",
    "        \n",
    "        \n",
    "    def forward(self, c_x, c_y, t_x, t_y = None, training = False):\n",
    "        dist_prior = self.laten_encoder(c_x, c_y)\n",
    "\n",
    "        if t_y is not None:\n",
    "            dist_posterior = self.laten_encoder(t_x, t_y)\n",
    "            z = dist_posterior.loc\n",
    "        else:\n",
    "            z = dist_prior.loc\n",
    "            \n",
    "        n_target = t_x.shape[1]\n",
    "        z = z.unsqueeze(1).repeat(1, n_target,1) #(B, n_target, L)\n",
    "        \n",
    "        \n",
    "        \n",
    "        if self.use_deterministic_enc:\n",
    "            r = self.deterministic_encoder(c_x, c_y, t_x) #(B, n_target=m, H)\n",
    "#             print(r.shape)\n",
    "        else:\n",
    "            r = None\n",
    "            \n",
    "        dist = self.decoder(r, z, t_x)\n",
    "        \n",
    "        #at test time, target y is not Known so we return None\n",
    "        if t_y is not None:\n",
    "            log_p = dist.log_prob(t_y).mean(-1)\n",
    "            kl_loss = torch.distributions.kl_divergence(dist_posterior, dist_prior).mean(-1)\n",
    "            kl_loss = kl_loss[:,None].expand(log_p.shape)\n",
    "            loss = (kl_loss-log_p).mean()\n",
    "            mse_loss = F.mse_loss(dist.loc, t_y, reduction = 'none')[:,:c_x.size(1)].mean()\n",
    "        else:\n",
    "            kl_loss = None\n",
    "            log_p = None\n",
    "            mse_loss = None\n",
    "            loss = None\n",
    "            \n",
    "        y_pred = dist.rsample() if self.training else dist.loc\n",
    "            \n",
    "        return y_pred,  dict(loss = loss, loss_p = log_p, loss_kl = kl_loss, loss_mse = mse_loss), dist\n",
    "\n"
   ]
  },
  {
   "cell_type": "markdown",
   "id": "brilliant-westminster",
   "metadata": {},
   "source": [
    "## Data loading in torch.Dataloader"
   ]
  },
  {
   "cell_type": "code",
   "execution_count": null,
   "id": "residential-lingerie",
   "metadata": {},
   "outputs": [],
   "source": []
  },
  {
   "cell_type": "code",
   "execution_count": 50,
   "id": "injured-portrait",
   "metadata": {},
   "outputs": [],
   "source": [
    "class NutrientsDataset(Dataset):\n",
    "    def __init__(self, df, num_context=40, num_extra_target=10):\n",
    "        self.df = df\n",
    "        self.num_context = num_context\n",
    "        self.num_extra_target = num_extra_target\n",
    "\n",
    "    def get_rows(self, i):\n",
    "        rows = self.df.iloc[i : i + (self.num_context + self.num_extra_target)].copy()\n",
    "        x = rows.iloc[:,:6].copy()\n",
    "        y = rows.iloc[:,6:].copy()\n",
    "        return x, y\n",
    "\n",
    "\n",
    "    def __getitem__(self, i):\n",
    "        x, y = self.get_rows(i)\n",
    "        return x.values, y.values\n",
    "        \n",
    "    def __len__(self):\n",
    "        return len(self.df) - (self.num_context + self.num_extra_target)"
   ]
  },
  {
   "cell_type": "code",
   "execution_count": 51,
   "id": "expensive-jackson",
   "metadata": {},
   "outputs": [],
   "source": [
    "def npsample_batch(x, y, size=None, sort=False):\n",
    "    \n",
    "    \"\"\"Sample from numpy arrays along 2nd dim.\"\"\"\n",
    "    inds = np.random.choice(range(x.shape[1]), size=size, replace=False)\n",
    "    return x[:, inds], y[:, inds]\n",
    "\n",
    "def collate_fns(max_num_context, max_num_extra_target, sample, sort=True, context_in_target=True):\n",
    "    def collate_fn(batch, sample=sample):\n",
    "        x = np.stack([x for x, y in batch], 0)\n",
    "        y = np.stack([y for x, y in batch], 0)\n",
    "\n",
    "        # Sample a subset of random size\n",
    "        num_context = np.random.randint(4, max_num_context)\n",
    "        num_extra_target = np.random.randint(4, max_num_extra_target)\n",
    "\n",
    "        x = torch.from_numpy(x).float()\n",
    "        y = torch.from_numpy(y).float()\n",
    "\n",
    "        \n",
    "        x_context = x[:, :max_num_context]\n",
    "        y_context = y[:, :max_num_context]\n",
    "    \n",
    "        x_target_extra = x[:, max_num_context:]\n",
    "        y_target_extra = y[:, max_num_context:]\n",
    "        \n",
    "        if sample:\n",
    "\n",
    "            x_context, y_context = npsample_batch(\n",
    "                x_context, y_context, size=num_context\n",
    "            )\n",
    "\n",
    "            x_target_extra, y_target_extra = npsample_batch(\n",
    "                x_target_extra, y_target_extra, size=num_extra_target, sort=sort\n",
    "            )\n",
    "\n",
    "        # do we want to compute loss over context+target_extra, or focus in on only target_extra?\n",
    "        if context_in_target:\n",
    "            x_target = torch.cat([x_context, x_target_extra], 1)\n",
    "            y_target = torch.cat([y_context, y_target_extra], 1)\n",
    "        else:\n",
    "            x_target = x_target_extra\n",
    "            y_target = y_target_extra\n",
    "\n",
    "        \n",
    "        return x_context, y_context, x_target, y_target\n",
    "\n",
    "    return collate_fn"
   ]
  },
  {
   "cell_type": "code",
   "execution_count": 52,
   "id": "large-giant",
   "metadata": {},
   "outputs": [],
   "source": [
    "# data_train.shape"
   ]
  },
  {
   "cell_type": "code",
   "execution_count": 53,
   "id": "stock-train",
   "metadata": {},
   "outputs": [],
   "source": [
    "\n",
    "df_train = data_train.copy()\n",
    "df_test = data_test.copy()\n",
    "# df_train= (df_train - norm_mean)/norm_std\n",
    "# df_test = (df_test - norm_mean)/norm_std\n",
    "\n",
    "hparams = dict(num_context = 32,\n",
    "               num_extra_target = 16,\n",
    "               batch_size = 8,\n",
    "               context_in_target = False)\n",
    "train_df = NutrientsDataset(df_train,hparams['num_context'],hparams['num_extra_target'])\n",
    "\n",
    "train_loader = DataLoader(train_df,\n",
    "                          batch_size=hparams['batch_size'],\n",
    "                         shuffle = True,\n",
    "                         collate_fn=collate_fns(\n",
    "                             hparams['num_context'],hparams['num_extra_target'], True, hparams['context_in_target']))"
   ]
  },
  {
   "cell_type": "code",
   "execution_count": 54,
   "id": "perfect-franklin",
   "metadata": {
    "scrolled": true
   },
   "outputs": [],
   "source": [
    "#eval loss\n",
    "def validation(data_train, data_test, do_eval=True):\n",
    "    \"\"\"Run model on test/val data\"\"\"\n",
    "    if do_eval:\n",
    "        Regressor.eval()\n",
    "    with torch.no_grad():\n",
    "        target_x, target_y = data_test.iloc[:,:6], data_test.iloc[:,6:]\n",
    "        context_x, context_y = data_train.iloc[:,:6], data_train.iloc[:,6:]\n",
    "#         print(context_x.shape, context_y.shape)\n",
    "\n",
    "        context_x = torch.from_numpy(context_x.values).float()[None, :].to(device)\n",
    "        context_y = torch.from_numpy(context_y.values).float()[None, :].to(device)\n",
    "        target_x = torch.from_numpy(target_x.values).float()[None, :].to(device)\n",
    "        target_y = torch.from_numpy(target_y.values).float()[None, :].to(device)\n",
    "#         print(context_x.shape, context_y.shape, target_x.shape, target_y.shape)\n",
    "        y_pred, losses, extra = Regressor.forward(context_x, context_y, target_x, target_y, training = False)\n",
    "#         print(y_pred.shape)\n",
    "    yr=(target_y-y_pred)[0].detach().cpu().numpy()\n",
    "    r2 = r2_score(target_y.detach().cpu().numpy().flatten(), y_pred.detach().cpu().numpy().flatten())\n",
    "#     print(yr)\n",
    "    return yr, y_pred, r2, losses, extra "
   ]
  },
  {
   "cell_type": "code",
   "execution_count": 60,
   "id": "lesbian-proceeding",
   "metadata": {},
   "outputs": [],
   "source": [
    "class EarlyStopping:\n",
    "    \"\"\"Early stops the training if validation loss doesn't improve after a given patience.\"\"\"\n",
    "    def __init__(self, patience=7, verbose=False, delta=0):\n",
    "        \"\"\"\n",
    "        Args:\n",
    "            patience (int): How long to wait after last time validation loss improved.\n",
    "                            Default: 7\n",
    "            verbose (bool): If True, prints a message for each validation loss improvement. \n",
    "                            Default: False\n",
    "            delta (float): Minimum change in the monitored quantity to qualify as an improvement.\n",
    "                            Default: 0\n",
    "        \"\"\"\n",
    "        self.patience = patience\n",
    "        self.verbose = verbose\n",
    "        self.counter = 0\n",
    "        self.best_score = None\n",
    "        self.early_stop = False\n",
    "        self.val_loss_min = np.Inf\n",
    "        self.delta = delta\n",
    "\n",
    "    def __call__(self, val_loss, model):\n",
    "\n",
    "        score = -val_loss\n",
    "\n",
    "        if self.best_score is None:\n",
    "            self.best_score = score\n",
    "            self.save_checkpoint(val_loss, model)\n",
    "        elif score < self.best_score + self.delta:\n",
    "            self.counter += 1\n",
    "            print(f'EarlyStopping counter: {self.counter} out of {self.patience}')\n",
    "            if self.counter >= self.patience:\n",
    "                self.early_stop = True\n",
    "        else:\n",
    "            self.best_score = score\n",
    "            self.save_checkpoint(val_loss, model)\n",
    "            self.counter = 0\n",
    "\n",
    "    def save_checkpoint(self, val_loss, model):\n",
    "        '''Saves model when validation loss decrease.'''\n",
    "        if self.verbose:\n",
    "            print(f'Validation loss decreased ({self.val_loss_min:.6f} --> {val_loss:.6f}).  Saving model ...')\n",
    "        torch.save(model.state_dict(), 'checkpoint2.pt')\n",
    "        self.val_loss_min = val_loss"
   ]
  },
  {
   "cell_type": "markdown",
   "id": "thousand-philadelphia",
   "metadata": {},
   "source": [
    "## Model Training"
   ]
  },
  {
   "cell_type": "code",
   "execution_count": 61,
   "id": "digital-orchestra",
   "metadata": {},
   "outputs": [],
   "source": [
    "device = torch.device(\"cpu\")\n",
    "torch.cuda.empty_cache()\n",
    "    "
   ]
  },
  {
   "cell_type": "code",
   "execution_count": 62,
   "id": "motivated-browser",
   "metadata": {},
   "outputs": [],
   "source": [
    "Regressor = LatentModel(6,len(data.columns)-6,\n",
    "                       p_drop = 0.5,\n",
    "                        p_attn_drop=0.5,\n",
    "                        hidden_dim = 32,\n",
    "                        latent_dim = 16,\n",
    "                       n_decoder_layer = 2,\n",
    "                        n_lat_enc_layer=3,\n",
    "                        n_det_enc_layer=3,\n",
    "                        n_multiheads = 2,\n",
    "                        isnorm = True,\n",
    "                        use_self_attn=True,\n",
    "                        use_deterministic_enc=True,\n",
    "                        context_in_target= True\n",
    "                       )"
   ]
  },
  {
   "cell_type": "code",
   "execution_count": null,
   "id": "electronic-petersburg",
   "metadata": {
    "scrolled": false
   },
   "outputs": [],
   "source": []
  },
  {
   "cell_type": "code",
   "execution_count": 63,
   "id": "dangerous-rotation",
   "metadata": {
    "scrolled": true
   },
   "outputs": [],
   "source": [
    "opt = torch.optim.Adam(Regressor.parameters(), lr = 1e-3, weight_decay = 1e-6)\n",
    "early_stopping = EarlyStopping(patience=20, verbose=True)\n",
    "lr_scheduler = torch.optim.lr_scheduler.StepLR(opt,\n",
    "                                               step_size=2,\n",
    "                                               gamma=0.9)\n",
    "Regressor = Regressor.to(device)"
   ]
  },
  {
   "cell_type": "code",
   "execution_count": null,
   "id": "opening-biodiversity",
   "metadata": {},
   "outputs": [],
   "source": []
  },
  {
   "cell_type": "code",
   "execution_count": 64,
   "id": "iraqi-married",
   "metadata": {
    "scrolled": true
   },
   "outputs": [
    {
     "data": {
      "application/vnd.jupyter.widget-view+json": {
       "model_id": "02a181d9474c44889c156d984a20dbc8",
       "version_major": 2,
       "version_minor": 0
      },
      "text/plain": [
       "  0%|          | 0/2590 [00:00<?, ?it/s]"
      ]
     },
     "metadata": {},
     "output_type": "display_data"
    },
    {
     "name": "stdout",
     "output_type": "stream",
     "text": [
      "0\n",
      "ELBO train_loss -0.833367006452916\n",
      "RMSE train_loss 0.10445231339603805\n",
      "ELBO val_loss -0.8629533\n",
      "RMSE val_loss 0.09033032\n",
      "MAE val_loss 0.05958104\n",
      "R2 score 0.1438418112290144\n",
      "-----------------------------------------------------------------------\n",
      "Validation loss decreased (inf --> 0.059581).  Saving model ...\n"
     ]
    },
    {
     "data": {
      "application/vnd.jupyter.widget-view+json": {
       "model_id": "5c6e6b146830499e8c4031e1f9d7b438",
       "version_major": 2,
       "version_minor": 0
      },
      "text/plain": [
       "  0%|          | 0/2590 [00:00<?, ?it/s]"
      ]
     },
     "metadata": {},
     "output_type": "display_data"
    },
    {
     "name": "stdout",
     "output_type": "stream",
     "text": [
      "1\n",
      "ELBO train_loss -1.105467923675955\n",
      "RMSE train_loss 0.09268204267195804\n",
      "ELBO val_loss -1.0477251\n",
      "RMSE val_loss 0.08861373\n",
      "MAE val_loss 0.055987682\n",
      "R2 score 0.17607257310644253\n",
      "-----------------------------------------------------------------------\n",
      "Validation loss decreased (0.059581 --> 0.055988).  Saving model ...\n"
     ]
    },
    {
     "data": {
      "application/vnd.jupyter.widget-view+json": {
       "model_id": "971a58de5b434204813e503a8c2e8675",
       "version_major": 2,
       "version_minor": 0
      },
      "text/plain": [
       "  0%|          | 0/2590 [00:00<?, ?it/s]"
      ]
     },
     "metadata": {},
     "output_type": "display_data"
    },
    {
     "name": "stdout",
     "output_type": "stream",
     "text": [
      "2\n",
      "ELBO train_loss -1.181212703708171\n",
      "RMSE train_loss 0.09106746308174443\n",
      "ELBO val_loss -1.0486388\n",
      "RMSE val_loss 0.09505227\n",
      "MAE val_loss 0.057764895\n",
      "R2 score 0.0519921912515674\n",
      "-----------------------------------------------------------------------\n",
      "EarlyStopping counter: 1 out of 20\n"
     ]
    },
    {
     "data": {
      "application/vnd.jupyter.widget-view+json": {
       "model_id": "e59f1548bc3b4ef6a6170c10d6093780",
       "version_major": 2,
       "version_minor": 0
      },
      "text/plain": [
       "  0%|          | 0/2590 [00:00<?, ?it/s]"
      ]
     },
     "metadata": {},
     "output_type": "display_data"
    },
    {
     "name": "stdout",
     "output_type": "stream",
     "text": [
      "3\n",
      "ELBO train_loss -1.211831251598722\n",
      "RMSE train_loss 0.08974094124198309\n",
      "ELBO val_loss -1.1759415\n",
      "RMSE val_loss 0.0894633\n",
      "MAE val_loss 0.060026456\n",
      "R2 score 0.16019848541973392\n",
      "-----------------------------------------------------------------------\n",
      "EarlyStopping counter: 2 out of 20\n"
     ]
    },
    {
     "data": {
      "application/vnd.jupyter.widget-view+json": {
       "model_id": "1c24f434f2cb499d8596d91a47cd8269",
       "version_major": 2,
       "version_minor": 0
      },
      "text/plain": [
       "  0%|          | 0/2590 [00:00<?, ?it/s]"
      ]
     },
     "metadata": {},
     "output_type": "display_data"
    },
    {
     "name": "stdout",
     "output_type": "stream",
     "text": [
      "4\n",
      "ELBO train_loss -1.2318877262210755\n",
      "RMSE train_loss 0.08950526976295035\n",
      "ELBO val_loss -1.266887\n",
      "RMSE val_loss 0.08742764\n",
      "MAE val_loss 0.053403206\n",
      "R2 score 0.1979815480451843\n",
      "-----------------------------------------------------------------------\n",
      "Validation loss decreased (0.055988 --> 0.053403).  Saving model ...\n"
     ]
    },
    {
     "data": {
      "application/vnd.jupyter.widget-view+json": {
       "model_id": "9cc9afaf6897486f95c32831d3d8848a",
       "version_major": 2,
       "version_minor": 0
      },
      "text/plain": [
       "  0%|          | 0/2590 [00:00<?, ?it/s]"
      ]
     },
     "metadata": {},
     "output_type": "display_data"
    },
    {
     "name": "stdout",
     "output_type": "stream",
     "text": [
      "5\n",
      "ELBO train_loss -1.2355296808909841\n",
      "RMSE train_loss 0.08910675210744687\n",
      "ELBO val_loss -1.1188935\n",
      "RMSE val_loss 0.09093305\n",
      "MAE val_loss 0.057858236\n",
      "R2 score 0.13237839571924936\n",
      "-----------------------------------------------------------------------\n",
      "EarlyStopping counter: 1 out of 20\n"
     ]
    },
    {
     "data": {
      "application/vnd.jupyter.widget-view+json": {
       "model_id": "15b2a478332d44f0b860714e77e0820e",
       "version_major": 2,
       "version_minor": 0
      },
      "text/plain": [
       "  0%|          | 0/2590 [00:00<?, ?it/s]"
      ]
     },
     "metadata": {},
     "output_type": "display_data"
    },
    {
     "name": "stdout",
     "output_type": "stream",
     "text": [
      "6\n",
      "ELBO train_loss -1.2478701194985609\n",
      "RMSE train_loss 0.0886242455597464\n",
      "ELBO val_loss -1.0825343\n",
      "RMSE val_loss 0.092323005\n",
      "MAE val_loss 0.061684012\n",
      "R2 score 0.10565154965334445\n",
      "-----------------------------------------------------------------------\n",
      "EarlyStopping counter: 2 out of 20\n"
     ]
    },
    {
     "data": {
      "application/vnd.jupyter.widget-view+json": {
       "model_id": "263e1634d71344e0abbeae39311b65d3",
       "version_major": 2,
       "version_minor": 0
      },
      "text/plain": [
       "  0%|          | 0/2590 [00:00<?, ?it/s]"
      ]
     },
     "metadata": {},
     "output_type": "display_data"
    },
    {
     "name": "stdout",
     "output_type": "stream",
     "text": [
      "7\n",
      "ELBO train_loss -1.2569411821037704\n",
      "RMSE train_loss 0.08824172543305951\n",
      "ELBO val_loss -0.7799769\n",
      "RMSE val_loss 0.09873941\n",
      "MAE val_loss 0.069246486\n",
      "R2 score -0.022981891097616947\n",
      "-----------------------------------------------------------------------\n",
      "EarlyStopping counter: 3 out of 20\n"
     ]
    },
    {
     "data": {
      "application/vnd.jupyter.widget-view+json": {
       "model_id": "c13dfa1287b143d5bc722fc03171ac66",
       "version_major": 2,
       "version_minor": 0
      },
      "text/plain": [
       "  0%|          | 0/2590 [00:00<?, ?it/s]"
      ]
     },
     "metadata": {},
     "output_type": "display_data"
    },
    {
     "name": "stdout",
     "output_type": "stream",
     "text": [
      "8\n",
      "ELBO train_loss -1.2570300358214548\n",
      "RMSE train_loss 0.08830740405736175\n",
      "ELBO val_loss -1.2830606\n",
      "RMSE val_loss 0.08695236\n",
      "MAE val_loss 0.05690445\n",
      "R2 score 0.20667777748705407\n",
      "-----------------------------------------------------------------------\n",
      "EarlyStopping counter: 4 out of 20\n"
     ]
    },
    {
     "data": {
      "application/vnd.jupyter.widget-view+json": {
       "model_id": "d7da95b2abe647f3b013f2f78434c4cb",
       "version_major": 2,
       "version_minor": 0
      },
      "text/plain": [
       "  0%|          | 0/2590 [00:00<?, ?it/s]"
      ]
     },
     "metadata": {},
     "output_type": "display_data"
    },
    {
     "name": "stdout",
     "output_type": "stream",
     "text": [
      "9\n",
      "ELBO train_loss -1.2633429520666368\n",
      "RMSE train_loss 0.08821063734316853\n",
      "ELBO val_loss -1.1784635\n",
      "RMSE val_loss 0.090220906\n",
      "MAE val_loss 0.060918942\n",
      "R2 score 0.14591482033484537\n",
      "-----------------------------------------------------------------------\n",
      "EarlyStopping counter: 5 out of 20\n"
     ]
    },
    {
     "data": {
      "application/vnd.jupyter.widget-view+json": {
       "model_id": "8bf016e1ddeb482fbb4335c32ea586c9",
       "version_major": 2,
       "version_minor": 0
      },
      "text/plain": [
       "  0%|          | 0/2590 [00:00<?, ?it/s]"
      ]
     },
     "metadata": {},
     "output_type": "display_data"
    },
    {
     "name": "stdout",
     "output_type": "stream",
     "text": [
      "10\n",
      "ELBO train_loss -1.265215891004184\n",
      "RMSE train_loss 0.08844283563596422\n",
      "ELBO val_loss -1.2901525\n",
      "RMSE val_loss 0.08717015\n",
      "MAE val_loss 0.05539001\n",
      "R2 score 0.2026987287101386\n",
      "-----------------------------------------------------------------------\n",
      "EarlyStopping counter: 6 out of 20\n",
      "reducing lr 5.90e-04 to 5.90e-05\n"
     ]
    },
    {
     "data": {
      "application/vnd.jupyter.widget-view+json": {
       "model_id": "8463f5440aad4139832ba074ce9293a5",
       "version_major": 2,
       "version_minor": 0
      },
      "text/plain": [
       "  0%|          | 0/2590 [00:00<?, ?it/s]"
      ]
     },
     "metadata": {},
     "output_type": "display_data"
    },
    {
     "name": "stdout",
     "output_type": "stream",
     "text": [
      "11\n",
      "ELBO train_loss -1.2687203649834202\n",
      "RMSE train_loss 0.08797327648422922\n",
      "ELBO val_loss -1.2801955\n",
      "RMSE val_loss 0.086796954\n",
      "MAE val_loss 0.055953275\n",
      "R2 score 0.20951094993468133\n",
      "-----------------------------------------------------------------------\n",
      "EarlyStopping counter: 7 out of 20\n"
     ]
    },
    {
     "data": {
      "application/vnd.jupyter.widget-view+json": {
       "model_id": "f27ecb955bc547598111be5b83a2fcf4",
       "version_major": 2,
       "version_minor": 0
      },
      "text/plain": [
       "  0%|          | 0/2590 [00:00<?, ?it/s]"
      ]
     },
     "metadata": {},
     "output_type": "display_data"
    },
    {
     "name": "stdout",
     "output_type": "stream",
     "text": [
      "12\n",
      "ELBO train_loss -1.2729215044254962\n",
      "RMSE train_loss 0.08794399810026328\n",
      "ELBO val_loss -1.296147\n",
      "RMSE val_loss 0.086636916\n",
      "MAE val_loss 0.056329507\n",
      "R2 score 0.21242338077017864\n",
      "-----------------------------------------------------------------------\n",
      "EarlyStopping counter: 8 out of 20\n"
     ]
    },
    {
     "data": {
      "application/vnd.jupyter.widget-view+json": {
       "model_id": "fa5156fb19c9425a94ed33a69d61b005",
       "version_major": 2,
       "version_minor": 0
      },
      "text/plain": [
       "  0%|          | 0/2590 [00:00<?, ?it/s]"
      ]
     },
     "metadata": {},
     "output_type": "display_data"
    },
    {
     "name": "stdout",
     "output_type": "stream",
     "text": [
      "13\n",
      "ELBO train_loss -1.2736231980367085\n",
      "RMSE train_loss 0.08764618461545236\n",
      "ELBO val_loss -1.289766\n",
      "RMSE val_loss 0.08682706\n",
      "MAE val_loss 0.056434162\n",
      "R2 score 0.20896243978112905\n",
      "-----------------------------------------------------------------------\n",
      "EarlyStopping counter: 9 out of 20\n"
     ]
    },
    {
     "data": {
      "application/vnd.jupyter.widget-view+json": {
       "model_id": "f2b6389d4fba440ebfbbab31a94d9ae6",
       "version_major": 2,
       "version_minor": 0
      },
      "text/plain": [
       "  0%|          | 0/2590 [00:00<?, ?it/s]"
      ]
     },
     "metadata": {},
     "output_type": "display_data"
    },
    {
     "name": "stdout",
     "output_type": "stream",
     "text": [
      "14\n",
      "ELBO train_loss -1.2705709994587198\n",
      "RMSE train_loss 0.08816677560869957\n",
      "ELBO val_loss -1.2653306\n",
      "RMSE val_loss 0.087290905\n",
      "MAE val_loss 0.05716509\n",
      "R2 score 0.20048825965184214\n",
      "-----------------------------------------------------------------------\n",
      "EarlyStopping counter: 10 out of 20\n"
     ]
    },
    {
     "data": {
      "application/vnd.jupyter.widget-view+json": {
       "model_id": "dc44ac0384ca41288ceed1cd15020ad1",
       "version_major": 2,
       "version_minor": 0
      },
      "text/plain": [
       "  0%|          | 0/2590 [00:00<?, ?it/s]"
      ]
     },
     "metadata": {},
     "output_type": "display_data"
    },
    {
     "name": "stdout",
     "output_type": "stream",
     "text": [
      "15\n",
      "ELBO train_loss -1.2765156311705765\n",
      "RMSE train_loss 0.08719304648395013\n",
      "ELBO val_loss -1.272515\n",
      "RMSE val_loss 0.08703901\n",
      "MAE val_loss 0.056759708\n",
      "R2 score 0.20509593276213656\n",
      "-----------------------------------------------------------------------\n",
      "EarlyStopping counter: 11 out of 20\n"
     ]
    },
    {
     "data": {
      "application/vnd.jupyter.widget-view+json": {
       "model_id": "6c778fea9d7b462db5daa02e49f370fd",
       "version_major": 2,
       "version_minor": 0
      },
      "text/plain": [
       "  0%|          | 0/2590 [00:00<?, ?it/s]"
      ]
     },
     "metadata": {},
     "output_type": "display_data"
    },
    {
     "name": "stdout",
     "output_type": "stream",
     "text": [
      "16\n",
      "ELBO train_loss -1.272218934531435\n",
      "RMSE train_loss 0.08769316902043604\n",
      "ELBO val_loss -1.292156\n",
      "RMSE val_loss 0.08634608\n",
      "MAE val_loss 0.05558357\n",
      "R2 score 0.21770203976243496\n",
      "-----------------------------------------------------------------------\n",
      "EarlyStopping counter: 12 out of 20\n"
     ]
    },
    {
     "data": {
      "application/vnd.jupyter.widget-view+json": {
       "model_id": "eb4855ea0eca4d5dbef529b1bb1874bd",
       "version_major": 2,
       "version_minor": 0
      },
      "text/plain": [
       "  0%|          | 0/2590 [00:00<?, ?it/s]"
      ]
     },
     "metadata": {},
     "output_type": "display_data"
    },
    {
     "name": "stdout",
     "output_type": "stream",
     "text": [
      "17\n",
      "ELBO train_loss -1.2783645239000616\n",
      "RMSE train_loss 0.08740728376513122\n",
      "ELBO val_loss -1.3044763\n",
      "RMSE val_loss 0.08646837\n",
      "MAE val_loss 0.055530906\n",
      "R2 score 0.21548473845856897\n",
      "-----------------------------------------------------------------------\n",
      "EarlyStopping counter: 13 out of 20\n"
     ]
    },
    {
     "data": {
      "application/vnd.jupyter.widget-view+json": {
       "model_id": "b471eea05dfd44eb9bf576431e285c4e",
       "version_major": 2,
       "version_minor": 0
      },
      "text/plain": [
       "  0%|          | 0/2590 [00:00<?, ?it/s]"
      ]
     },
     "metadata": {},
     "output_type": "display_data"
    },
    {
     "name": "stdout",
     "output_type": "stream",
     "text": [
      "18\n",
      "ELBO train_loss -1.277074855758762\n",
      "RMSE train_loss 0.08801924995571059\n",
      "ELBO val_loss -1.2824752\n",
      "RMSE val_loss 0.086878076\n",
      "MAE val_loss 0.056285016\n",
      "R2 score 0.20803275992822556\n",
      "-----------------------------------------------------------------------\n",
      "EarlyStopping counter: 14 out of 20\n"
     ]
    },
    {
     "data": {
      "application/vnd.jupyter.widget-view+json": {
       "model_id": "64f7874448ee414696e4e30aa880cefd",
       "version_major": 2,
       "version_minor": 0
      },
      "text/plain": [
       "  0%|          | 0/2590 [00:00<?, ?it/s]"
      ]
     },
     "metadata": {},
     "output_type": "display_data"
    },
    {
     "name": "stdout",
     "output_type": "stream",
     "text": [
      "19\n",
      "ELBO train_loss -1.274897754948844\n",
      "RMSE train_loss 0.08778260455369655\n",
      "ELBO val_loss -1.2942213\n",
      "RMSE val_loss 0.08627418\n",
      "MAE val_loss 0.055374127\n",
      "R2 score 0.21900451440656743\n",
      "-----------------------------------------------------------------------\n",
      "EarlyStopping counter: 15 out of 20\n"
     ]
    },
    {
     "data": {
      "application/vnd.jupyter.widget-view+json": {
       "model_id": "33965c0fd5c2429ab7e373ae0fb010f1",
       "version_major": 2,
       "version_minor": 0
      },
      "text/plain": [
       "  0%|          | 0/2590 [00:00<?, ?it/s]"
      ]
     },
     "metadata": {},
     "output_type": "display_data"
    },
    {
     "name": "stdout",
     "output_type": "stream",
     "text": [
      "20\n",
      "ELBO train_loss -1.2780659443335645\n",
      "RMSE train_loss 0.0876380378391281\n",
      "ELBO val_loss -1.2579764\n",
      "RMSE val_loss 0.08803089\n",
      "MAE val_loss 0.058037885\n",
      "R2 score 0.18687546667759403\n",
      "-----------------------------------------------------------------------\n",
      "EarlyStopping counter: 16 out of 20\n"
     ]
    },
    {
     "data": {
      "application/vnd.jupyter.widget-view+json": {
       "model_id": "3434d8c5827b4071a64acd38d84310b3",
       "version_major": 2,
       "version_minor": 0
      },
      "text/plain": [
       "  0%|          | 0/2590 [00:00<?, ?it/s]"
      ]
     },
     "metadata": {},
     "output_type": "display_data"
    },
    {
     "name": "stdout",
     "output_type": "stream",
     "text": [
      "21\n",
      "ELBO train_loss -1.275062868374786\n",
      "RMSE train_loss 0.08805816810696111\n",
      "ELBO val_loss -1.3079296\n",
      "RMSE val_loss 0.086352155\n",
      "MAE val_loss 0.055470716\n",
      "R2 score 0.21759213305740577\n",
      "-----------------------------------------------------------------------\n",
      "EarlyStopping counter: 17 out of 20\n"
     ]
    },
    {
     "data": {
      "application/vnd.jupyter.widget-view+json": {
       "model_id": "565fc981714842ed94832655276466d6",
       "version_major": 2,
       "version_minor": 0
      },
      "text/plain": [
       "  0%|          | 0/2590 [00:00<?, ?it/s]"
      ]
     },
     "metadata": {},
     "output_type": "display_data"
    },
    {
     "name": "stdout",
     "output_type": "stream",
     "text": [
      "22\n",
      "ELBO train_loss -1.2795194301452186\n",
      "RMSE train_loss 0.08787783173488217\n",
      "ELBO val_loss -1.2999524\n",
      "RMSE val_loss 0.08631495\n",
      "MAE val_loss 0.05552202\n",
      "R2 score 0.21826621130141466\n",
      "-----------------------------------------------------------------------\n",
      "EarlyStopping counter: 18 out of 20\n"
     ]
    },
    {
     "data": {
      "application/vnd.jupyter.widget-view+json": {
       "model_id": "7f1c5e6215b4489aaaa7dcd214bf32b2",
       "version_major": 2,
       "version_minor": 0
      },
      "text/plain": [
       "  0%|          | 0/2590 [00:00<?, ?it/s]"
      ]
     },
     "metadata": {},
     "output_type": "display_data"
    },
    {
     "name": "stdout",
     "output_type": "stream",
     "text": [
      "23\n",
      "ELBO train_loss -1.2796575003573276\n",
      "RMSE train_loss 0.0877892136060482\n",
      "ELBO val_loss -1.2722471\n",
      "RMSE val_loss 0.08739053\n",
      "MAE val_loss 0.057433\n",
      "R2 score 0.19866231654241973\n",
      "-----------------------------------------------------------------------\n",
      "EarlyStopping counter: 19 out of 20\n"
     ]
    },
    {
     "data": {
      "application/vnd.jupyter.widget-view+json": {
       "model_id": "8e27ac5190cb44749a67180f2894f051",
       "version_major": 2,
       "version_minor": 0
      },
      "text/plain": [
       "  0%|          | 0/2590 [00:00<?, ?it/s]"
      ]
     },
     "metadata": {},
     "output_type": "display_data"
    },
    {
     "name": "stdout",
     "output_type": "stream",
     "text": [
      "24\n",
      "ELBO train_loss -1.2803753395065032\n",
      "RMSE train_loss 0.08775168341942297\n",
      "ELBO val_loss -1.2870829\n",
      "RMSE val_loss 0.086707406\n",
      "MAE val_loss 0.05654149\n",
      "R2 score 0.2111412901266857\n",
      "-----------------------------------------------------------------------\n",
      "EarlyStopping counter: 20 out of 20\n",
      "Early stopping\n"
     ]
    }
   ],
   "source": [
    "from tqdm.auto import tqdm \n",
    "val_norm = data_test.shape[0]\n",
    "mse_loss_train = []\n",
    "mse_loss_eval = []\n",
    "elbo_loss_train  = []\n",
    "elbo_loss_eval = []\n",
    "mae_val_loss = []\n",
    "for epoch in range(100):\n",
    "    loss = 0 \n",
    "    mse_loss = 0\n",
    "    Regressor.train()\n",
    "    for batch in tqdm(train_loader):\n",
    "        context_x, context_y, target_x, target_y = batch\n",
    "        cx =context_x.to(device)\n",
    "        cy = context_y.to(device)\n",
    "        tx = target_x.to(device)\n",
    "        ty = target_y.to(device)\n",
    "\n",
    "        Regressor.zero_grad()\n",
    "\n",
    "        y_pred, losses, extra = Regressor.forward(cx, cy, tx, ty, training=True)\n",
    "        losses['loss'].backward()\n",
    "        loss += losses['loss'].cpu().detach().numpy()\n",
    "        mse_loss+=losses['loss_mse'].cpu().detach().numpy()\n",
    "        opt.step()\n",
    "        \n",
    "    loss /= len(train_loader)\n",
    "    elbo_loss_train.append(loss)\n",
    "    mse_loss_train.append(mse_loss/len(train_loader))\n",
    "    print(epoch)\n",
    "    print('ELBO train_loss', loss)\n",
    "    print('RMSE train_loss', (mse_loss/len(train_loader))**0.5)\n",
    "    \n",
    "    yr, ypred, r2, losses_val, extra = validation(df_train, df_test)\n",
    "\n",
    "    mse_loss_val = losses_val['loss_mse'].cpu().detach().numpy()\n",
    "    mse_loss_eval.append(mse_loss_val)\n",
    "    elbo_loss_val = losses_val['loss'].cpu().detach().numpy() \n",
    "    val_loss = np.mean(np.abs(yr))\n",
    "\n",
    "    elbo_loss_eval.append(elbo_loss_val)\n",
    "    mae_val_loss.append(val_loss)\n",
    "    \n",
    "    lr_scheduler.step()\n",
    "    print('ELBO val_loss', elbo_loss_val)\n",
    "    print('RMSE val_loss', mse_loss_val**0.5)\n",
    "    print('MAE val_loss', val_loss)\n",
    "    print('R2 score', r2)\n",
    "  \n",
    "    print(\"-----------------------------------------------------------------------\")\n",
    "\n",
    "    early_stopping(val_loss, Regressor)\n",
    "    if early_stopping.counter==6:\n",
    "        \n",
    "      lr=opt.state_dict()['param_groups'][0]['lr']\n",
    "      print('reducing lr {:2.2e} to {:2.2e}'.format(lr, lr/10))\n",
    "      opt = torch.optim.Adam(Regressor.parameters(), lr=lr/10)\n",
    "\n",
    "    if early_stopping.early_stop:\n",
    "        print(\"Early stopping\")\n",
    "        break\n"
   ]
  },
  {
   "cell_type": "code",
   "execution_count": null,
   "id": "proud-intranet",
   "metadata": {},
   "outputs": [],
   "source": [
    "torch.save(Regressor.state_dict(), 'checkpoint2.pt')"
   ]
  },
  {
   "cell_type": "markdown",
   "id": "anonymous-robinson",
   "metadata": {},
   "source": [
    "# Model evaluation"
   ]
  },
  {
   "cell_type": "markdown",
   "id": "requested-accident",
   "metadata": {},
   "source": [
    "### Train vs val loss"
   ]
  },
  {
   "cell_type": "code",
   "execution_count": null,
   "id": "fitted-schema",
   "metadata": {},
   "outputs": [],
   "source": [
    "from sklearn.metrics import mean_absolute_error, mean_squared_error"
   ]
  },
  {
   "cell_type": "code",
   "execution_count": null,
   "id": "marine-number",
   "metadata": {},
   "outputs": [],
   "source": [
    "mean = data.mean()\n",
    "std = data.std()"
   ]
  },
  {
   "cell_type": "code",
   "execution_count": null,
   "id": "bigger-neutral",
   "metadata": {},
   "outputs": [],
   "source": [
    "def loss_plot(train_loss, val_loss, title = \"\"):\n",
    "#     x = x  = np.arange(0,100,1)\n",
    "    plt.plot(train_loss, label =\"train\")\n",
    "    plt.plot(val_loss, label = \"val\")\n",
    "    plt.xlabel(\"epochs\")\n",
    "    plt.ylabel(\"loss\")\n",
    "    plt.title(title)\n",
    "    plt.legend()\n",
    "    plt.show()"
   ]
  },
  {
   "cell_type": "code",
   "execution_count": null,
   "id": "associate-belle",
   "metadata": {
    "scrolled": true
   },
   "outputs": [],
   "source": [
    "#Elbo loss plot\n",
    "loss_plot(elbo_loss_train, elbo_loss_eval, \"ELBO loss\")"
   ]
  },
  {
   "cell_type": "code",
   "execution_count": null,
   "id": "productive-forth",
   "metadata": {},
   "outputs": [],
   "source": [
    "# mse loss plot\n",
    "loss_plot(mse_loss_train, mse_loss_eval, \"MSE loss\")"
   ]
  },
  {
   "cell_type": "code",
   "execution_count": null,
   "id": "presidential-least",
   "metadata": {
    "scrolled": true
   },
   "outputs": [],
   "source": [
    "## RMSE for trainig and testing error\n",
    "\n",
    "yr_train, y_pred_train, _, losses, extra = validation(data_train, data_train)\n",
    "yr_test, y_pred_test, _,  losses, extra = validation(data_train, data_test)"
   ]
  },
  {
   "cell_type": "code",
   "execution_count": null,
   "id": "boring-magic",
   "metadata": {},
   "outputs": [],
   "source": [
    "y_pred_train = y_pred_train[0].detach().cpu().numpy().flatten()\n",
    "y_pred_test = y_pred_test[0].detach().cpu().numpy().flatten()"
   ]
  },
  {
   "cell_type": "code",
   "execution_count": null,
   "id": "rolled-liabilities",
   "metadata": {},
   "outputs": [],
   "source": [
    "MAE = mean_absolute_error(data_train.iloc[:,2], y_pred_train)\n",
    "RMSE = mean_squared_error(data_train.iloc[:,2], y_pred_train)\n",
    "\n",
    "print(\"MAE for traing data = \", MAE)\n",
    "print(\"RMSE for trainig data = \", RMSE**0.5)"
   ]
  },
  {
   "cell_type": "code",
   "execution_count": null,
   "id": "radio-bankruptcy",
   "metadata": {},
   "outputs": [],
   "source": [
    "r2 = r2_score(data_train['Scaled N'], y_pred_train)\n",
    "r2"
   ]
  },
  {
   "cell_type": "code",
   "execution_count": null,
   "id": "acute-locking",
   "metadata": {},
   "outputs": [],
   "source": [
    "r2 = r2_score(data_test['Scaled N'], y_pred_test)\n",
    "r2"
   ]
  },
  {
   "cell_type": "code",
   "execution_count": null,
   "id": "organic-deposit",
   "metadata": {},
   "outputs": [],
   "source": [
    "MAE = mean_absolute_error(data_test.iloc[:,2], y_pred_test)\n",
    "RMSE = mean_squared_error(data_test.iloc[:,2], y_pred_test)\n",
    "\n",
    "print(\"MAE for test data = \", MAE)\n",
    "print(\"RMSE for test data = \", RMSE**0.5)"
   ]
  },
  {
   "cell_type": "code",
   "execution_count": null,
   "id": "conscious-request",
   "metadata": {},
   "outputs": [],
   "source": [
    "plt.figure(figsize=(6,6))\n",
    "plt.subplot(221)\n",
    "plt.plot(y_pred_train, data_train['Scaled N'], '.')\n",
    "plt.title('Training: pred vs obs')\n",
    "plt.xlabel('Predictions')\n",
    "plt.ylabel('True value')\n",
    "plt.plot([0, 1], [0, 1], 'g--')\n",
    "plt.ylim(0, 1)\n",
    "plt.xlim(0,1)\n",
    "plt.subplot(222)\n",
    "plt.hist(yr_train)\n",
    "plt.title('Hist training res\\nMedian absolute error: {:.1f}'.format(np.median(np.abs(yr_train))))\n",
    "plt.subplot(223)\n",
    "plt.plot(y_pred_test, data_test['Scaled N'], '.')\n",
    "plt.plot([0,1], [0,1], 'g--')\n",
    "plt.title('Test: pred vs obs')\n",
    "plt.xlabel('Predictions')\n",
    "plt.ylabel('True value')\n",
    "plt.ylim(0,1)\n",
    "plt.xlim(0,1)\n",
    "plt.subplot(224)\n",
    "plt.hist(yr_test)\n",
    "plt.title('Hist test res\\nMedian absolute error: {:.1f}'.format(np.median(np.abs(yr_test))))\n",
    "plt.tight_layout()"
   ]
  },
  {
   "cell_type": "markdown",
   "id": "productive-poetry",
   "metadata": {},
   "source": [
    "## ordinary kriging"
   ]
  },
  {
   "cell_type": "code",
   "execution_count": null,
   "id": "freelance-export",
   "metadata": {},
   "outputs": [],
   "source": [
    "from pykrige.ok import OrdinaryKriging"
   ]
  },
  {
   "cell_type": "code",
   "execution_count": null,
   "id": "legislative-surprise",
   "metadata": {},
   "outputs": [],
   "source": [
    "model = OrdinaryKriging(x=data_train['lon'], y=data_train['lat'], z=data_train['N'], verbose=True,\n",
    "                enable_plotting=True, nlags=30, weight=True, variogram_model='spherical')\n"
   ]
  },
  {
   "cell_type": "code",
   "execution_count": null,
   "id": "color-navigator",
   "metadata": {
    "scrolled": true
   },
   "outputs": [],
   "source": [
    "# data_train_ypred = model.execute(style='points',xpoints=data_train['Longitude'], ypoints=data_train['Latitude'] )[0].data\n",
    "# data_train_residual = data_train['Scaled N'] - data_train_ypred\n",
    "data_test_ypred = model.execute(style='points', xpoints=data_test['lon'], ypoints=data_test['lat'] )[0].data\n",
    "data_test_residual = data_test['N'] - data_test_ypred"
   ]
  },
  {
   "cell_type": "code",
   "execution_count": null,
   "id": "imported-documentary",
   "metadata": {
    "scrolled": false
   },
   "outputs": [],
   "source": [
    "plt.subplot(121)\n",
    "plt.plot(data_test_ypred, data_test['N'], '.')\n",
    "plt.plot([0,1], [0,1], 'g--')\n",
    "plt.title('Test: pred vs obs--OK')\n",
    "plt.xlabel('Predictions')\n",
    "plt.ylabel('True value')\n",
    "plt.ylim(0,1)\n",
    "plt.xlim(0,1)\n",
    "plt.subplot(122)\n",
    "plt.hist(data_test_residual)\n",
    "plt.title('Hist test res\\nMedian absolute error: {:.1f}--OK'.format(np.median(np.abs(data_test_residual))))\n",
    "plt.show()"
   ]
  },
  {
   "cell_type": "code",
   "execution_count": null,
   "id": "first-territory",
   "metadata": {
    "scrolled": true
   },
   "outputs": [],
   "source": [
    "r2_ok = r2_score(data_test['N'], data_test_ypred)\n",
    "r2_ok"
   ]
  },
  {
   "cell_type": "code",
   "execution_count": null,
   "id": "bound-bathroom",
   "metadata": {},
   "outputs": [],
   "source": [
    "MAE = mean_absolute_error(data_test['N'], data_test_ypred)\n",
    "RMSE = mean_squared_error(data_test['N'],data_test_ypred)\n",
    "\n",
    "print(\"MAE for test data for Ordinary kriging = \", MAE)\n",
    "print(\"RMSE for testing data for Ordinary Kriging = \", RMSE**0.5)"
   ]
  },
  {
   "cell_type": "markdown",
   "id": "caroline-penny",
   "metadata": {},
   "source": [
    "### Benchmark with KNN"
   ]
  },
  {
   "cell_type": "code",
   "execution_count": null,
   "id": "interim-fiction",
   "metadata": {},
   "outputs": [],
   "source": [
    "from sklearn.neighbors import KNeighborsRegressor\n",
    "from sklearn.model_selection import GridSearchCV"
   ]
  },
  {
   "cell_type": "code",
   "execution_count": null,
   "id": "forty-initial",
   "metadata": {},
   "outputs": [],
   "source": [
    "parameters = {'n_neighbors':np.arange(1,10)}\n",
    "nn_model = KNeighborsRegressor()\n",
    "nn_model_cv = GridSearchCV(nn_model, parameters)\n",
    "nn_model_cv = nn_model_cv.fit(data_train[['lon', 'lat']], data_train['N']) \n",
    "print('Optimal number of neighbours {}'.format(nn_model_cv.best_params_))\n",
    "nn_model = nn_model_cv.best_estimator_\n",
    "knn_prediction = nn_model.predict(data_test[['lon', 'lat']])\n",
    "knn_residual = data_test['N'] - knn_prediction"
   ]
  },
  {
   "cell_type": "code",
   "execution_count": null,
   "id": "designed-insight",
   "metadata": {},
   "outputs": [],
   "source": [
    "r2_knn = r2_score(data_test['N'], knn_prediction)\n",
    "r2_knn"
   ]
  },
  {
   "cell_type": "code",
   "execution_count": null,
   "id": "accredited-doctor",
   "metadata": {},
   "outputs": [],
   "source": [
    "MAE = mean_absolute_error(data_test['N'], knn_prediction)\n",
    "RMSE = mean_squared_error(data_test['N'],knn_prediction)\n",
    "\n",
    "print(\"MAE for test data for KNN = \", MAE)\n",
    "print(\"RMSE for testing data for KNN = \", RMSE**0.5)"
   ]
  },
  {
   "cell_type": "code",
   "execution_count": null,
   "id": "thermal-contamination",
   "metadata": {},
   "outputs": [],
   "source": [
    "plt.subplot(121)\n",
    "plt.plot(knn_prediction, data_test['N'], '.')\n",
    "plt.plot([0,1], [0,1], 'g--')\n",
    "plt.title('Test: pred vs obs--OK')\n",
    "plt.xlabel('Predictions')\n",
    "plt.ylabel('True value')\n",
    "plt.ylim(0,1)\n",
    "plt.xlim(0,1)\n",
    "plt.subplot(122)\n",
    "plt.hist(knn_residual)\n",
    "plt.title('Hist test res\\nMedian absolute error: {:.1f}--OK'.format(np.median(np.abs(knn_residual))))\n",
    "plt.show()"
   ]
  },
  {
   "cell_type": "code",
   "execution_count": null,
   "id": "center-providence",
   "metadata": {},
   "outputs": [],
   "source": [
    "import shapely\n",
    "from shapely.geometry import Point, MultiPoint"
   ]
  },
  {
   "cell_type": "code",
   "execution_count": null,
   "id": "short-midnight",
   "metadata": {},
   "outputs": [],
   "source": [
    "ls = []\n",
    "for i in range(len(data)):\n",
    "    ls.append(Point(data['Longitude'][i], data['Latitude'][i]))\n",
    "data['geometry'] = ls"
   ]
  },
  {
   "cell_type": "code",
   "execution_count": null,
   "id": "differential-latex",
   "metadata": {
    "scrolled": true
   },
   "outputs": [],
   "source": [
    "data.head()"
   ]
  },
  {
   "cell_type": "code",
   "execution_count": null,
   "id": "inner-travel",
   "metadata": {},
   "outputs": [],
   "source": [
    "import geopandas as gpd"
   ]
  },
  {
   "cell_type": "code",
   "execution_count": null,
   "id": "canadian-honor",
   "metadata": {},
   "outputs": [],
   "source": [
    "class PolygonPointSampler(object):\n",
    " \n",
    "    def __init__(self, polygon=''):\n",
    "        u\"\"\"\n",
    "        Initialize a new PolygonPointSampler object using the specified polygon\n",
    "        object (as allocated by Shapely). If no polygon is given a new empty\n",
    "        one is created and set as the base polygon.\n",
    "        \"\"\"\n",
    "        if polygon:\n",
    "            self.polygon = polygon\n",
    "        else:\n",
    "            self.polygon = Polygon()\n",
    "        self.samples = list()\n",
    "        self.sample_count = 0\n",
    "        self.prepared = False\n",
    " \n",
    "    def add_polygon(self, polygon):\n",
    "        u\"\"\"\n",
    "        Add another polygon entity to the base polygon by geometrically unifying\n",
    "        it with the current one.\n",
    "        \"\"\"\n",
    "        self.polygon = self.polygon.union(polygon)\n",
    "        self.prepared = False\n",
    "    \n",
    "    def get_spatial_df(self):\n",
    "        geo_df = pd.DataFrame(self.samples, columns=['geometry'])\n",
    "        geo_df = geo_df.set_geometry('geometry')\n",
    "        geo_df['x'] = geo_df['geometry'].apply(lambda x: x.coords[0][0])\n",
    "        geo_df['y'] = geo_df['geometry'].apply(lambda x: x.coords[0][1])\n",
    "        return geo_df\n",
    " \n",
    "    def print_samples(self):\n",
    "        u\"\"\"\n",
    "        Print all sample points using their WKT representation.\n",
    "        \"\"\"\n",
    "        for sample_pt in self.samples:\n",
    "            print(sample_pt)\n",
    " \n",
    "    def prepare_sampling(self):\n",
    "        u\"\"\"\n",
    "        Prepare the actual sampling procedure by splitting up the specified base\n",
    "        polygon (that may consist of multiple simple polygons) and appending its\n",
    "        compartments to a dedicated list.\n",
    "        \"\"\"\n",
    "        self.src = list()\n",
    "        if hasattr(self.polygon, 'geoms'):\n",
    "            for py in self.polygon:\n",
    "                self.src.append(py)\n",
    "        else:\n",
    "            self.src.append(self.polygon)\n",
    "        self.prepared = True\n",
    " \n",
    "    def perform_sampling(self):\n",
    "        u\"\"\"\n",
    "        Create a stub for the actual sampling procedure.\n",
    "        \"\"\"\n",
    "        raise NotImplementedError\n",
    "    \n",
    "class RegularGridSampler(PolygonPointSampler):\n",
    "    def __init__(self, polygon = '', x_interval = 100, y_interval = 100):\n",
    "        super(self.__class__, self).__init__(polygon)\n",
    "        self.x_interval = x_interval\n",
    "        self.y_interval = y_interval\n",
    "    \n",
    "    def perform_sampling(self):\n",
    "        u\"\"\"\n",
    "        Perform sampling by substituting the polygon with a regular grid of\n",
    "        sample points within it. The distance between the sample points is\n",
    "        given by x_interval and y_interval.\n",
    "        \"\"\"\n",
    "        if not self.prepared:\n",
    "            self.prepare_sampling()\n",
    "        ll = self.polygon.bounds[:2]\n",
    "        ur = self.polygon.bounds[2:]\n",
    "        low_x = int(ll[0]) / self.x_interval * self.x_interval\n",
    "        upp_x = int(ur[0]) / self.x_interval * self.x_interval + self.x_interval\n",
    "        low_y = int(ll[1]) / self.y_interval * self.y_interval\n",
    "        upp_y = int(ur[1]) / self.y_interval * self.y_interval + self.y_interval\n",
    "        \n",
    "        for x in floatrange(low_x, upp_x, self.x_interval):\n",
    "            for y in floatrange(low_y, upp_y, self.y_interval):\n",
    "                p = shapely.geometry.Point(x, y)\n",
    "                if p.within(self.polygon):\n",
    "                    self.samples.append(p)\n",
    "\n",
    "def floatrange(start, stop, step):\n",
    "    while start < stop:\n",
    "        yield start\n",
    "        start += step\n"
   ]
  },
  {
   "cell_type": "code",
   "execution_count": null,
   "id": "choice-serial",
   "metadata": {},
   "outputs": [],
   "source": [
    "mpt = MultiPoint(list(data.geometry))\n",
    "convex_hull = mpt.convex_hull.buffer(0.5)\n",
    "sampler = RegularGridSampler(convex_hull, x_interval=0.02, y_interval=0.02)\n",
    "sampler.perform_sampling()\n",
    "grid_points = sampler.get_spatial_df()\n",
    "plt.figure(figsize=(8,8))\n",
    "plt.plot(grid_points['x'], grid_points['y'], '.')\n",
    "plt.plot(data['Longitude'], data['Latitude'], 'r.')\n",
    "plt.title('Sampled grid')\n",
    "plt.show()"
   ]
  },
  {
   "cell_type": "code",
   "execution_count": null,
   "id": "proud-blind",
   "metadata": {},
   "outputs": [],
   "source": [
    "grid_points.head()"
   ]
  },
  {
   "cell_type": "code",
   "execution_count": null,
   "id": "outer-occupation",
   "metadata": {},
   "outputs": [],
   "source": []
  },
  {
   "cell_type": "code",
   "execution_count": null,
   "id": "domestic-treasure",
   "metadata": {},
   "outputs": [],
   "source": [
    "# plot_grid(grid_points, )"
   ]
  },
  {
   "cell_type": "code",
   "execution_count": null,
   "id": "utility-gathering",
   "metadata": {},
   "outputs": [],
   "source": [
    "data.head()"
   ]
  },
  {
   "cell_type": "code",
   "execution_count": null,
   "id": "loose-conservative",
   "metadata": {},
   "outputs": [],
   "source": [
    "grid_points.head()"
   ]
  },
  {
   "cell_type": "code",
   "execution_count": null,
   "id": "sought-incentive",
   "metadata": {
    "scrolled": true
   },
   "outputs": [],
   "source": [
    "mean"
   ]
  },
  {
   "cell_type": "code",
   "execution_count": null,
   "id": "happy-bosnia",
   "metadata": {
    "scrolled": false
   },
   "outputs": [],
   "source": [
    "def eval_grid(grid_points, data, model_np):\n",
    "    \n",
    "    cols = ['y', 'x']\n",
    "    \n",
    "    target_x = grid_points.copy()[cols]\n",
    "    target_x.rename(columns ={'y':'Latitude', 'x':'Longitude'}, inplace = True)\n",
    "#     print(target_x)\n",
    "    target_x-=mean#[['x', 'y']]\n",
    "    target_x/=std#[['x', 'y']]\n",
    "\n",
    "    df = data.drop(columns=['geometry']).copy()\n",
    "    df-=mean\n",
    "    df/=std\n",
    "    context_x = df.drop(columns=['Scaled N'])\n",
    "    context_y = df['Scaled N']\n",
    "    \n",
    "    print(target_x.shape)\n",
    "    print(target_x.mean(0))\n",
    "    print(target_x.std(0))\n",
    "    print(context_x.shape)\n",
    "\n",
    "    context_x = torch.from_numpy(context_x.values).float()[None, :]\n",
    "    context_y = torch.from_numpy(context_y.values).float()[None, :, None]\n",
    "    target_x = torch.from_numpy(target_x.values).float()[None, :]\n",
    "\n",
    "    # Make predictions\n",
    "    model_np.eval()\n",
    "    with torch.no_grad():\n",
    "\n",
    "        y_pred, losses, extra = model_np.forward(context_x, context_y, target_x)\n",
    "    return yr, y_pred, losses, extra \n",
    "\n",
    "# for col in allow_columns:\n",
    "#     if col not in grid_points:\n",
    "#         grid_points[col]=norm_mean[col]\n",
    "\n",
    "yr, y_pred, losses, extra  = eval_grid(grid_points, data, Regressor)\n"
   ]
  },
  {
   "cell_type": "code",
   "execution_count": null,
   "id": "identical-pocket",
   "metadata": {},
   "outputs": [],
   "source": [
    "stdv = extra.scale[0, :, 0] * 1\n",
    "loc = extra.loc[0, :, 0] * 1\n",
    "stdv *= std['Scaled N']\n",
    "loc *= std['Scaled N']\n",
    "loc += mean['Scaled N']"
   ]
  },
  {
   "cell_type": "code",
   "execution_count": null,
   "id": "sharp-picking",
   "metadata": {},
   "outputs": [],
   "source": [
    "# import geopandas"
   ]
  },
  {
   "cell_type": "code",
   "execution_count": null,
   "id": "after-audit",
   "metadata": {},
   "outputs": [],
   "source": [
    "def plot_grid(grid_points, prediction, title):\n",
    "#     gdf = grid_points.copy()\n",
    "#     grid_points = geopandas.GeoDataFrame(gdf, geometry=geopandas.points_from_xy(gdf.x, gdf.y))\n",
    "    grid_points['prediction'] = prediction\n",
    "    grid_points_gpd = grid_points.set_geometry('geometry')    \n",
    "    grid_points_gpd.crs = {'init':'epsg:28992'}\n",
    "    grid_points_gpd = grid_points_gpd.to_crs({'init': 'epsg:4326'})\n",
    "    grid_points_gpd['long'] = grid_points_gpd.geometry.apply(lambda x: x.x)\n",
    "    grid_points_gpd['lat'] = grid_points_gpd.geometry.apply(lambda x: x.y)\n",
    "    \n",
    "    grid_points_pivot = grid_points_gpd.pivot(values='prediction', columns='x', index='y').fillna(0)\n",
    "    grid_points_pivot = grid_points_pivot.loc[:,grid_points_pivot.columns.sort_values(ascending=True)]\n",
    "    grid_points_pivot = grid_points_pivot.loc[grid_points_pivot.index.sort_values(ascending=True),:]\n",
    "    plt.contourf(np.unique(grid_points_pivot.columns.values), np.unique(grid_points_pivot.index.values), \n",
    "                 grid_points_pivot.values,20,cmap='GnBu', vmin=0, vmax=1)\n",
    "    plt.scatter(data['Longitude'], data['Latitude'], c=data['Scaled N'], cmap='GnBu', vmin=0, vmax=1)\n",
    "    plt.plot(data['Longitude'], data['Latitude'], '.', ms=1)\n",
    "    plt.title(title)\n",
    "    plt.colorbar()\n",
    "    \n",
    "    return grid_points_pivot.values"
   ]
  },
  {
   "cell_type": "code",
   "execution_count": null,
   "id": "manual-vertex",
   "metadata": {},
   "outputs": [],
   "source": [
    "z_np =plot_grid(grid_points, (loc)*1.0, title=\"NP grid values \")"
   ]
  },
  {
   "cell_type": "code",
   "execution_count": null,
   "id": "metropolitan-phenomenon",
   "metadata": {},
   "outputs": [],
   "source": [
    "z = plot_grid(grid_points, (loc-0.5*stdv)*1.0, title=\"NP grid values (-0.5 std)\")"
   ]
  },
  {
   "cell_type": "code",
   "execution_count": null,
   "id": "closed-stick",
   "metadata": {},
   "outputs": [],
   "source": [
    "z= plot_grid(grid_points, (loc+0.5*stdv)*1.0, title=\"NP grid values (+.5 std)\")"
   ]
  },
  {
   "cell_type": "code",
   "execution_count": null,
   "id": "egyptian-chuck",
   "metadata": {},
   "outputs": [],
   "source": [
    "# im=z_np[::-1]\n",
    "# im[im==0]=np.nan\n",
    "# plt.imshow(im)"
   ]
  },
  {
   "cell_type": "code",
   "execution_count": null,
   "id": "quick-valve",
   "metadata": {
    "scrolled": false
   },
   "outputs": [],
   "source": [
    "grid_points.head()"
   ]
  },
  {
   "cell_type": "code",
   "execution_count": null,
   "id": "comic-designation",
   "metadata": {},
   "outputs": [],
   "source": [
    "temp = grid_points.copy()\n",
    "temp.rename(columns ={'x':'Longitude', 'y':'Latitude', 'Prediction':'Scaled N'}, inplace = True)\n",
    "temp.head()"
   ]
  },
  {
   "cell_type": "code",
   "execution_count": null,
   "id": "efficient-broadway",
   "metadata": {
    "scrolled": true
   },
   "outputs": [],
   "source": [
    "temp.rename(columns ={'prediction':'Scaled N'}, inplace = True)"
   ]
  },
  {
   "cell_type": "code",
   "execution_count": null,
   "id": "processed-hybrid",
   "metadata": {},
   "outputs": [],
   "source": [
    "# temp.isna()"
   ]
  },
  {
   "cell_type": "code",
   "execution_count": null,
   "id": "meaning-nickname",
   "metadata": {},
   "outputs": [],
   "source": [
    "op = pd.concat([pd.DataFrame(temp),temp2] )"
   ]
  },
  {
   "cell_type": "code",
   "execution_count": null,
   "id": "ecological-enterprise",
   "metadata": {},
   "outputs": [],
   "source": [
    "op.drop(columns =['geometry'], inplace = True)\n",
    "op.drop_duplicates(['Longitude', 'Latitude'], inplace = True)\n",
    "op.head()"
   ]
  },
  {
   "cell_type": "code",
   "execution_count": null,
   "id": "direct-fruit",
   "metadata": {},
   "outputs": [],
   "source": [
    "op.to_csv(\"interpolated.csv\")"
   ]
  },
  {
   "cell_type": "code",
   "execution_count": null,
   "id": "affected-theme",
   "metadata": {},
   "outputs": [],
   "source": []
  }
 ],
 "metadata": {
  "kernelspec": {
   "display_name": "Python 3",
   "language": "python",
   "name": "python3"
  },
  "language_info": {
   "codemirror_mode": {
    "name": "ipython",
    "version": 3
   },
   "file_extension": ".py",
   "mimetype": "text/x-python",
   "name": "python",
   "nbconvert_exporter": "python",
   "pygments_lexer": "ipython3",
   "version": "3.8.5"
  }
 },
 "nbformat": 4,
 "nbformat_minor": 5
}
