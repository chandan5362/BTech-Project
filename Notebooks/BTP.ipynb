{
 "cells": [
  {
   "cell_type": "code",
   "execution_count": 9,
   "id": "younger-kernel",
   "metadata": {},
   "outputs": [],
   "source": [
    "import numpy as np\n",
    "import pandas as pd\n",
    "import matplotlib.pyplot as plt\n",
    "%notebook inline"
   ]
  },
  {
   "cell_type": "code",
   "execution_count": 2,
   "id": "healthy-joyce",
   "metadata": {},
   "outputs": [],
   "source": [
    "Kscaled = pd.read_csv(\"Kscaled.csv\")\n",
    "Oscaled = pd.read_csv(\"Ocscaled.csv\")\n",
    "Pscaled = pd.read_csv(\"Pscaled.csv\")\n",
    "Nscaled = pd.read_csv(\"scaledN.csv\")"
   ]
  },
  {
   "cell_type": "markdown",
   "id": "controversial-stanford",
   "metadata": {},
   "source": [
    "## Potassium  "
   ]
  },
  {
   "cell_type": "code",
   "execution_count": 4,
   "id": "grand-policy",
   "metadata": {},
   "outputs": [
    {
     "data": {
      "text/html": [
       "<div>\n",
       "<style scoped>\n",
       "    .dataframe tbody tr th:only-of-type {\n",
       "        vertical-align: middle;\n",
       "    }\n",
       "\n",
       "    .dataframe tbody tr th {\n",
       "        vertical-align: top;\n",
       "    }\n",
       "\n",
       "    .dataframe thead th {\n",
       "        text-align: right;\n",
       "    }\n",
       "</style>\n",
       "<table border=\"1\" class=\"dataframe\">\n",
       "  <thead>\n",
       "    <tr style=\"text-align: right;\">\n",
       "      <th></th>\n",
       "      <th>Longitude</th>\n",
       "      <th>Latitude</th>\n",
       "      <th>Scaled K</th>\n",
       "    </tr>\n",
       "  </thead>\n",
       "  <tbody>\n",
       "    <tr>\n",
       "      <th>0</th>\n",
       "      <td>17.895</td>\n",
       "      <td>73.401</td>\n",
       "      <td>0.55900</td>\n",
       "    </tr>\n",
       "    <tr>\n",
       "      <th>1</th>\n",
       "      <td>17.895</td>\n",
       "      <td>73.401</td>\n",
       "      <td>0.17745</td>\n",
       "    </tr>\n",
       "    <tr>\n",
       "      <th>2</th>\n",
       "      <td>17.895</td>\n",
       "      <td>73.402</td>\n",
       "      <td>0.21355</td>\n",
       "    </tr>\n",
       "    <tr>\n",
       "      <th>3</th>\n",
       "      <td>17.895</td>\n",
       "      <td>73.403</td>\n",
       "      <td>0.63969</td>\n",
       "    </tr>\n",
       "    <tr>\n",
       "      <th>4</th>\n",
       "      <td>17.895</td>\n",
       "      <td>73.403</td>\n",
       "      <td>0.24895</td>\n",
       "    </tr>\n",
       "  </tbody>\n",
       "</table>\n",
       "</div>"
      ],
      "text/plain": [
       "   Longitude  Latitude  Scaled K\n",
       "0     17.895    73.401   0.55900\n",
       "1     17.895    73.401   0.17745\n",
       "2     17.895    73.402   0.21355\n",
       "3     17.895    73.403   0.63969\n",
       "4     17.895    73.403   0.24895"
      ]
     },
     "execution_count": 4,
     "metadata": {},
     "output_type": "execute_result"
    }
   ],
   "source": [
    "Kscaled.head()"
   ]
  },
  {
   "cell_type": "code",
   "execution_count": 15,
   "id": "attempted-facial",
   "metadata": {},
   "outputs": [
    {
     "data": {
      "image/png": "[encoded data removed]",
      "text/plain": [
       "<Figure size 432x288 with 1 Axes>"
      ]
     },
     "metadata": {
      "needs_background": "light"
     },
     "output_type": "display_data"
    }
   ],
   "source": [
    "plt.hist(Kscaled['Scaled K'],bins = 80)\n",
    "plt.show()"
   ]
  },
  {
   "cell_type": "markdown",
   "id": "reflected-small",
   "metadata": {},
   "source": [
    "## Organic Compounds"
   ]
  },
  {
   "cell_type": "code",
   "execution_count": 5,
   "id": "stock-screening",
   "metadata": {},
   "outputs": [
    {
     "data": {
      "text/html": [
       "<div>\n",
       "<style scoped>\n",
       "    .dataframe tbody tr th:only-of-type {\n",
       "        vertical-align: middle;\n",
       "    }\n",
       "\n",
       "    .dataframe tbody tr th {\n",
       "        vertical-align: top;\n",
       "    }\n",
       "\n",
       "    .dataframe thead th {\n",
       "        text-align: right;\n",
       "    }\n",
       "</style>\n",
       "<table border=\"1\" class=\"dataframe\">\n",
       "  <thead>\n",
       "    <tr style=\"text-align: right;\">\n",
       "      <th></th>\n",
       "      <th>Longitude</th>\n",
       "      <th>Latitude</th>\n",
       "      <th>Scaled Oc</th>\n",
       "    </tr>\n",
       "  </thead>\n",
       "  <tbody>\n",
       "    <tr>\n",
       "      <th>0</th>\n",
       "      <td>17.895</td>\n",
       "      <td>73.401</td>\n",
       "      <td>0.54040</td>\n",
       "    </tr>\n",
       "    <tr>\n",
       "      <th>1</th>\n",
       "      <td>17.895</td>\n",
       "      <td>73.401</td>\n",
       "      <td>0.56061</td>\n",
       "    </tr>\n",
       "    <tr>\n",
       "      <th>2</th>\n",
       "      <td>17.895</td>\n",
       "      <td>73.402</td>\n",
       "      <td>0.33838</td>\n",
       "    </tr>\n",
       "    <tr>\n",
       "      <th>3</th>\n",
       "      <td>17.895</td>\n",
       "      <td>73.403</td>\n",
       "      <td>0.88384</td>\n",
       "    </tr>\n",
       "    <tr>\n",
       "      <th>4</th>\n",
       "      <td>17.895</td>\n",
       "      <td>73.403</td>\n",
       "      <td>0.89394</td>\n",
       "    </tr>\n",
       "  </tbody>\n",
       "</table>\n",
       "</div>"
      ],
      "text/plain": [
       "   Longitude  Latitude  Scaled Oc\n",
       "0     17.895    73.401    0.54040\n",
       "1     17.895    73.401    0.56061\n",
       "2     17.895    73.402    0.33838\n",
       "3     17.895    73.403    0.88384\n",
       "4     17.895    73.403    0.89394"
      ]
     },
     "execution_count": 5,
     "metadata": {},
     "output_type": "execute_result"
    }
   ],
   "source": [
    "Oscaled.head()"
   ]
  },
  {
   "cell_type": "code",
   "execution_count": 18,
   "id": "broke-bidding",
   "metadata": {},
   "outputs": [
    {
     "data": {
      "image/png": "[encoded data removed]",
      "text/plain": [
       "<Figure size 432x288 with 1 Axes>"
      ]
     },
     "metadata": {
      "needs_background": "light"
     },
     "output_type": "display_data"
    }
   ],
   "source": [
    "plt.hist(Oscaled['Scaled Oc'],bins = 80)\n",
    "plt.show()"
   ]
  },
  {
   "cell_type": "markdown",
   "id": "decimal-bahrain",
   "metadata": {},
   "source": [
    "## Phosphorous"
   ]
  },
  {
   "cell_type": "code",
   "execution_count": 7,
   "id": "unavailable-mayor",
   "metadata": {
    "scrolled": true
   },
   "outputs": [
    {
     "data": {
      "text/html": [
       "<div>\n",
       "<style scoped>\n",
       "    .dataframe tbody tr th:only-of-type {\n",
       "        vertical-align: middle;\n",
       "    }\n",
       "\n",
       "    .dataframe tbody tr th {\n",
       "        vertical-align: top;\n",
       "    }\n",
       "\n",
       "    .dataframe thead th {\n",
       "        text-align: right;\n",
       "    }\n",
       "</style>\n",
       "<table border=\"1\" class=\"dataframe\">\n",
       "  <thead>\n",
       "    <tr style=\"text-align: right;\">\n",
       "      <th></th>\n",
       "      <th>Longitude</th>\n",
       "      <th>Latitude</th>\n",
       "      <th>Scaled P</th>\n",
       "    </tr>\n",
       "  </thead>\n",
       "  <tbody>\n",
       "    <tr>\n",
       "      <th>0</th>\n",
       "      <td>17.895</td>\n",
       "      <td>73.401</td>\n",
       "      <td>0.063311</td>\n",
       "    </tr>\n",
       "    <tr>\n",
       "      <th>1</th>\n",
       "      <td>17.895</td>\n",
       "      <td>73.401</td>\n",
       "      <td>0.061832</td>\n",
       "    </tr>\n",
       "    <tr>\n",
       "      <th>2</th>\n",
       "      <td>17.895</td>\n",
       "      <td>73.402</td>\n",
       "      <td>0.060354</td>\n",
       "    </tr>\n",
       "    <tr>\n",
       "      <th>3</th>\n",
       "      <td>17.895</td>\n",
       "      <td>73.403</td>\n",
       "      <td>0.064789</td>\n",
       "    </tr>\n",
       "    <tr>\n",
       "      <th>4</th>\n",
       "      <td>17.895</td>\n",
       "      <td>73.403</td>\n",
       "      <td>0.058875</td>\n",
       "    </tr>\n",
       "  </tbody>\n",
       "</table>\n",
       "</div>"
      ],
      "text/plain": [
       "   Longitude  Latitude  Scaled P\n",
       "0     17.895    73.401  0.063311\n",
       "1     17.895    73.401  0.061832\n",
       "2     17.895    73.402  0.060354\n",
       "3     17.895    73.403  0.064789\n",
       "4     17.895    73.403  0.058875"
      ]
     },
     "execution_count": 7,
     "metadata": {},
     "output_type": "execute_result"
    }
   ],
   "source": [
    "Pscaled.head()"
   ]
  },
  {
   "cell_type": "code",
   "execution_count": null,
   "id": "numerous-boston",
   "metadata": {},
   "outputs": [],
   "source": []
  },
  {
   "cell_type": "code",
   "execution_count": 8,
   "id": "alleged-recycling",
   "metadata": {},
   "outputs": [
    {
     "data": {
      "text/html": [
       "<div>\n",
       "<style scoped>\n",
       "    .dataframe tbody tr th:only-of-type {\n",
       "        vertical-align: middle;\n",
       "    }\n",
       "\n",
       "    .dataframe tbody tr th {\n",
       "        vertical-align: top;\n",
       "    }\n",
       "\n",
       "    .dataframe thead th {\n",
       "        text-align: right;\n",
       "    }\n",
       "</style>\n",
       "<table border=\"1\" class=\"dataframe\">\n",
       "  <thead>\n",
       "    <tr style=\"text-align: right;\">\n",
       "      <th></th>\n",
       "      <th>Longitude</th>\n",
       "      <th>Latitude</th>\n",
       "      <th>Scaled N</th>\n",
       "    </tr>\n",
       "  </thead>\n",
       "  <tbody>\n",
       "    <tr>\n",
       "      <th>0</th>\n",
       "      <td>17.895</td>\n",
       "      <td>73.401</td>\n",
       "      <td>0.63157</td>\n",
       "    </tr>\n",
       "    <tr>\n",
       "      <th>1</th>\n",
       "      <td>17.895</td>\n",
       "      <td>73.401</td>\n",
       "      <td>0.65262</td>\n",
       "    </tr>\n",
       "    <tr>\n",
       "      <th>2</th>\n",
       "      <td>17.895</td>\n",
       "      <td>73.402</td>\n",
       "      <td>0.39998</td>\n",
       "    </tr>\n",
       "    <tr>\n",
       "      <th>3</th>\n",
       "      <td>17.895</td>\n",
       "      <td>73.404</td>\n",
       "      <td>0.82105</td>\n",
       "    </tr>\n",
       "    <tr>\n",
       "      <th>4</th>\n",
       "      <td>17.895</td>\n",
       "      <td>73.404</td>\n",
       "      <td>0.88421</td>\n",
       "    </tr>\n",
       "  </tbody>\n",
       "</table>\n",
       "</div>"
      ],
      "text/plain": [
       "   Longitude  Latitude  Scaled N\n",
       "0     17.895    73.401   0.63157\n",
       "1     17.895    73.401   0.65262\n",
       "2     17.895    73.402   0.39998\n",
       "3     17.895    73.404   0.82105\n",
       "4     17.895    73.404   0.88421"
      ]
     },
     "execution_count": 8,
     "metadata": {},
     "output_type": "execute_result"
    }
   ],
   "source": [
    "Nscaled.head()"
   ]
  },
  {
   "cell_type": "code",
   "execution_count": null,
   "id": "brief-northern",
   "metadata": {},
   "outputs": [],
   "source": []
  }
 ],
 "metadata": {
  "kernelspec": {
   "display_name": "Python 3",
   "language": "python",
   "name": "python3"
  },
  "language_info": {
   "codemirror_mode": {
    "name": "ipython",
    "version": 3
   },
   "file_extension": ".py",
   "mimetype": "text/x-python",
   "name": "python",
   "nbconvert_exporter": "python",
   "pygments_lexer": "ipython3",
   "version": "3.8.5"
  }
 },
 "nbformat": 4,
 "nbformat_minor": 5
}
