{
 "cells": [
  {
   "cell_type": "code",
   "execution_count": null,
   "id": "graduate-broadcasting",
   "metadata": {},
   "outputs": [],
   "source": [
    "# %%capture\n",
    "# !pip install utm\n",
    "# !pip install openpyxl"
   ]
  },
  {
   "cell_type": "code",
   "execution_count": 111,
   "id": "equipped-alias",
   "metadata": {},
   "outputs": [],
   "source": [
    "import numpy as np\n",
    "import pandas as pd\n",
    "import seaborn as sns\n",
    "from matplotlib import cm\n",
    "import torch\n",
    "import torch.nn as nn\n",
    "import torch.nn.functional as F\n",
    "from sklearn.gaussian_process.kernels import RBF\n",
    "from sklearn.model_selection import train_test_split\n",
    "from torch.utils.data import Dataset, DataLoader\n",
    "from sklearn.preprocessing import StandardScaler, MinMaxScaler\n",
    "from sklearn.gaussian_process import GaussianProcessRegressor\n",
    "import matplotlib.pyplot as plt\n",
    "import utm\n",
    "\n",
    "import warnings\n",
    "warnings.filterwarnings(\"ignore\")\n",
    "%load_ext autoreload\n",
    "%autoreload 2"
   ]
  },
  {
   "cell_type": "code",
   "execution_count": 72,
   "id": "official-growing",
   "metadata": {},
   "outputs": [
    {
     "data": {
      "text/html": [
       "<div>\n",
       "<style scoped>\n",
       "    .dataframe tbody tr th:only-of-type {\n",
       "        vertical-align: middle;\n",
       "    }\n",
       "\n",
       "    .dataframe tbody tr th {\n",
       "        vertical-align: top;\n",
       "    }\n",
       "\n",
       "    .dataframe thead th {\n",
       "        text-align: right;\n",
       "    }\n",
       "</style>\n",
       "<table border=\"1\" class=\"dataframe\">\n",
       "  <thead>\n",
       "    <tr style=\"text-align: right;\">\n",
       "      <th></th>\n",
       "      <th>lon</th>\n",
       "      <th>lat</th>\n",
       "      <th>OC</th>\n",
       "      <th>N</th>\n",
       "      <th>P</th>\n",
       "      <th>K</th>\n",
       "    </tr>\n",
       "  </thead>\n",
       "  <tbody>\n",
       "    <tr>\n",
       "      <th>0</th>\n",
       "      <td>73.401111</td>\n",
       "      <td>17.894722</td>\n",
       "      <td>1.08</td>\n",
       "      <td>756.0</td>\n",
       "      <td>9.43</td>\n",
       "      <td>834.37</td>\n",
       "    </tr>\n",
       "    <tr>\n",
       "      <th>1</th>\n",
       "      <td>73.401389</td>\n",
       "      <td>17.894722</td>\n",
       "      <td>1.12</td>\n",
       "      <td>781.2</td>\n",
       "      <td>9.21</td>\n",
       "      <td>265.10</td>\n",
       "    </tr>\n",
       "    <tr>\n",
       "      <th>2</th>\n",
       "      <td>73.402222</td>\n",
       "      <td>17.894722</td>\n",
       "      <td>0.68</td>\n",
       "      <td>478.8</td>\n",
       "      <td>8.99</td>\n",
       "      <td>318.96</td>\n",
       "    </tr>\n",
       "    <tr>\n",
       "      <th>3</th>\n",
       "      <td>73.403056</td>\n",
       "      <td>17.894722</td>\n",
       "      <td>1.76</td>\n",
       "      <td>1234.8</td>\n",
       "      <td>9.65</td>\n",
       "      <td>954.77</td>\n",
       "    </tr>\n",
       "    <tr>\n",
       "      <th>4</th>\n",
       "      <td>73.403333</td>\n",
       "      <td>17.894722</td>\n",
       "      <td>1.78</td>\n",
       "      <td>1247.4</td>\n",
       "      <td>8.77</td>\n",
       "      <td>371.77</td>\n",
       "    </tr>\n",
       "  </tbody>\n",
       "</table>\n",
       "</div>"
      ],
      "text/plain": [
       "         lon        lat    OC       N     P       K\n",
       "0  73.401111  17.894722  1.08   756.0  9.43  834.37\n",
       "1  73.401389  17.894722  1.12   781.2  9.21  265.10\n",
       "2  73.402222  17.894722  0.68   478.8  8.99  318.96\n",
       "3  73.403056  17.894722  1.76  1234.8  9.65  954.77\n",
       "4  73.403333  17.894722  1.78  1247.4  8.77  371.77"
      ]
     },
     "execution_count": 72,
     "metadata": {},
     "output_type": "execute_result"
    }
   ],
   "source": [
    "data = pd.read_excel(\"../Dataset/Maharashtra_Soil_Nutrients_Data.xlsx\")\n",
    "data.head()\n"
   ]
  },
  {
   "cell_type": "code",
   "execution_count": 73,
   "id": "incorporate-keeping",
   "metadata": {},
   "outputs": [],
   "source": [
    "def scaled_coord(x,y):\n",
    "    \"\"\"\n",
    "    parameters\n",
    "    ----------\n",
    "    x : numpy array, float64\n",
    "        list of longitude cordinates\n",
    "    y : numpy array, float64\n",
    "        list of latitude cordinates\n",
    "        \n",
    "    return\n",
    "    ------\n",
    "    scaled(0-1) x and y\n",
    "    \"\"\"\n",
    "    x = (x-x.min())/(x.max()-x.min())\n",
    "    y = (y-y.min())/(y.max()-y.min())\n",
    "    return x,y"
   ]
  },
  {
   "cell_type": "code",
   "execution_count": 74,
   "id": "contained-friday",
   "metadata": {},
   "outputs": [
    {
     "name": "stdout",
     "output_type": "stream",
     "text": [
      "Wall time: 14 ms\n"
     ]
    }
   ],
   "source": [
    "%%time\n",
    "\n",
    "val_col = ['OC','N','P','K']\n",
    "values = data[val_col]\n",
    "coordinates = data[['lon','lat']]\n",
    "#lat,lon to utm projection\n",
    "\n",
    "x,y,zone,ut = utm.from_latlon(coordinates['lat'].values,coordinates['lon'].values)\n",
    "\n",
    "lon,lat = y/1000-1979,x/1000-330 #in km\n",
    "\n",
    "# lon, lat = scaled_coord(lon,lat)\n",
    "# normalize values of OC, N, K, P\n",
    "\n",
    "#standardise lon and lat\n",
    "# lon = (lon-np.mean(lon))/np.std(lon)\n",
    "# lat = (lat-np.mean(lat))/np.std(lat)\n",
    "\n",
    "test_k = MinMaxScaler().fit_transform(values)\n",
    "values = test_k"
   ]
  },
  {
   "cell_type": "code",
   "execution_count": 75,
   "id": "about-aaron",
   "metadata": {},
   "outputs": [],
   "source": [
    "data['lon'] = lon\n",
    "data['lat'] = lat\n",
    "for i,col in enumerate(val_col):\n",
    "    data[col] = values[:,i]"
   ]
  },
  {
   "cell_type": "code",
   "execution_count": 76,
   "id": "headed-twist",
   "metadata": {
    "scrolled": true
   },
   "outputs": [
    {
     "data": {
      "text/html": [
       "<div>\n",
       "<style scoped>\n",
       "    .dataframe tbody tr th:only-of-type {\n",
       "        vertical-align: middle;\n",
       "    }\n",
       "\n",
       "    .dataframe tbody tr th {\n",
       "        vertical-align: top;\n",
       "    }\n",
       "\n",
       "    .dataframe thead th {\n",
       "        text-align: right;\n",
       "    }\n",
       "</style>\n",
       "<table border=\"1\" class=\"dataframe\">\n",
       "  <thead>\n",
       "    <tr style=\"text-align: right;\">\n",
       "      <th></th>\n",
       "      <th>lon</th>\n",
       "      <th>lat</th>\n",
       "      <th>OC</th>\n",
       "      <th>N</th>\n",
       "      <th>P</th>\n",
       "      <th>K</th>\n",
       "    </tr>\n",
       "  </thead>\n",
       "  <tbody>\n",
       "    <tr>\n",
       "      <th>0</th>\n",
       "      <td>0.264401</td>\n",
       "      <td>0.619321</td>\n",
       "      <td>0.011632</td>\n",
       "      <td>0.079661</td>\n",
       "      <td>0.001163</td>\n",
       "      <td>0.012262</td>\n",
       "    </tr>\n",
       "    <tr>\n",
       "      <th>1</th>\n",
       "      <td>0.264149</td>\n",
       "      <td>0.648754</td>\n",
       "      <td>0.012067</td>\n",
       "      <td>0.082316</td>\n",
       "      <td>0.001136</td>\n",
       "      <td>0.003893</td>\n",
       "    </tr>\n",
       "    <tr>\n",
       "      <th>2</th>\n",
       "      <td>0.263392</td>\n",
       "      <td>0.737053</td>\n",
       "      <td>0.007283</td>\n",
       "      <td>0.050450</td>\n",
       "      <td>0.001109</td>\n",
       "      <td>0.004684</td>\n",
       "    </tr>\n",
       "    <tr>\n",
       "      <th>3</th>\n",
       "      <td>0.262635</td>\n",
       "      <td>0.825353</td>\n",
       "      <td>0.019024</td>\n",
       "      <td>0.130115</td>\n",
       "      <td>0.001190</td>\n",
       "      <td>0.014032</td>\n",
       "    </tr>\n",
       "    <tr>\n",
       "      <th>4</th>\n",
       "      <td>0.262383</td>\n",
       "      <td>0.854785</td>\n",
       "      <td>0.019241</td>\n",
       "      <td>0.131443</td>\n",
       "      <td>0.001082</td>\n",
       "      <td>0.005461</td>\n",
       "    </tr>\n",
       "  </tbody>\n",
       "</table>\n",
       "</div>"
      ],
      "text/plain": [
       "        lon       lat        OC         N         P         K\n",
       "0  0.264401  0.619321  0.011632  0.079661  0.001163  0.012262\n",
       "1  0.264149  0.648754  0.012067  0.082316  0.001136  0.003893\n",
       "2  0.263392  0.737053  0.007283  0.050450  0.001109  0.004684\n",
       "3  0.262635  0.825353  0.019024  0.130115  0.001190  0.014032\n",
       "4  0.262383  0.854785  0.019241  0.131443  0.001082  0.005461"
      ]
     },
     "execution_count": 76,
     "metadata": {},
     "output_type": "execute_result"
    }
   ],
   "source": [
    "data.head()"
   ]
  },
  {
   "cell_type": "code",
   "execution_count": 77,
   "id": "billion-armor",
   "metadata": {
    "scrolled": true
   },
   "outputs": [],
   "source": [
    "#split dataset into train and test\n",
    "# split the dataset into train and test dataset\n",
    "ix = np.random.choice(data.shape[0],int(data.shape[0]*0.2),replace = False)\n",
    "data_train = data.iloc[[int(i) for i in range(data.shape[0]) if i not in ix]].reset_index(drop = True)\n",
    "data_test = data.iloc[ix].reset_index(drop = True)"
   ]
  },
  {
   "cell_type": "code",
   "execution_count": 78,
   "id": "assisted-burns",
   "metadata": {
    "scrolled": true
   },
   "outputs": [
    {
     "data": {
      "text/plain": [
       "((20837, 6), (5209, 6))"
      ]
     },
     "execution_count": 78,
     "metadata": {},
     "output_type": "execute_result"
    }
   ],
   "source": [
    "data_train.shape, data_test.shape"
   ]
  },
  {
   "cell_type": "code",
   "execution_count": 79,
   "id": "revolutionary-milwaukee",
   "metadata": {},
   "outputs": [
    {
     "data": {
      "text/html": [
       "<div>\n",
       "<style scoped>\n",
       "    .dataframe tbody tr th:only-of-type {\n",
       "        vertical-align: middle;\n",
       "    }\n",
       "\n",
       "    .dataframe tbody tr th {\n",
       "        vertical-align: top;\n",
       "    }\n",
       "\n",
       "    .dataframe thead th {\n",
       "        text-align: right;\n",
       "    }\n",
       "</style>\n",
       "<table border=\"1\" class=\"dataframe\">\n",
       "  <thead>\n",
       "    <tr style=\"text-align: right;\">\n",
       "      <th></th>\n",
       "      <th>lon</th>\n",
       "      <th>lat</th>\n",
       "      <th>OC</th>\n",
       "      <th>N</th>\n",
       "      <th>P</th>\n",
       "      <th>K</th>\n",
       "    </tr>\n",
       "  </thead>\n",
       "  <tbody>\n",
       "    <tr>\n",
       "      <th>0</th>\n",
       "      <td>0.264401</td>\n",
       "      <td>0.619321</td>\n",
       "      <td>0.011632</td>\n",
       "      <td>0.079661</td>\n",
       "      <td>0.001163</td>\n",
       "      <td>0.012262</td>\n",
       "    </tr>\n",
       "    <tr>\n",
       "      <th>1</th>\n",
       "      <td>0.264149</td>\n",
       "      <td>0.648754</td>\n",
       "      <td>0.012067</td>\n",
       "      <td>0.082316</td>\n",
       "      <td>0.001136</td>\n",
       "      <td>0.003893</td>\n",
       "    </tr>\n",
       "    <tr>\n",
       "      <th>2</th>\n",
       "      <td>0.263392</td>\n",
       "      <td>0.737053</td>\n",
       "      <td>0.007283</td>\n",
       "      <td>0.050450</td>\n",
       "      <td>0.001109</td>\n",
       "      <td>0.004684</td>\n",
       "    </tr>\n",
       "    <tr>\n",
       "      <th>3</th>\n",
       "      <td>0.262635</td>\n",
       "      <td>0.825353</td>\n",
       "      <td>0.019024</td>\n",
       "      <td>0.130115</td>\n",
       "      <td>0.001190</td>\n",
       "      <td>0.014032</td>\n",
       "    </tr>\n",
       "    <tr>\n",
       "      <th>4</th>\n",
       "      <td>0.261879</td>\n",
       "      <td>0.913651</td>\n",
       "      <td>0.015110</td>\n",
       "      <td>0.103560</td>\n",
       "      <td>0.001109</td>\n",
       "      <td>0.010119</td>\n",
       "    </tr>\n",
       "  </tbody>\n",
       "</table>\n",
       "</div>"
      ],
      "text/plain": [
       "        lon       lat        OC         N         P         K\n",
       "0  0.264401  0.619321  0.011632  0.079661  0.001163  0.012262\n",
       "1  0.264149  0.648754  0.012067  0.082316  0.001136  0.003893\n",
       "2  0.263392  0.737053  0.007283  0.050450  0.001109  0.004684\n",
       "3  0.262635  0.825353  0.019024  0.130115  0.001190  0.014032\n",
       "4  0.261879  0.913651  0.015110  0.103560  0.001109  0.010119"
      ]
     },
     "execution_count": 79,
     "metadata": {},
     "output_type": "execute_result"
    }
   ],
   "source": [
    "data_train.head()"
   ]
  },
  {
   "cell_type": "code",
   "execution_count": 80,
   "id": "minute-consultation",
   "metadata": {},
   "outputs": [
    {
     "data": {
      "text/html": [
       "<div>\n",
       "<style scoped>\n",
       "    .dataframe tbody tr th:only-of-type {\n",
       "        vertical-align: middle;\n",
       "    }\n",
       "\n",
       "    .dataframe tbody tr th {\n",
       "        vertical-align: top;\n",
       "    }\n",
       "\n",
       "    .dataframe thead th {\n",
       "        text-align: right;\n",
       "    }\n",
       "</style>\n",
       "<table border=\"1\" class=\"dataframe\">\n",
       "  <thead>\n",
       "    <tr style=\"text-align: right;\">\n",
       "      <th></th>\n",
       "      <th>lon</th>\n",
       "      <th>lat</th>\n",
       "      <th>OC</th>\n",
       "      <th>N</th>\n",
       "      <th>P</th>\n",
       "      <th>K</th>\n",
       "    </tr>\n",
       "  </thead>\n",
       "  <tbody>\n",
       "    <tr>\n",
       "      <th>0</th>\n",
       "      <td>45.139400</td>\n",
       "      <td>102.804891</td>\n",
       "      <td>0.003913</td>\n",
       "      <td>0.009374</td>\n",
       "      <td>0.000769</td>\n",
       "      <td>0.002641</td>\n",
       "    </tr>\n",
       "    <tr>\n",
       "      <th>1</th>\n",
       "      <td>154.233201</td>\n",
       "      <td>287.505324</td>\n",
       "      <td>0.007066</td>\n",
       "      <td>0.048680</td>\n",
       "      <td>0.002030</td>\n",
       "      <td>0.003135</td>\n",
       "    </tr>\n",
       "    <tr>\n",
       "      <th>2</th>\n",
       "      <td>67.591811</td>\n",
       "      <td>190.553800</td>\n",
       "      <td>0.007610</td>\n",
       "      <td>0.017383</td>\n",
       "      <td>0.000791</td>\n",
       "      <td>0.005258</td>\n",
       "    </tr>\n",
       "    <tr>\n",
       "      <th>3</th>\n",
       "      <td>175.736419</td>\n",
       "      <td>201.890203</td>\n",
       "      <td>0.004783</td>\n",
       "      <td>0.033189</td>\n",
       "      <td>0.002537</td>\n",
       "      <td>0.001788</td>\n",
       "    </tr>\n",
       "    <tr>\n",
       "      <th>4</th>\n",
       "      <td>176.534118</td>\n",
       "      <td>201.043467</td>\n",
       "      <td>0.004131</td>\n",
       "      <td>0.028764</td>\n",
       "      <td>0.002329</td>\n",
       "      <td>0.001573</td>\n",
       "    </tr>\n",
       "  </tbody>\n",
       "</table>\n",
       "</div>"
      ],
      "text/plain": [
       "          lon         lat        OC         N         P         K\n",
       "0   45.139400  102.804891  0.003913  0.009374  0.000769  0.002641\n",
       "1  154.233201  287.505324  0.007066  0.048680  0.002030  0.003135\n",
       "2   67.591811  190.553800  0.007610  0.017383  0.000791  0.005258\n",
       "3  175.736419  201.890203  0.004783  0.033189  0.002537  0.001788\n",
       "4  176.534118  201.043467  0.004131  0.028764  0.002329  0.001573"
      ]
     },
     "execution_count": 80,
     "metadata": {},
     "output_type": "execute_result"
    }
   ],
   "source": [
    "data_test.head()"
   ]
  },
  {
   "cell_type": "code",
   "execution_count": 81,
   "id": "bronze-carroll",
   "metadata": {},
   "outputs": [
    {
     "data": {
      "text/plain": [
       "(5209, 6)"
      ]
     },
     "execution_count": 81,
     "metadata": {},
     "output_type": "execute_result"
    }
   ],
   "source": [
    "data_test.shape"
   ]
  },
  {
   "cell_type": "markdown",
   "id": "double-negotiation",
   "metadata": {},
   "source": [
    "## Data loading in torch.Dataloader"
   ]
  },
  {
   "cell_type": "code",
   "execution_count": 82,
   "id": "sacred-merchandise",
   "metadata": {},
   "outputs": [],
   "source": [
    "class NutrientsDataset(Dataset):\n",
    "    def __init__(self, df, num_context=40, num_extra_target=10):\n",
    "        self.df = df\n",
    "        self.num_context = num_context\n",
    "        self.num_extra_target = num_extra_target\n",
    "\n",
    "    def get_rows(self, i):\n",
    "        rows = self.df.iloc[i : i + (self.num_context + self.num_extra_target)].copy()\n",
    "        x = rows.iloc[:,:2].copy()\n",
    "        y = rows[['N']].copy()\n",
    "        return x, y\n",
    "\n",
    "\n",
    "    def __getitem__(self, i):\n",
    "        x, y = self.get_rows(i)\n",
    "        return x.values, y.values\n",
    "        \n",
    "    def __len__(self):\n",
    "        return len(self.df) - (self.num_context + self.num_extra_target)"
   ]
  },
  {
   "cell_type": "code",
   "execution_count": 83,
   "id": "associate-morning",
   "metadata": {},
   "outputs": [],
   "source": [
    "def npsample_batch(x, y, size=None, sort=False):\n",
    "    \n",
    "    \"\"\"Sample from numpy arrays along 2nd dim.\"\"\"\n",
    "    inds = np.random.choice(range(x.shape[1]), size=size, replace=False)\n",
    "    return x[:, inds], y[:, inds]\n",
    "\n",
    "def collate_fns(max_num_context, max_num_extra_target, sample, sort=True, context_in_target=True):\n",
    "    def collate_fn(batch, sample=sample):\n",
    "        # Collate\n",
    "        x = np.stack([x for x, y in batch], 0)\n",
    "        y = np.stack([y for x, y in batch], 0)\n",
    "\n",
    "        # Sample a subset of random size\n",
    "        num_context = np.random.randint(4, max_num_context)\n",
    "        num_extra_target = np.random.randint(4, max_num_extra_target)\n",
    "\n",
    "        x = torch.from_numpy(x).float()\n",
    "        y = torch.from_numpy(y).float()\n",
    "\n",
    "        \n",
    "        x_context = x[:, :max_num_context]\n",
    "        y_context = y[:, :max_num_context]\n",
    "    \n",
    "        x_target_extra = x[:, max_num_context:]\n",
    "        y_target_extra = y[:, max_num_context:]\n",
    "        \n",
    "        if sample:\n",
    "\n",
    "            x_context, y_context = npsample_batch(\n",
    "                x_context, y_context, size=num_context\n",
    "            )\n",
    "\n",
    "            x_target_extra, y_target_extra = npsample_batch(\n",
    "                x_target_extra, y_target_extra, size=num_extra_target, sort=sort\n",
    "            )\n",
    "\n",
    "        # do we want to compute loss over context+target_extra, or focus in on only target_extra?\n",
    "        if context_in_target:\n",
    "            x_target = torch.cat([x_context, x_target_extra], 1)\n",
    "            y_target = torch.cat([y_context, y_target_extra], 1)\n",
    "        else:\n",
    "            x_target = x_target_extra\n",
    "            y_target = y_target_extra\n",
    "\n",
    "        \n",
    "        return x_context, y_context, x_target, y_target\n",
    "\n",
    "    return collate_fn"
   ]
  },
  {
   "cell_type": "markdown",
   "id": "paperback-sampling",
   "metadata": {},
   "source": [
    " ## NP Model"
   ]
  },
  {
   "cell_type": "code",
   "execution_count": 84,
   "id": "tutorial-process",
   "metadata": {},
   "outputs": [],
   "source": [
    "class baseNPBlock(nn.Module):\n",
    "    \"\"\"relu non-linearities for NP block\"\"\"\n",
    "    def __init__(self, inp_size,op_size, norm, bias = False, p = 0):\n",
    "        \"\"\"init function for linear2d class\n",
    "        \n",
    "        parameters\n",
    "        ----------\n",
    "        inp_size : int\n",
    "                input dimension for the Encoder part (d_in)\n",
    "        op_size : int\n",
    "                output dimension for Encoder part(d_out)\n",
    "        norm : str\n",
    "                normalization to be applied on linear output\n",
    "                pass norm == 'batch' to apply batch normalization\n",
    "                else dropout normalization is applied\n",
    "        bias : bool\n",
    "                if True, bias is included for linear layer else discarded\n",
    "        p : float\n",
    "                probality to be considered while applying Dropout regularization\n",
    "                \n",
    "        \"\"\"\n",
    "        super().__init__()\n",
    "        self.norm = norm\n",
    "        self.linear = nn.Linear(inp_size,op_size,bias = bias)\n",
    "        self.relu  = nn.ReLU()\n",
    "        self.batch_norm = nn.BatchNorm2d(op_size)\n",
    "        self.dropout = nn.Dropout2d(p)\n",
    "        \n",
    "    def forward(self,x):\n",
    "        x = self.linear(x)\n",
    "        x = self.batch_norm(x.permute(0,2,1)[:,:,:,None]) if self.norm == 'batch' else self.dropout(x.permute(0,2,1)[:,:,:,None])\n",
    "        \n",
    "        x = self.relu(x[:,:,:,0].permute(0,2,1))\n",
    "        return x"
   ]
  },
  {
   "cell_type": "code",
   "execution_count": 85,
   "id": "complicated-double",
   "metadata": {},
   "outputs": [],
   "source": [
    "class batch_MLP(nn.Module):\n",
    "    \"\"\" Batch MLP layer for NP-Encoder\"\"\"\n",
    "    def __init__(self, in_size, op_size, num_layers, norm, p = 0):\n",
    "        \"\"\"init function for linear2d class\n",
    "        \n",
    "        parameters\n",
    "        ----------\n",
    "        inp_size : int\n",
    "                input dimension for the Encoder part (d_in)\n",
    "        op_size : int\n",
    "                output dimension for Encoder part(d_out)\n",
    "        norm : str\n",
    "                normalization to be applied on linear output\n",
    "                pass norm == 'batch' to apply batch normalization\n",
    "                else dropout normalization is applied\n",
    "                \n",
    "        return torch.tensor of size (B,num_context_points,d_out)\n",
    "        \"\"\"\n",
    "        super().__init__()\n",
    "        self.in_size = in_size\n",
    "        self.op_size = op_size\n",
    "        self.num_layers = num_layers\n",
    "        self.norm  = norm\n",
    "        \n",
    "        self.first_layer = baseNPBlock(in_size, op_size, self.norm, False,p)\n",
    "        self.encoder = nn.Sequential(*[baseNPBlock(op_size, op_size, self.norm, False, p) for layer in range(self.num_layers-2)])\n",
    "        self.last_layer = nn.ReLU()\n",
    "        \n",
    "    def forward(self, x):\n",
    "        x = self.first_layer(x)\n",
    "        x = self.encoder(x)\n",
    "        x = self.last_layer(x)\n",
    "        \n",
    "        return x"
   ]
  },
  {
   "cell_type": "code",
   "execution_count": 86,
   "id": "anticipated-heath",
   "metadata": {},
   "outputs": [],
   "source": [
    "class LinearAttention(nn.Module):\n",
    "    def __init__(self,in_ch, out_ch):\n",
    "        super().__init__()\n",
    "        self.linear = nn.Linear(in_ch, out_ch, bias = False)\n",
    "        torch.nn.init.normal_(self.linear.weight,std = in_ch**0.5) #initilize weight matrix\n",
    "        \n",
    "    def forward(self,x):\n",
    "        return self.linear(x)\n",
    "    \n",
    "    \n",
    "class AttentionModule(nn.Module):\n",
    "    def __init__(\n",
    "        self,\n",
    "        hidden_dim, \n",
    "        attn_type , \n",
    "        attn_layers,\n",
    "        x_dim, \n",
    "        rep='mlp',\n",
    "        n_multiheads = 8,\n",
    "        norm = 'dropout',\n",
    "        p = 0):\n",
    "        \n",
    "        super().__init__()\n",
    "        self.rep = rep\n",
    "\n",
    "        # rep determines whether raw input given to the model would be used as key and query or\n",
    "        # it's output through MLP. \n",
    "        if self.rep =='mlp':\n",
    "            \n",
    "            #Both Key and Value needs to have same dimension\n",
    "            self.batch_mlpk = batch_MLP(x_dim, hidden_dim, attn_layers, norm ,p)\n",
    "            self.batch_mlpq = batch_MLP(x_dim, hidden_dim, attn_layers, norm, p)\n",
    "        \n",
    "        \n",
    "        if attn_type == 'uniform':\n",
    "            self.attn_func = self.uniform_attn\n",
    "        if attn_type=='laplace':\n",
    "            self.attn_func = self.laplace_attn\n",
    "        if attn_type == 'dot':\n",
    "            self.attn_func = self.dot_attn\n",
    "        elif attn_type == 'multihead':\n",
    "            self.w_k = nn.ModuleList([LinearAttention(hidden_dim,hidden_dim) for head in range(n_multiheads)])\n",
    "            self.w_v = nn.ModuleList([LinearAttention(hidden_dim,hidden_dim) for head in range(n_multiheads)])\n",
    "            self.w_q = nn.ModuleList([LinearAttention(hidden_dim,hidden_dim) for head in range(n_multiheads)])\n",
    "            \n",
    "            self.w = LinearAttention(hidden_dim*n_multiheads,hidden_dim)\n",
    "            self.attn_func = self.multihead_attn\n",
    "            self.num_heads = n_multiheads\n",
    "            \n",
    "            \n",
    "            \n",
    "    def forward(self, k, q, v):\n",
    "        if self.rep =='mlp':\n",
    "            k = self.batch_mlpk(k) #(B, n, H)\n",
    "            q = self.batch_mlpq(q) #(B, m, H)\n",
    "        \n",
    "        rep = self.attn_func(k,q,v)\n",
    "        \n",
    "        return rep\n",
    "    \n",
    "    \n",
    "    def uniform_attn(self, k, q, v):\n",
    "        num_points = q.shape[1]\n",
    "        rep = torch.mean(v, axis = 1, keepdim = True)\n",
    "        rep = rep.repeat(1,num_points,1)\n",
    "        \n",
    "        return rep\n",
    "    \n",
    "    def laplace_attn(self, k, q, v, scale = 0.5):\n",
    "        k = k.unsqueeze(1)\n",
    "        v = v.unsqueeze(2)\n",
    "        \n",
    "        w = torch.abs((k-v)*scale)\n",
    "        w = w.sum(dim = -1)\n",
    "        weight = torch.softmax(w, dim = -1)\n",
    "        \n",
    "        #batch matrix multiplication (einstein summation convention for tensor)\n",
    "        rep = torch.einsum(\"bik, bkj -> bij\",weight, v)\n",
    "        \n",
    "        return rep\n",
    "    \n",
    "    \n",
    "    def dot_product_attn(self, k, q, v):\n",
    "#         print(\"k =\",k.shape)\n",
    "#         print(\"q =\",q.shape)\n",
    "#         print(\"v =\",v.shape)    \n",
    "        β = q.shape[-1]**0.5\n",
    "        w_unnorm = torch.einsum('bjk,bik->bij', k, q)/β\n",
    "#         print(\"w_unnorm =\",w_unnorm.shape)\n",
    "        \n",
    "        weight = torch.softmax(w_unnorm, dim = -1)\n",
    "        rep = torch.einsum(\"bik, bkj -> bij\",weight, v)\n",
    "#         print(\"rep =\",rep.shape)\n",
    "        return rep\n",
    "    \n",
    "    def multihead_attn(self, k , q, v):\n",
    "        outs = []\n",
    "        \n",
    "        for i in range(self.num_heads):\n",
    "            k = self.w_k[i](k) #(B, n, H)\n",
    "#             print(\"k =\",k.shape)\n",
    "            q = self.w_q[i](q) #(B, m, H)\n",
    "#             print(\"q =\",q.shape)\n",
    "            v = self.w_v[i](v) #(B, n, H)\n",
    "#             print(\"v =\",v.shape)\n",
    "            out = self.dot_product_attn(k, q, v)\n",
    "            outs.append(out)\n",
    "            \n",
    "        outs = torch.stack(outs, dim = -1) #(B, m, H, n_heads)\n",
    "#         print(\"outs dim =\", outs.shape)\n",
    "        outs = outs.view(outs.shape[0], outs.shape[1], -1) #(B, m, n_heads*H)\n",
    "#         print(\"outs shape =\",outs.shape)\n",
    "        rep = self.w(outs) #(B, m, H)\n",
    "        \n",
    "        return rep\n",
    "    \n",
    "    "
   ]
  },
  {
   "cell_type": "code",
   "execution_count": 87,
   "id": "important-toyota",
   "metadata": {},
   "outputs": [],
   "source": [
    "# AttentionModule?"
   ]
  },
  {
   "cell_type": "code",
   "execution_count": 88,
   "id": "contained-possession",
   "metadata": {},
   "outputs": [],
   "source": [
    "class DeterministicEncoder(nn.Module):\n",
    "    def __init__(\n",
    "                self,\n",
    "                in_dim,\n",
    "                x_dim,\n",
    "                norm = 'dropout',\n",
    "                hidden_dim = 32,\n",
    "                encoder_layer = 2,\n",
    "                self_attn_type ='dot',\n",
    "                cross_attn_type ='dot',\n",
    "                p_encoder = 0,\n",
    "                p_attention = 0,\n",
    "                attn_layers = 2,\n",
    "                use_self_attn = False\n",
    "                ):\n",
    "        super().__init__()\n",
    "        \n",
    "        self.use_self_attn = use_self_attn\n",
    "        \n",
    "        self.encoder = batch_MLP(in_dim, hidden_dim, encoder_layer,norm, p_encoder)\n",
    "        \n",
    "        if self.use_self_attn:\n",
    "            self.self_attn = AttentionModule(hidden_dim, self_attn_type, attn_layers,x_dim, rep = 'mlp',norm = norm, p = p_attention)\n",
    "            \n",
    "        self.cross_attn = AttentionModule(hidden_dim, cross_attn_type, attn_layers, x_dim)\n",
    "        \n",
    "    \n",
    "    def forward(self, context_x, context_y, target_x):\n",
    "        #concatenate context_x, context_y along the last dim.\n",
    "        det_enc_in = torch.cat([context_x, context_y], dim = -1)\n",
    "        \n",
    "        det_encoded = self.encoder(det_enc_in) #(B, n, hd)\n",
    "        \n",
    "        if self.use_self_attn:\n",
    "            det_encoded = self.self_attn(det_encoded, det_encoded, det_encoded)\n",
    "            \n",
    "        h = self.cross_attn(context_x, target_x, det_encoded)\n",
    "        \n",
    "        return h\n",
    "        \n",
    "        \n",
    "    \n",
    "        \n",
    "        "
   ]
  },
  {
   "cell_type": "code",
   "execution_count": 89,
   "id": "unlikely-section",
   "metadata": {},
   "outputs": [],
   "source": [
    "class LatentEncoder(nn.Module):\n",
    "    def __init__(self,\n",
    "                in_dim,\n",
    "                hidden_dim = 32,\n",
    "                latent_dim = 32,\n",
    "                self_attn_type = 'dot',\n",
    "                encoder_layer = 3,\n",
    "                min_std = 0.01,\n",
    "                norm = 'dropout',\n",
    "                p_encoder = 0,\n",
    "                p_attn = 0,\n",
    "                use_self_attn = False,\n",
    "                attn_layers = 2,\n",
    "                ):\n",
    "        \n",
    "        super().__init__()\n",
    "        \n",
    "        self._use_attn = use_self_attn\n",
    "        \n",
    "        self.encoder = batch_MLP(in_dim, hidden_dim, encoder_layer,norm, p_encoder)\n",
    "        \n",
    "        if self._use_attn:\n",
    "            self.self_attn = AttentionModule(hidden_dim, self_attn_type, attn_layers,x_dim, rep = 'identity',norm = norm, p = p_attention)\n",
    "        \n",
    "        self.secondlast_layer = nn.Linear(hidden_dim, hidden_dim)\n",
    "        self.mean = nn.Linear(hidden_dim, latent_dim)\n",
    "        self.l_sigma = nn.Linear(hidden_dim, latent_dim) \n",
    "        self.min_std = min_std\n",
    "#         self.use_lvar = use_lvar\n",
    "        self.use_attn = use_self_attn\n",
    "        \n",
    "        \n",
    "        \n",
    "    def forward(self,x,y):\n",
    "        encoder_inp = torch.cat([x,y], dim = -1) \n",
    "        \n",
    "        encoded_op = self.encoder(encoder_inp)#(B, n, hd)\n",
    "#         print(\"encoder_op shape = \",encoded_op.shape)\n",
    "        if self.use_attn:\n",
    "            encoded_op = self.self_attn(encoded_op, encoded_op, encoded_op) #(B, n, hd)\n",
    "            \n",
    "        \n",
    "        mean_val = torch.mean(encoded_op, dim = 1) #mean aggregation (B, hd)\n",
    "        \n",
    "        #further MLP layer that maps parameters to gaussian latent\n",
    "        mean_repr = torch.relu(self.secondlast_layer(mean_val)) #(B, hd)\n",
    "        \n",
    "        μ = self.mean(mean_repr) # (B, ld)\n",
    "#         print(\"mean = \", μ.shape)\n",
    "        log_scale = self.l_sigma(mean_repr) #(B, ld)\n",
    "        \n",
    "        #to avoid mode collapse\n",
    "        σ = self.min_std + (1-self.min_std)*torch.sigmoid(log_scale*0.5) #(b, ld)\n",
    "#         print(σ)\n",
    "        dist = torch.distributions.Normal(μ, σ)\n",
    "        \n",
    "        return dist\n",
    "        \n",
    "        \n",
    "            "
   ]
  },
  {
   "cell_type": "code",
   "execution_count": 90,
   "id": "fluid-probe",
   "metadata": {},
   "outputs": [],
   "source": [
    "class Decoder(nn.Module):\n",
    "    def __init__(self,\n",
    "                 x_dim,\n",
    "                 y_dim,\n",
    "                 hidden_dim = 32,\n",
    "                 latent_dim = 32,\n",
    "                 n_decoder_layer = 3,\n",
    "                 use_deterministic_path = True,\n",
    "                 min_std = 0.01,\n",
    "                 norm = 'dropout',\n",
    "                 dropout_p = 0,\n",
    "                ):\n",
    "        super().__init__()\n",
    "        \n",
    "        self.norm = norm\n",
    "        self.target_transform = nn.Linear(x_dim, hidden_dim)\n",
    "        \n",
    "        if use_deterministic_path:\n",
    "            hidden_dim_2 = 2 * hidden_dim + latent_dim\n",
    "        else:\n",
    "            hidden_dim_2 = hidden_dim + latent_dim\n",
    "            \n",
    "        self.decoder = batch_MLP(hidden_dim_2, hidden_dim_2, n_decoder_layer, norm, dropout_p)\n",
    "        \n",
    "        self.mean = nn.Linear(hidden_dim_2, y_dim)\n",
    "        self.std = nn.Linear(hidden_dim_2, y_dim)\n",
    "        self.deterministic_path = use_deterministic_path\n",
    "        self.min_std = min_std\n",
    "        \n",
    "        \n",
    "    def forward(self, r, z, t_x):\n",
    "        x = self.target_transform(t_x)\n",
    "        \n",
    "        if self.deterministic_path:\n",
    "            z = torch.cat([r,z], dim = -1)\n",
    "#             print(\"z.shape =\", z.shape)\n",
    "        r = torch.cat([z,x], dim = -1)\n",
    "        \n",
    "        r = self.decoder(r)\n",
    "        \n",
    "        mean = self.mean(r)\n",
    "        log_sigma = self.std(r)\n",
    "        \n",
    "        #clamp sigmad\n",
    "        sigma = self.min_std + (1 - self.min_std) * F.softplus(log_sigma)\n",
    "        \n",
    "        dist = torch.distributions.Normal(mean,sigma)\n",
    "        \n",
    "        return dist"
   ]
  },
  {
   "cell_type": "code",
   "execution_count": null,
   "id": "urban-zealand",
   "metadata": {},
   "outputs": [],
   "source": []
  },
  {
   "cell_type": "code",
   "execution_count": 91,
   "id": "artificial-sucking",
   "metadata": {},
   "outputs": [],
   "source": [
    "class LatentModel(nn.Module):\n",
    "    def __init__(self,\n",
    "               x_dim,\n",
    "               y_dim,\n",
    "               hidden_dim = 32,\n",
    "               latent_dim = 32,\n",
    "               latent_self_attn_type = 'multihead',\n",
    "                det_self_attn_type = 'multihead',\n",
    "                det_cross_attn_type = 'multihead',\n",
    "               n_lat_enc_layer = 2,\n",
    "               n_det_enc_layer = 2,\n",
    "               n_decoder_layer = 2,\n",
    "               use_deterministic_enc = False,\n",
    "               min_std = 0.01,\n",
    "               p_drop = 0,\n",
    "               norm = 'dropout',\n",
    "               p_attn_drop = 0,\n",
    "               attn_layers = 2,\n",
    "               use_self_attn = False,\n",
    "               context_in_target = True\n",
    "                ):\n",
    "        \n",
    "        super().__init__()\n",
    "        self.laten_encoder = LatentEncoder(x_dim+y_dim,\n",
    "                                           hidden_dim=hidden_dim,\n",
    "                                           latent_dim=latent_dim,\n",
    "                                           self_attn_type=latent_self_attn_type,\n",
    "                                           encoder_layer=n_lat_enc_layer,\n",
    "                                           min_std=min_std,\n",
    "                                           norm = norm,\n",
    "                                           p_encoder=p_drop,\n",
    "                                           p_attn=p_attn_drop,\n",
    "                                           use_self_attn=use_self_attn,\n",
    "                                           attn_layers=attn_layers \n",
    "                                          )\n",
    "        self.deterministic_encoder = DeterministicEncoder(x_dim+y_dim,\n",
    "                                                          x_dim,\n",
    "                                                          norm = norm,\n",
    "                                                          hidden_dim=hidden_dim,\n",
    "                                                          encoder_layer=n_det_enc_layer,\n",
    "                                                          self_attn_type=det_self_attn_type,\n",
    "                                                          cross_attn_type=det_cross_attn_type,\n",
    "                                                          p_encoder=p_drop,\n",
    "                                                          p_attention=p_attn_drop,\n",
    "                                                          attn_layers=attn_layers,\n",
    "                                                          use_self_attn=use_self_attn\n",
    "                                                         )\n",
    "        self.decoder = Decoder(x_dim,\n",
    "                              y_dim,\n",
    "                              hidden_dim  = hidden_dim,\n",
    "                              latent_dim=latent_dim,\n",
    "                              n_decoder_layer=n_decoder_layer,\n",
    "                              use_deterministic_path=use_deterministic_enc,\n",
    "                              min_std=min_std,\n",
    "                              norm=norm,\n",
    "                              dropout_p=p_drop\n",
    "                              )\n",
    "        self.use_deterministic_enc = use_deterministic_enc\n",
    "        self.context_in_target = context_in_target\n",
    "        \n",
    "        \n",
    "    def forward(self, c_x, c_y, t_x, t_y = None, training = False):\n",
    "        dist_prior = self.laten_encoder(c_x, c_y)\n",
    "\n",
    "        if t_y is not None:\n",
    "            dist_posterior = self.laten_encoder(t_x, t_y)\n",
    "            z = dist_posterior.loc\n",
    "        else:\n",
    "            z = dist_prior.loc\n",
    "            \n",
    "        n_target = t_x.shape[1]\n",
    "        z = z.unsqueeze(1).repeat(1, n_target,1) #(B, n_target, L)\n",
    "        \n",
    "        if self.use_deterministic_enc:\n",
    "            r = self.deterministic_encoder(c_x, c_y, t_x) #(B, n_target=m, H)\n",
    "#             print(r.shape)\n",
    "        else:\n",
    "            r = None\n",
    "            \n",
    "        dist = self.decoder(r, z, t_x)\n",
    "        \n",
    "        #at test time, target y is not Known so we return None\n",
    "        if t_y is not None:\n",
    "            log_p = dist.log_prob(t_y).mean(-1)\n",
    "            kl_loss = torch.distributions.kl_divergence(dist_posterior, dist_prior).mean(-1)\n",
    "            kl_loss = kl_loss[:,None].expand(log_p.shape)\n",
    "            loss = (kl_loss-log_p).mean()\n",
    "            mse_loss = F.mse_loss(dist.loc, t_y, reduction = 'none')[:,:c_x.size(1)].mean()\n",
    "        else:\n",
    "            kl_loss = None\n",
    "            log_p = None\n",
    "            mse_loss = None\n",
    "            loss = None\n",
    "            \n",
    "        y_pred = dist.rsample() if self.training else dist.loc\n",
    "            \n",
    "        return y_pred,  dict(loss = loss, loss_p = log_p, loss_kl = kl_loss, loss_mse = mse_loss), dist\n",
    "\n"
   ]
  },
  {
   "cell_type": "code",
   "execution_count": null,
   "id": "seeing-joseph",
   "metadata": {},
   "outputs": [],
   "source": []
  },
  {
   "cell_type": "code",
   "execution_count": 114,
   "id": "cleared-germany",
   "metadata": {},
   "outputs": [],
   "source": [
    "#train data loader\n",
    "hparamas = dict(num_context = 15,\n",
    "               num_extra_target = 16,\n",
    "               batch_size = 16,\n",
    "               context_in_target = False)\n",
    "train_df = NutrientsDataset(data_train,hparamas['num_context'],hparamas['num_extra_target'])\n",
    "\n",
    "train_loader = DataLoader(train_df,\n",
    "                          batch_size=hparamas['batch_size'],\n",
    "                         shuffle = True,\n",
    "                         collate_fn=collate_fns(\n",
    "                             hparamas['num_context'],hparamas['num_extra_target'], True,hparamas['context_in_target']))"
   ]
  },
  {
   "cell_type": "code",
   "execution_count": 117,
   "id": "threatened-intention",
   "metadata": {
    "scrolled": true
   },
   "outputs": [],
   "source": [
    "#eval loss\n",
    "def test(do_eval=True):\n",
    "    \"\"\"Run model on test/val data\"\"\"\n",
    "    if do_eval:\n",
    "        Regressor.eval()\n",
    "    with torch.no_grad():\n",
    "        target_x, target_y = data_test.iloc[:,:2], data_test[['N']]\n",
    "        context_x, context_y = data_train.iloc[:,:2], data_train[['N']]\n",
    "\n",
    "        context_x = torch.from_numpy(context_x.values).float()[None, :]\n",
    "        context_y = torch.from_numpy(context_y.values).float()[None, :]\n",
    "        target_x = torch.from_numpy(target_x.values).float()[None, :]\n",
    "        target_y = torch.from_numpy(target_y.values).float()[None, :]\n",
    "#         print(context_x.shape, context_y.shape, target_x.shape, target_y.shape)\n",
    "        y_pred, losses, extra = Regressor.forward(context_x, context_y, target_x, target_y, training = False)\n",
    "#         print(y_pred.shape)\n",
    "    yr=(target_y-y_pred)[0].detach().cpu().numpy()\n",
    "#     print(yr)\n",
    "    return yr, y_pred, losses, extra "
   ]
  },
  {
   "cell_type": "code",
   "execution_count": 118,
   "id": "alive-subsection",
   "metadata": {},
   "outputs": [],
   "source": [
    "# test()[0]"
   ]
  },
  {
   "cell_type": "code",
   "execution_count": 119,
   "id": "motivated-browser",
   "metadata": {},
   "outputs": [],
   "source": [
    "Regressor = LatentModel(2,1,\n",
    "                       p_drop = 0,\n",
    "                        hidden_dim = 64,\n",
    "                        latent_dim = 32,\n",
    "                       n_decoder_layer = 3,\n",
    "                       norm = 'batch',\n",
    "                       context_in_target=False,\n",
    "                       )"
   ]
  },
  {
   "cell_type": "code",
   "execution_count": 120,
   "id": "dangerous-rotation",
   "metadata": {},
   "outputs": [],
   "source": [
    "opt = torch.optim.Adam(Regressor.parameters(), lr=1e-4, weight_decay=1e-3)"
   ]
  },
  {
   "cell_type": "code",
   "execution_count": 121,
   "id": "iraqi-married",
   "metadata": {
    "scrolled": false
   },
   "outputs": [
    {
     "data": {
      "application/vnd.jupyter.widget-view+json": {
       "model_id": "7cd4ace1198649aa82123586678f1524",
       "version_major": 2,
       "version_minor": 0
      },
      "text/plain": [
       "  0%|          | 0/1301 [00:00<?, ?it/s]"
      ]
     },
     "metadata": {},
     "output_type": "display_data"
    },
    {
     "name": "stdout",
     "output_type": "stream",
     "text": [
      "0\n",
      "ELBO train_loss -1.219655876718304\n",
      "mse train_loss 0.00348876131620014\n",
      "ELBO val_loss -2.2232625\n",
      "mse val_loss 0.0007797838\n",
      "mae val_loss 0.016311707\n",
      "-----------------------------------------------------------------------\n"
     ]
    },
    {
     "data": {
      "application/vnd.jupyter.widget-view+json": {
       "model_id": "2dfe92d91e4244d48c2f990c431b6652",
       "version_major": 2,
       "version_minor": 0
      },
      "text/plain": [
       "  0%|          | 0/1301 [00:00<?, ?it/s]"
      ]
     },
     "metadata": {},
     "output_type": "display_data"
    },
    {
     "name": "stdout",
     "output_type": "stream",
     "text": [
      "1\n",
      "ELBO train_loss -2.3608366639269582\n",
      "mse train_loss 0.0006677148593819631\n",
      "ELBO val_loss -2.372298\n",
      "mse val_loss 0.0006672855\n",
      "mae val_loss 0.014416704\n",
      "-----------------------------------------------------------------------\n"
     ]
    },
    {
     "data": {
      "application/vnd.jupyter.widget-view+json": {
       "model_id": "c490a51b5b3f4bb1bb22cbcfe6cee849",
       "version_major": 2,
       "version_minor": 0
      },
      "text/plain": [
       "  0%|          | 0/1301 [00:00<?, ?it/s]"
      ]
     },
     "metadata": {},
     "output_type": "display_data"
    },
    {
     "name": "stdout",
     "output_type": "stream",
     "text": [
      "2\n",
      "ELBO train_loss -2.4952762460452056\n",
      "mse train_loss 0.0005752020529818525\n",
      "ELBO val_loss -2.3202946\n",
      "mse val_loss 0.0007762585\n",
      "mae val_loss 0.017188111\n",
      "-----------------------------------------------------------------------\n"
     ]
    },
    {
     "data": {
      "application/vnd.jupyter.widget-view+json": {
       "model_id": "e0ada9cc07d04bb0938df84214a24091",
       "version_major": 2,
       "version_minor": 0
      },
      "text/plain": [
       "  0%|          | 0/1301 [00:00<?, ?it/s]"
      ]
     },
     "metadata": {},
     "output_type": "display_data"
    },
    {
     "name": "stdout",
     "output_type": "stream",
     "text": [
      "3\n",
      "ELBO train_loss -2.518318800354444\n",
      "mse train_loss 0.0005572983769989493\n",
      "ELBO val_loss -2.3077774\n",
      "mse val_loss 0.000695351\n",
      "mae val_loss 0.014790695\n",
      "-----------------------------------------------------------------------\n"
     ]
    },
    {
     "data": {
      "application/vnd.jupyter.widget-view+json": {
       "model_id": "2f92bc33059d4f889fee45de064954cf",
       "version_major": 2,
       "version_minor": 0
      },
      "text/plain": [
       "  0%|          | 0/1301 [00:00<?, ?it/s]"
      ]
     },
     "metadata": {},
     "output_type": "display_data"
    },
    {
     "name": "stdout",
     "output_type": "stream",
     "text": [
      "4\n",
      "ELBO train_loss -2.528825377611634\n",
      "mse train_loss 0.0005674306996855534\n",
      "ELBO val_loss -2.362073\n",
      "mse val_loss 0.0006869204\n",
      "mae val_loss 0.013828543\n",
      "-----------------------------------------------------------------------\n"
     ]
    },
    {
     "data": {
      "application/vnd.jupyter.widget-view+json": {
       "model_id": "bd86be7200504e32a9b4572df43542e0",
       "version_major": 2,
       "version_minor": 0
      },
      "text/plain": [
       "  0%|          | 0/1301 [00:00<?, ?it/s]"
      ]
     },
     "metadata": {},
     "output_type": "display_data"
    },
    {
     "name": "stdout",
     "output_type": "stream",
     "text": [
      "5\n",
      "ELBO train_loss -2.546661453050984\n",
      "mse train_loss 0.0005665348475329366\n",
      "ELBO val_loss -2.0079255\n",
      "mse val_loss 0.0008772328\n",
      "mae val_loss 0.01905682\n",
      "-----------------------------------------------------------------------\n"
     ]
    },
    {
     "data": {
      "application/vnd.jupyter.widget-view+json": {
       "model_id": "ccaf5454c88f4a92bb72214c467917a2",
       "version_major": 2,
       "version_minor": 0
      },
      "text/plain": [
       "  0%|          | 0/1301 [00:00<?, ?it/s]"
      ]
     },
     "metadata": {},
     "output_type": "display_data"
    },
    {
     "name": "stdout",
     "output_type": "stream",
     "text": [
      "6\n",
      "ELBO train_loss -2.5552189912730046\n",
      "mse train_loss 0.0005451183555107084\n",
      "ELBO val_loss -2.4410572\n",
      "mse val_loss 0.00063887174\n",
      "mae val_loss 0.013657064\n",
      "-----------------------------------------------------------------------\n"
     ]
    },
    {
     "data": {
      "application/vnd.jupyter.widget-view+json": {
       "model_id": "0eb2d075c64b4c01823acccc6a077ead",
       "version_major": 2,
       "version_minor": 0
      },
      "text/plain": [
       "  0%|          | 0/1301 [00:00<?, ?it/s]"
      ]
     },
     "metadata": {},
     "output_type": "display_data"
    },
    {
     "name": "stdout",
     "output_type": "stream",
     "text": [
      "7\n",
      "ELBO train_loss -2.563389609448274\n",
      "mse train_loss 0.0005273974442791528\n",
      "ELBO val_loss -2.3889487\n",
      "mse val_loss 0.0006617784\n",
      "mae val_loss 0.014614733\n",
      "-----------------------------------------------------------------------\n"
     ]
    },
    {
     "data": {
      "application/vnd.jupyter.widget-view+json": {
       "model_id": "e4c2222adef244aeb9c20ba40cc93807",
       "version_major": 2,
       "version_minor": 0
      },
      "text/plain": [
       "  0%|          | 0/1301 [00:00<?, ?it/s]"
      ]
     },
     "metadata": {},
     "output_type": "display_data"
    },
    {
     "name": "stdout",
     "output_type": "stream",
     "text": [
      "8\n",
      "ELBO train_loss -2.5685396281963673\n",
      "mse train_loss 0.0005418190420845053\n",
      "ELBO val_loss -2.393341\n",
      "mse val_loss 0.0006768241\n",
      "mae val_loss 0.0146554345\n",
      "-----------------------------------------------------------------------\n"
     ]
    },
    {
     "data": {
      "application/vnd.jupyter.widget-view+json": {
       "model_id": "dc9f7ae1e49a432c934da4197c0c60bd",
       "version_major": 2,
       "version_minor": 0
      },
      "text/plain": [
       "  0%|          | 0/1301 [00:00<?, ?it/s]"
      ]
     },
     "metadata": {},
     "output_type": "display_data"
    },
    {
     "name": "stdout",
     "output_type": "stream",
     "text": [
      "9\n",
      "ELBO train_loss -2.581386312991266\n",
      "mse train_loss 0.0005347765089685762\n",
      "ELBO val_loss -2.3489306\n",
      "mse val_loss 0.0007210871\n",
      "mae val_loss 0.015727459\n",
      "-----------------------------------------------------------------------\n"
     ]
    },
    {
     "data": {
      "application/vnd.jupyter.widget-view+json": {
       "model_id": "3306ef267b0c4376a633b67e3bd24172",
       "version_major": 2,
       "version_minor": 0
      },
      "text/plain": [
       "  0%|          | 0/1301 [00:00<?, ?it/s]"
      ]
     },
     "metadata": {},
     "output_type": "display_data"
    },
    {
     "name": "stdout",
     "output_type": "stream",
     "text": [
      "10\n",
      "ELBO train_loss -2.5871820898352906\n",
      "mse train_loss 0.0005417743095362413\n",
      "ELBO val_loss -2.3857927\n",
      "mse val_loss 0.00067818316\n",
      "mae val_loss 0.013924865\n",
      "-----------------------------------------------------------------------\n"
     ]
    },
    {
     "data": {
      "application/vnd.jupyter.widget-view+json": {
       "model_id": "2cee3d31ddde4956bb074dc7a3c6bcee",
       "version_major": 2,
       "version_minor": 0
      },
      "text/plain": [
       "  0%|          | 0/1301 [00:00<?, ?it/s]"
      ]
     },
     "metadata": {},
     "output_type": "display_data"
    },
    {
     "name": "stdout",
     "output_type": "stream",
     "text": [
      "11\n",
      "ELBO train_loss -2.594220509536444\n",
      "mse train_loss 0.0005449210123017074\n",
      "ELBO val_loss -2.4672318\n",
      "mse val_loss 0.00064571685\n",
      "mae val_loss 0.01475464\n",
      "-----------------------------------------------------------------------\n"
     ]
    },
    {
     "data": {
      "application/vnd.jupyter.widget-view+json": {
       "model_id": "1f9e9cb765bc4fd9a598fda95e14a563",
       "version_major": 2,
       "version_minor": 0
      },
      "text/plain": [
       "  0%|          | 0/1301 [00:00<?, ?it/s]"
      ]
     },
     "metadata": {},
     "output_type": "display_data"
    },
    {
     "name": "stdout",
     "output_type": "stream",
     "text": [
      "12\n",
      "ELBO train_loss -2.597030510359961\n",
      "mse train_loss 0.0005438070253515222\n",
      "ELBO val_loss -2.4508426\n",
      "mse val_loss 0.00063879945\n",
      "mae val_loss 0.014181678\n",
      "-----------------------------------------------------------------------\n"
     ]
    },
    {
     "data": {
      "application/vnd.jupyter.widget-view+json": {
       "model_id": "ab6d6ff522a64af3879330101574fd62",
       "version_major": 2,
       "version_minor": 0
      },
      "text/plain": [
       "  0%|          | 0/1301 [00:00<?, ?it/s]"
      ]
     },
     "metadata": {},
     "output_type": "display_data"
    },
    {
     "name": "stdout",
     "output_type": "stream",
     "text": [
      "13\n",
      "ELBO train_loss -2.597123367386905\n",
      "mse train_loss 0.0005316370710258807\n",
      "ELBO val_loss -2.4538615\n",
      "mse val_loss 0.0006272581\n",
      "mae val_loss 0.013685371\n",
      "-----------------------------------------------------------------------\n"
     ]
    },
    {
     "data": {
      "application/vnd.jupyter.widget-view+json": {
       "model_id": "297c5cb64995488d96d9e7c3c17c95cb",
       "version_major": 2,
       "version_minor": 0
      },
      "text/plain": [
       "  0%|          | 0/1301 [00:00<?, ?it/s]"
      ]
     },
     "metadata": {},
     "output_type": "display_data"
    },
    {
     "name": "stdout",
     "output_type": "stream",
     "text": [
      "14\n",
      "ELBO train_loss -2.598570495729351\n",
      "mse train_loss 0.0005346395479195567\n",
      "ELBO val_loss -2.4049537\n",
      "mse val_loss 0.0006662481\n",
      "mae val_loss 0.01428451\n",
      "-----------------------------------------------------------------------\n"
     ]
    },
    {
     "data": {
      "application/vnd.jupyter.widget-view+json": {
       "model_id": "6ed16ab5b5c642478ff03ddfc38fa3c2",
       "version_major": 2,
       "version_minor": 0
      },
      "text/plain": [
       "  0%|          | 0/1301 [00:00<?, ?it/s]"
      ]
     },
     "metadata": {},
     "output_type": "display_data"
    },
    {
     "name": "stdout",
     "output_type": "stream",
     "text": [
      "15\n",
      "ELBO train_loss -2.605934282159182\n",
      "mse train_loss 0.0005395465718779937\n",
      "ELBO val_loss -2.4333537\n",
      "mse val_loss 0.0006426995\n",
      "mae val_loss 0.014445314\n",
      "-----------------------------------------------------------------------\n"
     ]
    },
    {
     "data": {
      "application/vnd.jupyter.widget-view+json": {
       "model_id": "2c330b56107a4a67ab50c20ceeec5064",
       "version_major": 2,
       "version_minor": 0
      },
      "text/plain": [
       "  0%|          | 0/1301 [00:00<?, ?it/s]"
      ]
     },
     "metadata": {},
     "output_type": "display_data"
    },
    {
     "name": "stdout",
     "output_type": "stream",
     "text": [
      "16\n",
      "ELBO train_loss -2.610139086785269\n",
      "mse train_loss 0.0005230495947263534\n",
      "ELBO val_loss -2.4582593\n",
      "mse val_loss 0.0006473908\n",
      "mae val_loss 0.014710475\n",
      "-----------------------------------------------------------------------\n"
     ]
    },
    {
     "data": {
      "application/vnd.jupyter.widget-view+json": {
       "model_id": "5690fc20e03e4849a69e3ba3d1f9f844",
       "version_major": 2,
       "version_minor": 0
      },
      "text/plain": [
       "  0%|          | 0/1301 [00:00<?, ?it/s]"
      ]
     },
     "metadata": {},
     "output_type": "display_data"
    },
    {
     "name": "stdout",
     "output_type": "stream",
     "text": [
      "17\n",
      "ELBO train_loss -2.609576685120746\n",
      "mse train_loss 0.000530098544940491\n",
      "ELBO val_loss -2.4796357\n",
      "mse val_loss 0.0006330145\n",
      "mae val_loss 0.013887604\n",
      "-----------------------------------------------------------------------\n"
     ]
    },
    {
     "data": {
      "application/vnd.jupyter.widget-view+json": {
       "model_id": "5906d230a0ef4da59021c3ab020c0cda",
       "version_major": 2,
       "version_minor": 0
      },
      "text/plain": [
       "  0%|          | 0/1301 [00:00<?, ?it/s]"
      ]
     },
     "metadata": {},
     "output_type": "display_data"
    },
    {
     "name": "stdout",
     "output_type": "stream",
     "text": [
      "18\n",
      "ELBO train_loss -2.6189162203616863\n",
      "mse train_loss 0.0005258118795080835\n",
      "ELBO val_loss -2.4426277\n",
      "mse val_loss 0.0006275803\n",
      "mae val_loss 0.013313863\n",
      "-----------------------------------------------------------------------\n"
     ]
    },
    {
     "data": {
      "application/vnd.jupyter.widget-view+json": {
       "model_id": "8808b3fa209d46cf9b210e31fa84f05d",
       "version_major": 2,
       "version_minor": 0
      },
      "text/plain": [
       "  0%|          | 0/1301 [00:00<?, ?it/s]"
      ]
     },
     "metadata": {},
     "output_type": "display_data"
    },
    {
     "name": "stdout",
     "output_type": "stream",
     "text": [
      "19\n",
      "ELBO train_loss -2.6220133218464716\n",
      "mse train_loss 0.0005301805846062922\n",
      "ELBO val_loss -2.4451072\n",
      "mse val_loss 0.00062380143\n",
      "mae val_loss 0.0136562\n",
      "-----------------------------------------------------------------------\n"
     ]
    },
    {
     "data": {
      "application/vnd.jupyter.widget-view+json": {
       "model_id": "92272ddf60ee4139966fe54ffade437d",
       "version_major": 2,
       "version_minor": 0
      },
      "text/plain": [
       "  0%|          | 0/1301 [00:00<?, ?it/s]"
      ]
     },
     "metadata": {},
     "output_type": "display_data"
    },
    {
     "name": "stdout",
     "output_type": "stream",
     "text": [
      "20\n",
      "ELBO train_loss -2.618488037063927\n",
      "mse train_loss 0.0005220886647366513\n",
      "ELBO val_loss -2.433575\n",
      "mse val_loss 0.00064852164\n",
      "mae val_loss 0.013703822\n",
      "-----------------------------------------------------------------------\n"
     ]
    },
    {
     "data": {
      "application/vnd.jupyter.widget-view+json": {
       "model_id": "43b01e1d51024eb8a28458a26d8b1a24",
       "version_major": 2,
       "version_minor": 0
      },
      "text/plain": [
       "  0%|          | 0/1301 [00:00<?, ?it/s]"
      ]
     },
     "metadata": {},
     "output_type": "display_data"
    },
    {
     "name": "stdout",
     "output_type": "stream",
     "text": [
      "21\n",
      "ELBO train_loss -2.634121121487922\n",
      "mse train_loss 0.0005149137678304343\n",
      "ELBO val_loss -2.465093\n",
      "mse val_loss 0.00063634344\n",
      "mae val_loss 0.014686888\n",
      "-----------------------------------------------------------------------\n"
     ]
    },
    {
     "data": {
      "application/vnd.jupyter.widget-view+json": {
       "model_id": "400efb309e6b48eaae21e109408a4512",
       "version_major": 2,
       "version_minor": 0
      },
      "text/plain": [
       "  0%|          | 0/1301 [00:00<?, ?it/s]"
      ]
     },
     "metadata": {},
     "output_type": "display_data"
    },
    {
     "name": "stdout",
     "output_type": "stream",
     "text": [
      "22\n",
      "ELBO train_loss -2.629886937361328\n",
      "mse train_loss 0.0005183604288274289\n",
      "ELBO val_loss -2.5141397\n",
      "mse val_loss 0.0006467269\n",
      "mae val_loss 0.013884444\n",
      "-----------------------------------------------------------------------\n"
     ]
    },
    {
     "data": {
      "application/vnd.jupyter.widget-view+json": {
       "model_id": "0aae1e63093f4de0b75f1e74a6e38cb8",
       "version_major": 2,
       "version_minor": 0
      },
      "text/plain": [
       "  0%|          | 0/1301 [00:00<?, ?it/s]"
      ]
     },
     "metadata": {},
     "output_type": "display_data"
    },
    {
     "name": "stdout",
     "output_type": "stream",
     "text": [
      "23\n",
      "ELBO train_loss -2.624365326443789\n",
      "mse train_loss 0.0005350790622562341\n",
      "ELBO val_loss -2.4564142\n",
      "mse val_loss 0.00063577376\n",
      "mae val_loss 0.013665476\n",
      "-----------------------------------------------------------------------\n"
     ]
    },
    {
     "data": {
      "application/vnd.jupyter.widget-view+json": {
       "model_id": "3a5c86f1cf8d4fd8b93430a1ed370fc2",
       "version_major": 2,
       "version_minor": 0
      },
      "text/plain": [
       "  0%|          | 0/1301 [00:00<?, ?it/s]"
      ]
     },
     "metadata": {},
     "output_type": "display_data"
    },
    {
     "name": "stdout",
     "output_type": "stream",
     "text": [
      "24\n",
      "ELBO train_loss -2.6381713720031374\n",
      "mse train_loss 0.0005093810989125578\n",
      "ELBO val_loss -2.4840972\n",
      "mse val_loss 0.00063267216\n",
      "mae val_loss 0.014359633\n",
      "-----------------------------------------------------------------------\n"
     ]
    },
    {
     "data": {
      "application/vnd.jupyter.widget-view+json": {
       "model_id": "b2715840fecd4bc7baf444b54342a381",
       "version_major": 2,
       "version_minor": 0
      },
      "text/plain": [
       "  0%|          | 0/1301 [00:00<?, ?it/s]"
      ]
     },
     "metadata": {},
     "output_type": "display_data"
    },
    {
     "name": "stdout",
     "output_type": "stream",
     "text": [
      "25\n",
      "ELBO train_loss -2.6307920783322927\n",
      "mse train_loss 0.0005115222657618538\n",
      "ELBO val_loss -2.4344325\n",
      "mse val_loss 0.00066245545\n",
      "mae val_loss 0.013734396\n",
      "-----------------------------------------------------------------------\n"
     ]
    },
    {
     "data": {
      "application/vnd.jupyter.widget-view+json": {
       "model_id": "ae3efa2984094c7c8f5ed74b1088793e",
       "version_major": 2,
       "version_minor": 0
      },
      "text/plain": [
       "  0%|          | 0/1301 [00:00<?, ?it/s]"
      ]
     },
     "metadata": {},
     "output_type": "display_data"
    },
    {
     "name": "stdout",
     "output_type": "stream",
     "text": [
      "26\n",
      "ELBO train_loss -2.629647509993085\n",
      "mse train_loss 0.000514385555739517\n",
      "ELBO val_loss -2.4652376\n",
      "mse val_loss 0.0006496798\n",
      "mae val_loss 0.015052687\n",
      "-----------------------------------------------------------------------\n"
     ]
    },
    {
     "data": {
      "application/vnd.jupyter.widget-view+json": {
       "model_id": "0b725582212e429fad4f80dd025e8bc1",
       "version_major": 2,
       "version_minor": 0
      },
      "text/plain": [
       "  0%|          | 0/1301 [00:00<?, ?it/s]"
      ]
     },
     "metadata": {},
     "output_type": "display_data"
    },
    {
     "name": "stdout",
     "output_type": "stream",
     "text": [
      "27\n",
      "ELBO train_loss -2.6348722885426517\n",
      "mse train_loss 0.0005175218476666364\n",
      "ELBO val_loss -2.492519\n",
      "mse val_loss 0.00064701657\n",
      "mae val_loss 0.01409794\n",
      "-----------------------------------------------------------------------\n"
     ]
    },
    {
     "data": {
      "application/vnd.jupyter.widget-view+json": {
       "model_id": "21d8ced042ff4087b4f0d05809f0ab5c",
       "version_major": 2,
       "version_minor": 0
      },
      "text/plain": [
       "  0%|          | 0/1301 [00:00<?, ?it/s]"
      ]
     },
     "metadata": {},
     "output_type": "display_data"
    },
    {
     "name": "stdout",
     "output_type": "stream",
     "text": [
      "28\n",
      "ELBO train_loss -2.628172221591411\n",
      "mse train_loss 0.0005182834760850362\n",
      "ELBO val_loss -2.494888\n",
      "mse val_loss 0.0006345367\n",
      "mae val_loss 0.013768103\n",
      "-----------------------------------------------------------------------\n"
     ]
    },
    {
     "data": {
      "application/vnd.jupyter.widget-view+json": {
       "model_id": "e37c93361bdb4801acd87c9b5338da16",
       "version_major": 2,
       "version_minor": 0
      },
      "text/plain": [
       "  0%|          | 0/1301 [00:00<?, ?it/s]"
      ]
     },
     "metadata": {},
     "output_type": "display_data"
    },
    {
     "name": "stdout",
     "output_type": "stream",
     "text": [
      "29\n",
      "ELBO train_loss -2.6309682323348973\n",
      "mse train_loss 0.0005128927117400265\n",
      "ELBO val_loss -2.4814212\n",
      "mse val_loss 0.00062580063\n",
      "mae val_loss 0.013205301\n",
      "-----------------------------------------------------------------------\n"
     ]
    },
    {
     "data": {
      "application/vnd.jupyter.widget-view+json": {
       "model_id": "e0658d4b864f421a91944b5de856df6c",
       "version_major": 2,
       "version_minor": 0
      },
      "text/plain": [
       "  0%|          | 0/1301 [00:00<?, ?it/s]"
      ]
     },
     "metadata": {},
     "output_type": "display_data"
    },
    {
     "name": "stdout",
     "output_type": "stream",
     "text": [
      "30\n",
      "ELBO train_loss -2.6242623405214642\n",
      "mse train_loss 0.000513083331108526\n",
      "ELBO val_loss -2.4540155\n",
      "mse val_loss 0.0006425436\n",
      "mae val_loss 0.013935592\n",
      "-----------------------------------------------------------------------\n"
     ]
    },
    {
     "data": {
      "application/vnd.jupyter.widget-view+json": {
       "model_id": "d811ac5a13594960b9fdcf9201ec3ce8",
       "version_major": 2,
       "version_minor": 0
      },
      "text/plain": [
       "  0%|          | 0/1301 [00:00<?, ?it/s]"
      ]
     },
     "metadata": {},
     "output_type": "display_data"
    },
    {
     "name": "stdout",
     "output_type": "stream",
     "text": [
      "31\n",
      "ELBO train_loss -2.6337187431300264\n",
      "mse train_loss 0.0005172950355318174\n",
      "ELBO val_loss -2.531567\n",
      "mse val_loss 0.0006387787\n",
      "mae val_loss 0.013468244\n",
      "-----------------------------------------------------------------------\n"
     ]
    },
    {
     "data": {
      "application/vnd.jupyter.widget-view+json": {
       "model_id": "ba7ea1fd65564e96bb68cb715787db27",
       "version_major": 2,
       "version_minor": 0
      },
      "text/plain": [
       "  0%|          | 0/1301 [00:00<?, ?it/s]"
      ]
     },
     "metadata": {},
     "output_type": "display_data"
    },
    {
     "name": "stdout",
     "output_type": "stream",
     "text": [
      "32\n",
      "ELBO train_loss -2.628257848912253\n",
      "mse train_loss 0.0005268850892738007\n",
      "ELBO val_loss -2.4705253\n",
      "mse val_loss 0.00066572195\n",
      "mae val_loss 0.014219716\n",
      "-----------------------------------------------------------------------\n"
     ]
    },
    {
     "data": {
      "application/vnd.jupyter.widget-view+json": {
       "model_id": "a733cfef00df42a1b774d28f43af276e",
       "version_major": 2,
       "version_minor": 0
      },
      "text/plain": [
       "  0%|          | 0/1301 [00:00<?, ?it/s]"
      ]
     },
     "metadata": {},
     "output_type": "display_data"
    },
    {
     "name": "stdout",
     "output_type": "stream",
     "text": [
      "33\n",
      "ELBO train_loss -2.636527851579008\n",
      "mse train_loss 0.0005218054904391918\n",
      "ELBO val_loss -2.475741\n",
      "mse val_loss 0.0006398747\n",
      "mae val_loss 0.0133989565\n",
      "-----------------------------------------------------------------------\n"
     ]
    },
    {
     "data": {
      "application/vnd.jupyter.widget-view+json": {
       "model_id": "545e817904cc4381955daa29cc816e41",
       "version_major": 2,
       "version_minor": 0
      },
      "text/plain": [
       "  0%|          | 0/1301 [00:00<?, ?it/s]"
      ]
     },
     "metadata": {},
     "output_type": "display_data"
    },
    {
     "name": "stdout",
     "output_type": "stream",
     "text": [
      "34\n",
      "ELBO train_loss -2.6371207736163393\n",
      "mse train_loss 0.0005087981304030047\n",
      "ELBO val_loss -2.5075657\n",
      "mse val_loss 0.0006287468\n",
      "mae val_loss 0.013561724\n",
      "-----------------------------------------------------------------------\n"
     ]
    },
    {
     "data": {
      "application/vnd.jupyter.widget-view+json": {
       "model_id": "b28b25e430b64613a6bc08967efe17f5",
       "version_major": 2,
       "version_minor": 0
      },
      "text/plain": [
       "  0%|          | 0/1301 [00:00<?, ?it/s]"
      ]
     },
     "metadata": {},
     "output_type": "display_data"
    },
    {
     "name": "stdout",
     "output_type": "stream",
     "text": [
      "35\n",
      "ELBO train_loss -2.6394140630571044\n",
      "mse train_loss 0.0005118950421295181\n",
      "ELBO val_loss -2.4838235\n",
      "mse val_loss 0.00065935217\n",
      "mae val_loss 0.013353948\n",
      "-----------------------------------------------------------------------\n"
     ]
    },
    {
     "data": {
      "application/vnd.jupyter.widget-view+json": {
       "model_id": "74326bf5eb474f41a0dcdab2fcdf32fd",
       "version_major": 2,
       "version_minor": 0
      },
      "text/plain": [
       "  0%|          | 0/1301 [00:00<?, ?it/s]"
      ]
     },
     "metadata": {},
     "output_type": "display_data"
    },
    {
     "name": "stdout",
     "output_type": "stream",
     "text": [
      "36\n",
      "ELBO train_loss -2.6442748290772258\n",
      "mse train_loss 0.0005146617483445905\n",
      "ELBO val_loss -2.4658206\n",
      "mse val_loss 0.0006227647\n",
      "mae val_loss 0.013675461\n",
      "-----------------------------------------------------------------------\n"
     ]
    },
    {
     "data": {
      "application/vnd.jupyter.widget-view+json": {
       "model_id": "f287403b123d4fd8854c723f93eb17ce",
       "version_major": 2,
       "version_minor": 0
      },
      "text/plain": [
       "  0%|          | 0/1301 [00:00<?, ?it/s]"
      ]
     },
     "metadata": {},
     "output_type": "display_data"
    },
    {
     "name": "stdout",
     "output_type": "stream",
     "text": [
      "37\n",
      "ELBO train_loss -2.640012939877917\n",
      "mse train_loss 0.0005085908954149791\n",
      "ELBO val_loss -2.4074209\n",
      "mse val_loss 0.00067391066\n",
      "mae val_loss 0.016200485\n",
      "-----------------------------------------------------------------------\n"
     ]
    },
    {
     "data": {
      "application/vnd.jupyter.widget-view+json": {
       "model_id": "cfe6da0ec6b940ae82611ca6266aca91",
       "version_major": 2,
       "version_minor": 0
      },
      "text/plain": [
       "  0%|          | 0/1301 [00:00<?, ?it/s]"
      ]
     },
     "metadata": {},
     "output_type": "display_data"
    },
    {
     "name": "stdout",
     "output_type": "stream",
     "text": [
      "38\n",
      "ELBO train_loss -2.6412777675288535\n",
      "mse train_loss 0.0005079501493704927\n",
      "ELBO val_loss -2.4911604\n",
      "mse val_loss 0.000631815\n",
      "mae val_loss 0.013667261\n",
      "-----------------------------------------------------------------------\n"
     ]
    },
    {
     "data": {
      "application/vnd.jupyter.widget-view+json": {
       "model_id": "f5215f68c2874456bb284ad9a34e81ac",
       "version_major": 2,
       "version_minor": 0
      },
      "text/plain": [
       "  0%|          | 0/1301 [00:00<?, ?it/s]"
      ]
     },
     "metadata": {},
     "output_type": "display_data"
    },
    {
     "name": "stdout",
     "output_type": "stream",
     "text": [
      "39\n",
      "ELBO train_loss -2.638928962660972\n",
      "mse train_loss 0.0005030592190976692\n",
      "ELBO val_loss -2.5156927\n",
      "mse val_loss 0.00062532723\n",
      "mae val_loss 0.0136692235\n",
      "-----------------------------------------------------------------------\n"
     ]
    },
    {
     "data": {
      "application/vnd.jupyter.widget-view+json": {
       "model_id": "8c52526ae512410ca7b30a74725d77ec",
       "version_major": 2,
       "version_minor": 0
      },
      "text/plain": [
       "  0%|          | 0/1301 [00:00<?, ?it/s]"
      ]
     },
     "metadata": {},
     "output_type": "display_data"
    },
    {
     "name": "stdout",
     "output_type": "stream",
     "text": [
      "40\n",
      "ELBO train_loss -2.6461001333138467\n",
      "mse train_loss 0.0005129038644631982\n",
      "ELBO val_loss -2.4948025\n",
      "mse val_loss 0.00062983483\n",
      "mae val_loss 0.013961602\n",
      "-----------------------------------------------------------------------\n"
     ]
    },
    {
     "data": {
      "application/vnd.jupyter.widget-view+json": {
       "model_id": "322b3813f6db4dedadfcdce54efc5878",
       "version_major": 2,
       "version_minor": 0
      },
      "text/plain": [
       "  0%|          | 0/1301 [00:00<?, ?it/s]"
      ]
     },
     "metadata": {},
     "output_type": "display_data"
    },
    {
     "name": "stdout",
     "output_type": "stream",
     "text": [
      "41\n",
      "ELBO train_loss -2.6391873049745187\n",
      "mse train_loss 0.0005066982986268407\n",
      "ELBO val_loss -2.5011134\n",
      "mse val_loss 0.0006326185\n",
      "mae val_loss 0.013467687\n",
      "-----------------------------------------------------------------------\n"
     ]
    },
    {
     "data": {
      "application/vnd.jupyter.widget-view+json": {
       "model_id": "51441ffdb5be48b09b39aee76024d8c0",
       "version_major": 2,
       "version_minor": 0
      },
      "text/plain": [
       "  0%|          | 0/1301 [00:00<?, ?it/s]"
      ]
     },
     "metadata": {},
     "output_type": "display_data"
    },
    {
     "name": "stdout",
     "output_type": "stream",
     "text": [
      "42\n",
      "ELBO train_loss -2.644334613223153\n",
      "mse train_loss 0.0005154485042182962\n",
      "ELBO val_loss -2.5005267\n",
      "mse val_loss 0.00062716426\n",
      "mae val_loss 0.013586162\n",
      "-----------------------------------------------------------------------\n"
     ]
    },
    {
     "data": {
      "application/vnd.jupyter.widget-view+json": {
       "model_id": "58c1b7aed42842fc8620b9289fc731fe",
       "version_major": 2,
       "version_minor": 0
      },
      "text/plain": [
       "  0%|          | 0/1301 [00:00<?, ?it/s]"
      ]
     },
     "metadata": {},
     "output_type": "display_data"
    },
    {
     "name": "stdout",
     "output_type": "stream",
     "text": [
      "43\n",
      "ELBO train_loss -2.6460648290841604\n",
      "mse train_loss 0.0005062397002418963\n",
      "ELBO val_loss -2.5138876\n",
      "mse val_loss 0.0006316247\n",
      "mae val_loss 0.013983397\n",
      "-----------------------------------------------------------------------\n"
     ]
    },
    {
     "data": {
      "application/vnd.jupyter.widget-view+json": {
       "model_id": "58b0ab856b424200a1f0fe565fd5fa1b",
       "version_major": 2,
       "version_minor": 0
      },
      "text/plain": [
       "  0%|          | 0/1301 [00:00<?, ?it/s]"
      ]
     },
     "metadata": {},
     "output_type": "display_data"
    },
    {
     "name": "stdout",
     "output_type": "stream",
     "text": [
      "44\n",
      "ELBO train_loss -2.6421178301694668\n",
      "mse train_loss 0.0004998252373281794\n",
      "ELBO val_loss -2.5308833\n",
      "mse val_loss 0.00062607427\n",
      "mae val_loss 0.013457493\n",
      "-----------------------------------------------------------------------\n"
     ]
    },
    {
     "data": {
      "application/vnd.jupyter.widget-view+json": {
       "model_id": "196cc9745662495a910d172df7d8b057",
       "version_major": 2,
       "version_minor": 0
      },
      "text/plain": [
       "  0%|          | 0/1301 [00:00<?, ?it/s]"
      ]
     },
     "metadata": {},
     "output_type": "display_data"
    },
    {
     "name": "stdout",
     "output_type": "stream",
     "text": [
      "45\n",
      "ELBO train_loss -2.639276706100335\n",
      "mse train_loss 0.0005096124333039043\n",
      "ELBO val_loss -2.517741\n",
      "mse val_loss 0.00063456106\n",
      "mae val_loss 0.013172747\n",
      "-----------------------------------------------------------------------\n"
     ]
    },
    {
     "data": {
      "application/vnd.jupyter.widget-view+json": {
       "model_id": "958b7b391fca478c828db04325a5463c",
       "version_major": 2,
       "version_minor": 0
      },
      "text/plain": [
       "  0%|          | 0/1301 [00:00<?, ?it/s]"
      ]
     },
     "metadata": {},
     "output_type": "display_data"
    },
    {
     "name": "stdout",
     "output_type": "stream",
     "text": [
      "46\n",
      "ELBO train_loss -2.64680907407419\n",
      "mse train_loss 0.0005100849173478259\n",
      "ELBO val_loss -2.496475\n",
      "mse val_loss 0.0006332818\n",
      "mae val_loss 0.014276344\n",
      "-----------------------------------------------------------------------\n"
     ]
    },
    {
     "data": {
      "application/vnd.jupyter.widget-view+json": {
       "model_id": "8344d7bf29aa4334b270547f76a61467",
       "version_major": 2,
       "version_minor": 0
      },
      "text/plain": [
       "  0%|          | 0/1301 [00:00<?, ?it/s]"
      ]
     },
     "metadata": {},
     "output_type": "display_data"
    },
    {
     "name": "stdout",
     "output_type": "stream",
     "text": [
      "47\n",
      "ELBO train_loss -2.6449874570789382\n",
      "mse train_loss 0.0005020922758282025\n",
      "ELBO val_loss -2.465622\n",
      "mse val_loss 0.00063061214\n",
      "mae val_loss 0.013365463\n",
      "-----------------------------------------------------------------------\n"
     ]
    },
    {
     "data": {
      "application/vnd.jupyter.widget-view+json": {
       "model_id": "c130707470144351ab4563ab64c2f81c",
       "version_major": 2,
       "version_minor": 0
      },
      "text/plain": [
       "  0%|          | 0/1301 [00:00<?, ?it/s]"
      ]
     },
     "metadata": {},
     "output_type": "display_data"
    },
    {
     "name": "stdout",
     "output_type": "stream",
     "text": [
      "48\n",
      "ELBO train_loss -2.6472171997675797\n",
      "mse train_loss 0.00050096818423389\n",
      "ELBO val_loss -2.5124614\n",
      "mse val_loss 0.0006326654\n",
      "mae val_loss 0.013520619\n",
      "-----------------------------------------------------------------------\n"
     ]
    },
    {
     "data": {
      "application/vnd.jupyter.widget-view+json": {
       "model_id": "f858edca7f3746259fa1c5d7f127faef",
       "version_major": 2,
       "version_minor": 0
      },
      "text/plain": [
       "  0%|          | 0/1301 [00:00<?, ?it/s]"
      ]
     },
     "metadata": {},
     "output_type": "display_data"
    },
    {
     "name": "stdout",
     "output_type": "stream",
     "text": [
      "49\n",
      "ELBO train_loss -2.6535998315283376\n",
      "mse train_loss 0.0005153691443475249\n",
      "ELBO val_loss -2.5108006\n",
      "mse val_loss 0.0006270545\n",
      "mae val_loss 0.013639916\n",
      "-----------------------------------------------------------------------\n"
     ]
    },
    {
     "data": {
      "application/vnd.jupyter.widget-view+json": {
       "model_id": "70d9f8150b1f48a786dc5448ff8451f9",
       "version_major": 2,
       "version_minor": 0
      },
      "text/plain": [
       "  0%|          | 0/1301 [00:00<?, ?it/s]"
      ]
     },
     "metadata": {},
     "output_type": "display_data"
    },
    {
     "name": "stdout",
     "output_type": "stream",
     "text": [
      "50\n",
      "ELBO train_loss -2.6397969033927025\n",
      "mse train_loss 0.0005150134417274573\n",
      "ELBO val_loss -2.5316198\n",
      "mse val_loss 0.00061958854\n",
      "mae val_loss 0.013452636\n",
      "-----------------------------------------------------------------------\n"
     ]
    },
    {
     "data": {
      "application/vnd.jupyter.widget-view+json": {
       "model_id": "a9265a8442ea4904b2b81fa038f63916",
       "version_major": 2,
       "version_minor": 0
      },
      "text/plain": [
       "  0%|          | 0/1301 [00:00<?, ?it/s]"
      ]
     },
     "metadata": {},
     "output_type": "display_data"
    },
    {
     "name": "stdout",
     "output_type": "stream",
     "text": [
      "51\n",
      "ELBO train_loss -2.650290433394735\n",
      "mse train_loss 0.0005137354070214242\n",
      "ELBO val_loss -2.5341003\n",
      "mse val_loss 0.00062102923\n",
      "mae val_loss 0.013583519\n",
      "-----------------------------------------------------------------------\n"
     ]
    },
    {
     "data": {
      "application/vnd.jupyter.widget-view+json": {
       "model_id": "9f4c4676ac93478e9705ed186e7703cb",
       "version_major": 2,
       "version_minor": 0
      },
      "text/plain": [
       "  0%|          | 0/1301 [00:00<?, ?it/s]"
      ]
     },
     "metadata": {},
     "output_type": "display_data"
    },
    {
     "name": "stdout",
     "output_type": "stream",
     "text": [
      "52\n",
      "ELBO train_loss -2.645218102131139\n",
      "mse train_loss 0.0005007273276497289\n",
      "ELBO val_loss -2.5137074\n",
      "mse val_loss 0.0006215667\n",
      "mae val_loss 0.013326496\n",
      "-----------------------------------------------------------------------\n"
     ]
    },
    {
     "data": {
      "application/vnd.jupyter.widget-view+json": {
       "model_id": "69b73a40ed8b4659a7b349721c439029",
       "version_major": 2,
       "version_minor": 0
      },
      "text/plain": [
       "  0%|          | 0/1301 [00:00<?, ?it/s]"
      ]
     },
     "metadata": {},
     "output_type": "display_data"
    },
    {
     "name": "stdout",
     "output_type": "stream",
     "text": [
      "53\n",
      "ELBO train_loss -2.6462315482235614\n",
      "mse train_loss 0.0004936607993204024\n",
      "ELBO val_loss -2.4838254\n",
      "mse val_loss 0.00064972905\n",
      "mae val_loss 0.015131475\n",
      "-----------------------------------------------------------------------\n"
     ]
    },
    {
     "data": {
      "application/vnd.jupyter.widget-view+json": {
       "model_id": "8eee358af701460ca0a9e1a61cc702b7",
       "version_major": 2,
       "version_minor": 0
      },
      "text/plain": [
       "  0%|          | 0/1301 [00:00<?, ?it/s]"
      ]
     },
     "metadata": {},
     "output_type": "display_data"
    },
    {
     "name": "stdout",
     "output_type": "stream",
     "text": [
      "54\n",
      "ELBO train_loss -2.6537844678880984\n",
      "mse train_loss 0.000513372068745229\n",
      "ELBO val_loss -2.5189855\n",
      "mse val_loss 0.0006352688\n",
      "mae val_loss 0.013577411\n",
      "-----------------------------------------------------------------------\n"
     ]
    },
    {
     "data": {
      "application/vnd.jupyter.widget-view+json": {
       "model_id": "ff68bb43d0164ad28622d1176189bdc4",
       "version_major": 2,
       "version_minor": 0
      },
      "text/plain": [
       "  0%|          | 0/1301 [00:00<?, ?it/s]"
      ]
     },
     "metadata": {},
     "output_type": "display_data"
    },
    {
     "name": "stdout",
     "output_type": "stream",
     "text": [
      "55\n",
      "ELBO train_loss -2.6476230603012096\n",
      "mse train_loss 0.0005131859360476165\n",
      "ELBO val_loss -2.5085812\n",
      "mse val_loss 0.0006271004\n",
      "mae val_loss 0.013907588\n",
      "-----------------------------------------------------------------------\n"
     ]
    },
    {
     "data": {
      "application/vnd.jupyter.widget-view+json": {
       "model_id": "6f654f19a1d246738a116903b9cfe3db",
       "version_major": 2,
       "version_minor": 0
      },
      "text/plain": [
       "  0%|          | 0/1301 [00:00<?, ?it/s]"
      ]
     },
     "metadata": {},
     "output_type": "display_data"
    },
    {
     "name": "stdout",
     "output_type": "stream",
     "text": [
      "56\n",
      "ELBO train_loss -2.6450897992161218\n",
      "mse train_loss 0.0005073281301364988\n",
      "ELBO val_loss -2.4635613\n",
      "mse val_loss 0.0006485196\n",
      "mae val_loss 0.01357381\n",
      "-----------------------------------------------------------------------\n"
     ]
    },
    {
     "data": {
      "application/vnd.jupyter.widget-view+json": {
       "model_id": "758eb66b150946558529a43da0b3e4a2",
       "version_major": 2,
       "version_minor": 0
      },
      "text/plain": [
       "  0%|          | 0/1301 [00:00<?, ?it/s]"
      ]
     },
     "metadata": {},
     "output_type": "display_data"
    },
    {
     "name": "stdout",
     "output_type": "stream",
     "text": [
      "57\n",
      "ELBO train_loss -2.646183273913217\n",
      "mse train_loss 0.0005051530011975029\n",
      "ELBO val_loss -2.5208576\n",
      "mse val_loss 0.0006305795\n",
      "mae val_loss 0.013434044\n",
      "-----------------------------------------------------------------------\n"
     ]
    },
    {
     "data": {
      "application/vnd.jupyter.widget-view+json": {
       "model_id": "2d3d8f7672e443cc8d313941536d19a5",
       "version_major": 2,
       "version_minor": 0
      },
      "text/plain": [
       "  0%|          | 0/1301 [00:00<?, ?it/s]"
      ]
     },
     "metadata": {},
     "output_type": "display_data"
    },
    {
     "name": "stdout",
     "output_type": "stream",
     "text": [
      "58\n",
      "ELBO train_loss -2.6532577164442515\n",
      "mse train_loss 0.0004920095801834865\n",
      "ELBO val_loss -2.507267\n",
      "mse val_loss 0.0006229945\n",
      "mae val_loss 0.013301288\n",
      "-----------------------------------------------------------------------\n"
     ]
    },
    {
     "data": {
      "application/vnd.jupyter.widget-view+json": {
       "model_id": "8c3dcc72f5c74bfda3f144c07563b1f8",
       "version_major": 2,
       "version_minor": 0
      },
      "text/plain": [
       "  0%|          | 0/1301 [00:00<?, ?it/s]"
      ]
     },
     "metadata": {},
     "output_type": "display_data"
    },
    {
     "name": "stdout",
     "output_type": "stream",
     "text": [
      "59\n",
      "ELBO train_loss -2.645781657221132\n",
      "mse train_loss 0.0005175128374808897\n",
      "ELBO val_loss -2.5380433\n",
      "mse val_loss 0.0006208376\n",
      "mae val_loss 0.013630411\n",
      "-----------------------------------------------------------------------\n"
     ]
    },
    {
     "data": {
      "application/vnd.jupyter.widget-view+json": {
       "model_id": "af07122a3ea941a7b422001112de52b3",
       "version_major": 2,
       "version_minor": 0
      },
      "text/plain": [
       "  0%|          | 0/1301 [00:00<?, ?it/s]"
      ]
     },
     "metadata": {},
     "output_type": "display_data"
    },
    {
     "name": "stdout",
     "output_type": "stream",
     "text": [
      "60\n",
      "ELBO train_loss -2.651558987687497\n",
      "mse train_loss 0.0005153889428545631\n",
      "ELBO val_loss -2.5184693\n",
      "mse val_loss 0.0006232464\n",
      "mae val_loss 0.013344149\n",
      "-----------------------------------------------------------------------\n"
     ]
    },
    {
     "data": {
      "application/vnd.jupyter.widget-view+json": {
       "model_id": "c99c9efdbec945c7b64a5c4b64d7050f",
       "version_major": 2,
       "version_minor": 0
      },
      "text/plain": [
       "  0%|          | 0/1301 [00:00<?, ?it/s]"
      ]
     },
     "metadata": {},
     "output_type": "display_data"
    },
    {
     "name": "stdout",
     "output_type": "stream",
     "text": [
      "61\n",
      "ELBO train_loss -2.6476932006281766\n",
      "mse train_loss 0.0005175716378107749\n",
      "ELBO val_loss -2.5072865\n",
      "mse val_loss 0.0006261893\n",
      "mae val_loss 0.013504555\n",
      "-----------------------------------------------------------------------\n"
     ]
    },
    {
     "data": {
      "application/vnd.jupyter.widget-view+json": {
       "model_id": "47824fc172364548ba1a55552d15fec0",
       "version_major": 2,
       "version_minor": 0
      },
      "text/plain": [
       "  0%|          | 0/1301 [00:00<?, ?it/s]"
      ]
     },
     "metadata": {},
     "output_type": "display_data"
    },
    {
     "name": "stdout",
     "output_type": "stream",
     "text": [
      "62\n",
      "ELBO train_loss -2.656807692668513\n",
      "mse train_loss 0.0004905519857434903\n",
      "ELBO val_loss -2.4922292\n",
      "mse val_loss 0.00063178345\n",
      "mae val_loss 0.013591036\n",
      "-----------------------------------------------------------------------\n"
     ]
    },
    {
     "data": {
      "application/vnd.jupyter.widget-view+json": {
       "model_id": "2ed00a1a2ff54151b96a5cce0ddd001b",
       "version_major": 2,
       "version_minor": 0
      },
      "text/plain": [
       "  0%|          | 0/1301 [00:00<?, ?it/s]"
      ]
     },
     "metadata": {},
     "output_type": "display_data"
    },
    {
     "name": "stdout",
     "output_type": "stream",
     "text": [
      "63\n",
      "ELBO train_loss -2.660940591048315\n",
      "mse train_loss 0.0005059477927651902\n",
      "ELBO val_loss -2.5237608\n",
      "mse val_loss 0.00062407943\n",
      "mae val_loss 0.013778719\n",
      "-----------------------------------------------------------------------\n"
     ]
    },
    {
     "data": {
      "application/vnd.jupyter.widget-view+json": {
       "model_id": "c7ceccd5b83546ac83261cecbceb1fea",
       "version_major": 2,
       "version_minor": 0
      },
      "text/plain": [
       "  0%|          | 0/1301 [00:00<?, ?it/s]"
      ]
     },
     "metadata": {},
     "output_type": "display_data"
    },
    {
     "name": "stdout",
     "output_type": "stream",
     "text": [
      "64\n",
      "ELBO train_loss -2.6547557769785652\n",
      "mse train_loss 0.000518556100165659\n",
      "ELBO val_loss -2.5006788\n",
      "mse val_loss 0.0006314994\n",
      "mae val_loss 0.0137783\n",
      "-----------------------------------------------------------------------\n"
     ]
    },
    {
     "data": {
      "application/vnd.jupyter.widget-view+json": {
       "model_id": "38b5447341774f899862a6bdb516ee59",
       "version_major": 2,
       "version_minor": 0
      },
      "text/plain": [
       "  0%|          | 0/1301 [00:00<?, ?it/s]"
      ]
     },
     "metadata": {},
     "output_type": "display_data"
    },
    {
     "name": "stdout",
     "output_type": "stream",
     "text": [
      "65\n",
      "ELBO train_loss -2.648129251166365\n",
      "mse train_loss 0.0005040737858530152\n",
      "ELBO val_loss -2.519581\n",
      "mse val_loss 0.0006197816\n",
      "mae val_loss 0.013550012\n",
      "-----------------------------------------------------------------------\n"
     ]
    },
    {
     "data": {
      "application/vnd.jupyter.widget-view+json": {
       "model_id": "da9ec174491440539a5808f5fe976796",
       "version_major": 2,
       "version_minor": 0
      },
      "text/plain": [
       "  0%|          | 0/1301 [00:00<?, ?it/s]"
      ]
     },
     "metadata": {},
     "output_type": "display_data"
    },
    {
     "name": "stdout",
     "output_type": "stream",
     "text": [
      "66\n",
      "ELBO train_loss -2.6544071312229236\n",
      "mse train_loss 0.0005135282601502228\n",
      "ELBO val_loss -2.4784126\n",
      "mse val_loss 0.0006287068\n",
      "mae val_loss 0.013465927\n",
      "-----------------------------------------------------------------------\n"
     ]
    },
    {
     "data": {
      "application/vnd.jupyter.widget-view+json": {
       "model_id": "ad041aa3f8af41acbe6fe2b51bdb2cb3",
       "version_major": 2,
       "version_minor": 0
      },
      "text/plain": [
       "  0%|          | 0/1301 [00:00<?, ?it/s]"
      ]
     },
     "metadata": {},
     "output_type": "display_data"
    },
    {
     "name": "stdout",
     "output_type": "stream",
     "text": [
      "67\n",
      "ELBO train_loss -2.6603910903762067\n",
      "mse train_loss 0.000505857330403877\n",
      "ELBO val_loss -2.4842396\n",
      "mse val_loss 0.0006229236\n",
      "mae val_loss 0.013816191\n",
      "-----------------------------------------------------------------------\n"
     ]
    },
    {
     "data": {
      "application/vnd.jupyter.widget-view+json": {
       "model_id": "a8a95b869c604aecb3a39b8c30fbf1d2",
       "version_major": 2,
       "version_minor": 0
      },
      "text/plain": [
       "  0%|          | 0/1301 [00:00<?, ?it/s]"
      ]
     },
     "metadata": {},
     "output_type": "display_data"
    },
    {
     "name": "stdout",
     "output_type": "stream",
     "text": [
      "68\n",
      "ELBO train_loss -2.652241759168286\n",
      "mse train_loss 0.000513922784858529\n",
      "ELBO val_loss -2.521412\n",
      "mse val_loss 0.00063088554\n",
      "mae val_loss 0.0133677395\n",
      "-----------------------------------------------------------------------\n"
     ]
    },
    {
     "data": {
      "application/vnd.jupyter.widget-view+json": {
       "model_id": "9eaea85d5ad14df7b2d152e93140efc6",
       "version_major": 2,
       "version_minor": 0
      },
      "text/plain": [
       "  0%|          | 0/1301 [00:00<?, ?it/s]"
      ]
     },
     "metadata": {},
     "output_type": "display_data"
    },
    {
     "name": "stdout",
     "output_type": "stream",
     "text": [
      "69\n",
      "ELBO train_loss -2.6532338867729943\n",
      "mse train_loss 0.0005068225798348852\n",
      "ELBO val_loss -2.4817557\n",
      "mse val_loss 0.0006359827\n",
      "mae val_loss 0.014113247\n",
      "-----------------------------------------------------------------------\n"
     ]
    },
    {
     "data": {
      "application/vnd.jupyter.widget-view+json": {
       "model_id": "d56ecdd4ffbd423880e2330b00b461d2",
       "version_major": 2,
       "version_minor": 0
      },
      "text/plain": [
       "  0%|          | 0/1301 [00:00<?, ?it/s]"
      ]
     },
     "metadata": {},
     "output_type": "display_data"
    },
    {
     "name": "stdout",
     "output_type": "stream",
     "text": [
      "70\n",
      "ELBO train_loss -2.651169668244546\n",
      "mse train_loss 0.00052194288943263\n",
      "ELBO val_loss -2.5110233\n",
      "mse val_loss 0.0006493949\n",
      "mae val_loss 0.014487703\n",
      "-----------------------------------------------------------------------\n"
     ]
    },
    {
     "data": {
      "application/vnd.jupyter.widget-view+json": {
       "model_id": "8e47f010fee74bebb9ee86df4b672fcc",
       "version_major": 2,
       "version_minor": 0
      },
      "text/plain": [
       "  0%|          | 0/1301 [00:00<?, ?it/s]"
      ]
     },
     "metadata": {},
     "output_type": "display_data"
    },
    {
     "name": "stdout",
     "output_type": "stream",
     "text": [
      "71\n",
      "ELBO train_loss -2.6576718480471553\n",
      "mse train_loss 0.0004951925375581154\n",
      "ELBO val_loss -2.5130455\n",
      "mse val_loss 0.00064844126\n",
      "mae val_loss 0.013438981\n",
      "-----------------------------------------------------------------------\n"
     ]
    },
    {
     "data": {
      "application/vnd.jupyter.widget-view+json": {
       "model_id": "70ffa542490a47edbf8ea9e8d97e3c59",
       "version_major": 2,
       "version_minor": 0
      },
      "text/plain": [
       "  0%|          | 0/1301 [00:00<?, ?it/s]"
      ]
     },
     "metadata": {},
     "output_type": "display_data"
    },
    {
     "name": "stdout",
     "output_type": "stream",
     "text": [
      "72\n",
      "ELBO train_loss -2.6568255225664648\n",
      "mse train_loss 0.0005190486814223623\n",
      "ELBO val_loss -2.5027664\n",
      "mse val_loss 0.00062870607\n",
      "mae val_loss 0.0136447055\n",
      "-----------------------------------------------------------------------\n"
     ]
    },
    {
     "data": {
      "application/vnd.jupyter.widget-view+json": {
       "model_id": "15b8ec1129bb4b678acb875302e28c76",
       "version_major": 2,
       "version_minor": 0
      },
      "text/plain": [
       "  0%|          | 0/1301 [00:00<?, ?it/s]"
      ]
     },
     "metadata": {},
     "output_type": "display_data"
    },
    {
     "name": "stdout",
     "output_type": "stream",
     "text": [
      "73\n",
      "ELBO train_loss -2.662287802718219\n",
      "mse train_loss 0.0004922654083339378\n",
      "ELBO val_loss -2.4531002\n",
      "mse val_loss 0.00066117896\n",
      "mae val_loss 0.013376946\n",
      "-----------------------------------------------------------------------\n"
     ]
    },
    {
     "data": {
      "application/vnd.jupyter.widget-view+json": {
       "model_id": "fb1bf1de457544529655550665bd4251",
       "version_major": 2,
       "version_minor": 0
      },
      "text/plain": [
       "  0%|          | 0/1301 [00:00<?, ?it/s]"
      ]
     },
     "metadata": {},
     "output_type": "display_data"
    },
    {
     "name": "stdout",
     "output_type": "stream",
     "text": [
      "74\n",
      "ELBO train_loss -2.6629036472541934\n",
      "mse train_loss 0.0004972569988742074\n",
      "ELBO val_loss -2.4556813\n",
      "mse val_loss 0.00063112087\n",
      "mae val_loss 0.013435143\n",
      "-----------------------------------------------------------------------\n"
     ]
    },
    {
     "data": {
      "application/vnd.jupyter.widget-view+json": {
       "model_id": "998d8ee915a34b268c0c5a71f0c842ae",
       "version_major": 2,
       "version_minor": 0
      },
      "text/plain": [
       "  0%|          | 0/1301 [00:00<?, ?it/s]"
      ]
     },
     "metadata": {},
     "output_type": "display_data"
    },
    {
     "name": "stdout",
     "output_type": "stream",
     "text": [
      "75\n",
      "ELBO train_loss -2.6583920038268714\n",
      "mse train_loss 0.0004970314367723954\n",
      "ELBO val_loss -2.4962993\n",
      "mse val_loss 0.00062526733\n",
      "mae val_loss 0.014138226\n",
      "-----------------------------------------------------------------------\n"
     ]
    },
    {
     "data": {
      "application/vnd.jupyter.widget-view+json": {
       "model_id": "25a8458411ef4f319b1b12470e2dc28a",
       "version_major": 2,
       "version_minor": 0
      },
      "text/plain": [
       "  0%|          | 0/1301 [00:00<?, ?it/s]"
      ]
     },
     "metadata": {},
     "output_type": "display_data"
    },
    {
     "name": "stdout",
     "output_type": "stream",
     "text": [
      "76\n",
      "ELBO train_loss -2.6587914847851164\n",
      "mse train_loss 0.0005208672765931609\n",
      "ELBO val_loss -2.516273\n",
      "mse val_loss 0.0006250926\n",
      "mae val_loss 0.013992846\n",
      "-----------------------------------------------------------------------\n"
     ]
    },
    {
     "data": {
      "application/vnd.jupyter.widget-view+json": {
       "model_id": "0bc6660e152c4c72a2415aaad761cc6a",
       "version_major": 2,
       "version_minor": 0
      },
      "text/plain": [
       "  0%|          | 0/1301 [00:00<?, ?it/s]"
      ]
     },
     "metadata": {},
     "output_type": "display_data"
    },
    {
     "name": "stdout",
     "output_type": "stream",
     "text": [
      "77\n",
      "ELBO train_loss -2.6508962715890756\n",
      "mse train_loss 0.0004942926667503788\n",
      "ELBO val_loss -2.4966004\n",
      "mse val_loss 0.0006325728\n",
      "mae val_loss 0.013605144\n",
      "-----------------------------------------------------------------------\n"
     ]
    },
    {
     "data": {
      "application/vnd.jupyter.widget-view+json": {
       "model_id": "27a8a7d9f48b45ab85510e42b5090f5b",
       "version_major": 2,
       "version_minor": 0
      },
      "text/plain": [
       "  0%|          | 0/1301 [00:00<?, ?it/s]"
      ]
     },
     "metadata": {},
     "output_type": "display_data"
    },
    {
     "name": "stdout",
     "output_type": "stream",
     "text": [
      "78\n",
      "ELBO train_loss -2.660788870609146\n",
      "mse train_loss 0.0005045453694510434\n",
      "ELBO val_loss -2.5132365\n",
      "mse val_loss 0.0006483101\n",
      "mae val_loss 0.0130485\n",
      "-----------------------------------------------------------------------\n"
     ]
    },
    {
     "data": {
      "application/vnd.jupyter.widget-view+json": {
       "model_id": "9c6e84b2e82d4b48bbe13c96b95eca80",
       "version_major": 2,
       "version_minor": 0
      },
      "text/plain": [
       "  0%|          | 0/1301 [00:00<?, ?it/s]"
      ]
     },
     "metadata": {},
     "output_type": "display_data"
    },
    {
     "name": "stdout",
     "output_type": "stream",
     "text": [
      "79\n",
      "ELBO train_loss -2.6582009553290806\n",
      "mse train_loss 0.0005120574295576977\n",
      "ELBO val_loss -2.4993994\n",
      "mse val_loss 0.00066855876\n",
      "mae val_loss 0.013233395\n",
      "-----------------------------------------------------------------------\n"
     ]
    },
    {
     "data": {
      "application/vnd.jupyter.widget-view+json": {
       "model_id": "f724bee3e8ee402d9b6b6951f302ec4e",
       "version_major": 2,
       "version_minor": 0
      },
      "text/plain": [
       "  0%|          | 0/1301 [00:00<?, ?it/s]"
      ]
     },
     "metadata": {},
     "output_type": "display_data"
    },
    {
     "name": "stdout",
     "output_type": "stream",
     "text": [
      "80\n",
      "ELBO train_loss -2.6614494269669375\n",
      "mse train_loss 0.0004951049029717234\n",
      "ELBO val_loss -2.5097535\n",
      "mse val_loss 0.0006252179\n",
      "mae val_loss 0.013656235\n",
      "-----------------------------------------------------------------------\n"
     ]
    },
    {
     "data": {
      "application/vnd.jupyter.widget-view+json": {
       "model_id": "37907b2d49ff4e80a16aba3f9ea9ffda",
       "version_major": 2,
       "version_minor": 0
      },
      "text/plain": [
       "  0%|          | 0/1301 [00:00<?, ?it/s]"
      ]
     },
     "metadata": {},
     "output_type": "display_data"
    },
    {
     "name": "stdout",
     "output_type": "stream",
     "text": [
      "81\n",
      "ELBO train_loss -2.663781498231675\n",
      "mse train_loss 0.0004892053205365022\n",
      "ELBO val_loss -2.4762397\n",
      "mse val_loss 0.00064140285\n",
      "mae val_loss 0.0139303105\n",
      "-----------------------------------------------------------------------\n"
     ]
    },
    {
     "data": {
      "application/vnd.jupyter.widget-view+json": {
       "model_id": "aca6d64d9dce4e3a95175080b2e52e81",
       "version_major": 2,
       "version_minor": 0
      },
      "text/plain": [
       "  0%|          | 0/1301 [00:00<?, ?it/s]"
      ]
     },
     "metadata": {},
     "output_type": "display_data"
    },
    {
     "name": "stdout",
     "output_type": "stream",
     "text": [
      "82\n",
      "ELBO train_loss -2.6596547688180716\n",
      "mse train_loss 0.0005163062863516031\n",
      "ELBO val_loss -2.528023\n",
      "mse val_loss 0.0006164445\n",
      "mae val_loss 0.0133921495\n",
      "-----------------------------------------------------------------------\n"
     ]
    },
    {
     "data": {
      "application/vnd.jupyter.widget-view+json": {
       "model_id": "c3b68141c6d5441080f8d6dc3273f9d0",
       "version_major": 2,
       "version_minor": 0
      },
      "text/plain": [
       "  0%|          | 0/1301 [00:00<?, ?it/s]"
      ]
     },
     "metadata": {},
     "output_type": "display_data"
    },
    {
     "name": "stdout",
     "output_type": "stream",
     "text": [
      "83\n",
      "ELBO train_loss -2.6577816002191166\n",
      "mse train_loss 0.0005061177547616533\n",
      "ELBO val_loss -2.5013332\n",
      "mse val_loss 0.0006273108\n",
      "mae val_loss 0.013417105\n",
      "-----------------------------------------------------------------------\n"
     ]
    },
    {
     "data": {
      "application/vnd.jupyter.widget-view+json": {
       "model_id": "499f4d7ac1ea4edfabe530e181d6e0d7",
       "version_major": 2,
       "version_minor": 0
      },
      "text/plain": [
       "  0%|          | 0/1301 [00:00<?, ?it/s]"
      ]
     },
     "metadata": {},
     "output_type": "display_data"
    },
    {
     "name": "stdout",
     "output_type": "stream",
     "text": [
      "84\n",
      "ELBO train_loss -2.6533710006381073\n",
      "mse train_loss 0.0004996693967182982\n",
      "ELBO val_loss -2.5315697\n",
      "mse val_loss 0.00062909944\n",
      "mae val_loss 0.0134308925\n",
      "-----------------------------------------------------------------------\n"
     ]
    },
    {
     "data": {
      "application/vnd.jupyter.widget-view+json": {
       "model_id": "1a45c82f21394830a021d499441353d2",
       "version_major": 2,
       "version_minor": 0
      },
      "text/plain": [
       "  0%|          | 0/1301 [00:00<?, ?it/s]"
      ]
     },
     "metadata": {},
     "output_type": "display_data"
    },
    {
     "name": "stdout",
     "output_type": "stream",
     "text": [
      "85\n",
      "ELBO train_loss -2.6675029260941785\n",
      "mse train_loss 0.0004993878982399771\n",
      "ELBO val_loss -2.4906113\n",
      "mse val_loss 0.0006300643\n",
      "mae val_loss 0.013592469\n",
      "-----------------------------------------------------------------------\n"
     ]
    },
    {
     "data": {
      "application/vnd.jupyter.widget-view+json": {
       "model_id": "bb5481788b7b462eabb3a22938ea9f9e",
       "version_major": 2,
       "version_minor": 0
      },
      "text/plain": [
       "  0%|          | 0/1301 [00:00<?, ?it/s]"
      ]
     },
     "metadata": {},
     "output_type": "display_data"
    },
    {
     "name": "stdout",
     "output_type": "stream",
     "text": [
      "86\n",
      "ELBO train_loss -2.664436720958771\n",
      "mse train_loss 0.0005153930834337043\n",
      "ELBO val_loss -2.527473\n",
      "mse val_loss 0.00063912343\n",
      "mae val_loss 0.013563344\n",
      "-----------------------------------------------------------------------\n"
     ]
    },
    {
     "data": {
      "application/vnd.jupyter.widget-view+json": {
       "model_id": "b425517b0be849249b53cf29b3b466e0",
       "version_major": 2,
       "version_minor": 0
      },
      "text/plain": [
       "  0%|          | 0/1301 [00:00<?, ?it/s]"
      ]
     },
     "metadata": {},
     "output_type": "display_data"
    },
    {
     "name": "stdout",
     "output_type": "stream",
     "text": [
      "87\n",
      "ELBO train_loss -2.664743260362348\n",
      "mse train_loss 0.0005105769818381684\n",
      "ELBO val_loss -2.5246365\n",
      "mse val_loss 0.0006248382\n",
      "mae val_loss 0.014017917\n",
      "-----------------------------------------------------------------------\n"
     ]
    },
    {
     "data": {
      "application/vnd.jupyter.widget-view+json": {
       "model_id": "ac997d0f171a4f3883e3e84dbc6d221d",
       "version_major": 2,
       "version_minor": 0
      },
      "text/plain": [
       "  0%|          | 0/1301 [00:00<?, ?it/s]"
      ]
     },
     "metadata": {},
     "output_type": "display_data"
    },
    {
     "name": "stdout",
     "output_type": "stream",
     "text": [
      "88\n",
      "ELBO train_loss -2.661547922061829\n",
      "mse train_loss 0.0005107667665240222\n",
      "ELBO val_loss -2.5275648\n",
      "mse val_loss 0.00062667433\n",
      "mae val_loss 0.014216572\n",
      "-----------------------------------------------------------------------\n"
     ]
    },
    {
     "data": {
      "application/vnd.jupyter.widget-view+json": {
       "model_id": "303cbdd1940c48ad939de5c8c4a59973",
       "version_major": 2,
       "version_minor": 0
      },
      "text/plain": [
       "  0%|          | 0/1301 [00:00<?, ?it/s]"
      ]
     },
     "metadata": {},
     "output_type": "display_data"
    },
    {
     "name": "stdout",
     "output_type": "stream",
     "text": [
      "89\n",
      "ELBO train_loss -2.66315599174155\n",
      "mse train_loss 0.000497861009380477\n",
      "ELBO val_loss -2.5210512\n",
      "mse val_loss 0.0006246137\n",
      "mae val_loss 0.013363092\n",
      "-----------------------------------------------------------------------\n"
     ]
    },
    {
     "data": {
      "application/vnd.jupyter.widget-view+json": {
       "model_id": "b94bfd7a4cae486aacdb2b0cf74302b2",
       "version_major": 2,
       "version_minor": 0
      },
      "text/plain": [
       "  0%|          | 0/1301 [00:00<?, ?it/s]"
      ]
     },
     "metadata": {},
     "output_type": "display_data"
    },
    {
     "name": "stdout",
     "output_type": "stream",
     "text": [
      "90\n",
      "ELBO train_loss -2.6657540979612615\n",
      "mse train_loss 0.0005004414964421115\n",
      "ELBO val_loss -2.534837\n",
      "mse val_loss 0.00062463945\n",
      "mae val_loss 0.013717285\n",
      "-----------------------------------------------------------------------\n"
     ]
    },
    {
     "data": {
      "application/vnd.jupyter.widget-view+json": {
       "model_id": "4bb0ebabf614444d83d8fd740abddf1e",
       "version_major": 2,
       "version_minor": 0
      },
      "text/plain": [
       "  0%|          | 0/1301 [00:00<?, ?it/s]"
      ]
     },
     "metadata": {},
     "output_type": "display_data"
    },
    {
     "name": "stdout",
     "output_type": "stream",
     "text": [
      "91\n",
      "ELBO train_loss -2.662682735947441\n",
      "mse train_loss 0.000515007954503343\n",
      "ELBO val_loss -2.4754863\n",
      "mse val_loss 0.0006505637\n",
      "mae val_loss 0.015147113\n",
      "-----------------------------------------------------------------------\n"
     ]
    },
    {
     "data": {
      "application/vnd.jupyter.widget-view+json": {
       "model_id": "1e30242e690647d59ef0a6e969badaa5",
       "version_major": 2,
       "version_minor": 0
      },
      "text/plain": [
       "  0%|          | 0/1301 [00:00<?, ?it/s]"
      ]
     },
     "metadata": {},
     "output_type": "display_data"
    },
    {
     "name": "stdout",
     "output_type": "stream",
     "text": [
      "92\n",
      "ELBO train_loss -2.6619335593488196\n",
      "mse train_loss 0.0005129780389027073\n",
      "ELBO val_loss -2.5336897\n",
      "mse val_loss 0.0006237957\n",
      "mae val_loss 0.0131859165\n",
      "-----------------------------------------------------------------------\n"
     ]
    },
    {
     "data": {
      "application/vnd.jupyter.widget-view+json": {
       "model_id": "b44ebe3647744af59a7479587015bde3",
       "version_major": 2,
       "version_minor": 0
      },
      "text/plain": [
       "  0%|          | 0/1301 [00:00<?, ?it/s]"
      ]
     },
     "metadata": {},
     "output_type": "display_data"
    },
    {
     "name": "stdout",
     "output_type": "stream",
     "text": [
      "93\n",
      "ELBO train_loss -2.6564556197145186\n",
      "mse train_loss 0.0005115693926426538\n",
      "ELBO val_loss -2.5031583\n",
      "mse val_loss 0.0006281069\n",
      "mae val_loss 0.0135498885\n",
      "-----------------------------------------------------------------------\n"
     ]
    },
    {
     "data": {
      "application/vnd.jupyter.widget-view+json": {
       "model_id": "72a2956108e5414bb3eb38bd446f8b6e",
       "version_major": 2,
       "version_minor": 0
      },
      "text/plain": [
       "  0%|          | 0/1301 [00:00<?, ?it/s]"
      ]
     },
     "metadata": {},
     "output_type": "display_data"
    },
    {
     "name": "stdout",
     "output_type": "stream",
     "text": [
      "94\n",
      "ELBO train_loss -2.660481898533574\n",
      "mse train_loss 0.0004886771887775258\n",
      "ELBO val_loss -2.53241\n",
      "mse val_loss 0.000619828\n",
      "mae val_loss 0.0133647015\n",
      "-----------------------------------------------------------------------\n"
     ]
    },
    {
     "data": {
      "application/vnd.jupyter.widget-view+json": {
       "model_id": "b9d4731ca4d7428dae88fdb394845b41",
       "version_major": 2,
       "version_minor": 0
      },
      "text/plain": [
       "  0%|          | 0/1301 [00:00<?, ?it/s]"
      ]
     },
     "metadata": {},
     "output_type": "display_data"
    },
    {
     "name": "stdout",
     "output_type": "stream",
     "text": [
      "95\n",
      "ELBO train_loss -2.6661665093248206\n",
      "mse train_loss 0.0004998394708126049\n",
      "ELBO val_loss -2.520999\n",
      "mse val_loss 0.0006211596\n",
      "mae val_loss 0.013707584\n",
      "-----------------------------------------------------------------------\n"
     ]
    },
    {
     "data": {
      "application/vnd.jupyter.widget-view+json": {
       "model_id": "b86ee39ef4964809b786f9252a5b8828",
       "version_major": 2,
       "version_minor": 0
      },
      "text/plain": [
       "  0%|          | 0/1301 [00:00<?, ?it/s]"
      ]
     },
     "metadata": {},
     "output_type": "display_data"
    },
    {
     "name": "stdout",
     "output_type": "stream",
     "text": [
      "96\n",
      "ELBO train_loss -2.663169945459197\n",
      "mse train_loss 0.0004971848344781095\n",
      "ELBO val_loss -2.4636064\n",
      "mse val_loss 0.0006366188\n",
      "mae val_loss 0.01346372\n",
      "-----------------------------------------------------------------------\n"
     ]
    },
    {
     "data": {
      "application/vnd.jupyter.widget-view+json": {
       "model_id": "d306a1e7e8bd448d99363eca42282cb7",
       "version_major": 2,
       "version_minor": 0
      },
      "text/plain": [
       "  0%|          | 0/1301 [00:00<?, ?it/s]"
      ]
     },
     "metadata": {},
     "output_type": "display_data"
    },
    {
     "name": "stdout",
     "output_type": "stream",
     "text": [
      "97\n",
      "ELBO train_loss -2.6705456721975107\n",
      "mse train_loss 0.0005052266151645722\n",
      "ELBO val_loss -2.5179775\n",
      "mse val_loss 0.00062847795\n",
      "mae val_loss 0.0141789885\n",
      "-----------------------------------------------------------------------\n"
     ]
    },
    {
     "data": {
      "application/vnd.jupyter.widget-view+json": {
       "model_id": "216f0682728349e0a265e074c840ba18",
       "version_major": 2,
       "version_minor": 0
      },
      "text/plain": [
       "  0%|          | 0/1301 [00:00<?, ?it/s]"
      ]
     },
     "metadata": {},
     "output_type": "display_data"
    },
    {
     "name": "stdout",
     "output_type": "stream",
     "text": [
      "98\n",
      "ELBO train_loss -2.6634804012223814\n",
      "mse train_loss 0.0005058015151236863\n",
      "ELBO val_loss -2.527833\n",
      "mse val_loss 0.0006443871\n",
      "mae val_loss 0.01394686\n",
      "-----------------------------------------------------------------------\n"
     ]
    },
    {
     "data": {
      "application/vnd.jupyter.widget-view+json": {
       "model_id": "5147ff9549a14d55a6e86650b5b4e071",
       "version_major": 2,
       "version_minor": 0
      },
      "text/plain": [
       "  0%|          | 0/1301 [00:00<?, ?it/s]"
      ]
     },
     "metadata": {},
     "output_type": "display_data"
    },
    {
     "name": "stdout",
     "output_type": "stream",
     "text": [
      "99\n",
      "ELBO train_loss -2.6621607268067344\n",
      "mse train_loss 0.0005052638600869329\n",
      "ELBO val_loss -2.497477\n",
      "mse val_loss 0.0006208653\n",
      "mae val_loss 0.013814519\n",
      "-----------------------------------------------------------------------\n"
     ]
    }
   ],
   "source": [
    "from tqdm.auto import tqdm \n",
    "val_norm = data_test.shape[0]\n",
    "mse_loss_train = []\n",
    "mse_loss_eval = []\n",
    "elbo_loss_train  = []\n",
    "elbo_loss_eval = []\n",
    "mae_val_loss = []\n",
    "for epoch in range(100):\n",
    "    loss = 0 \n",
    "    mse_loss = 0\n",
    "    Regressor.train()\n",
    "    for batch in tqdm(train_loader):\n",
    "        context_x, context_y, target_x, target_y = batch\n",
    "#         print(context_x.shape)\n",
    "        Regressor.zero_grad()\n",
    "        y_pred, losses, extra = Regressor.forward(context_x, context_y, target_x, target_y, training=True)\n",
    "        losses['loss'].backward()\n",
    "        loss += losses['loss'].cpu().detach().numpy()\n",
    "        mse_loss+=losses['loss_mse'].cpu().detach().numpy()\n",
    "        opt.step()\n",
    "        \n",
    "    loss /= len(train_loader)\n",
    "    elbo_loss_train.append(loss)\n",
    "    mse_loss_train.append(mse_loss/len(train_loader))\n",
    "    print(epoch)\n",
    "    print('ELBO train_loss', loss)\n",
    "    print('mse train_loss', mse_loss/len(train_loader))\n",
    "    \n",
    "    yr, ypred, losses_val, extra = test()\n",
    "    mse_loss_val = losses_val['loss_mse'].cpu().detach().numpy()\n",
    "    mse_loss_eval.append(mse_loss_val)\n",
    "    elbo_loss_val = losses_val['loss'].cpu().detach().numpy() \n",
    "    val_loss = np.mean(np.abs(yr))\n",
    "    elbo_loss_eval.append(elbo_loss_val)\n",
    "    mae_val_loss.append(val_loss)\n",
    "    print('ELBO val_loss', elbo_loss_val)\n",
    "    print('mse val_loss', mse_loss_val)\n",
    "    print('mae val_loss', val_loss)\n",
    "    print(\"-----------------------------------------------------------------------\")"
   ]
  },
  {
   "cell_type": "code",
   "execution_count": null,
   "id": "proud-intranet",
   "metadata": {},
   "outputs": [],
   "source": [
    "# len(train_loader)"
   ]
  },
  {
   "cell_type": "markdown",
   "id": "anonymous-robinson",
   "metadata": {},
   "source": [
    "# Model evaluation"
   ]
  },
  {
   "cell_type": "markdown",
   "id": "requested-accident",
   "metadata": {},
   "source": [
    "### Train vs val loss"
   ]
  },
  {
   "cell_type": "code",
   "execution_count": null,
   "id": "whole-jimmy",
   "metadata": {},
   "outputs": [],
   "source": [
    "# x  = np.arange(0,234,1)\n",
    "# x"
   ]
  },
  {
   "cell_type": "code",
   "execution_count": 122,
   "id": "bigger-neutral",
   "metadata": {},
   "outputs": [],
   "source": [
    "def loss_plot(train_loss, val_loss):\n",
    "    x = x  = np.arange(0,100,1)\n",
    "    plt.plot(x,train_loss, label =\"train\")\n",
    "    plt.plot(x, val_loss, label = \"val\")\n",
    "    plt.xlabel(\"epochs\")\n",
    "    plt.ylabel(\"loss\")\n",
    "    plt.legend()\n",
    "    plt.show()"
   ]
  },
  {
   "cell_type": "code",
   "execution_count": 123,
   "id": "associate-belle",
   "metadata": {},
   "outputs": [
    {
     "data": {
      "image/png": "[encoded data removed]",
      "text/plain": [
       "<Figure size 432x288 with 1 Axes>"
      ]
     },
     "metadata": {
      "needs_background": "light"
     },
     "output_type": "display_data"
    }
   ],
   "source": [
    "#Elbo loss plot\n",
    "loss_plot(elbo_loss_train, elbo_loss_eval)"
   ]
  },
  {
   "cell_type": "code",
   "execution_count": 128,
   "id": "productive-forth",
   "metadata": {},
   "outputs": [
    {
     "data": {
      "image/png": "[encoded data removed]",
      "text/plain": [
       "<Figure size 432x288 with 1 Axes>"
      ]
     },
     "metadata": {
      "needs_background": "light"
     },
     "output_type": "display_data"
    }
   ],
   "source": [
    "# mse loss plot\n",
    "loss_plot(mse_loss_train, mse_loss_eval)"
   ]
  },
  {
   "cell_type": "code",
   "execution_count": null,
   "id": "received-hungary",
   "metadata": {},
   "outputs": [],
   "source": []
  },
  {
   "cell_type": "code",
   "execution_count": null,
   "id": "fewer-cleaner",
   "metadata": {},
   "outputs": [],
   "source": []
  },
  {
   "cell_type": "code",
   "execution_count": null,
   "id": "genuine-ghost",
   "metadata": {},
   "outputs": [],
   "source": []
  },
  {
   "cell_type": "code",
   "execution_count": null,
   "id": "british-separate",
   "metadata": {},
   "outputs": [],
   "source": []
  },
  {
   "cell_type": "code",
   "execution_count": null,
   "id": "solved-locator",
   "metadata": {},
   "outputs": [],
   "source": []
  },
  {
   "cell_type": "code",
   "execution_count": 112,
   "id": "canadian-honor",
   "metadata": {},
   "outputs": [],
   "source": [
    "# To define function to find batch size for training the model\n",
    "# use this function to find out the batch size\n",
    "#https://stackoverflow.com/questions/46654424/how-to-calculate-optimal-batch-size\n",
    "def FindBatchSize(model):\n",
    "    \"\"\"#model: model architecture, that is yet to be trained\"\"\"\n",
    "    import os, sys, psutil, gc, tensorflow, keras\n",
    "    import numpy as np\n",
    "    from keras import backend as K\n",
    "    BatchFound= 16\n",
    "\n",
    "    try:\n",
    "        total_params= int(model.count_params());    GCPU= \"CPU\"\n",
    "        #find whether gpu is available\n",
    "        try:\n",
    "            if K.tensorflow_backend._get_available_gpus()== []:\n",
    "                GCPU= \"CPU\";    #CPU and Cuda9GPU\n",
    "            else:\n",
    "                GCPU= \"GPU\"\n",
    "        except:\n",
    "            from tensorflow.python.client import device_lib;    #Cuda8GPU\n",
    "            def get_available_gpus():\n",
    "                local_device_protos= device_lib.list_local_devices()\n",
    "                return [x.name for x in local_device_protos if x.device_type == 'GPU']\n",
    "            if \"gpu\" not in str(get_available_gpus()).lower():\n",
    "                GCPU= \"CPU\"\n",
    "            else:\n",
    "                GCPU= \"GPU\"\n",
    "\n",
    "        #decide batch size on the basis of GPU availability and model complexity\n",
    "        if (GCPU== \"GPU\") and (os.cpu_count() >15) and (total_params <1000000):\n",
    "            BatchFound= 64    \n",
    "        if (os.cpu_count() <16) and (total_params <500000):\n",
    "            BatchFound= 64  \n",
    "        if (GCPU== \"GPU\") and (os.cpu_count() >15) and (total_params <2000000) and (total_params >=1000000):\n",
    "            BatchFound= 32      \n",
    "        if (GCPU== \"GPU\") and (os.cpu_count() >15) and (total_params >=2000000) and (total_params <10000000):\n",
    "            BatchFound= 16  \n",
    "        if (GCPU== \"GPU\") and (os.cpu_count() >15) and (total_params >=10000000):\n",
    "            BatchFound= 8       \n",
    "        if (os.cpu_count() <16) and (total_params >5000000):\n",
    "            BatchFound= 8    \n",
    "        if total_params >100000000:\n",
    "            BatchFound= 1\n",
    "\n",
    "    except:\n",
    "        pass\n",
    "    try:\n",
    "\n",
    "        #find percentage of memory used\n",
    "        memoryused= psutil.virtual_memory()\n",
    "        memoryused= float(str(memoryused).replace(\" \", \"\").split(\"percent=\")[1].split(\",\")[0])\n",
    "        if memoryused >75.0:\n",
    "            BatchFound= 8\n",
    "        if memoryused >85.0:\n",
    "            BatchFound= 4\n",
    "        if memoryused >90.0:\n",
    "            BatchFound= 2\n",
    "        if total_params >100000000:\n",
    "            BatchFound= 1\n",
    "        print(\"Batch Size:  \"+ str(BatchFound));    gc.collect()\n",
    "    except:\n",
    "        pass\n",
    "\n",
    "    memoryused= [];    total_params= [];    GCPU= \"\";\n",
    "    del memoryused, total_params, GCPU;    gc.collect()\n",
    "    return BatchFound"
   ]
  },
  {
   "cell_type": "code",
   "execution_count": 113,
   "id": "choice-serial",
   "metadata": {},
   "outputs": [
    {
     "data": {
      "text/plain": [
       "16"
      ]
     },
     "execution_count": 113,
     "metadata": {},
     "output_type": "execute_result"
    }
   ],
   "source": [
    "FindBatchSize(Regressor)"
   ]
  },
  {
   "cell_type": "markdown",
   "id": "equivalent-class",
   "metadata": {},
   "source": [
    "# Meuse data testing"
   ]
  },
  {
   "cell_type": "code",
   "execution_count": 129,
   "id": "oriental-litigation",
   "metadata": {},
   "outputs": [],
   "source": [
    "# %%capture\n",
    "# !pip install geopandas"
   ]
  },
  {
   "cell_type": "code",
   "execution_count": 130,
   "id": "composed-journey",
   "metadata": {},
   "outputs": [],
   "source": [
    "import os,requests\n",
    "import geopandas as gpd"
   ]
  },
  {
   "cell_type": "code",
   "execution_count": 131,
   "id": "occupied-familiar",
   "metadata": {},
   "outputs": [],
   "source": [
    "allow_columns = ['lead', 'elev', 'dist', 'x', 'y', 'ffreq', 'soil']\n",
    "label ='lead'"
   ]
  },
  {
   "cell_type": "code",
   "execution_count": 132,
   "id": "accessible-portsmouth",
   "metadata": {},
   "outputs": [
    {
     "data": {
      "text/html": [
       "<div>\n",
       "<style scoped>\n",
       "    .dataframe tbody tr th:only-of-type {\n",
       "        vertical-align: middle;\n",
       "    }\n",
       "\n",
       "    .dataframe tbody tr th {\n",
       "        vertical-align: top;\n",
       "    }\n",
       "\n",
       "    .dataframe thead th {\n",
       "        text-align: right;\n",
       "    }\n",
       "</style>\n",
       "<table border=\"1\" class=\"dataframe\">\n",
       "  <thead>\n",
       "    <tr style=\"text-align: right;\">\n",
       "      <th></th>\n",
       "      <th>cadmium</th>\n",
       "      <th>copper</th>\n",
       "      <th>lead</th>\n",
       "      <th>zinc</th>\n",
       "      <th>elev</th>\n",
       "      <th>dist</th>\n",
       "      <th>om</th>\n",
       "      <th>ffreq</th>\n",
       "      <th>soil</th>\n",
       "      <th>lime</th>\n",
       "      <th>landuse</th>\n",
       "      <th>dist.m</th>\n",
       "      <th>geometry</th>\n",
       "      <th>x</th>\n",
       "      <th>y</th>\n",
       "    </tr>\n",
       "  </thead>\n",
       "  <tbody>\n",
       "    <tr>\n",
       "      <th>116</th>\n",
       "      <td>0.2</td>\n",
       "      <td>23.0</td>\n",
       "      <td>75.0</td>\n",
       "      <td>203.0</td>\n",
       "      <td>9.691</td>\n",
       "      <td>0.162853</td>\n",
       "      <td>6.8</td>\n",
       "      <td>2</td>\n",
       "      <td>1</td>\n",
       "      <td>1</td>\n",
       "      <td>STA</td>\n",
       "      <td>150.0</td>\n",
       "      <td>POINT (179644.000 331730.000)</td>\n",
       "      <td>179644.0</td>\n",
       "      <td>331730.0</td>\n",
       "    </tr>\n",
       "    <tr>\n",
       "      <th>26</th>\n",
       "      <td>1.3</td>\n",
       "      <td>27.0</td>\n",
       "      <td>73.0</td>\n",
       "      <td>207.0</td>\n",
       "      <td>8.507</td>\n",
       "      <td>0.315116</td>\n",
       "      <td>5.6</td>\n",
       "      <td>1</td>\n",
       "      <td>2</td>\n",
       "      <td>0</td>\n",
       "      <td>Ab</td>\n",
       "      <td>400.0</td>\n",
       "      <td>POINT (181008.000 332777.000)</td>\n",
       "      <td>181008.0</td>\n",
       "      <td>332777.0</td>\n",
       "    </tr>\n",
       "  </tbody>\n",
       "</table>\n",
       "</div>"
      ],
      "text/plain": [
       "     cadmium  copper  lead   zinc   elev      dist   om ffreq soil lime  \\\n",
       "116      0.2    23.0  75.0  203.0  9.691  0.162853  6.8     2    1    1   \n",
       "26       1.3    27.0  73.0  207.0  8.507  0.315116  5.6     1    2    0   \n",
       "\n",
       "    landuse  dist.m                       geometry         x         y  \n",
       "116     STA   150.0  POINT (179644.000 331730.000)  179644.0  331730.0  \n",
       "26       Ab   400.0  POINT (181008.000 332777.000)  181008.0  332777.0  "
      ]
     },
     "execution_count": 132,
     "metadata": {},
     "output_type": "execute_result"
    }
   ],
   "source": [
    "meuse = gpd.read_file('meuse')\n",
    "meuse.crs = {'init':'epsg:28992'}\n",
    "meuse['x'] = meuse['geometry'].apply(lambda x: x.x)\n",
    "meuse['y'] = meuse['geometry'].apply(lambda x: x.y)\n",
    "meuse.sample(2)"
   ]
  },
  {
   "cell_type": "code",
   "execution_count": 133,
   "id": "dietary-dakota",
   "metadata": {},
   "outputs": [
    {
     "name": "stdout",
     "output_type": "stream",
     "text": [
      "<class 'pandas.core.frame.DataFrame'>\n",
      "RangeIndex: 155 entries, 0 to 154\n",
      "Data columns (total 7 columns):\n",
      " #   Column  Non-Null Count  Dtype  \n",
      "---  ------  --------------  -----  \n",
      " 0   lead    155 non-null    float64\n",
      " 1   elev    155 non-null    float64\n",
      " 2   dist    155 non-null    float64\n",
      " 3   x       155 non-null    float64\n",
      " 4   y       155 non-null    float64\n",
      " 5   ffreq   155 non-null    float64\n",
      " 6   soil    155 non-null    float64\n",
      "dtypes: float64(7)\n",
      "memory usage: 8.6 KB\n"
     ]
    }
   ],
   "source": [
    "for col in ['ffreq', 'soil']:\n",
    "    meuse[col] = pd.to_numeric(meuse[col]) * 1.0\n",
    "meuse[allow_columns].info()"
   ]
  },
  {
   "cell_type": "code",
   "execution_count": 134,
   "id": "filled-maple",
   "metadata": {},
   "outputs": [
    {
     "name": "stdout",
     "output_type": "stream",
     "text": [
      "Number of observations in training: 122, in test: 39\n"
     ]
    }
   ],
   "source": [
    "np.random.seed(0)\n",
    "test_indexes = np.random.choice(a=meuse.index, size=int(np.round(len(meuse.index.values)/4)))\n",
    "train_indexes = [index for index in meuse.index if index not in test_indexes]\n",
    "meuse_test = meuse.loc[test_indexes,:].copy()\n",
    "meuse_train = meuse.loc[train_indexes,:].copy()\n",
    "print('Number of observations in training: {}, in test: {}'.format(len(meuse_train), len(meuse_test)))"
   ]
  },
  {
   "cell_type": "code",
   "execution_count": 135,
   "id": "active-interpretation",
   "metadata": {},
   "outputs": [],
   "source": [
    "df_train = meuse_train[allow_columns].copy()\n",
    "norm_mean = meuse[allow_columns].mean()\n",
    "norm_std = meuse[allow_columns].std()\n",
    "\n",
    "hparams = dict(\n",
    "    num_context=15,\n",
    "    num_extra_target=16,\n",
    "    batch_size=40,\n",
    "    context_in_target=False,\n",
    ")\n"
   ]
  },
  {
   "cell_type": "code",
   "execution_count": 136,
   "id": "turned-symposium",
   "metadata": {},
   "outputs": [],
   "source": [
    "class DataSet(torch.utils.data.Dataset):\n",
    "    def __init__(self, df, num_context=40, num_extra_target=10, label_names=['lead']):\n",
    "        self.df = df\n",
    "        self.num_context = num_context\n",
    "        self.num_extra_target = num_extra_target\n",
    "        self.label_names = label_names\n",
    "\n",
    "    def get_rows(self, i):\n",
    "        rows = self.df.iloc[i : i + (self.num_context + self.num_extra_target)].copy()\n",
    "\n",
    "        # make sure tstp, which is our x axis, is the first value\n",
    "\n",
    "        # This will be the last row, and will change it upon sample to let the model know some points are in the future\n",
    "\n",
    "        x = rows.drop(columns=self.label_names).copy()\n",
    "        y = rows[self.label_names].copy()\n",
    "#         print(x.shape)\n",
    "#         print(y.shape)\n",
    "        return x, y\n",
    "\n",
    "\n",
    "    def __getitem__(self, i):\n",
    "        x, y = self.get_rows(i)\n",
    "        return x.values, y.values\n",
    "        \n",
    "    def __len__(self):\n",
    "        return len(self.df) - (self.num_context + self.num_extra_target)\n"
   ]
  },
  {
   "cell_type": "code",
   "execution_count": 137,
   "id": "enabling-mentor",
   "metadata": {},
   "outputs": [],
   "source": [
    "# for i, batch in enumerate(loader_train):\n",
    "#     a,b,c,d = batch\n",
    "#     print(d.shape)"
   ]
  },
  {
   "cell_type": "code",
   "execution_count": 138,
   "id": "clear-dakota",
   "metadata": {},
   "outputs": [],
   "source": [
    "df_train = meuse_train[allow_columns].copy()\n",
    "df_train -= norm_mean\n",
    "df_train /= norm_std\n",
    "\n",
    "data_train = DataSet(\n",
    "    df_train, hparams[\"num_context\"], hparams[\"num_extra_target\"]\n",
    ")\n",
    "loader_train = torch.utils.data.DataLoader(\n",
    "    data_train,\n",
    "    batch_size=hparams[\"batch_size\"],\n",
    "    shuffle=True,\n",
    "    collate_fn=collate_fns(\n",
    "        hparams[\"num_context\"], hparams[\"num_extra_target\"], sample=True, context_in_target=hparams[\"context_in_target\"]\n",
    "    ),\n",
    ")"
   ]
  },
  {
   "cell_type": "code",
   "execution_count": 139,
   "id": "selected-showcase",
   "metadata": {},
   "outputs": [],
   "source": [
    "df_test = meuse_test[allow_columns].copy()\n",
    "df_test -= norm_mean\n",
    "df_test /= norm_std\n",
    "\n",
    "data_test = DataSet(\n",
    "    df_test, hparams[\"num_context\"], hparams[\"num_extra_target\"]\n",
    ")\n",
    "loader_test = torch.utils.data.DataLoader(\n",
    "    data_test,\n",
    "    batch_size=hparams[\"batch_size\"],\n",
    "    shuffle=False,\n",
    "    collate_fn=collate_fns(\n",
    "        hparams[\"num_context\"], hparams[\"num_extra_target\"], sample=False, context_in_target=hparams[\"context_in_target\"]\n",
    "    ),\n",
    ")"
   ]
  },
  {
   "cell_type": "code",
   "execution_count": 140,
   "id": "complete-essay",
   "metadata": {},
   "outputs": [],
   "source": [
    "Regressor = LatentModel(len(allow_columns)-1,1,\n",
    "                       p_drop = 0.5,\n",
    "                        hidden_dim = 64,\n",
    "                        latent_dim = 16,\n",
    "                       n_decoder_layer = 3,\n",
    "                       norm = 'batch',\n",
    "                       context_in_target=False,\n",
    "                       )"
   ]
  },
  {
   "cell_type": "code",
   "execution_count": 141,
   "id": "limited-attitude",
   "metadata": {},
   "outputs": [],
   "source": [
    "opt = torch.optim.Adam(Regressor.parameters(), lr=3e-4)"
   ]
  },
  {
   "cell_type": "code",
   "execution_count": 142,
   "id": "super-money",
   "metadata": {},
   "outputs": [],
   "source": [
    "# Make predictions\n",
    "def test(do_eval=True):\n",
    "    \"\"\"Run model on test/val data\"\"\"\n",
    "    if do_eval:\n",
    "        Regressor.eval()\n",
    "    with torch.no_grad():\n",
    "        target_x, target_y = df_test.drop(columns=['lead']), df_test['lead']\n",
    "        context_x, context_y = df_train.drop(columns=['lead']), df_train['lead']\n",
    "\n",
    "        context_x = torch.from_numpy(context_x.values).float()[None, :]\n",
    "        context_y = torch.from_numpy(context_y.values).float()[None, :, None]\n",
    "        target_x = torch.from_numpy(target_x.values).float()[None, :]\n",
    "        target_y = torch.from_numpy(target_y.values).float()[None, :, None]\n",
    "\n",
    "        y_pred, losses, extra = Regressor.forward(context_x, context_y, target_x, target_y, training= False)\n",
    "    yr=(target_y-y_pred)[0].detach().cpu().numpy() * norm_std['lead']\n",
    "    \n",
    "    return yr, y_pred, losses, extra "
   ]
  },
  {
   "cell_type": "code",
   "execution_count": 143,
   "id": "passive-flush",
   "metadata": {
    "scrolled": false
   },
   "outputs": [
    {
     "data": {
      "application/vnd.jupyter.widget-view+json": {
       "model_id": "e10aa51140b344fd9ded2aa036fc26fc",
       "version_major": 2,
       "version_minor": 0
      },
      "text/plain": [
       "  0%|          | 0/3 [00:00<?, ?it/s]"
      ]
     },
     "metadata": {},
     "output_type": "display_data"
    },
    {
     "name": "stdout",
     "output_type": "stream",
     "text": [
      "torch.Size([40, 4, 6])\n",
      "torch.Size([40, 8, 6])\n",
      "torch.Size([11, 11, 6])\n",
      "0\n",
      "train_loss 3.093710740407308\n",
      "val_loss 90.6569\n"
     ]
    },
    {
     "data": {
      "application/vnd.jupyter.widget-view+json": {
       "model_id": "b1e4c1a83c9c4968b5277fd81ba46b63",
       "version_major": 2,
       "version_minor": 0
      },
      "text/plain": [
       "  0%|          | 0/3 [00:00<?, ?it/s]"
      ]
     },
     "metadata": {},
     "output_type": "display_data"
    },
    {
     "name": "stdout",
     "output_type": "stream",
     "text": [
      "torch.Size([40, 4, 6])\n",
      "torch.Size([40, 4, 6])\n",
      "torch.Size([11, 12, 6])\n",
      "1\n",
      "train_loss 2.0657291809717813\n",
      "val_loss 89.76538\n"
     ]
    },
    {
     "data": {
      "application/vnd.jupyter.widget-view+json": {
       "model_id": "20518390cb9a406a9cb4422df454fd4f",
       "version_major": 2,
       "version_minor": 0
      },
      "text/plain": [
       "  0%|          | 0/3 [00:00<?, ?it/s]"
      ]
     },
     "metadata": {},
     "output_type": "display_data"
    },
    {
     "name": "stdout",
     "output_type": "stream",
     "text": [
      "torch.Size([40, 7, 6])\n",
      "torch.Size([40, 12, 6])\n",
      "torch.Size([11, 8, 6])\n",
      "2\n",
      "train_loss 1.653003215789795\n",
      "val_loss 88.07554\n"
     ]
    },
    {
     "data": {
      "application/vnd.jupyter.widget-view+json": {
       "model_id": "25a9ba2719cb40baa209bffbf8544ecf",
       "version_major": 2,
       "version_minor": 0
      },
      "text/plain": [
       "  0%|          | 0/3 [00:00<?, ?it/s]"
      ]
     },
     "metadata": {},
     "output_type": "display_data"
    },
    {
     "name": "stdout",
     "output_type": "stream",
     "text": [
      "torch.Size([40, 12, 6])\n",
      "torch.Size([40, 9, 6])\n",
      "torch.Size([11, 7, 6])\n",
      "3\n",
      "train_loss 1.2529767354329426\n",
      "val_loss 86.19282\n"
     ]
    },
    {
     "data": {
      "application/vnd.jupyter.widget-view+json": {
       "model_id": "8aaf153e62fe4acd8d277d5829b23a0b",
       "version_major": 2,
       "version_minor": 0
      },
      "text/plain": [
       "  0%|          | 0/3 [00:00<?, ?it/s]"
      ]
     },
     "metadata": {},
     "output_type": "display_data"
    },
    {
     "name": "stdout",
     "output_type": "stream",
     "text": [
      "torch.Size([40, 11, 6])\n",
      "torch.Size([40, 8, 6])\n",
      "torch.Size([11, 5, 6])\n",
      "4\n",
      "train_loss 1.1276425123214722\n",
      "val_loss 83.47602\n"
     ]
    },
    {
     "data": {
      "application/vnd.jupyter.widget-view+json": {
       "model_id": "768bf357cb93455f8e5f39208d330073",
       "version_major": 2,
       "version_minor": 0
      },
      "text/plain": [
       "  0%|          | 0/3 [00:00<?, ?it/s]"
      ]
     },
     "metadata": {},
     "output_type": "display_data"
    },
    {
     "name": "stdout",
     "output_type": "stream",
     "text": [
      "torch.Size([40, 7, 6])\n",
      "torch.Size([40, 13, 6])\n",
      "torch.Size([11, 4, 6])\n",
      "5\n",
      "train_loss 0.9680632551511129\n",
      "val_loss 80.0867\n"
     ]
    },
    {
     "data": {
      "application/vnd.jupyter.widget-view+json": {
       "model_id": "5b4c2987a2314c26bbb30b437eee8158",
       "version_major": 2,
       "version_minor": 0
      },
      "text/plain": [
       "  0%|          | 0/3 [00:00<?, ?it/s]"
      ]
     },
     "metadata": {},
     "output_type": "display_data"
    },
    {
     "name": "stdout",
     "output_type": "stream",
     "text": [
      "torch.Size([40, 13, 6])\n",
      "torch.Size([40, 9, 6])\n",
      "torch.Size([11, 13, 6])\n",
      "6\n",
      "train_loss 0.8441076874732971\n",
      "val_loss 76.46092\n"
     ]
    },
    {
     "data": {
      "application/vnd.jupyter.widget-view+json": {
       "model_id": "c8d8e18ea62d42148f03e8467b76f9ee",
       "version_major": 2,
       "version_minor": 0
      },
      "text/plain": [
       "  0%|          | 0/3 [00:00<?, ?it/s]"
      ]
     },
     "metadata": {},
     "output_type": "display_data"
    },
    {
     "name": "stdout",
     "output_type": "stream",
     "text": [
      "torch.Size([40, 10, 6])\n",
      "torch.Size([40, 14, 6])\n",
      "torch.Size([11, 13, 6])\n",
      "7\n",
      "train_loss 0.8493511080741882\n",
      "val_loss 72.632195\n"
     ]
    },
    {
     "data": {
      "application/vnd.jupyter.widget-view+json": {
       "model_id": "7f29fbd5f04742f9b07b7c33d9b9dcd6",
       "version_major": 2,
       "version_minor": 0
      },
      "text/plain": [
       "  0%|          | 0/3 [00:00<?, ?it/s]"
      ]
     },
     "metadata": {},
     "output_type": "display_data"
    },
    {
     "name": "stdout",
     "output_type": "stream",
     "text": [
      "torch.Size([40, 10, 6])\n",
      "torch.Size([40, 13, 6])\n",
      "torch.Size([11, 14, 6])\n",
      "8\n",
      "train_loss 0.7390060623486837\n",
      "val_loss 69.32562\n"
     ]
    },
    {
     "data": {
      "application/vnd.jupyter.widget-view+json": {
       "model_id": "269fb0e3cbdc492e9169f1b969c1ca79",
       "version_major": 2,
       "version_minor": 0
      },
      "text/plain": [
       "  0%|          | 0/3 [00:00<?, ?it/s]"
      ]
     },
     "metadata": {},
     "output_type": "display_data"
    },
    {
     "name": "stdout",
     "output_type": "stream",
     "text": [
      "torch.Size([40, 13, 6])\n",
      "torch.Size([40, 14, 6])\n",
      "torch.Size([11, 7, 6])\n",
      "9\n",
      "train_loss 0.7619765996932983\n",
      "val_loss 66.45333\n"
     ]
    },
    {
     "data": {
      "application/vnd.jupyter.widget-view+json": {
       "model_id": "76193b0aceb6424ea8ee9201e43c646f",
       "version_major": 2,
       "version_minor": 0
      },
      "text/plain": [
       "  0%|          | 0/3 [00:00<?, ?it/s]"
      ]
     },
     "metadata": {},
     "output_type": "display_data"
    },
    {
     "name": "stdout",
     "output_type": "stream",
     "text": [
      "torch.Size([40, 11, 6])\n",
      "torch.Size([40, 10, 6])\n",
      "torch.Size([11, 5, 6])\n",
      "10\n",
      "train_loss 0.7532628178596497\n",
      "val_loss 64.16238\n"
     ]
    },
    {
     "data": {
      "application/vnd.jupyter.widget-view+json": {
       "model_id": "7ee083a760fc4d37a0d42c368a89a048",
       "version_major": 2,
       "version_minor": 0
      },
      "text/plain": [
       "  0%|          | 0/3 [00:00<?, ?it/s]"
      ]
     },
     "metadata": {},
     "output_type": "display_data"
    },
    {
     "name": "stdout",
     "output_type": "stream",
     "text": [
      "torch.Size([40, 6, 6])\n",
      "torch.Size([40, 7, 6])\n",
      "torch.Size([11, 9, 6])\n",
      "11\n",
      "train_loss 0.6560704112052917\n",
      "val_loss 61.66306\n"
     ]
    },
    {
     "data": {
      "application/vnd.jupyter.widget-view+json": {
       "model_id": "88a1819db5104148a4a549be65ef7929",
       "version_major": 2,
       "version_minor": 0
      },
      "text/plain": [
       "  0%|          | 0/3 [00:00<?, ?it/s]"
      ]
     },
     "metadata": {},
     "output_type": "display_data"
    },
    {
     "name": "stdout",
     "output_type": "stream",
     "text": [
      "torch.Size([40, 14, 6])\n",
      "torch.Size([40, 9, 6])\n",
      "torch.Size([11, 7, 6])\n",
      "12\n",
      "train_loss 0.6252432465553284\n",
      "val_loss 61.068928\n"
     ]
    },
    {
     "data": {
      "application/vnd.jupyter.widget-view+json": {
       "model_id": "876621427b8748f082542818ab55f650",
       "version_major": 2,
       "version_minor": 0
      },
      "text/plain": [
       "  0%|          | 0/3 [00:00<?, ?it/s]"
      ]
     },
     "metadata": {},
     "output_type": "display_data"
    },
    {
     "name": "stdout",
     "output_type": "stream",
     "text": [
      "torch.Size([40, 14, 6])\n",
      "torch.Size([40, 4, 6])\n",
      "torch.Size([11, 9, 6])\n",
      "13\n",
      "train_loss 0.7275937000910441\n",
      "val_loss 60.635185\n"
     ]
    },
    {
     "data": {
      "application/vnd.jupyter.widget-view+json": {
       "model_id": "8222b6510b0e49a0bdbb912f24d1c10f",
       "version_major": 2,
       "version_minor": 0
      },
      "text/plain": [
       "  0%|          | 0/3 [00:00<?, ?it/s]"
      ]
     },
     "metadata": {},
     "output_type": "display_data"
    },
    {
     "name": "stdout",
     "output_type": "stream",
     "text": [
      "torch.Size([40, 7, 6])\n",
      "torch.Size([40, 5, 6])\n",
      "torch.Size([11, 8, 6])\n",
      "14\n",
      "train_loss 0.6488863428433737\n",
      "val_loss 61.925705\n"
     ]
    },
    {
     "data": {
      "application/vnd.jupyter.widget-view+json": {
       "model_id": "bf959ce00d3e4dd6b6c7b888cb2d0655",
       "version_major": 2,
       "version_minor": 0
      },
      "text/plain": [
       "  0%|          | 0/3 [00:00<?, ?it/s]"
      ]
     },
     "metadata": {},
     "output_type": "display_data"
    },
    {
     "name": "stdout",
     "output_type": "stream",
     "text": [
      "torch.Size([40, 8, 6])\n",
      "torch.Size([40, 6, 6])\n",
      "torch.Size([11, 13, 6])\n",
      "15\n",
      "train_loss 0.6139490008354187\n",
      "val_loss 62.038994\n"
     ]
    },
    {
     "data": {
      "application/vnd.jupyter.widget-view+json": {
       "model_id": "4bc4267165bb4ad289368f90fc7eb3ee",
       "version_major": 2,
       "version_minor": 0
      },
      "text/plain": [
       "  0%|          | 0/3 [00:00<?, ?it/s]"
      ]
     },
     "metadata": {},
     "output_type": "display_data"
    },
    {
     "name": "stdout",
     "output_type": "stream",
     "text": [
      "torch.Size([40, 12, 6])\n",
      "torch.Size([40, 13, 6])\n",
      "torch.Size([11, 7, 6])\n",
      "16\n",
      "train_loss 0.5820665756861368\n",
      "val_loss 62.116814\n"
     ]
    },
    {
     "data": {
      "application/vnd.jupyter.widget-view+json": {
       "model_id": "f02019c39b464a38bec2d47107baf806",
       "version_major": 2,
       "version_minor": 0
      },
      "text/plain": [
       "  0%|          | 0/3 [00:00<?, ?it/s]"
      ]
     },
     "metadata": {},
     "output_type": "display_data"
    },
    {
     "name": "stdout",
     "output_type": "stream",
     "text": [
      "torch.Size([40, 12, 6])\n",
      "torch.Size([40, 7, 6])\n",
      "torch.Size([11, 8, 6])\n",
      "17\n",
      "train_loss 0.5423681537310282\n",
      "val_loss 62.31703\n"
     ]
    },
    {
     "data": {
      "application/vnd.jupyter.widget-view+json": {
       "model_id": "a48b5373a79c4aa6a698b3b51d0315ab",
       "version_major": 2,
       "version_minor": 0
      },
      "text/plain": [
       "  0%|          | 0/3 [00:00<?, ?it/s]"
      ]
     },
     "metadata": {},
     "output_type": "display_data"
    },
    {
     "name": "stdout",
     "output_type": "stream",
     "text": [
      "torch.Size([40, 13, 6])\n",
      "torch.Size([40, 10, 6])\n",
      "torch.Size([11, 13, 6])\n",
      "18\n",
      "train_loss 0.5145236949125925\n",
      "val_loss 61.810158\n"
     ]
    },
    {
     "data": {
      "application/vnd.jupyter.widget-view+json": {
       "model_id": "a73f3b38aef7489286107c016795248c",
       "version_major": 2,
       "version_minor": 0
      },
      "text/plain": [
       "  0%|          | 0/3 [00:00<?, ?it/s]"
      ]
     },
     "metadata": {},
     "output_type": "display_data"
    },
    {
     "name": "stdout",
     "output_type": "stream",
     "text": [
      "torch.Size([40, 13, 6])\n",
      "torch.Size([40, 12, 6])\n",
      "torch.Size([11, 7, 6])\n",
      "19\n",
      "train_loss 0.5789622863133749\n",
      "val_loss 61.44675\n"
     ]
    },
    {
     "data": {
      "application/vnd.jupyter.widget-view+json": {
       "model_id": "60c20be42e8f4b189ec814e3f529bda4",
       "version_major": 2,
       "version_minor": 0
      },
      "text/plain": [
       "  0%|          | 0/3 [00:00<?, ?it/s]"
      ]
     },
     "metadata": {},
     "output_type": "display_data"
    },
    {
     "name": "stdout",
     "output_type": "stream",
     "text": [
      "torch.Size([40, 5, 6])\n",
      "torch.Size([40, 12, 6])\n",
      "torch.Size([11, 12, 6])\n",
      "20\n",
      "train_loss 0.5814013779163361\n",
      "val_loss 61.58921\n"
     ]
    },
    {
     "data": {
      "application/vnd.jupyter.widget-view+json": {
       "model_id": "3804c27c6b9442639b9a91726e2585ef",
       "version_major": 2,
       "version_minor": 0
      },
      "text/plain": [
       "  0%|          | 0/3 [00:00<?, ?it/s]"
      ]
     },
     "metadata": {},
     "output_type": "display_data"
    },
    {
     "name": "stdout",
     "output_type": "stream",
     "text": [
      "torch.Size([40, 10, 6])\n",
      "torch.Size([40, 11, 6])\n",
      "torch.Size([11, 13, 6])\n",
      "21\n",
      "train_loss 0.4597962697347005\n",
      "val_loss 62.23371\n"
     ]
    },
    {
     "data": {
      "application/vnd.jupyter.widget-view+json": {
       "model_id": "d25416efd16b485298a13534f3686df6",
       "version_major": 2,
       "version_minor": 0
      },
      "text/plain": [
       "  0%|          | 0/3 [00:00<?, ?it/s]"
      ]
     },
     "metadata": {},
     "output_type": "display_data"
    },
    {
     "name": "stdout",
     "output_type": "stream",
     "text": [
      "torch.Size([40, 10, 6])\n",
      "torch.Size([40, 11, 6])\n",
      "torch.Size([11, 5, 6])\n",
      "22\n",
      "train_loss 0.49001092712084454\n",
      "val_loss 62.525818\n"
     ]
    },
    {
     "data": {
      "application/vnd.jupyter.widget-view+json": {
       "model_id": "512814aad6394b5096e4e6eb8fe8852c",
       "version_major": 2,
       "version_minor": 0
      },
      "text/plain": [
       "  0%|          | 0/3 [00:00<?, ?it/s]"
      ]
     },
     "metadata": {},
     "output_type": "display_data"
    },
    {
     "name": "stdout",
     "output_type": "stream",
     "text": [
      "torch.Size([40, 12, 6])\n",
      "torch.Size([40, 6, 6])\n",
      "torch.Size([11, 12, 6])\n",
      "23\n",
      "train_loss 0.44758912920951843\n",
      "val_loss 62.962444\n"
     ]
    },
    {
     "data": {
      "application/vnd.jupyter.widget-view+json": {
       "model_id": "0675123b8cee4000b9f531745d237f25",
       "version_major": 2,
       "version_minor": 0
      },
      "text/plain": [
       "  0%|          | 0/3 [00:00<?, ?it/s]"
      ]
     },
     "metadata": {},
     "output_type": "display_data"
    },
    {
     "name": "stdout",
     "output_type": "stream",
     "text": [
      "torch.Size([40, 13, 6])\n",
      "torch.Size([40, 14, 6])\n",
      "torch.Size([11, 4, 6])\n",
      "24\n",
      "train_loss 0.4768201212088267\n",
      "val_loss 62.284103\n"
     ]
    },
    {
     "data": {
      "application/vnd.jupyter.widget-view+json": {
       "model_id": "2bd41c58211341e1b6b57976410ba522",
       "version_major": 2,
       "version_minor": 0
      },
      "text/plain": [
       "  0%|          | 0/3 [00:00<?, ?it/s]"
      ]
     },
     "metadata": {},
     "output_type": "display_data"
    },
    {
     "name": "stdout",
     "output_type": "stream",
     "text": [
      "torch.Size([40, 13, 6])\n",
      "torch.Size([40, 14, 6])\n",
      "torch.Size([11, 5, 6])\n",
      "25\n",
      "train_loss 0.4156068166097005\n",
      "val_loss 62.21125\n"
     ]
    },
    {
     "data": {
      "application/vnd.jupyter.widget-view+json": {
       "model_id": "d02848a28fb1434db2948fb85429ff3f",
       "version_major": 2,
       "version_minor": 0
      },
      "text/plain": [
       "  0%|          | 0/3 [00:00<?, ?it/s]"
      ]
     },
     "metadata": {},
     "output_type": "display_data"
    },
    {
     "name": "stdout",
     "output_type": "stream",
     "text": [
      "torch.Size([40, 11, 6])\n",
      "torch.Size([40, 10, 6])\n",
      "torch.Size([11, 10, 6])\n",
      "26\n",
      "train_loss 0.3976750572522481\n",
      "val_loss 61.49584\n"
     ]
    },
    {
     "data": {
      "application/vnd.jupyter.widget-view+json": {
       "model_id": "4b2c19953fd442238865c97bf3bfcd88",
       "version_major": 2,
       "version_minor": 0
      },
      "text/plain": [
       "  0%|          | 0/3 [00:00<?, ?it/s]"
      ]
     },
     "metadata": {},
     "output_type": "display_data"
    },
    {
     "name": "stdout",
     "output_type": "stream",
     "text": [
      "torch.Size([40, 6, 6])\n",
      "torch.Size([40, 11, 6])\n",
      "torch.Size([11, 14, 6])\n",
      "27\n",
      "train_loss 0.39360159635543823\n",
      "val_loss 61.463936\n"
     ]
    },
    {
     "data": {
      "application/vnd.jupyter.widget-view+json": {
       "model_id": "83970efff49346598e0065e8a0f4d38c",
       "version_major": 2,
       "version_minor": 0
      },
      "text/plain": [
       "  0%|          | 0/3 [00:00<?, ?it/s]"
      ]
     },
     "metadata": {},
     "output_type": "display_data"
    },
    {
     "name": "stdout",
     "output_type": "stream",
     "text": [
      "torch.Size([40, 10, 6])\n",
      "torch.Size([40, 7, 6])\n",
      "torch.Size([11, 12, 6])\n",
      "28\n",
      "train_loss 0.361232727766037\n",
      "val_loss 60.693954\n"
     ]
    },
    {
     "data": {
      "application/vnd.jupyter.widget-view+json": {
       "model_id": "6603e6153b834e91bc36a971ed5378d7",
       "version_major": 2,
       "version_minor": 0
      },
      "text/plain": [
       "  0%|          | 0/3 [00:00<?, ?it/s]"
      ]
     },
     "metadata": {},
     "output_type": "display_data"
    },
    {
     "name": "stdout",
     "output_type": "stream",
     "text": [
      "torch.Size([40, 6, 6])\n",
      "torch.Size([40, 4, 6])\n",
      "torch.Size([11, 10, 6])\n",
      "29\n",
      "train_loss 0.3500804305076599\n",
      "val_loss 60.779552\n"
     ]
    },
    {
     "data": {
      "application/vnd.jupyter.widget-view+json": {
       "model_id": "b4e2db2d37064d32b8db4f9017ac2f67",
       "version_major": 2,
       "version_minor": 0
      },
      "text/plain": [
       "  0%|          | 0/3 [00:00<?, ?it/s]"
      ]
     },
     "metadata": {},
     "output_type": "display_data"
    },
    {
     "name": "stdout",
     "output_type": "stream",
     "text": [
      "torch.Size([40, 9, 6])\n",
      "torch.Size([40, 6, 6])\n",
      "torch.Size([11, 11, 6])\n",
      "30\n",
      "train_loss 0.323183278242747\n",
      "val_loss 60.896698\n"
     ]
    },
    {
     "data": {
      "application/vnd.jupyter.widget-view+json": {
       "model_id": "ea3dfd8ed53b4fc891d99a80b37c6b3c",
       "version_major": 2,
       "version_minor": 0
      },
      "text/plain": [
       "  0%|          | 0/3 [00:00<?, ?it/s]"
      ]
     },
     "metadata": {},
     "output_type": "display_data"
    },
    {
     "name": "stdout",
     "output_type": "stream",
     "text": [
      "torch.Size([40, 11, 6])\n",
      "torch.Size([40, 12, 6])\n",
      "torch.Size([11, 11, 6])\n",
      "31\n",
      "train_loss 0.37533623973528546\n",
      "val_loss 61.50783\n"
     ]
    },
    {
     "data": {
      "application/vnd.jupyter.widget-view+json": {
       "model_id": "6e15e5e4de854449a7958f03d6f34257",
       "version_major": 2,
       "version_minor": 0
      },
      "text/plain": [
       "  0%|          | 0/3 [00:00<?, ?it/s]"
      ]
     },
     "metadata": {},
     "output_type": "display_data"
    },
    {
     "name": "stdout",
     "output_type": "stream",
     "text": [
      "torch.Size([40, 11, 6])\n",
      "torch.Size([40, 10, 6])\n",
      "torch.Size([11, 13, 6])\n",
      "32\n",
      "train_loss 0.2748746971289317\n",
      "val_loss 60.82468\n"
     ]
    },
    {
     "data": {
      "application/vnd.jupyter.widget-view+json": {
       "model_id": "10959b66ef52476b821d9216826e98f4",
       "version_major": 2,
       "version_minor": 0
      },
      "text/plain": [
       "  0%|          | 0/3 [00:00<?, ?it/s]"
      ]
     },
     "metadata": {},
     "output_type": "display_data"
    },
    {
     "name": "stdout",
     "output_type": "stream",
     "text": [
      "torch.Size([40, 10, 6])\n",
      "torch.Size([40, 5, 6])\n",
      "torch.Size([11, 4, 6])\n",
      "33\n",
      "train_loss 0.26311702529589337\n",
      "val_loss 59.713566\n"
     ]
    },
    {
     "data": {
      "application/vnd.jupyter.widget-view+json": {
       "model_id": "3738c0f9cb7b4a0a9ec8067d557a4fb0",
       "version_major": 2,
       "version_minor": 0
      },
      "text/plain": [
       "  0%|          | 0/3 [00:00<?, ?it/s]"
      ]
     },
     "metadata": {},
     "output_type": "display_data"
    },
    {
     "name": "stdout",
     "output_type": "stream",
     "text": [
      "torch.Size([40, 14, 6])\n",
      "torch.Size([40, 8, 6])\n",
      "torch.Size([11, 8, 6])\n",
      "34\n",
      "train_loss 0.24432476361592612\n",
      "val_loss 59.28708\n"
     ]
    },
    {
     "data": {
      "application/vnd.jupyter.widget-view+json": {
       "model_id": "42f50624aa004d50bc670053e92389de",
       "version_major": 2,
       "version_minor": 0
      },
      "text/plain": [
       "  0%|          | 0/3 [00:00<?, ?it/s]"
      ]
     },
     "metadata": {},
     "output_type": "display_data"
    },
    {
     "name": "stdout",
     "output_type": "stream",
     "text": [
      "torch.Size([40, 6, 6])\n",
      "torch.Size([40, 12, 6])\n",
      "torch.Size([11, 10, 6])\n",
      "35\n",
      "train_loss 0.23004799584547678\n",
      "val_loss 59.44539\n"
     ]
    },
    {
     "data": {
      "application/vnd.jupyter.widget-view+json": {
       "model_id": "e3a3620b02e94e10a4777ed8fd13c893",
       "version_major": 2,
       "version_minor": 0
      },
      "text/plain": [
       "  0%|          | 0/3 [00:00<?, ?it/s]"
      ]
     },
     "metadata": {},
     "output_type": "display_data"
    },
    {
     "name": "stdout",
     "output_type": "stream",
     "text": [
      "torch.Size([40, 7, 6])\n",
      "torch.Size([40, 10, 6])\n",
      "torch.Size([11, 14, 6])\n",
      "36\n",
      "train_loss 0.28219841917355853\n",
      "val_loss 59.653244\n"
     ]
    },
    {
     "data": {
      "application/vnd.jupyter.widget-view+json": {
       "model_id": "3db1db82b7794110b8ae57873c70a817",
       "version_major": 2,
       "version_minor": 0
      },
      "text/plain": [
       "  0%|          | 0/3 [00:00<?, ?it/s]"
      ]
     },
     "metadata": {},
     "output_type": "display_data"
    },
    {
     "name": "stdout",
     "output_type": "stream",
     "text": [
      "torch.Size([40, 4, 6])\n",
      "torch.Size([40, 4, 6])\n",
      "torch.Size([11, 7, 6])\n",
      "37\n",
      "train_loss 0.3795205106337865\n",
      "val_loss 60.934334\n"
     ]
    },
    {
     "data": {
      "application/vnd.jupyter.widget-view+json": {
       "model_id": "956a62eea959448dbf16a27dcbabe171",
       "version_major": 2,
       "version_minor": 0
      },
      "text/plain": [
       "  0%|          | 0/3 [00:00<?, ?it/s]"
      ]
     },
     "metadata": {},
     "output_type": "display_data"
    },
    {
     "name": "stdout",
     "output_type": "stream",
     "text": [
      "torch.Size([40, 14, 6])\n",
      "torch.Size([40, 8, 6])\n",
      "torch.Size([11, 9, 6])\n",
      "38\n",
      "train_loss 0.17101758221785227\n",
      "val_loss 62.727783\n"
     ]
    },
    {
     "data": {
      "application/vnd.jupyter.widget-view+json": {
       "model_id": "364237f694b84d5898812b074c8309cc",
       "version_major": 2,
       "version_minor": 0
      },
      "text/plain": [
       "  0%|          | 0/3 [00:00<?, ?it/s]"
      ]
     },
     "metadata": {},
     "output_type": "display_data"
    },
    {
     "name": "stdout",
     "output_type": "stream",
     "text": [
      "torch.Size([40, 13, 6])\n",
      "torch.Size([40, 9, 6])\n",
      "torch.Size([11, 11, 6])\n",
      "39\n",
      "train_loss 0.21585499246915182\n",
      "val_loss 62.771786\n"
     ]
    },
    {
     "data": {
      "application/vnd.jupyter.widget-view+json": {
       "model_id": "ecdd02c43c774ef59f56f3ea36dd7335",
       "version_major": 2,
       "version_minor": 0
      },
      "text/plain": [
       "  0%|          | 0/3 [00:00<?, ?it/s]"
      ]
     },
     "metadata": {},
     "output_type": "display_data"
    },
    {
     "name": "stdout",
     "output_type": "stream",
     "text": [
      "torch.Size([40, 5, 6])\n",
      "torch.Size([40, 11, 6])\n",
      "torch.Size([11, 11, 6])\n",
      "40\n",
      "train_loss 0.1407950073480606\n",
      "val_loss 60.494514\n"
     ]
    },
    {
     "data": {
      "application/vnd.jupyter.widget-view+json": {
       "model_id": "2650c476be14465cbc4c6e517449eba1",
       "version_major": 2,
       "version_minor": 0
      },
      "text/plain": [
       "  0%|          | 0/3 [00:00<?, ?it/s]"
      ]
     },
     "metadata": {},
     "output_type": "display_data"
    },
    {
     "name": "stdout",
     "output_type": "stream",
     "text": [
      "torch.Size([40, 11, 6])\n",
      "torch.Size([40, 11, 6])\n",
      "torch.Size([11, 4, 6])\n",
      "41\n",
      "train_loss 0.23718608419100443\n",
      "val_loss 59.23672\n"
     ]
    },
    {
     "data": {
      "application/vnd.jupyter.widget-view+json": {
       "model_id": "5e194b9a689d49d781b802a268a03920",
       "version_major": 2,
       "version_minor": 0
      },
      "text/plain": [
       "  0%|          | 0/3 [00:00<?, ?it/s]"
      ]
     },
     "metadata": {},
     "output_type": "display_data"
    },
    {
     "name": "stdout",
     "output_type": "stream",
     "text": [
      "torch.Size([40, 14, 6])\n",
      "torch.Size([40, 11, 6])\n",
      "torch.Size([11, 11, 6])\n",
      "42\n",
      "train_loss 0.1391142134865125\n",
      "val_loss 59.329685\n"
     ]
    },
    {
     "data": {
      "application/vnd.jupyter.widget-view+json": {
       "model_id": "04eba6cc634a46fe83347826cde0e384",
       "version_major": 2,
       "version_minor": 0
      },
      "text/plain": [
       "  0%|          | 0/3 [00:00<?, ?it/s]"
      ]
     },
     "metadata": {},
     "output_type": "display_data"
    },
    {
     "name": "stdout",
     "output_type": "stream",
     "text": [
      "torch.Size([40, 12, 6])\n",
      "torch.Size([40, 13, 6])\n",
      "torch.Size([11, 5, 6])\n",
      "43\n",
      "train_loss 0.14333635196089745\n",
      "val_loss 59.984306\n"
     ]
    },
    {
     "data": {
      "application/vnd.jupyter.widget-view+json": {
       "model_id": "fbfc128ac4944d6eac3e2e9c0158243f",
       "version_major": 2,
       "version_minor": 0
      },
      "text/plain": [
       "  0%|          | 0/3 [00:00<?, ?it/s]"
      ]
     },
     "metadata": {},
     "output_type": "display_data"
    },
    {
     "name": "stdout",
     "output_type": "stream",
     "text": [
      "torch.Size([40, 4, 6])\n",
      "torch.Size([40, 9, 6])\n",
      "torch.Size([11, 12, 6])\n",
      "44\n",
      "train_loss 0.145352674027284\n",
      "val_loss 59.707092\n"
     ]
    },
    {
     "data": {
      "application/vnd.jupyter.widget-view+json": {
       "model_id": "ce6ddfa0767f413f9c2bbe9fd2869c99",
       "version_major": 2,
       "version_minor": 0
      },
      "text/plain": [
       "  0%|          | 0/3 [00:00<?, ?it/s]"
      ]
     },
     "metadata": {},
     "output_type": "display_data"
    },
    {
     "name": "stdout",
     "output_type": "stream",
     "text": [
      "torch.Size([40, 11, 6])\n",
      "torch.Size([40, 5, 6])\n",
      "torch.Size([11, 7, 6])\n",
      "45\n",
      "train_loss 0.20191007604201636\n",
      "val_loss 59.7366\n"
     ]
    },
    {
     "data": {
      "application/vnd.jupyter.widget-view+json": {
       "model_id": "c13abb67981447f782cdfed56e0ae4a3",
       "version_major": 2,
       "version_minor": 0
      },
      "text/plain": [
       "  0%|          | 0/3 [00:00<?, ?it/s]"
      ]
     },
     "metadata": {},
     "output_type": "display_data"
    },
    {
     "name": "stdout",
     "output_type": "stream",
     "text": [
      "torch.Size([40, 7, 6])\n",
      "torch.Size([40, 11, 6])\n",
      "torch.Size([11, 5, 6])\n",
      "46\n",
      "train_loss 0.13346677273511887\n",
      "val_loss 59.695217\n"
     ]
    },
    {
     "data": {
      "application/vnd.jupyter.widget-view+json": {
       "model_id": "6e62698080eb4e308a4c7ee0423b6bb8",
       "version_major": 2,
       "version_minor": 0
      },
      "text/plain": [
       "  0%|          | 0/3 [00:00<?, ?it/s]"
      ]
     },
     "metadata": {},
     "output_type": "display_data"
    },
    {
     "name": "stdout",
     "output_type": "stream",
     "text": [
      "torch.Size([40, 12, 6])\n",
      "torch.Size([40, 7, 6])\n",
      "torch.Size([11, 10, 6])\n",
      "47\n",
      "train_loss 0.1116447647412618\n",
      "val_loss 59.377342\n"
     ]
    },
    {
     "data": {
      "application/vnd.jupyter.widget-view+json": {
       "model_id": "48e3c2afac4843d599934f2aa259ff12",
       "version_major": 2,
       "version_minor": 0
      },
      "text/plain": [
       "  0%|          | 0/3 [00:00<?, ?it/s]"
      ]
     },
     "metadata": {},
     "output_type": "display_data"
    },
    {
     "name": "stdout",
     "output_type": "stream",
     "text": [
      "torch.Size([40, 12, 6])\n",
      "torch.Size([40, 10, 6])\n",
      "torch.Size([11, 8, 6])\n",
      "48\n",
      "train_loss 0.13677222219606242\n",
      "val_loss 59.0934\n"
     ]
    },
    {
     "data": {
      "application/vnd.jupyter.widget-view+json": {
       "model_id": "3900df125589496baf53d7e931ee7646",
       "version_major": 2,
       "version_minor": 0
      },
      "text/plain": [
       "  0%|          | 0/3 [00:00<?, ?it/s]"
      ]
     },
     "metadata": {},
     "output_type": "display_data"
    },
    {
     "name": "stdout",
     "output_type": "stream",
     "text": [
      "torch.Size([40, 11, 6])\n",
      "torch.Size([40, 8, 6])\n",
      "torch.Size([11, 5, 6])\n",
      "49\n",
      "train_loss 0.0815082856764396\n",
      "val_loss 59.381477\n"
     ]
    },
    {
     "data": {
      "application/vnd.jupyter.widget-view+json": {
       "model_id": "61c5931bd11141c08a856df5b77be6e9",
       "version_major": 2,
       "version_minor": 0
      },
      "text/plain": [
       "  0%|          | 0/3 [00:00<?, ?it/s]"
      ]
     },
     "metadata": {},
     "output_type": "display_data"
    },
    {
     "name": "stdout",
     "output_type": "stream",
     "text": [
      "torch.Size([40, 14, 6])\n",
      "torch.Size([40, 4, 6])\n",
      "torch.Size([11, 9, 6])\n",
      "50\n",
      "train_loss 0.07315416882435481\n",
      "val_loss 59.50005\n"
     ]
    },
    {
     "data": {
      "application/vnd.jupyter.widget-view+json": {
       "model_id": "85ff3f33a29e4ea0a1b18989772c6508",
       "version_major": 2,
       "version_minor": 0
      },
      "text/plain": [
       "  0%|          | 0/3 [00:00<?, ?it/s]"
      ]
     },
     "metadata": {},
     "output_type": "display_data"
    },
    {
     "name": "stdout",
     "output_type": "stream",
     "text": [
      "torch.Size([40, 8, 6])\n",
      "torch.Size([40, 13, 6])\n",
      "torch.Size([11, 12, 6])\n",
      "51\n",
      "train_loss 0.1004385572547714\n",
      "val_loss 60.02995\n"
     ]
    },
    {
     "data": {
      "application/vnd.jupyter.widget-view+json": {
       "model_id": "fcd7ec35b74549c5aece1e55bda2e843",
       "version_major": 2,
       "version_minor": 0
      },
      "text/plain": [
       "  0%|          | 0/3 [00:00<?, ?it/s]"
      ]
     },
     "metadata": {},
     "output_type": "display_data"
    },
    {
     "name": "stdout",
     "output_type": "stream",
     "text": [
      "torch.Size([40, 5, 6])\n",
      "torch.Size([40, 5, 6])\n",
      "torch.Size([11, 7, 6])\n",
      "52\n",
      "train_loss 0.023523869303365547\n",
      "val_loss 60.189835\n"
     ]
    },
    {
     "data": {
      "application/vnd.jupyter.widget-view+json": {
       "model_id": "a22c0f84d0e24c9ca831079483f71a11",
       "version_major": 2,
       "version_minor": 0
      },
      "text/plain": [
       "  0%|          | 0/3 [00:00<?, ?it/s]"
      ]
     },
     "metadata": {},
     "output_type": "display_data"
    },
    {
     "name": "stdout",
     "output_type": "stream",
     "text": [
      "torch.Size([40, 12, 6])\n",
      "torch.Size([40, 6, 6])\n",
      "torch.Size([11, 8, 6])\n",
      "53\n",
      "train_loss 0.10836466681212187\n",
      "val_loss 59.744865\n"
     ]
    },
    {
     "data": {
      "application/vnd.jupyter.widget-view+json": {
       "model_id": "ffe403c68daa4fae85e8ef0f2ea89031",
       "version_major": 2,
       "version_minor": 0
      },
      "text/plain": [
       "  0%|          | 0/3 [00:00<?, ?it/s]"
      ]
     },
     "metadata": {},
     "output_type": "display_data"
    },
    {
     "name": "stdout",
     "output_type": "stream",
     "text": [
      "torch.Size([40, 12, 6])\n",
      "torch.Size([40, 9, 6])\n",
      "torch.Size([11, 14, 6])\n",
      "54\n",
      "train_loss 0.05980608488122622\n",
      "val_loss 59.790596\n"
     ]
    },
    {
     "data": {
      "application/vnd.jupyter.widget-view+json": {
       "model_id": "d7dcfecb4b04422aa92d91b4354285b1",
       "version_major": 2,
       "version_minor": 0
      },
      "text/plain": [
       "  0%|          | 0/3 [00:00<?, ?it/s]"
      ]
     },
     "metadata": {},
     "output_type": "display_data"
    },
    {
     "name": "stdout",
     "output_type": "stream",
     "text": [
      "torch.Size([40, 6, 6])\n",
      "torch.Size([40, 9, 6])\n",
      "torch.Size([11, 5, 6])\n",
      "55\n",
      "train_loss 0.07345953583717346\n",
      "val_loss 59.778095\n"
     ]
    },
    {
     "data": {
      "application/vnd.jupyter.widget-view+json": {
       "model_id": "8c01b0047e3b49abb1c91f867ac2ea50",
       "version_major": 2,
       "version_minor": 0
      },
      "text/plain": [
       "  0%|          | 0/3 [00:00<?, ?it/s]"
      ]
     },
     "metadata": {},
     "output_type": "display_data"
    },
    {
     "name": "stdout",
     "output_type": "stream",
     "text": [
      "torch.Size([40, 13, 6])\n",
      "torch.Size([40, 4, 6])\n",
      "torch.Size([11, 12, 6])\n",
      "56\n",
      "train_loss 0.05780076732238134\n",
      "val_loss 59.43636\n"
     ]
    },
    {
     "data": {
      "application/vnd.jupyter.widget-view+json": {
       "model_id": "c0485b00cceb4eadb489cfc961304622",
       "version_major": 2,
       "version_minor": 0
      },
      "text/plain": [
       "  0%|          | 0/3 [00:00<?, ?it/s]"
      ]
     },
     "metadata": {},
     "output_type": "display_data"
    },
    {
     "name": "stdout",
     "output_type": "stream",
     "text": [
      "torch.Size([40, 5, 6])\n",
      "torch.Size([40, 7, 6])\n",
      "torch.Size([11, 8, 6])\n",
      "57\n",
      "train_loss -0.038455494989951454\n",
      "val_loss 58.426933\n"
     ]
    },
    {
     "data": {
      "application/vnd.jupyter.widget-view+json": {
       "model_id": "147baffc80864b40a979efbbbadfdea2",
       "version_major": 2,
       "version_minor": 0
      },
      "text/plain": [
       "  0%|          | 0/3 [00:00<?, ?it/s]"
      ]
     },
     "metadata": {},
     "output_type": "display_data"
    },
    {
     "name": "stdout",
     "output_type": "stream",
     "text": [
      "torch.Size([40, 10, 6])\n",
      "torch.Size([40, 14, 6])\n",
      "torch.Size([11, 6, 6])\n",
      "58\n",
      "train_loss 0.11217861746748288\n",
      "val_loss 59.818333\n"
     ]
    },
    {
     "data": {
      "application/vnd.jupyter.widget-view+json": {
       "model_id": "1ad18f39b7304cbeae57e01be52447dc",
       "version_major": 2,
       "version_minor": 0
      },
      "text/plain": [
       "  0%|          | 0/3 [00:00<?, ?it/s]"
      ]
     },
     "metadata": {},
     "output_type": "display_data"
    },
    {
     "name": "stdout",
     "output_type": "stream",
     "text": [
      "torch.Size([40, 5, 6])\n",
      "torch.Size([40, 8, 6])\n",
      "torch.Size([11, 6, 6])\n",
      "59\n",
      "train_loss 0.00181239719192187\n",
      "val_loss 62.225544\n"
     ]
    },
    {
     "data": {
      "application/vnd.jupyter.widget-view+json": {
       "model_id": "2bd99bf0a3514759a678bc1d6d7d4e32",
       "version_major": 2,
       "version_minor": 0
      },
      "text/plain": [
       "  0%|          | 0/3 [00:00<?, ?it/s]"
      ]
     },
     "metadata": {},
     "output_type": "display_data"
    },
    {
     "name": "stdout",
     "output_type": "stream",
     "text": [
      "torch.Size([40, 5, 6])\n",
      "torch.Size([40, 14, 6])\n",
      "torch.Size([11, 6, 6])\n",
      "60\n",
      "train_loss 0.050099633634090424\n",
      "val_loss 61.630604\n"
     ]
    },
    {
     "data": {
      "application/vnd.jupyter.widget-view+json": {
       "model_id": "4947ed7a11e041c5a4f35f1f74f66c0c",
       "version_major": 2,
       "version_minor": 0
      },
      "text/plain": [
       "  0%|          | 0/3 [00:00<?, ?it/s]"
      ]
     },
     "metadata": {},
     "output_type": "display_data"
    },
    {
     "name": "stdout",
     "output_type": "stream",
     "text": [
      "torch.Size([40, 12, 6])\n",
      "torch.Size([40, 14, 6])\n",
      "torch.Size([11, 14, 6])\n",
      "61\n",
      "train_loss -0.03158669173717499\n",
      "val_loss 60.50043\n"
     ]
    },
    {
     "data": {
      "application/vnd.jupyter.widget-view+json": {
       "model_id": "e2fe13d6fb43491eaf3ffcfe483880b8",
       "version_major": 2,
       "version_minor": 0
      },
      "text/plain": [
       "  0%|          | 0/3 [00:00<?, ?it/s]"
      ]
     },
     "metadata": {},
     "output_type": "display_data"
    },
    {
     "name": "stdout",
     "output_type": "stream",
     "text": [
      "torch.Size([40, 10, 6])\n",
      "torch.Size([40, 10, 6])\n",
      "torch.Size([11, 12, 6])\n",
      "62\n",
      "train_loss -0.09803558886051178\n",
      "val_loss 59.787853\n"
     ]
    },
    {
     "data": {
      "application/vnd.jupyter.widget-view+json": {
       "model_id": "7114adcf17aa413c8f836a0b1645bbda",
       "version_major": 2,
       "version_minor": 0
      },
      "text/plain": [
       "  0%|          | 0/3 [00:00<?, ?it/s]"
      ]
     },
     "metadata": {},
     "output_type": "display_data"
    },
    {
     "name": "stdout",
     "output_type": "stream",
     "text": [
      "torch.Size([40, 4, 6])\n",
      "torch.Size([40, 13, 6])\n",
      "torch.Size([11, 13, 6])\n",
      "63\n",
      "train_loss 0.08109100659688313\n",
      "val_loss 59.13494\n"
     ]
    },
    {
     "data": {
      "application/vnd.jupyter.widget-view+json": {
       "model_id": "e634e87a2ef34650862ab501de0cc268",
       "version_major": 2,
       "version_minor": 0
      },
      "text/plain": [
       "  0%|          | 0/3 [00:00<?, ?it/s]"
      ]
     },
     "metadata": {},
     "output_type": "display_data"
    },
    {
     "name": "stdout",
     "output_type": "stream",
     "text": [
      "torch.Size([40, 9, 6])\n",
      "torch.Size([40, 13, 6])\n",
      "torch.Size([11, 4, 6])\n",
      "64\n",
      "train_loss -0.11667861292759578\n",
      "val_loss 59.3324\n"
     ]
    },
    {
     "data": {
      "application/vnd.jupyter.widget-view+json": {
       "model_id": "2a3e80347f0a4dbc8288fbe68303aea5",
       "version_major": 2,
       "version_minor": 0
      },
      "text/plain": [
       "  0%|          | 0/3 [00:00<?, ?it/s]"
      ]
     },
     "metadata": {},
     "output_type": "display_data"
    },
    {
     "name": "stdout",
     "output_type": "stream",
     "text": [
      "torch.Size([40, 13, 6])\n",
      "torch.Size([40, 5, 6])\n",
      "torch.Size([11, 4, 6])\n",
      "65\n",
      "train_loss 0.10796816212435563\n",
      "val_loss 61.008045\n"
     ]
    },
    {
     "data": {
      "application/vnd.jupyter.widget-view+json": {
       "model_id": "c27ea7a913b344f9aa9f42342def91d7",
       "version_major": 2,
       "version_minor": 0
      },
      "text/plain": [
       "  0%|          | 0/3 [00:00<?, ?it/s]"
      ]
     },
     "metadata": {},
     "output_type": "display_data"
    },
    {
     "name": "stdout",
     "output_type": "stream",
     "text": [
      "torch.Size([40, 8, 6])\n",
      "torch.Size([40, 6, 6])\n",
      "torch.Size([11, 5, 6])\n",
      "66\n",
      "train_loss -0.0375274159014225\n",
      "val_loss 59.866657\n"
     ]
    },
    {
     "data": {
      "application/vnd.jupyter.widget-view+json": {
       "model_id": "31a838f1dd344ba78118ca0235bcb4a8",
       "version_major": 2,
       "version_minor": 0
      },
      "text/plain": [
       "  0%|          | 0/3 [00:00<?, ?it/s]"
      ]
     },
     "metadata": {},
     "output_type": "display_data"
    },
    {
     "name": "stdout",
     "output_type": "stream",
     "text": [
      "torch.Size([40, 4, 6])\n",
      "torch.Size([40, 13, 6])\n",
      "torch.Size([11, 11, 6])\n",
      "67\n",
      "train_loss -0.07667893668015797\n",
      "val_loss 59.362648\n"
     ]
    },
    {
     "data": {
      "application/vnd.jupyter.widget-view+json": {
       "model_id": "d8e42c705f7d49539490f3f9c5cf957b",
       "version_major": 2,
       "version_minor": 0
      },
      "text/plain": [
       "  0%|          | 0/3 [00:00<?, ?it/s]"
      ]
     },
     "metadata": {},
     "output_type": "display_data"
    },
    {
     "name": "stdout",
     "output_type": "stream",
     "text": [
      "torch.Size([40, 11, 6])\n",
      "torch.Size([40, 12, 6])\n",
      "torch.Size([11, 7, 6])\n",
      "68\n",
      "train_loss -0.07964398184170325\n",
      "val_loss 60.17585\n"
     ]
    },
    {
     "data": {
      "application/vnd.jupyter.widget-view+json": {
       "model_id": "be0750065da84d458f3640409b860c28",
       "version_major": 2,
       "version_minor": 0
      },
      "text/plain": [
       "  0%|          | 0/3 [00:00<?, ?it/s]"
      ]
     },
     "metadata": {},
     "output_type": "display_data"
    },
    {
     "name": "stdout",
     "output_type": "stream",
     "text": [
      "torch.Size([40, 11, 6])\n",
      "torch.Size([40, 14, 6])\n",
      "torch.Size([11, 5, 6])\n",
      "69\n",
      "train_loss -0.131283536242942\n",
      "val_loss 60.78796\n"
     ]
    },
    {
     "data": {
      "application/vnd.jupyter.widget-view+json": {
       "model_id": "76e19a9314e44187b4ede6d671c57dd3",
       "version_major": 2,
       "version_minor": 0
      },
      "text/plain": [
       "  0%|          | 0/3 [00:00<?, ?it/s]"
      ]
     },
     "metadata": {},
     "output_type": "display_data"
    },
    {
     "name": "stdout",
     "output_type": "stream",
     "text": [
      "torch.Size([40, 14, 6])\n",
      "torch.Size([40, 6, 6])\n",
      "torch.Size([11, 8, 6])\n",
      "70\n",
      "train_loss 0.062147852033376694\n",
      "val_loss 60.63558\n"
     ]
    },
    {
     "data": {
      "application/vnd.jupyter.widget-view+json": {
       "model_id": "592c7b99811d45a5b9190cf6b172c5b0",
       "version_major": 2,
       "version_minor": 0
      },
      "text/plain": [
       "  0%|          | 0/3 [00:00<?, ?it/s]"
      ]
     },
     "metadata": {},
     "output_type": "display_data"
    },
    {
     "name": "stdout",
     "output_type": "stream",
     "text": [
      "torch.Size([40, 11, 6])\n",
      "torch.Size([40, 11, 6])\n",
      "torch.Size([11, 7, 6])\n",
      "71\n",
      "train_loss -0.11472788204749425\n",
      "val_loss 59.683514\n"
     ]
    },
    {
     "data": {
      "application/vnd.jupyter.widget-view+json": {
       "model_id": "49bc60f140ee4695a74b900cd4120c23",
       "version_major": 2,
       "version_minor": 0
      },
      "text/plain": [
       "  0%|          | 0/3 [00:00<?, ?it/s]"
      ]
     },
     "metadata": {},
     "output_type": "display_data"
    },
    {
     "name": "stdout",
     "output_type": "stream",
     "text": [
      "torch.Size([40, 5, 6])\n",
      "torch.Size([40, 9, 6])\n",
      "torch.Size([11, 9, 6])\n",
      "72\n",
      "train_loss 0.1056353027621905\n",
      "val_loss 59.32409\n"
     ]
    },
    {
     "data": {
      "application/vnd.jupyter.widget-view+json": {
       "model_id": "74d0b2f132f246a5abe720dc75ca796e",
       "version_major": 2,
       "version_minor": 0
      },
      "text/plain": [
       "  0%|          | 0/3 [00:00<?, ?it/s]"
      ]
     },
     "metadata": {},
     "output_type": "display_data"
    },
    {
     "name": "stdout",
     "output_type": "stream",
     "text": [
      "torch.Size([40, 5, 6])\n",
      "torch.Size([40, 5, 6])\n",
      "torch.Size([11, 9, 6])\n",
      "73\n",
      "train_loss 0.06212913617491722\n",
      "val_loss 60.889885\n"
     ]
    },
    {
     "data": {
      "application/vnd.jupyter.widget-view+json": {
       "model_id": "9739b0f684fd48b8b50dd987241b4f8a",
       "version_major": 2,
       "version_minor": 0
      },
      "text/plain": [
       "  0%|          | 0/3 [00:00<?, ?it/s]"
      ]
     },
     "metadata": {},
     "output_type": "display_data"
    },
    {
     "name": "stdout",
     "output_type": "stream",
     "text": [
      "torch.Size([40, 7, 6])\n",
      "torch.Size([40, 14, 6])\n",
      "torch.Size([11, 9, 6])\n",
      "74\n",
      "train_loss -0.0817389755199353\n",
      "val_loss 60.945663\n"
     ]
    },
    {
     "data": {
      "application/vnd.jupyter.widget-view+json": {
       "model_id": "1f7864f0caa8408d978038d578aa570f",
       "version_major": 2,
       "version_minor": 0
      },
      "text/plain": [
       "  0%|          | 0/3 [00:00<?, ?it/s]"
      ]
     },
     "metadata": {},
     "output_type": "display_data"
    },
    {
     "name": "stdout",
     "output_type": "stream",
     "text": [
      "torch.Size([40, 8, 6])\n",
      "torch.Size([40, 9, 6])\n",
      "torch.Size([11, 5, 6])\n",
      "75\n",
      "train_loss 0.008340654894709587\n",
      "val_loss 59.581707\n"
     ]
    },
    {
     "data": {
      "application/vnd.jupyter.widget-view+json": {
       "model_id": "8eb2dae1b59f4017837fef5d843539e0",
       "version_major": 2,
       "version_minor": 0
      },
      "text/plain": [
       "  0%|          | 0/3 [00:00<?, ?it/s]"
      ]
     },
     "metadata": {},
     "output_type": "display_data"
    },
    {
     "name": "stdout",
     "output_type": "stream",
     "text": [
      "torch.Size([40, 5, 6])\n",
      "torch.Size([40, 9, 6])\n",
      "torch.Size([11, 6, 6])\n",
      "76\n",
      "train_loss 0.054513523976008095\n",
      "val_loss 59.543118\n"
     ]
    },
    {
     "data": {
      "application/vnd.jupyter.widget-view+json": {
       "model_id": "c7b5e56a76934d4687a578ea4b49ded9",
       "version_major": 2,
       "version_minor": 0
      },
      "text/plain": [
       "  0%|          | 0/3 [00:00<?, ?it/s]"
      ]
     },
     "metadata": {},
     "output_type": "display_data"
    },
    {
     "name": "stdout",
     "output_type": "stream",
     "text": [
      "torch.Size([40, 4, 6])\n",
      "torch.Size([40, 13, 6])\n",
      "torch.Size([11, 5, 6])\n",
      "77\n",
      "train_loss -0.003052415947119395\n",
      "val_loss 61.434715\n"
     ]
    },
    {
     "data": {
      "application/vnd.jupyter.widget-view+json": {
       "model_id": "bca140f934dc40c8b2c05a6104c15108",
       "version_major": 2,
       "version_minor": 0
      },
      "text/plain": [
       "  0%|          | 0/3 [00:00<?, ?it/s]"
      ]
     },
     "metadata": {},
     "output_type": "display_data"
    },
    {
     "name": "stdout",
     "output_type": "stream",
     "text": [
      "torch.Size([40, 12, 6])\n",
      "torch.Size([40, 13, 6])\n",
      "torch.Size([11, 8, 6])\n",
      "78\n",
      "train_loss -0.005931355059146881\n",
      "val_loss 61.981747\n"
     ]
    },
    {
     "data": {
      "application/vnd.jupyter.widget-view+json": {
       "model_id": "4e8eeb9cfbd74e6cab93b2d09062804f",
       "version_major": 2,
       "version_minor": 0
      },
      "text/plain": [
       "  0%|          | 0/3 [00:00<?, ?it/s]"
      ]
     },
     "metadata": {},
     "output_type": "display_data"
    },
    {
     "name": "stdout",
     "output_type": "stream",
     "text": [
      "torch.Size([40, 13, 6])\n",
      "torch.Size([40, 4, 6])\n",
      "torch.Size([11, 12, 6])\n",
      "79\n",
      "train_loss 0.11157163480917613\n",
      "val_loss 61.453007\n"
     ]
    },
    {
     "data": {
      "application/vnd.jupyter.widget-view+json": {
       "model_id": "7b1fb8c12bbe4a61b893f835e88188c7",
       "version_major": 2,
       "version_minor": 0
      },
      "text/plain": [
       "  0%|          | 0/3 [00:00<?, ?it/s]"
      ]
     },
     "metadata": {},
     "output_type": "display_data"
    },
    {
     "name": "stdout",
     "output_type": "stream",
     "text": [
      "torch.Size([40, 7, 6])\n",
      "torch.Size([40, 5, 6])\n",
      "torch.Size([11, 13, 6])\n",
      "80\n",
      "train_loss -0.08285708135614793\n",
      "val_loss 61.193176\n"
     ]
    },
    {
     "data": {
      "application/vnd.jupyter.widget-view+json": {
       "model_id": "944481efb2d34748a94ecb48344713fa",
       "version_major": 2,
       "version_minor": 0
      },
      "text/plain": [
       "  0%|          | 0/3 [00:00<?, ?it/s]"
      ]
     },
     "metadata": {},
     "output_type": "display_data"
    },
    {
     "name": "stdout",
     "output_type": "stream",
     "text": [
      "torch.Size([40, 11, 6])\n",
      "torch.Size([40, 13, 6])\n",
      "torch.Size([11, 11, 6])\n",
      "81\n",
      "train_loss -0.08763361349701881\n",
      "val_loss 60.57377\n"
     ]
    },
    {
     "data": {
      "application/vnd.jupyter.widget-view+json": {
       "model_id": "5b0c91e90a644324bf24f9b10c8c5091",
       "version_major": 2,
       "version_minor": 0
      },
      "text/plain": [
       "  0%|          | 0/3 [00:00<?, ?it/s]"
      ]
     },
     "metadata": {},
     "output_type": "display_data"
    },
    {
     "name": "stdout",
     "output_type": "stream",
     "text": [
      "torch.Size([40, 13, 6])\n",
      "torch.Size([40, 7, 6])\n",
      "torch.Size([11, 4, 6])\n",
      "82\n",
      "train_loss -0.11253269265095393\n",
      "val_loss 59.62445\n"
     ]
    },
    {
     "data": {
      "application/vnd.jupyter.widget-view+json": {
       "model_id": "a6aea8c4675742e5a3e0442349cfd6b3",
       "version_major": 2,
       "version_minor": 0
      },
      "text/plain": [
       "  0%|          | 0/3 [00:00<?, ?it/s]"
      ]
     },
     "metadata": {},
     "output_type": "display_data"
    },
    {
     "name": "stdout",
     "output_type": "stream",
     "text": [
      "torch.Size([40, 11, 6])\n",
      "torch.Size([40, 11, 6])\n",
      "torch.Size([11, 5, 6])\n",
      "83\n",
      "train_loss 0.4078240841627121\n",
      "val_loss 59.96465\n"
     ]
    },
    {
     "data": {
      "application/vnd.jupyter.widget-view+json": {
       "model_id": "29120cb0d8b549c6b1f6a215a50246cf",
       "version_major": 2,
       "version_minor": 0
      },
      "text/plain": [
       "  0%|          | 0/3 [00:00<?, ?it/s]"
      ]
     },
     "metadata": {},
     "output_type": "display_data"
    },
    {
     "name": "stdout",
     "output_type": "stream",
     "text": [
      "torch.Size([40, 4, 6])\n",
      "torch.Size([40, 4, 6])\n",
      "torch.Size([11, 7, 6])\n",
      "84\n",
      "train_loss -0.12078158309062322\n",
      "val_loss 60.536865\n"
     ]
    },
    {
     "data": {
      "application/vnd.jupyter.widget-view+json": {
       "model_id": "90f99621ca5447638378b32816cf9e65",
       "version_major": 2,
       "version_minor": 0
      },
      "text/plain": [
       "  0%|          | 0/3 [00:00<?, ?it/s]"
      ]
     },
     "metadata": {},
     "output_type": "display_data"
    },
    {
     "name": "stdout",
     "output_type": "stream",
     "text": [
      "torch.Size([40, 5, 6])\n",
      "torch.Size([40, 9, 6])\n",
      "torch.Size([11, 7, 6])\n",
      "85\n",
      "train_loss -0.04915029431382815\n",
      "val_loss 60.48756\n"
     ]
    },
    {
     "data": {
      "application/vnd.jupyter.widget-view+json": {
       "model_id": "2ccd18b29d2c47cb8881bebe363669d1",
       "version_major": 2,
       "version_minor": 0
      },
      "text/plain": [
       "  0%|          | 0/3 [00:00<?, ?it/s]"
      ]
     },
     "metadata": {},
     "output_type": "display_data"
    },
    {
     "name": "stdout",
     "output_type": "stream",
     "text": [
      "torch.Size([40, 9, 6])\n",
      "torch.Size([40, 8, 6])\n",
      "torch.Size([11, 9, 6])\n",
      "86\n",
      "train_loss -0.16925807297229767\n",
      "val_loss 59.157307\n"
     ]
    },
    {
     "data": {
      "application/vnd.jupyter.widget-view+json": {
       "model_id": "cc34fb22db1348f78dc631fcab44f184",
       "version_major": 2,
       "version_minor": 0
      },
      "text/plain": [
       "  0%|          | 0/3 [00:00<?, ?it/s]"
      ]
     },
     "metadata": {},
     "output_type": "display_data"
    },
    {
     "name": "stdout",
     "output_type": "stream",
     "text": [
      "torch.Size([40, 11, 6])\n",
      "torch.Size([40, 10, 6])\n",
      "torch.Size([11, 6, 6])\n",
      "87\n",
      "train_loss -0.09262426445881526\n",
      "val_loss 58.42167\n"
     ]
    },
    {
     "data": {
      "application/vnd.jupyter.widget-view+json": {
       "model_id": "e6ee9fac12554bdd96ea75d5c930eedb",
       "version_major": 2,
       "version_minor": 0
      },
      "text/plain": [
       "  0%|          | 0/3 [00:00<?, ?it/s]"
      ]
     },
     "metadata": {},
     "output_type": "display_data"
    },
    {
     "name": "stdout",
     "output_type": "stream",
     "text": [
      "torch.Size([40, 12, 6])\n",
      "torch.Size([40, 4, 6])\n",
      "torch.Size([11, 7, 6])\n",
      "88\n",
      "train_loss 0.9270346503083905\n",
      "val_loss 59.038193\n"
     ]
    },
    {
     "data": {
      "application/vnd.jupyter.widget-view+json": {
       "model_id": "5d069daf6b2e4e08b3acb8386cc7b05c",
       "version_major": 2,
       "version_minor": 0
      },
      "text/plain": [
       "  0%|          | 0/3 [00:00<?, ?it/s]"
      ]
     },
     "metadata": {},
     "output_type": "display_data"
    },
    {
     "name": "stdout",
     "output_type": "stream",
     "text": [
      "torch.Size([40, 4, 6])\n",
      "torch.Size([40, 4, 6])\n",
      "torch.Size([11, 13, 6])\n",
      "89\n",
      "train_loss -0.07179627070824306\n",
      "val_loss 61.89053\n"
     ]
    },
    {
     "data": {
      "application/vnd.jupyter.widget-view+json": {
       "model_id": "ef71b060dfdb42769cadb205b4348690",
       "version_major": 2,
       "version_minor": 0
      },
      "text/plain": [
       "  0%|          | 0/3 [00:00<?, ?it/s]"
      ]
     },
     "metadata": {},
     "output_type": "display_data"
    },
    {
     "name": "stdout",
     "output_type": "stream",
     "text": [
      "torch.Size([40, 11, 6])\n",
      "torch.Size([40, 14, 6])\n",
      "torch.Size([11, 9, 6])\n",
      "90\n",
      "train_loss 0.19427776833375296\n",
      "val_loss 62.291855\n"
     ]
    },
    {
     "data": {
      "application/vnd.jupyter.widget-view+json": {
       "model_id": "a3f6437574274afd9d6dd15d406d24b2",
       "version_major": 2,
       "version_minor": 0
      },
      "text/plain": [
       "  0%|          | 0/3 [00:00<?, ?it/s]"
      ]
     },
     "metadata": {},
     "output_type": "display_data"
    },
    {
     "name": "stdout",
     "output_type": "stream",
     "text": [
      "torch.Size([40, 12, 6])\n",
      "torch.Size([40, 13, 6])\n",
      "torch.Size([11, 12, 6])\n",
      "91\n",
      "train_loss -0.018246547008554142\n",
      "val_loss 59.941563\n"
     ]
    },
    {
     "data": {
      "application/vnd.jupyter.widget-view+json": {
       "model_id": "0035f4d24f3f464b8964a0635e3d7ccf",
       "version_major": 2,
       "version_minor": 0
      },
      "text/plain": [
       "  0%|          | 0/3 [00:00<?, ?it/s]"
      ]
     },
     "metadata": {},
     "output_type": "display_data"
    },
    {
     "name": "stdout",
     "output_type": "stream",
     "text": [
      "torch.Size([40, 10, 6])\n",
      "torch.Size([40, 9, 6])\n",
      "torch.Size([11, 5, 6])\n",
      "92\n",
      "train_loss -0.0655363133798043\n",
      "val_loss 59.15404\n"
     ]
    },
    {
     "data": {
      "application/vnd.jupyter.widget-view+json": {
       "model_id": "aa9bc5b638ff4f27906eb5eccce161cc",
       "version_major": 2,
       "version_minor": 0
      },
      "text/plain": [
       "  0%|          | 0/3 [00:00<?, ?it/s]"
      ]
     },
     "metadata": {},
     "output_type": "display_data"
    },
    {
     "name": "stdout",
     "output_type": "stream",
     "text": [
      "torch.Size([40, 5, 6])\n",
      "torch.Size([40, 7, 6])\n",
      "torch.Size([11, 8, 6])\n",
      "93\n",
      "train_loss 0.1691382129987081\n",
      "val_loss 58.609814\n"
     ]
    },
    {
     "data": {
      "application/vnd.jupyter.widget-view+json": {
       "model_id": "b531be29928e49f98ba2c73182adefec",
       "version_major": 2,
       "version_minor": 0
      },
      "text/plain": [
       "  0%|          | 0/3 [00:00<?, ?it/s]"
      ]
     },
     "metadata": {},
     "output_type": "display_data"
    },
    {
     "name": "stdout",
     "output_type": "stream",
     "text": [
      "torch.Size([40, 14, 6])\n",
      "torch.Size([40, 11, 6])\n",
      "torch.Size([11, 11, 6])\n",
      "94\n",
      "train_loss 0.101681982477506\n",
      "val_loss 58.31289\n"
     ]
    },
    {
     "data": {
      "application/vnd.jupyter.widget-view+json": {
       "model_id": "ef8c72c46c1a4c5fa3d5892fc7955d57",
       "version_major": 2,
       "version_minor": 0
      },
      "text/plain": [
       "  0%|          | 0/3 [00:00<?, ?it/s]"
      ]
     },
     "metadata": {},
     "output_type": "display_data"
    },
    {
     "name": "stdout",
     "output_type": "stream",
     "text": [
      "torch.Size([40, 4, 6])\n",
      "torch.Size([40, 10, 6])\n",
      "torch.Size([11, 9, 6])\n",
      "95\n",
      "train_loss -0.0860929898917675\n",
      "val_loss 58.4412\n"
     ]
    },
    {
     "data": {
      "application/vnd.jupyter.widget-view+json": {
       "model_id": "59837239cc9849f58334b0bd48325b96",
       "version_major": 2,
       "version_minor": 0
      },
      "text/plain": [
       "  0%|          | 0/3 [00:00<?, ?it/s]"
      ]
     },
     "metadata": {},
     "output_type": "display_data"
    },
    {
     "name": "stdout",
     "output_type": "stream",
     "text": [
      "torch.Size([40, 6, 6])\n",
      "torch.Size([40, 9, 6])\n",
      "torch.Size([11, 11, 6])\n",
      "96\n",
      "train_loss -0.12452020744482677\n",
      "val_loss 59.133904\n"
     ]
    },
    {
     "data": {
      "application/vnd.jupyter.widget-view+json": {
       "model_id": "7fbc8e529e9c4eb3827dd09923fdfbc3",
       "version_major": 2,
       "version_minor": 0
      },
      "text/plain": [
       "  0%|          | 0/3 [00:00<?, ?it/s]"
      ]
     },
     "metadata": {},
     "output_type": "display_data"
    },
    {
     "name": "stdout",
     "output_type": "stream",
     "text": [
      "torch.Size([40, 8, 6])\n",
      "torch.Size([40, 12, 6])\n",
      "torch.Size([11, 9, 6])\n",
      "97\n",
      "train_loss -0.12626893321673074\n",
      "val_loss 59.596394\n"
     ]
    },
    {
     "data": {
      "application/vnd.jupyter.widget-view+json": {
       "model_id": "54c5cc736f4540b6a26af93d011c4f50",
       "version_major": 2,
       "version_minor": 0
      },
      "text/plain": [
       "  0%|          | 0/3 [00:00<?, ?it/s]"
      ]
     },
     "metadata": {},
     "output_type": "display_data"
    },
    {
     "name": "stdout",
     "output_type": "stream",
     "text": [
      "torch.Size([40, 4, 6])\n",
      "torch.Size([40, 11, 6])\n",
      "torch.Size([11, 11, 6])\n",
      "98\n",
      "train_loss -0.13439469784498215\n",
      "val_loss 59.914963\n"
     ]
    },
    {
     "data": {
      "application/vnd.jupyter.widget-view+json": {
       "model_id": "1e5aeed4c667405fb0bbc3f2f77d0de7",
       "version_major": 2,
       "version_minor": 0
      },
      "text/plain": [
       "  0%|          | 0/3 [00:00<?, ?it/s]"
      ]
     },
     "metadata": {},
     "output_type": "display_data"
    },
    {
     "name": "stdout",
     "output_type": "stream",
     "text": [
      "torch.Size([40, 4, 6])\n",
      "torch.Size([40, 7, 6])\n",
      "torch.Size([11, 5, 6])\n",
      "99\n",
      "train_loss 0.07247953116893768\n",
      "val_loss 59.54012\n"
     ]
    },
    {
     "data": {
      "application/vnd.jupyter.widget-view+json": {
       "model_id": "8b1843e1c89a4f7d89607c445547a91b",
       "version_major": 2,
       "version_minor": 0
      },
      "text/plain": [
       "  0%|          | 0/3 [00:00<?, ?it/s]"
      ]
     },
     "metadata": {},
     "output_type": "display_data"
    },
    {
     "name": "stdout",
     "output_type": "stream",
     "text": [
      "torch.Size([40, 13, 6])\n",
      "torch.Size([40, 14, 6])\n",
      "torch.Size([11, 13, 6])\n",
      "100\n",
      "train_loss -0.05765525499979655\n",
      "val_loss 59.68032\n"
     ]
    },
    {
     "data": {
      "application/vnd.jupyter.widget-view+json": {
       "model_id": "97e5ba0649294a9cadb72e3b35e0e348",
       "version_major": 2,
       "version_minor": 0
      },
      "text/plain": [
       "  0%|          | 0/3 [00:00<?, ?it/s]"
      ]
     },
     "metadata": {},
     "output_type": "display_data"
    },
    {
     "name": "stdout",
     "output_type": "stream",
     "text": [
      "torch.Size([40, 14, 6])\n",
      "torch.Size([40, 6, 6])\n",
      "torch.Size([11, 4, 6])\n",
      "101\n",
      "train_loss -0.13747813754404584\n",
      "val_loss 60.002678\n"
     ]
    },
    {
     "data": {
      "application/vnd.jupyter.widget-view+json": {
       "model_id": "c3740bf5a8bb4becbe4d0b2078a35098",
       "version_major": 2,
       "version_minor": 0
      },
      "text/plain": [
       "  0%|          | 0/3 [00:00<?, ?it/s]"
      ]
     },
     "metadata": {},
     "output_type": "display_data"
    },
    {
     "name": "stdout",
     "output_type": "stream",
     "text": [
      "torch.Size([40, 10, 6])\n",
      "torch.Size([40, 8, 6])\n",
      "torch.Size([11, 4, 6])\n",
      "102\n",
      "train_loss -0.1833308587471644\n",
      "val_loss 60.230286\n"
     ]
    },
    {
     "data": {
      "application/vnd.jupyter.widget-view+json": {
       "model_id": "8ab5d4b1c91f43b18a2f1c1a855ec1cf",
       "version_major": 2,
       "version_minor": 0
      },
      "text/plain": [
       "  0%|          | 0/3 [00:00<?, ?it/s]"
      ]
     },
     "metadata": {},
     "output_type": "display_data"
    },
    {
     "name": "stdout",
     "output_type": "stream",
     "text": [
      "torch.Size([40, 6, 6])\n",
      "torch.Size([40, 6, 6])\n",
      "torch.Size([11, 12, 6])\n",
      "103\n",
      "train_loss 0.18129865576823553\n",
      "val_loss 59.89917\n"
     ]
    },
    {
     "data": {
      "application/vnd.jupyter.widget-view+json": {
       "model_id": "3aa8fb39693d4b2b876d020fb4369cc9",
       "version_major": 2,
       "version_minor": 0
      },
      "text/plain": [
       "  0%|          | 0/3 [00:00<?, ?it/s]"
      ]
     },
     "metadata": {},
     "output_type": "display_data"
    },
    {
     "name": "stdout",
     "output_type": "stream",
     "text": [
      "torch.Size([40, 6, 6])\n",
      "torch.Size([40, 5, 6])\n",
      "torch.Size([11, 6, 6])\n",
      "104\n",
      "train_loss 0.042295473317305245\n",
      "val_loss 60.60493\n"
     ]
    },
    {
     "data": {
      "application/vnd.jupyter.widget-view+json": {
       "model_id": "70faa5e1299647b9b8141ec024d9f6ca",
       "version_major": 2,
       "version_minor": 0
      },
      "text/plain": [
       "  0%|          | 0/3 [00:00<?, ?it/s]"
      ]
     },
     "metadata": {},
     "output_type": "display_data"
    },
    {
     "name": "stdout",
     "output_type": "stream",
     "text": [
      "torch.Size([40, 6, 6])\n",
      "torch.Size([40, 9, 6])\n",
      "torch.Size([11, 6, 6])\n",
      "105\n",
      "train_loss 0.1968341221412023\n",
      "val_loss 61.801163\n"
     ]
    },
    {
     "data": {
      "application/vnd.jupyter.widget-view+json": {
       "model_id": "614cc5f46a1e4f24bc2f30eb282bbf18",
       "version_major": 2,
       "version_minor": 0
      },
      "text/plain": [
       "  0%|          | 0/3 [00:00<?, ?it/s]"
      ]
     },
     "metadata": {},
     "output_type": "display_data"
    },
    {
     "name": "stdout",
     "output_type": "stream",
     "text": [
      "torch.Size([40, 4, 6])\n",
      "torch.Size([40, 14, 6])\n",
      "torch.Size([11, 11, 6])\n",
      "106\n",
      "train_loss -0.20101463794708252\n",
      "val_loss 61.026516\n"
     ]
    },
    {
     "data": {
      "application/vnd.jupyter.widget-view+json": {
       "model_id": "0dfa23970618494a86da0a86158c8fc5",
       "version_major": 2,
       "version_minor": 0
      },
      "text/plain": [
       "  0%|          | 0/3 [00:00<?, ?it/s]"
      ]
     },
     "metadata": {},
     "output_type": "display_data"
    },
    {
     "name": "stdout",
     "output_type": "stream",
     "text": [
      "torch.Size([40, 4, 6])\n",
      "torch.Size([40, 13, 6])\n",
      "torch.Size([11, 7, 6])\n",
      "107\n",
      "train_loss 0.22611451397339502\n",
      "val_loss 60.47305\n"
     ]
    },
    {
     "data": {
      "application/vnd.jupyter.widget-view+json": {
       "model_id": "66b4459438fe425c8d09653225b8e4c9",
       "version_major": 2,
       "version_minor": 0
      },
      "text/plain": [
       "  0%|          | 0/3 [00:00<?, ?it/s]"
      ]
     },
     "metadata": {},
     "output_type": "display_data"
    },
    {
     "name": "stdout",
     "output_type": "stream",
     "text": [
      "torch.Size([40, 12, 6])\n",
      "torch.Size([40, 9, 6])\n",
      "torch.Size([11, 11, 6])\n",
      "108\n",
      "train_loss -0.1558107187350591\n",
      "val_loss 59.709473\n"
     ]
    },
    {
     "data": {
      "application/vnd.jupyter.widget-view+json": {
       "model_id": "32e1fb7c33b241e09b07f6aafe51048f",
       "version_major": 2,
       "version_minor": 0
      },
      "text/plain": [
       "  0%|          | 0/3 [00:00<?, ?it/s]"
      ]
     },
     "metadata": {},
     "output_type": "display_data"
    },
    {
     "name": "stdout",
     "output_type": "stream",
     "text": [
      "torch.Size([40, 6, 6])\n",
      "torch.Size([40, 4, 6])\n",
      "torch.Size([11, 13, 6])\n",
      "109\n",
      "train_loss -0.196369931101799\n",
      "val_loss 60.02573\n"
     ]
    },
    {
     "data": {
      "application/vnd.jupyter.widget-view+json": {
       "model_id": "982fb8bb2b3242f98e58558aafc0ff0c",
       "version_major": 2,
       "version_minor": 0
      },
      "text/plain": [
       "  0%|          | 0/3 [00:00<?, ?it/s]"
      ]
     },
     "metadata": {},
     "output_type": "display_data"
    },
    {
     "name": "stdout",
     "output_type": "stream",
     "text": [
      "torch.Size([40, 14, 6])\n",
      "torch.Size([40, 5, 6])\n",
      "torch.Size([11, 8, 6])\n",
      "110\n",
      "train_loss 0.3891061147054036\n",
      "val_loss 59.84545\n"
     ]
    },
    {
     "data": {
      "application/vnd.jupyter.widget-view+json": {
       "model_id": "1b1a48240e3f49fc8777360a0d21a5df",
       "version_major": 2,
       "version_minor": 0
      },
      "text/plain": [
       "  0%|          | 0/3 [00:00<?, ?it/s]"
      ]
     },
     "metadata": {},
     "output_type": "display_data"
    },
    {
     "name": "stdout",
     "output_type": "stream",
     "text": [
      "torch.Size([40, 12, 6])\n",
      "torch.Size([40, 13, 6])\n",
      "torch.Size([11, 4, 6])\n",
      "111\n",
      "train_loss -0.1752519210179647\n",
      "val_loss 59.415752\n"
     ]
    },
    {
     "data": {
      "application/vnd.jupyter.widget-view+json": {
       "model_id": "a531059b301b4aaa910814a9c8c82630",
       "version_major": 2,
       "version_minor": 0
      },
      "text/plain": [
       "  0%|          | 0/3 [00:00<?, ?it/s]"
      ]
     },
     "metadata": {},
     "output_type": "display_data"
    },
    {
     "name": "stdout",
     "output_type": "stream",
     "text": [
      "torch.Size([40, 14, 6])\n",
      "torch.Size([40, 4, 6])\n",
      "torch.Size([11, 11, 6])\n",
      "112\n",
      "train_loss -0.17545883854230246\n",
      "val_loss 58.98751\n"
     ]
    },
    {
     "data": {
      "application/vnd.jupyter.widget-view+json": {
       "model_id": "a77364893c234df4ba025930444082bc",
       "version_major": 2,
       "version_minor": 0
      },
      "text/plain": [
       "  0%|          | 0/3 [00:00<?, ?it/s]"
      ]
     },
     "metadata": {},
     "output_type": "display_data"
    },
    {
     "name": "stdout",
     "output_type": "stream",
     "text": [
      "torch.Size([40, 6, 6])\n",
      "torch.Size([40, 11, 6])\n",
      "torch.Size([11, 6, 6])\n",
      "113\n",
      "train_loss -0.20921164751052856\n",
      "val_loss 58.62165\n"
     ]
    },
    {
     "data": {
      "application/vnd.jupyter.widget-view+json": {
       "model_id": "ad85c83614784234a075e65565e9246a",
       "version_major": 2,
       "version_minor": 0
      },
      "text/plain": [
       "  0%|          | 0/3 [00:00<?, ?it/s]"
      ]
     },
     "metadata": {},
     "output_type": "display_data"
    },
    {
     "name": "stdout",
     "output_type": "stream",
     "text": [
      "torch.Size([40, 13, 6])\n",
      "torch.Size([40, 6, 6])\n",
      "torch.Size([11, 4, 6])\n",
      "114\n",
      "train_loss -0.19990061844388643\n",
      "val_loss 59.326775\n"
     ]
    },
    {
     "data": {
      "application/vnd.jupyter.widget-view+json": {
       "model_id": "108b04085ee94c608c8e7c20723b1930",
       "version_major": 2,
       "version_minor": 0
      },
      "text/plain": [
       "  0%|          | 0/3 [00:00<?, ?it/s]"
      ]
     },
     "metadata": {},
     "output_type": "display_data"
    },
    {
     "name": "stdout",
     "output_type": "stream",
     "text": [
      "torch.Size([40, 11, 6])\n",
      "torch.Size([40, 8, 6])\n",
      "torch.Size([11, 14, 6])\n",
      "115\n",
      "train_loss -0.2688062737385432\n",
      "val_loss 59.751385\n"
     ]
    },
    {
     "data": {
      "application/vnd.jupyter.widget-view+json": {
       "model_id": "ce4526543c9f4014b65a8b6665682226",
       "version_major": 2,
       "version_minor": 0
      },
      "text/plain": [
       "  0%|          | 0/3 [00:00<?, ?it/s]"
      ]
     },
     "metadata": {},
     "output_type": "display_data"
    },
    {
     "name": "stdout",
     "output_type": "stream",
     "text": [
      "torch.Size([40, 13, 6])\n",
      "torch.Size([40, 9, 6])\n",
      "torch.Size([11, 5, 6])\n",
      "116\n",
      "train_loss -0.20445014660557112\n",
      "val_loss 59.611935\n"
     ]
    },
    {
     "data": {
      "application/vnd.jupyter.widget-view+json": {
       "model_id": "03e4c49d55f8452fa1e910cf428ed7c5",
       "version_major": 2,
       "version_minor": 0
      },
      "text/plain": [
       "  0%|          | 0/3 [00:00<?, ?it/s]"
      ]
     },
     "metadata": {},
     "output_type": "display_data"
    },
    {
     "name": "stdout",
     "output_type": "stream",
     "text": [
      "torch.Size([40, 6, 6])\n",
      "torch.Size([40, 4, 6])\n",
      "torch.Size([11, 8, 6])\n",
      "117\n",
      "train_loss -0.1857878416776657\n",
      "val_loss 59.93209\n"
     ]
    },
    {
     "data": {
      "application/vnd.jupyter.widget-view+json": {
       "model_id": "58d3f7213e824a7d8e54c2b00a204d00",
       "version_major": 2,
       "version_minor": 0
      },
      "text/plain": [
       "  0%|          | 0/3 [00:00<?, ?it/s]"
      ]
     },
     "metadata": {},
     "output_type": "display_data"
    },
    {
     "name": "stdout",
     "output_type": "stream",
     "text": [
      "torch.Size([40, 11, 6])\n",
      "torch.Size([40, 12, 6])\n",
      "torch.Size([11, 12, 6])\n",
      "118\n",
      "train_loss -0.33359386523564655\n",
      "val_loss 60.39991\n"
     ]
    },
    {
     "data": {
      "application/vnd.jupyter.widget-view+json": {
       "model_id": "ba1ec66730a94d8bb5d1a420bb92eae7",
       "version_major": 2,
       "version_minor": 0
      },
      "text/plain": [
       "  0%|          | 0/3 [00:00<?, ?it/s]"
      ]
     },
     "metadata": {},
     "output_type": "display_data"
    },
    {
     "name": "stdout",
     "output_type": "stream",
     "text": [
      "torch.Size([40, 6, 6])\n",
      "torch.Size([40, 14, 6])\n",
      "torch.Size([11, 8, 6])\n",
      "119\n",
      "train_loss 0.1175822913646698\n",
      "val_loss 60.527042\n"
     ]
    },
    {
     "data": {
      "application/vnd.jupyter.widget-view+json": {
       "model_id": "5b1afc18422a410887c048155641bd8d",
       "version_major": 2,
       "version_minor": 0
      },
      "text/plain": [
       "  0%|          | 0/3 [00:00<?, ?it/s]"
      ]
     },
     "metadata": {},
     "output_type": "display_data"
    },
    {
     "name": "stdout",
     "output_type": "stream",
     "text": [
      "torch.Size([40, 12, 6])\n",
      "torch.Size([40, 7, 6])\n",
      "torch.Size([11, 4, 6])\n",
      "120\n",
      "train_loss -0.1927596628665924\n",
      "val_loss 60.15444\n"
     ]
    },
    {
     "data": {
      "application/vnd.jupyter.widget-view+json": {
       "model_id": "01dce841f5f44847b427696f4af39522",
       "version_major": 2,
       "version_minor": 0
      },
      "text/plain": [
       "  0%|          | 0/3 [00:00<?, ?it/s]"
      ]
     },
     "metadata": {},
     "output_type": "display_data"
    },
    {
     "name": "stdout",
     "output_type": "stream",
     "text": [
      "torch.Size([40, 7, 6])\n",
      "torch.Size([40, 13, 6])\n",
      "torch.Size([11, 5, 6])\n",
      "121\n",
      "train_loss -0.1702883169054985\n",
      "val_loss 59.75249\n"
     ]
    },
    {
     "data": {
      "application/vnd.jupyter.widget-view+json": {
       "model_id": "ab26f9aca5f34b7cb4a1515c244a3814",
       "version_major": 2,
       "version_minor": 0
      },
      "text/plain": [
       "  0%|          | 0/3 [00:00<?, ?it/s]"
      ]
     },
     "metadata": {},
     "output_type": "display_data"
    },
    {
     "name": "stdout",
     "output_type": "stream",
     "text": [
      "torch.Size([40, 14, 6])\n",
      "torch.Size([40, 5, 6])\n",
      "torch.Size([11, 13, 6])\n",
      "122\n",
      "train_loss -0.14343635241190592\n",
      "val_loss 59.726955\n"
     ]
    },
    {
     "data": {
      "application/vnd.jupyter.widget-view+json": {
       "model_id": "500bd1540dbd41839027e767ef70d019",
       "version_major": 2,
       "version_minor": 0
      },
      "text/plain": [
       "  0%|          | 0/3 [00:00<?, ?it/s]"
      ]
     },
     "metadata": {},
     "output_type": "display_data"
    },
    {
     "name": "stdout",
     "output_type": "stream",
     "text": [
      "torch.Size([40, 12, 6])\n",
      "torch.Size([40, 8, 6])\n",
      "torch.Size([11, 12, 6])\n",
      "123\n",
      "train_loss -0.30213508506615955\n",
      "val_loss 59.793694\n"
     ]
    },
    {
     "data": {
      "application/vnd.jupyter.widget-view+json": {
       "model_id": "ec25ff01b3c64ae3bf1d7db6d0fc2cdb",
       "version_major": 2,
       "version_minor": 0
      },
      "text/plain": [
       "  0%|          | 0/3 [00:00<?, ?it/s]"
      ]
     },
     "metadata": {},
     "output_type": "display_data"
    },
    {
     "name": "stdout",
     "output_type": "stream",
     "text": [
      "torch.Size([40, 13, 6])\n",
      "torch.Size([40, 4, 6])\n",
      "torch.Size([11, 9, 6])\n",
      "124\n",
      "train_loss -0.30867710212866467\n",
      "val_loss 59.58781\n"
     ]
    },
    {
     "data": {
      "application/vnd.jupyter.widget-view+json": {
       "model_id": "6c06ffe74f73433d961a0c7c3b6d95d3",
       "version_major": 2,
       "version_minor": 0
      },
      "text/plain": [
       "  0%|          | 0/3 [00:00<?, ?it/s]"
      ]
     },
     "metadata": {},
     "output_type": "display_data"
    },
    {
     "name": "stdout",
     "output_type": "stream",
     "text": [
      "torch.Size([40, 7, 6])\n",
      "torch.Size([40, 4, 6])\n",
      "torch.Size([11, 10, 6])\n",
      "125\n",
      "train_loss -0.33337050676345825\n",
      "val_loss 59.74509\n"
     ]
    },
    {
     "data": {
      "application/vnd.jupyter.widget-view+json": {
       "model_id": "4bb9948a73e343218b1f7791c40d7bea",
       "version_major": 2,
       "version_minor": 0
      },
      "text/plain": [
       "  0%|          | 0/3 [00:00<?, ?it/s]"
      ]
     },
     "metadata": {},
     "output_type": "display_data"
    },
    {
     "name": "stdout",
     "output_type": "stream",
     "text": [
      "torch.Size([40, 10, 6])\n",
      "torch.Size([40, 7, 6])\n",
      "torch.Size([11, 5, 6])\n",
      "126\n",
      "train_loss -0.09426793456077576\n",
      "val_loss 59.911247\n"
     ]
    },
    {
     "data": {
      "application/vnd.jupyter.widget-view+json": {
       "model_id": "a4818ec5731d4d7bb60aa2c506b81543",
       "version_major": 2,
       "version_minor": 0
      },
      "text/plain": [
       "  0%|          | 0/3 [00:00<?, ?it/s]"
      ]
     },
     "metadata": {},
     "output_type": "display_data"
    },
    {
     "name": "stdout",
     "output_type": "stream",
     "text": [
      "torch.Size([40, 13, 6])\n",
      "torch.Size([40, 13, 6])\n",
      "torch.Size([11, 5, 6])\n",
      "127\n",
      "train_loss -0.24833674977223077\n",
      "val_loss 60.622234\n"
     ]
    },
    {
     "data": {
      "application/vnd.jupyter.widget-view+json": {
       "model_id": "4582f71dea9d45a6bb48991cdd24c94f",
       "version_major": 2,
       "version_minor": 0
      },
      "text/plain": [
       "  0%|          | 0/3 [00:00<?, ?it/s]"
      ]
     },
     "metadata": {},
     "output_type": "display_data"
    },
    {
     "name": "stdout",
     "output_type": "stream",
     "text": [
      "torch.Size([40, 8, 6])\n",
      "torch.Size([40, 7, 6])\n",
      "torch.Size([11, 5, 6])\n",
      "128\n",
      "train_loss -0.22645120726277432\n",
      "val_loss 61.381954\n"
     ]
    },
    {
     "data": {
      "application/vnd.jupyter.widget-view+json": {
       "model_id": "870977170e5044c3bc0ba5e6f8d9bf81",
       "version_major": 2,
       "version_minor": 0
      },
      "text/plain": [
       "  0%|          | 0/3 [00:00<?, ?it/s]"
      ]
     },
     "metadata": {},
     "output_type": "display_data"
    },
    {
     "name": "stdout",
     "output_type": "stream",
     "text": [
      "torch.Size([40, 12, 6])\n",
      "torch.Size([40, 14, 6])\n",
      "torch.Size([11, 4, 6])\n",
      "129\n",
      "train_loss -0.28436623016993207\n",
      "val_loss 60.975403\n"
     ]
    },
    {
     "data": {
      "application/vnd.jupyter.widget-view+json": {
       "model_id": "01d465222cd14b8eb83fe4d4a2b13a13",
       "version_major": 2,
       "version_minor": 0
      },
      "text/plain": [
       "  0%|          | 0/3 [00:00<?, ?it/s]"
      ]
     },
     "metadata": {},
     "output_type": "display_data"
    },
    {
     "name": "stdout",
     "output_type": "stream",
     "text": [
      "torch.Size([40, 5, 6])\n",
      "torch.Size([40, 14, 6])\n",
      "torch.Size([11, 5, 6])\n",
      "130\n",
      "train_loss -0.29867376138766605\n",
      "val_loss 60.73088\n"
     ]
    },
    {
     "data": {
      "application/vnd.jupyter.widget-view+json": {
       "model_id": "9e54fdf49a994ad0b3f03aca9df4b203",
       "version_major": 2,
       "version_minor": 0
      },
      "text/plain": [
       "  0%|          | 0/3 [00:00<?, ?it/s]"
      ]
     },
     "metadata": {},
     "output_type": "display_data"
    },
    {
     "name": "stdout",
     "output_type": "stream",
     "text": [
      "torch.Size([40, 9, 6])\n",
      "torch.Size([40, 11, 6])\n",
      "torch.Size([11, 10, 6])\n",
      "131\n",
      "train_loss -0.13507379094759622\n",
      "val_loss 60.75638\n"
     ]
    },
    {
     "data": {
      "application/vnd.jupyter.widget-view+json": {
       "model_id": "e4805fd963404bbc835afd28c985b44b",
       "version_major": 2,
       "version_minor": 0
      },
      "text/plain": [
       "  0%|          | 0/3 [00:00<?, ?it/s]"
      ]
     },
     "metadata": {},
     "output_type": "display_data"
    },
    {
     "name": "stdout",
     "output_type": "stream",
     "text": [
      "torch.Size([40, 8, 6])\n",
      "torch.Size([40, 6, 6])\n",
      "torch.Size([11, 13, 6])\n",
      "132\n",
      "train_loss -0.023613979419072468\n",
      "val_loss 60.180393\n"
     ]
    },
    {
     "data": {
      "application/vnd.jupyter.widget-view+json": {
       "model_id": "7301764357cb442a895aa5619acf53d1",
       "version_major": 2,
       "version_minor": 0
      },
      "text/plain": [
       "  0%|          | 0/3 [00:00<?, ?it/s]"
      ]
     },
     "metadata": {},
     "output_type": "display_data"
    },
    {
     "name": "stdout",
     "output_type": "stream",
     "text": [
      "torch.Size([40, 7, 6])\n",
      "torch.Size([40, 14, 6])\n",
      "torch.Size([11, 13, 6])\n",
      "133\n",
      "train_loss -0.1841862934331099\n",
      "val_loss 59.565166\n"
     ]
    },
    {
     "data": {
      "application/vnd.jupyter.widget-view+json": {
       "model_id": "f667ad7caf4d41688556bc25fdd3b1f8",
       "version_major": 2,
       "version_minor": 0
      },
      "text/plain": [
       "  0%|          | 0/3 [00:00<?, ?it/s]"
      ]
     },
     "metadata": {},
     "output_type": "display_data"
    },
    {
     "name": "stdout",
     "output_type": "stream",
     "text": [
      "torch.Size([40, 14, 6])\n",
      "torch.Size([40, 14, 6])\n",
      "torch.Size([11, 10, 6])\n",
      "134\n",
      "train_loss -0.26097764323155087\n",
      "val_loss 59.941204\n"
     ]
    },
    {
     "data": {
      "application/vnd.jupyter.widget-view+json": {
       "model_id": "3f43bcfbeb6d460c89995c1da8a1be65",
       "version_major": 2,
       "version_minor": 0
      },
      "text/plain": [
       "  0%|          | 0/3 [00:00<?, ?it/s]"
      ]
     },
     "metadata": {},
     "output_type": "display_data"
    },
    {
     "name": "stdout",
     "output_type": "stream",
     "text": [
      "torch.Size([40, 11, 6])\n",
      "torch.Size([40, 6, 6])\n",
      "torch.Size([11, 12, 6])\n",
      "135\n",
      "train_loss -0.21161620815594992\n",
      "val_loss 59.91266\n"
     ]
    },
    {
     "data": {
      "application/vnd.jupyter.widget-view+json": {
       "model_id": "8c3b63a98df34e89ba229a8c760e5a87",
       "version_major": 2,
       "version_minor": 0
      },
      "text/plain": [
       "  0%|          | 0/3 [00:00<?, ?it/s]"
      ]
     },
     "metadata": {},
     "output_type": "display_data"
    },
    {
     "name": "stdout",
     "output_type": "stream",
     "text": [
      "torch.Size([40, 12, 6])\n",
      "torch.Size([40, 12, 6])\n",
      "torch.Size([11, 14, 6])\n",
      "136\n",
      "train_loss -0.08927740653355916\n",
      "val_loss 60.212166\n"
     ]
    },
    {
     "data": {
      "application/vnd.jupyter.widget-view+json": {
       "model_id": "3321f154ca28433bbc3d80b93e75be89",
       "version_major": 2,
       "version_minor": 0
      },
      "text/plain": [
       "  0%|          | 0/3 [00:00<?, ?it/s]"
      ]
     },
     "metadata": {},
     "output_type": "display_data"
    },
    {
     "name": "stdout",
     "output_type": "stream",
     "text": [
      "torch.Size([40, 13, 6])\n",
      "torch.Size([40, 7, 6])\n",
      "torch.Size([11, 4, 6])\n",
      "137\n",
      "train_loss -0.14176546533902487\n",
      "val_loss 60.36531\n"
     ]
    },
    {
     "data": {
      "application/vnd.jupyter.widget-view+json": {
       "model_id": "7b8e680db1f8436d801831e4ba9b620e",
       "version_major": 2,
       "version_minor": 0
      },
      "text/plain": [
       "  0%|          | 0/3 [00:00<?, ?it/s]"
      ]
     },
     "metadata": {},
     "output_type": "display_data"
    },
    {
     "name": "stdout",
     "output_type": "stream",
     "text": [
      "torch.Size([40, 14, 6])\n",
      "torch.Size([40, 5, 6])\n",
      "torch.Size([11, 6, 6])\n",
      "138\n",
      "train_loss -0.005335400501887004\n",
      "val_loss 60.742237\n"
     ]
    },
    {
     "data": {
      "application/vnd.jupyter.widget-view+json": {
       "model_id": "c21f0734281b4bf0a305f473ce96c210",
       "version_major": 2,
       "version_minor": 0
      },
      "text/plain": [
       "  0%|          | 0/3 [00:00<?, ?it/s]"
      ]
     },
     "metadata": {},
     "output_type": "display_data"
    },
    {
     "name": "stdout",
     "output_type": "stream",
     "text": [
      "torch.Size([40, 13, 6])\n",
      "torch.Size([40, 11, 6])\n",
      "torch.Size([11, 13, 6])\n",
      "139\n",
      "train_loss -0.14504346251487732\n",
      "val_loss 61.32902\n"
     ]
    },
    {
     "data": {
      "application/vnd.jupyter.widget-view+json": {
       "model_id": "41db9e5fa1de4de491202f1061a6c729",
       "version_major": 2,
       "version_minor": 0
      },
      "text/plain": [
       "  0%|          | 0/3 [00:00<?, ?it/s]"
      ]
     },
     "metadata": {},
     "output_type": "display_data"
    },
    {
     "name": "stdout",
     "output_type": "stream",
     "text": [
      "torch.Size([40, 5, 6])\n",
      "torch.Size([40, 14, 6])\n",
      "torch.Size([11, 10, 6])\n",
      "140\n",
      "train_loss -0.32595744729042053\n",
      "val_loss 60.9208\n"
     ]
    },
    {
     "data": {
      "application/vnd.jupyter.widget-view+json": {
       "model_id": "aa2c8a6f33b7465eab015992c1e7aaeb",
       "version_major": 2,
       "version_minor": 0
      },
      "text/plain": [
       "  0%|          | 0/3 [00:00<?, ?it/s]"
      ]
     },
     "metadata": {},
     "output_type": "display_data"
    },
    {
     "name": "stdout",
     "output_type": "stream",
     "text": [
      "torch.Size([40, 6, 6])\n",
      "torch.Size([40, 9, 6])\n",
      "torch.Size([11, 11, 6])\n",
      "141\n",
      "train_loss -0.2496899515390396\n",
      "val_loss 60.452736\n"
     ]
    },
    {
     "data": {
      "application/vnd.jupyter.widget-view+json": {
       "model_id": "29849c1cdbf04e418b2729ecefcd595f",
       "version_major": 2,
       "version_minor": 0
      },
      "text/plain": [
       "  0%|          | 0/3 [00:00<?, ?it/s]"
      ]
     },
     "metadata": {},
     "output_type": "display_data"
    },
    {
     "name": "stdout",
     "output_type": "stream",
     "text": [
      "torch.Size([40, 11, 6])\n",
      "torch.Size([40, 13, 6])\n",
      "torch.Size([11, 6, 6])\n",
      "142\n",
      "train_loss -0.09792075554529826\n",
      "val_loss 60.238445\n"
     ]
    },
    {
     "data": {
      "application/vnd.jupyter.widget-view+json": {
       "model_id": "722c8cbdcf4d4b6fac0b7e00073d3879",
       "version_major": 2,
       "version_minor": 0
      },
      "text/plain": [
       "  0%|          | 0/3 [00:00<?, ?it/s]"
      ]
     },
     "metadata": {},
     "output_type": "display_data"
    },
    {
     "name": "stdout",
     "output_type": "stream",
     "text": [
      "torch.Size([40, 4, 6])\n",
      "torch.Size([40, 14, 6])\n",
      "torch.Size([11, 4, 6])\n",
      "143\n",
      "train_loss 0.4482634464899699\n",
      "val_loss 60.35202\n"
     ]
    },
    {
     "data": {
      "application/vnd.jupyter.widget-view+json": {
       "model_id": "0ca8a44b2d44471e80356ac4e24bdf1d",
       "version_major": 2,
       "version_minor": 0
      },
      "text/plain": [
       "  0%|          | 0/3 [00:00<?, ?it/s]"
      ]
     },
     "metadata": {},
     "output_type": "display_data"
    },
    {
     "name": "stdout",
     "output_type": "stream",
     "text": [
      "torch.Size([40, 13, 6])\n",
      "torch.Size([40, 9, 6])\n",
      "torch.Size([11, 11, 6])\n",
      "144\n",
      "train_loss -0.31060439844926196\n",
      "val_loss 60.26033\n"
     ]
    },
    {
     "data": {
      "application/vnd.jupyter.widget-view+json": {
       "model_id": "d59075b7aafe485abff449b67dce7278",
       "version_major": 2,
       "version_minor": 0
      },
      "text/plain": [
       "  0%|          | 0/3 [00:00<?, ?it/s]"
      ]
     },
     "metadata": {},
     "output_type": "display_data"
    },
    {
     "name": "stdout",
     "output_type": "stream",
     "text": [
      "torch.Size([40, 10, 6])\n",
      "torch.Size([40, 7, 6])\n",
      "torch.Size([11, 13, 6])\n",
      "145\n",
      "train_loss -0.22946214179197946\n",
      "val_loss 60.1645\n"
     ]
    },
    {
     "data": {
      "application/vnd.jupyter.widget-view+json": {
       "model_id": "8e0271a34cc44884afbf0b6f57608375",
       "version_major": 2,
       "version_minor": 0
      },
      "text/plain": [
       "  0%|          | 0/3 [00:00<?, ?it/s]"
      ]
     },
     "metadata": {},
     "output_type": "display_data"
    },
    {
     "name": "stdout",
     "output_type": "stream",
     "text": [
      "torch.Size([40, 11, 6])\n",
      "torch.Size([40, 14, 6])\n",
      "torch.Size([11, 9, 6])\n",
      "146\n",
      "train_loss -0.31760995586713153\n",
      "val_loss 60.050255\n"
     ]
    },
    {
     "data": {
      "application/vnd.jupyter.widget-view+json": {
       "model_id": "69de96bb54d44c02a6efb673ca6c6cd2",
       "version_major": 2,
       "version_minor": 0
      },
      "text/plain": [
       "  0%|          | 0/3 [00:00<?, ?it/s]"
      ]
     },
     "metadata": {},
     "output_type": "display_data"
    },
    {
     "name": "stdout",
     "output_type": "stream",
     "text": [
      "torch.Size([40, 11, 6])\n",
      "torch.Size([40, 7, 6])\n",
      "torch.Size([11, 10, 6])\n",
      "147\n",
      "train_loss -0.24152867123484612\n",
      "val_loss 59.968742\n"
     ]
    },
    {
     "data": {
      "application/vnd.jupyter.widget-view+json": {
       "model_id": "d91e5316dfa146049e64cf2399402e74",
       "version_major": 2,
       "version_minor": 0
      },
      "text/plain": [
       "  0%|          | 0/3 [00:00<?, ?it/s]"
      ]
     },
     "metadata": {},
     "output_type": "display_data"
    },
    {
     "name": "stdout",
     "output_type": "stream",
     "text": [
      "torch.Size([40, 12, 6])\n",
      "torch.Size([40, 12, 6])\n",
      "torch.Size([11, 13, 6])\n",
      "148\n",
      "train_loss -0.25055129329363507\n",
      "val_loss 59.73847\n"
     ]
    },
    {
     "data": {
      "application/vnd.jupyter.widget-view+json": {
       "model_id": "860586ae52a44709a18f5b37bd7f8541",
       "version_major": 2,
       "version_minor": 0
      },
      "text/plain": [
       "  0%|          | 0/3 [00:00<?, ?it/s]"
      ]
     },
     "metadata": {},
     "output_type": "display_data"
    },
    {
     "name": "stdout",
     "output_type": "stream",
     "text": [
      "torch.Size([40, 9, 6])\n",
      "torch.Size([40, 4, 6])\n",
      "torch.Size([11, 11, 6])\n",
      "149\n",
      "train_loss -0.29850976665814716\n",
      "val_loss 59.831062\n"
     ]
    },
    {
     "data": {
      "application/vnd.jupyter.widget-view+json": {
       "model_id": "6924d1436b164d6bac194356d58cf255",
       "version_major": 2,
       "version_minor": 0
      },
      "text/plain": [
       "  0%|          | 0/3 [00:00<?, ?it/s]"
      ]
     },
     "metadata": {},
     "output_type": "display_data"
    },
    {
     "name": "stdout",
     "output_type": "stream",
     "text": [
      "torch.Size([40, 6, 6])\n",
      "torch.Size([40, 8, 6])\n",
      "torch.Size([11, 6, 6])\n",
      "150\n",
      "train_loss -0.3511272072792053\n",
      "val_loss 60.664627\n"
     ]
    },
    {
     "data": {
      "application/vnd.jupyter.widget-view+json": {
       "model_id": "864306d9399946deadfd4ec4a548b46e",
       "version_major": 2,
       "version_minor": 0
      },
      "text/plain": [
       "  0%|          | 0/3 [00:00<?, ?it/s]"
      ]
     },
     "metadata": {},
     "output_type": "display_data"
    },
    {
     "name": "stdout",
     "output_type": "stream",
     "text": [
      "torch.Size([40, 4, 6])\n",
      "torch.Size([40, 11, 6])\n",
      "torch.Size([11, 13, 6])\n",
      "151\n",
      "train_loss -0.35365023215611774\n",
      "val_loss 60.94992\n"
     ]
    },
    {
     "data": {
      "application/vnd.jupyter.widget-view+json": {
       "model_id": "27edbcb47c79446eb27ff5b99f22a7ce",
       "version_major": 2,
       "version_minor": 0
      },
      "text/plain": [
       "  0%|          | 0/3 [00:00<?, ?it/s]"
      ]
     },
     "metadata": {},
     "output_type": "display_data"
    },
    {
     "name": "stdout",
     "output_type": "stream",
     "text": [
      "torch.Size([40, 6, 6])\n",
      "torch.Size([40, 8, 6])\n",
      "torch.Size([11, 9, 6])\n",
      "152\n",
      "train_loss -0.41702041029930115\n",
      "val_loss 60.977882\n"
     ]
    },
    {
     "data": {
      "application/vnd.jupyter.widget-view+json": {
       "model_id": "d4241f8c4373490b90929f98ceddcffb",
       "version_major": 2,
       "version_minor": 0
      },
      "text/plain": [
       "  0%|          | 0/3 [00:00<?, ?it/s]"
      ]
     },
     "metadata": {},
     "output_type": "display_data"
    },
    {
     "name": "stdout",
     "output_type": "stream",
     "text": [
      "torch.Size([40, 8, 6])\n",
      "torch.Size([40, 4, 6])\n",
      "torch.Size([11, 8, 6])\n",
      "153\n",
      "train_loss -0.45998571316401166\n",
      "val_loss 60.627625\n"
     ]
    },
    {
     "data": {
      "application/vnd.jupyter.widget-view+json": {
       "model_id": "14f7d7d129624e35b7c836ed759f5391",
       "version_major": 2,
       "version_minor": 0
      },
      "text/plain": [
       "  0%|          | 0/3 [00:00<?, ?it/s]"
      ]
     },
     "metadata": {},
     "output_type": "display_data"
    },
    {
     "name": "stdout",
     "output_type": "stream",
     "text": [
      "torch.Size([40, 8, 6])\n",
      "torch.Size([40, 8, 6])\n",
      "torch.Size([11, 11, 6])\n",
      "154\n",
      "train_loss -0.38538390894730884\n",
      "val_loss 60.394794\n"
     ]
    },
    {
     "data": {
      "application/vnd.jupyter.widget-view+json": {
       "model_id": "502b22c19fb74d8f924b38fa2ac272af",
       "version_major": 2,
       "version_minor": 0
      },
      "text/plain": [
       "  0%|          | 0/3 [00:00<?, ?it/s]"
      ]
     },
     "metadata": {},
     "output_type": "display_data"
    },
    {
     "name": "stdout",
     "output_type": "stream",
     "text": [
      "torch.Size([40, 12, 6])\n",
      "torch.Size([40, 8, 6])\n",
      "torch.Size([11, 8, 6])\n",
      "155\n",
      "train_loss -0.26042719682057697\n",
      "val_loss 60.284023\n"
     ]
    },
    {
     "data": {
      "application/vnd.jupyter.widget-view+json": {
       "model_id": "3706cc69b03a4eb882493e69e98d063e",
       "version_major": 2,
       "version_minor": 0
      },
      "text/plain": [
       "  0%|          | 0/3 [00:00<?, ?it/s]"
      ]
     },
     "metadata": {},
     "output_type": "display_data"
    },
    {
     "name": "stdout",
     "output_type": "stream",
     "text": [
      "torch.Size([40, 7, 6])\n",
      "torch.Size([40, 4, 6])\n",
      "torch.Size([11, 14, 6])\n",
      "156\n",
      "train_loss -0.2042259226242701\n",
      "val_loss 59.981194\n"
     ]
    },
    {
     "data": {
      "application/vnd.jupyter.widget-view+json": {
       "model_id": "f32f6c41405f4cee894c7668c1307cec",
       "version_major": 2,
       "version_minor": 0
      },
      "text/plain": [
       "  0%|          | 0/3 [00:00<?, ?it/s]"
      ]
     },
     "metadata": {},
     "output_type": "display_data"
    },
    {
     "name": "stdout",
     "output_type": "stream",
     "text": [
      "torch.Size([40, 11, 6])\n",
      "torch.Size([40, 13, 6])\n",
      "torch.Size([11, 9, 6])\n",
      "157\n",
      "train_loss -0.37143926322460175\n",
      "val_loss 60.20665\n"
     ]
    },
    {
     "data": {
      "application/vnd.jupyter.widget-view+json": {
       "model_id": "e5bb4fa532404ca4bb1447941fa632d1",
       "version_major": 2,
       "version_minor": 0
      },
      "text/plain": [
       "  0%|          | 0/3 [00:00<?, ?it/s]"
      ]
     },
     "metadata": {},
     "output_type": "display_data"
    },
    {
     "name": "stdout",
     "output_type": "stream",
     "text": [
      "torch.Size([40, 13, 6])\n",
      "torch.Size([40, 6, 6])\n",
      "torch.Size([11, 7, 6])\n",
      "158\n",
      "train_loss -0.443693886200587\n",
      "val_loss 60.876335\n"
     ]
    },
    {
     "data": {
      "application/vnd.jupyter.widget-view+json": {
       "model_id": "84620409289e43508e8a5f42b23fb8a6",
       "version_major": 2,
       "version_minor": 0
      },
      "text/plain": [
       "  0%|          | 0/3 [00:00<?, ?it/s]"
      ]
     },
     "metadata": {},
     "output_type": "display_data"
    },
    {
     "name": "stdout",
     "output_type": "stream",
     "text": [
      "torch.Size([40, 6, 6])\n",
      "torch.Size([40, 6, 6])\n",
      "torch.Size([11, 10, 6])\n",
      "159\n",
      "train_loss -0.2559211788078149\n",
      "val_loss 60.68129\n"
     ]
    },
    {
     "data": {
      "application/vnd.jupyter.widget-view+json": {
       "model_id": "2f65fb8a105244969678df1893d078ea",
       "version_major": 2,
       "version_minor": 0
      },
      "text/plain": [
       "  0%|          | 0/3 [00:00<?, ?it/s]"
      ]
     },
     "metadata": {},
     "output_type": "display_data"
    },
    {
     "name": "stdout",
     "output_type": "stream",
     "text": [
      "torch.Size([40, 14, 6])\n",
      "torch.Size([40, 9, 6])\n",
      "torch.Size([11, 9, 6])\n",
      "160\n",
      "train_loss -0.10111543536186218\n",
      "val_loss 60.548088\n"
     ]
    },
    {
     "data": {
      "application/vnd.jupyter.widget-view+json": {
       "model_id": "b258027a38aa477b8efae6bdc3b2bb81",
       "version_major": 2,
       "version_minor": 0
      },
      "text/plain": [
       "  0%|          | 0/3 [00:00<?, ?it/s]"
      ]
     },
     "metadata": {},
     "output_type": "display_data"
    },
    {
     "name": "stdout",
     "output_type": "stream",
     "text": [
      "torch.Size([40, 8, 6])\n",
      "torch.Size([40, 5, 6])\n",
      "torch.Size([11, 9, 6])\n",
      "161\n",
      "train_loss -0.26157864928245544\n",
      "val_loss 61.315945\n"
     ]
    },
    {
     "data": {
      "application/vnd.jupyter.widget-view+json": {
       "model_id": "944c2c5673a942d8801f1a809eaba625",
       "version_major": 2,
       "version_minor": 0
      },
      "text/plain": [
       "  0%|          | 0/3 [00:00<?, ?it/s]"
      ]
     },
     "metadata": {},
     "output_type": "display_data"
    },
    {
     "name": "stdout",
     "output_type": "stream",
     "text": [
      "torch.Size([40, 4, 6])\n",
      "torch.Size([40, 12, 6])\n",
      "torch.Size([11, 5, 6])\n",
      "162\n",
      "train_loss -0.37847909331321716\n",
      "val_loss 61.529892\n"
     ]
    },
    {
     "data": {
      "application/vnd.jupyter.widget-view+json": {
       "model_id": "96e4c46e7832455980df447be9770f12",
       "version_major": 2,
       "version_minor": 0
      },
      "text/plain": [
       "  0%|          | 0/3 [00:00<?, ?it/s]"
      ]
     },
     "metadata": {},
     "output_type": "display_data"
    },
    {
     "name": "stdout",
     "output_type": "stream",
     "text": [
      "torch.Size([40, 8, 6])\n",
      "torch.Size([40, 4, 6])\n",
      "torch.Size([11, 10, 6])\n",
      "163\n",
      "train_loss 0.5138885676860809\n",
      "val_loss 61.77643\n"
     ]
    },
    {
     "data": {
      "application/vnd.jupyter.widget-view+json": {
       "model_id": "2813520b2a334c4987211e7a99561ca5",
       "version_major": 2,
       "version_minor": 0
      },
      "text/plain": [
       "  0%|          | 0/3 [00:00<?, ?it/s]"
      ]
     },
     "metadata": {},
     "output_type": "display_data"
    },
    {
     "name": "stdout",
     "output_type": "stream",
     "text": [
      "torch.Size([40, 14, 6])\n",
      "torch.Size([40, 11, 6])\n",
      "torch.Size([11, 8, 6])\n",
      "164\n",
      "train_loss -0.021075516939163208\n",
      "val_loss 61.563797\n"
     ]
    },
    {
     "data": {
      "application/vnd.jupyter.widget-view+json": {
       "model_id": "31b8a89b419c4c0ba1223e4308cf54c3",
       "version_major": 2,
       "version_minor": 0
      },
      "text/plain": [
       "  0%|          | 0/3 [00:00<?, ?it/s]"
      ]
     },
     "metadata": {},
     "output_type": "display_data"
    },
    {
     "name": "stdout",
     "output_type": "stream",
     "text": [
      "torch.Size([40, 8, 6])\n",
      "torch.Size([40, 4, 6])\n",
      "torch.Size([11, 10, 6])\n",
      "165\n",
      "train_loss -0.3667829930782318\n",
      "val_loss 61.18591\n"
     ]
    },
    {
     "data": {
      "application/vnd.jupyter.widget-view+json": {
       "model_id": "5f1e4ec025d64dae8efda4e1b1f89206",
       "version_major": 2,
       "version_minor": 0
      },
      "text/plain": [
       "  0%|          | 0/3 [00:00<?, ?it/s]"
      ]
     },
     "metadata": {},
     "output_type": "display_data"
    },
    {
     "name": "stdout",
     "output_type": "stream",
     "text": [
      "torch.Size([40, 8, 6])\n",
      "torch.Size([40, 6, 6])\n",
      "torch.Size([11, 12, 6])\n",
      "166\n",
      "train_loss -0.20005709926287332\n",
      "val_loss 60.968975\n"
     ]
    },
    {
     "data": {
      "application/vnd.jupyter.widget-view+json": {
       "model_id": "8cb75f638a5f4c878dc0296bcff0360d",
       "version_major": 2,
       "version_minor": 0
      },
      "text/plain": [
       "  0%|          | 0/3 [00:00<?, ?it/s]"
      ]
     },
     "metadata": {},
     "output_type": "display_data"
    },
    {
     "name": "stdout",
     "output_type": "stream",
     "text": [
      "torch.Size([40, 4, 6])\n",
      "torch.Size([40, 6, 6])\n",
      "torch.Size([11, 5, 6])\n",
      "167\n",
      "train_loss -0.09570301572481792\n",
      "val_loss 61.145676\n"
     ]
    },
    {
     "data": {
      "application/vnd.jupyter.widget-view+json": {
       "model_id": "d2efae71277141b09a460713ec5d2bc8",
       "version_major": 2,
       "version_minor": 0
      },
      "text/plain": [
       "  0%|          | 0/3 [00:00<?, ?it/s]"
      ]
     },
     "metadata": {},
     "output_type": "display_data"
    },
    {
     "name": "stdout",
     "output_type": "stream",
     "text": [
      "torch.Size([40, 13, 6])\n",
      "torch.Size([40, 12, 6])\n",
      "torch.Size([11, 5, 6])\n",
      "168\n",
      "train_loss -0.272997472435236\n",
      "val_loss 60.757088\n"
     ]
    },
    {
     "data": {
      "application/vnd.jupyter.widget-view+json": {
       "model_id": "382435d08d444f1c986e5554c674343b",
       "version_major": 2,
       "version_minor": 0
      },
      "text/plain": [
       "  0%|          | 0/3 [00:00<?, ?it/s]"
      ]
     },
     "metadata": {},
     "output_type": "display_data"
    },
    {
     "name": "stdout",
     "output_type": "stream",
     "text": [
      "torch.Size([40, 6, 6])\n",
      "torch.Size([40, 9, 6])\n",
      "torch.Size([11, 5, 6])\n",
      "169\n",
      "train_loss -0.13057735562324524\n",
      "val_loss 60.3047\n"
     ]
    },
    {
     "data": {
      "application/vnd.jupyter.widget-view+json": {
       "model_id": "7482f9ab94694da08a50329b6c69a3a8",
       "version_major": 2,
       "version_minor": 0
      },
      "text/plain": [
       "  0%|          | 0/3 [00:00<?, ?it/s]"
      ]
     },
     "metadata": {},
     "output_type": "display_data"
    },
    {
     "name": "stdout",
     "output_type": "stream",
     "text": [
      "torch.Size([40, 14, 6])\n",
      "torch.Size([40, 10, 6])\n",
      "torch.Size([11, 14, 6])\n",
      "170\n",
      "train_loss -0.10618370771408081\n",
      "val_loss 60.379063\n"
     ]
    },
    {
     "data": {
      "application/vnd.jupyter.widget-view+json": {
       "model_id": "bf592174514b460eab49d6ff9e694d96",
       "version_major": 2,
       "version_minor": 0
      },
      "text/plain": [
       "  0%|          | 0/3 [00:00<?, ?it/s]"
      ]
     },
     "metadata": {},
     "output_type": "display_data"
    },
    {
     "name": "stdout",
     "output_type": "stream",
     "text": [
      "torch.Size([40, 12, 6])\n",
      "torch.Size([40, 14, 6])\n",
      "torch.Size([11, 6, 6])\n",
      "171\n",
      "train_loss -0.3865521053473155\n",
      "val_loss 60.728634\n"
     ]
    },
    {
     "data": {
      "application/vnd.jupyter.widget-view+json": {
       "model_id": "4c4ac2ce807c4dd2983d9484f9acf6bf",
       "version_major": 2,
       "version_minor": 0
      },
      "text/plain": [
       "  0%|          | 0/3 [00:00<?, ?it/s]"
      ]
     },
     "metadata": {},
     "output_type": "display_data"
    },
    {
     "name": "stdout",
     "output_type": "stream",
     "text": [
      "torch.Size([40, 11, 6])\n",
      "torch.Size([40, 14, 6])\n",
      "torch.Size([11, 6, 6])\n",
      "172\n",
      "train_loss -0.3473688066005707\n",
      "val_loss 60.314453\n"
     ]
    },
    {
     "data": {
      "application/vnd.jupyter.widget-view+json": {
       "model_id": "792b9549ec7d41fea0e6dd166ffc2eb6",
       "version_major": 2,
       "version_minor": 0
      },
      "text/plain": [
       "  0%|          | 0/3 [00:00<?, ?it/s]"
      ]
     },
     "metadata": {},
     "output_type": "display_data"
    },
    {
     "name": "stdout",
     "output_type": "stream",
     "text": [
      "torch.Size([40, 10, 6])\n",
      "torch.Size([40, 9, 6])\n",
      "torch.Size([11, 14, 6])\n",
      "173\n",
      "train_loss -0.2997238157937924\n",
      "val_loss 60.165646\n"
     ]
    },
    {
     "data": {
      "application/vnd.jupyter.widget-view+json": {
       "model_id": "40262ab54a0c439ca0b8072a77501110",
       "version_major": 2,
       "version_minor": 0
      },
      "text/plain": [
       "  0%|          | 0/3 [00:00<?, ?it/s]"
      ]
     },
     "metadata": {},
     "output_type": "display_data"
    },
    {
     "name": "stdout",
     "output_type": "stream",
     "text": [
      "torch.Size([40, 4, 6])\n",
      "torch.Size([40, 12, 6])\n",
      "torch.Size([11, 12, 6])\n",
      "174\n",
      "train_loss -0.4335548182328542\n",
      "val_loss 60.415916\n"
     ]
    },
    {
     "data": {
      "application/vnd.jupyter.widget-view+json": {
       "model_id": "b554ed8c78e0455c862faea63c81fd7d",
       "version_major": 2,
       "version_minor": 0
      },
      "text/plain": [
       "  0%|          | 0/3 [00:00<?, ?it/s]"
      ]
     },
     "metadata": {},
     "output_type": "display_data"
    },
    {
     "name": "stdout",
     "output_type": "stream",
     "text": [
      "torch.Size([40, 4, 6])\n",
      "torch.Size([40, 4, 6])\n",
      "torch.Size([11, 13, 6])\n",
      "175\n",
      "train_loss -0.40288835763931274\n",
      "val_loss 60.144318\n"
     ]
    },
    {
     "data": {
      "application/vnd.jupyter.widget-view+json": {
       "model_id": "70242503d2ce4ce5b2fec5cd76184ada",
       "version_major": 2,
       "version_minor": 0
      },
      "text/plain": [
       "  0%|          | 0/3 [00:00<?, ?it/s]"
      ]
     },
     "metadata": {},
     "output_type": "display_data"
    },
    {
     "name": "stdout",
     "output_type": "stream",
     "text": [
      "torch.Size([40, 8, 6])\n",
      "torch.Size([40, 4, 6])\n",
      "torch.Size([11, 11, 6])\n",
      "176\n",
      "train_loss -0.42627577980359393\n",
      "val_loss 59.39256\n"
     ]
    },
    {
     "data": {
      "application/vnd.jupyter.widget-view+json": {
       "model_id": "f2d897fc2db04643ba869a2b4f91873c",
       "version_major": 2,
       "version_minor": 0
      },
      "text/plain": [
       "  0%|          | 0/3 [00:00<?, ?it/s]"
      ]
     },
     "metadata": {},
     "output_type": "display_data"
    },
    {
     "name": "stdout",
     "output_type": "stream",
     "text": [
      "torch.Size([40, 11, 6])\n",
      "torch.Size([40, 8, 6])\n",
      "torch.Size([11, 13, 6])\n",
      "177\n",
      "train_loss -0.40646788477897644\n",
      "val_loss 59.507404\n"
     ]
    },
    {
     "data": {
      "application/vnd.jupyter.widget-view+json": {
       "model_id": "51ae4d40e35545e8813c9e894dd69ee3",
       "version_major": 2,
       "version_minor": 0
      },
      "text/plain": [
       "  0%|          | 0/3 [00:00<?, ?it/s]"
      ]
     },
     "metadata": {},
     "output_type": "display_data"
    },
    {
     "name": "stdout",
     "output_type": "stream",
     "text": [
      "torch.Size([40, 7, 6])\n",
      "torch.Size([40, 9, 6])\n",
      "torch.Size([11, 13, 6])\n",
      "178\n",
      "train_loss -0.28153034547964734\n",
      "val_loss 59.63233\n"
     ]
    },
    {
     "data": {
      "application/vnd.jupyter.widget-view+json": {
       "model_id": "6073ef0665ac4f4a99b8a2a3c052366a",
       "version_major": 2,
       "version_minor": 0
      },
      "text/plain": [
       "  0%|          | 0/3 [00:00<?, ?it/s]"
      ]
     },
     "metadata": {},
     "output_type": "display_data"
    },
    {
     "name": "stdout",
     "output_type": "stream",
     "text": [
      "torch.Size([40, 5, 6])\n",
      "torch.Size([40, 8, 6])\n",
      "torch.Size([11, 13, 6])\n",
      "179\n",
      "train_loss -0.4096631904443105\n",
      "val_loss 58.90719\n"
     ]
    },
    {
     "data": {
      "application/vnd.jupyter.widget-view+json": {
       "model_id": "59af5510a2684b9e9771651a82362091",
       "version_major": 2,
       "version_minor": 0
      },
      "text/plain": [
       "  0%|          | 0/3 [00:00<?, ?it/s]"
      ]
     },
     "metadata": {},
     "output_type": "display_data"
    },
    {
     "name": "stdout",
     "output_type": "stream",
     "text": [
      "torch.Size([40, 5, 6])\n",
      "torch.Size([40, 9, 6])\n",
      "torch.Size([11, 4, 6])\n",
      "180\n",
      "train_loss -0.4540131688117981\n",
      "val_loss 58.67129\n"
     ]
    },
    {
     "data": {
      "application/vnd.jupyter.widget-view+json": {
       "model_id": "e8c2ad81ab4046c6ac5d38d285991d0f",
       "version_major": 2,
       "version_minor": 0
      },
      "text/plain": [
       "  0%|          | 0/3 [00:00<?, ?it/s]"
      ]
     },
     "metadata": {},
     "output_type": "display_data"
    },
    {
     "name": "stdout",
     "output_type": "stream",
     "text": [
      "torch.Size([40, 8, 6])\n",
      "torch.Size([40, 13, 6])\n",
      "torch.Size([11, 5, 6])\n",
      "181\n",
      "train_loss -0.4349146982034047\n",
      "val_loss 59.114445\n"
     ]
    },
    {
     "data": {
      "application/vnd.jupyter.widget-view+json": {
       "model_id": "3aa7e3e5289f413eb240ccba0ec95d24",
       "version_major": 2,
       "version_minor": 0
      },
      "text/plain": [
       "  0%|          | 0/3 [00:00<?, ?it/s]"
      ]
     },
     "metadata": {},
     "output_type": "display_data"
    },
    {
     "name": "stdout",
     "output_type": "stream",
     "text": [
      "torch.Size([40, 13, 6])\n",
      "torch.Size([40, 12, 6])\n",
      "torch.Size([11, 9, 6])\n",
      "182\n",
      "train_loss -0.2874745527903239\n",
      "val_loss 59.734837\n"
     ]
    },
    {
     "data": {
      "application/vnd.jupyter.widget-view+json": {
       "model_id": "339630f274334286b7115f317931fb0e",
       "version_major": 2,
       "version_minor": 0
      },
      "text/plain": [
       "  0%|          | 0/3 [00:00<?, ?it/s]"
      ]
     },
     "metadata": {},
     "output_type": "display_data"
    },
    {
     "name": "stdout",
     "output_type": "stream",
     "text": [
      "torch.Size([40, 10, 6])\n",
      "torch.Size([40, 13, 6])\n",
      "torch.Size([11, 13, 6])\n",
      "183\n",
      "train_loss -0.3903905004262924\n",
      "val_loss 59.727745\n"
     ]
    },
    {
     "data": {
      "application/vnd.jupyter.widget-view+json": {
       "model_id": "fe174b58dba24e79839d60961a67b064",
       "version_major": 2,
       "version_minor": 0
      },
      "text/plain": [
       "  0%|          | 0/3 [00:00<?, ?it/s]"
      ]
     },
     "metadata": {},
     "output_type": "display_data"
    },
    {
     "name": "stdout",
     "output_type": "stream",
     "text": [
      "torch.Size([40, 8, 6])\n",
      "torch.Size([40, 4, 6])\n",
      "torch.Size([11, 9, 6])\n",
      "184\n",
      "train_loss -0.525190681219101\n",
      "val_loss 59.729893\n"
     ]
    },
    {
     "data": {
      "application/vnd.jupyter.widget-view+json": {
       "model_id": "8b5711b0d1184f2888bf8c6b19e9f0de",
       "version_major": 2,
       "version_minor": 0
      },
      "text/plain": [
       "  0%|          | 0/3 [00:00<?, ?it/s]"
      ]
     },
     "metadata": {},
     "output_type": "display_data"
    },
    {
     "name": "stdout",
     "output_type": "stream",
     "text": [
      "torch.Size([40, 5, 6])\n",
      "torch.Size([40, 10, 6])\n",
      "torch.Size([11, 5, 6])\n",
      "185\n",
      "train_loss -0.3764014008144538\n",
      "val_loss 59.996063\n"
     ]
    },
    {
     "data": {
      "application/vnd.jupyter.widget-view+json": {
       "model_id": "ee13eb432b614008b2617697293accd9",
       "version_major": 2,
       "version_minor": 0
      },
      "text/plain": [
       "  0%|          | 0/3 [00:00<?, ?it/s]"
      ]
     },
     "metadata": {},
     "output_type": "display_data"
    },
    {
     "name": "stdout",
     "output_type": "stream",
     "text": [
      "torch.Size([40, 9, 6])\n",
      "torch.Size([40, 4, 6])\n",
      "torch.Size([11, 9, 6])\n",
      "186\n",
      "train_loss -0.4684937000274658\n",
      "val_loss 60.30803\n"
     ]
    },
    {
     "data": {
      "application/vnd.jupyter.widget-view+json": {
       "model_id": "23c1f53094474a9191e44553f4c3ca46",
       "version_major": 2,
       "version_minor": 0
      },
      "text/plain": [
       "  0%|          | 0/3 [00:00<?, ?it/s]"
      ]
     },
     "metadata": {},
     "output_type": "display_data"
    },
    {
     "name": "stdout",
     "output_type": "stream",
     "text": [
      "torch.Size([40, 12, 6])\n",
      "torch.Size([40, 8, 6])\n",
      "torch.Size([11, 6, 6])\n",
      "187\n",
      "train_loss -0.5306582351525625\n",
      "val_loss 60.137146\n"
     ]
    },
    {
     "data": {
      "application/vnd.jupyter.widget-view+json": {
       "model_id": "c7edd9b42ac5470a8f39071fb2234968",
       "version_major": 2,
       "version_minor": 0
      },
      "text/plain": [
       "  0%|          | 0/3 [00:00<?, ?it/s]"
      ]
     },
     "metadata": {},
     "output_type": "display_data"
    },
    {
     "name": "stdout",
     "output_type": "stream",
     "text": [
      "torch.Size([40, 14, 6])\n",
      "torch.Size([40, 6, 6])\n",
      "torch.Size([11, 9, 6])\n",
      "188\n",
      "train_loss -0.4808678925037384\n",
      "val_loss 59.794746\n"
     ]
    },
    {
     "data": {
      "application/vnd.jupyter.widget-view+json": {
       "model_id": "1de721a8f2954f5497148d110eecd2fa",
       "version_major": 2,
       "version_minor": 0
      },
      "text/plain": [
       "  0%|          | 0/3 [00:00<?, ?it/s]"
      ]
     },
     "metadata": {},
     "output_type": "display_data"
    },
    {
     "name": "stdout",
     "output_type": "stream",
     "text": [
      "torch.Size([40, 6, 6])\n",
      "torch.Size([40, 10, 6])\n",
      "torch.Size([11, 8, 6])\n",
      "189\n",
      "train_loss -0.37608788705741364\n",
      "val_loss 60.17473\n"
     ]
    },
    {
     "data": {
      "application/vnd.jupyter.widget-view+json": {
       "model_id": "55fab16aba0849f0938eb8ee06cb2c66",
       "version_major": 2,
       "version_minor": 0
      },
      "text/plain": [
       "  0%|          | 0/3 [00:00<?, ?it/s]"
      ]
     },
     "metadata": {},
     "output_type": "display_data"
    },
    {
     "name": "stdout",
     "output_type": "stream",
     "text": [
      "torch.Size([40, 11, 6])\n",
      "torch.Size([40, 4, 6])\n",
      "torch.Size([11, 4, 6])\n",
      "190\n",
      "train_loss -0.5874801874160767\n",
      "val_loss 60.544785\n"
     ]
    },
    {
     "data": {
      "application/vnd.jupyter.widget-view+json": {
       "model_id": "a0795f1472b14498baf25cb8be134bcc",
       "version_major": 2,
       "version_minor": 0
      },
      "text/plain": [
       "  0%|          | 0/3 [00:00<?, ?it/s]"
      ]
     },
     "metadata": {},
     "output_type": "display_data"
    },
    {
     "name": "stdout",
     "output_type": "stream",
     "text": [
      "torch.Size([40, 13, 6])\n",
      "torch.Size([40, 8, 6])\n",
      "torch.Size([11, 8, 6])\n",
      "191\n",
      "train_loss -0.3876963220536709\n",
      "val_loss 60.561516\n"
     ]
    },
    {
     "data": {
      "application/vnd.jupyter.widget-view+json": {
       "model_id": "a08012f683be4eddb3d32a9f445c1e46",
       "version_major": 2,
       "version_minor": 0
      },
      "text/plain": [
       "  0%|          | 0/3 [00:00<?, ?it/s]"
      ]
     },
     "metadata": {},
     "output_type": "display_data"
    },
    {
     "name": "stdout",
     "output_type": "stream",
     "text": [
      "torch.Size([40, 8, 6])\n",
      "torch.Size([40, 6, 6])\n",
      "torch.Size([11, 6, 6])\n",
      "192\n",
      "train_loss -0.5177183747291565\n",
      "val_loss 60.31074\n"
     ]
    },
    {
     "data": {
      "application/vnd.jupyter.widget-view+json": {
       "model_id": "f82e511ffe924d18bc59a3fc7bbdd175",
       "version_major": 2,
       "version_minor": 0
      },
      "text/plain": [
       "  0%|          | 0/3 [00:00<?, ?it/s]"
      ]
     },
     "metadata": {},
     "output_type": "display_data"
    },
    {
     "name": "stdout",
     "output_type": "stream",
     "text": [
      "torch.Size([40, 4, 6])\n",
      "torch.Size([40, 7, 6])\n",
      "torch.Size([11, 7, 6])\n",
      "193\n",
      "train_loss -0.364036185046037\n",
      "val_loss 60.458782\n"
     ]
    },
    {
     "data": {
      "application/vnd.jupyter.widget-view+json": {
       "model_id": "25b58ec3daa44301b8b0bad8589be59b",
       "version_major": 2,
       "version_minor": 0
      },
      "text/plain": [
       "  0%|          | 0/3 [00:00<?, ?it/s]"
      ]
     },
     "metadata": {},
     "output_type": "display_data"
    },
    {
     "name": "stdout",
     "output_type": "stream",
     "text": [
      "torch.Size([40, 4, 6])\n",
      "torch.Size([40, 8, 6])\n",
      "torch.Size([11, 14, 6])\n",
      "194\n",
      "train_loss -0.5237443447113037\n",
      "val_loss 59.84536\n"
     ]
    },
    {
     "data": {
      "application/vnd.jupyter.widget-view+json": {
       "model_id": "cde17b43863e4afaadc3cfae24630f0a",
       "version_major": 2,
       "version_minor": 0
      },
      "text/plain": [
       "  0%|          | 0/3 [00:00<?, ?it/s]"
      ]
     },
     "metadata": {},
     "output_type": "display_data"
    },
    {
     "name": "stdout",
     "output_type": "stream",
     "text": [
      "torch.Size([40, 14, 6])\n",
      "torch.Size([40, 6, 6])\n",
      "torch.Size([11, 6, 6])\n",
      "195\n",
      "train_loss -0.5529233813285828\n",
      "val_loss 59.970432\n"
     ]
    },
    {
     "data": {
      "application/vnd.jupyter.widget-view+json": {
       "model_id": "b27d4a78847e405d9abc029217b8e091",
       "version_major": 2,
       "version_minor": 0
      },
      "text/plain": [
       "  0%|          | 0/3 [00:00<?, ?it/s]"
      ]
     },
     "metadata": {},
     "output_type": "display_data"
    },
    {
     "name": "stdout",
     "output_type": "stream",
     "text": [
      "torch.Size([40, 13, 6])\n",
      "torch.Size([40, 7, 6])\n",
      "torch.Size([11, 7, 6])\n",
      "196\n",
      "train_loss -0.26836325724919635\n",
      "val_loss 60.08553\n"
     ]
    },
    {
     "data": {
      "application/vnd.jupyter.widget-view+json": {
       "model_id": "31e7640ef96447808d9e4a5bb9f90d7f",
       "version_major": 2,
       "version_minor": 0
      },
      "text/plain": [
       "  0%|          | 0/3 [00:00<?, ?it/s]"
      ]
     },
     "metadata": {},
     "output_type": "display_data"
    },
    {
     "name": "stdout",
     "output_type": "stream",
     "text": [
      "torch.Size([40, 10, 6])\n",
      "torch.Size([40, 6, 6])\n",
      "torch.Size([11, 13, 6])\n",
      "197\n",
      "train_loss -0.31284667054812115\n",
      "val_loss 59.152607\n"
     ]
    },
    {
     "data": {
      "application/vnd.jupyter.widget-view+json": {
       "model_id": "a7f49e4168f948bf92219f5aa63822b1",
       "version_major": 2,
       "version_minor": 0
      },
      "text/plain": [
       "  0%|          | 0/3 [00:00<?, ?it/s]"
      ]
     },
     "metadata": {},
     "output_type": "display_data"
    },
    {
     "name": "stdout",
     "output_type": "stream",
     "text": [
      "torch.Size([40, 9, 6])\n",
      "torch.Size([40, 11, 6])\n",
      "torch.Size([11, 12, 6])\n",
      "198\n",
      "train_loss -0.5090044538180033\n",
      "val_loss 59.33987\n"
     ]
    },
    {
     "data": {
      "application/vnd.jupyter.widget-view+json": {
       "model_id": "0bf3805f6c2549659d2b7fb6c1e3053d",
       "version_major": 2,
       "version_minor": 0
      },
      "text/plain": [
       "  0%|          | 0/3 [00:00<?, ?it/s]"
      ]
     },
     "metadata": {},
     "output_type": "display_data"
    },
    {
     "name": "stdout",
     "output_type": "stream",
     "text": [
      "torch.Size([40, 5, 6])\n",
      "torch.Size([40, 6, 6])\n",
      "torch.Size([11, 11, 6])\n",
      "199\n",
      "train_loss -0.4685522715250651\n",
      "val_loss 59.892235\n"
     ]
    },
    {
     "data": {
      "application/vnd.jupyter.widget-view+json": {
       "model_id": "c5692063eb174b24867b81f7716ccc1c",
       "version_major": 2,
       "version_minor": 0
      },
      "text/plain": [
       "  0%|          | 0/3 [00:00<?, ?it/s]"
      ]
     },
     "metadata": {},
     "output_type": "display_data"
    },
    {
     "name": "stdout",
     "output_type": "stream",
     "text": [
      "torch.Size([40, 7, 6])\n",
      "torch.Size([40, 7, 6])\n",
      "torch.Size([11, 14, 6])\n",
      "200\n",
      "train_loss -0.25229647755622864\n",
      "val_loss 58.949177\n"
     ]
    },
    {
     "data": {
      "application/vnd.jupyter.widget-view+json": {
       "model_id": "4e4094ce77754396824757c9dff60cb6",
       "version_major": 2,
       "version_minor": 0
      },
      "text/plain": [
       "  0%|          | 0/3 [00:00<?, ?it/s]"
      ]
     },
     "metadata": {},
     "output_type": "display_data"
    },
    {
     "name": "stdout",
     "output_type": "stream",
     "text": [
      "torch.Size([40, 11, 6])\n",
      "torch.Size([40, 10, 6])\n",
      "torch.Size([11, 12, 6])\n",
      "201\n",
      "train_loss -0.38555861421627924\n",
      "val_loss 59.558388\n"
     ]
    },
    {
     "data": {
      "application/vnd.jupyter.widget-view+json": {
       "model_id": "af1b31eab49644878122f2965218b20c",
       "version_major": 2,
       "version_minor": 0
      },
      "text/plain": [
       "  0%|          | 0/3 [00:00<?, ?it/s]"
      ]
     },
     "metadata": {},
     "output_type": "display_data"
    },
    {
     "name": "stdout",
     "output_type": "stream",
     "text": [
      "torch.Size([40, 11, 6])\n",
      "torch.Size([40, 6, 6])\n",
      "torch.Size([11, 10, 6])\n",
      "202\n",
      "train_loss -0.48058853546778363\n",
      "val_loss 60.217754\n"
     ]
    },
    {
     "data": {
      "application/vnd.jupyter.widget-view+json": {
       "model_id": "6617c3396e164e0881ca5936683b1a2e",
       "version_major": 2,
       "version_minor": 0
      },
      "text/plain": [
       "  0%|          | 0/3 [00:00<?, ?it/s]"
      ]
     },
     "metadata": {},
     "output_type": "display_data"
    },
    {
     "name": "stdout",
     "output_type": "stream",
     "text": [
      "torch.Size([40, 10, 6])\n",
      "torch.Size([40, 5, 6])\n",
      "torch.Size([11, 13, 6])\n",
      "203\n",
      "train_loss -0.5340438087781271\n",
      "val_loss 60.98207\n"
     ]
    },
    {
     "data": {
      "application/vnd.jupyter.widget-view+json": {
       "model_id": "fb59ed202f014300afbbde303b68cbe7",
       "version_major": 2,
       "version_minor": 0
      },
      "text/plain": [
       "  0%|          | 0/3 [00:00<?, ?it/s]"
      ]
     },
     "metadata": {},
     "output_type": "display_data"
    },
    {
     "name": "stdout",
     "output_type": "stream",
     "text": [
      "torch.Size([40, 4, 6])\n",
      "torch.Size([40, 12, 6])\n",
      "torch.Size([11, 14, 6])\n",
      "204\n",
      "train_loss -0.5038746297359467\n",
      "val_loss 60.83865\n"
     ]
    },
    {
     "data": {
      "application/vnd.jupyter.widget-view+json": {
       "model_id": "3b8f146178aa47d59e2b8ff34d20855f",
       "version_major": 2,
       "version_minor": 0
      },
      "text/plain": [
       "  0%|          | 0/3 [00:00<?, ?it/s]"
      ]
     },
     "metadata": {},
     "output_type": "display_data"
    },
    {
     "name": "stdout",
     "output_type": "stream",
     "text": [
      "torch.Size([40, 7, 6])\n",
      "torch.Size([40, 10, 6])\n",
      "torch.Size([11, 10, 6])\n",
      "205\n",
      "train_loss -0.20427157481511435\n",
      "val_loss 60.92954\n"
     ]
    },
    {
     "data": {
      "application/vnd.jupyter.widget-view+json": {
       "model_id": "f51a6f6208a546cc8f916be2eccf7e66",
       "version_major": 2,
       "version_minor": 0
      },
      "text/plain": [
       "  0%|          | 0/3 [00:00<?, ?it/s]"
      ]
     },
     "metadata": {},
     "output_type": "display_data"
    },
    {
     "name": "stdout",
     "output_type": "stream",
     "text": [
      "torch.Size([40, 5, 6])\n",
      "torch.Size([40, 13, 6])\n",
      "torch.Size([11, 14, 6])\n",
      "206\n",
      "train_loss 0.10574808716773987\n",
      "val_loss 59.5341\n"
     ]
    },
    {
     "data": {
      "application/vnd.jupyter.widget-view+json": {
       "model_id": "5ea5d21c70c241bca31feef0b0993bec",
       "version_major": 2,
       "version_minor": 0
      },
      "text/plain": [
       "  0%|          | 0/3 [00:00<?, ?it/s]"
      ]
     },
     "metadata": {},
     "output_type": "display_data"
    },
    {
     "name": "stdout",
     "output_type": "stream",
     "text": [
      "torch.Size([40, 7, 6])\n",
      "torch.Size([40, 11, 6])\n",
      "torch.Size([11, 10, 6])\n",
      "207\n",
      "train_loss -0.402951717376709\n",
      "val_loss 59.220734\n"
     ]
    },
    {
     "data": {
      "application/vnd.jupyter.widget-view+json": {
       "model_id": "fa3b5a65a20549768185bf911e0ac4fd",
       "version_major": 2,
       "version_minor": 0
      },
      "text/plain": [
       "  0%|          | 0/3 [00:00<?, ?it/s]"
      ]
     },
     "metadata": {},
     "output_type": "display_data"
    },
    {
     "name": "stdout",
     "output_type": "stream",
     "text": [
      "torch.Size([40, 9, 6])\n",
      "torch.Size([40, 7, 6])\n",
      "torch.Size([11, 8, 6])\n",
      "208\n",
      "train_loss -0.15382382490982613\n",
      "val_loss 58.930218\n"
     ]
    },
    {
     "data": {
      "application/vnd.jupyter.widget-view+json": {
       "model_id": "6daba6e995a74b0cb77804f70e68fe85",
       "version_major": 2,
       "version_minor": 0
      },
      "text/plain": [
       "  0%|          | 0/3 [00:00<?, ?it/s]"
      ]
     },
     "metadata": {},
     "output_type": "display_data"
    },
    {
     "name": "stdout",
     "output_type": "stream",
     "text": [
      "torch.Size([40, 5, 6])\n",
      "torch.Size([40, 14, 6])\n",
      "torch.Size([11, 13, 6])\n",
      "209\n",
      "train_loss 0.9988972345987955\n",
      "val_loss 58.193027\n"
     ]
    },
    {
     "data": {
      "application/vnd.jupyter.widget-view+json": {
       "model_id": "64cd4e955427471b8c06343d7a1117ef",
       "version_major": 2,
       "version_minor": 0
      },
      "text/plain": [
       "  0%|          | 0/3 [00:00<?, ?it/s]"
      ]
     },
     "metadata": {},
     "output_type": "display_data"
    },
    {
     "name": "stdout",
     "output_type": "stream",
     "text": [
      "torch.Size([40, 13, 6])\n",
      "torch.Size([40, 7, 6])\n",
      "torch.Size([11, 8, 6])\n",
      "210\n",
      "train_loss -0.3500709335009257\n",
      "val_loss 59.914124\n"
     ]
    },
    {
     "data": {
      "application/vnd.jupyter.widget-view+json": {
       "model_id": "1882a3c9fbad49c18105a743e353026c",
       "version_major": 2,
       "version_minor": 0
      },
      "text/plain": [
       "  0%|          | 0/3 [00:00<?, ?it/s]"
      ]
     },
     "metadata": {},
     "output_type": "display_data"
    },
    {
     "name": "stdout",
     "output_type": "stream",
     "text": [
      "torch.Size([40, 4, 6])\n",
      "torch.Size([40, 10, 6])\n",
      "torch.Size([11, 11, 6])\n",
      "211\n",
      "train_loss -0.21942787741621336\n",
      "val_loss 60.500412\n"
     ]
    },
    {
     "data": {
      "application/vnd.jupyter.widget-view+json": {
       "model_id": "cb78d3b80c3f46febebd7a1665a88aff",
       "version_major": 2,
       "version_minor": 0
      },
      "text/plain": [
       "  0%|          | 0/3 [00:00<?, ?it/s]"
      ]
     },
     "metadata": {},
     "output_type": "display_data"
    },
    {
     "name": "stdout",
     "output_type": "stream",
     "text": [
      "torch.Size([40, 8, 6])\n",
      "torch.Size([40, 12, 6])\n",
      "torch.Size([11, 5, 6])\n",
      "212\n",
      "train_loss -0.3885996838410695\n",
      "val_loss 60.284325\n"
     ]
    },
    {
     "data": {
      "application/vnd.jupyter.widget-view+json": {
       "model_id": "3e759241f581470eb03b028341422592",
       "version_major": 2,
       "version_minor": 0
      },
      "text/plain": [
       "  0%|          | 0/3 [00:00<?, ?it/s]"
      ]
     },
     "metadata": {},
     "output_type": "display_data"
    },
    {
     "name": "stdout",
     "output_type": "stream",
     "text": [
      "torch.Size([40, 5, 6])\n",
      "torch.Size([40, 12, 6])\n",
      "torch.Size([11, 8, 6])\n",
      "213\n",
      "train_loss -0.3738732437292735\n",
      "val_loss 59.320442\n"
     ]
    },
    {
     "data": {
      "application/vnd.jupyter.widget-view+json": {
       "model_id": "ea9c8a5acb984f39af65b5e10d87d60b",
       "version_major": 2,
       "version_minor": 0
      },
      "text/plain": [
       "  0%|          | 0/3 [00:00<?, ?it/s]"
      ]
     },
     "metadata": {},
     "output_type": "display_data"
    },
    {
     "name": "stdout",
     "output_type": "stream",
     "text": [
      "torch.Size([40, 10, 6])\n",
      "torch.Size([40, 14, 6])\n",
      "torch.Size([11, 6, 6])\n",
      "214\n",
      "train_loss -0.43546100457509357\n",
      "val_loss 58.195282\n"
     ]
    },
    {
     "data": {
      "application/vnd.jupyter.widget-view+json": {
       "model_id": "75ba684cbc6a4a2890638d9e39f13804",
       "version_major": 2,
       "version_minor": 0
      },
      "text/plain": [
       "  0%|          | 0/3 [00:00<?, ?it/s]"
      ]
     },
     "metadata": {},
     "output_type": "display_data"
    },
    {
     "name": "stdout",
     "output_type": "stream",
     "text": [
      "torch.Size([40, 5, 6])\n",
      "torch.Size([40, 11, 6])\n",
      "torch.Size([11, 10, 6])\n",
      "215\n",
      "train_loss -0.20112693309783936\n",
      "val_loss 57.69992\n"
     ]
    },
    {
     "data": {
      "application/vnd.jupyter.widget-view+json": {
       "model_id": "99b3863dc22c4b80b0a59ade1be057a3",
       "version_major": 2,
       "version_minor": 0
      },
      "text/plain": [
       "  0%|          | 0/3 [00:00<?, ?it/s]"
      ]
     },
     "metadata": {},
     "output_type": "display_data"
    },
    {
     "name": "stdout",
     "output_type": "stream",
     "text": [
      "torch.Size([40, 12, 6])\n",
      "torch.Size([40, 11, 6])\n",
      "torch.Size([11, 14, 6])\n",
      "216\n",
      "train_loss -0.4129982491334279\n",
      "val_loss 58.110344\n"
     ]
    },
    {
     "data": {
      "application/vnd.jupyter.widget-view+json": {
       "model_id": "d50ddb2180274f18b1c30f35ddf4a91d",
       "version_major": 2,
       "version_minor": 0
      },
      "text/plain": [
       "  0%|          | 0/3 [00:00<?, ?it/s]"
      ]
     },
     "metadata": {},
     "output_type": "display_data"
    },
    {
     "name": "stdout",
     "output_type": "stream",
     "text": [
      "torch.Size([40, 6, 6])\n",
      "torch.Size([40, 6, 6])\n",
      "torch.Size([11, 8, 6])\n",
      "217\n",
      "train_loss -0.4291462202866872\n",
      "val_loss 58.433956\n"
     ]
    },
    {
     "data": {
      "application/vnd.jupyter.widget-view+json": {
       "model_id": "bba976274345448d916379b952b8c277",
       "version_major": 2,
       "version_minor": 0
      },
      "text/plain": [
       "  0%|          | 0/3 [00:00<?, ?it/s]"
      ]
     },
     "metadata": {},
     "output_type": "display_data"
    },
    {
     "name": "stdout",
     "output_type": "stream",
     "text": [
      "torch.Size([40, 4, 6])\n",
      "torch.Size([40, 10, 6])\n",
      "torch.Size([11, 14, 6])\n",
      "218\n",
      "train_loss -0.3645477518439293\n",
      "val_loss 58.859802\n"
     ]
    },
    {
     "data": {
      "application/vnd.jupyter.widget-view+json": {
       "model_id": "7780f2f774e2488e8e027674376c3a54",
       "version_major": 2,
       "version_minor": 0
      },
      "text/plain": [
       "  0%|          | 0/3 [00:00<?, ?it/s]"
      ]
     },
     "metadata": {},
     "output_type": "display_data"
    },
    {
     "name": "stdout",
     "output_type": "stream",
     "text": [
      "torch.Size([40, 6, 6])\n",
      "torch.Size([40, 14, 6])\n",
      "torch.Size([11, 14, 6])\n",
      "219\n",
      "train_loss -0.497233251730601\n",
      "val_loss 59.15169\n"
     ]
    },
    {
     "data": {
      "application/vnd.jupyter.widget-view+json": {
       "model_id": "7a743e39250040989f99cce85e5e5b88",
       "version_major": 2,
       "version_minor": 0
      },
      "text/plain": [
       "  0%|          | 0/3 [00:00<?, ?it/s]"
      ]
     },
     "metadata": {},
     "output_type": "display_data"
    },
    {
     "name": "stdout",
     "output_type": "stream",
     "text": [
      "torch.Size([40, 5, 6])\n",
      "torch.Size([40, 14, 6])\n",
      "torch.Size([11, 4, 6])\n",
      "220\n",
      "train_loss -0.5225342909495035\n",
      "val_loss 59.356533\n"
     ]
    },
    {
     "data": {
      "application/vnd.jupyter.widget-view+json": {
       "model_id": "d628f7374a924ae1969cc098c0fe1078",
       "version_major": 2,
       "version_minor": 0
      },
      "text/plain": [
       "  0%|          | 0/3 [00:00<?, ?it/s]"
      ]
     },
     "metadata": {},
     "output_type": "display_data"
    },
    {
     "name": "stdout",
     "output_type": "stream",
     "text": [
      "torch.Size([40, 10, 6])\n",
      "torch.Size([40, 11, 6])\n",
      "torch.Size([11, 5, 6])\n",
      "221\n",
      "train_loss -0.47072025140126544\n",
      "val_loss 59.64911\n"
     ]
    },
    {
     "data": {
      "application/vnd.jupyter.widget-view+json": {
       "model_id": "12d9a66b7e094a299b973de272405853",
       "version_major": 2,
       "version_minor": 0
      },
      "text/plain": [
       "  0%|          | 0/3 [00:00<?, ?it/s]"
      ]
     },
     "metadata": {},
     "output_type": "display_data"
    },
    {
     "name": "stdout",
     "output_type": "stream",
     "text": [
      "torch.Size([40, 5, 6])\n",
      "torch.Size([40, 11, 6])\n",
      "torch.Size([11, 13, 6])\n",
      "222\n",
      "train_loss -0.4004361381133397\n",
      "val_loss 59.81871\n"
     ]
    },
    {
     "data": {
      "application/vnd.jupyter.widget-view+json": {
       "model_id": "940bd7e50673464b91165cce0c2345ed",
       "version_major": 2,
       "version_minor": 0
      },
      "text/plain": [
       "  0%|          | 0/3 [00:00<?, ?it/s]"
      ]
     },
     "metadata": {},
     "output_type": "display_data"
    },
    {
     "name": "stdout",
     "output_type": "stream",
     "text": [
      "torch.Size([40, 11, 6])\n",
      "torch.Size([40, 9, 6])\n",
      "torch.Size([11, 5, 6])\n",
      "223\n",
      "train_loss -0.6200959881146749\n",
      "val_loss 59.714054\n"
     ]
    },
    {
     "data": {
      "application/vnd.jupyter.widget-view+json": {
       "model_id": "e5e789b453a64784879cb2e75ba11044",
       "version_major": 2,
       "version_minor": 0
      },
      "text/plain": [
       "  0%|          | 0/3 [00:00<?, ?it/s]"
      ]
     },
     "metadata": {},
     "output_type": "display_data"
    },
    {
     "name": "stdout",
     "output_type": "stream",
     "text": [
      "torch.Size([40, 8, 6])\n",
      "torch.Size([40, 13, 6])\n",
      "torch.Size([11, 13, 6])\n",
      "224\n",
      "train_loss -0.50957057873408\n",
      "val_loss 59.61723\n"
     ]
    },
    {
     "data": {
      "application/vnd.jupyter.widget-view+json": {
       "model_id": "9c67944e160b455685b3f6ff57a35942",
       "version_major": 2,
       "version_minor": 0
      },
      "text/plain": [
       "  0%|          | 0/3 [00:00<?, ?it/s]"
      ]
     },
     "metadata": {},
     "output_type": "display_data"
    },
    {
     "name": "stdout",
     "output_type": "stream",
     "text": [
      "torch.Size([40, 8, 6])\n",
      "torch.Size([40, 4, 6])\n",
      "torch.Size([11, 10, 6])\n",
      "225\n",
      "train_loss -0.3422529498736064\n",
      "val_loss 59.462635\n"
     ]
    },
    {
     "data": {
      "application/vnd.jupyter.widget-view+json": {
       "model_id": "9ad363221cd44c6c89127a7c2caa82f2",
       "version_major": 2,
       "version_minor": 0
      },
      "text/plain": [
       "  0%|          | 0/3 [00:00<?, ?it/s]"
      ]
     },
     "metadata": {},
     "output_type": "display_data"
    },
    {
     "name": "stdout",
     "output_type": "stream",
     "text": [
      "torch.Size([40, 8, 6])\n",
      "torch.Size([40, 4, 6])\n",
      "torch.Size([11, 4, 6])\n",
      "226\n",
      "train_loss 0.1052822470664978\n",
      "val_loss 59.678684\n"
     ]
    },
    {
     "data": {
      "application/vnd.jupyter.widget-view+json": {
       "model_id": "cc090294a7fa4664b6785218c3742bc9",
       "version_major": 2,
       "version_minor": 0
      },
      "text/plain": [
       "  0%|          | 0/3 [00:00<?, ?it/s]"
      ]
     },
     "metadata": {},
     "output_type": "display_data"
    },
    {
     "name": "stdout",
     "output_type": "stream",
     "text": [
      "torch.Size([40, 14, 6])\n",
      "torch.Size([40, 13, 6])\n",
      "torch.Size([11, 14, 6])\n",
      "227\n",
      "train_loss -0.5260620514551798\n",
      "val_loss 60.10464\n"
     ]
    },
    {
     "data": {
      "application/vnd.jupyter.widget-view+json": {
       "model_id": "3a8bb7c5de5c42f4a7b49124f664e892",
       "version_major": 2,
       "version_minor": 0
      },
      "text/plain": [
       "  0%|          | 0/3 [00:00<?, ?it/s]"
      ]
     },
     "metadata": {},
     "output_type": "display_data"
    },
    {
     "name": "stdout",
     "output_type": "stream",
     "text": [
      "torch.Size([40, 6, 6])\n",
      "torch.Size([40, 14, 6])\n",
      "torch.Size([11, 9, 6])\n",
      "228\n",
      "train_loss -0.15011571844418845\n",
      "val_loss 59.532734\n"
     ]
    },
    {
     "data": {
      "application/vnd.jupyter.widget-view+json": {
       "model_id": "f7f471454f274a6a8b60d327a94d488c",
       "version_major": 2,
       "version_minor": 0
      },
      "text/plain": [
       "  0%|          | 0/3 [00:00<?, ?it/s]"
      ]
     },
     "metadata": {},
     "output_type": "display_data"
    },
    {
     "name": "stdout",
     "output_type": "stream",
     "text": [
      "torch.Size([40, 11, 6])\n",
      "torch.Size([40, 8, 6])\n",
      "torch.Size([11, 10, 6])\n",
      "229\n",
      "train_loss -0.35062118743856746\n",
      "val_loss 59.736828\n"
     ]
    },
    {
     "data": {
      "application/vnd.jupyter.widget-view+json": {
       "model_id": "562043b6880b4fb9ad2974bc72432119",
       "version_major": 2,
       "version_minor": 0
      },
      "text/plain": [
       "  0%|          | 0/3 [00:00<?, ?it/s]"
      ]
     },
     "metadata": {},
     "output_type": "display_data"
    },
    {
     "name": "stdout",
     "output_type": "stream",
     "text": [
      "torch.Size([40, 11, 6])\n",
      "torch.Size([40, 14, 6])\n",
      "torch.Size([11, 9, 6])\n",
      "230\n",
      "train_loss -0.3949293630818526\n",
      "val_loss 60.36627\n"
     ]
    },
    {
     "data": {
      "application/vnd.jupyter.widget-view+json": {
       "model_id": "843fd482b0f44f3ea2af36ef536b8f7b",
       "version_major": 2,
       "version_minor": 0
      },
      "text/plain": [
       "  0%|          | 0/3 [00:00<?, ?it/s]"
      ]
     },
     "metadata": {},
     "output_type": "display_data"
    },
    {
     "name": "stdout",
     "output_type": "stream",
     "text": [
      "torch.Size([40, 7, 6])\n",
      "torch.Size([40, 10, 6])\n",
      "torch.Size([11, 14, 6])\n",
      "231\n",
      "train_loss -0.3153329511017849\n",
      "val_loss 60.23089\n"
     ]
    },
    {
     "data": {
      "application/vnd.jupyter.widget-view+json": {
       "model_id": "c957d2af23a046aaa6581bb84acdb518",
       "version_major": 2,
       "version_minor": 0
      },
      "text/plain": [
       "  0%|          | 0/3 [00:00<?, ?it/s]"
      ]
     },
     "metadata": {},
     "output_type": "display_data"
    },
    {
     "name": "stdout",
     "output_type": "stream",
     "text": [
      "torch.Size([40, 10, 6])\n",
      "torch.Size([40, 9, 6])\n",
      "torch.Size([11, 4, 6])\n",
      "232\n",
      "train_loss -0.5132833023866018\n",
      "val_loss 59.772823\n"
     ]
    },
    {
     "data": {
      "application/vnd.jupyter.widget-view+json": {
       "model_id": "9fecaff7a5344cd59d20d6f545a63525",
       "version_major": 2,
       "version_minor": 0
      },
      "text/plain": [
       "  0%|          | 0/3 [00:00<?, ?it/s]"
      ]
     },
     "metadata": {},
     "output_type": "display_data"
    },
    {
     "name": "stdout",
     "output_type": "stream",
     "text": [
      "torch.Size([40, 12, 6])\n",
      "torch.Size([40, 11, 6])\n",
      "torch.Size([11, 11, 6])\n",
      "233\n",
      "train_loss -0.2728113457560539\n",
      "val_loss 60.23547\n"
     ]
    },
    {
     "data": {
      "application/vnd.jupyter.widget-view+json": {
       "model_id": "c3696281cdf746a6af6f36dd8f1c256b",
       "version_major": 2,
       "version_minor": 0
      },
      "text/plain": [
       "  0%|          | 0/3 [00:00<?, ?it/s]"
      ]
     },
     "metadata": {},
     "output_type": "display_data"
    },
    {
     "name": "stdout",
     "output_type": "stream",
     "text": [
      "torch.Size([40, 6, 6])\n",
      "torch.Size([40, 13, 6])\n",
      "torch.Size([11, 4, 6])\n",
      "234\n",
      "train_loss -0.36080028861761093\n",
      "val_loss 60.302464\n"
     ]
    },
    {
     "data": {
      "application/vnd.jupyter.widget-view+json": {
       "model_id": "3e4dd322c4184c068cad9aa4272c191d",
       "version_major": 2,
       "version_minor": 0
      },
      "text/plain": [
       "  0%|          | 0/3 [00:00<?, ?it/s]"
      ]
     },
     "metadata": {},
     "output_type": "display_data"
    },
    {
     "name": "stdout",
     "output_type": "stream",
     "text": [
      "torch.Size([40, 12, 6])\n",
      "torch.Size([40, 13, 6])\n",
      "torch.Size([11, 4, 6])\n",
      "235\n",
      "train_loss -0.24482056498527527\n",
      "val_loss 60.49166\n"
     ]
    },
    {
     "data": {
      "application/vnd.jupyter.widget-view+json": {
       "model_id": "7097eb701dcb406d9fee30dfd86800c3",
       "version_major": 2,
       "version_minor": 0
      },
      "text/plain": [
       "  0%|          | 0/3 [00:00<?, ?it/s]"
      ]
     },
     "metadata": {},
     "output_type": "display_data"
    },
    {
     "name": "stdout",
     "output_type": "stream",
     "text": [
      "torch.Size([40, 10, 6])\n",
      "torch.Size([40, 4, 6])\n",
      "torch.Size([11, 8, 6])\n",
      "236\n",
      "train_loss 0.270605926712354\n",
      "val_loss 60.240635\n"
     ]
    },
    {
     "data": {
      "application/vnd.jupyter.widget-view+json": {
       "model_id": "bf857c44ba0949719fd4cd997a732152",
       "version_major": 2,
       "version_minor": 0
      },
      "text/plain": [
       "  0%|          | 0/3 [00:00<?, ?it/s]"
      ]
     },
     "metadata": {},
     "output_type": "display_data"
    },
    {
     "name": "stdout",
     "output_type": "stream",
     "text": [
      "torch.Size([40, 6, 6])\n",
      "torch.Size([40, 4, 6])\n",
      "torch.Size([11, 4, 6])\n",
      "237\n",
      "train_loss -0.1828088661034902\n",
      "val_loss 61.453938\n"
     ]
    },
    {
     "data": {
      "application/vnd.jupyter.widget-view+json": {
       "model_id": "2e07cb04ac15478c907fad9c0c8227ae",
       "version_major": 2,
       "version_minor": 0
      },
      "text/plain": [
       "  0%|          | 0/3 [00:00<?, ?it/s]"
      ]
     },
     "metadata": {},
     "output_type": "display_data"
    },
    {
     "name": "stdout",
     "output_type": "stream",
     "text": [
      "torch.Size([40, 14, 6])\n",
      "torch.Size([40, 9, 6])\n",
      "torch.Size([11, 11, 6])\n",
      "238\n",
      "train_loss -0.06223258376121521\n",
      "val_loss 60.374767\n"
     ]
    },
    {
     "data": {
      "application/vnd.jupyter.widget-view+json": {
       "model_id": "e9a93249bc8946c5bddb4e04a3d21ed4",
       "version_major": 2,
       "version_minor": 0
      },
      "text/plain": [
       "  0%|          | 0/3 [00:00<?, ?it/s]"
      ]
     },
     "metadata": {},
     "output_type": "display_data"
    },
    {
     "name": "stdout",
     "output_type": "stream",
     "text": [
      "torch.Size([40, 6, 6])\n",
      "torch.Size([40, 10, 6])\n",
      "torch.Size([11, 13, 6])\n",
      "239\n",
      "train_loss -0.29379261533419293\n",
      "val_loss 59.250294\n"
     ]
    },
    {
     "data": {
      "application/vnd.jupyter.widget-view+json": {
       "model_id": "46f7e8f274d64e7fb35fbb6fc653788f",
       "version_major": 2,
       "version_minor": 0
      },
      "text/plain": [
       "  0%|          | 0/3 [00:00<?, ?it/s]"
      ]
     },
     "metadata": {},
     "output_type": "display_data"
    },
    {
     "name": "stdout",
     "output_type": "stream",
     "text": [
      "torch.Size([40, 11, 6])\n",
      "torch.Size([40, 8, 6])\n",
      "torch.Size([11, 4, 6])\n",
      "240\n",
      "train_loss -0.34965817630290985\n",
      "val_loss 58.916424\n"
     ]
    },
    {
     "data": {
      "application/vnd.jupyter.widget-view+json": {
       "model_id": "ba08e007431843fe9e70763c10539a17",
       "version_major": 2,
       "version_minor": 0
      },
      "text/plain": [
       "  0%|          | 0/3 [00:00<?, ?it/s]"
      ]
     },
     "metadata": {},
     "output_type": "display_data"
    },
    {
     "name": "stdout",
     "output_type": "stream",
     "text": [
      "torch.Size([40, 7, 6])\n",
      "torch.Size([40, 13, 6])\n",
      "torch.Size([11, 6, 6])\n",
      "241\n",
      "train_loss -0.36883380512396496\n",
      "val_loss 58.367336\n"
     ]
    },
    {
     "data": {
      "application/vnd.jupyter.widget-view+json": {
       "model_id": "ae09061c0e8a4650ae1c886cd353869b",
       "version_major": 2,
       "version_minor": 0
      },
      "text/plain": [
       "  0%|          | 0/3 [00:00<?, ?it/s]"
      ]
     },
     "metadata": {},
     "output_type": "display_data"
    },
    {
     "name": "stdout",
     "output_type": "stream",
     "text": [
      "torch.Size([40, 14, 6])\n",
      "torch.Size([40, 6, 6])\n",
      "torch.Size([11, 4, 6])\n",
      "242\n",
      "train_loss -0.235171248515447\n",
      "val_loss 58.36285\n"
     ]
    },
    {
     "data": {
      "application/vnd.jupyter.widget-view+json": {
       "model_id": "f2baf948487b43958ee621338c0e09ea",
       "version_major": 2,
       "version_minor": 0
      },
      "text/plain": [
       "  0%|          | 0/3 [00:00<?, ?it/s]"
      ]
     },
     "metadata": {},
     "output_type": "display_data"
    },
    {
     "name": "stdout",
     "output_type": "stream",
     "text": [
      "torch.Size([40, 11, 6])\n",
      "torch.Size([40, 4, 6])\n",
      "torch.Size([11, 4, 6])\n",
      "243\n",
      "train_loss -0.4344742993513743\n",
      "val_loss 57.972786\n"
     ]
    },
    {
     "data": {
      "application/vnd.jupyter.widget-view+json": {
       "model_id": "975779986e5f45fcaf9b9b2b97c88360",
       "version_major": 2,
       "version_minor": 0
      },
      "text/plain": [
       "  0%|          | 0/3 [00:00<?, ?it/s]"
      ]
     },
     "metadata": {},
     "output_type": "display_data"
    },
    {
     "name": "stdout",
     "output_type": "stream",
     "text": [
      "torch.Size([40, 10, 6])\n",
      "torch.Size([40, 5, 6])\n",
      "torch.Size([11, 7, 6])\n",
      "244\n",
      "train_loss -0.2363097071647644\n",
      "val_loss 58.4249\n"
     ]
    },
    {
     "data": {
      "application/vnd.jupyter.widget-view+json": {
       "model_id": "58d14fd2be604e4780f92c86c2611406",
       "version_major": 2,
       "version_minor": 0
      },
      "text/plain": [
       "  0%|          | 0/3 [00:00<?, ?it/s]"
      ]
     },
     "metadata": {},
     "output_type": "display_data"
    },
    {
     "name": "stdout",
     "output_type": "stream",
     "text": [
      "torch.Size([40, 4, 6])\n",
      "torch.Size([40, 7, 6])\n",
      "torch.Size([11, 9, 6])\n",
      "245\n",
      "train_loss -0.47837476929028827\n",
      "val_loss 59.25184\n"
     ]
    },
    {
     "data": {
      "application/vnd.jupyter.widget-view+json": {
       "model_id": "478154c60e6d44ffa5956b11a5f2571f",
       "version_major": 2,
       "version_minor": 0
      },
      "text/plain": [
       "  0%|          | 0/3 [00:00<?, ?it/s]"
      ]
     },
     "metadata": {},
     "output_type": "display_data"
    },
    {
     "name": "stdout",
     "output_type": "stream",
     "text": [
      "torch.Size([40, 8, 6])\n",
      "torch.Size([40, 11, 6])\n",
      "torch.Size([11, 10, 6])\n",
      "246\n",
      "train_loss -0.49697428941726685\n",
      "val_loss 59.98959\n"
     ]
    },
    {
     "data": {
      "application/vnd.jupyter.widget-view+json": {
       "model_id": "2b14001d1fca454e9ca0a45be3dd1210",
       "version_major": 2,
       "version_minor": 0
      },
      "text/plain": [
       "  0%|          | 0/3 [00:00<?, ?it/s]"
      ]
     },
     "metadata": {},
     "output_type": "display_data"
    },
    {
     "name": "stdout",
     "output_type": "stream",
     "text": [
      "torch.Size([40, 14, 6])\n",
      "torch.Size([40, 7, 6])\n",
      "torch.Size([11, 12, 6])\n",
      "247\n",
      "train_loss -0.11422439416249593\n",
      "val_loss 60.40964\n"
     ]
    },
    {
     "data": {
      "application/vnd.jupyter.widget-view+json": {
       "model_id": "448671afdfc543b7945f913e58d28295",
       "version_major": 2,
       "version_minor": 0
      },
      "text/plain": [
       "  0%|          | 0/3 [00:00<?, ?it/s]"
      ]
     },
     "metadata": {},
     "output_type": "display_data"
    },
    {
     "name": "stdout",
     "output_type": "stream",
     "text": [
      "torch.Size([40, 12, 6])\n",
      "torch.Size([40, 14, 6])\n",
      "torch.Size([11, 5, 6])\n",
      "248\n",
      "train_loss -0.09099453687667847\n",
      "val_loss 59.58532\n"
     ]
    },
    {
     "data": {
      "application/vnd.jupyter.widget-view+json": {
       "model_id": "d4fc6844d8684d4e854ac9f6f1d6f4e4",
       "version_major": 2,
       "version_minor": 0
      },
      "text/plain": [
       "  0%|          | 0/3 [00:00<?, ?it/s]"
      ]
     },
     "metadata": {},
     "output_type": "display_data"
    },
    {
     "name": "stdout",
     "output_type": "stream",
     "text": [
      "torch.Size([40, 12, 6])\n",
      "torch.Size([40, 8, 6])\n",
      "torch.Size([11, 13, 6])\n",
      "249\n",
      "train_loss -0.390977402528127\n",
      "val_loss 59.23594\n"
     ]
    },
    {
     "data": {
      "application/vnd.jupyter.widget-view+json": {
       "model_id": "49a774c4e7eb45dfb5038c2592f51805",
       "version_major": 2,
       "version_minor": 0
      },
      "text/plain": [
       "  0%|          | 0/3 [00:00<?, ?it/s]"
      ]
     },
     "metadata": {},
     "output_type": "display_data"
    },
    {
     "name": "stdout",
     "output_type": "stream",
     "text": [
      "torch.Size([40, 10, 6])\n",
      "torch.Size([40, 14, 6])\n",
      "torch.Size([11, 14, 6])\n",
      "250\n",
      "train_loss -0.24351091186205545\n",
      "val_loss 59.727497\n"
     ]
    },
    {
     "data": {
      "application/vnd.jupyter.widget-view+json": {
       "model_id": "badb0d79a8c84cde8c39a6416d293d7e",
       "version_major": 2,
       "version_minor": 0
      },
      "text/plain": [
       "  0%|          | 0/3 [00:00<?, ?it/s]"
      ]
     },
     "metadata": {},
     "output_type": "display_data"
    },
    {
     "name": "stdout",
     "output_type": "stream",
     "text": [
      "torch.Size([40, 7, 6])\n",
      "torch.Size([40, 6, 6])\n",
      "torch.Size([11, 7, 6])\n",
      "251\n",
      "train_loss -0.489699383576711\n",
      "val_loss 60.09601\n"
     ]
    },
    {
     "data": {
      "application/vnd.jupyter.widget-view+json": {
       "model_id": "cae1ad56cfa2434797cc68ce9f9585a9",
       "version_major": 2,
       "version_minor": 0
      },
      "text/plain": [
       "  0%|          | 0/3 [00:00<?, ?it/s]"
      ]
     },
     "metadata": {},
     "output_type": "display_data"
    },
    {
     "name": "stdout",
     "output_type": "stream",
     "text": [
      "torch.Size([40, 12, 6])\n",
      "torch.Size([40, 13, 6])\n",
      "torch.Size([11, 9, 6])\n",
      "252\n",
      "train_loss -0.44841758410135907\n",
      "val_loss 60.123928\n"
     ]
    },
    {
     "data": {
      "application/vnd.jupyter.widget-view+json": {
       "model_id": "a621ae196e0549f08e04c3a4ed6c72ac",
       "version_major": 2,
       "version_minor": 0
      },
      "text/plain": [
       "  0%|          | 0/3 [00:00<?, ?it/s]"
      ]
     },
     "metadata": {},
     "output_type": "display_data"
    },
    {
     "name": "stdout",
     "output_type": "stream",
     "text": [
      "torch.Size([40, 13, 6])\n",
      "torch.Size([40, 11, 6])\n",
      "torch.Size([11, 6, 6])\n",
      "253\n",
      "train_loss -0.5082845985889435\n",
      "val_loss 59.82085\n"
     ]
    },
    {
     "data": {
      "application/vnd.jupyter.widget-view+json": {
       "model_id": "73dbe72b65484762af1d794f2884023e",
       "version_major": 2,
       "version_minor": 0
      },
      "text/plain": [
       "  0%|          | 0/3 [00:00<?, ?it/s]"
      ]
     },
     "metadata": {},
     "output_type": "display_data"
    },
    {
     "name": "stdout",
     "output_type": "stream",
     "text": [
      "torch.Size([40, 10, 6])\n",
      "torch.Size([40, 9, 6])\n",
      "torch.Size([11, 4, 6])\n",
      "254\n",
      "train_loss -0.272945503393809\n",
      "val_loss 59.037197\n"
     ]
    },
    {
     "data": {
      "application/vnd.jupyter.widget-view+json": {
       "model_id": "ba4820fdf6d347b38e21a51d00d6e23a",
       "version_major": 2,
       "version_minor": 0
      },
      "text/plain": [
       "  0%|          | 0/3 [00:00<?, ?it/s]"
      ]
     },
     "metadata": {},
     "output_type": "display_data"
    },
    {
     "name": "stdout",
     "output_type": "stream",
     "text": [
      "torch.Size([40, 8, 6])\n",
      "torch.Size([40, 8, 6])\n",
      "torch.Size([11, 13, 6])\n",
      "255\n",
      "train_loss -0.44381913046042126\n",
      "val_loss 58.695526\n"
     ]
    },
    {
     "data": {
      "application/vnd.jupyter.widget-view+json": {
       "model_id": "7d742adc6d164c0ba14bf809ba3751d1",
       "version_major": 2,
       "version_minor": 0
      },
      "text/plain": [
       "  0%|          | 0/3 [00:00<?, ?it/s]"
      ]
     },
     "metadata": {},
     "output_type": "display_data"
    },
    {
     "name": "stdout",
     "output_type": "stream",
     "text": [
      "torch.Size([40, 6, 6])\n",
      "torch.Size([40, 7, 6])\n",
      "torch.Size([11, 9, 6])\n",
      "256\n",
      "train_loss -0.5524380207061768\n",
      "val_loss 59.344025\n"
     ]
    },
    {
     "data": {
      "application/vnd.jupyter.widget-view+json": {
       "model_id": "7ee1dd3945a7476e8e071431f9c7781c",
       "version_major": 2,
       "version_minor": 0
      },
      "text/plain": [
       "  0%|          | 0/3 [00:00<?, ?it/s]"
      ]
     },
     "metadata": {},
     "output_type": "display_data"
    },
    {
     "name": "stdout",
     "output_type": "stream",
     "text": [
      "torch.Size([40, 6, 6])\n",
      "torch.Size([40, 5, 6])\n",
      "torch.Size([11, 6, 6])\n",
      "257\n",
      "train_loss -0.4887159566084544\n",
      "val_loss 59.818165\n"
     ]
    },
    {
     "data": {
      "application/vnd.jupyter.widget-view+json": {
       "model_id": "3d35a57ead0a488ea5ddd41174958d4d",
       "version_major": 2,
       "version_minor": 0
      },
      "text/plain": [
       "  0%|          | 0/3 [00:00<?, ?it/s]"
      ]
     },
     "metadata": {},
     "output_type": "display_data"
    },
    {
     "name": "stdout",
     "output_type": "stream",
     "text": [
      "torch.Size([40, 7, 6])\n",
      "torch.Size([40, 7, 6])\n",
      "torch.Size([11, 9, 6])\n",
      "258\n",
      "train_loss -0.4884319802125295\n",
      "val_loss 59.45879\n"
     ]
    },
    {
     "data": {
      "application/vnd.jupyter.widget-view+json": {
       "model_id": "47175463e12b4d829005edb31ed4058a",
       "version_major": 2,
       "version_minor": 0
      },
      "text/plain": [
       "  0%|          | 0/3 [00:00<?, ?it/s]"
      ]
     },
     "metadata": {},
     "output_type": "display_data"
    },
    {
     "name": "stdout",
     "output_type": "stream",
     "text": [
      "torch.Size([40, 9, 6])\n",
      "torch.Size([40, 5, 6])\n",
      "torch.Size([11, 5, 6])\n",
      "259\n",
      "train_loss -0.3868888095021248\n",
      "val_loss 59.46676\n"
     ]
    },
    {
     "data": {
      "application/vnd.jupyter.widget-view+json": {
       "model_id": "90810da26a5a4ee5bc56720846733f4e",
       "version_major": 2,
       "version_minor": 0
      },
      "text/plain": [
       "  0%|          | 0/3 [00:00<?, ?it/s]"
      ]
     },
     "metadata": {},
     "output_type": "display_data"
    },
    {
     "name": "stdout",
     "output_type": "stream",
     "text": [
      "torch.Size([40, 11, 6])\n",
      "torch.Size([40, 6, 6])\n",
      "torch.Size([11, 13, 6])\n",
      "260\n",
      "train_loss -0.5286030173301697\n",
      "val_loss 59.70198\n"
     ]
    },
    {
     "data": {
      "application/vnd.jupyter.widget-view+json": {
       "model_id": "27a5fd9ed5dc4ff1bc116aac24c94584",
       "version_major": 2,
       "version_minor": 0
      },
      "text/plain": [
       "  0%|          | 0/3 [00:00<?, ?it/s]"
      ]
     },
     "metadata": {},
     "output_type": "display_data"
    },
    {
     "name": "stdout",
     "output_type": "stream",
     "text": [
      "torch.Size([40, 13, 6])\n",
      "torch.Size([40, 4, 6])\n",
      "torch.Size([11, 8, 6])\n",
      "261\n",
      "train_loss -0.619794507821401\n",
      "val_loss 59.627354\n"
     ]
    },
    {
     "data": {
      "application/vnd.jupyter.widget-view+json": {
       "model_id": "0520f94dd7f44c4193e68409e2338832",
       "version_major": 2,
       "version_minor": 0
      },
      "text/plain": [
       "  0%|          | 0/3 [00:00<?, ?it/s]"
      ]
     },
     "metadata": {},
     "output_type": "display_data"
    },
    {
     "name": "stdout",
     "output_type": "stream",
     "text": [
      "torch.Size([40, 5, 6])\n",
      "torch.Size([40, 8, 6])\n",
      "torch.Size([11, 13, 6])\n",
      "262\n",
      "train_loss 0.4096676707267761\n",
      "val_loss 59.273376\n"
     ]
    },
    {
     "data": {
      "application/vnd.jupyter.widget-view+json": {
       "model_id": "b1f38d6694c24b168726e1a3aa86b34f",
       "version_major": 2,
       "version_minor": 0
      },
      "text/plain": [
       "  0%|          | 0/3 [00:00<?, ?it/s]"
      ]
     },
     "metadata": {},
     "output_type": "display_data"
    },
    {
     "name": "stdout",
     "output_type": "stream",
     "text": [
      "torch.Size([40, 4, 6])\n",
      "torch.Size([40, 4, 6])\n",
      "torch.Size([11, 5, 6])\n",
      "263\n",
      "train_loss -0.20126497745513916\n",
      "val_loss 59.388348\n"
     ]
    },
    {
     "data": {
      "application/vnd.jupyter.widget-view+json": {
       "model_id": "1a77344029e049efadd41e59b24d4289",
       "version_major": 2,
       "version_minor": 0
      },
      "text/plain": [
       "  0%|          | 0/3 [00:00<?, ?it/s]"
      ]
     },
     "metadata": {},
     "output_type": "display_data"
    },
    {
     "name": "stdout",
     "output_type": "stream",
     "text": [
      "torch.Size([40, 9, 6])\n",
      "torch.Size([40, 14, 6])\n",
      "torch.Size([11, 8, 6])\n",
      "264\n",
      "train_loss 0.3246429165204366\n",
      "val_loss 60.082382\n"
     ]
    },
    {
     "data": {
      "application/vnd.jupyter.widget-view+json": {
       "model_id": "931930b2437f4c229c53b211e077a2d6",
       "version_major": 2,
       "version_minor": 0
      },
      "text/plain": [
       "  0%|          | 0/3 [00:00<?, ?it/s]"
      ]
     },
     "metadata": {},
     "output_type": "display_data"
    },
    {
     "name": "stdout",
     "output_type": "stream",
     "text": [
      "torch.Size([40, 8, 6])\n",
      "torch.Size([40, 12, 6])\n",
      "torch.Size([11, 8, 6])\n",
      "265\n",
      "train_loss -0.4822901388009389\n",
      "val_loss 61.043896\n"
     ]
    },
    {
     "data": {
      "application/vnd.jupyter.widget-view+json": {
       "model_id": "a638bc0611cf42f8b6d9c7568b41ee33",
       "version_major": 2,
       "version_minor": 0
      },
      "text/plain": [
       "  0%|          | 0/3 [00:00<?, ?it/s]"
      ]
     },
     "metadata": {},
     "output_type": "display_data"
    },
    {
     "name": "stdout",
     "output_type": "stream",
     "text": [
      "torch.Size([40, 4, 6])\n",
      "torch.Size([40, 7, 6])\n",
      "torch.Size([11, 12, 6])\n",
      "266\n",
      "train_loss -0.3553373118241628\n",
      "val_loss 60.376564\n"
     ]
    },
    {
     "data": {
      "application/vnd.jupyter.widget-view+json": {
       "model_id": "83bd7382d3ef4c7b9af1256d92f3d9f3",
       "version_major": 2,
       "version_minor": 0
      },
      "text/plain": [
       "  0%|          | 0/3 [00:00<?, ?it/s]"
      ]
     },
     "metadata": {},
     "output_type": "display_data"
    },
    {
     "name": "stdout",
     "output_type": "stream",
     "text": [
      "torch.Size([40, 12, 6])\n",
      "torch.Size([40, 14, 6])\n",
      "torch.Size([11, 14, 6])\n",
      "267\n",
      "train_loss -0.39658993979295093\n",
      "val_loss 59.897907\n"
     ]
    },
    {
     "data": {
      "application/vnd.jupyter.widget-view+json": {
       "model_id": "bf6521aefae8488bb9c814735d8d5ef1",
       "version_major": 2,
       "version_minor": 0
      },
      "text/plain": [
       "  0%|          | 0/3 [00:00<?, ?it/s]"
      ]
     },
     "metadata": {},
     "output_type": "display_data"
    },
    {
     "name": "stdout",
     "output_type": "stream",
     "text": [
      "torch.Size([40, 9, 6])\n",
      "torch.Size([40, 11, 6])\n",
      "torch.Size([11, 8, 6])\n",
      "268\n",
      "train_loss -0.3111820841828982\n",
      "val_loss 59.338917\n"
     ]
    },
    {
     "data": {
      "application/vnd.jupyter.widget-view+json": {
       "model_id": "88c5e01fc9f4448c830048c456499ce9",
       "version_major": 2,
       "version_minor": 0
      },
      "text/plain": [
       "  0%|          | 0/3 [00:00<?, ?it/s]"
      ]
     },
     "metadata": {},
     "output_type": "display_data"
    },
    {
     "name": "stdout",
     "output_type": "stream",
     "text": [
      "torch.Size([40, 6, 6])\n",
      "torch.Size([40, 8, 6])\n",
      "torch.Size([11, 10, 6])\n",
      "269\n",
      "train_loss -0.16999632120132446\n",
      "val_loss 58.6846\n"
     ]
    },
    {
     "data": {
      "application/vnd.jupyter.widget-view+json": {
       "model_id": "5c8dca45d9254404a5266d8882b83829",
       "version_major": 2,
       "version_minor": 0
      },
      "text/plain": [
       "  0%|          | 0/3 [00:00<?, ?it/s]"
      ]
     },
     "metadata": {},
     "output_type": "display_data"
    },
    {
     "name": "stdout",
     "output_type": "stream",
     "text": [
      "torch.Size([40, 8, 6])\n",
      "torch.Size([40, 9, 6])\n",
      "torch.Size([11, 7, 6])\n",
      "270\n",
      "train_loss -0.33168087899684906\n",
      "val_loss 59.08912\n"
     ]
    },
    {
     "data": {
      "application/vnd.jupyter.widget-view+json": {
       "model_id": "2f2e01c96fb045299740050ebef15356",
       "version_major": 2,
       "version_minor": 0
      },
      "text/plain": [
       "  0%|          | 0/3 [00:00<?, ?it/s]"
      ]
     },
     "metadata": {},
     "output_type": "display_data"
    },
    {
     "name": "stdout",
     "output_type": "stream",
     "text": [
      "torch.Size([40, 14, 6])\n",
      "torch.Size([40, 10, 6])\n",
      "torch.Size([11, 12, 6])\n",
      "271\n",
      "train_loss -0.33569059272607166\n",
      "val_loss 59.741104\n"
     ]
    },
    {
     "data": {
      "application/vnd.jupyter.widget-view+json": {
       "model_id": "535b31e7a4704d3bab763dc6dc00717d",
       "version_major": 2,
       "version_minor": 0
      },
      "text/plain": [
       "  0%|          | 0/3 [00:00<?, ?it/s]"
      ]
     },
     "metadata": {},
     "output_type": "display_data"
    },
    {
     "name": "stdout",
     "output_type": "stream",
     "text": [
      "torch.Size([40, 7, 6])\n",
      "torch.Size([40, 6, 6])\n",
      "torch.Size([11, 9, 6])\n",
      "272\n",
      "train_loss -0.4561992883682251\n",
      "val_loss 59.67038\n"
     ]
    },
    {
     "data": {
      "application/vnd.jupyter.widget-view+json": {
       "model_id": "4e3cb29273a8444693ea2afa96679886",
       "version_major": 2,
       "version_minor": 0
      },
      "text/plain": [
       "  0%|          | 0/3 [00:00<?, ?it/s]"
      ]
     },
     "metadata": {},
     "output_type": "display_data"
    },
    {
     "name": "stdout",
     "output_type": "stream",
     "text": [
      "torch.Size([40, 11, 6])\n",
      "torch.Size([40, 11, 6])\n",
      "torch.Size([11, 14, 6])\n",
      "273\n",
      "train_loss -0.5246477027734121\n",
      "val_loss 59.664364\n"
     ]
    },
    {
     "data": {
      "application/vnd.jupyter.widget-view+json": {
       "model_id": "3921ac6d352249b2bb9a3fd746dd7715",
       "version_major": 2,
       "version_minor": 0
      },
      "text/plain": [
       "  0%|          | 0/3 [00:00<?, ?it/s]"
      ]
     },
     "metadata": {},
     "output_type": "display_data"
    },
    {
     "name": "stdout",
     "output_type": "stream",
     "text": [
      "torch.Size([40, 14, 6])\n",
      "torch.Size([40, 11, 6])\n",
      "torch.Size([11, 7, 6])\n",
      "274\n",
      "train_loss -0.47915396094322205\n",
      "val_loss 59.47875\n"
     ]
    },
    {
     "data": {
      "application/vnd.jupyter.widget-view+json": {
       "model_id": "363943d845e1414a859fc9fa98874ee9",
       "version_major": 2,
       "version_minor": 0
      },
      "text/plain": [
       "  0%|          | 0/3 [00:00<?, ?it/s]"
      ]
     },
     "metadata": {},
     "output_type": "display_data"
    },
    {
     "name": "stdout",
     "output_type": "stream",
     "text": [
      "torch.Size([40, 14, 6])\n",
      "torch.Size([40, 9, 6])\n",
      "torch.Size([11, 11, 6])\n",
      "275\n",
      "train_loss -0.5212963620821635\n",
      "val_loss 59.006622\n"
     ]
    },
    {
     "data": {
      "application/vnd.jupyter.widget-view+json": {
       "model_id": "97b601d48ce94b42a4924d5dc72527f0",
       "version_major": 2,
       "version_minor": 0
      },
      "text/plain": [
       "  0%|          | 0/3 [00:00<?, ?it/s]"
      ]
     },
     "metadata": {},
     "output_type": "display_data"
    },
    {
     "name": "stdout",
     "output_type": "stream",
     "text": [
      "torch.Size([40, 12, 6])\n",
      "torch.Size([40, 14, 6])\n",
      "torch.Size([11, 8, 6])\n",
      "276\n",
      "train_loss -0.489944855372111\n",
      "val_loss 58.57546\n"
     ]
    },
    {
     "data": {
      "application/vnd.jupyter.widget-view+json": {
       "model_id": "160aa105d71b48049a1abf4d40c50880",
       "version_major": 2,
       "version_minor": 0
      },
      "text/plain": [
       "  0%|          | 0/3 [00:00<?, ?it/s]"
      ]
     },
     "metadata": {},
     "output_type": "display_data"
    },
    {
     "name": "stdout",
     "output_type": "stream",
     "text": [
      "torch.Size([40, 10, 6])\n",
      "torch.Size([40, 8, 6])\n",
      "torch.Size([11, 10, 6])\n",
      "277\n",
      "train_loss 0.023007561763127644\n",
      "val_loss 58.25246\n"
     ]
    },
    {
     "data": {
      "application/vnd.jupyter.widget-view+json": {
       "model_id": "f2be69d88dcf42a2844f39fc839ea416",
       "version_major": 2,
       "version_minor": 0
      },
      "text/plain": [
       "  0%|          | 0/3 [00:00<?, ?it/s]"
      ]
     },
     "metadata": {},
     "output_type": "display_data"
    },
    {
     "name": "stdout",
     "output_type": "stream",
     "text": [
      "torch.Size([40, 8, 6])\n",
      "torch.Size([40, 5, 6])\n",
      "torch.Size([11, 10, 6])\n",
      "278\n",
      "train_loss -0.4793364902337392\n",
      "val_loss 58.853546\n"
     ]
    },
    {
     "data": {
      "application/vnd.jupyter.widget-view+json": {
       "model_id": "eca9203447074834a58b58a048d7b8b4",
       "version_major": 2,
       "version_minor": 0
      },
      "text/plain": [
       "  0%|          | 0/3 [00:00<?, ?it/s]"
      ]
     },
     "metadata": {},
     "output_type": "display_data"
    },
    {
     "name": "stdout",
     "output_type": "stream",
     "text": [
      "torch.Size([40, 11, 6])\n",
      "torch.Size([40, 12, 6])\n",
      "torch.Size([11, 11, 6])\n",
      "279\n",
      "train_loss -0.37096007168293\n",
      "val_loss 59.550274\n"
     ]
    },
    {
     "data": {
      "application/vnd.jupyter.widget-view+json": {
       "model_id": "06b15d9a9698427a809cc0e6011345b7",
       "version_major": 2,
       "version_minor": 0
      },
      "text/plain": [
       "  0%|          | 0/3 [00:00<?, ?it/s]"
      ]
     },
     "metadata": {},
     "output_type": "display_data"
    },
    {
     "name": "stdout",
     "output_type": "stream",
     "text": [
      "torch.Size([40, 5, 6])\n",
      "torch.Size([40, 6, 6])\n",
      "torch.Size([11, 14, 6])\n",
      "280\n",
      "train_loss -0.5796525875727335\n",
      "val_loss 59.537296\n"
     ]
    },
    {
     "data": {
      "application/vnd.jupyter.widget-view+json": {
       "model_id": "8b8e97a288674512840cad8fd430b53f",
       "version_major": 2,
       "version_minor": 0
      },
      "text/plain": [
       "  0%|          | 0/3 [00:00<?, ?it/s]"
      ]
     },
     "metadata": {},
     "output_type": "display_data"
    },
    {
     "name": "stdout",
     "output_type": "stream",
     "text": [
      "torch.Size([40, 9, 6])\n",
      "torch.Size([40, 6, 6])\n",
      "torch.Size([11, 13, 6])\n",
      "281\n",
      "train_loss -0.49957674741744995\n",
      "val_loss 59.80388\n"
     ]
    },
    {
     "data": {
      "application/vnd.jupyter.widget-view+json": {
       "model_id": "b5b6791601df45e5986fb55c62d18baa",
       "version_major": 2,
       "version_minor": 0
      },
      "text/plain": [
       "  0%|          | 0/3 [00:00<?, ?it/s]"
      ]
     },
     "metadata": {},
     "output_type": "display_data"
    },
    {
     "name": "stdout",
     "output_type": "stream",
     "text": [
      "torch.Size([40, 14, 6])\n",
      "torch.Size([40, 5, 6])\n",
      "torch.Size([11, 6, 6])\n",
      "282\n",
      "train_loss -0.27573467294375104\n",
      "val_loss 60.59458\n"
     ]
    },
    {
     "data": {
      "application/vnd.jupyter.widget-view+json": {
       "model_id": "29b3446fd15b4a90bccd7151a915f755",
       "version_major": 2,
       "version_minor": 0
      },
      "text/plain": [
       "  0%|          | 0/3 [00:00<?, ?it/s]"
      ]
     },
     "metadata": {},
     "output_type": "display_data"
    },
    {
     "name": "stdout",
     "output_type": "stream",
     "text": [
      "torch.Size([40, 14, 6])\n",
      "torch.Size([40, 5, 6])\n",
      "torch.Size([11, 12, 6])\n",
      "283\n",
      "train_loss -0.3564196440080802\n",
      "val_loss 60.752644\n"
     ]
    },
    {
     "data": {
      "application/vnd.jupyter.widget-view+json": {
       "model_id": "33b356bd49fc46dca4e6785dbfc7cac7",
       "version_major": 2,
       "version_minor": 0
      },
      "text/plain": [
       "  0%|          | 0/3 [00:00<?, ?it/s]"
      ]
     },
     "metadata": {},
     "output_type": "display_data"
    },
    {
     "name": "stdout",
     "output_type": "stream",
     "text": [
      "torch.Size([40, 4, 6])\n",
      "torch.Size([40, 13, 6])\n",
      "torch.Size([11, 6, 6])\n",
      "284\n",
      "train_loss -0.5449991126855215\n",
      "val_loss 60.638\n"
     ]
    },
    {
     "data": {
      "application/vnd.jupyter.widget-view+json": {
       "model_id": "2a305eb5ec2b4e628bacd7c746c41694",
       "version_major": 2,
       "version_minor": 0
      },
      "text/plain": [
       "  0%|          | 0/3 [00:00<?, ?it/s]"
      ]
     },
     "metadata": {},
     "output_type": "display_data"
    },
    {
     "name": "stdout",
     "output_type": "stream",
     "text": [
      "torch.Size([40, 5, 6])\n",
      "torch.Size([40, 7, 6])\n",
      "torch.Size([11, 12, 6])\n",
      "285\n",
      "train_loss -0.5986570517222086\n",
      "val_loss 60.258595\n"
     ]
    },
    {
     "data": {
      "application/vnd.jupyter.widget-view+json": {
       "model_id": "0d1290fa6ee04113a2d40a0de6559901",
       "version_major": 2,
       "version_minor": 0
      },
      "text/plain": [
       "  0%|          | 0/3 [00:00<?, ?it/s]"
      ]
     },
     "metadata": {},
     "output_type": "display_data"
    },
    {
     "name": "stdout",
     "output_type": "stream",
     "text": [
      "torch.Size([40, 10, 6])\n",
      "torch.Size([40, 8, 6])\n",
      "torch.Size([11, 14, 6])\n",
      "286\n",
      "train_loss -0.5359211067358652\n",
      "val_loss 59.694942\n"
     ]
    },
    {
     "data": {
      "application/vnd.jupyter.widget-view+json": {
       "model_id": "7d5fa7a78120470b9ff834c637947b52",
       "version_major": 2,
       "version_minor": 0
      },
      "text/plain": [
       "  0%|          | 0/3 [00:00<?, ?it/s]"
      ]
     },
     "metadata": {},
     "output_type": "display_data"
    },
    {
     "name": "stdout",
     "output_type": "stream",
     "text": [
      "torch.Size([40, 13, 6])\n",
      "torch.Size([40, 4, 6])\n",
      "torch.Size([11, 4, 6])\n",
      "287\n",
      "train_loss -0.5937681198120117\n",
      "val_loss 59.209885\n"
     ]
    },
    {
     "data": {
      "application/vnd.jupyter.widget-view+json": {
       "model_id": "b32310322c50462c8eb50094a8d5de1a",
       "version_major": 2,
       "version_minor": 0
      },
      "text/plain": [
       "  0%|          | 0/3 [00:00<?, ?it/s]"
      ]
     },
     "metadata": {},
     "output_type": "display_data"
    },
    {
     "name": "stdout",
     "output_type": "stream",
     "text": [
      "torch.Size([40, 7, 6])\n",
      "torch.Size([40, 9, 6])\n",
      "torch.Size([11, 8, 6])\n",
      "288\n",
      "train_loss -0.5977293451627096\n",
      "val_loss 59.030373\n"
     ]
    },
    {
     "data": {
      "application/vnd.jupyter.widget-view+json": {
       "model_id": "01de146ec12d471c90a0254ab832d3fa",
       "version_major": 2,
       "version_minor": 0
      },
      "text/plain": [
       "  0%|          | 0/3 [00:00<?, ?it/s]"
      ]
     },
     "metadata": {},
     "output_type": "display_data"
    },
    {
     "name": "stdout",
     "output_type": "stream",
     "text": [
      "torch.Size([40, 4, 6])\n",
      "torch.Size([40, 8, 6])\n",
      "torch.Size([11, 14, 6])\n",
      "289\n",
      "train_loss -0.49840402603149414\n",
      "val_loss 59.466736\n"
     ]
    },
    {
     "data": {
      "application/vnd.jupyter.widget-view+json": {
       "model_id": "43092404c8784f3f8090dd819a41866e",
       "version_major": 2,
       "version_minor": 0
      },
      "text/plain": [
       "  0%|          | 0/3 [00:00<?, ?it/s]"
      ]
     },
     "metadata": {},
     "output_type": "display_data"
    },
    {
     "name": "stdout",
     "output_type": "stream",
     "text": [
      "torch.Size([40, 6, 6])\n",
      "torch.Size([40, 4, 6])\n",
      "torch.Size([11, 8, 6])\n",
      "290\n",
      "train_loss -0.5431007345517477\n",
      "val_loss 59.645832\n"
     ]
    },
    {
     "data": {
      "application/vnd.jupyter.widget-view+json": {
       "model_id": "79f60b15754545e9ac18a767ef3bcdf0",
       "version_major": 2,
       "version_minor": 0
      },
      "text/plain": [
       "  0%|          | 0/3 [00:00<?, ?it/s]"
      ]
     },
     "metadata": {},
     "output_type": "display_data"
    },
    {
     "name": "stdout",
     "output_type": "stream",
     "text": [
      "torch.Size([40, 7, 6])\n",
      "torch.Size([40, 13, 6])\n",
      "torch.Size([11, 7, 6])\n",
      "291\n",
      "train_loss -0.467314086544017\n",
      "val_loss 59.491413\n"
     ]
    },
    {
     "data": {
      "application/vnd.jupyter.widget-view+json": {
       "model_id": "3d8602a62db543478a12b8366666b775",
       "version_major": 2,
       "version_minor": 0
      },
      "text/plain": [
       "  0%|          | 0/3 [00:00<?, ?it/s]"
      ]
     },
     "metadata": {},
     "output_type": "display_data"
    },
    {
     "name": "stdout",
     "output_type": "stream",
     "text": [
      "torch.Size([40, 14, 6])\n",
      "torch.Size([40, 4, 6])\n",
      "torch.Size([11, 10, 6])\n",
      "292\n",
      "train_loss -0.6129025022188822\n",
      "val_loss 59.385174\n"
     ]
    },
    {
     "data": {
      "application/vnd.jupyter.widget-view+json": {
       "model_id": "fee161fad83d4a059a9e6954a55a030f",
       "version_major": 2,
       "version_minor": 0
      },
      "text/plain": [
       "  0%|          | 0/3 [00:00<?, ?it/s]"
      ]
     },
     "metadata": {},
     "output_type": "display_data"
    },
    {
     "name": "stdout",
     "output_type": "stream",
     "text": [
      "torch.Size([40, 13, 6])\n",
      "torch.Size([40, 9, 6])\n",
      "torch.Size([11, 14, 6])\n",
      "293\n",
      "train_loss -0.627885659535726\n",
      "val_loss 59.818497\n"
     ]
    },
    {
     "data": {
      "application/vnd.jupyter.widget-view+json": {
       "model_id": "35fe9452ce5849549f096ededf44ab03",
       "version_major": 2,
       "version_minor": 0
      },
      "text/plain": [
       "  0%|          | 0/3 [00:00<?, ?it/s]"
      ]
     },
     "metadata": {},
     "output_type": "display_data"
    },
    {
     "name": "stdout",
     "output_type": "stream",
     "text": [
      "torch.Size([40, 10, 6])\n",
      "torch.Size([40, 12, 6])\n",
      "torch.Size([11, 7, 6])\n",
      "294\n",
      "train_loss -0.7086321711540222\n",
      "val_loss 60.207882\n"
     ]
    },
    {
     "data": {
      "application/vnd.jupyter.widget-view+json": {
       "model_id": "22d7beb932ac46caaff6e813176419c8",
       "version_major": 2,
       "version_minor": 0
      },
      "text/plain": [
       "  0%|          | 0/3 [00:00<?, ?it/s]"
      ]
     },
     "metadata": {},
     "output_type": "display_data"
    },
    {
     "name": "stdout",
     "output_type": "stream",
     "text": [
      "torch.Size([40, 5, 6])\n",
      "torch.Size([40, 4, 6])\n",
      "torch.Size([11, 4, 6])\n",
      "295\n",
      "train_loss -0.5558161437511444\n",
      "val_loss 59.915203\n"
     ]
    },
    {
     "data": {
      "application/vnd.jupyter.widget-view+json": {
       "model_id": "e36dee123b634531b74b1d03c4923493",
       "version_major": 2,
       "version_minor": 0
      },
      "text/plain": [
       "  0%|          | 0/3 [00:00<?, ?it/s]"
      ]
     },
     "metadata": {},
     "output_type": "display_data"
    },
    {
     "name": "stdout",
     "output_type": "stream",
     "text": [
      "torch.Size([40, 5, 6])\n",
      "torch.Size([40, 14, 6])\n",
      "torch.Size([11, 13, 6])\n",
      "296\n",
      "train_loss -0.4967302580674489\n",
      "val_loss 60.111717\n"
     ]
    },
    {
     "data": {
      "application/vnd.jupyter.widget-view+json": {
       "model_id": "81dda0530bbe43a097d038e20a883693",
       "version_major": 2,
       "version_minor": 0
      },
      "text/plain": [
       "  0%|          | 0/3 [00:00<?, ?it/s]"
      ]
     },
     "metadata": {},
     "output_type": "display_data"
    },
    {
     "name": "stdout",
     "output_type": "stream",
     "text": [
      "torch.Size([40, 14, 6])\n",
      "torch.Size([40, 4, 6])\n",
      "torch.Size([11, 7, 6])\n",
      "297\n",
      "train_loss -0.6231242616971334\n",
      "val_loss 60.28458\n"
     ]
    },
    {
     "data": {
      "application/vnd.jupyter.widget-view+json": {
       "model_id": "bfae2ffb8ee542ce83be7b8937e6f574",
       "version_major": 2,
       "version_minor": 0
      },
      "text/plain": [
       "  0%|          | 0/3 [00:00<?, ?it/s]"
      ]
     },
     "metadata": {},
     "output_type": "display_data"
    },
    {
     "name": "stdout",
     "output_type": "stream",
     "text": [
      "torch.Size([40, 13, 6])\n",
      "torch.Size([40, 9, 6])\n",
      "torch.Size([11, 7, 6])\n",
      "298\n",
      "train_loss -0.5296271791060766\n",
      "val_loss 59.74044\n"
     ]
    },
    {
     "data": {
      "application/vnd.jupyter.widget-view+json": {
       "model_id": "f552d4e62e4c4a68937fc7144650cb7d",
       "version_major": 2,
       "version_minor": 0
      },
      "text/plain": [
       "  0%|          | 0/3 [00:00<?, ?it/s]"
      ]
     },
     "metadata": {},
     "output_type": "display_data"
    },
    {
     "name": "stdout",
     "output_type": "stream",
     "text": [
      "torch.Size([40, 4, 6])\n",
      "torch.Size([40, 12, 6])\n",
      "torch.Size([11, 9, 6])\n",
      "299\n",
      "train_loss -0.5266807377338409\n",
      "val_loss 58.60202\n"
     ]
    },
    {
     "data": {
      "application/vnd.jupyter.widget-view+json": {
       "model_id": "8a636c2d39fc43e297e50c361dfd34ca",
       "version_major": 2,
       "version_minor": 0
      },
      "text/plain": [
       "  0%|          | 0/3 [00:00<?, ?it/s]"
      ]
     },
     "metadata": {},
     "output_type": "display_data"
    },
    {
     "name": "stdout",
     "output_type": "stream",
     "text": [
      "torch.Size([40, 13, 6])\n",
      "torch.Size([40, 8, 6])\n",
      "torch.Size([11, 12, 6])\n",
      "300\n",
      "train_loss -0.4832767844200134\n",
      "val_loss 58.321133\n"
     ]
    },
    {
     "data": {
      "application/vnd.jupyter.widget-view+json": {
       "model_id": "7747942481944114a3df220765d0d64a",
       "version_major": 2,
       "version_minor": 0
      },
      "text/plain": [
       "  0%|          | 0/3 [00:00<?, ?it/s]"
      ]
     },
     "metadata": {},
     "output_type": "display_data"
    },
    {
     "name": "stdout",
     "output_type": "stream",
     "text": [
      "torch.Size([40, 14, 6])\n",
      "torch.Size([40, 8, 6])\n",
      "torch.Size([11, 6, 6])\n",
      "301\n",
      "train_loss -0.6028658151626587\n",
      "val_loss 59.46541\n"
     ]
    },
    {
     "data": {
      "application/vnd.jupyter.widget-view+json": {
       "model_id": "66f4e219fc58452ebf0020823e36f57a",
       "version_major": 2,
       "version_minor": 0
      },
      "text/plain": [
       "  0%|          | 0/3 [00:00<?, ?it/s]"
      ]
     },
     "metadata": {},
     "output_type": "display_data"
    },
    {
     "name": "stdout",
     "output_type": "stream",
     "text": [
      "torch.Size([40, 5, 6])\n",
      "torch.Size([40, 4, 6])\n",
      "torch.Size([11, 5, 6])\n",
      "302\n",
      "train_loss -0.3838391453027725\n",
      "val_loss 58.61181\n"
     ]
    },
    {
     "data": {
      "application/vnd.jupyter.widget-view+json": {
       "model_id": "eb0da82e84a94c0988a916b4aecae968",
       "version_major": 2,
       "version_minor": 0
      },
      "text/plain": [
       "  0%|          | 0/3 [00:00<?, ?it/s]"
      ]
     },
     "metadata": {},
     "output_type": "display_data"
    },
    {
     "name": "stdout",
     "output_type": "stream",
     "text": [
      "torch.Size([40, 14, 6])\n",
      "torch.Size([40, 4, 6])\n",
      "torch.Size([11, 8, 6])\n",
      "303\n",
      "train_loss -0.3887269565214713\n",
      "val_loss 58.224377\n"
     ]
    },
    {
     "data": {
      "application/vnd.jupyter.widget-view+json": {
       "model_id": "75d759241d2d4d11ad3a0da88cdff3a9",
       "version_major": 2,
       "version_minor": 0
      },
      "text/plain": [
       "  0%|          | 0/3 [00:00<?, ?it/s]"
      ]
     },
     "metadata": {},
     "output_type": "display_data"
    },
    {
     "name": "stdout",
     "output_type": "stream",
     "text": [
      "torch.Size([40, 6, 6])\n",
      "torch.Size([40, 6, 6])\n",
      "torch.Size([11, 11, 6])\n",
      "304\n",
      "train_loss -0.15718154112497965\n",
      "val_loss 58.75156\n"
     ]
    },
    {
     "data": {
      "application/vnd.jupyter.widget-view+json": {
       "model_id": "185a933d0b094c2fbb801e5661607a43",
       "version_major": 2,
       "version_minor": 0
      },
      "text/plain": [
       "  0%|          | 0/3 [00:00<?, ?it/s]"
      ]
     },
     "metadata": {},
     "output_type": "display_data"
    },
    {
     "name": "stdout",
     "output_type": "stream",
     "text": [
      "torch.Size([40, 7, 6])\n",
      "torch.Size([40, 12, 6])\n",
      "torch.Size([11, 10, 6])\n",
      "305\n",
      "train_loss -0.421378289659818\n",
      "val_loss 58.087646\n"
     ]
    },
    {
     "data": {
      "application/vnd.jupyter.widget-view+json": {
       "model_id": "58f4f1be00ea42d4bc72554857d2ed0c",
       "version_major": 2,
       "version_minor": 0
      },
      "text/plain": [
       "  0%|          | 0/3 [00:00<?, ?it/s]"
      ]
     },
     "metadata": {},
     "output_type": "display_data"
    },
    {
     "name": "stdout",
     "output_type": "stream",
     "text": [
      "torch.Size([40, 13, 6])\n",
      "torch.Size([40, 6, 6])\n",
      "torch.Size([11, 8, 6])\n",
      "306\n",
      "train_loss -0.6141565243403116\n",
      "val_loss 58.466923\n"
     ]
    },
    {
     "data": {
      "application/vnd.jupyter.widget-view+json": {
       "model_id": "28ce240cc77e4b0db39d5c16d6dd2980",
       "version_major": 2,
       "version_minor": 0
      },
      "text/plain": [
       "  0%|          | 0/3 [00:00<?, ?it/s]"
      ]
     },
     "metadata": {},
     "output_type": "display_data"
    },
    {
     "name": "stdout",
     "output_type": "stream",
     "text": [
      "torch.Size([40, 14, 6])\n",
      "torch.Size([40, 7, 6])\n",
      "torch.Size([11, 11, 6])\n",
      "307\n",
      "train_loss -0.6258836189905802\n",
      "val_loss 59.082\n"
     ]
    },
    {
     "data": {
      "application/vnd.jupyter.widget-view+json": {
       "model_id": "a89bd1e116ee442a8040870dfeec4481",
       "version_major": 2,
       "version_minor": 0
      },
      "text/plain": [
       "  0%|          | 0/3 [00:00<?, ?it/s]"
      ]
     },
     "metadata": {},
     "output_type": "display_data"
    },
    {
     "name": "stdout",
     "output_type": "stream",
     "text": [
      "torch.Size([40, 5, 6])\n",
      "torch.Size([40, 5, 6])\n",
      "torch.Size([11, 5, 6])\n",
      "308\n",
      "train_loss -0.4392158572251598\n",
      "val_loss 59.41683\n"
     ]
    },
    {
     "data": {
      "application/vnd.jupyter.widget-view+json": {
       "model_id": "26a45b8142c748bb9203c06af5f01843",
       "version_major": 2,
       "version_minor": 0
      },
      "text/plain": [
       "  0%|          | 0/3 [00:00<?, ?it/s]"
      ]
     },
     "metadata": {},
     "output_type": "display_data"
    },
    {
     "name": "stdout",
     "output_type": "stream",
     "text": [
      "torch.Size([40, 5, 6])\n",
      "torch.Size([40, 14, 6])\n",
      "torch.Size([11, 13, 6])\n",
      "309\n",
      "train_loss -0.5386200000842413\n",
      "val_loss 60.015\n"
     ]
    },
    {
     "data": {
      "application/vnd.jupyter.widget-view+json": {
       "model_id": "f60bfa78d1f84fc38f40eb0390382c99",
       "version_major": 2,
       "version_minor": 0
      },
      "text/plain": [
       "  0%|          | 0/3 [00:00<?, ?it/s]"
      ]
     },
     "metadata": {},
     "output_type": "display_data"
    },
    {
     "name": "stdout",
     "output_type": "stream",
     "text": [
      "torch.Size([40, 9, 6])\n",
      "torch.Size([40, 6, 6])\n",
      "torch.Size([11, 6, 6])\n",
      "310\n",
      "train_loss -0.6405007044474283\n",
      "val_loss 60.18755\n"
     ]
    },
    {
     "data": {
      "application/vnd.jupyter.widget-view+json": {
       "model_id": "c4911e90e6824bc398445d10a9d94d7d",
       "version_major": 2,
       "version_minor": 0
      },
      "text/plain": [
       "  0%|          | 0/3 [00:00<?, ?it/s]"
      ]
     },
     "metadata": {},
     "output_type": "display_data"
    },
    {
     "name": "stdout",
     "output_type": "stream",
     "text": [
      "torch.Size([40, 10, 6])\n",
      "torch.Size([40, 8, 6])\n",
      "torch.Size([11, 5, 6])\n",
      "311\n",
      "train_loss -0.5545409818490347\n",
      "val_loss 59.51089\n"
     ]
    },
    {
     "data": {
      "application/vnd.jupyter.widget-view+json": {
       "model_id": "16235cbfb475482ab7deaf338eb1ddd4",
       "version_major": 2,
       "version_minor": 0
      },
      "text/plain": [
       "  0%|          | 0/3 [00:00<?, ?it/s]"
      ]
     },
     "metadata": {},
     "output_type": "display_data"
    },
    {
     "name": "stdout",
     "output_type": "stream",
     "text": [
      "torch.Size([40, 7, 6])\n",
      "torch.Size([40, 4, 6])\n",
      "torch.Size([11, 8, 6])\n",
      "312\n",
      "train_loss -0.6664928396542867\n",
      "val_loss 59.20722\n"
     ]
    },
    {
     "data": {
      "application/vnd.jupyter.widget-view+json": {
       "model_id": "86b93527f63b431e9ca5ba51c5c6d0a9",
       "version_major": 2,
       "version_minor": 0
      },
      "text/plain": [
       "  0%|          | 0/3 [00:00<?, ?it/s]"
      ]
     },
     "metadata": {},
     "output_type": "display_data"
    },
    {
     "name": "stdout",
     "output_type": "stream",
     "text": [
      "torch.Size([40, 7, 6])\n",
      "torch.Size([40, 9, 6])\n",
      "torch.Size([11, 7, 6])\n",
      "313\n",
      "train_loss -0.6052257319291433\n",
      "val_loss 59.294395\n"
     ]
    },
    {
     "data": {
      "application/vnd.jupyter.widget-view+json": {
       "model_id": "639815f7c328424eb1b1b8b9d0028445",
       "version_major": 2,
       "version_minor": 0
      },
      "text/plain": [
       "  0%|          | 0/3 [00:00<?, ?it/s]"
      ]
     },
     "metadata": {},
     "output_type": "display_data"
    },
    {
     "name": "stdout",
     "output_type": "stream",
     "text": [
      "torch.Size([40, 13, 6])\n",
      "torch.Size([40, 9, 6])\n",
      "torch.Size([11, 5, 6])\n",
      "314\n",
      "train_loss -0.6867591142654419\n",
      "val_loss 59.36955\n"
     ]
    },
    {
     "data": {
      "application/vnd.jupyter.widget-view+json": {
       "model_id": "65226c89801b433f864e2a462a89f791",
       "version_major": 2,
       "version_minor": 0
      },
      "text/plain": [
       "  0%|          | 0/3 [00:00<?, ?it/s]"
      ]
     },
     "metadata": {},
     "output_type": "display_data"
    },
    {
     "name": "stdout",
     "output_type": "stream",
     "text": [
      "torch.Size([40, 10, 6])\n",
      "torch.Size([40, 12, 6])\n",
      "torch.Size([11, 7, 6])\n",
      "315\n",
      "train_loss -0.6642258763313293\n",
      "val_loss 59.256428\n"
     ]
    },
    {
     "data": {
      "application/vnd.jupyter.widget-view+json": {
       "model_id": "47c19881dba948d79b9bfa90decbcb2b",
       "version_major": 2,
       "version_minor": 0
      },
      "text/plain": [
       "  0%|          | 0/3 [00:00<?, ?it/s]"
      ]
     },
     "metadata": {},
     "output_type": "display_data"
    },
    {
     "name": "stdout",
     "output_type": "stream",
     "text": [
      "torch.Size([40, 9, 6])\n",
      "torch.Size([40, 13, 6])\n",
      "torch.Size([11, 8, 6])\n",
      "316\n",
      "train_loss -0.5461391657590866\n",
      "val_loss 59.445236\n"
     ]
    },
    {
     "data": {
      "application/vnd.jupyter.widget-view+json": {
       "model_id": "caf6d211143e4eecb5f3abd990a61e59",
       "version_major": 2,
       "version_minor": 0
      },
      "text/plain": [
       "  0%|          | 0/3 [00:00<?, ?it/s]"
      ]
     },
     "metadata": {},
     "output_type": "display_data"
    },
    {
     "name": "stdout",
     "output_type": "stream",
     "text": [
      "torch.Size([40, 5, 6])\n",
      "torch.Size([40, 13, 6])\n",
      "torch.Size([11, 4, 6])\n",
      "317\n",
      "train_loss -0.46323396265506744\n",
      "val_loss 59.58053\n"
     ]
    },
    {
     "data": {
      "application/vnd.jupyter.widget-view+json": {
       "model_id": "241a188b73dd45c98ceae967f347dd57",
       "version_major": 2,
       "version_minor": 0
      },
      "text/plain": [
       "  0%|          | 0/3 [00:00<?, ?it/s]"
      ]
     },
     "metadata": {},
     "output_type": "display_data"
    },
    {
     "name": "stdout",
     "output_type": "stream",
     "text": [
      "torch.Size([40, 10, 6])\n",
      "torch.Size([40, 5, 6])\n",
      "torch.Size([11, 8, 6])\n",
      "318\n",
      "train_loss -0.7512023250261942\n",
      "val_loss 59.61256\n"
     ]
    },
    {
     "data": {
      "application/vnd.jupyter.widget-view+json": {
       "model_id": "0ec576f7f84f4d398d9ae2111d626d2a",
       "version_major": 2,
       "version_minor": 0
      },
      "text/plain": [
       "  0%|          | 0/3 [00:00<?, ?it/s]"
      ]
     },
     "metadata": {},
     "output_type": "display_data"
    },
    {
     "name": "stdout",
     "output_type": "stream",
     "text": [
      "torch.Size([40, 4, 6])\n",
      "torch.Size([40, 14, 6])\n",
      "torch.Size([11, 8, 6])\n",
      "319\n",
      "train_loss -0.5185935993989309\n",
      "val_loss 59.523163\n"
     ]
    },
    {
     "data": {
      "application/vnd.jupyter.widget-view+json": {
       "model_id": "4c9f59e3a6fc463d8fe30a1df0df3018",
       "version_major": 2,
       "version_minor": 0
      },
      "text/plain": [
       "  0%|          | 0/3 [00:00<?, ?it/s]"
      ]
     },
     "metadata": {},
     "output_type": "display_data"
    },
    {
     "name": "stdout",
     "output_type": "stream",
     "text": [
      "torch.Size([40, 8, 6])\n",
      "torch.Size([40, 11, 6])\n",
      "torch.Size([11, 4, 6])\n",
      "320\n",
      "train_loss -0.6740139325459799\n",
      "val_loss 59.414738\n"
     ]
    },
    {
     "data": {
      "application/vnd.jupyter.widget-view+json": {
       "model_id": "6a9947578de44b90a83ee4dfa81ca3b1",
       "version_major": 2,
       "version_minor": 0
      },
      "text/plain": [
       "  0%|          | 0/3 [00:00<?, ?it/s]"
      ]
     },
     "metadata": {},
     "output_type": "display_data"
    },
    {
     "name": "stdout",
     "output_type": "stream",
     "text": [
      "torch.Size([40, 4, 6])\n",
      "torch.Size([40, 13, 6])\n",
      "torch.Size([11, 6, 6])\n",
      "321\n",
      "train_loss -0.5744840502738953\n",
      "val_loss 59.71375\n"
     ]
    },
    {
     "data": {
      "application/vnd.jupyter.widget-view+json": {
       "model_id": "a577a9d01fc9438f878fd2b9b9587ea6",
       "version_major": 2,
       "version_minor": 0
      },
      "text/plain": [
       "  0%|          | 0/3 [00:00<?, ?it/s]"
      ]
     },
     "metadata": {},
     "output_type": "display_data"
    },
    {
     "name": "stdout",
     "output_type": "stream",
     "text": [
      "torch.Size([40, 12, 6])\n",
      "torch.Size([40, 9, 6])\n",
      "torch.Size([11, 9, 6])\n",
      "322\n",
      "train_loss -0.5791208893060684\n",
      "val_loss 59.89179\n"
     ]
    },
    {
     "data": {
      "application/vnd.jupyter.widget-view+json": {
       "model_id": "3d15ffbbdea5457eadb597ff6e853c84",
       "version_major": 2,
       "version_minor": 0
      },
      "text/plain": [
       "  0%|          | 0/3 [00:00<?, ?it/s]"
      ]
     },
     "metadata": {},
     "output_type": "display_data"
    },
    {
     "name": "stdout",
     "output_type": "stream",
     "text": [
      "torch.Size([40, 4, 6])\n",
      "torch.Size([40, 5, 6])\n",
      "torch.Size([11, 10, 6])\n",
      "323\n",
      "train_loss 0.15341303745905557\n",
      "val_loss 59.670723\n"
     ]
    },
    {
     "data": {
      "application/vnd.jupyter.widget-view+json": {
       "model_id": "6dd6f3a76c024d94b7a27a9c94976e34",
       "version_major": 2,
       "version_minor": 0
      },
      "text/plain": [
       "  0%|          | 0/3 [00:00<?, ?it/s]"
      ]
     },
     "metadata": {},
     "output_type": "display_data"
    },
    {
     "name": "stdout",
     "output_type": "stream",
     "text": [
      "torch.Size([40, 14, 6])\n",
      "torch.Size([40, 13, 6])\n",
      "torch.Size([11, 14, 6])\n",
      "324\n",
      "train_loss -0.6579046845436096\n",
      "val_loss 60.639755\n"
     ]
    },
    {
     "data": {
      "application/vnd.jupyter.widget-view+json": {
       "model_id": "9e2d7eb5bf904c0cae74dab276d84d34",
       "version_major": 2,
       "version_minor": 0
      },
      "text/plain": [
       "  0%|          | 0/3 [00:00<?, ?it/s]"
      ]
     },
     "metadata": {},
     "output_type": "display_data"
    },
    {
     "name": "stdout",
     "output_type": "stream",
     "text": [
      "torch.Size([40, 6, 6])\n",
      "torch.Size([40, 5, 6])\n",
      "torch.Size([11, 12, 6])\n",
      "325\n",
      "train_loss -0.36727264026800793\n",
      "val_loss 60.82827\n"
     ]
    },
    {
     "data": {
      "application/vnd.jupyter.widget-view+json": {
       "model_id": "f4fca8060eda4ce388e2e0273e50727d",
       "version_major": 2,
       "version_minor": 0
      },
      "text/plain": [
       "  0%|          | 0/3 [00:00<?, ?it/s]"
      ]
     },
     "metadata": {},
     "output_type": "display_data"
    },
    {
     "name": "stdout",
     "output_type": "stream",
     "text": [
      "torch.Size([40, 7, 6])\n",
      "torch.Size([40, 12, 6])\n",
      "torch.Size([11, 7, 6])\n",
      "326\n",
      "train_loss -0.5693476796150208\n",
      "val_loss 61.21297\n"
     ]
    },
    {
     "data": {
      "application/vnd.jupyter.widget-view+json": {
       "model_id": "cba0e8810b7b4bca826b6d324261c5a7",
       "version_major": 2,
       "version_minor": 0
      },
      "text/plain": [
       "  0%|          | 0/3 [00:00<?, ?it/s]"
      ]
     },
     "metadata": {},
     "output_type": "display_data"
    },
    {
     "name": "stdout",
     "output_type": "stream",
     "text": [
      "torch.Size([40, 4, 6])\n",
      "torch.Size([40, 8, 6])\n",
      "torch.Size([11, 13, 6])\n",
      "327\n",
      "train_loss -0.42163952191670734\n",
      "val_loss 60.949657\n"
     ]
    },
    {
     "data": {
      "application/vnd.jupyter.widget-view+json": {
       "model_id": "c5957b8c618649dfa6794f6ac46c0ba9",
       "version_major": 2,
       "version_minor": 0
      },
      "text/plain": [
       "  0%|          | 0/3 [00:00<?, ?it/s]"
      ]
     },
     "metadata": {},
     "output_type": "display_data"
    },
    {
     "name": "stdout",
     "output_type": "stream",
     "text": [
      "torch.Size([40, 11, 6])\n",
      "torch.Size([40, 6, 6])\n",
      "torch.Size([11, 5, 6])\n",
      "328\n",
      "train_loss -0.3937891689129174\n",
      "val_loss 60.802864\n"
     ]
    },
    {
     "data": {
      "application/vnd.jupyter.widget-view+json": {
       "model_id": "51af2dcb91b74706886452b6754457d6",
       "version_major": 2,
       "version_minor": 0
      },
      "text/plain": [
       "  0%|          | 0/3 [00:00<?, ?it/s]"
      ]
     },
     "metadata": {},
     "output_type": "display_data"
    },
    {
     "name": "stdout",
     "output_type": "stream",
     "text": [
      "torch.Size([40, 13, 6])\n",
      "torch.Size([40, 10, 6])\n",
      "torch.Size([11, 14, 6])\n",
      "329\n",
      "train_loss -0.0782696505387624\n",
      "val_loss 60.51281\n"
     ]
    },
    {
     "data": {
      "application/vnd.jupyter.widget-view+json": {
       "model_id": "0fa4d360e1a4498aa9f5f47160e6fe3b",
       "version_major": 2,
       "version_minor": 0
      },
      "text/plain": [
       "  0%|          | 0/3 [00:00<?, ?it/s]"
      ]
     },
     "metadata": {},
     "output_type": "display_data"
    },
    {
     "name": "stdout",
     "output_type": "stream",
     "text": [
      "torch.Size([40, 14, 6])\n",
      "torch.Size([40, 6, 6])\n",
      "torch.Size([11, 13, 6])\n",
      "330\n",
      "train_loss -0.46930550535519916\n",
      "val_loss 60.338917\n"
     ]
    },
    {
     "data": {
      "application/vnd.jupyter.widget-view+json": {
       "model_id": "14fd570baa854e979f87e02913a32111",
       "version_major": 2,
       "version_minor": 0
      },
      "text/plain": [
       "  0%|          | 0/3 [00:00<?, ?it/s]"
      ]
     },
     "metadata": {},
     "output_type": "display_data"
    },
    {
     "name": "stdout",
     "output_type": "stream",
     "text": [
      "torch.Size([40, 13, 6])\n",
      "torch.Size([40, 12, 6])\n",
      "torch.Size([11, 10, 6])\n",
      "331\n",
      "train_loss -0.21920673052469888\n",
      "val_loss 59.67694\n"
     ]
    },
    {
     "data": {
      "application/vnd.jupyter.widget-view+json": {
       "model_id": "0d1a558927924529bdb71becf679b843",
       "version_major": 2,
       "version_minor": 0
      },
      "text/plain": [
       "  0%|          | 0/3 [00:00<?, ?it/s]"
      ]
     },
     "metadata": {},
     "output_type": "display_data"
    },
    {
     "name": "stdout",
     "output_type": "stream",
     "text": [
      "torch.Size([40, 5, 6])\n",
      "torch.Size([40, 12, 6])\n",
      "torch.Size([11, 8, 6])\n",
      "332\n",
      "train_loss -0.375175545612971\n",
      "val_loss 59.86327\n"
     ]
    },
    {
     "data": {
      "application/vnd.jupyter.widget-view+json": {
       "model_id": "0a8ad467fb9e4386b559f2f0f89c7969",
       "version_major": 2,
       "version_minor": 0
      },
      "text/plain": [
       "  0%|          | 0/3 [00:00<?, ?it/s]"
      ]
     },
     "metadata": {},
     "output_type": "display_data"
    },
    {
     "name": "stdout",
     "output_type": "stream",
     "text": [
      "torch.Size([40, 5, 6])\n",
      "torch.Size([40, 9, 6])\n",
      "torch.Size([11, 5, 6])\n",
      "333\n",
      "train_loss -0.3780454248189926\n",
      "val_loss 59.801155\n"
     ]
    },
    {
     "data": {
      "application/vnd.jupyter.widget-view+json": {
       "model_id": "c88f8a9d1bdb44749cb6d404d5abdf67",
       "version_major": 2,
       "version_minor": 0
      },
      "text/plain": [
       "  0%|          | 0/3 [00:00<?, ?it/s]"
      ]
     },
     "metadata": {},
     "output_type": "display_data"
    },
    {
     "name": "stdout",
     "output_type": "stream",
     "text": [
      "torch.Size([40, 10, 6])\n",
      "torch.Size([40, 13, 6])\n",
      "torch.Size([11, 11, 6])\n",
      "334\n",
      "train_loss -0.26868582765261334\n",
      "val_loss 59.47953\n"
     ]
    },
    {
     "data": {
      "application/vnd.jupyter.widget-view+json": {
       "model_id": "0a5cecbc88c740dca6e4f837fecbf2b1",
       "version_major": 2,
       "version_minor": 0
      },
      "text/plain": [
       "  0%|          | 0/3 [00:00<?, ?it/s]"
      ]
     },
     "metadata": {},
     "output_type": "display_data"
    },
    {
     "name": "stdout",
     "output_type": "stream",
     "text": [
      "torch.Size([40, 6, 6])\n",
      "torch.Size([40, 10, 6])\n",
      "torch.Size([11, 5, 6])\n",
      "335\n",
      "train_loss -0.4652346571286519\n",
      "val_loss 59.124832\n"
     ]
    },
    {
     "data": {
      "application/vnd.jupyter.widget-view+json": {
       "model_id": "f8699e29ad46425db8216d64f442424f",
       "version_major": 2,
       "version_minor": 0
      },
      "text/plain": [
       "  0%|          | 0/3 [00:00<?, ?it/s]"
      ]
     },
     "metadata": {},
     "output_type": "display_data"
    },
    {
     "name": "stdout",
     "output_type": "stream",
     "text": [
      "torch.Size([40, 8, 6])\n",
      "torch.Size([40, 7, 6])\n",
      "torch.Size([11, 5, 6])\n",
      "336\n",
      "train_loss -0.4791922966639201\n",
      "val_loss 58.703712\n"
     ]
    },
    {
     "data": {
      "application/vnd.jupyter.widget-view+json": {
       "model_id": "87a02af093114efa98d1693fe9b7fab5",
       "version_major": 2,
       "version_minor": 0
      },
      "text/plain": [
       "  0%|          | 0/3 [00:00<?, ?it/s]"
      ]
     },
     "metadata": {},
     "output_type": "display_data"
    },
    {
     "name": "stdout",
     "output_type": "stream",
     "text": [
      "torch.Size([40, 10, 6])\n",
      "torch.Size([40, 10, 6])\n",
      "torch.Size([11, 13, 6])\n",
      "337\n",
      "train_loss -0.06117753187815348\n",
      "val_loss 58.397697\n"
     ]
    },
    {
     "data": {
      "application/vnd.jupyter.widget-view+json": {
       "model_id": "6a41fabb50f145f4aa6dc987687a87a9",
       "version_major": 2,
       "version_minor": 0
      },
      "text/plain": [
       "  0%|          | 0/3 [00:00<?, ?it/s]"
      ]
     },
     "metadata": {},
     "output_type": "display_data"
    },
    {
     "name": "stdout",
     "output_type": "stream",
     "text": [
      "torch.Size([40, 9, 6])\n",
      "torch.Size([40, 9, 6])\n",
      "torch.Size([11, 10, 6])\n",
      "338\n",
      "train_loss -0.6116840640703837\n",
      "val_loss 58.41044\n"
     ]
    },
    {
     "data": {
      "application/vnd.jupyter.widget-view+json": {
       "model_id": "11257b42a51f483db7e6f2b89cfd73db",
       "version_major": 2,
       "version_minor": 0
      },
      "text/plain": [
       "  0%|          | 0/3 [00:00<?, ?it/s]"
      ]
     },
     "metadata": {},
     "output_type": "display_data"
    },
    {
     "name": "stdout",
     "output_type": "stream",
     "text": [
      "torch.Size([40, 8, 6])\n",
      "torch.Size([40, 8, 6])\n",
      "torch.Size([11, 4, 6])\n",
      "339\n",
      "train_loss -0.5897554357846578\n",
      "val_loss 58.589382\n"
     ]
    },
    {
     "data": {
      "application/vnd.jupyter.widget-view+json": {
       "model_id": "91ae606b2acc40238717d575575f3d32",
       "version_major": 2,
       "version_minor": 0
      },
      "text/plain": [
       "  0%|          | 0/3 [00:00<?, ?it/s]"
      ]
     },
     "metadata": {},
     "output_type": "display_data"
    },
    {
     "name": "stdout",
     "output_type": "stream",
     "text": [
      "torch.Size([40, 7, 6])\n",
      "torch.Size([40, 12, 6])\n",
      "torch.Size([11, 4, 6])\n",
      "340\n",
      "train_loss -0.34857745468616486\n",
      "val_loss 59.005955\n"
     ]
    },
    {
     "data": {
      "application/vnd.jupyter.widget-view+json": {
       "model_id": "3760d00a50bf499eb2dbf3fe7f85024b",
       "version_major": 2,
       "version_minor": 0
      },
      "text/plain": [
       "  0%|          | 0/3 [00:00<?, ?it/s]"
      ]
     },
     "metadata": {},
     "output_type": "display_data"
    },
    {
     "name": "stdout",
     "output_type": "stream",
     "text": [
      "torch.Size([40, 9, 6])\n",
      "torch.Size([40, 13, 6])\n",
      "torch.Size([11, 10, 6])\n",
      "341\n",
      "train_loss -0.6289830009142557\n",
      "val_loss 58.642353\n"
     ]
    },
    {
     "data": {
      "application/vnd.jupyter.widget-view+json": {
       "model_id": "97a0d9067a614955b9e6a1006b77ac91",
       "version_major": 2,
       "version_minor": 0
      },
      "text/plain": [
       "  0%|          | 0/3 [00:00<?, ?it/s]"
      ]
     },
     "metadata": {},
     "output_type": "display_data"
    },
    {
     "name": "stdout",
     "output_type": "stream",
     "text": [
      "torch.Size([40, 8, 6])\n",
      "torch.Size([40, 14, 6])\n",
      "torch.Size([11, 13, 6])\n",
      "342\n",
      "train_loss -0.28737472494443256\n",
      "val_loss 58.278214\n"
     ]
    },
    {
     "data": {
      "application/vnd.jupyter.widget-view+json": {
       "model_id": "b6922b8423f14060b1794a5b69c158c6",
       "version_major": 2,
       "version_minor": 0
      },
      "text/plain": [
       "  0%|          | 0/3 [00:00<?, ?it/s]"
      ]
     },
     "metadata": {},
     "output_type": "display_data"
    },
    {
     "name": "stdout",
     "output_type": "stream",
     "text": [
      "torch.Size([40, 10, 6])\n",
      "torch.Size([40, 8, 6])\n",
      "torch.Size([11, 7, 6])\n",
      "343\n",
      "train_loss -0.48594731589158374\n",
      "val_loss 58.904015\n"
     ]
    },
    {
     "data": {
      "application/vnd.jupyter.widget-view+json": {
       "model_id": "d9fa1da1665c43c2a58f285814287444",
       "version_major": 2,
       "version_minor": 0
      },
      "text/plain": [
       "  0%|          | 0/3 [00:00<?, ?it/s]"
      ]
     },
     "metadata": {},
     "output_type": "display_data"
    },
    {
     "name": "stdout",
     "output_type": "stream",
     "text": [
      "torch.Size([40, 7, 6])\n",
      "torch.Size([40, 9, 6])\n",
      "torch.Size([11, 5, 6])\n",
      "344\n",
      "train_loss -0.6478588183720907\n",
      "val_loss 59.745823\n"
     ]
    },
    {
     "data": {
      "application/vnd.jupyter.widget-view+json": {
       "model_id": "b071a5ebe40c40e584707b7036481c25",
       "version_major": 2,
       "version_minor": 0
      },
      "text/plain": [
       "  0%|          | 0/3 [00:00<?, ?it/s]"
      ]
     },
     "metadata": {},
     "output_type": "display_data"
    },
    {
     "name": "stdout",
     "output_type": "stream",
     "text": [
      "torch.Size([40, 5, 6])\n",
      "torch.Size([40, 12, 6])\n",
      "torch.Size([11, 12, 6])\n",
      "345\n",
      "train_loss -0.6130436062812805\n",
      "val_loss 60.211163\n"
     ]
    },
    {
     "data": {
      "application/vnd.jupyter.widget-view+json": {
       "model_id": "79f9ef683b9a49b28495c3833a1e402b",
       "version_major": 2,
       "version_minor": 0
      },
      "text/plain": [
       "  0%|          | 0/3 [00:00<?, ?it/s]"
      ]
     },
     "metadata": {},
     "output_type": "display_data"
    },
    {
     "name": "stdout",
     "output_type": "stream",
     "text": [
      "torch.Size([40, 12, 6])\n",
      "torch.Size([40, 13, 6])\n",
      "torch.Size([11, 9, 6])\n",
      "346\n",
      "train_loss -0.2609899441401164\n",
      "val_loss 59.589737\n"
     ]
    },
    {
     "data": {
      "application/vnd.jupyter.widget-view+json": {
       "model_id": "a6df9af572844f2fac8d40ec30ed4bb4",
       "version_major": 2,
       "version_minor": 0
      },
      "text/plain": [
       "  0%|          | 0/3 [00:00<?, ?it/s]"
      ]
     },
     "metadata": {},
     "output_type": "display_data"
    },
    {
     "name": "stdout",
     "output_type": "stream",
     "text": [
      "torch.Size([40, 4, 6])\n",
      "torch.Size([40, 9, 6])\n",
      "torch.Size([11, 13, 6])\n",
      "347\n",
      "train_loss -0.6406000455220541\n",
      "val_loss 59.205948\n"
     ]
    },
    {
     "data": {
      "application/vnd.jupyter.widget-view+json": {
       "model_id": "0f0f93d30d6c480e8e3b667980ae042b",
       "version_major": 2,
       "version_minor": 0
      },
      "text/plain": [
       "  0%|          | 0/3 [00:00<?, ?it/s]"
      ]
     },
     "metadata": {},
     "output_type": "display_data"
    },
    {
     "name": "stdout",
     "output_type": "stream",
     "text": [
      "torch.Size([40, 7, 6])\n",
      "torch.Size([40, 14, 6])\n",
      "torch.Size([11, 7, 6])\n",
      "348\n",
      "train_loss -0.6023440957069397\n",
      "val_loss 59.649746\n"
     ]
    },
    {
     "data": {
      "application/vnd.jupyter.widget-view+json": {
       "model_id": "ee28c46f87ee4778bf508c0c0154c301",
       "version_major": 2,
       "version_minor": 0
      },
      "text/plain": [
       "  0%|          | 0/3 [00:00<?, ?it/s]"
      ]
     },
     "metadata": {},
     "output_type": "display_data"
    },
    {
     "name": "stdout",
     "output_type": "stream",
     "text": [
      "torch.Size([40, 8, 6])\n",
      "torch.Size([40, 4, 6])\n",
      "torch.Size([11, 10, 6])\n",
      "349\n",
      "train_loss -0.19208200772603354\n",
      "val_loss 60.985207\n"
     ]
    },
    {
     "data": {
      "application/vnd.jupyter.widget-view+json": {
       "model_id": "adce3859b2d54a77a1963e3a1bea8ab8",
       "version_major": 2,
       "version_minor": 0
      },
      "text/plain": [
       "  0%|          | 0/3 [00:00<?, ?it/s]"
      ]
     },
     "metadata": {},
     "output_type": "display_data"
    },
    {
     "name": "stdout",
     "output_type": "stream",
     "text": [
      "torch.Size([40, 8, 6])\n",
      "torch.Size([40, 8, 6])\n",
      "torch.Size([11, 8, 6])\n",
      "350\n",
      "train_loss -0.5401837627092997\n",
      "val_loss 61.122356\n"
     ]
    },
    {
     "data": {
      "application/vnd.jupyter.widget-view+json": {
       "model_id": "b53537ba90fd4322a4b95b7c97f34247",
       "version_major": 2,
       "version_minor": 0
      },
      "text/plain": [
       "  0%|          | 0/3 [00:00<?, ?it/s]"
      ]
     },
     "metadata": {},
     "output_type": "display_data"
    },
    {
     "name": "stdout",
     "output_type": "stream",
     "text": [
      "torch.Size([40, 5, 6])\n",
      "torch.Size([40, 6, 6])\n",
      "torch.Size([11, 6, 6])\n",
      "351\n",
      "train_loss -0.692916214466095\n",
      "val_loss 60.44513\n"
     ]
    },
    {
     "data": {
      "application/vnd.jupyter.widget-view+json": {
       "model_id": "e09d3636a09b4df09cf4664da5db40cd",
       "version_major": 2,
       "version_minor": 0
      },
      "text/plain": [
       "  0%|          | 0/3 [00:00<?, ?it/s]"
      ]
     },
     "metadata": {},
     "output_type": "display_data"
    },
    {
     "name": "stdout",
     "output_type": "stream",
     "text": [
      "torch.Size([40, 12, 6])\n",
      "torch.Size([40, 11, 6])\n",
      "torch.Size([11, 10, 6])\n",
      "352\n",
      "train_loss -0.7320767641067505\n",
      "val_loss 60.298172\n"
     ]
    },
    {
     "data": {
      "application/vnd.jupyter.widget-view+json": {
       "model_id": "38ad75f8a88f41728a72397c48906bfb",
       "version_major": 2,
       "version_minor": 0
      },
      "text/plain": [
       "  0%|          | 0/3 [00:00<?, ?it/s]"
      ]
     },
     "metadata": {},
     "output_type": "display_data"
    },
    {
     "name": "stdout",
     "output_type": "stream",
     "text": [
      "torch.Size([40, 9, 6])\n",
      "torch.Size([40, 5, 6])\n",
      "torch.Size([11, 4, 6])\n",
      "353\n",
      "train_loss -0.6029075582822164\n",
      "val_loss 60.321564\n"
     ]
    },
    {
     "data": {
      "application/vnd.jupyter.widget-view+json": {
       "model_id": "fc0b2e81dc364c439d8622caaa459375",
       "version_major": 2,
       "version_minor": 0
      },
      "text/plain": [
       "  0%|          | 0/3 [00:00<?, ?it/s]"
      ]
     },
     "metadata": {},
     "output_type": "display_data"
    },
    {
     "name": "stdout",
     "output_type": "stream",
     "text": [
      "torch.Size([40, 6, 6])\n",
      "torch.Size([40, 6, 6])\n",
      "torch.Size([11, 14, 6])\n",
      "354\n",
      "train_loss -0.6362113157908121\n",
      "val_loss 59.99621\n"
     ]
    },
    {
     "data": {
      "application/vnd.jupyter.widget-view+json": {
       "model_id": "b18f2d9e8649492598364a3fe216086f",
       "version_major": 2,
       "version_minor": 0
      },
      "text/plain": [
       "  0%|          | 0/3 [00:00<?, ?it/s]"
      ]
     },
     "metadata": {},
     "output_type": "display_data"
    },
    {
     "name": "stdout",
     "output_type": "stream",
     "text": [
      "torch.Size([40, 5, 6])\n",
      "torch.Size([40, 7, 6])\n",
      "torch.Size([11, 4, 6])\n",
      "355\n",
      "train_loss -0.48294345537821454\n",
      "val_loss 59.641884\n"
     ]
    },
    {
     "data": {
      "application/vnd.jupyter.widget-view+json": {
       "model_id": "365e5f0cf47b4deeb839871bfaf444ca",
       "version_major": 2,
       "version_minor": 0
      },
      "text/plain": [
       "  0%|          | 0/3 [00:00<?, ?it/s]"
      ]
     },
     "metadata": {},
     "output_type": "display_data"
    },
    {
     "name": "stdout",
     "output_type": "stream",
     "text": [
      "torch.Size([40, 12, 6])\n",
      "torch.Size([40, 10, 6])\n",
      "torch.Size([11, 9, 6])\n",
      "356\n",
      "train_loss -0.48214766507347423\n",
      "val_loss 59.220783\n"
     ]
    },
    {
     "data": {
      "application/vnd.jupyter.widget-view+json": {
       "model_id": "4c497c3ffa5948eaacb6b044a01b5812",
       "version_major": 2,
       "version_minor": 0
      },
      "text/plain": [
       "  0%|          | 0/3 [00:00<?, ?it/s]"
      ]
     },
     "metadata": {},
     "output_type": "display_data"
    },
    {
     "name": "stdout",
     "output_type": "stream",
     "text": [
      "torch.Size([40, 11, 6])\n",
      "torch.Size([40, 8, 6])\n",
      "torch.Size([11, 13, 6])\n",
      "357\n",
      "train_loss -0.07052592436472575\n",
      "val_loss 59.504784\n"
     ]
    },
    {
     "data": {
      "application/vnd.jupyter.widget-view+json": {
       "model_id": "563a30b681654330a18fbc51d77841bd",
       "version_major": 2,
       "version_minor": 0
      },
      "text/plain": [
       "  0%|          | 0/3 [00:00<?, ?it/s]"
      ]
     },
     "metadata": {},
     "output_type": "display_data"
    },
    {
     "name": "stdout",
     "output_type": "stream",
     "text": [
      "torch.Size([40, 7, 6])\n",
      "torch.Size([40, 13, 6])\n",
      "torch.Size([11, 12, 6])\n",
      "358\n",
      "train_loss 0.09540379047393799\n",
      "val_loss 59.938572\n"
     ]
    },
    {
     "data": {
      "application/vnd.jupyter.widget-view+json": {
       "model_id": "977653a9c6554b459e1f2cd3f4487728",
       "version_major": 2,
       "version_minor": 0
      },
      "text/plain": [
       "  0%|          | 0/3 [00:00<?, ?it/s]"
      ]
     },
     "metadata": {},
     "output_type": "display_data"
    },
    {
     "name": "stdout",
     "output_type": "stream",
     "text": [
      "torch.Size([40, 7, 6])\n",
      "torch.Size([40, 14, 6])\n",
      "torch.Size([11, 13, 6])\n",
      "359\n",
      "train_loss -0.45482271909713745\n",
      "val_loss 59.854305\n"
     ]
    },
    {
     "data": {
      "application/vnd.jupyter.widget-view+json": {
       "model_id": "21df3b560fef4b98a8a001957b83e016",
       "version_major": 2,
       "version_minor": 0
      },
      "text/plain": [
       "  0%|          | 0/3 [00:00<?, ?it/s]"
      ]
     },
     "metadata": {},
     "output_type": "display_data"
    },
    {
     "name": "stdout",
     "output_type": "stream",
     "text": [
      "torch.Size([40, 4, 6])\n",
      "torch.Size([40, 5, 6])\n",
      "torch.Size([11, 11, 6])\n",
      "360\n",
      "train_loss -0.5215696493784586\n",
      "val_loss 59.76296\n"
     ]
    },
    {
     "data": {
      "application/vnd.jupyter.widget-view+json": {
       "model_id": "46cca4da66104ce08a96d7b6079803ca",
       "version_major": 2,
       "version_minor": 0
      },
      "text/plain": [
       "  0%|          | 0/3 [00:00<?, ?it/s]"
      ]
     },
     "metadata": {},
     "output_type": "display_data"
    },
    {
     "name": "stdout",
     "output_type": "stream",
     "text": [
      "torch.Size([40, 11, 6])\n",
      "torch.Size([40, 9, 6])\n",
      "torch.Size([11, 8, 6])\n",
      "361\n",
      "train_loss -0.3107704073190689\n",
      "val_loss 59.795685\n"
     ]
    },
    {
     "data": {
      "application/vnd.jupyter.widget-view+json": {
       "model_id": "d31cb09b2fd947969f517a02c7fb04c6",
       "version_major": 2,
       "version_minor": 0
      },
      "text/plain": [
       "  0%|          | 0/3 [00:00<?, ?it/s]"
      ]
     },
     "metadata": {},
     "output_type": "display_data"
    },
    {
     "name": "stdout",
     "output_type": "stream",
     "text": [
      "torch.Size([40, 6, 6])\n",
      "torch.Size([40, 14, 6])\n",
      "torch.Size([11, 11, 6])\n",
      "362\n",
      "train_loss -0.5413262248039246\n",
      "val_loss 59.367226\n"
     ]
    },
    {
     "data": {
      "application/vnd.jupyter.widget-view+json": {
       "model_id": "9c478cb12a0940b9b53831b1a4de0a4a",
       "version_major": 2,
       "version_minor": 0
      },
      "text/plain": [
       "  0%|          | 0/3 [00:00<?, ?it/s]"
      ]
     },
     "metadata": {},
     "output_type": "display_data"
    },
    {
     "name": "stdout",
     "output_type": "stream",
     "text": [
      "torch.Size([40, 4, 6])\n",
      "torch.Size([40, 7, 6])\n",
      "torch.Size([11, 6, 6])\n",
      "363\n",
      "train_loss -0.6045143604278564\n",
      "val_loss 58.980858\n"
     ]
    },
    {
     "data": {
      "application/vnd.jupyter.widget-view+json": {
       "model_id": "858fb65e574346f6bc0ef4886d282ab0",
       "version_major": 2,
       "version_minor": 0
      },
      "text/plain": [
       "  0%|          | 0/3 [00:00<?, ?it/s]"
      ]
     },
     "metadata": {},
     "output_type": "display_data"
    },
    {
     "name": "stdout",
     "output_type": "stream",
     "text": [
      "torch.Size([40, 13, 6])\n",
      "torch.Size([40, 11, 6])\n",
      "torch.Size([11, 8, 6])\n",
      "364\n",
      "train_loss -0.22454851865768433\n",
      "val_loss 59.093254\n"
     ]
    },
    {
     "data": {
      "application/vnd.jupyter.widget-view+json": {
       "model_id": "128ee58f74154b5cae3520b5f7e11f5d",
       "version_major": 2,
       "version_minor": 0
      },
      "text/plain": [
       "  0%|          | 0/3 [00:00<?, ?it/s]"
      ]
     },
     "metadata": {},
     "output_type": "display_data"
    },
    {
     "name": "stdout",
     "output_type": "stream",
     "text": [
      "torch.Size([40, 13, 6])\n",
      "torch.Size([40, 8, 6])\n",
      "torch.Size([11, 4, 6])\n",
      "365\n",
      "train_loss -0.5101535518964132\n",
      "val_loss 59.258446\n"
     ]
    },
    {
     "data": {
      "application/vnd.jupyter.widget-view+json": {
       "model_id": "af7e223787734374aba93a1172dc05e9",
       "version_major": 2,
       "version_minor": 0
      },
      "text/plain": [
       "  0%|          | 0/3 [00:00<?, ?it/s]"
      ]
     },
     "metadata": {},
     "output_type": "display_data"
    },
    {
     "name": "stdout",
     "output_type": "stream",
     "text": [
      "torch.Size([40, 9, 6])\n",
      "torch.Size([40, 10, 6])\n",
      "torch.Size([11, 9, 6])\n",
      "366\n",
      "train_loss -0.5629583100477854\n",
      "val_loss 59.06371\n"
     ]
    },
    {
     "data": {
      "application/vnd.jupyter.widget-view+json": {
       "model_id": "f70f11e549054ebea03e0eb4ea95b0be",
       "version_major": 2,
       "version_minor": 0
      },
      "text/plain": [
       "  0%|          | 0/3 [00:00<?, ?it/s]"
      ]
     },
     "metadata": {},
     "output_type": "display_data"
    },
    {
     "name": "stdout",
     "output_type": "stream",
     "text": [
      "torch.Size([40, 6, 6])\n",
      "torch.Size([40, 4, 6])\n",
      "torch.Size([11, 11, 6])\n",
      "367\n",
      "train_loss -0.5135033329327902\n",
      "val_loss 58.988255\n"
     ]
    },
    {
     "data": {
      "application/vnd.jupyter.widget-view+json": {
       "model_id": "0284bca554ba4ddda487edc4acbd7544",
       "version_major": 2,
       "version_minor": 0
      },
      "text/plain": [
       "  0%|          | 0/3 [00:00<?, ?it/s]"
      ]
     },
     "metadata": {},
     "output_type": "display_data"
    },
    {
     "name": "stdout",
     "output_type": "stream",
     "text": [
      "torch.Size([40, 7, 6])\n",
      "torch.Size([40, 11, 6])\n",
      "torch.Size([11, 14, 6])\n",
      "368\n",
      "train_loss -0.5654421448707581\n",
      "val_loss 58.999138\n"
     ]
    },
    {
     "data": {
      "application/vnd.jupyter.widget-view+json": {
       "model_id": "b44df889d0d3427095d8f228ae075aba",
       "version_major": 2,
       "version_minor": 0
      },
      "text/plain": [
       "  0%|          | 0/3 [00:00<?, ?it/s]"
      ]
     },
     "metadata": {},
     "output_type": "display_data"
    },
    {
     "name": "stdout",
     "output_type": "stream",
     "text": [
      "torch.Size([40, 9, 6])\n",
      "torch.Size([40, 5, 6])\n",
      "torch.Size([11, 12, 6])\n",
      "369\n",
      "train_loss -0.5995178918043772\n",
      "val_loss 59.195724\n"
     ]
    },
    {
     "data": {
      "application/vnd.jupyter.widget-view+json": {
       "model_id": "62616cddd5134ccdb5b64fada20637da",
       "version_major": 2,
       "version_minor": 0
      },
      "text/plain": [
       "  0%|          | 0/3 [00:00<?, ?it/s]"
      ]
     },
     "metadata": {},
     "output_type": "display_data"
    },
    {
     "name": "stdout",
     "output_type": "stream",
     "text": [
      "torch.Size([40, 9, 6])\n",
      "torch.Size([40, 9, 6])\n",
      "torch.Size([11, 14, 6])\n",
      "370\n",
      "train_loss -0.22829198837280273\n",
      "val_loss 58.925957\n"
     ]
    },
    {
     "data": {
      "application/vnd.jupyter.widget-view+json": {
       "model_id": "d0915c38bdd940d1885166b40ab8f2c8",
       "version_major": 2,
       "version_minor": 0
      },
      "text/plain": [
       "  0%|          | 0/3 [00:00<?, ?it/s]"
      ]
     },
     "metadata": {},
     "output_type": "display_data"
    },
    {
     "name": "stdout",
     "output_type": "stream",
     "text": [
      "torch.Size([40, 9, 6])\n",
      "torch.Size([40, 10, 6])\n",
      "torch.Size([11, 6, 6])\n",
      "371\n",
      "train_loss -0.5902137259642283\n",
      "val_loss 58.98172\n"
     ]
    },
    {
     "data": {
      "application/vnd.jupyter.widget-view+json": {
       "model_id": "ce1b4db0c3784458ad684d9df0fe37e0",
       "version_major": 2,
       "version_minor": 0
      },
      "text/plain": [
       "  0%|          | 0/3 [00:00<?, ?it/s]"
      ]
     },
     "metadata": {},
     "output_type": "display_data"
    },
    {
     "name": "stdout",
     "output_type": "stream",
     "text": [
      "torch.Size([40, 7, 6])\n",
      "torch.Size([40, 14, 6])\n",
      "torch.Size([11, 6, 6])\n",
      "372\n",
      "train_loss -0.48597539961338043\n",
      "val_loss 59.093235\n"
     ]
    },
    {
     "data": {
      "application/vnd.jupyter.widget-view+json": {
       "model_id": "0c9dc40298c74446861f75a1622eead2",
       "version_major": 2,
       "version_minor": 0
      },
      "text/plain": [
       "  0%|          | 0/3 [00:00<?, ?it/s]"
      ]
     },
     "metadata": {},
     "output_type": "display_data"
    },
    {
     "name": "stdout",
     "output_type": "stream",
     "text": [
      "torch.Size([40, 8, 6])\n",
      "torch.Size([40, 14, 6])\n",
      "torch.Size([11, 6, 6])\n",
      "373\n",
      "train_loss -0.5414592598875364\n",
      "val_loss 59.183674\n"
     ]
    },
    {
     "data": {
      "application/vnd.jupyter.widget-view+json": {
       "model_id": "515c89527f55465285c8febed429e05b",
       "version_major": 2,
       "version_minor": 0
      },
      "text/plain": [
       "  0%|          | 0/3 [00:00<?, ?it/s]"
      ]
     },
     "metadata": {},
     "output_type": "display_data"
    },
    {
     "name": "stdout",
     "output_type": "stream",
     "text": [
      "torch.Size([40, 9, 6])\n",
      "torch.Size([40, 14, 6])\n",
      "torch.Size([11, 13, 6])\n",
      "374\n",
      "train_loss -0.6497095227241516\n",
      "val_loss 60.01369\n"
     ]
    },
    {
     "data": {
      "application/vnd.jupyter.widget-view+json": {
       "model_id": "70e0e0bf4a3f4e55beae101d75c45097",
       "version_major": 2,
       "version_minor": 0
      },
      "text/plain": [
       "  0%|          | 0/3 [00:00<?, ?it/s]"
      ]
     },
     "metadata": {},
     "output_type": "display_data"
    },
    {
     "name": "stdout",
     "output_type": "stream",
     "text": [
      "torch.Size([40, 10, 6])\n",
      "torch.Size([40, 10, 6])\n",
      "torch.Size([11, 10, 6])\n",
      "375\n",
      "train_loss -0.6355350116888682\n",
      "val_loss 60.61837\n"
     ]
    },
    {
     "data": {
      "application/vnd.jupyter.widget-view+json": {
       "model_id": "85f82e7fe0ad4b51a983615849409474",
       "version_major": 2,
       "version_minor": 0
      },
      "text/plain": [
       "  0%|          | 0/3 [00:00<?, ?it/s]"
      ]
     },
     "metadata": {},
     "output_type": "display_data"
    },
    {
     "name": "stdout",
     "output_type": "stream",
     "text": [
      "torch.Size([40, 14, 6])\n",
      "torch.Size([40, 7, 6])\n",
      "torch.Size([11, 10, 6])\n",
      "376\n",
      "train_loss -0.6990362803141276\n",
      "val_loss 60.46414\n"
     ]
    },
    {
     "data": {
      "application/vnd.jupyter.widget-view+json": {
       "model_id": "8325c14d1f1746c8b7d6bb9444e2b53b",
       "version_major": 2,
       "version_minor": 0
      },
      "text/plain": [
       "  0%|          | 0/3 [00:00<?, ?it/s]"
      ]
     },
     "metadata": {},
     "output_type": "display_data"
    },
    {
     "name": "stdout",
     "output_type": "stream",
     "text": [
      "torch.Size([40, 11, 6])\n",
      "torch.Size([40, 14, 6])\n",
      "torch.Size([11, 4, 6])\n",
      "377\n",
      "train_loss -0.4234172850847244\n",
      "val_loss 59.716003\n"
     ]
    },
    {
     "data": {
      "application/vnd.jupyter.widget-view+json": {
       "model_id": "148b2ca4fcbf4a898fef75e648377e07",
       "version_major": 2,
       "version_minor": 0
      },
      "text/plain": [
       "  0%|          | 0/3 [00:00<?, ?it/s]"
      ]
     },
     "metadata": {},
     "output_type": "display_data"
    },
    {
     "name": "stdout",
     "output_type": "stream",
     "text": [
      "torch.Size([40, 12, 6])\n",
      "torch.Size([40, 12, 6])\n",
      "torch.Size([11, 13, 6])\n",
      "378\n",
      "train_loss -0.6866116523742676\n",
      "val_loss 58.957108\n"
     ]
    },
    {
     "data": {
      "application/vnd.jupyter.widget-view+json": {
       "model_id": "c9cf052f62c04fc1b8248e5e131231d9",
       "version_major": 2,
       "version_minor": 0
      },
      "text/plain": [
       "  0%|          | 0/3 [00:00<?, ?it/s]"
      ]
     },
     "metadata": {},
     "output_type": "display_data"
    },
    {
     "name": "stdout",
     "output_type": "stream",
     "text": [
      "torch.Size([40, 14, 6])\n",
      "torch.Size([40, 7, 6])\n",
      "torch.Size([11, 14, 6])\n",
      "379\n",
      "train_loss -0.43304723997910816\n",
      "val_loss 58.70866\n"
     ]
    },
    {
     "data": {
      "application/vnd.jupyter.widget-view+json": {
       "model_id": "44cd8648f5e343acb3326d8ea358f82a",
       "version_major": 2,
       "version_minor": 0
      },
      "text/plain": [
       "  0%|          | 0/3 [00:00<?, ?it/s]"
      ]
     },
     "metadata": {},
     "output_type": "display_data"
    },
    {
     "name": "stdout",
     "output_type": "stream",
     "text": [
      "torch.Size([40, 4, 6])\n",
      "torch.Size([40, 8, 6])\n",
      "torch.Size([11, 11, 6])\n",
      "380\n",
      "train_loss -0.6443966627120972\n",
      "val_loss 59.189327\n"
     ]
    },
    {
     "data": {
      "application/vnd.jupyter.widget-view+json": {
       "model_id": "3a936e62f56d444c9a944ec8b58ad9cd",
       "version_major": 2,
       "version_minor": 0
      },
      "text/plain": [
       "  0%|          | 0/3 [00:00<?, ?it/s]"
      ]
     },
     "metadata": {},
     "output_type": "display_data"
    },
    {
     "name": "stdout",
     "output_type": "stream",
     "text": [
      "torch.Size([40, 8, 6])\n",
      "torch.Size([40, 8, 6])\n",
      "torch.Size([11, 4, 6])\n",
      "381\n",
      "train_loss 0.12596527735392252\n",
      "val_loss 59.0033\n"
     ]
    },
    {
     "data": {
      "application/vnd.jupyter.widget-view+json": {
       "model_id": "af4dfc3ab7324f27a387b8586b98afba",
       "version_major": 2,
       "version_minor": 0
      },
      "text/plain": [
       "  0%|          | 0/3 [00:00<?, ?it/s]"
      ]
     },
     "metadata": {},
     "output_type": "display_data"
    },
    {
     "name": "stdout",
     "output_type": "stream",
     "text": [
      "torch.Size([40, 13, 6])\n",
      "torch.Size([40, 9, 6])\n",
      "torch.Size([11, 5, 6])\n",
      "382\n",
      "train_loss -0.5708280205726624\n",
      "val_loss 58.575138\n"
     ]
    },
    {
     "data": {
      "application/vnd.jupyter.widget-view+json": {
       "model_id": "f25752387f3b45bc9f01f4539831510d",
       "version_major": 2,
       "version_minor": 0
      },
      "text/plain": [
       "  0%|          | 0/3 [00:00<?, ?it/s]"
      ]
     },
     "metadata": {},
     "output_type": "display_data"
    },
    {
     "name": "stdout",
     "output_type": "stream",
     "text": [
      "torch.Size([40, 12, 6])\n",
      "torch.Size([40, 11, 6])\n",
      "torch.Size([11, 6, 6])\n",
      "383\n",
      "train_loss -0.37250931064287823\n",
      "val_loss 58.6108\n"
     ]
    },
    {
     "data": {
      "application/vnd.jupyter.widget-view+json": {
       "model_id": "cd7c9d39dcff45ffaf795107aedb7aef",
       "version_major": 2,
       "version_minor": 0
      },
      "text/plain": [
       "  0%|          | 0/3 [00:00<?, ?it/s]"
      ]
     },
     "metadata": {},
     "output_type": "display_data"
    },
    {
     "name": "stdout",
     "output_type": "stream",
     "text": [
      "torch.Size([40, 7, 6])\n",
      "torch.Size([40, 10, 6])\n",
      "torch.Size([11, 8, 6])\n",
      "384\n",
      "train_loss -0.4882735535502434\n",
      "val_loss 59.01458\n"
     ]
    },
    {
     "data": {
      "application/vnd.jupyter.widget-view+json": {
       "model_id": "56123488e44247bf9d1b085a70acb530",
       "version_major": 2,
       "version_minor": 0
      },
      "text/plain": [
       "  0%|          | 0/3 [00:00<?, ?it/s]"
      ]
     },
     "metadata": {},
     "output_type": "display_data"
    },
    {
     "name": "stdout",
     "output_type": "stream",
     "text": [
      "torch.Size([40, 11, 6])\n",
      "torch.Size([40, 5, 6])\n",
      "torch.Size([11, 11, 6])\n",
      "385\n",
      "train_loss -0.6359762748082479\n",
      "val_loss 59.448914\n"
     ]
    },
    {
     "data": {
      "application/vnd.jupyter.widget-view+json": {
       "model_id": "abdb44418c244319971be96b44c1a2ee",
       "version_major": 2,
       "version_minor": 0
      },
      "text/plain": [
       "  0%|          | 0/3 [00:00<?, ?it/s]"
      ]
     },
     "metadata": {},
     "output_type": "display_data"
    },
    {
     "name": "stdout",
     "output_type": "stream",
     "text": [
      "torch.Size([40, 9, 6])\n",
      "torch.Size([40, 14, 6])\n",
      "torch.Size([11, 12, 6])\n",
      "386\n",
      "train_loss -0.32587674260139465\n",
      "val_loss 59.371086\n"
     ]
    },
    {
     "data": {
      "application/vnd.jupyter.widget-view+json": {
       "model_id": "e75cf631edd647418d8c1dba92b18ed8",
       "version_major": 2,
       "version_minor": 0
      },
      "text/plain": [
       "  0%|          | 0/3 [00:00<?, ?it/s]"
      ]
     },
     "metadata": {},
     "output_type": "display_data"
    },
    {
     "name": "stdout",
     "output_type": "stream",
     "text": [
      "torch.Size([40, 8, 6])\n",
      "torch.Size([40, 4, 6])\n",
      "torch.Size([11, 13, 6])\n",
      "387\n",
      "train_loss -0.6385078032811483\n",
      "val_loss 59.511086\n"
     ]
    },
    {
     "data": {
      "application/vnd.jupyter.widget-view+json": {
       "model_id": "e47b5462a0bf467b8d12d990bf42f737",
       "version_major": 2,
       "version_minor": 0
      },
      "text/plain": [
       "  0%|          | 0/3 [00:00<?, ?it/s]"
      ]
     },
     "metadata": {},
     "output_type": "display_data"
    },
    {
     "name": "stdout",
     "output_type": "stream",
     "text": [
      "torch.Size([40, 8, 6])\n",
      "torch.Size([40, 4, 6])\n",
      "torch.Size([11, 8, 6])\n",
      "388\n",
      "train_loss -0.5540842811266581\n",
      "val_loss 59.771397\n"
     ]
    },
    {
     "data": {
      "application/vnd.jupyter.widget-view+json": {
       "model_id": "7aca1b80ccfc42d3bcad4c42afeb46b3",
       "version_major": 2,
       "version_minor": 0
      },
      "text/plain": [
       "  0%|          | 0/3 [00:00<?, ?it/s]"
      ]
     },
     "metadata": {},
     "output_type": "display_data"
    },
    {
     "name": "stdout",
     "output_type": "stream",
     "text": [
      "torch.Size([40, 12, 6])\n",
      "torch.Size([40, 12, 6])\n",
      "torch.Size([11, 4, 6])\n",
      "389\n",
      "train_loss -0.45701902732253075\n",
      "val_loss 59.954758\n"
     ]
    },
    {
     "data": {
      "application/vnd.jupyter.widget-view+json": {
       "model_id": "6dcc27da6d56473ea9356c71030e45b3",
       "version_major": 2,
       "version_minor": 0
      },
      "text/plain": [
       "  0%|          | 0/3 [00:00<?, ?it/s]"
      ]
     },
     "metadata": {},
     "output_type": "display_data"
    },
    {
     "name": "stdout",
     "output_type": "stream",
     "text": [
      "torch.Size([40, 4, 6])\n",
      "torch.Size([40, 11, 6])\n",
      "torch.Size([11, 11, 6])\n",
      "390\n",
      "train_loss -0.5711926619211832\n",
      "val_loss 59.953777\n"
     ]
    },
    {
     "data": {
      "application/vnd.jupyter.widget-view+json": {
       "model_id": "8eb1f8202e894608a8b0f51e82736fc5",
       "version_major": 2,
       "version_minor": 0
      },
      "text/plain": [
       "  0%|          | 0/3 [00:00<?, ?it/s]"
      ]
     },
     "metadata": {},
     "output_type": "display_data"
    },
    {
     "name": "stdout",
     "output_type": "stream",
     "text": [
      "torch.Size([40, 13, 6])\n",
      "torch.Size([40, 12, 6])\n",
      "torch.Size([11, 8, 6])\n",
      "391\n",
      "train_loss -0.6824849049250284\n",
      "val_loss 59.67451\n"
     ]
    },
    {
     "data": {
      "application/vnd.jupyter.widget-view+json": {
       "model_id": "4f9d538989064643ba401991f0145309",
       "version_major": 2,
       "version_minor": 0
      },
      "text/plain": [
       "  0%|          | 0/3 [00:00<?, ?it/s]"
      ]
     },
     "metadata": {},
     "output_type": "display_data"
    },
    {
     "name": "stdout",
     "output_type": "stream",
     "text": [
      "torch.Size([40, 9, 6])\n",
      "torch.Size([40, 13, 6])\n",
      "torch.Size([11, 13, 6])\n",
      "392\n",
      "train_loss -0.6672577261924744\n",
      "val_loss 59.72299\n"
     ]
    },
    {
     "data": {
      "application/vnd.jupyter.widget-view+json": {
       "model_id": "3264d2f0776d47acb004681e570828a4",
       "version_major": 2,
       "version_minor": 0
      },
      "text/plain": [
       "  0%|          | 0/3 [00:00<?, ?it/s]"
      ]
     },
     "metadata": {},
     "output_type": "display_data"
    },
    {
     "name": "stdout",
     "output_type": "stream",
     "text": [
      "torch.Size([40, 12, 6])\n",
      "torch.Size([40, 13, 6])\n",
      "torch.Size([11, 13, 6])\n",
      "393\n",
      "train_loss -0.5639587243398031\n",
      "val_loss 59.08068\n"
     ]
    },
    {
     "data": {
      "application/vnd.jupyter.widget-view+json": {
       "model_id": "7020339037614824a3c1278635046598",
       "version_major": 2,
       "version_minor": 0
      },
      "text/plain": [
       "  0%|          | 0/3 [00:00<?, ?it/s]"
      ]
     },
     "metadata": {},
     "output_type": "display_data"
    },
    {
     "name": "stdout",
     "output_type": "stream",
     "text": [
      "torch.Size([40, 13, 6])\n",
      "torch.Size([40, 5, 6])\n",
      "torch.Size([11, 8, 6])\n",
      "394\n",
      "train_loss -0.5932864248752594\n",
      "val_loss 59.08216\n"
     ]
    },
    {
     "data": {
      "application/vnd.jupyter.widget-view+json": {
       "model_id": "35a0eb56875741319c3a347028a81985",
       "version_major": 2,
       "version_minor": 0
      },
      "text/plain": [
       "  0%|          | 0/3 [00:00<?, ?it/s]"
      ]
     },
     "metadata": {},
     "output_type": "display_data"
    },
    {
     "name": "stdout",
     "output_type": "stream",
     "text": [
      "torch.Size([40, 4, 6])\n",
      "torch.Size([40, 14, 6])\n",
      "torch.Size([11, 4, 6])\n",
      "395\n",
      "train_loss -0.5096055772155523\n",
      "val_loss 59.32633\n"
     ]
    },
    {
     "data": {
      "application/vnd.jupyter.widget-view+json": {
       "model_id": "62a8966a4283471ca601b18fbd04ae30",
       "version_major": 2,
       "version_minor": 0
      },
      "text/plain": [
       "  0%|          | 0/3 [00:00<?, ?it/s]"
      ]
     },
     "metadata": {},
     "output_type": "display_data"
    },
    {
     "name": "stdout",
     "output_type": "stream",
     "text": [
      "torch.Size([40, 11, 6])\n",
      "torch.Size([40, 8, 6])\n",
      "torch.Size([11, 6, 6])\n",
      "396\n",
      "train_loss -0.7686805923779806\n",
      "val_loss 59.47662\n"
     ]
    },
    {
     "data": {
      "application/vnd.jupyter.widget-view+json": {
       "model_id": "36b081eccdeb40e19937fdb6ff74ac0a",
       "version_major": 2,
       "version_minor": 0
      },
      "text/plain": [
       "  0%|          | 0/3 [00:00<?, ?it/s]"
      ]
     },
     "metadata": {},
     "output_type": "display_data"
    },
    {
     "name": "stdout",
     "output_type": "stream",
     "text": [
      "torch.Size([40, 13, 6])\n",
      "torch.Size([40, 9, 6])\n",
      "torch.Size([11, 6, 6])\n",
      "397\n",
      "train_loss -0.6324338714281718\n",
      "val_loss 58.983047\n"
     ]
    },
    {
     "data": {
      "application/vnd.jupyter.widget-view+json": {
       "model_id": "4a1ac21379bc477cad80aa4e59f6ef88",
       "version_major": 2,
       "version_minor": 0
      },
      "text/plain": [
       "  0%|          | 0/3 [00:00<?, ?it/s]"
      ]
     },
     "metadata": {},
     "output_type": "display_data"
    },
    {
     "name": "stdout",
     "output_type": "stream",
     "text": [
      "torch.Size([40, 7, 6])\n",
      "torch.Size([40, 11, 6])\n",
      "torch.Size([11, 4, 6])\n",
      "398\n",
      "train_loss -0.8082994421323141\n",
      "val_loss 58.65588\n"
     ]
    },
    {
     "data": {
      "application/vnd.jupyter.widget-view+json": {
       "model_id": "cef48abbaf4a471fa25a3ec4ce6ef6c3",
       "version_major": 2,
       "version_minor": 0
      },
      "text/plain": [
       "  0%|          | 0/3 [00:00<?, ?it/s]"
      ]
     },
     "metadata": {},
     "output_type": "display_data"
    },
    {
     "name": "stdout",
     "output_type": "stream",
     "text": [
      "torch.Size([40, 5, 6])\n",
      "torch.Size([40, 6, 6])\n",
      "torch.Size([11, 12, 6])\n",
      "399\n",
      "train_loss -0.7103402217229208\n",
      "val_loss 58.906364\n"
     ]
    },
    {
     "data": {
      "application/vnd.jupyter.widget-view+json": {
       "model_id": "a22620c0256f41a893da7e34f748c576",
       "version_major": 2,
       "version_minor": 0
      },
      "text/plain": [
       "  0%|          | 0/3 [00:00<?, ?it/s]"
      ]
     },
     "metadata": {},
     "output_type": "display_data"
    },
    {
     "name": "stdout",
     "output_type": "stream",
     "text": [
      "torch.Size([40, 5, 6])\n",
      "torch.Size([40, 11, 6])\n",
      "torch.Size([11, 9, 6])\n",
      "400\n",
      "train_loss -0.38512249787648517\n",
      "val_loss 59.240204\n"
     ]
    },
    {
     "data": {
      "application/vnd.jupyter.widget-view+json": {
       "model_id": "8ceb11aef0824eba8b320c9540497d27",
       "version_major": 2,
       "version_minor": 0
      },
      "text/plain": [
       "  0%|          | 0/3 [00:00<?, ?it/s]"
      ]
     },
     "metadata": {},
     "output_type": "display_data"
    },
    {
     "name": "stdout",
     "output_type": "stream",
     "text": [
      "torch.Size([40, 13, 6])\n",
      "torch.Size([40, 9, 6])\n",
      "torch.Size([11, 7, 6])\n",
      "401\n",
      "train_loss -0.7858145833015442\n",
      "val_loss 59.323566\n"
     ]
    },
    {
     "data": {
      "application/vnd.jupyter.widget-view+json": {
       "model_id": "c8a87ceaf3c54a17858f4393712a7819",
       "version_major": 2,
       "version_minor": 0
      },
      "text/plain": [
       "  0%|          | 0/3 [00:00<?, ?it/s]"
      ]
     },
     "metadata": {},
     "output_type": "display_data"
    },
    {
     "name": "stdout",
     "output_type": "stream",
     "text": [
      "torch.Size([40, 7, 6])\n",
      "torch.Size([40, 14, 6])\n",
      "torch.Size([11, 11, 6])\n",
      "402\n",
      "train_loss -0.39216912537813187\n",
      "val_loss 59.62962\n"
     ]
    },
    {
     "data": {
      "application/vnd.jupyter.widget-view+json": {
       "model_id": "762e00502ad44a3c8f5f27c16af81cbc",
       "version_major": 2,
       "version_minor": 0
      },
      "text/plain": [
       "  0%|          | 0/3 [00:00<?, ?it/s]"
      ]
     },
     "metadata": {},
     "output_type": "display_data"
    },
    {
     "name": "stdout",
     "output_type": "stream",
     "text": [
      "torch.Size([40, 14, 6])\n",
      "torch.Size([40, 11, 6])\n",
      "torch.Size([11, 4, 6])\n",
      "403\n",
      "train_loss -0.6503771940867106\n",
      "val_loss 59.315685\n"
     ]
    },
    {
     "data": {
      "application/vnd.jupyter.widget-view+json": {
       "model_id": "7e025feb54404466ada008e9be0ff42c",
       "version_major": 2,
       "version_minor": 0
      },
      "text/plain": [
       "  0%|          | 0/3 [00:00<?, ?it/s]"
      ]
     },
     "metadata": {},
     "output_type": "display_data"
    },
    {
     "name": "stdout",
     "output_type": "stream",
     "text": [
      "torch.Size([40, 10, 6])\n",
      "torch.Size([40, 5, 6])\n",
      "torch.Size([11, 7, 6])\n",
      "404\n",
      "train_loss -0.5193062921365103\n",
      "val_loss 58.541893\n"
     ]
    },
    {
     "data": {
      "application/vnd.jupyter.widget-view+json": {
       "model_id": "ffcf06fc4ee34cc595f1abef8517e3ce",
       "version_major": 2,
       "version_minor": 0
      },
      "text/plain": [
       "  0%|          | 0/3 [00:00<?, ?it/s]"
      ]
     },
     "metadata": {},
     "output_type": "display_data"
    },
    {
     "name": "stdout",
     "output_type": "stream",
     "text": [
      "torch.Size([40, 14, 6])\n",
      "torch.Size([40, 4, 6])\n",
      "torch.Size([11, 13, 6])\n",
      "405\n",
      "train_loss -0.6153877476851145\n",
      "val_loss 58.753654\n"
     ]
    },
    {
     "data": {
      "application/vnd.jupyter.widget-view+json": {
       "model_id": "ff24feed2f7d4f8c8a1f6f3cdf2355d2",
       "version_major": 2,
       "version_minor": 0
      },
      "text/plain": [
       "  0%|          | 0/3 [00:00<?, ?it/s]"
      ]
     },
     "metadata": {},
     "output_type": "display_data"
    },
    {
     "name": "stdout",
     "output_type": "stream",
     "text": [
      "torch.Size([40, 6, 6])\n",
      "torch.Size([40, 4, 6])\n",
      "torch.Size([11, 4, 6])\n",
      "406\n",
      "train_loss -0.5600038270155588\n",
      "val_loss 59.447987\n"
     ]
    },
    {
     "data": {
      "application/vnd.jupyter.widget-view+json": {
       "model_id": "f24990941d2f49aba92f8f4e7c6cef88",
       "version_major": 2,
       "version_minor": 0
      },
      "text/plain": [
       "  0%|          | 0/3 [00:00<?, ?it/s]"
      ]
     },
     "metadata": {},
     "output_type": "display_data"
    },
    {
     "name": "stdout",
     "output_type": "stream",
     "text": [
      "torch.Size([40, 4, 6])\n",
      "torch.Size([40, 11, 6])\n",
      "torch.Size([11, 7, 6])\n",
      "407\n",
      "train_loss -0.6024409433205923\n",
      "val_loss 58.983917\n"
     ]
    },
    {
     "data": {
      "application/vnd.jupyter.widget-view+json": {
       "model_id": "d625c8d547a84ef3b1722b442f59e5dc",
       "version_major": 2,
       "version_minor": 0
      },
      "text/plain": [
       "  0%|          | 0/3 [00:00<?, ?it/s]"
      ]
     },
     "metadata": {},
     "output_type": "display_data"
    },
    {
     "name": "stdout",
     "output_type": "stream",
     "text": [
      "torch.Size([40, 10, 6])\n",
      "torch.Size([40, 4, 6])\n",
      "torch.Size([11, 8, 6])\n",
      "408\n",
      "train_loss -0.7006037632624308\n",
      "val_loss 58.949333\n"
     ]
    },
    {
     "data": {
      "application/vnd.jupyter.widget-view+json": {
       "model_id": "6055c8ebb86d417ca9692ef2587aaaad",
       "version_major": 2,
       "version_minor": 0
      },
      "text/plain": [
       "  0%|          | 0/3 [00:00<?, ?it/s]"
      ]
     },
     "metadata": {},
     "output_type": "display_data"
    },
    {
     "name": "stdout",
     "output_type": "stream",
     "text": [
      "torch.Size([40, 9, 6])\n",
      "torch.Size([40, 14, 6])\n",
      "torch.Size([11, 8, 6])\n",
      "409\n",
      "train_loss -0.46970848987499875\n",
      "val_loss 59.162277\n"
     ]
    },
    {
     "data": {
      "application/vnd.jupyter.widget-view+json": {
       "model_id": "de06112d3b0248faa74337393c9f6f23",
       "version_major": 2,
       "version_minor": 0
      },
      "text/plain": [
       "  0%|          | 0/3 [00:00<?, ?it/s]"
      ]
     },
     "metadata": {},
     "output_type": "display_data"
    },
    {
     "name": "stdout",
     "output_type": "stream",
     "text": [
      "torch.Size([40, 12, 6])\n",
      "torch.Size([40, 13, 6])\n",
      "torch.Size([11, 10, 6])\n",
      "410\n",
      "train_loss -0.6730705698331197\n",
      "val_loss 59.524807\n"
     ]
    },
    {
     "data": {
      "application/vnd.jupyter.widget-view+json": {
       "model_id": "9ac9682f4c324d40a526d77cbeaf4641",
       "version_major": 2,
       "version_minor": 0
      },
      "text/plain": [
       "  0%|          | 0/3 [00:00<?, ?it/s]"
      ]
     },
     "metadata": {},
     "output_type": "display_data"
    },
    {
     "name": "stdout",
     "output_type": "stream",
     "text": [
      "torch.Size([40, 13, 6])\n",
      "torch.Size([40, 9, 6])\n",
      "torch.Size([11, 10, 6])\n",
      "411\n",
      "train_loss -0.6868470311164856\n",
      "val_loss 60.060802\n"
     ]
    },
    {
     "data": {
      "application/vnd.jupyter.widget-view+json": {
       "model_id": "9e23525849ff40fc99c26719d0f43c77",
       "version_major": 2,
       "version_minor": 0
      },
      "text/plain": [
       "  0%|          | 0/3 [00:00<?, ?it/s]"
      ]
     },
     "metadata": {},
     "output_type": "display_data"
    },
    {
     "name": "stdout",
     "output_type": "stream",
     "text": [
      "torch.Size([40, 12, 6])\n",
      "torch.Size([40, 5, 6])\n",
      "torch.Size([11, 7, 6])\n",
      "412\n",
      "train_loss -0.6116151760021845\n",
      "val_loss 59.577644\n"
     ]
    },
    {
     "data": {
      "application/vnd.jupyter.widget-view+json": {
       "model_id": "9ba0541ee2a54145b2edff0e543f9935",
       "version_major": 2,
       "version_minor": 0
      },
      "text/plain": [
       "  0%|          | 0/3 [00:00<?, ?it/s]"
      ]
     },
     "metadata": {},
     "output_type": "display_data"
    },
    {
     "name": "stdout",
     "output_type": "stream",
     "text": [
      "torch.Size([40, 5, 6])\n",
      "torch.Size([40, 14, 6])\n",
      "torch.Size([11, 10, 6])\n",
      "413\n",
      "train_loss -0.7083165645599365\n",
      "val_loss 59.395393\n"
     ]
    },
    {
     "data": {
      "application/vnd.jupyter.widget-view+json": {
       "model_id": "3239d0afa14445bd8a9d733e7e1a258e",
       "version_major": 2,
       "version_minor": 0
      },
      "text/plain": [
       "  0%|          | 0/3 [00:00<?, ?it/s]"
      ]
     },
     "metadata": {},
     "output_type": "display_data"
    },
    {
     "name": "stdout",
     "output_type": "stream",
     "text": [
      "torch.Size([40, 9, 6])\n",
      "torch.Size([40, 4, 6])\n",
      "torch.Size([11, 13, 6])\n",
      "414\n",
      "train_loss -0.3903532822926839\n",
      "val_loss 58.632957\n"
     ]
    },
    {
     "data": {
      "application/vnd.jupyter.widget-view+json": {
       "model_id": "ec7755c243404bb08bded6eabe98d8d6",
       "version_major": 2,
       "version_minor": 0
      },
      "text/plain": [
       "  0%|          | 0/3 [00:00<?, ?it/s]"
      ]
     },
     "metadata": {},
     "output_type": "display_data"
    },
    {
     "name": "stdout",
     "output_type": "stream",
     "text": [
      "torch.Size([40, 4, 6])\n",
      "torch.Size([40, 8, 6])\n",
      "torch.Size([11, 12, 6])\n",
      "415\n",
      "train_loss -0.2941201329231262\n",
      "val_loss 58.48628\n"
     ]
    },
    {
     "data": {
      "application/vnd.jupyter.widget-view+json": {
       "model_id": "42280cc36e00405db964d51153ff1e50",
       "version_major": 2,
       "version_minor": 0
      },
      "text/plain": [
       "  0%|          | 0/3 [00:00<?, ?it/s]"
      ]
     },
     "metadata": {},
     "output_type": "display_data"
    },
    {
     "name": "stdout",
     "output_type": "stream",
     "text": [
      "torch.Size([40, 5, 6])\n",
      "torch.Size([40, 4, 6])\n",
      "torch.Size([11, 4, 6])\n",
      "416\n",
      "train_loss -0.6223784784475962\n",
      "val_loss 58.80681\n"
     ]
    },
    {
     "data": {
      "application/vnd.jupyter.widget-view+json": {
       "model_id": "4c87d013711a4869ac57a47b5e64d930",
       "version_major": 2,
       "version_minor": 0
      },
      "text/plain": [
       "  0%|          | 0/3 [00:00<?, ?it/s]"
      ]
     },
     "metadata": {},
     "output_type": "display_data"
    },
    {
     "name": "stdout",
     "output_type": "stream",
     "text": [
      "torch.Size([40, 13, 6])\n",
      "torch.Size([40, 4, 6])\n",
      "torch.Size([11, 9, 6])\n",
      "417\n",
      "train_loss -0.3962232172489166\n",
      "val_loss 58.52589\n"
     ]
    },
    {
     "data": {
      "application/vnd.jupyter.widget-view+json": {
       "model_id": "5aab20355bcf446abd8755d7d4bfe617",
       "version_major": 2,
       "version_minor": 0
      },
      "text/plain": [
       "  0%|          | 0/3 [00:00<?, ?it/s]"
      ]
     },
     "metadata": {},
     "output_type": "display_data"
    },
    {
     "name": "stdout",
     "output_type": "stream",
     "text": [
      "torch.Size([40, 13, 6])\n",
      "torch.Size([40, 9, 6])\n",
      "torch.Size([11, 12, 6])\n",
      "418\n",
      "train_loss -0.6713486711184183\n",
      "val_loss 57.918438\n"
     ]
    },
    {
     "data": {
      "application/vnd.jupyter.widget-view+json": {
       "model_id": "e908fb8baba34ced91e0d29a08389e96",
       "version_major": 2,
       "version_minor": 0
      },
      "text/plain": [
       "  0%|          | 0/3 [00:00<?, ?it/s]"
      ]
     },
     "metadata": {},
     "output_type": "display_data"
    },
    {
     "name": "stdout",
     "output_type": "stream",
     "text": [
      "torch.Size([40, 8, 6])\n",
      "torch.Size([40, 8, 6])\n",
      "torch.Size([11, 13, 6])\n",
      "419\n",
      "train_loss 0.0009831587473551433\n",
      "val_loss 58.280945\n"
     ]
    },
    {
     "data": {
      "application/vnd.jupyter.widget-view+json": {
       "model_id": "254bc495390a4c32b12bc5e9ad307a2a",
       "version_major": 2,
       "version_minor": 0
      },
      "text/plain": [
       "  0%|          | 0/3 [00:00<?, ?it/s]"
      ]
     },
     "metadata": {},
     "output_type": "display_data"
    },
    {
     "name": "stdout",
     "output_type": "stream",
     "text": [
      "torch.Size([40, 7, 6])\n",
      "torch.Size([40, 6, 6])\n",
      "torch.Size([11, 10, 6])\n",
      "420\n",
      "train_loss -0.5494562188784281\n",
      "val_loss 58.294815\n"
     ]
    },
    {
     "data": {
      "application/vnd.jupyter.widget-view+json": {
       "model_id": "6730a5c3e54445579c709fd206c2a5c7",
       "version_major": 2,
       "version_minor": 0
      },
      "text/plain": [
       "  0%|          | 0/3 [00:00<?, ?it/s]"
      ]
     },
     "metadata": {},
     "output_type": "display_data"
    },
    {
     "name": "stdout",
     "output_type": "stream",
     "text": [
      "torch.Size([40, 6, 6])\n",
      "torch.Size([40, 6, 6])\n",
      "torch.Size([11, 13, 6])\n",
      "421\n",
      "train_loss -0.5344754854838053\n",
      "val_loss 58.20698\n"
     ]
    },
    {
     "data": {
      "application/vnd.jupyter.widget-view+json": {
       "model_id": "79cb264b319d453c9688b2a5f58b9e3d",
       "version_major": 2,
       "version_minor": 0
      },
      "text/plain": [
       "  0%|          | 0/3 [00:00<?, ?it/s]"
      ]
     },
     "metadata": {},
     "output_type": "display_data"
    },
    {
     "name": "stdout",
     "output_type": "stream",
     "text": [
      "torch.Size([40, 8, 6])\n",
      "torch.Size([40, 13, 6])\n",
      "torch.Size([11, 10, 6])\n",
      "422\n",
      "train_loss -0.7175397078196207\n",
      "val_loss 58.466076\n"
     ]
    },
    {
     "data": {
      "application/vnd.jupyter.widget-view+json": {
       "model_id": "412124846a9e43b0a9604b7e6a899239",
       "version_major": 2,
       "version_minor": 0
      },
      "text/plain": [
       "  0%|          | 0/3 [00:00<?, ?it/s]"
      ]
     },
     "metadata": {},
     "output_type": "display_data"
    },
    {
     "name": "stdout",
     "output_type": "stream",
     "text": [
      "torch.Size([40, 4, 6])\n",
      "torch.Size([40, 5, 6])\n",
      "torch.Size([11, 7, 6])\n",
      "423\n",
      "train_loss -0.5081346730391184\n",
      "val_loss 58.910637\n"
     ]
    },
    {
     "data": {
      "application/vnd.jupyter.widget-view+json": {
       "model_id": "6aa89f8032e548a6b6cfa7c8488dcf03",
       "version_major": 2,
       "version_minor": 0
      },
      "text/plain": [
       "  0%|          | 0/3 [00:00<?, ?it/s]"
      ]
     },
     "metadata": {},
     "output_type": "display_data"
    },
    {
     "name": "stdout",
     "output_type": "stream",
     "text": [
      "torch.Size([40, 11, 6])\n",
      "torch.Size([40, 12, 6])\n",
      "torch.Size([11, 11, 6])\n",
      "424\n",
      "train_loss -0.668014407157898\n",
      "val_loss 58.70409\n"
     ]
    },
    {
     "data": {
      "application/vnd.jupyter.widget-view+json": {
       "model_id": "0d50113fe1904a67b0225461786bfc6f",
       "version_major": 2,
       "version_minor": 0
      },
      "text/plain": [
       "  0%|          | 0/3 [00:00<?, ?it/s]"
      ]
     },
     "metadata": {},
     "output_type": "display_data"
    },
    {
     "name": "stdout",
     "output_type": "stream",
     "text": [
      "torch.Size([40, 9, 6])\n",
      "torch.Size([40, 11, 6])\n",
      "torch.Size([11, 13, 6])\n",
      "425\n",
      "train_loss -0.3055400252342224\n",
      "val_loss 58.661297\n"
     ]
    },
    {
     "data": {
      "application/vnd.jupyter.widget-view+json": {
       "model_id": "065822be17284fce9f818b4167d1deb2",
       "version_major": 2,
       "version_minor": 0
      },
      "text/plain": [
       "  0%|          | 0/3 [00:00<?, ?it/s]"
      ]
     },
     "metadata": {},
     "output_type": "display_data"
    },
    {
     "name": "stdout",
     "output_type": "stream",
     "text": [
      "torch.Size([40, 14, 6])\n",
      "torch.Size([40, 6, 6])\n",
      "torch.Size([11, 14, 6])\n",
      "426\n",
      "train_loss -0.587876538435618\n",
      "val_loss 59.552998\n"
     ]
    },
    {
     "data": {
      "application/vnd.jupyter.widget-view+json": {
       "model_id": "4858acd2f7a948738266fd16852933fb",
       "version_major": 2,
       "version_minor": 0
      },
      "text/plain": [
       "  0%|          | 0/3 [00:00<?, ?it/s]"
      ]
     },
     "metadata": {},
     "output_type": "display_data"
    },
    {
     "name": "stdout",
     "output_type": "stream",
     "text": [
      "torch.Size([40, 8, 6])\n",
      "torch.Size([40, 9, 6])\n",
      "torch.Size([11, 6, 6])\n",
      "427\n",
      "train_loss -0.5117286046346029\n",
      "val_loss 59.44907\n"
     ]
    },
    {
     "data": {
      "application/vnd.jupyter.widget-view+json": {
       "model_id": "efae2ef60cbc48ccbd899ed5a67cd8da",
       "version_major": 2,
       "version_minor": 0
      },
      "text/plain": [
       "  0%|          | 0/3 [00:00<?, ?it/s]"
      ]
     },
     "metadata": {},
     "output_type": "display_data"
    },
    {
     "name": "stdout",
     "output_type": "stream",
     "text": [
      "torch.Size([40, 9, 6])\n",
      "torch.Size([40, 5, 6])\n",
      "torch.Size([11, 6, 6])\n",
      "428\n",
      "train_loss -0.6501751740773519\n",
      "val_loss 59.167053\n"
     ]
    },
    {
     "data": {
      "application/vnd.jupyter.widget-view+json": {
       "model_id": "54c75cfe597646839436a1277ea12729",
       "version_major": 2,
       "version_minor": 0
      },
      "text/plain": [
       "  0%|          | 0/3 [00:00<?, ?it/s]"
      ]
     },
     "metadata": {},
     "output_type": "display_data"
    },
    {
     "name": "stdout",
     "output_type": "stream",
     "text": [
      "torch.Size([40, 9, 6])\n",
      "torch.Size([40, 11, 6])\n",
      "torch.Size([11, 14, 6])\n",
      "429\n",
      "train_loss -0.27606181303660077\n",
      "val_loss 59.189026\n"
     ]
    },
    {
     "data": {
      "application/vnd.jupyter.widget-view+json": {
       "model_id": "38a93bc9abe4422d95387cccec4c2e44",
       "version_major": 2,
       "version_minor": 0
      },
      "text/plain": [
       "  0%|          | 0/3 [00:00<?, ?it/s]"
      ]
     },
     "metadata": {},
     "output_type": "display_data"
    },
    {
     "name": "stdout",
     "output_type": "stream",
     "text": [
      "torch.Size([40, 12, 6])\n",
      "torch.Size([40, 10, 6])\n",
      "torch.Size([11, 10, 6])\n",
      "430\n",
      "train_loss -0.1618125836054484\n",
      "val_loss 58.78539\n"
     ]
    },
    {
     "data": {
      "application/vnd.jupyter.widget-view+json": {
       "model_id": "8eba8ddcfb8a49559189a71b6d534434",
       "version_major": 2,
       "version_minor": 0
      },
      "text/plain": [
       "  0%|          | 0/3 [00:00<?, ?it/s]"
      ]
     },
     "metadata": {},
     "output_type": "display_data"
    },
    {
     "name": "stdout",
     "output_type": "stream",
     "text": [
      "torch.Size([40, 7, 6])\n",
      "torch.Size([40, 5, 6])\n",
      "torch.Size([11, 6, 6])\n",
      "431\n",
      "train_loss -0.6665318409601847\n",
      "val_loss 58.014122\n"
     ]
    },
    {
     "data": {
      "application/vnd.jupyter.widget-view+json": {
       "model_id": "5c6373a92ec548848cf325f906b32157",
       "version_major": 2,
       "version_minor": 0
      },
      "text/plain": [
       "  0%|          | 0/3 [00:00<?, ?it/s]"
      ]
     },
     "metadata": {},
     "output_type": "display_data"
    },
    {
     "name": "stdout",
     "output_type": "stream",
     "text": [
      "torch.Size([40, 13, 6])\n",
      "torch.Size([40, 8, 6])\n",
      "torch.Size([11, 7, 6])\n",
      "432\n",
      "train_loss -0.6365762154261271\n",
      "val_loss 58.332687\n"
     ]
    },
    {
     "data": {
      "application/vnd.jupyter.widget-view+json": {
       "model_id": "5b598feb12064b0682619a64bf2680b1",
       "version_major": 2,
       "version_minor": 0
      },
      "text/plain": [
       "  0%|          | 0/3 [00:00<?, ?it/s]"
      ]
     },
     "metadata": {},
     "output_type": "display_data"
    },
    {
     "name": "stdout",
     "output_type": "stream",
     "text": [
      "torch.Size([40, 5, 6])\n",
      "torch.Size([40, 13, 6])\n",
      "torch.Size([11, 7, 6])\n",
      "433\n",
      "train_loss -0.4367743854721387\n",
      "val_loss 57.996906\n"
     ]
    },
    {
     "data": {
      "application/vnd.jupyter.widget-view+json": {
       "model_id": "c306b5dfa840434dbd68ccda3e148b9d",
       "version_major": 2,
       "version_minor": 0
      },
      "text/plain": [
       "  0%|          | 0/3 [00:00<?, ?it/s]"
      ]
     },
     "metadata": {},
     "output_type": "display_data"
    },
    {
     "name": "stdout",
     "output_type": "stream",
     "text": [
      "torch.Size([40, 9, 6])\n",
      "torch.Size([40, 14, 6])\n",
      "torch.Size([11, 10, 6])\n",
      "434\n",
      "train_loss -0.6388239065806071\n",
      "val_loss 57.78667\n"
     ]
    },
    {
     "data": {
      "application/vnd.jupyter.widget-view+json": {
       "model_id": "f633ef16cdfa40648917291072dc0ce1",
       "version_major": 2,
       "version_minor": 0
      },
      "text/plain": [
       "  0%|          | 0/3 [00:00<?, ?it/s]"
      ]
     },
     "metadata": {},
     "output_type": "display_data"
    },
    {
     "name": "stdout",
     "output_type": "stream",
     "text": [
      "torch.Size([40, 8, 6])\n",
      "torch.Size([40, 8, 6])\n",
      "torch.Size([11, 6, 6])\n",
      "435\n",
      "train_loss -0.5275251014779011\n",
      "val_loss 57.993435\n"
     ]
    },
    {
     "data": {
      "application/vnd.jupyter.widget-view+json": {
       "model_id": "5f7a7265bd7e49bbb0bd246b1e08af27",
       "version_major": 2,
       "version_minor": 0
      },
      "text/plain": [
       "  0%|          | 0/3 [00:00<?, ?it/s]"
      ]
     },
     "metadata": {},
     "output_type": "display_data"
    },
    {
     "name": "stdout",
     "output_type": "stream",
     "text": [
      "torch.Size([40, 14, 6])\n",
      "torch.Size([40, 12, 6])\n",
      "torch.Size([11, 4, 6])\n",
      "436\n",
      "train_loss -0.679846982161204\n",
      "val_loss 58.069588\n"
     ]
    },
    {
     "data": {
      "application/vnd.jupyter.widget-view+json": {
       "model_id": "f2b9de1a5c94421ba8ab54c529799e97",
       "version_major": 2,
       "version_minor": 0
      },
      "text/plain": [
       "  0%|          | 0/3 [00:00<?, ?it/s]"
      ]
     },
     "metadata": {},
     "output_type": "display_data"
    },
    {
     "name": "stdout",
     "output_type": "stream",
     "text": [
      "torch.Size([40, 9, 6])\n",
      "torch.Size([40, 12, 6])\n",
      "torch.Size([11, 14, 6])\n",
      "437\n",
      "train_loss -0.5952152212460836\n",
      "val_loss 58.008156\n"
     ]
    },
    {
     "data": {
      "application/vnd.jupyter.widget-view+json": {
       "model_id": "208e42d36da4421f99ea847682842c5e",
       "version_major": 2,
       "version_minor": 0
      },
      "text/plain": [
       "  0%|          | 0/3 [00:00<?, ?it/s]"
      ]
     },
     "metadata": {},
     "output_type": "display_data"
    },
    {
     "name": "stdout",
     "output_type": "stream",
     "text": [
      "torch.Size([40, 7, 6])\n",
      "torch.Size([40, 4, 6])\n",
      "torch.Size([11, 11, 6])\n",
      "438\n",
      "train_loss -0.43497102955977124\n",
      "val_loss 57.972656\n"
     ]
    },
    {
     "data": {
      "application/vnd.jupyter.widget-view+json": {
       "model_id": "0aff91f508084fb8a5efb18447bff078",
       "version_major": 2,
       "version_minor": 0
      },
      "text/plain": [
       "  0%|          | 0/3 [00:00<?, ?it/s]"
      ]
     },
     "metadata": {},
     "output_type": "display_data"
    },
    {
     "name": "stdout",
     "output_type": "stream",
     "text": [
      "torch.Size([40, 5, 6])\n",
      "torch.Size([40, 7, 6])\n",
      "torch.Size([11, 4, 6])\n",
      "439\n",
      "train_loss -0.6415328780810038\n",
      "val_loss 57.85801\n"
     ]
    },
    {
     "data": {
      "application/vnd.jupyter.widget-view+json": {
       "model_id": "24a99a4df4184dc685ccc4a9ed001599",
       "version_major": 2,
       "version_minor": 0
      },
      "text/plain": [
       "  0%|          | 0/3 [00:00<?, ?it/s]"
      ]
     },
     "metadata": {},
     "output_type": "display_data"
    },
    {
     "name": "stdout",
     "output_type": "stream",
     "text": [
      "torch.Size([40, 13, 6])\n",
      "torch.Size([40, 10, 6])\n",
      "torch.Size([11, 12, 6])\n",
      "440\n",
      "train_loss -0.7420475880304972\n",
      "val_loss 58.364628\n"
     ]
    },
    {
     "data": {
      "application/vnd.jupyter.widget-view+json": {
       "model_id": "3cfb10eec1e94793b4d4bcc1dd625635",
       "version_major": 2,
       "version_minor": 0
      },
      "text/plain": [
       "  0%|          | 0/3 [00:00<?, ?it/s]"
      ]
     },
     "metadata": {},
     "output_type": "display_data"
    },
    {
     "name": "stdout",
     "output_type": "stream",
     "text": [
      "torch.Size([40, 11, 6])\n",
      "torch.Size([40, 7, 6])\n",
      "torch.Size([11, 8, 6])\n",
      "441\n",
      "train_loss -0.7695631583531698\n",
      "val_loss 58.905773\n"
     ]
    },
    {
     "data": {
      "application/vnd.jupyter.widget-view+json": {
       "model_id": "69df6fe1355240d4953360fa57f58e06",
       "version_major": 2,
       "version_minor": 0
      },
      "text/plain": [
       "  0%|          | 0/3 [00:00<?, ?it/s]"
      ]
     },
     "metadata": {},
     "output_type": "display_data"
    },
    {
     "name": "stdout",
     "output_type": "stream",
     "text": [
      "torch.Size([40, 8, 6])\n",
      "torch.Size([40, 8, 6])\n",
      "torch.Size([11, 12, 6])\n",
      "442\n",
      "train_loss -0.713925818602244\n",
      "val_loss 58.782078\n"
     ]
    },
    {
     "data": {
      "application/vnd.jupyter.widget-view+json": {
       "model_id": "160e17bdcfec4779b51a8fcc5f627ee9",
       "version_major": 2,
       "version_minor": 0
      },
      "text/plain": [
       "  0%|          | 0/3 [00:00<?, ?it/s]"
      ]
     },
     "metadata": {},
     "output_type": "display_data"
    },
    {
     "name": "stdout",
     "output_type": "stream",
     "text": [
      "torch.Size([40, 9, 6])\n",
      "torch.Size([40, 12, 6])\n",
      "torch.Size([11, 14, 6])\n",
      "443\n",
      "train_loss -0.7661742568016052\n",
      "val_loss 59.05753\n"
     ]
    },
    {
     "data": {
      "application/vnd.jupyter.widget-view+json": {
       "model_id": "9176506e98684bd2b10b69da24cce433",
       "version_major": 2,
       "version_minor": 0
      },
      "text/plain": [
       "  0%|          | 0/3 [00:00<?, ?it/s]"
      ]
     },
     "metadata": {},
     "output_type": "display_data"
    },
    {
     "name": "stdout",
     "output_type": "stream",
     "text": [
      "torch.Size([40, 9, 6])\n",
      "torch.Size([40, 14, 6])\n",
      "torch.Size([11, 13, 6])\n",
      "444\n",
      "train_loss -0.7581371267636617\n",
      "val_loss 59.222813\n"
     ]
    },
    {
     "data": {
      "application/vnd.jupyter.widget-view+json": {
       "model_id": "4e54a1026cfd414abece990e8f3bb251",
       "version_major": 2,
       "version_minor": 0
      },
      "text/plain": [
       "  0%|          | 0/3 [00:00<?, ?it/s]"
      ]
     },
     "metadata": {},
     "output_type": "display_data"
    },
    {
     "name": "stdout",
     "output_type": "stream",
     "text": [
      "torch.Size([40, 11, 6])\n",
      "torch.Size([40, 12, 6])\n",
      "torch.Size([11, 4, 6])\n",
      "445\n",
      "train_loss -0.8488558530807495\n",
      "val_loss 59.207615\n"
     ]
    },
    {
     "data": {
      "application/vnd.jupyter.widget-view+json": {
       "model_id": "fc2738abb7124490b29609d55b8a38b6",
       "version_major": 2,
       "version_minor": 0
      },
      "text/plain": [
       "  0%|          | 0/3 [00:00<?, ?it/s]"
      ]
     },
     "metadata": {},
     "output_type": "display_data"
    },
    {
     "name": "stdout",
     "output_type": "stream",
     "text": [
      "torch.Size([40, 6, 6])\n",
      "torch.Size([40, 6, 6])\n",
      "torch.Size([11, 10, 6])\n",
      "446\n",
      "train_loss -0.6641770501931509\n",
      "val_loss 59.0782\n"
     ]
    },
    {
     "data": {
      "application/vnd.jupyter.widget-view+json": {
       "model_id": "88fe48344ef747d1ac6ac43f258070d2",
       "version_major": 2,
       "version_minor": 0
      },
      "text/plain": [
       "  0%|          | 0/3 [00:00<?, ?it/s]"
      ]
     },
     "metadata": {},
     "output_type": "display_data"
    },
    {
     "name": "stdout",
     "output_type": "stream",
     "text": [
      "torch.Size([40, 9, 6])\n",
      "torch.Size([40, 6, 6])\n",
      "torch.Size([11, 12, 6])\n",
      "447\n",
      "train_loss -0.616163820028305\n",
      "val_loss 58.99362\n"
     ]
    },
    {
     "data": {
      "application/vnd.jupyter.widget-view+json": {
       "model_id": "71836954d319452fbfa9e71edaca7186",
       "version_major": 2,
       "version_minor": 0
      },
      "text/plain": [
       "  0%|          | 0/3 [00:00<?, ?it/s]"
      ]
     },
     "metadata": {},
     "output_type": "display_data"
    },
    {
     "name": "stdout",
     "output_type": "stream",
     "text": [
      "torch.Size([40, 9, 6])\n",
      "torch.Size([40, 8, 6])\n",
      "torch.Size([11, 9, 6])\n",
      "448\n",
      "train_loss -0.7413524190584818\n",
      "val_loss 59.10003\n"
     ]
    },
    {
     "data": {
      "application/vnd.jupyter.widget-view+json": {
       "model_id": "98af244bf1c54e439fec6cd3e42dad61",
       "version_major": 2,
       "version_minor": 0
      },
      "text/plain": [
       "  0%|          | 0/3 [00:00<?, ?it/s]"
      ]
     },
     "metadata": {},
     "output_type": "display_data"
    },
    {
     "name": "stdout",
     "output_type": "stream",
     "text": [
      "torch.Size([40, 10, 6])\n",
      "torch.Size([40, 13, 6])\n",
      "torch.Size([11, 14, 6])\n",
      "449\n",
      "train_loss -0.5733346541722616\n",
      "val_loss 58.682976\n"
     ]
    },
    {
     "data": {
      "application/vnd.jupyter.widget-view+json": {
       "model_id": "8125ec5d41644fdba0e526c3b4df2f4b",
       "version_major": 2,
       "version_minor": 0
      },
      "text/plain": [
       "  0%|          | 0/3 [00:00<?, ?it/s]"
      ]
     },
     "metadata": {},
     "output_type": "display_data"
    },
    {
     "name": "stdout",
     "output_type": "stream",
     "text": [
      "torch.Size([40, 8, 6])\n",
      "torch.Size([40, 11, 6])\n",
      "torch.Size([11, 6, 6])\n",
      "450\n",
      "train_loss -0.7702798843383789\n",
      "val_loss 58.757473\n"
     ]
    },
    {
     "data": {
      "application/vnd.jupyter.widget-view+json": {
       "model_id": "8346acd0fff642c29f8a471fc008120f",
       "version_major": 2,
       "version_minor": 0
      },
      "text/plain": [
       "  0%|          | 0/3 [00:00<?, ?it/s]"
      ]
     },
     "metadata": {},
     "output_type": "display_data"
    },
    {
     "name": "stdout",
     "output_type": "stream",
     "text": [
      "torch.Size([40, 10, 6])\n",
      "torch.Size([40, 13, 6])\n",
      "torch.Size([11, 13, 6])\n",
      "451\n",
      "train_loss -0.6835573315620422\n",
      "val_loss 59.18713\n"
     ]
    },
    {
     "data": {
      "application/vnd.jupyter.widget-view+json": {
       "model_id": "b4479078919e4bca8f4558aeeac3d4ec",
       "version_major": 2,
       "version_minor": 0
      },
      "text/plain": [
       "  0%|          | 0/3 [00:00<?, ?it/s]"
      ]
     },
     "metadata": {},
     "output_type": "display_data"
    },
    {
     "name": "stdout",
     "output_type": "stream",
     "text": [
      "torch.Size([40, 8, 6])\n",
      "torch.Size([40, 6, 6])\n",
      "torch.Size([11, 10, 6])\n",
      "452\n",
      "train_loss -0.6735082765420278\n",
      "val_loss 59.231106\n"
     ]
    },
    {
     "data": {
      "application/vnd.jupyter.widget-view+json": {
       "model_id": "edf334a6de4f44a2860890ecacc5aaae",
       "version_major": 2,
       "version_minor": 0
      },
      "text/plain": [
       "  0%|          | 0/3 [00:00<?, ?it/s]"
      ]
     },
     "metadata": {},
     "output_type": "display_data"
    },
    {
     "name": "stdout",
     "output_type": "stream",
     "text": [
      "torch.Size([40, 9, 6])\n",
      "torch.Size([40, 6, 6])\n",
      "torch.Size([11, 13, 6])\n",
      "453\n",
      "train_loss -0.8263776699701945\n",
      "val_loss 58.854355\n"
     ]
    },
    {
     "data": {
      "application/vnd.jupyter.widget-view+json": {
       "model_id": "00642ac72aa346deaf28020f656e1f52",
       "version_major": 2,
       "version_minor": 0
      },
      "text/plain": [
       "  0%|          | 0/3 [00:00<?, ?it/s]"
      ]
     },
     "metadata": {},
     "output_type": "display_data"
    },
    {
     "name": "stdout",
     "output_type": "stream",
     "text": [
      "torch.Size([40, 13, 6])\n",
      "torch.Size([40, 10, 6])\n",
      "torch.Size([11, 13, 6])\n",
      "454\n",
      "train_loss -0.8627750873565674\n",
      "val_loss 58.31292\n"
     ]
    },
    {
     "data": {
      "application/vnd.jupyter.widget-view+json": {
       "model_id": "8ebf3d3d3e9e47618565570dac261e0f",
       "version_major": 2,
       "version_minor": 0
      },
      "text/plain": [
       "  0%|          | 0/3 [00:00<?, ?it/s]"
      ]
     },
     "metadata": {},
     "output_type": "display_data"
    },
    {
     "name": "stdout",
     "output_type": "stream",
     "text": [
      "torch.Size([40, 11, 6])\n",
      "torch.Size([40, 13, 6])\n",
      "torch.Size([11, 8, 6])\n",
      "455\n",
      "train_loss -0.6238080163796743\n",
      "val_loss 58.205704\n"
     ]
    },
    {
     "data": {
      "application/vnd.jupyter.widget-view+json": {
       "model_id": "394cfccf595f4ac7ae14ad37392cec0f",
       "version_major": 2,
       "version_minor": 0
      },
      "text/plain": [
       "  0%|          | 0/3 [00:00<?, ?it/s]"
      ]
     },
     "metadata": {},
     "output_type": "display_data"
    },
    {
     "name": "stdout",
     "output_type": "stream",
     "text": [
      "torch.Size([40, 6, 6])\n",
      "torch.Size([40, 6, 6])\n",
      "torch.Size([11, 10, 6])\n",
      "456\n",
      "train_loss -0.4620384524265925\n",
      "val_loss 58.896942\n"
     ]
    },
    {
     "data": {
      "application/vnd.jupyter.widget-view+json": {
       "model_id": "51024e08c7234e22afb963b0e26d4974",
       "version_major": 2,
       "version_minor": 0
      },
      "text/plain": [
       "  0%|          | 0/3 [00:00<?, ?it/s]"
      ]
     },
     "metadata": {},
     "output_type": "display_data"
    },
    {
     "name": "stdout",
     "output_type": "stream",
     "text": [
      "torch.Size([40, 5, 6])\n",
      "torch.Size([40, 6, 6])\n",
      "torch.Size([11, 10, 6])\n",
      "457\n",
      "train_loss -0.7195859948794047\n",
      "val_loss 59.0194\n"
     ]
    },
    {
     "data": {
      "application/vnd.jupyter.widget-view+json": {
       "model_id": "379f7b7d05034b70830458d4646ffae6",
       "version_major": 2,
       "version_minor": 0
      },
      "text/plain": [
       "  0%|          | 0/3 [00:00<?, ?it/s]"
      ]
     },
     "metadata": {},
     "output_type": "display_data"
    },
    {
     "name": "stdout",
     "output_type": "stream",
     "text": [
      "torch.Size([40, 6, 6])\n",
      "torch.Size([40, 11, 6])\n",
      "torch.Size([11, 6, 6])\n",
      "458\n",
      "train_loss -0.6623734384775162\n",
      "val_loss 58.84245\n"
     ]
    },
    {
     "data": {
      "application/vnd.jupyter.widget-view+json": {
       "model_id": "5c0a0fab577348e7bcdac7412b9e0889",
       "version_major": 2,
       "version_minor": 0
      },
      "text/plain": [
       "  0%|          | 0/3 [00:00<?, ?it/s]"
      ]
     },
     "metadata": {},
     "output_type": "display_data"
    },
    {
     "name": "stdout",
     "output_type": "stream",
     "text": [
      "torch.Size([40, 6, 6])\n",
      "torch.Size([40, 11, 6])\n",
      "torch.Size([11, 11, 6])\n",
      "459\n",
      "train_loss -0.6207530796527863\n",
      "val_loss 59.30671\n"
     ]
    },
    {
     "data": {
      "application/vnd.jupyter.widget-view+json": {
       "model_id": "8ad32fa7719b406b810f23f168a7af4b",
       "version_major": 2,
       "version_minor": 0
      },
      "text/plain": [
       "  0%|          | 0/3 [00:00<?, ?it/s]"
      ]
     },
     "metadata": {},
     "output_type": "display_data"
    },
    {
     "name": "stdout",
     "output_type": "stream",
     "text": [
      "torch.Size([40, 6, 6])\n",
      "torch.Size([40, 6, 6])\n",
      "torch.Size([11, 7, 6])\n",
      "460\n",
      "train_loss -0.8501872221628824\n",
      "val_loss 58.765156\n"
     ]
    },
    {
     "data": {
      "application/vnd.jupyter.widget-view+json": {
       "model_id": "e302746f170c4d07807f7393c731bced",
       "version_major": 2,
       "version_minor": 0
      },
      "text/plain": [
       "  0%|          | 0/3 [00:00<?, ?it/s]"
      ]
     },
     "metadata": {},
     "output_type": "display_data"
    },
    {
     "name": "stdout",
     "output_type": "stream",
     "text": [
      "torch.Size([40, 6, 6])\n",
      "torch.Size([40, 13, 6])\n",
      "torch.Size([11, 13, 6])\n",
      "461\n",
      "train_loss -0.6808168093363444\n",
      "val_loss 58.570126\n"
     ]
    },
    {
     "data": {
      "application/vnd.jupyter.widget-view+json": {
       "model_id": "dbfc4541c44442148568681ff73533b8",
       "version_major": 2,
       "version_minor": 0
      },
      "text/plain": [
       "  0%|          | 0/3 [00:00<?, ?it/s]"
      ]
     },
     "metadata": {},
     "output_type": "display_data"
    },
    {
     "name": "stdout",
     "output_type": "stream",
     "text": [
      "torch.Size([40, 8, 6])\n",
      "torch.Size([40, 9, 6])\n",
      "torch.Size([11, 7, 6])\n",
      "462\n",
      "train_loss -0.784520665804545\n",
      "val_loss 58.516544\n"
     ]
    },
    {
     "data": {
      "application/vnd.jupyter.widget-view+json": {
       "model_id": "0d9ddd6febc147c9a6b269269b9b5583",
       "version_major": 2,
       "version_minor": 0
      },
      "text/plain": [
       "  0%|          | 0/3 [00:00<?, ?it/s]"
      ]
     },
     "metadata": {},
     "output_type": "display_data"
    },
    {
     "name": "stdout",
     "output_type": "stream",
     "text": [
      "torch.Size([40, 13, 6])\n",
      "torch.Size([40, 5, 6])\n",
      "torch.Size([11, 12, 6])\n",
      "463\n",
      "train_loss -0.543402781089147\n",
      "val_loss 58.133312\n"
     ]
    },
    {
     "data": {
      "application/vnd.jupyter.widget-view+json": {
       "model_id": "130132f182f74ad7ad4d36845f6e3c3c",
       "version_major": 2,
       "version_minor": 0
      },
      "text/plain": [
       "  0%|          | 0/3 [00:00<?, ?it/s]"
      ]
     },
     "metadata": {},
     "output_type": "display_data"
    },
    {
     "name": "stdout",
     "output_type": "stream",
     "text": [
      "torch.Size([40, 11, 6])\n",
      "torch.Size([40, 11, 6])\n",
      "torch.Size([11, 13, 6])\n",
      "464\n",
      "train_loss -0.6558281183242798\n",
      "val_loss 58.32837\n"
     ]
    },
    {
     "data": {
      "application/vnd.jupyter.widget-view+json": {
       "model_id": "86457a13ccc2455db933d1f417709602",
       "version_major": 2,
       "version_minor": 0
      },
      "text/plain": [
       "  0%|          | 0/3 [00:00<?, ?it/s]"
      ]
     },
     "metadata": {},
     "output_type": "display_data"
    },
    {
     "name": "stdout",
     "output_type": "stream",
     "text": [
      "torch.Size([40, 5, 6])\n",
      "torch.Size([40, 8, 6])\n",
      "torch.Size([11, 8, 6])\n",
      "465\n",
      "train_loss -0.5415606250365576\n",
      "val_loss 58.42631\n"
     ]
    },
    {
     "data": {
      "application/vnd.jupyter.widget-view+json": {
       "model_id": "394e2fa40a3e4027b4e05a3745303373",
       "version_major": 2,
       "version_minor": 0
      },
      "text/plain": [
       "  0%|          | 0/3 [00:00<?, ?it/s]"
      ]
     },
     "metadata": {},
     "output_type": "display_data"
    },
    {
     "name": "stdout",
     "output_type": "stream",
     "text": [
      "torch.Size([40, 6, 6])\n",
      "torch.Size([40, 14, 6])\n",
      "torch.Size([11, 10, 6])\n",
      "466\n",
      "train_loss -0.6705772479375204\n",
      "val_loss 58.69555\n"
     ]
    },
    {
     "data": {
      "application/vnd.jupyter.widget-view+json": {
       "model_id": "f4e95b1af61a4398b1d33d0679871081",
       "version_major": 2,
       "version_minor": 0
      },
      "text/plain": [
       "  0%|          | 0/3 [00:00<?, ?it/s]"
      ]
     },
     "metadata": {},
     "output_type": "display_data"
    },
    {
     "name": "stdout",
     "output_type": "stream",
     "text": [
      "torch.Size([40, 14, 6])\n",
      "torch.Size([40, 13, 6])\n",
      "torch.Size([11, 14, 6])\n",
      "467\n",
      "train_loss -0.4570196469624837\n",
      "val_loss 58.55369\n"
     ]
    },
    {
     "data": {
      "application/vnd.jupyter.widget-view+json": {
       "model_id": "2014198612e1435cbd117e48358fffd2",
       "version_major": 2,
       "version_minor": 0
      },
      "text/plain": [
       "  0%|          | 0/3 [00:00<?, ?it/s]"
      ]
     },
     "metadata": {},
     "output_type": "display_data"
    },
    {
     "name": "stdout",
     "output_type": "stream",
     "text": [
      "torch.Size([40, 7, 6])\n",
      "torch.Size([40, 11, 6])\n",
      "torch.Size([11, 6, 6])\n",
      "468\n",
      "train_loss -0.822735051314036\n",
      "val_loss 57.578506\n"
     ]
    },
    {
     "data": {
      "application/vnd.jupyter.widget-view+json": {
       "model_id": "fcf5e0c69a4d479087bf0a114773d7fe",
       "version_major": 2,
       "version_minor": 0
      },
      "text/plain": [
       "  0%|          | 0/3 [00:00<?, ?it/s]"
      ]
     },
     "metadata": {},
     "output_type": "display_data"
    },
    {
     "name": "stdout",
     "output_type": "stream",
     "text": [
      "torch.Size([40, 10, 6])\n",
      "torch.Size([40, 5, 6])\n",
      "torch.Size([11, 9, 6])\n",
      "469\n",
      "train_loss -0.5624997864166895\n",
      "val_loss 56.980164\n"
     ]
    },
    {
     "data": {
      "application/vnd.jupyter.widget-view+json": {
       "model_id": "3c8194b88aa6494bbd6c13d30d349d61",
       "version_major": 2,
       "version_minor": 0
      },
      "text/plain": [
       "  0%|          | 0/3 [00:00<?, ?it/s]"
      ]
     },
     "metadata": {},
     "output_type": "display_data"
    },
    {
     "name": "stdout",
     "output_type": "stream",
     "text": [
      "torch.Size([40, 9, 6])\n",
      "torch.Size([40, 11, 6])\n",
      "torch.Size([11, 4, 6])\n",
      "470\n",
      "train_loss -0.3426239291826884\n",
      "val_loss 57.17781\n"
     ]
    },
    {
     "data": {
      "application/vnd.jupyter.widget-view+json": {
       "model_id": "ad6941a654fc497c85cdf2aa68c8a012",
       "version_major": 2,
       "version_minor": 0
      },
      "text/plain": [
       "  0%|          | 0/3 [00:00<?, ?it/s]"
      ]
     },
     "metadata": {},
     "output_type": "display_data"
    },
    {
     "name": "stdout",
     "output_type": "stream",
     "text": [
      "torch.Size([40, 12, 6])\n",
      "torch.Size([40, 10, 6])\n",
      "torch.Size([11, 14, 6])\n",
      "471\n",
      "train_loss -0.4475835661093394\n",
      "val_loss 58.59765\n"
     ]
    },
    {
     "data": {
      "application/vnd.jupyter.widget-view+json": {
       "model_id": "c1bcfbdc114b43699ac29774d87d0976",
       "version_major": 2,
       "version_minor": 0
      },
      "text/plain": [
       "  0%|          | 0/3 [00:00<?, ?it/s]"
      ]
     },
     "metadata": {},
     "output_type": "display_data"
    },
    {
     "name": "stdout",
     "output_type": "stream",
     "text": [
      "torch.Size([40, 12, 6])\n",
      "torch.Size([40, 10, 6])\n",
      "torch.Size([11, 12, 6])\n",
      "472\n",
      "train_loss -0.6470609605312347\n",
      "val_loss 58.50541\n"
     ]
    },
    {
     "data": {
      "application/vnd.jupyter.widget-view+json": {
       "model_id": "1580e3124b314f2886bd7fd400d93d48",
       "version_major": 2,
       "version_minor": 0
      },
      "text/plain": [
       "  0%|          | 0/3 [00:00<?, ?it/s]"
      ]
     },
     "metadata": {},
     "output_type": "display_data"
    },
    {
     "name": "stdout",
     "output_type": "stream",
     "text": [
      "torch.Size([40, 4, 6])\n",
      "torch.Size([40, 7, 6])\n",
      "torch.Size([11, 5, 6])\n",
      "473\n",
      "train_loss -0.6556456883748373\n",
      "val_loss 58.581448\n"
     ]
    },
    {
     "data": {
      "application/vnd.jupyter.widget-view+json": {
       "model_id": "dd957498c4d94c4aace5cb9bd416a721",
       "version_major": 2,
       "version_minor": 0
      },
      "text/plain": [
       "  0%|          | 0/3 [00:00<?, ?it/s]"
      ]
     },
     "metadata": {},
     "output_type": "display_data"
    },
    {
     "name": "stdout",
     "output_type": "stream",
     "text": [
      "torch.Size([40, 9, 6])\n",
      "torch.Size([40, 6, 6])\n",
      "torch.Size([11, 14, 6])\n",
      "474\n",
      "train_loss -0.5797265966733297\n",
      "val_loss 59.27246\n"
     ]
    },
    {
     "data": {
      "application/vnd.jupyter.widget-view+json": {
       "model_id": "69c9ba580f074ab7a2683a3aba9b6404",
       "version_major": 2,
       "version_minor": 0
      },
      "text/plain": [
       "  0%|          | 0/3 [00:00<?, ?it/s]"
      ]
     },
     "metadata": {},
     "output_type": "display_data"
    },
    {
     "name": "stdout",
     "output_type": "stream",
     "text": [
      "torch.Size([40, 13, 6])\n",
      "torch.Size([40, 4, 6])\n",
      "torch.Size([11, 6, 6])\n",
      "475\n",
      "train_loss -0.7562981645266215\n",
      "val_loss 59.85625\n"
     ]
    },
    {
     "data": {
      "application/vnd.jupyter.widget-view+json": {
       "model_id": "1a1e839966794bf6a0f7e20367546d33",
       "version_major": 2,
       "version_minor": 0
      },
      "text/plain": [
       "  0%|          | 0/3 [00:00<?, ?it/s]"
      ]
     },
     "metadata": {},
     "output_type": "display_data"
    },
    {
     "name": "stdout",
     "output_type": "stream",
     "text": [
      "torch.Size([40, 4, 6])\n",
      "torch.Size([40, 8, 6])\n",
      "torch.Size([11, 14, 6])\n",
      "476\n",
      "train_loss -0.3707249363263448\n",
      "val_loss 59.741325\n"
     ]
    },
    {
     "data": {
      "application/vnd.jupyter.widget-view+json": {
       "model_id": "be8be57ba6a74fe0a33636e297022afc",
       "version_major": 2,
       "version_minor": 0
      },
      "text/plain": [
       "  0%|          | 0/3 [00:00<?, ?it/s]"
      ]
     },
     "metadata": {},
     "output_type": "display_data"
    },
    {
     "name": "stdout",
     "output_type": "stream",
     "text": [
      "torch.Size([40, 5, 6])\n",
      "torch.Size([40, 9, 6])\n",
      "torch.Size([11, 14, 6])\n",
      "477\n",
      "train_loss -0.38339782506227493\n",
      "val_loss 59.498177\n"
     ]
    },
    {
     "data": {
      "application/vnd.jupyter.widget-view+json": {
       "model_id": "602eda6942db4b83bad961d32a421e99",
       "version_major": 2,
       "version_minor": 0
      },
      "text/plain": [
       "  0%|          | 0/3 [00:00<?, ?it/s]"
      ]
     },
     "metadata": {},
     "output_type": "display_data"
    },
    {
     "name": "stdout",
     "output_type": "stream",
     "text": [
      "torch.Size([40, 7, 6])\n",
      "torch.Size([40, 5, 6])\n",
      "torch.Size([11, 4, 6])\n",
      "478\n",
      "train_loss -0.6216031362613043\n",
      "val_loss 59.025284\n"
     ]
    },
    {
     "data": {
      "application/vnd.jupyter.widget-view+json": {
       "model_id": "fa63934b044a420f86049aff3f5e2e25",
       "version_major": 2,
       "version_minor": 0
      },
      "text/plain": [
       "  0%|          | 0/3 [00:00<?, ?it/s]"
      ]
     },
     "metadata": {},
     "output_type": "display_data"
    },
    {
     "name": "stdout",
     "output_type": "stream",
     "text": [
      "torch.Size([40, 9, 6])\n",
      "torch.Size([40, 6, 6])\n",
      "torch.Size([11, 8, 6])\n",
      "479\n",
      "train_loss -0.6575374205907186\n",
      "val_loss 58.94245\n"
     ]
    },
    {
     "data": {
      "application/vnd.jupyter.widget-view+json": {
       "model_id": "bb9ef3fb649848578bdfd47736a21404",
       "version_major": 2,
       "version_minor": 0
      },
      "text/plain": [
       "  0%|          | 0/3 [00:00<?, ?it/s]"
      ]
     },
     "metadata": {},
     "output_type": "display_data"
    },
    {
     "name": "stdout",
     "output_type": "stream",
     "text": [
      "torch.Size([40, 11, 6])\n",
      "torch.Size([40, 8, 6])\n",
      "torch.Size([11, 8, 6])\n",
      "480\n",
      "train_loss -0.7729812860488892\n",
      "val_loss 58.649403\n"
     ]
    },
    {
     "data": {
      "application/vnd.jupyter.widget-view+json": {
       "model_id": "5df7bd895e86431cac030805389c97e7",
       "version_major": 2,
       "version_minor": 0
      },
      "text/plain": [
       "  0%|          | 0/3 [00:00<?, ?it/s]"
      ]
     },
     "metadata": {},
     "output_type": "display_data"
    },
    {
     "name": "stdout",
     "output_type": "stream",
     "text": [
      "torch.Size([40, 7, 6])\n",
      "torch.Size([40, 6, 6])\n",
      "torch.Size([11, 13, 6])\n",
      "481\n",
      "train_loss -0.5434676110744476\n",
      "val_loss 58.518955\n"
     ]
    },
    {
     "data": {
      "application/vnd.jupyter.widget-view+json": {
       "model_id": "6a2883fee6524142972a04379349d3c9",
       "version_major": 2,
       "version_minor": 0
      },
      "text/plain": [
       "  0%|          | 0/3 [00:00<?, ?it/s]"
      ]
     },
     "metadata": {},
     "output_type": "display_data"
    },
    {
     "name": "stdout",
     "output_type": "stream",
     "text": [
      "torch.Size([40, 6, 6])\n",
      "torch.Size([40, 7, 6])\n",
      "torch.Size([11, 10, 6])\n",
      "482\n",
      "train_loss -0.8013512889544169\n",
      "val_loss 58.56153\n"
     ]
    },
    {
     "data": {
      "application/vnd.jupyter.widget-view+json": {
       "model_id": "57f31a25158740bda5f74ced2c559e3a",
       "version_major": 2,
       "version_minor": 0
      },
      "text/plain": [
       "  0%|          | 0/3 [00:00<?, ?it/s]"
      ]
     },
     "metadata": {},
     "output_type": "display_data"
    },
    {
     "name": "stdout",
     "output_type": "stream",
     "text": [
      "torch.Size([40, 13, 6])\n",
      "torch.Size([40, 5, 6])\n",
      "torch.Size([11, 6, 6])\n",
      "483\n",
      "train_loss -0.6501888036727905\n",
      "val_loss 58.71421\n"
     ]
    },
    {
     "data": {
      "application/vnd.jupyter.widget-view+json": {
       "model_id": "2a08a8fa68ab4a90b863fc56f2463cd5",
       "version_major": 2,
       "version_minor": 0
      },
      "text/plain": [
       "  0%|          | 0/3 [00:00<?, ?it/s]"
      ]
     },
     "metadata": {},
     "output_type": "display_data"
    },
    {
     "name": "stdout",
     "output_type": "stream",
     "text": [
      "torch.Size([40, 8, 6])\n",
      "torch.Size([40, 11, 6])\n",
      "torch.Size([11, 14, 6])\n",
      "484\n",
      "train_loss -0.7557984987894694\n",
      "val_loss 59.216457\n"
     ]
    },
    {
     "data": {
      "application/vnd.jupyter.widget-view+json": {
       "model_id": "bb5a7a8ebdb844028887cfb9fe026301",
       "version_major": 2,
       "version_minor": 0
      },
      "text/plain": [
       "  0%|          | 0/3 [00:00<?, ?it/s]"
      ]
     },
     "metadata": {},
     "output_type": "display_data"
    },
    {
     "name": "stdout",
     "output_type": "stream",
     "text": [
      "torch.Size([40, 13, 6])\n",
      "torch.Size([40, 8, 6])\n",
      "torch.Size([11, 14, 6])\n",
      "485\n",
      "train_loss -0.8346468210220337\n",
      "val_loss 59.428215\n"
     ]
    },
    {
     "data": {
      "application/vnd.jupyter.widget-view+json": {
       "model_id": "ad1ae0e60c634cbabd416b242008604c",
       "version_major": 2,
       "version_minor": 0
      },
      "text/plain": [
       "  0%|          | 0/3 [00:00<?, ?it/s]"
      ]
     },
     "metadata": {},
     "output_type": "display_data"
    },
    {
     "name": "stdout",
     "output_type": "stream",
     "text": [
      "torch.Size([40, 10, 6])\n",
      "torch.Size([40, 8, 6])\n",
      "torch.Size([11, 10, 6])\n",
      "486\n",
      "train_loss -0.6914967000484467\n",
      "val_loss 59.39341\n"
     ]
    },
    {
     "data": {
      "application/vnd.jupyter.widget-view+json": {
       "model_id": "b6f54cc7a770450691f7bb4e4072f23d",
       "version_major": 2,
       "version_minor": 0
      },
      "text/plain": [
       "  0%|          | 0/3 [00:00<?, ?it/s]"
      ]
     },
     "metadata": {},
     "output_type": "display_data"
    },
    {
     "name": "stdout",
     "output_type": "stream",
     "text": [
      "torch.Size([40, 14, 6])\n",
      "torch.Size([40, 14, 6])\n",
      "torch.Size([11, 12, 6])\n",
      "487\n",
      "train_loss -0.5470024893681208\n",
      "val_loss 59.1101\n"
     ]
    },
    {
     "data": {
      "application/vnd.jupyter.widget-view+json": {
       "model_id": "153b55bb1aee4c95af5378e9f80dfbd7",
       "version_major": 2,
       "version_minor": 0
      },
      "text/plain": [
       "  0%|          | 0/3 [00:00<?, ?it/s]"
      ]
     },
     "metadata": {},
     "output_type": "display_data"
    },
    {
     "name": "stdout",
     "output_type": "stream",
     "text": [
      "torch.Size([40, 5, 6])\n",
      "torch.Size([40, 4, 6])\n",
      "torch.Size([11, 7, 6])\n",
      "488\n",
      "train_loss -0.35784266392389935\n",
      "val_loss 58.89912\n"
     ]
    },
    {
     "data": {
      "application/vnd.jupyter.widget-view+json": {
       "model_id": "56d8e59bf7a5485c98942b135d13a286",
       "version_major": 2,
       "version_minor": 0
      },
      "text/plain": [
       "  0%|          | 0/3 [00:00<?, ?it/s]"
      ]
     },
     "metadata": {},
     "output_type": "display_data"
    },
    {
     "name": "stdout",
     "output_type": "stream",
     "text": [
      "torch.Size([40, 6, 6])\n",
      "torch.Size([40, 12, 6])\n",
      "torch.Size([11, 6, 6])\n",
      "489\n",
      "train_loss -0.3980419784784317\n",
      "val_loss 59.745743\n"
     ]
    },
    {
     "data": {
      "application/vnd.jupyter.widget-view+json": {
       "model_id": "ee1c405de10f4aa0bc42d6b5db7e3f1d",
       "version_major": 2,
       "version_minor": 0
      },
      "text/plain": [
       "  0%|          | 0/3 [00:00<?, ?it/s]"
      ]
     },
     "metadata": {},
     "output_type": "display_data"
    },
    {
     "name": "stdout",
     "output_type": "stream",
     "text": [
      "torch.Size([40, 7, 6])\n",
      "torch.Size([40, 7, 6])\n",
      "torch.Size([11, 8, 6])\n",
      "490\n",
      "train_loss -0.6044656932353973\n",
      "val_loss 60.216007\n"
     ]
    },
    {
     "data": {
      "application/vnd.jupyter.widget-view+json": {
       "model_id": "441b1656fa714b098427491e6ba72d44",
       "version_major": 2,
       "version_minor": 0
      },
      "text/plain": [
       "  0%|          | 0/3 [00:00<?, ?it/s]"
      ]
     },
     "metadata": {},
     "output_type": "display_data"
    },
    {
     "name": "stdout",
     "output_type": "stream",
     "text": [
      "torch.Size([40, 8, 6])\n",
      "torch.Size([40, 7, 6])\n",
      "torch.Size([11, 4, 6])\n",
      "491\n",
      "train_loss -0.6885557770729065\n",
      "val_loss 59.765343\n"
     ]
    },
    {
     "data": {
      "application/vnd.jupyter.widget-view+json": {
       "model_id": "04474bb054c046f3aeb0410e006e6e96",
       "version_major": 2,
       "version_minor": 0
      },
      "text/plain": [
       "  0%|          | 0/3 [00:00<?, ?it/s]"
      ]
     },
     "metadata": {},
     "output_type": "display_data"
    },
    {
     "name": "stdout",
     "output_type": "stream",
     "text": [
      "torch.Size([40, 13, 6])\n",
      "torch.Size([40, 4, 6])\n",
      "torch.Size([11, 4, 6])\n",
      "492\n",
      "train_loss -0.6168539921442667\n",
      "val_loss 60.007355\n"
     ]
    },
    {
     "data": {
      "application/vnd.jupyter.widget-view+json": {
       "model_id": "181fca42b0bb45e0abf25e9901b6372a",
       "version_major": 2,
       "version_minor": 0
      },
      "text/plain": [
       "  0%|          | 0/3 [00:00<?, ?it/s]"
      ]
     },
     "metadata": {},
     "output_type": "display_data"
    },
    {
     "name": "stdout",
     "output_type": "stream",
     "text": [
      "torch.Size([40, 8, 6])\n",
      "torch.Size([40, 12, 6])\n",
      "torch.Size([11, 9, 6])\n",
      "493\n",
      "train_loss -0.704546332359314\n",
      "val_loss 60.28464\n"
     ]
    },
    {
     "data": {
      "application/vnd.jupyter.widget-view+json": {
       "model_id": "a7e1212077634e71aaf7597d8f848f64",
       "version_major": 2,
       "version_minor": 0
      },
      "text/plain": [
       "  0%|          | 0/3 [00:00<?, ?it/s]"
      ]
     },
     "metadata": {},
     "output_type": "display_data"
    },
    {
     "name": "stdout",
     "output_type": "stream",
     "text": [
      "torch.Size([40, 9, 6])\n",
      "torch.Size([40, 8, 6])\n",
      "torch.Size([11, 12, 6])\n",
      "494\n",
      "train_loss -0.7883953054745992\n",
      "val_loss 59.323086\n"
     ]
    },
    {
     "data": {
      "application/vnd.jupyter.widget-view+json": {
       "model_id": "5fde570aa94a4728bc520edb7d385a52",
       "version_major": 2,
       "version_minor": 0
      },
      "text/plain": [
       "  0%|          | 0/3 [00:00<?, ?it/s]"
      ]
     },
     "metadata": {},
     "output_type": "display_data"
    },
    {
     "name": "stdout",
     "output_type": "stream",
     "text": [
      "torch.Size([40, 12, 6])\n",
      "torch.Size([40, 13, 6])\n",
      "torch.Size([11, 14, 6])\n",
      "495\n",
      "train_loss -0.7036221325397491\n",
      "val_loss 58.4417\n"
     ]
    },
    {
     "data": {
      "application/vnd.jupyter.widget-view+json": {
       "model_id": "1df781ad2b3745cb9de11abb4ac14460",
       "version_major": 2,
       "version_minor": 0
      },
      "text/plain": [
       "  0%|          | 0/3 [00:00<?, ?it/s]"
      ]
     },
     "metadata": {},
     "output_type": "display_data"
    },
    {
     "name": "stdout",
     "output_type": "stream",
     "text": [
      "torch.Size([40, 8, 6])\n",
      "torch.Size([40, 4, 6])\n",
      "torch.Size([11, 13, 6])\n",
      "496\n",
      "train_loss -0.6290948490301768\n",
      "val_loss 58.147198\n"
     ]
    },
    {
     "data": {
      "application/vnd.jupyter.widget-view+json": {
       "model_id": "c48142e9589f466a8a4e0acdadcb6505",
       "version_major": 2,
       "version_minor": 0
      },
      "text/plain": [
       "  0%|          | 0/3 [00:00<?, ?it/s]"
      ]
     },
     "metadata": {},
     "output_type": "display_data"
    },
    {
     "name": "stdout",
     "output_type": "stream",
     "text": [
      "torch.Size([40, 11, 6])\n",
      "torch.Size([40, 9, 6])\n",
      "torch.Size([11, 6, 6])\n",
      "497\n",
      "train_loss -0.5852749763677517\n",
      "val_loss 58.51873\n"
     ]
    },
    {
     "data": {
      "application/vnd.jupyter.widget-view+json": {
       "model_id": "f27f46388c2a4949b21086118bfa8322",
       "version_major": 2,
       "version_minor": 0
      },
      "text/plain": [
       "  0%|          | 0/3 [00:00<?, ?it/s]"
      ]
     },
     "metadata": {},
     "output_type": "display_data"
    },
    {
     "name": "stdout",
     "output_type": "stream",
     "text": [
      "torch.Size([40, 7, 6])\n",
      "torch.Size([40, 8, 6])\n",
      "torch.Size([11, 14, 6])\n",
      "498\n",
      "train_loss -0.6452755729357401\n",
      "val_loss 58.042675\n"
     ]
    },
    {
     "data": {
      "application/vnd.jupyter.widget-view+json": {
       "model_id": "422270236c2e49c8a315a47eaa4de13c",
       "version_major": 2,
       "version_minor": 0
      },
      "text/plain": [
       "  0%|          | 0/3 [00:00<?, ?it/s]"
      ]
     },
     "metadata": {},
     "output_type": "display_data"
    },
    {
     "name": "stdout",
     "output_type": "stream",
     "text": [
      "torch.Size([40, 6, 6])\n",
      "torch.Size([40, 9, 6])\n",
      "torch.Size([11, 14, 6])\n",
      "499\n",
      "train_loss -0.7002778947353363\n",
      "val_loss 57.877342\n"
     ]
    },
    {
     "data": {
      "application/vnd.jupyter.widget-view+json": {
       "model_id": "ba699e71d494472099a6016c72ff3d2d",
       "version_major": 2,
       "version_minor": 0
      },
      "text/plain": [
       "  0%|          | 0/3 [00:00<?, ?it/s]"
      ]
     },
     "metadata": {},
     "output_type": "display_data"
    },
    {
     "name": "stdout",
     "output_type": "stream",
     "text": [
      "torch.Size([40, 9, 6])\n",
      "torch.Size([40, 8, 6])\n",
      "torch.Size([11, 5, 6])\n",
      "500\n",
      "train_loss -0.6882403294245402\n",
      "val_loss 58.324512\n"
     ]
    },
    {
     "data": {
      "application/vnd.jupyter.widget-view+json": {
       "model_id": "1b32b66f47cd428caa8675034f60e864",
       "version_major": 2,
       "version_minor": 0
      },
      "text/plain": [
       "  0%|          | 0/3 [00:00<?, ?it/s]"
      ]
     },
     "metadata": {},
     "output_type": "display_data"
    },
    {
     "name": "stdout",
     "output_type": "stream",
     "text": [
      "torch.Size([40, 9, 6])\n",
      "torch.Size([40, 7, 6])\n",
      "torch.Size([11, 7, 6])\n",
      "501\n",
      "train_loss -0.7878094911575317\n",
      "val_loss 58.197918\n"
     ]
    },
    {
     "data": {
      "application/vnd.jupyter.widget-view+json": {
       "model_id": "c1a38ffda0f0403c82f012834554a4b0",
       "version_major": 2,
       "version_minor": 0
      },
      "text/plain": [
       "  0%|          | 0/3 [00:00<?, ?it/s]"
      ]
     },
     "metadata": {},
     "output_type": "display_data"
    },
    {
     "name": "stdout",
     "output_type": "stream",
     "text": [
      "torch.Size([40, 6, 6])\n",
      "torch.Size([40, 8, 6])\n",
      "torch.Size([11, 6, 6])\n",
      "502\n",
      "train_loss -0.8796990911165873\n",
      "val_loss 58.01786\n"
     ]
    },
    {
     "data": {
      "application/vnd.jupyter.widget-view+json": {
       "model_id": "ca8677248c9c4714a440678ab26daa27",
       "version_major": 2,
       "version_minor": 0
      },
      "text/plain": [
       "  0%|          | 0/3 [00:00<?, ?it/s]"
      ]
     },
     "metadata": {},
     "output_type": "display_data"
    },
    {
     "name": "stdout",
     "output_type": "stream",
     "text": [
      "torch.Size([40, 11, 6])\n",
      "torch.Size([40, 7, 6])\n",
      "torch.Size([11, 10, 6])\n",
      "503\n",
      "train_loss 0.02138771613438924\n",
      "val_loss 57.518005\n"
     ]
    },
    {
     "data": {
      "application/vnd.jupyter.widget-view+json": {
       "model_id": "56c3825335fd4dc9b4e996bcbcd13290",
       "version_major": 2,
       "version_minor": 0
      },
      "text/plain": [
       "  0%|          | 0/3 [00:00<?, ?it/s]"
      ]
     },
     "metadata": {},
     "output_type": "display_data"
    },
    {
     "name": "stdout",
     "output_type": "stream",
     "text": [
      "torch.Size([40, 5, 6])\n",
      "torch.Size([40, 14, 6])\n",
      "torch.Size([11, 5, 6])\n",
      "504\n",
      "train_loss -0.18465161323547363\n",
      "val_loss 57.429924\n"
     ]
    },
    {
     "data": {
      "application/vnd.jupyter.widget-view+json": {
       "model_id": "a1ec92322ef74a72a7e686f1ffe1e264",
       "version_major": 2,
       "version_minor": 0
      },
      "text/plain": [
       "  0%|          | 0/3 [00:00<?, ?it/s]"
      ]
     },
     "metadata": {},
     "output_type": "display_data"
    },
    {
     "name": "stdout",
     "output_type": "stream",
     "text": [
      "torch.Size([40, 8, 6])\n",
      "torch.Size([40, 8, 6])\n",
      "torch.Size([11, 9, 6])\n",
      "505\n",
      "train_loss -0.7840392788251241\n",
      "val_loss 58.476837\n"
     ]
    },
    {
     "data": {
      "application/vnd.jupyter.widget-view+json": {
       "model_id": "1e261cc484274c2c949101fb010231ad",
       "version_major": 2,
       "version_minor": 0
      },
      "text/plain": [
       "  0%|          | 0/3 [00:00<?, ?it/s]"
      ]
     },
     "metadata": {},
     "output_type": "display_data"
    },
    {
     "name": "stdout",
     "output_type": "stream",
     "text": [
      "torch.Size([40, 4, 6])\n",
      "torch.Size([40, 6, 6])\n",
      "torch.Size([11, 13, 6])\n",
      "506\n",
      "train_loss -0.1053304672241211\n",
      "val_loss 58.14781\n"
     ]
    },
    {
     "data": {
      "application/vnd.jupyter.widget-view+json": {
       "model_id": "7ba24a0e8f764b15ba18c5cc99078b40",
       "version_major": 2,
       "version_minor": 0
      },
      "text/plain": [
       "  0%|          | 0/3 [00:00<?, ?it/s]"
      ]
     },
     "metadata": {},
     "output_type": "display_data"
    },
    {
     "name": "stdout",
     "output_type": "stream",
     "text": [
      "torch.Size([40, 4, 6])\n",
      "torch.Size([40, 14, 6])\n",
      "torch.Size([11, 10, 6])\n",
      "507\n",
      "train_loss -0.630502055088679\n",
      "val_loss 57.853474\n"
     ]
    },
    {
     "data": {
      "application/vnd.jupyter.widget-view+json": {
       "model_id": "961a9674ebdd48c1a3c5753afd3786c0",
       "version_major": 2,
       "version_minor": 0
      },
      "text/plain": [
       "  0%|          | 0/3 [00:00<?, ?it/s]"
      ]
     },
     "metadata": {},
     "output_type": "display_data"
    },
    {
     "name": "stdout",
     "output_type": "stream",
     "text": [
      "torch.Size([40, 13, 6])\n",
      "torch.Size([40, 4, 6])\n",
      "torch.Size([11, 9, 6])\n",
      "508\n",
      "train_loss -0.552014152208964\n",
      "val_loss 57.26377\n"
     ]
    },
    {
     "data": {
      "application/vnd.jupyter.widget-view+json": {
       "model_id": "28e98ea4454342bcb1c8c22211f0574f",
       "version_major": 2,
       "version_minor": 0
      },
      "text/plain": [
       "  0%|          | 0/3 [00:00<?, ?it/s]"
      ]
     },
     "metadata": {},
     "output_type": "display_data"
    },
    {
     "name": "stdout",
     "output_type": "stream",
     "text": [
      "torch.Size([40, 4, 6])\n",
      "torch.Size([40, 10, 6])\n",
      "torch.Size([11, 13, 6])\n",
      "509\n",
      "train_loss -0.5638634624580542\n",
      "val_loss 57.790222\n"
     ]
    },
    {
     "data": {
      "application/vnd.jupyter.widget-view+json": {
       "model_id": "95248dc829144910bceab22460d3d7f7",
       "version_major": 2,
       "version_minor": 0
      },
      "text/plain": [
       "  0%|          | 0/3 [00:00<?, ?it/s]"
      ]
     },
     "metadata": {},
     "output_type": "display_data"
    },
    {
     "name": "stdout",
     "output_type": "stream",
     "text": [
      "torch.Size([40, 4, 6])\n",
      "torch.Size([40, 6, 6])\n",
      "torch.Size([11, 10, 6])\n",
      "510\n",
      "train_loss -0.5551235973834991\n",
      "val_loss 57.644733\n"
     ]
    },
    {
     "data": {
      "application/vnd.jupyter.widget-view+json": {
       "model_id": "cb1600d71fe344beadf5196fc528b185",
       "version_major": 2,
       "version_minor": 0
      },
      "text/plain": [
       "  0%|          | 0/3 [00:00<?, ?it/s]"
      ]
     },
     "metadata": {},
     "output_type": "display_data"
    },
    {
     "name": "stdout",
     "output_type": "stream",
     "text": [
      "torch.Size([40, 9, 6])\n",
      "torch.Size([40, 11, 6])\n",
      "torch.Size([11, 4, 6])\n",
      "511\n",
      "train_loss -0.546705444653829\n",
      "val_loss 56.478928\n"
     ]
    },
    {
     "data": {
      "application/vnd.jupyter.widget-view+json": {
       "model_id": "13fb4c6676ee4754822c8c181432fd72",
       "version_major": 2,
       "version_minor": 0
      },
      "text/plain": [
       "  0%|          | 0/3 [00:00<?, ?it/s]"
      ]
     },
     "metadata": {},
     "output_type": "display_data"
    },
    {
     "name": "stdout",
     "output_type": "stream",
     "text": [
      "torch.Size([40, 14, 6])\n",
      "torch.Size([40, 7, 6])\n",
      "torch.Size([11, 14, 6])\n",
      "512\n",
      "train_loss -0.606371228893598\n",
      "val_loss 55.56705\n"
     ]
    },
    {
     "data": {
      "application/vnd.jupyter.widget-view+json": {
       "model_id": "e903e7f6229144bea6284eaea47892c7",
       "version_major": 2,
       "version_minor": 0
      },
      "text/plain": [
       "  0%|          | 0/3 [00:00<?, ?it/s]"
      ]
     },
     "metadata": {},
     "output_type": "display_data"
    },
    {
     "name": "stdout",
     "output_type": "stream",
     "text": [
      "torch.Size([40, 4, 6])\n",
      "torch.Size([40, 13, 6])\n",
      "torch.Size([11, 14, 6])\n",
      "513\n",
      "train_loss -0.7525331974029541\n",
      "val_loss 55.58716\n"
     ]
    },
    {
     "data": {
      "application/vnd.jupyter.widget-view+json": {
       "model_id": "1cd00f068ecb42c4ab56293f0c730a24",
       "version_major": 2,
       "version_minor": 0
      },
      "text/plain": [
       "  0%|          | 0/3 [00:00<?, ?it/s]"
      ]
     },
     "metadata": {},
     "output_type": "display_data"
    },
    {
     "name": "stdout",
     "output_type": "stream",
     "text": [
      "torch.Size([40, 4, 6])\n",
      "torch.Size([40, 11, 6])\n",
      "torch.Size([11, 10, 6])\n",
      "514\n",
      "train_loss -0.5773936907450358\n",
      "val_loss 55.984646\n"
     ]
    },
    {
     "data": {
      "application/vnd.jupyter.widget-view+json": {
       "model_id": "3cd15437d4d943f496ba68478fe1e4f7",
       "version_major": 2,
       "version_minor": 0
      },
      "text/plain": [
       "  0%|          | 0/3 [00:00<?, ?it/s]"
      ]
     },
     "metadata": {},
     "output_type": "display_data"
    },
    {
     "name": "stdout",
     "output_type": "stream",
     "text": [
      "torch.Size([40, 6, 6])\n",
      "torch.Size([40, 14, 6])\n",
      "torch.Size([11, 11, 6])\n",
      "515\n",
      "train_loss -0.7087018291155497\n",
      "val_loss 56.49915\n"
     ]
    },
    {
     "data": {
      "application/vnd.jupyter.widget-view+json": {
       "model_id": "abcb52003d244cdca2b3966a24265e1e",
       "version_major": 2,
       "version_minor": 0
      },
      "text/plain": [
       "  0%|          | 0/3 [00:00<?, ?it/s]"
      ]
     },
     "metadata": {},
     "output_type": "display_data"
    },
    {
     "name": "stdout",
     "output_type": "stream",
     "text": [
      "torch.Size([40, 4, 6])\n",
      "torch.Size([40, 12, 6])\n",
      "torch.Size([11, 5, 6])\n",
      "516\n",
      "train_loss -0.6437149345874786\n",
      "val_loss 58.02335\n"
     ]
    },
    {
     "data": {
      "application/vnd.jupyter.widget-view+json": {
       "model_id": "813351c2c3d5441aba320eb2bdc52000",
       "version_major": 2,
       "version_minor": 0
      },
      "text/plain": [
       "  0%|          | 0/3 [00:00<?, ?it/s]"
      ]
     },
     "metadata": {},
     "output_type": "display_data"
    },
    {
     "name": "stdout",
     "output_type": "stream",
     "text": [
      "torch.Size([40, 10, 6])\n",
      "torch.Size([40, 10, 6])\n",
      "torch.Size([11, 6, 6])\n",
      "517\n",
      "train_loss -0.63072669506073\n",
      "val_loss 58.314533\n"
     ]
    },
    {
     "data": {
      "application/vnd.jupyter.widget-view+json": {
       "model_id": "a0d67b8db94b46cc8ea1d942f9aab544",
       "version_major": 2,
       "version_minor": 0
      },
      "text/plain": [
       "  0%|          | 0/3 [00:00<?, ?it/s]"
      ]
     },
     "metadata": {},
     "output_type": "display_data"
    },
    {
     "name": "stdout",
     "output_type": "stream",
     "text": [
      "torch.Size([40, 13, 6])\n",
      "torch.Size([40, 7, 6])\n",
      "torch.Size([11, 6, 6])\n",
      "518\n",
      "train_loss -0.7045878171920776\n",
      "val_loss 57.28967\n"
     ]
    },
    {
     "data": {
      "application/vnd.jupyter.widget-view+json": {
       "model_id": "1ae62689e4254adda8b5285bec5563a7",
       "version_major": 2,
       "version_minor": 0
      },
      "text/plain": [
       "  0%|          | 0/3 [00:00<?, ?it/s]"
      ]
     },
     "metadata": {},
     "output_type": "display_data"
    },
    {
     "name": "stdout",
     "output_type": "stream",
     "text": [
      "torch.Size([40, 11, 6])\n",
      "torch.Size([40, 14, 6])\n",
      "torch.Size([11, 9, 6])\n",
      "519\n",
      "train_loss -0.8162307341893514\n",
      "val_loss 57.450832\n"
     ]
    },
    {
     "data": {
      "application/vnd.jupyter.widget-view+json": {
       "model_id": "f7adcda5ffe049bc8e422546189230d7",
       "version_major": 2,
       "version_minor": 0
      },
      "text/plain": [
       "  0%|          | 0/3 [00:00<?, ?it/s]"
      ]
     },
     "metadata": {},
     "output_type": "display_data"
    },
    {
     "name": "stdout",
     "output_type": "stream",
     "text": [
      "torch.Size([40, 10, 6])\n",
      "torch.Size([40, 7, 6])\n",
      "torch.Size([11, 13, 6])\n",
      "520\n",
      "train_loss -0.6683248082796732\n",
      "val_loss 57.831028\n"
     ]
    },
    {
     "data": {
      "application/vnd.jupyter.widget-view+json": {
       "model_id": "ba1cb4c1621f4bc2b3bc74b9dea7dafa",
       "version_major": 2,
       "version_minor": 0
      },
      "text/plain": [
       "  0%|          | 0/3 [00:00<?, ?it/s]"
      ]
     },
     "metadata": {},
     "output_type": "display_data"
    },
    {
     "name": "stdout",
     "output_type": "stream",
     "text": [
      "torch.Size([40, 9, 6])\n",
      "torch.Size([40, 8, 6])\n",
      "torch.Size([11, 13, 6])\n",
      "521\n",
      "train_loss -0.744324266910553\n",
      "val_loss 57.90458\n"
     ]
    },
    {
     "data": {
      "application/vnd.jupyter.widget-view+json": {
       "model_id": "bcf51f9a148b4236ae444ab4f1d09f1e",
       "version_major": 2,
       "version_minor": 0
      },
      "text/plain": [
       "  0%|          | 0/3 [00:00<?, ?it/s]"
      ]
     },
     "metadata": {},
     "output_type": "display_data"
    },
    {
     "name": "stdout",
     "output_type": "stream",
     "text": [
      "torch.Size([40, 4, 6])\n",
      "torch.Size([40, 10, 6])\n",
      "torch.Size([11, 11, 6])\n",
      "522\n",
      "train_loss -0.6527376944820086\n",
      "val_loss 57.423985\n"
     ]
    },
    {
     "data": {
      "application/vnd.jupyter.widget-view+json": {
       "model_id": "59325b02c934463eb91287bf45273adc",
       "version_major": 2,
       "version_minor": 0
      },
      "text/plain": [
       "  0%|          | 0/3 [00:00<?, ?it/s]"
      ]
     },
     "metadata": {},
     "output_type": "display_data"
    },
    {
     "name": "stdout",
     "output_type": "stream",
     "text": [
      "torch.Size([40, 12, 6])\n",
      "torch.Size([40, 5, 6])\n",
      "torch.Size([11, 8, 6])\n",
      "523\n",
      "train_loss -0.8425881465276083\n",
      "val_loss 57.559853\n"
     ]
    },
    {
     "data": {
      "application/vnd.jupyter.widget-view+json": {
       "model_id": "16a8855648cd444189e6814f0aeb3a96",
       "version_major": 2,
       "version_minor": 0
      },
      "text/plain": [
       "  0%|          | 0/3 [00:00<?, ?it/s]"
      ]
     },
     "metadata": {},
     "output_type": "display_data"
    },
    {
     "name": "stdout",
     "output_type": "stream",
     "text": [
      "torch.Size([40, 10, 6])\n",
      "torch.Size([40, 13, 6])\n",
      "torch.Size([11, 8, 6])\n",
      "524\n",
      "train_loss -0.8868448535601298\n",
      "val_loss 58.162567\n"
     ]
    },
    {
     "data": {
      "application/vnd.jupyter.widget-view+json": {
       "model_id": "3347f2cedb8147f4874ded8a25e33fb0",
       "version_major": 2,
       "version_minor": 0
      },
      "text/plain": [
       "  0%|          | 0/3 [00:00<?, ?it/s]"
      ]
     },
     "metadata": {},
     "output_type": "display_data"
    },
    {
     "name": "stdout",
     "output_type": "stream",
     "text": [
      "torch.Size([40, 13, 6])\n",
      "torch.Size([40, 14, 6])\n",
      "torch.Size([11, 7, 6])\n",
      "525\n",
      "train_loss -0.7587556640307108\n",
      "val_loss 58.42824\n"
     ]
    },
    {
     "data": {
      "application/vnd.jupyter.widget-view+json": {
       "model_id": "96fd6a30f8254c69b790624839bbecc1",
       "version_major": 2,
       "version_minor": 0
      },
      "text/plain": [
       "  0%|          | 0/3 [00:00<?, ?it/s]"
      ]
     },
     "metadata": {},
     "output_type": "display_data"
    },
    {
     "name": "stdout",
     "output_type": "stream",
     "text": [
      "torch.Size([40, 9, 6])\n",
      "torch.Size([40, 7, 6])\n",
      "torch.Size([11, 4, 6])\n",
      "526\n",
      "train_loss -0.6643989781538645\n",
      "val_loss 58.93417\n"
     ]
    },
    {
     "data": {
      "application/vnd.jupyter.widget-view+json": {
       "model_id": "2f03e6041d4946c48b112cc4eca210b1",
       "version_major": 2,
       "version_minor": 0
      },
      "text/plain": [
       "  0%|          | 0/3 [00:00<?, ?it/s]"
      ]
     },
     "metadata": {},
     "output_type": "display_data"
    },
    {
     "name": "stdout",
     "output_type": "stream",
     "text": [
      "torch.Size([40, 10, 6])\n",
      "torch.Size([40, 7, 6])\n",
      "torch.Size([11, 4, 6])\n",
      "527\n",
      "train_loss -0.5247216572364172\n",
      "val_loss 58.443623\n"
     ]
    },
    {
     "data": {
      "application/vnd.jupyter.widget-view+json": {
       "model_id": "bcc309264449447b9fc9bee2833818fb",
       "version_major": 2,
       "version_minor": 0
      },
      "text/plain": [
       "  0%|          | 0/3 [00:00<?, ?it/s]"
      ]
     },
     "metadata": {},
     "output_type": "display_data"
    },
    {
     "name": "stdout",
     "output_type": "stream",
     "text": [
      "torch.Size([40, 10, 6])\n",
      "torch.Size([40, 8, 6])\n",
      "torch.Size([11, 6, 6])\n",
      "528\n",
      "train_loss -0.846441924571991\n",
      "val_loss 57.54029\n"
     ]
    },
    {
     "data": {
      "application/vnd.jupyter.widget-view+json": {
       "model_id": "ae5f04eed6e74fa6ae50e09f34f0a59e",
       "version_major": 2,
       "version_minor": 0
      },
      "text/plain": [
       "  0%|          | 0/3 [00:00<?, ?it/s]"
      ]
     },
     "metadata": {},
     "output_type": "display_data"
    },
    {
     "name": "stdout",
     "output_type": "stream",
     "text": [
      "torch.Size([40, 13, 6])\n",
      "torch.Size([40, 11, 6])\n",
      "torch.Size([11, 4, 6])\n",
      "529\n",
      "train_loss -0.7315095861752828\n",
      "val_loss 57.72392\n"
     ]
    },
    {
     "data": {
      "application/vnd.jupyter.widget-view+json": {
       "model_id": "c2efe6d4271e438687c3af0d69fbe17f",
       "version_major": 2,
       "version_minor": 0
      },
      "text/plain": [
       "  0%|          | 0/3 [00:00<?, ?it/s]"
      ]
     },
     "metadata": {},
     "output_type": "display_data"
    },
    {
     "name": "stdout",
     "output_type": "stream",
     "text": [
      "torch.Size([40, 6, 6])\n",
      "torch.Size([40, 5, 6])\n",
      "torch.Size([11, 6, 6])\n",
      "530\n",
      "train_loss -0.7438019712766012\n",
      "val_loss 58.01925\n"
     ]
    },
    {
     "data": {
      "application/vnd.jupyter.widget-view+json": {
       "model_id": "3289167397c84184a085c2abaa961c11",
       "version_major": 2,
       "version_minor": 0
      },
      "text/plain": [
       "  0%|          | 0/3 [00:00<?, ?it/s]"
      ]
     },
     "metadata": {},
     "output_type": "display_data"
    },
    {
     "name": "stdout",
     "output_type": "stream",
     "text": [
      "torch.Size([40, 14, 6])\n",
      "torch.Size([40, 14, 6])\n",
      "torch.Size([11, 7, 6])\n",
      "531\n",
      "train_loss 0.3076493740081787\n",
      "val_loss 58.042862\n"
     ]
    },
    {
     "data": {
      "application/vnd.jupyter.widget-view+json": {
       "model_id": "4b2f26b7741e4c95b625415ff8aa2045",
       "version_major": 2,
       "version_minor": 0
      },
      "text/plain": [
       "  0%|          | 0/3 [00:00<?, ?it/s]"
      ]
     },
     "metadata": {},
     "output_type": "display_data"
    },
    {
     "name": "stdout",
     "output_type": "stream",
     "text": [
      "torch.Size([40, 4, 6])\n",
      "torch.Size([40, 8, 6])\n",
      "torch.Size([11, 11, 6])\n",
      "532\n",
      "train_loss -0.45813282082478207\n",
      "val_loss 58.19036\n"
     ]
    },
    {
     "data": {
      "application/vnd.jupyter.widget-view+json": {
       "model_id": "c2523c1aa1e84a1faaa9c8e0efd0d264",
       "version_major": 2,
       "version_minor": 0
      },
      "text/plain": [
       "  0%|          | 0/3 [00:00<?, ?it/s]"
      ]
     },
     "metadata": {},
     "output_type": "display_data"
    },
    {
     "name": "stdout",
     "output_type": "stream",
     "text": [
      "torch.Size([40, 10, 6])\n",
      "torch.Size([40, 14, 6])\n",
      "torch.Size([11, 12, 6])\n",
      "533\n",
      "train_loss -0.6830748518308004\n",
      "val_loss 57.677082\n"
     ]
    },
    {
     "data": {
      "application/vnd.jupyter.widget-view+json": {
       "model_id": "968e2260b5d34f9b8f5dcdc05ecd43f1",
       "version_major": 2,
       "version_minor": 0
      },
      "text/plain": [
       "  0%|          | 0/3 [00:00<?, ?it/s]"
      ]
     },
     "metadata": {},
     "output_type": "display_data"
    },
    {
     "name": "stdout",
     "output_type": "stream",
     "text": [
      "torch.Size([40, 5, 6])\n",
      "torch.Size([40, 14, 6])\n",
      "torch.Size([11, 4, 6])\n",
      "534\n",
      "train_loss -0.02714034914970398\n",
      "val_loss 57.537754\n"
     ]
    },
    {
     "data": {
      "application/vnd.jupyter.widget-view+json": {
       "model_id": "060266caeb5f4e5faa188a7abc0b9f49",
       "version_major": 2,
       "version_minor": 0
      },
      "text/plain": [
       "  0%|          | 0/3 [00:00<?, ?it/s]"
      ]
     },
     "metadata": {},
     "output_type": "display_data"
    },
    {
     "name": "stdout",
     "output_type": "stream",
     "text": [
      "torch.Size([40, 14, 6])\n",
      "torch.Size([40, 10, 6])\n",
      "torch.Size([11, 10, 6])\n",
      "535\n",
      "train_loss -0.6309062937895457\n",
      "val_loss 57.76082\n"
     ]
    },
    {
     "data": {
      "application/vnd.jupyter.widget-view+json": {
       "model_id": "b08349d7688e4890ad7ab067e747b308",
       "version_major": 2,
       "version_minor": 0
      },
      "text/plain": [
       "  0%|          | 0/3 [00:00<?, ?it/s]"
      ]
     },
     "metadata": {},
     "output_type": "display_data"
    },
    {
     "name": "stdout",
     "output_type": "stream",
     "text": [
      "torch.Size([40, 7, 6])\n",
      "torch.Size([40, 6, 6])\n",
      "torch.Size([11, 14, 6])\n",
      "536\n",
      "train_loss -0.44236812988917035\n",
      "val_loss 57.4112\n"
     ]
    },
    {
     "data": {
      "application/vnd.jupyter.widget-view+json": {
       "model_id": "12f932e2ee3743ba87f94fae21ed46eb",
       "version_major": 2,
       "version_minor": 0
      },
      "text/plain": [
       "  0%|          | 0/3 [00:00<?, ?it/s]"
      ]
     },
     "metadata": {},
     "output_type": "display_data"
    },
    {
     "name": "stdout",
     "output_type": "stream",
     "text": [
      "torch.Size([40, 10, 6])\n",
      "torch.Size([40, 8, 6])\n",
      "torch.Size([11, 6, 6])\n",
      "537\n",
      "train_loss -0.6810704072316488\n",
      "val_loss 56.550877\n"
     ]
    },
    {
     "data": {
      "application/vnd.jupyter.widget-view+json": {
       "model_id": "5437489173b74713a16af9af1153f1b1",
       "version_major": 2,
       "version_minor": 0
      },
      "text/plain": [
       "  0%|          | 0/3 [00:00<?, ?it/s]"
      ]
     },
     "metadata": {},
     "output_type": "display_data"
    },
    {
     "name": "stdout",
     "output_type": "stream",
     "text": [
      "torch.Size([40, 6, 6])\n",
      "torch.Size([40, 8, 6])\n",
      "torch.Size([11, 5, 6])\n",
      "538\n",
      "train_loss -0.6210016906261444\n",
      "val_loss 56.601456\n"
     ]
    },
    {
     "data": {
      "application/vnd.jupyter.widget-view+json": {
       "model_id": "cc2d2a4a48b6458d9ff9f20584fab452",
       "version_major": 2,
       "version_minor": 0
      },
      "text/plain": [
       "  0%|          | 0/3 [00:00<?, ?it/s]"
      ]
     },
     "metadata": {},
     "output_type": "display_data"
    },
    {
     "name": "stdout",
     "output_type": "stream",
     "text": [
      "torch.Size([40, 10, 6])\n",
      "torch.Size([40, 7, 6])\n",
      "torch.Size([11, 9, 6])\n",
      "539\n",
      "train_loss -0.6875494917233785\n",
      "val_loss 57.38291\n"
     ]
    },
    {
     "data": {
      "application/vnd.jupyter.widget-view+json": {
       "model_id": "ab62aa1a6f16424589d3173dad6b8d51",
       "version_major": 2,
       "version_minor": 0
      },
      "text/plain": [
       "  0%|          | 0/3 [00:00<?, ?it/s]"
      ]
     },
     "metadata": {},
     "output_type": "display_data"
    },
    {
     "name": "stdout",
     "output_type": "stream",
     "text": [
      "torch.Size([40, 10, 6])\n",
      "torch.Size([40, 13, 6])\n",
      "torch.Size([11, 11, 6])\n",
      "540\n",
      "train_loss -0.5946403642495474\n",
      "val_loss 58.527744\n"
     ]
    },
    {
     "data": {
      "application/vnd.jupyter.widget-view+json": {
       "model_id": "6c6114286fc64260b5b8fae031b3b21d",
       "version_major": 2,
       "version_minor": 0
      },
      "text/plain": [
       "  0%|          | 0/3 [00:00<?, ?it/s]"
      ]
     },
     "metadata": {},
     "output_type": "display_data"
    },
    {
     "name": "stdout",
     "output_type": "stream",
     "text": [
      "torch.Size([40, 7, 6])\n",
      "torch.Size([40, 6, 6])\n",
      "torch.Size([11, 5, 6])\n",
      "541\n",
      "train_loss -0.6625489393870035\n",
      "val_loss 58.732937\n"
     ]
    },
    {
     "data": {
      "application/vnd.jupyter.widget-view+json": {
       "model_id": "f16465be7eff437a9a1444b2655a32a2",
       "version_major": 2,
       "version_minor": 0
      },
      "text/plain": [
       "  0%|          | 0/3 [00:00<?, ?it/s]"
      ]
     },
     "metadata": {},
     "output_type": "display_data"
    },
    {
     "name": "stdout",
     "output_type": "stream",
     "text": [
      "torch.Size([40, 8, 6])\n",
      "torch.Size([40, 14, 6])\n",
      "torch.Size([11, 10, 6])\n",
      "542\n",
      "train_loss -0.6318015853563944\n",
      "val_loss 57.79216\n"
     ]
    },
    {
     "data": {
      "application/vnd.jupyter.widget-view+json": {
       "model_id": "3fb1bd1da46d4d65a482c6353d5ca15c",
       "version_major": 2,
       "version_minor": 0
      },
      "text/plain": [
       "  0%|          | 0/3 [00:00<?, ?it/s]"
      ]
     },
     "metadata": {},
     "output_type": "display_data"
    },
    {
     "name": "stdout",
     "output_type": "stream",
     "text": [
      "torch.Size([40, 6, 6])\n",
      "torch.Size([40, 9, 6])\n",
      "torch.Size([11, 7, 6])\n",
      "543\n",
      "train_loss -0.7719809810320536\n",
      "val_loss 57.23515\n"
     ]
    },
    {
     "data": {
      "application/vnd.jupyter.widget-view+json": {
       "model_id": "55b44be88b4e4b6387442a02bc1cba7d",
       "version_major": 2,
       "version_minor": 0
      },
      "text/plain": [
       "  0%|          | 0/3 [00:00<?, ?it/s]"
      ]
     },
     "metadata": {},
     "output_type": "display_data"
    },
    {
     "name": "stdout",
     "output_type": "stream",
     "text": [
      "torch.Size([40, 7, 6])\n",
      "torch.Size([40, 14, 6])\n",
      "torch.Size([11, 7, 6])\n",
      "544\n",
      "train_loss -0.7457362612088522\n",
      "val_loss 57.51828\n"
     ]
    },
    {
     "data": {
      "application/vnd.jupyter.widget-view+json": {
       "model_id": "fcdb8c05cad9459a8c3e362664856e3e",
       "version_major": 2,
       "version_minor": 0
      },
      "text/plain": [
       "  0%|          | 0/3 [00:00<?, ?it/s]"
      ]
     },
     "metadata": {},
     "output_type": "display_data"
    },
    {
     "name": "stdout",
     "output_type": "stream",
     "text": [
      "torch.Size([40, 13, 6])\n",
      "torch.Size([40, 7, 6])\n",
      "torch.Size([11, 13, 6])\n",
      "545\n",
      "train_loss -0.7813179890314738\n",
      "val_loss 57.60578\n"
     ]
    },
    {
     "data": {
      "application/vnd.jupyter.widget-view+json": {
       "model_id": "21af958b909c4bf5a0fb5232a9363881",
       "version_major": 2,
       "version_minor": 0
      },
      "text/plain": [
       "  0%|          | 0/3 [00:00<?, ?it/s]"
      ]
     },
     "metadata": {},
     "output_type": "display_data"
    },
    {
     "name": "stdout",
     "output_type": "stream",
     "text": [
      "torch.Size([40, 10, 6])\n",
      "torch.Size([40, 12, 6])\n",
      "torch.Size([11, 5, 6])\n",
      "546\n",
      "train_loss -0.5501290013392767\n",
      "val_loss 57.276024\n"
     ]
    },
    {
     "data": {
      "application/vnd.jupyter.widget-view+json": {
       "model_id": "d885d87bb8e84e2f933c29ff7e6e978c",
       "version_major": 2,
       "version_minor": 0
      },
      "text/plain": [
       "  0%|          | 0/3 [00:00<?, ?it/s]"
      ]
     },
     "metadata": {},
     "output_type": "display_data"
    },
    {
     "name": "stdout",
     "output_type": "stream",
     "text": [
      "torch.Size([40, 8, 6])\n",
      "torch.Size([40, 12, 6])\n",
      "torch.Size([11, 12, 6])\n",
      "547\n",
      "train_loss -0.6647081971168518\n",
      "val_loss 57.6058\n"
     ]
    },
    {
     "data": {
      "application/vnd.jupyter.widget-view+json": {
       "model_id": "7b72876578b24472891d4ce5f3dd585f",
       "version_major": 2,
       "version_minor": 0
      },
      "text/plain": [
       "  0%|          | 0/3 [00:00<?, ?it/s]"
      ]
     },
     "metadata": {},
     "output_type": "display_data"
    },
    {
     "name": "stdout",
     "output_type": "stream",
     "text": [
      "torch.Size([40, 10, 6])\n",
      "torch.Size([40, 12, 6])\n",
      "torch.Size([11, 5, 6])\n",
      "548\n",
      "train_loss -0.7509300311406454\n",
      "val_loss 58.16865\n"
     ]
    },
    {
     "data": {
      "application/vnd.jupyter.widget-view+json": {
       "model_id": "38f50a4bc2eb495faf443efb9bf6ecbb",
       "version_major": 2,
       "version_minor": 0
      },
      "text/plain": [
       "  0%|          | 0/3 [00:00<?, ?it/s]"
      ]
     },
     "metadata": {},
     "output_type": "display_data"
    },
    {
     "name": "stdout",
     "output_type": "stream",
     "text": [
      "torch.Size([40, 14, 6])\n",
      "torch.Size([40, 4, 6])\n",
      "torch.Size([11, 12, 6])\n",
      "549\n",
      "train_loss -0.8093340396881104\n",
      "val_loss 58.64879\n"
     ]
    },
    {
     "data": {
      "application/vnd.jupyter.widget-view+json": {
       "model_id": "dc023eae4db54c4c95f2c908b24b8d7b",
       "version_major": 2,
       "version_minor": 0
      },
      "text/plain": [
       "  0%|          | 0/3 [00:00<?, ?it/s]"
      ]
     },
     "metadata": {},
     "output_type": "display_data"
    },
    {
     "name": "stdout",
     "output_type": "stream",
     "text": [
      "torch.Size([40, 14, 6])\n",
      "torch.Size([40, 4, 6])\n",
      "torch.Size([11, 12, 6])\n",
      "550\n",
      "train_loss -0.4629002312819163\n",
      "val_loss 58.30157\n"
     ]
    },
    {
     "data": {
      "application/vnd.jupyter.widget-view+json": {
       "model_id": "351a0f06f3594252beb374e540ae4d99",
       "version_major": 2,
       "version_minor": 0
      },
      "text/plain": [
       "  0%|          | 0/3 [00:00<?, ?it/s]"
      ]
     },
     "metadata": {},
     "output_type": "display_data"
    },
    {
     "name": "stdout",
     "output_type": "stream",
     "text": [
      "torch.Size([40, 9, 6])\n",
      "torch.Size([40, 10, 6])\n",
      "torch.Size([11, 5, 6])\n",
      "551\n",
      "train_loss -0.7578241030375162\n",
      "val_loss 58.28124\n"
     ]
    },
    {
     "data": {
      "application/vnd.jupyter.widget-view+json": {
       "model_id": "981e9ba99a9844c09485ae62b3d8f5be",
       "version_major": 2,
       "version_minor": 0
      },
      "text/plain": [
       "  0%|          | 0/3 [00:00<?, ?it/s]"
      ]
     },
     "metadata": {},
     "output_type": "display_data"
    },
    {
     "name": "stdout",
     "output_type": "stream",
     "text": [
      "torch.Size([40, 6, 6])\n",
      "torch.Size([40, 5, 6])\n",
      "torch.Size([11, 6, 6])\n",
      "552\n",
      "train_loss -0.744056244691213\n",
      "val_loss 58.683968\n"
     ]
    },
    {
     "data": {
      "application/vnd.jupyter.widget-view+json": {
       "model_id": "4ec9c5d057104a619af68a1aa021d31f",
       "version_major": 2,
       "version_minor": 0
      },
      "text/plain": [
       "  0%|          | 0/3 [00:00<?, ?it/s]"
      ]
     },
     "metadata": {},
     "output_type": "display_data"
    },
    {
     "name": "stdout",
     "output_type": "stream",
     "text": [
      "torch.Size([40, 5, 6])\n",
      "torch.Size([40, 7, 6])\n",
      "torch.Size([11, 9, 6])\n",
      "553\n",
      "train_loss -0.6257885297139486\n",
      "val_loss 59.162205\n"
     ]
    },
    {
     "data": {
      "application/vnd.jupyter.widget-view+json": {
       "model_id": "2d14df7ebb7a490da1fb9aa12d5001e3",
       "version_major": 2,
       "version_minor": 0
      },
      "text/plain": [
       "  0%|          | 0/3 [00:00<?, ?it/s]"
      ]
     },
     "metadata": {},
     "output_type": "display_data"
    },
    {
     "name": "stdout",
     "output_type": "stream",
     "text": [
      "torch.Size([40, 13, 6])\n",
      "torch.Size([40, 10, 6])\n",
      "torch.Size([11, 10, 6])\n",
      "554\n",
      "train_loss -0.5774959536890188\n",
      "val_loss 58.953693\n"
     ]
    },
    {
     "data": {
      "application/vnd.jupyter.widget-view+json": {
       "model_id": "7e03fa724eed4741b9dd67fe09adf297",
       "version_major": 2,
       "version_minor": 0
      },
      "text/plain": [
       "  0%|          | 0/3 [00:00<?, ?it/s]"
      ]
     },
     "metadata": {},
     "output_type": "display_data"
    },
    {
     "name": "stdout",
     "output_type": "stream",
     "text": [
      "torch.Size([40, 10, 6])\n",
      "torch.Size([40, 11, 6])\n",
      "torch.Size([11, 4, 6])\n",
      "555\n",
      "train_loss -0.7646340330441793\n",
      "val_loss 58.719364\n"
     ]
    },
    {
     "data": {
      "application/vnd.jupyter.widget-view+json": {
       "model_id": "ec235715acfe48f0aba02dae08dbf41d",
       "version_major": 2,
       "version_minor": 0
      },
      "text/plain": [
       "  0%|          | 0/3 [00:00<?, ?it/s]"
      ]
     },
     "metadata": {},
     "output_type": "display_data"
    },
    {
     "name": "stdout",
     "output_type": "stream",
     "text": [
      "torch.Size([40, 6, 6])\n",
      "torch.Size([40, 8, 6])\n",
      "torch.Size([11, 7, 6])\n",
      "556\n",
      "train_loss -0.7703234950701395\n",
      "val_loss 58.373547\n"
     ]
    },
    {
     "data": {
      "application/vnd.jupyter.widget-view+json": {
       "model_id": "8ee12f0e420e4edfa1eadb4406c744a3",
       "version_major": 2,
       "version_minor": 0
      },
      "text/plain": [
       "  0%|          | 0/3 [00:00<?, ?it/s]"
      ]
     },
     "metadata": {},
     "output_type": "display_data"
    },
    {
     "name": "stdout",
     "output_type": "stream",
     "text": [
      "torch.Size([40, 6, 6])\n",
      "torch.Size([40, 8, 6])\n",
      "torch.Size([11, 11, 6])\n",
      "557\n",
      "train_loss -0.7715679009755453\n",
      "val_loss 57.613358\n"
     ]
    },
    {
     "data": {
      "application/vnd.jupyter.widget-view+json": {
       "model_id": "9b6ae67cc8d94eedb0da20b86608644a",
       "version_major": 2,
       "version_minor": 0
      },
      "text/plain": [
       "  0%|          | 0/3 [00:00<?, ?it/s]"
      ]
     },
     "metadata": {},
     "output_type": "display_data"
    },
    {
     "name": "stdout",
     "output_type": "stream",
     "text": [
      "torch.Size([40, 13, 6])\n",
      "torch.Size([40, 7, 6])\n",
      "torch.Size([11, 8, 6])\n",
      "558\n",
      "train_loss -0.750523050626119\n",
      "val_loss 57.03977\n"
     ]
    },
    {
     "data": {
      "application/vnd.jupyter.widget-view+json": {
       "model_id": "0d5bc1805fc54122ab697292e9039fff",
       "version_major": 2,
       "version_minor": 0
      },
      "text/plain": [
       "  0%|          | 0/3 [00:00<?, ?it/s]"
      ]
     },
     "metadata": {},
     "output_type": "display_data"
    },
    {
     "name": "stdout",
     "output_type": "stream",
     "text": [
      "torch.Size([40, 9, 6])\n",
      "torch.Size([40, 4, 6])\n",
      "torch.Size([11, 5, 6])\n",
      "559\n",
      "train_loss -0.7936384876569113\n",
      "val_loss 56.478733\n"
     ]
    },
    {
     "data": {
      "application/vnd.jupyter.widget-view+json": {
       "model_id": "edbbef5d98e34e5f948b443d2d7e0576",
       "version_major": 2,
       "version_minor": 0
      },
      "text/plain": [
       "  0%|          | 0/3 [00:00<?, ?it/s]"
      ]
     },
     "metadata": {},
     "output_type": "display_data"
    },
    {
     "name": "stdout",
     "output_type": "stream",
     "text": [
      "torch.Size([40, 11, 6])\n",
      "torch.Size([40, 14, 6])\n",
      "torch.Size([11, 11, 6])\n",
      "560\n",
      "train_loss -0.8332159519195557\n",
      "val_loss 56.59499\n"
     ]
    },
    {
     "data": {
      "application/vnd.jupyter.widget-view+json": {
       "model_id": "14db3101f5c442b382a03d43fedee803",
       "version_major": 2,
       "version_minor": 0
      },
      "text/plain": [
       "  0%|          | 0/3 [00:00<?, ?it/s]"
      ]
     },
     "metadata": {},
     "output_type": "display_data"
    },
    {
     "name": "stdout",
     "output_type": "stream",
     "text": [
      "torch.Size([40, 6, 6])\n",
      "torch.Size([40, 5, 6])\n",
      "torch.Size([11, 7, 6])\n",
      "561\n",
      "train_loss -0.5008392234643301\n",
      "val_loss 57.01703\n"
     ]
    },
    {
     "data": {
      "application/vnd.jupyter.widget-view+json": {
       "model_id": "0857aff3f3ef4fc6a4ccb109d3a44b71",
       "version_major": 2,
       "version_minor": 0
      },
      "text/plain": [
       "  0%|          | 0/3 [00:00<?, ?it/s]"
      ]
     },
     "metadata": {},
     "output_type": "display_data"
    },
    {
     "name": "stdout",
     "output_type": "stream",
     "text": [
      "torch.Size([40, 12, 6])\n",
      "torch.Size([40, 5, 6])\n",
      "torch.Size([11, 7, 6])\n",
      "562\n",
      "train_loss -0.8003777861595154\n",
      "val_loss 57.295315\n"
     ]
    },
    {
     "data": {
      "application/vnd.jupyter.widget-view+json": {
       "model_id": "6790b9afd6f7443aba79a23a1eb84bda",
       "version_major": 2,
       "version_minor": 0
      },
      "text/plain": [
       "  0%|          | 0/3 [00:00<?, ?it/s]"
      ]
     },
     "metadata": {},
     "output_type": "display_data"
    },
    {
     "name": "stdout",
     "output_type": "stream",
     "text": [
      "torch.Size([40, 8, 6])\n",
      "torch.Size([40, 8, 6])\n",
      "torch.Size([11, 8, 6])\n",
      "563\n",
      "train_loss -0.8810403744379679\n",
      "val_loss 57.41878\n"
     ]
    },
    {
     "data": {
      "application/vnd.jupyter.widget-view+json": {
       "model_id": "b92bd4b032d44da4832d348cd2d9e01d",
       "version_major": 2,
       "version_minor": 0
      },
      "text/plain": [
       "  0%|          | 0/3 [00:00<?, ?it/s]"
      ]
     },
     "metadata": {},
     "output_type": "display_data"
    },
    {
     "name": "stdout",
     "output_type": "stream",
     "text": [
      "torch.Size([40, 7, 6])\n",
      "torch.Size([40, 9, 6])\n",
      "torch.Size([11, 13, 6])\n",
      "564\n",
      "train_loss -0.6517694393793741\n",
      "val_loss 57.52407\n"
     ]
    },
    {
     "data": {
      "application/vnd.jupyter.widget-view+json": {
       "model_id": "ec226e5a90f54aafb572e1d5b4f2d8bb",
       "version_major": 2,
       "version_minor": 0
      },
      "text/plain": [
       "  0%|          | 0/3 [00:00<?, ?it/s]"
      ]
     },
     "metadata": {},
     "output_type": "display_data"
    },
    {
     "name": "stdout",
     "output_type": "stream",
     "text": [
      "torch.Size([40, 8, 6])\n",
      "torch.Size([40, 12, 6])\n",
      "torch.Size([11, 10, 6])\n",
      "565\n",
      "train_loss -0.8217393358548483\n",
      "val_loss 57.554893\n"
     ]
    },
    {
     "data": {
      "application/vnd.jupyter.widget-view+json": {
       "model_id": "b59dfc58577d4ea28fbc8431e2aadd9e",
       "version_major": 2,
       "version_minor": 0
      },
      "text/plain": [
       "  0%|          | 0/3 [00:00<?, ?it/s]"
      ]
     },
     "metadata": {},
     "output_type": "display_data"
    },
    {
     "name": "stdout",
     "output_type": "stream",
     "text": [
      "torch.Size([40, 9, 6])\n",
      "torch.Size([40, 13, 6])\n",
      "torch.Size([11, 12, 6])\n",
      "566\n",
      "train_loss -0.7503110766410828\n",
      "val_loss 57.362354\n"
     ]
    },
    {
     "data": {
      "application/vnd.jupyter.widget-view+json": {
       "model_id": "34224bac93204fc6b7660842ea4dc458",
       "version_major": 2,
       "version_minor": 0
      },
      "text/plain": [
       "  0%|          | 0/3 [00:00<?, ?it/s]"
      ]
     },
     "metadata": {},
     "output_type": "display_data"
    },
    {
     "name": "stdout",
     "output_type": "stream",
     "text": [
      "torch.Size([40, 14, 6])\n",
      "torch.Size([40, 7, 6])\n",
      "torch.Size([11, 8, 6])\n",
      "567\n",
      "train_loss -0.8310811122258505\n",
      "val_loss 57.120705\n"
     ]
    },
    {
     "data": {
      "application/vnd.jupyter.widget-view+json": {
       "model_id": "18bb6ed0f2674379a854605d3b614948",
       "version_major": 2,
       "version_minor": 0
      },
      "text/plain": [
       "  0%|          | 0/3 [00:00<?, ?it/s]"
      ]
     },
     "metadata": {},
     "output_type": "display_data"
    },
    {
     "name": "stdout",
     "output_type": "stream",
     "text": [
      "torch.Size([40, 14, 6])\n",
      "torch.Size([40, 13, 6])\n",
      "torch.Size([11, 11, 6])\n",
      "568\n",
      "train_loss -0.7704803148905436\n",
      "val_loss 57.357227\n"
     ]
    },
    {
     "data": {
      "application/vnd.jupyter.widget-view+json": {
       "model_id": "5196070d57f048908ee343fef6443cf2",
       "version_major": 2,
       "version_minor": 0
      },
      "text/plain": [
       "  0%|          | 0/3 [00:00<?, ?it/s]"
      ]
     },
     "metadata": {},
     "output_type": "display_data"
    },
    {
     "name": "stdout",
     "output_type": "stream",
     "text": [
      "torch.Size([40, 12, 6])\n",
      "torch.Size([40, 11, 6])\n",
      "torch.Size([11, 4, 6])\n",
      "569\n",
      "train_loss -0.812853733698527\n",
      "val_loss 57.74799\n"
     ]
    },
    {
     "data": {
      "application/vnd.jupyter.widget-view+json": {
       "model_id": "71e026fb0ace415f8b718b7777b912c4",
       "version_major": 2,
       "version_minor": 0
      },
      "text/plain": [
       "  0%|          | 0/3 [00:00<?, ?it/s]"
      ]
     },
     "metadata": {},
     "output_type": "display_data"
    },
    {
     "name": "stdout",
     "output_type": "stream",
     "text": [
      "torch.Size([40, 6, 6])\n",
      "torch.Size([40, 7, 6])\n",
      "torch.Size([11, 9, 6])\n",
      "570\n",
      "train_loss -0.8749088048934937\n",
      "val_loss 56.997627\n"
     ]
    },
    {
     "data": {
      "application/vnd.jupyter.widget-view+json": {
       "model_id": "e1d9328c108e4d40a421d43664e9ac9e",
       "version_major": 2,
       "version_minor": 0
      },
      "text/plain": [
       "  0%|          | 0/3 [00:00<?, ?it/s]"
      ]
     },
     "metadata": {},
     "output_type": "display_data"
    },
    {
     "name": "stdout",
     "output_type": "stream",
     "text": [
      "torch.Size([40, 13, 6])\n",
      "torch.Size([40, 5, 6])\n",
      "torch.Size([11, 7, 6])\n",
      "571\n",
      "train_loss -0.37152697642644245\n",
      "val_loss 57.24915\n"
     ]
    },
    {
     "data": {
      "application/vnd.jupyter.widget-view+json": {
       "model_id": "20a06fc80e954681a6dee18fdba8d3dd",
       "version_major": 2,
       "version_minor": 0
      },
      "text/plain": [
       "  0%|          | 0/3 [00:00<?, ?it/s]"
      ]
     },
     "metadata": {},
     "output_type": "display_data"
    },
    {
     "name": "stdout",
     "output_type": "stream",
     "text": [
      "torch.Size([40, 12, 6])\n",
      "torch.Size([40, 6, 6])\n",
      "torch.Size([11, 4, 6])\n",
      "572\n",
      "train_loss -0.6661089286208153\n",
      "val_loss 58.170498\n"
     ]
    },
    {
     "data": {
      "application/vnd.jupyter.widget-view+json": {
       "model_id": "a88a06649360410188a6e55e29fd5772",
       "version_major": 2,
       "version_minor": 0
      },
      "text/plain": [
       "  0%|          | 0/3 [00:00<?, ?it/s]"
      ]
     },
     "metadata": {},
     "output_type": "display_data"
    },
    {
     "name": "stdout",
     "output_type": "stream",
     "text": [
      "torch.Size([40, 10, 6])\n",
      "torch.Size([40, 11, 6])\n",
      "torch.Size([11, 12, 6])\n",
      "573\n",
      "train_loss -0.7297222018241882\n",
      "val_loss 58.109463\n"
     ]
    },
    {
     "data": {
      "application/vnd.jupyter.widget-view+json": {
       "model_id": "60e69550434e4d8d8c80bd39e1c0e831",
       "version_major": 2,
       "version_minor": 0
      },
      "text/plain": [
       "  0%|          | 0/3 [00:00<?, ?it/s]"
      ]
     },
     "metadata": {},
     "output_type": "display_data"
    },
    {
     "name": "stdout",
     "output_type": "stream",
     "text": [
      "torch.Size([40, 10, 6])\n",
      "torch.Size([40, 12, 6])\n",
      "torch.Size([11, 5, 6])\n",
      "574\n",
      "train_loss -0.7159916659196218\n",
      "val_loss 58.456924\n"
     ]
    },
    {
     "data": {
      "application/vnd.jupyter.widget-view+json": {
       "model_id": "de1c7ca82a464b4a971213aaa08adcb4",
       "version_major": 2,
       "version_minor": 0
      },
      "text/plain": [
       "  0%|          | 0/3 [00:00<?, ?it/s]"
      ]
     },
     "metadata": {},
     "output_type": "display_data"
    },
    {
     "name": "stdout",
     "output_type": "stream",
     "text": [
      "torch.Size([40, 5, 6])\n",
      "torch.Size([40, 13, 6])\n",
      "torch.Size([11, 10, 6])\n",
      "575\n",
      "train_loss -0.8091114362080892\n",
      "val_loss 58.547077\n"
     ]
    },
    {
     "data": {
      "application/vnd.jupyter.widget-view+json": {
       "model_id": "4b63462a07ac41b19203151f813a1287",
       "version_major": 2,
       "version_minor": 0
      },
      "text/plain": [
       "  0%|          | 0/3 [00:00<?, ?it/s]"
      ]
     },
     "metadata": {},
     "output_type": "display_data"
    },
    {
     "name": "stdout",
     "output_type": "stream",
     "text": [
      "torch.Size([40, 7, 6])\n",
      "torch.Size([40, 12, 6])\n",
      "torch.Size([11, 4, 6])\n",
      "576\n",
      "train_loss -0.6357597062985102\n",
      "val_loss 58.243397\n"
     ]
    },
    {
     "data": {
      "application/vnd.jupyter.widget-view+json": {
       "model_id": "e6a931d3e11c468aa95891756170ee0c",
       "version_major": 2,
       "version_minor": 0
      },
      "text/plain": [
       "  0%|          | 0/3 [00:00<?, ?it/s]"
      ]
     },
     "metadata": {},
     "output_type": "display_data"
    },
    {
     "name": "stdout",
     "output_type": "stream",
     "text": [
      "torch.Size([40, 4, 6])\n",
      "torch.Size([40, 10, 6])\n",
      "torch.Size([11, 13, 6])\n",
      "577\n",
      "train_loss -0.8887737194697062\n",
      "val_loss 58.510216\n"
     ]
    },
    {
     "data": {
      "application/vnd.jupyter.widget-view+json": {
       "model_id": "59dfeec47a344f9492b77e1b4ab41640",
       "version_major": 2,
       "version_minor": 0
      },
      "text/plain": [
       "  0%|          | 0/3 [00:00<?, ?it/s]"
      ]
     },
     "metadata": {},
     "output_type": "display_data"
    },
    {
     "name": "stdout",
     "output_type": "stream",
     "text": [
      "torch.Size([40, 9, 6])\n",
      "torch.Size([40, 8, 6])\n",
      "torch.Size([11, 9, 6])\n",
      "578\n",
      "train_loss -0.8179620504379272\n",
      "val_loss 58.41013\n"
     ]
    },
    {
     "data": {
      "application/vnd.jupyter.widget-view+json": {
       "model_id": "31a5f823aa9649d2b01fe48c4094975a",
       "version_major": 2,
       "version_minor": 0
      },
      "text/plain": [
       "  0%|          | 0/3 [00:00<?, ?it/s]"
      ]
     },
     "metadata": {},
     "output_type": "display_data"
    },
    {
     "name": "stdout",
     "output_type": "stream",
     "text": [
      "torch.Size([40, 12, 6])\n",
      "torch.Size([40, 6, 6])\n",
      "torch.Size([11, 12, 6])\n",
      "579\n",
      "train_loss -0.7447194258371989\n",
      "val_loss 58.089714\n"
     ]
    },
    {
     "data": {
      "application/vnd.jupyter.widget-view+json": {
       "model_id": "465c31c622bf4513a65f0023cd428203",
       "version_major": 2,
       "version_minor": 0
      },
      "text/plain": [
       "  0%|          | 0/3 [00:00<?, ?it/s]"
      ]
     },
     "metadata": {},
     "output_type": "display_data"
    },
    {
     "name": "stdout",
     "output_type": "stream",
     "text": [
      "torch.Size([40, 13, 6])\n",
      "torch.Size([40, 14, 6])\n",
      "torch.Size([11, 10, 6])\n",
      "580\n",
      "train_loss -0.5230796237786611\n",
      "val_loss 57.89871\n"
     ]
    },
    {
     "data": {
      "application/vnd.jupyter.widget-view+json": {
       "model_id": "ab17a6584dc34459a7d54c399b35b11a",
       "version_major": 2,
       "version_minor": 0
      },
      "text/plain": [
       "  0%|          | 0/3 [00:00<?, ?it/s]"
      ]
     },
     "metadata": {},
     "output_type": "display_data"
    },
    {
     "name": "stdout",
     "output_type": "stream",
     "text": [
      "torch.Size([40, 14, 6])\n",
      "torch.Size([40, 4, 6])\n",
      "torch.Size([11, 7, 6])\n",
      "581\n",
      "train_loss -0.8803651332855225\n",
      "val_loss 57.83886\n"
     ]
    },
    {
     "data": {
      "application/vnd.jupyter.widget-view+json": {
       "model_id": "9b0f0773471643eca1c0920d739c4954",
       "version_major": 2,
       "version_minor": 0
      },
      "text/plain": [
       "  0%|          | 0/3 [00:00<?, ?it/s]"
      ]
     },
     "metadata": {},
     "output_type": "display_data"
    },
    {
     "name": "stdout",
     "output_type": "stream",
     "text": [
      "torch.Size([40, 11, 6])\n",
      "torch.Size([40, 9, 6])\n",
      "torch.Size([11, 6, 6])\n",
      "582\n",
      "train_loss -0.7453564008076986\n",
      "val_loss 57.369854\n"
     ]
    },
    {
     "data": {
      "application/vnd.jupyter.widget-view+json": {
       "model_id": "e6ec66881a8b4d9d96458fd41573b50d",
       "version_major": 2,
       "version_minor": 0
      },
      "text/plain": [
       "  0%|          | 0/3 [00:00<?, ?it/s]"
      ]
     },
     "metadata": {},
     "output_type": "display_data"
    },
    {
     "name": "stdout",
     "output_type": "stream",
     "text": [
      "torch.Size([40, 11, 6])\n",
      "torch.Size([40, 8, 6])\n",
      "torch.Size([11, 14, 6])\n",
      "583\n",
      "train_loss -0.763629158337911\n",
      "val_loss 57.26547\n"
     ]
    },
    {
     "data": {
      "application/vnd.jupyter.widget-view+json": {
       "model_id": "f948916fa56a4408a4224d42b5b61f82",
       "version_major": 2,
       "version_minor": 0
      },
      "text/plain": [
       "  0%|          | 0/3 [00:00<?, ?it/s]"
      ]
     },
     "metadata": {},
     "output_type": "display_data"
    },
    {
     "name": "stdout",
     "output_type": "stream",
     "text": [
      "torch.Size([40, 5, 6])\n",
      "torch.Size([40, 6, 6])\n",
      "torch.Size([11, 13, 6])\n",
      "584\n",
      "train_loss -0.8517058889071146\n",
      "val_loss 57.63779\n"
     ]
    },
    {
     "data": {
      "application/vnd.jupyter.widget-view+json": {
       "model_id": "16887af30a9240fda2806c5a865673a0",
       "version_major": 2,
       "version_minor": 0
      },
      "text/plain": [
       "  0%|          | 0/3 [00:00<?, ?it/s]"
      ]
     },
     "metadata": {},
     "output_type": "display_data"
    },
    {
     "name": "stdout",
     "output_type": "stream",
     "text": [
      "torch.Size([40, 10, 6])\n",
      "torch.Size([40, 9, 6])\n",
      "torch.Size([11, 6, 6])\n",
      "585\n",
      "train_loss -0.8476983904838562\n",
      "val_loss 58.209187\n"
     ]
    },
    {
     "data": {
      "application/vnd.jupyter.widget-view+json": {
       "model_id": "5f6f7dedccb44caa8116dff33e36cd8a",
       "version_major": 2,
       "version_minor": 0
      },
      "text/plain": [
       "  0%|          | 0/3 [00:00<?, ?it/s]"
      ]
     },
     "metadata": {},
     "output_type": "display_data"
    },
    {
     "name": "stdout",
     "output_type": "stream",
     "text": [
      "torch.Size([40, 5, 6])\n",
      "torch.Size([40, 9, 6])\n",
      "torch.Size([11, 12, 6])\n",
      "586\n",
      "train_loss -0.951816181341807\n",
      "val_loss 58.576885\n"
     ]
    },
    {
     "data": {
      "application/vnd.jupyter.widget-view+json": {
       "model_id": "edcd4f2646ce4f8799e306e0dadcb7dd",
       "version_major": 2,
       "version_minor": 0
      },
      "text/plain": [
       "  0%|          | 0/3 [00:00<?, ?it/s]"
      ]
     },
     "metadata": {},
     "output_type": "display_data"
    },
    {
     "name": "stdout",
     "output_type": "stream",
     "text": [
      "torch.Size([40, 6, 6])\n",
      "torch.Size([40, 7, 6])\n",
      "torch.Size([11, 9, 6])\n",
      "587\n",
      "train_loss -0.8881210883458456\n",
      "val_loss 58.362453\n"
     ]
    },
    {
     "data": {
      "application/vnd.jupyter.widget-view+json": {
       "model_id": "01ef89fd1d8c4f7cb857062c28f69d06",
       "version_major": 2,
       "version_minor": 0
      },
      "text/plain": [
       "  0%|          | 0/3 [00:00<?, ?it/s]"
      ]
     },
     "metadata": {},
     "output_type": "display_data"
    },
    {
     "name": "stdout",
     "output_type": "stream",
     "text": [
      "torch.Size([40, 11, 6])\n",
      "torch.Size([40, 9, 6])\n",
      "torch.Size([11, 10, 6])\n",
      "588\n",
      "train_loss -0.972887655099233\n",
      "val_loss 58.088524\n"
     ]
    },
    {
     "data": {
      "application/vnd.jupyter.widget-view+json": {
       "model_id": "391bff3c12ba488d8cd1e9e71b9f8ad2",
       "version_major": 2,
       "version_minor": 0
      },
      "text/plain": [
       "  0%|          | 0/3 [00:00<?, ?it/s]"
      ]
     },
     "metadata": {},
     "output_type": "display_data"
    },
    {
     "name": "stdout",
     "output_type": "stream",
     "text": [
      "torch.Size([40, 5, 6])\n",
      "torch.Size([40, 6, 6])\n",
      "torch.Size([11, 8, 6])\n",
      "589\n",
      "train_loss -0.8181135952472687\n",
      "val_loss 57.32092\n"
     ]
    },
    {
     "data": {
      "application/vnd.jupyter.widget-view+json": {
       "model_id": "82202d202c2d4ed8a0698e9cc3581f96",
       "version_major": 2,
       "version_minor": 0
      },
      "text/plain": [
       "  0%|          | 0/3 [00:00<?, ?it/s]"
      ]
     },
     "metadata": {},
     "output_type": "display_data"
    },
    {
     "name": "stdout",
     "output_type": "stream",
     "text": [
      "torch.Size([40, 10, 6])\n",
      "torch.Size([40, 14, 6])\n",
      "torch.Size([11, 4, 6])\n",
      "590\n",
      "train_loss -0.8871937394142151\n",
      "val_loss 57.091103\n"
     ]
    },
    {
     "data": {
      "application/vnd.jupyter.widget-view+json": {
       "model_id": "023e84b9befd4995893632c82b086fd0",
       "version_major": 2,
       "version_minor": 0
      },
      "text/plain": [
       "  0%|          | 0/3 [00:00<?, ?it/s]"
      ]
     },
     "metadata": {},
     "output_type": "display_data"
    },
    {
     "name": "stdout",
     "output_type": "stream",
     "text": [
      "torch.Size([40, 6, 6])\n",
      "torch.Size([40, 13, 6])\n",
      "torch.Size([11, 14, 6])\n",
      "591\n",
      "train_loss -0.8720958232879639\n",
      "val_loss 58.097755\n"
     ]
    },
    {
     "data": {
      "application/vnd.jupyter.widget-view+json": {
       "model_id": "11a3330d32c340feba673960cc26de07",
       "version_major": 2,
       "version_minor": 0
      },
      "text/plain": [
       "  0%|          | 0/3 [00:00<?, ?it/s]"
      ]
     },
     "metadata": {},
     "output_type": "display_data"
    },
    {
     "name": "stdout",
     "output_type": "stream",
     "text": [
      "torch.Size([40, 4, 6])\n",
      "torch.Size([40, 7, 6])\n",
      "torch.Size([11, 13, 6])\n",
      "592\n",
      "train_loss -0.7908418973286947\n",
      "val_loss 58.1322\n"
     ]
    },
    {
     "data": {
      "application/vnd.jupyter.widget-view+json": {
       "model_id": "310ef4dfb15342348895f0e03de0a6ec",
       "version_major": 2,
       "version_minor": 0
      },
      "text/plain": [
       "  0%|          | 0/3 [00:00<?, ?it/s]"
      ]
     },
     "metadata": {},
     "output_type": "display_data"
    },
    {
     "name": "stdout",
     "output_type": "stream",
     "text": [
      "torch.Size([40, 13, 6])\n",
      "torch.Size([40, 14, 6])\n",
      "torch.Size([11, 12, 6])\n",
      "593\n",
      "train_loss -0.8286509215831757\n",
      "val_loss 58.324055\n"
     ]
    },
    {
     "data": {
      "application/vnd.jupyter.widget-view+json": {
       "model_id": "9c1ce07c868e4594b9d8f698cc39c24f",
       "version_major": 2,
       "version_minor": 0
      },
      "text/plain": [
       "  0%|          | 0/3 [00:00<?, ?it/s]"
      ]
     },
     "metadata": {},
     "output_type": "display_data"
    },
    {
     "name": "stdout",
     "output_type": "stream",
     "text": [
      "torch.Size([40, 9, 6])\n",
      "torch.Size([40, 13, 6])\n",
      "torch.Size([11, 9, 6])\n",
      "594\n",
      "train_loss -0.7561249534289042\n",
      "val_loss 59.15127\n"
     ]
    },
    {
     "data": {
      "application/vnd.jupyter.widget-view+json": {
       "model_id": "350719fb8f4a472189a57100cf765f64",
       "version_major": 2,
       "version_minor": 0
      },
      "text/plain": [
       "  0%|          | 0/3 [00:00<?, ?it/s]"
      ]
     },
     "metadata": {},
     "output_type": "display_data"
    },
    {
     "name": "stdout",
     "output_type": "stream",
     "text": [
      "torch.Size([40, 13, 6])\n",
      "torch.Size([40, 13, 6])\n",
      "torch.Size([11, 9, 6])\n",
      "595\n",
      "train_loss -0.5797635540366173\n",
      "val_loss 58.93787\n"
     ]
    },
    {
     "data": {
      "application/vnd.jupyter.widget-view+json": {
       "model_id": "b3deb73958bc4f8f8238c913d1e790c9",
       "version_major": 2,
       "version_minor": 0
      },
      "text/plain": [
       "  0%|          | 0/3 [00:00<?, ?it/s]"
      ]
     },
     "metadata": {},
     "output_type": "display_data"
    },
    {
     "name": "stdout",
     "output_type": "stream",
     "text": [
      "torch.Size([40, 14, 6])\n",
      "torch.Size([40, 12, 6])\n",
      "torch.Size([11, 9, 6])\n",
      "596\n",
      "train_loss -0.7314252555370331\n",
      "val_loss 57.899483\n"
     ]
    },
    {
     "data": {
      "application/vnd.jupyter.widget-view+json": {
       "model_id": "6b98a706b6aa4bd2be62a6815c85d0e2",
       "version_major": 2,
       "version_minor": 0
      },
      "text/plain": [
       "  0%|          | 0/3 [00:00<?, ?it/s]"
      ]
     },
     "metadata": {},
     "output_type": "display_data"
    },
    {
     "name": "stdout",
     "output_type": "stream",
     "text": [
      "torch.Size([40, 9, 6])\n",
      "torch.Size([40, 8, 6])\n",
      "torch.Size([11, 13, 6])\n",
      "597\n",
      "train_loss -0.6125686466693878\n",
      "val_loss 57.916935\n"
     ]
    },
    {
     "data": {
      "application/vnd.jupyter.widget-view+json": {
       "model_id": "e6a069b8a976449e94f01ab2e37dddb0",
       "version_major": 2,
       "version_minor": 0
      },
      "text/plain": [
       "  0%|          | 0/3 [00:00<?, ?it/s]"
      ]
     },
     "metadata": {},
     "output_type": "display_data"
    },
    {
     "name": "stdout",
     "output_type": "stream",
     "text": [
      "torch.Size([40, 9, 6])\n",
      "torch.Size([40, 6, 6])\n",
      "torch.Size([11, 7, 6])\n",
      "598\n",
      "train_loss -0.6485703786214193\n",
      "val_loss 57.734577\n"
     ]
    },
    {
     "data": {
      "application/vnd.jupyter.widget-view+json": {
       "model_id": "d1095c1ec2594ac9adf8c4e798138f10",
       "version_major": 2,
       "version_minor": 0
      },
      "text/plain": [
       "  0%|          | 0/3 [00:00<?, ?it/s]"
      ]
     },
     "metadata": {},
     "output_type": "display_data"
    },
    {
     "name": "stdout",
     "output_type": "stream",
     "text": [
      "torch.Size([40, 13, 6])\n",
      "torch.Size([40, 6, 6])\n",
      "torch.Size([11, 6, 6])\n",
      "599\n",
      "train_loss -0.18917634089787802\n",
      "val_loss 58.832577\n"
     ]
    },
    {
     "data": {
      "application/vnd.jupyter.widget-view+json": {
       "model_id": "9659c38b768145a495123dc29af47dd5",
       "version_major": 2,
       "version_minor": 0
      },
      "text/plain": [
       "  0%|          | 0/3 [00:00<?, ?it/s]"
      ]
     },
     "metadata": {},
     "output_type": "display_data"
    },
    {
     "name": "stdout",
     "output_type": "stream",
     "text": [
      "torch.Size([40, 9, 6])\n",
      "torch.Size([40, 5, 6])\n",
      "torch.Size([11, 10, 6])\n",
      "600\n",
      "train_loss -0.5315590898195902\n",
      "val_loss 59.574192\n"
     ]
    },
    {
     "data": {
      "application/vnd.jupyter.widget-view+json": {
       "model_id": "402e9dd59993463ab629e55749ee6c37",
       "version_major": 2,
       "version_minor": 0
      },
      "text/plain": [
       "  0%|          | 0/3 [00:00<?, ?it/s]"
      ]
     },
     "metadata": {},
     "output_type": "display_data"
    },
    {
     "name": "stdout",
     "output_type": "stream",
     "text": [
      "torch.Size([40, 5, 6])\n",
      "torch.Size([40, 4, 6])\n",
      "torch.Size([11, 4, 6])\n",
      "601\n",
      "train_loss -0.5332765976587931\n",
      "val_loss 58.965576\n"
     ]
    },
    {
     "data": {
      "application/vnd.jupyter.widget-view+json": {
       "model_id": "66b9ba8f004d48679199e86e5bad735e",
       "version_major": 2,
       "version_minor": 0
      },
      "text/plain": [
       "  0%|          | 0/3 [00:00<?, ?it/s]"
      ]
     },
     "metadata": {},
     "output_type": "display_data"
    },
    {
     "name": "stdout",
     "output_type": "stream",
     "text": [
      "torch.Size([40, 5, 6])\n",
      "torch.Size([40, 8, 6])\n",
      "torch.Size([11, 7, 6])\n",
      "602\n",
      "train_loss -0.8366180062294006\n",
      "val_loss 59.170696\n"
     ]
    },
    {
     "data": {
      "application/vnd.jupyter.widget-view+json": {
       "model_id": "f475f118c67e4a6c85a529023f4e6491",
       "version_major": 2,
       "version_minor": 0
      },
      "text/plain": [
       "  0%|          | 0/3 [00:00<?, ?it/s]"
      ]
     },
     "metadata": {},
     "output_type": "display_data"
    },
    {
     "name": "stdout",
     "output_type": "stream",
     "text": [
      "torch.Size([40, 13, 6])\n",
      "torch.Size([40, 8, 6])\n",
      "torch.Size([11, 14, 6])\n",
      "603\n",
      "train_loss -0.7489820520083109\n",
      "val_loss 59.67372\n"
     ]
    },
    {
     "data": {
      "application/vnd.jupyter.widget-view+json": {
       "model_id": "49901b3280dd4b3b96d86f9ba47a2fc8",
       "version_major": 2,
       "version_minor": 0
      },
      "text/plain": [
       "  0%|          | 0/3 [00:00<?, ?it/s]"
      ]
     },
     "metadata": {},
     "output_type": "display_data"
    },
    {
     "name": "stdout",
     "output_type": "stream",
     "text": [
      "torch.Size([40, 9, 6])\n",
      "torch.Size([40, 6, 6])\n",
      "torch.Size([11, 11, 6])\n",
      "604\n",
      "train_loss -0.8297800421714783\n",
      "val_loss 59.358112\n"
     ]
    },
    {
     "data": {
      "application/vnd.jupyter.widget-view+json": {
       "model_id": "bf4712112ca044d281014e5982a80291",
       "version_major": 2,
       "version_minor": 0
      },
      "text/plain": [
       "  0%|          | 0/3 [00:00<?, ?it/s]"
      ]
     },
     "metadata": {},
     "output_type": "display_data"
    },
    {
     "name": "stdout",
     "output_type": "stream",
     "text": [
      "torch.Size([40, 11, 6])\n",
      "torch.Size([40, 11, 6])\n",
      "torch.Size([11, 13, 6])\n",
      "605\n",
      "train_loss -0.7878409624099731\n",
      "val_loss 58.64585\n"
     ]
    },
    {
     "data": {
      "application/vnd.jupyter.widget-view+json": {
       "model_id": "172ce1647d764b498bea9951b78bb4f2",
       "version_major": 2,
       "version_minor": 0
      },
      "text/plain": [
       "  0%|          | 0/3 [00:00<?, ?it/s]"
      ]
     },
     "metadata": {},
     "output_type": "display_data"
    },
    {
     "name": "stdout",
     "output_type": "stream",
     "text": [
      "torch.Size([40, 9, 6])\n",
      "torch.Size([40, 14, 6])\n",
      "torch.Size([11, 13, 6])\n",
      "606\n",
      "train_loss -0.45746361712614697\n",
      "val_loss 57.598476\n"
     ]
    },
    {
     "data": {
      "application/vnd.jupyter.widget-view+json": {
       "model_id": "ed82ef26f83249bd8d8a298651719285",
       "version_major": 2,
       "version_minor": 0
      },
      "text/plain": [
       "  0%|          | 0/3 [00:00<?, ?it/s]"
      ]
     },
     "metadata": {},
     "output_type": "display_data"
    },
    {
     "name": "stdout",
     "output_type": "stream",
     "text": [
      "torch.Size([40, 8, 6])\n",
      "torch.Size([40, 5, 6])\n",
      "torch.Size([11, 9, 6])\n",
      "607\n",
      "train_loss -0.8115268150965372\n",
      "val_loss 57.54343\n"
     ]
    },
    {
     "data": {
      "application/vnd.jupyter.widget-view+json": {
       "model_id": "6d4ec4b7a626455382e78c122106ecd6",
       "version_major": 2,
       "version_minor": 0
      },
      "text/plain": [
       "  0%|          | 0/3 [00:00<?, ?it/s]"
      ]
     },
     "metadata": {},
     "output_type": "display_data"
    },
    {
     "name": "stdout",
     "output_type": "stream",
     "text": [
      "torch.Size([40, 6, 6])\n",
      "torch.Size([40, 14, 6])\n",
      "torch.Size([11, 8, 6])\n",
      "608\n",
      "train_loss -0.8680602709452311\n",
      "val_loss 57.41669\n"
     ]
    },
    {
     "data": {
      "application/vnd.jupyter.widget-view+json": {
       "model_id": "e1e7644527dc491fb13273ff76fca92a",
       "version_major": 2,
       "version_minor": 0
      },
      "text/plain": [
       "  0%|          | 0/3 [00:00<?, ?it/s]"
      ]
     },
     "metadata": {},
     "output_type": "display_data"
    },
    {
     "name": "stdout",
     "output_type": "stream",
     "text": [
      "torch.Size([40, 12, 6])\n",
      "torch.Size([40, 6, 6])\n",
      "torch.Size([11, 10, 6])\n",
      "609\n",
      "train_loss -0.8176323970158895\n",
      "val_loss 57.567463\n"
     ]
    },
    {
     "data": {
      "application/vnd.jupyter.widget-view+json": {
       "model_id": "51aeabbae01d48999c4eb4902cc3e427",
       "version_major": 2,
       "version_minor": 0
      },
      "text/plain": [
       "  0%|          | 0/3 [00:00<?, ?it/s]"
      ]
     },
     "metadata": {},
     "output_type": "display_data"
    },
    {
     "name": "stdout",
     "output_type": "stream",
     "text": [
      "torch.Size([40, 12, 6])\n",
      "torch.Size([40, 6, 6])\n",
      "torch.Size([11, 11, 6])\n",
      "610\n",
      "train_loss -0.9792274037996928\n",
      "val_loss 58.374218\n"
     ]
    },
    {
     "data": {
      "application/vnd.jupyter.widget-view+json": {
       "model_id": "628277e400b6481c97996a6e1c9101be",
       "version_major": 2,
       "version_minor": 0
      },
      "text/plain": [
       "  0%|          | 0/3 [00:00<?, ?it/s]"
      ]
     },
     "metadata": {},
     "output_type": "display_data"
    },
    {
     "name": "stdout",
     "output_type": "stream",
     "text": [
      "torch.Size([40, 6, 6])\n",
      "torch.Size([40, 7, 6])\n",
      "torch.Size([11, 7, 6])\n",
      "611\n",
      "train_loss -0.9017158548037211\n",
      "val_loss 58.646584\n"
     ]
    },
    {
     "data": {
      "application/vnd.jupyter.widget-view+json": {
       "model_id": "1efbd91d95a946688cd3e209d1cf1544",
       "version_major": 2,
       "version_minor": 0
      },
      "text/plain": [
       "  0%|          | 0/3 [00:00<?, ?it/s]"
      ]
     },
     "metadata": {},
     "output_type": "display_data"
    },
    {
     "name": "stdout",
     "output_type": "stream",
     "text": [
      "torch.Size([40, 12, 6])\n",
      "torch.Size([40, 9, 6])\n",
      "torch.Size([11, 5, 6])\n",
      "612\n",
      "train_loss -0.8435817758242289\n",
      "val_loss 57.954704\n"
     ]
    },
    {
     "data": {
      "application/vnd.jupyter.widget-view+json": {
       "model_id": "9f0b7780de204cfcb95a0c3a49067f23",
       "version_major": 2,
       "version_minor": 0
      },
      "text/plain": [
       "  0%|          | 0/3 [00:00<?, ?it/s]"
      ]
     },
     "metadata": {},
     "output_type": "display_data"
    },
    {
     "name": "stdout",
     "output_type": "stream",
     "text": [
      "torch.Size([40, 6, 6])\n",
      "torch.Size([40, 9, 6])\n",
      "torch.Size([11, 14, 6])\n",
      "613\n",
      "train_loss -0.523280402024587\n",
      "val_loss 56.95796\n"
     ]
    },
    {
     "data": {
      "application/vnd.jupyter.widget-view+json": {
       "model_id": "033a298e874842e79eac99b5d38c2c13",
       "version_major": 2,
       "version_minor": 0
      },
      "text/plain": [
       "  0%|          | 0/3 [00:00<?, ?it/s]"
      ]
     },
     "metadata": {},
     "output_type": "display_data"
    },
    {
     "name": "stdout",
     "output_type": "stream",
     "text": [
      "torch.Size([40, 9, 6])\n",
      "torch.Size([40, 4, 6])\n",
      "torch.Size([11, 6, 6])\n",
      "614\n",
      "train_loss -0.7448682089646658\n",
      "val_loss 56.324123\n"
     ]
    },
    {
     "data": {
      "application/vnd.jupyter.widget-view+json": {
       "model_id": "f1734b57817346a89200b88c993a2ccc",
       "version_major": 2,
       "version_minor": 0
      },
      "text/plain": [
       "  0%|          | 0/3 [00:00<?, ?it/s]"
      ]
     },
     "metadata": {},
     "output_type": "display_data"
    },
    {
     "name": "stdout",
     "output_type": "stream",
     "text": [
      "torch.Size([40, 14, 6])\n",
      "torch.Size([40, 7, 6])\n",
      "torch.Size([11, 9, 6])\n",
      "615\n",
      "train_loss -0.8668782711029053\n",
      "val_loss 57.2\n"
     ]
    },
    {
     "data": {
      "application/vnd.jupyter.widget-view+json": {
       "model_id": "88facbb049454def8674868233243a0f",
       "version_major": 2,
       "version_minor": 0
      },
      "text/plain": [
       "  0%|          | 0/3 [00:00<?, ?it/s]"
      ]
     },
     "metadata": {},
     "output_type": "display_data"
    },
    {
     "name": "stdout",
     "output_type": "stream",
     "text": [
      "torch.Size([40, 11, 6])\n",
      "torch.Size([40, 7, 6])\n",
      "torch.Size([11, 4, 6])\n",
      "616\n",
      "train_loss -0.6116472880045573\n",
      "val_loss 57.851326\n"
     ]
    },
    {
     "data": {
      "application/vnd.jupyter.widget-view+json": {
       "model_id": "902aac5bf3784204b098e3ea4aeb90c3",
       "version_major": 2,
       "version_minor": 0
      },
      "text/plain": [
       "  0%|          | 0/3 [00:00<?, ?it/s]"
      ]
     },
     "metadata": {},
     "output_type": "display_data"
    },
    {
     "name": "stdout",
     "output_type": "stream",
     "text": [
      "torch.Size([40, 14, 6])\n",
      "torch.Size([40, 11, 6])\n",
      "torch.Size([11, 14, 6])\n",
      "617\n",
      "train_loss -0.8602413932482401\n",
      "val_loss 57.6896\n"
     ]
    },
    {
     "data": {
      "application/vnd.jupyter.widget-view+json": {
       "model_id": "7862a22c40274cbcb37067d33b7e5a05",
       "version_major": 2,
       "version_minor": 0
      },
      "text/plain": [
       "  0%|          | 0/3 [00:00<?, ?it/s]"
      ]
     },
     "metadata": {},
     "output_type": "display_data"
    },
    {
     "name": "stdout",
     "output_type": "stream",
     "text": [
      "torch.Size([40, 5, 6])\n",
      "torch.Size([40, 14, 6])\n",
      "torch.Size([11, 12, 6])\n",
      "618\n",
      "train_loss -0.8546727697054545\n",
      "val_loss 58.430058\n"
     ]
    },
    {
     "data": {
      "application/vnd.jupyter.widget-view+json": {
       "model_id": "7da54b4cbcf54c3ab25b2c7b85b857b4",
       "version_major": 2,
       "version_minor": 0
      },
      "text/plain": [
       "  0%|          | 0/3 [00:00<?, ?it/s]"
      ]
     },
     "metadata": {},
     "output_type": "display_data"
    },
    {
     "name": "stdout",
     "output_type": "stream",
     "text": [
      "torch.Size([40, 4, 6])\n",
      "torch.Size([40, 7, 6])\n",
      "torch.Size([11, 9, 6])\n",
      "619\n",
      "train_loss -0.7222031752268473\n",
      "val_loss 58.761826\n"
     ]
    },
    {
     "data": {
      "application/vnd.jupyter.widget-view+json": {
       "model_id": "6d8e2381d36e4194b4237cca4913516d",
       "version_major": 2,
       "version_minor": 0
      },
      "text/plain": [
       "  0%|          | 0/3 [00:00<?, ?it/s]"
      ]
     },
     "metadata": {},
     "output_type": "display_data"
    },
    {
     "name": "stdout",
     "output_type": "stream",
     "text": [
      "torch.Size([40, 13, 6])\n",
      "torch.Size([40, 10, 6])\n",
      "torch.Size([11, 12, 6])\n",
      "620\n",
      "train_loss -0.7335485915342966\n",
      "val_loss 58.320274\n"
     ]
    },
    {
     "data": {
      "application/vnd.jupyter.widget-view+json": {
       "model_id": "140e1e164d1b487ea6ec4e8f06602c8e",
       "version_major": 2,
       "version_minor": 0
      },
      "text/plain": [
       "  0%|          | 0/3 [00:00<?, ?it/s]"
      ]
     },
     "metadata": {},
     "output_type": "display_data"
    },
    {
     "name": "stdout",
     "output_type": "stream",
     "text": [
      "torch.Size([40, 9, 6])\n",
      "torch.Size([40, 14, 6])\n",
      "torch.Size([11, 14, 6])\n",
      "621\n",
      "train_loss -0.8518699208895365\n",
      "val_loss 58.02365\n"
     ]
    },
    {
     "data": {
      "application/vnd.jupyter.widget-view+json": {
       "model_id": "9efe4bfae1bd44a68b97c76fcd89c3a0",
       "version_major": 2,
       "version_minor": 0
      },
      "text/plain": [
       "  0%|          | 0/3 [00:00<?, ?it/s]"
      ]
     },
     "metadata": {},
     "output_type": "display_data"
    },
    {
     "name": "stdout",
     "output_type": "stream",
     "text": [
      "torch.Size([40, 7, 6])\n",
      "torch.Size([40, 5, 6])\n",
      "torch.Size([11, 14, 6])\n",
      "622\n",
      "train_loss -0.9052647153536478\n",
      "val_loss 58.026306\n"
     ]
    },
    {
     "data": {
      "application/vnd.jupyter.widget-view+json": {
       "model_id": "a5a16c0c08894f27a6d6ceb31f3540fb",
       "version_major": 2,
       "version_minor": 0
      },
      "text/plain": [
       "  0%|          | 0/3 [00:00<?, ?it/s]"
      ]
     },
     "metadata": {},
     "output_type": "display_data"
    },
    {
     "name": "stdout",
     "output_type": "stream",
     "text": [
      "torch.Size([40, 6, 6])\n",
      "torch.Size([40, 8, 6])\n",
      "torch.Size([11, 5, 6])\n",
      "623\n",
      "train_loss -0.9732001225153605\n",
      "val_loss 58.158985\n"
     ]
    },
    {
     "data": {
      "application/vnd.jupyter.widget-view+json": {
       "model_id": "b4db452e4829448985212e149381f033",
       "version_major": 2,
       "version_minor": 0
      },
      "text/plain": [
       "  0%|          | 0/3 [00:00<?, ?it/s]"
      ]
     },
     "metadata": {},
     "output_type": "display_data"
    },
    {
     "name": "stdout",
     "output_type": "stream",
     "text": [
      "torch.Size([40, 14, 6])\n",
      "torch.Size([40, 11, 6])\n",
      "torch.Size([11, 12, 6])\n",
      "624\n",
      "train_loss -0.8643050789833069\n",
      "val_loss 58.556202\n"
     ]
    },
    {
     "data": {
      "application/vnd.jupyter.widget-view+json": {
       "model_id": "122bb060330e4296a82efd71efcac8a4",
       "version_major": 2,
       "version_minor": 0
      },
      "text/plain": [
       "  0%|          | 0/3 [00:00<?, ?it/s]"
      ]
     },
     "metadata": {},
     "output_type": "display_data"
    },
    {
     "name": "stdout",
     "output_type": "stream",
     "text": [
      "torch.Size([40, 4, 6])\n",
      "torch.Size([40, 12, 6])\n",
      "torch.Size([11, 6, 6])\n",
      "625\n",
      "train_loss -0.9592223366101583\n",
      "val_loss 58.921425\n"
     ]
    },
    {
     "data": {
      "application/vnd.jupyter.widget-view+json": {
       "model_id": "2d4de3c4091f4252ba0a067b213dab9c",
       "version_major": 2,
       "version_minor": 0
      },
      "text/plain": [
       "  0%|          | 0/3 [00:00<?, ?it/s]"
      ]
     },
     "metadata": {},
     "output_type": "display_data"
    },
    {
     "name": "stdout",
     "output_type": "stream",
     "text": [
      "torch.Size([40, 11, 6])\n",
      "torch.Size([40, 12, 6])\n",
      "torch.Size([11, 7, 6])\n",
      "626\n",
      "train_loss -0.860816756884257\n",
      "val_loss 58.64539\n"
     ]
    },
    {
     "data": {
      "application/vnd.jupyter.widget-view+json": {
       "model_id": "e4e55d4847524a99b9a130e33939e5b1",
       "version_major": 2,
       "version_minor": 0
      },
      "text/plain": [
       "  0%|          | 0/3 [00:00<?, ?it/s]"
      ]
     },
     "metadata": {},
     "output_type": "display_data"
    },
    {
     "name": "stdout",
     "output_type": "stream",
     "text": [
      "torch.Size([40, 10, 6])\n",
      "torch.Size([40, 14, 6])\n",
      "torch.Size([11, 7, 6])\n",
      "627\n",
      "train_loss -0.8885160883267721\n",
      "val_loss 58.448242\n"
     ]
    },
    {
     "data": {
      "application/vnd.jupyter.widget-view+json": {
       "model_id": "7c6346ec2e6c4443810a4275035a1ae5",
       "version_major": 2,
       "version_minor": 0
      },
      "text/plain": [
       "  0%|          | 0/3 [00:00<?, ?it/s]"
      ]
     },
     "metadata": {},
     "output_type": "display_data"
    },
    {
     "name": "stdout",
     "output_type": "stream",
     "text": [
      "torch.Size([40, 7, 6])\n",
      "torch.Size([40, 4, 6])\n",
      "torch.Size([11, 8, 6])\n",
      "628\n",
      "train_loss -0.8895453810691833\n",
      "val_loss 58.057472\n"
     ]
    },
    {
     "data": {
      "application/vnd.jupyter.widget-view+json": {
       "model_id": "4bec3d02416740838e5635c7de81647c",
       "version_major": 2,
       "version_minor": 0
      },
      "text/plain": [
       "  0%|          | 0/3 [00:00<?, ?it/s]"
      ]
     },
     "metadata": {},
     "output_type": "display_data"
    },
    {
     "name": "stdout",
     "output_type": "stream",
     "text": [
      "torch.Size([40, 14, 6])\n",
      "torch.Size([40, 14, 6])\n",
      "torch.Size([11, 7, 6])\n",
      "629\n",
      "train_loss -0.8960261543591818\n",
      "val_loss 58.815598\n"
     ]
    },
    {
     "data": {
      "application/vnd.jupyter.widget-view+json": {
       "model_id": "ef3d9228aa8f4b94bbe8ae241c73b9a8",
       "version_major": 2,
       "version_minor": 0
      },
      "text/plain": [
       "  0%|          | 0/3 [00:00<?, ?it/s]"
      ]
     },
     "metadata": {},
     "output_type": "display_data"
    },
    {
     "name": "stdout",
     "output_type": "stream",
     "text": [
      "torch.Size([40, 7, 6])\n",
      "torch.Size([40, 9, 6])\n",
      "torch.Size([11, 5, 6])\n",
      "630\n",
      "train_loss -0.8881898323694865\n",
      "val_loss 58.546112\n"
     ]
    },
    {
     "data": {
      "application/vnd.jupyter.widget-view+json": {
       "model_id": "52430184aab7435b96c8b9e01b4d3a5c",
       "version_major": 2,
       "version_minor": 0
      },
      "text/plain": [
       "  0%|          | 0/3 [00:00<?, ?it/s]"
      ]
     },
     "metadata": {},
     "output_type": "display_data"
    },
    {
     "name": "stdout",
     "output_type": "stream",
     "text": [
      "torch.Size([40, 12, 6])\n",
      "torch.Size([40, 13, 6])\n",
      "torch.Size([11, 10, 6])\n",
      "631\n",
      "train_loss -1.0179622968037922\n",
      "val_loss 58.595684\n"
     ]
    },
    {
     "data": {
      "application/vnd.jupyter.widget-view+json": {
       "model_id": "14bf1fc209af4895b06f32592fb76b52",
       "version_major": 2,
       "version_minor": 0
      },
      "text/plain": [
       "  0%|          | 0/3 [00:00<?, ?it/s]"
      ]
     },
     "metadata": {},
     "output_type": "display_data"
    },
    {
     "name": "stdout",
     "output_type": "stream",
     "text": [
      "torch.Size([40, 9, 6])\n",
      "torch.Size([40, 5, 6])\n",
      "torch.Size([11, 12, 6])\n",
      "632\n",
      "train_loss -1.0309209028879802\n",
      "val_loss 58.67789\n"
     ]
    },
    {
     "data": {
      "application/vnd.jupyter.widget-view+json": {
       "model_id": "b36fae3e5855450da8885ea28f419c93",
       "version_major": 2,
       "version_minor": 0
      },
      "text/plain": [
       "  0%|          | 0/3 [00:00<?, ?it/s]"
      ]
     },
     "metadata": {},
     "output_type": "display_data"
    },
    {
     "name": "stdout",
     "output_type": "stream",
     "text": [
      "torch.Size([40, 10, 6])\n",
      "torch.Size([40, 4, 6])\n",
      "torch.Size([11, 12, 6])\n",
      "633\n",
      "train_loss -0.1992067495981852\n",
      "val_loss 59.033867\n"
     ]
    },
    {
     "data": {
      "application/vnd.jupyter.widget-view+json": {
       "model_id": "f427735a875b405f90b7e1c829a9f599",
       "version_major": 2,
       "version_minor": 0
      },
      "text/plain": [
       "  0%|          | 0/3 [00:00<?, ?it/s]"
      ]
     },
     "metadata": {},
     "output_type": "display_data"
    },
    {
     "name": "stdout",
     "output_type": "stream",
     "text": [
      "torch.Size([40, 6, 6])\n",
      "torch.Size([40, 12, 6])\n",
      "torch.Size([11, 9, 6])\n",
      "634\n",
      "train_loss -0.8568335274855295\n",
      "val_loss 59.102753\n"
     ]
    },
    {
     "data": {
      "application/vnd.jupyter.widget-view+json": {
       "model_id": "23d4c69efa6c4cf6abd0fe28d08eb658",
       "version_major": 2,
       "version_minor": 0
      },
      "text/plain": [
       "  0%|          | 0/3 [00:00<?, ?it/s]"
      ]
     },
     "metadata": {},
     "output_type": "display_data"
    },
    {
     "name": "stdout",
     "output_type": "stream",
     "text": [
      "torch.Size([40, 11, 6])\n",
      "torch.Size([40, 14, 6])\n",
      "torch.Size([11, 7, 6])\n",
      "635\n",
      "train_loss 0.7120950619379679\n",
      "val_loss 58.08673\n"
     ]
    },
    {
     "data": {
      "application/vnd.jupyter.widget-view+json": {
       "model_id": "a8b6f35426c948feac03856ddf051f8f",
       "version_major": 2,
       "version_minor": 0
      },
      "text/plain": [
       "  0%|          | 0/3 [00:00<?, ?it/s]"
      ]
     },
     "metadata": {},
     "output_type": "display_data"
    },
    {
     "name": "stdout",
     "output_type": "stream",
     "text": [
      "torch.Size([40, 8, 6])\n",
      "torch.Size([40, 9, 6])\n",
      "torch.Size([11, 10, 6])\n",
      "636\n",
      "train_loss -0.4456412394841512\n",
      "val_loss 57.45282\n"
     ]
    },
    {
     "data": {
      "application/vnd.jupyter.widget-view+json": {
       "model_id": "3fa2b792088444ada1c603dc5dc27146",
       "version_major": 2,
       "version_minor": 0
      },
      "text/plain": [
       "  0%|          | 0/3 [00:00<?, ?it/s]"
      ]
     },
     "metadata": {},
     "output_type": "display_data"
    },
    {
     "name": "stdout",
     "output_type": "stream",
     "text": [
      "torch.Size([40, 11, 6])\n",
      "torch.Size([40, 7, 6])\n",
      "torch.Size([11, 12, 6])\n",
      "637\n",
      "train_loss -0.297928827504317\n",
      "val_loss 58.161453\n"
     ]
    },
    {
     "data": {
      "application/vnd.jupyter.widget-view+json": {
       "model_id": "5a8bf1107cd643028f5748cf8351a9ed",
       "version_major": 2,
       "version_minor": 0
      },
      "text/plain": [
       "  0%|          | 0/3 [00:00<?, ?it/s]"
      ]
     },
     "metadata": {},
     "output_type": "display_data"
    },
    {
     "name": "stdout",
     "output_type": "stream",
     "text": [
      "torch.Size([40, 7, 6])\n",
      "torch.Size([40, 7, 6])\n",
      "torch.Size([11, 5, 6])\n",
      "638\n",
      "train_loss -0.20811034242312113\n",
      "val_loss 59.31747\n"
     ]
    },
    {
     "data": {
      "application/vnd.jupyter.widget-view+json": {
       "model_id": "fa460403acda4b2f9a05e07caaaa51e3",
       "version_major": 2,
       "version_minor": 0
      },
      "text/plain": [
       "  0%|          | 0/3 [00:00<?, ?it/s]"
      ]
     },
     "metadata": {},
     "output_type": "display_data"
    },
    {
     "name": "stdout",
     "output_type": "stream",
     "text": [
      "torch.Size([40, 6, 6])\n",
      "torch.Size([40, 14, 6])\n",
      "torch.Size([11, 8, 6])\n",
      "639\n",
      "train_loss -0.6282653411229452\n",
      "val_loss 60.533585\n"
     ]
    },
    {
     "data": {
      "application/vnd.jupyter.widget-view+json": {
       "model_id": "19da5eebb03c4a1fa2c41dbe356a8f8e",
       "version_major": 2,
       "version_minor": 0
      },
      "text/plain": [
       "  0%|          | 0/3 [00:00<?, ?it/s]"
      ]
     },
     "metadata": {},
     "output_type": "display_data"
    },
    {
     "name": "stdout",
     "output_type": "stream",
     "text": [
      "torch.Size([40, 13, 6])\n",
      "torch.Size([40, 4, 6])\n",
      "torch.Size([11, 7, 6])\n",
      "640\n",
      "train_loss -0.42607388893763226\n",
      "val_loss 60.792522\n"
     ]
    },
    {
     "data": {
      "application/vnd.jupyter.widget-view+json": {
       "model_id": "b80b37ce110b4e1c8b9a6338b0ac77c4",
       "version_major": 2,
       "version_minor": 0
      },
      "text/plain": [
       "  0%|          | 0/3 [00:00<?, ?it/s]"
      ]
     },
     "metadata": {},
     "output_type": "display_data"
    },
    {
     "name": "stdout",
     "output_type": "stream",
     "text": [
      "torch.Size([40, 11, 6])\n",
      "torch.Size([40, 4, 6])\n",
      "torch.Size([11, 6, 6])\n",
      "641\n",
      "train_loss -0.3445668617884318\n",
      "val_loss 60.27842\n"
     ]
    },
    {
     "data": {
      "application/vnd.jupyter.widget-view+json": {
       "model_id": "b4e27fec51034b06a54368b262b00ac0",
       "version_major": 2,
       "version_minor": 0
      },
      "text/plain": [
       "  0%|          | 0/3 [00:00<?, ?it/s]"
      ]
     },
     "metadata": {},
     "output_type": "display_data"
    },
    {
     "name": "stdout",
     "output_type": "stream",
     "text": [
      "torch.Size([40, 7, 6])\n",
      "torch.Size([40, 5, 6])\n",
      "torch.Size([11, 11, 6])\n",
      "642\n",
      "train_loss -0.6353763937950134\n",
      "val_loss 60.189266\n"
     ]
    },
    {
     "data": {
      "application/vnd.jupyter.widget-view+json": {
       "model_id": "32eeb5c64d474e94ba53b92f46bb632c",
       "version_major": 2,
       "version_minor": 0
      },
      "text/plain": [
       "  0%|          | 0/3 [00:00<?, ?it/s]"
      ]
     },
     "metadata": {},
     "output_type": "display_data"
    },
    {
     "name": "stdout",
     "output_type": "stream",
     "text": [
      "torch.Size([40, 14, 6])\n",
      "torch.Size([40, 5, 6])\n",
      "torch.Size([11, 13, 6])\n",
      "643\n",
      "train_loss -0.7802846630414327\n",
      "val_loss 59.66845\n"
     ]
    },
    {
     "data": {
      "application/vnd.jupyter.widget-view+json": {
       "model_id": "ed63874bdc9b490080084008c40f1a4f",
       "version_major": 2,
       "version_minor": 0
      },
      "text/plain": [
       "  0%|          | 0/3 [00:00<?, ?it/s]"
      ]
     },
     "metadata": {},
     "output_type": "display_data"
    },
    {
     "name": "stdout",
     "output_type": "stream",
     "text": [
      "torch.Size([40, 5, 6])\n",
      "torch.Size([40, 8, 6])\n",
      "torch.Size([11, 12, 6])\n",
      "644\n",
      "train_loss -0.6522212425867716\n",
      "val_loss 58.574913\n"
     ]
    },
    {
     "data": {
      "application/vnd.jupyter.widget-view+json": {
       "model_id": "1ab88b74281f44209ae26c31e8a5dc67",
       "version_major": 2,
       "version_minor": 0
      },
      "text/plain": [
       "  0%|          | 0/3 [00:00<?, ?it/s]"
      ]
     },
     "metadata": {},
     "output_type": "display_data"
    },
    {
     "name": "stdout",
     "output_type": "stream",
     "text": [
      "torch.Size([40, 5, 6])\n",
      "torch.Size([40, 13, 6])\n",
      "torch.Size([11, 8, 6])\n",
      "645\n",
      "train_loss -0.8339717984199524\n",
      "val_loss 58.020046\n"
     ]
    },
    {
     "data": {
      "application/vnd.jupyter.widget-view+json": {
       "model_id": "4c2409dc1cb6495b8b398417246ac785",
       "version_major": 2,
       "version_minor": 0
      },
      "text/plain": [
       "  0%|          | 0/3 [00:00<?, ?it/s]"
      ]
     },
     "metadata": {},
     "output_type": "display_data"
    },
    {
     "name": "stdout",
     "output_type": "stream",
     "text": [
      "torch.Size([40, 11, 6])\n",
      "torch.Size([40, 13, 6])\n",
      "torch.Size([11, 4, 6])\n",
      "646\n",
      "train_loss -0.8349507451057434\n",
      "val_loss 58.068848\n"
     ]
    },
    {
     "data": {
      "application/vnd.jupyter.widget-view+json": {
       "model_id": "8daeb57e65074b7dbd613b042939f568",
       "version_major": 2,
       "version_minor": 0
      },
      "text/plain": [
       "  0%|          | 0/3 [00:00<?, ?it/s]"
      ]
     },
     "metadata": {},
     "output_type": "display_data"
    },
    {
     "name": "stdout",
     "output_type": "stream",
     "text": [
      "torch.Size([40, 9, 6])\n",
      "torch.Size([40, 8, 6])\n",
      "torch.Size([11, 11, 6])\n",
      "647\n",
      "train_loss -0.8118574420611063\n",
      "val_loss 58.38703\n"
     ]
    },
    {
     "data": {
      "application/vnd.jupyter.widget-view+json": {
       "model_id": "3bfb7cc857e04e0fb983e8032a0188db",
       "version_major": 2,
       "version_minor": 0
      },
      "text/plain": [
       "  0%|          | 0/3 [00:00<?, ?it/s]"
      ]
     },
     "metadata": {},
     "output_type": "display_data"
    },
    {
     "name": "stdout",
     "output_type": "stream",
     "text": [
      "torch.Size([40, 7, 6])\n",
      "torch.Size([40, 6, 6])\n",
      "torch.Size([11, 11, 6])\n",
      "648\n",
      "train_loss -0.4994137833515803\n",
      "val_loss 58.31546\n"
     ]
    },
    {
     "data": {
      "application/vnd.jupyter.widget-view+json": {
       "model_id": "df5dd6b199aa4f82b075a1373c6d7e8e",
       "version_major": 2,
       "version_minor": 0
      },
      "text/plain": [
       "  0%|          | 0/3 [00:00<?, ?it/s]"
      ]
     },
     "metadata": {},
     "output_type": "display_data"
    },
    {
     "name": "stdout",
     "output_type": "stream",
     "text": [
      "torch.Size([40, 12, 6])\n",
      "torch.Size([40, 6, 6])\n",
      "torch.Size([11, 9, 6])\n",
      "649\n",
      "train_loss -0.7806719144185384\n",
      "val_loss 58.197342\n"
     ]
    },
    {
     "data": {
      "application/vnd.jupyter.widget-view+json": {
       "model_id": "7ae7e18cfea44a4e88f329da54f887ac",
       "version_major": 2,
       "version_minor": 0
      },
      "text/plain": [
       "  0%|          | 0/3 [00:00<?, ?it/s]"
      ]
     },
     "metadata": {},
     "output_type": "display_data"
    },
    {
     "name": "stdout",
     "output_type": "stream",
     "text": [
      "torch.Size([40, 14, 6])\n",
      "torch.Size([40, 10, 6])\n",
      "torch.Size([11, 7, 6])\n",
      "650\n",
      "train_loss -0.7271580497423807\n",
      "val_loss 58.276653\n"
     ]
    },
    {
     "data": {
      "application/vnd.jupyter.widget-view+json": {
       "model_id": "9b88aa3a57df4b2d9c492ccd100363eb",
       "version_major": 2,
       "version_minor": 0
      },
      "text/plain": [
       "  0%|          | 0/3 [00:00<?, ?it/s]"
      ]
     },
     "metadata": {},
     "output_type": "display_data"
    },
    {
     "name": "stdout",
     "output_type": "stream",
     "text": [
      "torch.Size([40, 9, 6])\n",
      "torch.Size([40, 6, 6])\n",
      "torch.Size([11, 9, 6])\n",
      "651\n",
      "train_loss -0.7819310824076334\n",
      "val_loss 58.654472\n"
     ]
    },
    {
     "data": {
      "application/vnd.jupyter.widget-view+json": {
       "model_id": "57ae960e1b8445248f72752c1feb8c1b",
       "version_major": 2,
       "version_minor": 0
      },
      "text/plain": [
       "  0%|          | 0/3 [00:00<?, ?it/s]"
      ]
     },
     "metadata": {},
     "output_type": "display_data"
    },
    {
     "name": "stdout",
     "output_type": "stream",
     "text": [
      "torch.Size([40, 14, 6])\n",
      "torch.Size([40, 14, 6])\n",
      "torch.Size([11, 14, 6])\n",
      "652\n",
      "train_loss -0.8273835380872091\n",
      "val_loss 58.85042\n"
     ]
    },
    {
     "data": {
      "application/vnd.jupyter.widget-view+json": {
       "model_id": "a0f55a9f4fb74015a2dcfb18419692d1",
       "version_major": 2,
       "version_minor": 0
      },
      "text/plain": [
       "  0%|          | 0/3 [00:00<?, ?it/s]"
      ]
     },
     "metadata": {},
     "output_type": "display_data"
    },
    {
     "name": "stdout",
     "output_type": "stream",
     "text": [
      "torch.Size([40, 11, 6])\n",
      "torch.Size([40, 12, 6])\n",
      "torch.Size([11, 5, 6])\n",
      "653\n",
      "train_loss -0.9363249739011129\n",
      "val_loss 58.88575\n"
     ]
    },
    {
     "data": {
      "application/vnd.jupyter.widget-view+json": {
       "model_id": "4c4b2d1228514e869e1403ee243048b1",
       "version_major": 2,
       "version_minor": 0
      },
      "text/plain": [
       "  0%|          | 0/3 [00:00<?, ?it/s]"
      ]
     },
     "metadata": {},
     "output_type": "display_data"
    },
    {
     "name": "stdout",
     "output_type": "stream",
     "text": [
      "torch.Size([40, 7, 6])\n",
      "torch.Size([40, 13, 6])\n",
      "torch.Size([11, 13, 6])\n",
      "654\n",
      "train_loss -0.8032255371411642\n",
      "val_loss 59.075302\n"
     ]
    },
    {
     "data": {
      "application/vnd.jupyter.widget-view+json": {
       "model_id": "e8454db0754f42c28f1bfc4174a6f2ef",
       "version_major": 2,
       "version_minor": 0
      },
      "text/plain": [
       "  0%|          | 0/3 [00:00<?, ?it/s]"
      ]
     },
     "metadata": {},
     "output_type": "display_data"
    },
    {
     "name": "stdout",
     "output_type": "stream",
     "text": [
      "torch.Size([40, 5, 6])\n",
      "torch.Size([40, 4, 6])\n",
      "torch.Size([11, 7, 6])\n",
      "655\n",
      "train_loss -0.6276087164878845\n",
      "val_loss 59.64333\n"
     ]
    },
    {
     "data": {
      "application/vnd.jupyter.widget-view+json": {
       "model_id": "faa61a95d8c24f4faf693de1e944498e",
       "version_major": 2,
       "version_minor": 0
      },
      "text/plain": [
       "  0%|          | 0/3 [00:00<?, ?it/s]"
      ]
     },
     "metadata": {},
     "output_type": "display_data"
    },
    {
     "name": "stdout",
     "output_type": "stream",
     "text": [
      "torch.Size([40, 8, 6])\n",
      "torch.Size([40, 10, 6])\n",
      "torch.Size([11, 6, 6])\n",
      "656\n",
      "train_loss -0.8940072456995646\n",
      "val_loss 59.34834\n"
     ]
    },
    {
     "data": {
      "application/vnd.jupyter.widget-view+json": {
       "model_id": "e22f72b48a614556a38d5ac4e16f4b36",
       "version_major": 2,
       "version_minor": 0
      },
      "text/plain": [
       "  0%|          | 0/3 [00:00<?, ?it/s]"
      ]
     },
     "metadata": {},
     "output_type": "display_data"
    },
    {
     "name": "stdout",
     "output_type": "stream",
     "text": [
      "torch.Size([40, 11, 6])\n",
      "torch.Size([40, 8, 6])\n",
      "torch.Size([11, 6, 6])\n",
      "657\n",
      "train_loss -0.8612622022628784\n",
      "val_loss 59.16967\n"
     ]
    },
    {
     "data": {
      "application/vnd.jupyter.widget-view+json": {
       "model_id": "37a4ab1f4f4540278976dca7cca2a83d",
       "version_major": 2,
       "version_minor": 0
      },
      "text/plain": [
       "  0%|          | 0/3 [00:00<?, ?it/s]"
      ]
     },
     "metadata": {},
     "output_type": "display_data"
    },
    {
     "name": "stdout",
     "output_type": "stream",
     "text": [
      "torch.Size([40, 10, 6])\n",
      "torch.Size([40, 11, 6])\n",
      "torch.Size([11, 12, 6])\n",
      "658\n",
      "train_loss -0.8277237415313721\n",
      "val_loss 59.38528\n"
     ]
    },
    {
     "data": {
      "application/vnd.jupyter.widget-view+json": {
       "model_id": "30a7fa87841549909ca26dc5902ddde4",
       "version_major": 2,
       "version_minor": 0
      },
      "text/plain": [
       "  0%|          | 0/3 [00:00<?, ?it/s]"
      ]
     },
     "metadata": {},
     "output_type": "display_data"
    },
    {
     "name": "stdout",
     "output_type": "stream",
     "text": [
      "torch.Size([40, 10, 6])\n",
      "torch.Size([40, 7, 6])\n",
      "torch.Size([11, 6, 6])\n",
      "659\n",
      "train_loss -0.339659849802653\n",
      "val_loss 59.479717\n"
     ]
    },
    {
     "data": {
      "application/vnd.jupyter.widget-view+json": {
       "model_id": "11529886955d4cd9b5c01d43fa43e376",
       "version_major": 2,
       "version_minor": 0
      },
      "text/plain": [
       "  0%|          | 0/3 [00:00<?, ?it/s]"
      ]
     },
     "metadata": {},
     "output_type": "display_data"
    },
    {
     "name": "stdout",
     "output_type": "stream",
     "text": [
      "torch.Size([40, 4, 6])\n",
      "torch.Size([40, 6, 6])\n",
      "torch.Size([11, 4, 6])\n",
      "660\n",
      "train_loss -0.8526377280553182\n",
      "val_loss 59.384865\n"
     ]
    },
    {
     "data": {
      "application/vnd.jupyter.widget-view+json": {
       "model_id": "0521d17764cc4de2a0404a8453462be7",
       "version_major": 2,
       "version_minor": 0
      },
      "text/plain": [
       "  0%|          | 0/3 [00:00<?, ?it/s]"
      ]
     },
     "metadata": {},
     "output_type": "display_data"
    },
    {
     "name": "stdout",
     "output_type": "stream",
     "text": [
      "torch.Size([40, 5, 6])\n",
      "torch.Size([40, 6, 6])\n",
      "torch.Size([11, 6, 6])\n",
      "661\n",
      "train_loss -0.6499334871768951\n",
      "val_loss 58.362453\n"
     ]
    },
    {
     "data": {
      "application/vnd.jupyter.widget-view+json": {
       "model_id": "433d23a70bf9440c966c3cf83f383390",
       "version_major": 2,
       "version_minor": 0
      },
      "text/plain": [
       "  0%|          | 0/3 [00:00<?, ?it/s]"
      ]
     },
     "metadata": {},
     "output_type": "display_data"
    },
    {
     "name": "stdout",
     "output_type": "stream",
     "text": [
      "torch.Size([40, 9, 6])\n",
      "torch.Size([40, 10, 6])\n",
      "torch.Size([11, 8, 6])\n",
      "662\n",
      "train_loss -0.7876407106717428\n",
      "val_loss 58.07149\n"
     ]
    },
    {
     "data": {
      "application/vnd.jupyter.widget-view+json": {
       "model_id": "3839ca6a69844c78b9b1ebf3c70f3191",
       "version_major": 2,
       "version_minor": 0
      },
      "text/plain": [
       "  0%|          | 0/3 [00:00<?, ?it/s]"
      ]
     },
     "metadata": {},
     "output_type": "display_data"
    },
    {
     "name": "stdout",
     "output_type": "stream",
     "text": [
      "torch.Size([40, 8, 6])\n",
      "torch.Size([40, 8, 6])\n",
      "torch.Size([11, 10, 6])\n",
      "663\n",
      "train_loss -0.9055139819780985\n",
      "val_loss 58.33423\n"
     ]
    },
    {
     "data": {
      "application/vnd.jupyter.widget-view+json": {
       "model_id": "ac6d1fd48bea44319029cc8ba87c98df",
       "version_major": 2,
       "version_minor": 0
      },
      "text/plain": [
       "  0%|          | 0/3 [00:00<?, ?it/s]"
      ]
     },
     "metadata": {},
     "output_type": "display_data"
    },
    {
     "name": "stdout",
     "output_type": "stream",
     "text": [
      "torch.Size([40, 9, 6])\n",
      "torch.Size([40, 14, 6])\n",
      "torch.Size([11, 6, 6])\n",
      "664\n",
      "train_loss -0.7855267326037089\n",
      "val_loss 58.715374\n"
     ]
    },
    {
     "data": {
      "application/vnd.jupyter.widget-view+json": {
       "model_id": "c6c4e4041a484894b8270caa27e6bb47",
       "version_major": 2,
       "version_minor": 0
      },
      "text/plain": [
       "  0%|          | 0/3 [00:00<?, ?it/s]"
      ]
     },
     "metadata": {},
     "output_type": "display_data"
    },
    {
     "name": "stdout",
     "output_type": "stream",
     "text": [
      "torch.Size([40, 10, 6])\n",
      "torch.Size([40, 6, 6])\n",
      "torch.Size([11, 6, 6])\n",
      "665\n",
      "train_loss -0.8508470257123312\n",
      "val_loss 58.640724\n"
     ]
    },
    {
     "data": {
      "application/vnd.jupyter.widget-view+json": {
       "model_id": "c4be3072506f4d0f90728ec2ee4641c2",
       "version_major": 2,
       "version_minor": 0
      },
      "text/plain": [
       "  0%|          | 0/3 [00:00<?, ?it/s]"
      ]
     },
     "metadata": {},
     "output_type": "display_data"
    },
    {
     "name": "stdout",
     "output_type": "stream",
     "text": [
      "torch.Size([40, 12, 6])\n",
      "torch.Size([40, 4, 6])\n",
      "torch.Size([11, 6, 6])\n",
      "666\n",
      "train_loss -0.8406998713811239\n",
      "val_loss 58.9138\n"
     ]
    },
    {
     "data": {
      "application/vnd.jupyter.widget-view+json": {
       "model_id": "ebb7b6da361c4f97ba8205ad7d473d25",
       "version_major": 2,
       "version_minor": 0
      },
      "text/plain": [
       "  0%|          | 0/3 [00:00<?, ?it/s]"
      ]
     },
     "metadata": {},
     "output_type": "display_data"
    },
    {
     "name": "stdout",
     "output_type": "stream",
     "text": [
      "torch.Size([40, 9, 6])\n",
      "torch.Size([40, 8, 6])\n",
      "torch.Size([11, 4, 6])\n",
      "667\n",
      "train_loss -0.9650519490242004\n",
      "val_loss 59.487637\n"
     ]
    },
    {
     "data": {
      "application/vnd.jupyter.widget-view+json": {
       "model_id": "de9ee9d190d34543a4b890941e44a05a",
       "version_major": 2,
       "version_minor": 0
      },
      "text/plain": [
       "  0%|          | 0/3 [00:00<?, ?it/s]"
      ]
     },
     "metadata": {},
     "output_type": "display_data"
    },
    {
     "name": "stdout",
     "output_type": "stream",
     "text": [
      "torch.Size([40, 10, 6])\n",
      "torch.Size([40, 4, 6])\n",
      "torch.Size([11, 4, 6])\n",
      "668\n",
      "train_loss -1.017652412255605\n",
      "val_loss 59.02283\n"
     ]
    },
    {
     "data": {
      "application/vnd.jupyter.widget-view+json": {
       "model_id": "f5af5d06284042859135f68fda25f49a",
       "version_major": 2,
       "version_minor": 0
      },
      "text/plain": [
       "  0%|          | 0/3 [00:00<?, ?it/s]"
      ]
     },
     "metadata": {},
     "output_type": "display_data"
    },
    {
     "name": "stdout",
     "output_type": "stream",
     "text": [
      "torch.Size([40, 7, 6])\n",
      "torch.Size([40, 9, 6])\n",
      "torch.Size([11, 7, 6])\n",
      "669\n",
      "train_loss -0.8625863194465637\n",
      "val_loss 58.69294\n"
     ]
    },
    {
     "data": {
      "application/vnd.jupyter.widget-view+json": {
       "model_id": "e4a966229134444d81c3004cb22ffc02",
       "version_major": 2,
       "version_minor": 0
      },
      "text/plain": [
       "  0%|          | 0/3 [00:00<?, ?it/s]"
      ]
     },
     "metadata": {},
     "output_type": "display_data"
    },
    {
     "name": "stdout",
     "output_type": "stream",
     "text": [
      "torch.Size([40, 13, 6])\n",
      "torch.Size([40, 11, 6])\n",
      "torch.Size([11, 7, 6])\n",
      "670\n",
      "train_loss -1.0128272771835327\n",
      "val_loss 58.55259\n"
     ]
    },
    {
     "data": {
      "application/vnd.jupyter.widget-view+json": {
       "model_id": "b9721d5a7fa94d969eb77570ebff6f62",
       "version_major": 2,
       "version_minor": 0
      },
      "text/plain": [
       "  0%|          | 0/3 [00:00<?, ?it/s]"
      ]
     },
     "metadata": {},
     "output_type": "display_data"
    },
    {
     "name": "stdout",
     "output_type": "stream",
     "text": [
      "torch.Size([40, 13, 6])\n",
      "torch.Size([40, 11, 6])\n",
      "torch.Size([11, 10, 6])\n",
      "671\n",
      "train_loss -0.9688476324081421\n",
      "val_loss 58.295048\n"
     ]
    },
    {
     "data": {
      "application/vnd.jupyter.widget-view+json": {
       "model_id": "3146a645a39b4d7582c67c1a13992d69",
       "version_major": 2,
       "version_minor": 0
      },
      "text/plain": [
       "  0%|          | 0/3 [00:00<?, ?it/s]"
      ]
     },
     "metadata": {},
     "output_type": "display_data"
    },
    {
     "name": "stdout",
     "output_type": "stream",
     "text": [
      "torch.Size([40, 8, 6])\n",
      "torch.Size([40, 6, 6])\n",
      "torch.Size([11, 6, 6])\n",
      "672\n",
      "train_loss -0.9419618646303812\n",
      "val_loss 58.465305\n"
     ]
    },
    {
     "data": {
      "application/vnd.jupyter.widget-view+json": {
       "model_id": "2b0c89bad7b14a34b5ee4702e021ba7b",
       "version_major": 2,
       "version_minor": 0
      },
      "text/plain": [
       "  0%|          | 0/3 [00:00<?, ?it/s]"
      ]
     },
     "metadata": {},
     "output_type": "display_data"
    },
    {
     "name": "stdout",
     "output_type": "stream",
     "text": [
      "torch.Size([40, 14, 6])\n",
      "torch.Size([40, 11, 6])\n",
      "torch.Size([11, 9, 6])\n",
      "673\n",
      "train_loss -0.5550176550944647\n",
      "val_loss 58.730907\n"
     ]
    },
    {
     "data": {
      "application/vnd.jupyter.widget-view+json": {
       "model_id": "40c23f8ae6e74d4d9faddf6a14bfcc43",
       "version_major": 2,
       "version_minor": 0
      },
      "text/plain": [
       "  0%|          | 0/3 [00:00<?, ?it/s]"
      ]
     },
     "metadata": {},
     "output_type": "display_data"
    },
    {
     "name": "stdout",
     "output_type": "stream",
     "text": [
      "torch.Size([40, 7, 6])\n",
      "torch.Size([40, 12, 6])\n",
      "torch.Size([11, 5, 6])\n",
      "674\n",
      "train_loss -1.012685239315033\n",
      "val_loss 58.93918\n"
     ]
    },
    {
     "data": {
      "application/vnd.jupyter.widget-view+json": {
       "model_id": "3fa8f79e605c4937b127a80e61a2e85d",
       "version_major": 2,
       "version_minor": 0
      },
      "text/plain": [
       "  0%|          | 0/3 [00:00<?, ?it/s]"
      ]
     },
     "metadata": {},
     "output_type": "display_data"
    },
    {
     "name": "stdout",
     "output_type": "stream",
     "text": [
      "torch.Size([40, 7, 6])\n",
      "torch.Size([40, 12, 6])\n",
      "torch.Size([11, 5, 6])\n",
      "675\n",
      "train_loss -0.9488381743431091\n",
      "val_loss 59.186405\n"
     ]
    },
    {
     "data": {
      "application/vnd.jupyter.widget-view+json": {
       "model_id": "aa9f5f3a26f3496d8c1e6dcaf51fb56b",
       "version_major": 2,
       "version_minor": 0
      },
      "text/plain": [
       "  0%|          | 0/3 [00:00<?, ?it/s]"
      ]
     },
     "metadata": {},
     "output_type": "display_data"
    },
    {
     "name": "stdout",
     "output_type": "stream",
     "text": [
      "torch.Size([40, 5, 6])\n",
      "torch.Size([40, 14, 6])\n",
      "torch.Size([11, 12, 6])\n",
      "676\n",
      "train_loss -0.8795227408409119\n",
      "val_loss 58.87588\n"
     ]
    },
    {
     "data": {
      "application/vnd.jupyter.widget-view+json": {
       "model_id": "bd5b95efac8347a89b844fed40f8dfe8",
       "version_major": 2,
       "version_minor": 0
      },
      "text/plain": [
       "  0%|          | 0/3 [00:00<?, ?it/s]"
      ]
     },
     "metadata": {},
     "output_type": "display_data"
    },
    {
     "name": "stdout",
     "output_type": "stream",
     "text": [
      "torch.Size([40, 7, 6])\n",
      "torch.Size([40, 6, 6])\n",
      "torch.Size([11, 13, 6])\n",
      "677\n",
      "train_loss -1.039211094379425\n",
      "val_loss 59.359287\n"
     ]
    },
    {
     "data": {
      "application/vnd.jupyter.widget-view+json": {
       "model_id": "1fbb07c98daa453cb14f07bae5dc9edf",
       "version_major": 2,
       "version_minor": 0
      },
      "text/plain": [
       "  0%|          | 0/3 [00:00<?, ?it/s]"
      ]
     },
     "metadata": {},
     "output_type": "display_data"
    },
    {
     "name": "stdout",
     "output_type": "stream",
     "text": [
      "torch.Size([40, 8, 6])\n",
      "torch.Size([40, 11, 6])\n",
      "torch.Size([11, 14, 6])\n",
      "678\n",
      "train_loss -0.7739085058371226\n",
      "val_loss 59.316895\n"
     ]
    },
    {
     "data": {
      "application/vnd.jupyter.widget-view+json": {
       "model_id": "630c5d7427134c3bbb95908e95784dc0",
       "version_major": 2,
       "version_minor": 0
      },
      "text/plain": [
       "  0%|          | 0/3 [00:00<?, ?it/s]"
      ]
     },
     "metadata": {},
     "output_type": "display_data"
    },
    {
     "name": "stdout",
     "output_type": "stream",
     "text": [
      "torch.Size([40, 4, 6])\n",
      "torch.Size([40, 10, 6])\n",
      "torch.Size([11, 13, 6])\n",
      "679\n",
      "train_loss -0.47521819670995075\n",
      "val_loss 59.06826\n"
     ]
    },
    {
     "data": {
      "application/vnd.jupyter.widget-view+json": {
       "model_id": "ef6428444fdd4321955c67c39faa59d0",
       "version_major": 2,
       "version_minor": 0
      },
      "text/plain": [
       "  0%|          | 0/3 [00:00<?, ?it/s]"
      ]
     },
     "metadata": {},
     "output_type": "display_data"
    },
    {
     "name": "stdout",
     "output_type": "stream",
     "text": [
      "torch.Size([40, 12, 6])\n",
      "torch.Size([40, 8, 6])\n",
      "torch.Size([11, 7, 6])\n",
      "680\n",
      "train_loss -0.7799925704797109\n",
      "val_loss 59.110832\n"
     ]
    },
    {
     "data": {
      "application/vnd.jupyter.widget-view+json": {
       "model_id": "cbd369617b8349e986f18865a2121596",
       "version_major": 2,
       "version_minor": 0
      },
      "text/plain": [
       "  0%|          | 0/3 [00:00<?, ?it/s]"
      ]
     },
     "metadata": {},
     "output_type": "display_data"
    },
    {
     "name": "stdout",
     "output_type": "stream",
     "text": [
      "torch.Size([40, 13, 6])\n",
      "torch.Size([40, 7, 6])\n",
      "torch.Size([11, 10, 6])\n",
      "681\n",
      "train_loss -0.7078800201416016\n",
      "val_loss 58.643456\n"
     ]
    },
    {
     "data": {
      "application/vnd.jupyter.widget-view+json": {
       "model_id": "1dea58f22f434ec0b4880252716040f0",
       "version_major": 2,
       "version_minor": 0
      },
      "text/plain": [
       "  0%|          | 0/3 [00:00<?, ?it/s]"
      ]
     },
     "metadata": {},
     "output_type": "display_data"
    },
    {
     "name": "stdout",
     "output_type": "stream",
     "text": [
      "torch.Size([40, 9, 6])\n",
      "torch.Size([40, 9, 6])\n",
      "torch.Size([11, 12, 6])\n",
      "682\n",
      "train_loss -0.5680975566307703\n",
      "val_loss 58.853596\n"
     ]
    },
    {
     "data": {
      "application/vnd.jupyter.widget-view+json": {
       "model_id": "bed81b16b0c54aeaa2545b87ffd7a1a7",
       "version_major": 2,
       "version_minor": 0
      },
      "text/plain": [
       "  0%|          | 0/3 [00:00<?, ?it/s]"
      ]
     },
     "metadata": {},
     "output_type": "display_data"
    },
    {
     "name": "stdout",
     "output_type": "stream",
     "text": [
      "torch.Size([40, 4, 6])\n",
      "torch.Size([40, 14, 6])\n",
      "torch.Size([11, 9, 6])\n",
      "683\n",
      "train_loss -0.6952178875605265\n",
      "val_loss 58.51806\n"
     ]
    },
    {
     "data": {
      "application/vnd.jupyter.widget-view+json": {
       "model_id": "d01e83f6f2844b27bfb60dfeccbd323f",
       "version_major": 2,
       "version_minor": 0
      },
      "text/plain": [
       "  0%|          | 0/3 [00:00<?, ?it/s]"
      ]
     },
     "metadata": {},
     "output_type": "display_data"
    },
    {
     "name": "stdout",
     "output_type": "stream",
     "text": [
      "torch.Size([40, 8, 6])\n",
      "torch.Size([40, 10, 6])\n",
      "torch.Size([11, 6, 6])\n",
      "684\n",
      "train_loss -0.9987653891245524\n",
      "val_loss 58.226738\n"
     ]
    },
    {
     "data": {
      "application/vnd.jupyter.widget-view+json": {
       "model_id": "b6608bcb8112470280812342ca8015dc",
       "version_major": 2,
       "version_minor": 0
      },
      "text/plain": [
       "  0%|          | 0/3 [00:00<?, ?it/s]"
      ]
     },
     "metadata": {},
     "output_type": "display_data"
    },
    {
     "name": "stdout",
     "output_type": "stream",
     "text": [
      "torch.Size([40, 7, 6])\n",
      "torch.Size([40, 11, 6])\n",
      "torch.Size([11, 11, 6])\n",
      "685\n",
      "train_loss -0.6953108261028925\n",
      "val_loss 58.59506\n"
     ]
    },
    {
     "data": {
      "application/vnd.jupyter.widget-view+json": {
       "model_id": "9de40c2b2ced4d66843b7a3a3d2c615d",
       "version_major": 2,
       "version_minor": 0
      },
      "text/plain": [
       "  0%|          | 0/3 [00:00<?, ?it/s]"
      ]
     },
     "metadata": {},
     "output_type": "display_data"
    },
    {
     "name": "stdout",
     "output_type": "stream",
     "text": [
      "torch.Size([40, 5, 6])\n",
      "torch.Size([40, 8, 6])\n",
      "torch.Size([11, 14, 6])\n",
      "686\n",
      "train_loss -0.8823595444361368\n",
      "val_loss 58.407257\n"
     ]
    },
    {
     "data": {
      "application/vnd.jupyter.widget-view+json": {
       "model_id": "b0e4728c1c92429a96d017e399c8c6da",
       "version_major": 2,
       "version_minor": 0
      },
      "text/plain": [
       "  0%|          | 0/3 [00:00<?, ?it/s]"
      ]
     },
     "metadata": {},
     "output_type": "display_data"
    },
    {
     "name": "stdout",
     "output_type": "stream",
     "text": [
      "torch.Size([40, 9, 6])\n",
      "torch.Size([40, 14, 6])\n",
      "torch.Size([11, 11, 6])\n",
      "687\n",
      "train_loss -0.8682052890459696\n",
      "val_loss 58.427402\n"
     ]
    },
    {
     "data": {
      "application/vnd.jupyter.widget-view+json": {
       "model_id": "05ead0f493b64ac3bc01385acf3fbf4f",
       "version_major": 2,
       "version_minor": 0
      },
      "text/plain": [
       "  0%|          | 0/3 [00:00<?, ?it/s]"
      ]
     },
     "metadata": {},
     "output_type": "display_data"
    },
    {
     "name": "stdout",
     "output_type": "stream",
     "text": [
      "torch.Size([40, 5, 6])\n",
      "torch.Size([40, 9, 6])\n",
      "torch.Size([11, 6, 6])\n",
      "688\n",
      "train_loss -0.9213050206502279\n",
      "val_loss 58.588924\n"
     ]
    },
    {
     "data": {
      "application/vnd.jupyter.widget-view+json": {
       "model_id": "bf0e0b3d31a44fa491311b5218c46b74",
       "version_major": 2,
       "version_minor": 0
      },
      "text/plain": [
       "  0%|          | 0/3 [00:00<?, ?it/s]"
      ]
     },
     "metadata": {},
     "output_type": "display_data"
    },
    {
     "name": "stdout",
     "output_type": "stream",
     "text": [
      "torch.Size([40, 12, 6])\n",
      "torch.Size([40, 7, 6])\n",
      "torch.Size([11, 7, 6])\n",
      "689\n",
      "train_loss -0.7615009546279907\n",
      "val_loss 58.0158\n"
     ]
    },
    {
     "data": {
      "application/vnd.jupyter.widget-view+json": {
       "model_id": "274d1af5ece740a9b4679729fa16ed73",
       "version_major": 2,
       "version_minor": 0
      },
      "text/plain": [
       "  0%|          | 0/3 [00:00<?, ?it/s]"
      ]
     },
     "metadata": {},
     "output_type": "display_data"
    },
    {
     "name": "stdout",
     "output_type": "stream",
     "text": [
      "torch.Size([40, 7, 6])\n",
      "torch.Size([40, 9, 6])\n",
      "torch.Size([11, 6, 6])\n",
      "690\n",
      "train_loss -0.6958168049653372\n",
      "val_loss 57.972393\n"
     ]
    },
    {
     "data": {
      "application/vnd.jupyter.widget-view+json": {
       "model_id": "569a54a99b9f49778a584e187d43e15f",
       "version_major": 2,
       "version_minor": 0
      },
      "text/plain": [
       "  0%|          | 0/3 [00:00<?, ?it/s]"
      ]
     },
     "metadata": {},
     "output_type": "display_data"
    },
    {
     "name": "stdout",
     "output_type": "stream",
     "text": [
      "torch.Size([40, 13, 6])\n",
      "torch.Size([40, 6, 6])\n",
      "torch.Size([11, 12, 6])\n",
      "691\n",
      "train_loss -0.994772752126058\n",
      "val_loss 58.897762\n"
     ]
    },
    {
     "data": {
      "application/vnd.jupyter.widget-view+json": {
       "model_id": "dc6d9e1109e34848809f8ae3294d18bc",
       "version_major": 2,
       "version_minor": 0
      },
      "text/plain": [
       "  0%|          | 0/3 [00:00<?, ?it/s]"
      ]
     },
     "metadata": {},
     "output_type": "display_data"
    },
    {
     "name": "stdout",
     "output_type": "stream",
     "text": [
      "torch.Size([40, 9, 6])\n",
      "torch.Size([40, 8, 6])\n",
      "torch.Size([11, 7, 6])\n",
      "692\n",
      "train_loss -0.9171444972356161\n",
      "val_loss 59.444187\n"
     ]
    },
    {
     "data": {
      "application/vnd.jupyter.widget-view+json": {
       "model_id": "4933870e21f54b2bb1d5b9b1c6410f7f",
       "version_major": 2,
       "version_minor": 0
      },
      "text/plain": [
       "  0%|          | 0/3 [00:00<?, ?it/s]"
      ]
     },
     "metadata": {},
     "output_type": "display_data"
    },
    {
     "name": "stdout",
     "output_type": "stream",
     "text": [
      "torch.Size([40, 11, 6])\n",
      "torch.Size([40, 8, 6])\n",
      "torch.Size([11, 9, 6])\n",
      "693\n",
      "train_loss -0.9504177967707316\n",
      "val_loss 58.754833\n"
     ]
    },
    {
     "data": {
      "application/vnd.jupyter.widget-view+json": {
       "model_id": "8a03de88e5e0444fa73525fecf9f3dab",
       "version_major": 2,
       "version_minor": 0
      },
      "text/plain": [
       "  0%|          | 0/3 [00:00<?, ?it/s]"
      ]
     },
     "metadata": {},
     "output_type": "display_data"
    },
    {
     "name": "stdout",
     "output_type": "stream",
     "text": [
      "torch.Size([40, 7, 6])\n",
      "torch.Size([40, 11, 6])\n",
      "torch.Size([11, 14, 6])\n",
      "694\n",
      "train_loss 0.09287444750467937\n",
      "val_loss 57.33061\n"
     ]
    },
    {
     "data": {
      "application/vnd.jupyter.widget-view+json": {
       "model_id": "004a9d20b2914bda812a6ba789826a48",
       "version_major": 2,
       "version_minor": 0
      },
      "text/plain": [
       "  0%|          | 0/3 [00:00<?, ?it/s]"
      ]
     },
     "metadata": {},
     "output_type": "display_data"
    },
    {
     "name": "stdout",
     "output_type": "stream",
     "text": [
      "torch.Size([40, 14, 6])\n",
      "torch.Size([40, 13, 6])\n",
      "torch.Size([11, 7, 6])\n",
      "695\n",
      "train_loss -0.6694015140334765\n",
      "val_loss 57.406776\n"
     ]
    },
    {
     "data": {
      "application/vnd.jupyter.widget-view+json": {
       "model_id": "e95ca423bce544fea2904c7862b4729c",
       "version_major": 2,
       "version_minor": 0
      },
      "text/plain": [
       "  0%|          | 0/3 [00:00<?, ?it/s]"
      ]
     },
     "metadata": {},
     "output_type": "display_data"
    },
    {
     "name": "stdout",
     "output_type": "stream",
     "text": [
      "torch.Size([40, 13, 6])\n",
      "torch.Size([40, 5, 6])\n",
      "torch.Size([11, 7, 6])\n",
      "696\n",
      "train_loss -0.47225239376227063\n",
      "val_loss 57.983356\n"
     ]
    },
    {
     "data": {
      "application/vnd.jupyter.widget-view+json": {
       "model_id": "7e7cbd19378e42198494286bfd504dad",
       "version_major": 2,
       "version_minor": 0
      },
      "text/plain": [
       "  0%|          | 0/3 [00:00<?, ?it/s]"
      ]
     },
     "metadata": {},
     "output_type": "display_data"
    },
    {
     "name": "stdout",
     "output_type": "stream",
     "text": [
      "torch.Size([40, 5, 6])\n",
      "torch.Size([40, 14, 6])\n",
      "torch.Size([11, 10, 6])\n",
      "697\n",
      "train_loss -0.466280738512675\n",
      "val_loss 58.773357\n"
     ]
    },
    {
     "data": {
      "application/vnd.jupyter.widget-view+json": {
       "model_id": "64f027b30fae440a9e312752788b43a3",
       "version_major": 2,
       "version_minor": 0
      },
      "text/plain": [
       "  0%|          | 0/3 [00:00<?, ?it/s]"
      ]
     },
     "metadata": {},
     "output_type": "display_data"
    },
    {
     "name": "stdout",
     "output_type": "stream",
     "text": [
      "torch.Size([40, 6, 6])\n",
      "torch.Size([40, 13, 6])\n",
      "torch.Size([11, 7, 6])\n",
      "698\n",
      "train_loss -0.9179190993309021\n",
      "val_loss 58.50867\n"
     ]
    },
    {
     "data": {
      "application/vnd.jupyter.widget-view+json": {
       "model_id": "2f07db32b8a84262a7486f7478d0a45d",
       "version_major": 2,
       "version_minor": 0
      },
      "text/plain": [
       "  0%|          | 0/3 [00:00<?, ?it/s]"
      ]
     },
     "metadata": {},
     "output_type": "display_data"
    },
    {
     "name": "stdout",
     "output_type": "stream",
     "text": [
      "torch.Size([40, 6, 6])\n",
      "torch.Size([40, 4, 6])\n",
      "torch.Size([11, 10, 6])\n",
      "699\n",
      "train_loss -0.7119930684566498\n",
      "val_loss 58.304573\n"
     ]
    },
    {
     "data": {
      "application/vnd.jupyter.widget-view+json": {
       "model_id": "365f9b5e06354a20ad875b55e62702ce",
       "version_major": 2,
       "version_minor": 0
      },
      "text/plain": [
       "  0%|          | 0/3 [00:00<?, ?it/s]"
      ]
     },
     "metadata": {},
     "output_type": "display_data"
    },
    {
     "name": "stdout",
     "output_type": "stream",
     "text": [
      "torch.Size([40, 12, 6])\n",
      "torch.Size([40, 7, 6])\n",
      "torch.Size([11, 8, 6])\n",
      "700\n",
      "train_loss -0.7884277900060018\n",
      "val_loss 57.292538\n"
     ]
    },
    {
     "data": {
      "application/vnd.jupyter.widget-view+json": {
       "model_id": "372b8698187d44df96506e2c74f2580f",
       "version_major": 2,
       "version_minor": 0
      },
      "text/plain": [
       "  0%|          | 0/3 [00:00<?, ?it/s]"
      ]
     },
     "metadata": {},
     "output_type": "display_data"
    },
    {
     "name": "stdout",
     "output_type": "stream",
     "text": [
      "torch.Size([40, 13, 6])\n",
      "torch.Size([40, 11, 6])\n",
      "torch.Size([11, 8, 6])\n",
      "701\n",
      "train_loss -0.7287521958351135\n",
      "val_loss 56.393585\n"
     ]
    },
    {
     "data": {
      "application/vnd.jupyter.widget-view+json": {
       "model_id": "105490ad328942958bc1a113b78dace2",
       "version_major": 2,
       "version_minor": 0
      },
      "text/plain": [
       "  0%|          | 0/3 [00:00<?, ?it/s]"
      ]
     },
     "metadata": {},
     "output_type": "display_data"
    },
    {
     "name": "stdout",
     "output_type": "stream",
     "text": [
      "torch.Size([40, 14, 6])\n",
      "torch.Size([40, 4, 6])\n",
      "torch.Size([11, 13, 6])\n",
      "702\n",
      "train_loss -0.6889785329500834\n",
      "val_loss 56.79869\n"
     ]
    },
    {
     "data": {
      "application/vnd.jupyter.widget-view+json": {
       "model_id": "bc74283e391f434f9b6ab8a2d112e8fb",
       "version_major": 2,
       "version_minor": 0
      },
      "text/plain": [
       "  0%|          | 0/3 [00:00<?, ?it/s]"
      ]
     },
     "metadata": {},
     "output_type": "display_data"
    },
    {
     "name": "stdout",
     "output_type": "stream",
     "text": [
      "torch.Size([40, 10, 6])\n",
      "torch.Size([40, 9, 6])\n",
      "torch.Size([11, 6, 6])\n",
      "703\n",
      "train_loss -0.8548032442728678\n",
      "val_loss 57.283516\n"
     ]
    },
    {
     "data": {
      "application/vnd.jupyter.widget-view+json": {
       "model_id": "f09cc1501d2f4bca96c5229b59d1cf9f",
       "version_major": 2,
       "version_minor": 0
      },
      "text/plain": [
       "  0%|          | 0/3 [00:00<?, ?it/s]"
      ]
     },
     "metadata": {},
     "output_type": "display_data"
    },
    {
     "name": "stdout",
     "output_type": "stream",
     "text": [
      "torch.Size([40, 7, 6])\n",
      "torch.Size([40, 7, 6])\n",
      "torch.Size([11, 12, 6])\n",
      "704\n",
      "train_loss -0.8914991418520609\n",
      "val_loss 58.050987\n"
     ]
    },
    {
     "data": {
      "application/vnd.jupyter.widget-view+json": {
       "model_id": "4dee32934c7d43db99c7255b58d62ac6",
       "version_major": 2,
       "version_minor": 0
      },
      "text/plain": [
       "  0%|          | 0/3 [00:00<?, ?it/s]"
      ]
     },
     "metadata": {},
     "output_type": "display_data"
    },
    {
     "name": "stdout",
     "output_type": "stream",
     "text": [
      "torch.Size([40, 6, 6])\n",
      "torch.Size([40, 9, 6])\n",
      "torch.Size([11, 14, 6])\n",
      "705\n",
      "train_loss -0.8275914589564005\n",
      "val_loss 58.280167\n"
     ]
    },
    {
     "data": {
      "application/vnd.jupyter.widget-view+json": {
       "model_id": "9d7cc778337e4c6eaa9c2d3b9e59d45e",
       "version_major": 2,
       "version_minor": 0
      },
      "text/plain": [
       "  0%|          | 0/3 [00:00<?, ?it/s]"
      ]
     },
     "metadata": {},
     "output_type": "display_data"
    },
    {
     "name": "stdout",
     "output_type": "stream",
     "text": [
      "torch.Size([40, 6, 6])\n",
      "torch.Size([40, 12, 6])\n",
      "torch.Size([11, 7, 6])\n",
      "706\n",
      "train_loss -0.9688303073247274\n",
      "val_loss 58.115353\n"
     ]
    },
    {
     "data": {
      "application/vnd.jupyter.widget-view+json": {
       "model_id": "e0ec0829c8314762a960a73e4a299de6",
       "version_major": 2,
       "version_minor": 0
      },
      "text/plain": [
       "  0%|          | 0/3 [00:00<?, ?it/s]"
      ]
     },
     "metadata": {},
     "output_type": "display_data"
    },
    {
     "name": "stdout",
     "output_type": "stream",
     "text": [
      "torch.Size([40, 11, 6])\n",
      "torch.Size([40, 8, 6])\n",
      "torch.Size([11, 4, 6])\n",
      "707\n",
      "train_loss -0.8567053476969401\n",
      "val_loss 57.985283\n"
     ]
    },
    {
     "data": {
      "application/vnd.jupyter.widget-view+json": {
       "model_id": "5eefdccc087641e38c4c7d0872e814e9",
       "version_major": 2,
       "version_minor": 0
      },
      "text/plain": [
       "  0%|          | 0/3 [00:00<?, ?it/s]"
      ]
     },
     "metadata": {},
     "output_type": "display_data"
    },
    {
     "name": "stdout",
     "output_type": "stream",
     "text": [
      "torch.Size([40, 10, 6])\n",
      "torch.Size([40, 13, 6])\n",
      "torch.Size([11, 13, 6])\n",
      "708\n",
      "train_loss -0.9095711906750997\n",
      "val_loss 58.21701\n"
     ]
    },
    {
     "data": {
      "application/vnd.jupyter.widget-view+json": {
       "model_id": "05a0e257774745a1a90484475bacf5d6",
       "version_major": 2,
       "version_minor": 0
      },
      "text/plain": [
       "  0%|          | 0/3 [00:00<?, ?it/s]"
      ]
     },
     "metadata": {},
     "output_type": "display_data"
    },
    {
     "name": "stdout",
     "output_type": "stream",
     "text": [
      "torch.Size([40, 9, 6])\n",
      "torch.Size([40, 14, 6])\n",
      "torch.Size([11, 8, 6])\n",
      "709\n",
      "train_loss -1.0203020373980205\n",
      "val_loss 59.13948\n"
     ]
    },
    {
     "data": {
      "application/vnd.jupyter.widget-view+json": {
       "model_id": "8fd66549691b43ddb66a494369b28530",
       "version_major": 2,
       "version_minor": 0
      },
      "text/plain": [
       "  0%|          | 0/3 [00:00<?, ?it/s]"
      ]
     },
     "metadata": {},
     "output_type": "display_data"
    },
    {
     "name": "stdout",
     "output_type": "stream",
     "text": [
      "torch.Size([40, 13, 6])\n",
      "torch.Size([40, 12, 6])\n",
      "torch.Size([11, 5, 6])\n",
      "710\n",
      "train_loss -0.9320120811462402\n",
      "val_loss 58.810204\n"
     ]
    },
    {
     "data": {
      "application/vnd.jupyter.widget-view+json": {
       "model_id": "34918c651c5645a4bc1a7337264db8b1",
       "version_major": 2,
       "version_minor": 0
      },
      "text/plain": [
       "  0%|          | 0/3 [00:00<?, ?it/s]"
      ]
     },
     "metadata": {},
     "output_type": "display_data"
    },
    {
     "name": "stdout",
     "output_type": "stream",
     "text": [
      "torch.Size([40, 9, 6])\n",
      "torch.Size([40, 10, 6])\n",
      "torch.Size([11, 14, 6])\n",
      "711\n",
      "train_loss -0.8454325596491495\n",
      "val_loss 58.170856\n"
     ]
    },
    {
     "data": {
      "application/vnd.jupyter.widget-view+json": {
       "model_id": "9ca8ed379a7749afa419ff96ea92a7a1",
       "version_major": 2,
       "version_minor": 0
      },
      "text/plain": [
       "  0%|          | 0/3 [00:00<?, ?it/s]"
      ]
     },
     "metadata": {},
     "output_type": "display_data"
    },
    {
     "name": "stdout",
     "output_type": "stream",
     "text": [
      "torch.Size([40, 6, 6])\n",
      "torch.Size([40, 12, 6])\n",
      "torch.Size([11, 10, 6])\n",
      "712\n",
      "train_loss -0.8906956712404887\n",
      "val_loss 57.661747\n"
     ]
    },
    {
     "data": {
      "application/vnd.jupyter.widget-view+json": {
       "model_id": "65da286e1b0349ea984fc32d05d351f8",
       "version_major": 2,
       "version_minor": 0
      },
      "text/plain": [
       "  0%|          | 0/3 [00:00<?, ?it/s]"
      ]
     },
     "metadata": {},
     "output_type": "display_data"
    },
    {
     "name": "stdout",
     "output_type": "stream",
     "text": [
      "torch.Size([40, 10, 6])\n",
      "torch.Size([40, 9, 6])\n",
      "torch.Size([11, 13, 6])\n",
      "713\n",
      "train_loss -0.5629390378793081\n",
      "val_loss 57.370262\n"
     ]
    },
    {
     "data": {
      "application/vnd.jupyter.widget-view+json": {
       "model_id": "29cbf906e8864d4ea98aa87b73a3c40f",
       "version_major": 2,
       "version_minor": 0
      },
      "text/plain": [
       "  0%|          | 0/3 [00:00<?, ?it/s]"
      ]
     },
     "metadata": {},
     "output_type": "display_data"
    },
    {
     "name": "stdout",
     "output_type": "stream",
     "text": [
      "torch.Size([40, 8, 6])\n",
      "torch.Size([40, 8, 6])\n",
      "torch.Size([11, 7, 6])\n",
      "714\n",
      "train_loss -0.4901374777158101\n",
      "val_loss 57.9534\n"
     ]
    },
    {
     "data": {
      "application/vnd.jupyter.widget-view+json": {
       "model_id": "05f7e82caa724740b50c4ebb22e057bb",
       "version_major": 2,
       "version_minor": 0
      },
      "text/plain": [
       "  0%|          | 0/3 [00:00<?, ?it/s]"
      ]
     },
     "metadata": {},
     "output_type": "display_data"
    },
    {
     "name": "stdout",
     "output_type": "stream",
     "text": [
      "torch.Size([40, 10, 6])\n",
      "torch.Size([40, 5, 6])\n",
      "torch.Size([11, 7, 6])\n",
      "715\n",
      "train_loss -0.6129700740178426\n",
      "val_loss 58.447704\n"
     ]
    },
    {
     "data": {
      "application/vnd.jupyter.widget-view+json": {
       "model_id": "13dce6be5b1d4a79989d8a72402e614d",
       "version_major": 2,
       "version_minor": 0
      },
      "text/plain": [
       "  0%|          | 0/3 [00:00<?, ?it/s]"
      ]
     },
     "metadata": {},
     "output_type": "display_data"
    },
    {
     "name": "stdout",
     "output_type": "stream",
     "text": [
      "torch.Size([40, 11, 6])\n",
      "torch.Size([40, 8, 6])\n",
      "torch.Size([11, 14, 6])\n",
      "716\n",
      "train_loss -0.806394616762797\n",
      "val_loss 58.764435\n"
     ]
    },
    {
     "data": {
      "application/vnd.jupyter.widget-view+json": {
       "model_id": "99efc6fb9d0c49c09a618db606675217",
       "version_major": 2,
       "version_minor": 0
      },
      "text/plain": [
       "  0%|          | 0/3 [00:00<?, ?it/s]"
      ]
     },
     "metadata": {},
     "output_type": "display_data"
    },
    {
     "name": "stdout",
     "output_type": "stream",
     "text": [
      "torch.Size([40, 11, 6])\n",
      "torch.Size([40, 4, 6])\n",
      "torch.Size([11, 4, 6])\n",
      "717\n",
      "train_loss -0.8338865439097086\n",
      "val_loss 58.05006\n"
     ]
    },
    {
     "data": {
      "application/vnd.jupyter.widget-view+json": {
       "model_id": "3bc8b0ee03ad4837a775d4a863bf7a63",
       "version_major": 2,
       "version_minor": 0
      },
      "text/plain": [
       "  0%|          | 0/3 [00:00<?, ?it/s]"
      ]
     },
     "metadata": {},
     "output_type": "display_data"
    },
    {
     "name": "stdout",
     "output_type": "stream",
     "text": [
      "torch.Size([40, 13, 6])\n",
      "torch.Size([40, 10, 6])\n",
      "torch.Size([11, 13, 6])\n",
      "718\n",
      "train_loss 0.028069019317626953\n",
      "val_loss 57.1495\n"
     ]
    },
    {
     "data": {
      "application/vnd.jupyter.widget-view+json": {
       "model_id": "53bc994bd1ce405289289f688bad3171",
       "version_major": 2,
       "version_minor": 0
      },
      "text/plain": [
       "  0%|          | 0/3 [00:00<?, ?it/s]"
      ]
     },
     "metadata": {},
     "output_type": "display_data"
    },
    {
     "name": "stdout",
     "output_type": "stream",
     "text": [
      "torch.Size([40, 13, 6])\n",
      "torch.Size([40, 9, 6])\n",
      "torch.Size([11, 13, 6])\n",
      "719\n",
      "train_loss -0.15409106016159058\n",
      "val_loss 57.8507\n"
     ]
    },
    {
     "data": {
      "application/vnd.jupyter.widget-view+json": {
       "model_id": "e140cbf0335545bfb06ac7f7d2baa2bf",
       "version_major": 2,
       "version_minor": 0
      },
      "text/plain": [
       "  0%|          | 0/3 [00:00<?, ?it/s]"
      ]
     },
     "metadata": {},
     "output_type": "display_data"
    },
    {
     "name": "stdout",
     "output_type": "stream",
     "text": [
      "torch.Size([40, 6, 6])\n",
      "torch.Size([40, 14, 6])\n",
      "torch.Size([11, 10, 6])\n",
      "720\n",
      "train_loss -0.5841018458207449\n",
      "val_loss 58.39159\n"
     ]
    },
    {
     "data": {
      "application/vnd.jupyter.widget-view+json": {
       "model_id": "b0139ad061cb45a8982303cf545afae8",
       "version_major": 2,
       "version_minor": 0
      },
      "text/plain": [
       "  0%|          | 0/3 [00:00<?, ?it/s]"
      ]
     },
     "metadata": {},
     "output_type": "display_data"
    },
    {
     "name": "stdout",
     "output_type": "stream",
     "text": [
      "torch.Size([40, 9, 6])\n",
      "torch.Size([40, 6, 6])\n",
      "torch.Size([11, 12, 6])\n",
      "721\n",
      "train_loss -0.7392079532146454\n",
      "val_loss 58.70335\n"
     ]
    },
    {
     "data": {
      "application/vnd.jupyter.widget-view+json": {
       "model_id": "28422e947f544d69aaebd8070e195251",
       "version_major": 2,
       "version_minor": 0
      },
      "text/plain": [
       "  0%|          | 0/3 [00:00<?, ?it/s]"
      ]
     },
     "metadata": {},
     "output_type": "display_data"
    },
    {
     "name": "stdout",
     "output_type": "stream",
     "text": [
      "torch.Size([40, 4, 6])\n",
      "torch.Size([40, 7, 6])\n",
      "torch.Size([11, 8, 6])\n",
      "722\n",
      "train_loss -0.8650387326876322\n",
      "val_loss 58.424355\n"
     ]
    },
    {
     "data": {
      "application/vnd.jupyter.widget-view+json": {
       "model_id": "bd5ac54c71fe4017b043d4ea76f6ca70",
       "version_major": 2,
       "version_minor": 0
      },
      "text/plain": [
       "  0%|          | 0/3 [00:00<?, ?it/s]"
      ]
     },
     "metadata": {},
     "output_type": "display_data"
    },
    {
     "name": "stdout",
     "output_type": "stream",
     "text": [
      "torch.Size([40, 8, 6])\n",
      "torch.Size([40, 14, 6])\n",
      "torch.Size([11, 8, 6])\n",
      "723\n",
      "train_loss -0.642022430896759\n",
      "val_loss 58.78005\n"
     ]
    },
    {
     "data": {
      "application/vnd.jupyter.widget-view+json": {
       "model_id": "fb345ace6814428b941004c8e9ede23c",
       "version_major": 2,
       "version_minor": 0
      },
      "text/plain": [
       "  0%|          | 0/3 [00:00<?, ?it/s]"
      ]
     },
     "metadata": {},
     "output_type": "display_data"
    },
    {
     "name": "stdout",
     "output_type": "stream",
     "text": [
      "torch.Size([40, 8, 6])\n",
      "torch.Size([40, 12, 6])\n",
      "torch.Size([11, 10, 6])\n",
      "724\n",
      "train_loss -0.8445784648259481\n",
      "val_loss 58.71838\n"
     ]
    },
    {
     "data": {
      "application/vnd.jupyter.widget-view+json": {
       "model_id": "ff944ddb5de745b694ed6c1132e18b9e",
       "version_major": 2,
       "version_minor": 0
      },
      "text/plain": [
       "  0%|          | 0/3 [00:00<?, ?it/s]"
      ]
     },
     "metadata": {},
     "output_type": "display_data"
    },
    {
     "name": "stdout",
     "output_type": "stream",
     "text": [
      "torch.Size([40, 6, 6])\n",
      "torch.Size([40, 11, 6])\n",
      "torch.Size([11, 7, 6])\n",
      "725\n",
      "train_loss -0.8076559901237488\n",
      "val_loss 58.578815\n"
     ]
    },
    {
     "data": {
      "application/vnd.jupyter.widget-view+json": {
       "model_id": "f1549bb838764d9e81c1620c06c15f9d",
       "version_major": 2,
       "version_minor": 0
      },
      "text/plain": [
       "  0%|          | 0/3 [00:00<?, ?it/s]"
      ]
     },
     "metadata": {},
     "output_type": "display_data"
    },
    {
     "name": "stdout",
     "output_type": "stream",
     "text": [
      "torch.Size([40, 14, 6])\n",
      "torch.Size([40, 13, 6])\n",
      "torch.Size([11, 14, 6])\n",
      "726\n",
      "train_loss -0.9362796942392985\n",
      "val_loss 58.35091\n"
     ]
    },
    {
     "data": {
      "application/vnd.jupyter.widget-view+json": {
       "model_id": "9e2074455542485593a5863992beb117",
       "version_major": 2,
       "version_minor": 0
      },
      "text/plain": [
       "  0%|          | 0/3 [00:00<?, ?it/s]"
      ]
     },
     "metadata": {},
     "output_type": "display_data"
    },
    {
     "name": "stdout",
     "output_type": "stream",
     "text": [
      "torch.Size([40, 9, 6])\n",
      "torch.Size([40, 9, 6])\n",
      "torch.Size([11, 10, 6])\n",
      "727\n",
      "train_loss -0.8742777506510416\n",
      "val_loss 58.015263\n"
     ]
    },
    {
     "data": {
      "application/vnd.jupyter.widget-view+json": {
       "model_id": "fef0679de4dc4dbbb1e601eaef2c949c",
       "version_major": 2,
       "version_minor": 0
      },
      "text/plain": [
       "  0%|          | 0/3 [00:00<?, ?it/s]"
      ]
     },
     "metadata": {},
     "output_type": "display_data"
    },
    {
     "name": "stdout",
     "output_type": "stream",
     "text": [
      "torch.Size([40, 11, 6])\n",
      "torch.Size([40, 5, 6])\n",
      "torch.Size([11, 12, 6])\n",
      "728\n",
      "train_loss -0.8893155256907145\n",
      "val_loss 57.76291\n"
     ]
    },
    {
     "data": {
      "application/vnd.jupyter.widget-view+json": {
       "model_id": "2a2190bf3be24ae59209e1e832d12d65",
       "version_major": 2,
       "version_minor": 0
      },
      "text/plain": [
       "  0%|          | 0/3 [00:00<?, ?it/s]"
      ]
     },
     "metadata": {},
     "output_type": "display_data"
    },
    {
     "name": "stdout",
     "output_type": "stream",
     "text": [
      "torch.Size([40, 8, 6])\n",
      "torch.Size([40, 8, 6])\n",
      "torch.Size([11, 11, 6])\n",
      "729\n",
      "train_loss -1.0187191565831502\n",
      "val_loss 57.605537\n"
     ]
    },
    {
     "data": {
      "application/vnd.jupyter.widget-view+json": {
       "model_id": "8ed7a4d798e743cf88f45165785b0c15",
       "version_major": 2,
       "version_minor": 0
      },
      "text/plain": [
       "  0%|          | 0/3 [00:00<?, ?it/s]"
      ]
     },
     "metadata": {},
     "output_type": "display_data"
    },
    {
     "name": "stdout",
     "output_type": "stream",
     "text": [
      "torch.Size([40, 7, 6])\n",
      "torch.Size([40, 6, 6])\n",
      "torch.Size([11, 6, 6])\n",
      "730\n",
      "train_loss -0.8684307138125101\n",
      "val_loss 57.471115\n"
     ]
    },
    {
     "data": {
      "application/vnd.jupyter.widget-view+json": {
       "model_id": "9cb693edb43c4ebf824d53c6f688b6b0",
       "version_major": 2,
       "version_minor": 0
      },
      "text/plain": [
       "  0%|          | 0/3 [00:00<?, ?it/s]"
      ]
     },
     "metadata": {},
     "output_type": "display_data"
    },
    {
     "name": "stdout",
     "output_type": "stream",
     "text": [
      "torch.Size([40, 14, 6])\n",
      "torch.Size([40, 5, 6])\n",
      "torch.Size([11, 12, 6])\n",
      "731\n",
      "train_loss -0.8599532246589661\n",
      "val_loss 57.57177\n"
     ]
    },
    {
     "data": {
      "application/vnd.jupyter.widget-view+json": {
       "model_id": "1d4207fac68946e6bbe898e644aac427",
       "version_major": 2,
       "version_minor": 0
      },
      "text/plain": [
       "  0%|          | 0/3 [00:00<?, ?it/s]"
      ]
     },
     "metadata": {},
     "output_type": "display_data"
    },
    {
     "name": "stdout",
     "output_type": "stream",
     "text": [
      "torch.Size([40, 13, 6])\n",
      "torch.Size([40, 6, 6])\n",
      "torch.Size([11, 12, 6])\n",
      "732\n",
      "train_loss -0.7931248843669891\n",
      "val_loss 57.873985\n"
     ]
    },
    {
     "data": {
      "application/vnd.jupyter.widget-view+json": {
       "model_id": "7580ed52e9d848c69bbdcfc7295480e3",
       "version_major": 2,
       "version_minor": 0
      },
      "text/plain": [
       "  0%|          | 0/3 [00:00<?, ?it/s]"
      ]
     },
     "metadata": {},
     "output_type": "display_data"
    },
    {
     "name": "stdout",
     "output_type": "stream",
     "text": [
      "torch.Size([40, 12, 6])\n",
      "torch.Size([40, 8, 6])\n",
      "torch.Size([11, 7, 6])\n",
      "733\n",
      "train_loss -0.8521415293216705\n",
      "val_loss 58.64876\n"
     ]
    },
    {
     "data": {
      "application/vnd.jupyter.widget-view+json": {
       "model_id": "f47f1ed505934051a114ccfcf2f32683",
       "version_major": 2,
       "version_minor": 0
      },
      "text/plain": [
       "  0%|          | 0/3 [00:00<?, ?it/s]"
      ]
     },
     "metadata": {},
     "output_type": "display_data"
    },
    {
     "name": "stdout",
     "output_type": "stream",
     "text": [
      "torch.Size([40, 10, 6])\n",
      "torch.Size([40, 12, 6])\n",
      "torch.Size([11, 14, 6])\n",
      "734\n",
      "train_loss -1.0149516463279724\n",
      "val_loss 58.436428\n"
     ]
    },
    {
     "data": {
      "application/vnd.jupyter.widget-view+json": {
       "model_id": "adabc00d07ba430483c81dacecfb75ea",
       "version_major": 2,
       "version_minor": 0
      },
      "text/plain": [
       "  0%|          | 0/3 [00:00<?, ?it/s]"
      ]
     },
     "metadata": {},
     "output_type": "display_data"
    },
    {
     "name": "stdout",
     "output_type": "stream",
     "text": [
      "torch.Size([40, 8, 6])\n",
      "torch.Size([40, 8, 6])\n",
      "torch.Size([11, 10, 6])\n",
      "735\n",
      "train_loss -0.6906204074621201\n",
      "val_loss 57.757175\n"
     ]
    },
    {
     "data": {
      "application/vnd.jupyter.widget-view+json": {
       "model_id": "30faad8cf0a3489297e48a66de723973",
       "version_major": 2,
       "version_minor": 0
      },
      "text/plain": [
       "  0%|          | 0/3 [00:00<?, ?it/s]"
      ]
     },
     "metadata": {},
     "output_type": "display_data"
    },
    {
     "name": "stdout",
     "output_type": "stream",
     "text": [
      "torch.Size([40, 5, 6])\n",
      "torch.Size([40, 8, 6])\n",
      "torch.Size([11, 14, 6])\n",
      "736\n",
      "train_loss -1.004784643650055\n",
      "val_loss 57.330364\n"
     ]
    },
    {
     "data": {
      "application/vnd.jupyter.widget-view+json": {
       "model_id": "4e4b596ee889442a98b2b25041bc9f4b",
       "version_major": 2,
       "version_minor": 0
      },
      "text/plain": [
       "  0%|          | 0/3 [00:00<?, ?it/s]"
      ]
     },
     "metadata": {},
     "output_type": "display_data"
    },
    {
     "name": "stdout",
     "output_type": "stream",
     "text": [
      "torch.Size([40, 5, 6])\n",
      "torch.Size([40, 4, 6])\n",
      "torch.Size([11, 7, 6])\n",
      "737\n",
      "train_loss -0.914388100306193\n",
      "val_loss 57.48916\n"
     ]
    },
    {
     "data": {
      "application/vnd.jupyter.widget-view+json": {
       "model_id": "ca628034dc284c2ca685d1e24cf4a425",
       "version_major": 2,
       "version_minor": 0
      },
      "text/plain": [
       "  0%|          | 0/3 [00:00<?, ?it/s]"
      ]
     },
     "metadata": {},
     "output_type": "display_data"
    },
    {
     "name": "stdout",
     "output_type": "stream",
     "text": [
      "torch.Size([40, 13, 6])\n",
      "torch.Size([40, 13, 6])\n",
      "torch.Size([11, 7, 6])\n",
      "738\n",
      "train_loss -0.9736738602320353\n",
      "val_loss 57.950928\n"
     ]
    },
    {
     "data": {
      "application/vnd.jupyter.widget-view+json": {
       "model_id": "abaecd9575574ae5ab2afda7aff0dfe6",
       "version_major": 2,
       "version_minor": 0
      },
      "text/plain": [
       "  0%|          | 0/3 [00:00<?, ?it/s]"
      ]
     },
     "metadata": {},
     "output_type": "display_data"
    },
    {
     "name": "stdout",
     "output_type": "stream",
     "text": [
      "torch.Size([40, 6, 6])\n",
      "torch.Size([40, 12, 6])\n",
      "torch.Size([11, 4, 6])\n",
      "739\n",
      "train_loss -1.0618367592493694\n",
      "val_loss 58.21157\n"
     ]
    },
    {
     "data": {
      "application/vnd.jupyter.widget-view+json": {
       "model_id": "f400de482e4442c89988a7b25425caae",
       "version_major": 2,
       "version_minor": 0
      },
      "text/plain": [
       "  0%|          | 0/3 [00:00<?, ?it/s]"
      ]
     },
     "metadata": {},
     "output_type": "display_data"
    },
    {
     "name": "stdout",
     "output_type": "stream",
     "text": [
      "torch.Size([40, 13, 6])\n",
      "torch.Size([40, 9, 6])\n",
      "torch.Size([11, 11, 6])\n",
      "740\n",
      "train_loss -0.9813077648480734\n",
      "val_loss 58.40169\n"
     ]
    },
    {
     "data": {
      "application/vnd.jupyter.widget-view+json": {
       "model_id": "0c7bbb42f0ab4060af82f3c8a1f52e33",
       "version_major": 2,
       "version_minor": 0
      },
      "text/plain": [
       "  0%|          | 0/3 [00:00<?, ?it/s]"
      ]
     },
     "metadata": {},
     "output_type": "display_data"
    },
    {
     "name": "stdout",
     "output_type": "stream",
     "text": [
      "torch.Size([40, 8, 6])\n",
      "torch.Size([40, 5, 6])\n",
      "torch.Size([11, 11, 6])\n",
      "741\n",
      "train_loss 2.191796819368998\n",
      "val_loss 57.46375\n"
     ]
    },
    {
     "data": {
      "application/vnd.jupyter.widget-view+json": {
       "model_id": "34b9b8c7f223460d833f0a50f95bfcd1",
       "version_major": 2,
       "version_minor": 0
      },
      "text/plain": [
       "  0%|          | 0/3 [00:00<?, ?it/s]"
      ]
     },
     "metadata": {},
     "output_type": "display_data"
    },
    {
     "name": "stdout",
     "output_type": "stream",
     "text": [
      "torch.Size([40, 14, 6])\n",
      "torch.Size([40, 8, 6])\n",
      "torch.Size([11, 7, 6])\n",
      "742\n",
      "train_loss -0.10417584578196208\n",
      "val_loss 57.93323\n"
     ]
    },
    {
     "data": {
      "application/vnd.jupyter.widget-view+json": {
       "model_id": "b45bb217323d41e69bdb6cdb5fc27767",
       "version_major": 2,
       "version_minor": 0
      },
      "text/plain": [
       "  0%|          | 0/3 [00:00<?, ?it/s]"
      ]
     },
     "metadata": {},
     "output_type": "display_data"
    },
    {
     "name": "stdout",
     "output_type": "stream",
     "text": [
      "torch.Size([40, 14, 6])\n",
      "torch.Size([40, 10, 6])\n",
      "torch.Size([11, 5, 6])\n",
      "743\n",
      "train_loss -0.052415927251180015\n",
      "val_loss 58.858612\n"
     ]
    },
    {
     "data": {
      "application/vnd.jupyter.widget-view+json": {
       "model_id": "f0e49ef12e454ec7a805484cba385dd9",
       "version_major": 2,
       "version_minor": 0
      },
      "text/plain": [
       "  0%|          | 0/3 [00:00<?, ?it/s]"
      ]
     },
     "metadata": {},
     "output_type": "display_data"
    },
    {
     "name": "stdout",
     "output_type": "stream",
     "text": [
      "torch.Size([40, 4, 6])\n",
      "torch.Size([40, 10, 6])\n",
      "torch.Size([11, 14, 6])\n",
      "744\n",
      "train_loss -0.2684574822584788\n",
      "val_loss 58.124275\n"
     ]
    },
    {
     "data": {
      "application/vnd.jupyter.widget-view+json": {
       "model_id": "e318aa519647458e8db7d76946541e5e",
       "version_major": 2,
       "version_minor": 0
      },
      "text/plain": [
       "  0%|          | 0/3 [00:00<?, ?it/s]"
      ]
     },
     "metadata": {},
     "output_type": "display_data"
    },
    {
     "name": "stdout",
     "output_type": "stream",
     "text": [
      "torch.Size([40, 8, 6])\n",
      "torch.Size([40, 9, 6])\n",
      "torch.Size([11, 9, 6])\n",
      "745\n",
      "train_loss 0.05251935124397278\n",
      "val_loss 58.349968\n"
     ]
    },
    {
     "data": {
      "application/vnd.jupyter.widget-view+json": {
       "model_id": "d53467f1caaa4799a75dd63266112499",
       "version_major": 2,
       "version_minor": 0
      },
      "text/plain": [
       "  0%|          | 0/3 [00:00<?, ?it/s]"
      ]
     },
     "metadata": {},
     "output_type": "display_data"
    },
    {
     "name": "stdout",
     "output_type": "stream",
     "text": [
      "torch.Size([40, 9, 6])\n",
      "torch.Size([40, 6, 6])\n",
      "torch.Size([11, 12, 6])\n",
      "746\n",
      "train_loss -0.6928906043370565\n",
      "val_loss 58.37413\n"
     ]
    },
    {
     "data": {
      "application/vnd.jupyter.widget-view+json": {
       "model_id": "deff40fb58b84b0f838e3bd39d612045",
       "version_major": 2,
       "version_minor": 0
      },
      "text/plain": [
       "  0%|          | 0/3 [00:00<?, ?it/s]"
      ]
     },
     "metadata": {},
     "output_type": "display_data"
    },
    {
     "name": "stdout",
     "output_type": "stream",
     "text": [
      "torch.Size([40, 14, 6])\n",
      "torch.Size([40, 12, 6])\n",
      "torch.Size([11, 13, 6])\n",
      "747\n",
      "train_loss -0.3533168410261472\n",
      "val_loss 58.247402\n"
     ]
    },
    {
     "data": {
      "application/vnd.jupyter.widget-view+json": {
       "model_id": "57cc0a8a10634850ba4f33011c1377da",
       "version_major": 2,
       "version_minor": 0
      },
      "text/plain": [
       "  0%|          | 0/3 [00:00<?, ?it/s]"
      ]
     },
     "metadata": {},
     "output_type": "display_data"
    },
    {
     "name": "stdout",
     "output_type": "stream",
     "text": [
      "torch.Size([40, 5, 6])\n",
      "torch.Size([40, 5, 6])\n",
      "torch.Size([11, 13, 6])\n",
      "748\n",
      "train_loss -0.5882008671760559\n",
      "val_loss 58.645527\n"
     ]
    },
    {
     "data": {
      "application/vnd.jupyter.widget-view+json": {
       "model_id": "c0ad45c0f81741d6aa6cc7a10eaa9bb2",
       "version_major": 2,
       "version_minor": 0
      },
      "text/plain": [
       "  0%|          | 0/3 [00:00<?, ?it/s]"
      ]
     },
     "metadata": {},
     "output_type": "display_data"
    },
    {
     "name": "stdout",
     "output_type": "stream",
     "text": [
      "torch.Size([40, 12, 6])\n",
      "torch.Size([40, 13, 6])\n",
      "torch.Size([11, 11, 6])\n",
      "749\n",
      "train_loss -0.7534742554028829\n",
      "val_loss 58.936512\n"
     ]
    },
    {
     "data": {
      "application/vnd.jupyter.widget-view+json": {
       "model_id": "03f1a289a405462897bb5f27fa8c4110",
       "version_major": 2,
       "version_minor": 0
      },
      "text/plain": [
       "  0%|          | 0/3 [00:00<?, ?it/s]"
      ]
     },
     "metadata": {},
     "output_type": "display_data"
    },
    {
     "name": "stdout",
     "output_type": "stream",
     "text": [
      "torch.Size([40, 8, 6])\n",
      "torch.Size([40, 13, 6])\n",
      "torch.Size([11, 5, 6])\n",
      "750\n",
      "train_loss -0.32169554630915326\n",
      "val_loss 58.964745\n"
     ]
    },
    {
     "data": {
      "application/vnd.jupyter.widget-view+json": {
       "model_id": "dce426c400f447968abcc4706166cdce",
       "version_major": 2,
       "version_minor": 0
      },
      "text/plain": [
       "  0%|          | 0/3 [00:00<?, ?it/s]"
      ]
     },
     "metadata": {},
     "output_type": "display_data"
    },
    {
     "name": "stdout",
     "output_type": "stream",
     "text": [
      "torch.Size([40, 10, 6])\n",
      "torch.Size([40, 9, 6])\n",
      "torch.Size([11, 11, 6])\n",
      "751\n",
      "train_loss -0.6703136761983236\n",
      "val_loss 59.35607\n"
     ]
    },
    {
     "data": {
      "application/vnd.jupyter.widget-view+json": {
       "model_id": "9c4b4ddb7c5348e89947436822bf8588",
       "version_major": 2,
       "version_minor": 0
      },
      "text/plain": [
       "  0%|          | 0/3 [00:00<?, ?it/s]"
      ]
     },
     "metadata": {},
     "output_type": "display_data"
    },
    {
     "name": "stdout",
     "output_type": "stream",
     "text": [
      "torch.Size([40, 6, 6])\n",
      "torch.Size([40, 10, 6])\n",
      "torch.Size([11, 14, 6])\n",
      "752\n",
      "train_loss -0.7369555632273356\n",
      "val_loss 59.30311\n"
     ]
    },
    {
     "data": {
      "application/vnd.jupyter.widget-view+json": {
       "model_id": "7f95fa84b70d4c619e0d15b3f7a444b6",
       "version_major": 2,
       "version_minor": 0
      },
      "text/plain": [
       "  0%|          | 0/3 [00:00<?, ?it/s]"
      ]
     },
     "metadata": {},
     "output_type": "display_data"
    },
    {
     "name": "stdout",
     "output_type": "stream",
     "text": [
      "torch.Size([40, 4, 6])\n",
      "torch.Size([40, 4, 6])\n",
      "torch.Size([11, 7, 6])\n",
      "753\n",
      "train_loss -0.8281415700912476\n",
      "val_loss 59.151913\n"
     ]
    },
    {
     "data": {
      "application/vnd.jupyter.widget-view+json": {
       "model_id": "61f6b5ed8f4f4f39a81bc460b1fb3876",
       "version_major": 2,
       "version_minor": 0
      },
      "text/plain": [
       "  0%|          | 0/3 [00:00<?, ?it/s]"
      ]
     },
     "metadata": {},
     "output_type": "display_data"
    },
    {
     "name": "stdout",
     "output_type": "stream",
     "text": [
      "torch.Size([40, 14, 6])\n",
      "torch.Size([40, 8, 6])\n",
      "torch.Size([11, 5, 6])\n",
      "754\n",
      "train_loss -0.730616013209025\n",
      "val_loss 58.990517\n"
     ]
    },
    {
     "data": {
      "application/vnd.jupyter.widget-view+json": {
       "model_id": "4c40ebafa30d498b83e26134c7719212",
       "version_major": 2,
       "version_minor": 0
      },
      "text/plain": [
       "  0%|          | 0/3 [00:00<?, ?it/s]"
      ]
     },
     "metadata": {},
     "output_type": "display_data"
    },
    {
     "name": "stdout",
     "output_type": "stream",
     "text": [
      "torch.Size([40, 9, 6])\n",
      "torch.Size([40, 10, 6])\n",
      "torch.Size([11, 14, 6])\n",
      "755\n",
      "train_loss -0.8219860394795736\n",
      "val_loss 59.024563\n"
     ]
    },
    {
     "data": {
      "application/vnd.jupyter.widget-view+json": {
       "model_id": "82342d247095404b9d54f3a3da6a6314",
       "version_major": 2,
       "version_minor": 0
      },
      "text/plain": [
       "  0%|          | 0/3 [00:00<?, ?it/s]"
      ]
     },
     "metadata": {},
     "output_type": "display_data"
    },
    {
     "name": "stdout",
     "output_type": "stream",
     "text": [
      "torch.Size([40, 7, 6])\n",
      "torch.Size([40, 4, 6])\n",
      "torch.Size([11, 8, 6])\n",
      "756\n",
      "train_loss -0.822560449441274\n",
      "val_loss 58.82681\n"
     ]
    },
    {
     "data": {
      "application/vnd.jupyter.widget-view+json": {
       "model_id": "8e8ef3941c1c429cb23326c935ce112b",
       "version_major": 2,
       "version_minor": 0
      },
      "text/plain": [
       "  0%|          | 0/3 [00:00<?, ?it/s]"
      ]
     },
     "metadata": {},
     "output_type": "display_data"
    },
    {
     "name": "stdout",
     "output_type": "stream",
     "text": [
      "torch.Size([40, 14, 6])\n",
      "torch.Size([40, 14, 6])\n",
      "torch.Size([11, 8, 6])\n",
      "757\n",
      "train_loss -0.6932088534037272\n",
      "val_loss 58.840195\n"
     ]
    },
    {
     "data": {
      "application/vnd.jupyter.widget-view+json": {
       "model_id": "77b75f84a0e64c2b8ec3dd3c34943c2b",
       "version_major": 2,
       "version_minor": 0
      },
      "text/plain": [
       "  0%|          | 0/3 [00:00<?, ?it/s]"
      ]
     },
     "metadata": {},
     "output_type": "display_data"
    },
    {
     "name": "stdout",
     "output_type": "stream",
     "text": [
      "torch.Size([40, 12, 6])\n",
      "torch.Size([40, 11, 6])\n",
      "torch.Size([11, 8, 6])\n",
      "758\n",
      "train_loss -0.6706225574016571\n",
      "val_loss 58.65543\n"
     ]
    },
    {
     "data": {
      "application/vnd.jupyter.widget-view+json": {
       "model_id": "e699081219cf4471bd75850f2b095082",
       "version_major": 2,
       "version_minor": 0
      },
      "text/plain": [
       "  0%|          | 0/3 [00:00<?, ?it/s]"
      ]
     },
     "metadata": {},
     "output_type": "display_data"
    },
    {
     "name": "stdout",
     "output_type": "stream",
     "text": [
      "torch.Size([40, 7, 6])\n",
      "torch.Size([40, 9, 6])\n",
      "torch.Size([11, 11, 6])\n",
      "759\n",
      "train_loss -0.8293328881263733\n",
      "val_loss 58.785877\n"
     ]
    },
    {
     "data": {
      "application/vnd.jupyter.widget-view+json": {
       "model_id": "6793f9e4390649eeab11de9a9f8d0692",
       "version_major": 2,
       "version_minor": 0
      },
      "text/plain": [
       "  0%|          | 0/3 [00:00<?, ?it/s]"
      ]
     },
     "metadata": {},
     "output_type": "display_data"
    },
    {
     "name": "stdout",
     "output_type": "stream",
     "text": [
      "torch.Size([40, 9, 6])\n",
      "torch.Size([40, 7, 6])\n",
      "torch.Size([11, 8, 6])\n",
      "760\n",
      "train_loss -0.6297594408194224\n",
      "val_loss 58.82589\n"
     ]
    },
    {
     "data": {
      "application/vnd.jupyter.widget-view+json": {
       "model_id": "b6e547e11134495788080e25d2881b04",
       "version_major": 2,
       "version_minor": 0
      },
      "text/plain": [
       "  0%|          | 0/3 [00:00<?, ?it/s]"
      ]
     },
     "metadata": {},
     "output_type": "display_data"
    },
    {
     "name": "stdout",
     "output_type": "stream",
     "text": [
      "torch.Size([40, 9, 6])\n",
      "torch.Size([40, 10, 6])\n",
      "torch.Size([11, 6, 6])\n",
      "761\n",
      "train_loss -0.8418601751327515\n",
      "val_loss 58.20807\n"
     ]
    },
    {
     "data": {
      "application/vnd.jupyter.widget-view+json": {
       "model_id": "8c5035da6ab44595b0abb636c7eaceb4",
       "version_major": 2,
       "version_minor": 0
      },
      "text/plain": [
       "  0%|          | 0/3 [00:00<?, ?it/s]"
      ]
     },
     "metadata": {},
     "output_type": "display_data"
    },
    {
     "name": "stdout",
     "output_type": "stream",
     "text": [
      "torch.Size([40, 12, 6])\n",
      "torch.Size([40, 7, 6])\n",
      "torch.Size([11, 13, 6])\n",
      "762\n",
      "train_loss -0.8340773185094198\n",
      "val_loss 57.547634\n"
     ]
    },
    {
     "data": {
      "application/vnd.jupyter.widget-view+json": {
       "model_id": "35609332a48b493ba151405b62babaa8",
       "version_major": 2,
       "version_minor": 0
      },
      "text/plain": [
       "  0%|          | 0/3 [00:00<?, ?it/s]"
      ]
     },
     "metadata": {},
     "output_type": "display_data"
    },
    {
     "name": "stdout",
     "output_type": "stream",
     "text": [
      "torch.Size([40, 10, 6])\n",
      "torch.Size([40, 6, 6])\n",
      "torch.Size([11, 4, 6])\n",
      "763\n",
      "train_loss -0.8116491238276163\n",
      "val_loss 57.41542\n"
     ]
    },
    {
     "data": {
      "application/vnd.jupyter.widget-view+json": {
       "model_id": "c6b56000cde34ee28f6c482172417a4a",
       "version_major": 2,
       "version_minor": 0
      },
      "text/plain": [
       "  0%|          | 0/3 [00:00<?, ?it/s]"
      ]
     },
     "metadata": {},
     "output_type": "display_data"
    },
    {
     "name": "stdout",
     "output_type": "stream",
     "text": [
      "torch.Size([40, 12, 6])\n",
      "torch.Size([40, 10, 6])\n",
      "torch.Size([11, 5, 6])\n",
      "764\n",
      "train_loss -0.7802908420562744\n",
      "val_loss 57.581436\n"
     ]
    },
    {
     "data": {
      "application/vnd.jupyter.widget-view+json": {
       "model_id": "e5885f618fd64a218adcf79fc01dd819",
       "version_major": 2,
       "version_minor": 0
      },
      "text/plain": [
       "  0%|          | 0/3 [00:00<?, ?it/s]"
      ]
     },
     "metadata": {},
     "output_type": "display_data"
    },
    {
     "name": "stdout",
     "output_type": "stream",
     "text": [
      "torch.Size([40, 7, 6])\n",
      "torch.Size([40, 13, 6])\n",
      "torch.Size([11, 6, 6])\n",
      "765\n",
      "train_loss -0.8298229575157166\n",
      "val_loss 58.076298\n"
     ]
    },
    {
     "data": {
      "application/vnd.jupyter.widget-view+json": {
       "model_id": "9f625701621342568590a76d45db315e",
       "version_major": 2,
       "version_minor": 0
      },
      "text/plain": [
       "  0%|          | 0/3 [00:00<?, ?it/s]"
      ]
     },
     "metadata": {},
     "output_type": "display_data"
    },
    {
     "name": "stdout",
     "output_type": "stream",
     "text": [
      "torch.Size([40, 5, 6])\n",
      "torch.Size([40, 11, 6])\n",
      "torch.Size([11, 11, 6])\n",
      "766\n",
      "train_loss -0.8658952713012695\n",
      "val_loss 57.96625\n"
     ]
    },
    {
     "data": {
      "application/vnd.jupyter.widget-view+json": {
       "model_id": "32e8da6a08614fb0895205c9b3bec6de",
       "version_major": 2,
       "version_minor": 0
      },
      "text/plain": [
       "  0%|          | 0/3 [00:00<?, ?it/s]"
      ]
     },
     "metadata": {},
     "output_type": "display_data"
    },
    {
     "name": "stdout",
     "output_type": "stream",
     "text": [
      "torch.Size([40, 14, 6])\n",
      "torch.Size([40, 6, 6])\n",
      "torch.Size([11, 11, 6])\n",
      "767\n",
      "train_loss -0.8852128982543945\n",
      "val_loss 58.10778\n"
     ]
    },
    {
     "data": {
      "application/vnd.jupyter.widget-view+json": {
       "model_id": "f4e380ed7e23492aa6c96bf52978b847",
       "version_major": 2,
       "version_minor": 0
      },
      "text/plain": [
       "  0%|          | 0/3 [00:00<?, ?it/s]"
      ]
     },
     "metadata": {},
     "output_type": "display_data"
    },
    {
     "name": "stdout",
     "output_type": "stream",
     "text": [
      "torch.Size([40, 10, 6])\n",
      "torch.Size([40, 13, 6])\n",
      "torch.Size([11, 5, 6])\n",
      "768\n",
      "train_loss -0.8459424575169882\n",
      "val_loss 58.420948\n"
     ]
    },
    {
     "data": {
      "application/vnd.jupyter.widget-view+json": {
       "model_id": "8fbb691af8374c03b878e64ee106f4fc",
       "version_major": 2,
       "version_minor": 0
      },
      "text/plain": [
       "  0%|          | 0/3 [00:00<?, ?it/s]"
      ]
     },
     "metadata": {},
     "output_type": "display_data"
    },
    {
     "name": "stdout",
     "output_type": "stream",
     "text": [
      "torch.Size([40, 14, 6])\n",
      "torch.Size([40, 7, 6])\n",
      "torch.Size([11, 14, 6])\n",
      "769\n",
      "train_loss -0.4240325689315796\n",
      "val_loss 58.29446\n"
     ]
    },
    {
     "data": {
      "application/vnd.jupyter.widget-view+json": {
       "model_id": "da0c4e1b4b9f414fa3b751da7191f55b",
       "version_major": 2,
       "version_minor": 0
      },
      "text/plain": [
       "  0%|          | 0/3 [00:00<?, ?it/s]"
      ]
     },
     "metadata": {},
     "output_type": "display_data"
    },
    {
     "name": "stdout",
     "output_type": "stream",
     "text": [
      "torch.Size([40, 14, 6])\n",
      "torch.Size([40, 4, 6])\n",
      "torch.Size([11, 14, 6])\n",
      "770\n",
      "train_loss -0.48678292830785114\n",
      "val_loss 58.541046\n"
     ]
    },
    {
     "data": {
      "application/vnd.jupyter.widget-view+json": {
       "model_id": "b7ecd7eb0b294819b734361d5077b27e",
       "version_major": 2,
       "version_minor": 0
      },
      "text/plain": [
       "  0%|          | 0/3 [00:00<?, ?it/s]"
      ]
     },
     "metadata": {},
     "output_type": "display_data"
    },
    {
     "name": "stdout",
     "output_type": "stream",
     "text": [
      "torch.Size([40, 6, 6])\n",
      "torch.Size([40, 5, 6])\n",
      "torch.Size([11, 13, 6])\n",
      "771\n",
      "train_loss -0.8445641497770945\n",
      "val_loss 58.925674\n"
     ]
    },
    {
     "data": {
      "application/vnd.jupyter.widget-view+json": {
       "model_id": "d0fa9c2625a5435587921bae09e882c4",
       "version_major": 2,
       "version_minor": 0
      },
      "text/plain": [
       "  0%|          | 0/3 [00:00<?, ?it/s]"
      ]
     },
     "metadata": {},
     "output_type": "display_data"
    },
    {
     "name": "stdout",
     "output_type": "stream",
     "text": [
      "torch.Size([40, 13, 6])\n",
      "torch.Size([40, 8, 6])\n",
      "torch.Size([11, 11, 6])\n",
      "772\n",
      "train_loss -0.8904422918955485\n",
      "val_loss 59.11002\n"
     ]
    },
    {
     "data": {
      "application/vnd.jupyter.widget-view+json": {
       "model_id": "9d2306471846419a8ef8758b3f7f6c95",
       "version_major": 2,
       "version_minor": 0
      },
      "text/plain": [
       "  0%|          | 0/3 [00:00<?, ?it/s]"
      ]
     },
     "metadata": {},
     "output_type": "display_data"
    },
    {
     "name": "stdout",
     "output_type": "stream",
     "text": [
      "torch.Size([40, 11, 6])\n",
      "torch.Size([40, 11, 6])\n",
      "torch.Size([11, 9, 6])\n",
      "773\n",
      "train_loss 0.1502764622370402\n",
      "val_loss 59.12454\n"
     ]
    },
    {
     "data": {
      "application/vnd.jupyter.widget-view+json": {
       "model_id": "d3e714a8c3df4ddfb7d4dbe970ca0f6b",
       "version_major": 2,
       "version_minor": 0
      },
      "text/plain": [
       "  0%|          | 0/3 [00:00<?, ?it/s]"
      ]
     },
     "metadata": {},
     "output_type": "display_data"
    },
    {
     "name": "stdout",
     "output_type": "stream",
     "text": [
      "torch.Size([40, 9, 6])\n",
      "torch.Size([40, 5, 6])\n",
      "torch.Size([11, 11, 6])\n",
      "774\n",
      "train_loss -0.6945572296778361\n",
      "val_loss 59.847187\n"
     ]
    },
    {
     "data": {
      "application/vnd.jupyter.widget-view+json": {
       "model_id": "ef2ec1b96a3140ccb90ae1ed2ac3a824",
       "version_major": 2,
       "version_minor": 0
      },
      "text/plain": [
       "  0%|          | 0/3 [00:00<?, ?it/s]"
      ]
     },
     "metadata": {},
     "output_type": "display_data"
    },
    {
     "name": "stdout",
     "output_type": "stream",
     "text": [
      "torch.Size([40, 5, 6])\n",
      "torch.Size([40, 8, 6])\n",
      "torch.Size([11, 6, 6])\n",
      "775\n",
      "train_loss -0.26774267355600995\n",
      "val_loss 59.46743\n"
     ]
    },
    {
     "data": {
      "application/vnd.jupyter.widget-view+json": {
       "model_id": "99aa47e187ec4c4fb47c3f55f962d9f1",
       "version_major": 2,
       "version_minor": 0
      },
      "text/plain": [
       "  0%|          | 0/3 [00:00<?, ?it/s]"
      ]
     },
     "metadata": {},
     "output_type": "display_data"
    },
    {
     "name": "stdout",
     "output_type": "stream",
     "text": [
      "torch.Size([40, 9, 6])\n",
      "torch.Size([40, 7, 6])\n",
      "torch.Size([11, 13, 6])\n",
      "776\n",
      "train_loss -0.8108446598052979\n",
      "val_loss 57.77526\n"
     ]
    },
    {
     "data": {
      "application/vnd.jupyter.widget-view+json": {
       "model_id": "2a66b08d221745689c10a68ec06107e6",
       "version_major": 2,
       "version_minor": 0
      },
      "text/plain": [
       "  0%|          | 0/3 [00:00<?, ?it/s]"
      ]
     },
     "metadata": {},
     "output_type": "display_data"
    },
    {
     "name": "stdout",
     "output_type": "stream",
     "text": [
      "torch.Size([40, 12, 6])\n",
      "torch.Size([40, 6, 6])\n",
      "torch.Size([11, 13, 6])\n",
      "777\n",
      "train_loss -0.7358806828657786\n",
      "val_loss 56.48449\n"
     ]
    },
    {
     "data": {
      "application/vnd.jupyter.widget-view+json": {
       "model_id": "1bef5e08e2b348469fb953841099282e",
       "version_major": 2,
       "version_minor": 0
      },
      "text/plain": [
       "  0%|          | 0/3 [00:00<?, ?it/s]"
      ]
     },
     "metadata": {},
     "output_type": "display_data"
    },
    {
     "name": "stdout",
     "output_type": "stream",
     "text": [
      "torch.Size([40, 9, 6])\n",
      "torch.Size([40, 6, 6])\n",
      "torch.Size([11, 8, 6])\n",
      "778\n",
      "train_loss -0.7813389301300049\n",
      "val_loss 56.05538\n"
     ]
    },
    {
     "data": {
      "application/vnd.jupyter.widget-view+json": {
       "model_id": "f06af9ed5ef945238500a04afc74634e",
       "version_major": 2,
       "version_minor": 0
      },
      "text/plain": [
       "  0%|          | 0/3 [00:00<?, ?it/s]"
      ]
     },
     "metadata": {},
     "output_type": "display_data"
    },
    {
     "name": "stdout",
     "output_type": "stream",
     "text": [
      "torch.Size([40, 4, 6])\n",
      "torch.Size([40, 11, 6])\n",
      "torch.Size([11, 13, 6])\n",
      "779\n",
      "train_loss -0.7407653133074442\n",
      "val_loss 56.4513\n"
     ]
    },
    {
     "data": {
      "application/vnd.jupyter.widget-view+json": {
       "model_id": "69aabf25cd0c40428a3c533001c0c17f",
       "version_major": 2,
       "version_minor": 0
      },
      "text/plain": [
       "  0%|          | 0/3 [00:00<?, ?it/s]"
      ]
     },
     "metadata": {},
     "output_type": "display_data"
    },
    {
     "name": "stdout",
     "output_type": "stream",
     "text": [
      "torch.Size([40, 12, 6])\n",
      "torch.Size([40, 10, 6])\n",
      "torch.Size([11, 10, 6])\n",
      "780\n",
      "train_loss -0.7404800256093343\n",
      "val_loss 56.69871\n"
     ]
    },
    {
     "data": {
      "application/vnd.jupyter.widget-view+json": {
       "model_id": "e044a74181e54701a21065f5809cfd27",
       "version_major": 2,
       "version_minor": 0
      },
      "text/plain": [
       "  0%|          | 0/3 [00:00<?, ?it/s]"
      ]
     },
     "metadata": {},
     "output_type": "display_data"
    },
    {
     "name": "stdout",
     "output_type": "stream",
     "text": [
      "torch.Size([40, 10, 6])\n",
      "torch.Size([40, 14, 6])\n",
      "torch.Size([11, 7, 6])\n",
      "781\n",
      "train_loss -0.6792682905991873\n",
      "val_loss 57.35288\n"
     ]
    },
    {
     "data": {
      "application/vnd.jupyter.widget-view+json": {
       "model_id": "c9bcd29b92b74b9ab8a00eac3bf70085",
       "version_major": 2,
       "version_minor": 0
      },
      "text/plain": [
       "  0%|          | 0/3 [00:00<?, ?it/s]"
      ]
     },
     "metadata": {},
     "output_type": "display_data"
    },
    {
     "name": "stdout",
     "output_type": "stream",
     "text": [
      "torch.Size([40, 8, 6])\n",
      "torch.Size([40, 13, 6])\n",
      "torch.Size([11, 8, 6])\n",
      "782\n",
      "train_loss -0.9215619961420695\n",
      "val_loss 58.459064\n"
     ]
    },
    {
     "data": {
      "application/vnd.jupyter.widget-view+json": {
       "model_id": "0399b2600a344c2db2791965340e43ff",
       "version_major": 2,
       "version_minor": 0
      },
      "text/plain": [
       "  0%|          | 0/3 [00:00<?, ?it/s]"
      ]
     },
     "metadata": {},
     "output_type": "display_data"
    },
    {
     "name": "stdout",
     "output_type": "stream",
     "text": [
      "torch.Size([40, 8, 6])\n",
      "torch.Size([40, 6, 6])\n",
      "torch.Size([11, 9, 6])\n",
      "783\n",
      "train_loss -0.759466677904129\n",
      "val_loss 58.392853\n"
     ]
    },
    {
     "data": {
      "application/vnd.jupyter.widget-view+json": {
       "model_id": "9236e5e6af3a411a8ade3f063d408da4",
       "version_major": 2,
       "version_minor": 0
      },
      "text/plain": [
       "  0%|          | 0/3 [00:00<?, ?it/s]"
      ]
     },
     "metadata": {},
     "output_type": "display_data"
    },
    {
     "name": "stdout",
     "output_type": "stream",
     "text": [
      "torch.Size([40, 10, 6])\n",
      "torch.Size([40, 7, 6])\n",
      "torch.Size([11, 10, 6])\n",
      "784\n",
      "train_loss -0.7739292482535044\n",
      "val_loss 57.85197\n"
     ]
    },
    {
     "data": {
      "application/vnd.jupyter.widget-view+json": {
       "model_id": "968f28e53734412390978f75e6564835",
       "version_major": 2,
       "version_minor": 0
      },
      "text/plain": [
       "  0%|          | 0/3 [00:00<?, ?it/s]"
      ]
     },
     "metadata": {},
     "output_type": "display_data"
    },
    {
     "name": "stdout",
     "output_type": "stream",
     "text": [
      "torch.Size([40, 14, 6])\n",
      "torch.Size([40, 7, 6])\n",
      "torch.Size([11, 7, 6])\n",
      "785\n",
      "train_loss -0.8054734071095785\n",
      "val_loss 57.83277\n"
     ]
    },
    {
     "data": {
      "application/vnd.jupyter.widget-view+json": {
       "model_id": "fee771e3a6744cb18aef6ab72e37a23d",
       "version_major": 2,
       "version_minor": 0
      },
      "text/plain": [
       "  0%|          | 0/3 [00:00<?, ?it/s]"
      ]
     },
     "metadata": {},
     "output_type": "display_data"
    },
    {
     "name": "stdout",
     "output_type": "stream",
     "text": [
      "torch.Size([40, 13, 6])\n",
      "torch.Size([40, 9, 6])\n",
      "torch.Size([11, 8, 6])\n",
      "786\n",
      "train_loss -0.7265351215998331\n",
      "val_loss 57.731594\n"
     ]
    },
    {
     "data": {
      "application/vnd.jupyter.widget-view+json": {
       "model_id": "d2754b42f1834bfa961dd9c6daf73e45",
       "version_major": 2,
       "version_minor": 0
      },
      "text/plain": [
       "  0%|          | 0/3 [00:00<?, ?it/s]"
      ]
     },
     "metadata": {},
     "output_type": "display_data"
    },
    {
     "name": "stdout",
     "output_type": "stream",
     "text": [
      "torch.Size([40, 13, 6])\n",
      "torch.Size([40, 12, 6])\n",
      "torch.Size([11, 10, 6])\n",
      "787\n",
      "train_loss -0.8366315762201945\n",
      "val_loss 57.53751\n"
     ]
    },
    {
     "data": {
      "application/vnd.jupyter.widget-view+json": {
       "model_id": "968dfcf540ef44ce83fe76cd28cf0d5c",
       "version_major": 2,
       "version_minor": 0
      },
      "text/plain": [
       "  0%|          | 0/3 [00:00<?, ?it/s]"
      ]
     },
     "metadata": {},
     "output_type": "display_data"
    },
    {
     "name": "stdout",
     "output_type": "stream",
     "text": [
      "torch.Size([40, 13, 6])\n",
      "torch.Size([40, 14, 6])\n",
      "torch.Size([11, 11, 6])\n",
      "788\n",
      "train_loss -0.7527647614479065\n",
      "val_loss 57.871563\n"
     ]
    },
    {
     "data": {
      "application/vnd.jupyter.widget-view+json": {
       "model_id": "c9b306dc844b460281dcb4b1c6e854f4",
       "version_major": 2,
       "version_minor": 0
      },
      "text/plain": [
       "  0%|          | 0/3 [00:00<?, ?it/s]"
      ]
     },
     "metadata": {},
     "output_type": "display_data"
    },
    {
     "name": "stdout",
     "output_type": "stream",
     "text": [
      "torch.Size([40, 8, 6])\n",
      "torch.Size([40, 7, 6])\n",
      "torch.Size([11, 10, 6])\n",
      "789\n",
      "train_loss -0.8431936899820963\n",
      "val_loss 58.682137\n"
     ]
    },
    {
     "data": {
      "application/vnd.jupyter.widget-view+json": {
       "model_id": "f32c4c06ff304890840adf1b0b98eb4c",
       "version_major": 2,
       "version_minor": 0
      },
      "text/plain": [
       "  0%|          | 0/3 [00:00<?, ?it/s]"
      ]
     },
     "metadata": {},
     "output_type": "display_data"
    },
    {
     "name": "stdout",
     "output_type": "stream",
     "text": [
      "torch.Size([40, 9, 6])\n",
      "torch.Size([40, 10, 6])\n",
      "torch.Size([11, 4, 6])\n",
      "790\n",
      "train_loss -0.8353822827339172\n",
      "val_loss 58.971786\n"
     ]
    },
    {
     "data": {
      "application/vnd.jupyter.widget-view+json": {
       "model_id": "589e8d04b73543c7bb52add0b0e60a09",
       "version_major": 2,
       "version_minor": 0
      },
      "text/plain": [
       "  0%|          | 0/3 [00:00<?, ?it/s]"
      ]
     },
     "metadata": {},
     "output_type": "display_data"
    },
    {
     "name": "stdout",
     "output_type": "stream",
     "text": [
      "torch.Size([40, 5, 6])\n",
      "torch.Size([40, 6, 6])\n",
      "torch.Size([11, 14, 6])\n",
      "791\n",
      "train_loss -0.7918819884459177\n",
      "val_loss 58.703564\n"
     ]
    },
    {
     "data": {
      "application/vnd.jupyter.widget-view+json": {
       "model_id": "09f06887d5cf4d1cbd2f4f0cfe7f2fd6",
       "version_major": 2,
       "version_minor": 0
      },
      "text/plain": [
       "  0%|          | 0/3 [00:00<?, ?it/s]"
      ]
     },
     "metadata": {},
     "output_type": "display_data"
    },
    {
     "name": "stdout",
     "output_type": "stream",
     "text": [
      "torch.Size([40, 7, 6])\n",
      "torch.Size([40, 7, 6])\n",
      "torch.Size([11, 10, 6])\n",
      "792\n",
      "train_loss -0.31400036811828613\n",
      "val_loss 58.239075\n"
     ]
    },
    {
     "data": {
      "application/vnd.jupyter.widget-view+json": {
       "model_id": "b593b98176d0420a99de215a93f2bdc4",
       "version_major": 2,
       "version_minor": 0
      },
      "text/plain": [
       "  0%|          | 0/3 [00:00<?, ?it/s]"
      ]
     },
     "metadata": {},
     "output_type": "display_data"
    },
    {
     "name": "stdout",
     "output_type": "stream",
     "text": [
      "torch.Size([40, 9, 6])\n",
      "torch.Size([40, 4, 6])\n",
      "torch.Size([11, 6, 6])\n",
      "793\n",
      "train_loss -0.9049781958262125\n",
      "val_loss 57.98531\n"
     ]
    },
    {
     "data": {
      "application/vnd.jupyter.widget-view+json": {
       "model_id": "b3a9084d5b3a48deb147671093fca1de",
       "version_major": 2,
       "version_minor": 0
      },
      "text/plain": [
       "  0%|          | 0/3 [00:00<?, ?it/s]"
      ]
     },
     "metadata": {},
     "output_type": "display_data"
    },
    {
     "name": "stdout",
     "output_type": "stream",
     "text": [
      "torch.Size([40, 14, 6])\n",
      "torch.Size([40, 13, 6])\n",
      "torch.Size([11, 11, 6])\n",
      "794\n",
      "train_loss -0.874731441338857\n",
      "val_loss 58.272743\n"
     ]
    },
    {
     "data": {
      "application/vnd.jupyter.widget-view+json": {
       "model_id": "4a54b75433aa4ce185ff480907ad469f",
       "version_major": 2,
       "version_minor": 0
      },
      "text/plain": [
       "  0%|          | 0/3 [00:00<?, ?it/s]"
      ]
     },
     "metadata": {},
     "output_type": "display_data"
    },
    {
     "name": "stdout",
     "output_type": "stream",
     "text": [
      "torch.Size([40, 9, 6])\n",
      "torch.Size([40, 7, 6])\n",
      "torch.Size([11, 14, 6])\n",
      "795\n",
      "train_loss -0.8648204803466797\n",
      "val_loss 58.874825\n"
     ]
    },
    {
     "data": {
      "application/vnd.jupyter.widget-view+json": {
       "model_id": "bfe3e0ab8c214491a428d759be897604",
       "version_major": 2,
       "version_minor": 0
      },
      "text/plain": [
       "  0%|          | 0/3 [00:00<?, ?it/s]"
      ]
     },
     "metadata": {},
     "output_type": "display_data"
    },
    {
     "name": "stdout",
     "output_type": "stream",
     "text": [
      "torch.Size([40, 7, 6])\n",
      "torch.Size([40, 14, 6])\n",
      "torch.Size([11, 14, 6])\n",
      "796\n",
      "train_loss -0.8026258945465088\n",
      "val_loss 59.20407\n"
     ]
    },
    {
     "data": {
      "application/vnd.jupyter.widget-view+json": {
       "model_id": "5d1139a919ec44b7b3ecea18713644ba",
       "version_major": 2,
       "version_minor": 0
      },
      "text/plain": [
       "  0%|          | 0/3 [00:00<?, ?it/s]"
      ]
     },
     "metadata": {},
     "output_type": "display_data"
    },
    {
     "name": "stdout",
     "output_type": "stream",
     "text": [
      "torch.Size([40, 11, 6])\n",
      "torch.Size([40, 6, 6])\n",
      "torch.Size([11, 10, 6])\n",
      "797\n",
      "train_loss -0.7782967686653137\n",
      "val_loss 59.35281\n"
     ]
    },
    {
     "data": {
      "application/vnd.jupyter.widget-view+json": {
       "model_id": "0b1a9ae29e7f4d8b82bfa0ff4d7331ae",
       "version_major": 2,
       "version_minor": 0
      },
      "text/plain": [
       "  0%|          | 0/3 [00:00<?, ?it/s]"
      ]
     },
     "metadata": {},
     "output_type": "display_data"
    },
    {
     "name": "stdout",
     "output_type": "stream",
     "text": [
      "torch.Size([40, 13, 6])\n",
      "torch.Size([40, 6, 6])\n",
      "torch.Size([11, 8, 6])\n",
      "798\n",
      "train_loss -0.3787708481152852\n",
      "val_loss 59.224472\n"
     ]
    },
    {
     "data": {
      "application/vnd.jupyter.widget-view+json": {
       "model_id": "6d6f1b9c890d407bbc5981330370af4b",
       "version_major": 2,
       "version_minor": 0
      },
      "text/plain": [
       "  0%|          | 0/3 [00:00<?, ?it/s]"
      ]
     },
     "metadata": {},
     "output_type": "display_data"
    },
    {
     "name": "stdout",
     "output_type": "stream",
     "text": [
      "torch.Size([40, 4, 6])\n",
      "torch.Size([40, 4, 6])\n",
      "torch.Size([11, 10, 6])\n",
      "799\n",
      "train_loss -0.8719991246859232\n",
      "val_loss 59.6513\n"
     ]
    },
    {
     "data": {
      "application/vnd.jupyter.widget-view+json": {
       "model_id": "35d70d2ca8d2451fafb647e412451e4e",
       "version_major": 2,
       "version_minor": 0
      },
      "text/plain": [
       "  0%|          | 0/3 [00:00<?, ?it/s]"
      ]
     },
     "metadata": {},
     "output_type": "display_data"
    },
    {
     "name": "stdout",
     "output_type": "stream",
     "text": [
      "torch.Size([40, 10, 6])\n",
      "torch.Size([40, 8, 6])\n",
      "torch.Size([11, 5, 6])\n",
      "800\n",
      "train_loss -0.9004145264625549\n",
      "val_loss 59.73497\n"
     ]
    },
    {
     "data": {
      "application/vnd.jupyter.widget-view+json": {
       "model_id": "e2d87ce2c188419a993961d735bf6e04",
       "version_major": 2,
       "version_minor": 0
      },
      "text/plain": [
       "  0%|          | 0/3 [00:00<?, ?it/s]"
      ]
     },
     "metadata": {},
     "output_type": "display_data"
    },
    {
     "name": "stdout",
     "output_type": "stream",
     "text": [
      "torch.Size([40, 4, 6])\n",
      "torch.Size([40, 6, 6])\n",
      "torch.Size([11, 7, 6])\n",
      "801\n",
      "train_loss -0.6821862310171127\n",
      "val_loss 59.187702\n"
     ]
    },
    {
     "data": {
      "application/vnd.jupyter.widget-view+json": {
       "model_id": "d46ef610d89d4c05a117cf96db2c1526",
       "version_major": 2,
       "version_minor": 0
      },
      "text/plain": [
       "  0%|          | 0/3 [00:00<?, ?it/s]"
      ]
     },
     "metadata": {},
     "output_type": "display_data"
    },
    {
     "name": "stdout",
     "output_type": "stream",
     "text": [
      "torch.Size([40, 11, 6])\n",
      "torch.Size([40, 6, 6])\n",
      "torch.Size([11, 7, 6])\n",
      "802\n",
      "train_loss -0.9021867314974467\n",
      "val_loss 58.0786\n"
     ]
    },
    {
     "data": {
      "application/vnd.jupyter.widget-view+json": {
       "model_id": "b4b3c2c4632846268f9ef52693191424",
       "version_major": 2,
       "version_minor": 0
      },
      "text/plain": [
       "  0%|          | 0/3 [00:00<?, ?it/s]"
      ]
     },
     "metadata": {},
     "output_type": "display_data"
    },
    {
     "name": "stdout",
     "output_type": "stream",
     "text": [
      "torch.Size([40, 9, 6])\n",
      "torch.Size([40, 10, 6])\n",
      "torch.Size([11, 14, 6])\n",
      "803\n",
      "train_loss -0.8070181310176849\n",
      "val_loss 57.909073\n"
     ]
    },
    {
     "data": {
      "application/vnd.jupyter.widget-view+json": {
       "model_id": "c521041414c745058b40f881cca25657",
       "version_major": 2,
       "version_minor": 0
      },
      "text/plain": [
       "  0%|          | 0/3 [00:00<?, ?it/s]"
      ]
     },
     "metadata": {},
     "output_type": "display_data"
    },
    {
     "name": "stdout",
     "output_type": "stream",
     "text": [
      "torch.Size([40, 8, 6])\n",
      "torch.Size([40, 7, 6])\n",
      "torch.Size([11, 5, 6])\n",
      "804\n",
      "train_loss -0.8012187480926514\n",
      "val_loss 57.82831\n"
     ]
    },
    {
     "data": {
      "application/vnd.jupyter.widget-view+json": {
       "model_id": "1631a119f26947f09ed553f96f969644",
       "version_major": 2,
       "version_minor": 0
      },
      "text/plain": [
       "  0%|          | 0/3 [00:00<?, ?it/s]"
      ]
     },
     "metadata": {},
     "output_type": "display_data"
    },
    {
     "name": "stdout",
     "output_type": "stream",
     "text": [
      "torch.Size([40, 5, 6])\n",
      "torch.Size([40, 4, 6])\n",
      "torch.Size([11, 11, 6])\n",
      "805\n",
      "train_loss -0.5386154254277548\n",
      "val_loss 57.50787\n"
     ]
    },
    {
     "data": {
      "application/vnd.jupyter.widget-view+json": {
       "model_id": "98604454a0634eaebae9cf84a901b97b",
       "version_major": 2,
       "version_minor": 0
      },
      "text/plain": [
       "  0%|          | 0/3 [00:00<?, ?it/s]"
      ]
     },
     "metadata": {},
     "output_type": "display_data"
    },
    {
     "name": "stdout",
     "output_type": "stream",
     "text": [
      "torch.Size([40, 6, 6])\n",
      "torch.Size([40, 14, 6])\n",
      "torch.Size([11, 5, 6])\n",
      "806\n",
      "train_loss -0.7677924036979675\n",
      "val_loss 57.085117\n"
     ]
    },
    {
     "data": {
      "application/vnd.jupyter.widget-view+json": {
       "model_id": "3492bc5ff73c4e2799889600614167c3",
       "version_major": 2,
       "version_minor": 0
      },
      "text/plain": [
       "  0%|          | 0/3 [00:00<?, ?it/s]"
      ]
     },
     "metadata": {},
     "output_type": "display_data"
    },
    {
     "name": "stdout",
     "output_type": "stream",
     "text": [
      "torch.Size([40, 10, 6])\n",
      "torch.Size([40, 7, 6])\n",
      "torch.Size([11, 12, 6])\n",
      "807\n",
      "train_loss -0.6890364984671274\n",
      "val_loss 57.09664\n"
     ]
    },
    {
     "data": {
      "application/vnd.jupyter.widget-view+json": {
       "model_id": "8f965c89d9cb427883a7b11380ced407",
       "version_major": 2,
       "version_minor": 0
      },
      "text/plain": [
       "  0%|          | 0/3 [00:00<?, ?it/s]"
      ]
     },
     "metadata": {},
     "output_type": "display_data"
    },
    {
     "name": "stdout",
     "output_type": "stream",
     "text": [
      "torch.Size([40, 10, 6])\n",
      "torch.Size([40, 4, 6])\n",
      "torch.Size([11, 7, 6])\n",
      "808\n",
      "train_loss -0.777167538801829\n",
      "val_loss 58.038372\n"
     ]
    },
    {
     "data": {
      "application/vnd.jupyter.widget-view+json": {
       "model_id": "6ad50d7544284a6289bc59a28d07fd4b",
       "version_major": 2,
       "version_minor": 0
      },
      "text/plain": [
       "  0%|          | 0/3 [00:00<?, ?it/s]"
      ]
     },
     "metadata": {},
     "output_type": "display_data"
    },
    {
     "name": "stdout",
     "output_type": "stream",
     "text": [
      "torch.Size([40, 13, 6])\n",
      "torch.Size([40, 7, 6])\n",
      "torch.Size([11, 5, 6])\n",
      "809\n",
      "train_loss -0.30333465337753296\n",
      "val_loss 58.18177\n"
     ]
    },
    {
     "data": {
      "application/vnd.jupyter.widget-view+json": {
       "model_id": "7e8a8c13275a41b3bac5c46636ae0214",
       "version_major": 2,
       "version_minor": 0
      },
      "text/plain": [
       "  0%|          | 0/3 [00:00<?, ?it/s]"
      ]
     },
     "metadata": {},
     "output_type": "display_data"
    },
    {
     "name": "stdout",
     "output_type": "stream",
     "text": [
      "torch.Size([40, 5, 6])\n",
      "torch.Size([40, 7, 6])\n",
      "torch.Size([11, 12, 6])\n",
      "810\n",
      "train_loss -0.4303871989250183\n",
      "val_loss 57.762634\n"
     ]
    },
    {
     "data": {
      "application/vnd.jupyter.widget-view+json": {
       "model_id": "d9e522108f7f4ef5bf24c1d352fa2c07",
       "version_major": 2,
       "version_minor": 0
      },
      "text/plain": [
       "  0%|          | 0/3 [00:00<?, ?it/s]"
      ]
     },
     "metadata": {},
     "output_type": "display_data"
    },
    {
     "name": "stdout",
     "output_type": "stream",
     "text": [
      "torch.Size([40, 8, 6])\n",
      "torch.Size([40, 14, 6])\n",
      "torch.Size([11, 4, 6])\n",
      "811\n",
      "train_loss -0.9437773823738098\n",
      "val_loss 56.75082\n"
     ]
    },
    {
     "data": {
      "application/vnd.jupyter.widget-view+json": {
       "model_id": "7939369c551d4763bc25cf234591a2db",
       "version_major": 2,
       "version_minor": 0
      },
      "text/plain": [
       "  0%|          | 0/3 [00:00<?, ?it/s]"
      ]
     },
     "metadata": {},
     "output_type": "display_data"
    },
    {
     "name": "stdout",
     "output_type": "stream",
     "text": [
      "torch.Size([40, 14, 6])\n",
      "torch.Size([40, 5, 6])\n",
      "torch.Size([11, 10, 6])\n",
      "812\n",
      "train_loss -0.9391429821650187\n",
      "val_loss 56.987705\n"
     ]
    },
    {
     "data": {
      "application/vnd.jupyter.widget-view+json": {
       "model_id": "ecb1999ff5ed42bc98e22cddaeaa9d7c",
       "version_major": 2,
       "version_minor": 0
      },
      "text/plain": [
       "  0%|          | 0/3 [00:00<?, ?it/s]"
      ]
     },
     "metadata": {},
     "output_type": "display_data"
    },
    {
     "name": "stdout",
     "output_type": "stream",
     "text": [
      "torch.Size([40, 14, 6])\n",
      "torch.Size([40, 14, 6])\n",
      "torch.Size([11, 5, 6])\n",
      "813\n",
      "train_loss -0.8558615446090698\n",
      "val_loss 57.430637\n"
     ]
    },
    {
     "data": {
      "application/vnd.jupyter.widget-view+json": {
       "model_id": "f1c773035758431ca7f56bb1b4170d9b",
       "version_major": 2,
       "version_minor": 0
      },
      "text/plain": [
       "  0%|          | 0/3 [00:00<?, ?it/s]"
      ]
     },
     "metadata": {},
     "output_type": "display_data"
    },
    {
     "name": "stdout",
     "output_type": "stream",
     "text": [
      "torch.Size([40, 12, 6])\n",
      "torch.Size([40, 5, 6])\n",
      "torch.Size([11, 13, 6])\n",
      "814\n",
      "train_loss -0.2552918990453084\n",
      "val_loss 58.13595\n"
     ]
    },
    {
     "data": {
      "application/vnd.jupyter.widget-view+json": {
       "model_id": "ee8186a51d83450397ba99c737da7de8",
       "version_major": 2,
       "version_minor": 0
      },
      "text/plain": [
       "  0%|          | 0/3 [00:00<?, ?it/s]"
      ]
     },
     "metadata": {},
     "output_type": "display_data"
    },
    {
     "name": "stdout",
     "output_type": "stream",
     "text": [
      "torch.Size([40, 11, 6])\n",
      "torch.Size([40, 5, 6])\n",
      "torch.Size([11, 6, 6])\n",
      "815\n",
      "train_loss -0.7138794014851252\n",
      "val_loss 58.96747\n"
     ]
    },
    {
     "data": {
      "application/vnd.jupyter.widget-view+json": {
       "model_id": "9319c2d913f448cc981b8b6b4d981df2",
       "version_major": 2,
       "version_minor": 0
      },
      "text/plain": [
       "  0%|          | 0/3 [00:00<?, ?it/s]"
      ]
     },
     "metadata": {},
     "output_type": "display_data"
    },
    {
     "name": "stdout",
     "output_type": "stream",
     "text": [
      "torch.Size([40, 14, 6])\n",
      "torch.Size([40, 8, 6])\n",
      "torch.Size([11, 14, 6])\n",
      "816\n",
      "train_loss -0.832685391108195\n",
      "val_loss 58.980724\n"
     ]
    },
    {
     "data": {
      "application/vnd.jupyter.widget-view+json": {
       "model_id": "e6911c7886fc4a71a168d31ac406557d",
       "version_major": 2,
       "version_minor": 0
      },
      "text/plain": [
       "  0%|          | 0/3 [00:00<?, ?it/s]"
      ]
     },
     "metadata": {},
     "output_type": "display_data"
    },
    {
     "name": "stdout",
     "output_type": "stream",
     "text": [
      "torch.Size([40, 9, 6])\n",
      "torch.Size([40, 8, 6])\n",
      "torch.Size([11, 10, 6])\n",
      "817\n",
      "train_loss -0.874816914399465\n",
      "val_loss 58.081425\n"
     ]
    },
    {
     "data": {
      "application/vnd.jupyter.widget-view+json": {
       "model_id": "d3124d933e1544aa89007497cf03d0b0",
       "version_major": 2,
       "version_minor": 0
      },
      "text/plain": [
       "  0%|          | 0/3 [00:00<?, ?it/s]"
      ]
     },
     "metadata": {},
     "output_type": "display_data"
    },
    {
     "name": "stdout",
     "output_type": "stream",
     "text": [
      "torch.Size([40, 13, 6])\n",
      "torch.Size([40, 13, 6])\n",
      "torch.Size([11, 6, 6])\n",
      "818\n",
      "train_loss -0.45722148815790814\n",
      "val_loss 58.11926\n"
     ]
    },
    {
     "data": {
      "application/vnd.jupyter.widget-view+json": {
       "model_id": "a3e6980226e8429a9f02b02e67040526",
       "version_major": 2,
       "version_minor": 0
      },
      "text/plain": [
       "  0%|          | 0/3 [00:00<?, ?it/s]"
      ]
     },
     "metadata": {},
     "output_type": "display_data"
    },
    {
     "name": "stdout",
     "output_type": "stream",
     "text": [
      "torch.Size([40, 10, 6])\n",
      "torch.Size([40, 8, 6])\n",
      "torch.Size([11, 8, 6])\n",
      "819\n",
      "train_loss -0.5318856835365295\n",
      "val_loss 59.016945\n"
     ]
    },
    {
     "data": {
      "application/vnd.jupyter.widget-view+json": {
       "model_id": "c6de3d60e06f48e78029a43ac4b984e3",
       "version_major": 2,
       "version_minor": 0
      },
      "text/plain": [
       "  0%|          | 0/3 [00:00<?, ?it/s]"
      ]
     },
     "metadata": {},
     "output_type": "display_data"
    },
    {
     "name": "stdout",
     "output_type": "stream",
     "text": [
      "torch.Size([40, 6, 6])\n",
      "torch.Size([40, 7, 6])\n",
      "torch.Size([11, 12, 6])\n",
      "820\n",
      "train_loss -0.6508996188640594\n",
      "val_loss 59.35871\n"
     ]
    },
    {
     "data": {
      "application/vnd.jupyter.widget-view+json": {
       "model_id": "5dac28b711be4002b62e8f92808aa09a",
       "version_major": 2,
       "version_minor": 0
      },
      "text/plain": [
       "  0%|          | 0/3 [00:00<?, ?it/s]"
      ]
     },
     "metadata": {},
     "output_type": "display_data"
    },
    {
     "name": "stdout",
     "output_type": "stream",
     "text": [
      "torch.Size([40, 8, 6])\n",
      "torch.Size([40, 11, 6])\n",
      "torch.Size([11, 14, 6])\n",
      "821\n",
      "train_loss -0.6923614094654719\n",
      "val_loss 59.484005\n"
     ]
    },
    {
     "data": {
      "application/vnd.jupyter.widget-view+json": {
       "model_id": "8254b3303aa24ec5b8adbad029a982c4",
       "version_major": 2,
       "version_minor": 0
      },
      "text/plain": [
       "  0%|          | 0/3 [00:00<?, ?it/s]"
      ]
     },
     "metadata": {},
     "output_type": "display_data"
    },
    {
     "name": "stdout",
     "output_type": "stream",
     "text": [
      "torch.Size([40, 12, 6])\n",
      "torch.Size([40, 14, 6])\n",
      "torch.Size([11, 4, 6])\n",
      "822\n",
      "train_loss -0.8893574078877767\n",
      "val_loss 59.24143\n"
     ]
    },
    {
     "data": {
      "application/vnd.jupyter.widget-view+json": {
       "model_id": "cd5f4f72cd944399b6018cfb7df85d1e",
       "version_major": 2,
       "version_minor": 0
      },
      "text/plain": [
       "  0%|          | 0/3 [00:00<?, ?it/s]"
      ]
     },
     "metadata": {},
     "output_type": "display_data"
    },
    {
     "name": "stdout",
     "output_type": "stream",
     "text": [
      "torch.Size([40, 6, 6])\n",
      "torch.Size([40, 8, 6])\n",
      "torch.Size([11, 8, 6])\n",
      "823\n",
      "train_loss -0.8683132926623026\n",
      "val_loss 58.71329\n"
     ]
    },
    {
     "data": {
      "application/vnd.jupyter.widget-view+json": {
       "model_id": "4903c9d0d7694fe899787acb577aff61",
       "version_major": 2,
       "version_minor": 0
      },
      "text/plain": [
       "  0%|          | 0/3 [00:00<?, ?it/s]"
      ]
     },
     "metadata": {},
     "output_type": "display_data"
    },
    {
     "name": "stdout",
     "output_type": "stream",
     "text": [
      "torch.Size([40, 14, 6])\n",
      "torch.Size([40, 9, 6])\n",
      "torch.Size([11, 11, 6])\n",
      "824\n",
      "train_loss -0.8492270112037659\n",
      "val_loss 59.09458\n"
     ]
    },
    {
     "data": {
      "application/vnd.jupyter.widget-view+json": {
       "model_id": "053c24c8ac524c979bb3fcfc6ea5b141",
       "version_major": 2,
       "version_minor": 0
      },
      "text/plain": [
       "  0%|          | 0/3 [00:00<?, ?it/s]"
      ]
     },
     "metadata": {},
     "output_type": "display_data"
    },
    {
     "name": "stdout",
     "output_type": "stream",
     "text": [
      "torch.Size([40, 8, 6])\n",
      "torch.Size([40, 9, 6])\n",
      "torch.Size([11, 13, 6])\n",
      "825\n",
      "train_loss -0.9781721631685892\n",
      "val_loss 59.455555\n"
     ]
    },
    {
     "data": {
      "application/vnd.jupyter.widget-view+json": {
       "model_id": "143cd1613fec42309b8beeefeb31e868",
       "version_major": 2,
       "version_minor": 0
      },
      "text/plain": [
       "  0%|          | 0/3 [00:00<?, ?it/s]"
      ]
     },
     "metadata": {},
     "output_type": "display_data"
    },
    {
     "name": "stdout",
     "output_type": "stream",
     "text": [
      "torch.Size([40, 8, 6])\n",
      "torch.Size([40, 10, 6])\n",
      "torch.Size([11, 14, 6])\n",
      "826\n",
      "train_loss -0.9349441727002462\n",
      "val_loss 59.281136\n"
     ]
    },
    {
     "data": {
      "application/vnd.jupyter.widget-view+json": {
       "model_id": "403f2a6ae9424598899ac48743ce1408",
       "version_major": 2,
       "version_minor": 0
      },
      "text/plain": [
       "  0%|          | 0/3 [00:00<?, ?it/s]"
      ]
     },
     "metadata": {},
     "output_type": "display_data"
    },
    {
     "name": "stdout",
     "output_type": "stream",
     "text": [
      "torch.Size([40, 5, 6])\n",
      "torch.Size([40, 14, 6])\n",
      "torch.Size([11, 4, 6])\n",
      "827\n",
      "train_loss -0.9161014159520467\n",
      "val_loss 59.62674\n"
     ]
    },
    {
     "data": {
      "application/vnd.jupyter.widget-view+json": {
       "model_id": "bc2fb964462349c1b47dc16761dd3363",
       "version_major": 2,
       "version_minor": 0
      },
      "text/plain": [
       "  0%|          | 0/3 [00:00<?, ?it/s]"
      ]
     },
     "metadata": {},
     "output_type": "display_data"
    },
    {
     "name": "stdout",
     "output_type": "stream",
     "text": [
      "torch.Size([40, 4, 6])\n",
      "torch.Size([40, 13, 6])\n",
      "torch.Size([11, 6, 6])\n",
      "828\n",
      "train_loss -0.7840063174565634\n",
      "val_loss 59.445618\n"
     ]
    },
    {
     "data": {
      "application/vnd.jupyter.widget-view+json": {
       "model_id": "6d98353cfb5e4bb7a104242061673989",
       "version_major": 2,
       "version_minor": 0
      },
      "text/plain": [
       "  0%|          | 0/3 [00:00<?, ?it/s]"
      ]
     },
     "metadata": {},
     "output_type": "display_data"
    },
    {
     "name": "stdout",
     "output_type": "stream",
     "text": [
      "torch.Size([40, 12, 6])\n",
      "torch.Size([40, 14, 6])\n",
      "torch.Size([11, 8, 6])\n",
      "829\n",
      "train_loss -0.7986683249473572\n",
      "val_loss 59.655323\n"
     ]
    },
    {
     "data": {
      "application/vnd.jupyter.widget-view+json": {
       "model_id": "cbcf17d7342a40809ced9b030942b848",
       "version_major": 2,
       "version_minor": 0
      },
      "text/plain": [
       "  0%|          | 0/3 [00:00<?, ?it/s]"
      ]
     },
     "metadata": {},
     "output_type": "display_data"
    },
    {
     "name": "stdout",
     "output_type": "stream",
     "text": [
      "torch.Size([40, 4, 6])\n",
      "torch.Size([40, 10, 6])\n",
      "torch.Size([11, 13, 6])\n",
      "830\n",
      "train_loss -0.4452461401621501\n",
      "val_loss 59.193985\n"
     ]
    },
    {
     "data": {
      "application/vnd.jupyter.widget-view+json": {
       "model_id": "0a274666e852493aa116a7cd708928ca",
       "version_major": 2,
       "version_minor": 0
      },
      "text/plain": [
       "  0%|          | 0/3 [00:00<?, ?it/s]"
      ]
     },
     "metadata": {},
     "output_type": "display_data"
    },
    {
     "name": "stdout",
     "output_type": "stream",
     "text": [
      "torch.Size([40, 8, 6])\n",
      "torch.Size([40, 7, 6])\n",
      "torch.Size([11, 13, 6])\n",
      "831\n",
      "train_loss -0.9505692720413208\n",
      "val_loss 59.018574\n"
     ]
    },
    {
     "data": {
      "application/vnd.jupyter.widget-view+json": {
       "model_id": "fafc9a8a91cb4f5fa57e0f433f1a44a3",
       "version_major": 2,
       "version_minor": 0
      },
      "text/plain": [
       "  0%|          | 0/3 [00:00<?, ?it/s]"
      ]
     },
     "metadata": {},
     "output_type": "display_data"
    },
    {
     "name": "stdout",
     "output_type": "stream",
     "text": [
      "torch.Size([40, 11, 6])\n",
      "torch.Size([40, 5, 6])\n",
      "torch.Size([11, 4, 6])\n",
      "832\n",
      "train_loss -0.8767622311909994\n",
      "val_loss 59.362236\n"
     ]
    },
    {
     "data": {
      "application/vnd.jupyter.widget-view+json": {
       "model_id": "70ecf76fe59b4dee980df97a4198390a",
       "version_major": 2,
       "version_minor": 0
      },
      "text/plain": [
       "  0%|          | 0/3 [00:00<?, ?it/s]"
      ]
     },
     "metadata": {},
     "output_type": "display_data"
    },
    {
     "name": "stdout",
     "output_type": "stream",
     "text": [
      "torch.Size([40, 9, 6])\n",
      "torch.Size([40, 8, 6])\n",
      "torch.Size([11, 13, 6])\n",
      "833\n",
      "train_loss -0.9656499226888021\n",
      "val_loss 59.554226\n"
     ]
    },
    {
     "data": {
      "application/vnd.jupyter.widget-view+json": {
       "model_id": "cc81ccc861cb4dbca76923c25ab960dd",
       "version_major": 2,
       "version_minor": 0
      },
      "text/plain": [
       "  0%|          | 0/3 [00:00<?, ?it/s]"
      ]
     },
     "metadata": {},
     "output_type": "display_data"
    },
    {
     "name": "stdout",
     "output_type": "stream",
     "text": [
      "torch.Size([40, 6, 6])\n",
      "torch.Size([40, 11, 6])\n",
      "torch.Size([11, 5, 6])\n",
      "834\n",
      "train_loss -0.9269251624743143\n",
      "val_loss 59.413662\n"
     ]
    },
    {
     "data": {
      "application/vnd.jupyter.widget-view+json": {
       "model_id": "64af670902cf4a03844b5f42dffd4c6a",
       "version_major": 2,
       "version_minor": 0
      },
      "text/plain": [
       "  0%|          | 0/3 [00:00<?, ?it/s]"
      ]
     },
     "metadata": {},
     "output_type": "display_data"
    },
    {
     "name": "stdout",
     "output_type": "stream",
     "text": [
      "torch.Size([40, 6, 6])\n",
      "torch.Size([40, 4, 6])\n",
      "torch.Size([11, 13, 6])\n",
      "835\n",
      "train_loss -0.8335019648075104\n",
      "val_loss 59.0517\n"
     ]
    },
    {
     "data": {
      "application/vnd.jupyter.widget-view+json": {
       "model_id": "e0e37ff21a8a4ae6b43e20cd6b492336",
       "version_major": 2,
       "version_minor": 0
      },
      "text/plain": [
       "  0%|          | 0/3 [00:00<?, ?it/s]"
      ]
     },
     "metadata": {},
     "output_type": "display_data"
    },
    {
     "name": "stdout",
     "output_type": "stream",
     "text": [
      "torch.Size([40, 4, 6])\n",
      "torch.Size([40, 7, 6])\n",
      "torch.Size([11, 11, 6])\n",
      "836\n",
      "train_loss -0.9507597883542379\n",
      "val_loss 59.256786\n"
     ]
    },
    {
     "data": {
      "application/vnd.jupyter.widget-view+json": {
       "model_id": "389ed24bd65145928261d5b3b0b6d26a",
       "version_major": 2,
       "version_minor": 0
      },
      "text/plain": [
       "  0%|          | 0/3 [00:00<?, ?it/s]"
      ]
     },
     "metadata": {},
     "output_type": "display_data"
    },
    {
     "name": "stdout",
     "output_type": "stream",
     "text": [
      "torch.Size([40, 8, 6])\n",
      "torch.Size([40, 4, 6])\n",
      "torch.Size([11, 14, 6])\n",
      "837\n",
      "train_loss -0.9275798002878824\n",
      "val_loss 59.749725\n"
     ]
    },
    {
     "data": {
      "application/vnd.jupyter.widget-view+json": {
       "model_id": "d6ceb82cea4e477b890e1711e8676998",
       "version_major": 2,
       "version_minor": 0
      },
      "text/plain": [
       "  0%|          | 0/3 [00:00<?, ?it/s]"
      ]
     },
     "metadata": {},
     "output_type": "display_data"
    },
    {
     "name": "stdout",
     "output_type": "stream",
     "text": [
      "torch.Size([40, 13, 6])\n",
      "torch.Size([40, 9, 6])\n",
      "torch.Size([11, 14, 6])\n",
      "838\n",
      "train_loss -0.8727786540985107\n",
      "val_loss 59.577316\n"
     ]
    },
    {
     "data": {
      "application/vnd.jupyter.widget-view+json": {
       "model_id": "d87918809f374a0f8b8b7a4176b36dcc",
       "version_major": 2,
       "version_minor": 0
      },
      "text/plain": [
       "  0%|          | 0/3 [00:00<?, ?it/s]"
      ]
     },
     "metadata": {},
     "output_type": "display_data"
    },
    {
     "name": "stdout",
     "output_type": "stream",
     "text": [
      "torch.Size([40, 9, 6])\n",
      "torch.Size([40, 14, 6])\n",
      "torch.Size([11, 14, 6])\n",
      "839\n",
      "train_loss -0.9899664123853048\n",
      "val_loss 59.264492\n"
     ]
    },
    {
     "data": {
      "application/vnd.jupyter.widget-view+json": {
       "model_id": "57e8af9604264bdbb7f7c24261c9c07a",
       "version_major": 2,
       "version_minor": 0
      },
      "text/plain": [
       "  0%|          | 0/3 [00:00<?, ?it/s]"
      ]
     },
     "metadata": {},
     "output_type": "display_data"
    },
    {
     "name": "stdout",
     "output_type": "stream",
     "text": [
      "torch.Size([40, 7, 6])\n",
      "torch.Size([40, 10, 6])\n",
      "torch.Size([11, 8, 6])\n",
      "840\n",
      "train_loss -0.9019249677658081\n",
      "val_loss 58.65999\n"
     ]
    },
    {
     "data": {
      "application/vnd.jupyter.widget-view+json": {
       "model_id": "a60d483bd6d04c379897ae2c4cc37e70",
       "version_major": 2,
       "version_minor": 0
      },
      "text/plain": [
       "  0%|          | 0/3 [00:00<?, ?it/s]"
      ]
     },
     "metadata": {},
     "output_type": "display_data"
    },
    {
     "name": "stdout",
     "output_type": "stream",
     "text": [
      "torch.Size([40, 13, 6])\n",
      "torch.Size([40, 10, 6])\n",
      "torch.Size([11, 10, 6])\n",
      "841\n",
      "train_loss -0.9763212203979492\n",
      "val_loss 58.32209\n"
     ]
    },
    {
     "data": {
      "application/vnd.jupyter.widget-view+json": {
       "model_id": "0f4c6ddb0ad0404795c8aa7db850e984",
       "version_major": 2,
       "version_minor": 0
      },
      "text/plain": [
       "  0%|          | 0/3 [00:00<?, ?it/s]"
      ]
     },
     "metadata": {},
     "output_type": "display_data"
    },
    {
     "name": "stdout",
     "output_type": "stream",
     "text": [
      "torch.Size([40, 8, 6])\n",
      "torch.Size([40, 9, 6])\n",
      "torch.Size([11, 6, 6])\n",
      "842\n",
      "train_loss -0.9166595935821533\n",
      "val_loss 58.416855\n"
     ]
    },
    {
     "data": {
      "application/vnd.jupyter.widget-view+json": {
       "model_id": "d8fba7c136a1416e99b50cbc9f1d744e",
       "version_major": 2,
       "version_minor": 0
      },
      "text/plain": [
       "  0%|          | 0/3 [00:00<?, ?it/s]"
      ]
     },
     "metadata": {},
     "output_type": "display_data"
    },
    {
     "name": "stdout",
     "output_type": "stream",
     "text": [
      "torch.Size([40, 8, 6])\n",
      "torch.Size([40, 6, 6])\n",
      "torch.Size([11, 14, 6])\n",
      "843\n",
      "train_loss -0.6846492613355318\n",
      "val_loss 58.35009\n"
     ]
    },
    {
     "data": {
      "application/vnd.jupyter.widget-view+json": {
       "model_id": "2bcb3b1359104a4a9e7bfe20c787c4ad",
       "version_major": 2,
       "version_minor": 0
      },
      "text/plain": [
       "  0%|          | 0/3 [00:00<?, ?it/s]"
      ]
     },
     "metadata": {},
     "output_type": "display_data"
    },
    {
     "name": "stdout",
     "output_type": "stream",
     "text": [
      "torch.Size([40, 10, 6])\n",
      "torch.Size([40, 13, 6])\n",
      "torch.Size([11, 12, 6])\n",
      "844\n",
      "train_loss -0.6964707026878992\n",
      "val_loss 58.554394\n"
     ]
    },
    {
     "data": {
      "application/vnd.jupyter.widget-view+json": {
       "model_id": "dff511bdf6cf4e028fb4eb13cce85ad3",
       "version_major": 2,
       "version_minor": 0
      },
      "text/plain": [
       "  0%|          | 0/3 [00:00<?, ?it/s]"
      ]
     },
     "metadata": {},
     "output_type": "display_data"
    },
    {
     "name": "stdout",
     "output_type": "stream",
     "text": [
      "torch.Size([40, 14, 6])\n",
      "torch.Size([40, 11, 6])\n",
      "torch.Size([11, 6, 6])\n",
      "845\n",
      "train_loss 0.5997031132380167\n",
      "val_loss 58.261944\n"
     ]
    },
    {
     "data": {
      "application/vnd.jupyter.widget-view+json": {
       "model_id": "67065845ab4e4b85b3027cfd8bed846f",
       "version_major": 2,
       "version_minor": 0
      },
      "text/plain": [
       "  0%|          | 0/3 [00:00<?, ?it/s]"
      ]
     },
     "metadata": {},
     "output_type": "display_data"
    },
    {
     "name": "stdout",
     "output_type": "stream",
     "text": [
      "torch.Size([40, 8, 6])\n",
      "torch.Size([40, 5, 6])\n",
      "torch.Size([11, 10, 6])\n",
      "846\n",
      "train_loss -0.5421871816118559\n",
      "val_loss 57.563503\n"
     ]
    },
    {
     "data": {
      "application/vnd.jupyter.widget-view+json": {
       "model_id": "f407a427609a4a7d86e9bda6a6b005ba",
       "version_major": 2,
       "version_minor": 0
      },
      "text/plain": [
       "  0%|          | 0/3 [00:00<?, ?it/s]"
      ]
     },
     "metadata": {},
     "output_type": "display_data"
    },
    {
     "name": "stdout",
     "output_type": "stream",
     "text": [
      "torch.Size([40, 6, 6])\n",
      "torch.Size([40, 13, 6])\n",
      "torch.Size([11, 10, 6])\n",
      "847\n",
      "train_loss -0.3584332565466563\n",
      "val_loss 57.643135\n"
     ]
    },
    {
     "data": {
      "application/vnd.jupyter.widget-view+json": {
       "model_id": "138534c8ce674a3ba95855ebd8f76864",
       "version_major": 2,
       "version_minor": 0
      },
      "text/plain": [
       "  0%|          | 0/3 [00:00<?, ?it/s]"
      ]
     },
     "metadata": {},
     "output_type": "display_data"
    },
    {
     "name": "stdout",
     "output_type": "stream",
     "text": [
      "torch.Size([40, 14, 6])\n",
      "torch.Size([40, 5, 6])\n",
      "torch.Size([11, 13, 6])\n",
      "848\n",
      "train_loss -0.7422180275122324\n",
      "val_loss 57.727375\n"
     ]
    },
    {
     "data": {
      "application/vnd.jupyter.widget-view+json": {
       "model_id": "e3794b1532f44b76a88311a8e5785ef7",
       "version_major": 2,
       "version_minor": 0
      },
      "text/plain": [
       "  0%|          | 0/3 [00:00<?, ?it/s]"
      ]
     },
     "metadata": {},
     "output_type": "display_data"
    },
    {
     "name": "stdout",
     "output_type": "stream",
     "text": [
      "torch.Size([40, 11, 6])\n",
      "torch.Size([40, 5, 6])\n",
      "torch.Size([11, 14, 6])\n",
      "849\n",
      "train_loss -0.8973928093910217\n",
      "val_loss 57.153645\n"
     ]
    },
    {
     "data": {
      "application/vnd.jupyter.widget-view+json": {
       "model_id": "9063aad385ed487e945374aedd374844",
       "version_major": 2,
       "version_minor": 0
      },
      "text/plain": [
       "  0%|          | 0/3 [00:00<?, ?it/s]"
      ]
     },
     "metadata": {},
     "output_type": "display_data"
    },
    {
     "name": "stdout",
     "output_type": "stream",
     "text": [
      "torch.Size([40, 5, 6])\n",
      "torch.Size([40, 13, 6])\n",
      "torch.Size([11, 10, 6])\n",
      "850\n",
      "train_loss -0.7563508053620657\n",
      "val_loss 57.140614\n"
     ]
    },
    {
     "data": {
      "application/vnd.jupyter.widget-view+json": {
       "model_id": "5bd9aedc409f4166a1d1ed655122f1b4",
       "version_major": 2,
       "version_minor": 0
      },
      "text/plain": [
       "  0%|          | 0/3 [00:00<?, ?it/s]"
      ]
     },
     "metadata": {},
     "output_type": "display_data"
    },
    {
     "name": "stdout",
     "output_type": "stream",
     "text": [
      "torch.Size([40, 10, 6])\n",
      "torch.Size([40, 5, 6])\n",
      "torch.Size([11, 11, 6])\n",
      "851\n",
      "train_loss 0.13176576296488443\n",
      "val_loss 57.39154\n"
     ]
    },
    {
     "data": {
      "application/vnd.jupyter.widget-view+json": {
       "model_id": "f45bc18d52664053930f7a1eb0491004",
       "version_major": 2,
       "version_minor": 0
      },
      "text/plain": [
       "  0%|          | 0/3 [00:00<?, ?it/s]"
      ]
     },
     "metadata": {},
     "output_type": "display_data"
    },
    {
     "name": "stdout",
     "output_type": "stream",
     "text": [
      "torch.Size([40, 12, 6])\n",
      "torch.Size([40, 6, 6])\n",
      "torch.Size([11, 10, 6])\n",
      "852\n",
      "train_loss -0.5378129084904989\n",
      "val_loss 57.165703\n"
     ]
    },
    {
     "data": {
      "application/vnd.jupyter.widget-view+json": {
       "model_id": "7ca480747ffc4816bd7998b0fb26568c",
       "version_major": 2,
       "version_minor": 0
      },
      "text/plain": [
       "  0%|          | 0/3 [00:00<?, ?it/s]"
      ]
     },
     "metadata": {},
     "output_type": "display_data"
    },
    {
     "name": "stdout",
     "output_type": "stream",
     "text": [
      "torch.Size([40, 5, 6])\n",
      "torch.Size([40, 14, 6])\n",
      "torch.Size([11, 7, 6])\n",
      "853\n",
      "train_loss -0.8248660365740458\n",
      "val_loss 57.378876\n"
     ]
    },
    {
     "data": {
      "application/vnd.jupyter.widget-view+json": {
       "model_id": "3cb4ac6c14464fd0b1374774744ff9ed",
       "version_major": 2,
       "version_minor": 0
      },
      "text/plain": [
       "  0%|          | 0/3 [00:00<?, ?it/s]"
      ]
     },
     "metadata": {},
     "output_type": "display_data"
    },
    {
     "name": "stdout",
     "output_type": "stream",
     "text": [
      "torch.Size([40, 8, 6])\n",
      "torch.Size([40, 6, 6])\n",
      "torch.Size([11, 8, 6])\n",
      "854\n",
      "train_loss -0.8880110184351603\n",
      "val_loss 57.37567\n"
     ]
    },
    {
     "data": {
      "application/vnd.jupyter.widget-view+json": {
       "model_id": "50e415c6ac824d21b7bdb13a767864ae",
       "version_major": 2,
       "version_minor": 0
      },
      "text/plain": [
       "  0%|          | 0/3 [00:00<?, ?it/s]"
      ]
     },
     "metadata": {},
     "output_type": "display_data"
    },
    {
     "name": "stdout",
     "output_type": "stream",
     "text": [
      "torch.Size([40, 6, 6])\n",
      "torch.Size([40, 6, 6])\n",
      "torch.Size([11, 9, 6])\n",
      "855\n",
      "train_loss -0.7540052036444346\n",
      "val_loss 57.623177\n"
     ]
    },
    {
     "data": {
      "application/vnd.jupyter.widget-view+json": {
       "model_id": "68d8519e605546e09d7432d72a269f91",
       "version_major": 2,
       "version_minor": 0
      },
      "text/plain": [
       "  0%|          | 0/3 [00:00<?, ?it/s]"
      ]
     },
     "metadata": {},
     "output_type": "display_data"
    },
    {
     "name": "stdout",
     "output_type": "stream",
     "text": [
      "torch.Size([40, 13, 6])\n",
      "torch.Size([40, 5, 6])\n",
      "torch.Size([11, 10, 6])\n",
      "856\n",
      "train_loss -0.9976909955342611\n",
      "val_loss 57.71755\n"
     ]
    },
    {
     "data": {
      "application/vnd.jupyter.widget-view+json": {
       "model_id": "6d93d879a4c749bb892d42ca6e3349f6",
       "version_major": 2,
       "version_minor": 0
      },
      "text/plain": [
       "  0%|          | 0/3 [00:00<?, ?it/s]"
      ]
     },
     "metadata": {},
     "output_type": "display_data"
    },
    {
     "name": "stdout",
     "output_type": "stream",
     "text": [
      "torch.Size([40, 4, 6])\n",
      "torch.Size([40, 9, 6])\n",
      "torch.Size([11, 6, 6])\n",
      "857\n",
      "train_loss -0.5808084507783254\n",
      "val_loss 57.844315\n"
     ]
    },
    {
     "data": {
      "application/vnd.jupyter.widget-view+json": {
       "model_id": "c17cb4cb29a44b29aad3b2259b4670cc",
       "version_major": 2,
       "version_minor": 0
      },
      "text/plain": [
       "  0%|          | 0/3 [00:00<?, ?it/s]"
      ]
     },
     "metadata": {},
     "output_type": "display_data"
    },
    {
     "name": "stdout",
     "output_type": "stream",
     "text": [
      "torch.Size([40, 13, 6])\n",
      "torch.Size([40, 14, 6])\n",
      "torch.Size([11, 7, 6])\n",
      "858\n",
      "train_loss -0.9715951085090637\n",
      "val_loss 57.93864\n"
     ]
    },
    {
     "data": {
      "application/vnd.jupyter.widget-view+json": {
       "model_id": "1228abae2edd46a5b904a9c15b6a8781",
       "version_major": 2,
       "version_minor": 0
      },
      "text/plain": [
       "  0%|          | 0/3 [00:00<?, ?it/s]"
      ]
     },
     "metadata": {},
     "output_type": "display_data"
    },
    {
     "name": "stdout",
     "output_type": "stream",
     "text": [
      "torch.Size([40, 7, 6])\n",
      "torch.Size([40, 14, 6])\n",
      "torch.Size([11, 5, 6])\n",
      "859\n",
      "train_loss -0.696143756310145\n",
      "val_loss 58.060116\n"
     ]
    },
    {
     "data": {
      "application/vnd.jupyter.widget-view+json": {
       "model_id": "5c061b4292ca4dc7925882e69df76469",
       "version_major": 2,
       "version_minor": 0
      },
      "text/plain": [
       "  0%|          | 0/3 [00:00<?, ?it/s]"
      ]
     },
     "metadata": {},
     "output_type": "display_data"
    },
    {
     "name": "stdout",
     "output_type": "stream",
     "text": [
      "torch.Size([40, 13, 6])\n",
      "torch.Size([40, 9, 6])\n",
      "torch.Size([11, 9, 6])\n",
      "860\n",
      "train_loss -0.9419143001238505\n",
      "val_loss 57.576366\n"
     ]
    },
    {
     "data": {
      "application/vnd.jupyter.widget-view+json": {
       "model_id": "921f0159d15b4afab65c778e55ebe657",
       "version_major": 2,
       "version_minor": 0
      },
      "text/plain": [
       "  0%|          | 0/3 [00:00<?, ?it/s]"
      ]
     },
     "metadata": {},
     "output_type": "display_data"
    },
    {
     "name": "stdout",
     "output_type": "stream",
     "text": [
      "torch.Size([40, 14, 6])\n",
      "torch.Size([40, 13, 6])\n",
      "torch.Size([11, 5, 6])\n",
      "861\n",
      "train_loss -0.6021583999196688\n",
      "val_loss 57.37174\n"
     ]
    },
    {
     "data": {
      "application/vnd.jupyter.widget-view+json": {
       "model_id": "694702c5a4e948c6906216b1bb19b5dc",
       "version_major": 2,
       "version_minor": 0
      },
      "text/plain": [
       "  0%|          | 0/3 [00:00<?, ?it/s]"
      ]
     },
     "metadata": {},
     "output_type": "display_data"
    },
    {
     "name": "stdout",
     "output_type": "stream",
     "text": [
      "torch.Size([40, 13, 6])\n",
      "torch.Size([40, 14, 6])\n",
      "torch.Size([11, 4, 6])\n",
      "862\n",
      "train_loss -0.850976566473643\n",
      "val_loss 57.843235\n"
     ]
    },
    {
     "data": {
      "application/vnd.jupyter.widget-view+json": {
       "model_id": "3ce8cc4d8635470a8224f6ab438bd2e8",
       "version_major": 2,
       "version_minor": 0
      },
      "text/plain": [
       "  0%|          | 0/3 [00:00<?, ?it/s]"
      ]
     },
     "metadata": {},
     "output_type": "display_data"
    },
    {
     "name": "stdout",
     "output_type": "stream",
     "text": [
      "torch.Size([40, 10, 6])\n",
      "torch.Size([40, 5, 6])\n",
      "torch.Size([11, 10, 6])\n",
      "863\n",
      "train_loss -0.8614368041356405\n",
      "val_loss 58.04412\n"
     ]
    },
    {
     "data": {
      "application/vnd.jupyter.widget-view+json": {
       "model_id": "9e8aec4927834f11b18a3ce4d985b12a",
       "version_major": 2,
       "version_minor": 0
      },
      "text/plain": [
       "  0%|          | 0/3 [00:00<?, ?it/s]"
      ]
     },
     "metadata": {},
     "output_type": "display_data"
    },
    {
     "name": "stdout",
     "output_type": "stream",
     "text": [
      "torch.Size([40, 10, 6])\n",
      "torch.Size([40, 8, 6])\n",
      "torch.Size([11, 13, 6])\n",
      "864\n",
      "train_loss -0.9380860328674316\n",
      "val_loss 57.903877\n"
     ]
    },
    {
     "data": {
      "application/vnd.jupyter.widget-view+json": {
       "model_id": "125c393a10034588aa530ff4a11f0abe",
       "version_major": 2,
       "version_minor": 0
      },
      "text/plain": [
       "  0%|          | 0/3 [00:00<?, ?it/s]"
      ]
     },
     "metadata": {},
     "output_type": "display_data"
    },
    {
     "name": "stdout",
     "output_type": "stream",
     "text": [
      "torch.Size([40, 8, 6])\n",
      "torch.Size([40, 13, 6])\n",
      "torch.Size([11, 7, 6])\n",
      "865\n",
      "train_loss -0.9805676341056824\n",
      "val_loss 57.585224\n"
     ]
    },
    {
     "data": {
      "application/vnd.jupyter.widget-view+json": {
       "model_id": "29fc29390b14480ab8cc98a655371dc4",
       "version_major": 2,
       "version_minor": 0
      },
      "text/plain": [
       "  0%|          | 0/3 [00:00<?, ?it/s]"
      ]
     },
     "metadata": {},
     "output_type": "display_data"
    },
    {
     "name": "stdout",
     "output_type": "stream",
     "text": [
      "torch.Size([40, 7, 6])\n",
      "torch.Size([40, 5, 6])\n",
      "torch.Size([11, 8, 6])\n",
      "866\n",
      "train_loss -0.9220739404360453\n",
      "val_loss 57.46005\n"
     ]
    },
    {
     "data": {
      "application/vnd.jupyter.widget-view+json": {
       "model_id": "791ad6e7f8a54c77b9869db778c00af0",
       "version_major": 2,
       "version_minor": 0
      },
      "text/plain": [
       "  0%|          | 0/3 [00:00<?, ?it/s]"
      ]
     },
     "metadata": {},
     "output_type": "display_data"
    },
    {
     "name": "stdout",
     "output_type": "stream",
     "text": [
      "torch.Size([40, 9, 6])\n",
      "torch.Size([40, 4, 6])\n",
      "torch.Size([11, 12, 6])\n",
      "867\n",
      "train_loss -0.748877597351869\n",
      "val_loss 57.34373\n"
     ]
    },
    {
     "data": {
      "application/vnd.jupyter.widget-view+json": {
       "model_id": "b83c85bed4f4404987a23d45d6328818",
       "version_major": 2,
       "version_minor": 0
      },
      "text/plain": [
       "  0%|          | 0/3 [00:00<?, ?it/s]"
      ]
     },
     "metadata": {},
     "output_type": "display_data"
    },
    {
     "name": "stdout",
     "output_type": "stream",
     "text": [
      "torch.Size([40, 5, 6])\n",
      "torch.Size([40, 10, 6])\n",
      "torch.Size([11, 9, 6])\n",
      "868\n",
      "train_loss -0.9506783286730448\n",
      "val_loss 57.535057\n"
     ]
    },
    {
     "data": {
      "application/vnd.jupyter.widget-view+json": {
       "model_id": "8aa81c7c6bcc401db933d6da101c1882",
       "version_major": 2,
       "version_minor": 0
      },
      "text/plain": [
       "  0%|          | 0/3 [00:00<?, ?it/s]"
      ]
     },
     "metadata": {},
     "output_type": "display_data"
    },
    {
     "name": "stdout",
     "output_type": "stream",
     "text": [
      "torch.Size([40, 5, 6])\n",
      "torch.Size([40, 14, 6])\n",
      "torch.Size([11, 12, 6])\n",
      "869\n",
      "train_loss -0.8506429195404053\n",
      "val_loss 57.364716\n"
     ]
    },
    {
     "data": {
      "application/vnd.jupyter.widget-view+json": {
       "model_id": "7be3baca87154be684fdf93777ed4e1b",
       "version_major": 2,
       "version_minor": 0
      },
      "text/plain": [
       "  0%|          | 0/3 [00:00<?, ?it/s]"
      ]
     },
     "metadata": {},
     "output_type": "display_data"
    },
    {
     "name": "stdout",
     "output_type": "stream",
     "text": [
      "torch.Size([40, 13, 6])\n",
      "torch.Size([40, 5, 6])\n",
      "torch.Size([11, 9, 6])\n",
      "870\n",
      "train_loss -0.758459726969401\n",
      "val_loss 57.519646\n"
     ]
    },
    {
     "data": {
      "application/vnd.jupyter.widget-view+json": {
       "model_id": "7eaf5d89320243a69374ff194d20d84d",
       "version_major": 2,
       "version_minor": 0
      },
      "text/plain": [
       "  0%|          | 0/3 [00:00<?, ?it/s]"
      ]
     },
     "metadata": {},
     "output_type": "display_data"
    },
    {
     "name": "stdout",
     "output_type": "stream",
     "text": [
      "torch.Size([40, 6, 6])\n",
      "torch.Size([40, 8, 6])\n",
      "torch.Size([11, 4, 6])\n",
      "871\n",
      "train_loss -0.9948785106341044\n",
      "val_loss 58.015194\n"
     ]
    },
    {
     "data": {
      "application/vnd.jupyter.widget-view+json": {
       "model_id": "4c0c30ef197848bf836bfbf1aad2eb8e",
       "version_major": 2,
       "version_minor": 0
      },
      "text/plain": [
       "  0%|          | 0/3 [00:00<?, ?it/s]"
      ]
     },
     "metadata": {},
     "output_type": "display_data"
    },
    {
     "name": "stdout",
     "output_type": "stream",
     "text": [
      "torch.Size([40, 5, 6])\n",
      "torch.Size([40, 11, 6])\n",
      "torch.Size([11, 8, 6])\n",
      "872\n",
      "train_loss -0.6739976753791174\n",
      "val_loss 57.986614\n"
     ]
    },
    {
     "data": {
      "application/vnd.jupyter.widget-view+json": {
       "model_id": "fbae5f2da0ca45b79c31a79555308a21",
       "version_major": 2,
       "version_minor": 0
      },
      "text/plain": [
       "  0%|          | 0/3 [00:00<?, ?it/s]"
      ]
     },
     "metadata": {},
     "output_type": "display_data"
    },
    {
     "name": "stdout",
     "output_type": "stream",
     "text": [
      "torch.Size([40, 4, 6])\n",
      "torch.Size([40, 13, 6])\n",
      "torch.Size([11, 12, 6])\n",
      "873\n",
      "train_loss -0.952396035194397\n",
      "val_loss 57.408875\n"
     ]
    },
    {
     "data": {
      "application/vnd.jupyter.widget-view+json": {
       "model_id": "94f2580414e34202ac5a00a57ad770ee",
       "version_major": 2,
       "version_minor": 0
      },
      "text/plain": [
       "  0%|          | 0/3 [00:00<?, ?it/s]"
      ]
     },
     "metadata": {},
     "output_type": "display_data"
    },
    {
     "name": "stdout",
     "output_type": "stream",
     "text": [
      "torch.Size([40, 6, 6])\n",
      "torch.Size([40, 10, 6])\n",
      "torch.Size([11, 6, 6])\n",
      "874\n",
      "train_loss -0.9475848277409872\n",
      "val_loss 57.054417\n"
     ]
    },
    {
     "data": {
      "application/vnd.jupyter.widget-view+json": {
       "model_id": "17c53bd366554c7f871fa45580b3178d",
       "version_major": 2,
       "version_minor": 0
      },
      "text/plain": [
       "  0%|          | 0/3 [00:00<?, ?it/s]"
      ]
     },
     "metadata": {},
     "output_type": "display_data"
    },
    {
     "name": "stdout",
     "output_type": "stream",
     "text": [
      "torch.Size([40, 7, 6])\n",
      "torch.Size([40, 7, 6])\n",
      "torch.Size([11, 7, 6])\n",
      "875\n",
      "train_loss -1.0062917868296306\n",
      "val_loss 56.91382\n"
     ]
    },
    {
     "data": {
      "application/vnd.jupyter.widget-view+json": {
       "model_id": "30a8c4b183534ad29aadd85644589816",
       "version_major": 2,
       "version_minor": 0
      },
      "text/plain": [
       "  0%|          | 0/3 [00:00<?, ?it/s]"
      ]
     },
     "metadata": {},
     "output_type": "display_data"
    },
    {
     "name": "stdout",
     "output_type": "stream",
     "text": [
      "torch.Size([40, 13, 6])\n",
      "torch.Size([40, 12, 6])\n",
      "torch.Size([11, 13, 6])\n",
      "876\n",
      "train_loss -1.0201932191848755\n",
      "val_loss 56.484314\n"
     ]
    },
    {
     "data": {
      "application/vnd.jupyter.widget-view+json": {
       "model_id": "03cce29150e04507b942afb33fae0915",
       "version_major": 2,
       "version_minor": 0
      },
      "text/plain": [
       "  0%|          | 0/3 [00:00<?, ?it/s]"
      ]
     },
     "metadata": {},
     "output_type": "display_data"
    },
    {
     "name": "stdout",
     "output_type": "stream",
     "text": [
      "torch.Size([40, 5, 6])\n",
      "torch.Size([40, 5, 6])\n",
      "torch.Size([11, 4, 6])\n",
      "877\n",
      "train_loss -1.0011738340059917\n",
      "val_loss 56.99277\n"
     ]
    },
    {
     "data": {
      "application/vnd.jupyter.widget-view+json": {
       "model_id": "b2b903011c56499186e72300da9e861f",
       "version_major": 2,
       "version_minor": 0
      },
      "text/plain": [
       "  0%|          | 0/3 [00:00<?, ?it/s]"
      ]
     },
     "metadata": {},
     "output_type": "display_data"
    },
    {
     "name": "stdout",
     "output_type": "stream",
     "text": [
      "torch.Size([40, 10, 6])\n",
      "torch.Size([40, 14, 6])\n",
      "torch.Size([11, 6, 6])\n",
      "878\n",
      "train_loss -1.0064890782038372\n",
      "val_loss 57.75072\n"
     ]
    },
    {
     "data": {
      "application/vnd.jupyter.widget-view+json": {
       "model_id": "f68fa4f03b374fa5a6948c6a389e8618",
       "version_major": 2,
       "version_minor": 0
      },
      "text/plain": [
       "  0%|          | 0/3 [00:00<?, ?it/s]"
      ]
     },
     "metadata": {},
     "output_type": "display_data"
    },
    {
     "name": "stdout",
     "output_type": "stream",
     "text": [
      "torch.Size([40, 8, 6])\n",
      "torch.Size([40, 13, 6])\n",
      "torch.Size([11, 6, 6])\n",
      "879\n",
      "train_loss -0.9872206250826517\n",
      "val_loss 57.47955\n"
     ]
    },
    {
     "data": {
      "application/vnd.jupyter.widget-view+json": {
       "model_id": "a2a46eb3db0744acb6b23cd8e5e6cb59",
       "version_major": 2,
       "version_minor": 0
      },
      "text/plain": [
       "  0%|          | 0/3 [00:00<?, ?it/s]"
      ]
     },
     "metadata": {},
     "output_type": "display_data"
    },
    {
     "name": "stdout",
     "output_type": "stream",
     "text": [
      "torch.Size([40, 7, 6])\n",
      "torch.Size([40, 11, 6])\n",
      "torch.Size([11, 9, 6])\n",
      "880\n",
      "train_loss -1.118219296137492\n",
      "val_loss 56.98967\n"
     ]
    },
    {
     "data": {
      "application/vnd.jupyter.widget-view+json": {
       "model_id": "d44030f5524740eaabee3f329536145e",
       "version_major": 2,
       "version_minor": 0
      },
      "text/plain": [
       "  0%|          | 0/3 [00:00<?, ?it/s]"
      ]
     },
     "metadata": {},
     "output_type": "display_data"
    },
    {
     "name": "stdout",
     "output_type": "stream",
     "text": [
      "torch.Size([40, 9, 6])\n",
      "torch.Size([40, 9, 6])\n",
      "torch.Size([11, 11, 6])\n",
      "881\n",
      "train_loss -1.0405362248420715\n",
      "val_loss 56.96502\n"
     ]
    },
    {
     "data": {
      "application/vnd.jupyter.widget-view+json": {
       "model_id": "0149413615d145d98ec737627230bd3f",
       "version_major": 2,
       "version_minor": 0
      },
      "text/plain": [
       "  0%|          | 0/3 [00:00<?, ?it/s]"
      ]
     },
     "metadata": {},
     "output_type": "display_data"
    },
    {
     "name": "stdout",
     "output_type": "stream",
     "text": [
      "torch.Size([40, 11, 6])\n",
      "torch.Size([40, 13, 6])\n",
      "torch.Size([11, 13, 6])\n",
      "882\n",
      "train_loss -1.0370643337567647\n",
      "val_loss 57.534836\n"
     ]
    },
    {
     "data": {
      "application/vnd.jupyter.widget-view+json": {
       "model_id": "3aec08e2c0104e8dae322f01701e02cf",
       "version_major": 2,
       "version_minor": 0
      },
      "text/plain": [
       "  0%|          | 0/3 [00:00<?, ?it/s]"
      ]
     },
     "metadata": {},
     "output_type": "display_data"
    },
    {
     "name": "stdout",
     "output_type": "stream",
     "text": [
      "torch.Size([40, 7, 6])\n",
      "torch.Size([40, 9, 6])\n",
      "torch.Size([11, 13, 6])\n",
      "883\n",
      "train_loss -0.9066803057988485\n",
      "val_loss 57.561153\n"
     ]
    },
    {
     "data": {
      "application/vnd.jupyter.widget-view+json": {
       "model_id": "06007b02717d42d49c569697a07efefe",
       "version_major": 2,
       "version_minor": 0
      },
      "text/plain": [
       "  0%|          | 0/3 [00:00<?, ?it/s]"
      ]
     },
     "metadata": {},
     "output_type": "display_data"
    },
    {
     "name": "stdout",
     "output_type": "stream",
     "text": [
      "torch.Size([40, 4, 6])\n",
      "torch.Size([40, 4, 6])\n",
      "torch.Size([11, 14, 6])\n",
      "884\n",
      "train_loss -1.0870314836502075\n",
      "val_loss 57.356495\n"
     ]
    },
    {
     "data": {
      "application/vnd.jupyter.widget-view+json": {
       "model_id": "782718b622034d768bf2701a3f93b9cc",
       "version_major": 2,
       "version_minor": 0
      },
      "text/plain": [
       "  0%|          | 0/3 [00:00<?, ?it/s]"
      ]
     },
     "metadata": {},
     "output_type": "display_data"
    },
    {
     "name": "stdout",
     "output_type": "stream",
     "text": [
      "torch.Size([40, 7, 6])\n",
      "torch.Size([40, 14, 6])\n",
      "torch.Size([11, 8, 6])\n",
      "885\n",
      "train_loss -0.5279453992843628\n",
      "val_loss 57.19662\n"
     ]
    },
    {
     "data": {
      "application/vnd.jupyter.widget-view+json": {
       "model_id": "a07552fbdc6148eeaec3c377a286cbd8",
       "version_major": 2,
       "version_minor": 0
      },
      "text/plain": [
       "  0%|          | 0/3 [00:00<?, ?it/s]"
      ]
     },
     "metadata": {},
     "output_type": "display_data"
    },
    {
     "name": "stdout",
     "output_type": "stream",
     "text": [
      "torch.Size([40, 10, 6])\n",
      "torch.Size([40, 13, 6])\n",
      "torch.Size([11, 5, 6])\n",
      "886\n",
      "train_loss -0.8193730165561041\n",
      "val_loss 58.146854\n"
     ]
    },
    {
     "data": {
      "application/vnd.jupyter.widget-view+json": {
       "model_id": "0864527dea1f46fe9f8cd0fac60e391c",
       "version_major": 2,
       "version_minor": 0
      },
      "text/plain": [
       "  0%|          | 0/3 [00:00<?, ?it/s]"
      ]
     },
     "metadata": {},
     "output_type": "display_data"
    },
    {
     "name": "stdout",
     "output_type": "stream",
     "text": [
      "torch.Size([40, 4, 6])\n",
      "torch.Size([40, 11, 6])\n",
      "torch.Size([11, 12, 6])\n",
      "887\n",
      "train_loss -0.7347255349159241\n",
      "val_loss 58.444218\n"
     ]
    },
    {
     "data": {
      "application/vnd.jupyter.widget-view+json": {
       "model_id": "bd6b86442c444d93ac4b4bb98cfee18d",
       "version_major": 2,
       "version_minor": 0
      },
      "text/plain": [
       "  0%|          | 0/3 [00:00<?, ?it/s]"
      ]
     },
     "metadata": {},
     "output_type": "display_data"
    },
    {
     "name": "stdout",
     "output_type": "stream",
     "text": [
      "torch.Size([40, 7, 6])\n",
      "torch.Size([40, 5, 6])\n",
      "torch.Size([11, 8, 6])\n",
      "888\n",
      "train_loss -1.0000629822413127\n",
      "val_loss 57.987278\n"
     ]
    },
    {
     "data": {
      "application/vnd.jupyter.widget-view+json": {
       "model_id": "d06bf6fbeb74451c88d9136d05acecaa",
       "version_major": 2,
       "version_minor": 0
      },
      "text/plain": [
       "  0%|          | 0/3 [00:00<?, ?it/s]"
      ]
     },
     "metadata": {},
     "output_type": "display_data"
    },
    {
     "name": "stdout",
     "output_type": "stream",
     "text": [
      "torch.Size([40, 9, 6])\n",
      "torch.Size([40, 8, 6])\n",
      "torch.Size([11, 13, 6])\n",
      "889\n",
      "train_loss -0.9508267442385355\n",
      "val_loss 56.947678\n"
     ]
    },
    {
     "data": {
      "application/vnd.jupyter.widget-view+json": {
       "model_id": "779920dc0ff441028475938e2b6ae3ff",
       "version_major": 2,
       "version_minor": 0
      },
      "text/plain": [
       "  0%|          | 0/3 [00:00<?, ?it/s]"
      ]
     },
     "metadata": {},
     "output_type": "display_data"
    },
    {
     "name": "stdout",
     "output_type": "stream",
     "text": [
      "torch.Size([40, 7, 6])\n",
      "torch.Size([40, 11, 6])\n",
      "torch.Size([11, 14, 6])\n",
      "890\n",
      "train_loss -0.952245831489563\n",
      "val_loss 56.360733\n"
     ]
    },
    {
     "data": {
      "application/vnd.jupyter.widget-view+json": {
       "model_id": "d7bd711dc6d742b59bcd431a6de6409a",
       "version_major": 2,
       "version_minor": 0
      },
      "text/plain": [
       "  0%|          | 0/3 [00:00<?, ?it/s]"
      ]
     },
     "metadata": {},
     "output_type": "display_data"
    },
    {
     "name": "stdout",
     "output_type": "stream",
     "text": [
      "torch.Size([40, 4, 6])\n",
      "torch.Size([40, 8, 6])\n",
      "torch.Size([11, 10, 6])\n",
      "891\n",
      "train_loss -0.8725788394610087\n",
      "val_loss 56.52544\n"
     ]
    },
    {
     "data": {
      "application/vnd.jupyter.widget-view+json": {
       "model_id": "ed4310a4a3d74766986f04627215ced8",
       "version_major": 2,
       "version_minor": 0
      },
      "text/plain": [
       "  0%|          | 0/3 [00:00<?, ?it/s]"
      ]
     },
     "metadata": {},
     "output_type": "display_data"
    },
    {
     "name": "stdout",
     "output_type": "stream",
     "text": [
      "torch.Size([40, 8, 6])\n",
      "torch.Size([40, 6, 6])\n",
      "torch.Size([11, 8, 6])\n",
      "892\n",
      "train_loss -0.8727362056573232\n",
      "val_loss 56.432228\n"
     ]
    },
    {
     "data": {
      "application/vnd.jupyter.widget-view+json": {
       "model_id": "fd5abc0e78784966807f9b869c7a9677",
       "version_major": 2,
       "version_minor": 0
      },
      "text/plain": [
       "  0%|          | 0/3 [00:00<?, ?it/s]"
      ]
     },
     "metadata": {},
     "output_type": "display_data"
    },
    {
     "name": "stdout",
     "output_type": "stream",
     "text": [
      "torch.Size([40, 13, 6])\n",
      "torch.Size([40, 8, 6])\n",
      "torch.Size([11, 12, 6])\n",
      "893\n",
      "train_loss -0.9782921671867371\n",
      "val_loss 56.188484\n"
     ]
    },
    {
     "data": {
      "application/vnd.jupyter.widget-view+json": {
       "model_id": "9ae4ebe864974cb48a15944947454beb",
       "version_major": 2,
       "version_minor": 0
      },
      "text/plain": [
       "  0%|          | 0/3 [00:00<?, ?it/s]"
      ]
     },
     "metadata": {},
     "output_type": "display_data"
    },
    {
     "name": "stdout",
     "output_type": "stream",
     "text": [
      "torch.Size([40, 4, 6])\n",
      "torch.Size([40, 9, 6])\n",
      "torch.Size([11, 9, 6])\n",
      "894\n",
      "train_loss -0.7862957417964935\n",
      "val_loss 56.18911\n"
     ]
    },
    {
     "data": {
      "application/vnd.jupyter.widget-view+json": {
       "model_id": "3395add8c7e6477795d9814077a3b9b1",
       "version_major": 2,
       "version_minor": 0
      },
      "text/plain": [
       "  0%|          | 0/3 [00:00<?, ?it/s]"
      ]
     },
     "metadata": {},
     "output_type": "display_data"
    },
    {
     "name": "stdout",
     "output_type": "stream",
     "text": [
      "torch.Size([40, 11, 6])\n",
      "torch.Size([40, 13, 6])\n",
      "torch.Size([11, 4, 6])\n",
      "895\n",
      "train_loss -0.8919730186462402\n",
      "val_loss 56.579025\n"
     ]
    },
    {
     "data": {
      "application/vnd.jupyter.widget-view+json": {
       "model_id": "85f28f79bb5b4b15bacf1ff84ac7c090",
       "version_major": 2,
       "version_minor": 0
      },
      "text/plain": [
       "  0%|          | 0/3 [00:00<?, ?it/s]"
      ]
     },
     "metadata": {},
     "output_type": "display_data"
    },
    {
     "name": "stdout",
     "output_type": "stream",
     "text": [
      "torch.Size([40, 9, 6])\n",
      "torch.Size([40, 4, 6])\n",
      "torch.Size([11, 5, 6])\n",
      "896\n",
      "train_loss -1.0452437003453572\n",
      "val_loss 57.047195\n"
     ]
    },
    {
     "data": {
      "application/vnd.jupyter.widget-view+json": {
       "model_id": "c082e5b2d29c4249bdeddd7da81f2948",
       "version_major": 2,
       "version_minor": 0
      },
      "text/plain": [
       "  0%|          | 0/3 [00:00<?, ?it/s]"
      ]
     },
     "metadata": {},
     "output_type": "display_data"
    },
    {
     "name": "stdout",
     "output_type": "stream",
     "text": [
      "torch.Size([40, 11, 6])\n",
      "torch.Size([40, 4, 6])\n",
      "torch.Size([11, 14, 6])\n",
      "897\n",
      "train_loss -0.958482543627421\n",
      "val_loss 57.76533\n"
     ]
    },
    {
     "data": {
      "application/vnd.jupyter.widget-view+json": {
       "model_id": "4e1300b50aa4454eba1097452c6b0b52",
       "version_major": 2,
       "version_minor": 0
      },
      "text/plain": [
       "  0%|          | 0/3 [00:00<?, ?it/s]"
      ]
     },
     "metadata": {},
     "output_type": "display_data"
    },
    {
     "name": "stdout",
     "output_type": "stream",
     "text": [
      "torch.Size([40, 7, 6])\n",
      "torch.Size([40, 14, 6])\n",
      "torch.Size([11, 4, 6])\n",
      "898\n",
      "train_loss 0.04501191775004069\n",
      "val_loss 57.86683\n"
     ]
    },
    {
     "data": {
      "application/vnd.jupyter.widget-view+json": {
       "model_id": "149b3c0caf994301859e80073020586d",
       "version_major": 2,
       "version_minor": 0
      },
      "text/plain": [
       "  0%|          | 0/3 [00:00<?, ?it/s]"
      ]
     },
     "metadata": {},
     "output_type": "display_data"
    },
    {
     "name": "stdout",
     "output_type": "stream",
     "text": [
      "torch.Size([40, 12, 6])\n",
      "torch.Size([40, 6, 6])\n",
      "torch.Size([11, 12, 6])\n",
      "899\n",
      "train_loss -0.900439997514089\n",
      "val_loss 57.8346\n"
     ]
    },
    {
     "data": {
      "application/vnd.jupyter.widget-view+json": {
       "model_id": "8ea75c2c52ff4814895bf4eb8b2f6ab5",
       "version_major": 2,
       "version_minor": 0
      },
      "text/plain": [
       "  0%|          | 0/3 [00:00<?, ?it/s]"
      ]
     },
     "metadata": {},
     "output_type": "display_data"
    },
    {
     "name": "stdout",
     "output_type": "stream",
     "text": [
      "torch.Size([40, 11, 6])\n",
      "torch.Size([40, 10, 6])\n",
      "torch.Size([11, 9, 6])\n",
      "900\n",
      "train_loss -0.9891113042831421\n",
      "val_loss 57.58331\n"
     ]
    },
    {
     "data": {
      "application/vnd.jupyter.widget-view+json": {
       "model_id": "552d497cad4e4b7ea10ca23d14455efc",
       "version_major": 2,
       "version_minor": 0
      },
      "text/plain": [
       "  0%|          | 0/3 [00:00<?, ?it/s]"
      ]
     },
     "metadata": {},
     "output_type": "display_data"
    },
    {
     "name": "stdout",
     "output_type": "stream",
     "text": [
      "torch.Size([40, 7, 6])\n",
      "torch.Size([40, 4, 6])\n",
      "torch.Size([11, 14, 6])\n",
      "901\n",
      "train_loss -0.70955380735298\n",
      "val_loss 56.824715\n"
     ]
    },
    {
     "data": {
      "application/vnd.jupyter.widget-view+json": {
       "model_id": "064b1c146e3646d585fd042a3d268cae",
       "version_major": 2,
       "version_minor": 0
      },
      "text/plain": [
       "  0%|          | 0/3 [00:00<?, ?it/s]"
      ]
     },
     "metadata": {},
     "output_type": "display_data"
    },
    {
     "name": "stdout",
     "output_type": "stream",
     "text": [
      "torch.Size([40, 11, 6])\n",
      "torch.Size([40, 5, 6])\n",
      "torch.Size([11, 10, 6])\n",
      "902\n",
      "train_loss -1.0032119154930115\n",
      "val_loss 55.940598\n"
     ]
    },
    {
     "data": {
      "application/vnd.jupyter.widget-view+json": {
       "model_id": "b69b6214b3ea4383b5edcb0867091d30",
       "version_major": 2,
       "version_minor": 0
      },
      "text/plain": [
       "  0%|          | 0/3 [00:00<?, ?it/s]"
      ]
     },
     "metadata": {},
     "output_type": "display_data"
    },
    {
     "name": "stdout",
     "output_type": "stream",
     "text": [
      "torch.Size([40, 8, 6])\n",
      "torch.Size([40, 7, 6])\n",
      "torch.Size([11, 13, 6])\n",
      "903\n",
      "train_loss -0.9666652878125509\n",
      "val_loss 55.786465\n"
     ]
    },
    {
     "data": {
      "application/vnd.jupyter.widget-view+json": {
       "model_id": "5d9f2a638f31462792e98d782642e2ce",
       "version_major": 2,
       "version_minor": 0
      },
      "text/plain": [
       "  0%|          | 0/3 [00:00<?, ?it/s]"
      ]
     },
     "metadata": {},
     "output_type": "display_data"
    },
    {
     "name": "stdout",
     "output_type": "stream",
     "text": [
      "torch.Size([40, 10, 6])\n",
      "torch.Size([40, 4, 6])\n",
      "torch.Size([11, 4, 6])\n",
      "904\n",
      "train_loss -1.0250795880953472\n",
      "val_loss 56.47636\n"
     ]
    },
    {
     "data": {
      "application/vnd.jupyter.widget-view+json": {
       "model_id": "20ad90e69c4a49469a46d4008d06d9aa",
       "version_major": 2,
       "version_minor": 0
      },
      "text/plain": [
       "  0%|          | 0/3 [00:00<?, ?it/s]"
      ]
     },
     "metadata": {},
     "output_type": "display_data"
    },
    {
     "name": "stdout",
     "output_type": "stream",
     "text": [
      "torch.Size([40, 5, 6])\n",
      "torch.Size([40, 8, 6])\n",
      "torch.Size([11, 11, 6])\n",
      "905\n",
      "train_loss -0.9521141449610392\n",
      "val_loss 56.670578\n"
     ]
    },
    {
     "data": {
      "application/vnd.jupyter.widget-view+json": {
       "model_id": "926f0f4c16ba47e1af56ede8720bb938",
       "version_major": 2,
       "version_minor": 0
      },
      "text/plain": [
       "  0%|          | 0/3 [00:00<?, ?it/s]"
      ]
     },
     "metadata": {},
     "output_type": "display_data"
    },
    {
     "name": "stdout",
     "output_type": "stream",
     "text": [
      "torch.Size([40, 5, 6])\n",
      "torch.Size([40, 11, 6])\n",
      "torch.Size([11, 8, 6])\n",
      "906\n",
      "train_loss -0.9149801135063171\n",
      "val_loss 56.812744\n"
     ]
    },
    {
     "data": {
      "application/vnd.jupyter.widget-view+json": {
       "model_id": "186b6bca0cea43c3be91b48ce6c381d9",
       "version_major": 2,
       "version_minor": 0
      },
      "text/plain": [
       "  0%|          | 0/3 [00:00<?, ?it/s]"
      ]
     },
     "metadata": {},
     "output_type": "display_data"
    },
    {
     "name": "stdout",
     "output_type": "stream",
     "text": [
      "torch.Size([40, 5, 6])\n",
      "torch.Size([40, 13, 6])\n",
      "torch.Size([11, 6, 6])\n",
      "907\n",
      "train_loss -0.8339521487553915\n",
      "val_loss 56.81176\n"
     ]
    },
    {
     "data": {
      "application/vnd.jupyter.widget-view+json": {
       "model_id": "0c72590f9a2d4b7d9cb0109e9ec8b9e5",
       "version_major": 2,
       "version_minor": 0
      },
      "text/plain": [
       "  0%|          | 0/3 [00:00<?, ?it/s]"
      ]
     },
     "metadata": {},
     "output_type": "display_data"
    },
    {
     "name": "stdout",
     "output_type": "stream",
     "text": [
      "torch.Size([40, 12, 6])\n",
      "torch.Size([40, 7, 6])\n",
      "torch.Size([11, 4, 6])\n",
      "908\n",
      "train_loss -0.9039980173110962\n",
      "val_loss 56.186024\n"
     ]
    },
    {
     "data": {
      "application/vnd.jupyter.widget-view+json": {
       "model_id": "4a9661a41e174520a9d66f116fab30b8",
       "version_major": 2,
       "version_minor": 0
      },
      "text/plain": [
       "  0%|          | 0/3 [00:00<?, ?it/s]"
      ]
     },
     "metadata": {},
     "output_type": "display_data"
    },
    {
     "name": "stdout",
     "output_type": "stream",
     "text": [
      "torch.Size([40, 8, 6])\n",
      "torch.Size([40, 13, 6])\n",
      "torch.Size([11, 4, 6])\n",
      "909\n",
      "train_loss -0.9229939182599386\n",
      "val_loss 55.744873\n"
     ]
    },
    {
     "data": {
      "application/vnd.jupyter.widget-view+json": {
       "model_id": "4a4a9b76eb344c64aad3e30983a14657",
       "version_major": 2,
       "version_minor": 0
      },
      "text/plain": [
       "  0%|          | 0/3 [00:00<?, ?it/s]"
      ]
     },
     "metadata": {},
     "output_type": "display_data"
    },
    {
     "name": "stdout",
     "output_type": "stream",
     "text": [
      "torch.Size([40, 4, 6])\n",
      "torch.Size([40, 8, 6])\n",
      "torch.Size([11, 14, 6])\n",
      "910\n",
      "train_loss -1.078764279683431\n",
      "val_loss 55.895626\n"
     ]
    },
    {
     "data": {
      "application/vnd.jupyter.widget-view+json": {
       "model_id": "acbc0aeff80c436d87beed66902cefed",
       "version_major": 2,
       "version_minor": 0
      },
      "text/plain": [
       "  0%|          | 0/3 [00:00<?, ?it/s]"
      ]
     },
     "metadata": {},
     "output_type": "display_data"
    },
    {
     "name": "stdout",
     "output_type": "stream",
     "text": [
      "torch.Size([40, 10, 6])\n",
      "torch.Size([40, 14, 6])\n",
      "torch.Size([11, 11, 6])\n",
      "911\n",
      "train_loss -0.8920968770980835\n",
      "val_loss 56.12987\n"
     ]
    },
    {
     "data": {
      "application/vnd.jupyter.widget-view+json": {
       "model_id": "e57dfdbb3e4547c2b523d91de7b30529",
       "version_major": 2,
       "version_minor": 0
      },
      "text/plain": [
       "  0%|          | 0/3 [00:00<?, ?it/s]"
      ]
     },
     "metadata": {},
     "output_type": "display_data"
    },
    {
     "name": "stdout",
     "output_type": "stream",
     "text": [
      "torch.Size([40, 7, 6])\n",
      "torch.Size([40, 12, 6])\n",
      "torch.Size([11, 13, 6])\n",
      "912\n",
      "train_loss -1.1048583785692851\n",
      "val_loss 56.34606\n"
     ]
    },
    {
     "data": {
      "application/vnd.jupyter.widget-view+json": {
       "model_id": "cda9c3bb35074208ac5092b48ae6b85e",
       "version_major": 2,
       "version_minor": 0
      },
      "text/plain": [
       "  0%|          | 0/3 [00:00<?, ?it/s]"
      ]
     },
     "metadata": {},
     "output_type": "display_data"
    },
    {
     "name": "stdout",
     "output_type": "stream",
     "text": [
      "torch.Size([40, 14, 6])\n",
      "torch.Size([40, 4, 6])\n",
      "torch.Size([11, 8, 6])\n",
      "913\n",
      "train_loss -0.8455579479535421\n",
      "val_loss 57.125618\n"
     ]
    },
    {
     "data": {
      "application/vnd.jupyter.widget-view+json": {
       "model_id": "a242cf8227ef42508825535cb27ff2b9",
       "version_major": 2,
       "version_minor": 0
      },
      "text/plain": [
       "  0%|          | 0/3 [00:00<?, ?it/s]"
      ]
     },
     "metadata": {},
     "output_type": "display_data"
    },
    {
     "name": "stdout",
     "output_type": "stream",
     "text": [
      "torch.Size([40, 9, 6])\n",
      "torch.Size([40, 6, 6])\n",
      "torch.Size([11, 6, 6])\n",
      "914\n",
      "train_loss -0.9852035840352377\n",
      "val_loss 57.15364\n"
     ]
    },
    {
     "data": {
      "application/vnd.jupyter.widget-view+json": {
       "model_id": "0c5209c303cb4caca3352b409dd4a3a9",
       "version_major": 2,
       "version_minor": 0
      },
      "text/plain": [
       "  0%|          | 0/3 [00:00<?, ?it/s]"
      ]
     },
     "metadata": {},
     "output_type": "display_data"
    },
    {
     "name": "stdout",
     "output_type": "stream",
     "text": [
      "torch.Size([40, 8, 6])\n",
      "torch.Size([40, 9, 6])\n",
      "torch.Size([11, 4, 6])\n",
      "915\n",
      "train_loss -1.0438605944315593\n",
      "val_loss 57.078163\n"
     ]
    },
    {
     "data": {
      "application/vnd.jupyter.widget-view+json": {
       "model_id": "9612805fc7a343c0b9cdc1d8552e60a1",
       "version_major": 2,
       "version_minor": 0
      },
      "text/plain": [
       "  0%|          | 0/3 [00:00<?, ?it/s]"
      ]
     },
     "metadata": {},
     "output_type": "display_data"
    },
    {
     "name": "stdout",
     "output_type": "stream",
     "text": [
      "torch.Size([40, 13, 6])\n",
      "torch.Size([40, 11, 6])\n",
      "torch.Size([11, 12, 6])\n",
      "916\n",
      "train_loss -0.9780578017234802\n",
      "val_loss 56.697083\n"
     ]
    },
    {
     "data": {
      "application/vnd.jupyter.widget-view+json": {
       "model_id": "7a99da2a344c42f8a73346ff1b8ca28a",
       "version_major": 2,
       "version_minor": 0
      },
      "text/plain": [
       "  0%|          | 0/3 [00:00<?, ?it/s]"
      ]
     },
     "metadata": {},
     "output_type": "display_data"
    },
    {
     "name": "stdout",
     "output_type": "stream",
     "text": [
      "torch.Size([40, 10, 6])\n",
      "torch.Size([40, 4, 6])\n",
      "torch.Size([11, 7, 6])\n",
      "917\n",
      "train_loss -1.0902432600657146\n",
      "val_loss 56.70247\n"
     ]
    },
    {
     "data": {
      "application/vnd.jupyter.widget-view+json": {
       "model_id": "3770cf60589b43418197a652511c165f",
       "version_major": 2,
       "version_minor": 0
      },
      "text/plain": [
       "  0%|          | 0/3 [00:00<?, ?it/s]"
      ]
     },
     "metadata": {},
     "output_type": "display_data"
    },
    {
     "name": "stdout",
     "output_type": "stream",
     "text": [
      "torch.Size([40, 9, 6])\n",
      "torch.Size([40, 14, 6])\n",
      "torch.Size([11, 9, 6])\n",
      "918\n",
      "train_loss -1.03518408536911\n",
      "val_loss 57.371933\n"
     ]
    },
    {
     "data": {
      "application/vnd.jupyter.widget-view+json": {
       "model_id": "58ce9bdd00984c67af2077be5b930596",
       "version_major": 2,
       "version_minor": 0
      },
      "text/plain": [
       "  0%|          | 0/3 [00:00<?, ?it/s]"
      ]
     },
     "metadata": {},
     "output_type": "display_data"
    },
    {
     "name": "stdout",
     "output_type": "stream",
     "text": [
      "torch.Size([40, 7, 6])\n",
      "torch.Size([40, 7, 6])\n",
      "torch.Size([11, 6, 6])\n",
      "919\n",
      "train_loss -0.9676364461580912\n",
      "val_loss 57.977253\n"
     ]
    },
    {
     "data": {
      "application/vnd.jupyter.widget-view+json": {
       "model_id": "47dff197c7d74ac2aac407d0f126ba75",
       "version_major": 2,
       "version_minor": 0
      },
      "text/plain": [
       "  0%|          | 0/3 [00:00<?, ?it/s]"
      ]
     },
     "metadata": {},
     "output_type": "display_data"
    },
    {
     "name": "stdout",
     "output_type": "stream",
     "text": [
      "torch.Size([40, 14, 6])\n",
      "torch.Size([40, 7, 6])\n",
      "torch.Size([11, 12, 6])\n",
      "920\n",
      "train_loss -0.6483661532402039\n",
      "val_loss 57.622208\n"
     ]
    },
    {
     "data": {
      "application/vnd.jupyter.widget-view+json": {
       "model_id": "28467febb7b7428594ea5db51167d671",
       "version_major": 2,
       "version_minor": 0
      },
      "text/plain": [
       "  0%|          | 0/3 [00:00<?, ?it/s]"
      ]
     },
     "metadata": {},
     "output_type": "display_data"
    },
    {
     "name": "stdout",
     "output_type": "stream",
     "text": [
      "torch.Size([40, 12, 6])\n",
      "torch.Size([40, 10, 6])\n",
      "torch.Size([11, 12, 6])\n",
      "921\n",
      "train_loss -1.0099230408668518\n",
      "val_loss 57.135067\n"
     ]
    },
    {
     "data": {
      "application/vnd.jupyter.widget-view+json": {
       "model_id": "19efa0475df14b77b7ca8794a86c5130",
       "version_major": 2,
       "version_minor": 0
      },
      "text/plain": [
       "  0%|          | 0/3 [00:00<?, ?it/s]"
      ]
     },
     "metadata": {},
     "output_type": "display_data"
    },
    {
     "name": "stdout",
     "output_type": "stream",
     "text": [
      "torch.Size([40, 6, 6])\n",
      "torch.Size([40, 4, 6])\n",
      "torch.Size([11, 4, 6])\n",
      "922\n",
      "train_loss -0.6155557731787363\n",
      "val_loss 56.556126\n"
     ]
    },
    {
     "data": {
      "application/vnd.jupyter.widget-view+json": {
       "model_id": "7a2716de4dd54ae09e5cd5eb166dc249",
       "version_major": 2,
       "version_minor": 0
      },
      "text/plain": [
       "  0%|          | 0/3 [00:00<?, ?it/s]"
      ]
     },
     "metadata": {},
     "output_type": "display_data"
    },
    {
     "name": "stdout",
     "output_type": "stream",
     "text": [
      "torch.Size([40, 8, 6])\n",
      "torch.Size([40, 14, 6])\n",
      "torch.Size([11, 10, 6])\n",
      "923\n",
      "train_loss -0.6262487762918075\n",
      "val_loss 56.304173\n"
     ]
    },
    {
     "data": {
      "application/vnd.jupyter.widget-view+json": {
       "model_id": "154780ada1764566a7a98775dea4d041",
       "version_major": 2,
       "version_minor": 0
      },
      "text/plain": [
       "  0%|          | 0/3 [00:00<?, ?it/s]"
      ]
     },
     "metadata": {},
     "output_type": "display_data"
    },
    {
     "name": "stdout",
     "output_type": "stream",
     "text": [
      "torch.Size([40, 14, 6])\n",
      "torch.Size([40, 9, 6])\n",
      "torch.Size([11, 5, 6])\n",
      "924\n",
      "train_loss -0.9267569581667582\n",
      "val_loss 56.270077\n"
     ]
    },
    {
     "data": {
      "application/vnd.jupyter.widget-view+json": {
       "model_id": "692962febad247b39c1672fee9d923bd",
       "version_major": 2,
       "version_minor": 0
      },
      "text/plain": [
       "  0%|          | 0/3 [00:00<?, ?it/s]"
      ]
     },
     "metadata": {},
     "output_type": "display_data"
    },
    {
     "name": "stdout",
     "output_type": "stream",
     "text": [
      "torch.Size([40, 12, 6])\n",
      "torch.Size([40, 5, 6])\n",
      "torch.Size([11, 13, 6])\n",
      "925\n",
      "train_loss -0.3588622808456421\n",
      "val_loss 56.28076\n"
     ]
    },
    {
     "data": {
      "application/vnd.jupyter.widget-view+json": {
       "model_id": "cca96bafd7364bb1ac1385520233090e",
       "version_major": 2,
       "version_minor": 0
      },
      "text/plain": [
       "  0%|          | 0/3 [00:00<?, ?it/s]"
      ]
     },
     "metadata": {},
     "output_type": "display_data"
    },
    {
     "name": "stdout",
     "output_type": "stream",
     "text": [
      "torch.Size([40, 5, 6])\n",
      "torch.Size([40, 4, 6])\n",
      "torch.Size([11, 5, 6])\n",
      "926\n",
      "train_loss -0.7104068795839945\n",
      "val_loss 57.56282\n"
     ]
    },
    {
     "data": {
      "application/vnd.jupyter.widget-view+json": {
       "model_id": "06613f5a9ae64b909b4a2a7a7a1dd27a",
       "version_major": 2,
       "version_minor": 0
      },
      "text/plain": [
       "  0%|          | 0/3 [00:00<?, ?it/s]"
      ]
     },
     "metadata": {},
     "output_type": "display_data"
    },
    {
     "name": "stdout",
     "output_type": "stream",
     "text": [
      "torch.Size([40, 6, 6])\n",
      "torch.Size([40, 7, 6])\n",
      "torch.Size([11, 6, 6])\n",
      "927\n",
      "train_loss -0.9324201941490173\n",
      "val_loss 57.678303\n"
     ]
    },
    {
     "data": {
      "application/vnd.jupyter.widget-view+json": {
       "model_id": "71fb3920ad9e4993b669b6125b6a5171",
       "version_major": 2,
       "version_minor": 0
      },
      "text/plain": [
       "  0%|          | 0/3 [00:00<?, ?it/s]"
      ]
     },
     "metadata": {},
     "output_type": "display_data"
    },
    {
     "name": "stdout",
     "output_type": "stream",
     "text": [
      "torch.Size([40, 13, 6])\n",
      "torch.Size([40, 14, 6])\n",
      "torch.Size([11, 6, 6])\n",
      "928\n",
      "train_loss -0.7448419133822123\n",
      "val_loss 56.719997\n"
     ]
    },
    {
     "data": {
      "application/vnd.jupyter.widget-view+json": {
       "model_id": "afdc14afcc794511919ef93b3d1d5ce6",
       "version_major": 2,
       "version_minor": 0
      },
      "text/plain": [
       "  0%|          | 0/3 [00:00<?, ?it/s]"
      ]
     },
     "metadata": {},
     "output_type": "display_data"
    },
    {
     "name": "stdout",
     "output_type": "stream",
     "text": [
      "torch.Size([40, 12, 6])\n",
      "torch.Size([40, 9, 6])\n",
      "torch.Size([11, 13, 6])\n",
      "929\n",
      "train_loss -0.7175637887169918\n",
      "val_loss 57.342365\n"
     ]
    },
    {
     "data": {
      "application/vnd.jupyter.widget-view+json": {
       "model_id": "9ed23e8f43fc4de793d31acd5210f4b1",
       "version_major": 2,
       "version_minor": 0
      },
      "text/plain": [
       "  0%|          | 0/3 [00:00<?, ?it/s]"
      ]
     },
     "metadata": {},
     "output_type": "display_data"
    },
    {
     "name": "stdout",
     "output_type": "stream",
     "text": [
      "torch.Size([40, 9, 6])\n",
      "torch.Size([40, 11, 6])\n",
      "torch.Size([11, 7, 6])\n",
      "930\n",
      "train_loss -0.7778050700823466\n",
      "val_loss 58.83255\n"
     ]
    },
    {
     "data": {
      "application/vnd.jupyter.widget-view+json": {
       "model_id": "102a68f57f46484190e07d4010637dd2",
       "version_major": 2,
       "version_minor": 0
      },
      "text/plain": [
       "  0%|          | 0/3 [00:00<?, ?it/s]"
      ]
     },
     "metadata": {},
     "output_type": "display_data"
    },
    {
     "name": "stdout",
     "output_type": "stream",
     "text": [
      "torch.Size([40, 5, 6])\n",
      "torch.Size([40, 5, 6])\n",
      "torch.Size([11, 11, 6])\n",
      "931\n",
      "train_loss -0.7828754385312399\n",
      "val_loss 58.812756\n"
     ]
    },
    {
     "data": {
      "application/vnd.jupyter.widget-view+json": {
       "model_id": "a863af3409904769abd2c6699baa2c8c",
       "version_major": 2,
       "version_minor": 0
      },
      "text/plain": [
       "  0%|          | 0/3 [00:00<?, ?it/s]"
      ]
     },
     "metadata": {},
     "output_type": "display_data"
    },
    {
     "name": "stdout",
     "output_type": "stream",
     "text": [
      "torch.Size([40, 11, 6])\n",
      "torch.Size([40, 5, 6])\n",
      "torch.Size([11, 7, 6])\n",
      "932\n",
      "train_loss -0.7574790716171265\n",
      "val_loss 58.38924\n"
     ]
    },
    {
     "data": {
      "application/vnd.jupyter.widget-view+json": {
       "model_id": "03f22569ded147928df0d51652c5c502",
       "version_major": 2,
       "version_minor": 0
      },
      "text/plain": [
       "  0%|          | 0/3 [00:00<?, ?it/s]"
      ]
     },
     "metadata": {},
     "output_type": "display_data"
    },
    {
     "name": "stdout",
     "output_type": "stream",
     "text": [
      "torch.Size([40, 9, 6])\n",
      "torch.Size([40, 6, 6])\n",
      "torch.Size([11, 11, 6])\n",
      "933\n",
      "train_loss -0.8525451223055521\n",
      "val_loss 57.634007\n"
     ]
    },
    {
     "data": {
      "application/vnd.jupyter.widget-view+json": {
       "model_id": "388312f4b7a1476c9396982d4f461029",
       "version_major": 2,
       "version_minor": 0
      },
      "text/plain": [
       "  0%|          | 0/3 [00:00<?, ?it/s]"
      ]
     },
     "metadata": {},
     "output_type": "display_data"
    },
    {
     "name": "stdout",
     "output_type": "stream",
     "text": [
      "torch.Size([40, 9, 6])\n",
      "torch.Size([40, 4, 6])\n",
      "torch.Size([11, 13, 6])\n",
      "934\n",
      "train_loss -1.0060097972551982\n",
      "val_loss 57.37035\n"
     ]
    },
    {
     "data": {
      "application/vnd.jupyter.widget-view+json": {
       "model_id": "160b7d6cee2d47cfad050961969a2b0b",
       "version_major": 2,
       "version_minor": 0
      },
      "text/plain": [
       "  0%|          | 0/3 [00:00<?, ?it/s]"
      ]
     },
     "metadata": {},
     "output_type": "display_data"
    },
    {
     "name": "stdout",
     "output_type": "stream",
     "text": [
      "torch.Size([40, 8, 6])\n",
      "torch.Size([40, 5, 6])\n",
      "torch.Size([11, 11, 6])\n",
      "935\n",
      "train_loss -0.9597850243250529\n",
      "val_loss 57.694294\n"
     ]
    },
    {
     "data": {
      "application/vnd.jupyter.widget-view+json": {
       "model_id": "90d31b8fd8b84fd1ac35dc5e0709d0fd",
       "version_major": 2,
       "version_minor": 0
      },
      "text/plain": [
       "  0%|          | 0/3 [00:00<?, ?it/s]"
      ]
     },
     "metadata": {},
     "output_type": "display_data"
    },
    {
     "name": "stdout",
     "output_type": "stream",
     "text": [
      "torch.Size([40, 5, 6])\n",
      "torch.Size([40, 14, 6])\n",
      "torch.Size([11, 4, 6])\n",
      "936\n",
      "train_loss -0.5164029995600382\n",
      "val_loss 58.411602\n"
     ]
    },
    {
     "data": {
      "application/vnd.jupyter.widget-view+json": {
       "model_id": "3b9eff86b4a443d6a5882bd3761ea93f",
       "version_major": 2,
       "version_minor": 0
      },
      "text/plain": [
       "  0%|          | 0/3 [00:00<?, ?it/s]"
      ]
     },
     "metadata": {},
     "output_type": "display_data"
    },
    {
     "name": "stdout",
     "output_type": "stream",
     "text": [
      "torch.Size([40, 13, 6])\n",
      "torch.Size([40, 7, 6])\n",
      "torch.Size([11, 11, 6])\n",
      "937\n",
      "train_loss -1.0088736216227214\n",
      "val_loss 58.559853\n"
     ]
    },
    {
     "data": {
      "application/vnd.jupyter.widget-view+json": {
       "model_id": "8e52ea7bf65e4a6d971338505fb472d3",
       "version_major": 2,
       "version_minor": 0
      },
      "text/plain": [
       "  0%|          | 0/3 [00:00<?, ?it/s]"
      ]
     },
     "metadata": {},
     "output_type": "display_data"
    },
    {
     "name": "stdout",
     "output_type": "stream",
     "text": [
      "torch.Size([40, 4, 6])\n",
      "torch.Size([40, 10, 6])\n",
      "torch.Size([11, 14, 6])\n",
      "938\n",
      "train_loss -0.9007075428962708\n",
      "val_loss 58.367958\n"
     ]
    },
    {
     "data": {
      "application/vnd.jupyter.widget-view+json": {
       "model_id": "37ae76dc3de74dedb183b3daa08ff703",
       "version_major": 2,
       "version_minor": 0
      },
      "text/plain": [
       "  0%|          | 0/3 [00:00<?, ?it/s]"
      ]
     },
     "metadata": {},
     "output_type": "display_data"
    },
    {
     "name": "stdout",
     "output_type": "stream",
     "text": [
      "torch.Size([40, 4, 6])\n",
      "torch.Size([40, 11, 6])\n",
      "torch.Size([11, 13, 6])\n",
      "939\n",
      "train_loss -0.7798940539360046\n",
      "val_loss 57.46872\n"
     ]
    },
    {
     "data": {
      "application/vnd.jupyter.widget-view+json": {
       "model_id": "ccdb1513093a4c639db10873e3a2dda3",
       "version_major": 2,
       "version_minor": 0
      },
      "text/plain": [
       "  0%|          | 0/3 [00:00<?, ?it/s]"
      ]
     },
     "metadata": {},
     "output_type": "display_data"
    },
    {
     "name": "stdout",
     "output_type": "stream",
     "text": [
      "torch.Size([40, 13, 6])\n",
      "torch.Size([40, 11, 6])\n",
      "torch.Size([11, 14, 6])\n",
      "940\n",
      "train_loss -0.9570441246032715\n",
      "val_loss 56.792374\n"
     ]
    },
    {
     "data": {
      "application/vnd.jupyter.widget-view+json": {
       "model_id": "b6edf48188b54cb68d851b42dc00e967",
       "version_major": 2,
       "version_minor": 0
      },
      "text/plain": [
       "  0%|          | 0/3 [00:00<?, ?it/s]"
      ]
     },
     "metadata": {},
     "output_type": "display_data"
    },
    {
     "name": "stdout",
     "output_type": "stream",
     "text": [
      "torch.Size([40, 14, 6])\n",
      "torch.Size([40, 11, 6])\n",
      "torch.Size([11, 12, 6])\n",
      "941\n",
      "train_loss -1.0615524848302205\n",
      "val_loss 56.752956\n"
     ]
    },
    {
     "data": {
      "application/vnd.jupyter.widget-view+json": {
       "model_id": "9a04e53d57af43aa97e3a40cc52a3038",
       "version_major": 2,
       "version_minor": 0
      },
      "text/plain": [
       "  0%|          | 0/3 [00:00<?, ?it/s]"
      ]
     },
     "metadata": {},
     "output_type": "display_data"
    },
    {
     "name": "stdout",
     "output_type": "stream",
     "text": [
      "torch.Size([40, 13, 6])\n",
      "torch.Size([40, 6, 6])\n",
      "torch.Size([11, 7, 6])\n",
      "942\n",
      "train_loss -1.1086864868799846\n",
      "val_loss 57.045597\n"
     ]
    },
    {
     "data": {
      "application/vnd.jupyter.widget-view+json": {
       "model_id": "3166fa2f4fdf4d6396199f7d370b98bb",
       "version_major": 2,
       "version_minor": 0
      },
      "text/plain": [
       "  0%|          | 0/3 [00:00<?, ?it/s]"
      ]
     },
     "metadata": {},
     "output_type": "display_data"
    },
    {
     "name": "stdout",
     "output_type": "stream",
     "text": [
      "torch.Size([40, 7, 6])\n",
      "torch.Size([40, 10, 6])\n",
      "torch.Size([11, 5, 6])\n",
      "943\n",
      "train_loss -0.9471821188926697\n",
      "val_loss 57.378963\n"
     ]
    },
    {
     "data": {
      "application/vnd.jupyter.widget-view+json": {
       "model_id": "ea2739bc026748ca8656c1faa3140973",
       "version_major": 2,
       "version_minor": 0
      },
      "text/plain": [
       "  0%|          | 0/3 [00:00<?, ?it/s]"
      ]
     },
     "metadata": {},
     "output_type": "display_data"
    },
    {
     "name": "stdout",
     "output_type": "stream",
     "text": [
      "torch.Size([40, 8, 6])\n",
      "torch.Size([40, 9, 6])\n",
      "torch.Size([11, 6, 6])\n",
      "944\n",
      "train_loss -1.1099595228830974\n",
      "val_loss 58.103127\n"
     ]
    },
    {
     "data": {
      "application/vnd.jupyter.widget-view+json": {
       "model_id": "814f58c4196a4966a61878b65ae5aac4",
       "version_major": 2,
       "version_minor": 0
      },
      "text/plain": [
       "  0%|          | 0/3 [00:00<?, ?it/s]"
      ]
     },
     "metadata": {},
     "output_type": "display_data"
    },
    {
     "name": "stdout",
     "output_type": "stream",
     "text": [
      "torch.Size([40, 8, 6])\n",
      "torch.Size([40, 5, 6])\n",
      "torch.Size([11, 9, 6])\n",
      "945\n",
      "train_loss -0.9780702789624532\n",
      "val_loss 57.978397\n"
     ]
    },
    {
     "data": {
      "application/vnd.jupyter.widget-view+json": {
       "model_id": "ffd15d80af584c1d80bc5690703453fb",
       "version_major": 2,
       "version_minor": 0
      },
      "text/plain": [
       "  0%|          | 0/3 [00:00<?, ?it/s]"
      ]
     },
     "metadata": {},
     "output_type": "display_data"
    },
    {
     "name": "stdout",
     "output_type": "stream",
     "text": [
      "torch.Size([40, 4, 6])\n",
      "torch.Size([40, 7, 6])\n",
      "torch.Size([11, 10, 6])\n",
      "946\n",
      "train_loss -0.2672404448191325\n",
      "val_loss 58.314316\n"
     ]
    },
    {
     "data": {
      "application/vnd.jupyter.widget-view+json": {
       "model_id": "354f7844cf1b408aa7ffa93fee307643",
       "version_major": 2,
       "version_minor": 0
      },
      "text/plain": [
       "  0%|          | 0/3 [00:00<?, ?it/s]"
      ]
     },
     "metadata": {},
     "output_type": "display_data"
    },
    {
     "name": "stdout",
     "output_type": "stream",
     "text": [
      "torch.Size([40, 6, 6])\n",
      "torch.Size([40, 4, 6])\n",
      "torch.Size([11, 6, 6])\n",
      "947\n",
      "train_loss -1.0017149845759075\n",
      "val_loss 58.225124\n"
     ]
    },
    {
     "data": {
      "application/vnd.jupyter.widget-view+json": {
       "model_id": "f3aa9e788c23463fb4a2648d6bebba82",
       "version_major": 2,
       "version_minor": 0
      },
      "text/plain": [
       "  0%|          | 0/3 [00:00<?, ?it/s]"
      ]
     },
     "metadata": {},
     "output_type": "display_data"
    },
    {
     "name": "stdout",
     "output_type": "stream",
     "text": [
      "torch.Size([40, 5, 6])\n",
      "torch.Size([40, 14, 6])\n",
      "torch.Size([11, 4, 6])\n",
      "948\n",
      "train_loss -1.0173155268033345\n",
      "val_loss 57.933445\n"
     ]
    },
    {
     "data": {
      "application/vnd.jupyter.widget-view+json": {
       "model_id": "bbd417ecd08940d39c84b5495b611f88",
       "version_major": 2,
       "version_minor": 0
      },
      "text/plain": [
       "  0%|          | 0/3 [00:00<?, ?it/s]"
      ]
     },
     "metadata": {},
     "output_type": "display_data"
    },
    {
     "name": "stdout",
     "output_type": "stream",
     "text": [
      "torch.Size([40, 7, 6])\n",
      "torch.Size([40, 11, 6])\n",
      "torch.Size([11, 14, 6])\n",
      "949\n",
      "train_loss -0.13759883244832358\n",
      "val_loss 57.85918\n"
     ]
    },
    {
     "data": {
      "application/vnd.jupyter.widget-view+json": {
       "model_id": "142cc26ec04a40bba72d3c740d318190",
       "version_major": 2,
       "version_minor": 0
      },
      "text/plain": [
       "  0%|          | 0/3 [00:00<?, ?it/s]"
      ]
     },
     "metadata": {},
     "output_type": "display_data"
    },
    {
     "name": "stdout",
     "output_type": "stream",
     "text": [
      "torch.Size([40, 13, 6])\n",
      "torch.Size([40, 12, 6])\n",
      "torch.Size([11, 6, 6])\n",
      "950\n",
      "train_loss -0.5641439532240232\n",
      "val_loss 57.96433\n"
     ]
    },
    {
     "data": {
      "application/vnd.jupyter.widget-view+json": {
       "model_id": "a1ba90097b85418a8333dc49690587a1",
       "version_major": 2,
       "version_minor": 0
      },
      "text/plain": [
       "  0%|          | 0/3 [00:00<?, ?it/s]"
      ]
     },
     "metadata": {},
     "output_type": "display_data"
    },
    {
     "name": "stdout",
     "output_type": "stream",
     "text": [
      "torch.Size([40, 9, 6])\n",
      "torch.Size([40, 11, 6])\n",
      "torch.Size([11, 8, 6])\n",
      "951\n",
      "train_loss -0.764407013853391\n",
      "val_loss 58.018135\n"
     ]
    },
    {
     "data": {
      "application/vnd.jupyter.widget-view+json": {
       "model_id": "35f3f59cf9a141d38ac61870514ecf80",
       "version_major": 2,
       "version_minor": 0
      },
      "text/plain": [
       "  0%|          | 0/3 [00:00<?, ?it/s]"
      ]
     },
     "metadata": {},
     "output_type": "display_data"
    },
    {
     "name": "stdout",
     "output_type": "stream",
     "text": [
      "torch.Size([40, 10, 6])\n",
      "torch.Size([40, 6, 6])\n",
      "torch.Size([11, 7, 6])\n",
      "952\n",
      "train_loss -0.871267298857371\n",
      "val_loss 57.86587\n"
     ]
    },
    {
     "data": {
      "application/vnd.jupyter.widget-view+json": {
       "model_id": "d221dac71bc0450293918e0acfbce21e",
       "version_major": 2,
       "version_minor": 0
      },
      "text/plain": [
       "  0%|          | 0/3 [00:00<?, ?it/s]"
      ]
     },
     "metadata": {},
     "output_type": "display_data"
    },
    {
     "name": "stdout",
     "output_type": "stream",
     "text": [
      "torch.Size([40, 9, 6])\n",
      "torch.Size([40, 6, 6])\n",
      "torch.Size([11, 9, 6])\n",
      "953\n",
      "train_loss -0.8430267969767252\n",
      "val_loss 57.614384\n"
     ]
    },
    {
     "data": {
      "application/vnd.jupyter.widget-view+json": {
       "model_id": "fc1b0290ecf344e7a5fda708027e6999",
       "version_major": 2,
       "version_minor": 0
      },
      "text/plain": [
       "  0%|          | 0/3 [00:00<?, ?it/s]"
      ]
     },
     "metadata": {},
     "output_type": "display_data"
    },
    {
     "name": "stdout",
     "output_type": "stream",
     "text": [
      "torch.Size([40, 11, 6])\n",
      "torch.Size([40, 10, 6])\n",
      "torch.Size([11, 7, 6])\n",
      "954\n",
      "train_loss -1.0010838905970256\n",
      "val_loss 57.3556\n"
     ]
    },
    {
     "data": {
      "application/vnd.jupyter.widget-view+json": {
       "model_id": "728ad6cdc676464291c205507654455d",
       "version_major": 2,
       "version_minor": 0
      },
      "text/plain": [
       "  0%|          | 0/3 [00:00<?, ?it/s]"
      ]
     },
     "metadata": {},
     "output_type": "display_data"
    },
    {
     "name": "stdout",
     "output_type": "stream",
     "text": [
      "torch.Size([40, 8, 6])\n",
      "torch.Size([40, 6, 6])\n",
      "torch.Size([11, 14, 6])\n",
      "955\n",
      "train_loss -0.8370716571807861\n",
      "val_loss 56.54366\n"
     ]
    },
    {
     "data": {
      "application/vnd.jupyter.widget-view+json": {
       "model_id": "957f375f6760492caa33a60b9e136570",
       "version_major": 2,
       "version_minor": 0
      },
      "text/plain": [
       "  0%|          | 0/3 [00:00<?, ?it/s]"
      ]
     },
     "metadata": {},
     "output_type": "display_data"
    },
    {
     "name": "stdout",
     "output_type": "stream",
     "text": [
      "torch.Size([40, 12, 6])\n",
      "torch.Size([40, 9, 6])\n",
      "torch.Size([11, 9, 6])\n",
      "956\n",
      "train_loss -0.7172019730011622\n",
      "val_loss 55.782677\n"
     ]
    },
    {
     "data": {
      "application/vnd.jupyter.widget-view+json": {
       "model_id": "71bf355546684edf83757d8b309e2041",
       "version_major": 2,
       "version_minor": 0
      },
      "text/plain": [
       "  0%|          | 0/3 [00:00<?, ?it/s]"
      ]
     },
     "metadata": {},
     "output_type": "display_data"
    },
    {
     "name": "stdout",
     "output_type": "stream",
     "text": [
      "torch.Size([40, 10, 6])\n",
      "torch.Size([40, 13, 6])\n",
      "torch.Size([11, 9, 6])\n",
      "957\n",
      "train_loss -0.927498479684194\n",
      "val_loss 56.33203\n"
     ]
    },
    {
     "data": {
      "application/vnd.jupyter.widget-view+json": {
       "model_id": "654b0d68aeee49298024fc1b2b10412e",
       "version_major": 2,
       "version_minor": 0
      },
      "text/plain": [
       "  0%|          | 0/3 [00:00<?, ?it/s]"
      ]
     },
     "metadata": {},
     "output_type": "display_data"
    },
    {
     "name": "stdout",
     "output_type": "stream",
     "text": [
      "torch.Size([40, 9, 6])\n",
      "torch.Size([40, 8, 6])\n",
      "torch.Size([11, 6, 6])\n",
      "958\n",
      "train_loss -0.29737985134124756\n",
      "val_loss 56.87289\n"
     ]
    },
    {
     "data": {
      "application/vnd.jupyter.widget-view+json": {
       "model_id": "3b8ad02f17654dc1bb28d41b405f279b",
       "version_major": 2,
       "version_minor": 0
      },
      "text/plain": [
       "  0%|          | 0/3 [00:00<?, ?it/s]"
      ]
     },
     "metadata": {},
     "output_type": "display_data"
    },
    {
     "name": "stdout",
     "output_type": "stream",
     "text": [
      "torch.Size([40, 12, 6])\n",
      "torch.Size([40, 9, 6])\n",
      "torch.Size([11, 4, 6])\n",
      "959\n",
      "train_loss -0.9182237188021342\n",
      "val_loss 57.34001\n"
     ]
    },
    {
     "data": {
      "application/vnd.jupyter.widget-view+json": {
       "model_id": "ea698510cf53418b9d129570de42da04",
       "version_major": 2,
       "version_minor": 0
      },
      "text/plain": [
       "  0%|          | 0/3 [00:00<?, ?it/s]"
      ]
     },
     "metadata": {},
     "output_type": "display_data"
    },
    {
     "name": "stdout",
     "output_type": "stream",
     "text": [
      "torch.Size([40, 8, 6])\n",
      "torch.Size([40, 12, 6])\n",
      "torch.Size([11, 13, 6])\n",
      "960\n",
      "train_loss -0.9519410332043966\n",
      "val_loss 57.86545\n"
     ]
    },
    {
     "data": {
      "application/vnd.jupyter.widget-view+json": {
       "model_id": "0594b1e10bca4ea99ecd7c309ce4e023",
       "version_major": 2,
       "version_minor": 0
      },
      "text/plain": [
       "  0%|          | 0/3 [00:00<?, ?it/s]"
      ]
     },
     "metadata": {},
     "output_type": "display_data"
    },
    {
     "name": "stdout",
     "output_type": "stream",
     "text": [
      "torch.Size([40, 5, 6])\n",
      "torch.Size([40, 13, 6])\n",
      "torch.Size([11, 10, 6])\n",
      "961\n",
      "train_loss -0.977108895778656\n",
      "val_loss 57.907703\n"
     ]
    },
    {
     "data": {
      "application/vnd.jupyter.widget-view+json": {
       "model_id": "3f2c86a70a6b42b889daf1aa2c4abd8d",
       "version_major": 2,
       "version_minor": 0
      },
      "text/plain": [
       "  0%|          | 0/3 [00:00<?, ?it/s]"
      ]
     },
     "metadata": {},
     "output_type": "display_data"
    },
    {
     "name": "stdout",
     "output_type": "stream",
     "text": [
      "torch.Size([40, 6, 6])\n",
      "torch.Size([40, 9, 6])\n",
      "torch.Size([11, 5, 6])\n",
      "962\n",
      "train_loss -1.0694010655085247\n",
      "val_loss 57.513523\n"
     ]
    },
    {
     "data": {
      "application/vnd.jupyter.widget-view+json": {
       "model_id": "e13859704ff84ee7a561567f1d9f0f22",
       "version_major": 2,
       "version_minor": 0
      },
      "text/plain": [
       "  0%|          | 0/3 [00:00<?, ?it/s]"
      ]
     },
     "metadata": {},
     "output_type": "display_data"
    },
    {
     "name": "stdout",
     "output_type": "stream",
     "text": [
      "torch.Size([40, 12, 6])\n",
      "torch.Size([40, 14, 6])\n",
      "torch.Size([11, 11, 6])\n",
      "963\n",
      "train_loss -1.0180120666821797\n",
      "val_loss 57.54213\n"
     ]
    },
    {
     "data": {
      "application/vnd.jupyter.widget-view+json": {
       "model_id": "58e275be3a42475f80679a507e049a40",
       "version_major": 2,
       "version_minor": 0
      },
      "text/plain": [
       "  0%|          | 0/3 [00:00<?, ?it/s]"
      ]
     },
     "metadata": {},
     "output_type": "display_data"
    },
    {
     "name": "stdout",
     "output_type": "stream",
     "text": [
      "torch.Size([40, 9, 6])\n",
      "torch.Size([40, 11, 6])\n",
      "torch.Size([11, 11, 6])\n",
      "964\n",
      "train_loss -0.834358831246694\n",
      "val_loss 57.57596\n"
     ]
    },
    {
     "data": {
      "application/vnd.jupyter.widget-view+json": {
       "model_id": "c6c32acbe15b4e56bb917f3f3dd553a7",
       "version_major": 2,
       "version_minor": 0
      },
      "text/plain": [
       "  0%|          | 0/3 [00:00<?, ?it/s]"
      ]
     },
     "metadata": {},
     "output_type": "display_data"
    },
    {
     "name": "stdout",
     "output_type": "stream",
     "text": [
      "torch.Size([40, 6, 6])\n",
      "torch.Size([40, 11, 6])\n",
      "torch.Size([11, 8, 6])\n",
      "965\n",
      "train_loss -0.9274066487948099\n",
      "val_loss 57.388897\n"
     ]
    },
    {
     "data": {
      "application/vnd.jupyter.widget-view+json": {
       "model_id": "73fdf841a07c48048f7fede5b86cdbd0",
       "version_major": 2,
       "version_minor": 0
      },
      "text/plain": [
       "  0%|          | 0/3 [00:00<?, ?it/s]"
      ]
     },
     "metadata": {},
     "output_type": "display_data"
    },
    {
     "name": "stdout",
     "output_type": "stream",
     "text": [
      "torch.Size([40, 8, 6])\n",
      "torch.Size([40, 10, 6])\n",
      "torch.Size([11, 13, 6])\n",
      "966\n",
      "train_loss -1.0408477783203125\n",
      "val_loss 57.012287\n"
     ]
    },
    {
     "data": {
      "application/vnd.jupyter.widget-view+json": {
       "model_id": "652ab5ffa22540a2b7d8c1a7fc34334f",
       "version_major": 2,
       "version_minor": 0
      },
      "text/plain": [
       "  0%|          | 0/3 [00:00<?, ?it/s]"
      ]
     },
     "metadata": {},
     "output_type": "display_data"
    },
    {
     "name": "stdout",
     "output_type": "stream",
     "text": [
      "torch.Size([40, 7, 6])\n",
      "torch.Size([40, 8, 6])\n",
      "torch.Size([11, 10, 6])\n",
      "967\n",
      "train_loss -1.00456569592158\n",
      "val_loss 57.032803\n"
     ]
    },
    {
     "data": {
      "application/vnd.jupyter.widget-view+json": {
       "model_id": "752a7e862e564cbca34910e88b3e9423",
       "version_major": 2,
       "version_minor": 0
      },
      "text/plain": [
       "  0%|          | 0/3 [00:00<?, ?it/s]"
      ]
     },
     "metadata": {},
     "output_type": "display_data"
    },
    {
     "name": "stdout",
     "output_type": "stream",
     "text": [
      "torch.Size([40, 9, 6])\n",
      "torch.Size([40, 4, 6])\n",
      "torch.Size([11, 10, 6])\n",
      "968\n",
      "train_loss -1.0781529744466145\n",
      "val_loss 57.506916\n"
     ]
    },
    {
     "data": {
      "application/vnd.jupyter.widget-view+json": {
       "model_id": "fc2184a723ac4609ab7092ea44d8996b",
       "version_major": 2,
       "version_minor": 0
      },
      "text/plain": [
       "  0%|          | 0/3 [00:00<?, ?it/s]"
      ]
     },
     "metadata": {},
     "output_type": "display_data"
    },
    {
     "name": "stdout",
     "output_type": "stream",
     "text": [
      "torch.Size([40, 7, 6])\n",
      "torch.Size([40, 6, 6])\n",
      "torch.Size([11, 8, 6])\n",
      "969\n",
      "train_loss -1.0978559652964275\n",
      "val_loss 57.46713\n"
     ]
    },
    {
     "data": {
      "application/vnd.jupyter.widget-view+json": {
       "model_id": "8c368729a3974bd889e97a2b30a5c126",
       "version_major": 2,
       "version_minor": 0
      },
      "text/plain": [
       "  0%|          | 0/3 [00:00<?, ?it/s]"
      ]
     },
     "metadata": {},
     "output_type": "display_data"
    },
    {
     "name": "stdout",
     "output_type": "stream",
     "text": [
      "torch.Size([40, 7, 6])\n",
      "torch.Size([40, 9, 6])\n",
      "torch.Size([11, 5, 6])\n",
      "970\n",
      "train_loss -1.0302350322405498\n",
      "val_loss 57.4649\n"
     ]
    },
    {
     "data": {
      "application/vnd.jupyter.widget-view+json": {
       "model_id": "494797c68ee14ba28ecd27d97aa11b62",
       "version_major": 2,
       "version_minor": 0
      },
      "text/plain": [
       "  0%|          | 0/3 [00:00<?, ?it/s]"
      ]
     },
     "metadata": {},
     "output_type": "display_data"
    },
    {
     "name": "stdout",
     "output_type": "stream",
     "text": [
      "torch.Size([40, 12, 6])\n",
      "torch.Size([40, 10, 6])\n",
      "torch.Size([11, 5, 6])\n",
      "971\n",
      "train_loss -1.1690738598505657\n",
      "val_loss 57.0156\n"
     ]
    },
    {
     "data": {
      "application/vnd.jupyter.widget-view+json": {
       "model_id": "4d5c85e64ea1423cba6f543f076badd9",
       "version_major": 2,
       "version_minor": 0
      },
      "text/plain": [
       "  0%|          | 0/3 [00:00<?, ?it/s]"
      ]
     },
     "metadata": {},
     "output_type": "display_data"
    },
    {
     "name": "stdout",
     "output_type": "stream",
     "text": [
      "torch.Size([40, 11, 6])\n",
      "torch.Size([40, 8, 6])\n",
      "torch.Size([11, 7, 6])\n",
      "972\n",
      "train_loss -0.6818213810523351\n",
      "val_loss 56.83056\n"
     ]
    },
    {
     "data": {
      "application/vnd.jupyter.widget-view+json": {
       "model_id": "4fee73b2192341208928626405f7c34e",
       "version_major": 2,
       "version_minor": 0
      },
      "text/plain": [
       "  0%|          | 0/3 [00:00<?, ?it/s]"
      ]
     },
     "metadata": {},
     "output_type": "display_data"
    },
    {
     "name": "stdout",
     "output_type": "stream",
     "text": [
      "torch.Size([40, 6, 6])\n",
      "torch.Size([40, 8, 6])\n",
      "torch.Size([11, 5, 6])\n",
      "973\n",
      "train_loss -0.9943340420722961\n",
      "val_loss 56.49954\n"
     ]
    },
    {
     "data": {
      "application/vnd.jupyter.widget-view+json": {
       "model_id": "f48050d471874581ad2265d2ea78c8c9",
       "version_major": 2,
       "version_minor": 0
      },
      "text/plain": [
       "  0%|          | 0/3 [00:00<?, ?it/s]"
      ]
     },
     "metadata": {},
     "output_type": "display_data"
    },
    {
     "name": "stdout",
     "output_type": "stream",
     "text": [
      "torch.Size([40, 14, 6])\n",
      "torch.Size([40, 11, 6])\n",
      "torch.Size([11, 4, 6])\n",
      "974\n",
      "train_loss -1.1793039639790852\n",
      "val_loss 57.097683\n"
     ]
    },
    {
     "data": {
      "application/vnd.jupyter.widget-view+json": {
       "model_id": "19f4c2365b604905be6c680d3510126a",
       "version_major": 2,
       "version_minor": 0
      },
      "text/plain": [
       "  0%|          | 0/3 [00:00<?, ?it/s]"
      ]
     },
     "metadata": {},
     "output_type": "display_data"
    },
    {
     "name": "stdout",
     "output_type": "stream",
     "text": [
      "torch.Size([40, 11, 6])\n",
      "torch.Size([40, 6, 6])\n",
      "torch.Size([11, 11, 6])\n",
      "975\n",
      "train_loss -1.125630537668864\n",
      "val_loss 57.061203\n"
     ]
    },
    {
     "data": {
      "application/vnd.jupyter.widget-view+json": {
       "model_id": "32bb5f294ce84d17b79370ca1b3412f0",
       "version_major": 2,
       "version_minor": 0
      },
      "text/plain": [
       "  0%|          | 0/3 [00:00<?, ?it/s]"
      ]
     },
     "metadata": {},
     "output_type": "display_data"
    },
    {
     "name": "stdout",
     "output_type": "stream",
     "text": [
      "torch.Size([40, 12, 6])\n",
      "torch.Size([40, 4, 6])\n",
      "torch.Size([11, 11, 6])\n",
      "976\n",
      "train_loss -0.9489903151988983\n",
      "val_loss 56.677784\n"
     ]
    },
    {
     "data": {
      "application/vnd.jupyter.widget-view+json": {
       "model_id": "fe0952be04b04664b2a191557a84cd12",
       "version_major": 2,
       "version_minor": 0
      },
      "text/plain": [
       "  0%|          | 0/3 [00:00<?, ?it/s]"
      ]
     },
     "metadata": {},
     "output_type": "display_data"
    },
    {
     "name": "stdout",
     "output_type": "stream",
     "text": [
      "torch.Size([40, 5, 6])\n",
      "torch.Size([40, 11, 6])\n",
      "torch.Size([11, 9, 6])\n",
      "977\n",
      "train_loss -0.9491431911786398\n",
      "val_loss 57.221844\n"
     ]
    },
    {
     "data": {
      "application/vnd.jupyter.widget-view+json": {
       "model_id": "371dd3e102c042868f3f00e87ae0f8f2",
       "version_major": 2,
       "version_minor": 0
      },
      "text/plain": [
       "  0%|          | 0/3 [00:00<?, ?it/s]"
      ]
     },
     "metadata": {},
     "output_type": "display_data"
    },
    {
     "name": "stdout",
     "output_type": "stream",
     "text": [
      "torch.Size([40, 9, 6])\n",
      "torch.Size([40, 8, 6])\n",
      "torch.Size([11, 10, 6])\n",
      "978\n",
      "train_loss -0.6819521834452947\n",
      "val_loss 57.75491\n"
     ]
    },
    {
     "data": {
      "application/vnd.jupyter.widget-view+json": {
       "model_id": "9162e6e14f534b308ee3c70b3962879d",
       "version_major": 2,
       "version_minor": 0
      },
      "text/plain": [
       "  0%|          | 0/3 [00:00<?, ?it/s]"
      ]
     },
     "metadata": {},
     "output_type": "display_data"
    },
    {
     "name": "stdout",
     "output_type": "stream",
     "text": [
      "torch.Size([40, 9, 6])\n",
      "torch.Size([40, 5, 6])\n",
      "torch.Size([11, 6, 6])\n",
      "979\n",
      "train_loss -0.9847265879313151\n",
      "val_loss 57.24584\n"
     ]
    },
    {
     "data": {
      "application/vnd.jupyter.widget-view+json": {
       "model_id": "89cdb88898fd42a0a6d2eb1d80173a8c",
       "version_major": 2,
       "version_minor": 0
      },
      "text/plain": [
       "  0%|          | 0/3 [00:00<?, ?it/s]"
      ]
     },
     "metadata": {},
     "output_type": "display_data"
    },
    {
     "name": "stdout",
     "output_type": "stream",
     "text": [
      "torch.Size([40, 13, 6])\n",
      "torch.Size([40, 10, 6])\n",
      "torch.Size([11, 7, 6])\n",
      "980\n",
      "train_loss -0.7863244687517484\n",
      "val_loss 56.88747\n"
     ]
    },
    {
     "data": {
      "application/vnd.jupyter.widget-view+json": {
       "model_id": "9676c784021747c2a356297ca28930b8",
       "version_major": 2,
       "version_minor": 0
      },
      "text/plain": [
       "  0%|          | 0/3 [00:00<?, ?it/s]"
      ]
     },
     "metadata": {},
     "output_type": "display_data"
    },
    {
     "name": "stdout",
     "output_type": "stream",
     "text": [
      "torch.Size([40, 13, 6])\n",
      "torch.Size([40, 14, 6])\n",
      "torch.Size([11, 12, 6])\n",
      "981\n",
      "train_loss -1.0621933539708455\n",
      "val_loss 56.667675\n"
     ]
    },
    {
     "data": {
      "application/vnd.jupyter.widget-view+json": {
       "model_id": "9388c36a5efd4dada6ef38a907494410",
       "version_major": 2,
       "version_minor": 0
      },
      "text/plain": [
       "  0%|          | 0/3 [00:00<?, ?it/s]"
      ]
     },
     "metadata": {},
     "output_type": "display_data"
    },
    {
     "name": "stdout",
     "output_type": "stream",
     "text": [
      "torch.Size([40, 13, 6])\n",
      "torch.Size([40, 9, 6])\n",
      "torch.Size([11, 4, 6])\n",
      "982\n",
      "train_loss -0.713375061750412\n",
      "val_loss 57.43742\n"
     ]
    },
    {
     "data": {
      "application/vnd.jupyter.widget-view+json": {
       "model_id": "acca544d4b0046a188e2790cf90029d2",
       "version_major": 2,
       "version_minor": 0
      },
      "text/plain": [
       "  0%|          | 0/3 [00:00<?, ?it/s]"
      ]
     },
     "metadata": {},
     "output_type": "display_data"
    },
    {
     "name": "stdout",
     "output_type": "stream",
     "text": [
      "torch.Size([40, 5, 6])\n",
      "torch.Size([40, 8, 6])\n",
      "torch.Size([11, 12, 6])\n",
      "983\n",
      "train_loss -0.8839091261227926\n",
      "val_loss 58.13859\n"
     ]
    },
    {
     "data": {
      "application/vnd.jupyter.widget-view+json": {
       "model_id": "b3bad1849032494abf9c9171f63f64c9",
       "version_major": 2,
       "version_minor": 0
      },
      "text/plain": [
       "  0%|          | 0/3 [00:00<?, ?it/s]"
      ]
     },
     "metadata": {},
     "output_type": "display_data"
    },
    {
     "name": "stdout",
     "output_type": "stream",
     "text": [
      "torch.Size([40, 12, 6])\n",
      "torch.Size([40, 4, 6])\n",
      "torch.Size([11, 10, 6])\n",
      "984\n",
      "train_loss -0.9442374010880789\n",
      "val_loss 57.63957\n"
     ]
    },
    {
     "data": {
      "application/vnd.jupyter.widget-view+json": {
       "model_id": "918bd153e4cf40e0aa78a344411cafb8",
       "version_major": 2,
       "version_minor": 0
      },
      "text/plain": [
       "  0%|          | 0/3 [00:00<?, ?it/s]"
      ]
     },
     "metadata": {},
     "output_type": "display_data"
    },
    {
     "name": "stdout",
     "output_type": "stream",
     "text": [
      "torch.Size([40, 12, 6])\n",
      "torch.Size([40, 12, 6])\n",
      "torch.Size([11, 8, 6])\n",
      "985\n",
      "train_loss -0.8052955915530523\n",
      "val_loss 57.565342\n"
     ]
    },
    {
     "data": {
      "application/vnd.jupyter.widget-view+json": {
       "model_id": "730790a4bb104c10809f72f8a30f4d82",
       "version_major": 2,
       "version_minor": 0
      },
      "text/plain": [
       "  0%|          | 0/3 [00:00<?, ?it/s]"
      ]
     },
     "metadata": {},
     "output_type": "display_data"
    },
    {
     "name": "stdout",
     "output_type": "stream",
     "text": [
      "torch.Size([40, 6, 6])\n",
      "torch.Size([40, 8, 6])\n",
      "torch.Size([11, 14, 6])\n",
      "986\n",
      "train_loss -0.8601914842923483\n",
      "val_loss 57.80168\n"
     ]
    },
    {
     "data": {
      "application/vnd.jupyter.widget-view+json": {
       "model_id": "12218ccb8b1741e18427599194b8c65d",
       "version_major": 2,
       "version_minor": 0
      },
      "text/plain": [
       "  0%|          | 0/3 [00:00<?, ?it/s]"
      ]
     },
     "metadata": {},
     "output_type": "display_data"
    },
    {
     "name": "stdout",
     "output_type": "stream",
     "text": [
      "torch.Size([40, 5, 6])\n",
      "torch.Size([40, 14, 6])\n",
      "torch.Size([11, 8, 6])\n",
      "987\n",
      "train_loss -0.8549813429514567\n",
      "val_loss 57.83717\n"
     ]
    },
    {
     "data": {
      "application/vnd.jupyter.widget-view+json": {
       "model_id": "55c4e30e6129469da918cc8267fc2ff4",
       "version_major": 2,
       "version_minor": 0
      },
      "text/plain": [
       "  0%|          | 0/3 [00:00<?, ?it/s]"
      ]
     },
     "metadata": {},
     "output_type": "display_data"
    },
    {
     "name": "stdout",
     "output_type": "stream",
     "text": [
      "torch.Size([40, 14, 6])\n",
      "torch.Size([40, 5, 6])\n",
      "torch.Size([11, 4, 6])\n",
      "988\n",
      "train_loss -0.9908638199170431\n",
      "val_loss 58.259895\n"
     ]
    },
    {
     "data": {
      "application/vnd.jupyter.widget-view+json": {
       "model_id": "517b947d063643aa819bfd30199e4ad4",
       "version_major": 2,
       "version_minor": 0
      },
      "text/plain": [
       "  0%|          | 0/3 [00:00<?, ?it/s]"
      ]
     },
     "metadata": {},
     "output_type": "display_data"
    },
    {
     "name": "stdout",
     "output_type": "stream",
     "text": [
      "torch.Size([40, 12, 6])\n",
      "torch.Size([40, 13, 6])\n",
      "torch.Size([11, 12, 6])\n",
      "989\n",
      "train_loss -0.9667555292447408\n",
      "val_loss 57.622566\n"
     ]
    },
    {
     "data": {
      "application/vnd.jupyter.widget-view+json": {
       "model_id": "0c30770b8dfc4236b376cc7a488b3c9b",
       "version_major": 2,
       "version_minor": 0
      },
      "text/plain": [
       "  0%|          | 0/3 [00:00<?, ?it/s]"
      ]
     },
     "metadata": {},
     "output_type": "display_data"
    },
    {
     "name": "stdout",
     "output_type": "stream",
     "text": [
      "torch.Size([40, 11, 6])\n",
      "torch.Size([40, 4, 6])\n",
      "torch.Size([11, 13, 6])\n",
      "990\n",
      "train_loss -0.9170959989229838\n",
      "val_loss 57.28959\n"
     ]
    },
    {
     "data": {
      "application/vnd.jupyter.widget-view+json": {
       "model_id": "6c13de9ffa554f6f875c00cd1a7375b6",
       "version_major": 2,
       "version_minor": 0
      },
      "text/plain": [
       "  0%|          | 0/3 [00:00<?, ?it/s]"
      ]
     },
     "metadata": {},
     "output_type": "display_data"
    },
    {
     "name": "stdout",
     "output_type": "stream",
     "text": [
      "torch.Size([40, 12, 6])\n",
      "torch.Size([40, 6, 6])\n",
      "torch.Size([11, 4, 6])\n",
      "991\n",
      "train_loss -0.41104741891225177\n",
      "val_loss 57.230164\n"
     ]
    },
    {
     "data": {
      "application/vnd.jupyter.widget-view+json": {
       "model_id": "091589da223c420fab93c332f75b5f73",
       "version_major": 2,
       "version_minor": 0
      },
      "text/plain": [
       "  0%|          | 0/3 [00:00<?, ?it/s]"
      ]
     },
     "metadata": {},
     "output_type": "display_data"
    },
    {
     "name": "stdout",
     "output_type": "stream",
     "text": [
      "torch.Size([40, 6, 6])\n",
      "torch.Size([40, 11, 6])\n",
      "torch.Size([11, 10, 6])\n",
      "992\n",
      "train_loss -0.9699493050575256\n",
      "val_loss 57.92627\n"
     ]
    },
    {
     "data": {
      "application/vnd.jupyter.widget-view+json": {
       "model_id": "e9c64ada614f42259ae87f536e24c102",
       "version_major": 2,
       "version_minor": 0
      },
      "text/plain": [
       "  0%|          | 0/3 [00:00<?, ?it/s]"
      ]
     },
     "metadata": {},
     "output_type": "display_data"
    },
    {
     "name": "stdout",
     "output_type": "stream",
     "text": [
      "torch.Size([40, 8, 6])\n",
      "torch.Size([40, 6, 6])\n",
      "torch.Size([11, 8, 6])\n",
      "993\n",
      "train_loss -0.7392257153987885\n",
      "val_loss 58.396534\n"
     ]
    },
    {
     "data": {
      "application/vnd.jupyter.widget-view+json": {
       "model_id": "29f3b8f69a9d475da91f5a259a7be186",
       "version_major": 2,
       "version_minor": 0
      },
      "text/plain": [
       "  0%|          | 0/3 [00:00<?, ?it/s]"
      ]
     },
     "metadata": {},
     "output_type": "display_data"
    },
    {
     "name": "stdout",
     "output_type": "stream",
     "text": [
      "torch.Size([40, 14, 6])\n",
      "torch.Size([40, 10, 6])\n",
      "torch.Size([11, 10, 6])\n",
      "994\n",
      "train_loss -1.0131519039471943\n",
      "val_loss 58.06041\n"
     ]
    },
    {
     "data": {
      "application/vnd.jupyter.widget-view+json": {
       "model_id": "5c6ac492295048d991a289647c4557b5",
       "version_major": 2,
       "version_minor": 0
      },
      "text/plain": [
       "  0%|          | 0/3 [00:00<?, ?it/s]"
      ]
     },
     "metadata": {},
     "output_type": "display_data"
    },
    {
     "name": "stdout",
     "output_type": "stream",
     "text": [
      "torch.Size([40, 4, 6])\n",
      "torch.Size([40, 12, 6])\n",
      "torch.Size([11, 14, 6])\n",
      "995\n",
      "train_loss -0.9875768820444742\n",
      "val_loss 56.471024\n"
     ]
    },
    {
     "data": {
      "application/vnd.jupyter.widget-view+json": {
       "model_id": "009f9e9fd40744a5bb46570919ed48b5",
       "version_major": 2,
       "version_minor": 0
      },
      "text/plain": [
       "  0%|          | 0/3 [00:00<?, ?it/s]"
      ]
     },
     "metadata": {},
     "output_type": "display_data"
    },
    {
     "name": "stdout",
     "output_type": "stream",
     "text": [
      "torch.Size([40, 11, 6])\n",
      "torch.Size([40, 13, 6])\n",
      "torch.Size([11, 5, 6])\n",
      "996\n",
      "train_loss -0.7703898896773657\n",
      "val_loss 55.600742\n"
     ]
    },
    {
     "data": {
      "application/vnd.jupyter.widget-view+json": {
       "model_id": "f05eb4e3a1954e06a3a99e4dd477fbb9",
       "version_major": 2,
       "version_minor": 0
      },
      "text/plain": [
       "  0%|          | 0/3 [00:00<?, ?it/s]"
      ]
     },
     "metadata": {},
     "output_type": "display_data"
    },
    {
     "name": "stdout",
     "output_type": "stream",
     "text": [
      "torch.Size([40, 7, 6])\n",
      "torch.Size([40, 4, 6])\n",
      "torch.Size([11, 8, 6])\n",
      "997\n",
      "train_loss -1.023901065190633\n",
      "val_loss 55.707245\n"
     ]
    },
    {
     "data": {
      "application/vnd.jupyter.widget-view+json": {
       "model_id": "1b75e3666c5445259a6312e54cd01840",
       "version_major": 2,
       "version_minor": 0
      },
      "text/plain": [
       "  0%|          | 0/3 [00:00<?, ?it/s]"
      ]
     },
     "metadata": {},
     "output_type": "display_data"
    },
    {
     "name": "stdout",
     "output_type": "stream",
     "text": [
      "torch.Size([40, 6, 6])\n",
      "torch.Size([40, 11, 6])\n",
      "torch.Size([11, 11, 6])\n",
      "998\n",
      "train_loss -0.9636452794075012\n",
      "val_loss 56.049953\n"
     ]
    },
    {
     "data": {
      "application/vnd.jupyter.widget-view+json": {
       "model_id": "1c98e233f30b4c19ad4818fb857f5844",
       "version_major": 2,
       "version_minor": 0
      },
      "text/plain": [
       "  0%|          | 0/3 [00:00<?, ?it/s]"
      ]
     },
     "metadata": {},
     "output_type": "display_data"
    },
    {
     "name": "stdout",
     "output_type": "stream",
     "text": [
      "torch.Size([40, 7, 6])\n",
      "torch.Size([40, 9, 6])\n",
      "torch.Size([11, 7, 6])\n",
      "999\n",
      "train_loss -0.5294723709424337\n",
      "val_loss 56.571297\n"
     ]
    }
   ],
   "source": [
    "from tqdm.auto import tqdm \n",
    "\n",
    "for epoch in range(1000):\n",
    "    loss = 0 \n",
    "    Regressor.train()\n",
    "    for batch in tqdm(loader_train):\n",
    "        context_x, context_y, target_x, target_y = batch\n",
    "        print(context_x.shape)\n",
    "        Regressor.zero_grad()\n",
    "        y_pred, losses, extra = Regressor.forward(context_x, context_y, target_x, target_y, training=True)\n",
    "\n",
    "        losses['loss'].backward()\n",
    "        loss += losses['loss'].cpu().detach().numpy()\n",
    "        opt.step()\n",
    "    loss /= len(loader_train)\n",
    "    \n",
    "    print(epoch)\n",
    "    print('train_loss', loss)\n",
    "    val_loss = test()[0]\n",
    "    val_loss = np.mean(np.abs(val_loss))\n",
    "    print('val_loss', val_loss)\n",
    "    "
   ]
  },
  {
   "cell_type": "code",
   "execution_count": null,
   "id": "ideal-culture",
   "metadata": {},
   "outputs": [],
   "source": []
  },
  {
   "cell_type": "markdown",
   "id": "sublime-african",
   "metadata": {},
   "source": [
    "# Model evaluation"
   ]
  },
  {
   "cell_type": "code",
   "execution_count": null,
   "id": "identical-pocket",
   "metadata": {},
   "outputs": [],
   "source": []
  }
 ],
 "metadata": {
  "kernelspec": {
   "display_name": "Python 3",
   "language": "python",
   "name": "python3"
  },
  "language_info": {
   "codemirror_mode": {
    "name": "ipython",
    "version": 3
   },
   "file_extension": ".py",
   "mimetype": "text/x-python",
   "name": "python",
   "nbconvert_exporter": "python",
   "pygments_lexer": "ipython3",
   "version": "3.8.5"
  }
 },
 "nbformat": 4,
 "nbformat_minor": 5
}
