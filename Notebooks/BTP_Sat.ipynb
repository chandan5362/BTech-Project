{
 "cells": [
  {
   "cell_type": "markdown",
   "id": "aquatic-boards",
   "metadata": {},
   "source": [
    "<h1><center>High Resolution Spatial Mapping of Soil Nutrients</center></h1>"
   ]
  },
  {
   "cell_type": "code",
   "execution_count": 194,
   "id": "younger-kernel",
   "metadata": {},
   "outputs": [],
   "source": [
    "import os\n",
    "import numpy as np\n",
    "import pandas as pd\n",
    "import geopandas as gpd\n",
    "import matplotlib.pyplot as plt\n",
    "from sklearn.metrics import r2_score\n",
    "from sklearn.model_selection import GridSearchCV, train_test_split,KFold\n",
    "from pykrige.ok import OrdinaryKriging\n",
    "import skgstat as skg\n",
    "plt.style.use('ggplot')\n",
    "os.environ['SKG_SUPPRESS'] = \"true\"\n",
    "%matplotlib inline"
   ]
  },
  {
   "cell_type": "code",
   "execution_count": 220,
   "id": "healthy-joyce",
   "metadata": {},
   "outputs": [],
   "source": [
    "Kscaled = pd.read_csv(\"../Dataset/Kscaled.csv\")\n",
    "Oscaled = pd.read_csv(\"../Dataset/Ocscaled.csv\")\n",
    "Pscaled = pd.read_csv(\"../Dataset/Pscaled.csv\")\n",
    "Nscaled = pd.read_csv(\"../Dataset/scaledN.csv\")"
   ]
  },
  {
   "cell_type": "markdown",
   "id": "twenty-division",
   "metadata": {},
   "source": [
    "## Data Analysis"
   ]
  },
  {
   "cell_type": "code",
   "execution_count": 221,
   "id": "running-registration",
   "metadata": {},
   "outputs": [
    {
     "data": {
      "image/png": "[encoded data removed]",
      "text/plain": [
       "<Figure size 864x576 with 4 Axes>"
      ]
     },
     "metadata": {
      "needs_background": "light"
     },
     "output_type": "display_data"
    }
   ],
   "source": [
    "_,ax = plt.subplots(2,2,figsize = (12,8))\n",
    "ax[0,0].hist(Kscaled['Scaled K'],bins = 80,density = True)\n",
    "ax[0,0].set_title(\"histogram of potassium\")\n",
    "ax[0,1].hist(Oscaled['Scaled Oc'],bins = 80,density = True)\n",
    "ax[0,1].set_title(\"histogram of organic compound\")\n",
    "ax[1,0].hist(Pscaled['Scaled P'],bins = 80,density = True)\n",
    "ax[1,0].set_title(\"histogram of Phosphorouds compound\")\n",
    "ax[1,1].hist(Nscaled['Scaled N'],bins = 80,density = True)\n",
    "ax[1,1].set_title(\"histogram of Nitrogen\")\n",
    "plt.show()\n",
    "             "
   ]
  },
  {
   "cell_type": "markdown",
   "id": "common-halloween",
   "metadata": {},
   "source": [
    "# Ordinary Kriging"
   ]
  },
  {
   "cell_type": "markdown",
   "id": "median-wrist",
   "metadata": {},
   "source": [
    "Here we will be implemeting the ordinary Kriging just for the sake of understanding. Even though we know that our \n",
    "data distribution does not follow complete Gaussian distribution as it is evident from the above plots."
   ]
  },
  {
   "cell_type": "code",
   "execution_count": 234,
   "id": "higher-drawing",
   "metadata": {},
   "outputs": [],
   "source": [
    "def create_grid():\n",
    "    lon = np.linspace(17.895,20.598,10)\n",
    "    lat = np.linspace(73.384,76.675,10)\n",
    "    return lon,lat\n",
    "    "
   ]
  },
  {
   "cell_type": "code",
   "execution_count": 223,
   "id": "approved-cassette",
   "metadata": {},
   "outputs": [],
   "source": [
    "def OrdinaryK(lat,lon,z,model,num_lags,verbose = True,enable_plotting = True,coordinates_type = \"geographic\"):\n",
    "    # performs ordinary kriging\n",
    "    OK = OrdinaryKriging(lon,\n",
    "                         lat,\n",
    "                         z,\n",
    "                         weight=True,\n",
    "                         variogram_model = model,\n",
    "                         verbose = verbose,\n",
    "                         nlags = num_lags,\n",
    "                         enable_plotting = enable_plotting,\n",
    "                         coordinates_type=coordinates_type,\n",
    "                         exact_values=True,\n",
    "                         )\n",
    "    return OK\n",
    "    "
   ]
  },
  {
   "cell_type": "code",
   "execution_count": 224,
   "id": "potential-grill",
   "metadata": {},
   "outputs": [],
   "source": [
    "# Pscaled = Pscaled.iloc[np.random.randint(2000,25000,10000)].reset_index(drop = True)"
   ]
  },
  {
   "cell_type": "code",
   "execution_count": 225,
   "id": "relevant-table",
   "metadata": {},
   "outputs": [],
   "source": [
    "# # Kscaled.reset_index()\n",
    "# Pscaled = Pscaled.(5000)"
   ]
  },
  {
   "cell_type": "code",
   "execution_count": 226,
   "id": "accepting-charge",
   "metadata": {},
   "outputs": [],
   "source": [
    "def kfold_model(x,y,model,n_lags):\n",
    "    #perform k-fold cross validation on the model\n",
    "    kf  = KFold(n_splits = 10,shuffle = True)\n",
    "    r2_cum = 0 \n",
    "    for train_index,test_index in kf.split(x):\n",
    "        x_train,x_test = x[train_index],x[test_index]\n",
    "        y_train,y_test = y[train_index],y[test_index]\n",
    "        ok = model(x_train[:,0],x_train[:,1],y_train,\"spherical\",n_lags,enable_plotting = False,verbose = False) #n_lags can be tuned  \n",
    "        pred = ok.execute(style ='points',xpoints = x_test[:,0],ypoints = x_test[:,1])[0].data\n",
    "        r2_cum+=r2_score(y_test,pred)\n",
    "    score = r2_cum/10\n",
    "    print(f\"R^2 score for give model is {score}\")\n",
    "    print(\"model is satisfactory\") if score >= 0.8 else print(\"model need to be tuned or try some other way\")"
   ]
  },
  {
   "cell_type": "code",
   "execution_count": null,
   "id": "major-opinion",
   "metadata": {},
   "outputs": [],
   "source": []
  },
  {
   "cell_type": "code",
   "execution_count": 212,
   "id": "municipal-dublin",
   "metadata": {
    "scrolled": false
   },
   "outputs": [],
   "source": [
    "#let' evaluate our model\n",
    "# kfold_model(np.asarray(Kscaled[['Longitude','Latitude']]),Kscaled['Scaled P'],OrdinaryK,30)"
   ]
  },
  {
   "cell_type": "markdown",
   "id": "finite-edgar",
   "metadata": {},
   "source": [
    "As we can see that our `Ordianry Kriging` model is not performing better and we have to choose the `expert-based system` model.\n",
    "Let's dig a little deeper.\n",
    "__Why does our model is not performing well?__\n",
    "* It is because we have already seen that the given datasets does not follow the Gaussian distribution(not necessarily).There might be reasons behind this. BUt we will not see that here. \n",
    "* Our dataset might have certain trend that we are not able to identify.\n",
    "* Therefore, We  have to modify our models.  Ordianry kriging is a stochastic process. There might be some physical factors affecting the randomness of the data. \n",
    "* we can try some deterministic processes but that won't be suitable here. Deterministic process are mostly used in time-series data model.\n",
    "* If we are not certain about the factors or underlying trends, then we can try some hybrid models like Regression-Kriging(RK).we wont be touchig those here as they are traditional models and have already been in practice since 90s.\n",
    "* we have decided is to use `advanced expert-based system` to plot the high-resolution spatial map."
   ]
  },
  {
   "cell_type": "code",
   "execution_count": 227,
   "id": "narrative-found",
   "metadata": {},
   "outputs": [],
   "source": [
    "def train_val_model(x,y,ok):\n",
    "    x_train,x_val,y_train,y_val = train_test_split(np.asarray(x),y,test_size = 0.2,random_state = 42)\n",
    "    trained_model = ok(x_train[:,0],x_train[:,1],y_train,\"spherical\",20)\n",
    "    print(\"\\n-----------------------Performing validation------------------------------\\n\")\n",
    "    pred = trained_model.execute(style ='points',xpoints = x_val[:,0],ypoints = x_val[:,1])[0].data\n",
    "    score = r2_score(y_val,pred)\n",
    "    print(f\"validation score is {score}\")\n",
    "    \n",
    "    return trained_model"
   ]
  },
  {
   "cell_type": "code",
   "execution_count": 228,
   "id": "selected-pepper",
   "metadata": {},
   "outputs": [
    {
     "name": "stdout",
     "output_type": "stream",
     "text": [
      "Plotting Enabled\n",
      "\n",
      "Initializing variogram model...\n",
      "Coordinates type: 'geographic' \n",
      "\n",
      "Using 'spherical' Variogram Model\n",
      "Partial Sill: 0.03357334233936351\n",
      "Full Sill: 0.03357334233936387\n",
      "Range: 3.2293252546404263\n",
      "Nugget: 3.6287960839470135e-16 \n",
      "\n"
     ]
    },
    {
     "data": {
      "image/png": "[encoded data removed]",
      "text/plain": [
       "<Figure size 432x288 with 1 Axes>"
      ]
     },
     "metadata": {
      "needs_background": "light"
     },
     "output_type": "display_data"
    },
    {
     "name": "stdout",
     "output_type": "stream",
     "text": [
      "Calculating statistics on variogram model fit...\n",
      "\n",
      "-----------------------Performing validation------------------------------\n",
      "\n",
      "Executing Ordinary Kriging...\n",
      "\n",
      "validation score is -0.22798283224966354\n"
     ]
    }
   ],
   "source": [
    "model_train = train_val_model(Pscaled[['Longitude','Latitude']],Pscaled['Scaled P'],OrdinaryK)"
   ]
  },
  {
   "cell_type": "code",
   "execution_count": 229,
   "id": "hollywood-romantic",
   "metadata": {},
   "outputs": [],
   "source": [
    "# model_train.get_variogram_points()"
   ]
  },
  {
   "cell_type": "code",
   "execution_count": 235,
   "id": "owned-psychology",
   "metadata": {},
   "outputs": [],
   "source": [
    "def interpolate_grid(model):\n",
    "    grid_lon,grid_lat = create_grid()\n",
    "    val,var = model.execute(\"grid\",grid_lon,grid_lat,backend =\"C\",n_closest_points = 100)\n",
    "    plt.figure(figsize=(8,8))\n",
    "    plt.imshow(val,extent = [17.895,20.598,73.384,76.675],origin = \"lower\")\n",
    "    plt.xticks(grid_lon)\n",
    "    plt.yticks(grid_lat)\n",
    "    plt.title(\"Grid plot\")\n",
    "#     plt.axis('off')\n",
    "    plt.grid(b=None)\n",
    "    plt.show()\n",
    "    return val,var"
   ]
  },
  {
   "cell_type": "code",
   "execution_count": null,
   "id": "political-forward",
   "metadata": {},
   "outputs": [],
   "source": []
  },
  {
   "cell_type": "code",
   "execution_count": 237,
   "id": "arbitrary-terminology",
   "metadata": {
    "scrolled": false
   },
   "outputs": [
    {
     "name": "stdout",
     "output_type": "stream",
     "text": [
      "Executing Ordinary Kriging...\n",
      "\n"
     ]
    },
    {
     "data": {
      "image/png": "[encoded data removed]",
      "text/plain": [
       "<Figure size 576x576 with 1 Axes>"
      ]
     },
     "metadata": {
      "needs_background": "light"
     },
     "output_type": "display_data"
    }
   ],
   "source": [
    "val,var = interpolate_grid(model_train)"
   ]
  },
  {
   "cell_type": "code",
   "execution_count": 1,
   "id": "decreased-airport",
   "metadata": {},
   "outputs": [
    {
     "ename": "NameError",
     "evalue": "name 'val' is not defined",
     "output_type": "error",
     "traceback": [
      "\u001b[1;31m---------------------------------------------------------------------------\u001b[0m",
      "\u001b[1;31mNameError\u001b[0m                                 Traceback (most recent call last)",
      "\u001b[1;32m<ipython-input-1-22e33626e689>\u001b[0m in \u001b[0;36m<module>\u001b[1;34m\u001b[0m\n\u001b[1;32m----> 1\u001b[1;33m \u001b[0mval\u001b[0m\u001b[1;33m\u001b[0m\u001b[1;33m\u001b[0m\u001b[0m\n\u001b[0m",
      "\u001b[1;31mNameError\u001b[0m: name 'val' is not defined"
     ]
    }
   ],
   "source": [
    "val"
   ]
  },
  {
   "cell_type": "markdown",
   "id": "descending-security",
   "metadata": {},
   "source": [
    "__Caution__ 💀💀<br>\n",
    "Our Result is not satisfactory at all. We can make it better by tuning the hyperparameter `n_closest_points`. but training and testing would take more time and `Pykrige` library is not yet optimized completely. Feel free to play around with this notebook. Make sure you have enough RAM and Virtual memory to run the entire Dataset. Because It is finding optimum solution in vectorized manner and would definitely consume more RAM given the data type is `float64`.\n"
   ]
  }
 ],
 "metadata": {
  "kernelspec": {
   "display_name": "Python 3",
   "language": "python",
   "name": "python3"
  },
  "language_info": {
   "codemirror_mode": {
    "name": "ipython",
    "version": 3
   },
   "file_extension": ".py",
   "mimetype": "text/x-python",
   "name": "python",
   "nbconvert_exporter": "python",
   "pygments_lexer": "ipython3",
   "version": "3.8.1"
  }
 },
 "nbformat": 4,
 "nbformat_minor": 5
}
